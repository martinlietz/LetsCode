{
 "cells": [
  {
   "cell_type": "code",
   "execution_count": 89,
   "metadata": {},
   "outputs": [],
   "source": [
    "# Leitura e reconhecimento de imagens"
   ]
  },
  {
   "cell_type": "code",
   "execution_count": 90,
   "metadata": {},
   "outputs": [],
   "source": [
    "from sklearn.datasets import fetch_lfw_people"
   ]
  },
  {
   "cell_type": "code",
   "execution_count": 91,
   "metadata": {},
   "outputs": [],
   "source": [
    "dados = fetch_lfw_people(min_faces_per_person=70, resize=0.4)"
   ]
  },
  {
   "cell_type": "code",
   "execution_count": 92,
   "metadata": {},
   "outputs": [
    {
     "data": {
      "text/plain": [
       "{'data': array([[254.      , 254.      , 251.66667 , ...,  87.333336,  88.666664,\n",
       "          86.666664],\n",
       "        [ 39.666668,  50.333332,  47.      , ..., 117.666664, 115.      ,\n",
       "         133.66667 ],\n",
       "        [ 89.333336, 104.      , 126.      , ..., 175.33333 , 183.33333 ,\n",
       "         183.      ],\n",
       "        ...,\n",
       "        [ 86.      ,  80.333336,  74.666664, ...,  44.      ,  49.666668,\n",
       "          44.666668],\n",
       "        [ 50.333332,  65.666664,  88.      , ..., 197.      , 179.33333 ,\n",
       "         166.33333 ],\n",
       "        [ 30.      ,  27.      ,  32.666668, ...,  35.      ,  35.333332,\n",
       "          61.      ]], dtype=float32),\n",
       " 'images': array([[[254.      , 254.      , 251.66667 , ...,  65.333336,\n",
       "           50.666668,  40.333332],\n",
       "         [253.33333 , 251.33333 , 247.33333 , ...,  66.666664,\n",
       "           52.      ,  42.666668],\n",
       "         [240.66667 , 231.66667 , 211.66667 , ...,  62.      ,\n",
       "           49.      ,  42.      ],\n",
       "         ...,\n",
       "         [ 74.333336,  54.      ,  31.666666, ...,  97.666664,\n",
       "           93.      ,  90.      ],\n",
       "         [ 65.333336,  47.      ,  30.333334, ...,  91.666664,\n",
       "           92.      ,  86.333336],\n",
       "         [ 59.333332,  44.333332,  32.333332, ...,  87.333336,\n",
       "           88.666664,  86.666664]],\n",
       " \n",
       "        [[ 39.666668,  50.333332,  47.      , ...,  61.333332,\n",
       "           51.      ,  38.666668],\n",
       "         [ 47.666668,  63.      ,  65.333336, ...,  57.666668,\n",
       "           55.      ,  44.666668],\n",
       "         [ 55.333332,  76.666664,  86.333336, ...,  71.      ,\n",
       "           48.333332,  43.666668],\n",
       "         ...,\n",
       "         [ 73.666664,  75.666664,  75.333336, ..., 125.666664,\n",
       "          119.666664, 115.333336],\n",
       "         [ 75.333336,  76.333336,  77.      , ..., 124.      ,\n",
       "          116.      , 116.333336],\n",
       "         [ 77.333336,  76.333336,  75.666664, ..., 117.666664,\n",
       "          115.      , 133.66667 ]],\n",
       " \n",
       "        [[ 89.333336, 104.      , 126.      , ..., 150.      ,\n",
       "          150.33333 , 149.      ],\n",
       "         [100.      , 128.      , 143.66667 , ..., 159.33333 ,\n",
       "          151.33333 , 147.33333 ],\n",
       "         [123.666664, 142.66667 , 146.66667 , ..., 161.      ,\n",
       "          152.66667 , 147.33333 ],\n",
       "         ...,\n",
       "         [ 75.666664,  73.666664,  74.      , ..., 123.      ,\n",
       "          168.66667 , 179.      ],\n",
       "         [ 73.      ,  68.666664,  69.333336, ..., 150.      ,\n",
       "          182.      , 181.33333 ],\n",
       "         [ 78.666664,  66.      ,  65.666664, ..., 175.33333 ,\n",
       "          183.33333 , 183.      ]],\n",
       " \n",
       "        ...,\n",
       " \n",
       "        [[ 86.      ,  80.333336,  74.666664, ...,  35.      ,\n",
       "           35.      ,  39.333332],\n",
       "         [ 84.666664,  75.      ,  79.666664, ...,  37.      ,\n",
       "           35.      ,  37.      ],\n",
       "         [ 71.666664,  65.666664,  94.666664, ...,  41.333332,\n",
       "           37.      ,  36.666668],\n",
       "         ...,\n",
       "         [ 92.      ,  88.333336,  87.333336, ...,  66.666664,\n",
       "           79.333336,  94.      ],\n",
       "         [ 86.333336,  86.      ,  88.666664, ...,  46.666668,\n",
       "           58.666668,  64.333336],\n",
       "         [ 77.333336,  78.666664,  81.333336, ...,  44.      ,\n",
       "           49.666668,  44.666668]],\n",
       " \n",
       "        [[ 50.333332,  65.666664,  88.      , ..., 159.      ,\n",
       "          158.66667 , 152.      ],\n",
       "         [ 59.666668,  83.      ,  99.333336, ..., 157.66667 ,\n",
       "          150.66667 , 149.66667 ],\n",
       "         [ 62.      ,  90.666664,  94.333336, ..., 157.33333 ,\n",
       "          145.      , 144.      ],\n",
       "         ...,\n",
       "         [ 59.666668,  60.666668,  62.      , ..., 151.66667 ,\n",
       "          166.66667 , 164.66667 ],\n",
       "         [ 60.333332,  61.333332,  63.      , ..., 187.33333 ,\n",
       "          176.33333 , 167.      ],\n",
       "         [ 61.333332,  61.333332,  62.333332, ..., 197.      ,\n",
       "          179.33333 , 166.33333 ]],\n",
       " \n",
       "        [[ 30.      ,  27.      ,  32.666668, ...,  89.666664,\n",
       "           53.333332,  46.666668],\n",
       "         [ 31.333334,  32.      ,  37.333332, ..., 104.      ,\n",
       "           56.333332,  42.666668],\n",
       "         [ 33.666668,  33.666668,  39.      , ..., 122.666664,\n",
       "           71.333336,  52.      ],\n",
       "         ...,\n",
       "         [ 45.666668,  44.      ,  43.333332, ...,  23.333334,\n",
       "           20.      ,  34.333332],\n",
       "         [ 42.333332,  42.      ,  44.333332, ...,  24.333334,\n",
       "           27.      ,  44.      ],\n",
       "         [ 45.666668,  49.333332,  51.333332, ...,  35.      ,\n",
       "           35.333332,  61.      ]]], dtype=float32),\n",
       " 'target': array([5, 6, 3, ..., 5, 3, 5], dtype=int64),\n",
       " 'target_names': array(['Ariel Sharon', 'Colin Powell', 'Donald Rumsfeld', 'George W Bush',\n",
       "        'Gerhard Schroeder', 'Hugo Chavez', 'Tony Blair'], dtype='<U17'),\n",
       " 'DESCR': \".. _labeled_faces_in_the_wild_dataset:\\n\\nThe Labeled Faces in the Wild face recognition dataset\\n------------------------------------------------------\\n\\nThis dataset is a collection of JPEG pictures of famous people collected\\nover the internet, all details are available on the official website:\\n\\n    http://vis-www.cs.umass.edu/lfw/\\n\\nEach picture is centered on a single face. The typical task is called\\nFace Verification: given a pair of two pictures, a binary classifier\\nmust predict whether the two images are from the same person.\\n\\nAn alternative task, Face Recognition or Face Identification is:\\ngiven the picture of the face of an unknown person, identify the name\\nof the person by referring to a gallery of previously seen pictures of\\nidentified persons.\\n\\nBoth Face Verification and Face Recognition are tasks that are typically\\nperformed on the output of a model trained to perform Face Detection. The\\nmost popular model for Face Detection is called Viola-Jones and is\\nimplemented in the OpenCV library. The LFW faces were extracted by this\\nface detector from various online websites.\\n\\n**Data Set Characteristics:**\\n\\n    =================   =======================\\n    Classes                                5749\\n    Samples total                         13233\\n    Dimensionality                         5828\\n    Features            real, between 0 and 255\\n    =================   =======================\\n\\nUsage\\n~~~~~\\n\\n``scikit-learn`` provides two loaders that will automatically download,\\ncache, parse the metadata files, decode the jpeg and convert the\\ninteresting slices into memmapped numpy arrays. This dataset size is more\\nthan 200 MB. The first load typically takes more than a couple of minutes\\nto fully decode the relevant part of the JPEG files into numpy arrays. If\\nthe dataset has  been loaded once, the following times the loading times\\nless than 200ms by using a memmapped version memoized on the disk in the\\n``~/scikit_learn_data/lfw_home/`` folder using ``joblib``.\\n\\nThe first loader is used for the Face Identification task: a multi-class\\nclassification task (hence supervised learning)::\\n\\n  >>> from sklearn.datasets import fetch_lfw_people\\n  >>> lfw_people = fetch_lfw_people(min_faces_per_person=70, resize=0.4)\\n\\n  >>> for name in lfw_people.target_names:\\n  ...     print(name)\\n  ...\\n  Ariel Sharon\\n  Colin Powell\\n  Donald Rumsfeld\\n  George W Bush\\n  Gerhard Schroeder\\n  Hugo Chavez\\n  Tony Blair\\n\\nThe default slice is a rectangular shape around the face, removing\\nmost of the background::\\n\\n  >>> lfw_people.data.dtype\\n  dtype('float32')\\n\\n  >>> lfw_people.data.shape\\n  (1288, 1850)\\n\\n  >>> lfw_people.images.shape\\n  (1288, 50, 37)\\n\\nEach of the ``1140`` faces is assigned to a single person id in the ``target``\\narray::\\n\\n  >>> lfw_people.target.shape\\n  (1288,)\\n\\n  >>> list(lfw_people.target[:10])\\n  [5, 6, 3, 1, 0, 1, 3, 4, 3, 0]\\n\\nThe second loader is typically used for the face verification task: each sample\\nis a pair of two picture belonging or not to the same person::\\n\\n  >>> from sklearn.datasets import fetch_lfw_pairs\\n  >>> lfw_pairs_train = fetch_lfw_pairs(subset='train')\\n\\n  >>> list(lfw_pairs_train.target_names)\\n  ['Different persons', 'Same person']\\n\\n  >>> lfw_pairs_train.pairs.shape\\n  (2200, 2, 62, 47)\\n\\n  >>> lfw_pairs_train.data.shape\\n  (2200, 5828)\\n\\n  >>> lfw_pairs_train.target.shape\\n  (2200,)\\n\\nBoth for the :func:`sklearn.datasets.fetch_lfw_people` and\\n:func:`sklearn.datasets.fetch_lfw_pairs` function it is\\npossible to get an additional dimension with the RGB color channels by\\npassing ``color=True``, in that case the shape will be\\n``(2200, 2, 62, 47, 3)``.\\n\\nThe :func:`sklearn.datasets.fetch_lfw_pairs` datasets is subdivided into\\n3 subsets: the development ``train`` set, the development ``test`` set and\\nan evaluation ``10_folds`` set meant to compute performance metrics using a\\n10-folds cross validation scheme.\\n\\n.. topic:: References:\\n\\n * `Labeled Faces in the Wild: A Database for Studying Face Recognition\\n   in Unconstrained Environments.\\n   <http://vis-www.cs.umass.edu/lfw/lfw.pdf>`_\\n   Gary B. Huang, Manu Ramesh, Tamara Berg, and Erik Learned-Miller.\\n   University of Massachusetts, Amherst, Technical Report 07-49, October, 2007.\\n\\n\\nExamples\\n~~~~~~~~\\n\\n:ref:`sphx_glr_auto_examples_applications_plot_face_recognition.py`\\n\"}"
      ]
     },
     "execution_count": 92,
     "metadata": {},
     "output_type": "execute_result"
    }
   ],
   "source": [
    "dados"
   ]
  },
  {
   "cell_type": "code",
   "execution_count": 93,
   "metadata": {},
   "outputs": [],
   "source": [
    "from sklearn.datasets import fetch_lfw_people, load_digits"
   ]
  },
  {
   "cell_type": "code",
   "execution_count": 94,
   "metadata": {},
   "outputs": [],
   "source": [
    "digits = load_digits()"
   ]
  },
  {
   "cell_type": "code",
   "execution_count": 95,
   "metadata": {},
   "outputs": [
    {
     "name": "stdout",
     "output_type": "stream",
     "text": [
      ".. _digits_dataset:\n",
      "\n",
      "Optical recognition of handwritten digits dataset\n",
      "--------------------------------------------------\n",
      "\n",
      "**Data Set Characteristics:**\n",
      "\n",
      "    :Number of Instances: 5620\n",
      "    :Number of Attributes: 64\n",
      "    :Attribute Information: 8x8 image of integer pixels in the range 0..16.\n",
      "    :Missing Attribute Values: None\n",
      "    :Creator: E. Alpaydin (alpaydin '@' boun.edu.tr)\n",
      "    :Date: July; 1998\n",
      "\n",
      "This is a copy of the test set of the UCI ML hand-written digits datasets\n",
      "http://archive.ics.uci.edu/ml/datasets/Optical+Recognition+of+Handwritten+Digits\n",
      "\n",
      "The data set contains images of hand-written digits: 10 classes where\n",
      "each class refers to a digit.\n",
      "\n",
      "Preprocessing programs made available by NIST were used to extract\n",
      "normalized bitmaps of handwritten digits from a preprinted form. From a\n",
      "total of 43 people, 30 contributed to the training set and different 13\n",
      "to the test set. 32x32 bitmaps are divided into nonoverlapping blocks of\n",
      "4x4 and the number of on pixels are counted in each block. This generates\n",
      "an input matrix of 8x8 where each element is an integer in the range\n",
      "0..16. This reduces dimensionality and gives invariance to small\n",
      "distortions.\n",
      "\n",
      "For info on NIST preprocessing routines, see M. D. Garris, J. L. Blue, G.\n",
      "T. Candela, D. L. Dimmick, J. Geist, P. J. Grother, S. A. Janet, and C.\n",
      "L. Wilson, NIST Form-Based Handprint Recognition System, NISTIR 5469,\n",
      "1994.\n",
      "\n",
      ".. topic:: References\n",
      "\n",
      "  - C. Kaynak (1995) Methods of Combining Multiple Classifiers and Their\n",
      "    Applications to Handwritten Digit Recognition, MSc Thesis, Institute of\n",
      "    Graduate Studies in Science and Engineering, Bogazici University.\n",
      "  - E. Alpaydin, C. Kaynak (1998) Cascading Classifiers, Kybernetika.\n",
      "  - Ken Tang and Ponnuthurai N. Suganthan and Xi Yao and A. Kai Qin.\n",
      "    Linear dimensionalityreduction using relevance weighted LDA. School of\n",
      "    Electrical and Electronic Engineering Nanyang Technological University.\n",
      "    2005.\n",
      "  - Claudio Gentile. A New Approximate Maximal Margin Classification\n",
      "    Algorithm. NIPS. 2000.\n"
     ]
    }
   ],
   "source": [
    "print (digits.DESCR)"
   ]
  },
  {
   "cell_type": "code",
   "execution_count": 96,
   "metadata": {},
   "outputs": [
    {
     "data": {
      "text/plain": [
       "array([[ 0.,  0.,  5., 13.,  9.,  1.,  0.,  0.],\n",
       "       [ 0.,  0., 13., 15., 10., 15.,  5.,  0.],\n",
       "       [ 0.,  3., 15.,  2.,  0., 11.,  8.,  0.],\n",
       "       [ 0.,  4., 12.,  0.,  0.,  8.,  8.,  0.],\n",
       "       [ 0.,  5.,  8.,  0.,  0.,  9.,  8.,  0.],\n",
       "       [ 0.,  4., 11.,  0.,  1., 12.,  7.,  0.],\n",
       "       [ 0.,  2., 14.,  5., 10., 12.,  0.,  0.],\n",
       "       [ 0.,  0.,  6., 13., 10.,  0.,  0.,  0.]])"
      ]
     },
     "execution_count": 96,
     "metadata": {},
     "output_type": "execute_result"
    }
   ],
   "source": [
    "digits.images[0]"
   ]
  },
  {
   "cell_type": "code",
   "execution_count": 97,
   "metadata": {},
   "outputs": [],
   "source": [
    "import seaborn as sns"
   ]
  },
  {
   "cell_type": "code",
   "execution_count": 98,
   "metadata": {},
   "outputs": [],
   "source": [
    "import matplotlib.pyplot as plt"
   ]
  },
  {
   "cell_type": "code",
   "execution_count": 99,
   "metadata": {},
   "outputs": [
    {
     "ename": "AttributeError",
     "evalue": "module 'matplotlib.pyplot' has no attribute 'imsh'",
     "output_type": "error",
     "traceback": [
      "\u001b[1;31m---------------------------------------------------------------------------\u001b[0m",
      "\u001b[1;31mAttributeError\u001b[0m                            Traceback (most recent call last)",
      "\u001b[1;32m<ipython-input-99-d28336922915>\u001b[0m in \u001b[0;36m<module>\u001b[1;34m\u001b[0m\n\u001b[1;32m----> 1\u001b[1;33m \u001b[0mplt\u001b[0m\u001b[1;33m.\u001b[0m\u001b[0mimsh\u001b[0m\u001b[1;33m(\u001b[0m\u001b[0mdigits\u001b[0m\u001b[1;33m.\u001b[0m\u001b[0mimages\u001b[0m\u001b[1;33m[\u001b[0m\u001b[1;36m0\u001b[0m\u001b[1;33m]\u001b[0m\u001b[1;33m,\u001b[0m \u001b[0mcmap\u001b[0m\u001b[1;33m=\u001b[0m\u001b[1;34m'gray'\u001b[0m\u001b[1;33m)\u001b[0m\u001b[1;33m\u001b[0m\u001b[1;33m\u001b[0m\u001b[0m\n\u001b[0m",
      "\u001b[1;31mAttributeError\u001b[0m: module 'matplotlib.pyplot' has no attribute 'imsh'"
     ]
    }
   ],
   "source": [
    "plt.imsh(digits.images[0], cmap='gray')"
   ]
  },
  {
   "cell_type": "code",
   "execution_count": 100,
   "metadata": {},
   "outputs": [],
   "source": [
    "x = digits.data\n",
    "y = digits.target"
   ]
  },
  {
   "cell_type": "code",
   "execution_count": 101,
   "metadata": {},
   "outputs": [
    {
     "data": {
      "text/plain": [
       "(64,)"
      ]
     },
     "execution_count": 101,
     "metadata": {},
     "output_type": "execute_result"
    }
   ],
   "source": [
    "x[0].shape"
   ]
  },
  {
   "cell_type": "code",
   "execution_count": 102,
   "metadata": {},
   "outputs": [],
   "source": [
    "from sklearn.neural_network import MLPClassifier\n",
    "from sklearn.model_selection import train_test_split\n",
    "from sklearn.metrics import accuracy_score, classification_report"
   ]
  },
  {
   "cell_type": "code",
   "execution_count": 104,
   "metadata": {},
   "outputs": [],
   "source": [
    "x_treino, x_teste, y_treino, y_teste = train_test_split(x,y)"
   ]
  },
  {
   "cell_type": "code",
   "execution_count": 105,
   "metadata": {},
   "outputs": [],
   "source": [
    "modelo = MLPClassifier(verbose=True)"
   ]
  },
  {
   "cell_type": "code",
   "execution_count": 106,
   "metadata": {},
   "outputs": [
    {
     "name": "stdout",
     "output_type": "stream",
     "text": [
      "Iteration 1, loss = 7.67337436\n",
      "Iteration 2, loss = 3.83738175\n",
      "Iteration 3, loss = 2.41940012\n",
      "Iteration 4, loss = 1.37834937\n",
      "Iteration 5, loss = 0.95146498\n",
      "Iteration 6, loss = 0.66773092\n",
      "Iteration 7, loss = 0.51972038\n",
      "Iteration 8, loss = 0.40966475\n",
      "Iteration 9, loss = 0.33913152\n",
      "Iteration 10, loss = 0.28826739\n",
      "Iteration 11, loss = 0.25112266\n",
      "Iteration 12, loss = 0.22070110\n",
      "Iteration 13, loss = 0.19733184\n",
      "Iteration 14, loss = 0.17633974\n",
      "Iteration 15, loss = 0.15785637\n",
      "Iteration 16, loss = 0.14401148\n",
      "Iteration 17, loss = 0.13323957\n",
      "Iteration 18, loss = 0.12330924\n",
      "Iteration 19, loss = 0.11032174\n",
      "Iteration 20, loss = 0.10181135\n",
      "Iteration 21, loss = 0.09278239\n",
      "Iteration 22, loss = 0.08643278\n",
      "Iteration 23, loss = 0.07943472\n",
      "Iteration 24, loss = 0.07472821\n",
      "Iteration 25, loss = 0.06884578\n",
      "Iteration 26, loss = 0.06437118\n",
      "Iteration 27, loss = 0.06079049\n",
      "Iteration 28, loss = 0.05641516\n",
      "Iteration 29, loss = 0.05302382\n",
      "Iteration 30, loss = 0.04994727\n",
      "Iteration 31, loss = 0.04685761\n",
      "Iteration 32, loss = 0.04416187\n",
      "Iteration 33, loss = 0.04149757\n",
      "Iteration 34, loss = 0.03935218\n",
      "Iteration 35, loss = 0.03699577\n",
      "Iteration 36, loss = 0.03462134\n",
      "Iteration 37, loss = 0.03279732\n",
      "Iteration 38, loss = 0.03080277\n",
      "Iteration 39, loss = 0.02950832\n",
      "Iteration 40, loss = 0.02757008\n",
      "Iteration 41, loss = 0.02623839\n",
      "Iteration 42, loss = 0.02475813\n",
      "Iteration 43, loss = 0.02368216\n",
      "Iteration 44, loss = 0.02219152\n",
      "Iteration 45, loss = 0.02110391\n",
      "Iteration 46, loss = 0.02013187\n",
      "Iteration 47, loss = 0.01914565\n",
      "Iteration 48, loss = 0.01817321\n",
      "Iteration 49, loss = 0.01762645\n",
      "Iteration 50, loss = 0.01667766\n",
      "Iteration 51, loss = 0.01610135\n",
      "Iteration 52, loss = 0.01519073\n",
      "Iteration 53, loss = 0.01456665\n",
      "Iteration 54, loss = 0.01420243\n",
      "Iteration 55, loss = 0.01339961\n",
      "Iteration 56, loss = 0.01299707\n",
      "Iteration 57, loss = 0.01244832\n",
      "Iteration 58, loss = 0.01201491\n",
      "Iteration 59, loss = 0.01155722\n",
      "Iteration 60, loss = 0.01119968\n",
      "Iteration 61, loss = 0.01077773\n",
      "Iteration 62, loss = 0.01037096\n",
      "Iteration 63, loss = 0.01007765\n",
      "Iteration 64, loss = 0.00970902\n",
      "Iteration 65, loss = 0.00946927\n",
      "Iteration 66, loss = 0.00907047\n",
      "Iteration 67, loss = 0.00891345\n",
      "Iteration 68, loss = 0.00865885\n",
      "Iteration 69, loss = 0.00844037\n",
      "Iteration 70, loss = 0.00805475\n",
      "Iteration 71, loss = 0.00796053\n",
      "Iteration 72, loss = 0.00760027\n",
      "Iteration 73, loss = 0.00743536\n",
      "Iteration 74, loss = 0.00722256\n",
      "Iteration 75, loss = 0.00706092\n",
      "Iteration 76, loss = 0.00678526\n",
      "Iteration 77, loss = 0.00673688\n",
      "Iteration 78, loss = 0.00646862\n",
      "Iteration 79, loss = 0.00631657\n",
      "Iteration 80, loss = 0.00614722\n",
      "Iteration 81, loss = 0.00603040\n",
      "Iteration 82, loss = 0.00586604\n",
      "Iteration 83, loss = 0.00573782\n",
      "Iteration 84, loss = 0.00559097\n",
      "Iteration 85, loss = 0.00549226\n",
      "Iteration 86, loss = 0.00537027\n",
      "Iteration 87, loss = 0.00524028\n",
      "Iteration 88, loss = 0.00508986\n",
      "Iteration 89, loss = 0.00498573\n",
      "Iteration 90, loss = 0.00486366\n",
      "Iteration 91, loss = 0.00477438\n",
      "Iteration 92, loss = 0.00467177\n",
      "Iteration 93, loss = 0.00457787\n",
      "Iteration 94, loss = 0.00446860\n",
      "Iteration 95, loss = 0.00440806\n",
      "Iteration 96, loss = 0.00430749\n",
      "Iteration 97, loss = 0.00421386\n",
      "Iteration 98, loss = 0.00411904\n",
      "Iteration 99, loss = 0.00405065\n",
      "Iteration 100, loss = 0.00398152\n",
      "Iteration 101, loss = 0.00389641\n",
      "Iteration 102, loss = 0.00381634\n",
      "Iteration 103, loss = 0.00378415\n",
      "Iteration 104, loss = 0.00368873\n",
      "Iteration 105, loss = 0.00364649\n",
      "Iteration 106, loss = 0.00355919\n",
      "Iteration 107, loss = 0.00350639\n",
      "Training loss did not improve more than tol=0.000100 for 10 consecutive epochs. Stopping.\n"
     ]
    },
    {
     "data": {
      "text/plain": [
       "MLPClassifier(activation='relu', alpha=0.0001, batch_size='auto', beta_1=0.9,\n",
       "       beta_2=0.999, early_stopping=False, epsilon=1e-08,\n",
       "       hidden_layer_sizes=(100,), learning_rate='constant',\n",
       "       learning_rate_init=0.001, max_iter=200, momentum=0.9,\n",
       "       n_iter_no_change=10, nesterovs_momentum=True, power_t=0.5,\n",
       "       random_state=None, shuffle=True, solver='adam', tol=0.0001,\n",
       "       validation_fraction=0.1, verbose=True, warm_start=False)"
      ]
     },
     "execution_count": 106,
     "metadata": {},
     "output_type": "execute_result"
    }
   ],
   "source": [
    "modelo.fit(x_treino, y_treino)"
   ]
  },
  {
   "cell_type": "code",
   "execution_count": 107,
   "metadata": {},
   "outputs": [
    {
     "data": {
      "image/png": "[encoded data removed]",
      "text/plain": [
       "<Figure size 432x288 with 1 Axes>"
      ]
     },
     "metadata": {
      "needs_background": "light"
     },
     "output_type": "display_data"
    }
   ],
   "source": [
    "plt.plot(range(len(modelo.loss_curve_)),modelo.loss_curve_)\n",
    "plt.grid()"
   ]
  },
  {
   "cell_type": "code",
   "execution_count": 108,
   "metadata": {},
   "outputs": [
    {
     "name": "stdout",
     "output_type": "stream",
     "text": [
      "Requirement already satisfied: keras in c:\\users\\br003e\\appdata\\local\\continuum\\anaconda3\\lib\\site-packages (2.2.4)\n",
      "Requirement already satisfied: tensorflow in c:\\users\\br003e\\appdata\\local\\continuum\\anaconda3\\lib\\site-packages (1.13.1)\n",
      "Requirement already satisfied: scipy>=0.14 in c:\\users\\br003e\\appdata\\local\\continuum\\anaconda3\\lib\\site-packages (from keras) (1.1.0)\n",
      "Requirement already satisfied: six>=1.9.0 in c:\\users\\br003e\\appdata\\local\\continuum\\anaconda3\\lib\\site-packages (from keras) (1.12.0)\n",
      "Requirement already satisfied: numpy>=1.9.1 in c:\\users\\br003e\\appdata\\local\\continuum\\anaconda3\\lib\\site-packages (from keras) (1.15.4)\n",
      "Requirement already satisfied: keras-applications>=1.0.6 in c:\\users\\br003e\\appdata\\local\\continuum\\anaconda3\\lib\\site-packages (from keras) (1.0.8)\n",
      "Requirement already satisfied: keras-preprocessing>=1.0.5 in c:\\users\\br003e\\appdata\\local\\continuum\\anaconda3\\lib\\site-packages (from keras) (1.1.0)\n",
      "Requirement already satisfied: pyyaml in c:\\users\\br003e\\appdata\\local\\continuum\\anaconda3\\lib\\site-packages (from keras) (3.13)\n",
      "Requirement already satisfied: h5py in c:\\users\\br003e\\appdata\\local\\continuum\\anaconda3\\lib\\site-packages (from keras) (2.8.0)\n",
      "Requirement already satisfied: wheel>=0.26 in c:\\users\\br003e\\appdata\\local\\continuum\\anaconda3\\lib\\site-packages (from tensorflow) (0.32.3)\n",
      "Requirement already satisfied: gast>=0.2.0 in c:\\users\\br003e\\appdata\\local\\continuum\\anaconda3\\lib\\site-packages (from tensorflow) (0.2.2)\n",
      "Requirement already satisfied: astor>=0.6.0 in c:\\users\\br003e\\appdata\\local\\continuum\\anaconda3\\lib\\site-packages (from tensorflow) (0.8.0)\n",
      "Requirement already satisfied: grpcio>=1.8.6 in c:\\users\\br003e\\appdata\\local\\continuum\\anaconda3\\lib\\site-packages (from tensorflow) (1.21.1)\n",
      "Requirement already satisfied: termcolor>=1.1.0 in c:\\users\\br003e\\appdata\\local\\continuum\\anaconda3\\lib\\site-packages (from tensorflow) (1.1.0)\n",
      "Requirement already satisfied: absl-py>=0.1.6 in c:\\users\\br003e\\appdata\\local\\continuum\\anaconda3\\lib\\site-packages (from tensorflow) (0.7.1)\n",
      "Requirement already satisfied: tensorflow-estimator<1.14.0rc0,>=1.13.0 in c:\\users\\br003e\\appdata\\local\\continuum\\anaconda3\\lib\\site-packages (from tensorflow) (1.13.0)\n",
      "Requirement already satisfied: protobuf>=3.6.1 in c:\\users\\br003e\\appdata\\local\\continuum\\anaconda3\\lib\\site-packages (from tensorflow) (3.7.1)\n",
      "Requirement already satisfied: tensorboard<1.14.0,>=1.13.0 in c:\\users\\br003e\\appdata\\local\\continuum\\anaconda3\\lib\\site-packages (from tensorflow) (1.13.1)\n",
      "Requirement already satisfied: mock>=2.0.0 in c:\\users\\br003e\\appdata\\local\\continuum\\anaconda3\\lib\\site-packages (from tensorflow-estimator<1.14.0rc0,>=1.13.0->tensorflow) (3.0.5)\n",
      "Requirement already satisfied: setuptools in c:\\users\\br003e\\appdata\\local\\continuum\\anaconda3\\lib\\site-packages (from protobuf>=3.6.1->tensorflow) (40.6.3)\n",
      "Requirement already satisfied: werkzeug>=0.11.15 in c:\\users\\br003e\\appdata\\local\\continuum\\anaconda3\\lib\\site-packages (from tensorboard<1.14.0,>=1.13.0->tensorflow) (0.14.1)\n",
      "Requirement already satisfied: markdown>=2.6.8 in c:\\users\\br003e\\appdata\\local\\continuum\\anaconda3\\lib\\site-packages (from tensorboard<1.14.0,>=1.13.0->tensorflow) (3.1.1)\n"
     ]
    }
   ],
   "source": [
    "!pip install keras tensorflow\n",
    "\n",
    "# tensorflow biblioteca de deep learning que o google criou"
   ]
  },
  {
   "cell_type": "code",
   "execution_count": 109,
   "metadata": {},
   "outputs": [],
   "source": [
    "X = dados.data\n",
    "y = dados.target\n",
    "imagens = dados.images"
   ]
  },
  {
   "cell_type": "code",
   "execution_count": 110,
   "metadata": {},
   "outputs": [
    {
     "data": {
      "text/plain": [
       "<matplotlib.image.AxesImage at 0x106a8160>"
      ]
     },
     "execution_count": 110,
     "metadata": {},
     "output_type": "execute_result"
    },
    {
     "data": {
      "image/png": "[encoded data removed]",
      "text/plain": [
       "<Figure size 432x288 with 1 Axes>"
      ]
     },
     "metadata": {
      "needs_background": "light"
     },
     "output_type": "display_data"
    }
   ],
   "source": [
    "plt.imshow(imagens[0],cmap='gray')"
   ]
  },
  {
   "cell_type": "code",
   "execution_count": 111,
   "metadata": {},
   "outputs": [
    {
     "data": {
      "text/plain": [
       "<matplotlib.image.AxesImage at 0x10fddfd0>"
      ]
     },
     "execution_count": 111,
     "metadata": {},
     "output_type": "execute_result"
    },
    {
     "data": {
      "image/png": "[encoded data removed]",
      "text/plain": [
       "<Figure size 432x288 with 1 Axes>"
      ]
     },
     "metadata": {
      "needs_background": "light"
     },
     "output_type": "display_data"
    }
   ],
   "source": [
    "plt.imshow(imagens[1],cmap='gray')"
   ]
  },
  {
   "cell_type": "code",
   "execution_count": 112,
   "metadata": {},
   "outputs": [
    {
     "data": {
      "text/plain": [
       "<matplotlib.image.AxesImage at 0x109e6828>"
      ]
     },
     "execution_count": 112,
     "metadata": {},
     "output_type": "execute_result"
    },
    {
     "data": {
      "image/png": "[encoded data removed]",
      "text/plain": [
       "<Figure size 432x288 with 1 Axes>"
      ]
     },
     "metadata": {
      "needs_background": "light"
     },
     "output_type": "display_data"
    }
   ],
   "source": [
    "plt.imshow(imagens[2],cmap='gray')"
   ]
  },
  {
   "cell_type": "code",
   "execution_count": 113,
   "metadata": {},
   "outputs": [
    {
     "data": {
      "text/plain": [
       "<matplotlib.image.AxesImage at 0x110420f0>"
      ]
     },
     "execution_count": 113,
     "metadata": {},
     "output_type": "execute_result"
    },
    {
     "data": {
      "image/png": "[encoded data removed]",
      "text/plain": [
       "<Figure size 432x288 with 1 Axes>"
      ]
     },
     "metadata": {
      "needs_background": "light"
     },
     "output_type": "display_data"
    }
   ],
   "source": [
    "plt.imshow(imagens[3],cmap='gray')"
   ]
  },
  {
   "cell_type": "code",
   "execution_count": 114,
   "metadata": {},
   "outputs": [
    {
     "data": {
      "text/plain": [
       "<matplotlib.image.AxesImage at 0x1096e9e8>"
      ]
     },
     "execution_count": 114,
     "metadata": {},
     "output_type": "execute_result"
    },
    {
     "data": {
      "image/png": "[encoded data removed]",
      "text/plain": [
       "<Figure size 432x288 with 1 Axes>"
      ]
     },
     "metadata": {
      "needs_background": "light"
     },
     "output_type": "display_data"
    }
   ],
   "source": [
    "plt.imshow(imagens[4],cmap='gray')"
   ]
  },
  {
   "cell_type": "code",
   "execution_count": 115,
   "metadata": {},
   "outputs": [
    {
     "data": {
      "text/plain": [
       "<matplotlib.image.AxesImage at 0x10eb62b0>"
      ]
     },
     "execution_count": 115,
     "metadata": {},
     "output_type": "execute_result"
    },
    {
     "data": {
      "image/png": "[encoded data removed]",
      "text/plain": [
       "<Figure size 432x288 with 1 Axes>"
      ]
     },
     "metadata": {
      "needs_background": "light"
     },
     "output_type": "display_data"
    }
   ],
   "source": [
    "plt.imshow(imagens[5],cmap='gray')"
   ]
  },
  {
   "cell_type": "code",
   "execution_count": 116,
   "metadata": {},
   "outputs": [
    {
     "data": {
      "text/plain": [
       "<matplotlib.image.AxesImage at 0x10a4cb70>"
      ]
     },
     "execution_count": 116,
     "metadata": {},
     "output_type": "execute_result"
    },
    {
     "data": {
      "image/png": "[encoded data removed]",
      "text/plain": [
       "<Figure size 432x288 with 1 Axes>"
      ]
     },
     "metadata": {
      "needs_background": "light"
     },
     "output_type": "display_data"
    }
   ],
   "source": [
    "plt.imshow(imagens[6],cmap='gray')"
   ]
  },
  {
   "cell_type": "code",
   "execution_count": 117,
   "metadata": {},
   "outputs": [
    {
     "data": {
      "text/plain": [
       "<matplotlib.image.AxesImage at 0x10c8d400>"
      ]
     },
     "execution_count": 117,
     "metadata": {},
     "output_type": "execute_result"
    },
    {
     "data": {
      "image/png": "[encoded data removed]",
      "text/plain": [
       "<Figure size 432x288 with 1 Axes>"
      ]
     },
     "metadata": {
      "needs_background": "light"
     },
     "output_type": "display_data"
    }
   ],
   "source": [
    "plt.imshow(imagens[7],cmap='gray')"
   ]
  },
  {
   "cell_type": "code",
   "execution_count": 118,
   "metadata": {},
   "outputs": [
    {
     "data": {
      "text/plain": [
       "<matplotlib.image.AxesImage at 0x10926d30>"
      ]
     },
     "execution_count": 118,
     "metadata": {},
     "output_type": "execute_result"
    },
    {
     "data": {
      "image/png": "[encoded data removed]",
      "text/plain": [
       "<Figure size 432x288 with 1 Axes>"
      ]
     },
     "metadata": {
      "needs_background": "light"
     },
     "output_type": "display_data"
    }
   ],
   "source": [
    "plt.imshow(imagens[8],cmap='gray')"
   ]
  },
  {
   "cell_type": "code",
   "execution_count": 119,
   "metadata": {},
   "outputs": [
    {
     "data": {
      "text/plain": [
       "(1797, 64)"
      ]
     },
     "execution_count": 119,
     "metadata": {},
     "output_type": "execute_result"
    }
   ],
   "source": [
    "x.shape"
   ]
  },
  {
   "cell_type": "code",
   "execution_count": 120,
   "metadata": {},
   "outputs": [
    {
     "data": {
      "text/plain": [
       "(1288,)"
      ]
     },
     "execution_count": 120,
     "metadata": {},
     "output_type": "execute_result"
    }
   ],
   "source": [
    "y.shape"
   ]
  },
  {
   "cell_type": "code",
   "execution_count": 124,
   "metadata": {},
   "outputs": [],
   "source": [
    "modelp = MLPClassifier()"
   ]
  },
  {
   "cell_type": "code",
   "execution_count": 126,
   "metadata": {},
   "outputs": [],
   "source": [
    "x_treino, x_teste, y_treino, y_teste = train_test_split (X,y)"
   ]
  },
  {
   "cell_type": "code",
   "execution_count": 127,
   "metadata": {},
   "outputs": [
    {
     "name": "stdout",
     "output_type": "stream",
     "text": [
      "0.5093167701863354 \n",
      "-----------------\n",
      "              precision    recall  f1-score   support\n",
      "\n",
      "           0       0.00      0.00      0.00        25\n",
      "           1       0.45      0.11      0.17        47\n",
      "           2       0.21      0.48      0.29        31\n",
      "           3       0.63      0.90      0.75       126\n",
      "           4       0.65      0.42      0.51        31\n",
      "           5       0.00      0.00      0.00        27\n",
      "           6       0.45      0.49      0.47        35\n",
      "\n",
      "   micro avg       0.51      0.51      0.51       322\n",
      "   macro avg       0.34      0.34      0.31       322\n",
      "weighted avg       0.45      0.51      0.44       322\n",
      "\n"
     ]
    },
    {
     "name": "stderr",
     "output_type": "stream",
     "text": [
      "C:\\Users\\br003e\\AppData\\Local\\Continuum\\anaconda3\\lib\\site-packages\\sklearn\\metrics\\classification.py:1143: UndefinedMetricWarning: Precision and F-score are ill-defined and being set to 0.0 in labels with no predicted samples.\n",
      "  'precision', 'predicted', average, warn_for)\n",
      "C:\\Users\\br003e\\AppData\\Local\\Continuum\\anaconda3\\lib\\site-packages\\sklearn\\metrics\\classification.py:1143: UndefinedMetricWarning: Precision and F-score are ill-defined and being set to 0.0 in labels with no predicted samples.\n",
      "  'precision', 'predicted', average, warn_for)\n",
      "C:\\Users\\br003e\\AppData\\Local\\Continuum\\anaconda3\\lib\\site-packages\\sklearn\\metrics\\classification.py:1143: UndefinedMetricWarning: Precision and F-score are ill-defined and being set to 0.0 in labels with no predicted samples.\n",
      "  'precision', 'predicted', average, warn_for)\n"
     ]
    }
   ],
   "source": [
    "modelo.fit(x_treino, y_treino)\n",
    "y_pred = modelo.predict(x_teste)\n",
    "print(accuracy_score(y_teste, y_pred),'\\n-----------------')\n",
    "print(classification_report(y_teste, y_pred))"
   ]
  },
  {
   "cell_type": "code",
   "execution_count": 129,
   "metadata": {},
   "outputs": [],
   "source": [
    "from sklearn.datasets import load_iris"
   ]
  },
  {
   "cell_type": "code",
   "execution_count": 131,
   "metadata": {},
   "outputs": [],
   "source": [
    "iris = load_iris()"
   ]
  },
  {
   "cell_type": "code",
   "execution_count": 134,
   "metadata": {},
   "outputs": [],
   "source": [
    "X_ = iris.data\n",
    "y_ = iris.target"
   ]
  },
  {
   "cell_type": "code",
   "execution_count": 135,
   "metadata": {
    "scrolled": true
   },
   "outputs": [
    {
     "data": {
      "text/plain": [
       "array([[5.1, 3.5, 1.4, 0.2],\n",
       "       [4.9, 3. , 1.4, 0.2],\n",
       "       [4.7, 3.2, 1.3, 0.2],\n",
       "       [4.6, 3.1, 1.5, 0.2],\n",
       "       [5. , 3.6, 1.4, 0.2],\n",
       "       [5.4, 3.9, 1.7, 0.4],\n",
       "       [4.6, 3.4, 1.4, 0.3],\n",
       "       [5. , 3.4, 1.5, 0.2],\n",
       "       [4.4, 2.9, 1.4, 0.2],\n",
       "       [4.9, 3.1, 1.5, 0.1],\n",
       "       [5.4, 3.7, 1.5, 0.2],\n",
       "       [4.8, 3.4, 1.6, 0.2],\n",
       "       [4.8, 3. , 1.4, 0.1],\n",
       "       [4.3, 3. , 1.1, 0.1],\n",
       "       [5.8, 4. , 1.2, 0.2],\n",
       "       [5.7, 4.4, 1.5, 0.4],\n",
       "       [5.4, 3.9, 1.3, 0.4],\n",
       "       [5.1, 3.5, 1.4, 0.3],\n",
       "       [5.7, 3.8, 1.7, 0.3],\n",
       "       [5.1, 3.8, 1.5, 0.3],\n",
       "       [5.4, 3.4, 1.7, 0.2],\n",
       "       [5.1, 3.7, 1.5, 0.4],\n",
       "       [4.6, 3.6, 1. , 0.2],\n",
       "       [5.1, 3.3, 1.7, 0.5],\n",
       "       [4.8, 3.4, 1.9, 0.2],\n",
       "       [5. , 3. , 1.6, 0.2],\n",
       "       [5. , 3.4, 1.6, 0.4],\n",
       "       [5.2, 3.5, 1.5, 0.2],\n",
       "       [5.2, 3.4, 1.4, 0.2],\n",
       "       [4.7, 3.2, 1.6, 0.2],\n",
       "       [4.8, 3.1, 1.6, 0.2],\n",
       "       [5.4, 3.4, 1.5, 0.4],\n",
       "       [5.2, 4.1, 1.5, 0.1],\n",
       "       [5.5, 4.2, 1.4, 0.2],\n",
       "       [4.9, 3.1, 1.5, 0.2],\n",
       "       [5. , 3.2, 1.2, 0.2],\n",
       "       [5.5, 3.5, 1.3, 0.2],\n",
       "       [4.9, 3.6, 1.4, 0.1],\n",
       "       [4.4, 3. , 1.3, 0.2],\n",
       "       [5.1, 3.4, 1.5, 0.2],\n",
       "       [5. , 3.5, 1.3, 0.3],\n",
       "       [4.5, 2.3, 1.3, 0.3],\n",
       "       [4.4, 3.2, 1.3, 0.2],\n",
       "       [5. , 3.5, 1.6, 0.6],\n",
       "       [5.1, 3.8, 1.9, 0.4],\n",
       "       [4.8, 3. , 1.4, 0.3],\n",
       "       [5.1, 3.8, 1.6, 0.2],\n",
       "       [4.6, 3.2, 1.4, 0.2],\n",
       "       [5.3, 3.7, 1.5, 0.2],\n",
       "       [5. , 3.3, 1.4, 0.2],\n",
       "       [7. , 3.2, 4.7, 1.4],\n",
       "       [6.4, 3.2, 4.5, 1.5],\n",
       "       [6.9, 3.1, 4.9, 1.5],\n",
       "       [5.5, 2.3, 4. , 1.3],\n",
       "       [6.5, 2.8, 4.6, 1.5],\n",
       "       [5.7, 2.8, 4.5, 1.3],\n",
       "       [6.3, 3.3, 4.7, 1.6],\n",
       "       [4.9, 2.4, 3.3, 1. ],\n",
       "       [6.6, 2.9, 4.6, 1.3],\n",
       "       [5.2, 2.7, 3.9, 1.4],\n",
       "       [5. , 2. , 3.5, 1. ],\n",
       "       [5.9, 3. , 4.2, 1.5],\n",
       "       [6. , 2.2, 4. , 1. ],\n",
       "       [6.1, 2.9, 4.7, 1.4],\n",
       "       [5.6, 2.9, 3.6, 1.3],\n",
       "       [6.7, 3.1, 4.4, 1.4],\n",
       "       [5.6, 3. , 4.5, 1.5],\n",
       "       [5.8, 2.7, 4.1, 1. ],\n",
       "       [6.2, 2.2, 4.5, 1.5],\n",
       "       [5.6, 2.5, 3.9, 1.1],\n",
       "       [5.9, 3.2, 4.8, 1.8],\n",
       "       [6.1, 2.8, 4. , 1.3],\n",
       "       [6.3, 2.5, 4.9, 1.5],\n",
       "       [6.1, 2.8, 4.7, 1.2],\n",
       "       [6.4, 2.9, 4.3, 1.3],\n",
       "       [6.6, 3. , 4.4, 1.4],\n",
       "       [6.8, 2.8, 4.8, 1.4],\n",
       "       [6.7, 3. , 5. , 1.7],\n",
       "       [6. , 2.9, 4.5, 1.5],\n",
       "       [5.7, 2.6, 3.5, 1. ],\n",
       "       [5.5, 2.4, 3.8, 1.1],\n",
       "       [5.5, 2.4, 3.7, 1. ],\n",
       "       [5.8, 2.7, 3.9, 1.2],\n",
       "       [6. , 2.7, 5.1, 1.6],\n",
       "       [5.4, 3. , 4.5, 1.5],\n",
       "       [6. , 3.4, 4.5, 1.6],\n",
       "       [6.7, 3.1, 4.7, 1.5],\n",
       "       [6.3, 2.3, 4.4, 1.3],\n",
       "       [5.6, 3. , 4.1, 1.3],\n",
       "       [5.5, 2.5, 4. , 1.3],\n",
       "       [5.5, 2.6, 4.4, 1.2],\n",
       "       [6.1, 3. , 4.6, 1.4],\n",
       "       [5.8, 2.6, 4. , 1.2],\n",
       "       [5. , 2.3, 3.3, 1. ],\n",
       "       [5.6, 2.7, 4.2, 1.3],\n",
       "       [5.7, 3. , 4.2, 1.2],\n",
       "       [5.7, 2.9, 4.2, 1.3],\n",
       "       [6.2, 2.9, 4.3, 1.3],\n",
       "       [5.1, 2.5, 3. , 1.1],\n",
       "       [5.7, 2.8, 4.1, 1.3],\n",
       "       [6.3, 3.3, 6. , 2.5],\n",
       "       [5.8, 2.7, 5.1, 1.9],\n",
       "       [7.1, 3. , 5.9, 2.1],\n",
       "       [6.3, 2.9, 5.6, 1.8],\n",
       "       [6.5, 3. , 5.8, 2.2],\n",
       "       [7.6, 3. , 6.6, 2.1],\n",
       "       [4.9, 2.5, 4.5, 1.7],\n",
       "       [7.3, 2.9, 6.3, 1.8],\n",
       "       [6.7, 2.5, 5.8, 1.8],\n",
       "       [7.2, 3.6, 6.1, 2.5],\n",
       "       [6.5, 3.2, 5.1, 2. ],\n",
       "       [6.4, 2.7, 5.3, 1.9],\n",
       "       [6.8, 3. , 5.5, 2.1],\n",
       "       [5.7, 2.5, 5. , 2. ],\n",
       "       [5.8, 2.8, 5.1, 2.4],\n",
       "       [6.4, 3.2, 5.3, 2.3],\n",
       "       [6.5, 3. , 5.5, 1.8],\n",
       "       [7.7, 3.8, 6.7, 2.2],\n",
       "       [7.7, 2.6, 6.9, 2.3],\n",
       "       [6. , 2.2, 5. , 1.5],\n",
       "       [6.9, 3.2, 5.7, 2.3],\n",
       "       [5.6, 2.8, 4.9, 2. ],\n",
       "       [7.7, 2.8, 6.7, 2. ],\n",
       "       [6.3, 2.7, 4.9, 1.8],\n",
       "       [6.7, 3.3, 5.7, 2.1],\n",
       "       [7.2, 3.2, 6. , 1.8],\n",
       "       [6.2, 2.8, 4.8, 1.8],\n",
       "       [6.1, 3. , 4.9, 1.8],\n",
       "       [6.4, 2.8, 5.6, 2.1],\n",
       "       [7.2, 3. , 5.8, 1.6],\n",
       "       [7.4, 2.8, 6.1, 1.9],\n",
       "       [7.9, 3.8, 6.4, 2. ],\n",
       "       [6.4, 2.8, 5.6, 2.2],\n",
       "       [6.3, 2.8, 5.1, 1.5],\n",
       "       [6.1, 2.6, 5.6, 1.4],\n",
       "       [7.7, 3. , 6.1, 2.3],\n",
       "       [6.3, 3.4, 5.6, 2.4],\n",
       "       [6.4, 3.1, 5.5, 1.8],\n",
       "       [6. , 3. , 4.8, 1.8],\n",
       "       [6.9, 3.1, 5.4, 2.1],\n",
       "       [6.7, 3.1, 5.6, 2.4],\n",
       "       [6.9, 3.1, 5.1, 2.3],\n",
       "       [5.8, 2.7, 5.1, 1.9],\n",
       "       [6.8, 3.2, 5.9, 2.3],\n",
       "       [6.7, 3.3, 5.7, 2.5],\n",
       "       [6.7, 3. , 5.2, 2.3],\n",
       "       [6.3, 2.5, 5. , 1.9],\n",
       "       [6.5, 3. , 5.2, 2. ],\n",
       "       [6.2, 3.4, 5.4, 2.3],\n",
       "       [5.9, 3. , 5.1, 1.8]])"
      ]
     },
     "execution_count": 135,
     "metadata": {},
     "output_type": "execute_result"
    }
   ],
   "source": [
    "X_"
   ]
  },
  {
   "cell_type": "code",
   "execution_count": 136,
   "metadata": {},
   "outputs": [],
   "source": [
    "from sklearn.decomposition import PCA "
   ]
  },
  {
   "cell_type": "code",
   "execution_count": 137,
   "metadata": {},
   "outputs": [],
   "source": [
    "pca = PCA(n_components=2)"
   ]
  },
  {
   "cell_type": "code",
   "execution_count": 138,
   "metadata": {},
   "outputs": [],
   "source": [
    "X_2 = pca.fit_transform(X_)"
   ]
  },
  {
   "cell_type": "code",
   "execution_count": 139,
   "metadata": {},
   "outputs": [
    {
     "data": {
      "text/plain": [
       "array([[-2.68412563,  0.31939725],\n",
       "       [-2.71414169, -0.17700123],\n",
       "       [-2.88899057, -0.14494943],\n",
       "       [-2.74534286, -0.31829898],\n",
       "       [-2.72871654,  0.32675451],\n",
       "       [-2.28085963,  0.74133045],\n",
       "       [-2.82053775, -0.08946138],\n",
       "       [-2.62614497,  0.16338496],\n",
       "       [-2.88638273, -0.57831175],\n",
       "       [-2.6727558 , -0.11377425],\n",
       "       [-2.50694709,  0.6450689 ],\n",
       "       [-2.61275523,  0.01472994],\n",
       "       [-2.78610927, -0.235112  ],\n",
       "       [-3.22380374, -0.51139459],\n",
       "       [-2.64475039,  1.17876464],\n",
       "       [-2.38603903,  1.33806233],\n",
       "       [-2.62352788,  0.81067951],\n",
       "       [-2.64829671,  0.31184914],\n",
       "       [-2.19982032,  0.87283904],\n",
       "       [-2.5879864 ,  0.51356031],\n",
       "       [-2.31025622,  0.39134594],\n",
       "       [-2.54370523,  0.43299606],\n",
       "       [-3.21593942,  0.13346807],\n",
       "       [-2.30273318,  0.09870885],\n",
       "       [-2.35575405, -0.03728186],\n",
       "       [-2.50666891, -0.14601688],\n",
       "       [-2.46882007,  0.13095149],\n",
       "       [-2.56231991,  0.36771886],\n",
       "       [-2.63953472,  0.31203998],\n",
       "       [-2.63198939, -0.19696122],\n",
       "       [-2.58739848, -0.20431849],\n",
       "       [-2.4099325 ,  0.41092426],\n",
       "       [-2.64886233,  0.81336382],\n",
       "       [-2.59873675,  1.09314576],\n",
       "       [-2.63692688, -0.12132235],\n",
       "       [-2.86624165,  0.06936447],\n",
       "       [-2.62523805,  0.59937002],\n",
       "       [-2.80068412,  0.26864374],\n",
       "       [-2.98050204, -0.48795834],\n",
       "       [-2.59000631,  0.22904384],\n",
       "       [-2.77010243,  0.26352753],\n",
       "       [-2.84936871, -0.94096057],\n",
       "       [-2.99740655, -0.34192606],\n",
       "       [-2.40561449,  0.18887143],\n",
       "       [-2.20948924,  0.43666314],\n",
       "       [-2.71445143, -0.2502082 ],\n",
       "       [-2.53814826,  0.50377114],\n",
       "       [-2.83946217, -0.22794557],\n",
       "       [-2.54308575,  0.57941002],\n",
       "       [-2.70335978,  0.10770608],\n",
       "       [ 1.28482569,  0.68516047],\n",
       "       [ 0.93248853,  0.31833364],\n",
       "       [ 1.46430232,  0.50426282],\n",
       "       [ 0.18331772, -0.82795901],\n",
       "       [ 1.08810326,  0.07459068],\n",
       "       [ 0.64166908, -0.41824687],\n",
       "       [ 1.09506066,  0.28346827],\n",
       "       [-0.74912267, -1.00489096],\n",
       "       [ 1.04413183,  0.2283619 ],\n",
       "       [-0.0087454 , -0.72308191],\n",
       "       [-0.50784088, -1.26597119],\n",
       "       [ 0.51169856, -0.10398124],\n",
       "       [ 0.26497651, -0.55003646],\n",
       "       [ 0.98493451, -0.12481785],\n",
       "       [-0.17392537, -0.25485421],\n",
       "       [ 0.92786078,  0.46717949],\n",
       "       [ 0.66028376, -0.35296967],\n",
       "       [ 0.23610499, -0.33361077],\n",
       "       [ 0.94473373, -0.54314555],\n",
       "       [ 0.04522698, -0.58383438],\n",
       "       [ 1.11628318, -0.08461685],\n",
       "       [ 0.35788842, -0.06892503],\n",
       "       [ 1.29818388, -0.32778731],\n",
       "       [ 0.92172892, -0.18273779],\n",
       "       [ 0.71485333,  0.14905594],\n",
       "       [ 0.90017437,  0.32850447],\n",
       "       [ 1.33202444,  0.24444088],\n",
       "       [ 1.55780216,  0.26749545],\n",
       "       [ 0.81329065, -0.1633503 ],\n",
       "       [-0.30558378, -0.36826219],\n",
       "       [-0.06812649, -0.70517213],\n",
       "       [-0.18962247, -0.68028676],\n",
       "       [ 0.13642871, -0.31403244],\n",
       "       [ 1.38002644, -0.42095429],\n",
       "       [ 0.58800644, -0.48428742],\n",
       "       [ 0.80685831,  0.19418231],\n",
       "       [ 1.22069088,  0.40761959],\n",
       "       [ 0.81509524, -0.37203706],\n",
       "       [ 0.24595768, -0.2685244 ],\n",
       "       [ 0.16641322, -0.68192672],\n",
       "       [ 0.46480029, -0.67071154],\n",
       "       [ 0.8908152 , -0.03446444],\n",
       "       [ 0.23054802, -0.40438585],\n",
       "       [-0.70453176, -1.01224823],\n",
       "       [ 0.35698149, -0.50491009],\n",
       "       [ 0.33193448, -0.21265468],\n",
       "       [ 0.37621565, -0.29321893],\n",
       "       [ 0.64257601,  0.01773819],\n",
       "       [-0.90646986, -0.75609337],\n",
       "       [ 0.29900084, -0.34889781],\n",
       "       [ 2.53119273, -0.00984911],\n",
       "       [ 1.41523588, -0.57491635],\n",
       "       [ 2.61667602,  0.34390315],\n",
       "       [ 1.97153105, -0.1797279 ],\n",
       "       [ 2.35000592, -0.04026095],\n",
       "       [ 3.39703874,  0.55083667],\n",
       "       [ 0.52123224, -1.19275873],\n",
       "       [ 2.93258707,  0.3555    ],\n",
       "       [ 2.32122882, -0.2438315 ],\n",
       "       [ 2.91675097,  0.78279195],\n",
       "       [ 1.66177415,  0.24222841],\n",
       "       [ 1.80340195, -0.21563762],\n",
       "       [ 2.1655918 ,  0.21627559],\n",
       "       [ 1.34616358, -0.77681835],\n",
       "       [ 1.58592822, -0.53964071],\n",
       "       [ 1.90445637,  0.11925069],\n",
       "       [ 1.94968906,  0.04194326],\n",
       "       [ 3.48705536,  1.17573933],\n",
       "       [ 3.79564542,  0.25732297],\n",
       "       [ 1.30079171, -0.76114964],\n",
       "       [ 2.42781791,  0.37819601],\n",
       "       [ 1.19900111, -0.60609153],\n",
       "       [ 3.49992004,  0.4606741 ],\n",
       "       [ 1.38876613, -0.20439933],\n",
       "       [ 2.2754305 ,  0.33499061],\n",
       "       [ 2.61409047,  0.56090136],\n",
       "       [ 1.25850816, -0.17970479],\n",
       "       [ 1.29113206, -0.11666865],\n",
       "       [ 2.12360872, -0.20972948],\n",
       "       [ 2.38800302,  0.4646398 ],\n",
       "       [ 2.84167278,  0.37526917],\n",
       "       [ 3.23067366,  1.37416509],\n",
       "       [ 2.15943764, -0.21727758],\n",
       "       [ 1.44416124, -0.14341341],\n",
       "       [ 1.78129481, -0.49990168],\n",
       "       [ 3.07649993,  0.68808568],\n",
       "       [ 2.14424331,  0.1400642 ],\n",
       "       [ 1.90509815,  0.04930053],\n",
       "       [ 1.16932634, -0.16499026],\n",
       "       [ 2.10761114,  0.37228787],\n",
       "       [ 2.31415471,  0.18365128],\n",
       "       [ 1.9222678 ,  0.40920347],\n",
       "       [ 1.41523588, -0.57491635],\n",
       "       [ 2.56301338,  0.2778626 ],\n",
       "       [ 2.41874618,  0.3047982 ],\n",
       "       [ 1.94410979,  0.1875323 ],\n",
       "       [ 1.52716661, -0.37531698],\n",
       "       [ 1.76434572,  0.07885885],\n",
       "       [ 1.90094161,  0.11662796],\n",
       "       [ 1.39018886, -0.28266094]])"
      ]
     },
     "execution_count": 139,
     "metadata": {},
     "output_type": "execute_result"
    }
   ],
   "source": [
    "X_2"
   ]
  },
  {
   "cell_type": "code",
   "execution_count": 141,
   "metadata": {},
   "outputs": [
    {
     "data": {
      "image/png": "[encoded data removed]",
      "text/plain": [
       "<Figure size 432x288 with 1 Axes>"
      ]
     },
     "metadata": {
      "needs_background": "light"
     },
     "output_type": "display_data"
    }
   ],
   "source": [
    "sns.scatterplot(X_2[:,0],X_[:,1])\n",
    "plt.grid()"
   ]
  },
  {
   "cell_type": "code",
   "execution_count": 143,
   "metadata": {},
   "outputs": [
    {
     "data": {
      "image/png": "[encoded data removed]",
      "text/plain": [
       "<Figure size 432x288 with 1 Axes>"
      ]
     },
     "metadata": {
      "needs_background": "light"
     },
     "output_type": "display_data"
    }
   ],
   "source": [
    "sns.scatterplot(X_2[:,0],X_[:,1], hue=y_)\n",
    "plt.grid()"
   ]
  },
  {
   "cell_type": "code",
   "execution_count": 179,
   "metadata": {
    "scrolled": true
   },
   "outputs": [
    {
     "data": {
      "text/plain": [
       "array([0.18831716, 0.15066986, 0.07268998, 0.06034755, 0.05140409,\n",
       "       0.0303295 , 0.02475533, 0.02107427, 0.0203735 , 0.01916666,\n",
       "       0.01615009, 0.01504795, 0.01231833, 0.01079173, 0.01052913,\n",
       "       0.00978118, 0.00921124, 0.00878478, 0.008243  , 0.00713982,\n",
       "       0.00684673, 0.00655545, 0.00613409, 0.00589635, 0.00542287,\n",
       "       0.00529274, 0.00505279, 0.0047892 , 0.00458216, 0.00423686,\n",
       "       0.00388917, 0.00371458, 0.00360875, 0.00349722, 0.00340279,\n",
       "       0.00321915, 0.00317491, 0.00301396, 0.00291113, 0.00279419,\n",
       "       0.0027767 , 0.00272101, 0.00259859, 0.00255515, 0.00238043,\n",
       "       0.00235594, 0.00233285, 0.00224394, 0.00219193, 0.00216221,\n",
       "       0.00210703, 0.00204842, 0.00198605, 0.00193043, 0.00192493,\n",
       "       0.00188259, 0.00178824, 0.00176901, 0.00172966, 0.00171373,\n",
       "       0.00163413, 0.00159547, 0.00156317, 0.00152295, 0.00150198,\n",
       "       0.00145881, 0.00143406, 0.00141542, 0.00139657, 0.00139133,\n",
       "       0.00133426, 0.00130172, 0.00129649, 0.00126016, 0.00123281,\n",
       "       0.00122114, 0.00120225, 0.00118248, 0.00116855, 0.00114406,\n",
       "       0.00114088, 0.00110853, 0.00110711, 0.00106466, 0.00105408,\n",
       "       0.00102519, 0.0010185 , 0.00099919, 0.00097787, 0.00096996,\n",
       "       0.00095685, 0.0009374 , 0.00091827, 0.00090186, 0.00088436,\n",
       "       0.00088145, 0.00086051, 0.00084081, 0.00083628, 0.00081681,\n",
       "       0.00081102, 0.00079222, 0.00077837, 0.00076477, 0.00075   ,\n",
       "       0.00074411, 0.00072627, 0.00071535, 0.00070528, 0.00069091,\n",
       "       0.00068842, 0.00068186, 0.00066866, 0.0006648 , 0.00065595,\n",
       "       0.00064876, 0.00063621, 0.00062037, 0.00061302, 0.00060407,\n",
       "       0.00059747, 0.0005875 , 0.00057376, 0.00056355, 0.00056244,\n",
       "       0.00054973, 0.00054522, 0.00054188, 0.00053682, 0.00052241,\n",
       "       0.00051901, 0.00051535, 0.00051005, 0.00050218, 0.00049443,\n",
       "       0.00048353, 0.00048165, 0.00047028, 0.00046755, 0.00046452,\n",
       "       0.00045686, 0.00045498, 0.00044684, 0.00044465, 0.00043735,\n",
       "       0.00042844, 0.00042228, 0.00041982, 0.00041796, 0.00041119,\n",
       "       0.00040718, 0.00040419, 0.00040123, 0.00039482, 0.00039081,\n",
       "       0.00038694, 0.00038127, 0.0003701 , 0.00036634, 0.00036191,\n",
       "       0.00035979, 0.00035734, 0.00035173, 0.00035048, 0.00034353,\n",
       "       0.00033951, 0.00033732, 0.00033314, 0.00032722, 0.00032336,\n",
       "       0.00031929, 0.0003145 , 0.00031391, 0.00030987, 0.00030847,\n",
       "       0.00030617, 0.00030349, 0.00029874, 0.0002959 , 0.00029273,\n",
       "       0.00029159, 0.00028861, 0.00027993, 0.0002783 , 0.00027531,\n",
       "       0.00027109, 0.00026981, 0.00026576, 0.00026297, 0.00025604,\n",
       "       0.000253  , 0.00024947, 0.00024706, 0.00024378, 0.00024149,\n",
       "       0.000238  , 0.00023761, 0.00023281, 0.00023043, 0.00022971],\n",
       "      dtype=float32)"
      ]
     },
     "execution_count": 179,
     "metadata": {},
     "output_type": "execute_result"
    }
   ],
   "source": [
    "pca.explained_variance_ratio_"
   ]
  },
  {
   "cell_type": "code",
   "execution_count": 180,
   "metadata": {},
   "outputs": [
    {
     "data": {
      "text/plain": [
       "0.9692016"
      ]
     },
     "execution_count": 180,
     "metadata": {},
     "output_type": "execute_result"
    }
   ],
   "source": [
    "pca.explained_variance_ratio_.sum()"
   ]
  },
  {
   "cell_type": "code",
   "execution_count": 181,
   "metadata": {},
   "outputs": [
    {
     "data": {
      "text/plain": [
       "(1288, 1850)"
      ]
     },
     "execution_count": 181,
     "metadata": {},
     "output_type": "execute_result"
    }
   ],
   "source": [
    "X = dados.data\n",
    "y = dados.target\n",
    "imagens = dados.images\n",
    "X.shape"
   ]
  },
  {
   "cell_type": "code",
   "execution_count": 182,
   "metadata": {},
   "outputs": [
    {
     "data": {
      "text/plain": [
       "(50, 37)"
      ]
     },
     "execution_count": 182,
     "metadata": {},
     "output_type": "execute_result"
    }
   ],
   "source": [
    "imagens[0].shape"
   ]
  },
  {
   "cell_type": "code",
   "execution_count": 183,
   "metadata": {},
   "outputs": [],
   "source": [
    "pca = PCA(n_components=200)"
   ]
  },
  {
   "cell_type": "code",
   "execution_count": 193,
   "metadata": {},
   "outputs": [],
   "source": [
    "x_pca = pca.fit_transform(X)"
   ]
  },
  {
   "cell_type": "code",
   "execution_count": 194,
   "metadata": {},
   "outputs": [
    {
     "data": {
      "text/plain": [
       "array([[254.      , 254.      , 251.66667 , ...,  87.333336,  88.666664,\n",
       "         86.666664],\n",
       "       [ 39.666668,  50.333332,  47.      , ..., 117.666664, 115.      ,\n",
       "        133.66667 ],\n",
       "       [ 89.333336, 104.      , 126.      , ..., 175.33333 , 183.33333 ,\n",
       "        183.      ],\n",
       "       ...,\n",
       "       [ 86.      ,  80.333336,  74.666664, ...,  44.      ,  49.666668,\n",
       "         44.666668],\n",
       "       [ 50.333332,  65.666664,  88.      , ..., 197.      , 179.33333 ,\n",
       "        166.33333 ],\n",
       "       [ 30.      ,  27.      ,  32.666668, ...,  35.      ,  35.333332,\n",
       "         61.      ]], dtype=float32)"
      ]
     },
     "execution_count": 194,
     "metadata": {},
     "output_type": "execute_result"
    }
   ],
   "source": [
    "X"
   ]
  },
  {
   "cell_type": "code",
   "execution_count": 195,
   "metadata": {},
   "outputs": [
    {
     "data": {
      "text/plain": [
       "(1288, 200)"
      ]
     },
     "execution_count": 195,
     "metadata": {},
     "output_type": "execute_result"
    }
   ],
   "source": [
    "x_.shape"
   ]
  },
  {
   "cell_type": "code",
   "execution_count": 196,
   "metadata": {
    "scrolled": true
   },
   "outputs": [
    {
     "data": {
      "text/plain": [
       "array([0.18831746, 0.15066993, 0.07269002, 0.06034757, 0.05140403,\n",
       "       0.03032951, 0.02475533, 0.02107429, 0.02037354, 0.01916666,\n",
       "       0.01615012, 0.01504797, 0.01231835, 0.01079173, 0.01052913,\n",
       "       0.00978117, 0.00921123, 0.00878477, 0.00824299, 0.00713981,\n",
       "       0.00684673, 0.00655544, 0.0061341 , 0.00589635, 0.00542287,\n",
       "       0.00529274, 0.00505279, 0.00478921, 0.00458216, 0.00423686,\n",
       "       0.00388917, 0.00371457, 0.00360875, 0.00349722, 0.00340279,\n",
       "       0.00321915, 0.00317491, 0.00301396, 0.00291113, 0.00279419,\n",
       "       0.0027767 , 0.00272101, 0.00259859, 0.00255515, 0.00238043,\n",
       "       0.00235594, 0.00233285, 0.00224394, 0.00219193, 0.00216221,\n",
       "       0.00210703, 0.00204842, 0.00198605, 0.00193043, 0.00192494,\n",
       "       0.00188259, 0.00178824, 0.00176901, 0.00172966, 0.00171373,\n",
       "       0.00163413, 0.00159547, 0.00156317, 0.00152295, 0.00150198,\n",
       "       0.00145881, 0.00143406, 0.00141542, 0.00139657, 0.00139133,\n",
       "       0.00133426, 0.00130172, 0.00129649, 0.00126016, 0.00123281,\n",
       "       0.00122114, 0.00120224, 0.00118248, 0.00116855, 0.00114406,\n",
       "       0.00114088, 0.00110853, 0.00110711, 0.00106466, 0.00105408,\n",
       "       0.00102519, 0.0010185 , 0.00099919, 0.00097787, 0.00096996,\n",
       "       0.00095685, 0.0009374 , 0.00091827, 0.00090186, 0.00088436,\n",
       "       0.00088145, 0.00086051, 0.00084081, 0.00083628, 0.00081681,\n",
       "       0.00081102, 0.00079222, 0.00077838, 0.00076476, 0.00074999,\n",
       "       0.0007441 , 0.00072627, 0.00071535, 0.00070528, 0.00069092,\n",
       "       0.00068841, 0.00068185, 0.00066864, 0.00066481, 0.00065594,\n",
       "       0.00064876, 0.0006362 , 0.0006204 , 0.00061302, 0.00060409,\n",
       "       0.00059747, 0.00058746, 0.00057368, 0.00056348, 0.00056236,\n",
       "       0.00054976, 0.00054526, 0.00054189, 0.00053665, 0.00052241,\n",
       "       0.00051902, 0.00051536, 0.00051002, 0.00050209, 0.00049441,\n",
       "       0.00048351, 0.00048149, 0.00047046, 0.00046776, 0.00046429,\n",
       "       0.00045679, 0.00045485, 0.00044678, 0.00044465, 0.00043709,\n",
       "       0.00042844, 0.00042206, 0.00042012, 0.00041721, 0.00041107,\n",
       "       0.00040725, 0.0004043 , 0.00040138, 0.00039485, 0.00039112,\n",
       "       0.00038713, 0.00038062, 0.00037015, 0.00036613, 0.00036135,\n",
       "       0.00036076, 0.00035679, 0.00035188, 0.00035026, 0.00034348,\n",
       "       0.00033927, 0.00033686, 0.00033233, 0.00032832, 0.00032331,\n",
       "       0.00032083, 0.00031674, 0.000314  , 0.00031128, 0.00030742,\n",
       "       0.00030592, 0.00030324, 0.00029749, 0.00029638, 0.00029337,\n",
       "       0.0002868 , 0.00028531, 0.00027979, 0.00027763, 0.00027323,\n",
       "       0.00027118, 0.00026843, 0.00026724, 0.00026145, 0.00025652,\n",
       "       0.00025466, 0.00025318, 0.00024962, 0.00024581, 0.00024275,\n",
       "       0.00024014, 0.00023621, 0.00023398, 0.00022973, 0.00022726],\n",
       "      dtype=float32)"
      ]
     },
     "execution_count": 196,
     "metadata": {},
     "output_type": "execute_result"
    }
   ],
   "source": [
    "pca.explained_variance_ratio_"
   ]
  },
  {
   "cell_type": "code",
   "execution_count": 197,
   "metadata": {},
   "outputs": [
    {
     "data": {
      "text/plain": [
       "0.9692013"
      ]
     },
     "execution_count": 197,
     "metadata": {},
     "output_type": "execute_result"
    }
   ],
   "source": [
    "pca.explained_variance_ratio_.sum()"
   ]
  },
  {
   "cell_type": "code",
   "execution_count": 198,
   "metadata": {},
   "outputs": [],
   "source": [
    "x_treino, x_teste, y_treino, y_teste = train_test_split(x_pca,y)"
   ]
  },
  {
   "cell_type": "code",
   "execution_count": 199,
   "metadata": {},
   "outputs": [
    {
     "name": "stdout",
     "output_type": "stream",
     "text": [
      "0.6273291925465838 \n",
      "-----------------\n",
      "              precision    recall  f1-score   support\n",
      "\n",
      "           0       0.37      0.33      0.35        21\n",
      "           1       0.63      0.62      0.62        55\n",
      "           2       0.44      0.63      0.52        30\n",
      "           3       0.86      0.80      0.83       135\n",
      "           4       0.33      0.29      0.31        24\n",
      "           5       0.62      0.40      0.49        25\n",
      "           6       0.40      0.53      0.45        32\n",
      "\n",
      "   micro avg       0.63      0.63      0.63       322\n",
      "   macro avg       0.52      0.52      0.51       322\n",
      "weighted avg       0.64      0.63      0.63       322\n",
      "\n"
     ]
    }
   ],
   "source": [
    "modelo.fit(x_treino, y_treino)\n",
    "y_pred = modelo.predict(x_teste)\n",
    "print(accuracy_score(y_teste, y_pred),'\\n-----------------')\n",
    "print(classification_report(y_teste, y_pred))"
   ]
  },
  {
   "cell_type": "code",
   "execution_count": null,
   "metadata": {},
   "outputs": [],
   "source": []
  }
 ],
 "metadata": {
  "kernelspec": {
   "display_name": "Python 3",
   "language": "python",
   "name": "python3"
  },
  "language_info": {
   "codemirror_mode": {
    "name": "ipython",
    "version": 3
   },
   "file_extension": ".py",
   "mimetype": "text/x-python",
   "name": "python",
   "nbconvert_exporter": "python",
   "pygments_lexer": "ipython3",
   "version": "3.7.1"
  }
 },
 "nbformat": 4,
 "nbformat_minor": 2
}
