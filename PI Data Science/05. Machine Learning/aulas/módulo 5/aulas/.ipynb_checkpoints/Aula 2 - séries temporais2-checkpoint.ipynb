{
 "cells": [
  {
   "cell_type": "markdown",
   "metadata": {},
   "source": [
    "# Séries temporais 2\n",
    "\n",
    "Na aula de hoje, vamos explorar os seguintes tópicos em Python:\n",
    "\n",
    "- 2) Autocorrelação;\n",
    "- 3) Modelos AR;\n",
    "- 4) Modelos MA;\n",
    "- 5) Modelos ARMA;\n",
    "- 6) Modelos ARIMA;\n",
    "- 7) Dá pra melhorar?"
   ]
  },
  {
   "cell_type": "markdown",
   "metadata": {},
   "source": [
    "______"
   ]
  },
  {
   "cell_type": "code",
   "execution_count": 1,
   "metadata": {
    "ExecuteTime": {
     "end_time": "2020-04-26T12:56:31.472023Z",
     "start_time": "2020-04-26T12:56:29.647524Z"
    },
    "hidden": true
   },
   "outputs": [],
   "source": [
    "import numpy as np\n",
    "import pandas as pd\n",
    "import matplotlib.pyplot as plt\n",
    "import datetime as dt\n",
    "import seaborn as sns\n",
    "\n",
    "%matplotlib inline\n",
    "\n",
    "# pra ignorar alguns avisos que podem aparecer\n",
    "import warnings\n",
    "warnings.filterwarnings(\"ignore\")"
   ]
  },
  {
   "cell_type": "markdown",
   "metadata": {},
   "source": [
    "Em nossos exemplos, vamos usar a seguinte série temporal:"
   ]
  },
  {
   "cell_type": "code",
   "execution_count": 4,
   "metadata": {},
   "outputs": [
    {
     "data": {
      "text/plain": [
       "['anagrams',\n",
       " 'anscombe',\n",
       " 'attention',\n",
       " 'brain_networks',\n",
       " 'car_crashes',\n",
       " 'diamonds',\n",
       " 'dots',\n",
       " 'exercise',\n",
       " 'flights',\n",
       " 'fmri',\n",
       " 'gammas',\n",
       " 'geyser',\n",
       " 'iris',\n",
       " 'mpg',\n",
       " 'penguins',\n",
       " 'planets',\n",
       " 'tips',\n",
       " 'titanic']"
      ]
     },
     "execution_count": 4,
     "metadata": {},
     "output_type": "execute_result"
    }
   ],
   "source": [
    "sns.get_dataset_names()"
   ]
  },
  {
   "cell_type": "code",
   "execution_count": 13,
   "metadata": {},
   "outputs": [],
   "source": [
    "df_flights = sns.load_dataset('flights')"
   ]
  },
  {
   "cell_type": "code",
   "execution_count": 14,
   "metadata": {},
   "outputs": [
    {
     "data": {
      "text/plain": [
       "144"
      ]
     },
     "execution_count": 14,
     "metadata": {},
     "output_type": "execute_result"
    }
   ],
   "source": [
    "len(df_flights)"
   ]
  },
  {
   "cell_type": "code",
   "execution_count": 15,
   "metadata": {},
   "outputs": [
    {
     "data": {
      "text/plain": [
       "144"
      ]
     },
     "execution_count": 15,
     "metadata": {},
     "output_type": "execute_result"
    }
   ],
   "source": [
    "df_flights.shape[0]"
   ]
  },
  {
   "cell_type": "code",
   "execution_count": 16,
   "metadata": {},
   "outputs": [
    {
     "data": {
      "text/plain": [
       "DatetimeIndex(['1949-01-31', '1949-02-28', '1949-03-31', '1949-04-30',\n",
       "               '1949-05-31', '1949-06-30', '1949-07-31', '1949-08-31',\n",
       "               '1949-09-30', '1949-10-31',\n",
       "               ...\n",
       "               '1960-03-31', '1960-04-30', '1960-05-31', '1960-06-30',\n",
       "               '1960-07-31', '1960-08-31', '1960-09-30', '1960-10-31',\n",
       "               '1960-11-30', '1960-12-31'],\n",
       "              dtype='datetime64[ns]', length=144, freq='M')"
      ]
     },
     "execution_count": 16,
     "metadata": {},
     "output_type": "execute_result"
    }
   ],
   "source": [
    "pd.date_range('1949-01', periods=len(df_flights), freq='M')"
   ]
  },
  {
   "cell_type": "code",
   "execution_count": 17,
   "metadata": {},
   "outputs": [
    {
     "data": {
      "text/html": [
       "<div>\n",
       "<style scoped>\n",
       "    .dataframe tbody tr th:only-of-type {\n",
       "        vertical-align: middle;\n",
       "    }\n",
       "\n",
       "    .dataframe tbody tr th {\n",
       "        vertical-align: top;\n",
       "    }\n",
       "\n",
       "    .dataframe thead th {\n",
       "        text-align: right;\n",
       "    }\n",
       "</style>\n",
       "<table border=\"1\" class=\"dataframe\">\n",
       "  <thead>\n",
       "    <tr style=\"text-align: right;\">\n",
       "      <th></th>\n",
       "      <th>year</th>\n",
       "      <th>month</th>\n",
       "      <th>passengers</th>\n",
       "    </tr>\n",
       "  </thead>\n",
       "  <tbody>\n",
       "    <tr>\n",
       "      <th>0</th>\n",
       "      <td>1949</td>\n",
       "      <td>Jan</td>\n",
       "      <td>112</td>\n",
       "    </tr>\n",
       "    <tr>\n",
       "      <th>1</th>\n",
       "      <td>1949</td>\n",
       "      <td>Feb</td>\n",
       "      <td>118</td>\n",
       "    </tr>\n",
       "    <tr>\n",
       "      <th>2</th>\n",
       "      <td>1949</td>\n",
       "      <td>Mar</td>\n",
       "      <td>132</td>\n",
       "    </tr>\n",
       "    <tr>\n",
       "      <th>3</th>\n",
       "      <td>1949</td>\n",
       "      <td>Apr</td>\n",
       "      <td>129</td>\n",
       "    </tr>\n",
       "    <tr>\n",
       "      <th>4</th>\n",
       "      <td>1949</td>\n",
       "      <td>May</td>\n",
       "      <td>121</td>\n",
       "    </tr>\n",
       "    <tr>\n",
       "      <th>...</th>\n",
       "      <td>...</td>\n",
       "      <td>...</td>\n",
       "      <td>...</td>\n",
       "    </tr>\n",
       "    <tr>\n",
       "      <th>139</th>\n",
       "      <td>1960</td>\n",
       "      <td>Aug</td>\n",
       "      <td>606</td>\n",
       "    </tr>\n",
       "    <tr>\n",
       "      <th>140</th>\n",
       "      <td>1960</td>\n",
       "      <td>Sep</td>\n",
       "      <td>508</td>\n",
       "    </tr>\n",
       "    <tr>\n",
       "      <th>141</th>\n",
       "      <td>1960</td>\n",
       "      <td>Oct</td>\n",
       "      <td>461</td>\n",
       "    </tr>\n",
       "    <tr>\n",
       "      <th>142</th>\n",
       "      <td>1960</td>\n",
       "      <td>Nov</td>\n",
       "      <td>390</td>\n",
       "    </tr>\n",
       "    <tr>\n",
       "      <th>143</th>\n",
       "      <td>1960</td>\n",
       "      <td>Dec</td>\n",
       "      <td>432</td>\n",
       "    </tr>\n",
       "  </tbody>\n",
       "</table>\n",
       "<p>144 rows × 3 columns</p>\n",
       "</div>"
      ],
      "text/plain": [
       "     year month  passengers\n",
       "0    1949   Jan         112\n",
       "1    1949   Feb         118\n",
       "2    1949   Mar         132\n",
       "3    1949   Apr         129\n",
       "4    1949   May         121\n",
       "..    ...   ...         ...\n",
       "139  1960   Aug         606\n",
       "140  1960   Sep         508\n",
       "141  1960   Oct         461\n",
       "142  1960   Nov         390\n",
       "143  1960   Dec         432\n",
       "\n",
       "[144 rows x 3 columns]"
      ]
     },
     "execution_count": 17,
     "metadata": {},
     "output_type": "execute_result"
    }
   ],
   "source": [
    "df_flights"
   ]
  },
  {
   "cell_type": "code",
   "execution_count": 19,
   "metadata": {},
   "outputs": [],
   "source": [
    "df_flights.index = pd.date_range('1949-01', periods=len(df_flights), freq='M')"
   ]
  },
  {
   "cell_type": "code",
   "execution_count": 20,
   "metadata": {},
   "outputs": [
    {
     "data": {
      "text/html": [
       "<div>\n",
       "<style scoped>\n",
       "    .dataframe tbody tr th:only-of-type {\n",
       "        vertical-align: middle;\n",
       "    }\n",
       "\n",
       "    .dataframe tbody tr th {\n",
       "        vertical-align: top;\n",
       "    }\n",
       "\n",
       "    .dataframe thead th {\n",
       "        text-align: right;\n",
       "    }\n",
       "</style>\n",
       "<table border=\"1\" class=\"dataframe\">\n",
       "  <thead>\n",
       "    <tr style=\"text-align: right;\">\n",
       "      <th></th>\n",
       "      <th>year</th>\n",
       "      <th>month</th>\n",
       "      <th>passengers</th>\n",
       "    </tr>\n",
       "  </thead>\n",
       "  <tbody>\n",
       "    <tr>\n",
       "      <th>1949-01-31</th>\n",
       "      <td>1949</td>\n",
       "      <td>Jan</td>\n",
       "      <td>112</td>\n",
       "    </tr>\n",
       "    <tr>\n",
       "      <th>1949-02-28</th>\n",
       "      <td>1949</td>\n",
       "      <td>Feb</td>\n",
       "      <td>118</td>\n",
       "    </tr>\n",
       "    <tr>\n",
       "      <th>1949-03-31</th>\n",
       "      <td>1949</td>\n",
       "      <td>Mar</td>\n",
       "      <td>132</td>\n",
       "    </tr>\n",
       "    <tr>\n",
       "      <th>1949-04-30</th>\n",
       "      <td>1949</td>\n",
       "      <td>Apr</td>\n",
       "      <td>129</td>\n",
       "    </tr>\n",
       "    <tr>\n",
       "      <th>1949-05-31</th>\n",
       "      <td>1949</td>\n",
       "      <td>May</td>\n",
       "      <td>121</td>\n",
       "    </tr>\n",
       "    <tr>\n",
       "      <th>...</th>\n",
       "      <td>...</td>\n",
       "      <td>...</td>\n",
       "      <td>...</td>\n",
       "    </tr>\n",
       "    <tr>\n",
       "      <th>1960-08-31</th>\n",
       "      <td>1960</td>\n",
       "      <td>Aug</td>\n",
       "      <td>606</td>\n",
       "    </tr>\n",
       "    <tr>\n",
       "      <th>1960-09-30</th>\n",
       "      <td>1960</td>\n",
       "      <td>Sep</td>\n",
       "      <td>508</td>\n",
       "    </tr>\n",
       "    <tr>\n",
       "      <th>1960-10-31</th>\n",
       "      <td>1960</td>\n",
       "      <td>Oct</td>\n",
       "      <td>461</td>\n",
       "    </tr>\n",
       "    <tr>\n",
       "      <th>1960-11-30</th>\n",
       "      <td>1960</td>\n",
       "      <td>Nov</td>\n",
       "      <td>390</td>\n",
       "    </tr>\n",
       "    <tr>\n",
       "      <th>1960-12-31</th>\n",
       "      <td>1960</td>\n",
       "      <td>Dec</td>\n",
       "      <td>432</td>\n",
       "    </tr>\n",
       "  </tbody>\n",
       "</table>\n",
       "<p>144 rows × 3 columns</p>\n",
       "</div>"
      ],
      "text/plain": [
       "            year month  passengers\n",
       "1949-01-31  1949   Jan         112\n",
       "1949-02-28  1949   Feb         118\n",
       "1949-03-31  1949   Mar         132\n",
       "1949-04-30  1949   Apr         129\n",
       "1949-05-31  1949   May         121\n",
       "...          ...   ...         ...\n",
       "1960-08-31  1960   Aug         606\n",
       "1960-09-30  1960   Sep         508\n",
       "1960-10-31  1960   Oct         461\n",
       "1960-11-30  1960   Nov         390\n",
       "1960-12-31  1960   Dec         432\n",
       "\n",
       "[144 rows x 3 columns]"
      ]
     },
     "execution_count": 20,
     "metadata": {},
     "output_type": "execute_result"
    }
   ],
   "source": [
    "df_flights"
   ]
  },
  {
   "cell_type": "markdown",
   "metadata": {},
   "source": [
    "## Outra opção pra criar os índices..."
   ]
  },
  {
   "cell_type": "code",
   "execution_count": 22,
   "metadata": {},
   "outputs": [],
   "source": [
    "df_flights = sns.load_dataset('flights')"
   ]
  },
  {
   "cell_type": "code",
   "execution_count": 24,
   "metadata": {},
   "outputs": [
    {
     "name": "stdout",
     "output_type": "stream",
     "text": [
      "<class 'pandas.core.frame.DataFrame'>\n",
      "RangeIndex: 144 entries, 0 to 143\n",
      "Data columns (total 3 columns):\n",
      " #   Column      Non-Null Count  Dtype   \n",
      "---  ------      --------------  -----   \n",
      " 0   year        144 non-null    int64   \n",
      " 1   month       144 non-null    category\n",
      " 2   passengers  144 non-null    int64   \n",
      "dtypes: category(1), int64(2)\n",
      "memory usage: 2.9 KB\n"
     ]
    }
   ],
   "source": [
    "df_flights.info()"
   ]
  },
  {
   "cell_type": "code",
   "execution_count": 25,
   "metadata": {
    "scrolled": false
   },
   "outputs": [
    {
     "data": {
      "text/html": [
       "<div>\n",
       "<style scoped>\n",
       "    .dataframe tbody tr th:only-of-type {\n",
       "        vertical-align: middle;\n",
       "    }\n",
       "\n",
       "    .dataframe tbody tr th {\n",
       "        vertical-align: top;\n",
       "    }\n",
       "\n",
       "    .dataframe thead th {\n",
       "        text-align: right;\n",
       "    }\n",
       "</style>\n",
       "<table border=\"1\" class=\"dataframe\">\n",
       "  <thead>\n",
       "    <tr style=\"text-align: right;\">\n",
       "      <th></th>\n",
       "      <th>year</th>\n",
       "      <th>month</th>\n",
       "      <th>passengers</th>\n",
       "    </tr>\n",
       "  </thead>\n",
       "  <tbody>\n",
       "    <tr>\n",
       "      <th>0</th>\n",
       "      <td>1949</td>\n",
       "      <td>Jan</td>\n",
       "      <td>112</td>\n",
       "    </tr>\n",
       "    <tr>\n",
       "      <th>1</th>\n",
       "      <td>1949</td>\n",
       "      <td>Feb</td>\n",
       "      <td>118</td>\n",
       "    </tr>\n",
       "    <tr>\n",
       "      <th>2</th>\n",
       "      <td>1949</td>\n",
       "      <td>Mar</td>\n",
       "      <td>132</td>\n",
       "    </tr>\n",
       "    <tr>\n",
       "      <th>3</th>\n",
       "      <td>1949</td>\n",
       "      <td>Apr</td>\n",
       "      <td>129</td>\n",
       "    </tr>\n",
       "    <tr>\n",
       "      <th>4</th>\n",
       "      <td>1949</td>\n",
       "      <td>May</td>\n",
       "      <td>121</td>\n",
       "    </tr>\n",
       "    <tr>\n",
       "      <th>...</th>\n",
       "      <td>...</td>\n",
       "      <td>...</td>\n",
       "      <td>...</td>\n",
       "    </tr>\n",
       "    <tr>\n",
       "      <th>139</th>\n",
       "      <td>1960</td>\n",
       "      <td>Aug</td>\n",
       "      <td>606</td>\n",
       "    </tr>\n",
       "    <tr>\n",
       "      <th>140</th>\n",
       "      <td>1960</td>\n",
       "      <td>Sep</td>\n",
       "      <td>508</td>\n",
       "    </tr>\n",
       "    <tr>\n",
       "      <th>141</th>\n",
       "      <td>1960</td>\n",
       "      <td>Oct</td>\n",
       "      <td>461</td>\n",
       "    </tr>\n",
       "    <tr>\n",
       "      <th>142</th>\n",
       "      <td>1960</td>\n",
       "      <td>Nov</td>\n",
       "      <td>390</td>\n",
       "    </tr>\n",
       "    <tr>\n",
       "      <th>143</th>\n",
       "      <td>1960</td>\n",
       "      <td>Dec</td>\n",
       "      <td>432</td>\n",
       "    </tr>\n",
       "  </tbody>\n",
       "</table>\n",
       "<p>144 rows × 3 columns</p>\n",
       "</div>"
      ],
      "text/plain": [
       "     year month  passengers\n",
       "0    1949   Jan         112\n",
       "1    1949   Feb         118\n",
       "2    1949   Mar         132\n",
       "3    1949   Apr         129\n",
       "4    1949   May         121\n",
       "..    ...   ...         ...\n",
       "139  1960   Aug         606\n",
       "140  1960   Sep         508\n",
       "141  1960   Oct         461\n",
       "142  1960   Nov         390\n",
       "143  1960   Dec         432\n",
       "\n",
       "[144 rows x 3 columns]"
      ]
     },
     "execution_count": 25,
     "metadata": {},
     "output_type": "execute_result"
    }
   ],
   "source": [
    "df_flights"
   ]
  },
  {
   "cell_type": "code",
   "execution_count": 36,
   "metadata": {},
   "outputs": [],
   "source": [
    "def calcula_data(row):\n",
    "    \n",
    "    year = row[\"year\"]\n",
    "    month = row[\"month\"]\n",
    "\n",
    "    string_data = f\"{month}, {year}\"\n",
    "\n",
    "    return dt.datetime.strptime(string_data, \"%b, %Y\")"
   ]
  },
  {
   "cell_type": "code",
   "execution_count": 38,
   "metadata": {},
   "outputs": [],
   "source": [
    "df_flights[\"data_dt\"] = df_flights.apply(calcula_data, axis=1)"
   ]
  },
  {
   "cell_type": "code",
   "execution_count": 42,
   "metadata": {},
   "outputs": [],
   "source": [
    "df_flights = df_flights.sort_values(\"data_dt\")"
   ]
  },
  {
   "cell_type": "code",
   "execution_count": 45,
   "metadata": {},
   "outputs": [],
   "source": [
    "df_flights = df_flights.set_index(\"data_dt\")"
   ]
  },
  {
   "cell_type": "code",
   "execution_count": 46,
   "metadata": {},
   "outputs": [
    {
     "data": {
      "text/html": [
       "<div>\n",
       "<style scoped>\n",
       "    .dataframe tbody tr th:only-of-type {\n",
       "        vertical-align: middle;\n",
       "    }\n",
       "\n",
       "    .dataframe tbody tr th {\n",
       "        vertical-align: top;\n",
       "    }\n",
       "\n",
       "    .dataframe thead th {\n",
       "        text-align: right;\n",
       "    }\n",
       "</style>\n",
       "<table border=\"1\" class=\"dataframe\">\n",
       "  <thead>\n",
       "    <tr style=\"text-align: right;\">\n",
       "      <th></th>\n",
       "      <th>year</th>\n",
       "      <th>month</th>\n",
       "      <th>passengers</th>\n",
       "    </tr>\n",
       "    <tr>\n",
       "      <th>data_dt</th>\n",
       "      <th></th>\n",
       "      <th></th>\n",
       "      <th></th>\n",
       "    </tr>\n",
       "  </thead>\n",
       "  <tbody>\n",
       "    <tr>\n",
       "      <th>1949-01-01</th>\n",
       "      <td>1949</td>\n",
       "      <td>Jan</td>\n",
       "      <td>112</td>\n",
       "    </tr>\n",
       "    <tr>\n",
       "      <th>1949-02-01</th>\n",
       "      <td>1949</td>\n",
       "      <td>Feb</td>\n",
       "      <td>118</td>\n",
       "    </tr>\n",
       "    <tr>\n",
       "      <th>1949-03-01</th>\n",
       "      <td>1949</td>\n",
       "      <td>Mar</td>\n",
       "      <td>132</td>\n",
       "    </tr>\n",
       "    <tr>\n",
       "      <th>1949-04-01</th>\n",
       "      <td>1949</td>\n",
       "      <td>Apr</td>\n",
       "      <td>129</td>\n",
       "    </tr>\n",
       "    <tr>\n",
       "      <th>1949-05-01</th>\n",
       "      <td>1949</td>\n",
       "      <td>May</td>\n",
       "      <td>121</td>\n",
       "    </tr>\n",
       "    <tr>\n",
       "      <th>...</th>\n",
       "      <td>...</td>\n",
       "      <td>...</td>\n",
       "      <td>...</td>\n",
       "    </tr>\n",
       "    <tr>\n",
       "      <th>1960-08-01</th>\n",
       "      <td>1960</td>\n",
       "      <td>Aug</td>\n",
       "      <td>606</td>\n",
       "    </tr>\n",
       "    <tr>\n",
       "      <th>1960-09-01</th>\n",
       "      <td>1960</td>\n",
       "      <td>Sep</td>\n",
       "      <td>508</td>\n",
       "    </tr>\n",
       "    <tr>\n",
       "      <th>1960-10-01</th>\n",
       "      <td>1960</td>\n",
       "      <td>Oct</td>\n",
       "      <td>461</td>\n",
       "    </tr>\n",
       "    <tr>\n",
       "      <th>1960-11-01</th>\n",
       "      <td>1960</td>\n",
       "      <td>Nov</td>\n",
       "      <td>390</td>\n",
       "    </tr>\n",
       "    <tr>\n",
       "      <th>1960-12-01</th>\n",
       "      <td>1960</td>\n",
       "      <td>Dec</td>\n",
       "      <td>432</td>\n",
       "    </tr>\n",
       "  </tbody>\n",
       "</table>\n",
       "<p>144 rows × 3 columns</p>\n",
       "</div>"
      ],
      "text/plain": [
       "            year month  passengers\n",
       "data_dt                           \n",
       "1949-01-01  1949   Jan         112\n",
       "1949-02-01  1949   Feb         118\n",
       "1949-03-01  1949   Mar         132\n",
       "1949-04-01  1949   Apr         129\n",
       "1949-05-01  1949   May         121\n",
       "...          ...   ...         ...\n",
       "1960-08-01  1960   Aug         606\n",
       "1960-09-01  1960   Sep         508\n",
       "1960-10-01  1960   Oct         461\n",
       "1960-11-01  1960   Nov         390\n",
       "1960-12-01  1960   Dec         432\n",
       "\n",
       "[144 rows x 3 columns]"
      ]
     },
     "execution_count": 46,
     "metadata": {},
     "output_type": "execute_result"
    }
   ],
   "source": [
    "df_flights"
   ]
  },
  {
   "cell_type": "code",
   "execution_count": 48,
   "metadata": {},
   "outputs": [],
   "source": [
    "# dt.datetime.strptime(\"16/08/2021\", \"%d/%m/%Y\")"
   ]
  },
  {
   "cell_type": "code",
   "execution_count": 47,
   "metadata": {},
   "outputs": [],
   "source": [
    "# dt.datetime.strptime(\"16/08/2021 16:00\", \"%d/%m/%Y %H:%M\")"
   ]
  },
  {
   "cell_type": "markdown",
   "metadata": {},
   "source": [
    "Voltando pro método inicial"
   ]
  },
  {
   "cell_type": "code",
   "execution_count": 49,
   "metadata": {},
   "outputs": [],
   "source": [
    "df_flights = sns.load_dataset('flights')\n",
    "df_flights.index = pd.date_range('1949-01', periods=len(df_flights), freq='M')"
   ]
  },
  {
   "cell_type": "code",
   "execution_count": 50,
   "metadata": {},
   "outputs": [
    {
     "data": {
      "text/html": [
       "<div>\n",
       "<style scoped>\n",
       "    .dataframe tbody tr th:only-of-type {\n",
       "        vertical-align: middle;\n",
       "    }\n",
       "\n",
       "    .dataframe tbody tr th {\n",
       "        vertical-align: top;\n",
       "    }\n",
       "\n",
       "    .dataframe thead th {\n",
       "        text-align: right;\n",
       "    }\n",
       "</style>\n",
       "<table border=\"1\" class=\"dataframe\">\n",
       "  <thead>\n",
       "    <tr style=\"text-align: right;\">\n",
       "      <th></th>\n",
       "      <th>year</th>\n",
       "      <th>month</th>\n",
       "      <th>passengers</th>\n",
       "    </tr>\n",
       "  </thead>\n",
       "  <tbody>\n",
       "    <tr>\n",
       "      <th>1949-01-31</th>\n",
       "      <td>1949</td>\n",
       "      <td>Jan</td>\n",
       "      <td>112</td>\n",
       "    </tr>\n",
       "    <tr>\n",
       "      <th>1949-02-28</th>\n",
       "      <td>1949</td>\n",
       "      <td>Feb</td>\n",
       "      <td>118</td>\n",
       "    </tr>\n",
       "    <tr>\n",
       "      <th>1949-03-31</th>\n",
       "      <td>1949</td>\n",
       "      <td>Mar</td>\n",
       "      <td>132</td>\n",
       "    </tr>\n",
       "    <tr>\n",
       "      <th>1949-04-30</th>\n",
       "      <td>1949</td>\n",
       "      <td>Apr</td>\n",
       "      <td>129</td>\n",
       "    </tr>\n",
       "    <tr>\n",
       "      <th>1949-05-31</th>\n",
       "      <td>1949</td>\n",
       "      <td>May</td>\n",
       "      <td>121</td>\n",
       "    </tr>\n",
       "    <tr>\n",
       "      <th>...</th>\n",
       "      <td>...</td>\n",
       "      <td>...</td>\n",
       "      <td>...</td>\n",
       "    </tr>\n",
       "    <tr>\n",
       "      <th>1960-08-31</th>\n",
       "      <td>1960</td>\n",
       "      <td>Aug</td>\n",
       "      <td>606</td>\n",
       "    </tr>\n",
       "    <tr>\n",
       "      <th>1960-09-30</th>\n",
       "      <td>1960</td>\n",
       "      <td>Sep</td>\n",
       "      <td>508</td>\n",
       "    </tr>\n",
       "    <tr>\n",
       "      <th>1960-10-31</th>\n",
       "      <td>1960</td>\n",
       "      <td>Oct</td>\n",
       "      <td>461</td>\n",
       "    </tr>\n",
       "    <tr>\n",
       "      <th>1960-11-30</th>\n",
       "      <td>1960</td>\n",
       "      <td>Nov</td>\n",
       "      <td>390</td>\n",
       "    </tr>\n",
       "    <tr>\n",
       "      <th>1960-12-31</th>\n",
       "      <td>1960</td>\n",
       "      <td>Dec</td>\n",
       "      <td>432</td>\n",
       "    </tr>\n",
       "  </tbody>\n",
       "</table>\n",
       "<p>144 rows × 3 columns</p>\n",
       "</div>"
      ],
      "text/plain": [
       "            year month  passengers\n",
       "1949-01-31  1949   Jan         112\n",
       "1949-02-28  1949   Feb         118\n",
       "1949-03-31  1949   Mar         132\n",
       "1949-04-30  1949   Apr         129\n",
       "1949-05-31  1949   May         121\n",
       "...          ...   ...         ...\n",
       "1960-08-31  1960   Aug         606\n",
       "1960-09-30  1960   Sep         508\n",
       "1960-10-31  1960   Oct         461\n",
       "1960-11-30  1960   Nov         390\n",
       "1960-12-31  1960   Dec         432\n",
       "\n",
       "[144 rows x 3 columns]"
      ]
     },
     "execution_count": 50,
     "metadata": {},
     "output_type": "execute_result"
    }
   ],
   "source": [
    "df_flights"
   ]
  },
  {
   "cell_type": "code",
   "execution_count": 51,
   "metadata": {},
   "outputs": [
    {
     "data": {
      "text/plain": [
       "1949-01-31    112\n",
       "1949-02-28    118\n",
       "1949-03-31    132\n",
       "1949-04-30    129\n",
       "1949-05-31    121\n",
       "             ... \n",
       "1960-08-31    606\n",
       "1960-09-30    508\n",
       "1960-10-31    461\n",
       "1960-11-30    390\n",
       "1960-12-31    432\n",
       "Freq: M, Name: passengers, Length: 144, dtype: int64"
      ]
     },
     "execution_count": 51,
     "metadata": {},
     "output_type": "execute_result"
    }
   ],
   "source": [
    "passageiros = df_flights[\"passengers\"]\n",
    "\n",
    "passageiros"
   ]
  },
  {
   "cell_type": "code",
   "execution_count": 78,
   "metadata": {
    "scrolled": false
   },
   "outputs": [
    {
     "data": {
      "image/png": "[encoded data removed]",
      "text/plain": [
       "<Figure size 1008x432 with 1 Axes>"
      ]
     },
     "metadata": {
      "needs_background": "light"
     },
     "output_type": "display_data"
    }
   ],
   "source": [
    "plt.figure(figsize=(14, 6))\n",
    "plt.title(\"Série de passageiros\")\n",
    "\n",
    "sns.lineplot(x=passageiros.index, y=passageiros, label=\"ST de passageiros\")\n",
    "# sns.lineplot(x=passageiros.shift(1).index, y=passageiros.shift(1), label=\"ST de passageiros shift 1\")\n",
    "# sns.lineplot(x=passageiros.shift(12).index, y=passageiros.shift(12), label=\"ST de passageiros shift 13\")\n",
    "\n",
    "plt.legend()\n",
    "plt.show()"
   ]
  },
  {
   "cell_type": "markdown",
   "metadata": {},
   "source": [
    "## AUTORREGRESSIVO"
   ]
  },
  {
   "cell_type": "markdown",
   "metadata": {},
   "source": [
    "_____\n",
    "_____\n",
    "_____"
   ]
  },
  {
   "cell_type": "markdown",
   "metadata": {
    "hidden": true
   },
   "source": [
    "## 2) Autocorrelação\n",
    "\n",
    "Um dos conceitos mais importantes que permeará nossos modelos autorregressivos será o de **autocorrelação**, que nada mais é que a **correlação da série temporal com uma cópia dela mesma**, mas de uma forma **defasada** (ou seja, tomando cópias intervalados por períodos denominados **lags**):\n",
    "\n",
    "<img src=\"https://i1.wp.com/www.business-science.io/assets/lag-explanation.PNG?w=584\" width=400>\n",
    "\n",
    "A depender do sinal da autocorreção, temos comportamentos diferentes:\n",
    "\n",
    "- autocorrelação positiva: **momentum** ou **trend following**\n",
    "- autocorrelação negativa: **mean reversion**\n",
    "\n",
    "<img src=\"https://46gyn61z4i0t1u1pnq2bbk2e-wpengine.netdna-ssl.com/wp-content/uploads/2018/04/Positive-and-negative-autocorrelation.png\" width=450>\n",
    "\n",
    "Para visualizar a autocorrelação, é muito comum que utilizemos os plots **ACF** e **PACF**:"
   ]
  },
  {
   "cell_type": "markdown",
   "metadata": {},
   "source": [
    "____\n",
    "\n",
    "### 2.1) Função de Autocorrelação - Auto Correlation Function (ACF)\n",
    "\n",
    "A função de autocorrelação, ACF, é calculada considerando **todos os instantes de tempo intermediários dentro do lag a partir do primeiro instante de tempo**.\n",
    "\n",
    "É muito comum visualizá-la com auxílio da biblioteca statsmodels:"
   ]
  },
  {
   "cell_type": "code",
   "execution_count": 53,
   "metadata": {},
   "outputs": [],
   "source": [
    "# importando o método\n",
    "from statsmodels.graphics.tsaplots import plot_acf"
   ]
  },
  {
   "cell_type": "code",
   "execution_count": 55,
   "metadata": {},
   "outputs": [
    {
     "data": {
      "text/plain": [
       "1949-01-31    112\n",
       "1949-02-28    118\n",
       "1949-03-31    132\n",
       "1949-04-30    129\n",
       "1949-05-31    121\n",
       "             ... \n",
       "1960-08-31    606\n",
       "1960-09-30    508\n",
       "1960-10-31    461\n",
       "1960-11-30    390\n",
       "1960-12-31    432\n",
       "Freq: M, Name: passengers, Length: 144, dtype: int64"
      ]
     },
     "execution_count": 55,
     "metadata": {},
     "output_type": "execute_result"
    }
   ],
   "source": [
    "passageiros"
   ]
  },
  {
   "cell_type": "code",
   "execution_count": 64,
   "metadata": {
    "ExecuteTime": {
     "end_time": "2020-04-24T22:45:13.191380Z",
     "start_time": "2020-04-24T22:45:12.254369Z"
    },
    "hidden": true,
    "scrolled": false
   },
   "outputs": [
    {
     "data": {
      "image/png": "[encoded data removed]",
      "text/plain": [
       "<Figure size 432x288 with 1 Axes>"
      ]
     },
     "metadata": {
      "needs_background": "light"
     },
     "output_type": "display_data"
    }
   ],
   "source": [
    "plot_acf(passageiros)\n",
    "\n",
    "plt.show()"
   ]
  },
  {
   "cell_type": "markdown",
   "metadata": {},
   "source": [
    "____\n",
    "\n",
    "### 2.2) Função de Autocorrelação Parcial - Partial Auto Correlation Function (PACF)\n",
    "\n",
    "A função de autocorrelação parcial, PACF, é calculada considerando **apenas os instantes de tempo do lag, sem considerar os instantes intermediários**.\n",
    "\n",
    "Também há um método do statsmodels para visualizarmos a PACF:"
   ]
  },
  {
   "cell_type": "code",
   "execution_count": 68,
   "metadata": {},
   "outputs": [],
   "source": [
    "# importando o método\n",
    "from statsmodels.graphics.tsaplots import plot_pacf"
   ]
  },
  {
   "cell_type": "code",
   "execution_count": 69,
   "metadata": {
    "ExecuteTime": {
     "end_time": "2020-04-24T22:45:13.191380Z",
     "start_time": "2020-04-24T22:45:12.254369Z"
    },
    "hidden": true,
    "scrolled": false
   },
   "outputs": [
    {
     "data": {
      "image/png": "[encoded data removed]",
      "text/plain": [
       "<Figure size 432x288 with 1 Axes>"
      ]
     },
     "metadata": {
      "needs_background": "light"
     },
     "output_type": "display_data"
    }
   ],
   "source": [
    "plot_pacf(passageiros)\n",
    "\n",
    "plt.show()"
   ]
  },
  {
   "cell_type": "markdown",
   "metadata": {},
   "source": [
    "____\n",
    "\n",
    "### 2.3) Estacionariedade\n",
    "\n",
    "Uma série temporal é dita **estacionária** quando ela se desenvolve no tempo aleatoriamente ao redor de uma **média constante**, e com **variância constante**, refletindo um equilíbrio estável:\n",
    "\n",
    "<img src=\"https://miro.medium.com/max/2580/1*tkx0_wwQ2JT7pSlTeg4yzg.png\" width=550><br>\n",
    "\n",
    "<img src=\"https://miro.medium.com/max/1147/1*xdblkZyg6YmmReAkZHUksw.png\" width=650>\n",
    "\n",
    "\n",
    "> -**Random walks** são exemplos de séries **não estacionárias**:\n",
    "\n",
    "<img src=\"https://3qeqpr26caki16dnhd19sv6by6v-wpengine.netdna-ssl.com/wp-content/uploads/2017/01/Random-Walk-Line-Plot.png\" width=450>\n",
    "\n",
    "> **Séries sazonais** também não são estacionárias:\n",
    "\n",
    "<img src=\"https://anomaly.io/wp-content/uploads/2015/12/multiplicative-model.png\" width=450>\n",
    "\n",
    "> - **White noise** é estacionário:\n",
    "\n",
    "<img src=\"https://www.researchgate.net/publication/279249485/figure/fig10/AS:272660147994627@1442018653078/An-example-of-a-stationary-time-series-specifically-a-series-of-uncorrelated-white.png\" width=500>\n",
    "\n",
    "Para avaliarmos se uma série temporal é ou não estacionária, fazemos o [teste de Dickey-Fuller](https://en.wikipedia.org/wiki/Dickey%E2%80%93Fuller_test)."
   ]
  },
  {
   "cell_type": "code",
   "execution_count": 79,
   "metadata": {
    "ExecuteTime": {
     "end_time": "2020-04-24T22:51:36.653318Z",
     "start_time": "2020-04-24T22:51:36.648322Z"
    },
    "hidden": true
   },
   "outputs": [
    {
     "data": {
      "text/plain": [
       "(0.8153688792060423,\n",
       " 0.9918802434376409,\n",
       " 13,\n",
       " 130,\n",
       " {'1%': -3.4816817173418295,\n",
       "  '5%': -2.8840418343195267,\n",
       "  '10%': -2.578770059171598},\n",
       " 996.6929308390189)"
      ]
     },
     "execution_count": 79,
     "metadata": {},
     "output_type": "execute_result"
    }
   ],
   "source": [
    "from statsmodels.tsa.stattools import adfuller\n",
    "\n",
    "adfuller(passageiros)"
   ]
  },
  {
   "cell_type": "code",
   "execution_count": 80,
   "metadata": {
    "ExecuteTime": {
     "end_time": "2020-04-24T22:52:32.170575Z",
     "start_time": "2020-04-24T22:52:31.931719Z"
    },
    "hidden": true
   },
   "outputs": [
    {
     "name": "stdout",
     "output_type": "stream",
     "text": [
      "\n",
      "p-value: 0.9918802434376409\n",
      "\n",
      "Falha em rejeitar H_0: amostra parece ser não-estacionaria\n"
     ]
    }
   ],
   "source": [
    "# p-value menor que 5% e rejeitamos a hipótese nula que a \n",
    "# série é um random walk com 95% de confiança\n",
    "\n",
    "p = adfuller(passageiros)[1]\n",
    "\n",
    "print(\"\\np-value:\", p)\n",
    "\n",
    "# interpretação do teste\n",
    "# nível de confiança de 5%\n",
    "alpha = 0.05\n",
    "\n",
    "if p > alpha:\n",
    "    print(\"\\nFalha em rejeitar H_0: amostra parece ser não-estacionaria\")\n",
    "else:\n",
    "    print(\"\\nRejeição da H_0: amostra é estacionária\")"
   ]
  },
  {
   "cell_type": "markdown",
   "metadata": {},
   "source": [
    "Para **tornarmos uma série não-estacionária estacionária**, há um procedimento muito simples que modemos tentar fazer:\n",
    "tomar as variações entre diferentes instantes de tempo, o que fazemos com o método `diff()`, que é bem similar ao `pct_change()`, exceto pelo fato de que não há a divisão pelo instante anterior:\n",
    "\n",
    "> `diff()`: $P_t - P_{t-1}$\n",
    "\n",
    "> `pct_change()`: $\\frac{P_t - P_{t-1}}{P_{t-1}}$"
   ]
  },
  {
   "cell_type": "code",
   "execution_count": 81,
   "metadata": {},
   "outputs": [
    {
     "data": {
      "text/plain": [
       "1949-01-31    112\n",
       "1949-02-28    118\n",
       "1949-03-31    132\n",
       "1949-04-30    129\n",
       "1949-05-31    121\n",
       "             ... \n",
       "1960-08-31    606\n",
       "1960-09-30    508\n",
       "1960-10-31    461\n",
       "1960-11-30    390\n",
       "1960-12-31    432\n",
       "Freq: M, Name: passengers, Length: 144, dtype: int64"
      ]
     },
     "execution_count": 81,
     "metadata": {},
     "output_type": "execute_result"
    }
   ],
   "source": [
    "passageiros"
   ]
  },
  {
   "cell_type": "code",
   "execution_count": 84,
   "metadata": {},
   "outputs": [
    {
     "data": {
      "text/plain": [
       "1949-02-28     6.0\n",
       "1949-03-31    14.0\n",
       "1949-04-30    -3.0\n",
       "1949-05-31    -8.0\n",
       "1949-06-30    14.0\n",
       "              ... \n",
       "1960-08-31   -16.0\n",
       "1960-09-30   -98.0\n",
       "1960-10-31   -47.0\n",
       "1960-11-30   -71.0\n",
       "1960-12-31    42.0\n",
       "Freq: M, Name: passengers, Length: 143, dtype: float64"
      ]
     },
     "execution_count": 84,
     "metadata": {},
     "output_type": "execute_result"
    }
   ],
   "source": [
    "difs = passageiros.diff().dropna()\n",
    "\n",
    "difs"
   ]
  },
  {
   "cell_type": "code",
   "execution_count": 85,
   "metadata": {},
   "outputs": [
    {
     "data": {
      "text/plain": [
       "1949-02-28    0.053571\n",
       "1949-03-31    0.118644\n",
       "1949-04-30   -0.022727\n",
       "1949-05-31   -0.062016\n",
       "1949-06-30    0.115702\n",
       "                ...   \n",
       "1960-08-31   -0.025723\n",
       "1960-09-30   -0.161716\n",
       "1960-10-31   -0.092520\n",
       "1960-11-30   -0.154013\n",
       "1960-12-31    0.107692\n",
       "Freq: M, Name: passengers, Length: 143, dtype: float64"
      ]
     },
     "execution_count": 85,
     "metadata": {},
     "output_type": "execute_result"
    }
   ],
   "source": [
    "difs_pct = passageiros.pct_change().dropna()\n",
    "\n",
    "difs_pct"
   ]
  },
  {
   "cell_type": "code",
   "execution_count": 87,
   "metadata": {},
   "outputs": [
    {
     "data": {
      "image/png": "[encoded data removed]",
      "text/plain": [
       "<Figure size 1008x432 with 1 Axes>"
      ]
     },
     "metadata": {
      "needs_background": "light"
     },
     "output_type": "display_data"
    }
   ],
   "source": [
    "plt.figure(figsize=(14, 6))\n",
    "\n",
    "sns.lineplot(x=difs.index, y=difs, label=\"ST de diferenças\")\n",
    "\n",
    "plt.legend()\n",
    "plt.show()"
   ]
  },
  {
   "cell_type": "markdown",
   "metadata": {},
   "source": [
    "Ou podemos usar a série de variacoes percentuais:\n"
   ]
  },
  {
   "cell_type": "code",
   "execution_count": 88,
   "metadata": {},
   "outputs": [
    {
     "data": {
      "image/png": "[encoded data removed]",
      "text/plain": [
       "<Figure size 1008x432 with 1 Axes>"
      ]
     },
     "metadata": {
      "needs_background": "light"
     },
     "output_type": "display_data"
    }
   ],
   "source": [
    "difs_pct = passageiros.pct_change().dropna()\n",
    "\n",
    "plt.figure(figsize=(14, 6))\n",
    "\n",
    "sns.lineplot(x=difs_pct.index, y=difs_pct, label=\"ST de difs_pct\")\n",
    "\n",
    "plt.legend()\n",
    "plt.show()"
   ]
  },
  {
   "cell_type": "markdown",
   "metadata": {},
   "source": [
    "Agora que conhecemos o importanto processo de estacionaridade, vamos introduzir dois procedimentos que são utilizados **para modelar processos estacionários**."
   ]
  },
  {
   "cell_type": "code",
   "execution_count": 89,
   "metadata": {},
   "outputs": [
    {
     "name": "stdout",
     "output_type": "stream",
     "text": [
      "\n",
      "p-value: 0.04239503972523865\n",
      "\n",
      "Rejeição da H_0: amostra é estacionária\n"
     ]
    }
   ],
   "source": [
    "p = adfuller(difs_pct)[1]\n",
    "\n",
    "print(\"\\np-value:\", p)\n",
    "\n",
    "# interpretação do teste\n",
    "# nível de significancia de 5%\n",
    "alpha = 0.05\n",
    "\n",
    "if p > alpha:\n",
    "    print(\"\\nFalha em rejeitar H_0: amostra parece ser não-estacionaria\")\n",
    "else:\n",
    "    print(\"\\nRejeição da H_0: amostra é estacionária\")"
   ]
  },
  {
   "cell_type": "markdown",
   "metadata": {},
   "source": [
    "____\n",
    "____\n",
    "____"
   ]
  },
  {
   "cell_type": "markdown",
   "metadata": {
    "hidden": true
   },
   "source": [
    "## 3) Modelos AR\n",
    "\n",
    "O primeiro modelo que vamos tratar é o **Modelo AutoRegressivo** (daí o **AR**). \n",
    "\n",
    "O objetivo deste (e dos demais modelos que veremos) é **capturar o padrão por trás da série e prever o comportamento futuro a partir do passado**.\n",
    "\n",
    "Este modelo estabelece uma relação muito precisa entre diferentes instantes de tempo, expressa a seguir como o **modelo autorregressivo de ordem $p$ - $\\text{AR}(p)$:**\n",
    "\n",
    "\n",
    "$$R_t = \\mu + \\sum_{i=1}^p \\phi_i R_{t-i} + \\epsilon_t \\ , $$\n",
    "\n",
    "Ou seja,\n",
    "\n",
    "$$R_t = \\mu + \\phi_1 R_{t-1} + \\phi_2 R_{t-2} + \\cdots + \\phi_p R_{t-p} + \\epsilon_t \\ , $$\n",
    "\n",
    "Onde:\n",
    "\n",
    "- $R_t$ é o instante atual;\n",
    "- $p$ é o número de lags considerado no modelo (também chamado de **ordem** do modelo);\n",
    "- $R_{t-p}$ é o instante de tempo passados p lags;\n",
    "- $\\phi_p$ é o respectivo coeficiente da PACF.\n",
    "\n",
    "Um bom modelo será um que utiliza um número $p$ de lags da PACF fora do cone de confiança (ou seja, estatisticamente significantes).\n"
   ]
  },
  {
   "cell_type": "markdown",
   "metadata": {},
   "source": [
    "A primeira coisa antes de construirmos nosso modelo, será definir qual será nosso **conjunto de teste**:"
   ]
  },
  {
   "cell_type": "code",
   "execution_count": 96,
   "metadata": {},
   "outputs": [
    {
     "data": {
      "text/plain": [
       "42.9"
      ]
     },
     "execution_count": 96,
     "metadata": {},
     "output_type": "execute_result"
    }
   ],
   "source": [
    "difs_pct.shape[0]*0.3"
   ]
  },
  {
   "cell_type": "code",
   "execution_count": 97,
   "metadata": {},
   "outputs": [],
   "source": [
    "num_test = 30\n",
    "\n",
    "difs_pct_test = difs_pct.iloc[-num_test:]"
   ]
  },
  {
   "cell_type": "code",
   "execution_count": 98,
   "metadata": {},
   "outputs": [
    {
     "data": {
      "text/plain": [
       "1958-07-31    0.128736\n",
       "1958-08-31    0.028513\n",
       "1958-09-30   -0.200000\n",
       "1958-10-31   -0.111386\n",
       "1958-11-30   -0.136490\n",
       "1958-12-31    0.087097\n",
       "1959-01-31    0.068249\n",
       "1959-02-28   -0.050000\n",
       "1959-03-31    0.187135\n",
       "1959-04-30   -0.024631\n",
       "1959-05-31    0.060606\n",
       "1959-06-30    0.123810\n",
       "1959-07-31    0.161017\n",
       "1959-08-31    0.020073\n",
       "1959-09-30   -0.171735\n",
       "1959-10-31   -0.120950\n",
       "1959-11-30   -0.110565\n",
       "1959-12-31    0.118785\n",
       "1960-01-31    0.029630\n",
       "1960-02-29   -0.062350\n",
       "1960-03-31    0.071611\n",
       "1960-04-30    0.100239\n",
       "1960-05-31    0.023861\n",
       "1960-06-30    0.133475\n",
       "1960-07-31    0.162617\n",
       "1960-08-31   -0.025723\n",
       "1960-09-30   -0.161716\n",
       "1960-10-31   -0.092520\n",
       "1960-11-30   -0.154013\n",
       "1960-12-31    0.107692\n",
       "Freq: M, Name: passengers, dtype: float64"
      ]
     },
     "execution_count": 98,
     "metadata": {},
     "output_type": "execute_result"
    }
   ],
   "source": [
    "difs_pct_test"
   ]
  },
  {
   "cell_type": "markdown",
   "metadata": {
    "hidden": true
   },
   "source": [
    "Para treinarmos um modelo $\\text{AR}(p)$ para nossa série temporal, vamos utilizar o submódulo `statsmodels.tsa.arima_model` da [statsmodels](https://www.statsmodels.org/stable/tsa.html)\n"
   ]
  },
  {
   "cell_type": "code",
   "execution_count": 99,
   "metadata": {
    "ExecuteTime": {
     "end_time": "2020-04-25T01:29:58.576645Z",
     "start_time": "2020-04-25T01:29:58.572646Z"
    },
    "hidden": true
   },
   "outputs": [],
   "source": [
    "from statsmodels.tsa.arima_model import ARMA"
   ]
  },
  {
   "cell_type": "markdown",
   "metadata": {},
   "source": [
    "**Identificando a ordem $p$ do modelo $\\text{AR}(p)$**\n",
    "\n",
    "O primeiro passo para a construção do modelo é a determinação da **ordem $p$**, ou seja, o número de lags em termos dos quais vamos modelar o target.\n",
    "\n",
    "Para fazer isso, a principal abordagem é avaliar o gráfico da **PACF**, e escolher lags que sejam estatisticamente dignificantes! "
   ]
  },
  {
   "cell_type": "code",
   "execution_count": 101,
   "metadata": {
    "ExecuteTime": {
     "end_time": "2020-04-25T01:19:56.864696Z",
     "start_time": "2020-04-25T01:19:56.669485Z"
    },
    "hidden": true,
    "scrolled": true
   },
   "outputs": [
    {
     "data": {
      "image/png": "[encoded data removed]",
      "text/plain": [
       "<Figure size 432x288 with 1 Axes>"
      ]
     },
     "metadata": {
      "needs_background": "light"
     },
     "output_type": "display_data"
    }
   ],
   "source": [
    "plot_pacf(difs_pct)\n",
    "plt.show()"
   ]
  },
  {
   "cell_type": "markdown",
   "metadata": {},
   "source": [
    "ARMA(p, 0) = AR(p)\n",
    "\n",
    "ARMA(0, q) = MA(q)"
   ]
  },
  {
   "cell_type": "code",
   "execution_count": 110,
   "metadata": {},
   "outputs": [],
   "source": [
    "modelo = ARMA(difs_pct, order=(4, 0)).fit()"
   ]
  },
  {
   "cell_type": "markdown",
   "metadata": {},
   "source": [
    "Após fitarmos o modelo, podemos dar uma olhada em informações com o método `summary()`:"
   ]
  },
  {
   "cell_type": "code",
   "execution_count": 111,
   "metadata": {
    "scrolled": false
   },
   "outputs": [
    {
     "name": "stdout",
     "output_type": "stream",
     "text": [
      "                              ARMA Model Results                              \n",
      "==============================================================================\n",
      "Dep. Variable:             passengers   No. Observations:                  143\n",
      "Model:                     ARMA(4, 0)   Log Likelihood                 129.388\n",
      "Method:                       css-mle   S.D. of innovations              0.098\n",
      "Date:                Mon, 16 Aug 2021   AIC                           -246.776\n",
      "Time:                        21:52:29   BIC                           -228.999\n",
      "Sample:                    02-28-1949   HQIC                          -239.552\n",
      "                         - 12-31-1960                                         \n",
      "====================================================================================\n",
      "                       coef    std err          z      P>|z|      [0.025      0.975]\n",
      "------------------------------------------------------------------------------------\n",
      "const                0.0158      0.006      2.666      0.008       0.004       0.027\n",
      "ar.L1.passengers     0.1722      0.079      2.187      0.029       0.018       0.326\n",
      "ar.L2.passengers    -0.2218      0.081     -2.730      0.006      -0.381      -0.063\n",
      "ar.L3.passengers    -0.0055      0.081     -0.068      0.946      -0.163       0.152\n",
      "ar.L4.passengers    -0.3367      0.080     -4.221      0.000      -0.493      -0.180\n",
      "                                    Roots                                    \n",
      "=============================================================================\n",
      "                  Real          Imaginary           Modulus         Frequency\n",
      "-----------------------------------------------------------------------------\n",
      "AR.1            0.8331           -0.9358j            1.2529           -0.1342\n",
      "AR.2            0.8331           +0.9358j            1.2529            0.1342\n",
      "AR.3           -0.8412           -1.0883j            1.3755           -0.3547\n",
      "AR.4           -0.8412           +1.0883j            1.3755            0.3547\n",
      "-----------------------------------------------------------------------------\n"
     ]
    }
   ],
   "source": [
    "print(modelo.summary())"
   ]
  },
  {
   "cell_type": "markdown",
   "metadata": {},
   "source": [
    "$R_t = 0.0153 + 0.2026 R_{t-1}  -0.1774 R_{t-2} + \\epsilon$"
   ]
  },
  {
   "cell_type": "markdown",
   "metadata": {},
   "source": [
    "Agora, podemos usar o modelo para fazer predições **nos dados de teste**:"
   ]
  },
  {
   "cell_type": "code",
   "execution_count": 112,
   "metadata": {
    "scrolled": true
   },
   "outputs": [
    {
     "data": {
      "text/plain": [
       "1958-07-31    0.128736\n",
       "1958-08-31    0.028513\n",
       "1958-09-30   -0.200000\n",
       "1958-10-31   -0.111386\n",
       "1958-11-30   -0.136490\n",
       "1958-12-31    0.087097\n",
       "1959-01-31    0.068249\n",
       "Freq: M, Name: passengers, dtype: float64"
      ]
     },
     "execution_count": 112,
     "metadata": {},
     "output_type": "execute_result"
    }
   ],
   "source": [
    "difs_pct_test.head(7)"
   ]
  },
  {
   "cell_type": "code",
   "execution_count": 113,
   "metadata": {},
   "outputs": [
    {
     "data": {
      "text/plain": [
       "(Timestamp('1958-07-31 00:00:00', freq='M'),\n",
       " Timestamp('1960-12-31 00:00:00', freq='M'))"
      ]
     },
     "execution_count": 113,
     "metadata": {},
     "output_type": "execute_result"
    }
   ],
   "source": [
    "difs_pct_test.index[0], difs_pct_test.index[-1]"
   ]
  },
  {
   "cell_type": "code",
   "execution_count": 114,
   "metadata": {
    "scrolled": false
   },
   "outputs": [],
   "source": [
    "preds = modelo.predict(start=difs_pct_test.index[0], end=difs_pct_test.index[-1])"
   ]
  },
  {
   "cell_type": "code",
   "execution_count": 115,
   "metadata": {},
   "outputs": [
    {
     "data": {
      "text/plain": [
       "1958-07-31    0.000186\n",
       "1958-08-31    0.012935\n",
       "1958-09-30   -0.017262\n",
       "1958-10-31   -0.086267\n",
       "1958-11-30    0.003649\n",
       "1958-12-31    0.014665\n",
       "1959-01-31    0.135181\n",
       "Freq: M, dtype: float64"
      ]
     },
     "execution_count": 115,
     "metadata": {},
     "output_type": "execute_result"
    }
   ],
   "source": [
    "preds.head(7)"
   ]
  },
  {
   "cell_type": "markdown",
   "metadata": {},
   "source": [
    "Vamos visualizar as predições juntamente com os valores reais:"
   ]
  },
  {
   "cell_type": "code",
   "execution_count": 116,
   "metadata": {
    "scrolled": false
   },
   "outputs": [
    {
     "data": {
      "image/png": "[encoded data removed]",
      "text/plain": [
       "<Figure size 1008x432 with 1 Axes>"
      ]
     },
     "metadata": {
      "needs_background": "light"
     },
     "output_type": "display_data"
    }
   ],
   "source": [
    "plt.figure(figsize=(14, 6))\n",
    "plt.title(\"Série de difs_pct\")\n",
    "\n",
    "sns.lineplot(x=difs_pct_test.index, y=difs_pct_test, label=\"difs_pct originais\")\n",
    "\n",
    "preds = modelo.predict(start=difs_pct_test.index[0], \n",
    "                       end=difs_pct_test.index[-1])\n",
    "sns.lineplot(x=preds.index, y=preds, label=\"difs_pct preditos\")\n",
    "\n",
    "plt.legend()\n",
    "plt.show()"
   ]
  },
  {
   "cell_type": "code",
   "execution_count": 122,
   "metadata": {},
   "outputs": [
    {
     "data": {
      "image/png": "[encoded data removed]",
      "text/plain": [
       "<Figure size 432x288 with 1 Axes>"
      ]
     },
     "metadata": {
      "needs_background": "light"
     },
     "output_type": "display_data"
    }
   ],
   "source": [
    "modelo.plot_predict(start=difs_pct_test.index[0], \n",
    "                    end=(difs_pct_test.index[-1] + dt.timedelta(days=30*60)))\n",
    "\n",
    "plt.show()"
   ]
  },
  {
   "cell_type": "markdown",
   "metadata": {},
   "source": [
    "O modelo parece que não funcionou tão bem...\n",
    "\n",
    "Vamos conhecer modelos mais complexos agora!"
   ]
  },
  {
   "cell_type": "markdown",
   "metadata": {
    "heading_collapsed": true
   },
   "source": [
    "______\n",
    "_______\n",
    "_______"
   ]
  },
  {
   "cell_type": "markdown",
   "metadata": {
    "hidden": true
   },
   "source": [
    "## 4) Modelos MA\n",
    "\n",
    "Vamos tratar agora do **Modelo de Média Móvel** (**Moving Average**, daí o **MA**). \n",
    "\n",
    "Diferente dos modelos AR, os modelos MA estabelecem uma relação não entre os valores de diferentes instantes de tempo, mas sim entre **os ruídos de diferentes instantes de tempo**. Esta rellação é xpressa a seguir como o **modelo de média móvel de ordem $q$ - $\\text{MA}(q)$:**\n",
    "\n",
    "$$R_t = \\mu + \\sum_{i=1}^q \\theta_i \\epsilon_{t-i} + \\epsilon_t \\ , $$\n",
    "\n",
    "Ou seja,\n",
    "\n",
    "$$R_t = \\mu + \\theta_1 \\epsilon_{t-1} + \\theta_2\\epsilon_{t-2} + \\cdots + \\theta_q \\epsilon_{t-q} + \\epsilon_t \\ , $$\n",
    "\n",
    "Onde:\n",
    "\n",
    "- $R_t$ é o instante atual;\n",
    "- $q$ é o número de lags considerado no modelo (também chamado de **ordem** do modelo);\n",
    "- $\\epsilon_{t-q}$ é o ruído entre o instante atual e o instante após q lags;\n",
    "- $\\theta_q$ é o respectivo coeficiente da ACF.\n",
    "\n",
    "Um bom modelo será um que utiliza um número $q$ de lags da ACF fora do cone de confiança (ou seja, estatisticamente significantes).\n"
   ]
  },
  {
   "cell_type": "markdown",
   "metadata": {},
   "source": [
    "Vamos construir agora um modelo MA para nossa série temporal!\n",
    "\n",
    "A primeira coisa é avaliarmos a ordem adequada com base na ACF:"
   ]
  },
  {
   "cell_type": "code",
   "execution_count": null,
   "metadata": {
    "ExecuteTime": {
     "end_time": "2020-04-25T01:19:56.864696Z",
     "start_time": "2020-04-25T01:19:56.669485Z"
    },
    "hidden": true,
    "scrolled": true
   },
   "outputs": [],
   "source": [
    "plot_acf(difs_pct)\n",
    "plt.show()"
   ]
  },
  {
   "cell_type": "code",
   "execution_count": null,
   "metadata": {},
   "outputs": [],
   "source": [
    "modelo = ARMA(difs_pct, order=(0, 1)).fit()"
   ]
  },
  {
   "cell_type": "code",
   "execution_count": null,
   "metadata": {
    "scrolled": true
   },
   "outputs": [],
   "source": [
    "print(modelo.summary())"
   ]
  },
  {
   "cell_type": "code",
   "execution_count": null,
   "metadata": {},
   "outputs": [],
   "source": [
    "difs_pct_test.head()"
   ]
  },
  {
   "cell_type": "code",
   "execution_count": null,
   "metadata": {
    "scrolled": false
   },
   "outputs": [],
   "source": [
    "modelo.predict(start=difs_pct_test.index[0], end=difs_pct_test.index[-1]).head()"
   ]
  },
  {
   "cell_type": "code",
   "execution_count": null,
   "metadata": {
    "scrolled": false
   },
   "outputs": [],
   "source": [
    "plt.figure(figsize=(14, 6))\n",
    "plt.title(\"Série de difs_pct\")\n",
    "\n",
    "sns.lineplot(x=difs_pct_test.index, y=difs_pct_test, label=\"difs_pct originais\")\n",
    "sns.lineplot(x=preds.index, y=preds, label=\"difs_pct preditos\")\n",
    "\n",
    "plt.legend()\n",
    "plt.show()"
   ]
  },
  {
   "cell_type": "markdown",
   "metadata": {},
   "source": [
    "O resultado não foi muito melhor... Será que é possível melhorar com uma combinação de ambos os modelos? Vamos avaliar isto agora!"
   ]
  },
  {
   "cell_type": "markdown",
   "metadata": {},
   "source": [
    "\n",
    "_____\n",
    "______\n",
    "_____"
   ]
  },
  {
   "cell_type": "markdown",
   "metadata": {
    "hidden": true
   },
   "source": [
    "## 5) Modelos ARMA\n",
    "\n",
    "Os modelos ARMA, como o nome indica, são modelos compostos por ambas as componentes AR e MA. O modelo $\\text{ARMA}(p, q)$ é dado por:\n",
    "\n",
    "$$R_t = \\mu + \\sum_{i=1}^p \\phi_i R_{t-i} + \\sum_{i=1}^q \\theta_i \\epsilon_{t-i} + \\epsilon_t \\ . $$\n",
    "\n",
    "Uma pergunta natural é: em que caso usar qual modelo?\n",
    "\n",
    "Uma resposta simples é: tente diferentes modelos!\n",
    "\n",
    "Uma resposta mais educada seria:\n",
    "\n",
    "<img src=\"https://image1.slideserve.com/1710867/slide34-l.jpg\" width=400>\n",
    "\n",
    "Para saber mais sobre estacionariedade como hipótese para os modelo AR e MA, [clique aqui.](https://stats.stackexchange.com/questions/19715/why-does-a-time-series-have-to-be-stationary)"
   ]
  },
  {
   "cell_type": "code",
   "execution_count": null,
   "metadata": {
    "ExecuteTime": {
     "end_time": "2020-04-25T01:19:56.864696Z",
     "start_time": "2020-04-25T01:19:56.669485Z"
    },
    "hidden": true,
    "scrolled": false
   },
   "outputs": [],
   "source": [
    "plot_pacf(difs_pct)\n",
    "plt.show()\n",
    "\n",
    "plot_acf(difs_pct)\n",
    "plt.show()"
   ]
  },
  {
   "cell_type": "code",
   "execution_count": null,
   "metadata": {},
   "outputs": [],
   "source": [
    "modelo = ARMA(difs_pct, order=(1, 1)).fit()"
   ]
  },
  {
   "cell_type": "code",
   "execution_count": null,
   "metadata": {
    "scrolled": false
   },
   "outputs": [],
   "source": [
    "print(modelo.summary())"
   ]
  },
  {
   "cell_type": "code",
   "execution_count": null,
   "metadata": {
    "scrolled": false
   },
   "outputs": [],
   "source": [
    "preds = modelo.predict(start=difs_pct_test.index[0], end=difs_pct_test.index[-1])"
   ]
  },
  {
   "cell_type": "code",
   "execution_count": null,
   "metadata": {},
   "outputs": [],
   "source": [
    "plt.figure(figsize=(14, 6))\n",
    "plt.title(\"Série de difs_pct\")\n",
    "\n",
    "sns.lineplot(x=difs_pct_test.index, y=difs_pct_test, label=\"difs_pct originais\")\n",
    "sns.lineplot(x=preds.index, y=preds, label=\"difs_pct preditos\")\n",
    "\n",
    "plt.legend()\n",
    "plt.show()"
   ]
  },
  {
   "cell_type": "markdown",
   "metadata": {},
   "source": [
    "Para finalizar, vamos ver um último modelo, mais complexo!"
   ]
  },
  {
   "cell_type": "markdown",
   "metadata": {},
   "source": [
    "________\n",
    "______\n",
    "______"
   ]
  },
  {
   "cell_type": "markdown",
   "metadata": {
    "heading_collapsed": true
   },
   "source": [
    "## 6) Modelos ARIMA\n",
    "\n",
    "Por fim, chegamos ao modelo mais complexo que aprenderemos, o **AutoRegressive Integrated Moving Average**.\n",
    "\n",
    "Estes modelos se diferenciam do ARMA ao incorporar o procedimento de **diferenciação** da série temporal **original e não estacionária**. Este procedimento faz com que a série se torne estacionária para que o forecasting seja feito. Então, como passo final, a diferenciação é revertida com a **integração**, o que faz com que as predições sejam feitas em termos dos valores originais.\n",
    "\n",
    "Assim, poderemos com o ARIMA utilizar diretamente as séries de preços!\n",
    "\n",
    "Os modelos $\\text{ARIMA}(p, d, q)$ têm as seguintes componentes:\n",
    "\n",
    "- p: número de defasagens autoregressivas;\n",
    "- d: ordem da difereenciação das defasagens;\n",
    "- q: número de defasagens das médias móveis.\n",
    "\n",
    "Vamos à construção do modelo!"
   ]
  },
  {
   "cell_type": "code",
   "execution_count": null,
   "metadata": {
    "ExecuteTime": {
     "end_time": "2020-04-26T12:57:41.673290Z",
     "start_time": "2020-04-26T12:57:41.420730Z"
    },
    "hidden": true
   },
   "outputs": [],
   "source": [
    "from statsmodels.tsa.arima_model import ARIMA"
   ]
  },
  {
   "cell_type": "code",
   "execution_count": null,
   "metadata": {},
   "outputs": [],
   "source": [
    "num_test = 50\n",
    "\n",
    "passageiros_test = passageiros.iloc[-num_test:]"
   ]
  },
  {
   "cell_type": "code",
   "execution_count": null,
   "metadata": {},
   "outputs": [],
   "source": [
    "modelo = ARIMA(passageiros, order=(1, 1, 1)).fit()"
   ]
  },
  {
   "cell_type": "code",
   "execution_count": null,
   "metadata": {
    "scrolled": false
   },
   "outputs": [],
   "source": [
    "print(modelo.summary())"
   ]
  },
  {
   "cell_type": "code",
   "execution_count": null,
   "metadata": {},
   "outputs": [],
   "source": [
    "preds = modelo.predict(start=passageiros_test.index[0], \n",
    "                       end=passageiros_test.index[-1] + dt.timedelta(days=2), typ=\"levels\")\n",
    "\n",
    "plt.figure(figsize=(14, 6))\n",
    "plt.title(\"Série de difs_pct\")\n",
    "\n",
    "sns.lineplot(x=passageiros_test.index, y=passageiros_test, label=\"preços originais\")\n",
    "sns.lineplot(x=preds.index, y=preds, label=\"preços preditos\")\n",
    "\n",
    "plt.legend()\n",
    "plt.show()"
   ]
  },
  {
   "cell_type": "code",
   "execution_count": null,
   "metadata": {
    "ExecuteTime": {
     "end_time": "2020-04-25T14:12:56.887778Z",
     "start_time": "2020-04-25T14:12:56.692890Z"
    },
    "hidden": true
   },
   "outputs": [],
   "source": [
    "modelo.plot_predict(start=passageiros_test.index[0], \n",
    "                    end=passageiros_test.index[-1] + dt.timedelta(days=50*30))\n",
    "plt.show()"
   ]
  },
  {
   "cell_type": "markdown",
   "metadata": {},
   "source": [
    "Aumentando a ordem do modelo..."
   ]
  },
  {
   "cell_type": "code",
   "execution_count": null,
   "metadata": {},
   "outputs": [],
   "source": [
    "modelo = ARIMA(passageiros, order=(2, 1, 2)).fit()\n",
    "\n",
    "print(modelo.summary())"
   ]
  },
  {
   "cell_type": "code",
   "execution_count": null,
   "metadata": {},
   "outputs": [],
   "source": [
    "modelo.plot_predict(start=passageiros_test.index[0], \n",
    "                    end=passageiros_test.index[-1] + dt.timedelta(days=50*30))\n",
    "plt.show()"
   ]
  },
  {
   "cell_type": "markdown",
   "metadata": {},
   "source": [
    "_______\n",
    "_____\n",
    "_____"
   ]
  },
  {
   "cell_type": "markdown",
   "metadata": {},
   "source": [
    "## 7) Dá pra melhorar?\n",
    "\n",
    "Atualmente, os principais modelos para previsão de séries temporais envolvem **redes neurais**, em particular uma arquitetura específica denominada **Redes Neurais Recorrentes** (RNNs), que são especializadas em modelar dados sequenciais:\n",
    "\n",
    "<img src=\"https://www.researchgate.net/profile/Chen_Zhenyu5/publication/332662013/figure/fig3/AS:751758288637957@1556244551951/RNN-and-LSTM-comparison-chart.jpg\" width=500>\n",
    "\n",
    "Para saber mais sobre estes modelos aplicados a séries temporais, [clique aqui](https://machinelearningmastery.com/how-to-develop-lstm-models-for-time-series-forecasting/), [aqui](https://machinelearningmastery.com/time-series-prediction-lstm-recurrent-neural-networks-python-keras/) e [aqui!](https://towardsdatascience.com/lstm-time-series-forecasting-predicting-stock-prices-using-an-lstm-model-6223e9644a2f)\n",
    "\n",
    "Embora modelos mais complexos possam produzir melhores resultados, lembre-se que, fundamentalmente, uma série temporal pode não ser previsível. Assim, o principal trabalho é o de **análise**, para que seja possamos entender o quão justificáveis serão nossas predições."
   ]
  },
  {
   "cell_type": "markdown",
   "metadata": {},
   "source": [
    "_____"
   ]
  }
 ],
 "metadata": {
  "kernelspec": {
   "display_name": "Python 3",
   "language": "python",
   "name": "python3"
  },
  "language_info": {
   "codemirror_mode": {
    "name": "ipython",
    "version": 3
   },
   "file_extension": ".py",
   "mimetype": "text/x-python",
   "name": "python",
   "nbconvert_exporter": "python",
   "pygments_lexer": "ipython3",
   "version": "3.8.3"
  }
 },
 "nbformat": 4,
 "nbformat_minor": 2
}
