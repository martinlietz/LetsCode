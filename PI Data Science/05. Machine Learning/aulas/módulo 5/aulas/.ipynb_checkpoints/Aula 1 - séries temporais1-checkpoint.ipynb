{
 "cells": [
  {
   "cell_type": "markdown",
   "metadata": {},
   "source": [
    "# Séries temporais 1\n",
    "\n",
    "Na aula de hoje, vamos explorar os seguintes tópicos em Python:\n",
    "\n",
    "- 1) Introdução\n",
    "- 2) Séries temporais\n"
   ]
  },
  {
   "cell_type": "markdown",
   "metadata": {},
   "source": [
    "_____\n",
    "_____\n",
    "_____"
   ]
  },
  {
   "cell_type": "markdown",
   "metadata": {},
   "source": [
    "Instale as seguintes bibliotecas:"
   ]
  },
  {
   "cell_type": "code",
   "execution_count": null,
   "metadata": {},
   "outputs": [],
   "source": [
    "!pip install yfinance"
   ]
  },
  {
   "cell_type": "code",
   "execution_count": null,
   "metadata": {},
   "outputs": [],
   "source": [
    "!pip install plotly==3.7.1"
   ]
  },
  {
   "cell_type": "markdown",
   "metadata": {},
   "source": [
    "_____\n",
    "_____\n",
    "_____"
   ]
  },
  {
   "cell_type": "markdown",
   "metadata": {},
   "source": [
    "## 1) Introdução\n",
    "\n",
    "Iniciaremos agora nossos estudos de séries temporais.\n",
    "\n",
    "Inicialmente, vamos entender **o que é uma série temporal**, para depois chegarmos ao ponto de **fazer previsões de pontos futuros**.\n",
    "\n",
    "Antes de começarmos, é prudente que tenhamos a seguinte [citação](https://quoteinvestigator.com/tag/niels-bohr/) em mente:\n",
    "\n",
    "## _\"It’s difficult to make predictions. Especially about the future.\"_"
   ]
  },
  {
   "cell_type": "markdown",
   "metadata": {},
   "source": [
    "__________\n",
    "________\n",
    "______"
   ]
  },
  {
   "cell_type": "code",
   "execution_count": null,
   "metadata": {
    "ExecuteTime": {
     "end_time": "2020-04-26T12:24:41.772133Z",
     "start_time": "2020-04-26T12:24:38.029501Z"
    },
    "hidden": true
   },
   "outputs": [],
   "source": [
    "import numpy as np\n",
    "import pandas as pd\n",
    "import matplotlib.pyplot as plt\n",
    "import datetime as dt\n",
    "import seaborn as sns\n",
    "\n",
    "%matplotlib inline"
   ]
  },
  {
   "cell_type": "markdown",
   "metadata": {},
   "source": [
    "Nessa aula, vamos utilizar o [yahoo finance](https://pypi.org/project/yfinance/), um módulo integrado ao pandas que nos auxiliará a captar dados financeiros da internet."
   ]
  },
  {
   "cell_type": "code",
   "execution_count": null,
   "metadata": {},
   "outputs": [],
   "source": [
    "import yfinance as yf"
   ]
  },
  {
   "cell_type": "markdown",
   "metadata": {},
   "source": [
    "____\n",
    "____\n",
    "____"
   ]
  },
  {
   "cell_type": "markdown",
   "metadata": {},
   "source": [
    "## 2) Séries temporais\n",
    "\n",
    "Uma **série temporal** nada mais é que **um conjunto de valores sequenciais temporalmente indexados**.\n",
    "\n",
    "Séries temporais aparecem em diversos contextos, e o principal objetivo de seu estudo é o de conseguir **caputrar estrutura adicional** na indexação sequencial/temporal, como, por exemplo, padrões que se reptem periodicamente.\n",
    "\n",
    "A **análise de séries temporais** nos proporciona ferramentas para:\n",
    "\n",
    "- Descrever o comportamento da série;\n",
    "\n",
    "- Encontrar periodicidades;\n",
    "\n",
    "- Obter possíveis explicações para o comportamento da série, geralmente através de variáveis auxiliares;\n",
    "\n",
    "- Predizer o comportamento futuro, o que possibilita fazer planos a longo, médio ou curto prazo e tomar decisões apropriadas.\n",
    "\n",
    "Vamos começar a estudar estas ferramentas em Python!"
   ]
  },
  {
   "cell_type": "markdown",
   "metadata": {},
   "source": [
    "Nesta aula, usaremos como fonte de dados o portal **Yahoo Finance** (https://finance.yahoo.com/).\n",
    "\n",
    "Para consultar a série temporal **dos preços de algum ativo**, basta identificar qual é o seu **símbolo** no site acima. No caso de ações, temos os tickers."
   ]
  },
  {
   "cell_type": "code",
   "execution_count": null,
   "metadata": {},
   "outputs": [],
   "source": [
    "yf.download('CIEL3.SA', start = '2010-01-01')"
   ]
  },
  {
   "cell_type": "markdown",
   "metadata": {},
   "source": [
    "No nosso exemplo, vamos olhar pras ações da Cielo:"
   ]
  },
  {
   "cell_type": "code",
   "execution_count": null,
   "metadata": {},
   "outputs": [],
   "source": [
    "ticker = 'CIEL3.SA'\n",
    "\n",
    "df = yf.download(ticker, start='2010-01-01')\n",
    "\n",
    "df"
   ]
  },
  {
   "cell_type": "markdown",
   "metadata": {},
   "source": [
    "Note que o yfinance produz automaticamente um dataframe com as datas **como os índices**\n",
    "\n",
    "Isso ajuda muito na hora de fazermos os plots, e também nos filtros:"
   ]
  },
  {
   "cell_type": "code",
   "execution_count": null,
   "metadata": {},
   "outputs": [],
   "source": [
    "df.columns"
   ]
  },
  {
   "cell_type": "code",
   "execution_count": null,
   "metadata": {},
   "outputs": [],
   "source": [
    "df.index"
   ]
  },
  {
   "cell_type": "code",
   "execution_count": null,
   "metadata": {},
   "outputs": [],
   "source": [
    "df.loc[\"2011\":\"2012\"]"
   ]
  },
  {
   "cell_type": "markdown",
   "metadata": {},
   "source": [
    "Sempre que formos trabalhar com preços de ativos, é importante que trabalhemos com o **preço ajustado**, que nada mais é que o preço acrescido do pagamento de dividendos."
   ]
  },
  {
   "cell_type": "code",
   "execution_count": null,
   "metadata": {},
   "outputs": [],
   "source": [
    "df[\"Adj Close\"]"
   ]
  },
  {
   "cell_type": "code",
   "execution_count": null,
   "metadata": {},
   "outputs": [],
   "source": [
    "precos = df[\"Adj Close\"]"
   ]
  },
  {
   "cell_type": "code",
   "execution_count": null,
   "metadata": {},
   "outputs": [],
   "source": [
    "precos"
   ]
  },
  {
   "cell_type": "code",
   "execution_count": null,
   "metadata": {},
   "outputs": [],
   "source": [
    "precos.describe()"
   ]
  },
  {
   "cell_type": "markdown",
   "metadata": {},
   "source": [
    "________\n",
    "\n",
    "### 2.1) Plotando séries temporais"
   ]
  },
  {
   "cell_type": "markdown",
   "metadata": {},
   "source": [
    "A forma mais simples de plotar uma série temporal é através do método `plot()` do próprio pandas."
   ]
  },
  {
   "cell_type": "code",
   "execution_count": null,
   "metadata": {},
   "outputs": [],
   "source": [
    "# plotanto o preço de fechamento ajustado\n",
    "\n",
    "plt.figure(figsize=(14, 6))\n",
    "plt.title(f\"{ticker} - preço de fechamento ajustado\")\n",
    "\n",
    "# plot com o pandas\n",
    "precos.plot()\n",
    "\n",
    "plt.show()"
   ]
  },
  {
   "cell_type": "markdown",
   "metadata": {},
   "source": [
    "Outra forma (um pouco mais flexível) é utilizando o seaborn"
   ]
  },
  {
   "cell_type": "code",
   "execution_count": null,
   "metadata": {},
   "outputs": [],
   "source": [
    "plt.figure(figsize=(14, 6))\n",
    "plt.title(f\"{ticker} - preço de fechamento ajustado\")\n",
    "\n",
    "# plot com o seaborn\n",
    "sns.lineplot(x=precos.index, y=precos.values, label=\"série temporal\", color=\"red\")\n",
    "\n",
    "plt.legend()\n",
    "plt.show()"
   ]
  },
  {
   "cell_type": "markdown",
   "metadata": {},
   "source": [
    "Há ainda, a possibilidade de utilizar a biblioteca [plotly](https://plotly.com/python/), que produz gráficos interativos muito interessantes!\n",
    "\n",
    "Obs.: instale a biblioteca conforme `pip install plotly==3.7.1`"
   ]
  },
  {
   "cell_type": "code",
   "execution_count": null,
   "metadata": {},
   "outputs": [],
   "source": [
    "import plotly\n",
    "import plotly.graph_objs as go\n",
    "from plotly.offline import *\n",
    "\n",
    "# pra plotar no jupyter\n",
    "init_notebook_mode(connected=True)\n",
    "    \n",
    "# definindo os dados a serem plotados (note os índices no eixo x)\n",
    "data = [go.Scatter(x=precos.index, y = precos)]\n",
    "\n",
    "# definindo os botões interativos\n",
    "botoes = {\"buttons\" : [{\"count\" : 1, \"label\" : \"1m\", \"step\" : \"month\", \"stepmode\" : \"backward\"},\n",
    "                       {\"count\" : 6, \"label\" : \"6m\", \"step\" : \"month\", \"stepmode\" : \"backward\"},\n",
    "                       {\"count\" : 12, \"label\" : \"12m\", \"step\" : \"month\", \"stepmode\" : \"backward\"},\n",
    "                       {\"step\" : \"all\"}]\n",
    "         }\n",
    "\n",
    "# definindo o eixo x com a interatividade: botões e uma janela deslizante\n",
    "eixo_x = {\"rangeselector\" : botoes,\n",
    "          \"rangeslider\" : {\"visible\" : True}\n",
    "         }\n",
    "\n",
    "# definindo o layout\n",
    "layout = {\"title\" : f\"{ticker} - preço de fechamento ajustado\",\n",
    "          \"xaxis\" : eixo_x}\n",
    "\n",
    "# dicionario final para o plot\n",
    "fig = {\"data\" : data, \"layout\" : layout}\n",
    "\n",
    "# fazendo o plot\n",
    "plotly.offline.iplot(fig)"
   ]
  },
  {
   "cell_type": "markdown",
   "metadata": {
    "heading_collapsed": true
   },
   "source": [
    "_______\n",
    "\n",
    "### 2.2) Janelas deslizantes\n",
    "\n",
    "É muito comum que séries temporais de preços de ativos financeiros apresentem grandes oscilações, como esta que estamos estudando.\n",
    "\n",
    "Para eliminar estas variações e **suavizar** a série temporal, de modo que possa ser mais simples observar tendências e movimentos, é comum utilizarmos a técnica de **janela de média móvel (deslizante)**, que consiste em substituir os valores ao fim da janela pela **média** dos valores da janela imediatamente anterior.\n",
    "\n",
    "É muito simples fazer isso com o pandas, utilizando o método `rolling`:"
   ]
  },
  {
   "cell_type": "code",
   "execution_count": null,
   "metadata": {},
   "outputs": [],
   "source": [
    "precos"
   ]
  },
  {
   "cell_type": "code",
   "execution_count": null,
   "metadata": {},
   "outputs": [],
   "source": [
    "precos.iloc[:3].mean()"
   ]
  },
  {
   "cell_type": "code",
   "execution_count": null,
   "metadata": {},
   "outputs": [],
   "source": [
    "# janela deslizante de 30 dias\n",
    "\n",
    "precos.rolling(window='30D').mean()"
   ]
  },
  {
   "cell_type": "markdown",
   "metadata": {},
   "source": [
    "Vamos plotar a série suavizada com a série original para compararmos:"
   ]
  },
  {
   "cell_type": "code",
   "execution_count": null,
   "metadata": {},
   "outputs": [],
   "source": [
    "plt.figure(figsize=(14, 6))\n",
    "plt.title(f\"{ticker} - preço de fechamento ajustado\")\n",
    "\n",
    "sns.lineplot(x=precos.index, y=precos, label=\"ST de preços original\", alpha=0.6)\n",
    "\n",
    "precos_30d = precos.rolling(window='30D').mean()\n",
    "sns.lineplot(x=precos_30d.index, y=precos_30d, \n",
    "             label=\"ST de preços com janela deslizante de 30 dias\", color=\"red\")\n",
    "\n",
    "plt.legend()\n",
    "plt.show()"
   ]
  },
  {
   "cell_type": "markdown",
   "metadata": {},
   "source": [
    "Comparando diferentes janelas:"
   ]
  },
  {
   "cell_type": "code",
   "execution_count": null,
   "metadata": {},
   "outputs": [],
   "source": [
    "plt.figure(figsize=(14, 6))\n",
    "plt.title(f\"{ticker} - preço de fechamento ajustado\")\n",
    "\n",
    "# série original\n",
    "sns.lineplot(x=precos.index, y=precos, label=\"ST de preços original\")\n",
    "\n",
    "precos_30d = precos.rolling(window='30D').mean()\n",
    "sns.lineplot(x=precos_30d.index, y=precos_30d, label=\"ST de preços com janela deslizante de 30 dias\")\n",
    "\n",
    "precos_90d = precos.rolling(window='90D').mean()\n",
    "sns.lineplot(x=precos_90d.index, y=precos_90d, label=\"ST de preços com janela deslizante de 90 dias\")\n",
    "\n",
    "precos_120d = precos.rolling(window='120D').mean()\n",
    "sns.lineplot(x=precos_120d.index, y=precos_120d, label=\"ST de preços com janela deslizante de 120 dias\")\n",
    "\n",
    "plt.legend()\n",
    "plt.show()"
   ]
  },
  {
   "cell_type": "markdown",
   "metadata": {},
   "source": [
    "Com o plotly:"
   ]
  },
  {
   "cell_type": "code",
   "execution_count": null,
   "metadata": {},
   "outputs": [],
   "source": [
    "# definindo os dados a serem plotados (note os índices no eixo x)\n",
    "data = [go.Scatter(x=precos.index, y = precos, name=\"ST preços original\"),\n",
    "        go.Scatter(x=precos_30d.index, y = precos_30d, name=\"ST preços jd 30 dias\"),\n",
    "        go.Scatter(x=precos_90d.index, y = precos_90d, name=\"ST preços jd 90 dias\"),\n",
    "        go.Scatter(x=precos_120d.index, y = precos_120d, name=\"ST preços jd 120 dias\")]\n",
    "\n",
    "# definindo os botões interativos\n",
    "botoes = {\"buttons\" : [{\"count\" : 1, \"label\" : \"1m\", \"step\" : \"month\", \"stepmode\" : \"backward\"},\n",
    "                       {\"count\" : 6, \"label\" : \"6m\", \"step\" : \"month\", \"stepmode\" : \"backward\"}, \n",
    "                       {\"step\" : \"all\"}]\n",
    "         }\n",
    "\n",
    "# definindo o eixo x com a interatividade: botões e uma janela deslizante\n",
    "eixo_x = {\"rangeselector\" : botoes,\n",
    "          \"rangeslider\" : {\"visible\" : True}\n",
    "         }\n",
    "\n",
    "# definindo as posições das legendas\n",
    "legenda = {\"yanchor\" : \"top\", \"y\" : 0.99, \"xanchor\" : \"left\", \"x\" : 0.01}\n",
    "\n",
    "# definindo o layout\n",
    "layout = {\"title\" : f\"{ticker} - preço de fechamento ajustado\",\n",
    "          \"xaxis\" : eixo_x,\n",
    "          \"legend\" : legenda}\n",
    "\n",
    "# dicionario final para o plot\n",
    "fig = {\"data\" : data, \"layout\" : layout}\n",
    "\n",
    "# fazendo o plot\n",
    "plotly.offline.iplot(fig)"
   ]
  }
 ],
 "metadata": {
  "kernelspec": {
   "display_name": "Python 3",
   "language": "python",
   "name": "python3"
  },
  "language_info": {
   "codemirror_mode": {
    "name": "ipython",
    "version": 3
   },
   "file_extension": ".py",
   "mimetype": "text/x-python",
   "name": "python",
   "nbconvert_exporter": "python",
   "pygments_lexer": "ipython3",
   "version": "3.8.3"
  }
 },
 "nbformat": 4,
 "nbformat_minor": 2
}
