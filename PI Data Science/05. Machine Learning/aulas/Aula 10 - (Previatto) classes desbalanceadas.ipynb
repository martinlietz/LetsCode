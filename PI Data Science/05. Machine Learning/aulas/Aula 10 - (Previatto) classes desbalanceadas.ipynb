{
 "cells": [
  {
   "cell_type": "markdown",
   "metadata": {},
   "source": [
    "# Aula X - Classes desbalanceadas"
   ]
  },
  {
   "cell_type": "markdown",
   "metadata": {},
   "source": [
    "Ao ler tutoriais e aulas sobre classificação, você deve estar acostumado a enconcontrar datasets em que as classes a serem modeladas estão balanceadas, ou seja, o conjunto de dados possui a mesma quantidade de observações para cada classe, vamos ver um exemplo clássico?"
   ]
  },
  {
   "cell_type": "code",
   "execution_count": 1,
   "metadata": {
    "ExecuteTime": {
     "end_time": "2021-09-10T21:48:49.230452Z",
     "start_time": "2021-09-10T21:48:37.934355Z"
    }
   },
   "outputs": [],
   "source": [
    "# importando algumas libs básicas\n",
    "\n",
    "import pandas as pd\n",
    "import numpy as np"
   ]
  },
  {
   "cell_type": "code",
   "execution_count": 5,
   "metadata": {
    "ExecuteTime": {
     "end_time": "2021-09-10T22:19:37.413760Z",
     "start_time": "2021-09-10T22:19:23.206899Z"
    }
   },
   "outputs": [],
   "source": [
    "from sklearn import datasets\n",
    "\n",
    "iris = datasets.load_iris()\n",
    "x= iris.data\n",
    "y= iris.target\n",
    "\n"
   ]
  },
  {
   "cell_type": "code",
   "execution_count": 6,
   "metadata": {
    "ExecuteTime": {
     "end_time": "2021-09-10T22:19:38.174672Z",
     "start_time": "2021-09-10T22:19:38.113480Z"
    }
   },
   "outputs": [
    {
     "data": {
      "text/plain": [
       "array([[5.1, 3.5, 1.4, 0.2],\n",
       "       [4.9, 3. , 1.4, 0.2],\n",
       "       [4.7, 3.2, 1.3, 0.2],\n",
       "       [4.6, 3.1, 1.5, 0.2],\n",
       "       [5. , 3.6, 1.4, 0.2],\n",
       "       [5.4, 3.9, 1.7, 0.4],\n",
       "       [4.6, 3.4, 1.4, 0.3],\n",
       "       [5. , 3.4, 1.5, 0.2],\n",
       "       [4.4, 2.9, 1.4, 0.2],\n",
       "       [4.9, 3.1, 1.5, 0.1],\n",
       "       [5.4, 3.7, 1.5, 0.2],\n",
       "       [4.8, 3.4, 1.6, 0.2],\n",
       "       [4.8, 3. , 1.4, 0.1],\n",
       "       [4.3, 3. , 1.1, 0.1],\n",
       "       [5.8, 4. , 1.2, 0.2],\n",
       "       [5.7, 4.4, 1.5, 0.4],\n",
       "       [5.4, 3.9, 1.3, 0.4],\n",
       "       [5.1, 3.5, 1.4, 0.3],\n",
       "       [5.7, 3.8, 1.7, 0.3],\n",
       "       [5.1, 3.8, 1.5, 0.3],\n",
       "       [5.4, 3.4, 1.7, 0.2],\n",
       "       [5.1, 3.7, 1.5, 0.4],\n",
       "       [4.6, 3.6, 1. , 0.2],\n",
       "       [5.1, 3.3, 1.7, 0.5],\n",
       "       [4.8, 3.4, 1.9, 0.2],\n",
       "       [5. , 3. , 1.6, 0.2],\n",
       "       [5. , 3.4, 1.6, 0.4],\n",
       "       [5.2, 3.5, 1.5, 0.2],\n",
       "       [5.2, 3.4, 1.4, 0.2],\n",
       "       [4.7, 3.2, 1.6, 0.2],\n",
       "       [4.8, 3.1, 1.6, 0.2],\n",
       "       [5.4, 3.4, 1.5, 0.4],\n",
       "       [5.2, 4.1, 1.5, 0.1],\n",
       "       [5.5, 4.2, 1.4, 0.2],\n",
       "       [4.9, 3.1, 1.5, 0.2],\n",
       "       [5. , 3.2, 1.2, 0.2],\n",
       "       [5.5, 3.5, 1.3, 0.2],\n",
       "       [4.9, 3.6, 1.4, 0.1],\n",
       "       [4.4, 3. , 1.3, 0.2],\n",
       "       [5.1, 3.4, 1.5, 0.2],\n",
       "       [5. , 3.5, 1.3, 0.3],\n",
       "       [4.5, 2.3, 1.3, 0.3],\n",
       "       [4.4, 3.2, 1.3, 0.2],\n",
       "       [5. , 3.5, 1.6, 0.6],\n",
       "       [5.1, 3.8, 1.9, 0.4],\n",
       "       [4.8, 3. , 1.4, 0.3],\n",
       "       [5.1, 3.8, 1.6, 0.2],\n",
       "       [4.6, 3.2, 1.4, 0.2],\n",
       "       [5.3, 3.7, 1.5, 0.2],\n",
       "       [5. , 3.3, 1.4, 0.2],\n",
       "       [7. , 3.2, 4.7, 1.4],\n",
       "       [6.4, 3.2, 4.5, 1.5],\n",
       "       [6.9, 3.1, 4.9, 1.5],\n",
       "       [5.5, 2.3, 4. , 1.3],\n",
       "       [6.5, 2.8, 4.6, 1.5],\n",
       "       [5.7, 2.8, 4.5, 1.3],\n",
       "       [6.3, 3.3, 4.7, 1.6],\n",
       "       [4.9, 2.4, 3.3, 1. ],\n",
       "       [6.6, 2.9, 4.6, 1.3],\n",
       "       [5.2, 2.7, 3.9, 1.4],\n",
       "       [5. , 2. , 3.5, 1. ],\n",
       "       [5.9, 3. , 4.2, 1.5],\n",
       "       [6. , 2.2, 4. , 1. ],\n",
       "       [6.1, 2.9, 4.7, 1.4],\n",
       "       [5.6, 2.9, 3.6, 1.3],\n",
       "       [6.7, 3.1, 4.4, 1.4],\n",
       "       [5.6, 3. , 4.5, 1.5],\n",
       "       [5.8, 2.7, 4.1, 1. ],\n",
       "       [6.2, 2.2, 4.5, 1.5],\n",
       "       [5.6, 2.5, 3.9, 1.1],\n",
       "       [5.9, 3.2, 4.8, 1.8],\n",
       "       [6.1, 2.8, 4. , 1.3],\n",
       "       [6.3, 2.5, 4.9, 1.5],\n",
       "       [6.1, 2.8, 4.7, 1.2],\n",
       "       [6.4, 2.9, 4.3, 1.3],\n",
       "       [6.6, 3. , 4.4, 1.4],\n",
       "       [6.8, 2.8, 4.8, 1.4],\n",
       "       [6.7, 3. , 5. , 1.7],\n",
       "       [6. , 2.9, 4.5, 1.5],\n",
       "       [5.7, 2.6, 3.5, 1. ],\n",
       "       [5.5, 2.4, 3.8, 1.1],\n",
       "       [5.5, 2.4, 3.7, 1. ],\n",
       "       [5.8, 2.7, 3.9, 1.2],\n",
       "       [6. , 2.7, 5.1, 1.6],\n",
       "       [5.4, 3. , 4.5, 1.5],\n",
       "       [6. , 3.4, 4.5, 1.6],\n",
       "       [6.7, 3.1, 4.7, 1.5],\n",
       "       [6.3, 2.3, 4.4, 1.3],\n",
       "       [5.6, 3. , 4.1, 1.3],\n",
       "       [5.5, 2.5, 4. , 1.3],\n",
       "       [5.5, 2.6, 4.4, 1.2],\n",
       "       [6.1, 3. , 4.6, 1.4],\n",
       "       [5.8, 2.6, 4. , 1.2],\n",
       "       [5. , 2.3, 3.3, 1. ],\n",
       "       [5.6, 2.7, 4.2, 1.3],\n",
       "       [5.7, 3. , 4.2, 1.2],\n",
       "       [5.7, 2.9, 4.2, 1.3],\n",
       "       [6.2, 2.9, 4.3, 1.3],\n",
       "       [5.1, 2.5, 3. , 1.1],\n",
       "       [5.7, 2.8, 4.1, 1.3],\n",
       "       [6.3, 3.3, 6. , 2.5],\n",
       "       [5.8, 2.7, 5.1, 1.9],\n",
       "       [7.1, 3. , 5.9, 2.1],\n",
       "       [6.3, 2.9, 5.6, 1.8],\n",
       "       [6.5, 3. , 5.8, 2.2],\n",
       "       [7.6, 3. , 6.6, 2.1],\n",
       "       [4.9, 2.5, 4.5, 1.7],\n",
       "       [7.3, 2.9, 6.3, 1.8],\n",
       "       [6.7, 2.5, 5.8, 1.8],\n",
       "       [7.2, 3.6, 6.1, 2.5],\n",
       "       [6.5, 3.2, 5.1, 2. ],\n",
       "       [6.4, 2.7, 5.3, 1.9],\n",
       "       [6.8, 3. , 5.5, 2.1],\n",
       "       [5.7, 2.5, 5. , 2. ],\n",
       "       [5.8, 2.8, 5.1, 2.4],\n",
       "       [6.4, 3.2, 5.3, 2.3],\n",
       "       [6.5, 3. , 5.5, 1.8],\n",
       "       [7.7, 3.8, 6.7, 2.2],\n",
       "       [7.7, 2.6, 6.9, 2.3],\n",
       "       [6. , 2.2, 5. , 1.5],\n",
       "       [6.9, 3.2, 5.7, 2.3],\n",
       "       [5.6, 2.8, 4.9, 2. ],\n",
       "       [7.7, 2.8, 6.7, 2. ],\n",
       "       [6.3, 2.7, 4.9, 1.8],\n",
       "       [6.7, 3.3, 5.7, 2.1],\n",
       "       [7.2, 3.2, 6. , 1.8],\n",
       "       [6.2, 2.8, 4.8, 1.8],\n",
       "       [6.1, 3. , 4.9, 1.8],\n",
       "       [6.4, 2.8, 5.6, 2.1],\n",
       "       [7.2, 3. , 5.8, 1.6],\n",
       "       [7.4, 2.8, 6.1, 1.9],\n",
       "       [7.9, 3.8, 6.4, 2. ],\n",
       "       [6.4, 2.8, 5.6, 2.2],\n",
       "       [6.3, 2.8, 5.1, 1.5],\n",
       "       [6.1, 2.6, 5.6, 1.4],\n",
       "       [7.7, 3. , 6.1, 2.3],\n",
       "       [6.3, 3.4, 5.6, 2.4],\n",
       "       [6.4, 3.1, 5.5, 1.8],\n",
       "       [6. , 3. , 4.8, 1.8],\n",
       "       [6.9, 3.1, 5.4, 2.1],\n",
       "       [6.7, 3.1, 5.6, 2.4],\n",
       "       [6.9, 3.1, 5.1, 2.3],\n",
       "       [5.8, 2.7, 5.1, 1.9],\n",
       "       [6.8, 3.2, 5.9, 2.3],\n",
       "       [6.7, 3.3, 5.7, 2.5],\n",
       "       [6.7, 3. , 5.2, 2.3],\n",
       "       [6.3, 2.5, 5. , 1.9],\n",
       "       [6.5, 3. , 5.2, 2. ],\n",
       "       [6.2, 3.4, 5.4, 2.3],\n",
       "       [5.9, 3. , 5.1, 1.8]])"
      ]
     },
     "execution_count": 6,
     "metadata": {},
     "output_type": "execute_result"
    }
   ],
   "source": [
    "x"
   ]
  },
  {
   "cell_type": "code",
   "execution_count": 8,
   "metadata": {
    "ExecuteTime": {
     "end_time": "2021-09-10T22:20:37.294736Z",
     "start_time": "2021-09-10T22:20:36.990205Z"
    }
   },
   "outputs": [
    {
     "data": {
      "text/plain": [
       "(array([0, 1, 2]), array([50, 50, 50], dtype=int64))"
      ]
     },
     "execution_count": 8,
     "metadata": {},
     "output_type": "execute_result"
    }
   ],
   "source": [
    "np.unique(y, return_counts=True)"
   ]
  },
  {
   "cell_type": "markdown",
   "metadata": {
    "ExecuteTime": {
     "end_time": "2021-09-01T00:50:44.958222Z",
     "start_time": "2021-09-01T00:50:44.946253Z"
    }
   },
   "source": [
    "Vamos examinar as quantidades de obervações para cada target:"
   ]
  },
  {
   "cell_type": "code",
   "execution_count": null,
   "metadata": {
    "ExecuteTime": {
     "end_time": "2021-09-08T11:36:36.865239Z",
     "start_time": "2021-09-08T11:36:36.803993Z"
    }
   },
   "outputs": [],
   "source": []
  },
  {
   "cell_type": "markdown",
   "metadata": {
    "ExecuteTime": {
     "end_time": "2021-09-01T00:59:35.889429Z",
     "start_time": "2021-09-01T00:59:35.883448Z"
    }
   },
   "source": [
    "Ter exatamente a mesma quantidade de observações para cada classe não é comum. \n",
    "\n",
    "As observações coletadas dependem de vários fatores, entre eles: erros, formato de amostragem e a própria natureza do fenômeno que está sendo modelado."
   ]
  },
  {
   "cell_type": "markdown",
   "metadata": {},
   "source": [
    "Exemplo? Fraudes de cartão, é natural que a grande maioria das transações em um e-commerce sejam fidedignas, porém as fraudes podem causar tantos danos que acaba sendo vantajoso evitá-las:\n",
    "\n",
    "https://extra.globo.com/economia/tentativas-de-fraude-no-commerce-crescem-mais-de-45-na-pandemia-24873893.html\n",
    "\n",
    "\"De março a dezembro de 2020, foram registradas 3,2 milhões de tentativas de fraude no e-commerce, uma alta de mais de 45% em relação ao mesmo período de 2019 [...]  Isso significa um prejuízo de R$ 7 mil por minuto.\""
   ]
  },
  {
   "cell_type": "markdown",
   "metadata": {
    "ExecuteTime": {
     "end_time": "2021-09-01T01:27:13.575297Z",
     "start_time": "2021-09-01T01:27:13.564322Z"
    }
   },
   "source": [
    "### Vamos fazer um modelo que ajude nosso e-commerce a determinar se uma tentativa de transação é uma fraude e evitá-la"
   ]
  },
  {
   "cell_type": "code",
   "execution_count": 9,
   "metadata": {
    "ExecuteTime": {
     "end_time": "2021-09-10T22:22:14.759937Z",
     "start_time": "2021-09-10T22:22:11.717958Z"
    }
   },
   "outputs": [],
   "source": [
    "base = pd.read_csv('E:\\\\Downloads\\\\Dowload C\\\\creditcard.csv\\\\creditcard.csv')"
   ]
  },
  {
   "cell_type": "code",
   "execution_count": 10,
   "metadata": {
    "ExecuteTime": {
     "end_time": "2021-09-10T22:22:28.640662Z",
     "start_time": "2021-09-10T22:22:28.360379Z"
    }
   },
   "outputs": [
    {
     "data": {
      "text/html": [
       "<div>\n",
       "<style scoped>\n",
       "    .dataframe tbody tr th:only-of-type {\n",
       "        vertical-align: middle;\n",
       "    }\n",
       "\n",
       "    .dataframe tbody tr th {\n",
       "        vertical-align: top;\n",
       "    }\n",
       "\n",
       "    .dataframe thead th {\n",
       "        text-align: right;\n",
       "    }\n",
       "</style>\n",
       "<table border=\"1\" class=\"dataframe\">\n",
       "  <thead>\n",
       "    <tr style=\"text-align: right;\">\n",
       "      <th></th>\n",
       "      <th>Time</th>\n",
       "      <th>V1</th>\n",
       "      <th>V2</th>\n",
       "      <th>V3</th>\n",
       "      <th>V4</th>\n",
       "      <th>V5</th>\n",
       "      <th>V6</th>\n",
       "      <th>V7</th>\n",
       "      <th>V8</th>\n",
       "      <th>V9</th>\n",
       "      <th>...</th>\n",
       "      <th>V21</th>\n",
       "      <th>V22</th>\n",
       "      <th>V23</th>\n",
       "      <th>V24</th>\n",
       "      <th>V25</th>\n",
       "      <th>V26</th>\n",
       "      <th>V27</th>\n",
       "      <th>V28</th>\n",
       "      <th>Amount</th>\n",
       "      <th>Class</th>\n",
       "    </tr>\n",
       "  </thead>\n",
       "  <tbody>\n",
       "    <tr>\n",
       "      <th>0</th>\n",
       "      <td>0.0</td>\n",
       "      <td>-1.359807</td>\n",
       "      <td>-0.072781</td>\n",
       "      <td>2.536347</td>\n",
       "      <td>1.378155</td>\n",
       "      <td>-0.338321</td>\n",
       "      <td>0.462388</td>\n",
       "      <td>0.239599</td>\n",
       "      <td>0.098698</td>\n",
       "      <td>0.363787</td>\n",
       "      <td>...</td>\n",
       "      <td>-0.018307</td>\n",
       "      <td>0.277838</td>\n",
       "      <td>-0.110474</td>\n",
       "      <td>0.066928</td>\n",
       "      <td>0.128539</td>\n",
       "      <td>-0.189115</td>\n",
       "      <td>0.133558</td>\n",
       "      <td>-0.021053</td>\n",
       "      <td>149.62</td>\n",
       "      <td>0</td>\n",
       "    </tr>\n",
       "    <tr>\n",
       "      <th>1</th>\n",
       "      <td>0.0</td>\n",
       "      <td>1.191857</td>\n",
       "      <td>0.266151</td>\n",
       "      <td>0.166480</td>\n",
       "      <td>0.448154</td>\n",
       "      <td>0.060018</td>\n",
       "      <td>-0.082361</td>\n",
       "      <td>-0.078803</td>\n",
       "      <td>0.085102</td>\n",
       "      <td>-0.255425</td>\n",
       "      <td>...</td>\n",
       "      <td>-0.225775</td>\n",
       "      <td>-0.638672</td>\n",
       "      <td>0.101288</td>\n",
       "      <td>-0.339846</td>\n",
       "      <td>0.167170</td>\n",
       "      <td>0.125895</td>\n",
       "      <td>-0.008983</td>\n",
       "      <td>0.014724</td>\n",
       "      <td>2.69</td>\n",
       "      <td>0</td>\n",
       "    </tr>\n",
       "    <tr>\n",
       "      <th>2</th>\n",
       "      <td>1.0</td>\n",
       "      <td>-1.358354</td>\n",
       "      <td>-1.340163</td>\n",
       "      <td>1.773209</td>\n",
       "      <td>0.379780</td>\n",
       "      <td>-0.503198</td>\n",
       "      <td>1.800499</td>\n",
       "      <td>0.791461</td>\n",
       "      <td>0.247676</td>\n",
       "      <td>-1.514654</td>\n",
       "      <td>...</td>\n",
       "      <td>0.247998</td>\n",
       "      <td>0.771679</td>\n",
       "      <td>0.909412</td>\n",
       "      <td>-0.689281</td>\n",
       "      <td>-0.327642</td>\n",
       "      <td>-0.139097</td>\n",
       "      <td>-0.055353</td>\n",
       "      <td>-0.059752</td>\n",
       "      <td>378.66</td>\n",
       "      <td>0</td>\n",
       "    </tr>\n",
       "    <tr>\n",
       "      <th>3</th>\n",
       "      <td>1.0</td>\n",
       "      <td>-0.966272</td>\n",
       "      <td>-0.185226</td>\n",
       "      <td>1.792993</td>\n",
       "      <td>-0.863291</td>\n",
       "      <td>-0.010309</td>\n",
       "      <td>1.247203</td>\n",
       "      <td>0.237609</td>\n",
       "      <td>0.377436</td>\n",
       "      <td>-1.387024</td>\n",
       "      <td>...</td>\n",
       "      <td>-0.108300</td>\n",
       "      <td>0.005274</td>\n",
       "      <td>-0.190321</td>\n",
       "      <td>-1.175575</td>\n",
       "      <td>0.647376</td>\n",
       "      <td>-0.221929</td>\n",
       "      <td>0.062723</td>\n",
       "      <td>0.061458</td>\n",
       "      <td>123.50</td>\n",
       "      <td>0</td>\n",
       "    </tr>\n",
       "    <tr>\n",
       "      <th>4</th>\n",
       "      <td>2.0</td>\n",
       "      <td>-1.158233</td>\n",
       "      <td>0.877737</td>\n",
       "      <td>1.548718</td>\n",
       "      <td>0.403034</td>\n",
       "      <td>-0.407193</td>\n",
       "      <td>0.095921</td>\n",
       "      <td>0.592941</td>\n",
       "      <td>-0.270533</td>\n",
       "      <td>0.817739</td>\n",
       "      <td>...</td>\n",
       "      <td>-0.009431</td>\n",
       "      <td>0.798278</td>\n",
       "      <td>-0.137458</td>\n",
       "      <td>0.141267</td>\n",
       "      <td>-0.206010</td>\n",
       "      <td>0.502292</td>\n",
       "      <td>0.219422</td>\n",
       "      <td>0.215153</td>\n",
       "      <td>69.99</td>\n",
       "      <td>0</td>\n",
       "    </tr>\n",
       "    <tr>\n",
       "      <th>...</th>\n",
       "      <td>...</td>\n",
       "      <td>...</td>\n",
       "      <td>...</td>\n",
       "      <td>...</td>\n",
       "      <td>...</td>\n",
       "      <td>...</td>\n",
       "      <td>...</td>\n",
       "      <td>...</td>\n",
       "      <td>...</td>\n",
       "      <td>...</td>\n",
       "      <td>...</td>\n",
       "      <td>...</td>\n",
       "      <td>...</td>\n",
       "      <td>...</td>\n",
       "      <td>...</td>\n",
       "      <td>...</td>\n",
       "      <td>...</td>\n",
       "      <td>...</td>\n",
       "      <td>...</td>\n",
       "      <td>...</td>\n",
       "      <td>...</td>\n",
       "    </tr>\n",
       "    <tr>\n",
       "      <th>284802</th>\n",
       "      <td>172786.0</td>\n",
       "      <td>-11.881118</td>\n",
       "      <td>10.071785</td>\n",
       "      <td>-9.834783</td>\n",
       "      <td>-2.066656</td>\n",
       "      <td>-5.364473</td>\n",
       "      <td>-2.606837</td>\n",
       "      <td>-4.918215</td>\n",
       "      <td>7.305334</td>\n",
       "      <td>1.914428</td>\n",
       "      <td>...</td>\n",
       "      <td>0.213454</td>\n",
       "      <td>0.111864</td>\n",
       "      <td>1.014480</td>\n",
       "      <td>-0.509348</td>\n",
       "      <td>1.436807</td>\n",
       "      <td>0.250034</td>\n",
       "      <td>0.943651</td>\n",
       "      <td>0.823731</td>\n",
       "      <td>0.77</td>\n",
       "      <td>0</td>\n",
       "    </tr>\n",
       "    <tr>\n",
       "      <th>284803</th>\n",
       "      <td>172787.0</td>\n",
       "      <td>-0.732789</td>\n",
       "      <td>-0.055080</td>\n",
       "      <td>2.035030</td>\n",
       "      <td>-0.738589</td>\n",
       "      <td>0.868229</td>\n",
       "      <td>1.058415</td>\n",
       "      <td>0.024330</td>\n",
       "      <td>0.294869</td>\n",
       "      <td>0.584800</td>\n",
       "      <td>...</td>\n",
       "      <td>0.214205</td>\n",
       "      <td>0.924384</td>\n",
       "      <td>0.012463</td>\n",
       "      <td>-1.016226</td>\n",
       "      <td>-0.606624</td>\n",
       "      <td>-0.395255</td>\n",
       "      <td>0.068472</td>\n",
       "      <td>-0.053527</td>\n",
       "      <td>24.79</td>\n",
       "      <td>0</td>\n",
       "    </tr>\n",
       "    <tr>\n",
       "      <th>284804</th>\n",
       "      <td>172788.0</td>\n",
       "      <td>1.919565</td>\n",
       "      <td>-0.301254</td>\n",
       "      <td>-3.249640</td>\n",
       "      <td>-0.557828</td>\n",
       "      <td>2.630515</td>\n",
       "      <td>3.031260</td>\n",
       "      <td>-0.296827</td>\n",
       "      <td>0.708417</td>\n",
       "      <td>0.432454</td>\n",
       "      <td>...</td>\n",
       "      <td>0.232045</td>\n",
       "      <td>0.578229</td>\n",
       "      <td>-0.037501</td>\n",
       "      <td>0.640134</td>\n",
       "      <td>0.265745</td>\n",
       "      <td>-0.087371</td>\n",
       "      <td>0.004455</td>\n",
       "      <td>-0.026561</td>\n",
       "      <td>67.88</td>\n",
       "      <td>0</td>\n",
       "    </tr>\n",
       "    <tr>\n",
       "      <th>284805</th>\n",
       "      <td>172788.0</td>\n",
       "      <td>-0.240440</td>\n",
       "      <td>0.530483</td>\n",
       "      <td>0.702510</td>\n",
       "      <td>0.689799</td>\n",
       "      <td>-0.377961</td>\n",
       "      <td>0.623708</td>\n",
       "      <td>-0.686180</td>\n",
       "      <td>0.679145</td>\n",
       "      <td>0.392087</td>\n",
       "      <td>...</td>\n",
       "      <td>0.265245</td>\n",
       "      <td>0.800049</td>\n",
       "      <td>-0.163298</td>\n",
       "      <td>0.123205</td>\n",
       "      <td>-0.569159</td>\n",
       "      <td>0.546668</td>\n",
       "      <td>0.108821</td>\n",
       "      <td>0.104533</td>\n",
       "      <td>10.00</td>\n",
       "      <td>0</td>\n",
       "    </tr>\n",
       "    <tr>\n",
       "      <th>284806</th>\n",
       "      <td>172792.0</td>\n",
       "      <td>-0.533413</td>\n",
       "      <td>-0.189733</td>\n",
       "      <td>0.703337</td>\n",
       "      <td>-0.506271</td>\n",
       "      <td>-0.012546</td>\n",
       "      <td>-0.649617</td>\n",
       "      <td>1.577006</td>\n",
       "      <td>-0.414650</td>\n",
       "      <td>0.486180</td>\n",
       "      <td>...</td>\n",
       "      <td>0.261057</td>\n",
       "      <td>0.643078</td>\n",
       "      <td>0.376777</td>\n",
       "      <td>0.008797</td>\n",
       "      <td>-0.473649</td>\n",
       "      <td>-0.818267</td>\n",
       "      <td>-0.002415</td>\n",
       "      <td>0.013649</td>\n",
       "      <td>217.00</td>\n",
       "      <td>0</td>\n",
       "    </tr>\n",
       "  </tbody>\n",
       "</table>\n",
       "<p>284807 rows × 31 columns</p>\n",
       "</div>"
      ],
      "text/plain": [
       "            Time         V1         V2        V3        V4        V5  \\\n",
       "0            0.0  -1.359807  -0.072781  2.536347  1.378155 -0.338321   \n",
       "1            0.0   1.191857   0.266151  0.166480  0.448154  0.060018   \n",
       "2            1.0  -1.358354  -1.340163  1.773209  0.379780 -0.503198   \n",
       "3            1.0  -0.966272  -0.185226  1.792993 -0.863291 -0.010309   \n",
       "4            2.0  -1.158233   0.877737  1.548718  0.403034 -0.407193   \n",
       "...          ...        ...        ...       ...       ...       ...   \n",
       "284802  172786.0 -11.881118  10.071785 -9.834783 -2.066656 -5.364473   \n",
       "284803  172787.0  -0.732789  -0.055080  2.035030 -0.738589  0.868229   \n",
       "284804  172788.0   1.919565  -0.301254 -3.249640 -0.557828  2.630515   \n",
       "284805  172788.0  -0.240440   0.530483  0.702510  0.689799 -0.377961   \n",
       "284806  172792.0  -0.533413  -0.189733  0.703337 -0.506271 -0.012546   \n",
       "\n",
       "              V6        V7        V8        V9  ...       V21       V22  \\\n",
       "0       0.462388  0.239599  0.098698  0.363787  ... -0.018307  0.277838   \n",
       "1      -0.082361 -0.078803  0.085102 -0.255425  ... -0.225775 -0.638672   \n",
       "2       1.800499  0.791461  0.247676 -1.514654  ...  0.247998  0.771679   \n",
       "3       1.247203  0.237609  0.377436 -1.387024  ... -0.108300  0.005274   \n",
       "4       0.095921  0.592941 -0.270533  0.817739  ... -0.009431  0.798278   \n",
       "...          ...       ...       ...       ...  ...       ...       ...   \n",
       "284802 -2.606837 -4.918215  7.305334  1.914428  ...  0.213454  0.111864   \n",
       "284803  1.058415  0.024330  0.294869  0.584800  ...  0.214205  0.924384   \n",
       "284804  3.031260 -0.296827  0.708417  0.432454  ...  0.232045  0.578229   \n",
       "284805  0.623708 -0.686180  0.679145  0.392087  ...  0.265245  0.800049   \n",
       "284806 -0.649617  1.577006 -0.414650  0.486180  ...  0.261057  0.643078   \n",
       "\n",
       "             V23       V24       V25       V26       V27       V28  Amount  \\\n",
       "0      -0.110474  0.066928  0.128539 -0.189115  0.133558 -0.021053  149.62   \n",
       "1       0.101288 -0.339846  0.167170  0.125895 -0.008983  0.014724    2.69   \n",
       "2       0.909412 -0.689281 -0.327642 -0.139097 -0.055353 -0.059752  378.66   \n",
       "3      -0.190321 -1.175575  0.647376 -0.221929  0.062723  0.061458  123.50   \n",
       "4      -0.137458  0.141267 -0.206010  0.502292  0.219422  0.215153   69.99   \n",
       "...          ...       ...       ...       ...       ...       ...     ...   \n",
       "284802  1.014480 -0.509348  1.436807  0.250034  0.943651  0.823731    0.77   \n",
       "284803  0.012463 -1.016226 -0.606624 -0.395255  0.068472 -0.053527   24.79   \n",
       "284804 -0.037501  0.640134  0.265745 -0.087371  0.004455 -0.026561   67.88   \n",
       "284805 -0.163298  0.123205 -0.569159  0.546668  0.108821  0.104533   10.00   \n",
       "284806  0.376777  0.008797 -0.473649 -0.818267 -0.002415  0.013649  217.00   \n",
       "\n",
       "        Class  \n",
       "0           0  \n",
       "1           0  \n",
       "2           0  \n",
       "3           0  \n",
       "4           0  \n",
       "...       ...  \n",
       "284802      0  \n",
       "284803      0  \n",
       "284804      0  \n",
       "284805      0  \n",
       "284806      0  \n",
       "\n",
       "[284807 rows x 31 columns]"
      ]
     },
     "execution_count": 10,
     "metadata": {},
     "output_type": "execute_result"
    }
   ],
   "source": [
    "base"
   ]
  },
  {
   "cell_type": "code",
   "execution_count": 11,
   "metadata": {
    "ExecuteTime": {
     "end_time": "2021-09-10T22:23:31.431776Z",
     "start_time": "2021-09-10T22:23:31.418833Z"
    }
   },
   "outputs": [
    {
     "data": {
      "text/plain": [
       "0    284315\n",
       "1       492\n",
       "Name: Class, dtype: int64"
      ]
     },
     "execution_count": 11,
     "metadata": {},
     "output_type": "execute_result"
    }
   ],
   "source": [
    "base['Class'].value_counts()"
   ]
  },
  {
   "cell_type": "code",
   "execution_count": 12,
   "metadata": {
    "ExecuteTime": {
     "end_time": "2021-09-10T22:25:12.477199Z",
     "start_time": "2021-09-10T22:25:12.318165Z"
    }
   },
   "outputs": [],
   "source": [
    "df = base.drop(columns=['Time']).sample(100000)"
   ]
  },
  {
   "cell_type": "code",
   "execution_count": 25,
   "metadata": {
    "ExecuteTime": {
     "end_time": "2021-09-10T22:30:22.811367Z",
     "start_time": "2021-09-10T22:30:22.794230Z"
    }
   },
   "outputs": [],
   "source": [
    "Xx = df.drop(columns=['Class'])\n",
    "yy = df[['Class']].copy()"
   ]
  },
  {
   "cell_type": "code",
   "execution_count": 26,
   "metadata": {
    "ExecuteTime": {
     "end_time": "2021-09-10T22:30:26.094332Z",
     "start_time": "2021-09-10T22:30:26.085357Z"
    }
   },
   "outputs": [],
   "source": [
    "yy.rename({'Class':'target'}, axis=1, inplace=True)\n"
   ]
  },
  {
   "cell_type": "code",
   "execution_count": 27,
   "metadata": {
    "ExecuteTime": {
     "end_time": "2021-09-10T22:30:52.586162Z",
     "start_time": "2021-09-10T22:30:52.574185Z"
    }
   },
   "outputs": [
    {
     "data": {
      "text/plain": [
       "0    99829\n",
       "1      171\n",
       "Name: target, dtype: int64"
      ]
     },
     "execution_count": 27,
     "metadata": {},
     "output_type": "execute_result"
    }
   ],
   "source": [
    "yy['target'].value_counts()"
   ]
  },
  {
   "cell_type": "code",
   "execution_count": 30,
   "metadata": {
    "ExecuteTime": {
     "end_time": "2021-09-10T22:34:04.689167Z",
     "start_time": "2021-09-10T22:34:04.640766Z"
    }
   },
   "outputs": [],
   "source": [
    "from sklearn.model_selection import train_test_split\n",
    "\n",
    "X_train, X_test, y_train, y_test = train_test_split(Xx, yy, test_size=0.2, random_state=42)"
   ]
  },
  {
   "cell_type": "code",
   "execution_count": 32,
   "metadata": {
    "ExecuteTime": {
     "end_time": "2021-09-10T22:34:30.357811Z",
     "start_time": "2021-09-10T22:34:30.339830Z"
    }
   },
   "outputs": [
    {
     "data": {
      "text/plain": [
       "0    79861\n",
       "1      139\n",
       "Name: target, dtype: int64"
      ]
     },
     "execution_count": 32,
     "metadata": {},
     "output_type": "execute_result"
    }
   ],
   "source": [
    "y_train['target'].value_counts()"
   ]
  },
  {
   "cell_type": "code",
   "execution_count": 33,
   "metadata": {
    "ExecuteTime": {
     "end_time": "2021-09-10T22:35:07.832843Z",
     "start_time": "2021-09-10T22:35:07.824865Z"
    }
   },
   "outputs": [
    {
     "data": {
      "text/plain": [
       "0    19968\n",
       "1       32\n",
       "Name: target, dtype: int64"
      ]
     },
     "execution_count": 33,
     "metadata": {},
     "output_type": "execute_result"
    }
   ],
   "source": [
    "y_test['target'].value_counts()"
   ]
  },
  {
   "cell_type": "code",
   "execution_count": 34,
   "metadata": {
    "ExecuteTime": {
     "end_time": "2021-09-10T22:38:06.695747Z",
     "start_time": "2021-09-10T22:38:05.540779Z"
    }
   },
   "outputs": [],
   "source": [
    "# Vamos tentar um KNN?\n",
    "\n",
    "from sklearn.neighbors import KNeighborsClassifier\n",
    "\n",
    "clf = KNeighborsClassifier(n_neighbors=15).fit(X_train, y_train['target'])\n"
   ]
  },
  {
   "cell_type": "code",
   "execution_count": 36,
   "metadata": {
    "ExecuteTime": {
     "end_time": "2021-09-10T22:41:44.076037Z",
     "start_time": "2021-09-10T22:41:17.395107Z"
    }
   },
   "outputs": [],
   "source": [
    "from sklearn.metrics import confusion_matrix\n",
    "\n",
    "y_pred = clf.predict(X_test)\n",
    "\n",
    "\n",
    "cm = confusion_matrix(y_test, y_pred)\n",
    "\n"
   ]
  },
  {
   "cell_type": "code",
   "execution_count": 37,
   "metadata": {
    "ExecuteTime": {
     "end_time": "2021-09-10T22:41:44.090819Z",
     "start_time": "2021-09-10T22:41:44.076857Z"
    }
   },
   "outputs": [
    {
     "data": {
      "text/plain": [
       "array([[19967,     1],\n",
       "       [   20,    12]], dtype=int64)"
      ]
     },
     "execution_count": 37,
     "metadata": {},
     "output_type": "execute_result"
    }
   ],
   "source": [
    "cm"
   ]
  },
  {
   "cell_type": "code",
   "execution_count": 41,
   "metadata": {
    "ExecuteTime": {
     "end_time": "2021-09-10T22:43:19.610695Z",
     "start_time": "2021-09-10T22:43:19.588755Z"
    }
   },
   "outputs": [
    {
     "data": {
      "text/plain": [
       "0.9230769230769231"
      ]
     },
     "execution_count": 41,
     "metadata": {},
     "output_type": "execute_result"
    }
   ],
   "source": [
    "cm[1,1]/cm[:,1].sum()"
   ]
  },
  {
   "cell_type": "code",
   "execution_count": 38,
   "metadata": {
    "ExecuteTime": {
     "end_time": "2021-09-10T22:42:39.608883Z",
     "start_time": "2021-09-10T22:42:09.754558Z"
    }
   },
   "outputs": [
    {
     "data": {
      "text/plain": [
       "<sklearn.metrics._plot.confusion_matrix.ConfusionMatrixDisplay at 0x1a90003ccd0>"
      ]
     },
     "execution_count": 38,
     "metadata": {},
     "output_type": "execute_result"
    },
    {
     "data": {
      "image/png": "[encoded data removed]",
      "text/plain": [
       "<Figure size 432x288 with 2 Axes>"
      ]
     },
     "metadata": {
      "needs_background": "light"
     },
     "output_type": "display_data"
    }
   ],
   "source": [
    "from sklearn.metrics import plot_confusion_matrix\n",
    "\n",
    "plot_confusion_matrix(clf, X_test, y_test)"
   ]
  },
  {
   "cell_type": "markdown",
   "metadata": {},
   "source": [
    "Será que ficou bom?"
   ]
  },
  {
   "cell_type": "code",
   "execution_count": 42,
   "metadata": {
    "ExecuteTime": {
     "end_time": "2021-09-10T23:02:30.194907Z",
     "start_time": "2021-09-10T23:02:04.357974Z"
    }
   },
   "outputs": [
    {
     "data": {
      "image/png": "[encoded data removed]",
      "text/plain": [
       "<Figure size 432x288 with 1 Axes>"
      ]
     },
     "metadata": {
      "needs_background": "light"
     },
     "output_type": "display_data"
    }
   ],
   "source": [
    "from sklearn.metrics import precision_recall_curve\n",
    "import matplotlib.pyplot as plt\n",
    "\n",
    "y_score = clf.predict_proba(X_test)[:,1]\n",
    "precision, recall, th = precision_recall_curve(y_test, y_score)\n",
    "\n",
    "plt.plot(th, precision[1:], label=\"Precision\",linewidth=1) \n",
    "plt.plot(th, recall[1:], label=\"Recall\",linewidth=1) \n",
    "plt.title('Precision and recall for different threshold values') \n",
    "plt.xlabel('Threshold') \n",
    "plt.ylabel('Precision/Recall') \n",
    "plt.legend() \n",
    "plt.show()"
   ]
  },
  {
   "cell_type": "code",
   "execution_count": 43,
   "metadata": {
    "ExecuteTime": {
     "end_time": "2021-09-10T23:04:58.906522Z",
     "start_time": "2021-09-10T23:04:31.765686Z"
    }
   },
   "outputs": [
    {
     "data": {
      "text/plain": [
       "array([[19967,     1],\n",
       "       [   20,    12]], dtype=int64)"
      ]
     },
     "execution_count": 43,
     "metadata": {},
     "output_type": "execute_result"
    }
   ],
   "source": [
    "y_pred = clf.predict_proba(X_test)[:,1] >= 0.5\n",
    "\n",
    "\n",
    "confusion_matrix(y_test, y_pred)"
   ]
  },
  {
   "cell_type": "code",
   "execution_count": 44,
   "metadata": {
    "ExecuteTime": {
     "end_time": "2021-09-10T23:05:32.862861Z",
     "start_time": "2021-09-10T23:05:06.254722Z"
    }
   },
   "outputs": [
    {
     "data": {
      "text/plain": [
       "array([[19965,     3],\n",
       "       [   14,    18]], dtype=int64)"
      ]
     },
     "execution_count": 44,
     "metadata": {},
     "output_type": "execute_result"
    }
   ],
   "source": [
    "y_pred = clf.predict_proba(X_test)[:,1] >= 0.2\n",
    "\n",
    "confusion_matrix(y_test, y_pred)"
   ]
  },
  {
   "cell_type": "code",
   "execution_count": 45,
   "metadata": {
    "ExecuteTime": {
     "end_time": "2021-09-10T23:06:48.155525Z",
     "start_time": "2021-09-10T23:06:23.090607Z"
    }
   },
   "outputs": [
    {
     "data": {
      "text/plain": [
       "array([[1., 0.],\n",
       "       [1., 0.],\n",
       "       [1., 0.],\n",
       "       ...,\n",
       "       [1., 0.],\n",
       "       [1., 0.],\n",
       "       [1., 0.]])"
      ]
     },
     "execution_count": 45,
     "metadata": {},
     "output_type": "execute_result"
    }
   ],
   "source": [
    "clf.predict_proba(X_test)"
   ]
  },
  {
   "cell_type": "code",
   "execution_count": 46,
   "metadata": {
    "ExecuteTime": {
     "end_time": "2021-09-10T23:10:48.625966Z",
     "start_time": "2021-09-10T23:10:48.607039Z"
    }
   },
   "outputs": [],
   "source": [
    "# Vamos aproveitar para melhorar esse código da curva de precision e recall?\n",
    "\n",
    "def plot_rp_curve(classificador, X_test, y_test):\n",
    "\n",
    "    y_score = classificador.predict_proba(X_test)[:,1]\n",
    "    \n",
    "    precision, recall, th = precision_recall_curve(y_test, y_score)\n",
    "\n",
    "    plt.plot(th, precision[1:], label=\"Precision\",linewidth=1) \n",
    "    plt.plot(th, recall[1:], label=\"Recall\",linewidth=1) \n",
    "    plt.title('Precision and recall for different threshold values') \n",
    "    plt.xlabel('Threshold') \n",
    "    plt.ylabel('Precision/Recall') \n",
    "    plt.legend() \n",
    "    plt.show()\n"
   ]
  },
  {
   "cell_type": "code",
   "execution_count": 47,
   "metadata": {
    "ExecuteTime": {
     "end_time": "2021-09-10T23:11:28.209036Z",
     "start_time": "2021-09-10T23:11:02.872626Z"
    }
   },
   "outputs": [
    {
     "data": {
      "image/png": "[encoded data removed]",
      "text/plain": [
       "<Figure size 432x288 with 1 Axes>"
      ]
     },
     "metadata": {
      "needs_background": "light"
     },
     "output_type": "display_data"
    }
   ],
   "source": [
    "plot_rp_curve(clf, X_test, y_test)"
   ]
  },
  {
   "cell_type": "markdown",
   "metadata": {},
   "source": [
    "### Balanceamento caseiro"
   ]
  },
  {
   "cell_type": "code",
   "execution_count": 48,
   "metadata": {
    "ExecuteTime": {
     "end_time": "2021-09-10T23:13:28.521451Z",
     "start_time": "2021-09-10T23:13:28.488511Z"
    }
   },
   "outputs": [
    {
     "data": {
      "text/html": [
       "<div>\n",
       "<style scoped>\n",
       "    .dataframe tbody tr th:only-of-type {\n",
       "        vertical-align: middle;\n",
       "    }\n",
       "\n",
       "    .dataframe tbody tr th {\n",
       "        vertical-align: top;\n",
       "    }\n",
       "\n",
       "    .dataframe thead th {\n",
       "        text-align: right;\n",
       "    }\n",
       "</style>\n",
       "<table border=\"1\" class=\"dataframe\">\n",
       "  <thead>\n",
       "    <tr style=\"text-align: right;\">\n",
       "      <th></th>\n",
       "      <th>V1</th>\n",
       "      <th>V2</th>\n",
       "      <th>V3</th>\n",
       "      <th>V4</th>\n",
       "      <th>V5</th>\n",
       "      <th>V6</th>\n",
       "      <th>V7</th>\n",
       "      <th>V8</th>\n",
       "      <th>V9</th>\n",
       "      <th>V10</th>\n",
       "      <th>...</th>\n",
       "      <th>V20</th>\n",
       "      <th>V21</th>\n",
       "      <th>V22</th>\n",
       "      <th>V23</th>\n",
       "      <th>V24</th>\n",
       "      <th>V25</th>\n",
       "      <th>V26</th>\n",
       "      <th>V27</th>\n",
       "      <th>V28</th>\n",
       "      <th>Amount</th>\n",
       "    </tr>\n",
       "  </thead>\n",
       "  <tbody>\n",
       "    <tr>\n",
       "      <th>230233</th>\n",
       "      <td>-2.937856</td>\n",
       "      <td>-0.777447</td>\n",
       "      <td>-0.584056</td>\n",
       "      <td>-0.766860</td>\n",
       "      <td>-2.176300</td>\n",
       "      <td>1.761413</td>\n",
       "      <td>2.226366</td>\n",
       "      <td>0.108665</td>\n",
       "      <td>0.750296</td>\n",
       "      <td>-0.613717</td>\n",
       "      <td>...</td>\n",
       "      <td>-0.965620</td>\n",
       "      <td>-0.110320</td>\n",
       "      <td>0.962133</td>\n",
       "      <td>0.131943</td>\n",
       "      <td>0.329772</td>\n",
       "      <td>-0.082319</td>\n",
       "      <td>0.023843</td>\n",
       "      <td>-0.100216</td>\n",
       "      <td>-0.751451</td>\n",
       "      <td>500.00</td>\n",
       "    </tr>\n",
       "    <tr>\n",
       "      <th>226418</th>\n",
       "      <td>1.577739</td>\n",
       "      <td>-1.094004</td>\n",
       "      <td>-0.754551</td>\n",
       "      <td>0.568612</td>\n",
       "      <td>-0.669933</td>\n",
       "      <td>-0.084754</td>\n",
       "      <td>-0.317009</td>\n",
       "      <td>-0.042189</td>\n",
       "      <td>1.393985</td>\n",
       "      <td>-0.268471</td>\n",
       "      <td>...</td>\n",
       "      <td>0.259853</td>\n",
       "      <td>0.346863</td>\n",
       "      <td>0.736206</td>\n",
       "      <td>-0.084965</td>\n",
       "      <td>0.707484</td>\n",
       "      <td>-0.080356</td>\n",
       "      <td>-0.220650</td>\n",
       "      <td>-0.007569</td>\n",
       "      <td>0.005507</td>\n",
       "      <td>227.69</td>\n",
       "    </tr>\n",
       "    <tr>\n",
       "      <th>209128</th>\n",
       "      <td>1.822068</td>\n",
       "      <td>-0.730061</td>\n",
       "      <td>-0.337648</td>\n",
       "      <td>0.287901</td>\n",
       "      <td>-0.957297</td>\n",
       "      <td>-0.516207</td>\n",
       "      <td>-0.647136</td>\n",
       "      <td>0.062953</td>\n",
       "      <td>0.937940</td>\n",
       "      <td>0.223412</td>\n",
       "      <td>...</td>\n",
       "      <td>-0.088095</td>\n",
       "      <td>0.268515</td>\n",
       "      <td>0.675580</td>\n",
       "      <td>0.139345</td>\n",
       "      <td>0.109532</td>\n",
       "      <td>-0.450763</td>\n",
       "      <td>0.621835</td>\n",
       "      <td>-0.058734</td>\n",
       "      <td>-0.047047</td>\n",
       "      <td>79.00</td>\n",
       "    </tr>\n",
       "    <tr>\n",
       "      <th>116800</th>\n",
       "      <td>1.217769</td>\n",
       "      <td>-0.233493</td>\n",
       "      <td>0.732733</td>\n",
       "      <td>-0.153586</td>\n",
       "      <td>-0.780017</td>\n",
       "      <td>-0.458668</td>\n",
       "      <td>-0.438281</td>\n",
       "      <td>-0.080846</td>\n",
       "      <td>0.543504</td>\n",
       "      <td>-0.278820</td>\n",
       "      <td>...</td>\n",
       "      <td>0.103265</td>\n",
       "      <td>-0.028644</td>\n",
       "      <td>-0.103423</td>\n",
       "      <td>-0.023216</td>\n",
       "      <td>-0.056300</td>\n",
       "      <td>0.119798</td>\n",
       "      <td>0.985489</td>\n",
       "      <td>-0.051635</td>\n",
       "      <td>0.020299</td>\n",
       "      <td>43.25</td>\n",
       "    </tr>\n",
       "    <tr>\n",
       "      <th>36490</th>\n",
       "      <td>-0.416820</td>\n",
       "      <td>0.286581</td>\n",
       "      <td>1.018337</td>\n",
       "      <td>-1.866464</td>\n",
       "      <td>-0.317081</td>\n",
       "      <td>-0.585816</td>\n",
       "      <td>0.350627</td>\n",
       "      <td>-0.141178</td>\n",
       "      <td>-1.478267</td>\n",
       "      <td>0.414721</td>\n",
       "      <td>...</td>\n",
       "      <td>0.003092</td>\n",
       "      <td>0.332563</td>\n",
       "      <td>0.722205</td>\n",
       "      <td>-0.295637</td>\n",
       "      <td>0.037456</td>\n",
       "      <td>0.285016</td>\n",
       "      <td>-0.286924</td>\n",
       "      <td>-0.274881</td>\n",
       "      <td>-0.012855</td>\n",
       "      <td>35.85</td>\n",
       "    </tr>\n",
       "    <tr>\n",
       "      <th>...</th>\n",
       "      <td>...</td>\n",
       "      <td>...</td>\n",
       "      <td>...</td>\n",
       "      <td>...</td>\n",
       "      <td>...</td>\n",
       "      <td>...</td>\n",
       "      <td>...</td>\n",
       "      <td>...</td>\n",
       "      <td>...</td>\n",
       "      <td>...</td>\n",
       "      <td>...</td>\n",
       "      <td>...</td>\n",
       "      <td>...</td>\n",
       "      <td>...</td>\n",
       "      <td>...</td>\n",
       "      <td>...</td>\n",
       "      <td>...</td>\n",
       "      <td>...</td>\n",
       "      <td>...</td>\n",
       "      <td>...</td>\n",
       "      <td>...</td>\n",
       "    </tr>\n",
       "    <tr>\n",
       "      <th>283457</th>\n",
       "      <td>-0.897789</td>\n",
       "      <td>1.769505</td>\n",
       "      <td>-1.903746</td>\n",
       "      <td>-0.146254</td>\n",
       "      <td>0.080330</td>\n",
       "      <td>-0.355971</td>\n",
       "      <td>-1.016931</td>\n",
       "      <td>-1.929671</td>\n",
       "      <td>-0.810758</td>\n",
       "      <td>-1.581314</td>\n",
       "      <td>...</td>\n",
       "      <td>0.267209</td>\n",
       "      <td>-0.846836</td>\n",
       "      <td>1.440168</td>\n",
       "      <td>0.157485</td>\n",
       "      <td>-0.541210</td>\n",
       "      <td>-0.294456</td>\n",
       "      <td>-0.165480</td>\n",
       "      <td>-0.321830</td>\n",
       "      <td>-0.147451</td>\n",
       "      <td>11.76</td>\n",
       "    </tr>\n",
       "    <tr>\n",
       "      <th>216007</th>\n",
       "      <td>0.160783</td>\n",
       "      <td>-2.313273</td>\n",
       "      <td>-0.848760</td>\n",
       "      <td>4.613512</td>\n",
       "      <td>-0.868044</td>\n",
       "      <td>0.422381</td>\n",
       "      <td>1.077712</td>\n",
       "      <td>-0.259029</td>\n",
       "      <td>-0.754410</td>\n",
       "      <td>0.860862</td>\n",
       "      <td>...</td>\n",
       "      <td>1.589620</td>\n",
       "      <td>0.139084</td>\n",
       "      <td>-1.486019</td>\n",
       "      <td>-0.297992</td>\n",
       "      <td>0.021487</td>\n",
       "      <td>-0.840215</td>\n",
       "      <td>-0.611113</td>\n",
       "      <td>-0.157237</td>\n",
       "      <td>0.128590</td>\n",
       "      <td>891.34</td>\n",
       "    </tr>\n",
       "    <tr>\n",
       "      <th>23823</th>\n",
       "      <td>1.144677</td>\n",
       "      <td>-1.102050</td>\n",
       "      <td>0.494801</td>\n",
       "      <td>-0.669567</td>\n",
       "      <td>-1.111119</td>\n",
       "      <td>0.255230</td>\n",
       "      <td>-0.953525</td>\n",
       "      <td>0.247096</td>\n",
       "      <td>-0.431526</td>\n",
       "      <td>0.647787</td>\n",
       "      <td>...</td>\n",
       "      <td>0.158882</td>\n",
       "      <td>0.263735</td>\n",
       "      <td>0.550414</td>\n",
       "      <td>-0.159684</td>\n",
       "      <td>-0.286075</td>\n",
       "      <td>0.376140</td>\n",
       "      <td>-0.114578</td>\n",
       "      <td>0.014905</td>\n",
       "      <td>0.015192</td>\n",
       "      <td>100.00</td>\n",
       "    </tr>\n",
       "    <tr>\n",
       "      <th>58047</th>\n",
       "      <td>-0.481206</td>\n",
       "      <td>0.996137</td>\n",
       "      <td>1.501295</td>\n",
       "      <td>1.315662</td>\n",
       "      <td>-0.052482</td>\n",
       "      <td>-0.216901</td>\n",
       "      <td>1.173334</td>\n",
       "      <td>-0.365159</td>\n",
       "      <td>-0.168740</td>\n",
       "      <td>0.203241</td>\n",
       "      <td>...</td>\n",
       "      <td>0.244467</td>\n",
       "      <td>-0.102692</td>\n",
       "      <td>0.222451</td>\n",
       "      <td>-0.196622</td>\n",
       "      <td>0.423198</td>\n",
       "      <td>-0.030981</td>\n",
       "      <td>-0.294125</td>\n",
       "      <td>0.158322</td>\n",
       "      <td>-0.037269</td>\n",
       "      <td>77.90</td>\n",
       "    </tr>\n",
       "    <tr>\n",
       "      <th>87847</th>\n",
       "      <td>-0.917167</td>\n",
       "      <td>0.251259</td>\n",
       "      <td>1.724767</td>\n",
       "      <td>1.533204</td>\n",
       "      <td>-0.147413</td>\n",
       "      <td>1.323383</td>\n",
       "      <td>-0.876280</td>\n",
       "      <td>0.919098</td>\n",
       "      <td>0.589191</td>\n",
       "      <td>-0.733937</td>\n",
       "      <td>...</td>\n",
       "      <td>0.061200</td>\n",
       "      <td>0.220738</td>\n",
       "      <td>0.892328</td>\n",
       "      <td>-0.278172</td>\n",
       "      <td>-0.845687</td>\n",
       "      <td>-0.132267</td>\n",
       "      <td>0.017978</td>\n",
       "      <td>0.150494</td>\n",
       "      <td>0.030849</td>\n",
       "      <td>15.09</td>\n",
       "    </tr>\n",
       "  </tbody>\n",
       "</table>\n",
       "<p>80000 rows × 29 columns</p>\n",
       "</div>"
      ],
      "text/plain": [
       "              V1        V2        V3        V4        V5        V6        V7  \\\n",
       "230233 -2.937856 -0.777447 -0.584056 -0.766860 -2.176300  1.761413  2.226366   \n",
       "226418  1.577739 -1.094004 -0.754551  0.568612 -0.669933 -0.084754 -0.317009   \n",
       "209128  1.822068 -0.730061 -0.337648  0.287901 -0.957297 -0.516207 -0.647136   \n",
       "116800  1.217769 -0.233493  0.732733 -0.153586 -0.780017 -0.458668 -0.438281   \n",
       "36490  -0.416820  0.286581  1.018337 -1.866464 -0.317081 -0.585816  0.350627   \n",
       "...          ...       ...       ...       ...       ...       ...       ...   \n",
       "283457 -0.897789  1.769505 -1.903746 -0.146254  0.080330 -0.355971 -1.016931   \n",
       "216007  0.160783 -2.313273 -0.848760  4.613512 -0.868044  0.422381  1.077712   \n",
       "23823   1.144677 -1.102050  0.494801 -0.669567 -1.111119  0.255230 -0.953525   \n",
       "58047  -0.481206  0.996137  1.501295  1.315662 -0.052482 -0.216901  1.173334   \n",
       "87847  -0.917167  0.251259  1.724767  1.533204 -0.147413  1.323383 -0.876280   \n",
       "\n",
       "              V8        V9       V10  ...       V20       V21       V22  \\\n",
       "230233  0.108665  0.750296 -0.613717  ... -0.965620 -0.110320  0.962133   \n",
       "226418 -0.042189  1.393985 -0.268471  ...  0.259853  0.346863  0.736206   \n",
       "209128  0.062953  0.937940  0.223412  ... -0.088095  0.268515  0.675580   \n",
       "116800 -0.080846  0.543504 -0.278820  ...  0.103265 -0.028644 -0.103423   \n",
       "36490  -0.141178 -1.478267  0.414721  ...  0.003092  0.332563  0.722205   \n",
       "...          ...       ...       ...  ...       ...       ...       ...   \n",
       "283457 -1.929671 -0.810758 -1.581314  ...  0.267209 -0.846836  1.440168   \n",
       "216007 -0.259029 -0.754410  0.860862  ...  1.589620  0.139084 -1.486019   \n",
       "23823   0.247096 -0.431526  0.647787  ...  0.158882  0.263735  0.550414   \n",
       "58047  -0.365159 -0.168740  0.203241  ...  0.244467 -0.102692  0.222451   \n",
       "87847   0.919098  0.589191 -0.733937  ...  0.061200  0.220738  0.892328   \n",
       "\n",
       "             V23       V24       V25       V26       V27       V28  Amount  \n",
       "230233  0.131943  0.329772 -0.082319  0.023843 -0.100216 -0.751451  500.00  \n",
       "226418 -0.084965  0.707484 -0.080356 -0.220650 -0.007569  0.005507  227.69  \n",
       "209128  0.139345  0.109532 -0.450763  0.621835 -0.058734 -0.047047   79.00  \n",
       "116800 -0.023216 -0.056300  0.119798  0.985489 -0.051635  0.020299   43.25  \n",
       "36490  -0.295637  0.037456  0.285016 -0.286924 -0.274881 -0.012855   35.85  \n",
       "...          ...       ...       ...       ...       ...       ...     ...  \n",
       "283457  0.157485 -0.541210 -0.294456 -0.165480 -0.321830 -0.147451   11.76  \n",
       "216007 -0.297992  0.021487 -0.840215 -0.611113 -0.157237  0.128590  891.34  \n",
       "23823  -0.159684 -0.286075  0.376140 -0.114578  0.014905  0.015192  100.00  \n",
       "58047  -0.196622  0.423198 -0.030981 -0.294125  0.158322 -0.037269   77.90  \n",
       "87847  -0.278172 -0.845687 -0.132267  0.017978  0.150494  0.030849   15.09  \n",
       "\n",
       "[80000 rows x 29 columns]"
      ]
     },
     "execution_count": 48,
     "metadata": {},
     "output_type": "execute_result"
    }
   ],
   "source": [
    "# \n",
    "X_train\n"
   ]
  },
  {
   "cell_type": "code",
   "execution_count": 49,
   "metadata": {
    "ExecuteTime": {
     "end_time": "2021-09-10T23:14:01.273452Z",
     "start_time": "2021-09-10T23:14:01.252485Z"
    },
    "scrolled": true
   },
   "outputs": [
    {
     "data": {
      "text/html": [
       "<div>\n",
       "<style scoped>\n",
       "    .dataframe tbody tr th:only-of-type {\n",
       "        vertical-align: middle;\n",
       "    }\n",
       "\n",
       "    .dataframe tbody tr th {\n",
       "        vertical-align: top;\n",
       "    }\n",
       "\n",
       "    .dataframe thead th {\n",
       "        text-align: right;\n",
       "    }\n",
       "</style>\n",
       "<table border=\"1\" class=\"dataframe\">\n",
       "  <thead>\n",
       "    <tr style=\"text-align: right;\">\n",
       "      <th></th>\n",
       "      <th>target</th>\n",
       "    </tr>\n",
       "  </thead>\n",
       "  <tbody>\n",
       "    <tr>\n",
       "      <th>230233</th>\n",
       "      <td>0</td>\n",
       "    </tr>\n",
       "    <tr>\n",
       "      <th>226418</th>\n",
       "      <td>0</td>\n",
       "    </tr>\n",
       "    <tr>\n",
       "      <th>209128</th>\n",
       "      <td>0</td>\n",
       "    </tr>\n",
       "    <tr>\n",
       "      <th>116800</th>\n",
       "      <td>0</td>\n",
       "    </tr>\n",
       "    <tr>\n",
       "      <th>36490</th>\n",
       "      <td>0</td>\n",
       "    </tr>\n",
       "    <tr>\n",
       "      <th>...</th>\n",
       "      <td>...</td>\n",
       "    </tr>\n",
       "    <tr>\n",
       "      <th>283457</th>\n",
       "      <td>0</td>\n",
       "    </tr>\n",
       "    <tr>\n",
       "      <th>216007</th>\n",
       "      <td>0</td>\n",
       "    </tr>\n",
       "    <tr>\n",
       "      <th>23823</th>\n",
       "      <td>0</td>\n",
       "    </tr>\n",
       "    <tr>\n",
       "      <th>58047</th>\n",
       "      <td>0</td>\n",
       "    </tr>\n",
       "    <tr>\n",
       "      <th>87847</th>\n",
       "      <td>0</td>\n",
       "    </tr>\n",
       "  </tbody>\n",
       "</table>\n",
       "<p>80000 rows × 1 columns</p>\n",
       "</div>"
      ],
      "text/plain": [
       "        target\n",
       "230233       0\n",
       "226418       0\n",
       "209128       0\n",
       "116800       0\n",
       "36490        0\n",
       "...        ...\n",
       "283457       0\n",
       "216007       0\n",
       "23823        0\n",
       "58047        0\n",
       "87847        0\n",
       "\n",
       "[80000 rows x 1 columns]"
      ]
     },
     "execution_count": 49,
     "metadata": {},
     "output_type": "execute_result"
    }
   ],
   "source": [
    "y_train"
   ]
  },
  {
   "cell_type": "code",
   "execution_count": 53,
   "metadata": {
    "ExecuteTime": {
     "end_time": "2021-09-10T23:17:23.367988Z",
     "start_time": "2021-09-10T23:17:23.360013Z"
    }
   },
   "outputs": [],
   "source": [
    "indices_zero = y_train[y_train['target'] == 0].index\n",
    "\n",
    "indices_um = y_train[y_train['target']==1].index"
   ]
  },
  {
   "cell_type": "code",
   "execution_count": 59,
   "metadata": {
    "ExecuteTime": {
     "end_time": "2021-09-10T23:18:57.426856Z",
     "start_time": "2021-09-10T23:18:57.423857Z"
    }
   },
   "outputs": [
    {
     "data": {
      "text/plain": [
       "139"
      ]
     },
     "execution_count": 59,
     "metadata": {},
     "output_type": "execute_result"
    }
   ],
   "source": [
    "qt = len(indices_um)\n",
    "qt"
   ]
  },
  {
   "cell_type": "code",
   "execution_count": 64,
   "metadata": {
    "ExecuteTime": {
     "end_time": "2021-09-10T23:21:11.788655Z",
     "start_time": "2021-09-10T23:21:11.772678Z"
    }
   },
   "outputs": [
    {
     "data": {
      "text/plain": [
       "array([  7688, 258290, 215034,  25214, 250445, 238699, 281941,  45924,\n",
       "       156312,   7758, 258254, 268075, 200608,  60471,  33549,   2933,\n",
       "         1139,  52672, 273283,  13969, 205460,  38020, 134274,  92201,\n",
       "        83994,  60185, 227411,  30936,  82913, 252312, 126928,  69594,\n",
       "        45154, 213622,  19566, 206365, 281717, 243860, 258107, 284187,\n",
       "        27803,  23616, 230615,  46195, 222452, 180571,  39255, 196837,\n",
       "       135547, 176668, 165562, 145723, 113851, 157966,  48718, 103737,\n",
       "       181141, 260461, 104940,  10916, 257687, 134606, 251829, 284715,\n",
       "       129975, 261126,  54199, 111081, 244027,  51127, 125273, 118538,\n",
       "        91745, 128774, 227038, 229042, 199454,  17902, 124675,  98943,\n",
       "       170455, 271097, 197479, 134554,  97995, 239900, 276921,  93802,\n",
       "        93578, 262124,  69404, 279574, 271105, 177636,  84861, 207578,\n",
       "       257454, 218244, 281921, 207031, 241339, 156786,  70341, 177719,\n",
       "       204553, 238581,   5330, 257969, 188984, 106138, 102163,  56341,\n",
       "       147371, 241185,  12900,  87853, 178735, 125601,  97572,  34579,\n",
       "       158549, 220527, 110573,  99364,  76982,  41735, 247004, 210278,\n",
       "       215494, 188726,  80858, 233950, 222438, 246444,  95267,  11086,\n",
       "        91181,  15186, 179779], dtype=int64)"
      ]
     },
     "execution_count": 64,
     "metadata": {},
     "output_type": "execute_result"
    }
   ],
   "source": [
    "random_index_zero = np.random.choice(indices_zero, qt, replace=False)\n",
    "random_index_zero"
   ]
  },
  {
   "cell_type": "code",
   "execution_count": 68,
   "metadata": {
    "ExecuteTime": {
     "end_time": "2021-09-10T23:22:44.046141Z",
     "start_time": "2021-09-10T23:22:44.008243Z"
    },
    "scrolled": true
   },
   "outputs": [
    {
     "data": {
      "text/html": [
       "<div>\n",
       "<style scoped>\n",
       "    .dataframe tbody tr th:only-of-type {\n",
       "        vertical-align: middle;\n",
       "    }\n",
       "\n",
       "    .dataframe tbody tr th {\n",
       "        vertical-align: top;\n",
       "    }\n",
       "\n",
       "    .dataframe thead th {\n",
       "        text-align: right;\n",
       "    }\n",
       "</style>\n",
       "<table border=\"1\" class=\"dataframe\">\n",
       "  <thead>\n",
       "    <tr style=\"text-align: right;\">\n",
       "      <th></th>\n",
       "      <th>V1</th>\n",
       "      <th>V2</th>\n",
       "      <th>V3</th>\n",
       "      <th>V4</th>\n",
       "      <th>V5</th>\n",
       "      <th>V6</th>\n",
       "      <th>V7</th>\n",
       "      <th>V8</th>\n",
       "      <th>V9</th>\n",
       "      <th>V10</th>\n",
       "      <th>...</th>\n",
       "      <th>V20</th>\n",
       "      <th>V21</th>\n",
       "      <th>V22</th>\n",
       "      <th>V23</th>\n",
       "      <th>V24</th>\n",
       "      <th>V25</th>\n",
       "      <th>V26</th>\n",
       "      <th>V27</th>\n",
       "      <th>V28</th>\n",
       "      <th>Amount</th>\n",
       "    </tr>\n",
       "  </thead>\n",
       "  <tbody>\n",
       "    <tr>\n",
       "      <th>7688</th>\n",
       "      <td>1.315863</td>\n",
       "      <td>0.054644</td>\n",
       "      <td>0.532096</td>\n",
       "      <td>0.029954</td>\n",
       "      <td>-0.494831</td>\n",
       "      <td>-0.703192</td>\n",
       "      <td>-0.318164</td>\n",
       "      <td>-0.207128</td>\n",
       "      <td>1.739593</td>\n",
       "      <td>-0.578801</td>\n",
       "      <td>...</td>\n",
       "      <td>-0.098196</td>\n",
       "      <td>-0.317405</td>\n",
       "      <td>-0.665138</td>\n",
       "      <td>0.046431</td>\n",
       "      <td>-0.130216</td>\n",
       "      <td>0.153928</td>\n",
       "      <td>0.897560</td>\n",
       "      <td>-0.099644</td>\n",
       "      <td>-0.002023</td>\n",
       "      <td>4.92</td>\n",
       "    </tr>\n",
       "    <tr>\n",
       "      <th>258290</th>\n",
       "      <td>-0.840042</td>\n",
       "      <td>-0.199742</td>\n",
       "      <td>1.317254</td>\n",
       "      <td>-1.574367</td>\n",
       "      <td>-0.032148</td>\n",
       "      <td>-0.202159</td>\n",
       "      <td>0.433055</td>\n",
       "      <td>0.020496</td>\n",
       "      <td>-1.555198</td>\n",
       "      <td>0.005473</td>\n",
       "      <td>...</td>\n",
       "      <td>-0.233295</td>\n",
       "      <td>0.044880</td>\n",
       "      <td>0.454555</td>\n",
       "      <td>-0.408224</td>\n",
       "      <td>-0.288715</td>\n",
       "      <td>0.820245</td>\n",
       "      <td>1.038165</td>\n",
       "      <td>-0.053111</td>\n",
       "      <td>0.035312</td>\n",
       "      <td>79.91</td>\n",
       "    </tr>\n",
       "    <tr>\n",
       "      <th>215034</th>\n",
       "      <td>1.429653</td>\n",
       "      <td>-1.415031</td>\n",
       "      <td>-0.614763</td>\n",
       "      <td>0.792571</td>\n",
       "      <td>-0.787539</td>\n",
       "      <td>0.547808</td>\n",
       "      <td>-0.469668</td>\n",
       "      <td>0.153097</td>\n",
       "      <td>1.591225</td>\n",
       "      <td>-0.300571</td>\n",
       "      <td>...</td>\n",
       "      <td>0.327314</td>\n",
       "      <td>0.442254</td>\n",
       "      <td>1.173787</td>\n",
       "      <td>-0.249912</td>\n",
       "      <td>0.869772</td>\n",
       "      <td>0.147505</td>\n",
       "      <td>-0.056304</td>\n",
       "      <td>-0.002018</td>\n",
       "      <td>-0.003591</td>\n",
       "      <td>262.78</td>\n",
       "    </tr>\n",
       "    <tr>\n",
       "      <th>25214</th>\n",
       "      <td>1.410782</td>\n",
       "      <td>-0.632586</td>\n",
       "      <td>-0.052290</td>\n",
       "      <td>-1.094561</td>\n",
       "      <td>-0.360746</td>\n",
       "      <td>0.327483</td>\n",
       "      <td>-0.774946</td>\n",
       "      <td>0.210124</td>\n",
       "      <td>-0.810720</td>\n",
       "      <td>0.789576</td>\n",
       "      <td>...</td>\n",
       "      <td>-0.003719</td>\n",
       "      <td>-0.060228</td>\n",
       "      <td>-0.344779</td>\n",
       "      <td>-0.020652</td>\n",
       "      <td>-1.201898</td>\n",
       "      <td>0.320050</td>\n",
       "      <td>-0.329366</td>\n",
       "      <td>0.007538</td>\n",
       "      <td>-0.008847</td>\n",
       "      <td>7.95</td>\n",
       "    </tr>\n",
       "    <tr>\n",
       "      <th>250445</th>\n",
       "      <td>1.982603</td>\n",
       "      <td>-1.523706</td>\n",
       "      <td>0.830182</td>\n",
       "      <td>0.126094</td>\n",
       "      <td>-2.104907</td>\n",
       "      <td>0.557778</td>\n",
       "      <td>-1.940182</td>\n",
       "      <td>0.309810</td>\n",
       "      <td>1.506575</td>\n",
       "      <td>0.450317</td>\n",
       "      <td>...</td>\n",
       "      <td>-0.568364</td>\n",
       "      <td>-0.289189</td>\n",
       "      <td>0.193384</td>\n",
       "      <td>0.224109</td>\n",
       "      <td>-0.051103</td>\n",
       "      <td>-0.479610</td>\n",
       "      <td>0.745750</td>\n",
       "      <td>0.067016</td>\n",
       "      <td>-0.029684</td>\n",
       "      <td>25.00</td>\n",
       "    </tr>\n",
       "    <tr>\n",
       "      <th>...</th>\n",
       "      <td>...</td>\n",
       "      <td>...</td>\n",
       "      <td>...</td>\n",
       "      <td>...</td>\n",
       "      <td>...</td>\n",
       "      <td>...</td>\n",
       "      <td>...</td>\n",
       "      <td>...</td>\n",
       "      <td>...</td>\n",
       "      <td>...</td>\n",
       "      <td>...</td>\n",
       "      <td>...</td>\n",
       "      <td>...</td>\n",
       "      <td>...</td>\n",
       "      <td>...</td>\n",
       "      <td>...</td>\n",
       "      <td>...</td>\n",
       "      <td>...</td>\n",
       "      <td>...</td>\n",
       "      <td>...</td>\n",
       "      <td>...</td>\n",
       "    </tr>\n",
       "    <tr>\n",
       "      <th>6903</th>\n",
       "      <td>-2.535852</td>\n",
       "      <td>5.793644</td>\n",
       "      <td>-7.618463</td>\n",
       "      <td>6.395830</td>\n",
       "      <td>-0.065210</td>\n",
       "      <td>-3.136372</td>\n",
       "      <td>-3.104557</td>\n",
       "      <td>1.823233</td>\n",
       "      <td>-3.878658</td>\n",
       "      <td>-7.297803</td>\n",
       "      <td>...</td>\n",
       "      <td>0.408704</td>\n",
       "      <td>0.716720</td>\n",
       "      <td>-0.448060</td>\n",
       "      <td>-0.402407</td>\n",
       "      <td>-0.288835</td>\n",
       "      <td>1.011752</td>\n",
       "      <td>0.425965</td>\n",
       "      <td>0.413140</td>\n",
       "      <td>0.308205</td>\n",
       "      <td>1.00</td>\n",
       "    </tr>\n",
       "    <tr>\n",
       "      <th>189878</th>\n",
       "      <td>-5.313774</td>\n",
       "      <td>2.664274</td>\n",
       "      <td>-4.250707</td>\n",
       "      <td>0.394707</td>\n",
       "      <td>-0.391383</td>\n",
       "      <td>0.683526</td>\n",
       "      <td>-5.133671</td>\n",
       "      <td>-7.907790</td>\n",
       "      <td>0.215475</td>\n",
       "      <td>-2.297734</td>\n",
       "      <td>...</td>\n",
       "      <td>-2.642902</td>\n",
       "      <td>8.664662</td>\n",
       "      <td>-2.716383</td>\n",
       "      <td>0.483559</td>\n",
       "      <td>0.079235</td>\n",
       "      <td>0.311065</td>\n",
       "      <td>0.555544</td>\n",
       "      <td>0.176740</td>\n",
       "      <td>0.362907</td>\n",
       "      <td>1.00</td>\n",
       "    </tr>\n",
       "    <tr>\n",
       "      <th>150684</th>\n",
       "      <td>-10.040631</td>\n",
       "      <td>6.139183</td>\n",
       "      <td>-12.972972</td>\n",
       "      <td>7.740555</td>\n",
       "      <td>-8.684705</td>\n",
       "      <td>-3.837429</td>\n",
       "      <td>-11.907702</td>\n",
       "      <td>5.833273</td>\n",
       "      <td>-5.731054</td>\n",
       "      <td>-12.438945</td>\n",
       "      <td>...</td>\n",
       "      <td>-0.082275</td>\n",
       "      <td>2.823431</td>\n",
       "      <td>1.153005</td>\n",
       "      <td>-0.567343</td>\n",
       "      <td>0.843012</td>\n",
       "      <td>0.549938</td>\n",
       "      <td>0.113892</td>\n",
       "      <td>-0.307375</td>\n",
       "      <td>0.061631</td>\n",
       "      <td>1.00</td>\n",
       "    </tr>\n",
       "    <tr>\n",
       "      <th>154234</th>\n",
       "      <td>-23.984747</td>\n",
       "      <td>16.697832</td>\n",
       "      <td>-22.209875</td>\n",
       "      <td>9.584969</td>\n",
       "      <td>-16.230439</td>\n",
       "      <td>2.596333</td>\n",
       "      <td>-33.239328</td>\n",
       "      <td>-21.560039</td>\n",
       "      <td>-10.842526</td>\n",
       "      <td>-19.836149</td>\n",
       "      <td>...</td>\n",
       "      <td>5.804551</td>\n",
       "      <td>-12.615023</td>\n",
       "      <td>5.774087</td>\n",
       "      <td>2.750221</td>\n",
       "      <td>0.513411</td>\n",
       "      <td>-1.608804</td>\n",
       "      <td>-0.459624</td>\n",
       "      <td>-4.626127</td>\n",
       "      <td>-0.334561</td>\n",
       "      <td>1.00</td>\n",
       "    </tr>\n",
       "    <tr>\n",
       "      <th>141260</th>\n",
       "      <td>-1.927453</td>\n",
       "      <td>1.827621</td>\n",
       "      <td>-7.019495</td>\n",
       "      <td>5.348303</td>\n",
       "      <td>-2.739188</td>\n",
       "      <td>-2.107219</td>\n",
       "      <td>-5.015848</td>\n",
       "      <td>1.205868</td>\n",
       "      <td>-4.382713</td>\n",
       "      <td>-8.337707</td>\n",
       "      <td>...</td>\n",
       "      <td>2.172709</td>\n",
       "      <td>1.376938</td>\n",
       "      <td>-0.792017</td>\n",
       "      <td>-0.771414</td>\n",
       "      <td>-0.379574</td>\n",
       "      <td>0.718717</td>\n",
       "      <td>1.111151</td>\n",
       "      <td>1.277707</td>\n",
       "      <td>0.819081</td>\n",
       "      <td>512.25</td>\n",
       "    </tr>\n",
       "  </tbody>\n",
       "</table>\n",
       "<p>278 rows × 29 columns</p>\n",
       "</div>"
      ],
      "text/plain": [
       "               V1         V2         V3        V4         V5        V6  \\\n",
       "7688     1.315863   0.054644   0.532096  0.029954  -0.494831 -0.703192   \n",
       "258290  -0.840042  -0.199742   1.317254 -1.574367  -0.032148 -0.202159   \n",
       "215034   1.429653  -1.415031  -0.614763  0.792571  -0.787539  0.547808   \n",
       "25214    1.410782  -0.632586  -0.052290 -1.094561  -0.360746  0.327483   \n",
       "250445   1.982603  -1.523706   0.830182  0.126094  -2.104907  0.557778   \n",
       "...           ...        ...        ...       ...        ...       ...   \n",
       "6903    -2.535852   5.793644  -7.618463  6.395830  -0.065210 -3.136372   \n",
       "189878  -5.313774   2.664274  -4.250707  0.394707  -0.391383  0.683526   \n",
       "150684 -10.040631   6.139183 -12.972972  7.740555  -8.684705 -3.837429   \n",
       "154234 -23.984747  16.697832 -22.209875  9.584969 -16.230439  2.596333   \n",
       "141260  -1.927453   1.827621  -7.019495  5.348303  -2.739188 -2.107219   \n",
       "\n",
       "               V7         V8         V9        V10  ...       V20        V21  \\\n",
       "7688    -0.318164  -0.207128   1.739593  -0.578801  ... -0.098196  -0.317405   \n",
       "258290   0.433055   0.020496  -1.555198   0.005473  ... -0.233295   0.044880   \n",
       "215034  -0.469668   0.153097   1.591225  -0.300571  ...  0.327314   0.442254   \n",
       "25214   -0.774946   0.210124  -0.810720   0.789576  ... -0.003719  -0.060228   \n",
       "250445  -1.940182   0.309810   1.506575   0.450317  ... -0.568364  -0.289189   \n",
       "...           ...        ...        ...        ...  ...       ...        ...   \n",
       "6903    -3.104557   1.823233  -3.878658  -7.297803  ...  0.408704   0.716720   \n",
       "189878  -5.133671  -7.907790   0.215475  -2.297734  ... -2.642902   8.664662   \n",
       "150684 -11.907702   5.833273  -5.731054 -12.438945  ... -0.082275   2.823431   \n",
       "154234 -33.239328 -21.560039 -10.842526 -19.836149  ...  5.804551 -12.615023   \n",
       "141260  -5.015848   1.205868  -4.382713  -8.337707  ...  2.172709   1.376938   \n",
       "\n",
       "             V22       V23       V24       V25       V26       V27       V28  \\\n",
       "7688   -0.665138  0.046431 -0.130216  0.153928  0.897560 -0.099644 -0.002023   \n",
       "258290  0.454555 -0.408224 -0.288715  0.820245  1.038165 -0.053111  0.035312   \n",
       "215034  1.173787 -0.249912  0.869772  0.147505 -0.056304 -0.002018 -0.003591   \n",
       "25214  -0.344779 -0.020652 -1.201898  0.320050 -0.329366  0.007538 -0.008847   \n",
       "250445  0.193384  0.224109 -0.051103 -0.479610  0.745750  0.067016 -0.029684   \n",
       "...          ...       ...       ...       ...       ...       ...       ...   \n",
       "6903   -0.448060 -0.402407 -0.288835  1.011752  0.425965  0.413140  0.308205   \n",
       "189878 -2.716383  0.483559  0.079235  0.311065  0.555544  0.176740  0.362907   \n",
       "150684  1.153005 -0.567343  0.843012  0.549938  0.113892 -0.307375  0.061631   \n",
       "154234  5.774087  2.750221  0.513411 -1.608804 -0.459624 -4.626127 -0.334561   \n",
       "141260 -0.792017 -0.771414 -0.379574  0.718717  1.111151  1.277707  0.819081   \n",
       "\n",
       "        Amount  \n",
       "7688      4.92  \n",
       "258290   79.91  \n",
       "215034  262.78  \n",
       "25214     7.95  \n",
       "250445   25.00  \n",
       "...        ...  \n",
       "6903      1.00  \n",
       "189878    1.00  \n",
       "150684    1.00  \n",
       "154234    1.00  \n",
       "141260  512.25  \n",
       "\n",
       "[278 rows x 29 columns]"
      ]
     },
     "execution_count": 68,
     "metadata": {},
     "output_type": "execute_result"
    }
   ],
   "source": [
    "X_sample = X_train.loc[random_index_zero.tolist() + indices_um.to_list()]\n",
    "X_sample"
   ]
  },
  {
   "cell_type": "code",
   "execution_count": 69,
   "metadata": {
    "ExecuteTime": {
     "end_time": "2021-09-10T23:23:25.728196Z",
     "start_time": "2021-09-10T23:23:25.716226Z"
    }
   },
   "outputs": [
    {
     "data": {
      "text/html": [
       "<div>\n",
       "<style scoped>\n",
       "    .dataframe tbody tr th:only-of-type {\n",
       "        vertical-align: middle;\n",
       "    }\n",
       "\n",
       "    .dataframe tbody tr th {\n",
       "        vertical-align: top;\n",
       "    }\n",
       "\n",
       "    .dataframe thead th {\n",
       "        text-align: right;\n",
       "    }\n",
       "</style>\n",
       "<table border=\"1\" class=\"dataframe\">\n",
       "  <thead>\n",
       "    <tr style=\"text-align: right;\">\n",
       "      <th></th>\n",
       "      <th>target</th>\n",
       "    </tr>\n",
       "  </thead>\n",
       "  <tbody>\n",
       "    <tr>\n",
       "      <th>7688</th>\n",
       "      <td>0</td>\n",
       "    </tr>\n",
       "    <tr>\n",
       "      <th>258290</th>\n",
       "      <td>0</td>\n",
       "    </tr>\n",
       "    <tr>\n",
       "      <th>215034</th>\n",
       "      <td>0</td>\n",
       "    </tr>\n",
       "    <tr>\n",
       "      <th>25214</th>\n",
       "      <td>0</td>\n",
       "    </tr>\n",
       "    <tr>\n",
       "      <th>250445</th>\n",
       "      <td>0</td>\n",
       "    </tr>\n",
       "    <tr>\n",
       "      <th>...</th>\n",
       "      <td>...</td>\n",
       "    </tr>\n",
       "    <tr>\n",
       "      <th>6903</th>\n",
       "      <td>1</td>\n",
       "    </tr>\n",
       "    <tr>\n",
       "      <th>189878</th>\n",
       "      <td>1</td>\n",
       "    </tr>\n",
       "    <tr>\n",
       "      <th>150684</th>\n",
       "      <td>1</td>\n",
       "    </tr>\n",
       "    <tr>\n",
       "      <th>154234</th>\n",
       "      <td>1</td>\n",
       "    </tr>\n",
       "    <tr>\n",
       "      <th>141260</th>\n",
       "      <td>1</td>\n",
       "    </tr>\n",
       "  </tbody>\n",
       "</table>\n",
       "<p>278 rows × 1 columns</p>\n",
       "</div>"
      ],
      "text/plain": [
       "        target\n",
       "7688         0\n",
       "258290       0\n",
       "215034       0\n",
       "25214        0\n",
       "250445       0\n",
       "...        ...\n",
       "6903         1\n",
       "189878       1\n",
       "150684       1\n",
       "154234       1\n",
       "141260       1\n",
       "\n",
       "[278 rows x 1 columns]"
      ]
     },
     "execution_count": 69,
     "metadata": {},
     "output_type": "execute_result"
    }
   ],
   "source": [
    "y_sample = y_train.loc[random_index_zero.tolist() + indices_um.to_list()]\n",
    "y_sample"
   ]
  },
  {
   "cell_type": "code",
   "execution_count": 70,
   "metadata": {
    "ExecuteTime": {
     "end_time": "2021-09-10T23:23:47.950300Z",
     "start_time": "2021-09-10T23:23:47.937335Z"
    }
   },
   "outputs": [
    {
     "data": {
      "text/plain": [
       "1    139\n",
       "0    139\n",
       "Name: target, dtype: int64"
      ]
     },
     "execution_count": 70,
     "metadata": {},
     "output_type": "execute_result"
    }
   ],
   "source": [
    "y_sample['target'].value_counts()"
   ]
  },
  {
   "cell_type": "code",
   "execution_count": 72,
   "metadata": {
    "ExecuteTime": {
     "end_time": "2021-09-10T23:24:39.858882Z",
     "start_time": "2021-09-10T23:24:39.847027Z"
    }
   },
   "outputs": [],
   "source": [
    "\n",
    "clf2 = KNeighborsClassifier(n_neighbors=15).fit(X_sample, y_sample['target'])"
   ]
  },
  {
   "cell_type": "code",
   "execution_count": 73,
   "metadata": {
    "ExecuteTime": {
     "end_time": "2021-09-10T23:26:16.213879Z",
     "start_time": "2021-09-10T23:26:15.553930Z"
    }
   },
   "outputs": [
    {
     "data": {
      "text/plain": [
       "<sklearn.metrics._plot.confusion_matrix.ConfusionMatrixDisplay at 0x1a900374eb0>"
      ]
     },
     "execution_count": 73,
     "metadata": {},
     "output_type": "execute_result"
    },
    {
     "data": {
      "image/png": "[encoded data removed]",
      "text/plain": [
       "<Figure size 432x288 with 2 Axes>"
      ]
     },
     "metadata": {
      "needs_background": "light"
     },
     "output_type": "display_data"
    }
   ],
   "source": [
    "from sklearn.metrics import plot_confusion_matrix\n",
    "\n",
    "plot_confusion_matrix(clf2, X_test, y_test)"
   ]
  },
  {
   "cell_type": "code",
   "execution_count": 75,
   "metadata": {
    "ExecuteTime": {
     "end_time": "2021-09-10T23:29:14.474525Z",
     "start_time": "2021-09-10T23:29:14.302015Z"
    }
   },
   "outputs": [
    {
     "data": {
      "text/plain": [
       "array([[19964,     4],\n",
       "       [   18,    14]], dtype=int64)"
      ]
     },
     "execution_count": 75,
     "metadata": {},
     "output_type": "execute_result"
    }
   ],
   "source": [
    "y_pred = clf2.predict_proba(X_test)[:,1] >= 0.8\n",
    "\n",
    "confusion_matrix(y_test, y_pred)"
   ]
  },
  {
   "cell_type": "markdown",
   "metadata": {},
   "source": [
    "### Vamos conhecer uma lib que elabora isso de forma mais sofisticada"
   ]
  },
  {
   "cell_type": "code",
   "execution_count": null,
   "metadata": {
    "ExecuteTime": {
     "end_time": "2021-09-01T22:59:32.303104Z",
     "start_time": "2021-09-01T22:59:29.675399Z"
    },
    "scrolled": false
   },
   "outputs": [],
   "source": [
    "imbalanced-learn"
   ]
  },
  {
   "cell_type": "code",
   "execution_count": null,
   "metadata": {
    "ExecuteTime": {
     "end_time": "2021-09-08T12:13:48.498871Z",
     "start_time": "2021-09-08T12:13:48.467496Z"
    }
   },
   "outputs": [],
   "source": [
    "from imblearn.over_sampling import RandomOverSampler"
   ]
  },
  {
   "cell_type": "markdown",
   "metadata": {},
   "source": [
    "## Oversampling?\n",
    "\n",
    "Significa aumentar de forma artificial a quantidade de amostras da classe que tem menor quantidade!"
   ]
  },
  {
   "cell_type": "code",
   "execution_count": 76,
   "metadata": {
    "ExecuteTime": {
     "end_time": "2021-09-10T23:37:37.907082Z",
     "start_time": "2021-09-10T23:37:36.137048Z"
    }
   },
   "outputs": [],
   "source": [
    "from imblearn.over_sampling import RandomOverSampler\n"
   ]
  },
  {
   "cell_type": "code",
   "execution_count": 77,
   "metadata": {
    "ExecuteTime": {
     "end_time": "2021-09-10T23:39:15.676177Z",
     "start_time": "2021-09-10T23:39:15.672188Z"
    }
   },
   "outputs": [],
   "source": [
    "oversample = RandomOverSampler(sampling_strategy='minority', random_state=42)"
   ]
  },
  {
   "cell_type": "code",
   "execution_count": 80,
   "metadata": {
    "ExecuteTime": {
     "end_time": "2021-09-10T23:40:19.923440Z",
     "start_time": "2021-09-10T23:40:19.919450Z"
    }
   },
   "outputs": [
    {
     "data": {
      "text/plain": [
       "(80000, 29)"
      ]
     },
     "execution_count": 80,
     "metadata": {},
     "output_type": "execute_result"
    }
   ],
   "source": [
    "X_train.shape"
   ]
  },
  {
   "cell_type": "code",
   "execution_count": 81,
   "metadata": {
    "ExecuteTime": {
     "end_time": "2021-09-10T23:40:37.855490Z",
     "start_time": "2021-09-10T23:40:37.726844Z"
    }
   },
   "outputs": [],
   "source": [
    "X_over, y_over = oversample.fit_resample(X_train, y_train)"
   ]
  },
  {
   "cell_type": "code",
   "execution_count": 82,
   "metadata": {
    "ExecuteTime": {
     "end_time": "2021-09-10T23:40:52.388298Z",
     "start_time": "2021-09-10T23:40:52.369371Z"
    }
   },
   "outputs": [
    {
     "data": {
      "text/plain": [
       "(159722, 29)"
      ]
     },
     "execution_count": 82,
     "metadata": {},
     "output_type": "execute_result"
    }
   ],
   "source": [
    "X_over.shape"
   ]
  },
  {
   "cell_type": "code",
   "execution_count": 83,
   "metadata": {
    "ExecuteTime": {
     "end_time": "2021-09-10T23:41:10.901976Z",
     "start_time": "2021-09-10T23:41:10.884998Z"
    }
   },
   "outputs": [
    {
     "data": {
      "text/plain": [
       "1    79861\n",
       "0    79861\n",
       "Name: target, dtype: int64"
      ]
     },
     "execution_count": 83,
     "metadata": {},
     "output_type": "execute_result"
    }
   ],
   "source": [
    "y_over['target'].value_counts()"
   ]
  },
  {
   "cell_type": "code",
   "execution_count": 84,
   "metadata": {
    "ExecuteTime": {
     "end_time": "2021-09-10T23:42:03.077343Z",
     "start_time": "2021-09-10T23:42:03.050132Z"
    }
   },
   "outputs": [],
   "source": [
    "clf3 = KNeighborsClassifier(n_neighbors=15).fit(X_over, y_over['target'])"
   ]
  },
  {
   "cell_type": "code",
   "execution_count": 86,
   "metadata": {
    "ExecuteTime": {
     "end_time": "2021-09-10T23:43:16.896693Z",
     "start_time": "2021-09-10T23:42:28.844677Z"
    }
   },
   "outputs": [
    {
     "data": {
      "text/plain": [
       "<sklearn.metrics._plot.confusion_matrix.ConfusionMatrixDisplay at 0x1a9128ac400>"
      ]
     },
     "execution_count": 86,
     "metadata": {},
     "output_type": "execute_result"
    },
    {
     "data": {
      "image/png": "[encoded data removed]",
      "text/plain": [
       "<Figure size 432x288 with 2 Axes>"
      ]
     },
     "metadata": {
      "needs_background": "light"
     },
     "output_type": "display_data"
    }
   ],
   "source": [
    "plot_confusion_matrix(clf3, X_test, y_test)"
   ]
  },
  {
   "cell_type": "code",
   "execution_count": 88,
   "metadata": {
    "ExecuteTime": {
     "end_time": "2021-09-10T23:46:16.144484Z",
     "start_time": "2021-09-10T23:45:25.120240Z"
    }
   },
   "outputs": [
    {
     "data": {
      "text/plain": [
       "array([[19948,    20],\n",
       "       [    9,    23]], dtype=int64)"
      ]
     },
     "execution_count": 88,
     "metadata": {},
     "output_type": "execute_result"
    }
   ],
   "source": [
    "y_pred = clf3.predict_proba(X_test)[:,1] >= 0.8\n",
    "\n",
    "confusion_matrix(y_test, y_pred)"
   ]
  },
  {
   "cell_type": "markdown",
   "metadata": {
    "ExecuteTime": {
     "end_time": "2021-09-14T00:47:38.199769Z",
     "start_time": "2021-09-14T00:47:38.183789Z"
    }
   },
   "source": [
    "Talvez esse modelo tenha melhorado um pouco, ainda seria necessário uma exploração de seu parâmetros"
   ]
  },
  {
   "cell_type": "markdown",
   "metadata": {},
   "source": [
    "### Logistic Regression..."
   ]
  },
  {
   "cell_type": "code",
   "execution_count": 89,
   "metadata": {
    "ExecuteTime": {
     "end_time": "2021-09-10T23:52:10.066627Z",
     "start_time": "2021-09-10T23:50:45.121384Z"
    }
   },
   "outputs": [
    {
     "data": {
      "image/png": "[encoded data removed]",
      "text/plain": [
       "<Figure size 432x288 with 1 Axes>"
      ]
     },
     "metadata": {
      "needs_background": "light"
     },
     "output_type": "display_data"
    }
   ],
   "source": [
    "from sklearn.linear_model import LogisticRegression\n",
    "\n",
    "max_iter=10000\n",
    "\n",
    "clf3 = LogisticRegression(C=0.2, max_iter=max_iter, solver='saga').fit(X_train, y_train['target'])\n",
    "\n",
    "\n",
    "y_pred = clf3.predict(X_test)\n",
    "\n",
    "plot_rp_curve(clf3, X_test, y_test)"
   ]
  },
  {
   "cell_type": "code",
   "execution_count": 90,
   "metadata": {
    "ExecuteTime": {
     "end_time": "2021-09-10T23:54:20.499742Z",
     "start_time": "2021-09-10T23:54:20.366101Z"
    }
   },
   "outputs": [
    {
     "data": {
      "text/plain": [
       "<sklearn.metrics._plot.confusion_matrix.ConfusionMatrixDisplay at 0x1a9128a68e0>"
      ]
     },
     "execution_count": 90,
     "metadata": {},
     "output_type": "execute_result"
    },
    {
     "data": {
      "image/png": "[encoded data removed]",
      "text/plain": [
       "<Figure size 432x288 with 2 Axes>"
      ]
     },
     "metadata": {
      "needs_background": "light"
     },
     "output_type": "display_data"
    }
   ],
   "source": [
    "plot_confusion_matrix(clf3, X_test, y_test)"
   ]
  },
  {
   "cell_type": "code",
   "execution_count": 92,
   "metadata": {
    "ExecuteTime": {
     "end_time": "2021-09-10T23:58:19.294757Z",
     "start_time": "2021-09-10T23:58:19.253820Z"
    }
   },
   "outputs": [],
   "source": [
    "from imblearn.under_sampling import RandomUnderSampler\n",
    "\n",
    "undersample = RandomUnderSampler(sampling_strategy='majority', random_state=42)\n",
    "\n",
    "X_under, y_under = undersample.fit_resample(X_train, y_train)"
   ]
  },
  {
   "cell_type": "code",
   "execution_count": 94,
   "metadata": {
    "ExecuteTime": {
     "end_time": "2021-09-10T23:58:38.570000Z",
     "start_time": "2021-09-10T23:58:38.560027Z"
    }
   },
   "outputs": [
    {
     "data": {
      "text/plain": [
       "1    139\n",
       "0    139\n",
       "Name: target, dtype: int64"
      ]
     },
     "execution_count": 94,
     "metadata": {},
     "output_type": "execute_result"
    }
   ],
   "source": [
    "y_under['target'].value_counts()"
   ]
  },
  {
   "cell_type": "code",
   "execution_count": 95,
   "metadata": {
    "ExecuteTime": {
     "end_time": "2021-09-11T00:00:01.126710Z",
     "start_time": "2021-09-11T00:00:00.692751Z"
    }
   },
   "outputs": [],
   "source": [
    "clf4 = LogisticRegression(C=0.2, max_iter=10000, solver='saga').fit(X_under, y_under['target'])"
   ]
  },
  {
   "cell_type": "code",
   "execution_count": 96,
   "metadata": {
    "ExecuteTime": {
     "end_time": "2021-09-11T00:00:31.928452Z",
     "start_time": "2021-09-11T00:00:31.789848Z"
    }
   },
   "outputs": [
    {
     "data": {
      "text/plain": [
       "<sklearn.metrics._plot.confusion_matrix.ConfusionMatrixDisplay at 0x1a91220de20>"
      ]
     },
     "execution_count": 96,
     "metadata": {},
     "output_type": "execute_result"
    },
    {
     "data": {
      "image/png": "[encoded data removed]",
      "text/plain": [
       "<Figure size 432x288 with 2 Axes>"
      ]
     },
     "metadata": {
      "needs_background": "light"
     },
     "output_type": "display_data"
    }
   ],
   "source": [
    "plot_confusion_matrix(clf4, X_test, y_test)"
   ]
  },
  {
   "cell_type": "code",
   "execution_count": 101,
   "metadata": {
    "ExecuteTime": {
     "end_time": "2021-09-11T00:02:08.895081Z",
     "start_time": "2021-09-11T00:02:08.843221Z"
    }
   },
   "outputs": [
    {
     "data": {
      "text/plain": [
       "array([[19961,     7],\n",
       "       [    9,    23]], dtype=int64)"
      ]
     },
     "execution_count": 101,
     "metadata": {},
     "output_type": "execute_result"
    }
   ],
   "source": [
    "y_pred = clf4.predict_proba(X_test)[:,1] >= 0.9\n",
    "\n",
    "confusion_matrix(y_test, y_pred)"
   ]
  },
  {
   "cell_type": "markdown",
   "metadata": {},
   "source": [
    "Esse modelo mostra muito potencial!\n",
    "\n",
    "Repare que usando o undersampling, reduzimos o tempo de treinamento + validação de 1m30s para menos de 1s. Ou seja, uma busca de parâmetros nesse caso vai ser MUITO mais ágil."
   ]
  },
  {
   "cell_type": "markdown",
   "metadata": {},
   "source": [
    "# Em resumo:\n",
    "\n",
    "Não existe uma resposta única que resolve qualquer problema, rebalancear as classes **pode reduzir** a qualidade do modelo, ou seja **o resultado precisa ser estudado** + ciclos de testes e ajustes. Dados rebalanceados podem permitir uma busca de hiperparâmetros diferentes!"
   ]
  },
  {
   "cell_type": "markdown",
   "metadata": {},
   "source": [
    "## Pickling ou _como eu salvo o meu modelo?_"
   ]
  },
  {
   "cell_type": "markdown",
   "metadata": {},
   "source": [
    "A lib pickle é padrão do Python e basicamente escreve em um arquivo os bytes que compõem a variável. Qualquer objeto que fique registrado em uma variável pode ser tratado desta forma."
   ]
  },
  {
   "cell_type": "code",
   "execution_count": 103,
   "metadata": {
    "ExecuteTime": {
     "end_time": "2021-09-11T00:11:21.607217Z",
     "start_time": "2021-09-11T00:11:21.599237Z"
    }
   },
   "outputs": [],
   "source": [
    "import pickle\n",
    "\n",
    "with open('estimador_letscode.ia', 'wb') as file:\n",
    "    pickle.dump(clf4, file)"
   ]
  },
  {
   "cell_type": "markdown",
   "metadata": {
    "ExecuteTime": {
     "end_time": "2021-09-14T00:53:10.008444Z",
     "start_time": "2021-09-14T00:53:09.994482Z"
    }
   },
   "source": [
    "Você pode verificar por si mesmo. Rode a célula de cima, certifique-se de que o arquivo **estimador_letscode.ia** for escrito e então reinicie o kernel do notebook. Após isso você pode rodar as células abaixo e verá que o modelo é carregado novamente para a variável clf4.\n"
   ]
  },
  {
   "cell_type": "code",
   "execution_count": 1,
   "metadata": {
    "ExecuteTime": {
     "end_time": "2021-09-11T00:13:17.593254Z",
     "start_time": "2021-09-11T00:13:17.432554Z"
    }
   },
   "outputs": [
    {
     "data": {
      "text/plain": [
       "array([[-2.93785581e+00, -7.77446744e-01, -5.84055714e-01,\n",
       "        -7.66860003e-01, -2.17629987e+00,  1.76141271e+00,\n",
       "         2.22636634e+00,  1.08664708e-01,  7.50296445e-01,\n",
       "        -6.13716868e-01,  1.50938463e-01,  3.91932992e-01,\n",
       "        -4.91717246e-02, -1.53710197e-01, -2.12975117e-01,\n",
       "         8.17145976e-01, -9.64275628e-01,  8.91032616e-01,\n",
       "         2.01905290e-01, -9.65619869e-01, -1.10320222e-01,\n",
       "         9.62133119e-01,  1.31943254e-01,  3.29771855e-01,\n",
       "        -8.23188462e-02,  2.38426556e-02, -1.00216094e-01,\n",
       "        -7.51450816e-01,  5.00000000e+02]])"
      ]
     },
     "execution_count": 1,
     "metadata": {},
     "output_type": "execute_result"
    }
   ],
   "source": [
    "import numpy as np\n",
    "array = np.array([[-2.93785581e+00, -7.77446744e-01, -5.84055714e-01, -7.66860003e-01,\n",
    "       -2.17629987e+00,  1.76141271e+00,  2.22636634e+00,  1.08664708e-01,\n",
    "        7.50296445e-01, -6.13716868e-01,  1.50938463e-01,  3.91932992e-01,\n",
    "       -4.91717246e-02, -1.53710197e-01, -2.12975117e-01,  8.17145976e-01,\n",
    "       -9.64275628e-01,  8.91032616e-01,  2.01905290e-01, -9.65619869e-01,\n",
    "       -1.10320222e-01,  9.62133119e-01,  1.31943254e-01,  3.29771855e-01,\n",
    "       -8.23188462e-02,  2.38426556e-02, -1.00216094e-01, -7.51450816e-01,\n",
    "        5.00000000e+02]])\n",
    "array"
   ]
  },
  {
   "cell_type": "code",
   "execution_count": 4,
   "metadata": {
    "ExecuteTime": {
     "end_time": "2021-09-11T00:14:18.029902Z",
     "start_time": "2021-09-11T00:14:18.012967Z"
    }
   },
   "outputs": [
    {
     "data": {
      "text/plain": [
       "LogisticRegression(C=0.2, max_iter=10000, solver='saga')"
      ]
     },
     "execution_count": 4,
     "metadata": {},
     "output_type": "execute_result"
    }
   ],
   "source": [
    "clf4"
   ]
  },
  {
   "cell_type": "code",
   "execution_count": 3,
   "metadata": {
    "ExecuteTime": {
     "end_time": "2021-09-11T00:14:14.922133Z",
     "start_time": "2021-09-11T00:14:13.695565Z"
    }
   },
   "outputs": [],
   "source": [
    "import pickle\n",
    "\n",
    "with open('estimador_letscode.ia', 'rb') as file:\n",
    "    clf4 = pickle.load(file)"
   ]
  },
  {
   "cell_type": "code",
   "execution_count": 5,
   "metadata": {
    "ExecuteTime": {
     "end_time": "2021-09-11T00:14:23.317808Z",
     "start_time": "2021-09-11T00:14:23.301851Z"
    }
   },
   "outputs": [
    {
     "data": {
      "text/plain": [
       "array([[0.81310497, 0.18689503]])"
      ]
     },
     "execution_count": 5,
     "metadata": {},
     "output_type": "execute_result"
    }
   ],
   "source": [
    "clf4.predict_proba(array)"
   ]
  },
  {
   "cell_type": "code",
   "execution_count": 10,
   "metadata": {
    "ExecuteTime": {
     "end_time": "2021-09-11T00:20:37.859607Z",
     "start_time": "2021-09-11T00:20:37.846642Z"
    }
   },
   "outputs": [],
   "source": [
    "with open('string.ia', 'wb') as file:\n",
    "    pickle.dump('LETS CODE', file)"
   ]
  },
  {
   "cell_type": "code",
   "execution_count": 9,
   "metadata": {
    "ExecuteTime": {
     "end_time": "2021-09-11T00:17:24.006202Z",
     "start_time": "2021-09-11T00:17:23.858858Z"
    }
   },
   "outputs": [],
   "source": [
    "from imblearn.under_sampling import RandomUnderSampler\n",
    "\n",
    "with open('string.ia', 'wb') as file:\n",
    "    pickle.dump(RandomUnderSampler, file)"
   ]
  },
  {
   "cell_type": "code",
   "execution_count": 7,
   "metadata": {
    "ExecuteTime": {
     "end_time": "2021-09-11T00:16:34.360547Z",
     "start_time": "2021-09-11T00:16:34.347604Z"
    }
   },
   "outputs": [
    {
     "name": "stdout",
     "output_type": "stream",
     "text": [
      "LETS CODE\n"
     ]
    }
   ],
   "source": [
    "\n",
    "with open('string.ia', 'rb') as file:\n",
    "    pickle.load(file)"
   ]
  }
 ],
 "metadata": {
  "kernelspec": {
   "display_name": "Python 3",
   "language": "python",
   "name": "python3"
  },
  "language_info": {
   "codemirror_mode": {
    "name": "ipython",
    "version": 3
   },
   "file_extension": ".py",
   "mimetype": "text/x-python",
   "name": "python",
   "nbconvert_exporter": "python",
   "pygments_lexer": "ipython3",
   "version": "3.8.3"
  }
 },
 "nbformat": 4,
 "nbformat_minor": 4
}
