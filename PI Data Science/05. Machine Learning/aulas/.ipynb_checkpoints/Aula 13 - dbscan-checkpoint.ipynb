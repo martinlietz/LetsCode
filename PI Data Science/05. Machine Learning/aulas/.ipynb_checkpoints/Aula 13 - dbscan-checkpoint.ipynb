{
 "cells": [
  {
   "cell_type": "markdown",
   "metadata": {},
   "source": [
    "# Aula 13 - DBSCAN\n",
    "\n",
    "Na aula de hoje, vamos explorar os seguintes tópicos em Python:\n",
    "\n",
    "- 1) DBSCAN\n",
    "- 2) Aplicação - clusterização de estações"
   ]
  },
  {
   "cell_type": "markdown",
   "metadata": {},
   "source": [
    "____\n",
    "____\n",
    "_____"
   ]
  },
  {
   "cell_type": "code",
   "execution_count": null,
   "metadata": {
    "ExecuteTime": {
     "end_time": "2021-09-20T20:07:48.547841Z",
     "start_time": "2021-09-20T20:07:47.432118Z"
    }
   },
   "outputs": [],
   "source": [
    "import numpy  as np\n",
    "import pandas as pd \n",
    "\n",
    "import matplotlib.pyplot as plt\n",
    "import seaborn as sns"
   ]
  },
  {
   "cell_type": "markdown",
   "metadata": {},
   "source": [
    "____\n",
    "____\n",
    "_____"
   ]
  },
  {
   "cell_type": "markdown",
   "metadata": {},
   "source": [
    "## 1) DBSCAN\n",
    "\n",
    "O DBSCAN é um algoritmo de clusterização baseado no conceito de **densidade**.\n",
    "\n",
    "O nome do algoritmo é uma sigla, que explica bem seu funcionamento: **D**ensity-**B**ased **S**patial **C**lustering of **A**pplications with **N**oise.\n",
    "\n",
    "O algoritmo foi proposto com o objetivo de proporcionar uma técnica de clusterização que possa funcionar **mesmo quando os clusters a serem criados não forem uniformes**, tendo **tamanho, forma e densidade variáveis**. \n",
    "\n",
    "Além disso, por construção o método funciona bem em contextos em que há **ruídos/otliers**, sendo capaz de detectá-los sem influenciar a criação dos clusters. \n",
    "\n",
    "Por fim, uma vantagem enorme é o fato do algoritmo **não demandar a determinação prévia da quantidade de clusters**, o que é uma vantagem interessante se não houver indicações do problema de negócio para esta determinação (embora, como veremos, ainda há hiperparâmetros importantes a serem determinados).\n",
    "\n",
    "Vamos entender o funcionamento do algoritmo mais a fundo!"
   ]
  },
  {
   "cell_type": "markdown",
   "metadata": {},
   "source": [
    "O DBSCAN têm como princípio fundamental a **determinação de regiões de alta densidade de observações**, que são **separadas entre si por regiões de baixa densidade**.\n",
    "\n",
    "Lembrando que, por ser um algoritmo não-supervisionado de clusterização, quando nos referimos à \"regiões\" cuja densidade será aferida, estamos nos referindo a regiões **do espaço de features**.\n",
    "\n",
    "Uma pergunta natural é: **como determinar a densidade de uma região?** Para responder esta pergunta, precisamos de algumas definições:\n",
    "\n",
    "> **Densidade em um ponto $P$:** número de pontos dentro de um círculo de raio $\\epsilon$ centrado no ponto $P$ (região chamada de vizinhança-$\\epsilon$ de $P$);\n",
    "\n",
    "> **Região densa**: dizemos que uma região é densa se o círculo de raio $\\epsilon$ contém pelo menos um número mínimo de pontos (que chamaremos de $\\text{minPts}$. Uma região densa **formará um cluster**."
   ]
  },
  {
   "attachments": {},
   "cell_type": "markdown",
   "metadata": {},
   "source": [
    "Oara visualizar as definições acima, considere a figura a seguir:\n",
    "\n",
    "<img src=https://www.researchgate.net/publication/315326812/figure/fig2/AS:473095908663297@1489806262333/A-cluster-consists-of-core-points-red-and-border-points-green-Core-points-have-at.png width=500>\n",
    "\n",
    "<img src=https://www.researchgate.net/publication/335485895/figure/fig2/AS:797412515909651@1567129367940/A-single-DBSCAN-cluster-with-Core-Border-and-Noise-Points.ppm width=500>"
   ]
  },
  {
   "cell_type": "markdown",
   "metadata": {},
   "source": [
    "Dada a definição acima, podemos classificar pontos dentro de um cluster como:\n",
    "\n",
    "> **Core points (pontoa centrais)**: são pontos que estão no interior dos clusters (regiões densas). Matematicamente, um ponto é considerado core **se sua densidade é de pelo menos $\\text{minPts}$**, ou seja, se **há pelo menos $\\text{minPts}$ pontos dentro do círculo de raio $\\epsilon$ centrado no ponto**.\n",
    "\n",
    "> **Border points (pontos de fronteira)**: são pontos que estão na fronteira de um cluster. Matematicamente, estes pontos **têm densidade menor que $\\text{minPts}$**, mas que **fazem parte da vizinhança-$\\epsilon$ de um ponto central**.\n",
    "\n",
    "> **Noisy points (pontos de ruído/outliers)**: são pontos que não são centrais nem de fronteira. Estes pontos não fazem parte do cluster, e são considerados outliers.\n"
   ]
  },
  {
   "cell_type": "markdown",
   "metadata": {},
   "source": [
    "Olhando para as definições acima, e pras figuras, fica claro que $\\epsilon$ e $\\text{minPts}$ são os hiperparâmetros do modelo -- e que os clusters gerados são fortemente dependentes destes hiperparâmetros!\n",
    "\n",
    "\n",
    "> - $\\epsilon$ (`eps` no sklearn): determina o quão próximos (relativo a uma dada **métrica de distância**) os pontos devem estar entre si para serem considerados vizinhos, e, eventualmente, parte de um cluster. Na prática, **se a distância entre dois pontos for menor ou igual a $\\epsilon$, os pontos serão considerados vizinhos**;\n",
    "<br><br>\n",
    "Se o valor de `eps` for muito pequeno, grande parte dos dados não serão clusterizados -- muitos pontos serão considerados outliers, pois não haverá vizinhos suficientes para gerar uma região densa;\n",
    "<br>\n",
    "Por outro lado, se o valor de `eps` for muito grande, os clusters se fundirão, e a maioria dos pontos estarão em um único, grande cluster.\n",
    "<br>\n",
    "Portanto, a escolha de `eps` está muito relacionada com **a escala** das features, o que demanda cuidadosa análise exploratória.\n",
    "<br>\n",
    "Além disso, note que o  `eps` depende também fortemente da **métrica de distância** (`metric` no sklearn) a ser utilizada.\n",
    "\n",
    "\n",
    "> - $\\text{minPts}$ (`min_samples` no sklearn): o número mínimo de pontos que devem ser vizinhos para formar uma região densa, que será um cluster.\n",
    "<br><br>\n",
    "Valores maiores de `min_samples` são preferíveis para datasets com outliers, formando clusters mais significativos (isto é, um cluster só será formado se realmente tiver uma alta densidade).\n",
    "\n",
    "Para algumas dicas práticas de como estimar bons valores para os hiper-parâmetros, [clique aqui](https://en.wikipedia.org/wiki/DBSCAN#Parameter_estimation).\n",
    "\n"
   ]
  },
  {
   "cell_type": "markdown",
   "metadata": {},
   "source": [
    "__________\n",
    "\n",
    "Agora que entendemos os princípios e principais hiperparâmetros do DBSCAN, vamos agora entender os passos do algoritmo (que é bem simples!)\n",
    "\n",
    "> **Passo 1**: o algoritmo escolhe aleatoriamente um dos pontos, e sua vizinhança-$\\epsilon$ é calculada;\n",
    "\n",
    "> **Passo 2**: se este ponto tem $\\text{minPts}$ em sua vizinhança-$\\epsilon$, a formação do cluster é iniciada (veja próximo passo). Se não, o ponto é marcado como outlier (mas pode ser considerado como border point de um outro cluster posteriormente). Se for um outlier, volte ao passo 1;\n",
    "\n",
    "> **Passo 3**: se o ponto for um core point, todos os pontos na vizinhança são agregados ao cluster, e o passo 1 é aplicado a cada um deles;\n",
    "\n",
    "> **Passo 4**: o processo do passo 3 é continuado até que todos os pontos tenham um cluster associado, ou seja marcado como noise."
   ]
  },
  {
   "cell_type": "markdown",
   "metadata": {},
   "source": [
    "Podemos visualizar a seguir o DBSCAN em funcionamento:\n",
    "\n",
    "\n",
    "\n",
    "<img src=\"https://ml-explained.com/_nuxt/img/dbscan.4e37192.gif\" width=300>\n",
    "\n",
    "\n",
    "<img src=https://i.pinimg.com/originals/bb/3d/5e/bb3d5e522cbcb2dd07a81f8118de2041.gif width=500>\n"
   ]
  },
  {
   "cell_type": "markdown",
   "metadata": {},
   "source": [
    "A classe do sklearn é esta: [DBSCAN](https://scikit-learn.org/stable/modules/generated/sklearn.cluster.DBSCAN.html)\n"
   ]
  },
  {
   "cell_type": "markdown",
   "metadata": {},
   "source": [
    "Vamos agora ver o DBSCAN em ação, com o mesmo dataset artificial da aula passada!"
   ]
  },
  {
   "cell_type": "markdown",
   "metadata": {},
   "source": [
    "____\n"
   ]
  },
  {
   "cell_type": "code",
   "execution_count": null,
   "metadata": {},
   "outputs": [],
   "source": [
    "from sklearn.datasets import make_blobs\n",
    "\n",
    "X, _ = make_blobs(n_samples=300, centers=4, cluster_std=0.60, random_state=0)\n",
    "\n",
    "plt.scatter(X[:,0], X[:,1])"
   ]
  },
  {
   "cell_type": "code",
   "execution_count": null,
   "metadata": {},
   "outputs": [],
   "source": [
    "# 1) - importando a classe dbscan do sklearn\n"
   ]
  },
  {
   "cell_type": "code",
   "execution_count": null,
   "metadata": {},
   "outputs": [],
   "source": [
    "# 2) instanciando o modelo\n"
   ]
  },
  {
   "cell_type": "code",
   "execution_count": null,
   "metadata": {},
   "outputs": [],
   "source": [
    "# 3) e 4) treinando o modelo\n"
   ]
  },
  {
   "cell_type": "code",
   "execution_count": null,
   "metadata": {},
   "outputs": [],
   "source": [
    "# 5) fazendo previsões\n"
   ]
  },
  {
   "cell_type": "code",
   "execution_count": null,
   "metadata": {
    "ExecuteTime": {
     "end_time": "2021-09-21T17:49:10.487468Z",
     "start_time": "2021-09-21T17:49:10.459437Z"
    }
   },
   "outputs": [],
   "source": [
    "# plotando os clusters\n"
   ]
  },
  {
   "cell_type": "markdown",
   "metadata": {},
   "source": [
    "____\n",
    "____\n",
    "_____"
   ]
  },
  {
   "cell_type": "markdown",
   "metadata": {},
   "source": [
    "## 2) Aplicação - clusterização de estações\n",
    "\n",
    "Vamos pegar os dados geográficos das estações da malha de transporte metropolitano de SP, e ver uma aplicação interessante do DBSCAN"
   ]
  },
  {
   "cell_type": "code",
   "execution_count": null,
   "metadata": {
    "ExecuteTime": {
     "end_time": "2021-09-20T19:30:45.213128Z",
     "start_time": "2021-09-20T19:30:45.200114Z"
    }
   },
   "outputs": [],
   "source": [
    "# Valeu, squad amarela!!!\n",
    "\n",
    "df = pd.read_csv(\"metroetrem_sp_comlinks.csv\")"
   ]
  },
  {
   "cell_type": "code",
   "execution_count": null,
   "metadata": {
    "ExecuteTime": {
     "end_time": "2021-09-20T19:31:24.176009Z",
     "start_time": "2021-09-20T19:31:24.154025Z"
    }
   },
   "outputs": [],
   "source": [
    "df.head()"
   ]
  },
  {
   "cell_type": "code",
   "execution_count": null,
   "metadata": {
    "ExecuteTime": {
     "end_time": "2021-09-20T19:40:05.894240Z",
     "start_time": "2021-09-20T19:40:05.872256Z"
    }
   },
   "outputs": [],
   "source": [
    "df[\"long\"] = df[\"long\"].apply(lambda x: x/10**(len(str(x))-3))\n",
    "df[\"lat\"] = df[\"lat\"].apply(lambda x: x/10**(len(str(x))-3))"
   ]
  },
  {
   "cell_type": "code",
   "execution_count": null,
   "metadata": {
    "ExecuteTime": {
     "end_time": "2021-09-20T20:51:58.580363Z",
     "start_time": "2021-09-20T20:51:58.564373Z"
    }
   },
   "outputs": [],
   "source": [
    "colors = {'AMARELA': '#f0d20e',\n",
    "          'AZUL': '#0515a3',\n",
    "          'CORAL': '#e07000',\n",
    "          'DIAMANTE': '#919190',\n",
    "          'ESMERALDA': '#0bd6a3',\n",
    "          'JADE': '#0bd637',\n",
    "          'LILAS': '#a659de',\n",
    "          'PRATA': '#616161',\n",
    "          'RUBI': '#9c2438',\n",
    "          'SAFIRA': '#0c0880',\n",
    "          'TURQUESA': '#267587',\n",
    "          'VERDE': '#048a37',\n",
    "          'VERMELHA': '#d10202'}"
   ]
  },
  {
   "cell_type": "code",
   "execution_count": null,
   "metadata": {
    "ExecuteTime": {
     "end_time": "2021-09-20T20:52:15.648641Z",
     "start_time": "2021-09-20T20:52:15.288007Z"
    }
   },
   "outputs": [],
   "source": [
    "plt.figure(figsize=(16, 8))\n",
    "\n",
    "n_estacoes = df[\"color\"].nunique()\n",
    "\n",
    "plt.title(f\"Número de clusters: {n_estacoes}\")\n",
    "\n",
    "sns.scatterplot(data=df, x=\"long\", y=\"lat\", hue=\"nome_lin\", palette=colors)\n",
    "\n",
    "plt.gca().set_aspect('equal', adjustable='box')\n",
    "\n",
    "plt.show()"
   ]
  },
  {
   "cell_type": "markdown",
   "metadata": {},
   "source": [
    "<img src=\"https://i.redd.it/6jxo08iuzpxy.gif\" width=500>"
   ]
  },
  {
   "cell_type": "code",
   "execution_count": null,
   "metadata": {
    "ExecuteTime": {
     "end_time": "2021-09-20T20:20:02.510808Z",
     "start_time": "2021-09-20T20:20:02.491823Z"
    }
   },
   "outputs": [],
   "source": [
    "X = df[[\"lat\", \"long\"]].copy()\n",
    "\n",
    "X"
   ]
  },
  {
   "cell_type": "markdown",
   "metadata": {},
   "source": [
    "Vamos usar a [distância de Haversine](https://scikit-learn.org/stable/modules/generated/sklearn.metrics.pairwise.haversine_distances.html)\n",
    "\n",
    "Importante: primeiro ponto é a latitude, segundo é a longitude!"
   ]
  },
  {
   "cell_type": "code",
   "execution_count": null,
   "metadata": {
    "ExecuteTime": {
     "end_time": "2021-09-20T20:20:05.649410Z",
     "start_time": "2021-09-20T20:20:05.641419Z"
    }
   },
   "outputs": [],
   "source": [
    "X_train = np.radians(X).copy()"
   ]
  },
  {
   "cell_type": "code",
   "execution_count": null,
   "metadata": {
    "ExecuteTime": {
     "end_time": "2021-09-20T20:53:55.034540Z",
     "start_time": "2021-09-20T20:53:54.743040Z"
    }
   },
   "outputs": [],
   "source": [
    "from sklearn.cluster import DBSCAN\n",
    "\n",
    "# https://stackoverflow.com/questions/34579213/dbscan-for-clustering-of-geographic-location-data\n",
    "eps_km = 3.5\n",
    "km_to_rad = 6371.0088\n",
    "\n",
    "eps = eps_km/km_to_rad\n",
    "\n",
    "db = DBSCAN(eps=eps, metric=\"haversine\", algorithm=\"ball_tree\", min_samples=1).fit(X_train)\n",
    "\n",
    "X[\"cluster\"] = db.labels_\n",
    "\n",
    "#################################################################\n",
    "\n",
    "plt.figure(figsize=(16, 8))\n",
    "\n",
    "n_cluster = X[\"cluster\"].nunique()\n",
    "\n",
    "plt.title(f\"Número de clusters: {n_cluster}\")\n",
    "\n",
    "sns.scatterplot(data=X, x=\"long\", y=\"lat\", hue=\"cluster\", palette=\"viridis\")\n",
    "\n",
    "plt.gca().set_aspect('equal', adjustable='box')\n",
    "\n",
    "plt.show()"
   ]
  },
  {
   "cell_type": "markdown",
   "metadata": {},
   "source": [
    "Com o k-means..."
   ]
  },
  {
   "cell_type": "code",
   "execution_count": null,
   "metadata": {
    "ExecuteTime": {
     "end_time": "2021-09-20T20:55:47.507794Z",
     "start_time": "2021-09-20T20:55:47.168963Z"
    }
   },
   "outputs": [],
   "source": [
    "from sklearn.cluster import KMeans\n",
    "\n",
    "km = KMeans(n_clusters=13).fit(X_train)\n",
    "\n",
    "X[\"cluster\"] = km.labels_\n",
    "\n",
    "#################################################################\n",
    "\n",
    "plt.figure(figsize=(16, 8))\n",
    "\n",
    "n_cluster = X[\"cluster\"].nunique()\n",
    "\n",
    "plt.title(f\"Número de clusters: {n_cluster}\")\n",
    "\n",
    "sns.scatterplot(data=X, x=\"long\", y=\"lat\", hue=\"cluster\", palette=\"viridis\")\n",
    "\n",
    "plt.gca().set_aspect('equal', adjustable='box')\n",
    "\n",
    "plt.show()"
   ]
  }
 ],
 "metadata": {
  "kernelspec": {
   "display_name": "Python 3",
   "language": "python",
   "name": "python3"
  },
  "language_info": {
   "codemirror_mode": {
    "name": "ipython",
    "version": 3
   },
   "file_extension": ".py",
   "mimetype": "text/x-python",
   "name": "python",
   "nbconvert_exporter": "python",
   "pygments_lexer": "ipython3",
   "version": "3.8.3"
  }
 },
 "nbformat": 4,
 "nbformat_minor": 4
}
