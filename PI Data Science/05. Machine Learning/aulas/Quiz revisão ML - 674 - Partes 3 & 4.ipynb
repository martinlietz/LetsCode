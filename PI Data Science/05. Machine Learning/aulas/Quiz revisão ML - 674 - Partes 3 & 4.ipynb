{
 "cells": [
  {
   "cell_type": "markdown",
   "source": [
    "# Quiz revisão ML - 674 - Partes 3 & 4"
   ],
   "metadata": {}
  },
  {
   "cell_type": "markdown",
   "source": [
    "## Q1 Com a aplicação de técnicas de regularização, overfitting é evitado a partir da redução do espaço de hipóteses acessível\r\n",
    "\r\n",
    "[x] Verdadeiro  \r\n",
    "   \r\n",
    "[ ] Falso  \r\n",
    "\r\n"
   ],
   "metadata": {}
  },
  {
   "cell_type": "markdown",
   "source": [
    "## Q2 As regularizações L1 e L2 podem ser formuladas como problemas de otimização vinculados\r\n",
    "[x] Verdadeiro  \r\n",
    "[ ] Falso  "
   ],
   "metadata": {}
  },
  {
   "cell_type": "markdown",
   "source": [
    "## Q3 Chamamos de target a variável resposta do problema -- que por sua vez é determinada/predita pelas features, que são as variáveis que caracterizam cada observação\r\n",
    "[x] Verdadeiro  \r\n",
    "[ ] Falso  "
   ],
   "metadata": {}
  },
  {
   "cell_type": "markdown",
   "source": [
    "## Q4 A regularização L2 (Ridge) possibilita feature selection, pois é possível que parâmetros do modelo sejam zerados\r\n",
    "[ ] Verdadeiro  \r\n",
    "[x ] Falso  "
   ],
   "metadata": {}
  },
  {
   "cell_type": "markdown",
   "source": [
    "## Q5 É possível também formular a regularização como termos extras (penalizações) adicionados à função de custo original para o problema de otimização\r\n",
    "[x] Verdadeiro  \r\n",
    "[ ] Falso  "
   ],
   "metadata": {}
  },
  {
   "cell_type": "markdown",
   "source": [
    "## Q6 As métricas de avaliação, parecidas com as funções de custo, comparam os targets preditos pelo modelo com os targets reais\r\n",
    "[x] Verdadeiro  \r\n",
    "[ ] Falso  "
   ],
   "metadata": {}
  },
  {
   "cell_type": "markdown",
   "source": [
    "## Q7 A função de custo/perda deve sempre ser calculada com os dados de teste\r\n",
    "[] Verdadeir'o  \r\n",
    "[x ] Falso  "
   ],
   "metadata": {}
  },
  {
   "cell_type": "markdown",
   "source": [
    "## Q8 Um problema de regressão tem target discreto; enquanto um problema de classificação tem garget contínuo\r\n",
    "[ ] Verdadeiro  \r\n",
    "[x ] Falso  "
   ],
   "metadata": {}
  },
  {
   "cell_type": "markdown",
   "source": [
    "## Q9 As métricas de avaliação não devem ser calculadas nos dados de treino\r\n",
    "[ ] Verdadeiro  \r\n",
    "[x ] Falso  "
   ],
   "metadata": {}
  },
  {
   "cell_type": "markdown",
   "source": [
    "## Q10 O único hiperparâmetro importante na regularização elastic net é o parâmetro de mistura (que indica a proporção relativa de L1/L2 na regularização completa)\r\n",
    "[ ] Verdadeiro  \r\n",
    "[x ] Falso  "
   ],
   "metadata": {}
  },
  {
   "cell_type": "markdown",
   "source": [
    "## Q11 A determinação do vetor de parâmetros que melhor se ajustam aos dados é explicitamente feita pela otimização de uma função de custo/perda (problema de otimização)\r\n",
    "[x] Verdadeiro  \r\n",
    "[ ] Falso  "
   ],
   "metadata": {}
  },
  {
   "cell_type": "markdown",
   "source": [
    "## Q12 O target sempre deve ser uma variável continua\r\n",
    "[ ] Verdadeiro  \r\n",
    "[x] Falso  "
   ],
   "metadata": {}
  },
  {
   "cell_type": "markdown",
   "source": [
    "## Q13 Os dados de treino devem ser utilizados apenas ao final da produção do modelo, para avaliação final da generalização\r\n",
    "[ ] Verdadeiro  \r\n",
    "[x] Falso  "
   ],
   "metadata": {}
  },
  {
   "cell_type": "markdown",
   "source": [
    "## Q14 Quanto maior o parâmetro de força de regularização, maior é o espaço de hipóteses acessível\r\n",
    "[ ] Verdadeiro  \r\n",
    "[x] Falso  "
   ],
   "metadata": {}
  },
  {
   "cell_type": "markdown",
   "source": [
    "## Q15 O tradeoff precision/recall refere-se ao tradeoff entre underfitting/overfitting\r\n",
    "[ ] Verdadeiro  \r\n",
    "[x] Falso  "
   ],
   "metadata": {}
  },
  {
   "cell_type": "markdown",
   "source": [
    "## Q16 Quando os erros cometidos na base de treino é muito menor que os erros cometidos na base de teste, há overfitting\r\n",
    "[x] Verdadeiro  \r\n",
    "[ ] Falso  "
   ],
   "metadata": {}
  },
  {
   "cell_type": "markdown",
   "source": [
    "## Q17 Para aferir a capacidade de generalização de um modelo, é muito importante que o volume de dados original sejam separados nas amostras de treino e de teste\r\n",
    "[x] Verdadeiro  \r\n",
    "[ ] Falso  "
   ],
   "metadata": {}
  },
  {
   "cell_type": "markdown",
   "source": [
    "## Q18 São exemplos de métricas de avaliação de classificação: MAE, RMSE, R^2, MSE, ...\r\n",
    "[ ] Verdadeiro  \r\n",
    "[x] Falso  "
   ],
   "metadata": {}
  },
  {
   "cell_type": "markdown",
   "source": [
    "## Q19 São exemplos de métricas de avaliação de regressão: precision, recall, f1, AUC-ROC, ...\r\n",
    "[ ] Verdadeiro  \r\n",
    "[x] Falso  "
   ],
   "metadata": {}
  },
  {
   "cell_type": "markdown",
   "source": [
    "## Q20 Ao maximizar a métrica recall, queremos minimizar os falsos negativos\r\n",
    "[x] Verdadeiro  \r\n",
    "[ ] Falso  "
   ],
   "metadata": {}
  }
 ],
 "metadata": {
  "orig_nbformat": 4,
  "language_info": {
   "name": "python",
   "version": "3.9.7"
  },
  "kernelspec": {
   "name": "python3",
   "display_name": "Python 3.9.7 64-bit"
  },
  "interpreter": {
   "hash": "e922dd073470bdcc017ae3abd31d6491d6ed7bf31c1d559806e5511bfea88b81"
  }
 },
 "nbformat": 4,
 "nbformat_minor": 2
}