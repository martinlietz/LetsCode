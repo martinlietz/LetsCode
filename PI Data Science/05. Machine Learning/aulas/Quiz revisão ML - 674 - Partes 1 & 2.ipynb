{
 "cells": [
  {
   "cell_type": "markdown",
   "source": [
    "# Quiz revisão ML - 674 - Partes 1 & 2"
   ],
   "metadata": {}
  },
  {
   "cell_type": "markdown",
   "source": [
    "## Q1 O processo teórico F é modelado pela função hipótese f, que é parametrizada. A determinação dos parâmetros é feita pelo algoritmo de aprendizagem com os dados na base de treino. \r\n",
    "\r\n",
    "[x] Verdadeiro  \r\n",
    "   \r\n",
    "[ ] Falso \r\n",
    "\r\n"
   ],
   "metadata": {}
  },
  {
   "cell_type": "markdown",
   "source": [
    "## Q2 Underfitting ocorre quando a hipótese se ajusta demasiadamente aos dados, ou seja, os ruídos/variações aleatórias da amostra de treino são incorporados pela hipótese \r\n",
    "\r\n",
    "[ ] Verdadeiro  \r\n",
    "   \r\n",
    "[x] Falso "
   ],
   "metadata": {}
  },
  {
   "cell_type": "markdown",
   "source": [
    "## Q3 Um modelo pode ser visto como uma representação do problema/contexto sob análise, muitas vezes com o objetivo de conferir poder preditivo \r\n",
    "\r\n",
    "[x] Verdadeiro  \r\n",
    "   \r\n",
    "[ ] Falso "
   ],
   "metadata": {}
  },
  {
   "cell_type": "markdown",
   "source": [
    "## Q4 Um modelo deve ser avaliado através do cálculo de métricas de avaliação\r\n",
    "\r\n",
    "[x] Verdadeiro  \r\n",
    "   \r\n",
    "[ ] Falso "
   ],
   "metadata": {}
  },
  {
   "cell_type": "markdown",
   "source": [
    "## Q5 Assumimos que existe uma função teórica F que de fato rege o comportamento do problema sob análise. Ou seja, esta função é o processo teórico que relaciona as features com o target \r\n",
    "\r\n",
    "[x] Verdadeiro  \r\n",
    "   \r\n",
    "[ ] Falso "
   ],
   "metadata": {}
  },
  {
   "cell_type": "markdown",
   "source": [
    "## Q6 Os hiperparâmetros da hipótese são determinados pelo algoritmo de aprendizagem de modo a produzir a função específica dentro do conjunto de hipóteses que melhor se ajusta aos dados \r\n",
    "\r\n",
    "[ ] Verdadeiro  \r\n",
    "   \r\n",
    "[x] Falso "
   ],
   "metadata": {}
  },
  {
   "cell_type": "markdown",
   "source": [
    "## Q7 Um dos objetivos da aprendizagem é estimar a função teórica F a partir dos dados da população completa \r\n",
    "\r\n",
    "[ ] Verdadeiro  \r\n",
    "   \r\n",
    "[x] Falso "
   ],
   "metadata": {}
  },
  {
   "cell_type": "markdown",
   "source": [
    "## Q8 Ao maximizar a métrica precision, queremos minimizar os falsos positivos \r\n",
    "\r\n",
    "[x] Verdadeiro  \r\n",
    "   \r\n",
    "[ ] Falso "
   ],
   "metadata": {}
  },
  {
   "cell_type": "markdown",
   "source": [
    "## Q9 Os parâmetros da hipótese modificam o comportamento final do modelo, e seus valores devem ser determinados pelo cientista -- eles não são comumente aprendidos \r\n",
    "\r\n",
    "[ ] Verdadeiro  \r\n",
    "   \r\n",
    "[x] Falso "
   ],
   "metadata": {}
  },
  {
   "cell_type": "markdown",
   "source": [
    "## Q10 Na aprendizagem supervisionada, os targets não fazem parte da base de dados (isto é, temos apenas features) \r\n",
    "\r\n",
    "[ ] Verdadeiro  \r\n",
    "   \r\n",
    "[x] Falso "
   ],
   "metadata": {}
  },
  {
   "cell_type": "markdown",
   "source": [
    "## Q11 A regularização L1 (Lasso) não possibilita feature selection, pois os parâmetros podem são reduzidos a próximos de zero, mas não são anulados \r\n",
    "\r\n",
    "[ ] Verdadeiro  \r\n",
    "   \r\n",
    "[x] Falso "
   ],
   "metadata": {}
  },
  {
   "cell_type": "markdown",
   "source": [
    "## Q12 Underfitting em geral ocorre quando as hipóteses acessíveis são demasiadamente complexas, de modo que as particularidades da base de treino são incorporadas pela hipótese \r\n",
    "\r\n",
    "[ ] Verdadeiro  \r\n",
    "   \r\n",
    "[x] Falso "
   ],
   "metadata": {}
  },
  {
   "cell_type": "markdown",
   "source": [
    "## Q13 O número de dimensões das features (isto é, a quantidade de variáveis preditoras) deve sempre ser igual ao numero de dimensões do target \r\n",
    "\r\n",
    "[ ] Verdadeiro  \r\n",
    "   \r\n",
    "[x] Falso "
   ],
   "metadata": {}
  },
  {
   "cell_type": "markdown",
   "source": [
    "## Q14 Técnicas de regularização têm como objetivo pragmático evitar underfitting \r\n",
    "\r\n",
    "[ ] Verdadeiro  \r\n",
    "   \r\n",
    "[x] Falso "
   ],
   "metadata": {}
  },
  {
   "cell_type": "markdown",
   "source": [
    "## Q15 Um modelo com alto viés é um modelo com alto grau de underfitting; um modelo com alta variância é um modelo com alto grau de overfitting \r\n",
    "\r\n",
    "[x] Verdadeiro  \r\n",
    "   \r\n",
    "[ ] Falso "
   ],
   "metadata": {}
  },
  {
   "cell_type": "markdown",
   "source": [
    "## Q16 A comparação das métricas de avaliações calculadas nas bases de treino e de teste é um boa forma de procurar por underfitting/overfitting \r\n",
    "\r\n",
    "[x] Verdadeiro  \r\n",
    "   \r\n",
    "[ ] Falso "
   ],
   "metadata": {}
  },
  {
   "cell_type": "markdown",
   "source": [
    "## Q17 A regularização elastic net representa uma mistrua das regularizações L1 e L2 \r\n",
    "\r\n",
    "[x] Verdadeiro  \r\n",
    "   \r\n",
    "[ ] Falso "
   ],
   "metadata": {}
  },
  {
   "cell_type": "markdown",
   "source": [
    "## Q18 A função de custo/perda quantifica os erros que o modelo comete -- ou seja, a diferença entre os targets reais e os targets preditos \r\n",
    "\r\n",
    "[x] Verdadeiro  \r\n",
    "   \r\n",
    "[ ] Falso "
   ],
   "metadata": {}
  },
  {
   "cell_type": "markdown",
   "source": [
    "## Q19 Overfitting ocorre quando a hipótese não é capaz de se ajustar aos dados, ou seja, não é capaz de extrair os padrões da base de treino \r\n",
    "\r\n",
    "[ ] Verdadeiro  \r\n",
    "   \r\n",
    "[x] Falso "
   ],
   "metadata": {}
  },
  {
   "cell_type": "markdown",
   "source": [
    "## Q20 Overfitting em geral ocorre quando as hipóteses acessíveis são demasiadamente simples, incapazes de comportar os padrões presentes na base de treino \r\n",
    "\r\n",
    "[ ] Verdadeiro  \r\n",
    "   \r\n",
    "[x] Falso "
   ],
   "metadata": {}
  }
 ],
 "metadata": {
  "orig_nbformat": 4,
  "language_info": {
   "name": "python",
   "version": "3.9.7"
  },
  "kernelspec": {
   "name": "python3",
   "display_name": "Python 3.9.7 64-bit"
  },
  "interpreter": {
   "hash": "e922dd073470bdcc017ae3abd31d6491d6ed7bf31c1d559806e5511bfea88b81"
  }
 },
 "nbformat": 4,
 "nbformat_minor": 2
}