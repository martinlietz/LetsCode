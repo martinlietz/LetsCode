{
 "cells": [
  {
   "cell_type": "markdown",
   "metadata": {},
   "source": [
    "# Aula 3 - Regressão Logística\n",
    "\n",
    "Na aula de hoje, vamos explorar os seguintes tópicos em Python:\n",
    "\n",
    "- 1) Introdução\n",
    "- 2) Regressão logística\n",
    "- 4) Métricas de performance para problemas de classificação"
   ]
  },
  {
   "cell_type": "markdown",
   "metadata": {},
   "source": [
    "____\n",
    "____\n",
    "____"
   ]
  },
  {
   "cell_type": "markdown",
   "metadata": {},
   "source": [
    "## 1) Introdução\n",
    "\n",
    "**Problemas de Classificação** são aqueles em que queremos determinar a que **CATEGORIA** dentro de um **CONJUNTO DE CATEGORIAS** uma dada observação pertence, com base em suas features.\n",
    "\n",
    "Para isso, construímos um **CLASSIFICADOR**: modelo que tem como input as features (contínuas ou discretas) e como output uma entre as classes (discretas)\n",
    "\n",
    "\n",
    "Principal diferença entre problemas de regressão e classificação:\n",
    "- Regressão: valores contínuos;\n",
    "- Classificação: valores (classes) discretas (binárias ou não).\n",
    "\n",
    "<img src=\"https://i0.wp.com/vinodsblog.com/wp-content/uploads/2018/11/Classification-vs-Regression.png?fit=2048%2C1158&ssl=1\" width=700>\n",
    "\n",
    "\n",
    "<img src=\"https://i.pinimg.com/originals/71/8e/6a/718e6a40e1782bead960e58d3c52663b.png\" width=300>\n",
    "\n",
    "Exemplos de problemas de classificação:\n",
    "- Detecção de e-mails SPAM: um e-mail é SPAM ou não?;\n",
    "    - Features: palavras contidas no corpo do e-mail; remetente; assunto;\n",
    "- Detecção de doenças: que codição médica a pessoa tem?\n",
    "    - Features: sintomas fisiológicos; resultados de exames (medidas de variáveis biológicas);\n",
    "- Detecção do tipo de documento: secreto, confidencial ou não-sensível?\n",
    "    - Features: palavras no corpo do texto; título;\n",
    "- Detecção de fraudes de cartão de crédito: uma operação é fraudulenta ou não?;\n",
    "    - Features: histórico de transações; hora, local e frequência das transações; tipo de compra;\n",
    "- Modelo de risco de crédito: qual é a chance de determinada pessoa não pagar seu empréstimo?\n",
    "    - Features: histórico de pagamento; score de crédito;\n",
    "    \n",
    "    \n",
    "<img src=\"https://developers.google.com/machine-learning/guides/text-classification/images/TextClassificationExample.png\" width=500>\n",
    "\n",
    "\n",
    "\n",
    "Veremos hoje um dos mais simples e poderosos classificadores: a **Regressão Logística!**\n"
   ]
  },
  {
   "cell_type": "markdown",
   "metadata": {},
   "source": [
    "___\n",
    "___\n",
    "___"
   ]
  },
  {
   "cell_type": "markdown",
   "metadata": {},
   "source": [
    "## 2) Regressão Logística\n",
    "\n",
    "A [Regressão Logística](https://scikit-learn.org/stable/modules/generated/sklearn.linear_model.LogisticRegression.html) (também chamado de **logit**), apesar do nome, é um método utilizado para classificação!\n",
    "\n",
    "- Classificação binária: duas classes (0 e 1);\n",
    "- Classificação multiclasse: n classes (0, 1, ..., n-1), com $n \\in \\mathbb{N}$\n",
    "\n",
    "O objetivo da regressão logística é: **modelar a PROBABILIDADE $P(x)$ de dada observação (com features $x$) pertencer à classe 1**, ou seja, queremos encontrar um modelo que nos dê:\n",
    "\n",
    "$$ P( x \\in 1 | x) $$\n",
    "\n",
    "Naturalmente, $0 \\le P(x) \\le 1$. Assim, por exemplo, se:\n",
    "- $P(x) \\ge 0,5$: x pertence à classe 1\n",
    "- $P(x) < 0.5$: x pertence à classe 0\n",
    "\n",
    "Obs.: este valor de 0.5 (50%) é chamado de \"cutoff\", e pode ser ajustado, embora seja comum fixá-lo em 50%!"
   ]
  },
  {
   "cell_type": "markdown",
   "metadata": {},
   "source": [
    "Poderíamos pensar em utilizar a regressão linear em nossos problemas de classificação, mas isso não é uma boa ideia: acabamos encontrando probabilidades negativas e fit ruim!\n",
    "\n",
    "No exemplo a seguir, temos a probabilidade de não-pagamento (default) de um empréstimo com base em uma feature (balanço). Note probabilidades negativas!\n",
    "\n",
    "<figure>\n",
    "    <img src=\"https://s3-sa-east-1.amazonaws.com/lcpi/70189f79-2886-4e59-893b-1dac9dd64078.png\" height=\"400\" width=\"400\">\n",
    "    <figcaption>\n",
    "        Regressão Linear para classificação. Fonte: \n",
    "        <a href=\"http://faculty.marshall.usc.edu/gareth-james/ISL/\">ISLR</a>\n",
    "    </figcaption>\n",
    "</figure> \n",
    "\n",
    "Para resolver este problema, podemos adaptar a função de regressão linear para uma função que tem imagem entre 0 e 1. Seria legal se tivéssemos algo como:\n",
    "\n",
    "<figure>\n",
    "    <img src=\"https://s3-sa-east-1.amazonaws.com/lcpi/6d54529a-d295-47a3-8a11-1f426fde7229.png\" height=\"400\" width=\"400\">\n",
    "    <figcaption>\n",
    "        Classificador. Fonte: \n",
    "        <a href=\"http://faculty.marshall.usc.edu/gareth-james/ISL/\">ISLR</a>\n",
    "    </figcaption>\n",
    "</figure> \n",
    "\n",
    "Um exemplo de tal função é a FUNÇÃO LOGÍSTICA ou FUNÇÃO SIGMOIDAL:\n",
    "\n",
    "<img src=\"https://miro.medium.com/max/970/1*Xu7B5y9gp0iL5ooBj7LtWw.png\" width=400>\n",
    "\n",
    "Note que:\n",
    "- $z \\in \\mathbb{R}$\n",
    "- $0 \\le \\phi(z) \\le 1$\n",
    "\n",
    "Para incorporar a ideia da regressão linear na regressão logística, tomamos:\n",
    "\n",
    "- $z = \\beta_0 + \\beta_1x$, que é o modelo de regressão linear (uma variável);\n",
    "\n",
    "E substituímos na função logística:\n",
    "\n",
    "- $\\phi(x) = \\frac{1}{1 + e^{-(\\beta_0 + \\beta_1 x)}}$\n",
    "\n",
    "Com isso, tomamos qualquer output real do modelo linear e transformamos em um valor entre 0 e 1, como queríamos!\n",
    "\n",
    "<img src=\"http://juangabrielgomila.com/wp-content/uploads/2015/04/LogReg_1.png\" width=\"500\">\n",
    "\n",
    "No nosso caso, como queremos modelar probabilidades, tomamos, no caso de uma feature:\n",
    "\n",
    "$P(x) = \\frac{1}{1 + e^{-(\\beta_0 + \\beta_1 x)}}$\n",
    "\n",
    "Ou, para a regressão logística múltipla com $p$ features:\n",
    "\n",
    "$P(x_1, \\cdots, x_p) = \\frac{1}{1 + e^{-(\\beta_0 + \\beta_1 x_1 + \\cdots + \\beta_p x_p)}}$\n",
    "\n",
    "Com um pouco de álgebra, é possível mostrar que: \n",
    "\n",
    "$ \\beta_0 + \\beta_1 x_1 + \\cdots + \\beta_p x_p = \\log \\left ( \\frac{P}{1-P} \\right ) $\n",
    "\n",
    "A quantidade $\\frac{P}{1-P}$ é conhecida como **odds/chance**; e $\\log \\left ( \\frac{P}{1-P} \\right )$ é o [log-odds ou logit](https://en.wikipedia.org/wiki/Logit).\n",
    "\n",
    "Note, portanto, que podemos entender a regressão logística como um modelo em que **o logit é linear com as features**. Portanto, de fato, a regressão logística é **um modelo linear**.\n"
   ]
  },
  {
   "cell_type": "code",
   "execution_count": 1,
   "metadata": {},
   "outputs": [],
   "source": [
    "import numpy as np\n",
    "import matplotlib.pyplot as plt"
   ]
  },
  {
   "cell_type": "code",
   "execution_count": 2,
   "metadata": {},
   "outputs": [],
   "source": [
    "def calc_z(x, b0, b1):\n",
    "    \n",
    "    return b0 + b1*x"
   ]
  },
  {
   "cell_type": "code",
   "execution_count": 3,
   "metadata": {},
   "outputs": [
    {
     "data": {
      "image/png": "[encoded data removed]",
      "text/plain": [
       "<Figure size 432x288 with 1 Axes>"
      ]
     },
     "metadata": {
      "needs_background": "light"
     },
     "output_type": "display_data"
    }
   ],
   "source": [
    "x = np.linspace(-10, 10, 1000)\n",
    "\n",
    "b0_list = [-10, 1, 5, 10]\n",
    "b1 = 2\n",
    "\n",
    "for b0 in b0_list:\n",
    "    \n",
    "    z = b0 + b1*x\n",
    "\n",
    "    y = 1/(1 + np.exp(-z))\n",
    "\n",
    "    plt.plot(x, y, label=f'b0={b0}')\n",
    "    \n",
    "    plt.legend()\n",
    "             "
   ]
  },
  {
   "cell_type": "code",
   "execution_count": 4,
   "metadata": {},
   "outputs": [
    {
     "data": {
      "image/png": "[encoded data removed]",
      "text/plain": [
       "<Figure size 432x288 with 1 Axes>"
      ]
     },
     "metadata": {
      "needs_background": "light"
     },
     "output_type": "display_data"
    }
   ],
   "source": [
    "b1_list = [0.5, 1, 10]\n",
    "b0 = 2\n",
    "\n",
    "for b1 in b1_list:\n",
    "    \n",
    "    z = b0 + b1*x\n",
    "\n",
    "    y = 1/(1 + np.exp(-z))\n",
    "\n",
    "    plt.plot(x, y, label=f'b1={b1}')\n",
    "    \n",
    "    plt.legend()"
   ]
  },
  {
   "cell_type": "markdown",
   "metadata": {},
   "source": [
    "___\n",
    "\n",
    "### Função de perda e algoritmo de aprendizagem\n",
    "\n",
    "A função de perda para a regressão logística é a famosa [binary cross-entropy](https://towardsdatascience.com/understanding-binary-cross-entropy-log-loss-a-visual-explanation-a3ac6025181a), também conhecida como [log loss](https://developers.google.com/machine-learning/crash-course/logistic-regression/model-training)\n",
    "\n",
    "Esta função será de enorme importância no estudo de **redes neurais**.\n",
    "\n",
    "As principais implementações do algoritmo de aprendizagem da regressão logística se baseia no [método de máxima verossimilhança](https://pt.wikipedia.org/wiki/M%C3%A1xima_verossimilhan%C3%A7a). \n",
    "\n",
    "Para maiores detalhes sobre o algoritmo de aprendizagem, veja [este vídeo](https://youtu.be/yIYKR4sgzI8) e [esta série de vídeos](https://youtu.be/vN5cNN2-HWE), do ótimo canal StatQuest!\n",
    "\n",
    "\n",
    "_________"
   ]
  },
  {
   "cell_type": "markdown",
   "metadata": {},
   "source": [
    "__________________\n",
    "\n",
    "Para introduzirmos as ideias, utilizaremos um dataset de marketing (propagandas/advertising), que está disponível no <a href=\"https://www.kaggle.com/fayomi/advertising\">Kaggle</a>. Este é um dataset artificial e didático, com os dados bem separáveis, o que é ótimo para ilustração!<br>\n",
    "\n",
    "Visite o Kaggle e procure por \"advertising\" para datasets relacionados reais e ainda mais interessantes\n",
    "\n",
    "A base que utilizaremos contém as seguintes colunas:\n",
    "\n",
    "* 'Daily Time Spent on Site': tempo que o cliente ficou no site (em minutos);\n",
    "* 'Age': idade do cliente (em anos);\n",
    "* 'Area Income': média salarial (por ano) da região geográfica do cliente;\n",
    "* 'Daily Internet Usage': tempo médio (em minutos) que o cliente fica na internet;\n",
    "* 'Ad Topic Line': título do anúncio;\n",
    "* 'City': cidade do cliente;\n",
    "* 'Male': dummy indicando se o cliente é do sexo masculino (1) ou não (0);\n",
    "* 'Country': país do cliente;\n",
    "* 'Timestamp': marcação de tempo em que o cliente clickou no anúncio OU fechou a página\n",
    "* 'Clicked on Ad': dummy indicando se o cliente clickou no anúncio (1) ou não (0).\n",
    "\n",
    "Nosso objetivo é criar um modelo que possa prever se um determinado usuário clickará em um anúncio online ou não, com base em suas características pessoais/comportamentais, bem como informações relativas ao anúncio.\n",
    "\n",
    "Tomamos como variáveis independentes (preditores/features) as primeiras 9 colunas, enquanto nossa variável dependente (target) é a última coluna (\"Clicked on Ad\").\n",
    "\n",
    "Ou seja, nosso modelo deve ser capaz de dizer se um usuário com um conjunto particular das 9 features clickará no anúncio ou não. \n",
    "\n",
    "__IMPORTANTE!__\n",
    "\n",
    "Pense no problema de negócio que estamos querendo resolver com nosso modelo -- direcionamento de marketing! Temos os dados dos nossos clientes (customer-centric), nós os conhecemos! Não podemos utilizar essa informação a nosso favor?\n",
    "\n",
    "Talvez não faça sentido exibir o anúncio para um usuário que tem baixa probabilidade de clickar no ad, não é mesmo? \n",
    "\n",
    "Por outro lado, é muito mais eficiente direcionar nosso marketing aos clientes com alta chance de clickar no nosso anúncio!\n",
    "\n",
    "Assim, economizamos dinheiro (todo anúncio é pago!), e ganhamos em eficiência e alcance!"
   ]
  },
  {
   "cell_type": "markdown",
   "metadata": {},
   "source": [
    "___\n",
    "___\n",
    "___"
   ]
  },
  {
   "cell_type": "code",
   "execution_count": 5,
   "metadata": {
    "ExecuteTime": {
     "end_time": "2020-02-14T01:37:58.380936Z",
     "start_time": "2020-02-14T01:37:54.673709Z"
    }
   },
   "outputs": [],
   "source": [
    "# importe as principais bibliotecas\n",
    "import numpy as np \n",
    "import pandas as pd\n",
    "import seaborn as sns"
   ]
  },
  {
   "cell_type": "markdown",
   "metadata": {},
   "source": [
    "O código abaixo é apenas para formatar os números em até 3 casas decimais. \n",
    "\n",
    "Fica aqui pra conhecimento e também pq vai nos auxiliar a ver melhor as probabilidades no final."
   ]
  },
  {
   "cell_type": "code",
   "execution_count": 6,
   "metadata": {},
   "outputs": [],
   "source": [
    "pd.set_option('display.float_format', lambda x: '%.3f' % x)\n",
    "np.set_printoptions(suppress=True, precision=3)"
   ]
  },
  {
   "cell_type": "code",
   "execution_count": 7,
   "metadata": {
    "ExecuteTime": {
     "end_time": "2020-02-14T01:37:58.542928Z",
     "start_time": "2020-02-14T01:37:58.384972Z"
    }
   },
   "outputs": [],
   "source": [
    "# leia os dados em '../datasets/advertising.csv'\n",
    "\n",
    "df = pd.read_csv('../datasets/advertising.csv')"
   ]
  },
  {
   "cell_type": "code",
   "execution_count": 8,
   "metadata": {},
   "outputs": [
    {
     "data": {
      "text/html": [
       "<div>\n",
       "<style scoped>\n",
       "    .dataframe tbody tr th:only-of-type {\n",
       "        vertical-align: middle;\n",
       "    }\n",
       "\n",
       "    .dataframe tbody tr th {\n",
       "        vertical-align: top;\n",
       "    }\n",
       "\n",
       "    .dataframe thead th {\n",
       "        text-align: right;\n",
       "    }\n",
       "</style>\n",
       "<table border=\"1\" class=\"dataframe\">\n",
       "  <thead>\n",
       "    <tr style=\"text-align: right;\">\n",
       "      <th></th>\n",
       "      <th>Daily Time Spent on Site</th>\n",
       "      <th>Age</th>\n",
       "      <th>Area Income</th>\n",
       "      <th>Daily Internet Usage</th>\n",
       "      <th>Ad Topic Line</th>\n",
       "      <th>City</th>\n",
       "      <th>Male</th>\n",
       "      <th>Country</th>\n",
       "      <th>Timestamp</th>\n",
       "      <th>Clicked on Ad</th>\n",
       "    </tr>\n",
       "  </thead>\n",
       "  <tbody>\n",
       "    <tr>\n",
       "      <th>0</th>\n",
       "      <td>68.950</td>\n",
       "      <td>35</td>\n",
       "      <td>61833.900</td>\n",
       "      <td>256.090</td>\n",
       "      <td>Cloned 5thgeneration orchestration</td>\n",
       "      <td>Wrightburgh</td>\n",
       "      <td>0</td>\n",
       "      <td>Tunisia</td>\n",
       "      <td>2016-03-27 00:53:11</td>\n",
       "      <td>0</td>\n",
       "    </tr>\n",
       "    <tr>\n",
       "      <th>1</th>\n",
       "      <td>80.230</td>\n",
       "      <td>31</td>\n",
       "      <td>68441.850</td>\n",
       "      <td>193.770</td>\n",
       "      <td>Monitored national standardization</td>\n",
       "      <td>West Jodi</td>\n",
       "      <td>1</td>\n",
       "      <td>Nauru</td>\n",
       "      <td>2016-04-04 01:39:02</td>\n",
       "      <td>0</td>\n",
       "    </tr>\n",
       "    <tr>\n",
       "      <th>2</th>\n",
       "      <td>69.470</td>\n",
       "      <td>26</td>\n",
       "      <td>59785.940</td>\n",
       "      <td>236.500</td>\n",
       "      <td>Organic bottom-line service-desk</td>\n",
       "      <td>Davidton</td>\n",
       "      <td>0</td>\n",
       "      <td>San Marino</td>\n",
       "      <td>2016-03-13 20:35:42</td>\n",
       "      <td>0</td>\n",
       "    </tr>\n",
       "    <tr>\n",
       "      <th>3</th>\n",
       "      <td>74.150</td>\n",
       "      <td>29</td>\n",
       "      <td>54806.180</td>\n",
       "      <td>245.890</td>\n",
       "      <td>Triple-buffered reciprocal time-frame</td>\n",
       "      <td>West Terrifurt</td>\n",
       "      <td>1</td>\n",
       "      <td>Italy</td>\n",
       "      <td>2016-01-10 02:31:19</td>\n",
       "      <td>0</td>\n",
       "    </tr>\n",
       "    <tr>\n",
       "      <th>4</th>\n",
       "      <td>68.370</td>\n",
       "      <td>35</td>\n",
       "      <td>73889.990</td>\n",
       "      <td>225.580</td>\n",
       "      <td>Robust logistical utilization</td>\n",
       "      <td>South Manuel</td>\n",
       "      <td>0</td>\n",
       "      <td>Iceland</td>\n",
       "      <td>2016-06-03 03:36:18</td>\n",
       "      <td>0</td>\n",
       "    </tr>\n",
       "    <tr>\n",
       "      <th>...</th>\n",
       "      <td>...</td>\n",
       "      <td>...</td>\n",
       "      <td>...</td>\n",
       "      <td>...</td>\n",
       "      <td>...</td>\n",
       "      <td>...</td>\n",
       "      <td>...</td>\n",
       "      <td>...</td>\n",
       "      <td>...</td>\n",
       "      <td>...</td>\n",
       "    </tr>\n",
       "    <tr>\n",
       "      <th>995</th>\n",
       "      <td>72.970</td>\n",
       "      <td>30</td>\n",
       "      <td>71384.570</td>\n",
       "      <td>208.580</td>\n",
       "      <td>Fundamental modular algorithm</td>\n",
       "      <td>Duffystad</td>\n",
       "      <td>1</td>\n",
       "      <td>Lebanon</td>\n",
       "      <td>2016-02-11 21:49:00</td>\n",
       "      <td>1</td>\n",
       "    </tr>\n",
       "    <tr>\n",
       "      <th>996</th>\n",
       "      <td>51.300</td>\n",
       "      <td>45</td>\n",
       "      <td>67782.170</td>\n",
       "      <td>134.420</td>\n",
       "      <td>Grass-roots cohesive monitoring</td>\n",
       "      <td>New Darlene</td>\n",
       "      <td>1</td>\n",
       "      <td>Bosnia and Herzegovina</td>\n",
       "      <td>2016-04-22 02:07:01</td>\n",
       "      <td>1</td>\n",
       "    </tr>\n",
       "    <tr>\n",
       "      <th>997</th>\n",
       "      <td>51.630</td>\n",
       "      <td>51</td>\n",
       "      <td>42415.720</td>\n",
       "      <td>120.370</td>\n",
       "      <td>Expanded intangible solution</td>\n",
       "      <td>South Jessica</td>\n",
       "      <td>1</td>\n",
       "      <td>Mongolia</td>\n",
       "      <td>2016-02-01 17:24:57</td>\n",
       "      <td>1</td>\n",
       "    </tr>\n",
       "    <tr>\n",
       "      <th>998</th>\n",
       "      <td>55.550</td>\n",
       "      <td>19</td>\n",
       "      <td>41920.790</td>\n",
       "      <td>187.950</td>\n",
       "      <td>Proactive bandwidth-monitored policy</td>\n",
       "      <td>West Steven</td>\n",
       "      <td>0</td>\n",
       "      <td>Guatemala</td>\n",
       "      <td>2016-03-24 02:35:54</td>\n",
       "      <td>0</td>\n",
       "    </tr>\n",
       "    <tr>\n",
       "      <th>999</th>\n",
       "      <td>45.010</td>\n",
       "      <td>26</td>\n",
       "      <td>29875.800</td>\n",
       "      <td>178.350</td>\n",
       "      <td>Virtual 5thgeneration emulation</td>\n",
       "      <td>Ronniemouth</td>\n",
       "      <td>0</td>\n",
       "      <td>Brazil</td>\n",
       "      <td>2016-06-03 21:43:21</td>\n",
       "      <td>1</td>\n",
       "    </tr>\n",
       "  </tbody>\n",
       "</table>\n",
       "<p>1000 rows × 10 columns</p>\n",
       "</div>"
      ],
      "text/plain": [
       "     Daily Time Spent on Site  Age  Area Income  Daily Internet Usage  \\\n",
       "0                      68.950   35    61833.900               256.090   \n",
       "1                      80.230   31    68441.850               193.770   \n",
       "2                      69.470   26    59785.940               236.500   \n",
       "3                      74.150   29    54806.180               245.890   \n",
       "4                      68.370   35    73889.990               225.580   \n",
       "..                        ...  ...          ...                   ...   \n",
       "995                    72.970   30    71384.570               208.580   \n",
       "996                    51.300   45    67782.170               134.420   \n",
       "997                    51.630   51    42415.720               120.370   \n",
       "998                    55.550   19    41920.790               187.950   \n",
       "999                    45.010   26    29875.800               178.350   \n",
       "\n",
       "                             Ad Topic Line            City  Male  \\\n",
       "0       Cloned 5thgeneration orchestration     Wrightburgh     0   \n",
       "1       Monitored national standardization       West Jodi     1   \n",
       "2         Organic bottom-line service-desk        Davidton     0   \n",
       "3    Triple-buffered reciprocal time-frame  West Terrifurt     1   \n",
       "4            Robust logistical utilization    South Manuel     0   \n",
       "..                                     ...             ...   ...   \n",
       "995          Fundamental modular algorithm       Duffystad     1   \n",
       "996        Grass-roots cohesive monitoring     New Darlene     1   \n",
       "997           Expanded intangible solution   South Jessica     1   \n",
       "998   Proactive bandwidth-monitored policy     West Steven     0   \n",
       "999        Virtual 5thgeneration emulation     Ronniemouth     0   \n",
       "\n",
       "                    Country            Timestamp  Clicked on Ad  \n",
       "0                   Tunisia  2016-03-27 00:53:11              0  \n",
       "1                     Nauru  2016-04-04 01:39:02              0  \n",
       "2                San Marino  2016-03-13 20:35:42              0  \n",
       "3                     Italy  2016-01-10 02:31:19              0  \n",
       "4                   Iceland  2016-06-03 03:36:18              0  \n",
       "..                      ...                  ...            ...  \n",
       "995                 Lebanon  2016-02-11 21:49:00              1  \n",
       "996  Bosnia and Herzegovina  2016-04-22 02:07:01              1  \n",
       "997                Mongolia  2016-02-01 17:24:57              1  \n",
       "998               Guatemala  2016-03-24 02:35:54              0  \n",
       "999                  Brazil  2016-06-03 21:43:21              1  \n",
       "\n",
       "[1000 rows x 10 columns]"
      ]
     },
     "execution_count": 8,
     "metadata": {},
     "output_type": "execute_result"
    }
   ],
   "source": [
    "df"
   ]
  },
  {
   "cell_type": "code",
   "execution_count": 9,
   "metadata": {
    "ExecuteTime": {
     "end_time": "2020-02-14T01:37:58.576564Z",
     "start_time": "2020-02-14T01:37:58.549180Z"
    },
    "scrolled": true
   },
   "outputs": [
    {
     "data": {
      "text/html": [
       "<div>\n",
       "<style scoped>\n",
       "    .dataframe tbody tr th:only-of-type {\n",
       "        vertical-align: middle;\n",
       "    }\n",
       "\n",
       "    .dataframe tbody tr th {\n",
       "        vertical-align: top;\n",
       "    }\n",
       "\n",
       "    .dataframe thead th {\n",
       "        text-align: right;\n",
       "    }\n",
       "</style>\n",
       "<table border=\"1\" class=\"dataframe\">\n",
       "  <thead>\n",
       "    <tr style=\"text-align: right;\">\n",
       "      <th></th>\n",
       "      <th>Daily Time Spent on Site</th>\n",
       "      <th>Age</th>\n",
       "      <th>Area Income</th>\n",
       "      <th>Daily Internet Usage</th>\n",
       "      <th>Ad Topic Line</th>\n",
       "      <th>City</th>\n",
       "      <th>Male</th>\n",
       "      <th>Country</th>\n",
       "      <th>Timestamp</th>\n",
       "      <th>Clicked on Ad</th>\n",
       "    </tr>\n",
       "  </thead>\n",
       "  <tbody>\n",
       "    <tr>\n",
       "      <th>0</th>\n",
       "      <td>68.950</td>\n",
       "      <td>35</td>\n",
       "      <td>61833.900</td>\n",
       "      <td>256.090</td>\n",
       "      <td>Cloned 5thgeneration orchestration</td>\n",
       "      <td>Wrightburgh</td>\n",
       "      <td>0</td>\n",
       "      <td>Tunisia</td>\n",
       "      <td>2016-03-27 00:53:11</td>\n",
       "      <td>0</td>\n",
       "    </tr>\n",
       "    <tr>\n",
       "      <th>1</th>\n",
       "      <td>80.230</td>\n",
       "      <td>31</td>\n",
       "      <td>68441.850</td>\n",
       "      <td>193.770</td>\n",
       "      <td>Monitored national standardization</td>\n",
       "      <td>West Jodi</td>\n",
       "      <td>1</td>\n",
       "      <td>Nauru</td>\n",
       "      <td>2016-04-04 01:39:02</td>\n",
       "      <td>0</td>\n",
       "    </tr>\n",
       "    <tr>\n",
       "      <th>2</th>\n",
       "      <td>69.470</td>\n",
       "      <td>26</td>\n",
       "      <td>59785.940</td>\n",
       "      <td>236.500</td>\n",
       "      <td>Organic bottom-line service-desk</td>\n",
       "      <td>Davidton</td>\n",
       "      <td>0</td>\n",
       "      <td>San Marino</td>\n",
       "      <td>2016-03-13 20:35:42</td>\n",
       "      <td>0</td>\n",
       "    </tr>\n",
       "    <tr>\n",
       "      <th>3</th>\n",
       "      <td>74.150</td>\n",
       "      <td>29</td>\n",
       "      <td>54806.180</td>\n",
       "      <td>245.890</td>\n",
       "      <td>Triple-buffered reciprocal time-frame</td>\n",
       "      <td>West Terrifurt</td>\n",
       "      <td>1</td>\n",
       "      <td>Italy</td>\n",
       "      <td>2016-01-10 02:31:19</td>\n",
       "      <td>0</td>\n",
       "    </tr>\n",
       "    <tr>\n",
       "      <th>4</th>\n",
       "      <td>68.370</td>\n",
       "      <td>35</td>\n",
       "      <td>73889.990</td>\n",
       "      <td>225.580</td>\n",
       "      <td>Robust logistical utilization</td>\n",
       "      <td>South Manuel</td>\n",
       "      <td>0</td>\n",
       "      <td>Iceland</td>\n",
       "      <td>2016-06-03 03:36:18</td>\n",
       "      <td>0</td>\n",
       "    </tr>\n",
       "  </tbody>\n",
       "</table>\n",
       "</div>"
      ],
      "text/plain": [
       "   Daily Time Spent on Site  Age  Area Income  Daily Internet Usage  \\\n",
       "0                    68.950   35    61833.900               256.090   \n",
       "1                    80.230   31    68441.850               193.770   \n",
       "2                    69.470   26    59785.940               236.500   \n",
       "3                    74.150   29    54806.180               245.890   \n",
       "4                    68.370   35    73889.990               225.580   \n",
       "\n",
       "                           Ad Topic Line            City  Male     Country  \\\n",
       "0     Cloned 5thgeneration orchestration     Wrightburgh     0     Tunisia   \n",
       "1     Monitored national standardization       West Jodi     1       Nauru   \n",
       "2       Organic bottom-line service-desk        Davidton     0  San Marino   \n",
       "3  Triple-buffered reciprocal time-frame  West Terrifurt     1       Italy   \n",
       "4          Robust logistical utilization    South Manuel     0     Iceland   \n",
       "\n",
       "             Timestamp  Clicked on Ad  \n",
       "0  2016-03-27 00:53:11              0  \n",
       "1  2016-04-04 01:39:02              0  \n",
       "2  2016-03-13 20:35:42              0  \n",
       "3  2016-01-10 02:31:19              0  \n",
       "4  2016-06-03 03:36:18              0  "
      ]
     },
     "execution_count": 9,
     "metadata": {},
     "output_type": "execute_result"
    }
   ],
   "source": [
    "# de uma olhada nas 5 primeiras linhas\n",
    "\n",
    "df.head()"
   ]
  },
  {
   "cell_type": "code",
   "execution_count": 10,
   "metadata": {},
   "outputs": [
    {
     "name": "stdout",
     "output_type": "stream",
     "text": [
      "<class 'pandas.core.frame.DataFrame'>\n",
      "RangeIndex: 1000 entries, 0 to 999\n",
      "Data columns (total 10 columns):\n",
      " #   Column                    Non-Null Count  Dtype  \n",
      "---  ------                    --------------  -----  \n",
      " 0   Daily Time Spent on Site  1000 non-null   float64\n",
      " 1   Age                       1000 non-null   int64  \n",
      " 2   Area Income               1000 non-null   float64\n",
      " 3   Daily Internet Usage      1000 non-null   float64\n",
      " 4   Ad Topic Line             1000 non-null   object \n",
      " 5   City                      1000 non-null   object \n",
      " 6   Male                      1000 non-null   int64  \n",
      " 7   Country                   1000 non-null   object \n",
      " 8   Timestamp                 1000 non-null   object \n",
      " 9   Clicked on Ad             1000 non-null   int64  \n",
      "dtypes: float64(3), int64(3), object(4)\n",
      "memory usage: 78.2+ KB\n"
     ]
    }
   ],
   "source": [
    "# dê uma olhada no info\n",
    "\n",
    "df.info()"
   ]
  },
  {
   "cell_type": "code",
   "execution_count": 11,
   "metadata": {
    "ExecuteTime": {
     "end_time": "2020-02-14T01:37:58.709069Z",
     "start_time": "2020-02-14T01:37:58.580977Z"
    }
   },
   "outputs": [
    {
     "data": {
      "text/html": [
       "<div>\n",
       "<style scoped>\n",
       "    .dataframe tbody tr th:only-of-type {\n",
       "        vertical-align: middle;\n",
       "    }\n",
       "\n",
       "    .dataframe tbody tr th {\n",
       "        vertical-align: top;\n",
       "    }\n",
       "\n",
       "    .dataframe thead th {\n",
       "        text-align: right;\n",
       "    }\n",
       "</style>\n",
       "<table border=\"1\" class=\"dataframe\">\n",
       "  <thead>\n",
       "    <tr style=\"text-align: right;\">\n",
       "      <th></th>\n",
       "      <th>Daily Time Spent on Site</th>\n",
       "      <th>Age</th>\n",
       "      <th>Area Income</th>\n",
       "      <th>Daily Internet Usage</th>\n",
       "      <th>Male</th>\n",
       "      <th>Clicked on Ad</th>\n",
       "    </tr>\n",
       "  </thead>\n",
       "  <tbody>\n",
       "    <tr>\n",
       "      <th>count</th>\n",
       "      <td>1000.000</td>\n",
       "      <td>1000.000</td>\n",
       "      <td>1000.000</td>\n",
       "      <td>1000.000</td>\n",
       "      <td>1000.000</td>\n",
       "      <td>1000.000</td>\n",
       "    </tr>\n",
       "    <tr>\n",
       "      <th>mean</th>\n",
       "      <td>65.000</td>\n",
       "      <td>36.009</td>\n",
       "      <td>55000.000</td>\n",
       "      <td>180.000</td>\n",
       "      <td>0.481</td>\n",
       "      <td>0.500</td>\n",
       "    </tr>\n",
       "    <tr>\n",
       "      <th>std</th>\n",
       "      <td>15.854</td>\n",
       "      <td>8.786</td>\n",
       "      <td>13414.634</td>\n",
       "      <td>43.902</td>\n",
       "      <td>0.500</td>\n",
       "      <td>0.500</td>\n",
       "    </tr>\n",
       "    <tr>\n",
       "      <th>min</th>\n",
       "      <td>32.600</td>\n",
       "      <td>19.000</td>\n",
       "      <td>13996.500</td>\n",
       "      <td>104.780</td>\n",
       "      <td>0.000</td>\n",
       "      <td>0.000</td>\n",
       "    </tr>\n",
       "    <tr>\n",
       "      <th>25%</th>\n",
       "      <td>51.360</td>\n",
       "      <td>29.000</td>\n",
       "      <td>47031.802</td>\n",
       "      <td>138.830</td>\n",
       "      <td>0.000</td>\n",
       "      <td>0.000</td>\n",
       "    </tr>\n",
       "    <tr>\n",
       "      <th>50%</th>\n",
       "      <td>68.215</td>\n",
       "      <td>35.000</td>\n",
       "      <td>57012.300</td>\n",
       "      <td>183.130</td>\n",
       "      <td>0.000</td>\n",
       "      <td>0.500</td>\n",
       "    </tr>\n",
       "    <tr>\n",
       "      <th>75%</th>\n",
       "      <td>78.547</td>\n",
       "      <td>42.000</td>\n",
       "      <td>65470.635</td>\n",
       "      <td>218.793</td>\n",
       "      <td>1.000</td>\n",
       "      <td>1.000</td>\n",
       "    </tr>\n",
       "    <tr>\n",
       "      <th>max</th>\n",
       "      <td>91.430</td>\n",
       "      <td>61.000</td>\n",
       "      <td>79484.800</td>\n",
       "      <td>269.960</td>\n",
       "      <td>1.000</td>\n",
       "      <td>1.000</td>\n",
       "    </tr>\n",
       "  </tbody>\n",
       "</table>\n",
       "</div>"
      ],
      "text/plain": [
       "       Daily Time Spent on Site      Age  Area Income  Daily Internet Usage  \\\n",
       "count                  1000.000 1000.000     1000.000              1000.000   \n",
       "mean                     65.000   36.009    55000.000               180.000   \n",
       "std                      15.854    8.786    13414.634                43.902   \n",
       "min                      32.600   19.000    13996.500               104.780   \n",
       "25%                      51.360   29.000    47031.802               138.830   \n",
       "50%                      68.215   35.000    57012.300               183.130   \n",
       "75%                      78.547   42.000    65470.635               218.793   \n",
       "max                      91.430   61.000    79484.800               269.960   \n",
       "\n",
       "          Male  Clicked on Ad  \n",
       "count 1000.000       1000.000  \n",
       "mean     0.481          0.500  \n",
       "std      0.500          0.500  \n",
       "min      0.000          0.000  \n",
       "25%      0.000          0.000  \n",
       "50%      0.000          0.500  \n",
       "75%      1.000          1.000  \n",
       "max      1.000          1.000  "
      ]
     },
     "execution_count": 11,
     "metadata": {},
     "output_type": "execute_result"
    }
   ],
   "source": [
    "# olhe as estatísticas básicas\n",
    "\n",
    "df.describe()"
   ]
  },
  {
   "cell_type": "markdown",
   "metadata": {
    "ExecuteTime": {
     "end_time": "2020-02-14T01:37:58.731197Z",
     "start_time": "2020-02-14T01:37:58.711810Z"
    }
   },
   "source": [
    "Alguma observação notável?"
   ]
  },
  {
   "cell_type": "code",
   "execution_count": 12,
   "metadata": {},
   "outputs": [
    {
     "data": {
      "text/plain": [
       "1   0.500\n",
       "0   0.500\n",
       "Name: Clicked on Ad, dtype: float64"
      ]
     },
     "execution_count": 12,
     "metadata": {},
     "output_type": "execute_result"
    }
   ],
   "source": [
    "# dê uma olhada na distribuição do target\n",
    "\n",
    "df[\"Clicked on Ad\"].value_counts(normalize=True)"
   ]
  },
  {
   "cell_type": "code",
   "execution_count": 13,
   "metadata": {},
   "outputs": [
    {
     "data": {
      "text/plain": [
       "<matplotlib.axes._subplots.AxesSubplot at 0x2112876eac0>"
      ]
     },
     "execution_count": 13,
     "metadata": {},
     "output_type": "execute_result"
    },
    {
     "data": {
      "image/png": "[encoded data removed]",
      "text/plain": [
       "<Figure size 432x288 with 1 Axes>"
      ]
     },
     "metadata": {
      "needs_background": "light"
     },
     "output_type": "display_data"
    }
   ],
   "source": [
    "sns.countplot(data = df, x = \"Clicked on Ad\")"
   ]
  },
  {
   "cell_type": "markdown",
   "metadata": {},
   "source": [
    "Temos um dataset balanceado no target, o que __bem raro na vida real!__\n",
    "\n",
    "Um dataset desbalanceado pode causar sérios problemas de performance ao modelo! Há várias técnicas para lidar com tal problema, mas, neste primeiro exemplo, não nos preocuparemos com isso..."
   ]
  },
  {
   "cell_type": "code",
   "execution_count": 14,
   "metadata": {
    "ExecuteTime": {
     "end_time": "2020-02-14T01:38:00.441491Z",
     "start_time": "2020-02-14T01:37:58.735817Z"
    },
    "scrolled": true
   },
   "outputs": [
    {
     "data": {
      "image/png": "[encoded data removed]",
      "text/plain": [
       "<Figure size 432x288 with 1 Axes>"
      ]
     },
     "metadata": {
      "needs_background": "light"
     },
     "output_type": "display_data"
    },
    {
     "data": {
      "image/png": "[encoded data removed]",
      "text/plain": [
       "<Figure size 432x288 with 1 Axes>"
      ]
     },
     "metadata": {
      "needs_background": "light"
     },
     "output_type": "display_data"
    },
    {
     "data": {
      "image/png": "[encoded data removed]",
      "text/plain": [
       "<Figure size 432x288 with 1 Axes>"
      ]
     },
     "metadata": {
      "needs_background": "light"
     },
     "output_type": "display_data"
    },
    {
     "data": {
      "image/png": "[encoded data removed]",
      "text/plain": [
       "<Figure size 432x288 with 1 Axes>"
      ]
     },
     "metadata": {
      "needs_background": "light"
     },
     "output_type": "display_data"
    },
    {
     "data": {
      "image/png": "[encoded data removed]",
      "text/plain": [
       "<Figure size 432x288 with 1 Axes>"
      ]
     },
     "metadata": {
      "needs_background": "light"
     },
     "output_type": "display_data"
    },
    {
     "data": {
      "image/png": "[encoded data removed]",
      "text/plain": [
       "<Figure size 432x288 with 1 Axes>"
      ]
     },
     "metadata": {
      "needs_background": "light"
     },
     "output_type": "display_data"
    }
   ],
   "source": [
    "# dê uma olhada na distribuição das variáveis numéricas\n",
    "# lembre do df.select_dtypes(include=[np.number])\n",
    "\n",
    "for col in df.select_dtypes(include=[np.number]).columns:\n",
    "    \n",
    "    sns.histplot(data=df, x=col, kde=True)\n",
    "    \n",
    "    plt.show()"
   ]
  },
  {
   "cell_type": "code",
   "execution_count": 15,
   "metadata": {
    "ExecuteTime": {
     "end_time": "2020-02-14T01:40:34.906627Z",
     "start_time": "2020-02-14T01:40:27.142434Z"
    }
   },
   "outputs": [
    {
     "data": {
      "image/png": "[encoded data removed]",
      "text/plain": [
       "<Figure size 432x288 with 1 Axes>"
      ]
     },
     "metadata": {
      "needs_background": "light"
     },
     "output_type": "display_data"
    },
    {
     "data": {
      "image/png": "[encoded data removed]",
      "text/plain": [
       "<Figure size 432x288 with 1 Axes>"
      ]
     },
     "metadata": {
      "needs_background": "light"
     },
     "output_type": "display_data"
    },
    {
     "data": {
      "image/png": "[encoded data removed]",
      "text/plain": [
       "<Figure size 432x288 with 1 Axes>"
      ]
     },
     "metadata": {
      "needs_background": "light"
     },
     "output_type": "display_data"
    },
    {
     "data": {
      "image/png": "[encoded data removed]",
      "text/plain": [
       "<Figure size 432x288 with 1 Axes>"
      ]
     },
     "metadata": {
      "needs_background": "light"
     },
     "output_type": "display_data"
    },
    {
     "data": {
      "image/png": "[encoded data removed]",
      "text/plain": [
       "<Figure size 432x288 with 1 Axes>"
      ]
     },
     "metadata": {
      "needs_background": "light"
     },
     "output_type": "display_data"
    },
    {
     "name": "stderr",
     "output_type": "stream",
     "text": [
      "C:\\Users\\andre\\anaconda3\\lib\\site-packages\\seaborn\\distributions.py:305: UserWarning: Dataset has 0 variance; skipping density estimate.\n",
      "  warnings.warn(msg, UserWarning)\n"
     ]
    },
    {
     "data": {
      "image/png": "[encoded data removed]",
      "text/plain": [
       "<Figure size 432x288 with 1 Axes>"
      ]
     },
     "metadata": {
      "needs_background": "light"
     },
     "output_type": "display_data"
    }
   ],
   "source": [
    "# faça um pairplot usando o hue como target -- isso é sempre uma boa prática em problemas de classificação!\n",
    "\n",
    "for col in df.select_dtypes(include=[np.number]).columns:\n",
    "    \n",
    "    sns.histplot(data=df, x=col, kde=True, hue=\"Clicked on Ad\")\n",
    "    \n",
    "    plt.show()"
   ]
  },
  {
   "cell_type": "markdown",
   "metadata": {},
   "source": [
    "Como tínhamos comentado no início, nossos dados são muito bem separáveis!\n",
    "\n",
    "Isto favorece bastante a performance do nosso modelo. Mas, lembre-se, é bem raro encontrar casos assim na vida real! (É aí que devemos partir para métodos mais avançados, como SVM, árvores, etc.)"
   ]
  },
  {
   "cell_type": "code",
   "execution_count": 16,
   "metadata": {},
   "outputs": [
    {
     "data": {
      "text/plain": [
       "<matplotlib.axes._subplots.AxesSubplot at 0x21128b1e5e0>"
      ]
     },
     "execution_count": 16,
     "metadata": {},
     "output_type": "execute_result"
    },
    {
     "data": {
      "image/png": "[encoded data removed]",
      "text/plain": [
       "<Figure size 432x288 with 2 Axes>"
      ]
     },
     "metadata": {
      "needs_background": "light"
     },
     "output_type": "display_data"
    }
   ],
   "source": [
    "sns.heatmap(df.corr())"
   ]
  },
  {
   "cell_type": "markdown",
   "metadata": {},
   "source": [
    "Vamos começar a construir o modelo?"
   ]
  },
  {
   "cell_type": "code",
   "execution_count": 17,
   "metadata": {
    "ExecuteTime": {
     "end_time": "2020-02-14T01:38:45.783214Z",
     "start_time": "2020-02-14T01:38:43.497774Z"
    }
   },
   "outputs": [],
   "source": [
    "# crie as variáveis X e y, com as features e o target\n",
    "# utilize todas as features numéricas - dica: df.select_dtypes(include=[np.number])\n",
    "\n",
    "df = df.select_dtypes(include=np.number)"
   ]
  },
  {
   "cell_type": "code",
   "execution_count": 18,
   "metadata": {},
   "outputs": [
    {
     "data": {
      "text/html": [
       "<div>\n",
       "<style scoped>\n",
       "    .dataframe tbody tr th:only-of-type {\n",
       "        vertical-align: middle;\n",
       "    }\n",
       "\n",
       "    .dataframe tbody tr th {\n",
       "        vertical-align: top;\n",
       "    }\n",
       "\n",
       "    .dataframe thead th {\n",
       "        text-align: right;\n",
       "    }\n",
       "</style>\n",
       "<table border=\"1\" class=\"dataframe\">\n",
       "  <thead>\n",
       "    <tr style=\"text-align: right;\">\n",
       "      <th></th>\n",
       "      <th>Daily Time Spent on Site</th>\n",
       "      <th>Age</th>\n",
       "      <th>Area Income</th>\n",
       "      <th>Daily Internet Usage</th>\n",
       "      <th>Male</th>\n",
       "      <th>Clicked on Ad</th>\n",
       "    </tr>\n",
       "  </thead>\n",
       "  <tbody>\n",
       "    <tr>\n",
       "      <th>0</th>\n",
       "      <td>68.950</td>\n",
       "      <td>35</td>\n",
       "      <td>61833.900</td>\n",
       "      <td>256.090</td>\n",
       "      <td>0</td>\n",
       "      <td>0</td>\n",
       "    </tr>\n",
       "    <tr>\n",
       "      <th>1</th>\n",
       "      <td>80.230</td>\n",
       "      <td>31</td>\n",
       "      <td>68441.850</td>\n",
       "      <td>193.770</td>\n",
       "      <td>1</td>\n",
       "      <td>0</td>\n",
       "    </tr>\n",
       "    <tr>\n",
       "      <th>2</th>\n",
       "      <td>69.470</td>\n",
       "      <td>26</td>\n",
       "      <td>59785.940</td>\n",
       "      <td>236.500</td>\n",
       "      <td>0</td>\n",
       "      <td>0</td>\n",
       "    </tr>\n",
       "    <tr>\n",
       "      <th>3</th>\n",
       "      <td>74.150</td>\n",
       "      <td>29</td>\n",
       "      <td>54806.180</td>\n",
       "      <td>245.890</td>\n",
       "      <td>1</td>\n",
       "      <td>0</td>\n",
       "    </tr>\n",
       "    <tr>\n",
       "      <th>4</th>\n",
       "      <td>68.370</td>\n",
       "      <td>35</td>\n",
       "      <td>73889.990</td>\n",
       "      <td>225.580</td>\n",
       "      <td>0</td>\n",
       "      <td>0</td>\n",
       "    </tr>\n",
       "    <tr>\n",
       "      <th>...</th>\n",
       "      <td>...</td>\n",
       "      <td>...</td>\n",
       "      <td>...</td>\n",
       "      <td>...</td>\n",
       "      <td>...</td>\n",
       "      <td>...</td>\n",
       "    </tr>\n",
       "    <tr>\n",
       "      <th>995</th>\n",
       "      <td>72.970</td>\n",
       "      <td>30</td>\n",
       "      <td>71384.570</td>\n",
       "      <td>208.580</td>\n",
       "      <td>1</td>\n",
       "      <td>1</td>\n",
       "    </tr>\n",
       "    <tr>\n",
       "      <th>996</th>\n",
       "      <td>51.300</td>\n",
       "      <td>45</td>\n",
       "      <td>67782.170</td>\n",
       "      <td>134.420</td>\n",
       "      <td>1</td>\n",
       "      <td>1</td>\n",
       "    </tr>\n",
       "    <tr>\n",
       "      <th>997</th>\n",
       "      <td>51.630</td>\n",
       "      <td>51</td>\n",
       "      <td>42415.720</td>\n",
       "      <td>120.370</td>\n",
       "      <td>1</td>\n",
       "      <td>1</td>\n",
       "    </tr>\n",
       "    <tr>\n",
       "      <th>998</th>\n",
       "      <td>55.550</td>\n",
       "      <td>19</td>\n",
       "      <td>41920.790</td>\n",
       "      <td>187.950</td>\n",
       "      <td>0</td>\n",
       "      <td>0</td>\n",
       "    </tr>\n",
       "    <tr>\n",
       "      <th>999</th>\n",
       "      <td>45.010</td>\n",
       "      <td>26</td>\n",
       "      <td>29875.800</td>\n",
       "      <td>178.350</td>\n",
       "      <td>0</td>\n",
       "      <td>1</td>\n",
       "    </tr>\n",
       "  </tbody>\n",
       "</table>\n",
       "<p>1000 rows × 6 columns</p>\n",
       "</div>"
      ],
      "text/plain": [
       "     Daily Time Spent on Site  Age  Area Income  Daily Internet Usage  Male  \\\n",
       "0                      68.950   35    61833.900               256.090     0   \n",
       "1                      80.230   31    68441.850               193.770     1   \n",
       "2                      69.470   26    59785.940               236.500     0   \n",
       "3                      74.150   29    54806.180               245.890     1   \n",
       "4                      68.370   35    73889.990               225.580     0   \n",
       "..                        ...  ...          ...                   ...   ...   \n",
       "995                    72.970   30    71384.570               208.580     1   \n",
       "996                    51.300   45    67782.170               134.420     1   \n",
       "997                    51.630   51    42415.720               120.370     1   \n",
       "998                    55.550   19    41920.790               187.950     0   \n",
       "999                    45.010   26    29875.800               178.350     0   \n",
       "\n",
       "     Clicked on Ad  \n",
       "0                0  \n",
       "1                0  \n",
       "2                0  \n",
       "3                0  \n",
       "4                0  \n",
       "..             ...  \n",
       "995              1  \n",
       "996              1  \n",
       "997              1  \n",
       "998              0  \n",
       "999              1  \n",
       "\n",
       "[1000 rows x 6 columns]"
      ]
     },
     "execution_count": 18,
     "metadata": {},
     "output_type": "execute_result"
    }
   ],
   "source": [
    "df"
   ]
  },
  {
   "cell_type": "code",
   "execution_count": 19,
   "metadata": {},
   "outputs": [],
   "source": [
    "X = df.drop(columns=\"Clicked on Ad\")\n",
    "y = df[\"Clicked on Ad\"]"
   ]
  },
  {
   "cell_type": "code",
   "execution_count": 20,
   "metadata": {},
   "outputs": [
    {
     "data": {
      "text/html": [
       "<div>\n",
       "<style scoped>\n",
       "    .dataframe tbody tr th:only-of-type {\n",
       "        vertical-align: middle;\n",
       "    }\n",
       "\n",
       "    .dataframe tbody tr th {\n",
       "        vertical-align: top;\n",
       "    }\n",
       "\n",
       "    .dataframe thead th {\n",
       "        text-align: right;\n",
       "    }\n",
       "</style>\n",
       "<table border=\"1\" class=\"dataframe\">\n",
       "  <thead>\n",
       "    <tr style=\"text-align: right;\">\n",
       "      <th></th>\n",
       "      <th>Daily Time Spent on Site</th>\n",
       "      <th>Age</th>\n",
       "      <th>Area Income</th>\n",
       "      <th>Daily Internet Usage</th>\n",
       "      <th>Male</th>\n",
       "    </tr>\n",
       "  </thead>\n",
       "  <tbody>\n",
       "    <tr>\n",
       "      <th>0</th>\n",
       "      <td>68.950</td>\n",
       "      <td>35</td>\n",
       "      <td>61833.900</td>\n",
       "      <td>256.090</td>\n",
       "      <td>0</td>\n",
       "    </tr>\n",
       "    <tr>\n",
       "      <th>1</th>\n",
       "      <td>80.230</td>\n",
       "      <td>31</td>\n",
       "      <td>68441.850</td>\n",
       "      <td>193.770</td>\n",
       "      <td>1</td>\n",
       "    </tr>\n",
       "    <tr>\n",
       "      <th>2</th>\n",
       "      <td>69.470</td>\n",
       "      <td>26</td>\n",
       "      <td>59785.940</td>\n",
       "      <td>236.500</td>\n",
       "      <td>0</td>\n",
       "    </tr>\n",
       "    <tr>\n",
       "      <th>3</th>\n",
       "      <td>74.150</td>\n",
       "      <td>29</td>\n",
       "      <td>54806.180</td>\n",
       "      <td>245.890</td>\n",
       "      <td>1</td>\n",
       "    </tr>\n",
       "    <tr>\n",
       "      <th>4</th>\n",
       "      <td>68.370</td>\n",
       "      <td>35</td>\n",
       "      <td>73889.990</td>\n",
       "      <td>225.580</td>\n",
       "      <td>0</td>\n",
       "    </tr>\n",
       "    <tr>\n",
       "      <th>...</th>\n",
       "      <td>...</td>\n",
       "      <td>...</td>\n",
       "      <td>...</td>\n",
       "      <td>...</td>\n",
       "      <td>...</td>\n",
       "    </tr>\n",
       "    <tr>\n",
       "      <th>995</th>\n",
       "      <td>72.970</td>\n",
       "      <td>30</td>\n",
       "      <td>71384.570</td>\n",
       "      <td>208.580</td>\n",
       "      <td>1</td>\n",
       "    </tr>\n",
       "    <tr>\n",
       "      <th>996</th>\n",
       "      <td>51.300</td>\n",
       "      <td>45</td>\n",
       "      <td>67782.170</td>\n",
       "      <td>134.420</td>\n",
       "      <td>1</td>\n",
       "    </tr>\n",
       "    <tr>\n",
       "      <th>997</th>\n",
       "      <td>51.630</td>\n",
       "      <td>51</td>\n",
       "      <td>42415.720</td>\n",
       "      <td>120.370</td>\n",
       "      <td>1</td>\n",
       "    </tr>\n",
       "    <tr>\n",
       "      <th>998</th>\n",
       "      <td>55.550</td>\n",
       "      <td>19</td>\n",
       "      <td>41920.790</td>\n",
       "      <td>187.950</td>\n",
       "      <td>0</td>\n",
       "    </tr>\n",
       "    <tr>\n",
       "      <th>999</th>\n",
       "      <td>45.010</td>\n",
       "      <td>26</td>\n",
       "      <td>29875.800</td>\n",
       "      <td>178.350</td>\n",
       "      <td>0</td>\n",
       "    </tr>\n",
       "  </tbody>\n",
       "</table>\n",
       "<p>1000 rows × 5 columns</p>\n",
       "</div>"
      ],
      "text/plain": [
       "     Daily Time Spent on Site  Age  Area Income  Daily Internet Usage  Male\n",
       "0                      68.950   35    61833.900               256.090     0\n",
       "1                      80.230   31    68441.850               193.770     1\n",
       "2                      69.470   26    59785.940               236.500     0\n",
       "3                      74.150   29    54806.180               245.890     1\n",
       "4                      68.370   35    73889.990               225.580     0\n",
       "..                        ...  ...          ...                   ...   ...\n",
       "995                    72.970   30    71384.570               208.580     1\n",
       "996                    51.300   45    67782.170               134.420     1\n",
       "997                    51.630   51    42415.720               120.370     1\n",
       "998                    55.550   19    41920.790               187.950     0\n",
       "999                    45.010   26    29875.800               178.350     0\n",
       "\n",
       "[1000 rows x 5 columns]"
      ]
     },
     "execution_count": 20,
     "metadata": {},
     "output_type": "execute_result"
    }
   ],
   "source": [
    "X"
   ]
  },
  {
   "cell_type": "code",
   "execution_count": 21,
   "metadata": {},
   "outputs": [
    {
     "data": {
      "text/plain": [
       "0      0\n",
       "1      0\n",
       "2      0\n",
       "3      0\n",
       "4      0\n",
       "      ..\n",
       "995    1\n",
       "996    1\n",
       "997    1\n",
       "998    0\n",
       "999    1\n",
       "Name: Clicked on Ad, Length: 1000, dtype: int64"
      ]
     },
     "execution_count": 21,
     "metadata": {},
     "output_type": "execute_result"
    }
   ],
   "source": [
    "y"
   ]
  },
  {
   "cell_type": "code",
   "execution_count": 22,
   "metadata": {},
   "outputs": [],
   "source": [
    "# 1) Importe a classe do estimador que se deseja treinar\n",
    "\n",
    "from sklearn.linear_model import LogisticRegression"
   ]
  },
  {
   "cell_type": "code",
   "execution_count": 23,
   "metadata": {},
   "outputs": [],
   "source": [
    "# 2) Instancie a classe do estimador, escolhendo os hiperparâmetros desejados (não há muitos)\n",
    "\n",
    "logit = LogisticRegression()"
   ]
  },
  {
   "cell_type": "code",
   "execution_count": 24,
   "metadata": {},
   "outputs": [],
   "source": [
    "# 3) Separe os dados em dados de treino e dados de teste\n",
    "# dica: procure pelo \"train_test_split\"\n",
    "\n",
    "from sklearn.model_selection import train_test_split\n",
    "\n",
    "X_train, X_test, y_train, y_test = train_test_split(X, y, \n",
    "                                                    test_size=0.30, \n",
    "                                                    random_state=42)"
   ]
  },
  {
   "cell_type": "code",
   "execution_count": 25,
   "metadata": {},
   "outputs": [],
   "source": [
    "# 4) Treine o modelo, usando os dados de treino. \n",
    "\n",
    "modelo = logit.fit(X_train, y_train)"
   ]
  },
  {
   "cell_type": "markdown",
   "metadata": {},
   "source": [
    "__Modelo treinado!__\n",
    "\n",
    "Vamos ver os coeficientes do modelo:"
   ]
  },
  {
   "cell_type": "code",
   "execution_count": 26,
   "metadata": {
    "ExecuteTime": {
     "end_time": "2020-02-14T01:38:46.192778Z",
     "start_time": "2020-02-14T01:38:46.187346Z"
    }
   },
   "outputs": [
    {
     "data": {
      "text/plain": [
       "array([0.005])"
      ]
     },
     "execution_count": 26,
     "metadata": {},
     "output_type": "execute_result"
    }
   ],
   "source": [
    "# capture e exiba o intercept e os demais coeficientes\n",
    "\n",
    "modelo.intercept_"
   ]
  },
  {
   "cell_type": "code",
   "execution_count": 27,
   "metadata": {},
   "outputs": [
    {
     "data": {
      "text/plain": [
       "array([[-0.056,  0.266, -0.   , -0.027,  0.002]])"
      ]
     },
     "execution_count": 27,
     "metadata": {},
     "output_type": "execute_result"
    }
   ],
   "source": [
    "modelo.coef_"
   ]
  },
  {
   "cell_type": "code",
   "execution_count": 28,
   "metadata": {},
   "outputs": [
    {
     "data": {
      "text/plain": [
       "-1.6215339620260384e-05"
      ]
     },
     "execution_count": 28,
     "metadata": {},
     "output_type": "execute_result"
    }
   ],
   "source": [
    "modelo.coef_[0][2]"
   ]
  },
  {
   "cell_type": "code",
   "execution_count": 29,
   "metadata": {},
   "outputs": [
    {
     "data": {
      "text/plain": [
       "['Daily Time Spent on Site',\n",
       " 'Age',\n",
       " 'Area Income',\n",
       " 'Daily Internet Usage',\n",
       " 'Male']"
      ]
     },
     "execution_count": 29,
     "metadata": {},
     "output_type": "execute_result"
    }
   ],
   "source": [
    "X.columns.tolist()"
   ]
  },
  {
   "cell_type": "markdown",
   "metadata": {},
   "source": [
    "Lembre-se que, diferentemente da regressão linear, devido ao fato da função logística ser uma exponencial, a variação de $P(x)$ depende de x, e não apenas dos coeficientes! Então, a interpretação dos coeficientes não é tão imediata. \n",
    "\n",
    "Mas, os sinais carregam significado. Para um coeficiente:\n",
    "- positivo ($\\beta_i > 0$), temos que um aumento em x levará a um aumento de $P(x)$;\n",
    "- negativo ($\\beta_i < 0$), temos que um aumento em x levará a uma diminuição de $P(x)$\n",
    "\n",
    "Mas, a variacão de $P(x)$ em si, depende do valor de x!"
   ]
  },
  {
   "cell_type": "markdown",
   "metadata": {},
   "source": [
    "__Agora que o modelo está treinado, vamos avaliá-lo!__"
   ]
  },
  {
   "cell_type": "markdown",
   "metadata": {},
   "source": [
    "______\n",
    "_____\n",
    "_____\n",
    "____"
   ]
  },
  {
   "cell_type": "markdown",
   "metadata": {},
   "source": [
    "## 3) Métricas de performance para problemas de classificação\n",
    "\n",
    "Após treinar o modelo, como podemos avaliar sua performance?\n",
    "\n",
    "No caso de problemas de classificação, existem **métricas específicas**, e também um importante conceito chamado de **Matriz de Confusão**.\n",
    "\n",
    "A **matriz de confusão** leva em consideração as **classes preditas** e as **classes verdadeiras** da base de **teste**, e contabiliza a performance do modelo:\n",
    "\n",
    "<img src=https://diegonogare.net/wp-content/uploads/2020/04/matrizConfusao-600x381.png height=\"400\" width=\"400\">\n",
    "\n",
    "No Sklearn, a notação muda um pouco:\n",
    "\n",
    "<img src=\"https://static.packt-cdn.com/products/9781838555078/graphics/C13314_06_05.jpg\" width=400>\n",
    "\n",
    "Note que a diagonal principal são as observações que o modelo acertou! Temos:\n",
    "\n",
    "- Verdadeiros Positivos (VP): classificação correta da classe positivo;\n",
    "- Verdadeiros Negativos (VN): classificação correta da classe negativo;\n",
    "- Falsos Positivos (FP, erro tipo I): correto: negativo. Previsto: positivo.\n",
    "- Falsos Negativos (FN, erro tipo II): correto: positivo. Previsto: negativo.\n",
    "\n",
    "Um jeito fácil de lembrar os tipos de erros:\n",
    "\n",
    "\n",
    "<img src=\"https://i.pinimg.com/originals/f6/9b/11/f69b111014ef466fe541a393346d2c3a.jpg\" height=\"400\" width=\"400\">\n",
    "\n",
    "\n",
    "Além disso, temos as seguintes métricas numéricas de avaliação:\n",
    "\n",
    "- Acurácia (Accuracy): porcentagem de classificações CORRETAS do modelo;\n",
    "\n",
    "- Precisão (Precision): das respostas retornadas, quantas são relevantes? -- é a razão entre verdadeiros positivos e o  número de **preditos positivos**, isto é, positivos quanto à **label predita pelo modelo**.\n",
    "\n",
    "- Revocação/Sensibilidade (Recall/Sensitivity): das respostas relevantes, quantas são retornadas? -- é a razão entre verdadeiros positivos e o  número de **verdadeiramente positivos**, isto é, positivos quanto à **label real**.\n",
    "\n",
    "- F1-Score: média harmônica de precision e recall.\n",
    "\n",
    "<img src=\"https://upload.wikimedia.org/wikipedia/commons/thumb/2/26/Precisionrecall.svg/1200px-Precisionrecall.svg.png\" width=300>\n",
    "\n",
    "Devido ao <a href=\"https://medium.com/opex-analytics/why-you-need-to-understand-the-trade-off-between-precision-and-recall-525a33919942\">tradeoff entre precision e recall</a>, a métrica a ser otimizada é o F1! \n",
    "\n",
    "\n",
    "<img src=\"https://miro.medium.com/max/1080/1*t1vf-ofJrJqtmam0KSn3EQ.png\" height=\"400\" width=\"400\">\n",
    "\n",
    "Adiante, veremos como calcular a matriz de confusão e as métricas acima para problemas de classificação!"
   ]
  },
  {
   "cell_type": "code",
   "execution_count": 33,
   "metadata": {},
   "outputs": [
    {
     "name": "stdout",
     "output_type": "stream",
     "text": [
      "0.55\n",
      "0.32727272727272727\n"
     ]
    }
   ],
   "source": [
    "p = 0.9\n",
    "r = 0.2\n",
    "\n",
    "print((p + r)/2)\n",
    "print(2/(1/p + 1/r))"
   ]
  },
  {
   "cell_type": "markdown",
   "metadata": {},
   "source": [
    "_______"
   ]
  },
  {
   "cell_type": "code",
   "execution_count": 36,
   "metadata": {},
   "outputs": [
    {
     "data": {
      "text/html": [
       "<div>\n",
       "<style scoped>\n",
       "    .dataframe tbody tr th:only-of-type {\n",
       "        vertical-align: middle;\n",
       "    }\n",
       "\n",
       "    .dataframe tbody tr th {\n",
       "        vertical-align: top;\n",
       "    }\n",
       "\n",
       "    .dataframe thead th {\n",
       "        text-align: right;\n",
       "    }\n",
       "</style>\n",
       "<table border=\"1\" class=\"dataframe\">\n",
       "  <thead>\n",
       "    <tr style=\"text-align: right;\">\n",
       "      <th></th>\n",
       "      <th>Daily Time Spent on Site</th>\n",
       "      <th>Age</th>\n",
       "      <th>Area Income</th>\n",
       "      <th>Daily Internet Usage</th>\n",
       "      <th>Male</th>\n",
       "    </tr>\n",
       "  </thead>\n",
       "  <tbody>\n",
       "    <tr>\n",
       "      <th>521</th>\n",
       "      <td>63.260</td>\n",
       "      <td>29</td>\n",
       "      <td>54787.370</td>\n",
       "      <td>120.460</td>\n",
       "      <td>1</td>\n",
       "    </tr>\n",
       "    <tr>\n",
       "      <th>737</th>\n",
       "      <td>71.230</td>\n",
       "      <td>52</td>\n",
       "      <td>41521.280</td>\n",
       "      <td>122.590</td>\n",
       "      <td>0</td>\n",
       "    </tr>\n",
       "    <tr>\n",
       "      <th>740</th>\n",
       "      <td>43.630</td>\n",
       "      <td>38</td>\n",
       "      <td>61757.120</td>\n",
       "      <td>135.250</td>\n",
       "      <td>1</td>\n",
       "    </tr>\n",
       "    <tr>\n",
       "      <th>660</th>\n",
       "      <td>42.040</td>\n",
       "      <td>49</td>\n",
       "      <td>67323.000</td>\n",
       "      <td>182.110</td>\n",
       "      <td>0</td>\n",
       "    </tr>\n",
       "    <tr>\n",
       "      <th>411</th>\n",
       "      <td>78.680</td>\n",
       "      <td>29</td>\n",
       "      <td>66225.720</td>\n",
       "      <td>208.050</td>\n",
       "      <td>0</td>\n",
       "    </tr>\n",
       "    <tr>\n",
       "      <th>...</th>\n",
       "      <td>...</td>\n",
       "      <td>...</td>\n",
       "      <td>...</td>\n",
       "      <td>...</td>\n",
       "      <td>...</td>\n",
       "    </tr>\n",
       "    <tr>\n",
       "      <th>468</th>\n",
       "      <td>65.590</td>\n",
       "      <td>47</td>\n",
       "      <td>28265.810</td>\n",
       "      <td>121.810</td>\n",
       "      <td>0</td>\n",
       "    </tr>\n",
       "    <tr>\n",
       "      <th>935</th>\n",
       "      <td>83.980</td>\n",
       "      <td>36</td>\n",
       "      <td>68305.910</td>\n",
       "      <td>194.620</td>\n",
       "      <td>0</td>\n",
       "    </tr>\n",
       "    <tr>\n",
       "      <th>428</th>\n",
       "      <td>60.530</td>\n",
       "      <td>29</td>\n",
       "      <td>56759.480</td>\n",
       "      <td>123.280</td>\n",
       "      <td>0</td>\n",
       "    </tr>\n",
       "    <tr>\n",
       "      <th>7</th>\n",
       "      <td>66.000</td>\n",
       "      <td>48</td>\n",
       "      <td>24593.330</td>\n",
       "      <td>131.760</td>\n",
       "      <td>1</td>\n",
       "    </tr>\n",
       "    <tr>\n",
       "      <th>155</th>\n",
       "      <td>87.980</td>\n",
       "      <td>38</td>\n",
       "      <td>56637.590</td>\n",
       "      <td>222.110</td>\n",
       "      <td>1</td>\n",
       "    </tr>\n",
       "  </tbody>\n",
       "</table>\n",
       "<p>300 rows × 5 columns</p>\n",
       "</div>"
      ],
      "text/plain": [
       "     Daily Time Spent on Site  Age  Area Income  Daily Internet Usage  Male\n",
       "521                    63.260   29    54787.370               120.460     1\n",
       "737                    71.230   52    41521.280               122.590     0\n",
       "740                    43.630   38    61757.120               135.250     1\n",
       "660                    42.040   49    67323.000               182.110     0\n",
       "411                    78.680   29    66225.720               208.050     0\n",
       "..                        ...  ...          ...                   ...   ...\n",
       "468                    65.590   47    28265.810               121.810     0\n",
       "935                    83.980   36    68305.910               194.620     0\n",
       "428                    60.530   29    56759.480               123.280     0\n",
       "7                      66.000   48    24593.330               131.760     1\n",
       "155                    87.980   38    56637.590               222.110     1\n",
       "\n",
       "[300 rows x 5 columns]"
      ]
     },
     "execution_count": 36,
     "metadata": {},
     "output_type": "execute_result"
    }
   ],
   "source": [
    "X_test"
   ]
  },
  {
   "cell_type": "code",
   "execution_count": 37,
   "metadata": {
    "ExecuteTime": {
     "end_time": "2020-02-14T01:38:46.295698Z",
     "start_time": "2020-02-14T01:38:46.194931Z"
    }
   },
   "outputs": [],
   "source": [
    "# 5) Use o modelo treinado para fazer previsões usando os dados de teste \n",
    "\n",
    "y_pred = modelo.predict(X_test)"
   ]
  },
  {
   "cell_type": "code",
   "execution_count": 38,
   "metadata": {},
   "outputs": [
    {
     "data": {
      "text/plain": [
       "array([0, 1, 1, 1, 0, 0, 0, 1, 0, 1, 0, 1, 1, 0, 1, 1, 1, 1, 0, 1, 0, 1,\n",
       "       1, 0, 0, 1, 0, 0, 1, 1, 0, 1, 0, 1, 1, 0, 0, 0, 1, 1, 0, 1, 0, 1,\n",
       "       0, 0, 1, 1, 0, 1, 1, 0, 1, 0, 0, 0, 0, 1, 0, 1, 0, 1, 0, 1, 1, 1,\n",
       "       1, 0, 1, 1, 1, 1, 0, 0, 1, 0, 0, 1, 0, 0, 1, 1, 1, 1, 0, 0, 0, 0,\n",
       "       0, 0, 0, 0, 0, 1, 0, 0, 1, 1, 0, 0, 1, 0, 1, 0, 1, 1, 1, 0, 1, 0,\n",
       "       1, 0, 1, 1, 0, 1, 0, 0, 0, 0, 1, 1, 1, 0, 0, 0, 1, 0, 0, 1, 1, 1,\n",
       "       1, 0, 0, 0, 0, 0, 0, 1, 0, 0, 1, 0, 0, 1, 1, 0, 0, 0, 0, 0, 1, 0,\n",
       "       1, 0, 1, 0, 0, 0, 1, 1, 0, 0, 1, 0, 0, 0, 0, 0, 1, 0, 1, 0, 1, 1,\n",
       "       1, 1, 1, 1, 1, 0, 1, 1, 1, 1, 0, 1, 1, 1, 0, 1, 0, 0, 1, 1, 1, 1,\n",
       "       0, 1, 0, 0, 0, 0, 1, 0, 1, 0, 0, 0, 0, 1, 1, 1, 1, 0, 0, 0, 0, 1,\n",
       "       0, 0, 1, 1, 0, 0, 0, 0, 0, 0, 0, 0, 0, 1, 0, 0, 1, 0, 1, 0, 0, 0,\n",
       "       0, 0, 0, 0, 0, 0, 0, 0, 1, 1, 1, 0, 0, 0, 1, 1, 1, 0, 0, 1, 1, 0,\n",
       "       1, 0, 1, 0, 0, 1, 1, 1, 1, 0, 1, 0, 1, 0, 0, 0, 1, 0, 0, 0, 1, 0,\n",
       "       0, 0, 1, 1, 0, 0, 0, 1, 0, 1, 0, 1, 1, 0], dtype=int64)"
      ]
     },
     "execution_count": 38,
     "metadata": {},
     "output_type": "execute_result"
    }
   ],
   "source": [
    "y_pred"
   ]
  },
  {
   "cell_type": "code",
   "execution_count": 40,
   "metadata": {},
   "outputs": [
    {
     "data": {
      "text/plain": [
       "array([1, 1, 1, 1, 0, 0, 0, 1, 0, 1, 0, 1, 1, 0, 1, 1, 1, 1, 0, 1, 0, 1,\n",
       "       1, 0, 0, 1, 0, 0, 1, 1, 0, 0, 0, 1, 1, 0, 0, 1, 1, 1, 0, 1, 1, 1,\n",
       "       0, 0, 1, 1, 0, 1, 1, 0, 1, 0, 0, 0, 0, 1, 0, 1, 0, 1, 0, 1, 1, 1,\n",
       "       1, 0, 1, 1, 1, 1, 1, 0, 1, 1, 0, 1, 1, 0, 1, 1, 1, 1, 0, 0, 0, 0,\n",
       "       0, 0, 0, 1, 0, 1, 1, 0, 1, 1, 0, 0, 1, 0, 1, 0, 1, 0, 1, 0, 1, 0,\n",
       "       1, 0, 1, 1, 0, 1, 0, 0, 0, 0, 1, 1, 1, 0, 0, 0, 1, 0, 0, 1, 1, 1,\n",
       "       1, 1, 0, 0, 0, 1, 0, 1, 0, 1, 1, 1, 0, 1, 1, 0, 1, 0, 0, 0, 1, 0,\n",
       "       1, 0, 1, 0, 0, 0, 1, 1, 0, 0, 1, 1, 0, 0, 0, 0, 1, 1, 1, 0, 0, 1,\n",
       "       1, 1, 1, 1, 1, 0, 1, 1, 1, 1, 0, 1, 1, 0, 1, 1, 0, 0, 1, 1, 1, 1,\n",
       "       0, 1, 0, 0, 0, 0, 1, 0, 1, 0, 0, 0, 0, 1, 1, 1, 1, 0, 0, 1, 0, 1,\n",
       "       1, 1, 1, 1, 0, 0, 0, 0, 0, 0, 1, 1, 0, 1, 1, 0, 1, 0, 1, 0, 0, 0,\n",
       "       0, 0, 0, 0, 0, 0, 0, 1, 1, 1, 1, 0, 0, 0, 1, 1, 1, 0, 0, 1, 1, 1,\n",
       "       1, 0, 0, 0, 0, 1, 1, 1, 1, 0, 1, 0, 1, 0, 0, 0, 1, 0, 0, 1, 1, 0,\n",
       "       0, 0, 1, 1, 0, 0, 0, 0, 0, 1, 0, 1, 1, 0], dtype=int64)"
      ]
     },
     "execution_count": 40,
     "metadata": {},
     "output_type": "execute_result"
    }
   ],
   "source": [
    "y_test.values"
   ]
  },
  {
   "cell_type": "markdown",
   "metadata": {},
   "source": [
    "Como vimos no passo 2, em problemas de classificação é muito comum utilizarmos a **matriz de confusão** e as **métricas de classificação** para avaliar nossos modelos.\n",
    "\n",
    "Dado isso, o sklearn já disponibilica estas funcionalidades:"
   ]
  },
  {
   "cell_type": "code",
   "execution_count": 47,
   "metadata": {
    "ExecuteTime": {
     "end_time": "2020-02-14T01:38:46.362889Z",
     "start_time": "2020-02-14T01:38:46.297731Z"
    }
   },
   "outputs": [
    {
     "name": "stdout",
     "output_type": "stream",
     "text": [
      "[[140   6]\n",
      " [ 25 129]]\n"
     ]
    }
   ],
   "source": [
    "# 6) Avalie a performance do modelo com base nas previsões acima\n",
    "\n",
    "from sklearn.metrics import confusion_matrix\n",
    "\n",
    "m  = confusion_matrix(y_test, y_pred)\n",
    "\n",
    "print(m)"
   ]
  },
  {
   "cell_type": "code",
   "execution_count": 54,
   "metadata": {},
   "outputs": [],
   "source": [
    "tn, fp = m[0, 0], m[0, 1]\n",
    "\n",
    "fn, tp = m[1, 0], m[1, 1]"
   ]
  },
  {
   "cell_type": "code",
   "execution_count": 57,
   "metadata": {},
   "outputs": [
    {
     "data": {
      "text/plain": [
       "25"
      ]
     },
     "execution_count": 57,
     "metadata": {},
     "output_type": "execute_result"
    }
   ],
   "source": [
    "fn"
   ]
  },
  {
   "cell_type": "code",
   "execution_count": 55,
   "metadata": {},
   "outputs": [],
   "source": [
    "p = tp/(tp + fp)\n",
    "\n",
    "r = tp/(tp + fn)"
   ]
  },
  {
   "cell_type": "code",
   "execution_count": 56,
   "metadata": {},
   "outputs": [
    {
     "data": {
      "text/plain": [
       "(0.9555555555555556, 0.8376623376623377)"
      ]
     },
     "execution_count": 56,
     "metadata": {},
     "output_type": "execute_result"
    }
   ],
   "source": [
    "p, r"
   ]
  },
  {
   "cell_type": "code",
   "execution_count": 46,
   "metadata": {},
   "outputs": [
    {
     "name": "stdout",
     "output_type": "stream",
     "text": [
      "              precision    recall  f1-score   support\n",
      "\n",
      "           0       0.85      0.96      0.90       146\n",
      "           1       0.96      0.84      0.89       154\n",
      "\n",
      "    accuracy                           0.90       300\n",
      "   macro avg       0.90      0.90      0.90       300\n",
      "weighted avg       0.90      0.90      0.90       300\n",
      "\n"
     ]
    }
   ],
   "source": [
    "from sklearn.metrics import classification_report\n",
    "\n",
    "print(classification_report(y_test, y_pred))"
   ]
  },
  {
   "cell_type": "markdown",
   "metadata": {},
   "source": [
    "Conforme esperado, nosso modelo está muito bom! Um f1-score tão alto na vida real é algo notável!\n",
    "\n",
    "Isso se deve à grande separabilidade dos nossos dados!"
   ]
  },
  {
   "cell_type": "markdown",
   "metadata": {},
   "source": [
    "Além dos coeficientes do modelo, algo muito interessante que a classe do sklearn tem é o método `predict_proba()`\n",
    "\n",
    "Esse método retorna exatamente qual é a probabilidade modelada pelo logit.\n",
    "\n",
    "Isso pode ser muito útil, pois assim conseguimos **mudar qual é o threshold de esclha de classe** para ser algo diferente de 0.5!\n"
   ]
  },
  {
   "cell_type": "code",
   "execution_count": 59,
   "metadata": {},
   "outputs": [
    {
     "data": {
      "text/plain": [
       "array([0, 1, 1, 1, 0, 0, 0, 1, 0, 1, 0, 1, 1, 0, 1, 1, 1, 1, 0, 1, 0, 1,\n",
       "       1, 0, 0, 1, 0, 0, 1, 1, 0, 1, 0, 1, 1, 0, 0, 0, 1, 1, 0, 1, 0, 1,\n",
       "       0, 0, 1, 1, 0, 1, 1, 0, 1, 0, 0, 0, 0, 1, 0, 1, 0, 1, 0, 1, 1, 1,\n",
       "       1, 0, 1, 1, 1, 1, 0, 0, 1, 0, 0, 1, 0, 0, 1, 1, 1, 1, 0, 0, 0, 0,\n",
       "       0, 0, 0, 0, 0, 1, 0, 0, 1, 1, 0, 0, 1, 0, 1, 0, 1, 1, 1, 0, 1, 0,\n",
       "       1, 0, 1, 1, 0, 1, 0, 0, 0, 0, 1, 1, 1, 0, 0, 0, 1, 0, 0, 1, 1, 1,\n",
       "       1, 0, 0, 0, 0, 0, 0, 1, 0, 0, 1, 0, 0, 1, 1, 0, 0, 0, 0, 0, 1, 0,\n",
       "       1, 0, 1, 0, 0, 0, 1, 1, 0, 0, 1, 0, 0, 0, 0, 0, 1, 0, 1, 0, 1, 1,\n",
       "       1, 1, 1, 1, 1, 0, 1, 1, 1, 1, 0, 1, 1, 1, 0, 1, 0, 0, 1, 1, 1, 1,\n",
       "       0, 1, 0, 0, 0, 0, 1, 0, 1, 0, 0, 0, 0, 1, 1, 1, 1, 0, 0, 0, 0, 1,\n",
       "       0, 0, 1, 1, 0, 0, 0, 0, 0, 0, 0, 0, 0, 1, 0, 0, 1, 0, 1, 0, 0, 0,\n",
       "       0, 0, 0, 0, 0, 0, 0, 0, 1, 1, 1, 0, 0, 0, 1, 1, 1, 0, 0, 1, 1, 0,\n",
       "       1, 0, 1, 0, 0, 1, 1, 1, 1, 0, 1, 0, 1, 0, 0, 0, 1, 0, 0, 0, 1, 0,\n",
       "       0, 0, 1, 1, 0, 0, 0, 1, 0, 1, 0, 1, 1, 0], dtype=int64)"
      ]
     },
     "execution_count": 59,
     "metadata": {},
     "output_type": "execute_result"
    }
   ],
   "source": [
    "modelo.predict(X_test)"
   ]
  },
  {
   "cell_type": "code",
   "execution_count": 60,
   "metadata": {},
   "outputs": [
    {
     "data": {
      "text/plain": [
       "array([0, 1], dtype=int64)"
      ]
     },
     "execution_count": 60,
     "metadata": {},
     "output_type": "execute_result"
    }
   ],
   "source": [
    "modelo.classes_"
   ]
  },
  {
   "cell_type": "code",
   "execution_count": 62,
   "metadata": {},
   "outputs": [],
   "source": [
    "probs = modelo.predict_proba(X_test)"
   ]
  },
  {
   "cell_type": "code",
   "execution_count": 66,
   "metadata": {},
   "outputs": [
    {
     "data": {
      "text/plain": [
       "array([[0.506, 0.494],\n",
       "       [0.003, 0.997],\n",
       "       [0.05 , 0.95 ],\n",
       "       [0.01 , 0.99 ],\n",
       "       [0.97 , 0.03 ],\n",
       "       [0.715, 0.285],\n",
       "       [0.977, 0.023],\n",
       "       [0.009, 0.991],\n",
       "       [0.691, 0.309],\n",
       "       [0.052, 0.948],\n",
       "       [0.981, 0.019],\n",
       "       [0.091, 0.909],\n",
       "       [0.003, 0.997],\n",
       "       [0.976, 0.024],\n",
       "       [0.082, 0.918],\n",
       "       [0.006, 0.994],\n",
       "       [0.001, 0.999],\n",
       "       [0.032, 0.968],\n",
       "       [0.907, 0.093],\n",
       "       [0.01 , 0.99 ],\n",
       "       [0.907, 0.093],\n",
       "       [0.013, 0.987],\n",
       "       [0.006, 0.994],\n",
       "       [0.985, 0.015],\n",
       "       [0.98 , 0.02 ],\n",
       "       [0.005, 0.995],\n",
       "       [0.991, 0.009],\n",
       "       [0.985, 0.015],\n",
       "       [0.009, 0.991],\n",
       "       [0.269, 0.731],\n",
       "       [0.983, 0.017],\n",
       "       [0.331, 0.669],\n",
       "       [0.964, 0.036],\n",
       "       [0.143, 0.857],\n",
       "       [0.002, 0.998],\n",
       "       [0.929, 0.071],\n",
       "       [0.975, 0.025],\n",
       "       [0.889, 0.111],\n",
       "       [0.135, 0.865],\n",
       "       [0.02 , 0.98 ],\n",
       "       [0.986, 0.014],\n",
       "       [0.081, 0.919],\n",
       "       [0.976, 0.024],\n",
       "       [0.016, 0.984],\n",
       "       [0.988, 0.012],\n",
       "       [0.899, 0.101],\n",
       "       [0.008, 0.992],\n",
       "       [0.002, 0.998],\n",
       "       [0.976, 0.024],\n",
       "       [0.003, 0.997],\n",
       "       [0.019, 0.981],\n",
       "       [0.992, 0.008],\n",
       "       [0.116, 0.884],\n",
       "       [0.988, 0.012],\n",
       "       [0.888, 0.112],\n",
       "       [0.933, 0.067],\n",
       "       [0.864, 0.136],\n",
       "       [0.002, 0.998],\n",
       "       [0.975, 0.025],\n",
       "       [0.039, 0.961],\n",
       "       [0.923, 0.077],\n",
       "       [0.009, 0.991],\n",
       "       [0.891, 0.109],\n",
       "       [0.028, 0.972],\n",
       "       [0.122, 0.878],\n",
       "       [0.026, 0.974],\n",
       "       [0.001, 0.999],\n",
       "       [0.936, 0.064],\n",
       "       [0.295, 0.705],\n",
       "       [0.049, 0.951],\n",
       "       [0.027, 0.973],\n",
       "       [0.499, 0.501],\n",
       "       [0.872, 0.128],\n",
       "       [0.949, 0.051],\n",
       "       [0.159, 0.841],\n",
       "       [0.936, 0.064],\n",
       "       [0.965, 0.035],\n",
       "       [0.035, 0.965],\n",
       "       [0.509, 0.491],\n",
       "       [0.935, 0.065],\n",
       "       [0.01 , 0.99 ],\n",
       "       [0.034, 0.966],\n",
       "       [0.423, 0.577],\n",
       "       [0.448, 0.552],\n",
       "       [0.925, 0.075],\n",
       "       [0.96 , 0.04 ],\n",
       "       [0.98 , 0.02 ],\n",
       "       [0.994, 0.006],\n",
       "       [0.916, 0.084],\n",
       "       [0.961, 0.039],\n",
       "       [0.912, 0.088],\n",
       "       [0.782, 0.218],\n",
       "       [0.932, 0.068],\n",
       "       [0.097, 0.903],\n",
       "       [0.778, 0.222],\n",
       "       [0.968, 0.032],\n",
       "       [0.001, 0.999],\n",
       "       [0.107, 0.893],\n",
       "       [0.902, 0.098],\n",
       "       [0.971, 0.029],\n",
       "       [0.083, 0.917],\n",
       "       [0.991, 0.009],\n",
       "       [0.008, 0.992],\n",
       "       [0.967, 0.033],\n",
       "       [0.004, 0.996],\n",
       "       [0.493, 0.507],\n",
       "       [0.133, 0.867],\n",
       "       [0.602, 0.398],\n",
       "       [0.014, 0.986],\n",
       "       [0.955, 0.045],\n",
       "       [0.002, 0.998],\n",
       "       [0.943, 0.057],\n",
       "       [0.041, 0.959],\n",
       "       [0.004, 0.996],\n",
       "       [0.812, 0.188],\n",
       "       [0.478, 0.522],\n",
       "       [0.976, 0.024],\n",
       "       [0.853, 0.147],\n",
       "       [0.957, 0.043],\n",
       "       [0.54 , 0.46 ],\n",
       "       [0.098, 0.902],\n",
       "       [0.032, 0.968],\n",
       "       [0.001, 0.999],\n",
       "       [0.975, 0.025],\n",
       "       [0.77 , 0.23 ],\n",
       "       [0.973, 0.027],\n",
       "       [0.471, 0.529],\n",
       "       [0.971, 0.029],\n",
       "       [0.756, 0.244],\n",
       "       [0.437, 0.563],\n",
       "       [0.027, 0.973],\n",
       "       [0.002, 0.998],\n",
       "       [0.042, 0.958],\n",
       "       [0.952, 0.048],\n",
       "       [0.751, 0.249],\n",
       "       [0.904, 0.096],\n",
       "       [0.964, 0.036],\n",
       "       [0.909, 0.091],\n",
       "       [0.974, 0.026],\n",
       "       [0.136, 0.864],\n",
       "       [0.988, 0.012],\n",
       "       [0.624, 0.376],\n",
       "       [0.083, 0.917],\n",
       "       [0.784, 0.216],\n",
       "       [0.991, 0.009],\n",
       "       [0.026, 0.974],\n",
       "       [0.365, 0.635],\n",
       "       [0.971, 0.029],\n",
       "       [0.98 , 0.02 ],\n",
       "       [0.751, 0.249],\n",
       "       [0.983, 0.017],\n",
       "       [0.983, 0.017],\n",
       "       [0.244, 0.756],\n",
       "       [0.974, 0.026],\n",
       "       [0.026, 0.974],\n",
       "       [0.948, 0.052],\n",
       "       [0.002, 0.998],\n",
       "       [0.99 , 0.01 ],\n",
       "       [0.968, 0.032],\n",
       "       [0.822, 0.178],\n",
       "       [0.155, 0.845],\n",
       "       [0.012, 0.988],\n",
       "       [0.982, 0.018],\n",
       "       [0.624, 0.376],\n",
       "       [0.118, 0.882],\n",
       "       [0.891, 0.109],\n",
       "       [0.962, 0.038],\n",
       "       [0.983, 0.017],\n",
       "       [0.765, 0.235],\n",
       "       [0.921, 0.079],\n",
       "       [0.032, 0.968],\n",
       "       [0.678, 0.322],\n",
       "       [0.002, 0.998],\n",
       "       [0.975, 0.025],\n",
       "       [0.375, 0.625],\n",
       "       [0.346, 0.654],\n",
       "       [0.006, 0.994],\n",
       "       [0.475, 0.525],\n",
       "       [0.002, 0.998],\n",
       "       [0.099, 0.901],\n",
       "       [0.424, 0.576],\n",
       "       [0.982, 0.018],\n",
       "       [0.03 , 0.97 ],\n",
       "       [0.044, 0.956],\n",
       "       [0.017, 0.983],\n",
       "       [0.029, 0.971],\n",
       "       [0.911, 0.089],\n",
       "       [0.004, 0.996],\n",
       "       [0.128, 0.872],\n",
       "       [0.085, 0.915],\n",
       "       [0.81 , 0.19 ],\n",
       "       [0.003, 0.997],\n",
       "       [0.928, 0.072],\n",
       "       [0.97 , 0.03 ],\n",
       "       [0.104, 0.896],\n",
       "       [0.098, 0.902],\n",
       "       [0.006, 0.994],\n",
       "       [0.001, 0.999],\n",
       "       [0.967, 0.033],\n",
       "       [0.035, 0.965],\n",
       "       [0.993, 0.007],\n",
       "       [0.94 , 0.06 ],\n",
       "       [0.858, 0.142],\n",
       "       [0.985, 0.015],\n",
       "       [0.004, 0.996],\n",
       "       [0.988, 0.012],\n",
       "       [0.39 , 0.61 ],\n",
       "       [0.949, 0.051],\n",
       "       [0.921, 0.079],\n",
       "       [0.976, 0.024],\n",
       "       [0.919, 0.081],\n",
       "       [0.362, 0.638],\n",
       "       [0.006, 0.994],\n",
       "       [0.005, 0.995],\n",
       "       [0.009, 0.991],\n",
       "       [0.961, 0.039],\n",
       "       [0.94 , 0.06 ],\n",
       "       [0.841, 0.159],\n",
       "       [0.948, 0.052],\n",
       "       [0.016, 0.984],\n",
       "       [0.98 , 0.02 ],\n",
       "       [0.688, 0.312],\n",
       "       [0.003, 0.997],\n",
       "       [0.005, 0.995],\n",
       "       [0.967, 0.033],\n",
       "       [0.988, 0.012],\n",
       "       [0.97 , 0.03 ],\n",
       "       [0.985, 0.015],\n",
       "       [0.988, 0.012],\n",
       "       [0.983, 0.017],\n",
       "       [0.734, 0.266],\n",
       "       [0.683, 0.317],\n",
       "       [0.578, 0.422],\n",
       "       [0.001, 0.999],\n",
       "       [0.965, 0.035],\n",
       "       [0.979, 0.021],\n",
       "       [0.161, 0.839],\n",
       "       [0.534, 0.466],\n",
       "       [0.003, 0.997],\n",
       "       [0.956, 0.044],\n",
       "       [0.983, 0.017],\n",
       "       [0.966, 0.034],\n",
       "       [0.8  , 0.2  ],\n",
       "       [0.993, 0.007],\n",
       "       [0.946, 0.054],\n",
       "       [0.93 , 0.07 ],\n",
       "       [0.952, 0.048],\n",
       "       [0.964, 0.036],\n",
       "       [0.879, 0.121],\n",
       "       [0.614, 0.386],\n",
       "       [0.06 , 0.94 ],\n",
       "       [0.03 , 0.97 ],\n",
       "       [0.123, 0.877],\n",
       "       [0.835, 0.165],\n",
       "       [0.574, 0.426],\n",
       "       [0.901, 0.099],\n",
       "       [0.022, 0.978],\n",
       "       [0.018, 0.982],\n",
       "       [0.002, 0.998],\n",
       "       [0.988, 0.012],\n",
       "       [0.891, 0.109],\n",
       "       [0.272, 0.728],\n",
       "       [0.035, 0.965],\n",
       "       [0.848, 0.152],\n",
       "       [0.022, 0.978],\n",
       "       [0.987, 0.013],\n",
       "       [0.136, 0.864],\n",
       "       [0.975, 0.025],\n",
       "       [0.928, 0.072],\n",
       "       [0.014, 0.986],\n",
       "       [0.017, 0.983],\n",
       "       [0.083, 0.917],\n",
       "       [0.001, 0.999],\n",
       "       [0.878, 0.122],\n",
       "       [0.047, 0.953],\n",
       "       [0.989, 0.011],\n",
       "       [0.009, 0.991],\n",
       "       [0.987, 0.013],\n",
       "       [0.979, 0.021],\n",
       "       [0.925, 0.075],\n",
       "       [0.005, 0.995],\n",
       "       [0.944, 0.056],\n",
       "       [0.958, 0.042],\n",
       "       [0.614, 0.386],\n",
       "       [0.103, 0.897],\n",
       "       [0.965, 0.035],\n",
       "       [0.918, 0.082],\n",
       "       [0.981, 0.019],\n",
       "       [0.043, 0.957],\n",
       "       [0.054, 0.946],\n",
       "       [0.822, 0.178],\n",
       "       [0.977, 0.023],\n",
       "       [0.918, 0.082],\n",
       "       [0.315, 0.685],\n",
       "       [0.968, 0.032],\n",
       "       [0.007, 0.993],\n",
       "       [0.829, 0.171],\n",
       "       [0.495, 0.505],\n",
       "       [0.006, 0.994],\n",
       "       [0.862, 0.138]])"
      ]
     },
     "execution_count": 66,
     "metadata": {},
     "output_type": "execute_result"
    }
   ],
   "source": [
    "probs"
   ]
  },
  {
   "cell_type": "code",
   "execution_count": 69,
   "metadata": {},
   "outputs": [
    {
     "data": {
      "text/plain": [
       "array([0.506, 0.003, 0.05 , 0.01 , 0.97 , 0.715, 0.977, 0.009, 0.691,\n",
       "       0.052, 0.981, 0.091, 0.003, 0.976, 0.082, 0.006, 0.001, 0.032,\n",
       "       0.907, 0.01 , 0.907, 0.013, 0.006, 0.985, 0.98 , 0.005, 0.991,\n",
       "       0.985, 0.009, 0.269, 0.983, 0.331, 0.964, 0.143, 0.002, 0.929,\n",
       "       0.975, 0.889, 0.135, 0.02 , 0.986, 0.081, 0.976, 0.016, 0.988,\n",
       "       0.899, 0.008, 0.002, 0.976, 0.003, 0.019, 0.992, 0.116, 0.988,\n",
       "       0.888, 0.933, 0.864, 0.002, 0.975, 0.039, 0.923, 0.009, 0.891,\n",
       "       0.028, 0.122, 0.026, 0.001, 0.936, 0.295, 0.049, 0.027, 0.499,\n",
       "       0.872, 0.949, 0.159, 0.936, 0.965, 0.035, 0.509, 0.935, 0.01 ,\n",
       "       0.034, 0.423, 0.448, 0.925, 0.96 , 0.98 , 0.994, 0.916, 0.961,\n",
       "       0.912, 0.782, 0.932, 0.097, 0.778, 0.968, 0.001, 0.107, 0.902,\n",
       "       0.971, 0.083, 0.991, 0.008, 0.967, 0.004, 0.493, 0.133, 0.602,\n",
       "       0.014, 0.955, 0.002, 0.943, 0.041, 0.004, 0.812, 0.478, 0.976,\n",
       "       0.853, 0.957, 0.54 , 0.098, 0.032, 0.001, 0.975, 0.77 , 0.973,\n",
       "       0.471, 0.971, 0.756, 0.437, 0.027, 0.002, 0.042, 0.952, 0.751,\n",
       "       0.904, 0.964, 0.909, 0.974, 0.136, 0.988, 0.624, 0.083, 0.784,\n",
       "       0.991, 0.026, 0.365, 0.971, 0.98 , 0.751, 0.983, 0.983, 0.244,\n",
       "       0.974, 0.026, 0.948, 0.002, 0.99 , 0.968, 0.822, 0.155, 0.012,\n",
       "       0.982, 0.624, 0.118, 0.891, 0.962, 0.983, 0.765, 0.921, 0.032,\n",
       "       0.678, 0.002, 0.975, 0.375, 0.346, 0.006, 0.475, 0.002, 0.099,\n",
       "       0.424, 0.982, 0.03 , 0.044, 0.017, 0.029, 0.911, 0.004, 0.128,\n",
       "       0.085, 0.81 , 0.003, 0.928, 0.97 , 0.104, 0.098, 0.006, 0.001,\n",
       "       0.967, 0.035, 0.993, 0.94 , 0.858, 0.985, 0.004, 0.988, 0.39 ,\n",
       "       0.949, 0.921, 0.976, 0.919, 0.362, 0.006, 0.005, 0.009, 0.961,\n",
       "       0.94 , 0.841, 0.948, 0.016, 0.98 , 0.688, 0.003, 0.005, 0.967,\n",
       "       0.988, 0.97 , 0.985, 0.988, 0.983, 0.734, 0.683, 0.578, 0.001,\n",
       "       0.965, 0.979, 0.161, 0.534, 0.003, 0.956, 0.983, 0.966, 0.8  ,\n",
       "       0.993, 0.946, 0.93 , 0.952, 0.964, 0.879, 0.614, 0.06 , 0.03 ,\n",
       "       0.123, 0.835, 0.574, 0.901, 0.022, 0.018, 0.002, 0.988, 0.891,\n",
       "       0.272, 0.035, 0.848, 0.022, 0.987, 0.136, 0.975, 0.928, 0.014,\n",
       "       0.017, 0.083, 0.001, 0.878, 0.047, 0.989, 0.009, 0.987, 0.979,\n",
       "       0.925, 0.005, 0.944, 0.958, 0.614, 0.103, 0.965, 0.918, 0.981,\n",
       "       0.043, 0.054, 0.822, 0.977, 0.918, 0.315, 0.968, 0.007, 0.829,\n",
       "       0.495, 0.006, 0.862])"
      ]
     },
     "execution_count": 69,
     "metadata": {},
     "output_type": "execute_result"
    }
   ],
   "source": [
    "# probabilidade de pertencimento à classe 0, isso é,  p(y = 0 | x)\n",
    "probs[:, 0]"
   ]
  },
  {
   "cell_type": "code",
   "execution_count": 72,
   "metadata": {},
   "outputs": [],
   "source": [
    "# probabilidade de pertencimento à classe 1, isso é,  p(y = 1 | x)\n",
    "\n",
    "y_probs = probs[:, 1]"
   ]
  },
  {
   "cell_type": "code",
   "execution_count": 74,
   "metadata": {},
   "outputs": [
    {
     "data": {
      "text/plain": [
       "array([0, 1, 1, 1, 0, 0, 0, 1, 0, 1, 0, 1, 1, 0, 1, 1, 1, 1, 0, 1, 0, 1,\n",
       "       1, 0, 0, 1, 0, 0, 1, 1, 0, 1, 0, 1, 1, 0, 0, 0, 1, 1, 0, 1, 0, 1,\n",
       "       0, 0, 1, 1, 0, 1, 1, 0, 1, 0, 0, 0, 0, 1, 0, 1, 0, 1, 0, 1, 1, 1,\n",
       "       1, 0, 1, 1, 1, 1, 0, 0, 1, 0, 0, 1, 0, 0, 1, 1, 1, 1, 0, 0, 0, 0,\n",
       "       0, 0, 0, 0, 0, 1, 0, 0, 1, 1, 0, 0, 1, 0, 1, 0, 1, 1, 1, 0, 1, 0,\n",
       "       1, 0, 1, 1, 0, 1, 0, 0, 0, 0, 1, 1, 1, 0, 0, 0, 1, 0, 0, 1, 1, 1,\n",
       "       1, 0, 0, 0, 0, 0, 0, 1, 0, 0, 1, 0, 0, 1, 1, 0, 0, 0, 0, 0, 1, 0,\n",
       "       1, 0, 1, 0, 0, 0, 1, 1, 0, 0, 1, 0, 0, 0, 0, 0, 1, 0, 1, 0, 1, 1,\n",
       "       1, 1, 1, 1, 1, 0, 1, 1, 1, 1, 0, 1, 1, 1, 0, 1, 0, 0, 1, 1, 1, 1,\n",
       "       0, 1, 0, 0, 0, 0, 1, 0, 1, 0, 0, 0, 0, 1, 1, 1, 1, 0, 0, 0, 0, 1,\n",
       "       0, 0, 1, 1, 0, 0, 0, 0, 0, 0, 0, 0, 0, 1, 0, 0, 1, 0, 1, 0, 0, 0,\n",
       "       0, 0, 0, 0, 0, 0, 0, 0, 1, 1, 1, 0, 0, 0, 1, 1, 1, 0, 0, 1, 1, 0,\n",
       "       1, 0, 1, 0, 0, 1, 1, 1, 1, 0, 1, 0, 1, 0, 0, 0, 1, 0, 0, 0, 1, 0,\n",
       "       0, 0, 1, 1, 0, 0, 0, 1, 0, 1, 0, 1, 1, 0], dtype=int64)"
      ]
     },
     "execution_count": 74,
     "metadata": {},
     "output_type": "execute_result"
    }
   ],
   "source": [
    "y_pred"
   ]
  },
  {
   "cell_type": "code",
   "execution_count": 73,
   "metadata": {},
   "outputs": [
    {
     "data": {
      "text/plain": [
       "array([0.494, 0.997, 0.95 , 0.99 , 0.03 , 0.285, 0.023, 0.991, 0.309,\n",
       "       0.948, 0.019, 0.909, 0.997, 0.024, 0.918, 0.994, 0.999, 0.968,\n",
       "       0.093, 0.99 , 0.093, 0.987, 0.994, 0.015, 0.02 , 0.995, 0.009,\n",
       "       0.015, 0.991, 0.731, 0.017, 0.669, 0.036, 0.857, 0.998, 0.071,\n",
       "       0.025, 0.111, 0.865, 0.98 , 0.014, 0.919, 0.024, 0.984, 0.012,\n",
       "       0.101, 0.992, 0.998, 0.024, 0.997, 0.981, 0.008, 0.884, 0.012,\n",
       "       0.112, 0.067, 0.136, 0.998, 0.025, 0.961, 0.077, 0.991, 0.109,\n",
       "       0.972, 0.878, 0.974, 0.999, 0.064, 0.705, 0.951, 0.973, 0.501,\n",
       "       0.128, 0.051, 0.841, 0.064, 0.035, 0.965, 0.491, 0.065, 0.99 ,\n",
       "       0.966, 0.577, 0.552, 0.075, 0.04 , 0.02 , 0.006, 0.084, 0.039,\n",
       "       0.088, 0.218, 0.068, 0.903, 0.222, 0.032, 0.999, 0.893, 0.098,\n",
       "       0.029, 0.917, 0.009, 0.992, 0.033, 0.996, 0.507, 0.867, 0.398,\n",
       "       0.986, 0.045, 0.998, 0.057, 0.959, 0.996, 0.188, 0.522, 0.024,\n",
       "       0.147, 0.043, 0.46 , 0.902, 0.968, 0.999, 0.025, 0.23 , 0.027,\n",
       "       0.529, 0.029, 0.244, 0.563, 0.973, 0.998, 0.958, 0.048, 0.249,\n",
       "       0.096, 0.036, 0.091, 0.026, 0.864, 0.012, 0.376, 0.917, 0.216,\n",
       "       0.009, 0.974, 0.635, 0.029, 0.02 , 0.249, 0.017, 0.017, 0.756,\n",
       "       0.026, 0.974, 0.052, 0.998, 0.01 , 0.032, 0.178, 0.845, 0.988,\n",
       "       0.018, 0.376, 0.882, 0.109, 0.038, 0.017, 0.235, 0.079, 0.968,\n",
       "       0.322, 0.998, 0.025, 0.625, 0.654, 0.994, 0.525, 0.998, 0.901,\n",
       "       0.576, 0.018, 0.97 , 0.956, 0.983, 0.971, 0.089, 0.996, 0.872,\n",
       "       0.915, 0.19 , 0.997, 0.072, 0.03 , 0.896, 0.902, 0.994, 0.999,\n",
       "       0.033, 0.965, 0.007, 0.06 , 0.142, 0.015, 0.996, 0.012, 0.61 ,\n",
       "       0.051, 0.079, 0.024, 0.081, 0.638, 0.994, 0.995, 0.991, 0.039,\n",
       "       0.06 , 0.159, 0.052, 0.984, 0.02 , 0.312, 0.997, 0.995, 0.033,\n",
       "       0.012, 0.03 , 0.015, 0.012, 0.017, 0.266, 0.317, 0.422, 0.999,\n",
       "       0.035, 0.021, 0.839, 0.466, 0.997, 0.044, 0.017, 0.034, 0.2  ,\n",
       "       0.007, 0.054, 0.07 , 0.048, 0.036, 0.121, 0.386, 0.94 , 0.97 ,\n",
       "       0.877, 0.165, 0.426, 0.099, 0.978, 0.982, 0.998, 0.012, 0.109,\n",
       "       0.728, 0.965, 0.152, 0.978, 0.013, 0.864, 0.025, 0.072, 0.986,\n",
       "       0.983, 0.917, 0.999, 0.122, 0.953, 0.011, 0.991, 0.013, 0.021,\n",
       "       0.075, 0.995, 0.056, 0.042, 0.386, 0.897, 0.035, 0.082, 0.019,\n",
       "       0.957, 0.946, 0.178, 0.023, 0.082, 0.685, 0.032, 0.993, 0.171,\n",
       "       0.505, 0.994, 0.138])"
      ]
     },
     "execution_count": 73,
     "metadata": {},
     "output_type": "execute_result"
    }
   ],
   "source": [
    "y_probs "
   ]
  },
  {
   "cell_type": "code",
   "execution_count": 75,
   "metadata": {
    "scrolled": true
   },
   "outputs": [
    {
     "data": {
      "text/plain": [
       "array([False,  True,  True,  True, False, False, False,  True, False,\n",
       "        True, False,  True,  True, False,  True,  True,  True,  True,\n",
       "       False,  True, False,  True,  True, False, False,  True, False,\n",
       "       False,  True,  True, False,  True, False,  True,  True, False,\n",
       "       False, False,  True,  True, False,  True, False,  True, False,\n",
       "       False,  True,  True, False,  True,  True, False,  True, False,\n",
       "       False, False, False,  True, False,  True, False,  True, False,\n",
       "        True,  True,  True,  True, False,  True,  True,  True,  True,\n",
       "       False, False,  True, False, False,  True, False, False,  True,\n",
       "        True,  True,  True, False, False, False, False, False, False,\n",
       "       False, False, False,  True, False, False,  True,  True, False,\n",
       "       False,  True, False,  True, False,  True,  True,  True, False,\n",
       "        True, False,  True, False,  True,  True, False,  True, False,\n",
       "       False, False, False,  True,  True,  True, False, False, False,\n",
       "        True, False, False,  True,  True,  True,  True, False, False,\n",
       "       False, False, False, False,  True, False, False,  True, False,\n",
       "       False,  True,  True, False, False, False, False, False,  True,\n",
       "       False,  True, False,  True, False, False, False,  True,  True,\n",
       "       False, False,  True, False, False, False, False, False,  True,\n",
       "       False,  True, False,  True,  True,  True,  True,  True,  True,\n",
       "        True, False,  True,  True,  True,  True, False,  True,  True,\n",
       "        True, False,  True, False, False,  True,  True,  True,  True,\n",
       "       False,  True, False, False, False, False,  True, False,  True,\n",
       "       False, False, False, False,  True,  True,  True,  True, False,\n",
       "       False, False, False,  True, False, False,  True,  True, False,\n",
       "       False, False, False, False, False, False, False, False,  True,\n",
       "       False, False,  True, False,  True, False, False, False, False,\n",
       "       False, False, False, False, False, False, False,  True,  True,\n",
       "        True, False, False, False,  True,  True,  True, False, False,\n",
       "        True,  True, False,  True, False,  True, False, False,  True,\n",
       "        True,  True,  True, False,  True, False,  True, False, False,\n",
       "       False,  True, False, False, False,  True, False, False, False,\n",
       "        True,  True, False, False, False,  True, False,  True, False,\n",
       "        True,  True, False])"
      ]
     },
     "execution_count": 75,
     "metadata": {},
     "output_type": "execute_result"
    }
   ],
   "source": [
    "cutoff = 0.5\n",
    "\n",
    "y_probs > cutoff"
   ]
  },
  {
   "cell_type": "code",
   "execution_count": 79,
   "metadata": {},
   "outputs": [
    {
     "data": {
      "text/plain": [
       "array([0, 1, 1, 1, 0, 0, 0, 1, 0, 1, 0, 1, 1, 0, 1, 1, 1, 1, 0, 1, 0, 1,\n",
       "       1, 0, 0, 1, 0, 0, 1, 1, 0, 1, 0, 1, 1, 0, 0, 0, 1, 1, 0, 1, 0, 1,\n",
       "       0, 0, 1, 1, 0, 1, 1, 0, 1, 0, 0, 0, 0, 1, 0, 1, 0, 1, 0, 1, 1, 1,\n",
       "       1, 0, 1, 1, 1, 1, 0, 0, 1, 0, 0, 1, 0, 0, 1, 1, 1, 1, 0, 0, 0, 0,\n",
       "       0, 0, 0, 0, 0, 1, 0, 0, 1, 1, 0, 0, 1, 0, 1, 0, 1, 1, 1, 0, 1, 0,\n",
       "       1, 0, 1, 1, 0, 1, 0, 0, 0, 0, 1, 1, 1, 0, 0, 0, 1, 0, 0, 1, 1, 1,\n",
       "       1, 0, 0, 0, 0, 0, 0, 1, 0, 0, 1, 0, 0, 1, 1, 0, 0, 0, 0, 0, 1, 0,\n",
       "       1, 0, 1, 0, 0, 0, 1, 1, 0, 0, 1, 0, 0, 0, 0, 0, 1, 0, 1, 0, 1, 1,\n",
       "       1, 1, 1, 1, 1, 0, 1, 1, 1, 1, 0, 1, 1, 1, 0, 1, 0, 0, 1, 1, 1, 1,\n",
       "       0, 1, 0, 0, 0, 0, 1, 0, 1, 0, 0, 0, 0, 1, 1, 1, 1, 0, 0, 0, 0, 1,\n",
       "       0, 0, 1, 1, 0, 0, 0, 0, 0, 0, 0, 0, 0, 1, 0, 0, 1, 0, 1, 0, 0, 0,\n",
       "       0, 0, 0, 0, 0, 0, 0, 0, 1, 1, 1, 0, 0, 0, 1, 1, 1, 0, 0, 1, 1, 0,\n",
       "       1, 0, 1, 0, 0, 1, 1, 1, 1, 0, 1, 0, 1, 0, 0, 0, 1, 0, 0, 0, 1, 0,\n",
       "       0, 0, 1, 1, 0, 0, 0, 1, 0, 1, 0, 1, 1, 0])"
      ]
     },
     "execution_count": 79,
     "metadata": {},
     "output_type": "execute_result"
    }
   ],
   "source": [
    "# isso aqui produz exatamente o y_pred\n",
    "\n",
    "np.where(y_probs > cutoff, 1, 0)"
   ]
  },
  {
   "cell_type": "code",
   "execution_count": 80,
   "metadata": {},
   "outputs": [
    {
     "data": {
      "text/plain": [
       "array([0, 1, 1, 1, 0, 0, 0, 1, 0, 1, 0, 1, 1, 0, 1, 1, 1, 1, 0, 1, 0, 1,\n",
       "       1, 0, 0, 1, 0, 0, 1, 1, 0, 1, 0, 1, 1, 0, 0, 0, 1, 1, 0, 1, 0, 1,\n",
       "       0, 0, 1, 1, 0, 1, 1, 0, 1, 0, 0, 0, 0, 1, 0, 1, 0, 1, 0, 1, 1, 1,\n",
       "       1, 0, 1, 1, 1, 1, 0, 0, 1, 0, 0, 1, 0, 0, 1, 1, 1, 1, 0, 0, 0, 0,\n",
       "       0, 0, 0, 0, 0, 1, 0, 0, 1, 1, 0, 0, 1, 0, 1, 0, 1, 1, 1, 0, 1, 0,\n",
       "       1, 0, 1, 1, 0, 1, 0, 0, 0, 0, 1, 1, 1, 0, 0, 0, 1, 0, 0, 1, 1, 1,\n",
       "       1, 0, 0, 0, 0, 0, 0, 1, 0, 0, 1, 0, 0, 1, 1, 0, 0, 0, 0, 0, 1, 0,\n",
       "       1, 0, 1, 0, 0, 0, 1, 1, 0, 0, 1, 0, 0, 0, 0, 0, 1, 0, 1, 0, 1, 1,\n",
       "       1, 1, 1, 1, 1, 0, 1, 1, 1, 1, 0, 1, 1, 1, 0, 1, 0, 0, 1, 1, 1, 1,\n",
       "       0, 1, 0, 0, 0, 0, 1, 0, 1, 0, 0, 0, 0, 1, 1, 1, 1, 0, 0, 0, 0, 1,\n",
       "       0, 0, 1, 1, 0, 0, 0, 0, 0, 0, 0, 0, 0, 1, 0, 0, 1, 0, 1, 0, 0, 0,\n",
       "       0, 0, 0, 0, 0, 0, 0, 0, 1, 1, 1, 0, 0, 0, 1, 1, 1, 0, 0, 1, 1, 0,\n",
       "       1, 0, 1, 0, 0, 1, 1, 1, 1, 0, 1, 0, 1, 0, 0, 0, 1, 0, 0, 0, 1, 0,\n",
       "       0, 0, 1, 1, 0, 0, 0, 1, 0, 1, 0, 1, 1, 0], dtype=int64)"
      ]
     },
     "execution_count": 80,
     "metadata": {},
     "output_type": "execute_result"
    }
   ],
   "source": [
    "y_pred"
   ]
  },
  {
   "cell_type": "code",
   "execution_count": 81,
   "metadata": {},
   "outputs": [
    {
     "data": {
      "text/plain": [
       "array([0, 1, 1, 1, 0, 0, 0, 1, 0, 1, 0, 1, 1, 0, 1, 1, 1, 1, 0, 1, 0, 1,\n",
       "       1, 0, 0, 1, 0, 0, 1, 1, 0, 1, 0, 1, 1, 0, 0, 0, 1, 1, 0, 1, 0, 1,\n",
       "       0, 0, 1, 1, 0, 1, 1, 0, 1, 0, 0, 0, 0, 1, 0, 1, 0, 1, 0, 1, 1, 1,\n",
       "       1, 0, 1, 1, 1, 1, 0, 0, 1, 0, 0, 1, 0, 0, 1, 1, 1, 1, 0, 0, 0, 0,\n",
       "       0, 0, 0, 0, 0, 1, 0, 0, 1, 1, 0, 0, 1, 0, 1, 0, 1, 1, 1, 0, 1, 0,\n",
       "       1, 0, 1, 1, 0, 1, 0, 0, 0, 0, 1, 1, 1, 0, 0, 0, 1, 0, 0, 1, 1, 1,\n",
       "       1, 0, 0, 0, 0, 0, 0, 1, 0, 0, 1, 0, 0, 1, 1, 0, 0, 0, 0, 0, 1, 0,\n",
       "       1, 0, 1, 0, 0, 0, 1, 1, 0, 0, 1, 0, 0, 0, 0, 0, 1, 0, 1, 0, 1, 1,\n",
       "       1, 1, 1, 1, 1, 0, 1, 1, 1, 1, 0, 1, 1, 1, 0, 1, 0, 0, 1, 1, 1, 1,\n",
       "       0, 1, 0, 0, 0, 0, 1, 0, 1, 0, 0, 0, 0, 1, 1, 1, 1, 0, 0, 0, 0, 1,\n",
       "       0, 0, 1, 1, 0, 0, 0, 0, 0, 0, 0, 0, 0, 1, 0, 0, 1, 0, 1, 0, 0, 0,\n",
       "       0, 0, 0, 0, 0, 0, 0, 0, 1, 1, 1, 0, 0, 0, 1, 1, 1, 0, 0, 1, 1, 0,\n",
       "       1, 0, 1, 0, 0, 1, 1, 1, 1, 0, 1, 0, 1, 0, 0, 0, 1, 0, 0, 0, 1, 0,\n",
       "       0, 0, 1, 1, 0, 0, 0, 1, 0, 1, 0, 1, 1, 0])"
      ]
     },
     "execution_count": 81,
     "metadata": {},
     "output_type": "execute_result"
    }
   ],
   "source": [
    "# isso equivale a fazer o .predict(), MAAAAAS, com a vantagem da\n",
    "# gente poder escolher qual é o cutoff\n",
    "\n",
    "probs = modelo.predict_proba(X_test)\n",
    "\n",
    "y_probs = probs[:, 1]\n",
    "\n",
    "cutoff = 0.5\n",
    "y_pred_ = np.where(y_probs > cutoff, 1, 0)\n",
    "\n",
    "y_pred_"
   ]
  },
  {
   "cell_type": "code",
   "execution_count": 82,
   "metadata": {},
   "outputs": [
    {
     "data": {
      "text/plain": [
       "array([1, 1, 1, 1, 0, 1, 0, 1, 1, 1, 0, 1, 1, 0, 1, 1, 1, 1, 0, 1, 0, 1,\n",
       "       1, 0, 0, 1, 0, 0, 1, 1, 0, 1, 0, 1, 1, 0, 0, 1, 1, 1, 0, 1, 0, 1,\n",
       "       0, 1, 1, 1, 0, 1, 1, 0, 1, 0, 1, 0, 1, 1, 0, 1, 0, 1, 1, 1, 1, 1,\n",
       "       1, 0, 1, 1, 1, 1, 1, 0, 1, 0, 0, 1, 1, 0, 1, 1, 1, 1, 0, 0, 0, 0,\n",
       "       0, 0, 0, 1, 0, 1, 1, 0, 1, 1, 0, 0, 1, 0, 1, 0, 1, 1, 1, 1, 1, 0,\n",
       "       1, 0, 1, 1, 1, 1, 0, 1, 0, 1, 1, 1, 1, 0, 1, 0, 1, 0, 1, 1, 1, 1,\n",
       "       1, 0, 1, 0, 0, 0, 0, 1, 0, 1, 1, 1, 0, 1, 1, 0, 0, 1, 0, 0, 1, 0,\n",
       "       1, 0, 1, 0, 0, 1, 1, 1, 0, 1, 1, 1, 0, 0, 1, 0, 1, 1, 1, 0, 1, 1,\n",
       "       1, 1, 1, 1, 1, 0, 1, 1, 1, 1, 0, 1, 1, 1, 1, 1, 0, 0, 1, 1, 1, 1,\n",
       "       0, 1, 0, 0, 1, 0, 1, 0, 1, 0, 0, 0, 0, 1, 1, 1, 1, 0, 0, 1, 0, 1,\n",
       "       0, 1, 1, 1, 0, 0, 0, 0, 0, 0, 1, 1, 1, 1, 0, 0, 1, 1, 1, 0, 0, 0,\n",
       "       1, 0, 0, 0, 0, 0, 1, 1, 1, 1, 1, 1, 1, 0, 1, 1, 1, 0, 1, 1, 1, 1,\n",
       "       1, 0, 1, 0, 0, 1, 1, 1, 1, 1, 1, 0, 1, 0, 0, 0, 1, 0, 0, 1, 1, 0,\n",
       "       0, 0, 1, 1, 1, 0, 0, 1, 0, 1, 1, 1, 1, 1])"
      ]
     },
     "execution_count": 82,
     "metadata": {},
     "output_type": "execute_result"
    }
   ],
   "source": [
    "# mosttramos anuncio pra pessoas que tenham pelo menos 10% de chance de clicar\n",
    "\n",
    "cutoff = 0.1\n",
    "y_pred_ = np.where(y_probs > cutoff, 1, 0)\n",
    "\n",
    "y_pred_"
   ]
  },
  {
   "cell_type": "code",
   "execution_count": 85,
   "metadata": {
    "scrolled": true
   },
   "outputs": [
    {
     "data": {
      "text/plain": [
       "array([[0.506, 0.494],\n",
       "       [0.003, 0.997],\n",
       "       [0.05 , 0.95 ],\n",
       "       [0.01 , 0.99 ],\n",
       "       [0.97 , 0.03 ],\n",
       "       [0.715, 0.285],\n",
       "       [0.977, 0.023],\n",
       "       [0.009, 0.991],\n",
       "       [0.691, 0.309],\n",
       "       [0.052, 0.948],\n",
       "       [0.981, 0.019],\n",
       "       [0.091, 0.909],\n",
       "       [0.003, 0.997],\n",
       "       [0.976, 0.024],\n",
       "       [0.082, 0.918],\n",
       "       [0.006, 0.994],\n",
       "       [0.001, 0.999],\n",
       "       [0.032, 0.968],\n",
       "       [0.907, 0.093],\n",
       "       [0.01 , 0.99 ],\n",
       "       [0.907, 0.093],\n",
       "       [0.013, 0.987],\n",
       "       [0.006, 0.994],\n",
       "       [0.985, 0.015],\n",
       "       [0.98 , 0.02 ],\n",
       "       [0.005, 0.995],\n",
       "       [0.991, 0.009],\n",
       "       [0.985, 0.015],\n",
       "       [0.009, 0.991],\n",
       "       [0.269, 0.731],\n",
       "       [0.983, 0.017],\n",
       "       [0.331, 0.669],\n",
       "       [0.964, 0.036],\n",
       "       [0.143, 0.857],\n",
       "       [0.002, 0.998],\n",
       "       [0.929, 0.071],\n",
       "       [0.975, 0.025],\n",
       "       [0.889, 0.111],\n",
       "       [0.135, 0.865],\n",
       "       [0.02 , 0.98 ],\n",
       "       [0.986, 0.014],\n",
       "       [0.081, 0.919],\n",
       "       [0.976, 0.024],\n",
       "       [0.016, 0.984],\n",
       "       [0.988, 0.012],\n",
       "       [0.899, 0.101],\n",
       "       [0.008, 0.992],\n",
       "       [0.002, 0.998],\n",
       "       [0.976, 0.024],\n",
       "       [0.003, 0.997],\n",
       "       [0.019, 0.981],\n",
       "       [0.992, 0.008],\n",
       "       [0.116, 0.884],\n",
       "       [0.988, 0.012],\n",
       "       [0.888, 0.112],\n",
       "       [0.933, 0.067],\n",
       "       [0.864, 0.136],\n",
       "       [0.002, 0.998],\n",
       "       [0.975, 0.025],\n",
       "       [0.039, 0.961],\n",
       "       [0.923, 0.077],\n",
       "       [0.009, 0.991],\n",
       "       [0.891, 0.109],\n",
       "       [0.028, 0.972],\n",
       "       [0.122, 0.878],\n",
       "       [0.026, 0.974],\n",
       "       [0.001, 0.999],\n",
       "       [0.936, 0.064],\n",
       "       [0.295, 0.705],\n",
       "       [0.049, 0.951],\n",
       "       [0.027, 0.973],\n",
       "       [0.499, 0.501],\n",
       "       [0.872, 0.128],\n",
       "       [0.949, 0.051],\n",
       "       [0.159, 0.841],\n",
       "       [0.936, 0.064],\n",
       "       [0.965, 0.035],\n",
       "       [0.035, 0.965],\n",
       "       [0.509, 0.491],\n",
       "       [0.935, 0.065],\n",
       "       [0.01 , 0.99 ],\n",
       "       [0.034, 0.966],\n",
       "       [0.423, 0.577],\n",
       "       [0.448, 0.552],\n",
       "       [0.925, 0.075],\n",
       "       [0.96 , 0.04 ],\n",
       "       [0.98 , 0.02 ],\n",
       "       [0.994, 0.006],\n",
       "       [0.916, 0.084],\n",
       "       [0.961, 0.039],\n",
       "       [0.912, 0.088],\n",
       "       [0.782, 0.218],\n",
       "       [0.932, 0.068],\n",
       "       [0.097, 0.903],\n",
       "       [0.778, 0.222],\n",
       "       [0.968, 0.032],\n",
       "       [0.001, 0.999],\n",
       "       [0.107, 0.893],\n",
       "       [0.902, 0.098],\n",
       "       [0.971, 0.029],\n",
       "       [0.083, 0.917],\n",
       "       [0.991, 0.009],\n",
       "       [0.008, 0.992],\n",
       "       [0.967, 0.033],\n",
       "       [0.004, 0.996],\n",
       "       [0.493, 0.507],\n",
       "       [0.133, 0.867],\n",
       "       [0.602, 0.398],\n",
       "       [0.014, 0.986],\n",
       "       [0.955, 0.045],\n",
       "       [0.002, 0.998],\n",
       "       [0.943, 0.057],\n",
       "       [0.041, 0.959],\n",
       "       [0.004, 0.996],\n",
       "       [0.812, 0.188],\n",
       "       [0.478, 0.522],\n",
       "       [0.976, 0.024],\n",
       "       [0.853, 0.147],\n",
       "       [0.957, 0.043],\n",
       "       [0.54 , 0.46 ],\n",
       "       [0.098, 0.902],\n",
       "       [0.032, 0.968],\n",
       "       [0.001, 0.999],\n",
       "       [0.975, 0.025],\n",
       "       [0.77 , 0.23 ],\n",
       "       [0.973, 0.027],\n",
       "       [0.471, 0.529],\n",
       "       [0.971, 0.029],\n",
       "       [0.756, 0.244],\n",
       "       [0.437, 0.563],\n",
       "       [0.027, 0.973],\n",
       "       [0.002, 0.998],\n",
       "       [0.042, 0.958],\n",
       "       [0.952, 0.048],\n",
       "       [0.751, 0.249],\n",
       "       [0.904, 0.096],\n",
       "       [0.964, 0.036],\n",
       "       [0.909, 0.091],\n",
       "       [0.974, 0.026],\n",
       "       [0.136, 0.864],\n",
       "       [0.988, 0.012],\n",
       "       [0.624, 0.376],\n",
       "       [0.083, 0.917],\n",
       "       [0.784, 0.216],\n",
       "       [0.991, 0.009],\n",
       "       [0.026, 0.974],\n",
       "       [0.365, 0.635],\n",
       "       [0.971, 0.029],\n",
       "       [0.98 , 0.02 ],\n",
       "       [0.751, 0.249],\n",
       "       [0.983, 0.017],\n",
       "       [0.983, 0.017],\n",
       "       [0.244, 0.756],\n",
       "       [0.974, 0.026],\n",
       "       [0.026, 0.974],\n",
       "       [0.948, 0.052],\n",
       "       [0.002, 0.998],\n",
       "       [0.99 , 0.01 ],\n",
       "       [0.968, 0.032],\n",
       "       [0.822, 0.178],\n",
       "       [0.155, 0.845],\n",
       "       [0.012, 0.988],\n",
       "       [0.982, 0.018],\n",
       "       [0.624, 0.376],\n",
       "       [0.118, 0.882],\n",
       "       [0.891, 0.109],\n",
       "       [0.962, 0.038],\n",
       "       [0.983, 0.017],\n",
       "       [0.765, 0.235],\n",
       "       [0.921, 0.079],\n",
       "       [0.032, 0.968],\n",
       "       [0.678, 0.322],\n",
       "       [0.002, 0.998],\n",
       "       [0.975, 0.025],\n",
       "       [0.375, 0.625],\n",
       "       [0.346, 0.654],\n",
       "       [0.006, 0.994],\n",
       "       [0.475, 0.525],\n",
       "       [0.002, 0.998],\n",
       "       [0.099, 0.901],\n",
       "       [0.424, 0.576],\n",
       "       [0.982, 0.018],\n",
       "       [0.03 , 0.97 ],\n",
       "       [0.044, 0.956],\n",
       "       [0.017, 0.983],\n",
       "       [0.029, 0.971],\n",
       "       [0.911, 0.089],\n",
       "       [0.004, 0.996],\n",
       "       [0.128, 0.872],\n",
       "       [0.085, 0.915],\n",
       "       [0.81 , 0.19 ],\n",
       "       [0.003, 0.997],\n",
       "       [0.928, 0.072],\n",
       "       [0.97 , 0.03 ],\n",
       "       [0.104, 0.896],\n",
       "       [0.098, 0.902],\n",
       "       [0.006, 0.994],\n",
       "       [0.001, 0.999],\n",
       "       [0.967, 0.033],\n",
       "       [0.035, 0.965],\n",
       "       [0.993, 0.007],\n",
       "       [0.94 , 0.06 ],\n",
       "       [0.858, 0.142],\n",
       "       [0.985, 0.015],\n",
       "       [0.004, 0.996],\n",
       "       [0.988, 0.012],\n",
       "       [0.39 , 0.61 ],\n",
       "       [0.949, 0.051],\n",
       "       [0.921, 0.079],\n",
       "       [0.976, 0.024],\n",
       "       [0.919, 0.081],\n",
       "       [0.362, 0.638],\n",
       "       [0.006, 0.994],\n",
       "       [0.005, 0.995],\n",
       "       [0.009, 0.991],\n",
       "       [0.961, 0.039],\n",
       "       [0.94 , 0.06 ],\n",
       "       [0.841, 0.159],\n",
       "       [0.948, 0.052],\n",
       "       [0.016, 0.984],\n",
       "       [0.98 , 0.02 ],\n",
       "       [0.688, 0.312],\n",
       "       [0.003, 0.997],\n",
       "       [0.005, 0.995],\n",
       "       [0.967, 0.033],\n",
       "       [0.988, 0.012],\n",
       "       [0.97 , 0.03 ],\n",
       "       [0.985, 0.015],\n",
       "       [0.988, 0.012],\n",
       "       [0.983, 0.017],\n",
       "       [0.734, 0.266],\n",
       "       [0.683, 0.317],\n",
       "       [0.578, 0.422],\n",
       "       [0.001, 0.999],\n",
       "       [0.965, 0.035],\n",
       "       [0.979, 0.021],\n",
       "       [0.161, 0.839],\n",
       "       [0.534, 0.466],\n",
       "       [0.003, 0.997],\n",
       "       [0.956, 0.044],\n",
       "       [0.983, 0.017],\n",
       "       [0.966, 0.034],\n",
       "       [0.8  , 0.2  ],\n",
       "       [0.993, 0.007],\n",
       "       [0.946, 0.054],\n",
       "       [0.93 , 0.07 ],\n",
       "       [0.952, 0.048],\n",
       "       [0.964, 0.036],\n",
       "       [0.879, 0.121],\n",
       "       [0.614, 0.386],\n",
       "       [0.06 , 0.94 ],\n",
       "       [0.03 , 0.97 ],\n",
       "       [0.123, 0.877],\n",
       "       [0.835, 0.165],\n",
       "       [0.574, 0.426],\n",
       "       [0.901, 0.099],\n",
       "       [0.022, 0.978],\n",
       "       [0.018, 0.982],\n",
       "       [0.002, 0.998],\n",
       "       [0.988, 0.012],\n",
       "       [0.891, 0.109],\n",
       "       [0.272, 0.728],\n",
       "       [0.035, 0.965],\n",
       "       [0.848, 0.152],\n",
       "       [0.022, 0.978],\n",
       "       [0.987, 0.013],\n",
       "       [0.136, 0.864],\n",
       "       [0.975, 0.025],\n",
       "       [0.928, 0.072],\n",
       "       [0.014, 0.986],\n",
       "       [0.017, 0.983],\n",
       "       [0.083, 0.917],\n",
       "       [0.001, 0.999],\n",
       "       [0.878, 0.122],\n",
       "       [0.047, 0.953],\n",
       "       [0.989, 0.011],\n",
       "       [0.009, 0.991],\n",
       "       [0.987, 0.013],\n",
       "       [0.979, 0.021],\n",
       "       [0.925, 0.075],\n",
       "       [0.005, 0.995],\n",
       "       [0.944, 0.056],\n",
       "       [0.958, 0.042],\n",
       "       [0.614, 0.386],\n",
       "       [0.103, 0.897],\n",
       "       [0.965, 0.035],\n",
       "       [0.918, 0.082],\n",
       "       [0.981, 0.019],\n",
       "       [0.043, 0.957],\n",
       "       [0.054, 0.946],\n",
       "       [0.822, 0.178],\n",
       "       [0.977, 0.023],\n",
       "       [0.918, 0.082],\n",
       "       [0.315, 0.685],\n",
       "       [0.968, 0.032],\n",
       "       [0.007, 0.993],\n",
       "       [0.829, 0.171],\n",
       "       [0.495, 0.505],\n",
       "       [0.006, 0.994],\n",
       "       [0.862, 0.138]])"
      ]
     },
     "execution_count": 85,
     "metadata": {},
     "output_type": "execute_result"
    }
   ],
   "source": [
    "probs"
   ]
  },
  {
   "cell_type": "markdown",
   "metadata": {},
   "source": [
    "Vamos avaliar diferentes cutoffs..."
   ]
  },
  {
   "cell_type": "code",
   "execution_count": 88,
   "metadata": {
    "scrolled": false
   },
   "outputs": [
    {
     "name": "stdout",
     "output_type": "stream",
     "text": [
      "Coeficientes:\n",
      " [[-0.056  0.266 -0.    -0.027  0.002]]\n",
      "\n",
      "Intercept: [0.005]\n",
      "\n",
      "Classes: [0 1]\n",
      "\n",
      "###################################################\n",
      "\n",
      "Avaliação de modelos com diferentes valores de cutoff\n",
      "\n",
      "###################################################\n",
      "\n",
      "\n",
      " Cutoff: 0.2\n",
      "\n",
      "Matriz de confusão do modelo nos dados de teste:\n",
      "[[127  19]\n",
      " [ 13 141]]\n",
      "\n",
      "Classification report do modelo nos dados de teste:\n",
      "              precision    recall  f1-score   support\n",
      "\n",
      "           0       0.91      0.87      0.89       146\n",
      "           1       0.88      0.92      0.90       154\n",
      "\n",
      "    accuracy                           0.89       300\n",
      "   macro avg       0.89      0.89      0.89       300\n",
      "weighted avg       0.89      0.89      0.89       300\n",
      "\n",
      "\n",
      "##########################################################\n",
      "\n",
      "\n",
      " Cutoff: 0.3\n",
      "\n",
      "Matriz de confusão do modelo nos dados de teste:\n",
      "[[133  13]\n",
      " [ 17 137]]\n",
      "\n",
      "Classification report do modelo nos dados de teste:\n",
      "              precision    recall  f1-score   support\n",
      "\n",
      "           0       0.89      0.91      0.90       146\n",
      "           1       0.91      0.89      0.90       154\n",
      "\n",
      "    accuracy                           0.90       300\n",
      "   macro avg       0.90      0.90      0.90       300\n",
      "weighted avg       0.90      0.90      0.90       300\n",
      "\n",
      "\n",
      "##########################################################\n",
      "\n",
      "\n",
      " Cutoff: 0.4\n",
      "\n",
      "Matriz de confusão do modelo nos dados de teste:\n",
      "[[136  10]\n",
      " [ 23 131]]\n",
      "\n",
      "Classification report do modelo nos dados de teste:\n",
      "              precision    recall  f1-score   support\n",
      "\n",
      "           0       0.86      0.93      0.89       146\n",
      "           1       0.93      0.85      0.89       154\n",
      "\n",
      "    accuracy                           0.89       300\n",
      "   macro avg       0.89      0.89      0.89       300\n",
      "weighted avg       0.89      0.89      0.89       300\n",
      "\n",
      "\n",
      "##########################################################\n",
      "\n",
      "\n",
      " Cutoff: 0.5\n",
      "\n",
      "Matriz de confusão do modelo nos dados de teste:\n",
      "[[140   6]\n",
      " [ 25 129]]\n",
      "\n",
      "Classification report do modelo nos dados de teste:\n",
      "              precision    recall  f1-score   support\n",
      "\n",
      "           0       0.85      0.96      0.90       146\n",
      "           1       0.96      0.84      0.89       154\n",
      "\n",
      "    accuracy                           0.90       300\n",
      "   macro avg       0.90      0.90      0.90       300\n",
      "weighted avg       0.90      0.90      0.90       300\n",
      "\n",
      "\n",
      "##########################################################\n",
      "\n",
      "\n",
      " Cutoff: 0.6\n",
      "\n",
      "Matriz de confusão do modelo nos dados de teste:\n",
      "[[141   5]\n",
      " [ 34 120]]\n",
      "\n",
      "Classification report do modelo nos dados de teste:\n",
      "              precision    recall  f1-score   support\n",
      "\n",
      "           0       0.81      0.97      0.88       146\n",
      "           1       0.96      0.78      0.86       154\n",
      "\n",
      "    accuracy                           0.87       300\n",
      "   macro avg       0.88      0.87      0.87       300\n",
      "weighted avg       0.88      0.87      0.87       300\n",
      "\n",
      "\n",
      "##########################################################\n",
      "\n",
      "\n",
      " Cutoff: 0.7\n",
      "\n",
      "Matriz de confusão do modelo nos dados de teste:\n",
      "[[144   2]\n",
      " [ 38 116]]\n",
      "\n",
      "Classification report do modelo nos dados de teste:\n",
      "              precision    recall  f1-score   support\n",
      "\n",
      "           0       0.79      0.99      0.88       146\n",
      "           1       0.98      0.75      0.85       154\n",
      "\n",
      "    accuracy                           0.87       300\n",
      "   macro avg       0.89      0.87      0.87       300\n",
      "weighted avg       0.89      0.87      0.87       300\n",
      "\n",
      "\n",
      "##########################################################\n",
      "\n",
      "\n",
      " Cutoff: 0.8\n",
      "\n",
      "Matriz de confusão do modelo nos dados de teste:\n",
      "[[144   2]\n",
      " [ 42 112]]\n",
      "\n",
      "Classification report do modelo nos dados de teste:\n",
      "              precision    recall  f1-score   support\n",
      "\n",
      "           0       0.77      0.99      0.87       146\n",
      "           1       0.98      0.73      0.84       154\n",
      "\n",
      "    accuracy                           0.85       300\n",
      "   macro avg       0.88      0.86      0.85       300\n",
      "weighted avg       0.88      0.85      0.85       300\n",
      "\n",
      "\n",
      "##########################################################\n",
      "\n",
      "\n",
      " Cutoff: 0.9\n",
      "\n",
      "Matriz de confusão do modelo nos dados de teste:\n",
      "[[145   1]\n",
      " [ 57  97]]\n",
      "\n",
      "Classification report do modelo nos dados de teste:\n",
      "              precision    recall  f1-score   support\n",
      "\n",
      "           0       0.72      0.99      0.83       146\n",
      "           1       0.99      0.63      0.77       154\n",
      "\n",
      "    accuracy                           0.81       300\n",
      "   macro avg       0.85      0.81      0.80       300\n",
      "weighted avg       0.86      0.81      0.80       300\n",
      "\n",
      "\n",
      "##########################################################\n",
      "\n"
     ]
    }
   ],
   "source": [
    "# leia a base\n",
    "df = pd.read_csv(\"../datasets/advertising.csv\")\n",
    "\n",
    "# apenas as features numericas\n",
    "df = df.select_dtypes(include=[np.number])\n",
    "\n",
    "# separe as features e o target\n",
    "X = df.drop(columns = 'Clicked on Ad')\n",
    "y = df['Clicked on Ad']\n",
    "\n",
    "# 1) importe a classe do classificador\n",
    "from sklearn.linear_model import LogisticRegression\n",
    "\n",
    "# 2) instancie a classe\n",
    "estimador = LogisticRegression()\n",
    "\n",
    "# 3) faça o train-test split\n",
    "from sklearn.model_selection import train_test_split\n",
    "X_train, X_test, y_train, y_test = train_test_split(X, y, test_size=0.3, random_state=42)\n",
    "    \n",
    "# 4) treine o modelo\n",
    "modelo = estimador.fit(X_train, y_train)\n",
    "\n",
    "# dê uma olhada nos coeficientes\n",
    "print(\"Coeficientes:\\n\", modelo.coef_)\n",
    "print(\"\\nIntercept:\", modelo.intercept_)\n",
    "\n",
    "# dê uma olhada nas classes do modelo\n",
    "classes =  modelo.classes_\n",
    "print(\"\\nClasses:\", classes)\n",
    "\n",
    "# 5) probabilidades das previsões\n",
    "probs = modelo.predict_proba(X_test)\n",
    "\n",
    "# probabilidade de pertencimento à classe 1\n",
    "probs_1 = probs[:, 1]\n",
    "\n",
    "# avaliação  do modelo\n",
    "from sklearn.metrics import classification_report, confusion_matrix\n",
    "\n",
    "threshold_list = [0.2, 0.3, 0.4, 0.5, 0.6, 0.7, 0.8, 0.9]\n",
    "\n",
    "print(\"\\n###################################################\\n\")\n",
    "print(\"Avaliação de modelos com diferentes valores de cutoff\")\n",
    "print(\"\\n###################################################\\n\")\n",
    "\n",
    "for threshold in threshold_list:\n",
    "    \n",
    "    print(\"\\n Cutoff:\", threshold)\n",
    "    \n",
    "    # previsões\n",
    "    y_pred = np.where(probs_1 > threshold, 1, 0)\n",
    "\n",
    "    print(\"\\nMatriz de confusão do modelo nos dados de teste:\")\n",
    "    print(confusion_matrix(y_test, y_pred))\n",
    "\n",
    "    print(\"\\nClassification report do modelo nos dados de teste:\")\n",
    "    print(classification_report(y_test, y_pred))\n",
    "    \n",
    "    print(\"\\n##########################################################\\n\")"
   ]
  },
  {
   "cell_type": "markdown",
   "metadata": {},
   "source": [
    "________\n",
    "\n",
    "### Curva ROC e AUC-ROC (AUROC)\n",
    "\n",
    "Veremos agora uma outra métrica de avaliação de modelos de classificação que é intimamente ligada com os diferentes thresholds possíveis -- a **AUC (Area Under The Curve) da curva ROC (Receiver Operating Characteristics)**, por vezes chamada de **AUROC (Area Under the Receiver Operating Characteristics)**\n",
    "\n",
    "A curva **ROC é uma curva de probabilidade**, sendo que **AUC é a área sob a curva**, representando **o grau de separabilidade atingido pelo modelo**.\n",
    "\n",
    "Ou seja, esta medida nos diz **o quanto o modelo é capaz de distinguir entre duas classes**.\n",
    "\n",
    "A curva ROC é construída com a **taxa de falsos positivos** no eixo x, e a **taxa de verdadeiros positivos** no eixo y, para diferentes **thresholds de classificação**:\n",
    "\n",
    "<img src=\"https://miro.medium.com/max/1175/1*2nd7NTEBosPakccmLVWy9A.png\" width=500>\n",
    "\n",
    "O valor do AUC-ROC sempre estará **entre 0 e 1**, sendo que **quanto mais próximo de 1, melhor o modelo**.\n",
    "\n",
    "> Valores de AUC-ROC maiores que 0.5 (mais próximos de 1) significam que o modelo tem uma **taxa de veridadeiros positivos maior que a taxa de falsos positivos**, ou seja, o modelo está acertando mais!\n",
    "\n",
    "Quanto **mais próximo de 0** (para valores abaixo de 0.5), teremos um modelo que faz um bom trabalho em separar as classes, mas as classifica erroneamente.\n",
    "\n",
    "E, quanto **mas próximo de 0.5**, pior é o modelo em separar as classes: seria um modelo que simplesmente chuta aleatoriamente ora a classe 0, ora a classe 1. Veja as imagens a seguir para uma ilustração:\n",
    "\n",
    "<img src=\"https://miro.medium.com/max/528/1*Uu-t4pOotRQFoyrfqEvIEg.png\" width=500>\n",
    "\n",
    "\n",
    "<img src=\"https://miro.medium.com/max/507/1*yF8hvKR9eNfqqej2JnVKzg.png\" width=500>\n",
    "\n",
    "\n",
    "<img src=\"https://miro.medium.com/max/430/1*iLW_BrJZRI0UZSflfMrmZQ.png\" width=500>\n",
    "\n",
    "\n",
    "<img src=\"https://miro.medium.com/max/556/1*aUZ7H-Lw74KSucoLlj1pgw.png\" width=500>\n",
    "\n",
    "Ao olhar para a curva em si, temos a seguinte interpretação:\n",
    "\n",
    "<img src=\"https://i.ytimg.com/vi/J9l8J1MeCbY/hqdefault.jpg\" width=400>\n",
    "\n",
    "Para aprender mais sobre a construção da curva ROC, sugiro [este StatQuest!](https://www.youtube.com/watch?v=4jRBRDbJemM)"
   ]
  },
  {
   "cell_type": "code",
   "execution_count": 94,
   "metadata": {},
   "outputs": [
    {
     "data": {
      "text/plain": [
       "0.9559242127735279"
      ]
     },
     "execution_count": 94,
     "metadata": {},
     "output_type": "execute_result"
    }
   ],
   "source": [
    "from sklearn.metrics import roc_auc_score\n",
    "\n",
    "y_pred = modelo.predict(X_test)\n",
    "probs =  modelo.predict_proba(X_test)\n",
    "\n",
    "roc_auc_score(y_test, probs[:, 1])"
   ]
  },
  {
   "cell_type": "code",
   "execution_count": 95,
   "metadata": {},
   "outputs": [
    {
     "data": {
      "text/plain": [
       "array([0.494, 0.997, 0.95 , 0.99 , 0.03 , 0.285, 0.023, 0.991, 0.309,\n",
       "       0.948, 0.019, 0.909, 0.997, 0.024, 0.918, 0.994, 0.999, 0.968,\n",
       "       0.093, 0.99 , 0.093, 0.987, 0.994, 0.015, 0.02 , 0.995, 0.009,\n",
       "       0.015, 0.991, 0.731, 0.017, 0.669, 0.036, 0.857, 0.998, 0.071,\n",
       "       0.025, 0.111, 0.865, 0.98 , 0.014, 0.919, 0.024, 0.984, 0.012,\n",
       "       0.101, 0.992, 0.998, 0.024, 0.997, 0.981, 0.008, 0.884, 0.012,\n",
       "       0.112, 0.067, 0.136, 0.998, 0.025, 0.961, 0.077, 0.991, 0.109,\n",
       "       0.972, 0.878, 0.974, 0.999, 0.064, 0.705, 0.951, 0.973, 0.501,\n",
       "       0.128, 0.051, 0.841, 0.064, 0.035, 0.965, 0.491, 0.065, 0.99 ,\n",
       "       0.966, 0.577, 0.552, 0.075, 0.04 , 0.02 , 0.006, 0.084, 0.039,\n",
       "       0.088, 0.218, 0.068, 0.903, 0.222, 0.032, 0.999, 0.893, 0.098,\n",
       "       0.029, 0.917, 0.009, 0.992, 0.033, 0.996, 0.507, 0.867, 0.398,\n",
       "       0.986, 0.045, 0.998, 0.057, 0.959, 0.996, 0.188, 0.522, 0.024,\n",
       "       0.147, 0.043, 0.46 , 0.902, 0.968, 0.999, 0.025, 0.23 , 0.027,\n",
       "       0.529, 0.029, 0.244, 0.563, 0.973, 0.998, 0.958, 0.048, 0.249,\n",
       "       0.096, 0.036, 0.091, 0.026, 0.864, 0.012, 0.376, 0.917, 0.216,\n",
       "       0.009, 0.974, 0.635, 0.029, 0.02 , 0.249, 0.017, 0.017, 0.756,\n",
       "       0.026, 0.974, 0.052, 0.998, 0.01 , 0.032, 0.178, 0.845, 0.988,\n",
       "       0.018, 0.376, 0.882, 0.109, 0.038, 0.017, 0.235, 0.079, 0.968,\n",
       "       0.322, 0.998, 0.025, 0.625, 0.654, 0.994, 0.525, 0.998, 0.901,\n",
       "       0.576, 0.018, 0.97 , 0.956, 0.983, 0.971, 0.089, 0.996, 0.872,\n",
       "       0.915, 0.19 , 0.997, 0.072, 0.03 , 0.896, 0.902, 0.994, 0.999,\n",
       "       0.033, 0.965, 0.007, 0.06 , 0.142, 0.015, 0.996, 0.012, 0.61 ,\n",
       "       0.051, 0.079, 0.024, 0.081, 0.638, 0.994, 0.995, 0.991, 0.039,\n",
       "       0.06 , 0.159, 0.052, 0.984, 0.02 , 0.312, 0.997, 0.995, 0.033,\n",
       "       0.012, 0.03 , 0.015, 0.012, 0.017, 0.266, 0.317, 0.422, 0.999,\n",
       "       0.035, 0.021, 0.839, 0.466, 0.997, 0.044, 0.017, 0.034, 0.2  ,\n",
       "       0.007, 0.054, 0.07 , 0.048, 0.036, 0.121, 0.386, 0.94 , 0.97 ,\n",
       "       0.877, 0.165, 0.426, 0.099, 0.978, 0.982, 0.998, 0.012, 0.109,\n",
       "       0.728, 0.965, 0.152, 0.978, 0.013, 0.864, 0.025, 0.072, 0.986,\n",
       "       0.983, 0.917, 0.999, 0.122, 0.953, 0.011, 0.991, 0.013, 0.021,\n",
       "       0.075, 0.995, 0.056, 0.042, 0.386, 0.897, 0.035, 0.082, 0.019,\n",
       "       0.957, 0.946, 0.178, 0.023, 0.082, 0.685, 0.032, 0.993, 0.171,\n",
       "       0.505, 0.994, 0.138])"
      ]
     },
     "execution_count": 95,
     "metadata": {},
     "output_type": "execute_result"
    }
   ],
   "source": [
    " probs[:, 1]"
   ]
  },
  {
   "cell_type": "code",
   "execution_count": 91,
   "metadata": {},
   "outputs": [
    {
     "data": {
      "text/plain": [
       "<sklearn.metrics._plot.roc_curve.RocCurveDisplay at 0x21125c33f10>"
      ]
     },
     "execution_count": 91,
     "metadata": {},
     "output_type": "execute_result"
    },
    {
     "data": {
      "image/png": "[encoded data removed]",
      "text/plain": [
       "<Figure size 432x288 with 1 Axes>"
      ]
     },
     "metadata": {
      "needs_background": "light"
     },
     "output_type": "display_data"
    }
   ],
   "source": [
    "from sklearn.metrics import plot_roc_curve\n",
    "\n",
    "plot_roc_curve(modelo, X_test, y_test) "
   ]
  },
  {
   "cell_type": "markdown",
   "metadata": {},
   "source": [
    "___\n",
    "___\n",
    "___"
   ]
  },
  {
   "cell_type": "markdown",
   "metadata": {},
   "source": [
    "### E se tivermos uma classificação multiclasse?\n",
    "\n",
    "Há problemas em que temos um problema de **classificação multiclasse**, pois há mais do que duas classes a serem preditas.\n",
    "\n",
    "<img src=\"https://utkuufuk.com/2018/06/03/one-vs-all-classification/one-vs-all.png\">\n",
    "\n",
    "Boa noitícia: o operacional de construção e avaliação do modelo com o sklearn muda em absolutamente **nada**.\n",
    "\n",
    "No entanto, conceitualmente, há algumas mudanças: a rigor, o modelo passa a se chamar **regresão logística MULTINOMIAL**, cujo processo de classificação é dado pela função **softmax**:\n",
    "\n",
    "<img src=\"https://i.stack.imgur.com/YLeRi.png\" width=600>"
   ]
  },
  {
   "cell_type": "markdown",
   "metadata": {},
   "source": [
    "Para quem quiser saber mais sobre o \"logit score\", [clique aqui](https://stats.stackexchange.com/questions/329857/what-is-the-difference-between-decision-function-predict-proba-and-predict-fun).\n",
    "\n",
    "Essencialmente, esse é o valor do termo linear usado como argumento da sigmoide, isto é, $z(x) = \\beta_0 + \\beta_1 x_1 + \\cdots + \\beta_p x_p$"
   ]
  },
  {
   "cell_type": "code",
   "execution_count": 96,
   "metadata": {},
   "outputs": [
    {
     "data": {
      "text/plain": [
       "0.3333333333333333"
      ]
     },
     "execution_count": 96,
     "metadata": {},
     "output_type": "execute_result"
    }
   ],
   "source": [
    "1/3"
   ]
  },
  {
   "cell_type": "code",
   "execution_count": null,
   "metadata": {},
   "outputs": [],
   "source": []
  }
 ],
 "metadata": {
  "kernelspec": {
   "display_name": "Python 3",
   "language": "python",
   "name": "python3"
  },
  "language_info": {
   "codemirror_mode": {
    "name": "ipython",
    "version": 3
   },
   "file_extension": ".py",
   "mimetype": "text/x-python",
   "name": "python",
   "nbconvert_exporter": "python",
   "pygments_lexer": "ipython3",
   "version": "3.8.3"
  },
  "toc": {
   "base_numbering": 1,
   "nav_menu": {
    "height": "249.667px",
    "width": "359.667px"
   },
   "number_sections": true,
   "sideBar": true,
   "skip_h1_title": false,
   "title_cell": "Table of Contents",
   "title_sidebar": "Contents",
   "toc_cell": false,
   "toc_position": {},
   "toc_section_display": true,
   "toc_window_display": false
  },
  "varInspector": {
   "cols": {
    "lenName": 16,
    "lenType": 16,
    "lenVar": 40
   },
   "kernels_config": {
    "python": {
     "delete_cmd_postfix": "",
     "delete_cmd_prefix": "del ",
     "library": "var_list.py",
     "varRefreshCmd": "print(var_dic_list())"
    },
    "r": {
     "delete_cmd_postfix": ") ",
     "delete_cmd_prefix": "rm(",
     "library": "var_list.r",
     "varRefreshCmd": "cat(var_dic_list()) "
    }
   },
   "types_to_exclude": [
    "module",
    "function",
    "builtin_function_or_method",
    "instance",
    "_Feature"
   ],
   "window_display": false
  }
 },
 "nbformat": 4,
 "nbformat_minor": 2
}
