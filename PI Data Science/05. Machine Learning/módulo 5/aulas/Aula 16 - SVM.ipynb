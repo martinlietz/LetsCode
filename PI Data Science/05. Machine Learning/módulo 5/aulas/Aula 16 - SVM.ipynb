{
 "cells": [
  {
   "cell_type": "markdown",
   "metadata": {},
   "source": [
    "# Aula 16 - SVM\n",
    "\n",
    "Na aula de hoje, vamos explorar os seguintes tópicos em Python:\n",
    "\n",
    "- 1) Introdução\n",
    "- 2) Classificadores de margem\n",
    "- 3) Support Vector Machines\n",
    "- 4) Funções de kernel\n",
    "- 5) SVM na prática com o sklearn\n",
    "- 6) SVM para regressão "
   ]
  },
  {
   "cell_type": "code",
   "execution_count": 1,
   "metadata": {
    "ExecuteTime": {
     "end_time": "2021-10-02T20:32:53.382291Z",
     "start_time": "2021-10-02T20:32:47.697875Z"
    }
   },
   "outputs": [],
   "source": [
    "import numpy as np\n",
    "import pandas as pd\n",
    "\n",
    "import matplotlib.pyplot as plt\n",
    "import seaborn as sns"
   ]
  },
  {
   "cell_type": "markdown",
   "metadata": {},
   "source": [
    "____\n",
    "____\n",
    "____"
   ]
  },
  {
   "cell_type": "markdown",
   "metadata": {},
   "source": [
    "## 1) Introdução\n",
    "\n",
    "Na aula de hoje, falaremos sobre um dos mais interessantes métodos de aprendizagm supervisionada: **SVM** (**S**upport **V**ector **M**achines).\n",
    "\n",
    "Este método tem uma construção extremamente elegante e robusta, que, apesar de complexa, pode ser entendida em termos geométricos simples. Nesta aula, vamos explorar os principais aspectos desta construção, em uma apresentação mais alto-nível, sem nos preocuparmos demais com os detalhes matemáticos.\n",
    "\n",
    "Um ponto importantíssimo sobre SVMs, que é o que de fato lhes confere poder tão elevado, é sua **capacidade de produzir uma hipótese simples, a partir de um conjunto de hipóteses complexo**, o que tem consequências diretas na **capacidade de generalização** de modelos SVM: eles são capazes de generalizar muito bem, apesar das hipóteses produzidas parecerem altamente complexas, o que é algo formidável!\n",
    "\n",
    "Não entraremos nos detalhes matemáticos que justificam e provam os pontos acima. Mas, para quem tiver interesse, quase todo livro-texto de machine learning aborda estas questões. Recomendo, em particular, [este livro](https://www.google.com.br/books/edition/Learning_with_Kernels/7r34DwAAQBAJ?hl=pt-BR&gbpv=1&dq=learning+with+kernels&printsec=frontcover), que detalha extensivamente SVM e métodos relacionados; ou então [este livro](https://cs.nyu.edu/~mohri/mlbook/), que aborda formalmente a teoria de aprendizagem, eventualmente culminando no enorme sucesso de SVMs. Por fim, aproveito também pra recomendar [este curso](https://work.caltech.edu/index.html) do Caltech, onde os tópicos abordados no livro do Mohri são apresentados de maneira clara, direta, e muito ilustrativa. Esta é minha maior recomendação para quem tem interesse em iniciar os estudos em teoria de aprendizagem estatística, e então ter todo o fundamento rigoroso pra entender porque SVMs são tão interessantes!\n",
    "\n",
    "Agora, vamos iniciar nossa exposição, introduzindo um conceito fundamental para SVMs: a **margem**, e os chamados **classificadores de margem**."
   ]
  },
  {
   "cell_type": "markdown",
   "metadata": {},
   "source": [
    "____\n",
    "____\n",
    "____"
   ]
  },
  {
   "cell_type": "markdown",
   "metadata": {},
   "source": [
    "## 2) Classificadores de margem\n",
    "\n",
    "Considere o seguinte dataset supervisionado de um problema de classificação binário:\n",
    "\n",
    "<img src=https://s3-sa-east-1.amazonaws.com/lcpi/d8d83e07-66d8-47c6-a5e4-4a3e232481e2.PNG width=400>\n",
    "\n",
    "É visível que os dados são linearmente separáveis. De fato, existem infinitas retas possíveis que separam perfeitamente as duas classes. Alguns exemplos:\n",
    "\n",
    "<img src=https://s3-sa-east-1.amazonaws.com/lcpi/bbf3d0a6-4707-471b-9f19-7290c13e4f23.PNG width=400>\n",
    "\n",
    "Vamos olhar separadamente para cada um destes três modelos:\n",
    "\n",
    "<img src=https://s3-sa-east-1.amazonaws.com/lcpi/6c0bea51-dda9-400c-bb68-d7396e4fa606.PNG width=850>\n",
    "\n",
    "Apesar de ambos separarem perfeitamente os dados de treino (erro de treino é nulo!), podemos nos perguntar: qual deles tem potencial de apresentar **melhor generalização?**\n",
    "\n",
    "Para refletirmos sobre isso, considere que queremos classificar o ponto de teste indicado em preto:\n",
    "\n",
    "<img src=https://s3-sa-east-1.amazonaws.com/lcpi/fbed2deb-bb38-4ef5-8558-99b7aff5c7b7.PNG width=850>\n",
    "\n",
    "É super razoável que este ponto seja classificado como sendo da classe vermelha, não é mesmo? No entanto, o primeiro classificador irá classificá-lo como pertencente à classe azul."
   ]
  },
  {
   "cell_type": "markdown",
   "metadata": {},
   "source": [
    "Podemos nos perguntar: por que isso acontece?\n",
    "\n",
    "Intuitivamente, é possível dizer que a fronteira de decisão do primeiro modelo está \"**muito próxima**\" dos pontos da classe vermelha, não é? \n",
    "\n",
    "Mas, se estamos avaliando a **fronteira de decisão**, é razoável que nos importemos, na realidade, com a proximidade entre ela **e os \"pontos mais externos\"** da respectiva classe, não é mesmo? Afinal, intuitivamente, estes são os pontos que exercem maior influência sobre a fornteira de decisão, justo?\n",
    "\n",
    "É aqui que entra o conceito de **margem**:\n",
    "\n",
    "> Chamamos de **margem** a **menor distância** entre os pontos de treino e a fronteira de decisão\n",
    "\n",
    "A seguir, visualizamos as margens associadas a cada um dos três modelos:\n",
    "\n",
    "<img src=https://s3-sa-east-1.amazonaws.com/lcpi/72f191fc-7bc0-4451-923a-ecb939e88111.PNG width=900>"
   ]
  },
  {
   "cell_type": "markdown",
   "metadata": {},
   "source": [
    "Dada a definição de margem, fica claro que o terceiro modelo seria nossa melhor opção, pois ele **apresenta maior margem**. De fato, intuitivamente, um classificador que apresenta maior margem, terá melhores chances de generalização!\n",
    "\n",
    "> Chamamos de **classificador de margem máxima** um classificador **linear** que é construído de modo que a margem seja maximizada."
   ]
  },
  {
   "cell_type": "markdown",
   "metadata": {},
   "source": [
    "No entanto, a intuição de que um classificador de margem máxima sempre será nossa melhor opção não é 100% correta... Considere o dataset a seguir, bem parecido com o dataset original, mas contendo um outlier da classe vermelha:\n",
    "\n",
    "<img src=https://s3-sa-east-1.amazonaws.com/lcpi/79154075-f167-4c46-b361-e1febbaa4d83.PNG width=400>\n",
    "\n",
    "Devido a este outlier, até mesmo o classificador de margem máxima terá uma generalização ruim, pois mesmo a margem máxima é extremamente estreita, o que aumenta a variância do modelo (alto overfitting):\n",
    "\n",
    "<img src=https://s3-sa-east-1.amazonaws.com/lcpi/da32de74-064a-43a7-98cc-366a348fe275.PNG width=400>\n",
    "\n"
   ]
  },
  {
   "cell_type": "markdown",
   "metadata": {},
   "source": [
    "E pode ser que problemas ainda mais graves ocorram, caso outliers ainda mais \"extremos\" existam, como no caso do dataset a seguir:\n",
    "\n",
    "<img src=https://s3-sa-east-1.amazonaws.com/lcpi/7be60cd3-e7f8-46bd-85bc-73ec1d4b0bb5.PNG width=400>\n",
    "\n",
    "Neste caso, nós não temos mais separabilidade linear, de modo que a construção de um classificador de margem máxima não é mais possível.\n",
    "\n",
    "Como resolver este problema?\n",
    "\n",
    "Com a introdução do **classificador de margem suave (*soft margin classifier*)**!"
   ]
  },
  {
   "cell_type": "markdown",
   "metadata": {},
   "source": [
    "### Classificador de margem suave\n",
    "\n",
    "Um classificador de margem suave é obtido com uma modificação extremamente simples com relação ao classificador de margem máxima: a permissão de que **erros de classificação** sejam cometidos na base de treino! Uma possível solução seria algo assim:\n",
    "\n",
    "<img src=https://s3-sa-east-1.amazonaws.com/lcpi/cfacd48d-9713-4bec-9fd7-ea1b4ae380f5.PNG width=400>\n",
    "\n",
    "Neste caso, temos duas observações incorretas dentro da margem - e está tudo bem, pois dados que estas observações são outliers, não precisamos mos preocupar em ajustar a margem a elas!\n",
    "\n",
    "Com isso, temos um modelo com um viés um pouco maior, mas com variância bem menor - caminhamos na direção do **sweet spot** de generalização!!\n",
    "\n",
    "Note, portanto, que a introdução de uma margem suave pode ser visto como **um procedimento de regularização** aplicado ao classificador de margem! E é exatamente assim que veremos este procedimento quando chegarmos em SVM - um procedimento de regularização!\n",
    "\n",
    "> Um classificador de margem suave é também chamado de **classificador de vetores de suporte (*support vector classifier*)**, sendo que os pontos que \"apoiam\" a margem são justamente os chamados **vetores de suporte (*support vectors*)**."
   ]
  },
  {
   "cell_type": "markdown",
   "metadata": {},
   "source": [
    "Estamos chegando perto das SVMs!\n",
    "\n",
    "Mas, antes de chegarmos lá, é importante frisarmos um ponto fundamental:\n",
    "\n",
    "> A **fronteira de decisão** de um classificador de margem suave (de vetores de suporte) é **linear** no espaço de features em que o classificador é treinado, ou seja, a hipótese treinada (isto é, a superfície de decisão) será **um hiperplano** de dimensão $D-1$, onde $D$ é a dimensão do espaço de features\n",
    "\n",
    "Vamos entender melhor o comentário acima com alguns exemplos:"
   ]
  },
  {
   "cell_type": "markdown",
   "metadata": {},
   "source": [
    "### $D=2$\n",
    "\n",
    "Se temos uma duas features$(X_1, X_2)$, teremos um **hiperplano $1-$dimensional**, que nada mais é que **uma reta** como fronteira de decisão:\n",
    "\n",
    "<img src=https://s3-sa-east-1.amazonaws.com/lcpi/6ca9b6d4-90fb-4d92-8a73-42ecec09d562.PNG width=400>"
   ]
  },
  {
   "cell_type": "markdown",
   "metadata": {},
   "source": [
    "### $D=3$\n",
    "\n",
    "Se temos uma três features$(X_1, X_2, X_3)$, teremos um **hiperplano $2-$dimensional**, que nada mais é que **um plano** como fronteira de decisão:\n",
    "\n",
    "<img src=https://s3-sa-east-1.amazonaws.com/lcpi/b91951b3-9256-4a38-abd6-287811332db8.PNG width=400>"
   ]
  },
  {
   "cell_type": "markdown",
   "metadata": {},
   "source": [
    "### $D=1$\n",
    "\n",
    "Se temos uma única feature $(X)$, teremos um **hiperplano $0-$dimensional**, que nada mais é que **um ponto** como fronteira de decisão:\n",
    "\n",
    "<img src=https://s3-sa-east-1.amazonaws.com/lcpi/000d5eb5-25e7-485b-bf36-6ad944970e27.PNG width=400>"
   ]
  },
  {
   "cell_type": "markdown",
   "metadata": {},
   "source": [
    "Para dimensões maiores, $D > 3$, não conseguimos mais visualizar a fronteira de decisão, mas, se qualquer forma, ela será linear (por isso, um hiper**plano**!).\n",
    "\n",
    "Agora estamos prontos para introduzir as tão aguardadas **Support Vector Machines!**"
   ]
  },
  {
   "cell_type": "markdown",
   "metadata": {},
   "source": [
    "____\n",
    "____\n",
    "____"
   ]
  },
  {
   "cell_type": "markdown",
   "metadata": {},
   "source": [
    "## 3) Support Vector Machines\n",
    "\n",
    "Imagine que temos o seguinte dataset (com uma única dimensão):\n",
    "\n",
    "<img src=https://s3-sa-east-1.amazonaws.com/lcpi/e00c77e0-14fb-472f-b9ae-f6af7b229ad5.PNG width=400>\n",
    "\n",
    "É evidente que este dataset **não é linearmente separável**! Portanto, não conseguimos produzir um classificador de vetores de suporte para este dataset **no espaço de features original**.\n",
    "\n",
    "Mas, aí entra uma ideia muito interessante: e se nós **levarmos os dados para um ou outro espaço?**\n",
    "\n",
    "Seria possível que no espaço original os dados não sejam linearmente separáveis, mas **o sejam** em algum outro espaço?\n",
    "\n",
    "Bom, a priori, vamos tentar algo bem simples... Que tal introduzirmos **uma nova feature** $X_2 = X_1^2$? O que aconteceria neste caso?\n",
    "\n",
    "De fato, ao **introduzirmos** uma nova feature, estamos fazendo com que **cada observação passe a ser caracterizada por duas features ao invés de uma única**!\n",
    "\n",
    "Ou seja, nosso espaço de features efetivamente muda de $\\mathbb{R}^1$ para $\\mathbb{R}^2$! Veja:\n",
    "\n",
    "<img src=https://s3-sa-east-1.amazonaws.com/lcpi/8d5e6199-8a33-45cf-9e4f-c6507024fb36.PNG width=800>\n",
    "\n",
    "O procedimento que fizemos é chamado de **feature map**, e ele é matematicamente representado pelo mapa (função) $\\Phi$. \n",
    "\n",
    "> Como $\\Phi$ leva observações do espaço original ($1$D, uma única feature $X_1$, para vetores do novo espaço ($2$D, duas features, $X_1$ e $X_2$), o denotamos como: \n",
    "$$\\begin{align*}\n",
    "\\Phi \\ \\colon \\ & \\mathbb{R}^1 \\longrightarrow \\mathbb{R}^2 \\\\\n",
    "& \\vec{x} = X_1 \\longmapsto \\Phi(\\vec{x}) = (X_1, X_2)\n",
    "\\end{align*}$$\n",
    "\n",
    "Note que no caso ilustrado acima, temos $X_2 = X_1^2$, isto é, $\\Phi(\\vec{x}) = (X_1, X_1^2)$.\n",
    "\n",
    "Então, apesar do nome assustador, o feature map é algo que já estávamos acostumados a fazer, quando usamos o [PolynomialFeatures](https://scikit-learn.org/stable/modules/generated/sklearn.preprocessing.PolynomialFeatures.html), lembra? :)"
   ]
  },
  {
   "cell_type": "markdown",
   "metadata": {},
   "source": [
    "Um pouco mais de terminologia:\n",
    "\n",
    "> O \"espaço original\" é comumente chamado de **espaço de input** (representaremos por $\\mathcal{X}$); enquanto o espaço após a aplicação do feature map é chamado de **espaço de features (representaremos por $\\mathcal{Z}$)**\n",
    "\n",
    "<img src=https://miro.medium.com/max/872/1*zWzeMGyCc7KvGD9X8lwlnQ.png width=400>\n",
    "\n",
    "Também é comum se referir ao espaço de features como **espaço z**, devido à comum notação $\\Phi(\\vec{x}) \\equiv \\vec{z}$. Neste caso, teríamos:\n",
    "\n",
    "$$\\begin{align*}\n",
    "\\Phi \\ \\colon \\ & \\mathbb{R}^1 \\longrightarrow \\mathbb{R}^2 \\\\\n",
    "& \\vec{x} = X_1 \\longmapsto \\Phi(\\vec{x}) = \\vec{z} = (Z_1, Z_2)\n",
    "\\end{align*}$$\n",
    "\n",
    "Onde, no nosso caso, temos simplesmente $Z_1 = X_1$ e $Z_2 = X_1^2$.\n",
    "\n",
    "De maneira genérica, definimos o feature map como:\n",
    "\n",
    "$$\\boxed{\\begin{align*}\n",
    "\\Phi \\ \\colon \\ \\mathcal{X} & \\longrightarrow \\mathcal{Z} \\\\\n",
    "\\vec{x} & \\longmapsto \\vec{z} = \\Phi(\\vec{x})\n",
    "\\end{align*}}$$\n",
    "\n",
    "Onde os espaços de input e de features são definidos adequadamente."
   ]
  },
  {
   "cell_type": "markdown",
   "metadata": {},
   "source": [
    "Uma vez que temos estas definições, podemos perceber a real utilidade do feature map: **os dados não eram linearmente separáveis no espaço de input, mas passaram a ser no espaço de features!**\n",
    "\n",
    "Isso é realmente formidável, pois, se temos dados linearmente separáveis, podemos **treinar um classificador de margem suave** no espaço de features!\n",
    "\n",
    "Isso pode parecer estranho, pois, afinal, gostaríamos de separar os dados no espaço original, não é mesmo?\n",
    "\n",
    "Na verdade, nosso objetivo é que os dados sejam separados, **não importa em que espaço**! Se conseguirmos encontrar um espaço onde há separabilidade através da aplicação de um feature map, bastaria **aplicar o mesmo feature map** aos dados de treino e de teste, e a separabilidade sempre estará garantida!\n",
    "\n",
    "Muito legal, não é mesmo?"
   ]
  },
  {
   "cell_type": "markdown",
   "metadata": {},
   "source": [
    "Vamos gerar alguns dados pra ver isto funcionando na prática:"
   ]
  },
  {
   "cell_type": "code",
   "execution_count": 2,
   "metadata": {
    "ExecuteTime": {
     "end_time": "2021-10-02T20:32:53.459290Z",
     "start_time": "2021-10-02T20:32:53.385290Z"
    },
    "scrolled": true
   },
   "outputs": [
    {
     "data": {
      "text/html": [
       "<div>\n",
       "<style scoped>\n",
       "    .dataframe tbody tr th:only-of-type {\n",
       "        vertical-align: middle;\n",
       "    }\n",
       "\n",
       "    .dataframe tbody tr th {\n",
       "        vertical-align: top;\n",
       "    }\n",
       "\n",
       "    .dataframe thead th {\n",
       "        text-align: right;\n",
       "    }\n",
       "</style>\n",
       "<table border=\"1\" class=\"dataframe\">\n",
       "  <thead>\n",
       "    <tr style=\"text-align: right;\">\n",
       "      <th></th>\n",
       "      <th>x_1</th>\n",
       "      <th>y</th>\n",
       "    </tr>\n",
       "  </thead>\n",
       "  <tbody>\n",
       "    <tr>\n",
       "      <th>0</th>\n",
       "      <td>0.496714</td>\n",
       "      <td>0</td>\n",
       "    </tr>\n",
       "    <tr>\n",
       "      <th>1</th>\n",
       "      <td>-0.138264</td>\n",
       "      <td>0</td>\n",
       "    </tr>\n",
       "    <tr>\n",
       "      <th>2</th>\n",
       "      <td>0.647689</td>\n",
       "      <td>0</td>\n",
       "    </tr>\n",
       "    <tr>\n",
       "      <th>3</th>\n",
       "      <td>1.523030</td>\n",
       "      <td>1</td>\n",
       "    </tr>\n",
       "    <tr>\n",
       "      <th>4</th>\n",
       "      <td>-0.234153</td>\n",
       "      <td>0</td>\n",
       "    </tr>\n",
       "    <tr>\n",
       "      <th>5</th>\n",
       "      <td>-0.234137</td>\n",
       "      <td>0</td>\n",
       "    </tr>\n",
       "    <tr>\n",
       "      <th>6</th>\n",
       "      <td>1.579213</td>\n",
       "      <td>1</td>\n",
       "    </tr>\n",
       "    <tr>\n",
       "      <th>7</th>\n",
       "      <td>0.767435</td>\n",
       "      <td>0</td>\n",
       "    </tr>\n",
       "    <tr>\n",
       "      <th>8</th>\n",
       "      <td>-0.469474</td>\n",
       "      <td>0</td>\n",
       "    </tr>\n",
       "    <tr>\n",
       "      <th>9</th>\n",
       "      <td>0.542560</td>\n",
       "      <td>0</td>\n",
       "    </tr>\n",
       "    <tr>\n",
       "      <th>10</th>\n",
       "      <td>-0.463418</td>\n",
       "      <td>0</td>\n",
       "    </tr>\n",
       "    <tr>\n",
       "      <th>11</th>\n",
       "      <td>-0.465730</td>\n",
       "      <td>0</td>\n",
       "    </tr>\n",
       "    <tr>\n",
       "      <th>12</th>\n",
       "      <td>0.241962</td>\n",
       "      <td>0</td>\n",
       "    </tr>\n",
       "    <tr>\n",
       "      <th>13</th>\n",
       "      <td>-1.913280</td>\n",
       "      <td>1</td>\n",
       "    </tr>\n",
       "    <tr>\n",
       "      <th>14</th>\n",
       "      <td>-1.724918</td>\n",
       "      <td>1</td>\n",
       "    </tr>\n",
       "    <tr>\n",
       "      <th>15</th>\n",
       "      <td>-0.562288</td>\n",
       "      <td>0</td>\n",
       "    </tr>\n",
       "    <tr>\n",
       "      <th>16</th>\n",
       "      <td>-1.012831</td>\n",
       "      <td>0</td>\n",
       "    </tr>\n",
       "    <tr>\n",
       "      <th>17</th>\n",
       "      <td>0.314247</td>\n",
       "      <td>0</td>\n",
       "    </tr>\n",
       "    <tr>\n",
       "      <th>18</th>\n",
       "      <td>-0.908024</td>\n",
       "      <td>0</td>\n",
       "    </tr>\n",
       "    <tr>\n",
       "      <th>19</th>\n",
       "      <td>-1.412304</td>\n",
       "      <td>1</td>\n",
       "    </tr>\n",
       "  </tbody>\n",
       "</table>\n",
       "</div>"
      ],
      "text/plain": [
       "         x_1  y\n",
       "0   0.496714  0\n",
       "1  -0.138264  0\n",
       "2   0.647689  0\n",
       "3   1.523030  1\n",
       "4  -0.234153  0\n",
       "5  -0.234137  0\n",
       "6   1.579213  1\n",
       "7   0.767435  0\n",
       "8  -0.469474  0\n",
       "9   0.542560  0\n",
       "10 -0.463418  0\n",
       "11 -0.465730  0\n",
       "12  0.241962  0\n",
       "13 -1.913280  1\n",
       "14 -1.724918  1\n",
       "15 -0.562288  0\n",
       "16 -1.012831  0\n",
       "17  0.314247  0\n",
       "18 -0.908024  0\n",
       "19 -1.412304  1"
      ]
     },
     "execution_count": 2,
     "metadata": {},
     "output_type": "execute_result"
    }
   ],
   "source": [
    "np.random.seed(42)\n",
    "\n",
    "data = {\"x_1\": np.random.normal(0, 1, 20)}\n",
    "\n",
    "df = pd.DataFrame(data)\n",
    "\n",
    "df[\"y\"] = df[\"x_1\"].apply(lambda x: 1 if abs(x) > 1.1 else 0)\n",
    "\n",
    "df"
   ]
  },
  {
   "cell_type": "code",
   "execution_count": 3,
   "metadata": {
    "ExecuteTime": {
     "end_time": "2021-10-02T20:32:54.215855Z",
     "start_time": "2021-10-02T20:32:53.465283Z"
    }
   },
   "outputs": [
    {
     "data": {
      "image/png": "[encoded data removed]",
      "text/plain": [
       "<Figure size 432x288 with 1 Axes>"
      ]
     },
     "metadata": {
      "needs_background": "light"
     },
     "output_type": "display_data"
    }
   ],
   "source": [
    "sns.scatterplot(data=df, x=\"x_1\", y=np.zeros(df.shape[0]), hue=\"y\")\n",
    "\n",
    "sns.despine()\n",
    "\n",
    "plt.show()"
   ]
  },
  {
   "cell_type": "code",
   "execution_count": 4,
   "metadata": {
    "ExecuteTime": {
     "end_time": "2021-10-02T20:32:55.065013Z",
     "start_time": "2021-10-02T20:32:54.221848Z"
    }
   },
   "outputs": [
    {
     "data": {
      "image/png": "[encoded data removed]",
      "text/plain": [
       "<Figure size 432x288 with 1 Axes>"
      ]
     },
     "metadata": {
      "needs_background": "light"
     },
     "output_type": "display_data"
    }
   ],
   "source": [
    "df[\"x_2\"] = df[\"x_1\"]**2\n",
    "\n",
    "sns.scatterplot(data=df, x=\"x_1\", y=\"x_2\", hue=\"y\")\n",
    "\n",
    "sns.despine()\n",
    "\n",
    "plt.show()"
   ]
  },
  {
   "cell_type": "markdown",
   "metadata": {},
   "source": [
    "E claro, embora tenhamos visto um feature map do tipo $\\Phi : \\mathbb{R}^1 \\rightarrow \\mathbb{R}^2$, eles podem assumir as mais diferentes formas! Em geral, podemos definir um feature map genérico como $\\Phi : \\mathcal{X} \\rightarrow \\mathcal{Z}$ (de forma concreta, $\\Phi : \\mathbb{R}^m \\rightarrow \\mathbb{R}^n$, para $m, n$ dimensões arbitrárias!)\n",
    "\n",
    "Mais um exemplo, $\\Phi : \\mathbb{R}^2 \\rightarrow \\mathbb{R}^3$:\n",
    "\n",
    "<img src=https://s3-sa-east-1.amazonaws.com/lcpi/105e0718-f938-4d09-919a-b37f79b410f7.PNG width=400>\n",
    "\n",
    "<img src=https://i.pinimg.com/originals/bc/6b/75/bc6b756f5bf44b54f269b2c076cff162.gif width=400>\n",
    "\n",
    "Finalmente, agora temos todos os elementos necessários para entender o que são as SVMs:\n",
    "\n",
    "> Uma **Support Vector Machine** nada mais é que **um classificador de margem suave** treinado **no espaço de features**. Portanto, este classificador pressupõe a aplicação prévia de um **feature map** aos dados no espaço de input."
   ]
  },
  {
   "cell_type": "markdown",
   "metadata": {},
   "source": [
    "Da discussão acima, ficou claro que é justamente o feature map que dá grande poder às SVMs. De fato, a possibilidade de conseguirmos separabilidade linear é algo formidável!\n",
    "\n",
    "Neste contexto, uma pergunta natural é: como escolher um bom feature map? Formalmente, existem infinitos feature maps possíveis! Como escolher, dentre infinitas opções, exatamente o mapa exato que nos garante separabilidade linear no espaço de features? Embora esta pergunta não seja fácil de responder, existem algumas técnicas para nos ajudar a escolher bons feature maps (vamos discutir sobre isso mais a diante).\n",
    "\n",
    "Além disso, existe um segundo problema, ainda maior: suponha que queiramos introduzir um kernel que leva os pontos para um espaço de features de altíssima dimensionalidade (algo como $\\Phi : \\mathbb{R}^2 \\mapsto \\mathbb{R}^{10000}$).\n",
    "\n",
    "É de se esperar que este seja um feature map **operacionalmente custoso** de ser calculado, não é mesmo? Imagina, ter que aplicar esta transformação para todos os pontos de treino, e depois de teste! De fato, isso rapidamente se torna computacionalmente impraticável...\n",
    "\n",
    "Pra solucionar este problema, foi introduzido o uso de **funções de kernel** para capturar um aspecto importante dos feature maps! \n",
    "\n",
    "Para entender o que é feito, antes precisamos entender um pouco melhor qual é a hipótese associada a classificadores de margem. A próxima seção será um pouco mais matemática, mas é super importante para que possamos realmente entender como as funções de kernel entram em jogo!"
   ]
  },
  {
   "cell_type": "markdown",
   "metadata": {},
   "source": [
    "### Hipótese dos classificadores de margem\n",
    "\n",
    "A fronteira de decisão (também chamada de **função de decisão**), que é a hipótese modelada em classificadores de margem, é definida como:\n",
    "\n",
    "$$ f_{H, \\vec{w}}(\\vec{x}) = \\text{sign} \\left ( \\langle \\vec{w} , \\vec{x} \\rangle + b\\right ) \\ ,$$\n",
    "\n",
    "Onde $\\langle \\vec{w} , \\vec{x} \\rangle \\equiv \\vec{w} \\cdot \\vec{x} = w_1 X_1 + w_2 X_2 + \\cdots + w_d X_d = \\sum_{i=1}^d w_i X_i$ é simplesmente o **produto interno** entre o **vetor de parâmetros** $\\vec{w}$ (que costumávamos chamar de $\\vec{b}$) e o vetor de features $\\vec{x}$; e $\\text{sign}(x)$ é a função sinal:\n",
    "\n",
    "$ \\text{sign}(x) = \n",
    "\\begin{cases}\n",
    "1 \\hspace{0.5cm} \\text{se } x > 0 \\\\\n",
    "0 \\hspace{0.5cm} \\text{se } x = 0 \\\\\n",
    "-1 \\hspace{0.5cm} \\text{se } x < 0\n",
    "\\end{cases}\n",
    "$\n",
    "\n",
    "<img src=https://upload.wikimedia.org/wikipedia/commons/thumb/4/4f/Signum_function.svg/1200px-Signum_function.svg.png width=300>\n",
    "\n",
    "Note que, com esta definição de hipótese, teremos $\\hat{y} = \\{+1, -1\\}$ como os targets preditos, de modo que conseguimos diretamente representar as duas classes de um problema de classificação binário!\n",
    "\n",
    "<img src=https://s3-sa-east-1.amazonaws.com/lcpi/e761bb75-fa4d-45f0-9b86-3181f7edfd4e.PNG width=400>"
   ]
  },
  {
   "cell_type": "markdown",
   "metadata": {},
   "source": [
    "Perceba que a função de decisão **é linear**: por este motivo que os classificadores de margem produzem fronteiras de decisão que são **hiperplanos**, ou seja, lineares!\n",
    "\n",
    "Aliás, note que nossa hipótese é simplesmente a hipótese da regressão linear passada como input à função sinal! (muito parecido com o logit, que tem a hipótese da regressão linear passado à função sigmoide). Por isso, faz sentido que a fronteira de decisão seja linear!\n",
    "\n",
    "> A priori, bastaria que passássemos esta hipótese para um algoritmo de aprendizagem **com o objetivo de determinar o vetor de parâmetros $\\vec{w}$ e b**, e, pronto, teríamos nosso modelo treinado!"
   ]
  },
  {
   "cell_type": "markdown",
   "metadata": {},
   "source": [
    "No entanto, existe um claro \"problema\" com a hipótese como definimos acima: ela é definida **no espaço de input**, que pode muito bem ser tal que **os dados não são linearmente separáveis**. Ora, se for esse o caso, é evidente que um classificador linear não fará um bom trabalho...\n",
    "\n",
    "Aí, entra em cena o feature map! Depois de algun passos algébricos (vide as referências para detalhes), é possível mostrar que **dada a aplicação do feature map**, o a hipótese passa a ser dada por:\n",
    "\n",
    "$$f_{H, \\alpha}(\\vec{x}) = \\text{sign} \\left ( \\sum_{i=1}^N y_i \\alpha_i \\langle \\Phi(\\vec{x}) , \\Phi(\\vec{x}_i) \\rangle + b\\right ) $$\n",
    "\n",
    "Abrindo o somatório: $f_{H, \\vec{w}}(\\vec{x}) = \\text{sign} \\left (  y_1 \\alpha_1 \\langle \\Phi(\\vec{x}) , \\Phi(\\vec{x}_1) \\rangle + y_2 \\alpha_2 \\langle \\Phi(\\vec{x}) , \\Phi(\\vec{x}_2) \\rangle + \\cdots + y_N \\alpha_N \\langle \\Phi(\\vec{x}) , \\Phi(\\vec{x}_N) \\rangle + b\\right ) $.\n",
    "\n",
    "Entendo os termos:\n",
    "\n",
    "- Cada $\\vec{x}_i$, $i = 1, 2, \\cdots, N$ é uma das $N$ **observações de treino**; e cada $y_i$ é o respectivo target;\n",
    "- Cada $\\alpha_i$ é um [multiplicador de lagrange](https://en.wikipedia.org/wiki/Lagrange_multiplier). Podemos entendê-los simplesmente como **coeficientes numéricos associados a cada observação de treino**, sendo que $\\alpha_i > 0$. Podemos entender estes coeficientes como sendo substitutos ao $\\vec{w}$ (uma representação [dual](https://en.wikipedia.org/wiki/Duality_(optimization)) do hiperplano);\n",
    "- $\\langle \\Phi(\\vec{x}) , \\Phi(\\vec{x}_i) \\rangle$ é o produto interno entre a observação de teste $\\vec{x}$ e cada observação de treino $\\vec{x}_i$, **no espaço de features**, ou seja, após a aplicação do feature map!\n",
    "\n",
    "\n",
    "> **Obs.:** na nossa notação de **espaço z**, poderíamos escrever $\\Phi(\\vec{x}) = \\vec{z}$ e $\\Phi(\\vec{x}_i) = \\vec{z}_i$.\n",
    "<br><br>\n",
    "No entanto, vamos manter a notação explicita $\\Phi(\\vec{x})$. Não parece, mas isso na verdade facilitará nossa notação!\n"
   ]
  },
  {
   "cell_type": "markdown",
   "metadata": {},
   "source": [
    "Agora, um ponto importantíssimo:\n",
    "\n",
    "> Na prática, após o treinamento da hipótese acima, teremos que **muitos $\\alpha_i$ serão identicamente nulos!** Isto quer dizer que a soma acima será simplificada, dado que muitos termos irão ser eliminados.\n",
    "<br><br>\n",
    "Portanto, fica evidente que a fronteira de decisão será **influenciada apenas pelos pontos cujos $\\alpha_i$ associados não são nulos!**\n",
    "<br><br>\n",
    "Estes pontos que \"sobrevivem\" são justamente os **vetores de suporte**, isto é, **no espaço de features**, estes são os pontos que definem a margem, \"apoiando\" a fronteira de decisão!\n",
    "\n",
    "<img src=https://learnopencv.com/wp-content/uploads/2018/07/support-vectors-and-maximum-margin.png width=300>\n",
    "\n",
    "No processo de treinamento da hipótese como definida acima, determinamos justamente os $\\alpha_i$, determinando, assim, quais observações de teste realmente são relevantes para a classificação (isto é, os vetores de suporte). \n",
    "\n",
    "O algoritmo de aprendizagem para este problema está inserido no paradigma de otimização conhecido como [programação quadrátrica](https://en.wikipedia.org/wiki/Quadratic_programming). Além dos textos acima, recomendo [este post](https://towardsdatascience.com/support-vector-machines-dual-formulation-quadratic-programming-sequential-minimal-optimization-57f4387ce4dd#d326) para quem estiver interessado em detalhes do procedimento!"
   ]
  },
  {
   "cell_type": "markdown",
   "metadata": {},
   "source": [
    "Estamos quase lá!\n",
    "\n",
    "Note que a hipótese depende apenas **do produto interno entre as observações no espaço de features**.\n",
    "\n",
    "Agora entra justamente o problema que indicamos anteriormente: para calcular $\\langle \\Phi(\\vec{x}) , \\Phi(\\vec{x}_i) \\rangle$, a priori precisaríamos antes calcular $\\Phi(\\vec{x})$ e $\\Phi(\\vec{x}_i)$, o que envolve a aplicação do feature map, algo que é computacionalmente muito custoso! O produto interno em si, não é tão custoso - difícil mesmo é \"levar\" as observações explicitamente para o espaço de features!\n",
    "\n",
    "> Seria ótimo se fosse possível calcularmos o produto interno $\\langle \\Phi(\\vec{x}) , \\Phi(\\vec{x}_i) \\rangle$ **diretamente a partir de $\\vec{x}$ e $\\vec{x}_i$**, sem que necessitemos previamente aplicar o feature map para obter  $\\Phi(\\vec{x})$ e $\\Phi(\\vec{x}_i)$, não é mesmo?\n",
    "\n",
    "A boa notícia é que isso é sim possível, e isso é **exatamente o que as funções de kernel fazem!**"
   ]
  },
  {
   "cell_type": "markdown",
   "metadata": {},
   "source": [
    "____\n",
    "____\n",
    "____"
   ]
  },
  {
   "cell_type": "markdown",
   "metadata": {},
   "source": [
    "## 4) Funções de kernel\n",
    "\n",
    "Uma função de kernel $\\kappa$ nada mais é que uma **medida de similaridade** entre dois vetores $\\vec{x}$ e $\\vec{x}'$ (que no nosso caso, são observações). Definimos como:\n",
    "\n",
    "$$\\boxed{\\begin{align*}\n",
    "\\kappa \\ \\colon \\ & \\mathcal{X} \\times \\mathcal{X} \\longrightarrow \\mathbb{R} \\\\\n",
    "& (\\vec{x}, \\vec{x}') \\longmapsto \\kappa(\\vec{x}, \\vec{x}')\n",
    "\\end{align*}}$$\n",
    "\n",
    "Ou seja, um kernel é uma função que, dadas duas observações $\\vec{x}$ e $\\vec{x}'$, retorna um número real que caracteriza o quão similar as duas observações são entre si."
   ]
  },
  {
   "cell_type": "markdown",
   "metadata": {},
   "source": [
    "Há diversas formas possíveis de expressar a similaridade entre dois vetores. No entanto, uma forma particularmente natural de fazê-lo é justamente através do **produto interno**, dada sua relação com a [similaridade de coseno](https://en.wikipedia.org/wiki/Cosine_similarity) (lembre-se que $\\langle \\Phi(\\vec{x}) , \\Phi(\\vec{x}') \\rangle = \\left | \\Phi(\\vec{x}) \\right | \\left | \\Phi(\\vec{x}') \\right | \\cos \\left ({\\theta_{\\vec{x}, \\vec{x}'}} \\right )$):\n",
    "\n",
    "<img src=https://www.pyimagesearch.com/wp-content/uploads/2014/02/sim_metric_cosine.png width=600>\n",
    "\n",
    "<img src=https://www.dummies.com/wp-content/uploads/369549.image3.jpg width=300>"
   ]
  },
  {
   "cell_type": "markdown",
   "metadata": {},
   "source": [
    "Assim, definimos **o produto interno no espaço de features** como sendo as medidas de similaridade entre os pontos neste espaço:\n",
    "\n",
    "$$ \\kappa_\\Phi(\\vec{x}, \\vec{x}') = \\langle \\Phi(\\vec{x}) , \\Phi(\\vec{x}') \\rangle \\ ,$$\n",
    "\n",
    "onde o subscrito $\\Phi$ deixa explícito que a dependência funcional explícita da função de kernel, depende da escolha do feature map considerado!\n",
    "\n",
    "Agora, vem um ponto muitíssimo importante:\n",
    "\n",
    "> Note que $\\kappa_\\Phi$ nos dá **uma forma de calcular $\\langle \\Phi(\\vec{x}) , \\Phi(\\vec{x}') \\rangle$ diretamente a partir de $\\vec{x}$ e $\\vec{x}'$!**\n",
    "<br><br>\n",
    "Ou seja, apesar de **considerarmos implicitamente o feature map $\\Phi$ na dependêcia funcional de $\\kappa_\\Phi$**, nós não precisamos efetivamente calcular $\\Phi(\\vec{x})$ e $\\Phi(\\vec{x}')$!\n",
    "<br><br>\n",
    "Com isso, reduzimos drasticamente os custos computacionais associados à hipótese!\n",
    "\n",
    "Note que nossa hipótese depende **apenas do produto interno** entre os vetores no espaço de features:\n",
    "\n",
    "$$f_{H, \\alpha}(\\vec{x}) = \\text{sign} \\left ( \\sum_{i=1}^N y_i \\alpha_i \\langle \\Phi(\\vec{x}) , \\Phi(\\vec{x}_i) \\rangle + b\\right ) $$\n",
    "\n",
    "Mas, escrita da maneira acima, temos todos os problemas de custo computacional. No entanto, agora conhecemos uma forma **extremamente eficiente** de calcular $\\langle \\Phi(\\vec{x}) , \\Phi(\\vec{x}_i) \\rangle$, que é usando a definição acima de kernel, $\\langle \\Phi(\\vec{x}) , \\Phi(\\vec{x}_i) \\rangle = \\kappa_\\Phi(\\vec{x}, \\vec{x}_i)$:\n",
    "\n",
    "$$\\boxed{f_{H, \\alpha}(\\vec{x}) = \\text{sign} \\left ( \\sum_{i=1}^N y_i \\alpha_i\\kappa_\\Phi(\\vec{x}, \\vec{x}_i) + b\\right )} $$\n",
    "\n",
    "Agora sim, temos uma forma eficiente de treinarmos e avaliarmos nossa hipótese!\n",
    "\n",
    "Com isso, tornamos o principal elemento das SVMs algo muito mais eficiente! Por este motivo, a utilização de funções de kernel no contexto de SVM é conhecida como **kernel trick**!"
   ]
  },
  {
   "cell_type": "markdown",
   "metadata": {},
   "source": [
    "A exposição acima pode ter sido um tanto abstrata, então vamos ver um exemplo que vai deixar claro como de fato é possível calcularmos $\\langle \\Phi(\\vec{x}) , \\Phi(\\vec{x}') \\rangle$ diretamente a partir de $\\vec{x}$ e $\\vec{x}'$:\n",
    "\n",
    "_____________\n",
    "\n",
    "#### Exemplo de aplicação do kernel trick\n",
    "\n",
    "Considere que temos $\\mathcal{X} = \\mathbb{R}^2$, isto é, $\\vec{x} = (X_1, X_2)$, um espaço de input de duas dimensões.\n",
    "\n",
    "Vamos considerar um feature map $\\Phi : \\mathbb{R}^2 \\rightarrow \\mathbb{R}^6$, ou seja, teremos $\\mathcal{Z} = \\mathbb{R}^6$ como espaço de features. Explicitamente, a aplicação do feature map é:\n",
    "\n",
    "$$\\Phi(\\vec{x}) = \\left(1, X_1^2, X_2^2, \\sqrt{2}X_1, \\sqrt{2}X_2, \\sqrt{2}X_1 X_2 \\right )$$\n",
    "\n",
    "Assim, tomando duas observações genéricas $\\vec{x}$ e  $\\vec{x}'$, temos:\n",
    "\n",
    "$$\\begin{align*}\n",
    "\\langle \\Phi(\\vec{x}) , \\Phi(\\vec{x}') \\rangle &= \\langle \\left(1, X_1^2, X_2^2, \\sqrt{2}X_1, \\sqrt{2}X_2, \\sqrt{2}X_1 X_2 \\right ), \\left(1, X'^2_1, X'^2_2, \\sqrt{2}X'_1, \\sqrt{2}X'_2, \\sqrt{2}X'_1 X'_2 \\right )\\rangle =\n",
    "\\\\\n",
    "\\\\\n",
    "&= 1 + X_1^2 X'^2_1 + X_2^2 X'^2_2 + \\left ( \\sqrt{2}X_1 \\right) \\left ( \\sqrt{2}X'_1 \\right) + \\left ( \\sqrt{2}X_2 \\right )\\left ( \\sqrt{2}X'_2  \\right )+ \\left (\\sqrt{2}X_1 X_2 \\right )\\left (\\sqrt{2}X'_1 X'_2 \\right )  =\n",
    "\\\\\n",
    "\\\\\n",
    "&= 1 + X_1^2 X'^2_1 + X_2^2 X'^2_2 + 2 \\left ( X_1 X'_1 + X_2 X'_2 + X_1 X'_1 X_2 X'_2 \\right ) \n",
    "\\end{align*}$$\n",
    "\n",
    "Vamos rearranjar os termos acima da seguinte maneira:\n",
    "\n",
    "$$\\begin{align*}\n",
    "\\langle \\Phi(\\vec{x}) , \\Phi(\\vec{x}') \\rangle &= 1 + \\left ( X_1^2 X'^2_1 + X_2^2 X'^2_2 + 2  X_1 X'_1 X_2 X'_2  \\right ) + 2 \\left ( X_1 X'_1 + X_2 X'_2\\right ) =\n",
    "\\\\\n",
    "\\\\\n",
    "&= 1 + \\left ( X_1 X'_1 + X_2 X'_2\\right )^2 + 2 \\left ( X_1 X'_1 + X_2 X'_2\\right ) = \n",
    "\\\\ \n",
    "\\\\\n",
    "&= \\Big ( 1 + \\left ( X_1 X'_1 + X_2 X'_2 \\right ) \\Big)^2\n",
    "\\end{align*}$$\n",
    "\n",
    "Agora, note que: $\\langle \\vec{x} , \\vec{x}' \\rangle = \\langle (X_1, X_2), (X'_1, X'_2) \\rangle = X_1 X'_1 + X_2 X'_2$, exatamente como aparece no resultado acima! Sendo assim, temos: \n",
    "\n",
    "$$\\langle \\Phi(\\vec{x}) , \\Phi(\\vec{x}') \\rangle = \\left ( 1 + \\langle \\vec{x} , \\vec{x}' \\rangle \\right)^2$$\n",
    "\n",
    "Ou seja, mostramos que é possível escrever o produto interno entre os vetores **no espaço de features** em termos (do produto interno) dos vetores **no espaço de input!**. Oras, isso é justamente o kernel:\n",
    "\n",
    "$$ \\kappa_\\Phi(\\vec{x}, \\vec{x}') = \\left ( 1 + \\langle \\vec{x} , \\vec{x}' \\rangle \\right)^2 = \\langle \\Phi(\\vec{x}) , \\Phi(\\vec{x}') \\rangle$$\n",
    "\n",
    "Este é o ponto! Fizemos o exemplo a seguir para ver de fato como a utilização do kernel é correspondente ao produto interno das observações no espaço de features! Isto é, de fato, $\\kappa_\\Phi(\\vec{x}, \\vec{x}') = \\langle \\Phi(\\vec{x}) , \\Phi(\\vec{x}') \\rangle$!\n",
    "\n",
    "É por isso que dizemos que o kernel nos permite **calcular o produto interno entre dois vetores no espaço de features** sem explicitamente \"**ter que visitar**\" o espaço de features! Este é o ganho de eficiência que os kernels proporcionam!\n",
    "_____________"
   ]
  },
  {
   "cell_type": "markdown",
   "metadata": {},
   "source": [
    "Da mesma forma que existem infinitos feature maps possíveis, a variedade de kernels também é imensa! Apesar dos kernels oferecerem uma vantagem operacional absurda com relação à aplicação explícita do feature map, o problema de escolha de um kernel adequado para um determinado problema ainda existe.\n",
    "\n",
    "Na prática, existem algumas formas de propor kernels, mas este não é um tema fácil. Existe todo um conjunto de métodos e técnicas que se utilizam de kerneles para tarefas de aprendizagem, os chamados [métodos de kernel](https://en.wikipedia.org/wiki/Kernel_method).\n",
    "\n",
    "Apesar da enorme liberdade no design de kernels, há algumas classes particulares de kernels que são comumente utilizados:\n",
    "\n",
    "- Linear kernel: $\\kappa_\\Phi(\\vec{x}, \\vec{x}') = \\langle \\vec{x}, \\vec{x}'\\rangle $\n",
    "<br><br>\n",
    "- Polynomial kernel: $\\kappa_\\Phi(\\vec{x}, \\vec{x}') = (\\gamma \\langle \\vec{x}, \\vec{x}'\\rangle + r)^d$\n",
    "<br><br>\n",
    "- Radial Basis Function (RBF) kernel: $\\kappa_\\Phi(\\vec{x}, \\vec{x}') = \\exp(-\\gamma \\|\\vec{x}-\\vec{x}'\\|^2)$\n",
    "<br><br>\n",
    "- Sigmoid kernel: $\\kappa_\\Phi(\\vec{x}, \\vec{x}') = \\tanh(\\gamma \\langle \\vec{x},\\vec{x}'\\rangle + r)$\n",
    "\n",
    "> No exemplo explícito que fizemos acima, usamos justamente um kernel polinomial com $r=\\gamma=1$ e $d=2$!\n",
    "\n",
    "Note que a dependência funcional dos kernels muda, dependendo exatamente do feature map específico que eles representam. No entanto, em todos os casos, as features no espaço de input são utilizadas, o que garante a eficiência!"
   ]
  },
  {
   "cell_type": "markdown",
   "metadata": {},
   "source": [
    "__________\n",
    "\n",
    "Agora que entendemos o SVM, vamos ver sua aplicação com o sklearn a um problema de classificação!"
   ]
  },
  {
   "cell_type": "markdown",
   "metadata": {},
   "source": [
    "____\n",
    "____\n",
    "____"
   ]
  },
  {
   "cell_type": "markdown",
   "metadata": {},
   "source": [
    "\n",
    "## 5) SVM na prática com o sklearn\n",
    "\n",
    "Para construir um classificador SVM com o sklearn, basta usar a classe [SVC](https://scikit-learn.org/stable/modules/generated/sklearn.svm.SVC.html).\n",
    "\n",
    "Vamos utilizar o dataset German Credit Risk!"
   ]
  },
  {
   "cell_type": "code",
   "execution_count": 5,
   "metadata": {
    "ExecuteTime": {
     "end_time": "2021-10-02T20:32:55.094995Z",
     "start_time": "2021-10-02T20:32:55.071013Z"
    }
   },
   "outputs": [],
   "source": [
    "# lendo a base\n",
    "df = pd.read_csv('../datasets/german_credit_data.csv', index_col=0)"
   ]
  },
  {
   "cell_type": "code",
   "execution_count": 6,
   "metadata": {
    "ExecuteTime": {
     "end_time": "2021-10-02T20:32:55.201450Z",
     "start_time": "2021-10-02T20:32:55.098995Z"
    }
   },
   "outputs": [],
   "source": [
    "# dropando NaNs e features categóricas\n",
    "df_aux = df.dropna().select_dtypes(include=np.number)\n",
    "df = pd.concat([df_aux, df.dropna()[\"Risk\"]], axis=1)          "
   ]
  },
  {
   "cell_type": "code",
   "execution_count": 7,
   "metadata": {
    "ExecuteTime": {
     "end_time": "2021-10-02T20:32:55.278411Z",
     "start_time": "2021-10-02T20:32:55.206447Z"
    }
   },
   "outputs": [],
   "source": [
    "# separndo features e target\n",
    "X = df.drop(columns=\"Risk\")\n",
    "y = df[\"Risk\"]"
   ]
  },
  {
   "cell_type": "code",
   "execution_count": 8,
   "metadata": {
    "ExecuteTime": {
     "end_time": "2021-10-02T20:32:55.688135Z",
     "start_time": "2021-10-02T20:32:55.284401Z"
    }
   },
   "outputs": [],
   "source": [
    "# train-test split\n",
    "from sklearn.model_selection import train_test_split\n",
    "\n",
    "X_train, X_test, y_train, y_test = train_test_split(X, \n",
    "                                                    y, \n",
    "                                                    test_size=0.2, \n",
    "                                                    random_state=42,\n",
    "                                                    stratify=y)"
   ]
  },
  {
   "cell_type": "markdown",
   "metadata": {},
   "source": [
    "Para a construção de um modelo SVM, é muinto importante que os dados sejam normalizados!\n",
    "\n",
    "O motivo é bem simples: como vimos acima, o SVM é completamente baseado no kernel, que por sua vez é dado por um produto interno. Já o produto interno, é altamente dependente da **escala das features** (lembre-se, $\\langle \\Phi(\\vec{x}) , \\Phi(\\vec{x}') \\rangle = \\left | \\Phi(\\vec{x}) \\right | \\left | \\Phi(\\vec{x}') \\right | \\cos \\left ({\\theta_{\\vec{x}, \\vec{x}'}} \\right )$, isto é, a norma dos vetores influencia o produto interno!).\n",
    "\n",
    "Portanto, para evitar que efeitos de escala influenciem a classificação, a normalização é um passo extremamente importante!"
   ]
  },
  {
   "cell_type": "code",
   "execution_count": 9,
   "metadata": {
    "ExecuteTime": {
     "end_time": "2021-10-02T20:32:55.744088Z",
     "start_time": "2021-10-02T20:32:55.691119Z"
    }
   },
   "outputs": [],
   "source": [
    "# transformação com o standard scaler\n",
    "from sklearn.preprocessing import StandardScaler \n",
    "\n",
    "# instanciando a classe\n",
    "scaler = StandardScaler()\n",
    "\n",
    "scaler.fit(X_train)\n",
    "X_train = pd.DataFrame(scaler.transform(X_train), columns=X_train.columns)\n",
    "\n",
    "X_test = pd.DataFrame(scaler.transform(X_test), columns=X_test.columns)"
   ]
  },
  {
   "cell_type": "markdown",
   "metadata": {},
   "source": [
    "Agora, vamos instanciar a classe do [SVC](https://scikit-learn.org/stable/modules/generated/sklearn.svm.SVC.html)!\n",
    "\n",
    "Perceba que há muitos hiperparâmetros. Vale a pena estudar um pouco mais o fundo o funcionamento de cada um, e sua influência. Para algumas dicas práticas do uso de SVMs com o sklearn, [clique aqui!](https://scikit-learn.org/stable/modules/svm.html#tips-on-practical-use)\n",
    "\n",
    "Na prática, os principais hiperparâmetros serão `C` e o `gamma` (se o kernel escolhido utilizar este parâmetro, como, por exemplo, o kernel rbf: por isso, o hiperparâmetro `kernel` também é importante!):\n",
    "\n",
    "- `C`: é um parâmetro de regularização, relacionado com a \"suavidade\" da margem. Ele controla o tradeoff entre a complexidade da fronteira de decisão, e erros de classificação que são permitidos. Quanto **menor** o C, mais suave será a fronteira de decisão, pois mais erros de classificação são permitidos (isto é, a margem fica **mais larga**); quanto **maior** C, a tolerância a erros de classificação é menor (e a margem fica menos suave, mais complexa);\n",
    "\n",
    "<img src=\"https://learnopencv.com/wp-content/uploads/2018/07/svm-parameter-c-example.png\" width=500>\n",
    "\n",
    "- `gamma`: define a influência que cada ponto tem na fronteira de decisão. É a \"abertura\" do kernel: quanto **maior** o gamma, a influência é de mais curto alcance, e vice-versa;\n",
    "\n",
    "<img src=\"https://sgao323.gitbooks.io/artificial-intelligence-projects/content/assets/svm_gamma.png\" width=400>\n",
    "\n",
    "- `kernel`: as opções disponíveis são `linear`, `poly`, `rbf` e `sigmoid`, que apresentamos acima. Também é possível utilizar um kernel personalizado pré-calculado (neste caso, usamos a opção `precomputed`).\n",
    "\n",
    "\n",
    "No que diz respeito a `C` e `gamma`, é importante que valores adequados sejam encontrados com o uso de Grid/Random search, usando **valores exponencialmente espaçados**."
   ]
  },
  {
   "cell_type": "code",
   "execution_count": 10,
   "metadata": {
    "ExecuteTime": {
     "end_time": "2021-10-02T20:32:55.978954Z",
     "start_time": "2021-10-02T20:32:55.765079Z"
    }
   },
   "outputs": [],
   "source": [
    "# importa a classe\n",
    "from sklearn.svm import SVC"
   ]
  },
  {
   "cell_type": "code",
   "execution_count": 11,
   "metadata": {
    "ExecuteTime": {
     "end_time": "2021-10-02T20:32:56.008938Z",
     "start_time": "2021-10-02T20:32:55.984949Z"
    }
   },
   "outputs": [],
   "source": [
    "# instancia a classe\n",
    "estimador = SVC(random_state=42)"
   ]
  },
  {
   "cell_type": "code",
   "execution_count": 12,
   "metadata": {
    "ExecuteTime": {
     "end_time": "2021-10-02T20:32:56.070914Z",
     "start_time": "2021-10-02T20:32:56.012934Z"
    }
   },
   "outputs": [],
   "source": [
    "# treina o modelo\n",
    "modelo = estimador.fit(X_train, y_train)"
   ]
  },
  {
   "cell_type": "code",
   "execution_count": 13,
   "metadata": {
    "ExecuteTime": {
     "end_time": "2021-10-02T20:32:56.245336Z",
     "start_time": "2021-10-02T20:32:56.075912Z"
    }
   },
   "outputs": [],
   "source": [
    "# faz predições\n",
    "y_pred = modelo.predict(X_test)"
   ]
  },
  {
   "cell_type": "code",
   "execution_count": 14,
   "metadata": {
    "ExecuteTime": {
     "end_time": "2021-10-02T20:32:57.075620Z",
     "start_time": "2021-10-02T20:32:56.264336Z"
    }
   },
   "outputs": [
    {
     "name": "stdout",
     "output_type": "stream",
     "text": [
      "[[15 31]\n",
      " [10 49]]\n"
     ]
    },
    {
     "data": {
      "image/png": "[encoded data removed]",
      "text/plain": [
       "<Figure size 432x288 with 2 Axes>"
      ]
     },
     "metadata": {
      "needs_background": "light"
     },
     "output_type": "display_data"
    },
    {
     "name": "stdout",
     "output_type": "stream",
     "text": [
      "              precision    recall  f1-score   support\n",
      "\n",
      "         bad       0.60      0.33      0.42        46\n",
      "        good       0.61      0.83      0.71        59\n",
      "\n",
      "    accuracy                           0.61       105\n",
      "   macro avg       0.61      0.58      0.56       105\n",
      "weighted avg       0.61      0.61      0.58       105\n",
      "\n"
     ]
    }
   ],
   "source": [
    "# avaliação\n",
    "from sklearn.metrics import confusion_matrix, classification_report, plot_confusion_matrix\n",
    "\n",
    "print(confusion_matrix(y_test, y_pred))\n",
    "\n",
    "plot_confusion_matrix(modelo, X_test, y_test)\n",
    "plt.show()\n",
    "\n",
    "print(classification_report(y_test, y_pred))"
   ]
  },
  {
   "cell_type": "markdown",
   "metadata": {},
   "source": [
    "Agora, podemos montar um gridsearch para otimiar o modelo:"
   ]
  },
  {
   "cell_type": "code",
   "execution_count": 19,
   "metadata": {
    "ExecuteTime": {
     "end_time": "2021-10-02T20:33:43.130333Z",
     "start_time": "2021-10-02T20:33:33.248452Z"
    },
    "scrolled": true
   },
   "outputs": [
    {
     "name": "stdout",
     "output_type": "stream",
     "text": [
      "Fitting 5 folds for each of 25 candidates, totalling 125 fits\n",
      "[CV] svm__C=0.01, svm__gamma=0.01, svm__kernel=rbf ...................\n",
      "[CV] .... svm__C=0.01, svm__gamma=0.01, svm__kernel=rbf, total=   0.1s\n",
      "[CV] svm__C=0.01, svm__gamma=0.01, svm__kernel=rbf ...................\n",
      "[CV] .... svm__C=0.01, svm__gamma=0.01, svm__kernel=rbf, total=   0.1s\n",
      "[CV] svm__C=0.01, svm__gamma=0.01, svm__kernel=rbf ...................\n"
     ]
    },
    {
     "name": "stderr",
     "output_type": "stream",
     "text": [
      "[Parallel(n_jobs=1)]: Using backend SequentialBackend with 1 concurrent workers.\n",
      "[Parallel(n_jobs=1)]: Done   1 out of   1 | elapsed:    0.0s remaining:    0.0s\n"
     ]
    },
    {
     "name": "stdout",
     "output_type": "stream",
     "text": [
      "[CV] .... svm__C=0.01, svm__gamma=0.01, svm__kernel=rbf, total=   0.1s\n",
      "[CV] svm__C=0.01, svm__gamma=0.01, svm__kernel=rbf ...................\n",
      "[CV] .... svm__C=0.01, svm__gamma=0.01, svm__kernel=rbf, total=   0.1s\n",
      "[CV] svm__C=0.01, svm__gamma=0.01, svm__kernel=rbf ...................\n",
      "[CV] .... svm__C=0.01, svm__gamma=0.01, svm__kernel=rbf, total=   0.1s\n",
      "[CV] svm__C=0.01, svm__gamma=0.1, svm__kernel=rbf ....................\n",
      "[CV] ..... svm__C=0.01, svm__gamma=0.1, svm__kernel=rbf, total=   0.0s\n",
      "[CV] svm__C=0.01, svm__gamma=0.1, svm__kernel=rbf ....................\n",
      "[CV] ..... svm__C=0.01, svm__gamma=0.1, svm__kernel=rbf, total=   0.1s\n",
      "[CV] svm__C=0.01, svm__gamma=0.1, svm__kernel=rbf ....................\n",
      "[CV] ..... svm__C=0.01, svm__gamma=0.1, svm__kernel=rbf, total=   0.1s\n",
      "[CV] svm__C=0.01, svm__gamma=0.1, svm__kernel=rbf ....................\n",
      "[CV] ..... svm__C=0.01, svm__gamma=0.1, svm__kernel=rbf, total=   0.0s\n",
      "[CV] svm__C=0.01, svm__gamma=0.1, svm__kernel=rbf ....................\n",
      "[CV] ..... svm__C=0.01, svm__gamma=0.1, svm__kernel=rbf, total=   0.0s\n",
      "[CV] svm__C=0.01, svm__gamma=1.0, svm__kernel=rbf ....................\n",
      "[CV] ..... svm__C=0.01, svm__gamma=1.0, svm__kernel=rbf, total=   0.1s\n",
      "[CV] svm__C=0.01, svm__gamma=1.0, svm__kernel=rbf ....................\n",
      "[CV] ..... svm__C=0.01, svm__gamma=1.0, svm__kernel=rbf, total=   0.1s\n",
      "[CV] svm__C=0.01, svm__gamma=1.0, svm__kernel=rbf ....................\n",
      "[CV] ..... svm__C=0.01, svm__gamma=1.0, svm__kernel=rbf, total=   0.1s\n",
      "[CV] svm__C=0.01, svm__gamma=1.0, svm__kernel=rbf ....................\n",
      "[CV] ..... svm__C=0.01, svm__gamma=1.0, svm__kernel=rbf, total=   0.1s\n",
      "[CV] svm__C=0.01, svm__gamma=1.0, svm__kernel=rbf ....................\n",
      "[CV] ..... svm__C=0.01, svm__gamma=1.0, svm__kernel=rbf, total=   0.1s\n",
      "[CV] svm__C=0.01, svm__gamma=10.0, svm__kernel=rbf ...................\n",
      "[CV] .... svm__C=0.01, svm__gamma=10.0, svm__kernel=rbf, total=   0.1s\n",
      "[CV] svm__C=0.01, svm__gamma=10.0, svm__kernel=rbf ...................\n",
      "[CV] .... svm__C=0.01, svm__gamma=10.0, svm__kernel=rbf, total=   0.1s\n",
      "[CV] svm__C=0.01, svm__gamma=10.0, svm__kernel=rbf ...................\n",
      "[CV] .... svm__C=0.01, svm__gamma=10.0, svm__kernel=rbf, total=   0.1s\n",
      "[CV] svm__C=0.01, svm__gamma=10.0, svm__kernel=rbf ...................\n",
      "[CV] .... svm__C=0.01, svm__gamma=10.0, svm__kernel=rbf, total=   0.1s\n",
      "[CV] svm__C=0.01, svm__gamma=10.0, svm__kernel=rbf ...................\n",
      "[CV] .... svm__C=0.01, svm__gamma=10.0, svm__kernel=rbf, total=   0.0s\n",
      "[CV] svm__C=0.01, svm__gamma=100.0, svm__kernel=rbf ..................\n",
      "[CV] ... svm__C=0.01, svm__gamma=100.0, svm__kernel=rbf, total=   0.1s\n",
      "[CV] svm__C=0.01, svm__gamma=100.0, svm__kernel=rbf ..................\n",
      "[CV] ... svm__C=0.01, svm__gamma=100.0, svm__kernel=rbf, total=   0.1s\n",
      "[CV] svm__C=0.01, svm__gamma=100.0, svm__kernel=rbf ..................\n",
      "[CV] ... svm__C=0.01, svm__gamma=100.0, svm__kernel=rbf, total=   0.1s\n",
      "[CV] svm__C=0.01, svm__gamma=100.0, svm__kernel=rbf ..................\n",
      "[CV] ... svm__C=0.01, svm__gamma=100.0, svm__kernel=rbf, total=   0.1s\n",
      "[CV] svm__C=0.01, svm__gamma=100.0, svm__kernel=rbf ..................\n",
      "[CV] ... svm__C=0.01, svm__gamma=100.0, svm__kernel=rbf, total=   0.1s\n",
      "[CV] svm__C=0.1, svm__gamma=0.01, svm__kernel=rbf ....................\n",
      "[CV] ..... svm__C=0.1, svm__gamma=0.01, svm__kernel=rbf, total=   0.0s\n",
      "[CV] svm__C=0.1, svm__gamma=0.01, svm__kernel=rbf ....................\n",
      "[CV] ..... svm__C=0.1, svm__gamma=0.01, svm__kernel=rbf, total=   0.1s\n",
      "[CV] svm__C=0.1, svm__gamma=0.01, svm__kernel=rbf ....................\n",
      "[CV] ..... svm__C=0.1, svm__gamma=0.01, svm__kernel=rbf, total=   0.0s\n",
      "[CV] svm__C=0.1, svm__gamma=0.01, svm__kernel=rbf ....................\n",
      "[CV] ..... svm__C=0.1, svm__gamma=0.01, svm__kernel=rbf, total=   0.1s\n",
      "[CV] svm__C=0.1, svm__gamma=0.01, svm__kernel=rbf ....................\n",
      "[CV] ..... svm__C=0.1, svm__gamma=0.01, svm__kernel=rbf, total=   0.0s\n",
      "[CV] svm__C=0.1, svm__gamma=0.1, svm__kernel=rbf .....................\n",
      "[CV] ...... svm__C=0.1, svm__gamma=0.1, svm__kernel=rbf, total=   0.1s\n",
      "[CV] svm__C=0.1, svm__gamma=0.1, svm__kernel=rbf .....................\n",
      "[CV] ...... svm__C=0.1, svm__gamma=0.1, svm__kernel=rbf, total=   0.1s\n",
      "[CV] svm__C=0.1, svm__gamma=0.1, svm__kernel=rbf .....................\n",
      "[CV] ...... svm__C=0.1, svm__gamma=0.1, svm__kernel=rbf, total=   0.1s\n",
      "[CV] svm__C=0.1, svm__gamma=0.1, svm__kernel=rbf .....................\n",
      "[CV] ...... svm__C=0.1, svm__gamma=0.1, svm__kernel=rbf, total=   0.0s\n",
      "[CV] svm__C=0.1, svm__gamma=0.1, svm__kernel=rbf .....................\n",
      "[CV] ...... svm__C=0.1, svm__gamma=0.1, svm__kernel=rbf, total=   0.0s\n",
      "[CV] svm__C=0.1, svm__gamma=1.0, svm__kernel=rbf .....................\n",
      "[CV] ...... svm__C=0.1, svm__gamma=1.0, svm__kernel=rbf, total=   0.1s\n",
      "[CV] svm__C=0.1, svm__gamma=1.0, svm__kernel=rbf .....................\n",
      "[CV] ...... svm__C=0.1, svm__gamma=1.0, svm__kernel=rbf, total=   0.1s\n",
      "[CV] svm__C=0.1, svm__gamma=1.0, svm__kernel=rbf .....................\n",
      "[CV] ...... svm__C=0.1, svm__gamma=1.0, svm__kernel=rbf, total=   0.1s\n",
      "[CV] svm__C=0.1, svm__gamma=1.0, svm__kernel=rbf .....................\n",
      "[CV] ...... svm__C=0.1, svm__gamma=1.0, svm__kernel=rbf, total=   0.1s\n",
      "[CV] svm__C=0.1, svm__gamma=1.0, svm__kernel=rbf .....................\n",
      "[CV] ...... svm__C=0.1, svm__gamma=1.0, svm__kernel=rbf, total=   0.1s\n",
      "[CV] svm__C=0.1, svm__gamma=10.0, svm__kernel=rbf ....................\n",
      "[CV] ..... svm__C=0.1, svm__gamma=10.0, svm__kernel=rbf, total=   0.1s\n",
      "[CV] svm__C=0.1, svm__gamma=10.0, svm__kernel=rbf ....................\n",
      "[CV] ..... svm__C=0.1, svm__gamma=10.0, svm__kernel=rbf, total=   0.1s\n",
      "[CV] svm__C=0.1, svm__gamma=10.0, svm__kernel=rbf ....................\n",
      "[CV] ..... svm__C=0.1, svm__gamma=10.0, svm__kernel=rbf, total=   0.1s\n",
      "[CV] svm__C=0.1, svm__gamma=10.0, svm__kernel=rbf ....................\n",
      "[CV] ..... svm__C=0.1, svm__gamma=10.0, svm__kernel=rbf, total=   0.1s\n",
      "[CV] svm__C=0.1, svm__gamma=10.0, svm__kernel=rbf ....................\n",
      "[CV] ..... svm__C=0.1, svm__gamma=10.0, svm__kernel=rbf, total=   0.1s\n",
      "[CV] svm__C=0.1, svm__gamma=100.0, svm__kernel=rbf ...................\n",
      "[CV] .... svm__C=0.1, svm__gamma=100.0, svm__kernel=rbf, total=   0.1s\n",
      "[CV] svm__C=0.1, svm__gamma=100.0, svm__kernel=rbf ...................\n",
      "[CV] .... svm__C=0.1, svm__gamma=100.0, svm__kernel=rbf, total=   0.1s\n",
      "[CV] svm__C=0.1, svm__gamma=100.0, svm__kernel=rbf ...................\n",
      "[CV] .... svm__C=0.1, svm__gamma=100.0, svm__kernel=rbf, total=   0.1s\n",
      "[CV] svm__C=0.1, svm__gamma=100.0, svm__kernel=rbf ...................\n",
      "[CV] .... svm__C=0.1, svm__gamma=100.0, svm__kernel=rbf, total=   0.1s\n",
      "[CV] svm__C=0.1, svm__gamma=100.0, svm__kernel=rbf ...................\n",
      "[CV] .... svm__C=0.1, svm__gamma=100.0, svm__kernel=rbf, total=   0.1s\n",
      "[CV] svm__C=1.0, svm__gamma=0.01, svm__kernel=rbf ....................\n",
      "[CV] ..... svm__C=1.0, svm__gamma=0.01, svm__kernel=rbf, total=   0.1s\n",
      "[CV] svm__C=1.0, svm__gamma=0.01, svm__kernel=rbf ....................\n",
      "[CV] ..... svm__C=1.0, svm__gamma=0.01, svm__kernel=rbf, total=   0.1s\n",
      "[CV] svm__C=1.0, svm__gamma=0.01, svm__kernel=rbf ....................\n",
      "[CV] ..... svm__C=1.0, svm__gamma=0.01, svm__kernel=rbf, total=   0.1s\n",
      "[CV] svm__C=1.0, svm__gamma=0.01, svm__kernel=rbf ....................\n",
      "[CV] ..... svm__C=1.0, svm__gamma=0.01, svm__kernel=rbf, total=   0.1s\n",
      "[CV] svm__C=1.0, svm__gamma=0.01, svm__kernel=rbf ....................\n",
      "[CV] ..... svm__C=1.0, svm__gamma=0.01, svm__kernel=rbf, total=   0.1s\n",
      "[CV] svm__C=1.0, svm__gamma=0.1, svm__kernel=rbf .....................\n",
      "[CV] ...... svm__C=1.0, svm__gamma=0.1, svm__kernel=rbf, total=   0.1s\n",
      "[CV] svm__C=1.0, svm__gamma=0.1, svm__kernel=rbf .....................\n",
      "[CV] ...... svm__C=1.0, svm__gamma=0.1, svm__kernel=rbf, total=   0.1s\n",
      "[CV] svm__C=1.0, svm__gamma=0.1, svm__kernel=rbf .....................\n",
      "[CV] ...... svm__C=1.0, svm__gamma=0.1, svm__kernel=rbf, total=   0.1s\n",
      "[CV] svm__C=1.0, svm__gamma=0.1, svm__kernel=rbf .....................\n",
      "[CV] ...... svm__C=1.0, svm__gamma=0.1, svm__kernel=rbf, total=   0.1s\n",
      "[CV] svm__C=1.0, svm__gamma=0.1, svm__kernel=rbf .....................\n",
      "[CV] ...... svm__C=1.0, svm__gamma=0.1, svm__kernel=rbf, total=   0.0s\n",
      "[CV] svm__C=1.0, svm__gamma=1.0, svm__kernel=rbf .....................\n",
      "[CV] ...... svm__C=1.0, svm__gamma=1.0, svm__kernel=rbf, total=   0.0s\n",
      "[CV] svm__C=1.0, svm__gamma=1.0, svm__kernel=rbf .....................\n",
      "[CV] ...... svm__C=1.0, svm__gamma=1.0, svm__kernel=rbf, total=   0.1s\n"
     ]
    },
    {
     "name": "stdout",
     "output_type": "stream",
     "text": [
      "[CV] svm__C=1.0, svm__gamma=1.0, svm__kernel=rbf .....................\n",
      "[CV] ...... svm__C=1.0, svm__gamma=1.0, svm__kernel=rbf, total=   0.1s\n",
      "[CV] svm__C=1.0, svm__gamma=1.0, svm__kernel=rbf .....................\n",
      "[CV] ...... svm__C=1.0, svm__gamma=1.0, svm__kernel=rbf, total=   0.1s\n",
      "[CV] svm__C=1.0, svm__gamma=1.0, svm__kernel=rbf .....................\n",
      "[CV] ...... svm__C=1.0, svm__gamma=1.0, svm__kernel=rbf, total=   0.1s\n",
      "[CV] svm__C=1.0, svm__gamma=10.0, svm__kernel=rbf ....................\n",
      "[CV] ..... svm__C=1.0, svm__gamma=10.0, svm__kernel=rbf, total=   0.1s\n",
      "[CV] svm__C=1.0, svm__gamma=10.0, svm__kernel=rbf ....................\n",
      "[CV] ..... svm__C=1.0, svm__gamma=10.0, svm__kernel=rbf, total=   0.1s\n",
      "[CV] svm__C=1.0, svm__gamma=10.0, svm__kernel=rbf ....................\n",
      "[CV] ..... svm__C=1.0, svm__gamma=10.0, svm__kernel=rbf, total=   0.1s\n",
      "[CV] svm__C=1.0, svm__gamma=10.0, svm__kernel=rbf ....................\n",
      "[CV] ..... svm__C=1.0, svm__gamma=10.0, svm__kernel=rbf, total=   0.1s\n",
      "[CV] svm__C=1.0, svm__gamma=10.0, svm__kernel=rbf ....................\n",
      "[CV] ..... svm__C=1.0, svm__gamma=10.0, svm__kernel=rbf, total=   0.1s\n",
      "[CV] svm__C=1.0, svm__gamma=100.0, svm__kernel=rbf ...................\n",
      "[CV] .... svm__C=1.0, svm__gamma=100.0, svm__kernel=rbf, total=   0.1s\n",
      "[CV] svm__C=1.0, svm__gamma=100.0, svm__kernel=rbf ...................\n",
      "[CV] .... svm__C=1.0, svm__gamma=100.0, svm__kernel=rbf, total=   0.1s\n",
      "[CV] svm__C=1.0, svm__gamma=100.0, svm__kernel=rbf ...................\n",
      "[CV] .... svm__C=1.0, svm__gamma=100.0, svm__kernel=rbf, total=   0.1s\n",
      "[CV] svm__C=1.0, svm__gamma=100.0, svm__kernel=rbf ...................\n",
      "[CV] .... svm__C=1.0, svm__gamma=100.0, svm__kernel=rbf, total=   0.1s\n",
      "[CV] svm__C=1.0, svm__gamma=100.0, svm__kernel=rbf ...................\n",
      "[CV] .... svm__C=1.0, svm__gamma=100.0, svm__kernel=rbf, total=   0.1s\n",
      "[CV] svm__C=10.0, svm__gamma=0.01, svm__kernel=rbf ...................\n",
      "[CV] .... svm__C=10.0, svm__gamma=0.01, svm__kernel=rbf, total=   0.1s\n",
      "[CV] svm__C=10.0, svm__gamma=0.01, svm__kernel=rbf ...................\n",
      "[CV] .... svm__C=10.0, svm__gamma=0.01, svm__kernel=rbf, total=   0.0s\n",
      "[CV] svm__C=10.0, svm__gamma=0.01, svm__kernel=rbf ...................\n",
      "[CV] .... svm__C=10.0, svm__gamma=0.01, svm__kernel=rbf, total=   0.0s\n",
      "[CV] svm__C=10.0, svm__gamma=0.01, svm__kernel=rbf ...................\n",
      "[CV] .... svm__C=10.0, svm__gamma=0.01, svm__kernel=rbf, total=   0.1s\n",
      "[CV] svm__C=10.0, svm__gamma=0.01, svm__kernel=rbf ...................\n",
      "[CV] .... svm__C=10.0, svm__gamma=0.01, svm__kernel=rbf, total=   0.1s\n",
      "[CV] svm__C=10.0, svm__gamma=0.1, svm__kernel=rbf ....................\n",
      "[CV] ..... svm__C=10.0, svm__gamma=0.1, svm__kernel=rbf, total=   0.1s\n",
      "[CV] svm__C=10.0, svm__gamma=0.1, svm__kernel=rbf ....................\n",
      "[CV] ..... svm__C=10.0, svm__gamma=0.1, svm__kernel=rbf, total=   0.1s\n",
      "[CV] svm__C=10.0, svm__gamma=0.1, svm__kernel=rbf ....................\n",
      "[CV] ..... svm__C=10.0, svm__gamma=0.1, svm__kernel=rbf, total=   0.1s\n",
      "[CV] svm__C=10.0, svm__gamma=0.1, svm__kernel=rbf ....................\n",
      "[CV] ..... svm__C=10.0, svm__gamma=0.1, svm__kernel=rbf, total=   0.1s\n",
      "[CV] svm__C=10.0, svm__gamma=0.1, svm__kernel=rbf ....................\n",
      "[CV] ..... svm__C=10.0, svm__gamma=0.1, svm__kernel=rbf, total=   0.1s\n",
      "[CV] svm__C=10.0, svm__gamma=1.0, svm__kernel=rbf ....................\n",
      "[CV] ..... svm__C=10.0, svm__gamma=1.0, svm__kernel=rbf, total=   0.1s\n",
      "[CV] svm__C=10.0, svm__gamma=1.0, svm__kernel=rbf ....................\n",
      "[CV] ..... svm__C=10.0, svm__gamma=1.0, svm__kernel=rbf, total=   0.1s\n",
      "[CV] svm__C=10.0, svm__gamma=1.0, svm__kernel=rbf ....................\n",
      "[CV] ..... svm__C=10.0, svm__gamma=1.0, svm__kernel=rbf, total=   0.1s\n",
      "[CV] svm__C=10.0, svm__gamma=1.0, svm__kernel=rbf ....................\n",
      "[CV] ..... svm__C=10.0, svm__gamma=1.0, svm__kernel=rbf, total=   0.1s\n",
      "[CV] svm__C=10.0, svm__gamma=1.0, svm__kernel=rbf ....................\n",
      "[CV] ..... svm__C=10.0, svm__gamma=1.0, svm__kernel=rbf, total=   0.1s\n",
      "[CV] svm__C=10.0, svm__gamma=10.0, svm__kernel=rbf ...................\n",
      "[CV] .... svm__C=10.0, svm__gamma=10.0, svm__kernel=rbf, total=   0.1s\n",
      "[CV] svm__C=10.0, svm__gamma=10.0, svm__kernel=rbf ...................\n",
      "[CV] .... svm__C=10.0, svm__gamma=10.0, svm__kernel=rbf, total=   0.1s\n",
      "[CV] svm__C=10.0, svm__gamma=10.0, svm__kernel=rbf ...................\n",
      "[CV] .... svm__C=10.0, svm__gamma=10.0, svm__kernel=rbf, total=   0.1s\n",
      "[CV] svm__C=10.0, svm__gamma=10.0, svm__kernel=rbf ...................\n",
      "[CV] .... svm__C=10.0, svm__gamma=10.0, svm__kernel=rbf, total=   0.1s\n",
      "[CV] svm__C=10.0, svm__gamma=10.0, svm__kernel=rbf ...................\n",
      "[CV] .... svm__C=10.0, svm__gamma=10.0, svm__kernel=rbf, total=   0.1s\n",
      "[CV] svm__C=10.0, svm__gamma=100.0, svm__kernel=rbf ..................\n",
      "[CV] ... svm__C=10.0, svm__gamma=100.0, svm__kernel=rbf, total=   0.1s\n",
      "[CV] svm__C=10.0, svm__gamma=100.0, svm__kernel=rbf ..................\n",
      "[CV] ... svm__C=10.0, svm__gamma=100.0, svm__kernel=rbf, total=   0.1s\n",
      "[CV] svm__C=10.0, svm__gamma=100.0, svm__kernel=rbf ..................\n",
      "[CV] ... svm__C=10.0, svm__gamma=100.0, svm__kernel=rbf, total=   0.1s\n",
      "[CV] svm__C=10.0, svm__gamma=100.0, svm__kernel=rbf ..................\n",
      "[CV] ... svm__C=10.0, svm__gamma=100.0, svm__kernel=rbf, total=   0.1s\n",
      "[CV] svm__C=10.0, svm__gamma=100.0, svm__kernel=rbf ..................\n",
      "[CV] ... svm__C=10.0, svm__gamma=100.0, svm__kernel=rbf, total=   0.1s\n",
      "[CV] svm__C=100.0, svm__gamma=0.01, svm__kernel=rbf ..................\n",
      "[CV] ... svm__C=100.0, svm__gamma=0.01, svm__kernel=rbf, total=   0.1s\n",
      "[CV] svm__C=100.0, svm__gamma=0.01, svm__kernel=rbf ..................\n",
      "[CV] ... svm__C=100.0, svm__gamma=0.01, svm__kernel=rbf, total=   0.1s\n",
      "[CV] svm__C=100.0, svm__gamma=0.01, svm__kernel=rbf ..................\n",
      "[CV] ... svm__C=100.0, svm__gamma=0.01, svm__kernel=rbf, total=   0.1s\n",
      "[CV] svm__C=100.0, svm__gamma=0.01, svm__kernel=rbf ..................\n",
      "[CV] ... svm__C=100.0, svm__gamma=0.01, svm__kernel=rbf, total=   0.1s\n",
      "[CV] svm__C=100.0, svm__gamma=0.01, svm__kernel=rbf ..................\n",
      "[CV] ... svm__C=100.0, svm__gamma=0.01, svm__kernel=rbf, total=   0.1s\n",
      "[CV] svm__C=100.0, svm__gamma=0.1, svm__kernel=rbf ...................\n",
      "[CV] .... svm__C=100.0, svm__gamma=0.1, svm__kernel=rbf, total=   0.1s\n",
      "[CV] svm__C=100.0, svm__gamma=0.1, svm__kernel=rbf ...................\n",
      "[CV] .... svm__C=100.0, svm__gamma=0.1, svm__kernel=rbf, total=   0.1s\n",
      "[CV] svm__C=100.0, svm__gamma=0.1, svm__kernel=rbf ...................\n",
      "[CV] .... svm__C=100.0, svm__gamma=0.1, svm__kernel=rbf, total=   0.1s\n",
      "[CV] svm__C=100.0, svm__gamma=0.1, svm__kernel=rbf ...................\n",
      "[CV] .... svm__C=100.0, svm__gamma=0.1, svm__kernel=rbf, total=   0.1s\n",
      "[CV] svm__C=100.0, svm__gamma=0.1, svm__kernel=rbf ...................\n",
      "[CV] .... svm__C=100.0, svm__gamma=0.1, svm__kernel=rbf, total=   0.1s\n",
      "[CV] svm__C=100.0, svm__gamma=1.0, svm__kernel=rbf ...................\n",
      "[CV] .... svm__C=100.0, svm__gamma=1.0, svm__kernel=rbf, total=   0.1s\n",
      "[CV] svm__C=100.0, svm__gamma=1.0, svm__kernel=rbf ...................\n",
      "[CV] .... svm__C=100.0, svm__gamma=1.0, svm__kernel=rbf, total=   0.1s\n",
      "[CV] svm__C=100.0, svm__gamma=1.0, svm__kernel=rbf ...................\n",
      "[CV] .... svm__C=100.0, svm__gamma=1.0, svm__kernel=rbf, total=   0.1s\n",
      "[CV] svm__C=100.0, svm__gamma=1.0, svm__kernel=rbf ...................\n",
      "[CV] .... svm__C=100.0, svm__gamma=1.0, svm__kernel=rbf, total=   0.0s\n",
      "[CV] svm__C=100.0, svm__gamma=1.0, svm__kernel=rbf ...................\n",
      "[CV] .... svm__C=100.0, svm__gamma=1.0, svm__kernel=rbf, total=   0.1s\n",
      "[CV] svm__C=100.0, svm__gamma=10.0, svm__kernel=rbf ..................\n",
      "[CV] ... svm__C=100.0, svm__gamma=10.0, svm__kernel=rbf, total=   0.1s\n",
      "[CV] svm__C=100.0, svm__gamma=10.0, svm__kernel=rbf ..................\n",
      "[CV] ... svm__C=100.0, svm__gamma=10.0, svm__kernel=rbf, total=   0.1s\n",
      "[CV] svm__C=100.0, svm__gamma=10.0, svm__kernel=rbf ..................\n",
      "[CV] ... svm__C=100.0, svm__gamma=10.0, svm__kernel=rbf, total=   0.1s\n",
      "[CV] svm__C=100.0, svm__gamma=10.0, svm__kernel=rbf ..................\n",
      "[CV] ... svm__C=100.0, svm__gamma=10.0, svm__kernel=rbf, total=   0.1s\n",
      "[CV] svm__C=100.0, svm__gamma=10.0, svm__kernel=rbf ..................\n",
      "[CV] ... svm__C=100.0, svm__gamma=10.0, svm__kernel=rbf, total=   0.1s\n",
      "[CV] svm__C=100.0, svm__gamma=100.0, svm__kernel=rbf .................\n",
      "[CV] .. svm__C=100.0, svm__gamma=100.0, svm__kernel=rbf, total=   0.1s\n",
      "[CV] svm__C=100.0, svm__gamma=100.0, svm__kernel=rbf .................\n",
      "[CV] .. svm__C=100.0, svm__gamma=100.0, svm__kernel=rbf, total=   0.1s\n",
      "[CV] svm__C=100.0, svm__gamma=100.0, svm__kernel=rbf .................\n"
     ]
    },
    {
     "name": "stdout",
     "output_type": "stream",
     "text": [
      "[CV] .. svm__C=100.0, svm__gamma=100.0, svm__kernel=rbf, total=   0.1s\n",
      "[CV] svm__C=100.0, svm__gamma=100.0, svm__kernel=rbf .................\n",
      "[CV] .. svm__C=100.0, svm__gamma=100.0, svm__kernel=rbf, total=   0.1s\n",
      "[CV] svm__C=100.0, svm__gamma=100.0, svm__kernel=rbf .................\n",
      "[CV] .. svm__C=100.0, svm__gamma=100.0, svm__kernel=rbf, total=   0.1s\n"
     ]
    },
    {
     "name": "stderr",
     "output_type": "stream",
     "text": [
      "[Parallel(n_jobs=1)]: Done 125 out of 125 | elapsed:    9.0s finished\n"
     ]
    },
    {
     "data": {
      "text/plain": [
       "GridSearchCV(cv=5,\n",
       "             estimator=Pipeline(steps=[('pre_process',\n",
       "                                        ColumnTransformer(transformers=[('transf_num',\n",
       "                                                                         Pipeline(steps=[('simple_imput_num',\n",
       "                                                                                          SimpleImputer()),\n",
       "                                                                                         ('std_scaler',\n",
       "                                                                                          StandardScaler())]),\n",
       "                                                                         ['Age',\n",
       "                                                                          'Job',\n",
       "                                                                          'Credit '\n",
       "                                                                          'amount',\n",
       "                                                                          'Duration']),\n",
       "                                                                        ('transf_cat',\n",
       "                                                                         Pipeline(steps=[('simple_imput_cat',\n",
       "                                                                                          SimpleImputer(strategy='most_frequent')),\n",
       "                                                                                         ('onehot',\n",
       "                                                                                          OneHotEncoder())]),\n",
       "                                                                         ['Sex',\n",
       "                                                                          'Housing',\n",
       "                                                                          'Saving '\n",
       "                                                                          'accounts',\n",
       "                                                                          'Checking '\n",
       "                                                                          'account',\n",
       "                                                                          'Purpose'])])),\n",
       "                                       ('svm', SVC(random_state=42))]),\n",
       "             param_grid={'svm__C': array([1.e-02, 1.e-01, 1.e+00, 1.e+01, 1.e+02]),\n",
       "                         'svm__gamma': array([1.e-02, 1.e-01, 1.e+00, 1.e+01, 1.e+02]),\n",
       "                         'svm__kernel': ['rbf']},\n",
       "             scoring='f1_weighted', verbose=1.5)"
      ]
     },
     "execution_count": 19,
     "metadata": {},
     "output_type": "execute_result"
    }
   ],
   "source": [
    "# otimizando hiperparametros do svm\n",
    "\n",
    "df = pd.read_csv('../datasets/german_credit_data.csv', index_col=0)          \n",
    "\n",
    "X = df.drop(columns=\"Risk\")\n",
    "y = df[\"Risk\"]\n",
    "\n",
    "X_train, X_test, y_train, y_test = train_test_split(X, \n",
    "                                                    y, \n",
    "                                                    test_size=0.2, \n",
    "                                                    random_state=42,\n",
    "                                                    stratify=y)\n",
    "\n",
    "\n",
    "######################## PIPELINE\n",
    "\n",
    "from sklearn.pipeline import Pipeline\n",
    "from sklearn.compose import ColumnTransformer\n",
    "\n",
    "# ==========================================\n",
    "# transformer das features numericas (pipeline de processamento)\n",
    "\n",
    "from sklearn.impute import SimpleImputer\n",
    "from sklearn.preprocessing import StandardScaler\n",
    "\n",
    "# NO CASO DO SVM, A NORMALIZAÇÃO É IMPRESCINDÍVEL!!!!\n",
    "transf_feat_nums = Pipeline([(\"simple_imput_num\", SimpleImputer(strategy=\"mean\")), \n",
    "                             (\"std_scaler\", StandardScaler())])\n",
    "\n",
    "features_nums = X.select_dtypes(include=np.number).columns.tolist()\n",
    "\n",
    "# ==========================================\n",
    "# transformer das features categoricas (pipeline de processamento)\n",
    "\n",
    "from sklearn.preprocessing import OneHotEncoder\n",
    "\n",
    "transf_feat_cats = Pipeline([(\"simple_imput_cat\", SimpleImputer(strategy=\"most_frequent\")),\n",
    "                             (\"onehot\", OneHotEncoder())])\n",
    "\n",
    "features_cats = X.select_dtypes(exclude=np.number).columns.tolist()\n",
    "\n",
    "# ==========================================\n",
    "\n",
    "pre_processador = ColumnTransformer([(\"transf_num\", transf_feat_nums, features_nums), \n",
    "                                     (\"transf_cat\", transf_feat_cats, features_cats)])\n",
    "\n",
    "\n",
    "from sklearn.svm import SVC\n",
    "\n",
    "# pipeline final, com pre-processamento, e depois a modelagem\n",
    "pipe = Pipeline([('pre_process', pre_processador),\n",
    "                 ('svm', SVC(random_state=42))])\n",
    "\n",
    "######################## GRID SEARCH\n",
    "\n",
    "from sklearn.model_selection import GridSearchCV\n",
    "\n",
    "param_grid_svm = {\"svm__kernel\" : [\"rbf\"],\n",
    "                  \"svm__C\" : np.logspace(-2, 2, 5),\n",
    "                  \"svm__gamma\" : np.logspace(-2, 2, 5)}\n",
    "\n",
    "grid_svm = GridSearchCV(pipe, param_grid_svm, scoring=\"f1_weighted\", cv=5, verbose=1.5)\n",
    "\n",
    "grid_svm.fit(X_train, y_train)"
   ]
  },
  {
   "cell_type": "code",
   "execution_count": 20,
   "metadata": {
    "ExecuteTime": {
     "end_time": "2021-10-02T20:33:45.738211Z",
     "start_time": "2021-10-02T20:33:45.511348Z"
    }
   },
   "outputs": [
    {
     "name": "stdout",
     "output_type": "stream",
     "text": [
      "Matriz de confusão do modelo nos dados de teste:\n",
      "\n",
      "[[ 17  43]\n",
      " [ 18 122]]\n"
     ]
    },
    {
     "data": {
      "image/png": "[encoded data removed]",
      "text/plain": [
       "<Figure size 432x288 with 2 Axes>"
      ]
     },
     "metadata": {
      "needs_background": "light"
     },
     "output_type": "display_data"
    },
    {
     "name": "stdout",
     "output_type": "stream",
     "text": [
      "\n",
      "Matriz de confusão do modelo nos dados de teste:\n",
      "\n",
      "              precision    recall  f1-score   support\n",
      "\n",
      "         bad       0.49      0.28      0.36        60\n",
      "        good       0.74      0.87      0.80       140\n",
      "\n",
      "    accuracy                           0.69       200\n",
      "   macro avg       0.61      0.58      0.58       200\n",
      "weighted avg       0.66      0.69      0.67       200\n",
      "\n"
     ]
    }
   ],
   "source": [
    "y_pred = grid_svm.predict(X_test)\n",
    "\n",
    "from sklearn.metrics import classification_report, confusion_matrix\n",
    "\n",
    "print(\"Matriz de confusão do modelo nos dados de teste:\\n\")\n",
    "print(confusion_matrix(y_test, y_pred))\n",
    "\n",
    "plot_confusion_matrix(grid_svm, X_test, y_test)\n",
    "plt.show()\n",
    "\n",
    "print(\"\\nMatriz de confusão do modelo nos dados de teste:\\n\")\n",
    "print(classification_report(y_test, y_pred))"
   ]
  },
  {
   "cell_type": "markdown",
   "metadata": {},
   "source": [
    "Para o kernel linear, existe uma implementação mais eficiente, a classe [LinearSVC](https://scikit-learn.org/stable/modules/generated/sklearn.svm.LinearSVC.html). Vamos fazer o GridSearch (em o `gamma`, pois este parâmetro não é definido pro kernel linear, mas alternando as formas de regularização):"
   ]
  },
  {
   "cell_type": "code",
   "execution_count": 23,
   "metadata": {
    "ExecuteTime": {
     "end_time": "2021-10-02T20:36:02.178969Z",
     "start_time": "2021-10-02T20:35:57.622787Z"
    }
   },
   "outputs": [
    {
     "data": {
      "text/plain": [
       "GridSearchCV(cv=5,\n",
       "             estimator=Pipeline(steps=[('pre_process',\n",
       "                                        ColumnTransformer(transformers=[('transf_num',\n",
       "                                                                         Pipeline(steps=[('simple_imput_num',\n",
       "                                                                                          SimpleImputer()),\n",
       "                                                                                         ('std_scaler',\n",
       "                                                                                          StandardScaler())]),\n",
       "                                                                         ['Age',\n",
       "                                                                          'Job',\n",
       "                                                                          'Credit '\n",
       "                                                                          'amount',\n",
       "                                                                          'Duration']),\n",
       "                                                                        ('transf_cat',\n",
       "                                                                         Pipeline(steps=[('simple_imput_cat',\n",
       "                                                                                          SimpleImputer(strategy='most_frequent')),\n",
       "                                                                                         ('onehot',\n",
       "                                                                                          OneHotEncoder(...\n",
       "                                                                          'Housing',\n",
       "                                                                          'Saving '\n",
       "                                                                          'accounts',\n",
       "                                                                          'Checking '\n",
       "                                                                          'account',\n",
       "                                                                          'Purpose'])])),\n",
       "                                       ('svm',\n",
       "                                        LinearSVC(dual=False, max_iter=50000,\n",
       "                                                  random_state=42))]),\n",
       "             param_grid={'svm__C': array([1.00000000e-04, 3.59381366e-04, 1.29154967e-03, 4.64158883e-03,\n",
       "       1.66810054e-02, 5.99484250e-02, 2.15443469e-01, 7.74263683e-01,\n",
       "       2.78255940e+00, 1.00000000e+01]),\n",
       "                         'svm__penalty': ['l1', 'l2']},\n",
       "             scoring='f1_weighted')"
      ]
     },
     "execution_count": 23,
     "metadata": {},
     "output_type": "execute_result"
    }
   ],
   "source": [
    "# otimizando hiperparametros do svm\n",
    "\n",
    "df = pd.read_csv('../datasets/german_credit_data.csv', index_col=0)          \n",
    "\n",
    "X = df.drop(columns=\"Risk\")\n",
    "y = df[\"Risk\"]\n",
    "\n",
    "X_train, X_test, y_train, y_test = train_test_split(X, \n",
    "                                                    y, \n",
    "                                                    test_size=0.2, \n",
    "                                                    random_state=42,\n",
    "                                                    stratify=y)\n",
    "\n",
    "\n",
    "######################## PIPELINE\n",
    "\n",
    "from sklearn.pipeline import Pipeline\n",
    "from sklearn.compose import ColumnTransformer\n",
    "\n",
    "# ==========================================\n",
    "# transformer das features numericas (pipeline de processamento)\n",
    "\n",
    "from sklearn.impute import SimpleImputer\n",
    "from sklearn.preprocessing import StandardScaler\n",
    "\n",
    "transf_feat_nums = Pipeline([(\"simple_imput_num\", SimpleImputer(strategy=\"mean\")), \n",
    "                             (\"std_scaler\", StandardScaler())])\n",
    "\n",
    "features_nums = X.select_dtypes(include=np.number).columns.tolist()\n",
    "\n",
    "# ==========================================\n",
    "# transformer das features categoricas (pipeline de processamento)\n",
    "\n",
    "from sklearn.preprocessing import OneHotEncoder\n",
    "\n",
    "transf_feat_cats = Pipeline([(\"simple_imput_cat\", SimpleImputer(strategy=\"most_frequent\")),\n",
    "                             (\"onehot\", OneHotEncoder())])\n",
    "\n",
    "features_cats = X.select_dtypes(exclude=np.number).columns.tolist()\n",
    "\n",
    "# ==========================================\n",
    "\n",
    "pre_processador = ColumnTransformer([(\"transf_num\", transf_feat_nums, features_nums), \n",
    "                                     (\"transf_cat\", transf_feat_cats, features_cats)])\n",
    "\n",
    "\n",
    "from sklearn.svm import LinearSVC\n",
    "\n",
    "# pipeline final, com pre-processamento, e depois a modelagem\n",
    "pipe = Pipeline([('pre_process', pre_processador),\n",
    "                 ('svm', LinearSVC(random_state=42, max_iter=50000, dual=False))])\n",
    "\n",
    "######################## GRID SEARCH\n",
    "\n",
    "from sklearn.model_selection import GridSearchCV\n",
    "\n",
    "param_grid_svm = {\"svm__C\" : np.logspace(-4, 1, 10),\n",
    "                  \"svm__penalty\" : [\"l1\", \"l2\"]}\n",
    "\n",
    "grid_svm = GridSearchCV(pipe, param_grid_svm, scoring=\"f1_weighted\", cv=5, verbose=0)\n",
    "\n",
    "grid_svm.fit(X_train, y_train)"
   ]
  },
  {
   "cell_type": "code",
   "execution_count": 24,
   "metadata": {
    "ExecuteTime": {
     "end_time": "2021-10-02T20:36:05.805246Z",
     "start_time": "2021-10-02T20:36:05.590484Z"
    }
   },
   "outputs": [
    {
     "name": "stdout",
     "output_type": "stream",
     "text": [
      "Matriz de confusão do modelo nos dados de teste:\n",
      "\n",
      "[[ 12  48]\n",
      " [ 14 126]]\n"
     ]
    },
    {
     "data": {
      "image/png": "[encoded data removed]",
      "text/plain": [
       "<Figure size 432x288 with 2 Axes>"
      ]
     },
     "metadata": {
      "needs_background": "light"
     },
     "output_type": "display_data"
    },
    {
     "name": "stdout",
     "output_type": "stream",
     "text": [
      "\n",
      "Matriz de confusão do modelo nos dados de teste:\n",
      "\n",
      "              precision    recall  f1-score   support\n",
      "\n",
      "         bad       0.46      0.20      0.28        60\n",
      "        good       0.72      0.90      0.80       140\n",
      "\n",
      "    accuracy                           0.69       200\n",
      "   macro avg       0.59      0.55      0.54       200\n",
      "weighted avg       0.65      0.69      0.65       200\n",
      "\n"
     ]
    }
   ],
   "source": [
    "y_pred = grid_svm.predict(X_test)\n",
    "\n",
    "from sklearn.metrics import classification_report, confusion_matrix\n",
    "\n",
    "print(\"Matriz de confusão do modelo nos dados de teste:\\n\")\n",
    "print(confusion_matrix(y_test, y_pred))\n",
    "\n",
    "plot_confusion_matrix(grid_svm, X_test, y_test)\n",
    "plt.show()\n",
    "\n",
    "print(\"\\nMatriz de confusão do modelo nos dados de teste:\\n\")\n",
    "print(classification_report(y_test, y_pred))"
   ]
  },
  {
   "cell_type": "markdown",
   "metadata": {},
   "source": [
    "E esse é o SVM para classificação! :)\n",
    "\n",
    "O SVM també pode ser utilizado para regressão, vamos ver a seguir!"
   ]
  },
  {
   "cell_type": "markdown",
   "metadata": {},
   "source": [
    "____\n",
    "____\n",
    "____"
   ]
  },
  {
   "cell_type": "markdown",
   "metadata": {},
   "source": [
    "## 6) SVM para regressão\n",
    "\n",
    "Embora fizemos nossa apresentação do SVM como um classificador, também é possível utilizar este método para regressão!\n",
    "\n",
    "Todos os elementos do classificador SVM (margem, kernel, etc.) também são relevantes aqui.\n",
    "\n",
    "A ideia é bem simples: utilização de um kernel para que um modelo de **regressão linear seja treinado no espaço de features**. No espaço de inputs, este modelo é refletido como uma regressão não-linear (da mesma forma que, no caso de classificação, fronteiras de decisão lineares no espaço de features são refletidas como fronteiras não-lineares no espaçõ de input).\n",
    "\n",
    "A principal diferença é que o conceito de margem também está presente, de modo que **apenas alguns pontos efetivamente vão contriuir para a regressão**. Neste caso, são os pontos **dentro da margem** (região conhecida como $\\epsilon-$tubo) que serão estes vetores de suporte. Ou seja, pontos que estão fora da margem não contribuem para a função de custo.\n",
    "\n",
    "<img src=https://www.saedsayad.com/images/SVR_5.png width=400>\n",
    "\n",
    "Uma comparação entre classificadores e regressores SVM:\n",
    "\n",
    "<img src=https://miro.medium.com/max/1100/1*XE9jt0r1yAW8LnliQ3mllQ.png width=400>"
   ]
  },
  {
   "cell_type": "markdown",
   "metadata": {},
   "source": [
    "A classe de regressores SVM no sklearn é a [SVR](https://scikit-learn.org/stable/modules/generated/sklearn.svm.SVR.html). Vamos vê-la em ação!"
   ]
  },
  {
   "cell_type": "code",
   "execution_count": 26,
   "metadata": {
    "ExecuteTime": {
     "end_time": "2021-10-02T20:36:20.538621Z",
     "start_time": "2021-10-02T20:36:20.053524Z"
    }
   },
   "outputs": [
    {
     "name": "stdout",
     "output_type": "stream",
     "text": [
      "\n",
      "####################################################\n",
      "\n"
     ]
    },
    {
     "data": {
      "image/png": "[encoded data removed]",
      "text/plain": [
       "<Figure size 432x288 with 1 Axes>"
      ]
     },
     "metadata": {
      "needs_background": "light"
     },
     "output_type": "display_data"
    },
    {
     "name": "stdout",
     "output_type": "stream",
     "text": [
      "\n",
      "####################################################\n",
      "\n",
      "\n",
      "Métricas de avaliação:\n",
      "R^2: -0.023988901144746277\n",
      "MAE: 59512.303535859435\n",
      "MSE: 7854328904.319294\n",
      "RMSE: 88624.65178673084\n"
     ]
    }
   ],
   "source": [
    "# o mesmo código que usamos na aula de regressão linear :)\n",
    "\n",
    "df = pd.read_csv(\"../datasets/house_prices.csv\")\n",
    "\n",
    "df = df.select_dtypes(include=[np.number])\n",
    "df = df.dropna(axis=\"columns\", how=\"any\")\n",
    "\n",
    "X = df.drop(columns=[\"Id\",\"SalePrice\"])\n",
    "y = df['SalePrice']\n",
    "\n",
    "# 1)\n",
    "from sklearn.svm import SVR\n",
    "\n",
    "# 2)\n",
    "estimador = SVR()\n",
    "\n",
    "# 3)\n",
    "from sklearn.model_selection import train_test_split\n",
    "X_train, X_test, y_train, y_test = train_test_split(X, y, test_size=0.2, random_state=42)\n",
    "\n",
    "# transformação com o standard scaler\n",
    "from sklearn.preprocessing import StandardScaler \n",
    "\n",
    "# instanciando a classe\n",
    "scaler = StandardScaler()\n",
    "\n",
    "scaler.fit(X_train)\n",
    "X_train = pd.DataFrame(scaler.transform(X_train), columns=X_train.columns)\n",
    "\n",
    "X_test = pd.DataFrame(scaler.transform(X_test), columns=X_test.columns)\n",
    "\n",
    "# 4)\n",
    "modelo = estimador.fit(X_train, y_train)\n",
    "\n",
    "# # print(\"Intercepto:\", modelo.intercept_)\n",
    "# print(\"Coeficienter angular:\", modelo.coef_)\n",
    "\n",
    "print(\"\\n####################################################\\n\")\n",
    "\n",
    "# 5)\n",
    "predictions = modelo.predict(X_test)\n",
    "\n",
    "plt.title(\"valor predito vs valor real\")\n",
    "sns.scatterplot(x=predictions, y=y_test)\n",
    "plt.show()\n",
    "\n",
    "print(\"\\n####################################################\\n\")\n",
    "\n",
    "print(\"\\nMétricas de avaliação:\")\n",
    "\n",
    "# 6)\n",
    "from sklearn import metrics\n",
    "\n",
    "print('R^2:', metrics.r2_score(y_test, predictions))\n",
    "print('MAE:', metrics.mean_absolute_error(y_test, predictions))\n",
    "print('MSE:', metrics.mean_squared_error(y_test, predictions))\n",
    "print('RMSE:', np.sqrt(metrics.mean_squared_error(y_test, predictions)))"
   ]
  },
  {
   "cell_type": "markdown",
   "metadata": {},
   "source": [
    "Esse modelo (com parâmetros default) ficou bem ruim, hehehe. Certamente precisamos de ajustes nos hiperparâmetros, com Grid/Random Search! Fica de lição de casa pra vcs! ;)"
   ]
  }
 ],
 "metadata": {
  "kernelspec": {
   "display_name": "Python 3",
   "language": "python",
   "name": "python3"
  },
  "language_info": {
   "codemirror_mode": {
    "name": "ipython",
    "version": 3
   },
   "file_extension": ".py",
   "mimetype": "text/x-python",
   "name": "python",
   "nbconvert_exporter": "python",
   "pygments_lexer": "ipython3",
   "version": "3.8.3"
  }
 },
 "nbformat": 4,
 "nbformat_minor": 2
}
