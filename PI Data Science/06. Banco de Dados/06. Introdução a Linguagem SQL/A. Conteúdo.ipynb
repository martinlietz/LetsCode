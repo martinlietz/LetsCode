{
 "cells": [
  {
   "cell_type": "markdown",
   "metadata": {},
   "source": [
    "<h2>Introdução a Linguagem SQL</h2>\n",
    "<p>Structured Query Language ou SQL é a linguagem mais conhecida do mundo e também a mais popular. É utilizada para executar comandos em Banco de Dados Relacionais, isto é, baseado em tabelas.\n",
    "É por meio dela que criamos databases, tabelas, colunas, indices, garantimos e revogamos privilégios a usuários e consultamos os dados armazenados no banco de dados.\n",
    "</p>"
   ]
  },
  {
   "cell_type": "markdown",
   "metadata": {},
   "source": [
    "SQL é uma linguagem declarativa dividida em conjuntos de comandos \n",
    "- **D**ata **D**efinition **L**anguage (**DDL**)\n",
    "- **D**ata **M**anipulation **L**anguage (**DML**)\n",
    "- **D**ata **C**ontrol **L**anguage (**DCL**)\n",
    "- **T**ransactional **C**ontrol **L**anguage (**TCL**)\n",
    "- **D**ata **Q**uery **L**anguage (**DQL**)."
   ]
  },
  {
   "cell_type": "markdown",
   "metadata": {},
   "source": [
    "# DDL\n",
    "Linguagem de Definição de Dados ou DDL são comandos que permitem ao usuário definir as novas tabelas e os elementos que serão associados a elas.    \n",
    "É responsável pelos comandos de criação e alteração no banco de dados   \n",
    "   \n",
    "Os principais comandos DDL são:  \n",
    "- CREATE\n",
    "  Comando utilizado para criar a estrutura dos dados e tabelas.\n",
    "  ```\n",
    "    CREATE TABLE tb_produtos (\n",
    "      id SERIAL,\n",
    "      nome_produto varchar(40),\n",
    "      valor_produto numeric(16,2),\n",
    "      data_compra date\n",
    "    );\n",
    "  ```\n",
    "- ALTER\n",
    "  Comando utilizado para adicionar, excluir ou modificar as colunas de uma tabela existente.\n",
    "  ```\n",
    "  ALTER TABLE tb_produtos ADD nome_fabricante varchar(50);\n",
    "  ```\n",
    "- DROP\n",
    "  Comando utilizado para excluir estrutura de tabelas.\n",
    "  ```\n",
    "  DROP TABLE tb_produtos;\n",
    "  ```"
   ]
  },
  {
   "cell_type": "markdown",
   "metadata": {},
   "source": [
    "# DML\n",
    "Linguagem de Manipulação de Dados ou DML são comandos utilizados   \n",
    "para a recuperação, inclusão, remoção e modificação de informações em bancos de dados.  \n",
    "  \n",
    "Os principais comandos DML são:  \n",
    "    \n",
    "- INSERT\n",
    "    Comando utilizado para inserção de registros no banco de dados.\n",
    "    ```\n",
    "    INSERT INTO tb_cidades(nome,idEstado) VALUES ('São Thomé das Letras','1');\n",
    "    ```\n",
    "- UPDATE\n",
    "    Comando utilizado para alteração de registro no banco de dados.\n",
    "    ```\n",
    "    UPDATE tb_cidades SET idEstado = 11 WHERE nome = 'São Thomé das Letras';\n",
    "    ```\n",
    "- DELETE\n",
    "    Comando utilizado para excluir registro no banco de dados.\n",
    "    ```\n",
    "    DELETE FROM tb_cidades WHERE nome = 'São Thomé das Letras';\n",
    "    ```"
   ]
  },
  {
   "cell_type": "markdown",
   "metadata": {},
   "source": [
    "# DCL\n",
    "Linguagem de Controle de Dados ou DCL são comandos utilizados para controlar o acesso e gerenciar permissões de usuários no banco de dados.\n",
    "\n",
    "Os principais comandos DCL são:\n",
    "- GRANT\n",
    "    Comando utilizado para atribuir privilégios de acesso do usuário a objetos do banco de dados.\n",
    "    ```\n",
    "    CREATE USER aluno WITH PASSWORD 'aluno';\n",
    "\n",
    "    GRANT CONNECT ON DATABASE bd_cidades_estados TO aluno;\n",
    "\n",
    "    GRANT SELECT, DELETE ON ALL TABLES IN SCHEMA public TO aluno;\n",
    "    ```\n",
    "- REVOKE\n",
    "    Comando utilizado para revogar privilégios de acesso do usuário a objetos do banco de dados.\n",
    "    ```\n",
    "    REVOKE ALL\n",
    "    ON tb_cidades\n",
    "    FROM aluno;\n",
    "    ```"
   ]
  },
  {
   "cell_type": "markdown",
   "metadata": {},
   "source": [
    "# TCL\n",
    "Linguagem de Controle de Transações ou TCL são comandos utilizados para gerenciar as mudanças feitas por instruções DML.\n",
    "  \n",
    "Os principais comandos TCL são:  \n",
    "- COMMIT\n",
    "    Comando utilizado para salvar uma transação.\n",
    "    ```\n",
    "    INSERT INTO tb_cidades(nome,idEstado) VALUES ('São Thomé das Letras','1');\n",
    "    COMMIT;\n",
    "    ```\n",
    "- ROLLBACK\n",
    "    Comando utilizado para restaurar o banco de dados ao estado anterior desde o último COMMIT.\n",
    "    ```\n",
    "    DELETE FROM tb_cidades WHERE nome = 'São Thomé das Letras';\n",
    "    COMMIT;\n",
    "    ```"
   ]
  },
  {
   "cell_type": "markdown",
   "metadata": {},
   "source": [
    "# DQL\n",
    "Linguagem de Consulta de Dados ou DQL utiliza-se do comando SELECT para consulta dos dados.\n",
    "```\n",
    "SELECT * FROM tb_cidades;\n",
    "```\n",
    "Limitar o número de linhas extraídas na consulta dos dados:\n",
    "```\n",
    "SELECT * FROM tb_cidades\n",
    "LIMIT 2;\n",
    "```\n",
    "Filtrar as colunas na consulta dos dados:\n",
    "```\n",
    "SELECT uf, nome FROM tb_cidades;\n",
    "```\n",
    "Renomear as colunas na consulta dos dados:\n",
    "```\n",
    "SELECT uf AS UnidadeFederativa,\n",
    "       nome AS NomeCidade\n",
    "FROM tb_cidades;\n",
    "```\n",
    "Ordenar o retorno dos dados na consulta:\n",
    "```\n",
    "SELECT nome\n",
    "FROM tb_cidades\n",
    "ORDER BY nome DESC;\n",
    "```\n",
    "Retornar os dados distintos de uma tabela:\n",
    "```\n",
    "SELECT DISTINCT uf\n",
    "FROM tb_estados;\n",
    "```\n",
    "Listar todos os dados que se enquadrem em uma determinada condição:\n",
    "```\n",
    "SELECT * FROM tb_cidades\n",
    "WHERE nome = 'Sao Paulo';\n",
    "\n",
    "SELECT * FROM tb_cidades\n",
    "WHERE nome LIKE 'S%';\n",
    "```\n",
    "Listar todos os dados que se enquadrem em duas condições:\n",
    "```\n",
    "SELECT *\n",
    "FROM tb_cidades\n",
    "WHERE nome = 'Sao Paulo' AND \n",
    "uf = 'SP'; \n",
    "```"
   ]
  }
 ],
 "metadata": {
  "kernelspec": {
   "display_name": "Python 3.7.8 32-bit",
   "metadata": {
    "interpreter": {
     "hash": "04635d289a519a1410467dd0afb0db42f9184808881ca68b2eb5a687a20a5a94"
    }
   },
   "name": "python3"
  },
  "language_info": {
   "codemirror_mode": {
    "name": "ipython",
    "version": 3
   },
   "file_extension": ".py",
   "mimetype": "text/x-python",
   "name": "python",
   "nbconvert_exporter": "python",
   "pygments_lexer": "ipython3",
   "version": "3.7.8-final"
  },
  "orig_nbformat": 2
 },
 "nbformat": 4,
 "nbformat_minor": 2
}
