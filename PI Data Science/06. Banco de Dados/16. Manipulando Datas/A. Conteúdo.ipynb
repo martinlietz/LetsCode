{
 "cells": [
  {
   "cell_type": "markdown",
   "metadata": {},
   "source": [
    "# Manipulando Datas\n",
    "Vamos supor que precisamos verificar a soma da receitas por mês em nossos dados de teste. Para fazer isto podemos utilizar um GROUP BY, porém temos que organizar os grupos por meses, ou seja, devemos conseguir manipular as datas de forma a pegar somente o valor por mês.\n",
    "\n",
    "Para ações como esta o SQL tem funções específicas para manipulação de datas, que servem tanto para apresentarmos elas em um formato mais amigável quanto para retirarmos valores expecíficos como ano, mês ou dia.\n",
    "\n",
    "Pegando a data atual:\n",
    "\n",
    "Para pegar a data atual usamos a função current_date.\n",
    "\n",
    "Retirando um valor:\n",
    "\n",
    "Para retirar um valor podemos fazer a função date_part.\n",
    "```\n",
    "date_part(text, timestamp)\n",
    "```\n",
    "Exemplo: Pegando o mês referente a data atual\n",
    "```\n",
    " SELECT date_part('month', current_date)\n",
    " ```\n",
    "Exemplo: Mostrando os meses das vendas\n",
    "```\n",
    " SELECT date_part('month', \"Date\") FROM sale\n",
    " ```\n",
    "Exemplo: Verificando a média da receita mensal\n",
    "```\n",
    " SELECT \n",
    "    DATE_PART('month', data_venda), \n",
    "    AVG(valor_venda) FROM vendas\n",
    " GROUP BY DATE_PART('month', data_venda) \n",
    " ORDER BY 1\n",
    " ```\n",
    "Trunc: O date_part permite retornar um tipo expecifico de valor da data, porém pode ser nescessario apenas reduzir sua precisão, cortando os valores que não são necessarios, como por exemplo reduzir uma precisão de segundos para uma precisão de meses, para isto usamos a date_trunc:\n",
    "```\n",
    "date_trunc(text, timestamp)\n",
    "```\n",
    "Exemplo: Pegando o dia atual com precisão de um mês\n",
    "```\n",
    " SELECT date_trunc('month', current_date)\n",
    " ```\n",
    "Exemplo: Pegando a evolução mensal da receita da VanArsdel\n",
    "```\n",
    "SELECT \n",
    "  DATE_TRUNC('month', data_venda),\n",
    "  SUM(valor_venda)\n",
    "FROM vendas\n",
    "INNER JOIN produtos\n",
    "    ON vendas.id_produto = produtos.id\n",
    "WHERE produto.fabricante = 'VanArsdel' \n",
    "GROUP BY 1 \n",
    "ORDER BY 1;\n",
    "```\n",
    "Convertendo data para texto: Outra ação muito utilizada em datas é a conversão para texto com um formato expecífico. Para isto, podemos passar uma coluna contendo datas e enviar o padrão que queremos utilizar com a função:\n",
    "```\n",
    "select to_char(date,padrao)\n",
    "```\n",
    "Exemplo: Convertendo a data atual para o padrão dia/mes/ano\n",
    "```\n",
    "select to_char(current_date,'DD/MM/YYYY')\n",
    "```"
   ]
  }
 ],
 "metadata": {
  "kernelspec": {
   "display_name": "Python 3.7.8 32-bit",
   "metadata": {
    "interpreter": {
     "hash": "04635d289a519a1410467dd0afb0db42f9184808881ca68b2eb5a687a20a5a94"
    }
   },
   "name": "python3"
  },
  "language_info": {
   "codemirror_mode": {
    "name": "ipython",
    "version": 3
   },
   "file_extension": ".py",
   "mimetype": "text/x-python",
   "name": "python",
   "nbconvert_exporter": "python",
   "pygments_lexer": "ipython3",
   "version": "3.7.8-final"
  },
  "orig_nbformat": 2
 },
 "nbformat": 4,
 "nbformat_minor": 2
}
