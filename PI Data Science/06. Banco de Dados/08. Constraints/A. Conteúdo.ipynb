{
 "cells": [
  {
   "cell_type": "markdown",
   "metadata": {},
   "source": [
    "<h2>Constraints</h2>\n",
    "<p>Ao se criar uma coluna, além de escolhermos o tipo de suas variáveis, podemos marca algumas constraints (restrições). Elas impedem que sejam incluído dados no banco que violem as restrições, com isto teremos mais consistência e precisão dos dados.\n",
    "\n",
    "Not null\n",
    "Impede de inserir um registro sem valor nesta coluna.\n",
    "\n",
    "Exemplo: Inserindo linha não nula</p>\n",
    "\n",
    "```\n",
    "CREATE TABLE \"Produtos\" (\n",
    "  valor integer NOT NULL, ...\n",
    ")```"
   ]
  },
  {
   "cell_type": "markdown",
   "metadata": {},
   "source": [
    "## Unique\n",
    "Impede que dois registros tenham o mesmo valor (apenas um por tabela).\n",
    "\n",
    "Exemplo: Inserindo linha unica\n",
    "```\n",
    "CREATE TABLE \"Pessoa\" (\n",
    "  cpf char(11) Unique, ...\n",
    ")\n",
    "```"
   ]
  },
  {
   "cell_type": "markdown",
   "metadata": {},
   "source": [
    "## Default\n",
    "O Default cria um valor padrão para a coluna, assim caso ao ciar um novo registro não seja passado explicitamente um valor, ele terá o valor marcado como default.  \n",
    "  \n",
    "Exemplo: Colocando 0 como saldo padrão de uma conta  \n",
    "```\n",
    "CREATE TABLE \"Conta\" (\n",
    " saldo double DEFAULT 0.0, ...\n",
    ")\n",
    "```"
   ]
  },
  {
   "cell_type": "markdown",
   "metadata": {},
   "source": [
    "## Check\n",
    "O check é uma maneira de personalizar o constraint com ele podemos criar uma lógica própria para o valor de uma variável.\n",
    "\n",
    "Exemplo: Impedindo de se criar usuários menor de 18 anos  \n",
    "```\n",
    "CREATE TABLE \"Cliente\" (\n",
    "  idade integer CHECK (idade = 18), ...\n",
    ")\n",
    "```"
   ]
  },
  {
   "cell_type": "markdown",
   "metadata": {},
   "source": [
    "\n",
    "## Chaves primarias\n",
    "A chave primaria(primary key em inglês) PK é um identificador do registro. Cada registro deve obrigatoriamente ter uma chave e esta deve ser única para este registro, ou seja, marcar a coluna como chave primaria implicitamente significa que este valor é unico e not null.\n",
    "\n",
    "Exemplo: Colocando o id como chave primaria de um produto\n",
    "```\n",
    "CREATE TABLE \"Produtos\" (\n",
    "  id_produto integer PRIMARY KEY,\n",
    ")\n",
    "```"
   ]
  },
  {
   "cell_type": "markdown",
   "metadata": {},
   "source": [
    "## Chaves Estrangeira\n",
    "Além das chaves primarias existem um tipo de chaves muito utilizado, chamados chaves estrangeiras(foreign key em inglês) FK.\n",
    "\n",
    "Elas permitem criar relacionamentos entre tabelas, por exemplo, um registro de venda pode ter o ID do produto que foi vendido, assim ele se relaciona com a tabela de produtos através do ID. Este podemos marcar chave estrangeira, assim deixamos explicito o relacionamento entre as tabelas para nosso SGBD.\n",
    "\n",
    "Somente a inclusão dessa pode ser suficiente para podermos utilizar buscar dados de um produto através de uma venda, porém se marcamos este ID como uma chave estrageira impedimos de se criar um venda com um ID de produto inexistente, assim damos mais consistência ao nossos dados.\n",
    "\n",
    "Exemplo1: Referenciando vendas a produtos\n",
    "```\n",
    "CREATE TABLE \"Vendas\" (\n",
    "  id_vendas integer PRIMARY KEY, \n",
    "  id_produto integer REFERENCES  \"Produtos\" (id_produto),\n",
    ")\n",
    "```\n",
    "Exemplo2: Referenciando vendas a produtos\n",
    "```\n",
    "CREATE TABLE \"Vendas\" (\n",
    "\n",
    " id_vendas integer PRIMARY KEY, \n",
    " id_produto integer, \n",
    " FOREIGN KEY (id_produto) REFERENCES \"Produtos\" (id_produto), ...\n",
    ") \n",
    "```"
   ]
  }
 ],
 "metadata": {
  "kernelspec": {
   "display_name": "Python 3.7.8 32-bit",
   "metadata": {
    "interpreter": {
     "hash": "04635d289a519a1410467dd0afb0db42f9184808881ca68b2eb5a687a20a5a94"
    }
   },
   "name": "python3"
  },
  "language_info": {
   "codemirror_mode": {
    "name": "ipython",
    "version": 3
   },
   "file_extension": ".py",
   "mimetype": "text/x-python",
   "name": "python",
   "nbconvert_exporter": "python",
   "pygments_lexer": "ipython3",
   "version": "3.7.8-final"
  },
  "orig_nbformat": 2
 },
 "nbformat": 4,
 "nbformat_minor": 2
}
