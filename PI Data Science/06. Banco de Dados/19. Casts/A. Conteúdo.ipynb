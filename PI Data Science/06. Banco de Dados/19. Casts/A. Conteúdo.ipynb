{
 "cells": [
  {
   "cell_type": "markdown",
   "metadata": {},
   "source": [
    "# Casts\n",
    "As funções CAST são usadas para fazer uma conversão dos tipos dos dados. Com ela podemos converter tipos compativeis, como double para float ou data para varchar.\n",
    "\n",
    "Codigo:\n",
    "```\n",
    "SELECT CAST(valor AS tipo)\n",
    "```\n",
    "Exemplo: convertendo a soma da receita em double para um valor inteiro\n",
    "```\n",
    " SELECT CAST(SUM(\"Revenue\") AS INTEGER) FROM vendas;\n",
    "```\n",
    "No PostgreSQL, ainda existe uma notação simplificada para o Casting, utilizando o símbolo \"::\". Neste caso, o exemplo acima ficaria assim:\n",
    "```\n",
    " SELECT SUM(\"Revenue\")::INTEGER FROM vendas;\n",
    "```\n",
    "Case\n",
    "O comando CASE serve para construirmos uma nova coluna, com valores determinados por uma comparação.\n",
    "\n",
    "Exemplo: imagine que quero criar uma coluna chamada van, com a soma dos valores de receita da VanArsdel, e uma segunda coluna chamada notVan, com a soma dos valores de receita que das empresas que não a VanArsdel. Podemos executar isso através do comando abaixo:\n",
    "```\n",
    "select date_part('month', data) as mes, \n",
    "sum(case when produtos.fabricante = 'VanArsdel' then revenue end) as van,\n",
    "sum(case when produtos.fabricante != 'VanArsdel' then revenue end) as notVan\n",
    "from vendas, produtos\n",
    "where vendas.id_produto = produtos.id_produto\n",
    "group by mes\n",
    "order by mes\n",
    "```"
   ]
  }
 ],
 "metadata": {
  "kernelspec": {
   "display_name": "Python 3.7.8 32-bit",
   "metadata": {
    "interpreter": {
     "hash": "04635d289a519a1410467dd0afb0db42f9184808881ca68b2eb5a687a20a5a94"
    }
   },
   "name": "python3"
  },
  "language_info": {
   "codemirror_mode": {
    "name": "ipython",
    "version": 3
   },
   "file_extension": ".py",
   "mimetype": "text/x-python",
   "name": "python",
   "nbconvert_exporter": "python",
   "pygments_lexer": "ipython3",
   "version": "3.7.8-final"
  },
  "orig_nbformat": 2
 },
 "nbformat": 4,
 "nbformat_minor": 2
}
