{
 "cells": [
  {
   "cell_type": "markdown",
   "metadata": {},
   "source": [
    "# Amazon Redshift\n",
    "O Amazon Redshift é um serviço de data warehouse rápido, totalmente gerenciado e em escala de petabytes que torna simples e acessível a análise eficiente de todos os seus dados com o uso das ferramentas de business intelligence de que você dispõe. O serviço é otimizado para conjuntos de dados que variam desde algumas centenas de gigabytes a um petabyte ou mais, e custos abaixo de 1.000 USD por terabyte por ano, ou seja, um décimo do custo das soluções tradicionais de warehouse de dados.\n",
    "\n",
    "img\n",
    "\n",
    "O serviço do Amazon Redshift gerencia todo o trabalho de configuração, operação e escalabilidade de um data warehouse. Essas tarefas incluem o provisionamento de capacidade, monitoramento e backup do cluster, e aplicação de patches e atualizações para o mecanismo do Amazon Redshift.\n",
    "\n",
    "## Gerenciamento de clusters\n",
    "Um cluster do Amazon Redshift é um conjunto de nós, que consiste em um nó de liderança e em um ou mais nós de computação. O tipo e o número de nós de computação que você necessita depende do tamanho de seus dados, do número de consultas que você executará e do desempenho de execução de consulta necessários.\n",
    "\n",
    "### Criar e gerenciar clusters\n",
    "Dependendo de suas necessidades de data warehouse, você pode começar com um cluster pequeno de nó único e facilmente escalar para um cluster maior de vários nós à medida que suas exigências mudam. Você pode adicionar ou remover nós de computação do cluster sem nenhuma interrupção no serviço.\n",
    "\n",
    "### Reservar nós de computação\n",
    "Se você pretende manter seu cluster em execução durante um ano ou mais, pode economizar reservando nós de computação para um período de um ano ou três anos. A reserva de nós de computação oferece economia significativa em comparação às taxas por hora que você paga quando provisiona nós de computação sob demanda.\n",
    "\n",
    "### Criar snapshots de cluster\n",
    "Snapshots são backups pontuais de um cluster. Existem dois tipos de snapshots: automatizados e manuais. O Amazon Redshift armazena esses snapshots internamente no Amazon Simple Storage Service (Amazon S3) usando uma conexão Secure Sockets Layer (SSL) criptografada. Se você precisar restaurar a partir de um snapshot, o Amazon Redshift criará um novo cluster e importará dados do snapshot especificado.\n",
    "\n",
    "## Segurança e acesso a clusters\n",
    "Há vários recursos relacionados ao acesso e à segurança de clusters no Amazon Redshift. Esses recursos ajudam você a controlar o acesso ao seu cluster, definir regras de conectividade e criptografas dados e conexões. Esses recursos são além dos recursos relacionados ao acesso e à segurança de banco de dados no Amazon Redshift.\n",
    "\n",
    "### Encryption\n",
    "Quando você provisiona o cluster, opcionalmente, pode optar por criptografar o cluster para segurança adicional. Ao permitir a criptografia, o Amazon Redshift armazena todos os dados em tabelas criadas pelo usuário em um formato criptografado. Você pode usar o AWS Key Management Service (AWS KMS) para gerenciar suas chaves de criptografia do Amazon Redshift.\n",
    "\n",
    "A criptografia é uma propriedade imutável do cluster. A única forma de mudar de um cluster criptografado para um cluster não criptografado é descarregar os dados e recarregá-los em um novo cluster. A criptografia aplica-se ao cluster e a todos os backups. Quando você restaura um cluster a partir de um snapshot criptografado, o novo cluster também é criptografado.\n",
    "\n",
    "## Monitoramento de clusters\n",
    "Há vários recursos relacionados ao monitoramento no Amazon Redshift. Você pode usar o log de auditoria do banco de dados para gerar logs de atividades, configurar eventos e assinaturas de notificações para rastrear informações de seu interesse. Use as métricas no Amazon Redshift e no Amazon CloudWatch para saber sobre a saúde e o desempenho de seus clusters e bancos de dados.\n",
    "\n",
    "## Databases\n",
    "O Amazon Redshift cria um banco de dados quando você provisiona um cluster. Este é o banco de dados que você usa para carregar dados e executar consultas em seus dados. Você pode criar bancos de dados adicionais executando um comando SQL, conforme necessário.\n",
    "\n",
    "## Conclusão\n",
    "O Amazon Redshift é um serviço de armazenamento de dados em escala de petabytes totalmente gerenciado na nuvem. Você pode começar com apenas algumas centenas de gigabytes de dados e escalar para um petabyte ou mais. Isso permite que você use seus dados para adquirir novos insights para seus negócios e clientes.\n",
    "\n",
    "## Referência\n",
    "<a href=\"https://docs.aws.amazon.com/pt_br/redshift/?id=docs_gateway\">Documentação do Amazon Redshift</a>"
   ]
  }
 ],
 "metadata": {
  "kernelspec": {
   "display_name": "Python 3.7.8 32-bit",
   "metadata": {
    "interpreter": {
     "hash": "04635d289a519a1410467dd0afb0db42f9184808881ca68b2eb5a687a20a5a94"
    }
   },
   "name": "python3"
  },
  "language_info": {
   "codemirror_mode": {
    "name": "ipython",
    "version": 3
   },
   "file_extension": ".py",
   "mimetype": "text/x-python",
   "name": "python",
   "nbconvert_exporter": "python",
   "pygments_lexer": "ipython3",
   "version": "3.7.8-final"
  },
  "orig_nbformat": 2
 },
 "nbformat": 4,
 "nbformat_minor": 2
}
