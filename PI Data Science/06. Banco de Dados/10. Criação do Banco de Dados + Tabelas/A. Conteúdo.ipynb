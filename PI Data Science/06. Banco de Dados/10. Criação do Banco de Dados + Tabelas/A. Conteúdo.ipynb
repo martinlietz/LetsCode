{
 "cells": [
  {
   "cell_type": "markdown",
   "metadata": {},
   "source": [
    "# Criação do Banco de Dados + Tabelas\n",
    "Vimos linguagem SQL agora vamos praticar!\n",
    "\n",
    "Conectado ao Banco de Dados RDS Postgres, crie o database northwind.\n",
    "```\n",
    "/*Estrutura do database northwind*/\n",
    "\n",
    "CREATE DATABASE northwind\n",
    "    WITH \n",
    "    OWNER = letscode\n",
    "    ENCODING = 'UTF8'\n",
    "    CONNECTION LIMIT = -1;\n",
    "\n",
    "```\n",
    "Vamos utilizar o arquivo northwind.sql para criar as tabelas Customers, Categories, Employees, Order_Details, Orders, Products, Shippers e Suppliers.\n",
    "\n",
    "Vamos utilizar o arquivo northwind.sql para inserir os registros nas tabelas Customers, Categories, Employees, Order_Details, Orders, Products, Shippers e Suppliers.    \n",
    "Voce pode baixar nessa pagina:\n",
    "<a href=\"https://archive.codeplex.com/?p=northwinddatabase\">Northwind database</a>\n",
    "\n",
    "# Consultas\n",
    "## Na tabela Customers:\n",
    "1) Gere uma relação com os nomes dos clientes, suas cidades e países, em ordem alfabética de nome.\n",
    "\n",
    "2) Na relação do item (1), filtre pelos clientes da Alemanha, da França e da Espanha, excluindo-se os clientes que vivem nas capitais destes países.\n",
    "\n",
    "## Na tabela Products:\n",
    "1) Quantos são os produtos que são da CategoryID 2?\n",
    "\n",
    "2) Quantos produtos com SupplierID idêntico ao CategoryID e que custam mais do que 10?\n",
    "\n",
    "3) Liste todos os nomes de produtos, suas *\"Units\"* e seus respectivos preços distintos que pertecem às categorias 1, 2 e 7.\n",
    "\n",
    "4) Liste os 5 primeiros nomes de produtos que começam com \"A\" ou tenham \"h\" no meio do nome. Retorne em português os nomes das colunas.\n",
    "\n",
    "5) Dê a média de preços de todos os produtos das categorias entre 1 e 5. Arredonde para 1 casa decimal.\n",
    "\n",
    "6) Liste a média de preços e a quantidade de produtos distintos por SupplierID; ordene pela média de preço, do maior para o menor, e só mostre os 5 primeiros.\n",
    "\n",
    "## Na tabela Orders:\n",
    "1) Liste o top 3 de funcionários com mais vendas no primeiro trimestre de 1996.\n",
    "\n",
    "2) Liste os clientes com mais pedidos - mas somente aqueles que tiverem a partir de 2 pedidos. Corte explicitamente os clientes que compraram de funcionários sem ID.\n",
    "\n",
    "## Na tabela de Suppliers:\n",
    "1) Conte todos os diferentes fornecedores por país. Agrupe categorizando os países em 'Americas' (se o país for USA, Brazil ou Canada) e 'Outros' senão. Detalhe, estamos buscando aqueles cujo DDD não comece com o dígito 1.\n",
    "\n",
    "2) Existe alguma cidade com mais de um código de área de telefone?\n",
    "\n",
    "3) Tome a primeira letra de cada cidade (ex. \"N\" para \"New Orleans\"). Quais são as 5 iniciais de nomes de cidades que têm mais fornecedores associados (em ordem descrescente de fornecedores/cidade)?"
   ]
  }
 ],
 "metadata": {
  "kernelspec": {
   "display_name": "Python 3.7.8 32-bit",
   "metadata": {
    "interpreter": {
     "hash": "04635d289a519a1410467dd0afb0db42f9184808881ca68b2eb5a687a20a5a94"
    }
   },
   "name": "python3"
  },
  "language_info": {
   "codemirror_mode": {
    "name": "ipython",
    "version": 3
   },
   "file_extension": ".py",
   "mimetype": "text/x-python",
   "name": "python",
   "nbconvert_exporter": "python",
   "pygments_lexer": "ipython3",
   "version": "3.7.8-final"
  },
  "orig_nbformat": 2
 },
 "nbformat": 4,
 "nbformat_minor": 2
}
