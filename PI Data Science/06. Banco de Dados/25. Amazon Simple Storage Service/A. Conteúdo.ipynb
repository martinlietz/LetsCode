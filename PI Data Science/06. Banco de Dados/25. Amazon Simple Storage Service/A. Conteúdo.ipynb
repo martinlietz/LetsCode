{
 "cells": [
  {
   "cell_type": "markdown",
   "metadata": {},
   "source": [
    "# Amazon Simple Storage Service\n",
    "O Amazon Simple Storage Service (Amazon S3) é armazenamento para a Internet. Você pode utilizar o Amazon S3 para armazenar e recuperar qualquer volume de dados, a qualquer momento, de qualquer lugar na Web.\n",
    "\n",
    "<img src=\"https://4matt.com.br/wp-content/uploads/2020/04/Amazon-S3.jpg\" />\n",
    "\n",
    "O Amazon Simple Storage Service (Amazon S3) é armazenamento para a Internet. Ele foi projetado para facilitar a computação na escala da Web.\n",
    "\n",
    "O Amazon S3 tem uma interface de serviços da web simples que você pode usar para armazenar e recuperar qualquer quantidade de dados, a qualquer momento, em qualquer lugar da web. Ela concede acesso a todos os desenvolvedores para a mesma infraestrutura altamente escalável, confiável, segura, rápida e econômica utilizada pela Amazon para rodar a sua própria rede global de sites. O serviço visa maximizar os benefícios de escala e poder passar esses benefícios para os desenvolvedores.\n",
    "\n",
    "Você pode começar a usar o Amazon S3 trabalhando com buckets e objetos. Um bucket é um contêiner de objetos. Um objeto é um arquivo e qualquer metadado que descreva esse arquivo.\n",
    "\n",
    "Para armazenar um objeto no Amazon S3, crie um bucket e faça upload do objeto para o bucket. Quando o objeto estiver no bucket, você poderá abri-lo, fazer download dele e movê-lo. Quando você não precisar mais de um objeto ou um bucket, poderá limpar seus recursos.\n",
    "\n",
    "Com o Amazon S3, você paga somente pelo que for usado.\n",
    "\n",
    "## Conclusão\n",
    "Podemos usar o Amazon S3 como backup e arquivo para dados no local ou na nuvem, dados, mídia e armazenamento e distribuição de software, Big Data, Hospedagem estática de sites, Hospedagem de aplicativos para celular e Internet na nuvem, Recuperação de desastres.\n",
    "\n",
    "## Referências\n",
    "<a href=\"https://docs.aws.amazon.com/pt_br/s3/?id=docs_gateway\">Documentação do Amazon Simple Storage Service</a>"
   ]
  }
 ],
 "metadata": {
  "kernelspec": {
   "display_name": "Python 3.7.8 32-bit",
   "metadata": {
    "interpreter": {
     "hash": "04635d289a519a1410467dd0afb0db42f9184808881ca68b2eb5a687a20a5a94"
    }
   },
   "name": "python3"
  },
  "language_info": {
   "codemirror_mode": {
    "name": "ipython",
    "version": 3
   },
   "file_extension": ".py",
   "mimetype": "text/x-python",
   "name": "python",
   "nbconvert_exporter": "python",
   "pygments_lexer": "ipython3",
   "version": "3.7.8-final"
  },
  "orig_nbformat": 2
 },
 "nbformat": 4,
 "nbformat_minor": 2
}
