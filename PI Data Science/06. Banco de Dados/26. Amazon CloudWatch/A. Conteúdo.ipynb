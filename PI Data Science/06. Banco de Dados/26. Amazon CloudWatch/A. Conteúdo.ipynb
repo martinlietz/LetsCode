{
 "cells": [
  {
   "cell_type": "markdown",
   "metadata": {},
   "source": [
    "# Amazon CloudWatch\n",
    "O Amazon CloudWatch oferece uma solução de monitoramento confiável, escalável e flexível que você pode começar a usar em minutos. Não é mais necessário configurar, gerenciar e escalar sua própria infraestrutura e sistemas de monitoramento.\n",
    "\n",
    "<img src=\"https://encrypted-tbn0.gstatic.com/images?q=tbn:ANd9GcQOZk_opeiWIJO5T3onqpwnVBhHtNGCBkeKN4Lgp9zcPZgIkPODKDa5AC-B3vkHaToIH2U&usqp=CAU\" />\n",
    "\n",
    "O Amazon CloudWatch monitora seus recursos e aplicativos que você executa na AWS em tempo real. Você pode usar o CloudWatch para coletar e monitorar métricas, que são as variáveis que é possível medir para avaliar seus recursos e aplicativos.\n",
    "\n",
    "A página inicial do CloudWatch exibe automaticamente métricas sobre cada serviço AWS que você usa. Também cria painéis personalizados para exibir métricas sobre os aplicativos personalizados e exibir coleções personalizadas de métricas escolhidas.\n",
    "\n",
    "É possível criar alarmes que observem métricas e enviem notificações ou façam alterações automaticamente nos recursos que você está monitorando quando um limite é violado. Por exemplo, você pode monitorar o uso de CPU e leituras e gravações de disco de suas instâncias do Amazon EC2 e, em seguida, usar esses dados para determinar se você deve iniciar instâncias adicionais para lidar com o aumento de carga. Você também pode usar esses dados para interromper instâncias subutilizados para economizar dinheiro.\n",
    "\n",
    "Com o CloudWatch, você obtém visibilidade no âmbito do sistema da utilização de recursos, do desempenho dos aplicativos e da saúde operacional.\n",
    "\n",
    "## Acesso ao CloudWatch\n",
    "- Console do Amazon CloudWatch\n",
    "\n",
    "- AWS CLI\n",
    "\n",
    "- API do CloudWatch\n",
    "\n",
    "- AWS SDK\n",
    "\n",
    "## Conclusão\n",
    "Podemos usar o Amazon CloudWatch para monitorar toda a infraestrutura dos serviços provisionados na AWS. Podemos criar alarmes e métricas a partir de um log de CloudWatch.\n",
    "\n",
    "Podemos integrar um alarme do CloudWatch com o serviço Amazon SNS para sermos notificados via e-mail quando temos um problema no ambiente.\n",
    "\n",
    "O Amazon CloudWatch é um serviço extremamente importante para termos visibilidade da saúde do nosso ambiente, das nossas aplicações.\n",
    "\n",
    "## Referência\n",
    "<a href=\"https://docs.aws.amazon.com/pt_br/cloudwatch/?id=docs_gateway\" >Documentação do Amazon CloudWatch</a>"
   ]
  }
 ],
 "metadata": {
  "kernelspec": {
   "display_name": "Python 3.7.8 32-bit",
   "metadata": {
    "interpreter": {
     "hash": "04635d289a519a1410467dd0afb0db42f9184808881ca68b2eb5a687a20a5a94"
    }
   },
   "name": "python3"
  },
  "language_info": {
   "codemirror_mode": {
    "name": "ipython",
    "version": 3
   },
   "file_extension": ".py",
   "mimetype": "text/x-python",
   "name": "python",
   "nbconvert_exporter": "python",
   "pygments_lexer": "ipython3",
   "version": "3.7.8-final"
  },
  "orig_nbformat": 2
 },
 "nbformat": 4,
 "nbformat_minor": 2
}
