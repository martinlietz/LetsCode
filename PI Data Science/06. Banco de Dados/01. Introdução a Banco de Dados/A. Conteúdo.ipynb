{
 "cells": [
  {
   "cell_type": "markdown",
   "metadata": {},
   "source": [
    "<h2>Introdução a Banco de Dados</h2>\n",
    "<p>Vamos imaginar uma compra na internet. Você está navegando pelo site de uma loja e se interessa por um produto, o adiciona no carrinho de compras, verifica o valor de frete e decide seguir com a compra. Nesse momento você clica no botão “comprar”, automaticamente o site te direciona para uma página de cadastro, ali você informa alguns de seus dados pessoais: Nome; Sobrenome, E-mail, CPF e Endereço.\n",
    "\n",
    "Um próximo passo é escolher a forma de pagamento: Cartão de crédito, Débito, Boleto bancário. Você decide usar o cartão de crédito.\n",
    "\n",
    "Após essas etapas, o site apresenta uma mensagem semelhante à:\n",
    "\n",
    "\"Estamos validando o seu pagamento junto ao banco emissor do cartão.\"\n",
    "\n",
    "Em questões de segundos essa mensagem é substituída pela confirmação de compra e você já recebe um e-mail com o número do pedido.**\n",
    "\n",
    "Pois bem, todas essas informações estão armazenadas em um Banco de Dados.\n",
    "\n",
    "</p>\n",
    "\n",
    "    \"O principio básico de um Banco de Dados é armazenar informações de um sistema\""
   ]
  },
  {
   "cell_type": "markdown",
   "metadata": {},
   "source": [
    "Um site é parte de um sistema. Podemos simplificar um sistema em 3 camadas:\n",
    "\n",
    "``Front-end`` e ``Back-end`` e ``Banco de Dados``.\n",
    "\n",
    "- ``Front-end``  \n",
    "    É a parte que o cliente visualiza de um site, suas cores, animações, disposições de texto, imagem e campos.\n",
    "\n",
    "- ``Back-end``   \n",
    "    É tudo que ocorre nos bastidores de um site, é toda a lógica de instruções e comandos que faz com que o site faça o que queremos.\n",
    "\n",
    "- ``Banco de Dados``   \n",
    "    É onde todos os dados informados no site são gravados.    \n",
    "    \n",
    "<img width=\"30%\" src=\"../img/1557080784763701500.jpg\">"
   ]
  },
  {
   "cell_type": "markdown",
   "metadata": {},
   "source": [
    "# Tipos de Banco de Dados  \n",
    "Assim como existem tipos de Linguagens de Programação Java, C#, Python, entre outras, nós também temos tipos de Banco de Dados.    \n",
    "Eles podem ser dividos em ``Relacionais`` e ``Não Relacionais``.\n",
    "\n"
   ]
  },
  {
   "cell_type": "markdown",
   "metadata": {},
   "source": [
    "- ``Relacionais``  \n",
    "    São dados estruturados em um formato de tabela, coluna e linha (podemos imaginar uma planilha de excel). Utiliza-se da linguagem SQL para manipulação dos dados.\n",
    "    ```\n",
    "    SELECT * FROM usuarios WHERE estado = \"Rio de Janeiro\"\n",
    "    ```\n",
    "\n",
    "    Exemplos de Sistemas de Gerenciamento de Banco de Dados Relacionais Open Source (Grátis)\n",
    "    - **MySQL**\n",
    "    - **PostgreSQL**\n",
    "\n",
    "    Exemplos de Sistemas de Gerenciamento de Banco de Dados Relacionais Pago\n",
    "    - **SQLServer**\n",
    "    - **Oracle**\n",
    "\n"
   ]
  },
  {
   "cell_type": "markdown",
   "metadata": {},
   "source": [
    "- ``Não Relacionais``  \n",
    "    São dados não estruturados, utiliza-se o conceito de Chave e Valor ou Orientado a Documento (podemos imaginar um bloco ``json``).    \n",
    "    Utiliza-se sintaxe de linguagem JSON para manipulação dos dados.\n",
    "    ```\n",
    "        db.usuarios.find(\n",
    "            { estado: { $eq: \"Rio de Janeiro\" } }\n",
    "        )\n",
    "    ```\n",
    "    Exemplos de Sistemas de Gerenciamento de Banco de Dados Não Relacionais\n",
    "    - **Cassandra**\n",
    "    - **MongoDB**\n",
    "    - **AWS DynamoDB**\n",
    "    - **AWS DocumentDB**\n",
    "\n",
    "Cassandra e MongoDB tem versões pagas e gratuitas, que podem ser instaladas localmente.    \n",
    "Os Banco de Dados na AWS são pagos 'sob demanda' e não possuem versão local."
   ]
  }
 ],
 "metadata": {
  "kernelspec": {
   "display_name": "Python 3.7.8 32-bit",
   "metadata": {
    "interpreter": {
     "hash": "04635d289a519a1410467dd0afb0db42f9184808881ca68b2eb5a687a20a5a94"
    }
   },
   "name": "python3"
  },
  "language_info": {
   "codemirror_mode": {
    "name": "ipython",
    "version": 3
   },
   "file_extension": ".py",
   "mimetype": "text/x-python",
   "name": "python",
   "nbconvert_exporter": "python",
   "pygments_lexer": "ipython3",
   "version": "3.7.8-final"
  },
  "orig_nbformat": 2
 },
 "nbformat": 4,
 "nbformat_minor": 2
}
