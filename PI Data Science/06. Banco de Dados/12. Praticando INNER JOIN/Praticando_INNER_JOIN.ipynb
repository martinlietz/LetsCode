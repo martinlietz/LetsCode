{
    "metadata": {
        "kernelspec": {
            "name": "SQL",
            "display_name": "SQL",
            "language": "sql"
        },
        "language_info": {
            "name": "sql",
            "version": ""
        },
        "extensions": {
            "azuredatastudio": {
                "version": 1,
                "views": []
            }
        }
    },
    "nbformat_minor": 2,
    "nbformat": 4,
    "cells": [
        {
            "cell_type": "markdown",
            "source": [
                "Obtenha uma tabela que contenha o id do pedido e o valor total do mesmo"
            ],
            "metadata": {
                "azdata_cell_guid": "6fa0bbd8-a31d-4fb6-993a-2dccab8fcb40"
            },
            "attachments": {}
        },
        {
            "cell_type": "code",
            "source": [
                "SELECT * FROM orders LIMIT 1;\r\n",
                "SELECT * FROM order_details LIMIT 1;\r\n",
                "SELECT * FROM products LIMIT 1;\r\n",
                "SELECT * FROM customers LIMIT 1;"
            ],
            "metadata": {
                "azdata_cell_guid": "10868810-690c-469e-b317-4950bd87d25c"
            },
            "outputs": [
                {
                    "output_type": "display_data",
                    "data": {
                        "text/html": "(1 row(s) affected)"
                    },
                    "metadata": {}
                },
                {
                    "output_type": "display_data",
                    "data": {
                        "text/html": "(1 row(s) affected)"
                    },
                    "metadata": {}
                },
                {
                    "output_type": "display_data",
                    "data": {
                        "text/html": "(1 row(s) affected)"
                    },
                    "metadata": {}
                },
                {
                    "output_type": "display_data",
                    "data": {
                        "text/html": "(1 row(s) affected)"
                    },
                    "metadata": {}
                },
                {
                    "output_type": "display_data",
                    "data": {
                        "text/html": "Total execution time: 00:00:03.412"
                    },
                    "metadata": {}
                },
                {
                    "output_type": "execute_result",
                    "execution_count": 2,
                    "data": {
                        "application/vnd.dataresource+json": {
                            "schema": {
                                "fields": [
                                    {
                                        "name": "order_id"
                                    },
                                    {
                                        "name": "customer_id"
                                    },
                                    {
                                        "name": "employee_id"
                                    },
                                    {
                                        "name": "order_date"
                                    },
                                    {
                                        "name": "required_date"
                                    },
                                    {
                                        "name": "shipped_date"
                                    },
                                    {
                                        "name": "ship_via"
                                    },
                                    {
                                        "name": "freight"
                                    },
                                    {
                                        "name": "ship_name"
                                    },
                                    {
                                        "name": "ship_address"
                                    },
                                    {
                                        "name": "ship_city"
                                    },
                                    {
                                        "name": "ship_region"
                                    },
                                    {
                                        "name": "ship_postal_code"
                                    },
                                    {
                                        "name": "ship_country"
                                    }
                                ]
                            },
                            "data": [
                                {
                                    "0": "10248",
                                    "1": "VINET",
                                    "2": "5",
                                    "3": "1996-07-04",
                                    "4": "1996-08-01",
                                    "5": "1996-07-16",
                                    "6": "3",
                                    "7": "32.38",
                                    "8": "Vins et alcools Chevalier",
                                    "9": "59 rue de l'Abbaye",
                                    "10": "Reims",
                                    "11": "NULL",
                                    "12": "51100",
                                    "13": "France"
                                }
                            ]
                        },
                        "text/html": "<table><tr><th>order_id</th><th>customer_id</th><th>employee_id</th><th>order_date</th><th>required_date</th><th>shipped_date</th><th>ship_via</th><th>freight</th><th>ship_name</th><th>ship_address</th><th>ship_city</th><th>ship_region</th><th>ship_postal_code</th><th>ship_country</th></tr><tr><td>10248</td><td>VINET</td><td>5</td><td>1996-07-04</td><td>1996-08-01</td><td>1996-07-16</td><td>3</td><td>32.38</td><td>Vins et alcools Chevalier</td><td>59 rue de l'Abbaye</td><td>Reims</td><td>NULL</td><td>51100</td><td>France</td></tr></table>"
                    },
                    "metadata": {}
                },
                {
                    "output_type": "execute_result",
                    "execution_count": 2,
                    "data": {
                        "application/vnd.dataresource+json": {
                            "schema": {
                                "fields": [
                                    {
                                        "name": "order_id"
                                    },
                                    {
                                        "name": "product_id"
                                    },
                                    {
                                        "name": "unit_price"
                                    },
                                    {
                                        "name": "quantity"
                                    },
                                    {
                                        "name": "discount"
                                    }
                                ]
                            },
                            "data": [
                                {
                                    "0": "10248",
                                    "1": "11",
                                    "2": "14.0",
                                    "3": "12",
                                    "4": "0.0"
                                }
                            ]
                        },
                        "text/html": "<table><tr><th>order_id</th><th>product_id</th><th>unit_price</th><th>quantity</th><th>discount</th></tr><tr><td>10248</td><td>11</td><td>14.0</td><td>12</td><td>0.0</td></tr></table>"
                    },
                    "metadata": {}
                },
                {
                    "output_type": "execute_result",
                    "execution_count": 2,
                    "data": {
                        "application/vnd.dataresource+json": {
                            "schema": {
                                "fields": [
                                    {
                                        "name": "product_id"
                                    },
                                    {
                                        "name": "product_name"
                                    },
                                    {
                                        "name": "supplier_id"
                                    },
                                    {
                                        "name": "category_id"
                                    },
                                    {
                                        "name": "quantity_per_unit"
                                    },
                                    {
                                        "name": "unit_price"
                                    },
                                    {
                                        "name": "units_in_stock"
                                    },
                                    {
                                        "name": "units_on_order"
                                    },
                                    {
                                        "name": "reorder_level"
                                    },
                                    {
                                        "name": "discontinued"
                                    }
                                ]
                            },
                            "data": [
                                {
                                    "0": "1",
                                    "1": "Chai",
                                    "2": "8",
                                    "3": "1",
                                    "4": "10 boxes x 30 bags",
                                    "5": "18.0",
                                    "6": "39",
                                    "7": "0",
                                    "8": "10",
                                    "9": "1"
                                }
                            ]
                        },
                        "text/html": "<table><tr><th>product_id</th><th>product_name</th><th>supplier_id</th><th>category_id</th><th>quantity_per_unit</th><th>unit_price</th><th>units_in_stock</th><th>units_on_order</th><th>reorder_level</th><th>discontinued</th></tr><tr><td>1</td><td>Chai</td><td>8</td><td>1</td><td>10 boxes x 30 bags</td><td>18.0</td><td>39</td><td>0</td><td>10</td><td>1</td></tr></table>"
                    },
                    "metadata": {}
                },
                {
                    "output_type": "execute_result",
                    "execution_count": 2,
                    "data": {
                        "application/vnd.dataresource+json": {
                            "schema": {
                                "fields": [
                                    {
                                        "name": "customer_id"
                                    },
                                    {
                                        "name": "company_name"
                                    },
                                    {
                                        "name": "contact_name"
                                    },
                                    {
                                        "name": "contact_title"
                                    },
                                    {
                                        "name": "address"
                                    },
                                    {
                                        "name": "city"
                                    },
                                    {
                                        "name": "region"
                                    },
                                    {
                                        "name": "postal_code"
                                    },
                                    {
                                        "name": "country"
                                    },
                                    {
                                        "name": "phone"
                                    },
                                    {
                                        "name": "fax"
                                    }
                                ]
                            },
                            "data": [
                                {
                                    "0": "ALFKI",
                                    "1": "Alfreds Futterkiste",
                                    "2": "Maria Anders",
                                    "3": "Sales Representative",
                                    "4": "Obere Str. 57",
                                    "5": "Berlin",
                                    "6": "NULL",
                                    "7": "12209",
                                    "8": "Germany",
                                    "9": "030-0074321",
                                    "10": "030-0076545"
                                }
                            ]
                        },
                        "text/html": "<table><tr><th>customer_id</th><th>company_name</th><th>contact_name</th><th>contact_title</th><th>address</th><th>city</th><th>region</th><th>postal_code</th><th>country</th><th>phone</th><th>fax</th></tr><tr><td>ALFKI</td><td>Alfreds Futterkiste</td><td>Maria Anders</td><td>Sales Representative</td><td>Obere Str. 57</td><td>Berlin</td><td>NULL</td><td>12209</td><td>Germany</td><td>030-0074321</td><td>030-0076545</td></tr></table>"
                    },
                    "metadata": {}
                }
            ],
            "execution_count": 2
        },
        {
            "cell_type": "markdown",
            "source": [
                "# Praticando INNER JOIN\n",
                "\n",
                "## Informações:\n",
                "\n",
                "```\n",
                "SELECT * FROM orders;\n",
                "SELECT * FROM order_details;\n",
                "SELECT * FROM products;\n",
                "SELECT * FROM customers;\n",
                "```\n",
                "\n",
                "- Em algum momento vocês vão usar:\n",
                "    \n",
                "    ```\n",
                "    SUM((products.unit_price * order_details.quantity * order_details.discount)) + AVG(orders.freight) AS valor_total\n",
                "    ```\n",
                "    \n",
                "- Em alguns momentos vocês vão usar:\n",
                "    \n",
                "    ```\n",
                "    SUM((products.unit_price * order_details.quantity * (1 - order_details.discount))) + AVG(orders.freight) as total_order_price\n",
                "    ```\n",
                "    \n",
                "- Em algum momento vocês vão usar:\n",
                "    \n",
                "    ```\n",
                "      ROUND(\n",
                "          SUM((products.unit_price * order_details.quantity * (1 - order_details.discount))) + AVG(orders.freight)\n",
                "      ) as total_order_price\n",
                "    ```\n",
                "    \n",
                "- Em algum momento vocês vão usar:\n",
                "    \n",
                "    ```\n",
                "      (\n",
                "          SUM((products.unit_price * order_details.quantity * (1 - order_details.discount))) + AVG(orders.freight)\n",
                "      ) / COUNT(orders.order_id) as mean_order_price\n",
                "    ```\n",
                "    \n",
                "\n",
                "1. ."
            ],
            "metadata": {
                "azdata_cell_guid": "9158a52b-bc77-4ab0-a693-7e9a69bcddb8"
            },
            "attachments": {}
        },
        {
            "cell_type": "markdown",
            "source": [
                "1\\. Obtenha uma tabela que contenha o id do pedido e o valor total do mesmo"
            ],
            "metadata": {
                "azdata_cell_guid": "98b1fdde-af07-4a0b-b92d-e9bd8e1c9272"
            },
            "attachments": {}
        },
        {
            "cell_type": "code",
            "source": [
                "SELECT order_details.order_id, \r\n",
                "SUM((order_details.quantity * order_details.discount)) + AVG(orders.freight) AS valor_total\r\n",
                "FROM order_details \r\n",
                "INNER JOIN orders ON orders.order_id = order_details.order_id\r\n",
                "GROUP BY order_details.order_id\r\n",
                "LIMIT 1"
            ],
            "metadata": {
                "azdata_cell_guid": "6c674ac7-03c7-4a91-a36c-1b2820736d0e",
                "tags": []
            },
            "outputs": [
                {
                    "output_type": "display_data",
                    "data": {
                        "text/html": "(1 row(s) affected)"
                    },
                    "metadata": {}
                },
                {
                    "output_type": "display_data",
                    "data": {
                        "text/html": "Total execution time: 00:00:00.866"
                    },
                    "metadata": {}
                },
                {
                    "output_type": "execute_result",
                    "execution_count": 20,
                    "data": {
                        "application/vnd.dataresource+json": {
                            "schema": {
                                "fields": [
                                    {
                                        "name": "order_id"
                                    },
                                    {
                                        "name": "valor_total"
                                    }
                                ]
                            },
                            "data": [
                                {
                                    "0": "10248",
                                    "1": "32.380001068115234"
                                }
                            ]
                        },
                        "text/html": "<table><tr><th>order_id</th><th>valor_total</th></tr><tr><td>10248</td><td>32.380001068115234</td></tr></table>"
                    },
                    "metadata": {}
                }
            ],
            "execution_count": 20
        },
        {
            "cell_type": "markdown",
            "source": [
                "<span style=\"color: rgb(51, 51, 51); font-family: Muli, &quot;Helvetica Neue&quot;, Arial, sans-serif; letter-spacing: -0.1px;\">2. Obtenha uma lista dos 10 clientes que realizaram o maior número de pedidos, bem como o número de pedidos de cada, ordenados em ordem decrescente de nº de pedidos.</span>"
            ],
            "metadata": {
                "azdata_cell_guid": "f47fe276-4fe0-480c-8bc2-010795a7ae80"
            },
            "attachments": {}
        },
        {
            "cell_type": "code",
            "source": [
                "SELECT customers.customer_id, customers.company_name\r\n",
                ",COUNT(orders.order_id) AS num_pedidos\r\n",
                "FROM orders \r\n",
                "INNER JOIN customers ON customers.customer_id = orders.customer_id\r\n",
                "GROUP BY customers.customer_id\r\n",
                "ORDER BY 3 DESC\r\n",
                "LIMIT 10"
            ],
            "metadata": {
                "azdata_cell_guid": "4a6db6aa-dc41-4d61-b7ad-4992476d4d2e",
                "tags": []
            },
            "outputs": [
                {
                    "output_type": "display_data",
                    "data": {
                        "text/html": "(10 row(s) affected)"
                    },
                    "metadata": {}
                },
                {
                    "output_type": "display_data",
                    "data": {
                        "text/html": "Total execution time: 00:00:00.844"
                    },
                    "metadata": {}
                },
                {
                    "output_type": "execute_result",
                    "metadata": {},
                    "execution_count": 17,
                    "data": {
                        "application/vnd.dataresource+json": {
                            "schema": {
                                "fields": [
                                    {
                                        "name": "customer_id"
                                    },
                                    {
                                        "name": "company_name"
                                    },
                                    {
                                        "name": "num_pedidos"
                                    }
                                ]
                            },
                            "data": [
                                {
                                    "0": "SAVEA",
                                    "1": "Save-a-lot Markets",
                                    "2": "31"
                                },
                                {
                                    "0": "ERNSH",
                                    "1": "Ernst Handel",
                                    "2": "30"
                                },
                                {
                                    "0": "QUICK",
                                    "1": "QUICK-Stop",
                                    "2": "28"
                                },
                                {
                                    "0": "FOLKO",
                                    "1": "Folk och fä HB",
                                    "2": "19"
                                },
                                {
                                    "0": "HUNGO",
                                    "1": "Hungry Owl All-Night Grocers",
                                    "2": "19"
                                },
                                {
                                    "0": "RATTC",
                                    "1": "Rattlesnake Canyon Grocery",
                                    "2": "18"
                                },
                                {
                                    "0": "BERGS",
                                    "1": "Berglunds snabbköp",
                                    "2": "18"
                                },
                                {
                                    "0": "HILAA",
                                    "1": "HILARION-Abastos",
                                    "2": "18"
                                },
                                {
                                    "0": "BONAP",
                                    "1": "Bon app'",
                                    "2": "17"
                                },
                                {
                                    "0": "FRANK",
                                    "1": "Frankenversand",
                                    "2": "15"
                                }
                            ]
                        },
                        "text/html": [
                            "<table>",
                            "<tr><th>customer_id</th><th>company_name</th><th>num_pedidos</th></tr>",
                            "<tr><td>SAVEA</td><td>Save-a-lot Markets</td><td>31</td></tr>",
                            "<tr><td>ERNSH</td><td>Ernst Handel</td><td>30</td></tr>",
                            "<tr><td>QUICK</td><td>QUICK-Stop</td><td>28</td></tr>",
                            "<tr><td>FOLKO</td><td>Folk och fä HB</td><td>19</td></tr>",
                            "<tr><td>HUNGO</td><td>Hungry Owl All-Night Grocers</td><td>19</td></tr>",
                            "<tr><td>RATTC</td><td>Rattlesnake Canyon Grocery</td><td>18</td></tr>",
                            "<tr><td>BERGS</td><td>Berglunds snabbköp</td><td>18</td></tr>",
                            "<tr><td>HILAA</td><td>HILARION-Abastos</td><td>18</td></tr>",
                            "<tr><td>BONAP</td><td>Bon app'</td><td>17</td></tr>",
                            "<tr><td>FRANK</td><td>Frankenversand</td><td>15</td></tr>",
                            "</table>"
                        ]
                    }
                }
            ],
            "execution_count": 17
        },
        {
            "cell_type": "markdown",
            "source": [
                "3\\. Obtenha uma tabela que contenha o id e o valor total do pedido e o nome do cliente que o realizou."
            ],
            "metadata": {
                "azdata_cell_guid": "2d200971-a40b-417f-9977-d4e7f64ff583"
            },
            "attachments": {}
        },
        {
            "cell_type": "code",
            "source": [
                "SELECT order_details.order_id, \r\n",
                "SUM((products.unit_price * order_details.quantity * (1 - order_details.discount))) + AVG(orders.freight) as total_order_price\r\n",
                ", customers.company_name\r\n",
                ", customers.contact_name\r\n",
                "FROM order_details \r\n",
                "INNER JOIN products ON order_details.product_id = products.product_id\r\n",
                "INNER JOIN orders ON orders.order_id = order_details.order_id\r\n",
                "INNER JOIN customers ON customers.customer_id = orders.customer_id\r\n",
                "GROUP BY order_details.order_id, customers.company_name, customers.contact_name\r\n",
                "LIMIT 1\r\n",
                ""
            ],
            "metadata": {
                "azdata_cell_guid": "33e654e2-22dc-4346-b3d0-75b0d490d825",
                "tags": []
            },
            "outputs": [
                {
                    "output_type": "display_data",
                    "data": {
                        "text/html": "(1 row(s) affected)"
                    },
                    "metadata": {}
                },
                {
                    "output_type": "display_data",
                    "data": {
                        "text/html": "Total execution time: 00:00:00.830"
                    },
                    "metadata": {}
                },
                {
                    "output_type": "execute_result",
                    "metadata": {},
                    "execution_count": 15,
                    "data": {
                        "application/vnd.dataresource+json": {
                            "schema": {
                                "fields": [
                                    {
                                        "name": "order_id"
                                    },
                                    {
                                        "name": "total_order_price"
                                    },
                                    {
                                        "name": "company_name"
                                    },
                                    {
                                        "name": "contact_name"
                                    }
                                ]
                            },
                            "data": [
                                {
                                    "0": "10254",
                                    "1": "718.7549961358309",
                                    "2": "Chop-suey Chinese",
                                    "3": "Yang Wang"
                                }
                            ]
                        },
                        "text/html": [
                            "<table>",
                            "<tr><th>order_id</th><th>total_order_price</th><th>company_name</th><th>contact_name</th></tr>",
                            "<tr><td>10254</td><td>718.7549961358309</td><td>Chop-suey Chinese</td><td>Yang Wang</td></tr>",
                            "</table>"
                        ]
                    }
                }
            ],
            "execution_count": 15
        },
        {
            "cell_type": "markdown",
            "source": [
                "4\\. Obtenha uma tabela que contenha o país do cliente e o valor da compra que ele realizou."
            ],
            "metadata": {
                "azdata_cell_guid": "7f1b24ff-af49-45f8-940c-a4d35a035a3d"
            },
            "attachments": {}
        },
        {
            "cell_type": "code",
            "source": [
                "SELECT order_details.order_id, \r\n",
                "ROUND(\r\n",
                "      SUM((products.unit_price * order_details.quantity * (1 - order_details.discount))) + AVG(orders.freight)\r\n",
                "  ) as total_order_price\r\n",
                ", customers.company_name\r\n",
                ", customers.country\r\n",
                "FROM order_details \r\n",
                "INNER JOIN products ON order_details.product_id = products.product_id\r\n",
                "INNER JOIN orders ON orders.order_id = order_details.order_id\r\n",
                "INNER JOIN customers ON customers.customer_id = orders.customer_id\r\n",
                "GROUP BY order_details.order_id, customers.company_name, customers.country\r\n",
                "LIMIT 4"
            ],
            "metadata": {
                "azdata_cell_guid": "81030d2e-9d4b-4e23-a48d-447f6e585d9e",
                "tags": []
            },
            "outputs": [
                {
                    "output_type": "display_data",
                    "data": {
                        "text/html": "(4 row(s) affected)"
                    },
                    "metadata": {}
                },
                {
                    "output_type": "display_data",
                    "data": {
                        "text/html": "Total execution time: 00:00:00.866"
                    },
                    "metadata": {}
                },
                {
                    "output_type": "execute_result",
                    "metadata": {},
                    "execution_count": 14,
                    "data": {
                        "application/vnd.dataresource+json": {
                            "schema": {
                                "fields": [
                                    {
                                        "name": "order_id"
                                    },
                                    {
                                        "name": "total_order_price"
                                    },
                                    {
                                        "name": "company_name"
                                    },
                                    {
                                        "name": "country"
                                    }
                                ]
                            },
                            "data": [
                                {
                                    "0": "10897",
                                    "1": "11439.0",
                                    "2": "Hungry Owl All-Night Grocers",
                                    "3": "Ireland"
                                },
                                {
                                    "0": "10637",
                                    "1": "2963.0",
                                    "2": "Queen Cozinha",
                                    "3": "Brazil"
                                },
                                {
                                    "0": "10383",
                                    "1": "1158.0",
                                    "2": "Around the Horn",
                                    "3": "UK"
                                },
                                {
                                    "0": "11074",
                                    "1": "251.0",
                                    "2": "Simons bistro",
                                    "3": "Denmark"
                                }
                            ]
                        },
                        "text/html": [
                            "<table>",
                            "<tr><th>order_id</th><th>total_order_price</th><th>company_name</th><th>country</th></tr>",
                            "<tr><td>10897</td><td>11439.0</td><td>Hungry Owl All-Night Grocers</td><td>Ireland</td></tr>",
                            "<tr><td>10637</td><td>2963.0</td><td>Queen Cozinha</td><td>Brazil</td></tr>",
                            "<tr><td>10383</td><td>1158.0</td><td>Around the Horn</td><td>UK</td></tr>",
                            "<tr><td>11074</td><td>251.0</td><td>Simons bistro</td><td>Denmark</td></tr>",
                            "</table>"
                        ]
                    }
                }
            ],
            "execution_count": 14
        },
        {
            "cell_type": "markdown",
            "source": [
                "5\\. Obtenha uma tabela que contenha uma lista dos países dos clientes e o valor total de compras realizadas em cada um dos países. Ordene a tabela, na order descrescente, considerando o valor total de compras realizadas por país."
            ],
            "metadata": {
                "azdata_cell_guid": "35dff5a8-5264-487e-afc7-e7a7b6c18070"
            },
            "attachments": {}
        },
        {
            "cell_type": "code",
            "source": [
                "SELECT  customers.country\r\n",
                ",ROUND(SUM((order_details.quantity * order_details.discount)) + AVG(orders.freight)) AS valor_total\r\n",
                "FROM customers \r\n",
                "INNER JOIN orders ON customers.customer_id = orders.customer_id\r\n",
                "INNER JOIN order_details ON order_details.order_id = orders.order_id\r\n",
                "GROUP BY customers.country\r\n",
                "ORDER BY 2 DESC\r\n",
                "LIMIT 5"
            ],
            "metadata": {
                "azdata_cell_guid": "f512660a-0bb5-4124-9298-225df094af6b",
                "tags": []
            },
            "outputs": [
                {
                    "output_type": "display_data",
                    "data": {
                        "text/html": "(5 row(s) affected)"
                    },
                    "metadata": {}
                },
                {
                    "output_type": "display_data",
                    "data": {
                        "text/html": "Total execution time: 00:00:00.828"
                    },
                    "metadata": {}
                },
                {
                    "output_type": "execute_result",
                    "metadata": {},
                    "execution_count": 19,
                    "data": {
                        "application/vnd.dataresource+json": {
                            "schema": {
                                "fields": [
                                    {
                                        "name": "country"
                                    },
                                    {
                                        "name": "valor_total"
                                    }
                                ]
                            },
                            "data": [
                                {
                                    "0": "USA",
                                    "1": "813.0"
                                },
                                {
                                    "0": "Germany",
                                    "1": "721.0"
                                },
                                {
                                    "0": "Austria",
                                    "1": "598.0"
                                },
                                {
                                    "0": "Brazil",
                                    "1": "348.0"
                                },
                                {
                                    "0": "Ireland",
                                    "1": "339.0"
                                }
                            ]
                        },
                        "text/html": [
                            "<table>",
                            "<tr><th>country</th><th>valor_total</th></tr>",
                            "<tr><td>USA</td><td>813.0</td></tr>",
                            "<tr><td>Germany</td><td>721.0</td></tr>",
                            "<tr><td>Austria</td><td>598.0</td></tr>",
                            "<tr><td>Brazil</td><td>348.0</td></tr>",
                            "<tr><td>Ireland</td><td>339.0</td></tr>",
                            "</table>"
                        ]
                    }
                }
            ],
            "execution_count": 19
        },
        {
            "cell_type": "markdown",
            "source": [
                "6\\. Obtenha uma tabela com o valor médio das vendas em cada mês (ordenados do mês com mais vendas para o mês com menos vendas)."
            ],
            "metadata": {
                "azdata_cell_guid": "b75e7cda-3cf3-494c-aafc-e19f07b60853"
            },
            "attachments": {}
        },
        {
            "cell_type": "code",
            "source": [
                "WITH base as (\r\n",
                "SELECT  extract(MONTH FROM orders.order_date)::INTEGER AS \"Mes\"\r\n",
                ",extract(YEAR FROM orders.order_date)::INTEGER AS \"Ano\"\r\n",
                ",order_details.order_id\r\n",
                ",(\r\n",
                "      SUM((products.unit_price * order_details.quantity * (1 - order_details.discount))) + AVG(orders.freight)\r\n",
                "  ) / COUNT(orders.order_id) as mean_order_price\r\n",
                "FROM orders \r\n",
                "INNER JOIN order_details ON order_details.order_id = orders.order_id\r\n",
                "INNER JOIN products ON order_details.product_id = products.product_id\r\n",
                "\r\n",
                "GROUP BY order_details.order_id,\r\n",
                "extract(MONTH FROM orders.order_date)::INTEGER \r\n",
                ",extract(YEAR FROM orders.order_date)::INTEGER )\r\n",
                "\r\n",
                "SELECT \"Mes\",\"Ano\", AVG(mean_order_price) AS \"ValorMedia\" FROM base\r\n",
                "GROUP BY \"Ano\", \"Mes\"\r\n",
                "ORDER BY 3 DESC\r\n",
                "--LIMIT 5"
            ],
            "metadata": {
                "azdata_cell_guid": "f6308ac4-8f64-4646-af12-ab30ff1f3b45"
            },
            "outputs": [
                {
                    "output_type": "display_data",
                    "data": {
                        "text/html": "(23 row(s) affected)"
                    },
                    "metadata": {}
                },
                {
                    "output_type": "display_data",
                    "data": {
                        "text/html": "Total execution time: 00:00:00.841"
                    },
                    "metadata": {}
                },
                {
                    "output_type": "execute_result",
                    "metadata": {},
                    "execution_count": 20,
                    "data": {
                        "application/vnd.dataresource+json": {
                            "schema": {
                                "fields": [
                                    {
                                        "name": "Mes"
                                    },
                                    {
                                        "name": "Ano"
                                    },
                                    {
                                        "name": "ValorMedia"
                                    }
                                ]
                            },
                            "data": [
                                {
                                    "0": "11",
                                    "1": "1996",
                                    "2": "875.7396903496298"
                                },
                                {
                                    "0": "2",
                                    "1": "1998",
                                    "2": "864.8733413790296"
                                },
                                {
                                    "0": "1",
                                    "1": "1997",
                                    "2": "820.0519468368522"
                                },
                                {
                                    "0": "3",
                                    "1": "1998",
                                    "2": "725.2787108734099"
                                },
                                {
                                    "0": "12",
                                    "1": "1996",
                                    "2": "690.779970704203"
                                },
                                {
                                    "0": "2",
                                    "1": "1997",
                                    "2": "663.9334034577668"
                                },
                                {
                                    "0": "4",
                                    "1": "1998",
                                    "2": "655.4541779294001"
                                },
                                {
                                    "0": "1",
                                    "1": "1998",
                                    "2": "623.950803782281"
                                },
                                {
                                    "0": "4",
                                    "1": "1997",
                                    "2": "623.5036895240738"
                                },
                                {
                                    "0": "12",
                                    "1": "1997",
                                    "2": "617.0268246040323"
                                },
                                {
                                    "0": "10",
                                    "1": "1997",
                                    "2": "615.270138135"
                                },
                                {
                                    "0": "9",
                                    "1": "1997",
                                    "2": "607.4709721227856"
                                },
                                {
                                    "0": "7",
                                    "1": "1997",
                                    "2": "602.9030381931235"
                                },
                                {
                                    "0": "7",
                                    "1": "1996",
                                    "2": "595.7468928156612"
                                },
                                {
                                    "0": "10",
                                    "1": "1996",
                                    "2": "583.2395930957331"
                                },
                                {
                                    "0": "3",
                                    "1": "1997",
                                    "2": "575.2238776215939"
                                },
                                {
                                    "0": "8",
                                    "1": "1997",
                                    "2": "571.2223439338484"
                                },
                                {
                                    "0": "5",
                                    "1": "1997",
                                    "2": "556.660000682532"
                                },
                                {
                                    "0": "9",
                                    "1": "1996",
                                    "2": "554.6444168636926"
                                },
                                {
                                    "0": "8",
                                    "1": "1996",
                                    "2": "509.30305515414767"
                                },
                                {
                                    "0": "6",
                                    "1": "1997",
                                    "2": "506.1201757445553"
                                },
                                {
                                    "0": "11",
                                    "1": "1997",
                                    "2": "463.8750022495137"
                                },
                                {
                                    "0": "5",
                                    "1": "1998",
                                    "2": "388.08869714029777"
                                }
                            ]
                        },
                        "text/html": [
                            "<table>",
                            "<tr><th>Mes</th><th>Ano</th><th>ValorMedia</th></tr>",
                            "<tr><td>11</td><td>1996</td><td>875.7396903496298</td></tr>",
                            "<tr><td>2</td><td>1998</td><td>864.8733413790296</td></tr>",
                            "<tr><td>1</td><td>1997</td><td>820.0519468368522</td></tr>",
                            "<tr><td>3</td><td>1998</td><td>725.2787108734099</td></tr>",
                            "<tr><td>12</td><td>1996</td><td>690.779970704203</td></tr>",
                            "<tr><td>2</td><td>1997</td><td>663.9334034577668</td></tr>",
                            "<tr><td>4</td><td>1998</td><td>655.4541779294001</td></tr>",
                            "<tr><td>1</td><td>1998</td><td>623.950803782281</td></tr>",
                            "<tr><td>4</td><td>1997</td><td>623.5036895240738</td></tr>",
                            "<tr><td>12</td><td>1997</td><td>617.0268246040323</td></tr>",
                            "<tr><td>10</td><td>1997</td><td>615.270138135</td></tr>",
                            "<tr><td>9</td><td>1997</td><td>607.4709721227856</td></tr>",
                            "<tr><td>7</td><td>1997</td><td>602.9030381931235</td></tr>",
                            "<tr><td>7</td><td>1996</td><td>595.7468928156612</td></tr>",
                            "<tr><td>10</td><td>1996</td><td>583.2395930957331</td></tr>",
                            "<tr><td>3</td><td>1997</td><td>575.2238776215939</td></tr>",
                            "<tr><td>8</td><td>1997</td><td>571.2223439338484</td></tr>",
                            "<tr><td>5</td><td>1997</td><td>556.660000682532</td></tr>",
                            "<tr><td>9</td><td>1996</td><td>554.6444168636926</td></tr>",
                            "<tr><td>8</td><td>1996</td><td>509.30305515414767</td></tr>",
                            "<tr><td>6</td><td>1997</td><td>506.1201757445553</td></tr>",
                            "<tr><td>11</td><td>1997</td><td>463.8750022495137</td></tr>",
                            "<tr><td>5</td><td>1998</td><td>388.08869714029777</td></tr>",
                            "</table>"
                        ]
                    }
                }
            ],
            "execution_count": 20
        }
    ]
}