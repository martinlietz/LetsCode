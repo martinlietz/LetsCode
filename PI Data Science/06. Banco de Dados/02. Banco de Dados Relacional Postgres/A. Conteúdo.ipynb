{
 "cells": [
  {
   "cell_type": "markdown",
   "metadata": {},
   "source": [
    "<h2>Banco de Dados Relacional Postgres</h2>\n",
    "<p>No curso, utilizaremos o sistema de gerenciamento de banco de dados relacional o postgreSQL.\n",
    "\n",
    "PostgreSQL é um poderoso sistema de banco de dados relacional de objeto, de código aberto, com mais de 30 anos de desenvolvimento ativo, que lhe rendeu uma forte reputação de confiabilidade, robustez de recursos e desempenho.\n",
    "\n",
    "Há uma grande quantidade de informações, que descrevem como instalar e usar o PostgreSQL por meio da documentação oficial. A comunidade PostgreSQL oferece muitos lugares úteis para se familiarizar com a tecnologia, descobrir como ela funciona e encontrar oportunidades de carreira. Você pode ter contato com a comunidade postgres por </p>\n",
    "\n",
    "<a href=\"https://www.postgresql.org/community/\" alt='postgresql'>aqui</a>    \n",
    "<a href=\"https://brasilcloud.com.br/tutoriais/como-acessar-banco-de-dados-postgresql-usando-pgadmin/\" alt='postgresql'>Manual da instalação</a>"
   ]
  }
 ],
 "metadata": {
  "kernelspec": {
   "display_name": "Python 3.7.8 32-bit",
   "metadata": {
    "interpreter": {
     "hash": "04635d289a519a1410467dd0afb0db42f9184808881ca68b2eb5a687a20a5a94"
    }
   },
   "name": "python3"
  },
  "language_info": {
   "codemirror_mode": {
    "name": "ipython",
    "version": 3
   },
   "file_extension": ".py",
   "mimetype": "text/x-python",
   "name": "python",
   "nbconvert_exporter": "python",
   "pygments_lexer": "ipython3",
   "version": "3.7.8-final"
  },
  "orig_nbformat": 2
 },
 "nbformat": 4,
 "nbformat_minor": 2
}
