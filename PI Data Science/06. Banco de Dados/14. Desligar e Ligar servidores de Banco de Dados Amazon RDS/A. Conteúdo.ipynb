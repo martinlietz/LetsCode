{
 "cells": [
  {
   "cell_type": "markdown",
   "metadata": {},
   "source": [
    "# Desligar e Ligar servidores de Banco de Dados Amazon RDS\n",
    "## Informações:\n",
    "A definição de preço da AWS é semelhante à utilizada por serviços públicos, como água ou energia. Você paga apenas pelos serviços que utilizar e, quando parar de usá-los, não haverá custos adicionais nem taxas de cancelamento.\n",
    "\n",
    "Para reduzir custos, as empresas que utilizam AWS, podem automatizar rotinas em seus ambientes de desenvolvimento e homologação para desligar e ligar serviços quando necessário.\n",
    "\n",
    "## Proposta:\n",
    "Utilizando a documentação <a href=\"https://letscode.com.br/blog/funcoes-lambda-em-python-na-aws\">Funções Lambda Em Python Na AWS</a> provisione dois serviços Lambda na AWS via AWS Management Console. Adicione um código em Python para Desligar e Ligar o Banco de Dados letscode."
   ]
  }
 ],
 "metadata": {
  "kernelspec": {
   "display_name": "Python 3.7.8 32-bit",
   "metadata": {
    "interpreter": {
     "hash": "04635d289a519a1410467dd0afb0db42f9184808881ca68b2eb5a687a20a5a94"
    }
   },
   "name": "python3"
  },
  "language_info": {
   "codemirror_mode": {
    "name": "ipython",
    "version": 3
   },
   "file_extension": ".py",
   "mimetype": "text/x-python",
   "name": "python",
   "nbconvert_exporter": "python",
   "pygments_lexer": "ipython3",
   "version": "3.7.8-final"
  },
  "orig_nbformat": 2
 },
 "nbformat": 4,
 "nbformat_minor": 2
}
