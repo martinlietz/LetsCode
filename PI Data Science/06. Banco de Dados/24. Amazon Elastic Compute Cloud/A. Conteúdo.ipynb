{
 "cells": [
  {
   "cell_type": "markdown",
   "metadata": {},
   "source": [
    "# Amazon Elastic Compute Cloud\n",
    "O Amazon Elastic Compute Cloud (Amazon EC2) é um serviço da web que fornece capacidade de computação escalável (literalmente, servidores dos datacenters da Amazon) que você pode utilizar para criar e hospedar os seus sistemas de software.\n",
    "\n",
    "<img src=\"https://miro.medium.com/max/360/0*-jK6l0mVK19v2z0X.png\" />\n",
    "\n",
    "## Recursos do Amazon EC2\n",
    "- Ambientes de computação virtual, conhecidos como instâncias\n",
    "\n",
    "- Os modelos pré-configurados para suas instâncias, conhecidos como Imagens de máquina da Amazon (AMIs), que empacotam os bits de que você precisa para seu servidor (incluindo o sistema operacional e software adicional)\n",
    "\n",
    "- Várias configurações de capacidade de CPU, memória, armazenamento e redes para suas instâncias, conhecidas como tipos de instância\n",
    "\n",
    "- Informações seguras de login para suas instâncias usando pares de chave (a AWS armazena a chave pública e você armazena a chave privada em um lugar seguro)\n",
    "\n",
    "- Volumes de armazenamento para dados temporários que são excluídos quando você interrompe, hiberna ou encerra sua instância, conhecidos como volumes de armazenamento de instâncias\n",
    "\n",
    "- Volumes de armazenamento persistentes para seus dados usando o Amazon Elastic Block Store (Amazon EBS), conhecidos como volumes do Amazon EBS\n",
    "\n",
    "- Vários locais físicos para seus recursos, como instâncias e volumes do Amazon EBS, conhecidos como regiões e zonas de disponibilidade\n",
    "\n",
    "- Um firewall que permite especificar os protocolos, portas e intervalos de IPs de origem que podem acessar suas instâncias usando grupos de segurança\n",
    "\n",
    "- Os endereços IPv4 estáticos para computação em nuvem dinâmica, conhecidos como endereços IP elásticos\n",
    "\n",
    "- Metadados, conhecidos como tags, que você pode criar e atribuir aos recursos do Amazon EC2\n",
    "\n",
    "- Redes virtuais isoladas logicamente do restante da Nuvem AWS que você pode criar e, opcionalmente, conectar à sua própria rede, conhecida como nuvens virtuais privadas (VPCs)\n",
    "\n",
    "Conclusão\n",
    "Podemos usar o Amazon EC2 para provisionar instancias Windows, Ubuntu, MacOs, Debian, Amazon Linux, entre outros.\n",
    "\n",
    "Muitas empresas utilizam de instancias do Amazon EC2 para provisionar seus Bancos de Dados Não Relacionais, que é o caso do MongoDB e Cassandra.\n",
    "\n",
    "Referência\n",
    "<a href=\"https://class.letscode.com.br/!https://docs.aws.amazon.com/pt_br/ec2/?id=docs_gateway\"> Documentação do Amazon Elastic Compute Cloud<a/>"
   ]
  }
 ],
 "metadata": {
  "kernelspec": {
   "display_name": "Python 3.7.8 32-bit",
   "metadata": {
    "interpreter": {
     "hash": "04635d289a519a1410467dd0afb0db42f9184808881ca68b2eb5a687a20a5a94"
    }
   },
   "name": "python3"
  },
  "language_info": {
   "codemirror_mode": {
    "name": "ipython",
    "version": 3
   },
   "file_extension": ".py",
   "mimetype": "text/x-python",
   "name": "python",
   "nbconvert_exporter": "python",
   "pygments_lexer": "ipython3",
   "version": "3.7.8-final"
  },
  "orig_nbformat": 2
 },
 "nbformat": 4,
 "nbformat_minor": 2
}
