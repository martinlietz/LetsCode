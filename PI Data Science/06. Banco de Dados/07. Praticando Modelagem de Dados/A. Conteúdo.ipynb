{
 "cells": [
  {
   "cell_type": "markdown",
   "metadata": {},
   "source": [
    "<h2>Praticando Modelagem de Dados</h2>\n",
    "## Informações:\n",
    "Você ficou encarregado(a) de trabalhar no Banco de Dados de um site que vai ser criado para uma Livraria.   \n",
    "   \n",
    "O responsável pelo projeto foi consultar o cliente (livraria) e, a partir dos requisitos que foram solicitados, ele criou um resumo das regras de negócios que você vai precisar ter em mente ao fazer a Modelagem do Banco de Dados.\n",
    "   \n",
    "## Regras de Negócios:\n",
    "Queremos coletar os dados pessoais de nossos clientes: CPF, nome, endereço, telefone e e-mail.   \n",
    "   \n",
    "Os livros que vendemos têm informações associadas a eles, como seu título, categoria, ISBN, ano de publicação, editora, bem como autor ou autores da obra.   \n",
    "   \n",
    "Nossos livros são fornecidos por editoras. Precisamos ter o nome de contato, o e-mail e, no máximo, dois telefones da editora.   \n",
    "   \n",
    "Não é possível ter o mesmo livro vindo de várias editoras. Cada livro é exclusivo de uma editora.   \n",
    "   \n",
    "Nossos clientes podem comprar um ou mais livros em um pedido de compra. Mas, antes que ele faça a compra, é preciso verificar se o livro está disponível em estoque para que a compra seja efetuada.   \n",
    "   \n",
    "## Proposta:\n",
    "Com base nesses requisitos, crie a Modelagem de Dados Conceitual, Modelagem de Dados Lógica e Modelagem de Dados Física desse Banco de Dados e, em seguida, crie um script SQL da criação desse Banco de Dados no PostgreSQL.\n",
    "   \n",
    "## Importante:\n",
    "Utilize o drawio para criar as Modelagens de Dados;   \n",
    "\n",
    "Salve o script SQL em um arquivo no formato script.sql;   \n",
    "\n",
    "Faça um .zip dos arquivos (Modelagens de Dados e script SQL);   \n",
    "\n",
    "Envie o .zip no e-mail do Coder. Título do e-mail: [Modelagem de Dados - Turma #Numero_Turma - Seu_Nome ]</p>   "
   ]
  },
  {
   "cell_type": "code",
   "execution_count": 1,
   "metadata": {},
   "outputs": [
    {
     "name": "stdout",
     "output_type": "stream",
     "text": [
      "10\n"
     ]
    }
   ],
   "source": [
    "x = 10\n",
    "print(x)"
   ]
  },
  {
   "cell_type": "code",
   "execution_count": null,
   "metadata": {},
   "outputs": [],
   "source": []
  }
 ],
 "metadata": {
  "kernelspec": {
   "display_name": "Python 3.7.8 32-bit",
   "metadata": {
    "interpreter": {
     "hash": "04635d289a519a1410467dd0afb0db42f9184808881ca68b2eb5a687a20a5a94"
    }
   },
   "name": "python3"
  },
  "language_info": {
   "codemirror_mode": {
    "name": "ipython",
    "version": 3
   },
   "file_extension": ".py",
   "mimetype": "text/x-python",
   "name": "python",
   "nbconvert_exporter": "python",
   "pygments_lexer": "ipython3",
   "version": "3.7.8-final"
  },
  "orig_nbformat": 2
 },
 "nbformat": 4,
 "nbformat_minor": 2
}
