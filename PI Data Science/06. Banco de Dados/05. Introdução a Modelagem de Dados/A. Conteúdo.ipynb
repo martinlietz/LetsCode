{
 "cells": [
  {
   "cell_type": "markdown",
   "metadata": {},
   "source": [
    "<h2>Introdução a Modelagem de Dados</h2>\n",
    "<p>*\"Modelagem de dados é o ato de explorar estruturas orientadas a dados.\"*\n",
    "\n",
    "Utilizamos Modelagem de Dados para:\n",
    "\n",
    "Representar o ambiente observado;\n",
    "Fornecer processos de validação;\n",
    "Observar processos de relacionamentos entre objetos;\n",
    "Documentar.</p>"
   ]
  },
  {
   "cell_type": "markdown",
   "metadata": {},
   "source": [
    "É importante entender sobre:\n",
    "\n",
    "- **Entidade**\n",
    "    Define qualquer coisa que seja identificável, singular e tenha existência bem delimitada, tais como cidade e estado.\n",
    "       \n",
    "- **Atributo**\n",
    "    É tudo aquilo que pode relacionar como propriedade da entidade, tais como nome da cidade, unidade federativa do estado, etc.\n",
    "     \n",
    "- **Relacionamento**\n",
    "    Descreve um evento significativo que ocorre entre duas entidades.\n",
    "      \n",
    "- **Cardinalidade**\n",
    "    Conceito usado para dizer quantas vezes uma entidade pode se relacionar com outra entidade, também referenciado como “grau de relacionamento”"
   ]
  },
  {
   "cell_type": "markdown",
   "metadata": {},
   "source": [
    "## Modelagem de Dados Conceitual   \n",
    "A modelagem de dados conceitual é utilizada para envolver o cliente, pois o foco aqui é discutir os aspectos do negócio do cliente.     \n",
    "Os exemplos de modelagem de dados vistos pelo modelo conceitual são mais fáceis de compreender, já que não há limitações ou aplicação de tecnologia específica.       \n",
    "\n",
    "Aqui construimos o diagrama de Entidade e Relacionamento, onde são identificados todas as entidades e os relacionamentos entre elas.      \n",
    "     \n",
    "Este diagrama é a chave para a compreensão do modelo conceitual de dados.\n",
    "\n",
    "<img src=\"https://s3-sa-east-1.amazonaws.com/lcpi/e8dc027e-f6de-48c7-a036-83370a7bfc61.PNG\">"
   ]
  },
  {
   "cell_type": "markdown",
   "metadata": {},
   "source": [
    "## Modelagem de Dados Lógica  \n",
    "\n",
    "A modelagem lógica implementa recursos como adequação de padrão e nomenclatura, define as chaves primárias e estrangeiras, normalização, integridade referencial, entre outras. O modelo lógico deve ser criado levando em conta os exemplos de modelagem de dados criados no modelo conceitual.\n",
    "\n",
    "<img src=\"https://s3-sa-east-1.amazonaws.com/lcpi/dd999242-bdcd-429b-a2d7-019811f3f48f.PNG\" >"
   ]
  },
  {
   "cell_type": "markdown",
   "metadata": {},
   "source": [
    "## Modelagem de Dados Física   \n",
    "A modelagem física lida com o design do banco de dados real com base nos requisitos reunidos durante a modelagem lógica.  \n",
    "     \n",
    "<img src=\"https://s3-sa-east-1.amazonaws.com/lcpi/5387b2a7-b61d-4836-be9c-20ce048b075e.PNG\">"
   ]
  },
  {
   "cell_type": "markdown",
   "metadata": {},
   "source": [
    "## Tabela comparativa das modelagens\n",
    "|Caracteristica|\tConceitual|\tLogica|\tFisica|\n",
    "|---|---|---|---|\n",
    "|Nome de Entidades|\tx|\tx|\t|\n",
    "|Relacionamentos de Entidades|\tx|\tx|\t\n",
    "|Atributos||\tx|\tx|\t\n",
    "|Chave Primária (PK)||\t\tx|\tx|\t|\t|x\t|x\n",
    "|Nome das Tabelas||\t\t\t|x\n",
    "|Nome das Colunas|\t|\t\t|x\n",
    "|Tipo das Colunas|\t|\t\t|x\n"
   ]
  },
  {
   "cell_type": "markdown",
   "metadata": {},
   "source": [
    "## Criação do Database    \n",
    "```\n",
    "/*Estrutura do database bd_cidades_estados*/\n",
    "\n",
    "CREATE DATABASE bd_cidades_estados;\n",
    "```"
   ]
  },
  {
   "cell_type": "markdown",
   "metadata": {},
   "source": [
    "## Criação das Tabelas \n",
    "```\n",
    "/*Estrutura da tabela tb_cidades*/\n",
    "\n",
    "CREATE TABLE tb_cidades (\n",
    "    id SERIAL,\n",
    "    nome VARCHAR(50) NOT NULL,\n",
    "    idEstado INT NOT NULL,\n",
    "    PRIMARY KEY (id),\n",
    "    FOREIGN KEY (idEstado) REFERENCES tb_estados (id)\n",
    ");\n",
    "\n",
    "/*Estrutura da tabela tb_estados*/\n",
    "\n",
    "CREATE TABLE tb_estados (\n",
    "    id SERIAL,\n",
    "    uf VARCHAR(2) NOT NULL,\n",
    "    nome VARCHAR(50) NOT NULL,\n",
    "    PRIMARY KEY (id)\n",
    ");\n",
    "```"
   ]
  },
  {
   "cell_type": "markdown",
   "metadata": {},
   "source": [
    "## Inserção de Registros\n",
    "1- Realizar download dos arquivo <a href=\"https://s3-sa-east-1.amazonaws.com/lcpi/03c30c81-a820-4b3f-a342-fb3810062acf.sql\">scripts_tb_cidades</a> e <a href=\"https://s3-sa-east-1.amazonaws.com/lcpi/6cbe1fdf-68bc-4f58-9db3-cb83da93e464.sql\" >script_tb_estados.sql</a>\n",
    "\n",
    "2- Executar no database ***bd_cidades_estados***.\n",
    "\n"
   ]
  }
 ],
 "metadata": {
  "kernelspec": {
   "display_name": "Python 3.7.8 32-bit",
   "metadata": {
    "interpreter": {
     "hash": "04635d289a519a1410467dd0afb0db42f9184808881ca68b2eb5a687a20a5a94"
    }
   },
   "name": "python3"
  },
  "language_info": {
   "codemirror_mode": {
    "name": "ipython",
    "version": 3
   },
   "file_extension": ".py",
   "mimetype": "text/x-python",
   "name": "python",
   "nbconvert_exporter": "python",
   "pygments_lexer": "ipython3",
   "version": "3.7.8-final"
  },
  "orig_nbformat": 2
 },
 "nbformat": 4,
 "nbformat_minor": 2
}
