{
 "cells": [
  {
   "cell_type": "markdown",
   "metadata": {},
   "source": [
    "# Funções Agregadas\n"
   ]
  },
  {
   "cell_type": "markdown",
   "metadata": {},
   "source": [
    "## Sumarizando informações   \n",
    "As cláusulas que vimos anteriormente são os tijolos elementares para realizarmos quaisquer consultas em tabelas num banco de dados relacional. Embora individualmente elas sejam bastante simples, sua combinação é justamente o que torna o SQL tão expressivo e poderoso.\n",
    "\n",
    "Exemplo:\n",
    "Vamos usar a database \"bd_papelaria\" e as tabelas \"tb_produto\" e \"tb_entrada_produto\". A tabela de \"tb_produto\" vai conter o cadastro dos produtos que a papelaria vende."
   ]
  },
  {
   "cell_type": "markdown",
   "metadata": {},
   "source": [
    "Relatórios e gráficos são agregados de informações, precisamos aprender a juntar os dados em tabelas que sumarizem esses dados. Contando, somando, tomando a média, entre outros.\n",
    "\n",
    "Vamos aprender tais ações utilizando as tabelas tb_produto, tb_entrada_produto, tb_estoque e tb_saida_produto.\n",
    "\n",
    "- **MIN**() **MAX**()\n",
    "    Começamos mostrando como obter os menores e os maiores valores de determinada coluna, de modo geral, ou em relação a outra coluna.\n",
    "\n",
    "    Para obter o produto com valor mínimo de uma coluna, usamos:\n",
    "    ```\n",
    "    SELECT MIN(valor_unitario)\n",
    "    FROM tb_entrada_produto;\n",
    "    ```\n",
    "    Para obter o produto com valor máximo de uma coluna, usamos:\n",
    "    ```\n",
    "    SELECT MAX(valor_unitario)\n",
    "    FROM tb_entrada_produto;\n",
    "    ```\n",
    "- **COUNT**()\n",
    "    Podemos contar todas as linhas de uma tabela de um modo bem simples:\n",
    "    ```\n",
    "    SELECT COUNT(*)\n",
    "    FROM tb_saida_produto;\n",
    "    ```\n",
    "- **SUM**()\n",
    "    Para somar todos os valores por quantidade, usamos o SUM(). Abaixo, somamos os preços de todos os produtos da tabela por categoria.\n",
    "    ```\n",
    "    SELECT qtde,\n",
    "            SUM(valor_unitario)\n",
    "    FROM tb_saida_produto\n",
    "    GROUP BY 1;\n",
    "    ```\n",
    "- **AVG**()\n",
    "    Com frequência também precisamos tomar a média para cada conjunto de quantidade de produto na nossa base. Para tanto, temos o AVG(). A seguir, calculamos a média de quantidade de produtos para cada valor unitário:\n",
    "    ```\n",
    "    SELECT valor_unitario,\n",
    "            AVG(qtde)\n",
    "    FROM tb_entrada_produto\n",
    "    GROUP BY 1;\n",
    "    ```\n",
    "- **HAVING**\n",
    "    E se quisermos filtrar os resultados de uma query pelas contagens ou somas calculados nessa própria query? O WHERE não vai funcionar, porque ele não é capaz de filtrar resultados de funções agregadoras, como **COUNT**, **MIN** ou **SUM**. Para isto, existe o **HAVING**.\n",
    "\n",
    "    Abaixo ilustramos seu uso como filtro: após contarmos quantos itens há em cada valor unitário, exibiremos apenas aquelas linhas de valor unitário que tenham, associadas a si, mais do que 2 itens ao menos:\n",
    "    ```\n",
    "    SELECT valor_unitario,\n",
    "            COUNT(*)\n",
    "    FROM tb_estoque\n",
    "    GROUP BY 1\n",
    "    HAVING COUNT(*) > 2;\n",
    "    ```"
   ]
  }
 ],
 "metadata": {
  "kernelspec": {
   "display_name": "Python 3.7.8 32-bit",
   "metadata": {
    "interpreter": {
     "hash": "04635d289a519a1410467dd0afb0db42f9184808881ca68b2eb5a687a20a5a94"
    }
   },
   "name": "python3"
  },
  "language_info": {
   "codemirror_mode": {
    "name": "ipython",
    "version": 3
   },
   "file_extension": ".py",
   "mimetype": "text/x-python",
   "name": "python",
   "nbconvert_exporter": "python",
   "pygments_lexer": "ipython3",
   "version": "3.7.8-final"
  },
  "orig_nbformat": 2
 },
 "nbformat": 4,
 "nbformat_minor": 2
}
