{
    "metadata": {
        "kernelspec": {
            "name": "SQL",
            "display_name": "SQL",
            "language": "sql"
        },
        "language_info": {
            "name": "sql",
            "version": ""
        },
        "extensions": {
            "azuredatastudio": {
                "version": 1,
                "views": []
            }
        }
    },
    "nbformat_minor": 2,
    "nbformat": 4,
    "cells": [
        {
            "cell_type": "markdown",
            "source": [
                "### Na tabela _Customers_:\n",
                "\n",
                "1. Gere uma relação com os nomes dos clientes, suas cidades e países, em ordem alfabética de nome.\n",
                "    \n",
                "2. Na relação do item (1), filtre pelos clientes da Alemanha, da França e da Espanha, excluindo-se os clientes que vivem nas capitais destes países."
            ],
            "metadata": {
                "azdata_cell_guid": "c7f51e69-a170-4850-bb35-941963ac6a95"
            },
            "attachments": {}
        },
        {
            "cell_type": "code",
            "source": [
                "SELECT contact_name, city, country FROM customers ORDER BY contact_name"
            ],
            "metadata": {
                "azdata_cell_guid": "329bfb82-3d2c-491b-ad36-abe8130771b6"
            },
            "outputs": [
                {
                    "output_type": "display_data",
                    "data": {
                        "text/html": "(91 row(s) affected)"
                    },
                    "metadata": {}
                },
                {
                    "output_type": "display_data",
                    "data": {
                        "text/html": "Total execution time: 00:00:00.841"
                    },
                    "metadata": {}
                },
                {
                    "output_type": "execute_result",
                    "execution_count": 19,
                    "data": {
                        "application/vnd.dataresource+json": {
                            "schema": {
                                "fields": [
                                    {
                                        "name": "contact_name"
                                    },
                                    {
                                        "name": "city"
                                    },
                                    {
                                        "name": "country"
                                    }
                                ]
                            },
                            "data": [
                                {
                                    "0": "Alejandra Camino",
                                    "1": "Madrid",
                                    "2": "Spain"
                                },
                                {
                                    "0": "Alexander Feuer",
                                    "1": "Leipzig",
                                    "2": "Germany"
                                },
                                {
                                    "0": "Anabela Domingues",
                                    "1": "Sao Paulo",
                                    "2": "Brazil"
                                },
                                {
                                    "0": "Ana Trujillo",
                                    "1": "México D.F.",
                                    "2": "Mexico"
                                },
                                {
                                    "0": "André Fonseca",
                                    "1": "Campinas",
                                    "2": "Brazil"
                                },
                                {
                                    "0": "Ann Devon",
                                    "1": "London",
                                    "2": "UK"
                                },
                                {
                                    "0": "Annette Roulet",
                                    "1": "Toulouse",
                                    "2": "France"
                                },
                                {
                                    "0": "Antonio Moreno",
                                    "1": "México D.F.",
                                    "2": "Mexico"
                                },
                                {
                                    "0": "Aria Cruz",
                                    "1": "Sao Paulo",
                                    "2": "Brazil"
                                },
                                {
                                    "0": "Art Braunschweiger",
                                    "1": "Lander",
                                    "2": "USA"
                                },
                                {
                                    "0": "Bernardo Batista",
                                    "1": "Rio de Janeiro",
                                    "2": "Brazil"
                                },
                                {
                                    "0": "Carine Schmitt",
                                    "1": "Nantes",
                                    "2": "France"
                                },
                                {
                                    "0": "Carlos González",
                                    "1": "Barquisimeto",
                                    "2": "Venezuela"
                                },
                                {
                                    "0": "Carlos Hernández",
                                    "1": "San Cristóbal",
                                    "2": "Venezuela"
                                },
                                {
                                    "0": "Catherine Dewey",
                                    "1": "Bruxelles",
                                    "2": "Belgium"
                                },
                                {
                                    "0": "Christina Berglund",
                                    "1": "Luleå",
                                    "2": "Sweden"
                                },
                                {
                                    "0": "Daniel Tonini",
                                    "1": "Versailles",
                                    "2": "France"
                                },
                                {
                                    "0": "Diego Roel",
                                    "1": "Madrid",
                                    "2": "Spain"
                                },
                                {
                                    "0": "Dominique Perrier",
                                    "1": "Paris",
                                    "2": "France"
                                },
                                {
                                    "0": "Eduardo Saavedra",
                                    "1": "Barcelona",
                                    "2": "Spain"
                                },
                                {
                                    "0": "Elizabeth Brown",
                                    "1": "London",
                                    "2": "UK"
                                },
                                {
                                    "0": "Elizabeth Lincoln",
                                    "1": "Tsawassen",
                                    "2": "Canada"
                                },
                                {
                                    "0": "Felipe Izquierdo",
                                    "1": "I. de Margarita",
                                    "2": "Venezuela"
                                },
                                {
                                    "0": "Francisco Chang",
                                    "1": "México D.F.",
                                    "2": "Mexico"
                                },
                                {
                                    "0": "Fran Wilson",
                                    "1": "Portland",
                                    "2": "USA"
                                },
                                {
                                    "0": "Frédérique Citeaux",
                                    "1": "Strasbourg",
                                    "2": "France"
                                },
                                {
                                    "0": "Georg Pipps",
                                    "1": "Salzburg",
                                    "2": "Austria"
                                },
                                {
                                    "0": "Giovanni Rovelli",
                                    "1": "Bergamo",
                                    "2": "Italy"
                                },
                                {
                                    "0": "Guillermo Fernández",
                                    "1": "México D.F.",
                                    "2": "Mexico"
                                },
                                {
                                    "0": "Hanna Moos",
                                    "1": "Mannheim",
                                    "2": "Germany"
                                },
                                {
                                    "0": "Hari Kumar",
                                    "1": "London",
                                    "2": "UK"
                                },
                                {
                                    "0": "Helen Bennett",
                                    "1": "Cowes",
                                    "2": "UK"
                                },
                                {
                                    "0": "Helvetius Nagy",
                                    "1": "Kirkland",
                                    "2": "USA"
                                },
                                {
                                    "0": "Henriette Pfalzheim",
                                    "1": "Köln",
                                    "2": "Germany"
                                },
                                {
                                    "0": "Horst Kloss",
                                    "1": "Cunewalde",
                                    "2": "Germany"
                                },
                                {
                                    "0": "Howard Snyder",
                                    "1": "Eugene",
                                    "2": "USA"
                                },
                                {
                                    "0": "Isabel de Castro",
                                    "1": "Lisboa",
                                    "2": "Portugal"
                                },
                                {
                                    "0": "Jaime Yorres",
                                    "1": "San Francisco",
                                    "2": "USA"
                                },
                                {
                                    "0": "Janete Limeira",
                                    "1": "Rio de Janeiro",
                                    "2": "Brazil"
                                },
                                {
                                    "0": "Janine Labrune",
                                    "1": "Nantes",
                                    "2": "France"
                                },
                                {
                                    "0": "Jean Fresnière",
                                    "1": "Montréal",
                                    "2": "Canada"
                                },
                                {
                                    "0": "John Steel",
                                    "1": "Walla Walla",
                                    "2": "USA"
                                },
                                {
                                    "0": "Jonas Bergulfsen",
                                    "1": "Stavern",
                                    "2": "Norway"
                                },
                                {
                                    "0": "Jose Pavarotti",
                                    "1": "Boise",
                                    "2": "USA"
                                },
                                {
                                    "0": "José Pedro Freyre",
                                    "1": "Sevilla",
                                    "2": "Spain"
                                },
                                {
                                    "0": "Jytte Petersen",
                                    "1": "Kobenhavn",
                                    "2": "Denmark"
                                },
                                {
                                    "0": "Karin Josephs",
                                    "1": "Münster",
                                    "2": "Germany"
                                },
                                {
                                    "0": "Karl Jablonski",
                                    "1": "Seattle",
                                    "2": "USA"
                                },
                                {
                                    "0": "Laurence Lebihan",
                                    "1": "Marseille",
                                    "2": "France"
                                },
                                {
                                    "0": "Lino Rodriguez",
                                    "1": "Lisboa",
                                    "2": "Portugal"
                                },
                                {
                                    "0": "Liu Wong",
                                    "1": "Butte",
                                    "2": "USA"
                                },
                                {
                                    "0": "Liz Nixon",
                                    "1": "Portland",
                                    "2": "USA"
                                },
                                {
                                    "0": "Lúcia Carvalho",
                                    "1": "Sao Paulo",
                                    "2": "Brazil"
                                },
                                {
                                    "0": "Manuel Pereira",
                                    "1": "Caracas",
                                    "2": "Venezuela"
                                },
                                {
                                    "0": "Maria Anders",
                                    "1": "Berlin",
                                    "2": "Germany"
                                },
                                {
                                    "0": "Maria Larsson",
                                    "1": "Bräcke",
                                    "2": "Sweden"
                                },
                                {
                                    "0": "Marie Bertrand",
                                    "1": "Paris",
                                    "2": "France"
                                },
                                {
                                    "0": "Mario Pontes",
                                    "1": "Rio de Janeiro",
                                    "2": "Brazil"
                                },
                                {
                                    "0": "Martine Rancé",
                                    "1": "Lille",
                                    "2": "France"
                                },
                                {
                                    "0": "Martín Sommer",
                                    "1": "Madrid",
                                    "2": "Spain"
                                },
                                {
                                    "0": "Mary Saveley",
                                    "1": "Lyon",
                                    "2": "France"
                                },
                                {
                                    "0": "Matti Karttunen",
                                    "1": "Helsinki",
                                    "2": "Finland"
                                },
                                {
                                    "0": "Maurizio Moroni",
                                    "1": "Reggio Emilia",
                                    "2": "Italy"
                                },
                                {
                                    "0": "Michael Holz",
                                    "1": "Genève",
                                    "2": "Switzerland"
                                },
                                {
                                    "0": "Miguel Angel Paolino",
                                    "1": "México D.F.",
                                    "2": "Mexico"
                                },
                                {
                                    "0": "Palle Ibsen",
                                    "1": "Århus",
                                    "2": "Denmark"
                                },
                                {
                                    "0": "Paolo Accorti",
                                    "1": "Torino",
                                    "2": "Italy"
                                },
                                {
                                    "0": "Pascale Cartrain",
                                    "1": "Charleroi",
                                    "2": "Belgium"
                                },
                                {
                                    "0": "Patricia McKenna",
                                    "1": "Cork",
                                    "2": "Ireland"
                                },
                                {
                                    "0": "Patricio Simpson",
                                    "1": "Buenos Aires",
                                    "2": "Argentina"
                                },
                                {
                                    "0": "Paula Parente",
                                    "1": "Resende",
                                    "2": "Brazil"
                                },
                                {
                                    "0": "Paula Wilson",
                                    "1": "Albuquerque",
                                    "2": "USA"
                                },
                                {
                                    "0": "Paul Henriot",
                                    "1": "Reims",
                                    "2": "France"
                                },
                                {
                                    "0": "Pedro Afonso",
                                    "1": "Sao Paulo",
                                    "2": "Brazil"
                                },
                                {
                                    "0": "Peter Franken",
                                    "1": "München",
                                    "2": "Germany"
                                },
                                {
                                    "0": "Philip Cramer",
                                    "1": "Brandenburg",
                                    "2": "Germany"
                                },
                                {
                                    "0": "Pirkko Koskitalo",
                                    "1": "Oulu",
                                    "2": "Finland"
                                },
                                {
                                    "0": "Renate Messner",
                                    "1": "Frankfurt a.M.",
                                    "2": "Germany"
                                },
                                {
                                    "0": "Rene Phillips",
                                    "1": "Anchorage",
                                    "2": "USA"
                                },
                                {
                                    "0": "Rita Müller",
                                    "1": "Stuttgart",
                                    "2": "Germany"
                                },
                                {
                                    "0": "Roland Mendel",
                                    "1": "Graz",
                                    "2": "Austria"
                                },
                                {
                                    "0": "Sergio Gutiérrez",
                                    "1": "Buenos Aires",
                                    "2": "Argentina"
                                },
                                {
                                    "0": "Simon Crowther",
                                    "1": "London",
                                    "2": "UK"
                                },
                                {
                                    "0": "Sven Ottlieb",
                                    "1": "Aachen",
                                    "2": "Germany"
                                },
                                {
                                    "0": "Thomas Hardy",
                                    "1": "London",
                                    "2": "UK"
                                },
                                {
                                    "0": "Victoria Ashworth",
                                    "1": "London",
                                    "2": "UK"
                                },
                                {
                                    "0": "Yang Wang",
                                    "1": "Bern",
                                    "2": "Switzerland"
                                },
                                {
                                    "0": "Yoshi Latimer",
                                    "1": "Elgin",
                                    "2": "USA"
                                },
                                {
                                    "0": "Yoshi Tannamuri",
                                    "1": "Vancouver",
                                    "2": "Canada"
                                },
                                {
                                    "0": "Yvonne Moncada",
                                    "1": "Buenos Aires",
                                    "2": "Argentina"
                                },
                                {
                                    "0": "Zbyszek Piestrzeniewicz",
                                    "1": "Warszawa",
                                    "2": "Poland"
                                }
                            ]
                        },
                        "text/html": "<table><tr><th>contact_name</th><th>city</th><th>country</th></tr><tr><td>Alejandra Camino</td><td>Madrid</td><td>Spain</td></tr><tr><td>Alexander Feuer</td><td>Leipzig</td><td>Germany</td></tr><tr><td>Anabela Domingues</td><td>Sao Paulo</td><td>Brazil</td></tr><tr><td>Ana Trujillo</td><td>México D.F.</td><td>Mexico</td></tr><tr><td>André Fonseca</td><td>Campinas</td><td>Brazil</td></tr><tr><td>Ann Devon</td><td>London</td><td>UK</td></tr><tr><td>Annette Roulet</td><td>Toulouse</td><td>France</td></tr><tr><td>Antonio Moreno</td><td>México D.F.</td><td>Mexico</td></tr><tr><td>Aria Cruz</td><td>Sao Paulo</td><td>Brazil</td></tr><tr><td>Art Braunschweiger</td><td>Lander</td><td>USA</td></tr><tr><td>Bernardo Batista</td><td>Rio de Janeiro</td><td>Brazil</td></tr><tr><td>Carine Schmitt</td><td>Nantes</td><td>France</td></tr><tr><td>Carlos González</td><td>Barquisimeto</td><td>Venezuela</td></tr><tr><td>Carlos Hernández</td><td>San Cristóbal</td><td>Venezuela</td></tr><tr><td>Catherine Dewey</td><td>Bruxelles</td><td>Belgium</td></tr><tr><td>Christina Berglund</td><td>Luleå</td><td>Sweden</td></tr><tr><td>Daniel Tonini</td><td>Versailles</td><td>France</td></tr><tr><td>Diego Roel</td><td>Madrid</td><td>Spain</td></tr><tr><td>Dominique Perrier</td><td>Paris</td><td>France</td></tr><tr><td>Eduardo Saavedra</td><td>Barcelona</td><td>Spain</td></tr><tr><td>Elizabeth Brown</td><td>London</td><td>UK</td></tr><tr><td>Elizabeth Lincoln</td><td>Tsawassen</td><td>Canada</td></tr><tr><td>Felipe Izquierdo</td><td>I. de Margarita</td><td>Venezuela</td></tr><tr><td>Francisco Chang</td><td>México D.F.</td><td>Mexico</td></tr><tr><td>Fran Wilson</td><td>Portland</td><td>USA</td></tr><tr><td>Frédérique Citeaux</td><td>Strasbourg</td><td>France</td></tr><tr><td>Georg Pipps</td><td>Salzburg</td><td>Austria</td></tr><tr><td>Giovanni Rovelli</td><td>Bergamo</td><td>Italy</td></tr><tr><td>Guillermo Fernández</td><td>México D.F.</td><td>Mexico</td></tr><tr><td>Hanna Moos</td><td>Mannheim</td><td>Germany</td></tr><tr><td>Hari Kumar</td><td>London</td><td>UK</td></tr><tr><td>Helen Bennett</td><td>Cowes</td><td>UK</td></tr><tr><td>Helvetius Nagy</td><td>Kirkland</td><td>USA</td></tr><tr><td>Henriette Pfalzheim</td><td>Köln</td><td>Germany</td></tr><tr><td>Horst Kloss</td><td>Cunewalde</td><td>Germany</td></tr><tr><td>Howard Snyder</td><td>Eugene</td><td>USA</td></tr><tr><td>Isabel de Castro</td><td>Lisboa</td><td>Portugal</td></tr><tr><td>Jaime Yorres</td><td>San Francisco</td><td>USA</td></tr><tr><td>Janete Limeira</td><td>Rio de Janeiro</td><td>Brazil</td></tr><tr><td>Janine Labrune</td><td>Nantes</td><td>France</td></tr><tr><td>Jean Fresnière</td><td>Montréal</td><td>Canada</td></tr><tr><td>John Steel</td><td>Walla Walla</td><td>USA</td></tr><tr><td>Jonas Bergulfsen</td><td>Stavern</td><td>Norway</td></tr><tr><td>Jose Pavarotti</td><td>Boise</td><td>USA</td></tr><tr><td>José Pedro Freyre</td><td>Sevilla</td><td>Spain</td></tr><tr><td>Jytte Petersen</td><td>Kobenhavn</td><td>Denmark</td></tr><tr><td>Karin Josephs</td><td>Münster</td><td>Germany</td></tr><tr><td>Karl Jablonski</td><td>Seattle</td><td>USA</td></tr><tr><td>Laurence Lebihan</td><td>Marseille</td><td>France</td></tr><tr><td>Lino Rodriguez</td><td>Lisboa</td><td>Portugal</td></tr><tr><td>Liu Wong</td><td>Butte</td><td>USA</td></tr><tr><td>Liz Nixon</td><td>Portland</td><td>USA</td></tr><tr><td>Lúcia Carvalho</td><td>Sao Paulo</td><td>Brazil</td></tr><tr><td>Manuel Pereira</td><td>Caracas</td><td>Venezuela</td></tr><tr><td>Maria Anders</td><td>Berlin</td><td>Germany</td></tr><tr><td>Maria Larsson</td><td>Bräcke</td><td>Sweden</td></tr><tr><td>Marie Bertrand</td><td>Paris</td><td>France</td></tr><tr><td>Mario Pontes</td><td>Rio de Janeiro</td><td>Brazil</td></tr><tr><td>Martine Rancé</td><td>Lille</td><td>France</td></tr><tr><td>Martín Sommer</td><td>Madrid</td><td>Spain</td></tr><tr><td>Mary Saveley</td><td>Lyon</td><td>France</td></tr><tr><td>Matti Karttunen</td><td>Helsinki</td><td>Finland</td></tr><tr><td>Maurizio Moroni</td><td>Reggio Emilia</td><td>Italy</td></tr><tr><td>Michael Holz</td><td>Genève</td><td>Switzerland</td></tr><tr><td>Miguel Angel Paolino</td><td>México D.F.</td><td>Mexico</td></tr><tr><td>Palle Ibsen</td><td>Århus</td><td>Denmark</td></tr><tr><td>Paolo Accorti</td><td>Torino</td><td>Italy</td></tr><tr><td>Pascale Cartrain</td><td>Charleroi</td><td>Belgium</td></tr><tr><td>Patricia McKenna</td><td>Cork</td><td>Ireland</td></tr><tr><td>Patricio Simpson</td><td>Buenos Aires</td><td>Argentina</td></tr><tr><td>Paula Parente</td><td>Resende</td><td>Brazil</td></tr><tr><td>Paula Wilson</td><td>Albuquerque</td><td>USA</td></tr><tr><td>Paul Henriot</td><td>Reims</td><td>France</td></tr><tr><td>Pedro Afonso</td><td>Sao Paulo</td><td>Brazil</td></tr><tr><td>Peter Franken</td><td>München</td><td>Germany</td></tr><tr><td>Philip Cramer</td><td>Brandenburg</td><td>Germany</td></tr><tr><td>Pirkko Koskitalo</td><td>Oulu</td><td>Finland</td></tr><tr><td>Renate Messner</td><td>Frankfurt a.M.</td><td>Germany</td></tr><tr><td>Rene Phillips</td><td>Anchorage</td><td>USA</td></tr><tr><td>Rita Müller</td><td>Stuttgart</td><td>Germany</td></tr><tr><td>Roland Mendel</td><td>Graz</td><td>Austria</td></tr><tr><td>Sergio Gutiérrez</td><td>Buenos Aires</td><td>Argentina</td></tr><tr><td>Simon Crowther</td><td>London</td><td>UK</td></tr><tr><td>Sven Ottlieb</td><td>Aachen</td><td>Germany</td></tr><tr><td>Thomas Hardy</td><td>London</td><td>UK</td></tr><tr><td>Victoria Ashworth</td><td>London</td><td>UK</td></tr><tr><td>Yang Wang</td><td>Bern</td><td>Switzerland</td></tr><tr><td>Yoshi Latimer</td><td>Elgin</td><td>USA</td></tr><tr><td>Yoshi Tannamuri</td><td>Vancouver</td><td>Canada</td></tr><tr><td>Yvonne Moncada</td><td>Buenos Aires</td><td>Argentina</td></tr><tr><td>Zbyszek Piestrzeniewicz</td><td>Warszawa</td><td>Poland</td></tr></table>"
                    },
                    "metadata": {}
                }
            ],
            "execution_count": 19
        },
        {
            "cell_type": "code",
            "source": [
                "SELECT * FROM customers WHERE country in ('Germany', 'Spain', 'France') AND City NOT IN ('Paris', 'Berlin', 'Madrid')"
            ],
            "metadata": {
                "azdata_cell_guid": "3357f172-2117-418c-a6ea-b9e5e445a530"
            },
            "outputs": [
                {
                    "output_type": "display_data",
                    "data": {
                        "text/html": "(21 row(s) affected)"
                    },
                    "metadata": {}
                },
                {
                    "output_type": "display_data",
                    "data": {
                        "text/html": "Total execution time: 00:00:00.852"
                    },
                    "metadata": {}
                },
                {
                    "output_type": "execute_result",
                    "execution_count": 5,
                    "data": {
                        "application/vnd.dataresource+json": {
                            "schema": {
                                "fields": [
                                    {
                                        "name": "customer_id"
                                    },
                                    {
                                        "name": "company_name"
                                    },
                                    {
                                        "name": "contact_name"
                                    },
                                    {
                                        "name": "contact_title"
                                    },
                                    {
                                        "name": "address"
                                    },
                                    {
                                        "name": "city"
                                    },
                                    {
                                        "name": "region"
                                    },
                                    {
                                        "name": "postal_code"
                                    },
                                    {
                                        "name": "country"
                                    },
                                    {
                                        "name": "phone"
                                    },
                                    {
                                        "name": "fax"
                                    }
                                ]
                            },
                            "data": [
                                {
                                    "0": "BLAUS",
                                    "1": "Blauer See Delikatessen",
                                    "2": "Hanna Moos",
                                    "3": "Sales Representative",
                                    "4": "Forsterstr. 57",
                                    "5": "Mannheim",
                                    "6": "NULL",
                                    "7": "68306",
                                    "8": "Germany",
                                    "9": "0621-08460",
                                    "10": "0621-08924"
                                },
                                {
                                    "0": "BLONP",
                                    "1": "Blondesddsl père et fils",
                                    "2": "Frédérique Citeaux",
                                    "3": "Marketing Manager",
                                    "4": "24, place Kléber",
                                    "5": "Strasbourg",
                                    "6": "NULL",
                                    "7": "67000",
                                    "8": "France",
                                    "9": "88.60.15.31",
                                    "10": "88.60.15.32"
                                },
                                {
                                    "0": "BONAP",
                                    "1": "Bon app'",
                                    "2": "Laurence Lebihan",
                                    "3": "Owner",
                                    "4": "12, rue des Bouchers",
                                    "5": "Marseille",
                                    "6": "NULL",
                                    "7": "13008",
                                    "8": "France",
                                    "9": "91.24.45.40",
                                    "10": "91.24.45.41"
                                },
                                {
                                    "0": "DRACD",
                                    "1": "Drachenblut Delikatessen",
                                    "2": "Sven Ottlieb",
                                    "3": "Order Administrator",
                                    "4": "Walserweg 21",
                                    "5": "Aachen",
                                    "6": "NULL",
                                    "7": "52066",
                                    "8": "Germany",
                                    "9": "0241-039123",
                                    "10": "0241-059428"
                                },
                                {
                                    "0": "DUMON",
                                    "1": "Du monde entier",
                                    "2": "Janine Labrune",
                                    "3": "Owner",
                                    "4": "67, rue des Cinquante Otages",
                                    "5": "Nantes",
                                    "6": "NULL",
                                    "7": "44000",
                                    "8": "France",
                                    "9": "40.67.88.88",
                                    "10": "40.67.89.89"
                                },
                                {
                                    "0": "FOLIG",
                                    "1": "Folies gourmandes",
                                    "2": "Martine Rancé",
                                    "3": "Assistant Sales Agent",
                                    "4": "184, chaussée de Tournai",
                                    "5": "Lille",
                                    "6": "NULL",
                                    "7": "59000",
                                    "8": "France",
                                    "9": "20.16.10.16",
                                    "10": "20.16.10.17"
                                },
                                {
                                    "0": "FRANK",
                                    "1": "Frankenversand",
                                    "2": "Peter Franken",
                                    "3": "Marketing Manager",
                                    "4": "Berliner Platz 43",
                                    "5": "München",
                                    "6": "NULL",
                                    "7": "80805",
                                    "8": "Germany",
                                    "9": "089-0877310",
                                    "10": "089-0877451"
                                },
                                {
                                    "0": "FRANR",
                                    "1": "France restauration",
                                    "2": "Carine Schmitt",
                                    "3": "Marketing Manager",
                                    "4": "54, rue Royale",
                                    "5": "Nantes",
                                    "6": "NULL",
                                    "7": "44000",
                                    "8": "France",
                                    "9": "40.32.21.21",
                                    "10": "40.32.21.20"
                                },
                                {
                                    "0": "GALED",
                                    "1": "Galería del gastrónomo",
                                    "2": "Eduardo Saavedra",
                                    "3": "Marketing Manager",
                                    "4": "Rambla de Cataluña, 23",
                                    "5": "Barcelona",
                                    "6": "NULL",
                                    "7": "08022",
                                    "8": "Spain",
                                    "9": "(93) 203 4560",
                                    "10": "(93) 203 4561"
                                },
                                {
                                    "0": "GODOS",
                                    "1": "Godos Cocina Típica",
                                    "2": "José Pedro Freyre",
                                    "3": "Sales Manager",
                                    "4": "C/ Romero, 33",
                                    "5": "Sevilla",
                                    "6": "NULL",
                                    "7": "41101",
                                    "8": "Spain",
                                    "9": "(95) 555 82 82",
                                    "10": "NULL"
                                },
                                {
                                    "0": "KOENE",
                                    "1": "Königlich Essen",
                                    "2": "Philip Cramer",
                                    "3": "Sales Associate",
                                    "4": "Maubelstr. 90",
                                    "5": "Brandenburg",
                                    "6": "NULL",
                                    "7": "14776",
                                    "8": "Germany",
                                    "9": "0555-09876",
                                    "10": "NULL"
                                },
                                {
                                    "0": "LACOR",
                                    "1": "La corne d'abondance",
                                    "2": "Daniel Tonini",
                                    "3": "Sales Representative",
                                    "4": "67, avenue de l'Europe",
                                    "5": "Versailles",
                                    "6": "NULL",
                                    "7": "78000",
                                    "8": "France",
                                    "9": "30.59.84.10",
                                    "10": "30.59.85.11"
                                },
                                {
                                    "0": "LAMAI",
                                    "1": "La maison d'Asie",
                                    "2": "Annette Roulet",
                                    "3": "Sales Manager",
                                    "4": "1 rue Alsace-Lorraine",
                                    "5": "Toulouse",
                                    "6": "NULL",
                                    "7": "31000",
                                    "8": "France",
                                    "9": "61.77.61.10",
                                    "10": "61.77.61.11"
                                },
                                {
                                    "0": "LEHMS",
                                    "1": "Lehmanns Marktstand",
                                    "2": "Renate Messner",
                                    "3": "Sales Representative",
                                    "4": "Magazinweg 7",
                                    "5": "Frankfurt a.M.",
                                    "6": "NULL",
                                    "7": "60528",
                                    "8": "Germany",
                                    "9": "069-0245984",
                                    "10": "069-0245874"
                                },
                                {
                                    "0": "MORGK",
                                    "1": "Morgenstern Gesundkost",
                                    "2": "Alexander Feuer",
                                    "3": "Marketing Assistant",
                                    "4": "Heerstr. 22",
                                    "5": "Leipzig",
                                    "6": "NULL",
                                    "7": "04179",
                                    "8": "Germany",
                                    "9": "0342-023176",
                                    "10": "NULL"
                                },
                                {
                                    "0": "OTTIK",
                                    "1": "Ottilies Käseladen",
                                    "2": "Henriette Pfalzheim",
                                    "3": "Owner",
                                    "4": "Mehrheimerstr. 369",
                                    "5": "Köln",
                                    "6": "NULL",
                                    "7": "50739",
                                    "8": "Germany",
                                    "9": "0221-0644327",
                                    "10": "0221-0765721"
                                },
                                {
                                    "0": "QUICK",
                                    "1": "QUICK-Stop",
                                    "2": "Horst Kloss",
                                    "3": "Accounting Manager",
                                    "4": "Taucherstraße 10",
                                    "5": "Cunewalde",
                                    "6": "NULL",
                                    "7": "01307",
                                    "8": "Germany",
                                    "9": "0372-035188",
                                    "10": "NULL"
                                },
                                {
                                    "0": "TOMSP",
                                    "1": "Toms Spezialitäten",
                                    "2": "Karin Josephs",
                                    "3": "Marketing Manager",
                                    "4": "Luisenstr. 48",
                                    "5": "Münster",
                                    "6": "NULL",
                                    "7": "44087",
                                    "8": "Germany",
                                    "9": "0251-031259",
                                    "10": "0251-035695"
                                },
                                {
                                    "0": "VICTE",
                                    "1": "Victuailles en stock",
                                    "2": "Mary Saveley",
                                    "3": "Sales Agent",
                                    "4": "2, rue du Commerce",
                                    "5": "Lyon",
                                    "6": "NULL",
                                    "7": "69004",
                                    "8": "France",
                                    "9": "78.32.54.86",
                                    "10": "78.32.54.87"
                                },
                                {
                                    "0": "VINET",
                                    "1": "Vins et alcools Chevalier",
                                    "2": "Paul Henriot",
                                    "3": "Accounting Manager",
                                    "4": "59 rue de l'Abbaye",
                                    "5": "Reims",
                                    "6": "NULL",
                                    "7": "51100",
                                    "8": "France",
                                    "9": "26.47.15.10",
                                    "10": "26.47.15.11"
                                },
                                {
                                    "0": "WANDK",
                                    "1": "Die Wandernde Kuh",
                                    "2": "Rita Müller",
                                    "3": "Sales Representative",
                                    "4": "Adenauerallee 900",
                                    "5": "Stuttgart",
                                    "6": "NULL",
                                    "7": "70563",
                                    "8": "Germany",
                                    "9": "0711-020361",
                                    "10": "0711-035428"
                                }
                            ]
                        },
                        "text/html": "<table><tr><th>customer_id</th><th>company_name</th><th>contact_name</th><th>contact_title</th><th>address</th><th>city</th><th>region</th><th>postal_code</th><th>country</th><th>phone</th><th>fax</th></tr><tr><td>BLAUS</td><td>Blauer See Delikatessen</td><td>Hanna Moos</td><td>Sales Representative</td><td>Forsterstr. 57</td><td>Mannheim</td><td>NULL</td><td>68306</td><td>Germany</td><td>0621-08460</td><td>0621-08924</td></tr><tr><td>BLONP</td><td>Blondesddsl père et fils</td><td>Frédérique Citeaux</td><td>Marketing Manager</td><td>24, place Kléber</td><td>Strasbourg</td><td>NULL</td><td>67000</td><td>France</td><td>88.60.15.31</td><td>88.60.15.32</td></tr><tr><td>BONAP</td><td>Bon app'</td><td>Laurence Lebihan</td><td>Owner</td><td>12, rue des Bouchers</td><td>Marseille</td><td>NULL</td><td>13008</td><td>France</td><td>91.24.45.40</td><td>91.24.45.41</td></tr><tr><td>DRACD</td><td>Drachenblut Delikatessen</td><td>Sven Ottlieb</td><td>Order Administrator</td><td>Walserweg 21</td><td>Aachen</td><td>NULL</td><td>52066</td><td>Germany</td><td>0241-039123</td><td>0241-059428</td></tr><tr><td>DUMON</td><td>Du monde entier</td><td>Janine Labrune</td><td>Owner</td><td>67, rue des Cinquante Otages</td><td>Nantes</td><td>NULL</td><td>44000</td><td>France</td><td>40.67.88.88</td><td>40.67.89.89</td></tr><tr><td>FOLIG</td><td>Folies gourmandes</td><td>Martine Rancé</td><td>Assistant Sales Agent</td><td>184, chaussée de Tournai</td><td>Lille</td><td>NULL</td><td>59000</td><td>France</td><td>20.16.10.16</td><td>20.16.10.17</td></tr><tr><td>FRANK</td><td>Frankenversand</td><td>Peter Franken</td><td>Marketing Manager</td><td>Berliner Platz 43</td><td>München</td><td>NULL</td><td>80805</td><td>Germany</td><td>089-0877310</td><td>089-0877451</td></tr><tr><td>FRANR</td><td>France restauration</td><td>Carine Schmitt</td><td>Marketing Manager</td><td>54, rue Royale</td><td>Nantes</td><td>NULL</td><td>44000</td><td>France</td><td>40.32.21.21</td><td>40.32.21.20</td></tr><tr><td>GALED</td><td>Galería del gastrónomo</td><td>Eduardo Saavedra</td><td>Marketing Manager</td><td>Rambla de Cataluña, 23</td><td>Barcelona</td><td>NULL</td><td>08022</td><td>Spain</td><td>(93) 203 4560</td><td>(93) 203 4561</td></tr><tr><td>GODOS</td><td>Godos Cocina Típica</td><td>José Pedro Freyre</td><td>Sales Manager</td><td>C/ Romero, 33</td><td>Sevilla</td><td>NULL</td><td>41101</td><td>Spain</td><td>(95) 555 82 82</td><td>NULL</td></tr><tr><td>KOENE</td><td>Königlich Essen</td><td>Philip Cramer</td><td>Sales Associate</td><td>Maubelstr. 90</td><td>Brandenburg</td><td>NULL</td><td>14776</td><td>Germany</td><td>0555-09876</td><td>NULL</td></tr><tr><td>LACOR</td><td>La corne d'abondance</td><td>Daniel Tonini</td><td>Sales Representative</td><td>67, avenue de l'Europe</td><td>Versailles</td><td>NULL</td><td>78000</td><td>France</td><td>30.59.84.10</td><td>30.59.85.11</td></tr><tr><td>LAMAI</td><td>La maison d'Asie</td><td>Annette Roulet</td><td>Sales Manager</td><td>1 rue Alsace-Lorraine</td><td>Toulouse</td><td>NULL</td><td>31000</td><td>France</td><td>61.77.61.10</td><td>61.77.61.11</td></tr><tr><td>LEHMS</td><td>Lehmanns Marktstand</td><td>Renate Messner</td><td>Sales Representative</td><td>Magazinweg 7</td><td>Frankfurt a.M.</td><td>NULL</td><td>60528</td><td>Germany</td><td>069-0245984</td><td>069-0245874</td></tr><tr><td>MORGK</td><td>Morgenstern Gesundkost</td><td>Alexander Feuer</td><td>Marketing Assistant</td><td>Heerstr. 22</td><td>Leipzig</td><td>NULL</td><td>04179</td><td>Germany</td><td>0342-023176</td><td>NULL</td></tr><tr><td>OTTIK</td><td>Ottilies Käseladen</td><td>Henriette Pfalzheim</td><td>Owner</td><td>Mehrheimerstr. 369</td><td>Köln</td><td>NULL</td><td>50739</td><td>Germany</td><td>0221-0644327</td><td>0221-0765721</td></tr><tr><td>QUICK</td><td>QUICK-Stop</td><td>Horst Kloss</td><td>Accounting Manager</td><td>Taucherstraße 10</td><td>Cunewalde</td><td>NULL</td><td>01307</td><td>Germany</td><td>0372-035188</td><td>NULL</td></tr><tr><td>TOMSP</td><td>Toms Spezialitäten</td><td>Karin Josephs</td><td>Marketing Manager</td><td>Luisenstr. 48</td><td>Münster</td><td>NULL</td><td>44087</td><td>Germany</td><td>0251-031259</td><td>0251-035695</td></tr><tr><td>VICTE</td><td>Victuailles en stock</td><td>Mary Saveley</td><td>Sales Agent</td><td>2, rue du Commerce</td><td>Lyon</td><td>NULL</td><td>69004</td><td>France</td><td>78.32.54.86</td><td>78.32.54.87</td></tr><tr><td>VINET</td><td>Vins et alcools Chevalier</td><td>Paul Henriot</td><td>Accounting Manager</td><td>59 rue de l'Abbaye</td><td>Reims</td><td>NULL</td><td>51100</td><td>France</td><td>26.47.15.10</td><td>26.47.15.11</td></tr><tr><td>WANDK</td><td>Die Wandernde Kuh</td><td>Rita Müller</td><td>Sales Representative</td><td>Adenauerallee 900</td><td>Stuttgart</td><td>NULL</td><td>70563</td><td>Germany</td><td>0711-020361</td><td>0711-035428</td></tr></table>"
                    },
                    "metadata": {}
                }
            ],
            "execution_count": 5
        },
        {
            "cell_type": "code",
            "source": [
                "SELECT * FROM products LIMIT 1"
            ],
            "metadata": {
                "azdata_cell_guid": "a8c525b8-d152-4279-96d0-51d3175bad9d"
            },
            "outputs": [
                {
                    "output_type": "display_data",
                    "data": {
                        "text/html": "(1 row(s) affected)"
                    },
                    "metadata": {}
                },
                {
                    "output_type": "display_data",
                    "data": {
                        "text/html": "Total execution time: 00:00:00.821"
                    },
                    "metadata": {}
                },
                {
                    "output_type": "execute_result",
                    "execution_count": 10,
                    "data": {
                        "application/vnd.dataresource+json": {
                            "schema": {
                                "fields": [
                                    {
                                        "name": "product_id"
                                    },
                                    {
                                        "name": "product_name"
                                    },
                                    {
                                        "name": "supplier_id"
                                    },
                                    {
                                        "name": "category_id"
                                    },
                                    {
                                        "name": "quantity_per_unit"
                                    },
                                    {
                                        "name": "unit_price"
                                    },
                                    {
                                        "name": "units_in_stock"
                                    },
                                    {
                                        "name": "units_on_order"
                                    },
                                    {
                                        "name": "reorder_level"
                                    },
                                    {
                                        "name": "discontinued"
                                    }
                                ]
                            },
                            "data": [
                                {
                                    "0": "1",
                                    "1": "Chai",
                                    "2": "8",
                                    "3": "1",
                                    "4": "10 boxes x 30 bags",
                                    "5": "18.0",
                                    "6": "39",
                                    "7": "0",
                                    "8": "10",
                                    "9": "1"
                                }
                            ]
                        },
                        "text/html": "<table><tr><th>product_id</th><th>product_name</th><th>supplier_id</th><th>category_id</th><th>quantity_per_unit</th><th>unit_price</th><th>units_in_stock</th><th>units_on_order</th><th>reorder_level</th><th>discontinued</th></tr><tr><td>1</td><td>Chai</td><td>8</td><td>1</td><td>10 boxes x 30 bags</td><td>18.0</td><td>39</td><td>0</td><td>10</td><td>1</td></tr></table>"
                    },
                    "metadata": {}
                }
            ],
            "execution_count": 10
        },
        {
            "cell_type": "markdown",
            "source": [
                "### Na tabela _Products_:\n",
                "\n",
                "1. Quantos são os produtos que são da CategoryID 2?\n",
                "    \n",
                "2. Quantos produtos com SupplierID idêntico ao CategoryID e que custam mais do que 10?\n",
                "    \n",
                "3. Liste todos os nomes de produtos, suas \\*\"Units\"\\* e seus respectivos preços distintos que pertecem às categorias 1, 2 e 7.\n",
                "    \n",
                "4. Liste os 5 primeiros nomes de produtos que começam com \"A\" ou tenham \"h\" no meio do nome. Retorne em português os nomes das colunas.\n",
                "    \n",
                "5. Dê a média de preços de todos os produtos das categorias entre 1 e 5. Arredonde para 1 casa decimal.\n",
                "    \n",
                "6. Liste a média de preços e a quantidade de produtos distintos por SupplierID; ordene pela média de preço, do maior para o menor, e só mostre os 5 primeiros."
            ],
            "metadata": {
                "azdata_cell_guid": "cef7c838-b558-4fca-94d7-ba7bf8d64662"
            },
            "attachments": {}
        },
        {
            "cell_type": "code",
            "source": [
                "SELECT COUNT(*) FROM products WHERE category_id = 2"
            ],
            "metadata": {
                "azdata_cell_guid": "b7099b90-1aed-466b-9905-a2db19b8d92c"
            },
            "outputs": [
                {
                    "output_type": "display_data",
                    "data": {
                        "text/html": "(1 row(s) affected)"
                    },
                    "metadata": {}
                },
                {
                    "output_type": "display_data",
                    "data": {
                        "text/html": "Total execution time: 00:00:00.820"
                    },
                    "metadata": {}
                },
                {
                    "output_type": "execute_result",
                    "execution_count": 9,
                    "data": {
                        "application/vnd.dataresource+json": {
                            "schema": {
                                "fields": [
                                    {
                                        "name": "count"
                                    }
                                ]
                            },
                            "data": [
                                {
                                    "0": "12"
                                }
                            ]
                        },
                        "text/html": "<table><tr><th>count</th></tr><tr><td>12</td></tr></table>"
                    },
                    "metadata": {}
                }
            ],
            "execution_count": 9
        },
        {
            "cell_type": "code",
            "source": [
                "SELECT COUNT(*) FROM products WHERE category_id = supplier_id AND unit_price >10"
            ],
            "metadata": {
                "azdata_cell_guid": "da5a4df9-b90e-43e3-ab67-06016f5ad77e"
            },
            "outputs": [
                {
                    "output_type": "display_data",
                    "data": {
                        "text/html": "(1 row(s) affected)"
                    },
                    "metadata": {}
                },
                {
                    "output_type": "display_data",
                    "data": {
                        "text/html": "Total execution time: 00:00:00.881"
                    },
                    "metadata": {}
                },
                {
                    "output_type": "execute_result",
                    "execution_count": 12,
                    "data": {
                        "application/vnd.dataresource+json": {
                            "schema": {
                                "fields": [
                                    {
                                        "name": "count"
                                    }
                                ]
                            },
                            "data": [
                                {
                                    "0": "5"
                                }
                            ]
                        },
                        "text/html": "<table><tr><th>count</th></tr><tr><td>5</td></tr></table>"
                    },
                    "metadata": {}
                }
            ],
            "execution_count": 12
        },
        {
            "cell_type": "code",
            "source": [
                "SELECT * FROM products WHERE category_id IN (1,2,7)"
            ],
            "metadata": {
                "azdata_cell_guid": "3de96da1-a139-4ffb-be00-9f0db0ee3934"
            },
            "outputs": [
                {
                    "output_type": "display_data",
                    "data": {
                        "text/html": "(29 row(s) affected)"
                    },
                    "metadata": {}
                },
                {
                    "output_type": "display_data",
                    "data": {
                        "text/html": "Total execution time: 00:00:00.845"
                    },
                    "metadata": {}
                },
                {
                    "output_type": "execute_result",
                    "execution_count": 14,
                    "data": {
                        "application/vnd.dataresource+json": {
                            "schema": {
                                "fields": [
                                    {
                                        "name": "product_id"
                                    },
                                    {
                                        "name": "product_name"
                                    },
                                    {
                                        "name": "supplier_id"
                                    },
                                    {
                                        "name": "category_id"
                                    },
                                    {
                                        "name": "quantity_per_unit"
                                    },
                                    {
                                        "name": "unit_price"
                                    },
                                    {
                                        "name": "units_in_stock"
                                    },
                                    {
                                        "name": "units_on_order"
                                    },
                                    {
                                        "name": "reorder_level"
                                    },
                                    {
                                        "name": "discontinued"
                                    }
                                ]
                            },
                            "data": [
                                {
                                    "0": "1",
                                    "1": "Chai",
                                    "2": "8",
                                    "3": "1",
                                    "4": "10 boxes x 30 bags",
                                    "5": "18.0",
                                    "6": "39",
                                    "7": "0",
                                    "8": "10",
                                    "9": "1"
                                },
                                {
                                    "0": "2",
                                    "1": "Chang",
                                    "2": "1",
                                    "3": "1",
                                    "4": "24 - 12 oz bottles",
                                    "5": "19.0",
                                    "6": "17",
                                    "7": "40",
                                    "8": "25",
                                    "9": "1"
                                },
                                {
                                    "0": "3",
                                    "1": "Aniseed Syrup",
                                    "2": "1",
                                    "3": "2",
                                    "4": "12 - 550 ml bottles",
                                    "5": "10.0",
                                    "6": "13",
                                    "7": "70",
                                    "8": "25",
                                    "9": "0"
                                },
                                {
                                    "0": "4",
                                    "1": "Chef Anton's Cajun Seasoning",
                                    "2": "2",
                                    "3": "2",
                                    "4": "48 - 6 oz jars",
                                    "5": "22.0",
                                    "6": "53",
                                    "7": "0",
                                    "8": "0",
                                    "9": "0"
                                },
                                {
                                    "0": "5",
                                    "1": "Chef Anton's Gumbo Mix",
                                    "2": "2",
                                    "3": "2",
                                    "4": "36 boxes",
                                    "5": "21.35",
                                    "6": "0",
                                    "7": "0",
                                    "8": "0",
                                    "9": "1"
                                },
                                {
                                    "0": "6",
                                    "1": "Grandma's Boysenberry Spread",
                                    "2": "3",
                                    "3": "2",
                                    "4": "12 - 8 oz jars",
                                    "5": "25.0",
                                    "6": "120",
                                    "7": "0",
                                    "8": "25",
                                    "9": "0"
                                },
                                {
                                    "0": "7",
                                    "1": "Uncle Bob's Organic Dried Pears",
                                    "2": "3",
                                    "3": "7",
                                    "4": "12 - 1 lb pkgs.",
                                    "5": "30.0",
                                    "6": "15",
                                    "7": "0",
                                    "8": "10",
                                    "9": "0"
                                },
                                {
                                    "0": "8",
                                    "1": "Northwoods Cranberry Sauce",
                                    "2": "3",
                                    "3": "2",
                                    "4": "12 - 12 oz jars",
                                    "5": "40.0",
                                    "6": "6",
                                    "7": "0",
                                    "8": "0",
                                    "9": "0"
                                },
                                {
                                    "0": "14",
                                    "1": "Tofu",
                                    "2": "6",
                                    "3": "7",
                                    "4": "40 - 100 g pkgs.",
                                    "5": "23.25",
                                    "6": "35",
                                    "7": "0",
                                    "8": "0",
                                    "9": "0"
                                },
                                {
                                    "0": "15",
                                    "1": "Genen Shouyu",
                                    "2": "6",
                                    "3": "2",
                                    "4": "24 - 250 ml bottles",
                                    "5": "13.0",
                                    "6": "39",
                                    "7": "0",
                                    "8": "5",
                                    "9": "0"
                                },
                                {
                                    "0": "24",
                                    "1": "Guaraná Fantástica",
                                    "2": "10",
                                    "3": "1",
                                    "4": "12 - 355 ml cans",
                                    "5": "4.5",
                                    "6": "20",
                                    "7": "0",
                                    "8": "0",
                                    "9": "1"
                                },
                                {
                                    "0": "28",
                                    "1": "Rössle Sauerkraut",
                                    "2": "12",
                                    "3": "7",
                                    "4": "25 - 825 g cans",
                                    "5": "45.6",
                                    "6": "26",
                                    "7": "0",
                                    "8": "0",
                                    "9": "1"
                                },
                                {
                                    "0": "34",
                                    "1": "Sasquatch Ale",
                                    "2": "16",
                                    "3": "1",
                                    "4": "24 - 12 oz bottles",
                                    "5": "14.0",
                                    "6": "111",
                                    "7": "0",
                                    "8": "15",
                                    "9": "0"
                                },
                                {
                                    "0": "35",
                                    "1": "Steeleye Stout",
                                    "2": "16",
                                    "3": "1",
                                    "4": "24 - 12 oz bottles",
                                    "5": "18.0",
                                    "6": "20",
                                    "7": "0",
                                    "8": "15",
                                    "9": "0"
                                },
                                {
                                    "0": "38",
                                    "1": "Côte de Blaye",
                                    "2": "18",
                                    "3": "1",
                                    "4": "12 - 75 cl bottles",
                                    "5": "263.5",
                                    "6": "17",
                                    "7": "0",
                                    "8": "15",
                                    "9": "0"
                                },
                                {
                                    "0": "39",
                                    "1": "Chartreuse verte",
                                    "2": "18",
                                    "3": "1",
                                    "4": "750 cc per bottle",
                                    "5": "18.0",
                                    "6": "69",
                                    "7": "0",
                                    "8": "5",
                                    "9": "0"
                                },
                                {
                                    "0": "43",
                                    "1": "Ipoh Coffee",
                                    "2": "20",
                                    "3": "1",
                                    "4": "16 - 500 g tins",
                                    "5": "46.0",
                                    "6": "17",
                                    "7": "10",
                                    "8": "25",
                                    "9": "0"
                                },
                                {
                                    "0": "44",
                                    "1": "Gula Malacca",
                                    "2": "20",
                                    "3": "2",
                                    "4": "20 - 2 kg bags",
                                    "5": "19.45",
                                    "6": "27",
                                    "7": "0",
                                    "8": "15",
                                    "9": "0"
                                },
                                {
                                    "0": "51",
                                    "1": "Manjimup Dried Apples",
                                    "2": "24",
                                    "3": "7",
                                    "4": "50 - 300 g pkgs.",
                                    "5": "53.0",
                                    "6": "20",
                                    "7": "0",
                                    "8": "10",
                                    "9": "0"
                                },
                                {
                                    "0": "61",
                                    "1": "Sirop d'érable",
                                    "2": "29",
                                    "3": "2",
                                    "4": "24 - 500 ml bottles",
                                    "5": "28.5",
                                    "6": "113",
                                    "7": "0",
                                    "8": "25",
                                    "9": "0"
                                },
                                {
                                    "0": "63",
                                    "1": "Vegie-spread",
                                    "2": "7",
                                    "3": "2",
                                    "4": "15 - 625 g jars",
                                    "5": "43.9",
                                    "6": "24",
                                    "7": "0",
                                    "8": "5",
                                    "9": "0"
                                },
                                {
                                    "0": "65",
                                    "1": "Louisiana Fiery Hot Pepper Sauce",
                                    "2": "2",
                                    "3": "2",
                                    "4": "32 - 8 oz bottles",
                                    "5": "21.05",
                                    "6": "76",
                                    "7": "0",
                                    "8": "0",
                                    "9": "0"
                                },
                                {
                                    "0": "66",
                                    "1": "Louisiana Hot Spiced Okra",
                                    "2": "2",
                                    "3": "2",
                                    "4": "24 - 8 oz jars",
                                    "5": "17.0",
                                    "6": "4",
                                    "7": "100",
                                    "8": "20",
                                    "9": "0"
                                },
                                {
                                    "0": "67",
                                    "1": "Laughing Lumberjack Lager",
                                    "2": "16",
                                    "3": "1",
                                    "4": "24 - 12 oz bottles",
                                    "5": "14.0",
                                    "6": "52",
                                    "7": "0",
                                    "8": "10",
                                    "9": "0"
                                },
                                {
                                    "0": "70",
                                    "1": "Outback Lager",
                                    "2": "7",
                                    "3": "1",
                                    "4": "24 - 355 ml bottles",
                                    "5": "15.0",
                                    "6": "15",
                                    "7": "10",
                                    "8": "30",
                                    "9": "0"
                                },
                                {
                                    "0": "74",
                                    "1": "Longlife Tofu",
                                    "2": "4",
                                    "3": "7",
                                    "4": "5 kg pkg.",
                                    "5": "10.0",
                                    "6": "4",
                                    "7": "20",
                                    "8": "5",
                                    "9": "0"
                                },
                                {
                                    "0": "75",
                                    "1": "Rhönbräu Klosterbier",
                                    "2": "12",
                                    "3": "1",
                                    "4": "24 - 0.5 l bottles",
                                    "5": "7.75",
                                    "6": "125",
                                    "7": "0",
                                    "8": "25",
                                    "9": "0"
                                },
                                {
                                    "0": "76",
                                    "1": "Lakkalikööri",
                                    "2": "23",
                                    "3": "1",
                                    "4": "500 ml",
                                    "5": "18.0",
                                    "6": "57",
                                    "7": "0",
                                    "8": "20",
                                    "9": "0"
                                },
                                {
                                    "0": "77",
                                    "1": "Original Frankfurter grüne Soße",
                                    "2": "12",
                                    "3": "2",
                                    "4": "12 boxes",
                                    "5": "13.0",
                                    "6": "32",
                                    "7": "0",
                                    "8": "15",
                                    "9": "0"
                                }
                            ]
                        },
                        "text/html": "<table><tr><th>product_id</th><th>product_name</th><th>supplier_id</th><th>category_id</th><th>quantity_per_unit</th><th>unit_price</th><th>units_in_stock</th><th>units_on_order</th><th>reorder_level</th><th>discontinued</th></tr><tr><td>1</td><td>Chai</td><td>8</td><td>1</td><td>10 boxes x 30 bags</td><td>18.0</td><td>39</td><td>0</td><td>10</td><td>1</td></tr><tr><td>2</td><td>Chang</td><td>1</td><td>1</td><td>24 - 12 oz bottles</td><td>19.0</td><td>17</td><td>40</td><td>25</td><td>1</td></tr><tr><td>3</td><td>Aniseed Syrup</td><td>1</td><td>2</td><td>12 - 550 ml bottles</td><td>10.0</td><td>13</td><td>70</td><td>25</td><td>0</td></tr><tr><td>4</td><td>Chef Anton's Cajun Seasoning</td><td>2</td><td>2</td><td>48 - 6 oz jars</td><td>22.0</td><td>53</td><td>0</td><td>0</td><td>0</td></tr><tr><td>5</td><td>Chef Anton's Gumbo Mix</td><td>2</td><td>2</td><td>36 boxes</td><td>21.35</td><td>0</td><td>0</td><td>0</td><td>1</td></tr><tr><td>6</td><td>Grandma's Boysenberry Spread</td><td>3</td><td>2</td><td>12 - 8 oz jars</td><td>25.0</td><td>120</td><td>0</td><td>25</td><td>0</td></tr><tr><td>7</td><td>Uncle Bob's Organic Dried Pears</td><td>3</td><td>7</td><td>12 - 1 lb pkgs.</td><td>30.0</td><td>15</td><td>0</td><td>10</td><td>0</td></tr><tr><td>8</td><td>Northwoods Cranberry Sauce</td><td>3</td><td>2</td><td>12 - 12 oz jars</td><td>40.0</td><td>6</td><td>0</td><td>0</td><td>0</td></tr><tr><td>14</td><td>Tofu</td><td>6</td><td>7</td><td>40 - 100 g pkgs.</td><td>23.25</td><td>35</td><td>0</td><td>0</td><td>0</td></tr><tr><td>15</td><td>Genen Shouyu</td><td>6</td><td>2</td><td>24 - 250 ml bottles</td><td>13.0</td><td>39</td><td>0</td><td>5</td><td>0</td></tr><tr><td>24</td><td>Guaraná Fantástica</td><td>10</td><td>1</td><td>12 - 355 ml cans</td><td>4.5</td><td>20</td><td>0</td><td>0</td><td>1</td></tr><tr><td>28</td><td>Rössle Sauerkraut</td><td>12</td><td>7</td><td>25 - 825 g cans</td><td>45.6</td><td>26</td><td>0</td><td>0</td><td>1</td></tr><tr><td>34</td><td>Sasquatch Ale</td><td>16</td><td>1</td><td>24 - 12 oz bottles</td><td>14.0</td><td>111</td><td>0</td><td>15</td><td>0</td></tr><tr><td>35</td><td>Steeleye Stout</td><td>16</td><td>1</td><td>24 - 12 oz bottles</td><td>18.0</td><td>20</td><td>0</td><td>15</td><td>0</td></tr><tr><td>38</td><td>Côte de Blaye</td><td>18</td><td>1</td><td>12 - 75 cl bottles</td><td>263.5</td><td>17</td><td>0</td><td>15</td><td>0</td></tr><tr><td>39</td><td>Chartreuse verte</td><td>18</td><td>1</td><td>750 cc per bottle</td><td>18.0</td><td>69</td><td>0</td><td>5</td><td>0</td></tr><tr><td>43</td><td>Ipoh Coffee</td><td>20</td><td>1</td><td>16 - 500 g tins</td><td>46.0</td><td>17</td><td>10</td><td>25</td><td>0</td></tr><tr><td>44</td><td>Gula Malacca</td><td>20</td><td>2</td><td>20 - 2 kg bags</td><td>19.45</td><td>27</td><td>0</td><td>15</td><td>0</td></tr><tr><td>51</td><td>Manjimup Dried Apples</td><td>24</td><td>7</td><td>50 - 300 g pkgs.</td><td>53.0</td><td>20</td><td>0</td><td>10</td><td>0</td></tr><tr><td>61</td><td>Sirop d'érable</td><td>29</td><td>2</td><td>24 - 500 ml bottles</td><td>28.5</td><td>113</td><td>0</td><td>25</td><td>0</td></tr><tr><td>63</td><td>Vegie-spread</td><td>7</td><td>2</td><td>15 - 625 g jars</td><td>43.9</td><td>24</td><td>0</td><td>5</td><td>0</td></tr><tr><td>65</td><td>Louisiana Fiery Hot Pepper Sauce</td><td>2</td><td>2</td><td>32 - 8 oz bottles</td><td>21.05</td><td>76</td><td>0</td><td>0</td><td>0</td></tr><tr><td>66</td><td>Louisiana Hot Spiced Okra</td><td>2</td><td>2</td><td>24 - 8 oz jars</td><td>17.0</td><td>4</td><td>100</td><td>20</td><td>0</td></tr><tr><td>67</td><td>Laughing Lumberjack Lager</td><td>16</td><td>1</td><td>24 - 12 oz bottles</td><td>14.0</td><td>52</td><td>0</td><td>10</td><td>0</td></tr><tr><td>70</td><td>Outback Lager</td><td>7</td><td>1</td><td>24 - 355 ml bottles</td><td>15.0</td><td>15</td><td>10</td><td>30</td><td>0</td></tr><tr><td>74</td><td>Longlife Tofu</td><td>4</td><td>7</td><td>5 kg pkg.</td><td>10.0</td><td>4</td><td>20</td><td>5</td><td>0</td></tr><tr><td>75</td><td>Rhönbräu Klosterbier</td><td>12</td><td>1</td><td>24 - 0.5 l bottles</td><td>7.75</td><td>125</td><td>0</td><td>25</td><td>0</td></tr><tr><td>76</td><td>Lakkalikööri</td><td>23</td><td>1</td><td>500 ml</td><td>18.0</td><td>57</td><td>0</td><td>20</td><td>0</td></tr><tr><td>77</td><td>Original Frankfurter grüne Soße</td><td>12</td><td>2</td><td>12 boxes</td><td>13.0</td><td>32</td><td>0</td><td>15</td><td>0</td></tr></table>"
                    },
                    "metadata": {}
                }
            ],
            "execution_count": 14
        },
        {
            "cell_type": "code",
            "source": [
                "SELECT product_name FROM products WHERE product_name like 'A%' OR product_name like '%h%'"
            ],
            "metadata": {
                "azdata_cell_guid": "3e8fbfdb-9862-4d6a-91ed-348f0736dce7"
            },
            "outputs": [
                {
                    "output_type": "display_data",
                    "data": {
                        "text/html": "(26 row(s) affected)"
                    },
                    "metadata": {}
                },
                {
                    "output_type": "display_data",
                    "data": {
                        "text/html": "Total execution time: 00:00:00.873"
                    },
                    "metadata": {}
                },
                {
                    "output_type": "execute_result",
                    "execution_count": 15,
                    "data": {
                        "application/vnd.dataresource+json": {
                            "schema": {
                                "fields": [
                                    {
                                        "name": "product_name"
                                    }
                                ]
                            },
                            "data": [
                                {
                                    "0": "Chai"
                                },
                                {
                                    "0": "Chang"
                                },
                                {
                                    "0": "Aniseed Syrup"
                                },
                                {
                                    "0": "Chef Anton's Cajun Seasoning"
                                },
                                {
                                    "0": "Chef Anton's Gumbo Mix"
                                },
                                {
                                    "0": "Northwoods Cranberry Sauce"
                                },
                                {
                                    "0": "Mishi Kobe Niku"
                                },
                                {
                                    "0": "Queso Manchego La Pastora"
                                },
                                {
                                    "0": "Genen Shouyu"
                                },
                                {
                                    "0": "Alice Mutton"
                                },
                                {
                                    "0": "Teatime Chocolate Biscuits"
                                },
                                {
                                    "0": "Gumbär Gummibärchen"
                                },
                                {
                                    "0": "Schoggi Schokolade"
                                },
                                {
                                    "0": "Thüringer Rostbratwurst"
                                },
                                {
                                    "0": "Nord-Ost Matjeshering"
                                },
                                {
                                    "0": "Sasquatch Ale"
                                },
                                {
                                    "0": "Chartreuse verte"
                                },
                                {
                                    "0": "Jack's New England Clam Chowder"
                                },
                                {
                                    "0": "Ipoh Coffee"
                                },
                                {
                                    "0": "Chocolade"
                                },
                                {
                                    "0": "Perth Pasties"
                                },
                                {
                                    "0": "Pâté chinois"
                                },
                                {
                                    "0": "Gnocchi di nonna Alice"
                                },
                                {
                                    "0": "Laughing Lumberjack Lager"
                                },
                                {
                                    "0": "Scottish Longbreads"
                                },
                                {
                                    "0": "Rhönbräu Klosterbier"
                                }
                            ]
                        },
                        "text/html": "<table><tr><th>product_name</th></tr><tr><td>Chai</td></tr><tr><td>Chang</td></tr><tr><td>Aniseed Syrup</td></tr><tr><td>Chef Anton's Cajun Seasoning</td></tr><tr><td>Chef Anton's Gumbo Mix</td></tr><tr><td>Northwoods Cranberry Sauce</td></tr><tr><td>Mishi Kobe Niku</td></tr><tr><td>Queso Manchego La Pastora</td></tr><tr><td>Genen Shouyu</td></tr><tr><td>Alice Mutton</td></tr><tr><td>Teatime Chocolate Biscuits</td></tr><tr><td>Gumbär Gummibärchen</td></tr><tr><td>Schoggi Schokolade</td></tr><tr><td>Thüringer Rostbratwurst</td></tr><tr><td>Nord-Ost Matjeshering</td></tr><tr><td>Sasquatch Ale</td></tr><tr><td>Chartreuse verte</td></tr><tr><td>Jack's New England Clam Chowder</td></tr><tr><td>Ipoh Coffee</td></tr><tr><td>Chocolade</td></tr><tr><td>Perth Pasties</td></tr><tr><td>Pâté chinois</td></tr><tr><td>Gnocchi di nonna Alice</td></tr><tr><td>Laughing Lumberjack Lager</td></tr><tr><td>Scottish Longbreads</td></tr><tr><td>Rhönbräu Klosterbier</td></tr></table>"
                    },
                    "metadata": {}
                }
            ],
            "execution_count": 15
        },
        {
            "cell_type": "markdown",
            "source": [
                "### Na tabela _Orders_:\n",
                "\n",
                "1. Liste o top 3 de funcionários com mais vendas no primeiro trimestre de 1996.\n",
                "    \n",
                "2. Liste os clientes com mais pedidos - mas somente aqueles que tiverem a partir de 2 pedidos. Corte explicitamente os clientes que compraram de funcionários sem ID.\n",
                "    \n",
                "\n",
                "###"
            ],
            "metadata": {
                "azdata_cell_guid": "0c3d2557-059c-4165-a1fd-ff80efdf2e74"
            },
            "attachments": {}
        },
        {
            "cell_type": "code",
            "source": [
                "SELECT product_name FROM products WHERE product_name like 'A%' OR product_name like '%h%'"
            ],
            "metadata": {
                "azdata_cell_guid": "00358dde-ca35-4d19-803d-8e1818a5bffc"
            },
            "outputs": [],
            "execution_count": null
        },
        {
            "cell_type": "markdown",
            "source": [
                "### <span style=\"font-size: 14px;\">Na tabela de&nbsp;</span> _Suppliers_<span style=\"font-size: 14px;\">:</span>  \n",
                "\n",
                "1. Conte todos os diferentes fornecedores por país. Agrupe categorizando os países em 'Americas' _(se o país for USA, Brazil ou Canada)_ e 'Outros' senão. Detalhe, estamos buscando aqueles cujo DDD não comece com o dígito 1.\n",
                "    \n",
                "2. Existe alguma cidade com mais de um código de área de telefone?\n",
                "    \n",
                "3. Tome a primeira letra de cada cidade _(ex. \"N\" para \"New Orleans\")_. Quais são as 5 iniciais de nomes de cidades que têm mais fornecedores associados _(em ordem descrescente de fornecedores/cidade)_?\n",
                "    \n",
                "\n",
                "###"
            ],
            "metadata": {
                "azdata_cell_guid": "326614c0-871c-490c-b7f2-907a8fa10368"
            },
            "attachments": {}
        },
        {
            "cell_type": "code",
            "source": [
                ""
            ],
            "metadata": {
                "azdata_cell_guid": "df1187f3-bdf9-445b-9690-e80dc9092751"
            },
            "outputs": [],
            "execution_count": null
        }
    ]
}