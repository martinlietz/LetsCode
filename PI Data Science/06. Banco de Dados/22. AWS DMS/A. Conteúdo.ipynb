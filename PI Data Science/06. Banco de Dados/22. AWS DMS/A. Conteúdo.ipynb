{
 "cells": [
  {
   "cell_type": "markdown",
   "metadata": {},
   "source": [
    "# AWS DMS\n",
    "O AWS Database Migration Service (AWS DMS) é um serviço da Web que você pode usar para migrar dados de bancos de dados on-premises, em uma instância de banco de dados do Amazon Relational Database Service (Amazon RDS) ou em um banco de dados em uma instância do Amazon Elastic Compute Cloud (Amazon EC2), para um banco de dados em um produto da AWS. Esses serviços podem incluir um banco de dados no Amazon RDS ou em uma instância do Amazon EC2. Também é possível migrar um banco de dados de um serviço da AWS para um banco de dados on-premises. Você pode migrar dados entre mecanismos de banco de dados homogêneos ou heterogêneos.\n",
    "\n",
    "<img src=\"https://techclyde.com/assets/img/services/toolkit/dms.png\" />\n",
    "\n",
    "Para migrar banco de dados, o AWS DMS se conecta ao armazenamento de dados de origem, lê os dados de origem e formata-os para o consumo do armazenamento de dados de destino Em seguida, carrega os dados no armazenamento de dados de destino. A maior parte desse processo ocorre na memória, mas grandes transações podem exigir buffer para o disco. Transações armazenadas em cache e arquivos de log também são gravados no disco.\n",
    "\n",
    "De maneira detalhada, ao usar o AWS DMS, você faz o seguinte:\n",
    "\n",
    "Criar um servidor de replicação.\n",
    "<img src=\"https://s3-sa-east-1.amazonaws.com/lcpi/969715d9-9b34-41fc-99d2-7687fdef5db1.PNG\" />\n",
    "\n",
    "Criar endpoints de origem e de destino que tenham informações de conexão sobre seus datastores.\n",
    "<img src=\"https://s3-sa-east-1.amazonaws.com/lcpi/d2ca30dc-60c7-4bb3-beb1-298e34218525.PNG\" />\n",
    "\n",
    "Criar uma ou mais tarefas de migração para migrar dados entre os armazenamentos de dados de origem e de destino.\n",
    "<img src=\"https://s3-sa-east-1.amazonaws.com/lcpi/ecbdbf6a-be00-4b65-acee-8a620438a924.PNG\" />\n",
    "\n",
    "<img src=\"https://s3-sa-east-1.amazonaws.com/lcpi/f29e5f63-1d39-4578-8339-6b134617d311.PNG\" />\n",
    "\n",
    "Uma tarefa pode consistir em três fases principais:\n",
    "\n",
    "O carregamento completo de dados existentes\n",
    "\n",
    "A aplicação de alterações armazenadas em cache\n",
    "\n",
    "Replicação contínua\n",
    "\n",
    "RDS Instances\n",
    "<img src=\"https://s3-sa-east-1.amazonaws.com/lcpi/92170942-e104-4195-8575-764902294337.PNG\" />\n",
    "\n",
    "Antes\n",
    "<img src=\"https://s3-sa-east-1.amazonaws.com/lcpi/d4b929fa-9f08-42d0-8a8e-45aa72067c3a.PNG\" />\n",
    "\n",
    "Depois\n",
    "<img src=\"https://s3-sa-east-1.amazonaws.com/lcpi/f944d625-ddec-48b4-bfc5-40e0f934b746.PNG\" />\n",
    "\n",
    "## Conclusão\n",
    "Com o AWS DMS, você pode executar migrações avulsas e replicar as alterações em andamento para manter as origens e os destinos em sincronia.\n",
    "\n",
    "\n",
    "\n",
    "Referência\n",
    "Documentação do AWS Database Migration Service"
   ]
  }
 ],
 "metadata": {
  "kernelspec": {
   "display_name": "Python 3.7.8 32-bit",
   "metadata": {
    "interpreter": {
     "hash": "04635d289a519a1410467dd0afb0db42f9184808881ca68b2eb5a687a20a5a94"
    }
   },
   "name": "python3"
  },
  "language_info": {
   "codemirror_mode": {
    "name": "ipython",
    "version": 3
   },
   "file_extension": ".py",
   "mimetype": "text/x-python",
   "name": "python",
   "nbconvert_exporter": "python",
   "pygments_lexer": "ipython3",
   "version": "3.7.8-final"
  },
  "orig_nbformat": 2
 },
 "nbformat": 4,
 "nbformat_minor": 2
}
