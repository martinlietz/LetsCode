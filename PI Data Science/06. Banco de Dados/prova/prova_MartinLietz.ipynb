{
 "cells": [
  {
   "cell_type": "markdown",
   "metadata": {},
   "source": [
    "Questão #1  \n",
    "Vale 10   \n",
    "Enunciado:    \n",
    "Um site é parte de um sistema. Podemos simplificar um sistema em 3 camadas:\n",
    "\n",
    "\n",
    "[ ] Banco de Dados, Front-end e Site\n",
    "\n",
    "[ ] Front-end, Back-end e Servidor\n",
    "\n",
    "[x] Front-end, Back-end e Banco de Dados\n",
    "\n",
    "[ ] Site, Back-end e Banco de Dados"
   ]
  },
  {
   "cell_type": "markdown",
   "metadata": {},
   "source": [
    "Questão #2  \n",
    "Vale 10     \n",
    "Enunciado   \n",
    "Assim como existem tipos de Linguagens de Programação Java, C#, Python, entre outras, nós também temos tipos de Banco de Dados. Eles podem ser dividos em Relacionais e Não Relacionais. Descreva o que são Banco de Dados Relacionais e Não Relacionais.\n",
    "\n",
    "Resposta:\n",
    "Banco de dados realcionais:\n",
    "Banco com tabelas com colunas e linhas.\n",
    "Diferentes tabelas podem ser relacionadas por chaves estrangeiros.\n",
    "Vantagens são que eles são facieis de inserir, atualizar e navegar \n",
    " Utiliza-se da linguagem SQL para manipulação dos dados.\n",
    "Desvantagens são que dados muito complexos precisam de muitas tabelas.\n",
    "Banco Não Relacionais:\n",
    "Utiliza-se o conceito de Chave e Valor ou Orientado a Documento, Banco de dados com dados não estruturados tipo xml, yaml, json, imagens, etc...\n",
    "Eles ofererecem a vantagem que podems salvar direto dados de paginas, livros, imagens sem converter.\n",
    "Desvantagem, para leitura/analise desses dados precisa-se antes abrir e analisar o dado, por outro lado isto é uma vantagem porque não precisa saber a estrutura antes de criar os dados."
   ]
  },
  {
   "cell_type": "markdown",
   "metadata": {},
   "source": [
    "Questão #3    \n",
    "Vale 10   \n",
    "Enunciado   \n",
    "Assinale a alternativa correta dos exemplos de Sistemas de Gerenciamento de Banco de Dados Relacionais Open Source.\n",
    "\n",
    "Alternativas\n",
    "[x] MySQL e PostgreSQL\n",
    "\n",
    "[ ] AWS DynamoDB e AWS DocumentDB\n",
    "\n",
    "[ ] SQLServer e Oracle\n",
    "\n",
    "[ ] Cassandra e MongoDB\n"
   ]
  },
  {
   "cell_type": "markdown",
   "metadata": {},
   "source": [
    "Questão #4  \n",
    "Vale 10   \n",
    "Enunciado  \n",
    "Assinale a alternativa correta dos exemplos de Sistemas de Gerenciamento de Banco de Dados Relacionais Pago.\n",
    "\n",
    "Alternativas\n",
    "[ ] AWS DynamoDB e AWS DocumentDB\n",
    "\n",
    "[ ] Cassandra e MongoDB\n",
    "\n",
    "[ ] MySQL e PostgreSQL\n",
    "\n",
    "[x] SQLServer e Oracle"
   ]
  },
  {
   "cell_type": "markdown",
   "metadata": {},
   "source": [
    "Questão #5   \n",
    "Vale 10   \n",
    "Enunciado  \n",
    "Qual instrução em SQL é usada para extrair dados de um banco de dados?   \n",
    "Alternativas    \n",
    "[ ] GET\n",
    "\n",
    "[X] SELECT\n",
    "\n",
    "[ ] EXTRACT\n",
    "\n",
    "[ ] N/A\n",
    "\n",
    "[ ]  OPEN\n"
   ]
  },
  {
   "cell_type": "markdown",
   "metadata": {},
   "source": [
    "Questão #6   \n",
    "Vale 10  \n",
    "Enunciado   \n",
    "Para inserir um novo registro em um banco de dados relacional, qual instrução SQL se deve usar?  \n",
    "  \n",
    "Alternativas  \n",
    "\n",
    "[ ] ADD NEW\n",
    "\n",
    "[X] INSERT INTO\n",
    "\n",
    "[ ] INSERT NEW\n",
    "\n",
    "[ ] N/A\n",
    "\n",
    "[ ] ADD INTO"
   ]
  },
  {
   "cell_type": "markdown",
   "metadata": {},
   "source": [
    "Questão #7  \n",
    "Vale 10   \n",
    "Enunciado   \n",
    "Em um banco Postgres é fundamental, do contrário não funcionará:  \n",
    "  \n",
    "Alternativas  \n",
    "\n",
    "[ ] Escrever as consultas em letra maiúscula, como SELECT * FROM ...\n",
    "\n",
    "[ ] Que todas as tabelas tenham chaves primárias\n",
    "\n",
    "[ ] Terminar cada instrução com um ponto-e-vírgula\n",
    "\n",
    "[X] N/A\n",
    "\n",
    "[ ] Dispor de acesso READONLY, do contrário é impossível criar VIEWs e tabelas"
   ]
  },
  {
   "cell_type": "markdown",
   "metadata": {},
   "source": [
    "Questão #8  \n",
    "Vale 10    \n",
    "Enunciado   \n",
    "Utilizamos Modelagem de Dados para: Representar o ambiente observado; Fornecer processos de validação; Observar processos de relacionamentos entre objetos; Documentar. É importante entender sobre: Entidade, Atributo, Relacionamento e Cardinalidade. Descreva os 3 tipos de Modelagem de Dados.\n",
    "\n",
    "Resposta:    \n",
    "      \n",
    "## Modelagem de Dados Conceitual      \n",
    "A modelagem de dados conceitual é utilizada para envolver o cliente, pois o foco aqui é discutir os aspectos do negócio do cliente. Os exemplos de modelagem de dados vistos pelo modelo conceitual são mais fáceis de compreender, já que não há limitações ou aplicação de tecnologia específica.\n",
    "Aqui construimos o diagrama de Entidade e Relacionamento, onde são identificados todas as entidades e os relacionamentos entre elas. Este diagrama é a chave para a compreensão do modelo conceitual de dados.\n",
    "\n",
    "## Modelagem de Dados Lógica    \n",
    "A modelagem lógica implementa recursos como adequação de padrão e nomenclatura, define as chaves primárias e estrangeiras, normalização, integridade referencial, entre outras. O modelo lógico deve ser criado levando em conta os exemplos de modelagem de dados criados no modelo conceitual.\n",
    "\n",
    "## Modelagem de Dados Física   \n",
    "A modelagem física lida com o design do banco de dados real com base nos requisitos reunidos durante a modelagem lógica."
   ]
  },
  {
   "cell_type": "markdown",
   "metadata": {},
   "source": [
    "Questão #9   \n",
    "Vale 10    \n",
    "Enunciado     \n",
    "Structured Query Language ou SQL é a linguagem mais conhecida do mundo e também a mais popular. É utilizada para executar comandos em Banco de Dados Relacionais, isto é, baseado em tabelas. É por meio dela que criamos databases, tabelas, colunas, indices, garantimos e revogamos privilégios a usuários e consultamos os dados armazenados no banco de dados. SQL é uma linguagem declarativa dividida em conjuntos de comandos:\n",
    "    \n",
    "Alternativas   \n",
    "     \n",
    "[ ] DDL, DML, DCL, TCL e QLD\n",
    "\n",
    "[x] DDL, DML, DCL, TCL e DQL\n",
    "\n",
    "[ ] LDE, DML, DCL, TCL e DQL\n",
    "\n",
    "[ ] DDL, DML, DLA, TCL e DQL"
   ]
  },
  {
   "cell_type": "markdown",
   "metadata": {},
   "source": [
    "Questão #10   \n",
    "Vale 10    \n",
    "Enunciado   \n",
    "Relatórios e gráficos são agregados de informações, precisamos aprender a juntar os dados em tabelas que sumarizem esses dados. Contando, somando, tomando a média, entre outros. Quais são as funções no SQL utilizadas para sumarizarem dados?\n",
    "\n",
    "Resposta:    \n",
    "temos os seguintes funções para informações agregados, MIN(), MAX(), COUNT(), SUM(), AVG(), para somar valores podemos usar por exemplo a função SUM() ou COUNT() se queremos saber a quantidade de registros."
   ]
  },
  {
   "cell_type": "markdown",
   "metadata": {},
   "source": [
    "Questão #11   \n",
    "Vale 10  \n",
    "Enunciado    \n",
    "Como fazemos para conectar dados que estão espalhados por mais de uma tabela num banco de dados relacional? Dê um exemplo.\n",
    "\n",
    "Resposta:\n",
    "Tabela cliente tem as colunas id,nome, endereço; Tabela livro tem as colunas id, idProprietario, título.\n",
    "Podemos conectar os dois da seguinte forma SELECT cliente.nome, livro.titulo FROM livro INNER JOIN cliente ON livro.idProprietario = cliente.id\n",
    "Onde o idProprietario é a chave estrangeira que conecta com o cliente."
   ]
  },
  {
   "cell_type": "markdown",
   "metadata": {},
   "source": [
    "Questão #12   \n",
    "Vale 10   \n",
    "Enunciado   \n",
    "Com suas palavras, descreva sobre o banco de dados NoSQL MongoDB.\n",
    "\n",
    "Resposta:   \n",
    "O MongoDB também é um banco de dados de código aberto com alta performance. Ele é aceito em diferentes sistemas operacionais e tem como característica ser orientado a documentos.\n",
    "\n",
    "Sendo assim, ele armazena todas as informações relevantes em um documento e utiliza sistemas avançados de agrupamento e filtragem. Diferentes plataformas e linguagens possuem suporte ao MongoDB, entre elas estão o Java, JavaScript, PHP, Python e Ruby."
   ]
  },
  {
   "cell_type": "markdown",
   "metadata": {},
   "source": [
    "Questão #13   \n",
    "Vale 100   \n",
    "Enunciado     \n",
    "Em SQL, como você extrairia todos os registros de uma tabela chamada \"Cidades\" onde o valor da coluna \"Nome\" começa com \"Rio\"?  \n",
    "   \n",
    "Alternativas   \n",
    "[ ] SELECT FROM cidades AS c WHERE nome = 'Rio'\n",
    "\n",
    "[ ] SELECT [*] FROM cidades WHERE nome <> '%Rio%'\n",
    "\n",
    "[x] SELECT * from cidades AS c WHERE nome like 'Rio%'\n",
    "\n",
    "[ ] SELECT * FROM cidades WHERE nome == 'Rio%'\n",
    "\n",
    "[ ] SELECT nome AS nome_cidade FROM Cidades WHERE nome LIKE 'Rio%'"
   ]
  },
  {
   "cell_type": "markdown",
   "metadata": {},
   "source": [
    "Questão #14    \n",
    "Vale 10    \n",
    "Enunciado  \n",
    "Uma tabela chamada \"Pedidos\" em um banco Postgres possui, entre outras, uma coluna chamada \"data_pedido\" do tipo DATE. Como você faria para listar todos os pedidos feitos entre 1º de janeiro de 2019 e 31 de março do mesmo ano?  \n",
    "  \n",
    "Alternativas  \n",
    "\n",
    "[ ] SELECT * FROM pedidos WHERE data_pedido IS IN FIRST_QUARTER(2019)\n",
    "\n",
    "[ ] SELECT * FROM pedidos WHERE data_pedido IS BETWEEN 01/01/2019 AND 31/03/2019\n",
    "\n",
    "[ ] SELECT * FROM pedidos WHERE data_pedido = MONTH('2019-01-01') AND data_pedido = MONTH('2019-02-01') AND data_pedido = MONTH('2019-03-01')\n",
    "\n",
    "[ ] SELECT * FROM pedidos WHERE data_pedido IN (01/01/2019, 31/03/2019)\n",
    "\n",
    "[x] SELECT * FROM pedidos WHERE data_pedido BETWEEN '2019-01-01' AND '2019-03-31'"
   ]
  },
  {
   "cell_type": "markdown",
   "metadata": {},
   "source": [
    "Questão #15   \n",
    "Vale 10   \n",
    "Enunciado   \n",
    "Em SQL, para: 1) extrair apenas registros únicos, 2) ordenar (em ordem alfabética), 3) contar apenas valores distintos, 4) agrupar (para contar, somar, etc.), temos as seguintes instruções, respectivamente:\n",
    "  \n",
    "Alternativas  \n",
    "[ ] 1) SELECT UNIQUE; 2) ORDER BY; 3) COUNT(*); 4) GROUPBY\n",
    "\n",
    "[ ] 1) SELECT DIFFERENT; 2) ORDER; 3) COUNT(DISTINCT); 4) GROUP BY ASC\n",
    "\n",
    "[x] 1) SELECT DISTINCT; 2) ORDER BY; 3) COUNT(DISTINCT); 4) GROUP BY\n",
    "\n",
    "[ ] 1) SELECT DISTINCT; 2) ORDER BY ASC; 3) COUNT(DISTINCT); 4) GROUP BY ASC\n",
    "\n",
    "[ ]  1) SELECT ONLY; 2) ORDER BY; 3) COUNT(DISTINCT); 4) GROUP BY"
   ]
  },
  {
   "cell_type": "markdown",
   "metadata": {},
   "source": [
    "Questão #16  \n",
    "Vale 10   \n",
    "Enunciado  \n",
    "A Amazon Web Services (AWS) é a plataforma de nuvem mais adotada e mais abrangente do mundo, oferecendo mais de 175 serviços completos de datacenters em todo o mundo. A infraestrutura da AWS é divida em:\n",
    "   \n",
    "Alternativas   \n",
    "[ ] Regions, Security Group e Local Zones\n",
    " \n",
    "[x] Regions, Availability Zone e Local Zones\n",
    "\n",
    "[ ] Cloudformation, Availability Zone e Local Zones\n",
    "\n",
    "[ ] Regions, Availability Zone e Relational Database Service"
   ]
  },
  {
   "cell_type": "markdown",
   "metadata": {},
   "source": [
    "Questão #17  \n",
    "Vale 10  \n",
    "Enunciado    \n",
    "O Amazon Relational Database Service (Amazon RDS) é um web service que facilita a configuração, a operação e o dimensionamento de um banco de dados relacional na Nuvem AWS. Ele fornece capacidade econômica e redimensionável para um banco de dados relacional padrão do setor e gerencia tarefas comuns de administração de banco de dados. Quais Banco de Dados Relacionais podem ser provisionados utilizando o service RDS?\n",
    "  \n",
    "Alternativas  \n",
    "[ ] Amazon Aurora, Mysql, MariaDB, PostgreSQL, Oracle, DocumentDB\n",
    " \n",
    "[ ] DynamoDB, Mysql, MariaDB, PostgreSQL, Oracle, SQL Server\n",
    "\n",
    "[ ] Amazon Aurora, Mysql, Neptune, PostgreSQL, Oracle, SQL Server\n",
    "\n",
    "[x] Amazon Aurora, Mysql, MariaDB, PostgreSQL, Oracle, SQL Server"
   ]
  },
  {
   "cell_type": "markdown",
   "metadata": {},
   "source": [
    "Questão #18  \n",
    "Vale 10    \n",
    "Enunciado   \n",
    "O AWS CloudFormation é um serviço que ajuda você a modelar e configurar seus recursos da Amazon Web Services para despender menos tempo gerenciando esses recursos e mais tempo se concentrando em seus aplicativos executados AWS. Em um template de CloudFormation qual é o recurso responsável por criar uma instância de banco de dados do Amazon RDS?\n",
    "  \n",
    "Alternativas  \n",
    "[x] AWS::RDS::DBInstance\n",
    "\n",
    "[ ] AWS::RDS::DBCluster\n",
    "\n",
    "[ ] AWS::EC2::Instance\n",
    "\n",
    "[ ] AWS::RDS::DBSubnetGroup"
   ]
  },
  {
   "cell_type": "markdown",
   "metadata": {},
   "source": [
    "Questão #19  \n",
    "Vale 10  \n",
    "Enunciado  \n",
    "Para ativar o backup em uma instancia RDS provisionada no Cloudformation é necessário realizar o ajuste nos parâmetros:\n",
    "  \n",
    "Alternativas  \n",
    "[ ] BackupRetentionPeriod e MultiAZ\n",
    "\n",
    "[x] BackupRetentionPeriod e PreferredBackupWindow\n",
    "\n",
    "[ ] BackupRetentionPeriod e MonitoringInterval\n",
    "\n",
    "[ ] PubliclyAccessible e PreferredBackupWindow"
   ]
  },
  {
   "cell_type": "markdown",
   "metadata": {},
   "source": [
    "Questão #20  \n",
    "Vale 10   \n",
    "Enunciado   \n",
    "Os bancos de dados NoSQL (ou não-relacionais) utilizam um padrão diferente de armazenamento em relação ao SQL. O grande diferencial dessa tecnologia é a capacidade de escalabilidade para as operações das empresas de uma forma mais simples e econômica do que no banco relacional. Quais são os principais tipos de Banco de Dados Não-Relacionais?\n",
    "   \n",
    "Alternativas   \n",
    "[x] REDIS, CASSANDRA, HBASE, AMAZON DYNAMODB, NEO4J, MONGODB\n",
    "\n",
    "[ ] REDIS, CASSANDRA, HBASE, AMAZON DYNAMODB, NEO4J, POSTGRESQL\n",
    "\n",
    "[ ] REDIS, CASSANDRA, MYSQL, AMAZON DYNAMODB, NEO4J, MONGODB\n",
    "\n",
    "[ ] REDIS, ORACLE, HBASE, AMAZON DYNAMODB, NEO4J, MONGODB"
   ]
  },
  {
   "cell_type": "markdown",
   "metadata": {},
   "source": [
    "Questão #21  \n",
    "Vale  10  \n",
    "Enunciado   \n",
    "Uma amiga sua está com umas ideias em mente para uma startup e a(o) chamou para ser a(o) CTO nesse novo empreendimento. Vocês já leram tudo sobre startups enxutas e não querem investir muito numa ideia a menos que ela tenha demanda de verdade e seja sustentável financeiramente. Portanto, estabeleceram para si mesmos a meta de testar um MVP por mês e ir pivotando de acordo com as demandas do mercado. Quando encontrarem algo em que valha a pena insistir, pretendem adicionar novas funções, mas não querem se prender indefinidamente num plano de negócios imutável. Como ninguém abre uma startup para crescer pouco, também esperam que dentro de 2 ou 3 anos tenham uma explosão no número de clientes. Assim, entre as questões que você, CTO, tem de tomar no início da operação é se deveriam começar a construir o backend sobre um banco de dados relacional ou não. Discuta abaixo, em NO MÁXIMO 100 palavras, sua decisão e o motivo dela.\n",
    "     \n",
    "Resposta:     \n",
    "Eu ia sugerir uma mistura dos dois. os bancos não relacionais são super rápidos, e por isso servem bem para interagir com os frontends, mas as tabelas relacionais são super estaveis e como já diz o nome estruturados, tbm tem outras vantagens de backups indexes etc. ."
   ]
  },
  {
   "cell_type": "code",
   "execution_count": 3,
   "metadata": {},
   "outputs": [
    {
     "data": {
      "text/plain": [
       "47"
      ]
     },
     "execution_count": 3,
     "metadata": {},
     "output_type": "execute_result"
    }
   ],
   "source": [
    "t = \"Eu ia sugerir uma mistura dos dois. os bancos não relacionais são super rápidos, e por isso servem bem para interagir com os frontends, mas as tabelas relacionais são super estaveis e como já diz o nome estruturados, tbm tem outras vantagens de backups indexes etc. .\"\n",
    "len(t.split(' '))"
   ]
  }
 ],
 "metadata": {
  "interpreter": {
   "hash": "e922dd073470bdcc017ae3abd31d6491d6ed7bf31c1d559806e5511bfea88b81"
  },
  "kernelspec": {
   "display_name": "Python 3.9.7 64-bit",
   "name": "python3"
  },
  "language_info": {
   "codemirror_mode": {
    "name": "ipython",
    "version": 3
   },
   "file_extension": ".py",
   "mimetype": "text/x-python",
   "name": "python",
   "nbconvert_exporter": "python",
   "pygments_lexer": "ipython3",
   "version": "3.9.7"
  },
  "orig_nbformat": 4
 },
 "nbformat": 4,
 "nbformat_minor": 2
}
