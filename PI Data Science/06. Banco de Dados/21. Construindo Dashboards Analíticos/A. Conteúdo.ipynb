{
 "cells": [
  {
   "cell_type": "markdown",
   "metadata": {},
   "source": [
    "# Construindo Dashboards Analíticos\n",
    "## Objetivo\n",
    "Nesta seção veremos como construir Dashboards Analiticos com foco em tranformar os dados armazenados em informação para tomada de decisão em nossas empresas.\n",
    "\n",
    "## Recursos para a Aula\n",
    "- PostgreSQL\n",
    "- PowerBI Desktop\n",
    "- Power BI\n",
    "\n",
    "\n",
    "Agora que já aprendemos a construir querys e objetos com SQL vamos aprender a entregar valor para o négocio construindo Dashboards que transformem nossos dados armazenados nas tabelas de nossos bancos de dados em informação de alto valor para tomada de decisão em nossas empresas.\n",
    "\n",
    "Para que isso seja possivel precisamos de um software que transforme os dados armazenados em nossos bancos de dados em gráficos de fácil compreensão para que as pessoas que possuam conhecimento do negócio passam interpreta-los de forma analítica.\n",
    "\n",
    "Existem diversos softwares que podemos utilizar para tal atividades, dentre eles temos:\n",
    "\n",
    "- Tableau\n",
    "- Microsoft Power BI\n",
    "- MoData\n",
    "- Qlick Sense\n",
    "- Looker\n",
    "\n",
    "Nesta aula iremos utilizar o Microsoft Power BI. Esta é uma ferramenta que nasceu dentro do Excel e desde que foi separada deste vem crescendo e sendo aperfeiçoada.\n",
    "\n",
    "Para instalala basta clicar no link, fazer o download do Microsoft Power BI Desktop e fazer a instalação diretamente (Next-Next-Finish):\n",
    "\n",
    "<img src=\"https://s3-sa-east-1.amazonaws.com/lcpi/68d81657-731c-48ae-8bdc-d095dfddfb53.PNG\" />\n",
    "\n",
    "Dashboards usando Microsoft Power BI\n",
    "Vamos construir um dashboard baseado em nosso banco de dados Northwind.\n",
    "\n",
    "O banco de dados Northwind é um banco de dados de exemplo usado pela Microsoft para demonstrar o recursos de alguns de seus produtos, incluindo SQL Server e Microsoft Access.\n",
    "\n",
    "O banco de dados contém os dados de vendas da Northwind Traders, uma importação e exportação de alimentos especiais fictícios empresa.\n",
    "\n",
    "Preparando o ambiente...\n",
    "Configurar o PostgreSQL Binary Path\n",
    "<img src=\"https://s3-sa-east-1.amazonaws.com/lcpi/603241fc-6df1-4d8f-9441-22364332cde5.PNG\" />\n",
    "\n",
    "Exportar as tabelas categories, customers, employees, order_details, orders, products, shippers e suppliers para o formato .csv usando o pgAdmin4\n",
    "Import/Export do pgAdmin4...\n",
    "<img src=\"https://s3-sa-east-1.amazonaws.com/lcpi/bd07bfaf-2165-4273-bfac-779d16ca7d2f.PNG\" />\n",
    "\n",
    "<img src=\"https://s3-sa-east-1.amazonaws.com/lcpi/5569f49c-b248-4ba1-9598-fca328ab387a.PNG\" />\n",
    "\n",
    "Obter dados de outra fonte...\n",
    "<img src=\"https://s3-sa-east-1.amazonaws.com/lcpi/f68d1e56-032a-4b00-b602-6e7737ccfdec.PNG\" />\n",
    "\n",
    "ERROR: Detalhes: \"Ocorreu um erro ao ler dados do provedor: 'O certificado remoto é inválido, de acordo com o procedimento de validação.'\" e Connecting to PostgresSQL hosted on AWS RDS?\n",
    "Importar os arquivos .csv. Se for necessário, tratar os dados no Power BI\n",
    "<img src=\"https://s3-sa-east-1.amazonaws.com/lcpi/7ff09f7f-2e53-4db1-8101-4a5207ed4ccf.PNG\" />\n",
    "\n",
    "Checar relacionamento entre as tabelas\n",
    "<img src=\"https://s3-sa-east-1.amazonaws.com/lcpi/17fb7411-5e9b-489a-b61e-430db4345cd8.PNG\" />\n",
    "\n",
    "Construir um dashboard no Power BI\n",
    "<img src=\"https://s3-sa-east-1.amazonaws.com/lcpi/be6b6096-2dbe-4e49-9c4c-eea28837cd6c.PNG\" />\n",
    "\n",
    "## Referências\n",
    "\n",
    "<a href=\"https://s3-sa-east-1.amazonaws.com/lcpi/e6e0a5e1-d7b2-43c7-906e-58dd8be42dbf.pbix\" >Dashboard: Northwind_BI.pbix</a>\n",
    "\n",
    "<a href=\"https://www.youtube.com/watch?v=kgW2GLbggck\" >O que é Power BI? Como funciona?</a>\n",
    "\n",
    "<a href=\"https://www.youtube.com/watch?v=uPlUjrKzd48\" >Como analisar dados com o Power Bi?</a>\n",
    "\n",
    "<a href=\"https://www.youtube.com/watch?v=W7psNc0PC04\" >Como fazer um dashboard no Power BI?</a>\n",
    "\n",
    "<a href=\"https://www.youtube.com/watch?v=wwmaNbbcQdM\" >Deu M no Power BI - Substituir Caracteres em Lote</a>\n",
    "\n",
    "<a href=\"https://www.youtube.com/watch?v=GFEFM5TyM3s\" >Importar CSV no Power BI</a>"
   ]
  }
 ],
 "metadata": {
  "kernelspec": {
   "display_name": "Python 3.7.8 32-bit",
   "metadata": {
    "interpreter": {
     "hash": "04635d289a519a1410467dd0afb0db42f9184808881ca68b2eb5a687a20a5a94"
    }
   },
   "name": "python3"
  },
  "language_info": {
   "codemirror_mode": {
    "name": "ipython",
    "version": 3
   },
   "file_extension": ".py",
   "mimetype": "text/x-python",
   "name": "python",
   "nbconvert_exporter": "python",
   "pygments_lexer": "ipython3",
   "version": "3.7.8-final"
  },
  "orig_nbformat": 2
 },
 "nbformat": 4,
 "nbformat_minor": 2
}
