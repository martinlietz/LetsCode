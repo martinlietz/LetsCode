{
 "cells": [
  {
   "cell_type": "code",
   "execution_count": 1,
   "metadata": {
    "ExecuteTime": {
     "end_time": "2021-06-14T11:50:01.774487Z",
     "start_time": "2021-06-14T11:50:01.766000Z"
    }
   },
   "outputs": [
    {
     "data": {
      "text/plain": [
       "['Davi',\n",
       " 'Aline',\n",
       " 'Ana Suely',\n",
       " 'Bruno',\n",
       " 'Catarina',\n",
       " 'Felipe',\n",
       " 'Gustavo',\n",
       " 'Mariana',\n",
       " 'Pedro Gimael',\n",
       " 'Pedro Mattos',\n",
       " 'Ricardo',\n",
       " 'Thiago de Oliveira',\n",
       " 'Victor',\n",
       " 'Wesley',\n",
       " 'Alexandre',\n",
       " 'Andreza',\n",
       " 'Gabriel Philot',\n",
       " 'Gabriel Paula',\n",
       " 'Martin',\n",
       " 'Mikael',\n",
       " 'Renan',\n",
       " 'Renato',\n",
       " 'Ronaldo',\n",
       " 'Thiago Fidencio',\n",
       " 'Valentina']"
      ]
     },
     "execution_count": 1,
     "metadata": {},
     "output_type": "execute_result"
    }
   ],
   "source": [
    "alunos = '''Davi\n",
    "Aline\n",
    "Ana Suely\n",
    "Bruno\n",
    "Catarina\n",
    "Felipe\n",
    "Gustavo\n",
    "Mariana\n",
    "Pedro Gimael\n",
    "Pedro Mattos\n",
    "Ricardo\n",
    "Thiago de Oliveira\n",
    "Victor\n",
    "Wesley\n",
    "Alexandre\n",
    "Andreza\n",
    "Gabriel Philot\n",
    "Gabriel Paula\n",
    "Martin\n",
    "Mikael\n",
    "Renan\n",
    "Renato\n",
    "Ronaldo\n",
    "Thiago Fidencio\n",
    "Valentina'''.split(\"\\n\")\n",
    "\n",
    "alunos"
   ]
  },
  {
   "cell_type": "code",
   "execution_count": 2,
   "metadata": {
    "ExecuteTime": {
     "end_time": "2021-06-14T11:55:17.570856Z",
     "start_time": "2021-06-14T11:55:17.565037Z"
    }
   },
   "outputs": [
    {
     "data": {
      "text/plain": [
       "['azul', 'verde', 'amarelo', 'vermelho', 'cinza']"
      ]
     },
     "execution_count": 2,
     "metadata": {},
     "output_type": "execute_result"
    }
   ],
   "source": [
    "grupos = \"azul verde amarelo vermelho cinza\".split()\n",
    "\n",
    "grupos"
   ]
  },
  {
   "cell_type": "code",
   "execution_count": 3,
   "metadata": {
    "ExecuteTime": {
     "end_time": "2021-06-14T11:55:17.929587Z",
     "start_time": "2021-06-14T11:55:17.925530Z"
    }
   },
   "outputs": [
    {
     "data": {
      "text/plain": [
       "25"
      ]
     },
     "execution_count": 3,
     "metadata": {},
     "output_type": "execute_result"
    }
   ],
   "source": [
    "len(alunos)"
   ]
  },
  {
   "cell_type": "code",
   "execution_count": 4,
   "metadata": {
    "ExecuteTime": {
     "end_time": "2021-06-14T11:55:18.280247Z",
     "start_time": "2021-06-14T11:55:18.276961Z"
    }
   },
   "outputs": [],
   "source": [
    "# como tem 5 grupos, e 25 pessoas...\n",
    "\n",
    "grupos = grupos*5"
   ]
  },
  {
   "cell_type": "code",
   "execution_count": 5,
   "metadata": {},
   "outputs": [],
   "source": [
    "import random"
   ]
  },
  {
   "cell_type": "code",
   "execution_count": 6,
   "metadata": {
    "ExecuteTime": {
     "end_time": "2021-06-14T11:56:33.058881Z",
     "start_time": "2021-06-14T11:56:33.050807Z"
    }
   },
   "outputs": [
    {
     "data": {
      "text/plain": [
       "['verde',\n",
       " 'vermelho',\n",
       " 'amarelo',\n",
       " 'verde',\n",
       " 'cinza',\n",
       " 'azul',\n",
       " 'cinza',\n",
       " 'vermelho',\n",
       " 'azul',\n",
       " 'amarelo',\n",
       " 'vermelho',\n",
       " 'azul',\n",
       " 'verde',\n",
       " 'cinza',\n",
       " 'vermelho',\n",
       " 'vermelho',\n",
       " 'azul',\n",
       " 'cinza',\n",
       " 'cinza',\n",
       " 'verde',\n",
       " 'azul',\n",
       " 'verde',\n",
       " 'amarelo',\n",
       " 'amarelo',\n",
       " 'amarelo']"
      ]
     },
     "execution_count": 6,
     "metadata": {},
     "output_type": "execute_result"
    }
   ],
   "source": [
    "# embaralhando grupos...\n",
    "\n",
    "random.shuffle(grupos)\n",
    "\n",
    "grupos"
   ]
  },
  {
   "cell_type": "code",
   "execution_count": 7,
   "metadata": {
    "ExecuteTime": {
     "end_time": "2021-06-14T11:56:55.823088Z",
     "start_time": "2021-06-14T11:56:55.818626Z"
    }
   },
   "outputs": [
    {
     "data": {
      "text/plain": [
       "['Victor',\n",
       " 'Wesley',\n",
       " 'Davi',\n",
       " 'Felipe',\n",
       " 'Mikael',\n",
       " 'Ronaldo',\n",
       " 'Andreza',\n",
       " 'Bruno',\n",
       " 'Martin',\n",
       " 'Aline',\n",
       " 'Gabriel Philot',\n",
       " 'Catarina',\n",
       " 'Renato',\n",
       " 'Pedro Gimael',\n",
       " 'Renan',\n",
       " 'Valentina',\n",
       " 'Thiago Fidencio',\n",
       " 'Gustavo',\n",
       " 'Thiago de Oliveira',\n",
       " 'Ana Suely',\n",
       " 'Mariana',\n",
       " 'Gabriel Paula',\n",
       " 'Ricardo',\n",
       " 'Pedro Mattos',\n",
       " 'Alexandre']"
      ]
     },
     "execution_count": 7,
     "metadata": {},
     "output_type": "execute_result"
    }
   ],
   "source": [
    "# embaralhando os alunos\n",
    "\n",
    "random.shuffle(alunos)\n",
    "\n",
    "alunos"
   ]
  },
  {
   "cell_type": "code",
   "execution_count": 8,
   "metadata": {
    "ExecuteTime": {
     "end_time": "2021-06-14T11:59:18.407485Z",
     "start_time": "2021-06-14T11:59:18.400836Z"
    }
   },
   "outputs": [],
   "source": [
    "dic = {aluno:grupo for aluno, grupo in zip(alunos, grupos)}"
   ]
  },
  {
   "cell_type": "code",
   "execution_count": 9,
   "metadata": {
    "ExecuteTime": {
     "end_time": "2021-06-14T12:01:10.147551Z",
     "start_time": "2021-06-14T12:01:10.137687Z"
    }
   },
   "outputs": [
    {
     "data": {
      "text/plain": [
       "{'verde': ['Victor', 'Felipe', 'Renato', 'Ana Suely', 'Gabriel Paula'],\n",
       " 'vermelho': ['Wesley', 'Bruno', 'Gabriel Philot', 'Renan', 'Valentina'],\n",
       " 'amarelo': ['Davi', 'Aline', 'Ricardo', 'Pedro Mattos', 'Alexandre'],\n",
       " 'cinza': ['Mikael',\n",
       "  'Andreza',\n",
       "  'Pedro Gimael',\n",
       "  'Gustavo',\n",
       "  'Thiago de Oliveira'],\n",
       " 'azul': ['Ronaldo', 'Martin', 'Catarina', 'Thiago Fidencio', 'Mariana']}"
      ]
     },
     "execution_count": 9,
     "metadata": {},
     "output_type": "execute_result"
    }
   ],
   "source": [
    "dic_final = {grupo: [] for grupo in grupos}\n",
    "\n",
    "for aluno, grupo in dic.items():\n",
    "    \n",
    "    dic_final[grupo].append(aluno)\n",
    "\n",
    "dic_final"
   ]
  },
  {
   "cell_type": "code",
   "execution_count": 12,
   "metadata": {
    "ExecuteTime": {
     "end_time": "2021-06-14T12:27:26.759317Z",
     "start_time": "2021-06-14T12:27:26.746358Z"
    }
   },
   "outputs": [
    {
     "data": {
      "text/html": [
       "<div>\n",
       "<style scoped>\n",
       "    .dataframe tbody tr th:only-of-type {\n",
       "        vertical-align: middle;\n",
       "    }\n",
       "\n",
       "    .dataframe tbody tr th {\n",
       "        vertical-align: top;\n",
       "    }\n",
       "\n",
       "    .dataframe thead th {\n",
       "        text-align: right;\n",
       "    }\n",
       "</style>\n",
       "<table border=\"1\" class=\"dataframe\">\n",
       "  <thead>\n",
       "    <tr style=\"text-align: right;\">\n",
       "      <th></th>\n",
       "      <th>verde</th>\n",
       "      <th>vermelho</th>\n",
       "      <th>amarelo</th>\n",
       "      <th>cinza</th>\n",
       "      <th>azul</th>\n",
       "    </tr>\n",
       "  </thead>\n",
       "  <tbody>\n",
       "    <tr>\n",
       "      <th>0</th>\n",
       "      <td>Victor</td>\n",
       "      <td>Wesley</td>\n",
       "      <td>Davi</td>\n",
       "      <td>Mikael</td>\n",
       "      <td>Ronaldo</td>\n",
       "    </tr>\n",
       "    <tr>\n",
       "      <th>1</th>\n",
       "      <td>Felipe</td>\n",
       "      <td>Bruno</td>\n",
       "      <td>Aline</td>\n",
       "      <td>Andreza</td>\n",
       "      <td>Martin</td>\n",
       "    </tr>\n",
       "    <tr>\n",
       "      <th>2</th>\n",
       "      <td>Renato</td>\n",
       "      <td>Gabriel Philot</td>\n",
       "      <td>Ricardo</td>\n",
       "      <td>Pedro Gimael</td>\n",
       "      <td>Catarina</td>\n",
       "    </tr>\n",
       "    <tr>\n",
       "      <th>3</th>\n",
       "      <td>Ana Suely</td>\n",
       "      <td>Renan</td>\n",
       "      <td>Pedro Mattos</td>\n",
       "      <td>Gustavo</td>\n",
       "      <td>Thiago Fidencio</td>\n",
       "    </tr>\n",
       "    <tr>\n",
       "      <th>4</th>\n",
       "      <td>Gabriel Paula</td>\n",
       "      <td>Valentina</td>\n",
       "      <td>Alexandre</td>\n",
       "      <td>Thiago de Oliveira</td>\n",
       "      <td>Mariana</td>\n",
       "    </tr>\n",
       "  </tbody>\n",
       "</table>\n",
       "</div>"
      ],
      "text/plain": [
       "           verde        vermelho       amarelo               cinza  \\\n",
       "0         Victor          Wesley          Davi              Mikael   \n",
       "1         Felipe           Bruno         Aline             Andreza   \n",
       "2         Renato  Gabriel Philot       Ricardo        Pedro Gimael   \n",
       "3      Ana Suely           Renan  Pedro Mattos             Gustavo   \n",
       "4  Gabriel Paula       Valentina     Alexandre  Thiago de Oliveira   \n",
       "\n",
       "              azul  \n",
       "0          Ronaldo  \n",
       "1           Martin  \n",
       "2         Catarina  \n",
       "3  Thiago Fidencio  \n",
       "4          Mariana  "
      ]
     },
     "execution_count": 12,
     "metadata": {},
     "output_type": "execute_result"
    }
   ],
   "source": [
    "import pandas as pd\n",
    "\n",
    "df = pd.DataFrame(dic_final)\n",
    "\n",
    "df"
   ]
  },
  {
   "cell_type": "code",
   "execution_count": 16,
   "metadata": {},
   "outputs": [
    {
     "name": "stdout",
     "output_type": "stream",
     "text": [
      "Grupo verde:\n",
      "['Ana Suely', 'Felipe', 'Gabriel Paula', 'Renato', 'Victor']\n",
      "\n",
      "\n",
      "Grupo vermelho:\n",
      "['Bruno', 'Gabriel Philot', 'Renan', 'Valentina', 'Wesley']\n",
      "\n",
      "\n",
      "Grupo amarelo:\n",
      "['Alexandre', 'Aline', 'Davi', 'Pedro Mattos', 'Ricardo']\n",
      "\n",
      "\n",
      "Grupo cinza:\n",
      "['Andreza', 'Gustavo', 'Mikael', 'Pedro Gimael', 'Thiago de Oliveira']\n",
      "\n",
      "\n",
      "Grupo azul:\n",
      "['Catarina', 'Mariana', 'Martin', 'Ronaldo', 'Thiago Fidencio']\n",
      "\n",
      "\n"
     ]
    }
   ],
   "source": [
    "for col in df.columns:\n",
    "    \n",
    "    print(f\"Grupo {col}:\")\n",
    "    \n",
    "    print(df[col].sort_values().tolist())\n",
    "    \n",
    "    print(\"\\n\")"
   ]
  }
 ],
 "metadata": {
  "kernelspec": {
   "display_name": "Python 3",
   "language": "python",
   "name": "python3"
  },
  "language_info": {
   "codemirror_mode": {
    "name": "ipython",
    "version": 3
   },
   "file_extension": ".py",
   "mimetype": "text/x-python",
   "name": "python",
   "nbconvert_exporter": "python",
   "pygments_lexer": "ipython3",
   "version": "3.8.3"
  }
 },
 "nbformat": 4,
 "nbformat_minor": 4
}
