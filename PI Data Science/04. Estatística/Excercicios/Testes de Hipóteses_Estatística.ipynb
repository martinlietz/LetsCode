{
    "cells": [
        {
            "cell_type": "markdown",
            "source": [
                "# Questão #1  \r\n",
                "Vale 10  \r\n",
                "Enunciado  \r\n",
                "As alternativas abaixo descrevem as características básicas de um experimento   binomial. Marque a alternativa correta.  \r\n",
                "Alternativas\r\n",
                "- [ ] Os ensaios são dependentes.\r\n",
                "\r\n",
                "- [ ] A probabilidade de sucesso é representada por p e a de fracasso por 1 + p = q. Estas probabilidades não se modificam de ensaio para ensaio\r\n",
                "\r\n",
                "- [ ]Somente dois resultados são possíveis."
            ],
            "metadata": {}
        },
        {
            "cell_type": "markdown",
            "source": [
                "# Questão #2  \r\n",
                "Vale 10  \r\n",
                "Enunciado  \r\n",
                "Uma moeda, perfeitamente equilibrada, é lançada para o alto quatro vezes. Utilizando a distribuição binomial, obtenha a probabilidade de a moeda cair com a face coroa voltada para cima duas vezes.\r\n",
                "Alternativas: \r\n",
                "- [ ] 0,25\r\n",
                "- [ ]0,3125\r\n",
                "- [x]0,375\r\n",
                "\r\n",
                "Este não é um experimento binomial"
            ],
            "metadata": {}
        },
        {
            "cell_type": "code",
            "execution_count": null,
            "source": [
                "from scipy.stats import binom\r\n",
                "\r\n",
                "# Probabilidade de sair COROA\r\n",
                "p = 1/2  \r\n",
                "\r\n",
                "# Total de lançamentos\r\n",
                "n = 4\r\n",
                "\r\n",
                "# Total de sucessos (faces COROA voltada para cima)\r\n",
                "k = 1      \r\n",
                "\r\n",
                "binom.pmf(k, n, p)"
            ],
            "outputs": [],
            "metadata": {}
        }
    ],
    "metadata": {
        "orig_nbformat": 4,
        "language_info": {
            "name": "python"
        }
    },
    "nbformat": 4,
    "nbformat_minor": 2
}