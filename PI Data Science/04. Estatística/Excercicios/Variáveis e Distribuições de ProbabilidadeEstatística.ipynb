{
    "cells": [
        {
            "cell_type": "markdown",
            "source": [
                "# Questão #1  \r\n",
                "Vale 10  \r\n",
                "Enunciado  \r\n",
                "As alternativas abaixo descrevem as características básicas de um experimento   binomial. Marque a alternativa correta.  \r\n",
                "Alternativas\r\n",
                "- [ ] Os ensaios são dependentes.\r\n",
                "\r\n",
                "- [ ] A probabilidade de sucesso é representada por p e a de fracasso por 1 + p = q. Estas probabilidades não se modificam de ensaio para ensaio\r\n",
                "\r\n",
                "- [x]Somente dois resultados são possíveis.\r\n"
            ],
            "metadata": {}
        },
        {
            "cell_type": "markdown",
            "source": [
                "# Questão #2  \r\n",
                "Vale 10  \r\n",
                "Enunciado  \r\n",
                "Uma moeda, perfeitamente equilibrada, é lançada para o alto quatro vezes. Utilizando a distribuição binomial, obtenha a probabilidade de a moeda cair com a face coroa voltada para cima duas vezes.\r\n",
                "Alternativas: \r\n",
                "- [ ] 0,25\r\n",
                "- [ ]0,3125\r\n",
                "- [x]0,375\r\n",
                "\r\n",
                "Este não é um experimento binomial"
            ],
            "metadata": {}
        },
        {
            "cell_type": "code",
            "execution_count": 3,
            "source": [
                "from scipy.stats import binom\r\n",
                "\r\n",
                "# Probabilidade de sair COROA\r\n",
                "p = 1/2  \r\n",
                "\r\n",
                "# Total de lançamentos\r\n",
                "n = 4\r\n",
                "\r\n",
                "# Total de sucessos (faces COROA voltada para cima)\r\n",
                "k = 2  \r\n",
                "\r\n",
                "binom.pmf(k, n, p)"
            ],
            "outputs": [
                {
                    "output_type": "execute_result",
                    "data": {
                        "text/plain": [
                            "0.3750000000000001"
                        ]
                    },
                    "metadata": {},
                    "execution_count": 3
                }
            ],
            "metadata": {}
        },
        {
            "cell_type": "markdown",
            "source": [
                "# Questão #3  \r\n",
                "Vale 10  \r\n",
                "Enunciado  \r\n",
                "Um dado, perfeitamente equilibrado, é lançado para o alto dez vezes. Utilizando a distribuição binomial, obtenha a probabilidade de o dado cair com o número cinco voltado para cima pelo menos três vezes.\r\n",
                "Alternativas:  \r\n",
                "[ ]Este não é um experimento binomial  \r\n",
                "\r\n",
                "[ ] 22,48%\r\n",
                "\r\n",
                "[ ] 15,50%\r\n",
                "\r\n",
                "[ ] 6,97%"
            ],
            "metadata": {}
        },
        {
            "cell_type": "markdown",
            "source": [
                "Note que, \"sair 5 pelo menos 3 vezes\", é o complementar de sair o 5 pra cima 1 vez OU duaz vezes! Ou seja, $1 - P(x <= 2)$.\r\n"
            ],
            "metadata": {}
        },
        {
            "cell_type": "code",
            "execution_count": 8,
            "source": [
                "from scipy.stats import binom\r\n",
                "\r\n",
                "# Probabilidade de sair o número CINCO\r\n",
                "p = 1 / 6\r\n",
                "\r\n",
                "# Total de lançamentos\r\n",
                "n = 10   \r\n",
                "\r\n",
                "x = 2\r\n",
                "\r\n",
                "\r\n",
                "binom.sf(x, n, p)*100"
            ],
            "outputs": [
                {
                    "output_type": "execute_result",
                    "data": {
                        "text/plain": [
                            "22.47732021287405"
                        ]
                    },
                    "metadata": {},
                    "execution_count": 8
                }
            ],
            "metadata": {}
        },
        {
            "cell_type": "code",
            "execution_count": 27,
            "source": [
                "import numpy as np\r\n",
                "from scipy.stats import binom\r\n",
                "import matplotlib.pyplot as plt\r\n",
                "\r\n",
                "\r\n",
                "# Defining model parameters\r\n",
                "# Probabilidade de sair o número CINCO\r\n",
                "p = 1 / 6\r\n",
                "\r\n",
                "# Total de lançamentos\r\n",
                "n = 10 \r\n",
                "k = 2\r\n",
                "n = np.arange(1, 11)\r\n",
                "confidence = 0.09\r\n",
                "print(n)\r\n",
                "# Generating survival function distribution and computing the number of required trials\r\n",
                "binomSurvivalDist = binom.sf(k, n, p)\r\n",
                "print(binomSurvivalDist)\r\n",
                "nrequired = n[binomSurvivalDist > 0.1].all()[0]\r\n",
                "\r\n",
                "# Plotting the results to Verify that this works\r\n",
                "fig, ax = plt.subplots(1, 1, figsize=(12, 10))\r\n",
                "x = np.arange(0, binomSurvivalDist+1, 1)\r\n",
                "ax.plot(x, binom.sf(x, binomSurvivalDist, p), lw=2)\r\n",
                "ax.set_xlabel(\"Number of Successes\", fontsize=16)\r\n",
                "ax.set_ylabel(\"Probability of Getting At Least this Many Success\", fontsize=16)\r\n",
                "ax.set_title(\"Distribution for %i Trials\" % binomSurvivalDist, fontsize=18)\r\n",
                "\r\n",
                "print(nrequired)\r\n",
                "plt.show()"
            ],
            "outputs": [
                {
                    "output_type": "stream",
                    "name": "stdout",
                    "text": [
                        "[ 1  2  3  4  5  6  7  8  9 10]\n",
                        "[0.         0.         0.00462963 0.0162037  0.03549383 0.06228567\n",
                        " 0.09577546 0.13484689 0.17825959 0.2247732 ]\n"
                    ]
                },
                {
                    "output_type": "error",
                    "ename": "IndexError",
                    "evalue": "invalid index to scalar variable.",
                    "traceback": [
                        "\u001b[1;31m---------------------------------------------------------------------------\u001b[0m",
                        "\u001b[1;31mIndexError\u001b[0m                                Traceback (most recent call last)",
                        "\u001b[1;32m<ipython-input-27-115745ad9e34>\u001b[0m in \u001b[0;36m<module>\u001b[1;34m\u001b[0m\n\u001b[0;32m     17\u001b[0m \u001b[0mbinomSurvivalDist\u001b[0m \u001b[1;33m=\u001b[0m \u001b[0mbinom\u001b[0m\u001b[1;33m.\u001b[0m\u001b[0msf\u001b[0m\u001b[1;33m(\u001b[0m\u001b[0mk\u001b[0m\u001b[1;33m,\u001b[0m \u001b[0mn\u001b[0m\u001b[1;33m,\u001b[0m \u001b[0mp\u001b[0m\u001b[1;33m)\u001b[0m\u001b[1;33m\u001b[0m\u001b[1;33m\u001b[0m\u001b[0m\n\u001b[0;32m     18\u001b[0m \u001b[0mprint\u001b[0m\u001b[1;33m(\u001b[0m\u001b[0mbinomSurvivalDist\u001b[0m\u001b[1;33m)\u001b[0m\u001b[1;33m\u001b[0m\u001b[1;33m\u001b[0m\u001b[0m\n\u001b[1;32m---> 19\u001b[1;33m \u001b[0mnrequired\u001b[0m \u001b[1;33m=\u001b[0m \u001b[0mn\u001b[0m\u001b[1;33m[\u001b[0m\u001b[0mbinomSurvivalDist\u001b[0m \u001b[1;33m>\u001b[0m \u001b[1;36m0.1\u001b[0m\u001b[1;33m]\u001b[0m\u001b[1;33m.\u001b[0m\u001b[0mall\u001b[0m\u001b[1;33m(\u001b[0m\u001b[1;33m)\u001b[0m\u001b[1;33m[\u001b[0m\u001b[1;36m0\u001b[0m\u001b[1;33m]\u001b[0m\u001b[1;33m\u001b[0m\u001b[1;33m\u001b[0m\u001b[0m\n\u001b[0m\u001b[0;32m     20\u001b[0m \u001b[1;33m\u001b[0m\u001b[0m\n\u001b[0;32m     21\u001b[0m \u001b[1;31m# Plotting the results to Verify that this works\u001b[0m\u001b[1;33m\u001b[0m\u001b[1;33m\u001b[0m\u001b[1;33m\u001b[0m\u001b[0m\n",
                        "\u001b[1;31mIndexError\u001b[0m: invalid index to scalar variable."
                    ]
                }
            ],
            "metadata": {}
        },
        {
            "cell_type": "markdown",
            "source": [
                "# Questão #4  \r\n",
                "Vale 10  \r\n",
                "Enunciado  \r\n",
                "Suponha que a probabilidade de um casal ter filhos com olhos azuis seja de 22%. Em 50 famílias, com 3 crianças cada uma, quantas podemos esperar que tenham dois filhos com olhos azuis?\r\n",
                "Alternativas:\r\n",
                "\r\n",
                "- [] 6,19 famílias\r\n",
                "\r\n",
                "- [] 11,32%\r\n",
                "\r\n",
                "- [] 5,66 famílias\r\n",
                "\r\n",
                "- [] No máximo uma família"
            ],
            "metadata": {}
        },
        {
            "cell_type": "code",
            "execution_count": 25,
            "source": [
                "from scipy.stats import binom\r\n",
                "\r\n",
                "p = 0.22\r\n",
                "n = 3\r\n",
                "k = 2\r\n",
                "\r\n",
                "# pra cada familia...\r\n",
                "probabilidade = binom.pmf(k, n, p)\r\n",
                "\r\n",
                "N = 50\r\n",
                "# numero de familias...\r\n",
                "N_familias = probabilidade * N\r\n",
                "\r\n",
                "N_familias"
            ],
            "outputs": [
                {
                    "output_type": "execute_result",
                    "data": {
                        "text/plain": [
                            "5.662799999999999"
                        ]
                    },
                    "metadata": {},
                    "execution_count": 25
                }
            ],
            "metadata": {}
        },
        {
            "cell_type": "markdown",
            "source": [
                "# Questão #5  \r\n",
                "Vale 10  \r\n",
                "Enunciado  \r\n",
                "As alternativas abaixo descrevem as características básicas de um experimento Poisson. Marque aquela que está correta.\r\n",
                "Alternativas:  \r\n",
                "[ ]O número de ocorrências em determinado intervalo é dependente do número de ocorrências em outros intervalos\r\n",
                "\r\n",
                "[ ]A probabilidade de uma ocorrência pode variar em todo o intervalo observado\r\n",
                "\r\n",
                "[ ]O número de ocorrências em determinado intervalo é independente do número de ocorrências em outros intervalos"
            ],
            "metadata": {}
        },
        {
            "cell_type": "markdown",
            "source": [
                "# Questão #6  \r\n",
                "Vale 10  \r\n",
                "Enunciado   \r\n",
                "O número médio de clientes que entram em uma padaria por hora é igual a 20. Obtenha a probabilidade de, na próxima hora, entrarem exatamente 25 clientes.\r\n",
                "Alternativas:  \r\n",
                "[] 11,22%\r\n",
                "\r\n",
                "[] 5,19%\r\n",
                "\r\n",
                "[] 95,54%\r\n",
                "\r\n",
                "[] 4,46%"
            ],
            "metadata": {}
        },
        {
            "cell_type": "code",
            "execution_count": null,
            "source": [],
            "outputs": [],
            "metadata": {}
        },
        {
            "cell_type": "markdown",
            "source": [
                "Questão #7  \r\n",
                "Vale 10  \r\n",
                "Enunciado  \r\n",
                "Sobre a distribuição normal, avalie as afirmativas abaixo:\r\n",
                "\r\n",
                "1) A distribuição normal é definida por sua média e desvio padrão\r\n",
                "\r\n",
                "2) A distribuição normal é simétrica em torno da média\r\n",
                "\r\n",
                "3) O desvio padrão define o achatamento e largura da curva da distribuição normal\r\n",
                "\r\n",
                "Quais estão corretas?\r\n",
                "\r\n",
                "Alternativas:\r\n",
                "-[]Somente as afirmativas 1 e 2 estão corretas\r\n",
                "\r\n",
                "-[]Somente as afirmativas 1 e 3 estão corretas\r\n",
                "\r\n",
                "-[]Todas as afirmativas estão corretas\r\n",
                "\r\n",
                "-[]Somente as afirmativas 2 e 3 estão corretas"
            ],
            "metadata": {}
        }
    ],
    "metadata": {
        "orig_nbformat": 4,
        "language_info": {
            "name": "python"
        }
    },
    "nbformat": 4,
    "nbformat_minor": 2
}