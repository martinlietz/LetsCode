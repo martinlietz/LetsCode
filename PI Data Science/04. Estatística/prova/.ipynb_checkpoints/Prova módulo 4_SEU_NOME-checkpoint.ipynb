{
 "cells": [
  {
   "cell_type": "markdown",
   "metadata": {},
   "source": [
    "# Prova módulo 4\n",
    "\n",
    "e-mail pra envio: afjmdm@hotmail.com\n",
    "\n",
    "Enviar com o assunto [PROVA - MÓDULO 4], colocar o nome completo no corpo do e-mail, e tamvbém no título do notebook\n",
    "\n",
    "### Por favor, enviar o notebook rodado :)\n",
    "\n",
    "_____"
   ]
  },
  {
   "cell_type": "markdown",
   "metadata": {},
   "source": [
    "## Operário\n",
    "\n",
    "O tempo T, em minutos, necessário para um operário processar certa peça é uma v.a. com a seguinte distribuição de probabilidade\n",
    "\n",
    "t\t2\t3\t4\t5\t6\t7\n",
    "p(t)\t0.1\t0.1\t0.3\t0.2\t0.2\t0.1\n",
    "(a) Como você definiria uma distribuição de probabilidade?\n",
    "\n",
    "(b) A distribuição acima é contínua ou discreta?\n",
    "\n",
    "(c) Calcule o tempo médio de processamento.\n",
    "(Dica: lembre-se que a média de uma variável aleatória é seu valor esperado!)\n",
    "\n",
    "(d) Para cada peça processada, o operário ganha um fixo de 2,00, mas, se ele processa a peça em menos de seis minutos, ganha 0,50 em cada minuto poupado. Por exemplo, se ele processa a peça em quatro minutos, recebe a quantia adicional de 1,00. Calcule o ganho médio desse operário POR PEÇA.\n",
    "(Dica: construa uma nova variável aleatória a partir da variável aleatória de tempo de produção da peça!)"
   ]
  },
  {
   "cell_type": "code",
   "execution_count": null,
   "metadata": {},
   "outputs": [],
   "source": []
  },
  {
   "cell_type": "markdown",
   "metadata": {},
   "source": [
    "______"
   ]
  },
  {
   "cell_type": "markdown",
   "metadata": {},
   "source": [
    "## Controle Qualidade\n",
    "\n",
    "Um fabricante garante que 90% das peças que fornecem à linha de produção de uma determinada fábrica estão de acordo com as especificações exigidas. A análise de uma amostra de 200 peças revelou 25 defeituosas. A um nível de 5%, podemos dizer que é verdadeira a afirmação do fabricante?"
   ]
  },
  {
   "cell_type": "code",
   "execution_count": null,
   "metadata": {},
   "outputs": [],
   "source": []
  },
  {
   "cell_type": "markdown",
   "metadata": {},
   "source": [
    "______"
   ]
  },
  {
   "cell_type": "markdown",
   "metadata": {},
   "source": [
    "## Resistência\n",
    "\n",
    "Na indústria cerâmica, avalia-se sistematicamente a resistência de amostras de massas cerâmicas, após o processo de queima. Dessas avaliações, sabe-se que certo tipo de massa tem resistência mecânica aproximadamente normal, com média 53 MPa e variância populacional de 16 MPa². Após a troca de alguns fornecedores de matérias- primas, deseja-se verificar se houve alteração na qualidade. Uma amostra de 15 corpos de prova de massa cerâmica acusou média igual a 50 MPa. Qual é a conclusão ao nível de significância de 5%?"
   ]
  },
  {
   "cell_type": "code",
   "execution_count": null,
   "metadata": {},
   "outputs": [],
   "source": []
  },
  {
   "cell_type": "markdown",
   "metadata": {},
   "source": [
    "______"
   ]
  },
  {
   "cell_type": "markdown",
   "metadata": {},
   "source": [
    "## Confiança Instrumental\n",
    "\n",
    "Os multímetros são aparelhos de medição bastante utilizados. Em um lote de amostras para verificação da qualidade, testaram-se 18 válvulas com o multímetro, para determinar sua tensão. O valor médio amostral encontrado para a tensão foi de 3,2 μV.\n",
    "\n",
    "a) Construa um intervalo de confiança para a tensão média, com nível de confiança de 98%, sabendo que o fabricante das bobinas garante que as tensões são distribuídas segundo uma normal, com variância populacional igual a 3 μV. (Lembre-se que a variância é o quadrado do desvio padrão!)\n",
    "\n",
    "b) Caso a variância não fosse conhecida, como você procederia para construir o intervalo de confiança?"
   ]
  },
  {
   "cell_type": "code",
   "execution_count": null,
   "metadata": {},
   "outputs": [],
   "source": []
  },
  {
   "cell_type": "markdown",
   "metadata": {},
   "source": [
    "______"
   ]
  }
 ],
 "metadata": {
  "kernelspec": {
   "display_name": "Python 3",
   "language": "python",
   "name": "python3"
  },
  "language_info": {
   "codemirror_mode": {
    "name": "ipython",
    "version": 3
   },
   "file_extension": ".py",
   "mimetype": "text/x-python",
   "name": "python",
   "nbconvert_exporter": "python",
   "pygments_lexer": "ipython3",
   "version": "3.8.3"
  }
 },
 "nbformat": 4,
 "nbformat_minor": 4
}
