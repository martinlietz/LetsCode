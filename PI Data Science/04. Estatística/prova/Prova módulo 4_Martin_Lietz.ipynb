{
 "cells": [
  {
   "cell_type": "markdown",
   "metadata": {},
   "source": [
    "# Prova módulo 4\n",
    "\n",
    "e-mail pra envio: afjmdm@hotmail.com\n",
    "\n",
    "Enviar com o assunto [PROVA - MÓDULO 4], colocar o nome completo no corpo do e-mail, e tamvbém no título do notebook\n",
    "\n",
    "### Por favor, enviar o notebook rodado :)\n",
    "\n",
    "_____"
   ]
  },
  {
   "cell_type": "code",
   "execution_count": 2,
   "metadata": {},
   "outputs": [],
   "source": [
    "from scipy.stats import norm\n",
    "import matplotlib.pyplot as plt\n",
    "import numpy as np\n",
    "import pandas as pd"
   ]
  },
  {
   "cell_type": "markdown",
   "metadata": {},
   "source": [
    "## Operário\n",
    "\n",
    "O tempo T, em minutos, necessário para um operário processar certa peça é uma v.a. com a seguinte distribuição de probabilidade\n",
    "```\n",
    "t\t2\t3\t4\t5\t6\t7  \n",
    "p(t)\t0.1\t0.1\t0.3\t0.2\t0.2\t0.1     \n",
    "```\n",
    "(a) Como você definiria uma distribuição de probabilidade?\n",
    "\n",
    "(b) A distribuição acima é contínua ou discreta?\n",
    "\n",
    "(c) Calcule o tempo médio de processamento.\n",
    "(Dica: lembre-se que a média de uma variável aleatória é seu valor esperado!)\n",
    "\n",
    "(d) Para cada peça processada, o operário ganha um fixo de 2,00, mas, se ele processa a peça em menos de seis minutos, ganha 0,50 em cada minuto poupado. Por exemplo, se ele processa a peça em quatro minutos, recebe a quantia adicional de 1,00. Calcule o ganho médio desse operário POR PEÇA.\n",
    "(Dica: construa uma nova variável aleatória a partir da variável aleatória de tempo de produção da peça!)"
   ]
  },
  {
   "cell_type": "markdown",
   "metadata": {},
   "source": [
    "(a) Como você definiria uma distribuição de probabilidade?   \n",
    "Uma distribuição de probabilidade é uma função de estatistica com que pode descrever todos os possivéis valores de um certo  range. Ela é baseade numa distribuição(normal/uniform/poisson/t_student..) Esses distribuições podem ser definidos pelo mean (average), standard deviation, skewness e kurtosis\n"
   ]
  },
  {
   "cell_type": "markdown",
   "metadata": {},
   "source": [
    "(b) A distribuição acima é contínua ou discreta?\n",
    "Ela é discreta, são 7 execuções então uma execução é categorico portanto é discreta."
   ]
  },
  {
   "cell_type": "markdown",
   "metadata": {},
   "source": [
    "(c) Calcule o tempo médio de processamento.   \n",
    "A esperança de uma V.A. $X$ é obtida multiplicando-se cada valor de   \n",
    "$X = x_i$, $i = 1,..,n$, por sua respectiva probabilidade $P[X = x_i]$, e somando os produtos resultantes:   \n",
    "   \n",
    "$E(X) = \\sum_{i=1}^n x_i P[X = x_i]$"
   ]
  },
  {
   "cell_type": "code",
   "execution_count": 55,
   "metadata": {},
   "outputs": [
    {
     "data": {
      "text/plain": [
       "0    4.0\n",
       "1    3.5\n",
       "2    3.0\n",
       "3    2.5\n",
       "4    2.0\n",
       "5    2.0\n",
       "Name: tempos, dtype: float64"
      ]
     },
     "execution_count": 55,
     "metadata": {},
     "output_type": "execute_result"
    }
   ],
   "source": []
  },
  {
   "cell_type": "code",
   "execution_count": 59,
   "metadata": {},
   "outputs": [
    {
     "name": "stdout",
     "output_type": "stream",
     "text": [
      "   tempos  probabilidade  mul  add  muladd\n",
      "0       2            0.1  0.2  4.0    0.40\n",
      "1       3            0.1  0.3  3.5    0.35\n",
      "2       4            0.3  1.2  3.0    0.90\n",
      "3       5            0.2  1.0  2.5    0.50\n",
      "4       6            0.2  1.2  2.0    0.40\n",
      "5       7            0.1  0.7  2.0    0.20\n",
      "4.6000000000000005 0.4027681991198191 2.75\n"
     ]
    }
   ],
   "source": [
    "df = pd.DataFrame({'tempos': [2,3,4,5,6,7],\n",
    "                   'probabilidade': [0.1, 0.1, 0.3, 0.2, 0.2, 0.1 ]})\n",
    "df['mul'] = np.multiply(df['tempos'] , df['probabilidade']) #2 + np.min(6,x)-6 * 0.5\n",
    "#df['add'] = df['tempos'].apply(lambda x: 2 + (6-np.min(6,x)) * 0.5)\n",
    "df['add'] = df['tempos'].apply(lambda x: 2 if x >= 6 else 2 + (6-x) * 0.5)\n",
    "df['muladd'] = np.multiply(df['add'] , df['probabilidade'])\n",
    "print(df)\n",
    "print(df['mul'].sum(),df['mul'].std(ddof=0), df['muladd'].sum())"
   ]
  },
  {
   "cell_type": "code",
   "execution_count": 15,
   "metadata": {},
   "outputs": [
    {
     "data": {
      "text/plain": [
       "<BarContainer object of 6 artists>"
      ]
     },
     "execution_count": 15,
     "metadata": {},
     "output_type": "execute_result"
    },
    {
     "data": {
      "image/png": "[encoded data removed]",
      "text/plain": [
       "<Figure size 432x288 with 1 Axes>"
      ]
     },
     "metadata": {
      "needs_background": "light"
     },
     "output_type": "display_data"
    }
   ],
   "source": [
    "plt.bar(df.tempos, df.probabilidade)"
   ]
  },
  {
   "cell_type": "code",
   "execution_count": 31,
   "metadata": {},
   "outputs": [
    {
     "name": "stdout",
     "output_type": "stream",
     "text": [
      "        Column1\n",
      "count  6.000000\n",
      "mean   0.766667\n",
      "std    0.441210\n",
      "min    0.200000\n",
      "25%    0.400000\n",
      "50%    0.850000\n",
      "75%    1.150000\n",
      "max    1.200000\n"
     ]
    },
    {
     "data": {
      "image/png": "[encoded data removed]",
      "text/plain": [
       "<Figure size 432x288 with 1 Axes>"
      ]
     },
     "metadata": {
      "needs_background": "light"
     },
     "output_type": "display_data"
    }
   ],
   "source": [
    "# Valores manuais\n",
    "tempos = np.array([2,\t3,\t4,\t5,\t6,\t7])\n",
    "valores = np.array([0.1,\t0.1,\t0.3,\t0.2,\t0.2,\t0.1])\n",
    "adicional = np.array([4,\t3.5,\t3.0,\t2.5,\t2,\t2])\n",
    "plt.bar(x=tempos, height=valores)\n",
    "cum = np.cumsum(valores)                 # CDF e PDF não funcionam para distribuições discretas\n",
    "print(pd.DataFrame({'Column1':np.multiply(tempos,valores)}).describe())\n",
    "pmf = cum / np.amax(cum)\n",
    "plt.plot(tempos,pmf,'b--', label=\"PMF\")\n",
    "plt.xlabel('min')\n",
    "plt.ylabel('probabilidade')\n",
    "plt.title(f\"Tempo medio para uma peça {np.round(np.multiply(tempos,valores).sum(),1)} minutos com std {np.round(np.multiply(tempos,valores).std(),4)}\")\n",
    "plt.show()\n",
    "# print(f\"Tempo medio para uma peça {valores.mean()}\")"
   ]
  },
  {
   "cell_type": "markdown",
   "metadata": {},
   "source": [
    "(d) Para cada peça processada, o operário ganha um fixo de 2,00, mas, se ele processa a peça em menos de seis minutos, ganha 0,50 em cada minuto poupado. Por exemplo, se ele processa a peça em quatro minutos, recebe a quantia adicional de 1,00. Calcule o ganho médio desse operário POR PEÇA."
   ]
  },
  {
   "cell_type": "code",
   "execution_count": 61,
   "metadata": {},
   "outputs": [
    {
     "name": "stdout",
     "output_type": "stream",
     "text": [
      "O ganho médio desse operário POR PEÇA: $R 2.75\n"
     ]
    }
   ],
   "source": [
    "print(f\"O ganho médio desse operário POR PEÇA: $R {np.round(np.multiply(adicional,valores).sum(),2)}\")"
   ]
  },
  {
   "cell_type": "markdown",
   "metadata": {},
   "source": [
    "______"
   ]
  },
  {
   "cell_type": "markdown",
   "metadata": {},
   "source": [
    "## Controle Qualidade\n",
    "\n",
    "Um fabricante garante que 90% das peças que fornecem à linha de produção de uma determinada fábrica estão de acordo com as especificações exigidas. A análise de uma amostra de 200 peças revelou 25 defeituosas. A um nível de 5%, podemos dizer que é verdadeira a afirmação do fabricante?"
   ]
  },
  {
   "cell_type": "markdown",
   "metadata": {},
   "source": [
    "### Definição das hipóteses\n",
    "\n",
    "$$\n",
    "    H_0: \\mu \\geq 90\\, \\%\n",
    "$$\n",
    "\n",
    "$$\n",
    "    H_1 : \\mu < 90 \\, \\%\n",
    "$$"
   ]
  },
  {
   "cell_type": "code",
   "execution_count": 71,
   "metadata": {},
   "outputs": [],
   "source": [
    "from scipy.stats import norm\n",
    "import matplotlib.pyplot as plt\n"
   ]
  },
  {
   "cell_type": "markdown",
   "metadata": {},
   "source": [
    "a media de estudantes tem 150cm com um std de 20cm. \n",
    "Darnell tem altura de 161.4cm quantos porcent dos alunas são menores que o Darnell?"
   ]
  },
  {
   "cell_type": "code",
   "execution_count": 76,
   "metadata": {},
   "outputs": [
    {
     "data": {
      "text/plain": [
       "0.7156611509536759"
      ]
     },
     "execution_count": 76,
     "metadata": {},
     "output_type": "execute_result"
    }
   ],
   "source": [
    "norm.cdf(x=161.4,loc=150, scale=20)"
   ]
  },
  {
   "cell_type": "code",
   "execution_count": 124,
   "metadata": {},
   "outputs": [
    {
     "data": {
      "text/plain": [
       "0.945200708300442"
      ]
     },
     "execution_count": 124,
     "metadata": {},
     "output_type": "execute_result"
    }
   ],
   "source": [
    "norm.cdf(x=380,loc=300, scale=50)"
   ]
  },
  {
   "cell_type": "code",
   "execution_count": 125,
   "metadata": {},
   "outputs": [
    {
     "data": {
      "text/plain": [
       "0.9962074376523146"
      ]
     },
     "execution_count": 125,
     "metadata": {},
     "output_type": "execute_result"
    }
   ],
   "source": [
    "norm.cdf(x=26,loc=20.66, scale=2)"
   ]
  },
  {
   "cell_type": "markdown",
   "metadata": {},
   "source": [
    "A set of geography exam scores are normally distributed with a mean of 75 points and a standard deviation of 10 points. Areum got a score of 76 points on the exam."
   ]
  },
  {
   "cell_type": "code",
   "execution_count": 126,
   "metadata": {},
   "outputs": [
    {
     "data": {
      "text/plain": [
       "0.539827837277029"
      ]
     },
     "execution_count": 126,
     "metadata": {},
     "output_type": "execute_result"
    }
   ],
   "source": [
    "norm.cdf(x=76,loc=75, scale=10)"
   ]
  },
  {
   "cell_type": "markdown",
   "metadata": {},
   "source": [
    "A set of middle school student heights are normally distributed with a mean of 150 centimeters and a standard deviation of 20 centimeters. Darnell is a middle school student with a height of 161.4 centimeters."
   ]
  },
  {
   "cell_type": "code",
   "execution_count": 86,
   "metadata": {},
   "outputs": [
    {
     "data": {
      "text/plain": [
       "0.28433884904632406"
      ]
     },
     "execution_count": 86,
     "metadata": {},
     "output_type": "execute_result"
    }
   ],
   "source": [
    "norm.sf(x=161.4,loc=150, scale=20)"
   ]
  },
  {
   "cell_type": "code",
   "execution_count": 123,
   "metadata": {},
   "outputs": [
    {
     "data": {
      "text/plain": [
       "0.7156611509536759"
      ]
     },
     "execution_count": 123,
     "metadata": {},
     "output_type": "execute_result"
    },
    {
     "data": {
      "image/png": "[encoded data removed]",
      "text/plain": [
       "<Figure size 432x288 with 1 Axes>"
      ]
     },
     "metadata": {
      "needs_background": "light"
     },
     "output_type": "display_data"
    }
   ],
   "source": [
    "fig, ax = plt.subplots(1, 1)\n",
    "x = np.linspace(90,210, 100)\n",
    "ax.plot(x, norm.pdf(x=x,loc=150, scale=20), 'r-', lw=5, alpha=0.6, label='norm pdf')\n",
    "ax.axvline(161.4)\n",
    "mu = 150\n",
    "std = 20\n",
    "darnell = 161.4\n",
    "z = (darnell-mu)/std\n",
    "plt.title(f\"z-score:{z:0.2f}, probability: {(norm.cdf(0.57)*100):0.1f} %\")\n",
    "norm.cdf(0.57)"
   ]
  },
  {
   "cell_type": "code",
   "execution_count": 69,
   "metadata": {},
   "outputs": [
    {
     "data": {
      "text/plain": [
       "0.5700000000000003"
      ]
     },
     "execution_count": 69,
     "metadata": {},
     "output_type": "execute_result"
    }
   ],
   "source": [
    "mu = 150\n",
    "std = 20\n",
    "darnell = 161.4\n",
    "z = (darnell-mu)/std\n",
    "z\n"
   ]
  },
  {
   "cell_type": "markdown",
   "metadata": {},
   "source": [
    "deviations above the mean 0.57"
   ]
  },
  {
   "cell_type": "code",
   "execution_count": 66,
   "metadata": {},
   "outputs": [
    {
     "data": {
      "text/plain": [
       "0.7156611509536759"
      ]
     },
     "execution_count": 66,
     "metadata": {},
     "output_type": "execute_result"
    }
   ],
   "source": [
    "norm.cdf(0.57)"
   ]
  },
  {
   "cell_type": "code",
   "execution_count": 87,
   "metadata": {},
   "outputs": [
    {
     "data": {
      "text/plain": [
       "0.28433884904632406"
      ]
     },
     "execution_count": 87,
     "metadata": {},
     "output_type": "execute_result"
    }
   ],
   "source": [
    "norm.sf(x=161.4,loc=150, scale=20)"
   ]
  },
  {
   "cell_type": "code",
   "execution_count": 32,
   "metadata": {},
   "outputs": [
    {
     "data": {
      "text/plain": [
       "0.8224428561806185"
      ]
     },
     "execution_count": 32,
     "metadata": {},
     "output_type": "execute_result"
    }
   ],
   "source": [
    "norm.cdf(x=90,loc=76, scale=10)-norm.cdf(x=63,loc=76, scale=10)"
   ]
  },
  {
   "cell_type": "code",
   "execution_count": 33,
   "metadata": {},
   "outputs": [
    {
     "data": {
      "text/plain": [
       "0.19739818946452997"
      ]
     },
     "execution_count": 33,
     "metadata": {},
     "output_type": "execute_result"
    }
   ],
   "source": [
    "norm.cdf(x=14.9,loc=16.3, scale=2)-norm.cdf(x=12.9,loc=16.3, scale=2)"
   ]
  },
  {
   "cell_type": "code",
   "execution_count": 34,
   "metadata": {},
   "outputs": [
    {
     "data": {
      "text/plain": [
       "0.518379559211024"
      ]
     },
     "execution_count": 34,
     "metadata": {},
     "output_type": "execute_result"
    }
   ],
   "source": [
    "norm.cdf(x=171,loc=170.4, scale=10)-norm.cdf(x=145,loc=170.4, scale=10)"
   ]
  },
  {
   "cell_type": "markdown",
   "metadata": {},
   "source": [
    "A set of history exam scores are normally distributed with a mean of 83.2 points \n",
    "and a standard deviation of 8 points.    \n",
    "What proportion of exam scores are between 82 and 89.2 points?"
   ]
  },
  {
   "cell_type": "code",
   "execution_count": 36,
   "metadata": {},
   "outputs": [
    {
     "data": {
      "text/plain": [
       "0.3329903399933744"
      ]
     },
     "execution_count": 36,
     "metadata": {},
     "output_type": "execute_result"
    }
   ],
   "source": [
    "norm.cdf(x=89.2,loc=83.2, scale=8)-norm.cdf(x=82,loc=83.2, scale=8)"
   ]
  },
  {
   "cell_type": "markdown",
   "metadata": {},
   "source": [
    "A set of statistics exam scores are normally distributed with a mean of 76.55 points \n",
    "and a standard deviation of 5 points.    \n",
    "What proportion of exam scores are between 79 and 86.05 points?"
   ]
  },
  {
   "cell_type": "code",
   "execution_count": 35,
   "metadata": {},
   "outputs": [
    {
     "data": {
      "text/plain": [
       "-0.2833503896013885"
      ]
     },
     "execution_count": 35,
     "metadata": {},
     "output_type": "execute_result"
    }
   ],
   "source": [
    "norm.cdf(x=86.05,loc=76.55, scale=5)-norm.cdf(x=79,loc=76.55, scale=5)"
   ]
  },
  {
   "cell_type": "markdown",
   "metadata": {},
   "source": [
    "A set of average city temperatures in October are normally distributed with a mean of $20.6 ^\\circ \\text{C}$\n",
    " and a standard deviation of $2 ^\\circ \\text{C}$.\n",
    "What proportion of temperatures are between $18^\\circ \\text{C}$ and $20.6^\\circ \\text{C}$?"
   ]
  },
  {
   "cell_type": "code",
   "execution_count": 37,
   "metadata": {},
   "outputs": [
    {
     "data": {
      "text/plain": [
       "0.4031995154143897"
      ]
     },
     "execution_count": 37,
     "metadata": {},
     "output_type": "execute_result"
    }
   ],
   "source": [
    "norm.cdf(x=20.6,loc=20.6, scale=2)-norm.cdf(x=18,loc=20.6, scale=2)"
   ]
  },
  {
   "cell_type": "markdown",
   "metadata": {},
   "source": [
    "A set of elementary school student heights are normally distributed with a mean of 105 centimeters and a standard deviation of 7 centimeters.\n",
    "What proportion of student heights are between 94.5cm and 115.5 centimeters?"
   ]
  },
  {
   "cell_type": "code",
   "execution_count": 38,
   "metadata": {},
   "outputs": [
    {
     "data": {
      "text/plain": [
       "0.8663855974622838"
      ]
     },
     "execution_count": 38,
     "metadata": {},
     "output_type": "execute_result"
    }
   ],
   "source": [
    "norm.cdf(x=115.5,loc=105, scale=7)-norm.cdf(x=94.5,loc=105, scale=7)"
   ]
  },
  {
   "cell_type": "markdown",
   "metadata": {},
   "source": [
    "A set of average city temperatures in October are normally distributed with a mean of $21.25 ^\\circ \\text{C}$\n",
    " and a standard deviation of $2 ^\\circ \\text{C}$.\n",
    "What proportion of temperatures are between $19.63^\\circ \\text{C}$ and $20.53^\\circ \\text{C}$?"
   ]
  },
  {
   "cell_type": "code",
   "execution_count": 39,
   "metadata": {},
   "outputs": [
    {
     "data": {
      "text/plain": [
       "0.15045347891040756"
      ]
     },
     "execution_count": 39,
     "metadata": {},
     "output_type": "execute_result"
    }
   ],
   "source": [
    "norm.cdf(x=20.53,loc=21.25, scale=2)-norm.cdf(x=19.63,loc=21.25, scale=2)"
   ]
  },
  {
   "cell_type": "code",
   "execution_count": 30,
   "metadata": {},
   "outputs": [
    {
     "data": {
      "text/plain": [
       "0.9192433407662289"
      ]
     },
     "execution_count": 30,
     "metadata": {},
     "output_type": "execute_result"
    }
   ],
   "source": [
    "norm.cdf(x=90,loc=76, scale=10)"
   ]
  },
  {
   "cell_type": "code",
   "execution_count": 31,
   "metadata": {},
   "outputs": [
    {
     "data": {
      "text/plain": [
       "0.09680048458561036"
      ]
     },
     "execution_count": 31,
     "metadata": {},
     "output_type": "execute_result"
    }
   ],
   "source": [
    "norm.cdf(x=63,loc=76, scale=10)"
   ]
  },
  {
   "cell_type": "code",
   "execution_count": 40,
   "metadata": {},
   "outputs": [
    {
     "data": {
      "text/plain": [
       "Text(0.5, 1.0, '-1.6667 lower score')"
      ]
     },
     "execution_count": 40,
     "metadata": {},
     "output_type": "execute_result"
    },
    {
     "data": {
      "image/png": "[encoded data removed]",
      "text/plain": [
       "<Figure size 432x288 with 1 Axes>"
      ]
     },
     "metadata": {
      "needs_background": "light"
     },
     "output_type": "display_data"
    }
   ],
   "source": [
    "\n",
    "mu=76\n",
    "std=3\n",
    "Irina=71\n",
    "fig, ax = plt.subplots(1, 1)\n",
    "x = np.linspace(int(mu-(6*std)), mu + int(6*std))\n",
    "ax.plot(x, norm.pdf(x=x,loc=mu, scale=std), 'r-', lw=5, alpha=0.6, label='norm pdf')\n",
    "ax.axvline(Irina)\n",
    "ax.axvline(int(mu-(1*std)), color='r', linestyle='--')\n",
    "ax.axvline(mu + int(1*std), color='r', linestyle='--')\n",
    "plt.title(f\"{norm.ppf(norm.cdf(x=Irina,loc=mu, scale=std)):0.4f} lower score\")"
   ]
  },
  {
   "cell_type": "markdown",
   "metadata": {},
   "source": [
    "71 percent estão menores que Darnell \n",
    "e 28.4 porcent esão maiores"
   ]
  },
  {
   "cell_type": "code",
   "execution_count": 68,
   "metadata": {},
   "outputs": [
    {
     "data": {
      "text/plain": [
       "0.5700000000000002"
      ]
     },
     "execution_count": 68,
     "metadata": {},
     "output_type": "execute_result"
    }
   ],
   "source": [
    "norm.ppf(0.7156611509536759)"
   ]
  },
  {
   "cell_type": "markdown",
   "metadata": {},
   "source": [
    "A set of laptop prices are normally distributed with a mean of 750 dollars and a standard deviation of 60 dollars.\n",
    "What proportion of laptop prices are between 624 dollars and 768 dollars?"
   ]
  },
  {
   "cell_type": "code",
   "execution_count": 140,
   "metadata": {},
   "outputs": [
    {
     "name": "stdout",
     "output_type": "stream",
     "text": [
      "z_score 768 0.6179,z_score_624 0.0179\n",
      "The area between is z_score 768 - z_score 624 == 0.600047001626136, 0.25346876292349113\n"
     ]
    },
    {
     "data": {
      "image/png": "[encoded data removed]",
      "text/plain": [
       "<Figure size 432x288 with 1 Axes>"
      ]
     },
     "metadata": {
      "needs_background": "light"
     },
     "output_type": "display_data"
    }
   ],
   "source": [
    "mu=750\n",
    "std=60\n",
    "fig, ax = plt.subplots(1, 1)\n",
    "x = np.linspace(int(mu-(3*std)), mu + int(3*std))\n",
    "ax.plot(x, norm.pdf(x=x,loc=mu, scale=std), 'r-', lw=5, alpha=0.6, label='norm pdf')\n",
    "ax.axvline(624)\n",
    "ax.axvline(768)\n",
    "ax.axvline(int(mu-(1*std)), color='r', linestyle='--')\n",
    "ax.axvline(mu + int(1*std), color='r', linestyle='--')\n",
    "z_score_624 = norm.cdf(x=624,loc=mu, scale=std)\n",
    "z_score_768 = norm.cdf(x=768,loc=mu, scale=std)\n",
    "print(f\"z_score 768 {z_score_768:0.4f},z_score_624 {z_score_624:0.4f}\")\n",
    "print(f\"The area between is z_score 768 - z_score 624 == {z_score_768-z_score_624}, {norm.ppf(z_score_768-z_score_624)}\")\n"
   ]
  },
  {
   "cell_type": "code",
   "execution_count": 88,
   "metadata": {},
   "outputs": [
    {
     "name": "stdout",
     "output_type": "stream",
     "text": [
      "Rejeição da H_0! 2.6952500812001938e-211\n"
     ]
    }
   ],
   "source": [
    "p=0.05\n",
    "n=200\n",
    "mu=180\n",
    "variancia = 25\n",
    "zPrometido = norm.ppf(0.90)\n",
    "std = np.sqrt(variancia)\n",
    "z = (desvio_amostral - mu)/std\n",
    "p_hat = norm.cdf(z)\n",
    "#Tome uma decisão\n",
    "if p > p_hat:\n",
    "    print(\"Rejeição da H_0! \" + str(p_hat))\n",
    "else:\n",
    "    print(\"Falha em rejeitar H_0! \" + str(p_hat))"
   ]
  },
  {
   "cell_type": "code",
   "execution_count": 67,
   "metadata": {},
   "outputs": [
    {
     "name": "stdout",
     "output_type": "stream",
     "text": [
      "True\n",
      "0.0\n",
      "Falha em rejeitar H_0!\n"
     ]
    }
   ],
   "source": [
    "n=200\n",
    "significancia=0.05\n",
    "confianca = 1 - significancia\n",
    "media_amostral = 200\n",
    "desvio_amostral = 25\n",
    "# erro padrão\n",
    "\n",
    "SE = desvio_amostral / np.sqrt(n)\n",
    "# Check das condições do TCL\n",
    "print(n>=30)\n",
    "\n",
    "z = (media_amostral - mu)/SE\n",
    "z\n",
    "#Calcule o p-value\n",
    "p_value = norm.sf(z)*2\n",
    "print(p_value)\n",
    "p_hat = (200-25)/200\n",
    "#Tome uma decisão\n",
    "if p_value > p_hat:\n",
    "    print(\"Rejeição da H_0!\")\n",
    "else:\n",
    "    print(\"Falha em rejeitar H_0!\")\n",
    "\n",
    "\n"
   ]
  },
  {
   "cell_type": "markdown",
   "metadata": {},
   "source": [
    "A set of physics exam scores are normally distributed with a mean of 80 points and a standard deviation of 6 points. Irina got a score of 95 points on the exam."
   ]
  },
  {
   "cell_type": "code",
   "execution_count": 152,
   "metadata": {},
   "outputs": [
    {
     "data": {
      "text/plain": [
       "Text(0.5, 1.0, '0.9938 lower score')"
      ]
     },
     "execution_count": 152,
     "metadata": {},
     "output_type": "execute_result"
    },
    {
     "data": {
      "image/png": "[encoded data removed]",
      "text/plain": [
       "<Figure size 432x288 with 1 Axes>"
      ]
     },
     "metadata": {
      "needs_background": "light"
     },
     "output_type": "display_data"
    }
   ],
   "source": [
    "mu=80\n",
    "std=6\n",
    "Irina=95\n",
    "fig, ax = plt.subplots(1, 1)\n",
    "x = np.linspace(int(mu-(6*std)), mu + int(6*std))\n",
    "ax.plot(x, norm.pdf(x=x,loc=mu, scale=std), 'r-', lw=5, alpha=0.6, label='norm pdf')\n",
    "ax.axvline(Irina)\n",
    "ax.axvline(int(mu-(1*std)), color='r', linestyle='--')\n",
    "ax.axvline(mu + int(1*std), color='r', linestyle='--')\n",
    "plt.title(f\"{norm.cdf(x=Irina,loc=mu, scale=std):0.4f} lower score\")"
   ]
  },
  {
   "cell_type": "markdown",
   "metadata": {},
   "source": [
    "______"
   ]
  },
  {
   "cell_type": "markdown",
   "metadata": {},
   "source": [
    "A set of average city temperatures in April\n",
    " are normally distributed with a mean of $19.7 ^\\circ \\text{C}$ \n",
    " and a standard deviation of $2 ^\\circ \\text{C}$ .    \n",
    " The average temperature of Cairo is $21.4 ^\\circ \\text{C}$."
   ]
  },
  {
   "cell_type": "code",
   "execution_count": 155,
   "metadata": {},
   "outputs": [
    {
     "data": {
      "text/plain": [
       "Text(0.5, 1.0, '0.1977 higher score')"
      ]
     },
     "execution_count": 155,
     "metadata": {},
     "output_type": "execute_result"
    },
    {
     "data": {
      "image/png": "[encoded data removed]",
      "text/plain": [
       "<Figure size 432x288 with 1 Axes>"
      ]
     },
     "metadata": {
      "needs_background": "light"
     },
     "output_type": "display_data"
    }
   ],
   "source": [
    "mu=19.7\n",
    "std=2\n",
    "Cairo=21.4\n",
    "fig, ax = plt.subplots(1, 1)\n",
    "x = np.linspace(int(mu-(6*std)), mu + int(6*std))\n",
    "ax.plot(x, norm.pdf(x=x,loc=mu, scale=std), 'r-', lw=5, alpha=0.6, label='norm pdf')\n",
    "ax.axvline(Cairo)\n",
    "ax.axvline(int(mu-(1*std)), color='r', linestyle='--')\n",
    "ax.axvline(mu + int(1*std), color='r', linestyle='--')\n",
    "plt.title(f\"{norm.sf(x=Cairo,loc=mu, scale=std):0.4f} higher score\")"
   ]
  },
  {
   "cell_type": "markdown",
   "metadata": {},
   "source": [
    "The Appalachian Trail is a long hiking trail that takes several months to travel by foot. \n",
    "Hikers sometimes change sleeping bags during the trip because of changing seasons.\n",
    "Each sleeping bag has a rating telling the minimum outside temperature in which it is effective. \n",
    "Here are some summary statistics for the ratings for the sleeping bags hikers were using at the beginning and end of their trip:   \n",
    "\n",
    "|Time|\tMean rating|\tStandard deviation|\n",
    "|-----|------|------|\n",
    "|Beginning|\t$\\mu=21^{\\circ}\\text{F}$ | $\\sigma=11^{\\circ}\\text{F}$ |\n",
    "|End|\t\t$\\mu=32^{\\circ}\\text{F}$ | $\\sigma=12.9^{\\circ}\\text{F}$ |   \n",
    "\n",
    "Irina used a sleeping bag rated $15^{\\circ}\\text{F}$ at the beginning of the trip \n",
    "and a sleeping bag rated $29^{\\circ}\\text{F}$ at the end of her trip on the Appalachian Trail.\n",
    "Relative to other sleeping bags hikers were using at the time,   \n",
    "which of Irina's sleeping bags had a relatively lower rating?"
   ]
  },
  {
   "cell_type": "code",
   "execution_count": 64,
   "metadata": {},
   "outputs": [
    {
     "data": {
      "text/plain": [
       "Text(0.5, 1.0, '0.7073 higher score')"
      ]
     },
     "execution_count": 64,
     "metadata": {},
     "output_type": "execute_result"
    },
    {
     "data": {
      "image/png": "[encoded data removed]",
      "text/plain": [
       "<Figure size 432x288 with 1 Axes>"
      ]
     },
     "metadata": {
      "needs_background": "light"
     },
     "output_type": "display_data"
    }
   ],
   "source": [
    "mu1=21\n",
    "std1=11\n",
    "mu2=32\n",
    "std2=12.9\n",
    "Begin=15\n",
    "End=29\n",
    "fig, ax = plt.subplots(1, 1)\n",
    "x = np.linspace(int(mu1-(6*std1)), mu1 + int(6*std1))\n",
    "ax.plot(x, norm.pdf(x=x,loc=mu1, scale=std1), 'r-', lw=5, alpha=0.6, label='norm pdf')\n",
    "ax.axvline(Begin)\n",
    "ax.axvline(int(mu1-(1*std1)), color='r', linestyle='--')\n",
    "ax.axvline(mu1 + int(1*std1), color='r', linestyle='--')\n",
    "x = np.linspace(int(mu2-(6*std2)), mu2 + int(6*std2))\n",
    "ax.plot(x, norm.pdf(x=x,loc=mu2, scale=std2), 'b-', lw=5, alpha=0.6, label='norm pdf')\n",
    "ax.axvline(End)\n",
    "ax.axvline(int(mu2-(1*std2)), color='b', linestyle='--')\n",
    "ax.axvline(mu2 + int(1*std2), color='b', linestyle='--')\n",
    "plt.title(f\"{norm.sf(x=Begin,loc=mu1, scale=std1):0.4f} higher score\")"
   ]
  },
  {
   "cell_type": "markdown",
   "metadata": {},
   "source": [
    "A set of high school student heights are normally distributed with a mean of 161cm \n",
    "and a standard deviation of 15 centimeters.   \n",
    "Mikio is a high school student with a height of 191 centimeters.     \n",
    "What proportion of student heights are higher than Mikio's height?   "
   ]
  },
  {
   "cell_type": "code",
   "execution_count": 156,
   "metadata": {},
   "outputs": [
    {
     "data": {
      "text/plain": [
       "Text(0.5, 1.0, '0.0228 higher score')"
      ]
     },
     "execution_count": 156,
     "metadata": {},
     "output_type": "execute_result"
    },
    {
     "data": {
      "image/png": "[encoded data removed]",
      "text/plain": [
       "<Figure size 432x288 with 1 Axes>"
      ]
     },
     "metadata": {
      "needs_background": "light"
     },
     "output_type": "display_data"
    }
   ],
   "source": [
    "mu=161\n",
    "std=15\n",
    "Mikio=191\n",
    "fig, ax = plt.subplots(1, 1)\n",
    "x = np.linspace(int(mu-(6*std)), mu + int(6*std))\n",
    "ax.plot(x, norm.pdf(x=x,loc=mu, scale=std), 'r-', lw=5, alpha=0.6, label='norm pdf')\n",
    "ax.axvline(Mikio)\n",
    "ax.axvline(int(mu-(1*std)), color='r', linestyle='--')\n",
    "ax.axvline(mu + int(1*std), color='r', linestyle='--')\n",
    "plt.title(f\"{norm.sf(x=Mikio,loc=mu, scale=std):0.4f} higher score\")"
   ]
  },
  {
   "cell_type": "markdown",
   "metadata": {},
   "source": [
    "A set of average city temperatures in July are normally distributed with a mean of $23.5 ^\\circ \\text{C}$\n",
    "and a standard deviation of $2 ^\\circ \\text{C}$. \n",
    "The average temperature of Rabat is $23 ^\\circ \\text{C}$.     \n",
    "What proportion of average city temperatures are higher than that of Rabat?   "
   ]
  },
  {
   "cell_type": "code",
   "execution_count": 157,
   "metadata": {},
   "outputs": [
    {
     "data": {
      "text/plain": [
       "Text(0.5, 1.0, '0.5987 higher score')"
      ]
     },
     "execution_count": 157,
     "metadata": {},
     "output_type": "execute_result"
    },
    {
     "data": {
      "image/png": "[encoded data removed]",
      "text/plain": [
       "<Figure size 432x288 with 1 Axes>"
      ]
     },
     "metadata": {
      "needs_background": "light"
     },
     "output_type": "display_data"
    }
   ],
   "source": [
    "mu=23.5\n",
    "std=2\n",
    "Rabat=23\n",
    "fig, ax = plt.subplots(1, 1)\n",
    "x = np.linspace(int(mu-(6*std)), mu + int(6*std))\n",
    "ax.plot(x, norm.pdf(x=x,loc=mu, scale=std), 'r-', lw=5, alpha=0.6, label='norm pdf')\n",
    "ax.axvline(Rabat)\n",
    "ax.axvline(int(mu-(1*std)), color='r', linestyle='--')\n",
    "ax.axvline(mu + int(1*std), color='r', linestyle='--')\n",
    "plt.title(f\"{norm.sf(x=Rabat,loc=mu, scale=std):0.4f} higher score\")"
   ]
  },
  {
   "cell_type": "markdown",
   "metadata": {},
   "source": [
    "A set of computer science exam scores are normally distributed with a mean of 71.33 points \n",
    "and a standard deviation of 3 points.      \n",
    "What proportion of exam scores are between 68 and 77.99 points?"
   ]
  },
  {
   "cell_type": "code",
   "execution_count": 175,
   "metadata": {},
   "outputs": [
    {
     "name": "stdout",
     "output_type": "stream",
     "text": [
      "z_score 77.99 0.9868,z_score_ 68.0 0.1335\n",
      "The area between is z_score 77.99 - z_score_ 68.0 == 0.8532911029499963\n"
     ]
    },
    {
     "data": {
      "image/png": "[encoded data removed]",
      "text/plain": [
       "<Figure size 432x288 with 1 Axes>"
      ]
     },
     "metadata": {
      "needs_background": "light"
     },
     "output_type": "display_data"
    }
   ],
   "source": [
    "mu=71.33\n",
    "std=3\n",
    "P1=68.0\n",
    "P2=77.99\n",
    "z_score_P1 = norm.cdf(x=P1,loc=mu, scale=std)\n",
    "z_score_P2 = norm.cdf(x=P2,loc=mu, scale=std)\n",
    "fig, ax = plt.subplots(1, 1)\n",
    "x = np.linspace(int(mu-(6*std)), mu + int(6*std))\n",
    "ax.plot(x, norm.pdf(x=x,loc=mu, scale=std), 'r-', lw=5, alpha=0.6, label='norm pdf')\n",
    "ax.axvspan(P1, P2, alpha=0.5, color='grey')\n",
    "ax.axvline(int(mu-(1*std)), color='r', linestyle='--')\n",
    "ax.axvline(mu + int(1*std), color='r', linestyle='--')\n",
    "plt.title(f\"{(z_score_P2-z_score_P1):0.4f} higher score\")\n",
    "\n",
    "print(f\"z_score {P2} {z_score_P2:0.4f},z_score_ {P1} {z_score_P1:0.4f}\")\n",
    "print(f\"The area between is z_score {P2} - z_score_ {P1} == {z_score_P2-z_score_P1}\")\n"
   ]
  },
  {
   "cell_type": "markdown",
   "metadata": {},
   "source": [
    "A set of elementary school student heights are normally distributed with a mean of 105 centimeters\n",
    " and a standard deviation of 5 centimeters.\n",
    "What proportion of student heights are between 93 centimeters and 100.5 centimeters?"
   ]
  },
  {
   "cell_type": "code",
   "execution_count": 176,
   "metadata": {},
   "outputs": [
    {
     "name": "stdout",
     "output_type": "stream",
     "text": [
      "z_score 100.5 0.1841,z_score_ 93 0.0082\n",
      "The area between is z_score 100.5 - z_score_ 93 == 0.17586258942216335\n"
     ]
    },
    {
     "data": {
      "image/png": "[encoded data removed]",
      "text/plain": [
       "<Figure size 432x288 with 1 Axes>"
      ]
     },
     "metadata": {
      "needs_background": "light"
     },
     "output_type": "display_data"
    }
   ],
   "source": [
    "mu = 105\n",
    "std=5\n",
    "P1=93\n",
    "P2=100.5\n",
    "\n",
    "z_score_P1 = norm.cdf(x=P1,loc=mu, scale=std)\n",
    "z_score_P2 = norm.cdf(x=P2,loc=mu, scale=std)\n",
    "fig, ax = plt.subplots(1, 1)\n",
    "x = np.linspace(int(mu-(6*std)), mu + int(6*std))\n",
    "ax.plot(x, norm.pdf(x=x,loc=mu, scale=std), 'r-', lw=5, alpha=0.6, label='norm pdf')\n",
    "ax.axvspan(P1, P2, alpha=0.5, color='grey')\n",
    "ax.axvline(int(mu-(1*std)), color='r', linestyle='--')\n",
    "ax.axvline(mu + int(1*std), color='r', linestyle='--')\n",
    "plt.title(f\"{(z_score_P2-z_score_P1):0.4f} higher score\")\n",
    "\n",
    "print(f\"z_score {P2} {z_score_P2:0.4f},z_score_ {P1} {z_score_P1:0.4f}\")\n",
    "print(f\"The area between is z_score {P2} - z_score_ {P1} == {z_score_P2-z_score_P1}\")"
   ]
  },
  {
   "cell_type": "markdown",
   "metadata": {},
   "source": [
    "A set of electric toothbrush prices are normally distributed with a mean of 87 dollars    \n",
    "and a standard deviation of 8 dollars.\n",
    "What proportion of electric toothbrush prices are between 104.60 dollars and 108.20 dollars?"
   ]
  },
  {
   "cell_type": "code",
   "execution_count": 198,
   "metadata": {},
   "outputs": [
    {
     "name": "stderr",
     "output_type": "stream",
     "text": [
      "C:\\Users\\br080d\\AppData\\Local\\Temp/ipykernel_16752/2617456030.py:15: UserWarning: You have used the `textcoords` kwarg, but not the `xytext` kwarg.  This can lead to surprising results.\n",
      "  plt.annotate('This is awesome!',\n"
     ]
    },
    {
     "name": "stdout",
     "output_type": "stream",
     "text": [
      "z_score 108.2 0.9960,z_score_ 104.6 0.9861\n",
      "The area between is z_score 108.2 - z_score_ 104.6 == 0.009878858970740256\n"
     ]
    },
    {
     "data": {
      "image/png": "[encoded data removed]",
      "text/plain": [
       "<Figure size 432x288 with 1 Axes>"
      ]
     },
     "metadata": {
      "needs_background": "light"
     },
     "output_type": "display_data"
    }
   ],
   "source": [
    "mu=87\n",
    "std=8\n",
    "P1=104.6\n",
    "P2=108.2\n",
    "z_score_P1 = norm.cdf(x=P1,loc=mu, scale=std)\n",
    "z_score_P2 = norm.cdf(x=P2,loc=mu, scale=std)\n",
    "fig, ax = plt.subplots(1, 1)\n",
    "x = np.linspace(int(mu-(6*std)), mu + int(6*std))\n",
    "ax.plot(x, norm.pdf(x=x,loc=mu, scale=std), 'r-', lw=5, alpha=0.6, label='norm pdf')\n",
    "ax.axvspan(P1, P2, alpha=0.5, color='grey')\n",
    "ax.axvline(int(mu-(1*std)), color='r', linestyle='--')\n",
    "ax.axvline(mu + int(1*std), color='r', linestyle='--')\n",
    "plt.title(f\"{(z_score_P2-z_score_P1):0.4f} higher score\")\n",
    "plt.annotate('Our area!', xy=(105,0.03), xytext=(105,0.04), arrowprops={'color': 'g'})\n",
    "plt.annotate('This is awesome!', \n",
    "             xy=(120,0.04),  \n",
    "             xycoords='data',\n",
    "             textcoords='offset points',\n",
    "             arrowprops=dict(arrowstyle=\"->\"))\n",
    "print(f\"z_score {P2} {z_score_P2:0.4f},z_score_ {P1} {z_score_P1:0.4f}\")\n",
    "print(f\"The area between is z_score {P2} - z_score_ {P1} == {z_score_P2-z_score_P1}\")"
   ]
  },
  {
   "cell_type": "markdown",
   "metadata": {},
   "source": [
    "A set of average city temperatures in September are normally distributed with a mean of $21.02 ^\\circ \\text{C}$\n",
    " and a standard deviation of $2 ^\\circ \\text{C}$.\n",
    "What proportion of temperatures are between $17.02^\\circ \\text{C}$ and $25^\\circ \\text{C}$?"
   ]
  },
  {
   "cell_type": "code",
   "execution_count": 178,
   "metadata": {},
   "outputs": [
    {
     "name": "stdout",
     "output_type": "stream",
     "text": [
      "z_score 25 0.9767,z_score_ 17.02 0.0228\n",
      "The area between is z_score 25 - z_score_ 17.02 == 0.9539544003016089\n"
     ]
    },
    {
     "data": {
      "image/png": "[encoded data removed]",
      "text/plain": [
       "<Figure size 432x288 with 1 Axes>"
      ]
     },
     "metadata": {
      "needs_background": "light"
     },
     "output_type": "display_data"
    }
   ],
   "source": [
    "mu=21.02\n",
    "std=2\n",
    "P1=17.02\n",
    "P2=25\n",
    "z_score_P1 = norm.cdf(x=P1,loc=mu, scale=std)\n",
    "z_score_P2 = norm.cdf(x=P2,loc=mu, scale=std)\n",
    "fig, ax = plt.subplots(1, 1)\n",
    "x = np.linspace(int(mu-(6*std)), mu + int(6*std))\n",
    "ax.plot(x, norm.pdf(x=x,loc=mu, scale=std), 'r-', lw=5, alpha=0.6, label='norm pdf')\n",
    "ax.axvspan(P1, P2, alpha=0.5, color='grey')\n",
    "ax.axvline(int(mu-(1*std)), color='r', linestyle='--')\n",
    "ax.axvline(mu + int(1*std), color='r', linestyle='--')\n",
    "plt.title(f\"{(z_score_P2-z_score_P1):0.4f} higher score\")\n",
    "\n",
    "print(f\"z_score {P2} {z_score_P2:0.4f},z_score_ {P1} {z_score_P1:0.4f}\")\n",
    "print(f\"The area between is z_score {P2} - z_score_ {P1} == {z_score_P2-z_score_P1}\")"
   ]
  },
  {
   "cell_type": "markdown",
   "metadata": {},
   "source": [
    "A set of mathematics exam scores are normally distributed with a mean of 80.2 points \n",
    "and a standard deviation of 4 points.\n",
    "What proportion of exam scores are between 82 and 85.6 points?"
   ]
  },
  {
   "cell_type": "code",
   "execution_count": 61,
   "metadata": {},
   "outputs": [
    {
     "name": "stdout",
     "output_type": "stream",
     "text": [
      "z_score 85.6 0.9115,z_score_ 82 0.6736\n",
      "The area between is z_score 85.6 - z_score_ 82 == 0.237847228850518\n"
     ]
    },
    {
     "data": {
      "image/png": "[encoded data removed]",
      "text/plain": [
       "<Figure size 432x288 with 1 Axes>"
      ]
     },
     "metadata": {
      "needs_background": "light"
     },
     "output_type": "display_data"
    }
   ],
   "source": [
    "mu=80.2\n",
    "std=4\n",
    "P1=82\n",
    "P2=85.6\n",
    "z_score_P1 = norm.cdf(x=P1,loc=mu, scale=std)\n",
    "z_score_P2 = norm.cdf(x=P2,loc=mu, scale=std)\n",
    "fig, ax = plt.subplots(1, 1)\n",
    "x = np.linspace(int(mu-(6*std)), mu + int(6*std))\n",
    "ax.plot(x, norm.pdf(x=x,loc=mu, scale=std), 'r-', lw=5, alpha=0.6, label='norm pdf')\n",
    "ax.axvspan(P1, P2, alpha=0.5, color='grey')\n",
    "ax.axvline(int(mu-(1*std)), color='r', linestyle='--')\n",
    "ax.axvline(mu + int(1*std), color='r', linestyle='--')\n",
    "plt.title(f\"{(z_score_P2-z_score_P1):0.4f} higher score\")\n",
    "\n",
    "print(f\"z_score {P2} {z_score_P2:0.4f},z_score_ {P1} {z_score_P1:0.4f}\")\n",
    "print(f\"The area between is z_score {P2} - z_score_ {P1} == {z_score_P2-z_score_P1}\")"
   ]
  },
  {
   "cell_type": "code",
   "execution_count": 51,
   "metadata": {},
   "outputs": [
    {
     "name": "stdout",
     "output_type": "stream",
     "text": [
      "0.7475074624530771 0.8413447460685429\n"
     ]
    }
   ],
   "source": [
    "print(norm.cdf(x=13, loc=12, scale=1.5),\n",
    "norm.cdf(x=15, loc=14, scale=1))"
   ]
  },
  {
   "cell_type": "markdown",
   "metadata": {},
   "source": [
    "The distribution of annual profit at a chain of stores \n",
    "was approximately normal with mean $\\mu = \\$66{,}000$ and standard deviation $\\sigma = \\$21{,}000$.\n",
    "The executives conducted an audit of the stores with the lowest 20% of profits.\n",
    "What is closest to the maximum annual profit at a store where the executives conducted an audit?"
   ]
  },
  {
   "cell_type": "code",
   "execution_count": 59,
   "metadata": {},
   "outputs": [
    {
     "data": {
      "text/plain": [
       "Text(0.5, 1.0, '48325.9541 maximum profit')"
      ]
     },
     "execution_count": 59,
     "metadata": {},
     "output_type": "execute_result"
    },
    {
     "data": {
      "image/png": "[encoded data removed]",
      "text/plain": [
       "<Figure size 432x288 with 1 Axes>"
      ]
     },
     "metadata": {
      "needs_background": "light"
     },
     "output_type": "display_data"
    }
   ],
   "source": [
    "mu=66000\n",
    "std=21000\n",
    "P=0.2\n",
    "z_score_P1 = norm.ppf(P, loc=mu, scale=std)\n",
    "fig, ax = plt.subplots(1, 1)\n",
    "x = np.linspace(int(mu-(6*std)), mu + int(6*std))\n",
    "ax.plot(x, norm.pdf(x=x,loc=mu, scale=std), 'r-', lw=5, alpha=0.6, label='norm pdf')\n",
    "ax.axvline(z_score_P1, alpha=0.5, color='grey')\n",
    "ax.axvline(int(mu-(1*std)), color='r', linestyle='--')\n",
    "ax.axvline(mu + int(1*std), color='r', linestyle='--')\n",
    "plt.title(f\"{(z_score_P1):0.4f} maximum profit\")\n"
   ]
  },
  {
   "cell_type": "markdown",
   "metadata": {},
   "source": [
    "The distribuition of resting pulse rates of all studens at Santa  Maria high school was approximatedly normal with mean $\\mu =80$ beats per minute and standard deviation $\\sigma = 9$ beats per minute.     \n",
    "The school nurse plans to provide additional screning to students whose resting pulse rates are in  the top 30% of the students who were tested.     \n",
    "What is the minimum resting pulse rate at that school for students who will receive additional screening? "
   ]
  },
  {
   "cell_type": "code",
   "execution_count": 182,
   "metadata": {},
   "outputs": [
    {
     "name": "stdout",
     "output_type": "stream",
     "text": [
      "0.5244005127080407 84.71960461437237\n"
     ]
    }
   ],
   "source": [
    "mu=80\n",
    "std=9\n",
    "percentage=0.7 # pegadinha top 30 são 70%\n",
    "z_score = norm.ppf(percentage) # ppf converte o percentagem em z-score, sem usar a tabela\n",
    "print(z_score, std*z_score+80)\n"
   ]
  },
  {
   "cell_type": "code",
   "execution_count": 184,
   "metadata": {},
   "outputs": [
    {
     "name": "stdout",
     "output_type": "stream",
     "text": [
      "-1.2815515655446004 170.9029327790094\n"
     ]
    }
   ],
   "source": [
    "mu=185\n",
    "std=11\n",
    "percentage=0.1 #\n",
    "z_score = norm.ppf(percentage) # ppf converte o percentagem em z-score, sem usar a tabela\n",
    "print(z_score, std*z_score+mu)"
   ]
  },
  {
   "cell_type": "code",
   "execution_count": 185,
   "metadata": {},
   "outputs": [
    {
     "name": "stdout",
     "output_type": "stream",
     "text": [
      "0.6744897501960817 192.4193872521569\n"
     ]
    }
   ],
   "source": [
    "mu=185\n",
    "std=11\n",
    "percentage=0.75 # pegadinha top 30 são 70%\n",
    "z_score = norm.ppf(percentage) # ppf converte o percentagem em z-score, sem usar a tabela\n",
    "print(z_score, std*z_score+mu)\n"
   ]
  },
  {
   "cell_type": "code",
   "execution_count": 186,
   "metadata": {},
   "outputs": [
    {
     "name": "stdout",
     "output_type": "stream",
     "text": [
      "-1.2815515655446004 170.9029327790094\n"
     ]
    }
   ],
   "source": [
    "mu=185\n",
    "std=11\n",
    "percentage=0.1 # pegadinha top 30 são 70%\n",
    "z_score = norm.ppf(percentage) # ppf converte o percentagem em z-score, sem usar a tabela\n",
    "print(z_score, std*z_score+mu)"
   ]
  },
  {
   "cell_type": "code",
   "execution_count": 187,
   "metadata": {},
   "outputs": [
    {
     "name": "stdout",
     "output_type": "stream",
     "text": [
      "1.6448536269514722 102186.77979293239\n"
     ]
    }
   ],
   "source": [
    "mu=66000\n",
    "std=22000\n",
    "percentage=0.95 # pegadinha top 5 são 95%\n",
    "z_score = norm.ppf(percentage) # ppf converte o percentagem em z-score, sem usar a tabela\n",
    "print(z_score, std*z_score+mu)"
   ]
  },
  {
   "cell_type": "code",
   "execution_count": 60,
   "metadata": {},
   "outputs": [
    {
     "data": {
      "text/plain": [
       "0.15865525393145719"
      ]
     },
     "execution_count": 60,
     "metadata": {},
     "output_type": "execute_result"
    }
   ],
   "source": [
    "norm.sf(x=23.9, loc=20.8, scale=3.1)"
   ]
  },
  {
   "cell_type": "markdown",
   "metadata": {},
   "source": [
    "The distribution of reading scale scores in the $4^\\text{th}$\n",
    " grade at Roosevelt Elementary School was approximately normal with mean $\\mu = 221$ and standard deviation $\\sigma = 36$.     \n",
    "Students must score in the top 20% percent to be eligible for participation in the gifted .    \n",
    "What is the minimum reading scale score for students to be eligible for the gifted program?"
   ]
  },
  {
   "cell_type": "code",
   "execution_count": 43,
   "metadata": {},
   "outputs": [
    {
     "name": "stdout",
     "output_type": "stream",
     "text": [
      "0.8416212335729143 251.2983644086249\n"
     ]
    }
   ],
   "source": [
    "mu=221\n",
    "std=36\n",
    "percentage=0.8 # pegadinha top 20 são 80%\n",
    "z_score = norm.ppf(percentage) # ppf converte o percentagem em z-score, sem usar a tabela\n",
    "print(z_score, std*z_score+mu)"
   ]
  },
  {
   "cell_type": "markdown",
   "metadata": {},
   "source": [
    "The lifespans of gorillas in a particular zoo are normally distributed.    \n",
    "The average gorilla lives 16 years; the standard deviation is 1.7 years.\n",
    "Use the empirical rule $(68-95-99.7\\%)$ to estimate the probability of a gorilla living between 14.3 and 19.4 years. "
   ]
  },
  {
   "cell_type": "code",
   "execution_count": 48,
   "metadata": {},
   "outputs": [
    {
     "name": "stdout",
     "output_type": "stream",
     "text": [
      "z_score 19.4 0.9772,z_score_ 14.3 0.1587\n",
      "The area between is z_score 19.4 - z_score_ 14.3 == 81.9 %\n"
     ]
    },
    {
     "data": {
      "image/png": "[encoded data removed]",
      "text/plain": [
       "<Figure size 432x288 with 1 Axes>"
      ]
     },
     "metadata": {
      "needs_background": "light"
     },
     "output_type": "display_data"
    }
   ],
   "source": [
    "mu=16\n",
    "std=1.7\n",
    "P1=14.3\n",
    "P2=19.4\n",
    "z_score_P1 = norm.cdf(x=P1,loc=mu, scale=std)\n",
    "z_score_P2 = norm.cdf(x=P2,loc=mu, scale=std)\n",
    "fig, ax = plt.subplots(1, 1)\n",
    "x = np.linspace(int(mu-(6*std)), mu + int(6*std))\n",
    "ax.plot(x, norm.pdf(x=x,loc=mu, scale=std), 'r-', lw=5, alpha=0.6, label='norm pdf')\n",
    "ax.axvspan(P1, P2, alpha=0.5, color='grey')\n",
    "ax.axvline(int(mu-(1*std)), color='r', linestyle='--')\n",
    "ax.axvline(mu + int(2*std), color='r', linestyle='--')\n",
    "plt.title(f\"{(z_score_P2-z_score_P1):0.4f} higher score\")\n",
    "\n",
    "print(f\"z_score {P2} {z_score_P2:0.4f},z_score_ {P1} {z_score_P1:0.4f}\")\n",
    "print(f\"The area between is z_score {P2} - z_score_ {P1} == {((z_score_P2-z_score_P1)*100):0.1f} %\")"
   ]
  },
  {
   "cell_type": "code",
   "execution_count": 188,
   "metadata": {},
   "outputs": [
    {
     "name": "stdout",
     "output_type": "stream",
     "text": [
      "-1.6448536269514729 37.29924481840729\n"
     ]
    }
   ],
   "source": [
    "mu=85\n",
    "std=29\n",
    "percentage=0.05 # pegadinha top 5 são 95%\n",
    "z_score = norm.ppf(percentage) # ppf converte o percentagem em z-score, sem usar a tabela\n",
    "print(z_score, std*z_score+mu)"
   ]
  },
  {
   "cell_type": "markdown",
   "metadata": {},
   "source": [
    "## Resistência\n",
    "\n",
    "Na indústria cerâmica, avalia-se sistematicamente a resistência de amostras de massas cerâmicas, após o processo de queima. Dessas avaliações, sabe-se que certo tipo de massa tem resistência mecânica aproximadamente normal, com média 53 MPa e variância populacional de 16 MPa². Após a troca de alguns fornecedores de matérias- primas, deseja-se verificar se houve alteração na qualidade. Uma amostra de 15 corpos de prova de massa cerâmica acusou média igual a 50 MPa. Qual é a conclusão ao nível de significância de 5%?"
   ]
  },
  {
   "cell_type": "markdown",
   "metadata": {},
   "source": [
    "### Definição das hipóteses\n",
    "\n",
    "$$\n",
    "    H_0: \\mu \\geq 53\\, MPa\n",
    "$$\n",
    "\n",
    "$$\n",
    "    H_1 : \\mu < 53 \\, MPa\n",
    "$$"
   ]
  },
  {
   "cell_type": "code",
   "execution_count": 94,
   "metadata": {},
   "outputs": [],
   "source": [
    "mu=53\n",
    "n=15\n",
    "std = np.sqrt(16)\n",
    "significancia=0.05 # == 95 % == 2 sigma"
   ]
  },
  {
   "cell_type": "code",
   "execution_count": 97,
   "metadata": {},
   "outputs": [
    {
     "data": {
      "text/plain": [
       "<matplotlib.lines.Line2D at 0x1b53d70a160>"
      ]
     },
     "execution_count": 97,
     "metadata": {},
     "output_type": "execute_result"
    },
    {
     "data": {
      "image/png": "[encoded data removed]",
      "text/plain": [
       "<Figure size 432x288 with 1 Axes>"
      ]
     },
     "metadata": {
      "needs_background": "light"
     },
     "output_type": "display_data"
    }
   ],
   "source": [
    "fig, ax = plt.subplots(1, 1)\n",
    "x = np.linspace(int(mu-(3*std)), mu + int(3*std))\n",
    "ax.plot(x, norm.pdf(x=x,loc=mu, scale=std), 'r-', lw=5, alpha=0.6, label='norm pdf')\n",
    "ax.axvline(50)"
   ]
  },
  {
   "cell_type": "code",
   "execution_count": 89,
   "metadata": {},
   "outputs": [
    {
     "name": "stdout",
     "output_type": "stream",
     "text": [
      "0.2266273523768682\n",
      "Falha em rejeitar H_0!\n"
     ]
    }
   ],
   "source": [
    "mu=53\n",
    "n=15\n",
    "std = np.sqrt(16)\n",
    "significancia=0.05 # == 95 % == 2 sigma\n",
    "z= (50-53)/std\n",
    "p_value = norm.cdf(z)\n",
    "print(p_value)\n",
    "if p_value < significancia:\n",
    "    print(\"Rejeição da H_0!\")\n",
    "else:\n",
    "    print(\"Falha em rejeitar H_0!\")"
   ]
  },
  {
   "cell_type": "markdown",
   "metadata": {},
   "source": [
    "______"
   ]
  },
  {
   "cell_type": "markdown",
   "metadata": {},
   "source": [
    "## Confiança Instrumental\n",
    "\n",
    "Os multímetros são aparelhos de medição bastante utilizados. Em um lote de amostras para verificação da qualidade, testaram-se 18 válvulas com o multímetro, para determinar sua tensão. O valor médio amostral encontrado para a tensão foi de 3,2 μV.\n",
    "\n",
    "a) Construa um intervalo de confiança para a tensão média, com nível de confiança de 98%, sabendo que o fabricante das bobinas garante que as tensões são distribuídas segundo uma normal, com variância populacional igual a 3 μV. (Lembre-se que a variância é o quadrado do desvio padrão!)\n",
    "\n",
    "b) Caso a variância não fosse conhecida, como você procederia para construir o intervalo de confiança?"
   ]
  },
  {
   "cell_type": "code",
   "execution_count": 189,
   "metadata": {},
   "outputs": [
    {
     "name": "stdout",
     "output_type": "stream",
     "text": [
      "18 3.2 1.7320508075688772\n"
     ]
    }
   ],
   "source": [
    "n=18\n",
    "mu=3.2\n",
    "std=np.sqrt(3)\n",
    "print(n,mu,std)"
   ]
  },
  {
   "cell_type": "code",
   "execution_count": null,
   "metadata": {},
   "outputs": [],
   "source": []
  },
  {
   "cell_type": "code",
   "execution_count": 64,
   "metadata": {},
   "outputs": [
    {
     "name": "stdout",
     "output_type": "stream",
     "text": [
      "Intervalo de confiança da média: (2.1520535894127537, 4.247946410587247)\n"
     ]
    }
   ],
   "source": [
    "from scipy.stats import t as t_student\n",
    "n= 18\n",
    "variancia = 3\n",
    "graus_de_liberdade = n - 1\n",
    "std = np.sqrt(variancia)\n",
    "media_amostral = 3.2\n",
    "confianca = 0.98\n",
    "significancia = 1 - confianca\n",
    "print('Intervalo de confiança da média:', t_student.interval(confianca, loc=media_amostral, scale=sigma/np.sqrt(n), df=graus_de_liberdade))\n"
   ]
  },
  {
   "cell_type": "code",
   "execution_count": 85,
   "metadata": {},
   "outputs": [
    {
     "name": "stdout",
     "output_type": "stream",
     "text": [
      "Intervalo de confiança da média: (3.174350463485622, 3.1803179230941776)\n"
     ]
    }
   ],
   "source": [
    "#talvez usando normal e com mean 0 e o significancia 0.02 ?\n",
    "mu, sigma = 3.2, 0.02 # mean and standard deviation\n",
    "s = np.random.normal(mu, significancia)\n",
    "print('Intervalo de confiança da média:', t_student.interval(confianca, loc=s, scale=sigma/np.sqrt(n), df=graus_de_liberdade))"
   ]
  },
  {
   "cell_type": "markdown",
   "metadata": {},
   "source": [
    "______"
   ]
  }
 ],
 "metadata": {
  "interpreter": {
   "hash": "e922dd073470bdcc017ae3abd31d6491d6ed7bf31c1d559806e5511bfea88b81"
  },
  "kernelspec": {
   "display_name": "Python 3.9.0 32-bit",
   "name": "python3"
  },
  "language_info": {
   "codemirror_mode": {
    "name": "ipython",
    "version": 3
   },
   "file_extension": ".py",
   "mimetype": "text/x-python",
   "name": "python",
   "nbconvert_exporter": "python",
   "pygments_lexer": "ipython3",
   "version": "3.9.7"
  }
 },
 "nbformat": 4,
 "nbformat_minor": 4
}
