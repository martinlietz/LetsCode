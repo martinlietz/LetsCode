{
 "cells": [
  {
   "cell_type": "markdown",
   "source": [
    "# Prova módulo 4\n",
    "\n",
    "e-mail pra envio: afjmdm@hotmail.com\n",
    "\n",
    "Enviar com o assunto [PROVA - MÓDULO 4], colocar o nome completo no corpo do e-mail, e tamvbém no título do notebook\n",
    "\n",
    "### Por favor, enviar o notebook rodado :)\n",
    "\n",
    "_____"
   ],
   "metadata": {}
  },
  {
   "cell_type": "code",
   "execution_count": 59,
   "source": [
    "from scipy.stats import norm\r\n",
    "import matplotlib.pyplot as plt\r\n",
    "import numpy as np\r\n",
    "import pandas as pd"
   ],
   "outputs": [],
   "metadata": {}
  },
  {
   "cell_type": "markdown",
   "source": [
    "## Operário\r\n",
    "\r\n",
    "O tempo T, em minutos, necessário para um operário processar certa peça é uma v.a. com a seguinte distribuição de probabilidade\r\n",
    "```\r\n",
    "t\t2\t3\t4\t5\t6\t7  \r\n",
    "p(t)\t0.1\t0.1\t0.3\t0.2\t0.2\t0.1     \r\n",
    "```\r\n",
    "(a) Como você definiria uma distribuição de probabilidade?\r\n",
    "\r\n",
    "(b) A distribuição acima é contínua ou discreta?\r\n",
    "\r\n",
    "(c) Calcule o tempo médio de processamento.\r\n",
    "(Dica: lembre-se que a média de uma variável aleatória é seu valor esperado!)\r\n",
    "\r\n",
    "(d) Para cada peça processada, o operário ganha um fixo de 2,00, mas, se ele processa a peça em menos de seis minutos, ganha 0,50 em cada minuto poupado. Por exemplo, se ele processa a peça em quatro minutos, recebe a quantia adicional de 1,00. Calcule o ganho médio desse operário POR PEÇA.\r\n",
    "(Dica: construa uma nova variável aleatória a partir da variável aleatória de tempo de produção da peça!)"
   ],
   "metadata": {}
  },
  {
   "cell_type": "markdown",
   "source": [
    "(a) Como você definiria uma distribuição de probabilidade?   \r\n",
    "Uma distribuição de probabilidade é uma função de estatistica com que pode descrever todos os possivéis valores de um certo  range. Ela é baseade numa distribuição(normal/uniform/poisson/t_student..) Esses distribuições podem ser definidos pelo mean (average), standard deviation, skewness e kurtosis\r\n"
   ],
   "metadata": {}
  },
  {
   "cell_type": "markdown",
   "source": [
    "(b) A distribuição acima é contínua ou discreta?\r\n",
    "Ela é discreta, são 7 execuções então uma execução é categorico portanto é discreta."
   ],
   "metadata": {}
  },
  {
   "cell_type": "markdown",
   "source": [
    "(c) Calcule o tempo médio de processamento.   \r\n",
    "A esperança de uma V.A. $X$ é obtida multiplicando-se cada valor de   \r\n",
    "$X = x_i$, $i = 1,..,n$, por sua respectiva probabilidade $P[X = x_i]$, e somando os produtos resultantes:   \r\n",
    "   \r\n",
    "$E(X) = \\sum_{i=1}^n x_i P[X = x_i]$"
   ],
   "metadata": {}
  },
  {
   "cell_type": "code",
   "execution_count": 60,
   "source": [
    "# Valores manuais\r\n",
    "tempos = np.array([2,\t3,\t4,\t5,\t6,\t7])\r\n",
    "valores = np.array([0.1,\t0.1,\t0.3,\t0.2,\t0.2,\t0.1])\r\n",
    "adicional = np.array([4,\t3.5,\t3.0,\t2.5,\t2,\t2])\r\n",
    "plt.bar(x=tempos, height=valores)\r\n",
    "cum = np.cumsum(valores)                 # CDF e PDF não funcionam para distribuições discretas\r\n",
    "print(pd.DataFrame({'Column1':np.multiply(tempos,valores)}).describe())\r\n",
    "pmf = cum / np.amax(cum)\r\n",
    "plt.plot(tempos,pmf,'b--', label=\"PMF\")\r\n",
    "plt.xlabel('min')\r\n",
    "plt.ylabel('probabilidade')\r\n",
    "plt.title(f\"Tempo medio para uma peça {np.round(np.multiply(tempos,valores).sum(),1)} minutos com std {np.round(np.multiply(tempos,valores).std(),4)}\")\r\n",
    "plt.show()\r\n",
    "# print(f\"Tempo medio para uma peça {valores.mean()}\")"
   ],
   "outputs": [
    {
     "output_type": "stream",
     "name": "stdout",
     "text": [
      "        Column1\n",
      "count  6.000000\n",
      "mean   0.766667\n",
      "std    0.441210\n",
      "min    0.200000\n",
      "25%    0.400000\n",
      "50%    0.850000\n",
      "75%    1.150000\n",
      "max    1.200000\n"
     ]
    },
    {
     "output_type": "display_data",
     "data": {
      "text/plain": [
       "<Figure size 432x288 with 1 Axes>"
      ],
      "image/png": "[encoded data removed]"
     },
     "metadata": {
      "needs_background": "light"
     }
    }
   ],
   "metadata": {}
  },
  {
   "cell_type": "markdown",
   "source": [
    "(d) Para cada peça processada, o operário ganha um fixo de 2,00, mas, se ele processa a peça em menos de seis minutos, ganha 0,50 em cada minuto poupado. Por exemplo, se ele processa a peça em quatro minutos, recebe a quantia adicional de 1,00. Calcule o ganho médio desse operário POR PEÇA."
   ],
   "metadata": {}
  },
  {
   "cell_type": "code",
   "execution_count": 61,
   "source": [
    "print(f\"O ganho médio desse operário POR PEÇA: $R {np.round(np.multiply(adicional,valores).sum(),2)}\")"
   ],
   "outputs": [
    {
     "output_type": "stream",
     "name": "stdout",
     "text": [
      "O ganho médio desse operário POR PEÇA: $R 2.75\n"
     ]
    }
   ],
   "metadata": {}
  },
  {
   "cell_type": "markdown",
   "source": [
    "______"
   ],
   "metadata": {}
  },
  {
   "cell_type": "markdown",
   "source": [
    "## Controle Qualidade\n",
    "\n",
    "Um fabricante garante que 90% das peças que fornecem à linha de produção de uma determinada fábrica estão de acordo com as especificações exigidas. A análise de uma amostra de 200 peças revelou 25 defeituosas. A um nível de 5%, podemos dizer que é verdadeira a afirmação do fabricante?"
   ],
   "metadata": {}
  },
  {
   "cell_type": "markdown",
   "source": [
    "### Definição das hipóteses\r\n",
    "\r\n",
    "$$\r\n",
    "    H_0: \\mu \\geq 90\\, \\%\r\n",
    "$$\r\n",
    "\r\n",
    "$$\r\n",
    "    H_1 : \\mu < 90 \\, \\%\r\n",
    "$$"
   ],
   "metadata": {}
  },
  {
   "cell_type": "code",
   "execution_count": 67,
   "source": [
    "n=200\r\n",
    "significancia=0.05\r\n",
    "confianca = 1 - significancia\r\n",
    "media_amostral = 200\r\n",
    "desvio_amostral = 25\r\n",
    "# erro padrão\r\n",
    "\r\n",
    "SE = desvio_amostral / np.sqrt(n)\r\n",
    "# Check das condições do TCL\r\n",
    "print(n>=30)\r\n",
    "\r\n",
    "z = (media_amostral - mu)/SE\r\n",
    "z\r\n",
    "#Calcule o p-value\r\n",
    "p_value = norm.sf(z)*2\r\n",
    "print(p_value)\r\n",
    "p_hat = (200-25)/200\r\n",
    "#Tome uma decisão\r\n",
    "if p_value > p_hat:\r\n",
    "    print(\"Rejeição da H_0!\")\r\n",
    "else:\r\n",
    "    print(\"Falha em rejeitar H_0!\")\r\n",
    "\r\n",
    "\r\n"
   ],
   "outputs": [
    {
     "output_type": "stream",
     "name": "stdout",
     "text": [
      "True\n",
      "0.0\n",
      "Falha em rejeitar H_0!\n"
     ]
    }
   ],
   "metadata": {}
  },
  {
   "cell_type": "code",
   "execution_count": null,
   "source": [],
   "outputs": [],
   "metadata": {}
  },
  {
   "cell_type": "markdown",
   "source": [
    "______"
   ],
   "metadata": {}
  },
  {
   "cell_type": "markdown",
   "source": [
    "## Resistência\n",
    "\n",
    "Na indústria cerâmica, avalia-se sistematicamente a resistência de amostras de massas cerâmicas, após o processo de queima. Dessas avaliações, sabe-se que certo tipo de massa tem resistência mecânica aproximadamente normal, com média 53 MPa e variância populacional de 16 MPa². Após a troca de alguns fornecedores de matérias- primas, deseja-se verificar se houve alteração na qualidade. Uma amostra de 15 corpos de prova de massa cerâmica acusou média igual a 50 MPa. Qual é a conclusão ao nível de significância de 5%?"
   ],
   "metadata": {}
  },
  {
   "cell_type": "markdown",
   "source": [
    "### Definição das hipóteses\r\n",
    "\r\n",
    "$$\r\n",
    "    H_0: \\mu \\geq 53\\, MPa\r\n",
    "$$\r\n",
    "\r\n",
    "$$\r\n",
    "    H_1 : \\mu < 53 \\, MPa\r\n",
    "$$"
   ],
   "metadata": {}
  },
  {
   "cell_type": "code",
   "execution_count": 66,
   "source": [
    "mu=53\r\n",
    "n=15\r\n",
    "media_amostral=50\r\n",
    "desvio_amostral = 16\r\n",
    "significancia=0.05\r\n",
    "\r\n",
    "p_value = norm.cdf(z)\r\n",
    "print(p_value)\r\n",
    "if p_value < significancia:\r\n",
    "    print(\"Rejeição da H_0!\")\r\n",
    "else:\r\n",
    "    print(\"Falha em rejeitar H_0!\")"
   ],
   "outputs": [
    {
     "output_type": "stream",
     "name": "stdout",
     "text": [
      "0.23386287393498356\n",
      "Falha em rejeitar H_0!\n"
     ]
    }
   ],
   "metadata": {}
  },
  {
   "cell_type": "code",
   "execution_count": null,
   "source": [],
   "outputs": [],
   "metadata": {}
  },
  {
   "cell_type": "markdown",
   "source": [
    "______"
   ],
   "metadata": {}
  },
  {
   "cell_type": "markdown",
   "source": [
    "## Confiança Instrumental\n",
    "\n",
    "Os multímetros são aparelhos de medição bastante utilizados. Em um lote de amostras para verificação da qualidade, testaram-se 18 válvulas com o multímetro, para determinar sua tensão. O valor médio amostral encontrado para a tensão foi de 3,2 μV.\n",
    "\n",
    "a) Construa um intervalo de confiança para a tensão média, com nível de confiança de 98%, sabendo que o fabricante das bobinas garante que as tensões são distribuídas segundo uma normal, com variância populacional igual a 3 μV. (Lembre-se que a variância é o quadrado do desvio padrão!)\n",
    "\n",
    "b) Caso a variância não fosse conhecida, como você procederia para construir o intervalo de confiança?"
   ],
   "metadata": {}
  },
  {
   "cell_type": "code",
   "execution_count": 64,
   "source": [
    "from scipy.stats import t as t_student\r\n",
    "n= 18\r\n",
    "variancia = 3\r\n",
    "graus_de_liberdade = n - 1\r\n",
    "sigma = np.sqrt(variancia)\r\n",
    "media_amostral = 3.2\r\n",
    "confianca = 0.98\r\n",
    "significancia = 1 - confianca\r\n",
    "print('Intervalo de confiança da média:', t_student.interval(confianca, loc=media_amostral, scale=sigma/np.sqrt(n), df=graus_de_liberdade))\r\n"
   ],
   "outputs": [
    {
     "output_type": "stream",
     "name": "stdout",
     "text": [
      "Intervalo de confiança da média: (2.1520535894127537, 4.247946410587247)\n"
     ]
    }
   ],
   "metadata": {}
  },
  {
   "cell_type": "code",
   "execution_count": 85,
   "source": [
    "#talvez usando normal e com mean 0 e o significancia 0.02 ?\r\n",
    "mu, sigma = 3.2, 0.02 # mean and standard deviation\r\n",
    "s = np.random.normal(mu, significancia)\r\n",
    "print('Intervalo de confiança da média:', t_student.interval(confianca, loc=s, scale=sigma/np.sqrt(n), df=graus_de_liberdade))"
   ],
   "outputs": [
    {
     "output_type": "stream",
     "name": "stdout",
     "text": [
      "Intervalo de confiança da média: (3.174350463485622, 3.1803179230941776)\n"
     ]
    }
   ],
   "metadata": {}
  },
  {
   "cell_type": "markdown",
   "source": [
    "______"
   ],
   "metadata": {}
  }
 ],
 "metadata": {
  "kernelspec": {
   "name": "python3",
   "display_name": "Python 3.9.0 32-bit"
  },
  "language_info": {
   "codemirror_mode": {
    "name": "ipython",
    "version": 3
   },
   "file_extension": ".py",
   "mimetype": "text/x-python",
   "name": "python",
   "nbconvert_exporter": "python",
   "pygments_lexer": "ipython3",
   "version": "3.9.0"
  },
  "interpreter": {
   "hash": "e922dd073470bdcc017ae3abd31d6491d6ed7bf31c1d559806e5511bfea88b81"
  }
 },
 "nbformat": 4,
 "nbformat_minor": 4
}