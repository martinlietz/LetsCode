{
 "cells": [
  {
   "cell_type": "markdown",
   "metadata": {},
   "source": [
    "# Aula 4 - Teorema Central do Limite\n",
    "\n",
    "Na aula de hoje, vamos explorar os seguintes tópicos em Python:\n",
    "\n",
    "- 1) Teorema Central do Limite\n",
    "\n",
    "Pq o nome? https://mathoverflow.net/questions/44132/what-are-central-limit-theorems-and-why-are-they-called-so"
   ]
  },
  {
   "cell_type": "markdown",
   "metadata": {},
   "source": [
    "___\n",
    "___\n",
    "___"
   ]
  },
  {
   "cell_type": "code",
   "execution_count": 1,
   "metadata": {},
   "outputs": [],
   "source": [
    "import numpy as np\n",
    "import pandas as pd\n",
    "\n",
    "import scipy\n",
    "\n",
    "import matplotlib.pyplot as plt\n",
    "%matplotlib inline\n",
    "\n",
    "import seaborn as sns"
   ]
  },
  {
   "cell_type": "markdown",
   "metadata": {},
   "source": [
    "____\n",
    "____\n",
    "____"
   ]
  },
  {
   "cell_type": "markdown",
   "metadata": {},
   "source": [
    "## 1) Teorema Central do Limite (TCL ou TLC)\n",
    "\n",
    "Esse é um dos teoremas mais poderosos e fundamentais da estatística, porque ele é usado **como base para muitos outros resultados**. \n",
    "\n",
    "A ideia é que muitos dos resultados de inferência estatística são válidos assumindo como hipótese que os dados sob análise (**mais precisamente, os estimadores pontuais**) seguem uma distribuição normal. \n",
    "\n",
    "No entanto, há muitos casos de interesse em que a **distribuição populacional não é normal** -- e, na verdade, não temos como saber com segurança qual é a distribuição populacional, dado que temos apenas acesso às amostras!\n",
    "\n",
    "Assim, a priori, muitos dos resultados e métodos da inferência estatística seriam invalidados, dado que não podemos assegurar qual é a distribuição populacional dos dados que estamos analisando.\n",
    "\n",
    "E é neste contexto que o TCL mostra seu poder e importância, pois ele mostra que **estimadores pontuais de parâmetros populacionais serão normalmente distribuídos, INDEPENDENTE DA DISTRIBUIÇÃO POPULACIONAL!**\n",
    "\n",
    "Vamos enunciá-lo, e depois veremos alguns exemplos:\n",
    "\n",
    "> Seja uma **amostra aleatória** ($x_1, x_2, \\cdots, x_n$) de uma variável aleatória $X$ com **qualquer distribuição**, média $\\mu$ e desvio padrão $\\sigma$. Para $n$ suficientemente grande ($n>30$), a **distribuição das médias amostrais**, $\\overline{X}$, se **aproxima de uma distribuição normal** com média $\\mu_{\\overline{x}} = \\mu$ e erro padrão $SE_{\\overline{X}} = \\frac{\\sigma}{\\sqrt{n}}$. Isto é, $$\\overline{X} \\sim N \\left(\\mu, \\frac{\\sigma}{\\sqrt{n}} \\right)$$\n",
    "OBS.: quando estamos falando do **estimador amostral do desvio padrão**, costumamos usar o termo **erro padrão** (standard error), denotado $SE$.\n",
    "\n",
    "Existe também uma versão do TCL para a **a distribuição de porporções amostrais**:\n",
    "\n",
    "> Seja uma **amostra aleatória** ($x_1, x_2, \\cdots, x_n$) de uma variável aleatória $X$ com **qualquer distribuição**, que tem como parâmetro populacional a proporção $p$. Se $np \\geq 10$ e $n(1-p) \\geq 10$, a **distribuição das proporções amostrais**, $\\hat{p}$, se **aproxima de uma distribuição normal** com média $\\mu_{\\hat{p}} = p$ e erro padrão $SE_{\\hat{p}} = \\sqrt{\\frac{p(1-p)}{n}}$. Isto é, $$\\hat{p} \\sim N \\left(p, \\sqrt{\\frac{p(1-p)}{n}} \\right)$$\n",
    "OBS.: como $p$ em geral é desconhecida, a condição de aplicação pode ser avaliada com: $n\\hat{p} \\geq 10$ e $n(1-\\hat{p}) \\geq 10$. "
   ]
  },
  {
   "cell_type": "markdown",
   "metadata": {},
   "source": [
    "O que o TCL para as médias diz, essencialmente, é:\n",
    "\n",
    "> A distribuição de **médias das amostras** tiradas de **qualquer distribuição populacional** será **aproximadamente normal**, contanto que fizermos uma quantidade razoável de amostras com tamanho amostral $n>30$.\n",
    "\n",
    "E, para as proporções:\n",
    "\n",
    "> A distribuição de **proporções das amostras** tiradas de **qualquer distribuição populacional** será **aproximadamente normal**, contanto que fizermos uma quantidade razoável de amostras com tamanho amostral tal que $np \\geq 10$ e $n(1-p) \\geq 10$.\n",
    "\n",
    "E isso é um resultado fantástico, pois nos permite a construção de uma **distribuição normal**, para a qual vale uma série de resultados e teoremas, a partir de **qualquer distribuição populacional**!\n",
    "\n",
    "Vamos ver alguns exemplos:"
   ]
  },
  {
   "cell_type": "markdown",
   "metadata": {},
   "source": [
    "____"
   ]
  },
  {
   "cell_type": "markdown",
   "metadata": {},
   "source": [
    "__População: Distribuição Uniforme__\n",
    "\n",
    "A **função densidade de probabilidade** da [distribuição uniforme](https://en.wikipedia.org/wiki/Continuous_uniform_distribution) é dada por:\n",
    "\n",
    "$$f(x) = \\left\\{\\begin{matrix}\n",
    "\\frac{1}{b-a} \\ ,  & a \\leq x \\leq b\\\\ \n",
    "0 \\ , & x\\leq a \\ \\text{ou} \\  x \\geq b\n",
    "\\end{matrix}\\right.$$\n",
    "\n",
    "Com:\n",
    "\n",
    "$$ \\mu = \\frac{1}{2}(a + b) $$\n",
    "\n",
    "$$ \\sigma = \\frac{1}{\\sqrt{12}}(b-a) $$"
   ]
  },
  {
   "cell_type": "code",
   "execution_count": 2,
   "metadata": {},
   "outputs": [
    {
     "data": {
      "image/png": "[encoded data removed]",
      "text/plain": [
       "<Figure size 576x360 with 1 Axes>"
      ]
     },
     "metadata": {
      "needs_background": "light"
     },
     "output_type": "display_data"
    },
    {
     "data": {
      "image/png": "[encoded data removed]",
      "text/plain": [
       "<Figure size 576x360 with 1 Axes>"
      ]
     },
     "metadata": {
      "needs_background": "light"
     },
     "output_type": "display_data"
    },
    {
     "name": "stdout",
     "output_type": "stream",
     "text": [
      "\n",
      "###############################################################\n",
      "\n",
      "Média da distribuição populacional: 5.0\n",
      "Desvio padrão da distribuição populacional: 2.886751345948129\n"
     ]
    }
   ],
   "source": [
    "plt.figure(figsize=(8, 5))\n",
    "plt.title(\"Distribuição uniforme\")\n",
    "\n",
    "# x de 0 a 10\n",
    "x = np.linspace(0, 10, 10000)\n",
    "\n",
    "# y = f(x)\n",
    "a = 0\n",
    "b = 10\n",
    "y = np.ones(10000)/(b-a)\n",
    "\n",
    "plt.plot(x, y)\n",
    "plt.axvline(x=0, ymax=0.5)\n",
    "plt.axvline(x=10, ymax=0.5)\n",
    "\n",
    "plt.show()\n",
    "\n",
    "###############################################################\n",
    "\n",
    "plt.figure(figsize=(8, 5))\n",
    "plt.title(\"1.000.000 números aleatórios tirados da distribuição uniforme\")\n",
    "\n",
    "amostra=np.random.random(1000000)*10\n",
    "sns.histplot(x=amostra, stat=\"density\")\n",
    "\n",
    "plt.show()\n",
    "\n",
    "###############################################################\n",
    "\n",
    "print(\"\\n###############################################################\\n\")\n",
    "\n",
    "print(\"Média da distribuição populacional:\", 0.5*(a+b))\n",
    "print(\"Desvio padrão da distribuição populacional:\", (1/np.sqrt(12))*(b-a))"
   ]
  },
  {
   "cell_type": "code",
   "execution_count": 104,
   "metadata": {
    "scrolled": true
   },
   "outputs": [
    {
     "name": "stdout",
     "output_type": "stream",
     "text": [
      "Amostra número 1\n",
      "[5.8511212  1.06546685 1.09043469 8.98836855 1.96205248 2.64218583\n",
      " 4.80296651 3.16865009 7.52043542 6.99979645 7.5044433  7.7166487\n",
      " 5.86006397 0.01173394 8.99149887 7.93948121 8.04287293 6.57755853\n",
      " 1.60979098 4.22363124 1.42812633 2.04839737 5.37049513 2.5646347\n",
      " 2.66494565 1.56806452 9.20756758 1.38421187 1.80499241 2.52682464]\n",
      "\n",
      "Média da amostra: 4.437915397953467\n",
      "\n",
      "########################################################## \n",
      "\n",
      "Amostra número 2\n",
      "[3.77177059 7.76957613 7.12489524 6.33864222 6.95797084 9.61777331\n",
      " 0.57429692 5.39227214 6.24112494 9.53263441 2.72254884 3.44507077\n",
      " 6.31704295 4.51695541 9.29109197 3.98428888 4.61841674 7.36592005\n",
      " 2.14332221 1.52783754 1.10950306 5.01685278 3.77003648 7.69734956\n",
      " 0.07095137 4.62326308 6.88090554 9.79837035 1.37116286 7.84924187]\n",
      "\n",
      "Média da amostra: 5.248036301221964\n",
      "\n",
      "########################################################## \n",
      "\n",
      "Amostra número 3\n",
      "[4.61084542 6.8185052  7.69847359 7.54469628 9.22648292 4.83740539\n",
      " 6.41947873 8.06523195 4.47600623 5.89913575 6.84548952 9.95176322\n",
      " 9.33807732 6.32743189 5.02172275 8.09569831 0.51824809 3.35628164\n",
      " 6.36531014 9.80020337 7.73641666 4.41422129 4.03936592 1.47374323\n",
      " 2.44337254 7.94589706 0.09688772 2.54441309 0.62577356 2.95873525]\n",
      "\n",
      "Média da amostra: 5.516510467197731\n",
      "\n",
      "########################################################## \n",
      "\n",
      "Amostra número 4\n",
      "[5.58222035 2.71738575 1.73009213 7.91234132 3.25818225 2.30225807\n",
      " 6.46708132 4.5534234  9.44863421 2.33713337 8.90221022 7.24006191\n",
      " 0.75320174 8.92565519 6.72522213 0.39531395 5.82570404 0.26330357\n",
      " 0.18194941 0.49471198 2.91934635 5.53348489 1.2783502  7.8862283\n",
      " 5.02039246 6.03199792 0.52362588 6.32622477 1.08961419 0.64507357]\n",
      "\n",
      "Média da amostra: 4.10901416167132\n",
      "\n",
      "########################################################## \n",
      "\n",
      "Amostra número 5\n",
      "[4.08352166 9.84622748 1.29281314 1.00384871 9.33159154 2.33582336\n",
      " 2.26939847 6.99490029 6.4548665  9.45615812 7.849333   1.09641255\n",
      " 6.74249343 1.15871466 0.28657174 9.38849396 3.78642407 3.53305872\n",
      " 5.22436612 5.46260848 7.14819444 8.60239914 9.29559206 9.62229588\n",
      " 5.56352167 3.43184543 2.13025722 4.56185065 7.42035884 2.16544992]\n",
      "\n",
      "Média da amostra: 5.2513130420232\n",
      "\n",
      "########################################################## \n",
      "\n",
      "Amostra número 6\n",
      "[1.7534849  9.36962484 8.22662784 0.33334604 9.17456502 7.44543557\n",
      " 0.0180297  2.26718609 8.92582421 0.24947285 5.39106057 7.96086646\n",
      " 5.50174145 8.32901834 1.09397641 0.78834553 4.0546822  4.64277327\n",
      " 6.40506003 6.28340777 5.42305109 9.97303421 8.46087248 3.86210933\n",
      " 5.20884242 3.61690732 4.06857341 7.81721641 6.63005868 6.59777424]\n",
      "\n",
      "Média da amostra: 5.329098955929254\n",
      "\n",
      "########################################################## \n",
      "\n",
      "Amostra número 7\n",
      "[2.96907975 4.47825719 5.00682582 9.12337059 0.5008488  5.85410056\n",
      " 0.36702859 1.90314636 4.90769358 9.23195741 0.27768614 3.62380411\n",
      " 3.94025265 2.98295636 3.85357563 0.71123421 9.16090141 7.64362263\n",
      " 9.36718399 7.07358912 2.26298173 2.08442218 7.55506816 8.07155772\n",
      " 7.42615381 3.77928607 9.98249426 5.53223529 2.055536   6.43594979]\n",
      "\n",
      "Média da amostra: 4.938759996420455\n",
      "\n",
      "########################################################## \n",
      "\n",
      "Amostra número 8\n",
      "[1.62692571 8.27812352 1.570743   4.25627514 3.52933339 3.32223458\n",
      " 0.76861948 1.48752173 7.17461245 1.80001964 2.3820568  5.92299163\n",
      " 1.50808586 1.2690995  5.55705903 2.11237442 7.93704895 0.74879751\n",
      " 2.12274624 0.16423292 1.5038874  8.39408399 4.12359224 5.82444793\n",
      " 0.5375994  7.69287067 4.31973864 5.0566393  3.06635382 6.51183909]\n",
      "\n",
      "Média da amostra: 3.6856651334655495\n",
      "\n",
      "########################################################## \n",
      "\n",
      "Amostra número 9\n",
      "[4.00851295 4.54952135 5.38245473 9.05542276 2.66693031 3.16075255\n",
      " 8.62003033 5.38693087 4.38918998 3.85124398 4.14551584 6.04497528\n",
      " 3.86652759 6.51337635 3.84248273 2.64556202 0.86760282 8.14894419\n",
      " 6.83873787 0.57203689 8.32648214 5.053616   7.57308201 5.52124529\n",
      " 2.80452031 3.41260016 1.28716215 0.31209233 7.25884595 3.46788899]\n",
      "\n",
      "Média da amostra: 4.652476224172238\n",
      "\n",
      "########################################################## \n",
      "\n",
      "Amostra número 10\n",
      "[0.31174935 7.5248389  8.61677318 0.68009751 9.4383586  2.79498721\n",
      " 2.03949662 8.62091739 9.5303028  2.47084991 0.20583054 8.6268867\n",
      " 3.94662792 0.59600033 5.37027056 6.68012838 3.48115859 8.19434158\n",
      " 0.03359945 9.70742142 4.52504212 0.05013449 0.48690107 1.7612531\n",
      " 8.24697814 8.43617224 2.91183059 8.88088275 2.1819769  1.68215734]\n",
      "\n",
      "Média da amostra: 4.601132189927737\n",
      "\n",
      "########################################################## \n",
      "\n",
      "Amostra número 11\n",
      "[4.86741239 4.57846558 1.52917451 1.01193608 9.27597714 6.09435786\n",
      " 2.12943776 4.15003467 7.25393136 1.99143796 0.0369909  6.62918625\n",
      " 8.04316108 2.85740171 5.58974989 4.40965006 0.46157054 7.92752764\n",
      " 1.4774223  3.01955502 1.6699971  7.26378093 8.12552417 3.51515998\n",
      " 7.54765214 3.70829185 0.89274446 1.11640531 9.56986829 1.32850096]\n",
      "\n",
      "Média da amostra: 4.2690768629818745\n",
      "\n",
      "########################################################## \n",
      "\n",
      "Amostra número 12\n",
      "[8.0122065  7.63977234 9.34042481 1.22525231 3.82379462 4.41514428\n",
      " 6.92564278 8.64948545 6.42317003 5.74574845 2.93684073 3.0581064\n",
      " 2.62681539 8.50643584 2.50680007 8.28760724 0.7603897  1.69945095\n",
      " 4.59436496 5.01559834 7.49092327 4.05148361 2.19752604 0.15268776\n",
      " 7.18210049 4.76801524 5.4337376  4.7544909  2.57754594 3.65646178]\n",
      "\n",
      "Média da amostra: 4.815267460530692\n",
      "\n",
      "########################################################## \n",
      "\n",
      "Amostra número 13\n",
      "[9.21467956 7.15564136 6.60989161 7.58739004 7.40914844 9.1161979\n",
      " 7.12409309 7.09973484 8.94365883 0.02501779 0.53753632 1.84991148\n",
      " 1.92138265 6.55090486 9.67140814 8.48222432 9.73114296 3.01939727\n",
      " 2.1752465  6.78459828 5.4078973  8.86109407 3.68150559 9.91849398\n",
      " 8.28061711 6.25516487 0.53020314 6.11933102 1.76834716 3.39949063]\n",
      "\n",
      "Média da amostra: 5.841045036865186\n",
      "\n",
      "########################################################## \n",
      "\n",
      "Amostra número 14\n",
      "[5.04869491 1.24477482 1.28933759 9.52959459 5.96194203 2.0130753\n",
      " 2.34389603 5.5549019  6.71354636 9.26485022 1.9974439  5.87216244\n",
      " 2.42956855 1.2217944  7.76292481 8.43174667 8.5371159  8.43463929\n",
      " 5.03579957 0.22323551 1.30755735 4.69748217 9.13662881 5.10188504\n",
      " 9.15578279 2.22778336 6.36958945 5.59334335 9.86424399 3.25784624]\n",
      "\n",
      "Média da amostra: 5.187439578334935\n",
      "\n",
      "########################################################## \n",
      "\n",
      "Amostra número 15\n",
      "[0.0957485  6.71330102 3.74695072 1.52986503 4.05484336 0.79480819\n",
      " 0.93349925 9.96175165 4.26347964 8.56436022 7.20900731 1.96647701\n",
      " 4.23608827 4.54579689 6.9656812  2.93428037 8.49825882 0.71871593\n",
      " 4.3521409  8.21076935 1.31018294 1.99702685 9.12038734 5.14433452\n",
      " 0.24510608 0.38537687 2.71648206 8.74347647 9.8513789  7.86031587]\n",
      "\n",
      "Média da amostra: 4.588996384205656\n",
      "\n",
      "########################################################## \n",
      "\n",
      "Amostra número 16\n",
      "[8.16185974 2.51516978 5.20023719 2.77406346 0.8402091  3.33497378\n",
      " 5.62525765 7.17249396 1.10874081 9.1302636  5.06340945 2.06642512\n",
      " 2.63144538 4.79850742 2.04743582 0.06087712 1.50395239 4.17777878\n",
      " 2.94391903 1.32262738 5.35262326 3.54711483 1.0612289  9.39374925\n",
      " 0.0850218  9.35223334 3.24230903 6.48357096 1.44657805 2.06625273]\n",
      "\n",
      "Média da amostra: 3.8170109696005494\n",
      "\n",
      "########################################################## \n",
      "\n",
      "Amostra número 17\n",
      "[4.46364479 5.86541488 4.31567344 4.4387671  4.49313727 8.03841806\n",
      " 9.48539339 1.14498593 0.79147816 1.6383181  3.05108888 5.20716325\n",
      " 8.23662081 1.29395593 5.08745608 7.73751074 0.66307498 6.20980085\n",
      " 7.96997507 9.49215    9.583042   3.22278151 8.22687025 9.20791419\n",
      " 6.96205313 2.66854973 2.1276623  4.67734463 4.74173285 5.57651511]\n",
      "\n",
      "Média da amostra: 5.220616447093875\n",
      "\n",
      "########################################################## \n",
      "\n",
      "Amostra número 18\n",
      "[0.70765166 9.20826573 4.04522787 6.8433396  7.00089501 2.74976621\n",
      " 0.90240238 5.85090368 2.8043385  5.12140634 1.74757034 8.01544516\n",
      " 5.06318236 6.16788448 8.02417299 5.03369509 3.04936492 2.13809621\n",
      " 5.81193604 1.20966708 3.26456548 1.24104937 4.64554257 5.08861722\n",
      " 5.8342076  1.66378463 1.79997074 8.94299506 3.85218397 4.49622482]\n",
      "\n",
      "Média da amostra: 4.4108117698807146\n",
      "\n",
      "########################################################## \n",
      "\n",
      "Amostra número 19\n",
      "[2.21481343 8.02992059 9.47794553 4.2278773  4.83338787 4.2919857\n",
      " 0.3501824  8.71623797 7.06744916 9.02521773 1.01234969 2.73291681\n",
      " 8.70515619 4.5285048  5.60983483 3.59563831 9.17378249 0.32300323\n",
      " 2.76578464 0.31478493 9.23685723 3.22095696 6.88870046 4.96009969\n",
      " 0.3726831  4.95701259 0.8235682  0.35529935 5.97168352 4.32909219]\n",
      "\n",
      "Média da amostra: 4.603757563412149\n",
      "\n",
      "########################################################## \n",
      "\n",
      "Amostra número 20\n",
      "[5.64986528 8.63134173 8.33337659 3.97183072 9.9099323  7.14166489\n",
      " 1.85885932 9.67901681 3.48347908 4.39792616 6.30941662 3.36798273\n",
      " 2.81585289 9.32381661 7.76543792 8.57851415 1.56915483 4.09112325\n",
      " 3.02364364 7.49042397 0.44042187 2.12973997 0.47116179 7.31512215\n",
      " 1.72931778 5.6622352  4.86580045 8.61537126 8.87203974 8.86058865]\n",
      "\n",
      "Média da amostra: 5.545148611223126\n",
      "\n",
      "########################################################## \n",
      "\n",
      "Amostra número 21\n",
      "[1.21115988 8.67389576 3.33272321 0.24513901 4.40761175 7.30025421\n",
      " 9.90957884 9.68942137 4.06127363 8.22396721 6.48234883 3.63239962\n",
      " 9.40739137 6.15051927 0.42581552 9.26823557 7.20986648 3.007362\n",
      " 8.49225979 0.13101321 0.04610703 5.8941495  2.8215464  2.46606044\n",
      " 8.11034067 3.7711743  8.05649401 5.11679787 4.14165667 5.8089669 ]\n",
      "\n",
      "Média da amostra: 5.24985101103532\n",
      "\n",
      "########################################################## \n",
      "\n",
      "Amostra número 22\n",
      "[5.21466764 1.25409643 9.70107926 3.57115464 8.22984775 3.17092917\n",
      " 1.39145059 4.47422611 5.17896573 4.83887951 7.94827268 6.55485563\n",
      " 9.30984589 7.9461956  5.84881772 9.09318902 5.34437145 8.65873993\n",
      " 3.47326969 7.68243244 8.57072758 3.78361263 4.96806662 6.15335233\n",
      " 0.28740948 1.59630628 9.39709685 3.36496965 1.69298061 5.45776006]\n",
      "\n",
      "Média da amostra: 5.471918965408435\n",
      "\n",
      "########################################################## \n",
      "\n",
      "Amostra número 23\n",
      "[1.31202053 5.22943586 0.84877692 5.98738484 1.662689   2.28473173\n",
      " 7.9567802  7.9750973  2.38062949 0.88728897 1.27122249 1.70487512\n",
      " 1.85106715 7.92362699 6.61558333 0.91240313 2.09695961 0.76608516\n",
      " 9.16211939 9.77636824 3.50603118 8.1821828  3.9074551  8.42529526\n",
      " 6.83052164 5.01730844 8.17950754 4.83818184 1.43354326 3.78637284]\n",
      "\n",
      "Média da amostra: 4.423718178743725\n",
      "\n",
      "########################################################## \n",
      "\n",
      "Amostra número 24\n",
      "[5.09342547 8.48783295 2.61834958 3.95990691 6.17342062 2.18038281\n",
      " 2.64746582 5.45927089 2.42388533 3.71147161 7.62135701 9.22507219\n",
      " 3.86807746 6.69714147 3.49109693 1.50711124 5.72045839 9.09193908\n",
      " 1.68395009 5.4197897  6.73622779 4.53333596 8.55008254 7.78260804\n",
      " 3.28084986 7.06508248 1.29485078 1.16503636 1.48705157 5.423651  ]\n",
      "\n",
      "Média da amostra: 4.813339398060182\n",
      "\n",
      "########################################################## \n",
      "\n",
      "Amostra número 25\n",
      "[3.02476295 2.91835699 7.27992635 2.15014389 8.76305313 1.05132455\n",
      " 2.7404774  6.91115916 1.55325074 8.82802575 5.84179273 8.41571857\n",
      " 0.83862992 4.99141892 9.80518416 1.90002903 8.85218507 7.45658431\n",
      " 4.70969118 2.9773643  4.36753224 6.05143793 3.93077396 3.24864437\n",
      " 1.95282975 7.05017228 7.9658128  0.56352388 8.98877475 3.66078418]\n",
      "\n",
      "Média da amostra: 4.959645508052461\n",
      "\n",
      "########################################################## \n",
      "\n",
      "Amostra número 26\n",
      "[3.9370079  7.05685137 8.28243104 5.02683875 5.46930245 3.52143408\n",
      " 2.26841161 5.12662351 5.13411632 5.52284597 3.56748818 8.07641014\n",
      " 7.08165079 2.47192958 1.38973953 0.05372236 4.31968838 0.6555617\n",
      " 7.50496697 8.04726174 8.46355633 2.53826287 9.21444354 5.85772366\n",
      " 9.44551396 4.41144262 0.28364243 4.51183978 2.53530509 5.24990807]\n",
      "\n",
      "Média da amostra: 4.900864024090178\n",
      "\n",
      "########################################################## \n",
      "\n",
      "Amostra número 27\n",
      "[0.21271434 9.51156898 5.03703166 5.25409546 5.92157924 5.66122523\n",
      " 9.47602464 5.95541438 1.63276189 6.31557191 9.04129922 4.40131928\n",
      " 8.13209681 2.82286323 8.19184934 5.62966951 4.17627278 0.80621765\n",
      " 1.05836158 5.66123475 6.79097614 8.99410824 9.80442184 5.13912892\n",
      " 8.29571411 2.91636976 7.84632785 8.56895127 7.90138891 1.02464805]\n",
      "\n",
      "Média da amostra: 5.739373565930619\n",
      "\n",
      "########################################################## \n",
      "\n",
      "Amostra número 28\n",
      "[3.38645257 5.01285808 5.39154511 3.43810564 1.12219272 0.10936301\n",
      " 6.73045032 3.16473858 0.53149413 3.70989612 6.22649199 3.16119086\n",
      " 7.67242961 1.8030012  0.40340451 2.28581754 2.3021495  3.85442924\n",
      " 2.40621637 3.4703476  3.41922836 7.9624359  4.47282833 7.41495291\n",
      " 7.45703108 6.40637525 9.92263521 0.50905384 2.48962253 5.82825881]\n",
      "\n",
      "Média da amostra: 4.068833232025534\n",
      "\n",
      "########################################################## \n",
      "\n",
      "Amostra número 29\n",
      "[6.80759106 9.96441562 1.94962021 3.47743325 3.62791126 3.72844669\n",
      " 3.47608535 6.27532092 4.21480576 9.55759365 9.58407973 2.04488848\n",
      " 9.71147584 3.54152871 3.23628787 8.91155097 6.54142805 6.68678621\n",
      " 3.6344459  6.80833242 9.06014253 6.53924162 3.37844228 4.73465308\n",
      " 2.54214099 9.22512323 0.56525095 0.07508455 8.82896172 9.50802903]\n",
      "\n",
      "Média da amostra: 5.607903265580076\n",
      "\n",
      "########################################################## \n",
      "\n",
      "Amostra número 30\n",
      "[6.05969087 8.97581517 9.38506296 1.90722953 9.078474   0.8024747\n",
      " 8.87570459 3.94651989 4.65674376 0.31948451 6.77271563 5.54132484\n",
      " 1.29440017 9.70781294 7.03205282 8.76472936 4.62986734 2.72240062\n",
      " 3.69684651 5.67411414 8.56600986 4.85419679 6.80592121 2.28830482\n",
      " 5.44080809 5.96934682 2.73352634 2.93965167 6.60758262 9.2897491 ]\n",
      "\n",
      "Média da amostra: 5.511285389712888\n",
      "\n",
      "########################################################## \n",
      "\n",
      "Amostra número 31\n",
      "[0.58581597 8.52569667 8.83041974 5.09299803 3.06336198 4.83837239\n",
      " 4.34322213 6.62207735 4.99410215 1.35451961 3.86083818 0.13278075\n",
      " 6.76103573 4.63729895 8.78926028 1.79252155 4.51441694 1.74583078\n",
      " 0.84825963 6.99784741 7.78857401 9.69689513 2.96730764 8.01952414\n",
      " 8.01600876 5.58416779 1.27829167 9.4553822  9.62658198 0.1832753 ]\n",
      "\n",
      "Média da amostra: 5.031556160797175\n",
      "\n",
      "########################################################## \n",
      "\n",
      "Amostra número 32\n",
      "[4.86376599 4.54984017 9.72624349 0.3721848  2.20975048 0.5501681\n",
      " 9.39955312 4.94026611 8.9836589  0.33234588 9.45563587 8.71869368\n",
      " 4.03106056 2.50339342 6.54243332 4.028138   7.94719917 2.03900876\n",
      " 1.54485646 1.4699429  6.50605071 8.5886904  5.90951138 8.32087122\n",
      " 8.12475738 7.7866439  3.78293281 2.8480202  4.88073709 9.8373553 ]\n",
      "\n",
      "Média da amostra: 5.3597903192859055\n",
      "\n",
      "########################################################## \n",
      "\n",
      "Amostra número 33\n",
      "[5.24749078 8.07933789 2.71114936 5.24301509 6.39485438 4.17361314\n",
      " 9.03509188 0.29555632 6.75003582 0.28395714 9.48571031 1.64507009\n",
      " 1.18879498 4.23619933 2.91331742 5.98448207 0.04576593 3.06792219\n",
      " 7.81343551 8.69943169 4.6720625  3.8908713  0.51875152 1.50231518\n",
      " 4.08058074 7.40371991 0.95928976 7.48706431 8.14020717 4.80654075]\n",
      "\n",
      "Média da amostra: 4.558521148648766\n",
      "\n",
      "########################################################## \n",
      "\n",
      "Amostra número 34\n",
      "[5.23641122 4.67014993 5.52159602 1.71149536 3.88017976 5.35787594\n",
      " 6.25660149 3.5486727  8.51588187 1.02881367 2.96427239 3.75798544\n",
      " 2.45139408 3.63586374 2.95906282 1.52915405 7.2609668  5.7796605\n",
      " 6.29911537 7.66911345 4.48763813 3.73971256 8.82566423 7.94537188\n",
      " 8.14607564 7.86590548 1.1301076  4.05202958 9.07945731 6.88807209]\n",
      "\n",
      "Média da amostra: 5.07314336956668\n",
      "\n",
      "########################################################## \n",
      "\n",
      "Amostra número 35\n",
      "[8.2459537  0.22600016 8.06976767 5.08821686 6.80495241 2.88728126\n",
      " 8.28746364 4.99895705 8.22644073 5.9617581  3.75166154 3.78766086\n",
      " 3.4372031  2.71942848 8.51234416 4.77929483 0.13790983 0.01170758\n",
      " 4.31513175 1.54507375 4.87468723 4.06386411 3.22960822 3.74718968\n",
      " 0.88366034 2.28304147 7.12765777 9.47898894 9.29056346 1.60030454]\n",
      "\n",
      "Média da amostra: 4.612459107045973\n",
      "\n",
      "########################################################## \n",
      "\n",
      "Amostra número 36\n",
      "[4.19824687 6.01172193 2.65413089 8.79974761 2.94164424 9.92705556\n",
      " 1.0061329  2.66511849 1.82611827 7.89325929 6.5707681  9.89031188\n",
      " 4.58021376 6.12632265 8.19991528 7.40353619 3.08724777 5.29121205\n",
      " 6.10300279 8.48409036 2.58131348 5.60095832 1.61890848 2.61241006\n",
      " 9.43400959 2.30490227 1.09743096 3.98751338 5.0029461  6.77621106]\n",
      "\n",
      "Média da amostra: 5.155880019172785\n",
      "\n",
      "########################################################## \n",
      "\n",
      "Amostra número 37\n",
      "[4.10468018 7.88153133 5.87390771 0.45111819 4.77486804 6.35697469\n",
      " 2.44036391 1.17086624 4.55158997 8.62610844 1.7934899  9.04592351\n",
      " 6.13162108 3.70393306 4.50780636 5.78366362 4.39714226 6.23712435\n",
      " 6.34659941 8.69598569 8.01188434 3.55810055 8.49749207 3.9361368\n",
      " 2.41642492 3.2640405  9.93900831 3.20419942 2.57380314 7.72930574]\n",
      "\n",
      "Média da amostra: 5.200189790075105\n",
      "\n",
      "########################################################## \n",
      "\n",
      "Amostra número 38\n",
      "[1.92681416 7.18308322 2.41913406 8.40439302 3.41712444 2.55757268\n",
      " 7.45294379 4.72184697 6.68543663 0.56443002 8.71855827 9.86529388\n",
      " 1.78401193 7.0336656  8.02410624 0.85241621 1.70575731 3.32284124\n",
      " 0.93834964 7.22861458 0.62900821 3.82041977 7.55126217 2.90753481\n",
      " 5.54584497 7.57283456 5.58176123 0.47171521 9.25272783 8.54894885]\n",
      "\n",
      "Média da amostra: 4.889615050167797\n",
      "\n",
      "########################################################## \n",
      "\n",
      "Amostra número 39\n",
      "[5.81340423 1.64982375 0.49509009 1.13090664 6.11690539 6.40478091\n",
      " 1.00987919 4.09450719 7.32726883 9.1008193  1.79938604 7.01677914\n",
      " 5.54527312 9.82665269 1.29984564 3.58805699 3.78261329 2.34590965\n",
      " 6.19503537 5.6732763  1.98815651 4.55030539 5.31878355 6.99679649\n",
      " 5.65109616 5.72455917 5.04028788 0.28042877 4.59771327 5.99223778]\n",
      "\n",
      "Média da amostra: 4.545219290141407\n",
      "\n",
      "########################################################## \n",
      "\n",
      "Amostra número 40\n",
      "[0.77957823 9.05951691 2.6859226  4.65442814 6.72083938 0.176778\n",
      " 2.00526987 9.56206826 2.74058854 5.63766498 8.81860567 9.74990868\n",
      " 8.94960585 7.35685206 1.43004709 3.25131867 5.49318401 5.81469705\n",
      " 3.69346811 6.78576493 5.78012462 2.2284691  2.3836132  8.3664722\n",
      " 8.91964098 2.09740696 6.86262899 8.09520467 1.24161999 1.46163246]\n",
      "\n",
      "Média da amostra: 5.0934306741024935\n",
      "\n",
      "########################################################## \n",
      "\n",
      "Amostra número 41\n",
      "[7.11741782 4.74932674 3.28949636 7.95025075 7.93987592 1.39491029\n",
      " 5.9020574  2.67496373 2.94977194 8.68150942 2.78052495 7.85456615\n",
      " 7.8784626  6.90727082 7.17506391 0.48174056 1.94368634 1.73984222\n",
      " 9.46841597 9.51997918 7.88958519 0.33574658 2.5459103  8.14534515\n",
      " 0.46833898 3.39329925 4.40156537 8.41827267 7.10561317 1.31046266]\n",
      "\n",
      "Média da amostra: 5.0804424134808075\n",
      "\n",
      "########################################################## \n",
      "\n",
      "Amostra número 42\n",
      "[5.69125365 7.53434867 8.07888015 1.49454331 2.5386255  2.5285016\n",
      " 9.26392901 1.99281208 3.40252224 4.94335212 4.24524824 3.60219194\n",
      " 2.21964523 1.7060213  6.65099806 5.48499003 3.92146568 6.39623577\n",
      " 8.06672526 4.01395852 0.40386239 6.42864404 6.92730341 0.72867274\n",
      " 0.76058404 1.73154331 0.46156097 7.23122258 8.20146737 5.72417295]\n",
      "\n",
      "Média da amostra: 4.412509405577451\n",
      "\n",
      "########################################################## \n",
      "\n",
      "Amostra número 43\n",
      "[7.24008651 8.83572559 8.84642117 8.15663074 8.16352839 8.58482735\n",
      " 0.66563043 8.38219404 3.40010521 0.43726281 5.7167994  6.19300905\n",
      " 8.01092367 4.47669864 3.89469119 5.87326768 1.20566955 3.83393023\n",
      " 0.21723584 7.64828907 5.98628298 7.76942746 7.95487632 3.00717315\n",
      " 7.36363309 0.47261126 8.48048676 0.14598369 0.76658103 8.41475053]\n",
      "\n",
      "Média da amostra: 5.338157760963429\n",
      "\n",
      "########################################################## \n",
      "\n",
      "Amostra número 44\n",
      "[9.69559347 0.27179299 7.3004406  8.85774642 4.51333237 4.1234599\n",
      " 7.64741528 4.87069371 1.78903771 3.30364342 7.08593925 3.71153584\n",
      " 8.70972336 4.28086818 7.52782647 1.30092624 6.65483412 4.6132751\n",
      " 6.64744331 4.21003066 4.08168958 2.7090746  8.95107686 7.35189339\n",
      " 7.67107124 9.82701971 7.52391337 7.64589889 7.21048249 2.90807163]\n",
      "\n",
      "Média da amostra: 5.7665250049817605\n",
      "\n",
      "########################################################## \n",
      "\n",
      "Amostra número 45\n",
      "[8.30124599 3.40150076 4.54229116 1.08526088 4.73124031 3.03128598\n",
      " 9.99603481 7.62748052 5.88724313 2.58611805 2.48068187 1.49786095\n",
      " 6.80546972 4.61223633 4.24826036 6.58548411 0.36814793 3.76339889\n",
      " 0.58701057 7.10690658 1.57970412 6.35878048 6.81345883 4.35270624\n",
      " 2.15197557 9.56703735 1.74462932 1.19739193 9.88426426 8.34914546]\n",
      "\n",
      "Média da amostra: 4.708141748374398\n",
      "\n",
      "########################################################## \n",
      "\n",
      "Amostra número 46\n",
      "[7.65132123 6.4659945  0.26973469 5.99216687 8.55486835 8.78835813\n",
      " 4.70132876 9.25292029 0.05262083 7.02092365 4.45428685 7.88164809\n",
      " 7.71271701 8.56314031 4.53290515 6.06168059 6.89574894 2.9245475\n",
      " 3.86154551 9.7713134  1.86902146 9.27828932 9.82929424 9.22916822\n",
      " 0.49860151 3.5390845  7.96826752 6.24273449 1.96966098 2.78567666]\n",
      "\n",
      "Média da amostra: 5.820652318149633\n",
      "\n",
      "########################################################## \n",
      "\n",
      "Amostra número 47\n",
      "[5.66307942e+00 3.25757427e+00 9.46344742e+00 5.15086110e+00\n",
      " 8.59507030e+00 1.93690663e+00 1.59089669e+00 8.13766806e+00\n",
      " 8.38307900e+00 5.87616054e+00 7.93077519e+00 7.45005572e+00\n",
      " 9.77047194e+00 3.84351347e+00 2.24016807e+00 3.08485199e-01\n",
      " 5.42560413e+00 8.82052145e+00 4.94853773e+00 9.14473749e+00\n",
      " 6.56468286e+00 8.58606815e+00 8.52795779e+00 5.31186921e+00\n",
      " 4.04549147e+00 6.19228120e-03 7.83303455e+00 5.39514835e+00\n",
      " 9.89029923e+00 8.90325381e-01]\n",
      "\n",
      "Média da amostra: 5.832956102597939\n",
      "\n",
      "########################################################## \n",
      "\n",
      "Amostra número 48\n",
      "[1.21470658 7.09165195 1.66338816 5.53104033 5.13738669 3.55197334\n",
      " 3.10916357 8.50620677 5.85410065 5.36594369 5.83170818 1.6168495\n",
      " 2.92092175 8.5789807  0.22368362 6.97885749 9.59087046 8.68294121\n",
      " 0.56557022 1.64607639 0.51463462 9.95730026 5.81920942 2.5618834\n",
      " 9.34102387 7.65439875 8.98445249 5.41400983 3.9702859  4.10347815]\n",
      "\n",
      "Média da amostra: 5.066089931590513\n",
      "\n",
      "########################################################## \n",
      "\n",
      "Amostra número 49\n",
      "[6.07635456 8.44505134 5.62523935 8.41548151 6.3275986  7.00793395\n",
      " 3.69489181 9.87072489 5.8083559  1.37648824 7.68437785 0.73155614\n",
      " 3.30555594 1.48499471 9.21639974 1.37001018 2.77592786 2.71061063\n",
      " 0.38758213 5.37160781 7.73469704 3.57892279 6.84736698 4.84160412\n",
      " 1.76302182 1.04341014 7.89253806 0.63259674 2.03273412 4.17455209]\n",
      "\n",
      "Média da amostra: 4.607606235049665\n",
      "\n",
      "########################################################## \n",
      "\n",
      "Amostra número 50\n",
      "[4.63511355 0.51675726 0.63998503 9.78554482 9.09635017 5.80182215\n",
      " 3.25272996 2.89010714 6.25997648 4.31955051 6.50236532 9.96281972\n",
      " 0.46932674 8.41139725 8.61423372 8.78689039 5.35231104 3.63095842\n",
      " 4.72489713 9.3081508  6.17947213 3.63584018 8.13036943 8.1659466\n",
      " 3.97664869 0.16102148 0.10225567 2.15446932 9.29696626 0.06141587]\n",
      "\n",
      "Média da amostra: 5.160856441108667\n",
      "\n",
      "########################################################## \n",
      "\n",
      "Amostra número 51\n",
      "[1.74610366 1.00479043 1.04054179 6.63726106 1.45609794 8.2078427\n",
      " 0.26766143 2.82857655 3.96894994 5.02464295 0.4344144  1.1535068\n",
      " 5.70985487 9.66476213 9.61170527 5.77365864 7.00559349 6.05722524\n",
      " 5.58761461 5.22376856 1.21366409 2.7564277  6.69374614 7.40972333\n",
      " 5.22669848 5.18068307 5.12656466 7.32741306 5.00685051 3.33982093]\n",
      "\n",
      "Média da amostra: 4.589538814768329\n",
      "\n",
      "########################################################## \n",
      "\n",
      "Amostra número 52\n",
      "[4.51565825 9.64108447 9.50516017 0.95732481 2.78305798 1.94008368\n",
      " 1.83876195 1.74962516 1.39739    3.52203771 7.96483245 2.5119066\n",
      " 5.98175102 5.50472187 9.18717413 7.02749978 8.65570935 7.91969028\n",
      " 3.82218942 2.82880364 4.65934468 5.401031   8.8445237  7.89383825\n",
      " 1.2631844  4.39067583 3.08269352 1.62517752 4.75761881 7.23277409]\n",
      "\n",
      "Média da amostra: 4.946844150023038\n",
      "\n",
      "########################################################## \n",
      "\n",
      "Amostra número 53\n",
      "[4.99285039 4.12871291 8.83852973 6.9583597  1.91392986 1.63978151\n",
      " 5.53154203 6.82633455 9.31797923 2.8240965  8.07383386 1.33024685\n",
      " 2.09884191 1.81527876 6.20135959 2.03525828 4.20916279 7.46242109\n",
      " 2.48962427 4.171008   1.82136684 2.89917749 8.46590465 4.60969283\n",
      " 7.93850811 1.04144972 8.52080514 5.70159544 8.22867405 3.72004612]\n",
      "\n",
      "Média da amostra: 4.860212406639403\n",
      "\n",
      "########################################################## \n",
      "\n",
      "Amostra número 54\n",
      "[5.57057934 2.30133095 5.63446036 2.51356557 1.77846247 5.43671162\n",
      " 4.31517643 7.91875569 6.83330832 9.16061327 9.13783372 2.20808436\n",
      " 5.88117924 9.26478346 4.41200742 1.89085999 8.51976468 4.92639583\n",
      " 8.10145666 7.66625963 4.02002257 2.48538386 5.49172952 2.09184188\n",
      " 4.39178227 9.75704378 7.39930793 3.97996777 2.35681437 3.47198314]\n",
      "\n",
      "Média da amostra: 5.297248870307947\n",
      "\n",
      "########################################################## \n",
      "\n",
      "Amostra número 55\n",
      "[7.66773578 2.57545829 7.96363922 3.98355996 0.58288692 5.28836342\n",
      " 2.06728536 0.9868725  1.32988359 2.45176983 0.82867427 3.33132017\n",
      " 7.54092585 5.42352345 9.59695238 7.92509687 7.06742785 0.78631685\n",
      " 3.53395439 7.5998754  4.05641466 7.88253119 5.25473417 5.91459984\n",
      " 5.21897605 2.09343962 6.51033575 7.12800716 1.52190642 5.3284127 ]\n",
      "\n",
      "Média da amostra: 4.648029329791194\n",
      "\n",
      "########################################################## \n",
      "\n",
      "Amostra número 56\n",
      "[5.10538995 1.67558222 9.64020123 4.77271131 6.98354944 1.30901851\n",
      " 6.23054948 1.04993889 7.97836931 3.49698989 3.9935916  0.40963861\n",
      " 1.91128197 6.30178694 2.0254538  8.41521123 7.50775073 3.07343735\n",
      " 2.13813805 1.88237299 9.06048778 6.56733528 4.73224639 9.88916301\n",
      " 2.32882566 8.90913919 4.84160226 0.77410349 4.71072746 2.01612614]\n",
      "\n",
      "Média da amostra: 4.6576906728163125\n",
      "\n",
      "########################################################## \n",
      "\n",
      "Amostra número 57\n",
      "[3.41324107 7.28042496 7.36523763 0.72845763 5.64421187 3.54815016\n",
      " 4.03734604 3.36007193 7.82407276 0.40710103 8.97493131 4.1702841\n",
      " 8.2633441  9.15267006 0.82924844 7.75224751 9.45507996 4.63685005\n",
      " 0.45442534 4.90519591 0.11411268 6.33846696 7.13346637 6.51702179\n",
      " 8.39407656 9.32490729 5.98441649 7.82021687 4.43850995 8.54483442]\n",
      "\n",
      "Média da amostra: 5.560420707939754\n",
      "\n",
      "########################################################## \n",
      "\n",
      "Amostra número 58\n",
      "[3.49317312 2.81495471 2.63110061 2.15442456 9.82493482 9.82900907\n",
      " 1.73080545 5.13119005 0.33594558 1.60244087 1.66287523 0.99746733\n",
      " 4.23088609 3.45722403 1.95053125 6.88252061 7.24859451 9.26994002\n",
      " 7.48913965 1.27541931 0.14046447 9.66983412 2.17111744 4.48811685\n",
      " 4.8769791  9.52203212 4.59990551 3.48410402 4.43348326 8.6936494 ]\n",
      "\n",
      "Média da amostra: 4.536408771853352\n",
      "\n",
      "########################################################## \n",
      "\n",
      "Amostra número 59\n",
      "[7.77660136 9.40322645 7.20209285 5.4742721  9.51465067 3.7088653\n",
      " 7.54445141 3.58183317 9.85869632 4.53600074 3.46161854 6.38393658\n",
      " 5.13474702 5.71677179 3.64279137 8.1463774  3.30069039 0.25296441\n",
      " 1.3624466  5.81855646 6.19817375 6.77002256 8.18908466 2.85007318\n",
      " 9.93064782 6.09240539 7.18853534 2.4925361  0.62818245 3.69848735]\n",
      "\n",
      "Média da amostra: 5.5286579845733135\n",
      "\n",
      "########################################################## \n",
      "\n",
      "Amostra número 60\n",
      "[9.26685939 0.03781428 0.15015064 7.42730961 5.13125082 7.73919364\n",
      " 9.15792213 2.9991267  3.38355368 4.40276438 5.18494471 7.03577275\n",
      " 1.97366856 5.74282543 2.35957478 3.67360582 1.79474002 3.12457662\n",
      " 6.17040407 7.56946534 6.69315165 5.71959554 1.46706657 6.86005595\n",
      " 1.38238968 8.2702639  2.68157046 6.80900857 2.01886721 0.28957435]\n",
      "\n",
      "Média da amostra: 4.550568907709007\n",
      "\n",
      "########################################################## \n",
      "\n",
      "Amostra número 61\n",
      "[8.31466966 3.08184124 8.70360351 6.87575957 6.99709683 8.53266417\n",
      " 9.48278388 4.73944303 5.15237351 2.09485129 5.80801692 8.19369727\n",
      " 2.00777704 7.68316011 1.75056759 8.8467017  4.28132952 6.3313269\n",
      " 5.90557111 7.03732507 7.71384984 5.13017681 6.86836119 9.59795975\n",
      " 4.89004757 8.83755158 2.73299452 8.78887424 3.28179934 0.38509212]\n",
      "\n",
      "Média da amostra: 6.001575563584825\n",
      "\n",
      "########################################################## \n",
      "\n",
      "Amostra número 62\n",
      "[4.47614956 2.08415649 9.83857335 6.29938822 0.69508284 7.64647547\n",
      " 8.65337717 3.91916087 0.62251113 5.39654244 0.37717135 9.3527704\n",
      " 5.52056554 6.45279062 2.50241797 4.15786403 2.33077173 6.70255383\n",
      " 5.24127936 4.52079238 9.38415516 4.9011689  0.96426782 5.38007112\n",
      " 3.24178587 6.31351948 7.07529954 2.86678509 2.33799877 7.11298008]\n",
      "\n",
      "Média da amostra: 4.878947552442321\n",
      "\n",
      "########################################################## \n",
      "\n",
      "Amostra número 63\n",
      "[1.74048996 3.71403881 3.93660344 4.45614233 9.96956978 5.76652996\n",
      " 5.71272658 4.29125399 8.42702988 8.30974834 6.56793803 0.79547177\n",
      " 2.94383923 8.92198006 8.53858283 7.40534831 4.24994132 4.56046505\n",
      " 3.26700743 0.19722856 0.94590486 0.55538518 3.74998964 9.10533284\n",
      " 6.31457396 6.18753955 9.10685397 0.67637577 5.09877687 1.52923891]\n",
      "\n",
      "Média da amostra: 4.901396907692343\n",
      "\n",
      "########################################################## \n",
      "\n",
      "Amostra número 64\n",
      "[4.68736997 3.2567832  0.05537316 7.05832281 3.78687679 5.39095016\n",
      " 5.48693345 5.1329927  3.56831056 1.41513241 4.3452756  8.76189805\n",
      " 0.3566646  2.90394267 1.59252775 6.86287387 8.3286109  9.91767265\n",
      " 9.14634422 2.29982257 3.59293808 0.94923562 7.75591056 3.41314775\n",
      " 0.95658296 1.2842134  8.16522464 6.09106832 5.87959993 2.09041619]\n",
      "\n",
      "Média da amostra: 4.4844338509494035\n",
      "\n",
      "########################################################## \n",
      "\n",
      "Amostra número 65\n",
      "[1.50973991 3.22894284 7.35493219 6.61184088 1.83734089 5.65227179\n",
      " 0.59274887 4.4451554  4.24412854 5.31496853 8.54444086 3.13277402\n",
      " 1.06966803 0.43060189 0.82229235 4.99031782 0.11026192 0.76623569\n",
      " 6.37106094 1.72948262 2.43941306 1.76092409 9.69236569 9.83576694\n",
      " 0.24187576 2.89740123 1.33744209 2.34434893 6.17309889 3.19913672]\n",
      "\n",
      "Média da amostra: 3.6226993123963256\n",
      "\n",
      "########################################################## \n",
      "\n",
      "Amostra número 66\n",
      "[2.55234718 7.61461044 6.9473803  1.11818128 3.30749714 1.76844016\n",
      " 3.56104302 1.90965639 3.38839618 8.12933773 1.98183246 6.3917403\n",
      " 6.95128434 6.14269216 3.74542874 0.79222814 6.68831222 3.04471263\n",
      " 6.0735747  8.43957036 7.77263082 9.3191642  7.29758516 2.70065659\n",
      " 1.94645098 9.18946512 8.48179224 6.98340285 9.95224664 0.70034837]\n",
      "\n",
      "Média da amostra: 5.163066960974004\n",
      "\n",
      "########################################################## \n",
      "\n",
      "Amostra número 67\n",
      "[9.68292543 9.48724874 1.75383875 6.20981285 2.35103771 9.56227292\n",
      " 3.59394246 1.89949791 1.96296962 5.58235658 2.45921904 8.29028268\n",
      " 9.352364   8.83525749 1.23406026 2.80877338 6.71178719 0.21614977\n",
      " 7.91164749 2.44662497 5.52853456 7.73539349 2.63522191 1.99310812\n",
      " 3.91855784 9.99831843 2.51423781 7.1883631  0.2101413  4.63237262]\n",
      "\n",
      "Média da amostra: 4.956877281469579\n",
      "\n",
      "########################################################## \n",
      "\n",
      "Amostra número 68\n",
      "[3.86433648 8.08613964 4.84108828 2.46418128 7.9596303  5.23306147\n",
      " 9.32297913 6.66709383 3.6471141  2.39170366 6.03574496 1.72383017\n",
      " 1.89010947 1.88903338 3.54500796 7.69688619 8.27833013 4.5222142\n",
      " 5.74023582 6.56129248 1.3091495  5.72192179 5.80410132 3.14659931\n",
      " 5.13552068 5.89673463 5.91525184 7.31388033 4.5233241  4.87708914]\n",
      "\n",
      "Média da amostra: 5.066786186174038\n",
      "\n",
      "########################################################## \n",
      "\n",
      "Amostra número 69\n",
      "[4.03612875 8.21887189 8.41574631 9.65515864 3.08861154 7.58048785\n",
      " 2.1154765  7.33514533 9.97066755 5.62874231 9.04634208 0.9364743\n",
      " 6.58597981 3.93949249 2.39150732 5.04045086 6.93378044 9.10450002\n",
      " 0.97871758 6.80384196 0.93434012 1.36038242 2.94302206 8.59390039\n",
      " 0.16869915 5.10122631 1.94332423 3.63555779 6.09678085 7.58052546]\n",
      "\n",
      "Média da amostra: 5.205462743909454\n",
      "\n",
      "########################################################## \n",
      "\n",
      "Amostra número 70\n",
      "[0.47810896 4.6338977  3.99277878 9.77162298 9.4791164  2.63200088\n",
      " 1.28043101 1.41147299 0.25669919 3.37699195 1.08847836 7.28213049\n",
      " 7.97332928 7.23491458 3.08733405 3.73274937 2.83084329 3.12717186\n",
      " 5.16337347 2.99585171 9.15693216 3.11241715 3.69506769 5.52029329\n",
      " 8.9267286  0.48070328 4.96503364 4.47360744 2.27177501 3.28616561]\n",
      "\n",
      "Média da amostra: 4.257267371800901\n",
      "\n",
      "########################################################## \n",
      "\n",
      "Amostra número 71\n",
      "[2.14448275 3.83148773 0.92703643 6.79941847 3.14642643 5.34522007\n",
      " 2.67230827 4.65878277 4.92804227 3.1749137  7.90794567 2.40403466\n",
      " 1.11189187 1.55260687 2.7685328  0.73756998 0.22607459 5.89546959\n",
      " 0.66776147 6.62560688 1.76631077 9.03837538 5.61656109 7.35571814\n",
      " 9.31941208 8.29211105 4.02367276 1.52211305 7.63687422 2.32157741]\n",
      "\n",
      "Média da amostra: 4.147277973655106\n",
      "\n",
      "########################################################## \n",
      "\n",
      "Amostra número 72\n",
      "[8.2327118  8.02697781 5.83647983 7.14180659 7.68891353 5.7853174\n",
      " 5.9957952  4.84507461 6.79704132 3.57596359 9.68001267 2.92921956\n",
      " 2.01892061 5.13236157 1.89363704 3.91031334 6.6422546  7.16402265\n",
      " 5.59868511 8.01899871 2.22607831 8.120724   9.13273065 7.13072352\n",
      " 3.91451192 7.72611682 5.3040837  9.17409722 6.40306579 0.72770413]\n",
      "\n",
      "Média da amostra: 5.892478120192458\n",
      "\n",
      "########################################################## \n",
      "\n",
      "Amostra número 73\n",
      "[2.06747529 0.3632543  4.27780776 0.6570442  0.93603062 7.03077539\n",
      " 1.18888826 9.55551367 8.15426879 4.98973868 4.00849851 4.70115172\n",
      " 4.26937594 4.7701286  7.5029008  8.89313225 7.54595641 1.47157208\n",
      " 2.47299787 2.41346124 9.9895096  8.82683276 2.59431444 3.30763247\n",
      " 7.50336065 1.68250549 3.33676243 9.33895606 2.33006219 3.45941806]\n",
      "\n",
      "Média da amostra: 4.654644217827788\n",
      "\n",
      "########################################################## \n",
      "\n",
      "Amostra número 74\n",
      "[3.79131318 6.51975957 9.7558194  9.48291071 5.17021565 6.20131959\n",
      " 2.07192845 4.48979514 9.7462639  8.91932858 0.9168137  9.354015\n",
      " 2.28961411 5.40934661 1.14155653 6.6425486  1.25766979 7.8210416\n",
      " 6.18227209 0.82483057 4.24269375 1.81240206 9.2169504  0.07183745\n",
      " 5.95366037 7.62883689 9.14575601 8.85101933 1.73444012 1.07780167]\n",
      "\n",
      "Média da amostra: 5.257458694024248\n",
      "\n",
      "########################################################## \n",
      "\n",
      "Amostra número 75\n",
      "[1.31366879 5.71092411 0.09142279 5.74493359 7.58633131 8.46862793\n",
      " 3.1087295  2.68269359 7.53807506 0.82506925 4.15552732 1.44315211\n",
      " 5.9098112  0.05979974 6.28028281 6.44743576 8.97091051 3.53048688\n",
      " 9.12973689 5.17726718 9.65819047 4.32975208 7.08799251 6.23124249\n",
      " 0.36864554 3.35541551 7.17278539 6.2468809  0.42051839 7.56830751]\n",
      "\n",
      "Média da amostra: 4.887153904262421\n",
      "\n",
      "########################################################## \n",
      "\n",
      "Amostra número 76\n",
      "[7.4676358  1.68810706 1.6998772  4.01001924 3.99616341 1.51775409\n",
      " 5.13159333 4.08920591 7.46601448 0.60793164 5.51676658 5.55727479\n",
      " 3.94303336 7.87695266 3.39503965 1.82972667 2.68689782 5.49015231\n",
      " 9.96243155 3.79628627 2.10799407 3.97757612 8.90155422 4.65904334\n",
      " 9.77367435 3.52560164 0.56083424 6.50589157 5.71332293 6.54362891]\n",
      "\n",
      "Média da amostra: 4.666599506914486\n",
      "\n",
      "########################################################## \n",
      "\n",
      "Amostra número 77\n",
      "[4.274473   0.39527256 8.65572964 5.0329817  8.95614493 5.8997365\n",
      " 0.50194871 7.06390098 9.58849982 2.91950848 0.3074714  1.57507485\n",
      " 1.71818668 5.19215065 7.53298215 5.00465868 8.46753523 5.31294085\n",
      " 4.00848881 6.63967743 9.28352509 0.60645763 7.5224769  2.53985573\n",
      " 3.97381348 1.09733049 2.68465338 2.69539822 3.92544201 8.30465167]\n",
      "\n",
      "Média da amostra: 4.722698922175097\n",
      "\n",
      "########################################################## \n",
      "\n",
      "Amostra número 78\n",
      "[1.71172515 0.15445818 2.83733995 4.73677284 5.13086166 5.57506834\n",
      " 4.69817107 9.52478924 7.39260908 7.37548243 1.85550494 1.65849238\n",
      " 6.84349144 0.59881845 1.52169486 0.17737605 6.87117069 2.68780742\n",
      " 0.14872281 3.95873268 3.65679295 2.36075922 4.17905095 0.38452752\n",
      " 0.13359647 9.65702635 5.77395914 7.98945949 7.09055022 1.99621932]\n",
      "\n",
      "Média da amostra: 3.9560343759588585\n",
      "\n",
      "########################################################## \n",
      "\n",
      "Amostra número 79\n",
      "[6.81856526 9.63643911 6.81224202 8.44799067 7.48040203 2.06241908\n",
      " 3.53784657 9.9176833  0.99235734 3.19358913 3.41026639 4.60807699\n",
      " 5.80543671 7.00794806 3.09055955 8.84211724 6.2240331  7.62162539\n",
      " 9.90859788 7.78664456 4.56812936 2.54481371 3.28589945 6.16611424\n",
      " 7.24042928 7.1399945  8.97867192 1.51337991 5.62421345 3.03123055]\n",
      "\n",
      "Média da amostra: 5.776590558799858\n",
      "\n",
      "########################################################## \n",
      "\n",
      "Amostra número 80\n",
      "[5.76828598 8.5734867  4.55587649 0.65899709 3.29070023 7.96169483\n",
      " 6.99699586 7.04828421 1.1970563  4.9674949  8.00537225 7.87997017\n",
      " 0.74315575 5.79598223 7.90128573 8.04567109 8.29593407 4.41768588\n",
      " 0.12982243 7.75880539 0.99365728 5.79034038 4.23504574 5.76234369\n",
      " 4.71685011 5.62116406 2.65970357 7.30161764 7.77041135 4.66880956]\n",
      "\n",
      "Média da amostra: 5.3170833657909276\n",
      "\n",
      "########################################################## \n",
      "\n",
      "Amostra número 81\n",
      "[7.63785889 2.93016478 0.84443478 7.45467893 5.48080728 3.92600725\n",
      " 1.90365267 0.02888237 6.96678345 7.21865363 8.63683183 0.87295247\n",
      " 3.56276039 6.76917345 1.60001443 0.86635483 6.52397226 7.00932642\n",
      " 9.66426107 2.04642243 9.37890844 2.92855085 3.33780367 7.20591335\n",
      " 2.79171367 3.44743209 2.42091126 5.33672707 2.65742766 4.72235916]\n",
      "\n",
      "Média da amostra: 4.539058028547879\n",
      "\n",
      "########################################################## \n",
      "\n",
      "Amostra número 82\n",
      "[6.55580771 2.62427989 9.04360281 6.80189475 3.22277613 1.02886846\n",
      " 3.92934219 9.11718907 5.7241588  9.89826137 0.57502698 3.28607667\n",
      " 7.10322259 6.95658367 1.07547443 9.02007768 2.57102312 3.06263279\n",
      " 6.09271493 1.65679996 1.21386452 5.56219816 7.31100058 8.28964489\n",
      " 9.74782593 5.15148853 5.12438093 4.04571192 5.40039808 7.003777  ]\n",
      "\n",
      "Média da amostra: 5.273203485205457\n",
      "\n",
      "########################################################## \n",
      "\n",
      "Amostra número 83\n",
      "[9.96301851 8.03990196 7.40043655 5.55624855 4.00415763 8.70365707\n",
      " 8.74246647 7.33010474 3.88142577 5.714023   3.3353476  4.68127895\n",
      " 6.52297139 0.05947928 4.22644353 4.3285365  6.48815292 1.14870008\n",
      " 6.7293943  3.13654069 0.24127418 5.40660028 3.51851158 8.15433044\n",
      " 3.35893294 4.14018294 6.62111517 5.68775192 1.55177302 0.35205301]\n",
      "\n",
      "Média da amostra: 4.967493698700735\n",
      "\n",
      "########################################################## \n",
      "\n",
      "Amostra número 84\n",
      "[7.29838874 9.08458833 2.17832902 5.42233193 6.6180864  4.2839865\n",
      " 8.36360749 6.82198279 6.85892794 3.15411173 3.9445297  5.60377612\n",
      " 3.43731141 7.52122497 2.10938258 8.78522988 6.56287971 6.04348817\n",
      " 6.17675609 8.1336984  3.95477077 2.65263067 6.77417782 0.84901269\n",
      " 5.42134829 6.45375994 3.00843882 3.47971974 7.2832181  4.78771284]\n",
      "\n",
      "Média da amostra: 5.435580252040373\n",
      "\n",
      "########################################################## \n",
      "\n",
      "Amostra número 85\n",
      "[9.04352539 9.28362082 2.52509084 1.66404188 8.05527687 1.54065005\n",
      " 3.26258502 7.0804893  0.29369888 8.459178   7.95509457 3.86418952\n",
      " 7.5919893  7.98418529 8.34671344 6.69608908 9.51938903 7.28810449\n",
      " 8.94582809 8.32992822 2.80166103 1.1547273  1.78460282 4.29088544\n",
      " 5.45137867 9.89173269 6.46190325 9.75416041 9.64876101 3.46161684]\n",
      "\n",
      "Média da amostra: 6.081036585730437\n",
      "\n",
      "########################################################## \n",
      "\n",
      "Amostra número 86\n",
      "[4.39351404 9.87246677 1.39884353 3.55102259 0.78367733 9.39016302\n",
      " 8.79366035 8.8095061  6.88002591 9.98527588 2.77033124 4.07884305\n",
      " 4.81905683 5.08946162 5.83201265 1.62119935 1.07793212 8.04773463\n",
      " 0.03397344 4.86772133 5.18638182 0.55945893 8.71396704 4.84805046\n",
      " 6.50303611 5.66641369 7.67111684 7.01223607 4.51252897 6.72980142]\n",
      "\n",
      "Média da amostra: 5.316647103575616\n",
      "\n",
      "########################################################## \n",
      "\n",
      "Amostra número 87\n",
      "[4.80047556 1.06212728 5.20439073 3.59564481 8.09492563 3.49596616\n",
      " 2.80587953 9.16653783 0.53678346 5.97911484 4.44034097 3.98977378\n",
      " 4.9887079  6.94633269 4.02848583 7.99931565 5.80166964 3.26155112\n",
      " 6.44419057 0.27538197 9.21332615 6.07704745 5.00617296 2.2836198\n",
      " 4.60863295 5.13695859 6.40922265 4.45080372 1.03077957 2.80934722]\n",
      "\n",
      "Média da amostra: 4.664783567039974\n",
      "\n",
      "########################################################## \n",
      "\n",
      "Amostra número 88\n",
      "[0.66312162 8.74373959 2.45576081 3.98429588 0.3584953  1.73616418\n",
      " 5.11984846 5.15172665 2.989253   8.1661575  0.51548672 1.21684992\n",
      " 9.17908113 3.11176516 0.60583752 3.88897244 9.96278857 6.4582147\n",
      " 5.42731788 3.91953143 1.28723011 7.41876343 8.76270245 7.90434246\n",
      " 8.97222839 4.62121645 2.00322079 4.02040495 3.50326103 8.88160864]\n",
      "\n",
      "Média da amostra: 4.700979572423948\n",
      "\n",
      "########################################################## \n",
      "\n",
      "Amostra número 89\n",
      "[7.10616205 2.94386261 7.62512222 4.330561   8.66563495 5.31031424\n",
      " 8.86692007 8.86007401 4.57077974 6.90256147 6.3264495  1.5834211\n",
      " 9.46314877 9.33826214 8.26333125 8.23874039 1.7094177  4.87541756\n",
      " 4.82847203 5.63098109 6.45212987 7.13228961 1.78250001 3.30173515\n",
      " 4.5886752  1.3103451  9.74451631 9.10155575 0.52374347 6.39371555]\n",
      "\n",
      "Média da amostra: 5.859027997422519\n",
      "\n",
      "########################################################## \n",
      "\n",
      "Amostra número 90\n",
      "[7.67312727 3.0658012  3.849792   2.92903801 5.98830734 0.20495843\n",
      " 7.05193331 6.55734928 1.24676051 0.74339914 7.13983001 1.39945223\n",
      " 5.77975753 7.94332879 7.91402687 3.50184179 3.76567235 6.8271682\n",
      " 0.69380278 2.78195684 0.12221223 2.94327806 8.83039756 5.7615122\n",
      " 5.0005308  9.44357991 6.57396413 5.67667131 8.2888063  1.26470368]\n",
      "\n",
      "Média da amostra: 4.698765334306332\n",
      "\n",
      "########################################################## \n",
      "\n",
      "Amostra número 91\n",
      "[9.40276935 8.67955147 8.41762825 2.96442409 5.40838273 8.55634582\n",
      " 8.21604866 5.97158329 4.78101731 1.81555225 9.86795511 6.44876425\n",
      " 0.08048034 7.95701655 9.54371199 6.11849499 8.17751002 4.06980076\n",
      " 8.00560487 2.20830629 9.23310242 8.03193518 1.33123356 9.16346433\n",
      " 8.71072722 7.06218148 1.26196774 6.1351239  7.2545836  6.85286307]\n",
      "\n",
      "Média da amostra: 6.390937696475791\n",
      "\n",
      "########################################################## \n",
      "\n",
      "Amostra número 92\n",
      "[2.34524772 3.66433311 8.36080707 2.22239288 7.18873494 0.11374967\n",
      " 3.40902892 5.87343857 1.77122496 3.3387395  9.49994285 2.90640965\n",
      " 6.65920156 6.39241728 4.01273508 3.04943248 1.35574851 9.17713513\n",
      " 8.44458617 5.08242882 9.8893816  3.32125346 0.40923972 3.89867124\n",
      " 8.27237454 7.09608051 8.24882204 8.32806419 0.13362383 4.82481216]\n",
      "\n",
      "Média da amostra: 4.976335272152765\n",
      "\n",
      "########################################################## \n",
      "\n",
      "Amostra número 93\n",
      "[4.62515893 1.7397507  7.94058703 0.04970748 7.25984757 2.37022585\n",
      " 2.87257079 2.63255197 8.40447944 1.32060777 5.8866971  9.7426789\n",
      " 4.84819329 4.7315186  6.42295193 3.91551946 2.57135542 0.78812899\n",
      " 3.68528405 2.93263099 4.90221312 0.81892615 3.80914985 2.74506026\n",
      " 0.10363052 8.09797979 3.17057793 1.76268661 3.81914451 3.1082863 ]\n",
      "\n",
      "Média da amostra: 3.9026033767880106\n",
      "\n",
      "########################################################## \n",
      "\n",
      "Amostra número 94\n",
      "[6.30341342 3.34178088 4.10027403 2.51916492 1.11274806 1.62445969\n",
      " 7.46730873 3.79093388 0.80065224 3.33513967 3.07784161 6.08178103\n",
      " 4.01256173 9.40750043 5.10151863 5.49220818 0.33370719 5.88856181\n",
      " 6.56126515 8.44312618 2.14576902 6.25308503 2.92436323 1.84832677\n",
      " 7.35124737 9.69257581 5.65848853 8.58748394 7.87467866 7.60996747]\n",
      "\n",
      "Média da amostra: 4.958064443121062\n",
      "\n",
      "########################################################## \n",
      "\n",
      "Amostra número 95\n",
      "[0.21100439 5.26251527 6.44553915 4.74523997 0.80160738 8.56844095\n",
      " 9.60097051 3.53432809 2.34948068 9.61870321 8.80966058 3.03424562\n",
      " 7.45593012 6.42225074 6.27496409 2.5346813  3.8443723  3.45298311\n",
      " 5.46252659 1.49868006 8.48946376 1.77505853 8.51926299 0.36877512\n",
      " 1.28542378 2.8585588  8.81020804 2.31422092 1.35620882 9.99813579]\n",
      "\n",
      "Média da amostra: 4.8567813546319725\n",
      "\n",
      "########################################################## \n",
      "\n",
      "Amostra número 96\n",
      "[3.24120184 5.18844502 5.60538934 6.60011492 8.8772072  9.52648893\n",
      " 7.95556063 4.14988785 5.69830087 0.50184264 7.77450079 6.69323208\n",
      " 6.88602673 7.15707099 4.28428003 7.53608125 0.46915822 2.65184906\n",
      " 6.13212783 8.90329874 7.87068933 8.38561558 2.37055184 1.54009881\n",
      " 7.55530309 6.93218058 9.04527988 8.31273002 2.68218757 7.78818178]\n",
      "\n",
      "Média da amostra: 5.94382944804038\n",
      "\n",
      "########################################################## \n",
      "\n",
      "Amostra número 97\n",
      "[9.3920506  8.61542754 9.92636771 5.81933019 3.3978034  0.51414683\n",
      " 9.32912839 3.08527504 3.50350095 2.15289126 6.49115075 4.57610928\n",
      " 4.26974984 4.76802239 6.68579058 7.64230366 6.37560265 4.0645356\n",
      " 4.73476581 9.45035025 0.09612879 7.34452694 0.15257343 8.29549273\n",
      " 1.17764422 8.46797497 0.48728268 5.03763451 1.29360933 4.32836723]\n",
      "\n",
      "Média da amostra: 5.049184584390918\n",
      "\n",
      "########################################################## \n",
      "\n",
      "Amostra número 98\n",
      "[5.32291600e+00 4.04275950e+00 7.03485313e+00 5.77698447e+00\n",
      " 9.95526474e+00 8.58929700e+00 1.46882688e+00 5.16788986e+00\n",
      " 1.04944351e+00 3.06547393e+00 3.62880473e+00 3.38841476e+00\n",
      " 4.36059962e+00 1.94385337e+00 2.07509740e+00 9.33335081e+00\n",
      " 1.16058441e+00 9.46454234e+00 8.69710765e-04 6.75000177e+00\n",
      " 8.60468418e+00 8.47426435e-01 6.09460221e+00 4.77907554e+00\n",
      " 6.56716719e+00 6.47806332e+00 8.24595139e+00 7.49311325e+00\n",
      " 2.92004194e+00 8.20247523e+00]\n",
      "\n",
      "Média da amostra: 5.127080954640521\n",
      "\n",
      "########################################################## \n",
      "\n",
      "Amostra número 99\n",
      "[9.04214906 3.95608703 4.53730218 8.55269895 3.96198608 4.87809435\n",
      " 9.92221791 4.66664672 7.07051239 7.98692036 3.29616507 3.35111241\n",
      " 9.67572937 9.70681518 1.48987711 3.96785726 0.32860292 1.87202091\n",
      " 6.3546615  7.3999634  4.06430067 1.68401573 6.45836979 6.81777966\n",
      " 5.02639157 1.25897301 7.2759812  3.67478315 7.34344751 3.3313722 ]\n",
      "\n",
      "Média da amostra: 5.298427821204159\n",
      "\n",
      "########################################################## \n",
      "\n",
      "Amostra número 100\n",
      "[1.38008231 0.31333824 6.50064341 3.32980917 3.46533444 7.20326844\n",
      " 0.39024383 0.23688368 0.43579527 3.99011326 8.6988428  5.85410489\n",
      " 1.03433337 0.22448019 4.75716533 7.69081465 9.68868851 2.94969033\n",
      " 8.65524166 3.28725822 6.34169426 0.75243068 6.17426277 4.27966399\n",
      " 8.34537617 2.10295272 9.65536298 4.10253    0.99729214 5.20355566]\n",
      "\n",
      "Média da amostra: 4.268041778658235\n",
      "\n",
      "########################################################## \n",
      "\n",
      "\n",
      "_____________________________________________________________________ \n",
      "\n",
      "\n",
      "Distribuição de médias amostrais:\n",
      "\n",
      "[4.437915397953467, 5.248036301221964, 5.516510467197731, 4.10901416167132, 5.2513130420232, 5.329098955929254, 4.938759996420455, 3.6856651334655495, 4.652476224172238, 4.601132189927737, 4.2690768629818745, 4.815267460530692, 5.841045036865186, 5.187439578334935, 4.588996384205656, 3.8170109696005494, 5.220616447093875, 4.4108117698807146, 4.603757563412149, 5.545148611223126, 5.24985101103532, 5.471918965408435, 4.423718178743725, 4.813339398060182, 4.959645508052461, 4.900864024090178, 5.739373565930619, 4.068833232025534, 5.607903265580076, 5.511285389712888, 5.031556160797175, 5.3597903192859055, 4.558521148648766, 5.07314336956668, 4.612459107045973, 5.155880019172785, 5.200189790075105, 4.889615050167797, 4.545219290141407, 5.0934306741024935, 5.0804424134808075, 4.412509405577451, 5.338157760963429, 5.7665250049817605, 4.708141748374398, 5.820652318149633, 5.832956102597939, 5.066089931590513, 4.607606235049665, 5.160856441108667, 4.589538814768329, 4.946844150023038, 4.860212406639403, 5.297248870307947, 4.648029329791194, 4.6576906728163125, 5.560420707939754, 4.536408771853352, 5.5286579845733135, 4.550568907709007, 6.001575563584825, 4.878947552442321, 4.901396907692343, 4.4844338509494035, 3.6226993123963256, 5.163066960974004, 4.956877281469579, 5.066786186174038, 5.205462743909454, 4.257267371800901, 4.147277973655106, 5.892478120192458, 4.654644217827788, 5.257458694024248, 4.887153904262421, 4.666599506914486, 4.722698922175097, 3.9560343759588585, 5.776590558799858, 5.3170833657909276, 4.539058028547879, 5.273203485205457, 4.967493698700735, 5.435580252040373, 6.081036585730437, 5.316647103575616, 4.664783567039974, 4.700979572423948, 5.859027997422519, 4.698765334306332, 6.390937696475791, 4.976335272152765, 3.9026033767880106, 4.958064443121062, 4.8567813546319725, 5.94382944804038, 5.049184584390918, 5.127080954640521, 5.298427821204159, 4.268041778658235]\n"
     ]
    }
   ],
   "source": [
    "# tirando \"num\" amostras aleatórias de n=30 unidades\n",
    "\n",
    "# configuração da amostragem\n",
    "num=100\n",
    "n=30\n",
    "\n",
    "# lista de médias amostrais\n",
    "medias_amostrais = []\n",
    "\n",
    "for i in range(num):\n",
    "   \n",
    "    # amostra aleatória\n",
    "    amst = np.random.random(n)*10 \n",
    "    \n",
    "    # media da amostra\n",
    "    media_amostral = amst.mean()\n",
    "    \n",
    "    # apenda à lista\n",
    "    medias_amostrais.append(media_amostral)\n",
    "    \n",
    "\n",
    "    print(\"Amostra número\", i+1)\n",
    "    print(amst)\n",
    "    print(\"\\nMédia da amostra:\", media_amostral)\n",
    "\n",
    "    print(\"\\n########################################################## \\n\")\n",
    "\n",
    "print(\"\\n_____________________________________________________________________ \\n\")\n",
    "print(\"\\nDistribuição de médias amostrais:\\n\")\n",
    "print(medias_amostrais)"
   ]
  },
  {
   "cell_type": "code",
   "execution_count": 3,
   "metadata": {},
   "outputs": [
    {
     "data": {
      "image/png": "[encoded data removed]",
      "text/plain": [
       "<Figure size 432x288 with 1 Axes>"
      ]
     },
     "metadata": {
      "needs_background": "light"
     },
     "output_type": "display_data"
    },
    {
     "name": "stdout",
     "output_type": "stream",
     "text": [
      "\n",
      "###############################################################\n",
      "\n",
      "Média da distribuição de médias amostrais: 4.996974662901567 \t mediana: 4.9981670352007095\n",
      "Erro padrão da distribuição de médias amostrais: 0.4629782310135305\n",
      "SE*sqrt(n): 2.9281314341567253\n",
      "\n",
      "###############################################################\n",
      "\n",
      "Média da distribuição populacional: 5.0\n",
      "Desvio padrão da distribuição populacional: 2.886751345948129\n",
      "\n",
      "###############################################################\n",
      "\n",
      "Erro na estimativa da média: 0.0030253370984327788\n"
     ]
    }
   ],
   "source": [
    "#_________________________________________________________\n",
    "# amostragem\n",
    "\n",
    "num=10000\n",
    "n=40\n",
    "medias_amostrais = np.array([(np.random.random(n)*10).mean() for _ in range(num)])\n",
    "\n",
    "# medidas da distribuição amostral\n",
    "media = medias_amostrais.mean()\n",
    "std = medias_amostrais.std()\n",
    "mediana = np.median(medias_amostrais)\n",
    "\n",
    "#_________________________________________________________\n",
    "# plot\n",
    "\n",
    "plt.title(\"Distribuição das médias amostrais\")\n",
    "\n",
    "# distribuição\n",
    "sns.histplot(medias_amostrais, kde=True, label=\"distribuição\")\n",
    "\n",
    "# reta da média\n",
    "plt.axvline(media, label=\"média\", color=\"orange\")\n",
    "# reta da mediana\n",
    "plt.axvline(mediana, label=\"mediana\", color=\"green\")\n",
    "\n",
    "plt.legend()\n",
    "plt.show()\n",
    "\n",
    "#_________________________________________________________\n",
    "# infos\n",
    "\n",
    "print(\"\\n###############################################################\\n\")\n",
    "\n",
    "print(\"Média da distribuição de médias amostrais:\", media, \"\\t mediana:\", mediana)\n",
    "print(\"Erro padrão da distribuição de médias amostrais:\", std)\n",
    "print(\"SE*sqrt(n):\", std*np.sqrt(n))\n",
    "\n",
    "print(\"\\n###############################################################\\n\")\n",
    "\n",
    "print(\"Média da distribuição populacional:\", 0.5*(a+b))\n",
    "print(\"Desvio padrão da distribuição populacional:\", (1/np.sqrt(12))*(b-a))\n",
    "\n",
    "print(\"\\n###############################################################\\n\")\n",
    "\n",
    "print(\"Erro na estimativa da média:\", abs(media - 0.5*(a+b)))"
   ]
  },
  {
   "cell_type": "markdown",
   "metadata": {},
   "source": [
    "____"
   ]
  },
  {
   "cell_type": "markdown",
   "metadata": {},
   "source": [
    "__População: Distribuição Gamma__\n",
    "\n",
    "A **função densidade de probabilidade** da [distribuição gamma](https://en.wikipedia.org/wiki/Gamma_distribution) é dada por:\n",
    "\n",
    "$$ f(x) = \\frac{\\beta^\\alpha x^{\\alpha-1}e^{-\\beta x}}{\\Gamma(\\alpha)} $$\n",
    "\n",
    "Com:\n",
    "\n",
    "$$ \\mu = \\frac{\\alpha}{\\beta} $$\n",
    "\n",
    "$$ \\sigma = \\frac{\\sqrt{\\alpha}}{\\beta} $$"
   ]
  },
  {
   "cell_type": "code",
   "execution_count": 108,
   "metadata": {},
   "outputs": [
    {
     "data": {
      "image/png": "[encoded data removed]",
      "text/plain": [
       "<Figure size 576x360 with 1 Axes>"
      ]
     },
     "metadata": {
      "needs_background": "light"
     },
     "output_type": "display_data"
    },
    {
     "data": {
      "image/png": "[encoded data removed]",
      "text/plain": [
       "<Figure size 576x360 with 1 Axes>"
      ]
     },
     "metadata": {
      "needs_background": "light"
     },
     "output_type": "display_data"
    },
    {
     "name": "stdout",
     "output_type": "stream",
     "text": [
      "\n",
      "###############################################################\n",
      "\n",
      "Média da distribuição populacional: 4.0\n",
      "Desvio padrão da distribuição populacional: 2.8284271247461903\n"
     ]
    }
   ],
   "source": [
    "import scipy\n",
    "\n",
    "plt.figure(figsize=(8, 5))\n",
    "plt.title(\"Distribuição gamma\")\n",
    "\n",
    "# x de 0 a 10\n",
    "x = np.linspace(0, 30, 10000)\n",
    "\n",
    "# y = f(x)\n",
    "alpha = 2\n",
    "beta = 1/2\n",
    "y = (beta**alpha)*(x**(alpha-1))*(np.exp(-beta*x))/scipy.special.gamma(alpha)\n",
    "\n",
    "plt.plot(x, y)\n",
    "\n",
    "plt.show()\n",
    "\n",
    "###############################################################\n",
    "\n",
    "plt.figure(figsize=(8, 5))\n",
    "plt.title(\"1.000.000 números aleatórios tirados da distribuição gamma\")\n",
    "\n",
    "amostra=np.random.gamma(shape=alpha, scale=1/beta, size=1000000)\n",
    "\n",
    "sns.histplot(x=amostra, stat=\"density\")\n",
    "\n",
    "plt.show()\n",
    "\n",
    "###############################################################\n",
    "\n",
    "print(\"\\n###############################################################\\n\")\n",
    "\n",
    "print(\"Média da distribuição populacional:\", alpha/beta)\n",
    "print(\"Desvio padrão da distribuição populacional:\", np.sqrt(alpha)/beta)"
   ]
  },
  {
   "cell_type": "code",
   "execution_count": 110,
   "metadata": {},
   "outputs": [
    {
     "data": {
      "image/png": "[encoded data removed]",
      "text/plain": [
       "<Figure size 432x288 with 1 Axes>"
      ]
     },
     "metadata": {
      "needs_background": "light"
     },
     "output_type": "display_data"
    },
    {
     "name": "stdout",
     "output_type": "stream",
     "text": [
      "\n",
      "###############################################################\n",
      "\n",
      "Média da distribuição de médias amostrais: 3.9987020691591275 \t mediana: 3.983807566275166\n",
      "Erro padrão da distribuição de médias amostrais: 0.4001673201334093\n",
      "SE*sqrt(n): 2.8296102567558177\n",
      "\n",
      "###############################################################\n",
      "\n",
      "Média da distribuição populacional: 4.0\n",
      "Desvio padrão da distribuição populacional: 2.8284271247461903\n",
      "\n",
      "###############################################################\n",
      "\n",
      "Erro na estimativa da média: 0.0012979308408724854\n"
     ]
    }
   ],
   "source": [
    "#_________________________________________________________\n",
    "# amostragem\n",
    "\n",
    "num=100000\n",
    "n=50\n",
    "medias_amostrais = [(np.random.gamma(shape=alpha, scale=1/beta, size=n)).mean() for i in range(num)]\n",
    "\n",
    "# medidas da distribuição amostral\n",
    "media = np.array(medias_amostrais).mean()\n",
    "std = np.array(medias_amostrais).std()\n",
    "mediana = np.median(np.array(medias_amostrais))\n",
    "\n",
    "#_________________________________________________________\n",
    "# plot\n",
    "\n",
    "plt.title(\"Distribuição das médias amostrais\")\n",
    "\n",
    "# distribuição\n",
    "sns.histplot(medias_amostrais, kde=True, label=\"distribuição\")\n",
    "\n",
    "# reta da média\n",
    "plt.axvline(media, label=\"média\", color=\"orange\")\n",
    "# reta da mediana\n",
    "plt.axvline(mediana, label=\"mediana\", color=\"green\")\n",
    "\n",
    "plt.legend()\n",
    "plt.show()\n",
    "\n",
    "#_________________________________________________________\n",
    "# infos\n",
    "\n",
    "print(\"\\n###############################################################\\n\")\n",
    "\n",
    "print(\"Média da distribuição de médias amostrais:\", media, \"\\t mediana:\", mediana)\n",
    "print(\"Erro padrão da distribuição de médias amostrais:\", std)\n",
    "print(\"SE*sqrt(n):\", std*np.sqrt(n))\n",
    "\n",
    "print(\"\\n###############################################################\\n\")\n",
    "\n",
    "print(\"Média da distribuição populacional:\", alpha/beta)\n",
    "print(\"Desvio padrão da distribuição populacional:\", np.sqrt(alpha)/beta)\n",
    "\n",
    "print(\"\\n###############################################################\\n\")\n",
    "\n",
    "print(\"Erro na estimativa da média:\", abs(media - alpha/beta))"
   ]
  },
  {
   "cell_type": "markdown",
   "metadata": {},
   "source": [
    "____"
   ]
  },
  {
   "cell_type": "markdown",
   "metadata": {},
   "source": [
    "__População: Distribuição exponencial__\n",
    "\n",
    "A **função densidade de probabilidade** da [distribuição exponencial](https://en.wikipedia.org/wiki/Exponential_distribution) é dada por:\n",
    "\n",
    "$$f(x) = \\left\\{\\begin{matrix}\n",
    "\\lambda e^{-\\lambda x} \\ ,  & x \\geq 0\\\\ \n",
    "0 \\ , & x <0\n",
    "\\end{matrix}\\right.$$\n",
    "\n",
    "Com:\n",
    "\n",
    "$$ \\mu = \\frac{1}{\\lambda} $$\n",
    "\n",
    "$$ \\sigma = \\frac{1}{\\lambda} $$"
   ]
  },
  {
   "cell_type": "code",
   "execution_count": 5,
   "metadata": {},
   "outputs": [
    {
     "data": {
      "image/png": "[encoded data removed]",
      "text/plain": [
       "<Figure size 576x360 with 1 Axes>"
      ]
     },
     "metadata": {
      "needs_background": "light"
     },
     "output_type": "display_data"
    },
    {
     "data": {
      "image/png": "[encoded data removed]",
      "text/plain": [
       "<Figure size 576x360 with 1 Axes>"
      ]
     },
     "metadata": {
      "needs_background": "light"
     },
     "output_type": "display_data"
    },
    {
     "name": "stdout",
     "output_type": "stream",
     "text": [
      "\n",
      "###############################################################\n",
      "\n",
      "Média da distribuição populacional: 2.0\n",
      "Desvio padrão da distribuição populacional: 2.0\n"
     ]
    }
   ],
   "source": [
    "plt.figure(figsize=(8, 5))\n",
    "plt.title(\"Distribuição exponencial\")\n",
    "\n",
    "# x de 0 a 10\n",
    "x = np.linspace(0, 25, 10000)\n",
    "\n",
    "# y = f(x)\n",
    "lbda = 0.5\n",
    "y = lbda*np.exp(-lbda*x)\n",
    "\n",
    "plt.plot(x, y)\n",
    "\n",
    "plt.show()\n",
    "\n",
    "###############################################################\n",
    "\n",
    "plt.figure(figsize=(8, 5))\n",
    "plt.title(\"1.000.000 números aleatórios tirados da distribuição gamma\")\n",
    "\n",
    "amostra=np.random.exponential(scale=1/lbda, size=1000000)\n",
    "\n",
    "sns.histplot(x=amostra, stat=\"density\")\n",
    "\n",
    "plt.show()\n",
    "\n",
    "###############################################################\n",
    "\n",
    "print(\"\\n###############################################################\\n\")\n",
    "\n",
    "print(\"Média da distribuição populacional:\", 1/lbda)\n",
    "print(\"Desvio padrão da distribuição populacional:\", 1/lbda)"
   ]
  },
  {
   "cell_type": "code",
   "execution_count": 7,
   "metadata": {},
   "outputs": [
    {
     "data": {
      "image/png": "[encoded data removed]",
      "text/plain": [
       "<Figure size 432x288 with 1 Axes>"
      ]
     },
     "metadata": {
      "needs_background": "light"
     },
     "output_type": "display_data"
    },
    {
     "name": "stdout",
     "output_type": "stream",
     "text": [
      "\n",
      "###############################################################\n",
      "\n",
      "Média da distribuição de médias amostrais: 2.001007605826663 \t mediana: 1.9877272282934735\n",
      "Erro padrão da distribuição de médias amostrais: 0.2834349003110675\n",
      "SE*sqrt(n): 2.004187400348889\n",
      "\n",
      "###############################################################\n",
      "\n",
      "Média da distribuição populacional: 2.0\n",
      "Desvio padrão da distribuição populacional: 2.0\n",
      "\n",
      "###############################################################\n",
      "\n",
      "Erro na estimativa da média: 0.0010076058266630383\n"
     ]
    }
   ],
   "source": [
    "#_________________________________________________________\n",
    "# amostragem\n",
    "\n",
    "num=100000\n",
    "n=50\n",
    "medias_amostrais = [(np.random.exponential(scale=1/lbda, size=n)).mean() for i in range(num)]\n",
    "\n",
    "# medidas da distribuição amostral\n",
    "media = np.array(medias_amostrais).mean()\n",
    "std = np.array(medias_amostrais).std()\n",
    "mediana = np.median(np.array(medias_amostrais))\n",
    "\n",
    "#_________________________________________________________\n",
    "# plot\n",
    "\n",
    "plt.title(\"Distribuição das médias amostrais\")\n",
    "\n",
    "# distribuição\n",
    "sns.histplot(medias_amostrais, kde=True, label=\"distribuição\")\n",
    "\n",
    "# reta da média\n",
    "plt.axvline(media, label=\"média\", color=\"orange\")\n",
    "# reta da mediana\n",
    "plt.axvline(mediana, label=\"mediana\", color=\"green\")\n",
    "\n",
    "plt.legend()\n",
    "plt.show()\n",
    "\n",
    "#_________________________________________________________\n",
    "# infos\n",
    "\n",
    "print(\"\\n###############################################################\\n\")\n",
    "\n",
    "print(\"Média da distribuição de médias amostrais:\", media, \"\\t mediana:\", mediana)\n",
    "print(\"Erro padrão da distribuição de médias amostrais:\", std)\n",
    "print(\"SE*sqrt(n):\", std*np.sqrt(n))\n",
    "\n",
    "print(\"\\n###############################################################\\n\")\n",
    "\n",
    "print(\"Média da distribuição populacional:\", 1/lbda)\n",
    "print(\"Desvio padrão da distribuição populacional:\", 1/lbda)\n",
    "\n",
    "print(\"\\n###############################################################\\n\")\n",
    "\n",
    "print(\"Erro na estimativa da média:\", abs(media - 1/lbda))"
   ]
  },
  {
   "cell_type": "markdown",
   "metadata": {},
   "source": [
    "_____"
   ]
  },
  {
   "cell_type": "markdown",
   "metadata": {},
   "source": [
    "### 1.1) Tá, mas e daí?\n",
    "\n",
    "Vimos acima o TCL em ação, o que é bem legal.\n",
    "\n",
    "Mas na prática, não é muito conveniente fazermos diversas amostras para termos uma distribuição amostral!\n",
    "\n",
    "Na realidade, muitas vez temos recursos para fazer **apenas uma amostra**.\n",
    "\n",
    "A boa notícia é que **se estivermos nas condições de aplicação do TCL**, isso é tudo que basta: **UMA AMOSTRA!**\n",
    "\n",
    "Com uma única amostra, é possível calcularmos **nossos estimadores pontuais**, e, além disso (e mais importante): estimar uma **margem de erro** que nos dê, com certo grau de confiança, um intervalo de valores possíveis para o parâmetro populacional!\n",
    "\n",
    "Vamos entender isso melhor..."
   ]
  },
  {
   "cell_type": "markdown",
   "metadata": {},
   "source": [
    "_____"
   ]
  },
  {
   "cell_type": "markdown",
   "metadata": {},
   "source": [
    "### 1.2) Intervalos de confiança\n",
    "\n",
    "Quando calculamos um **estimador pontual** com base nos dados de uma amostra, esse valor do estimador é a **melhor (e única!) estimativa que temos para o parâmetro populacional**.\n",
    "\n",
    "Mas, como este estimador foi calculado com base em um pedaço reduzido da população, é natural **haja uma diferença com relação ao parâmetro populacional**.\n",
    "\n",
    "> Por isso, é importante que tenhamos um **intervalo de valores possíveis** para a estimativa do parâmetro populacioonal ao invés do estimador pontual (daí o nome \"pontual\", aliás)\n",
    "\n",
    "Especificar apenas o parâmetro pontual é como **pescar com uma lança**: é uma técnica precisa, mas tem alta chance de errar.\n",
    "\n",
    "Se queremos ter mais chances de caputrar o peixe, seria melhor **usar uma rede**: menos precisa, mas mais segura.\n",
    "\n",
    "O equivalente de \"pescar com uma rede\" é especificar um **intervalo de confiança**, ou seja, um **intervalo de valores para o parâmetro populacional**, com certo grau de confiança, ao invés de apresentarmos um único valor.\n",
    "\n",
    "Como o estimador pontual é nosso melhor palpite para o parâmetro populacional, faz sentido que ele seja o centro do intervalo de confiança. Mas como definir os limites do intervalo?\n",
    "\n",
    "<img src=\"https://i1.wp.com/itfeature.com/wp-content/uploads/2019/07/ci11.png?resize=644%2C216\" width=500>\n"
   ]
  },
  {
   "cell_type": "markdown",
   "metadata": {},
   "source": [
    "Para definir a **largura do intervalo de confiança**, utilizamos **o erro padrão**!\n",
    "\n",
    "> Sabemos que, **dentro das hipóteses do TCL**,\n",
    "- A **média da distribuição amostral será o parâmetro de interesse** ($\\mu_{\\bar{x}} = \\mu$, $\\mu_{\\hat{p}} = p$);\n",
    "- O erro padrão representa o **desvio padrão** do estimador pontual;\n",
    "- A distribuição amostral do estimador será **aproximadamente normal**\n",
    "\n",
    "Sabendo tudo isso, e sabendo que 95% dos dados estão centrados entre 1.96 desvios-padrão da dsitribuição normal,\n",
    "\n",
    "<img src=\"https://www.simplypsychology.org/NormalDist1.96.png?ezimgfmt=rs:380x256/rscb24/ng:webp/ngcb24\" width=400>\n",
    "\n",
    "> **Podemos construir um intervalo de confiança que se estende 1.96 erros padrões (SEs) do estimador pontual para estarmos 95% confiantes de que o intervalo captura o parâmetro populacional!**\n",
    "\n",
    "Isso significa que se fizéssemos **muitas amostras**, aproximadamente 95% dos intervalos de confiança construídos **conteriam o parâmetro populacional!**\n",
    "\n",
    "<img src=\"https://lh3.googleusercontent.com/y0l2Oz0E1AWPhKL_6-v5AnKJbf_63hOPlmvWWMTrHyXt9gXuZGP6VmnWU6HElc2MAmqevJwrMk8WrXI99LWI-3vAdYfoyMJ6iak-R3a7oyZOuNO4iBZiobOtjKGkKL6q9hXQdaAB\" width=900>"
   ]
  },
  {
   "cell_type": "markdown",
   "metadata": {
    "colab_type": "text",
    "id": "ku8CE67iG3Ge"
   },
   "source": [
    "**Níveis de confiança e significância**"
   ]
  },
  {
   "cell_type": "markdown",
   "metadata": {
    "colab_type": "text",
    "id": "mk6ZsvgyG3Gf"
   },
   "source": [
    "O **nível de confiança** ($1 - \\alpha$) representa a probabilidade de **acerto** da estimativa.\n",
    "\n",
    "De forma complementar, o **nível de significância** ($\\alpha$) expressa a probabilidade de **erro** da estimativa.\n",
    "\n",
    "O **nível de confiança** representa o grau de confiabilidade do resultado da estimativa estar dentro de determinado intervalo. Quando fixamos em uma pesquisa um **nível de confiança** de 95%, por exemplo, estamos assumindo que existe uma probabilidade de 95% dos resultados da pesquisa representarem bem a realidade, ou seja, estarem corretos.\n",
    "\n",
    "O **nível de confiança** de uma estimativa pode ser obtido a partir da área sob a curva normal como ilustrado na figura abaixo."
   ]
  },
  {
   "cell_type": "markdown",
   "metadata": {
    "colab_type": "text",
    "id": "WeGyDfvaG3Gg"
   },
   "source": [
    "![alt text](https://caelum-online-public.s3.amazonaws.com/1178-estatistica-parte2/01/img007.png)"
   ]
  },
  {
   "cell_type": "markdown",
   "metadata": {},
   "source": [
    "No caso que discutimos acima, tomando $1-\\alpha=95\\%$, temos que:"
   ]
  },
  {
   "cell_type": "markdown",
   "metadata": {
    "colab_type": "text",
    "id": "T-3mV1qlUj1t"
   },
   "source": [
    "![alt text](https://caelum-online-public.s3.amazonaws.com/1178-estatistica-parte2/01/img008.png)"
   ]
  },
  {
   "cell_type": "markdown",
   "metadata": {},
   "source": [
    "De fato,"
   ]
  },
  {
   "cell_type": "code",
   "execution_count": 10,
   "metadata": {},
   "outputs": [
    {
     "data": {
      "text/plain": [
       "95.0004209703559"
      ]
     },
     "execution_count": 10,
     "metadata": {},
     "output_type": "execute_result"
    }
   ],
   "source": [
    "from scipy.stats import norm\n",
    "\n",
    "(norm.cdf(1.96) - norm.cdf(-1.96))*100"
   ]
  },
  {
   "cell_type": "markdown",
   "metadata": {},
   "source": [
    "Podemos também nos fazermos a pergunta inversa: dado um nível de confiança $1-\\alpha$, qual deve ser o valor de z?"
   ]
  },
  {
   "cell_type": "code",
   "execution_count": 12,
   "metadata": {},
   "outputs": [
    {
     "data": {
      "text/plain": [
       "(0.95, 0.050000000000000044)"
      ]
     },
     "execution_count": 12,
     "metadata": {},
     "output_type": "execute_result"
    }
   ],
   "source": [
    "conf = 0.95\n",
    "sig = 1 - conf\n",
    "\n",
    "conf, sig"
   ]
  },
  {
   "cell_type": "code",
   "execution_count": 13,
   "metadata": {},
   "outputs": [
    {
     "data": {
      "text/plain": [
       "0.975"
      ]
     },
     "execution_count": 13,
     "metadata": {},
     "output_type": "execute_result"
    }
   ],
   "source": [
    "conf + sig/2"
   ]
  },
  {
   "cell_type": "code",
   "execution_count": 14,
   "metadata": {},
   "outputs": [
    {
     "data": {
      "text/plain": [
       "1.959963984540054"
      ]
     },
     "execution_count": 14,
     "metadata": {},
     "output_type": "execute_result"
    }
   ],
   "source": [
    "conf = 0.95\n",
    "sig = 1 - conf\n",
    "\n",
    "# inversa da cdf: qual é o valor de z, que dá área igual ao argumento?\n",
    "norm.ppf(conf + sig/2)"
   ]
  },
  {
   "cell_type": "markdown",
   "metadata": {},
   "source": [
    "É comum usarmos a notação: $z_{\\alpha/2}=1.96$."
   ]
  },
  {
   "cell_type": "markdown",
   "metadata": {},
   "source": [
    "Assim,\n",
    "\n",
    "> **Se a distribuição amostral de um estimador pontual $EP$ se enquadra nas condições do TCL, o intervalo de confiança de 95% é dado por $$\\boxed{EP \\pm 1.96 \\  SE_{EP}}$$**\n",
    "\n",
    "Ou seja, para o caso da **média**, temos $\\bar{x} \\pm 1.96 \\ \\frac{\\sigma}{\\sqrt{n}}$\n",
    "\n",
    "E para o caso das proporções, $\\hat{p} \\pm 1.96 \\ \\sqrt{\\frac{p(1-p)}{n}}$\n",
    "\n",
    "Para diferentes graus de confiança, usamos diferentes multiplicadores\n",
    "\n",
    "<img src=\"https://s3-us-west-2.amazonaws.com/courses-images/wp-content/uploads/sites/1729/2017/04/15032441/m9_inference_two_proportion_topic_9_2_m9_est_diff_two_pop_prop_2_image3.png\" width=400>\n",
    "\n",
    "> **IC de 90%: $\\boxed{EP \\pm 1.645 \\  SE_{EP}}$**\n",
    "\n",
    "> **IC de 99%: $\\boxed{EP \\pm 2.576 \\  SE_{EP}}$**\n",
    "\n",
    "Naturalmente, quanto **mais largo o IC**, mais **confiança você tem que o parâmetro populacional é capturado dentro do intervalo**: quanto maior a rede, mais chance vc tem de pegar o peixe!"
   ]
  },
  {
   "cell_type": "markdown",
   "metadata": {},
   "source": [
    "### Agora deu pra perceber a importância de uma amostra grande?\n",
    "\n",
    "Note as equações para o SE da média e da proporção:\n",
    "\n",
    "\n",
    "Não somente um $n$ grande nos perimite usar o TCL (**e isso é um elemento fundamental de tudo o que fizemos!!**), como os SE são **inversamente proporcionais** a $\\sqrt{n}$, de modo que $$\\uparrow n  \\ \\ \\Leftrightarrow  \\ \\downarrow SE \\ \\ \\ \\Leftrightarrow \\  \\downarrow IC$$\n",
    "\n",
    "E, claro, quão menor é o IC, mais precisa é nossa estimativa para o parâmetro populacional!\n",
    "\n",
    "Vamos agora a alguns exemplos!\n",
    "\n",
    "_____\n"
   ]
  },
  {
   "cell_type": "markdown",
   "metadata": {},
   "source": [
    "**Exemplo 1**: Uma pesquisa feita com 1000 adultos aleatoriamente selecionados revelou que 848 deles eram a favor da expansão do uso de energia eólica no país."
   ]
  },
  {
   "cell_type": "code",
   "execution_count": 18,
   "metadata": {},
   "outputs": [
    {
     "data": {
      "text/plain": [
       "'Determinar qual é a proporção de pessoas do país favoráveis à expansão da energ. eólica'"
      ]
     },
     "execution_count": 18,
     "metadata": {},
     "output_type": "execute_result"
    }
   ],
   "source": [
    "# qual o interesse da pesquisa?\n",
    "\n",
    "\"Determinar qual é a proporção de pessoas do país favoráveis à expansão da energ. eólica\""
   ]
  },
  {
   "cell_type": "markdown",
   "metadata": {},
   "source": [
    "$p$ : proporção populacional"
   ]
  },
  {
   "cell_type": "code",
   "execution_count": 19,
   "metadata": {},
   "outputs": [
    {
     "data": {
      "text/plain": [
       "0.848"
      ]
     },
     "execution_count": 19,
     "metadata": {},
     "output_type": "execute_result"
    }
   ],
   "source": [
    "# qual é a proporção de pessoas, dentro desta amostra, que são a favor da \n",
    "# expansão do uso de energia eólica no pais?\n",
    "\n",
    "n = 1000\n",
    "\n",
    "p_hat = 848/n\n",
    "\n",
    "p_hat"
   ]
  },
  {
   "cell_type": "code",
   "execution_count": 28,
   "metadata": {},
   "outputs": [
    {
     "name": "stdout",
     "output_type": "stream",
     "text": [
      "check 1: sim, é amostra aleatória\n",
      "check 2: sim, amostra suficientemente grande!\n"
     ]
    }
   ],
   "source": [
    "# você considera razoável modelar a propoção de cidadãos que são a favor da expansão do uso de\n",
    "# energia eólica como uma distribuição normal?\n",
    "\n",
    "print(\"check 1: sim, é amostra aleatória\")\n",
    "\n",
    "if n*p_hat >= 10 and n*(1-p_hat) >= 10:\n",
    "    print(\"check 2: sim, amostra suficientemente grande!\")\n",
    "else:\n",
    "    print(\"Não podemos usar o TCL\")"
   ]
  },
  {
   "cell_type": "code",
   "execution_count": 29,
   "metadata": {},
   "outputs": [],
   "source": [
    "# n > 30"
   ]
  },
  {
   "cell_type": "code",
   "execution_count": 24,
   "metadata": {},
   "outputs": [
    {
     "data": {
      "text/plain": [
       "(848.0, 152.00000000000003)"
      ]
     },
     "execution_count": 24,
     "metadata": {},
     "output_type": "execute_result"
    }
   ],
   "source": [
    "n*p_hat, n*(1-p_hat)"
   ]
  },
  {
   "cell_type": "code",
   "execution_count": 23,
   "metadata": {},
   "outputs": [
    {
     "data": {
      "text/plain": [
       "True"
      ]
     },
     "execution_count": 23,
     "metadata": {},
     "output_type": "execute_result"
    }
   ],
   "source": [
    "n*p_hat >= 10"
   ]
  },
  {
   "cell_type": "code",
   "execution_count": 25,
   "metadata": {},
   "outputs": [
    {
     "data": {
      "text/plain": [
       "True"
      ]
     },
     "execution_count": 25,
     "metadata": {},
     "output_type": "execute_result"
    }
   ],
   "source": [
    "n*(1-p_hat) >= 10"
   ]
  },
  {
   "cell_type": "markdown",
   "metadata": {},
   "source": [
    "$\\hat{p} \\pm 1.96 \\ \\sqrt{\\frac{p(1-p)}{n}}$"
   ]
  },
  {
   "cell_type": "code",
   "execution_count": 36,
   "metadata": {},
   "outputs": [],
   "source": [
    "def calc_z_a2(conf):\n",
    "    \n",
    "    sig = 1 - conf\n",
    "\n",
    "    # inversa da cdf: qual é o valor de z, que dá área igual ao argumento?\n",
    "    return norm.ppf(conf + sig/2)"
   ]
  },
  {
   "cell_type": "code",
   "execution_count": 52,
   "metadata": {},
   "outputs": [],
   "source": [
    "# crie um IC de 95% para a proporção populacional de pessoas que são a favor da expansão do uso de\n",
    "# energia eólica no país\n",
    "\n",
    "def calc_ic_p(conf, p_hat, n):\n",
    "\n",
    "    z_a2 = calc_z_a2(conf)\n",
    "\n",
    "    ME = z_a2*np.sqrt((p_hat*(1-p_hat))/n)\n",
    "\n",
    "    IC_min = p_hat - ME\n",
    "    IC_max = p_hat + ME\n",
    "\n",
    "    return IC_min, IC_max"
   ]
  },
  {
   "cell_type": "code",
   "execution_count": 53,
   "metadata": {},
   "outputs": [
    {
     "data": {
      "text/plain": [
       "(0.8257480635415209, 0.8702519364584791)"
      ]
     },
     "execution_count": 53,
     "metadata": {},
     "output_type": "execute_result"
    }
   ],
   "source": [
    "IC_min, IC_max = calc_ic_p(0.95, 848/1000, 1000)\n",
    "\n",
    "IC_min, IC_max"
   ]
  },
  {
   "cell_type": "code",
   "execution_count": 43,
   "metadata": {},
   "outputs": [
    {
     "name": "stdout",
     "output_type": "stream",
     "text": [
      "A chance da proporção populacional ser 84.8% é 95%\n",
      "Estamos 95% confiantes de que a proporção populacional é de 84.8%\n"
     ]
    }
   ],
   "source": [
    "print(\"A chance da proporção populacional ser {:.1f}% é {:.0f}%\".format(p_hat*100, conf*100))\n",
    "\n",
    "print(\"Estamos {:.0f}% confiantes de que a proporção populacional é de {:.1f}%\".format(conf*100, p_hat*100))"
   ]
  },
  {
   "cell_type": "code",
   "execution_count": 44,
   "metadata": {},
   "outputs": [
    {
     "name": "stdout",
     "output_type": "stream",
     "text": [
      "Com 95% de confiança, podemos dizer que a proporção populacional está entre 82.6% e 87.0%\n"
     ]
    }
   ],
   "source": [
    "# como interpretar este resultado?\n",
    "\n",
    "print(\"Com {:.0f}% de confiança, podemos dizer que a proporção populacional está entre {:.1f}% e {:.1f}%\".format(conf*100,\n",
    "                                                                                                                 IC_min*100,\n",
    "                                                                                                                 IC_max*100))"
   ]
  },
  {
   "cell_type": "markdown",
   "metadata": {},
   "source": [
    "Botando tudo acima na função:"
   ]
  },
  {
   "cell_type": "code",
   "execution_count": 61,
   "metadata": {},
   "outputs": [
    {
     "name": "stdout",
     "output_type": "stream",
     "text": [
      "Com 95% de confiança, podemos dizer que a proporção populacional está entre 82.6% e 87.0%\n"
     ]
    }
   ],
   "source": [
    "conf = 0.95\n",
    "n = 1000\n",
    "\n",
    "IC_min, IC_max = calc_ic_p(conf, 848/n, n)\n",
    "\n",
    "print(\"Com {:.0f}% de confiança, podemos dizer que a proporção populacional está entre {:.1f}% e {:.1f}%\".format(conf*100,\n",
    "                                                                                                                 IC_min*100,\n",
    "                                                                                                                 IC_max*100))"
   ]
  },
  {
   "cell_type": "markdown",
   "metadata": {},
   "source": [
    "Mudando confiança pra 99%, mantendo mesmo `n`"
   ]
  },
  {
   "cell_type": "code",
   "execution_count": 56,
   "metadata": {},
   "outputs": [
    {
     "name": "stdout",
     "output_type": "stream",
     "text": [
      "Com 99% de confiança, podemos dizer que a proporção populacional está entre 81.9% e 87.7%\n"
     ]
    }
   ],
   "source": [
    "conf = 0.99\n",
    "n = 1000\n",
    "\n",
    "IC_min, IC_max = calc_ic_p(conf, 848/n, n)\n",
    "\n",
    "print(\"Com {:.0f}% de confiança, podemos dizer que a proporção populacional está entre {:.1f}% e {:.1f}%\".format(conf*100,\n",
    "                                                                                                                 IC_min*100,\n",
    "                                                                                                                 IC_max*100))"
   ]
  },
  {
   "cell_type": "markdown",
   "metadata": {},
   "source": [
    "Mantendo confiança pra 95%, mas aumentando `n`"
   ]
  },
  {
   "cell_type": "code",
   "execution_count": 69,
   "metadata": {},
   "outputs": [
    {
     "name": "stdout",
     "output_type": "stream",
     "text": [
      "Com 95% de confiança, podemos dizer que a proporção populacional está entre 84.0% e 85.4%\n"
     ]
    }
   ],
   "source": [
    "conf = 0.95\n",
    "n = 10000\n",
    "\n",
    "IC_min, IC_max = calc_ic_p(conf, 8469/n, n)\n",
    "\n",
    "print(\"Com {:.0f}% de confiança, podemos dizer que a proporção populacional está entre {:.1f}% e {:.1f}%\".format(conf*100,\n",
    "                                                                                                                 IC_min*100,\n",
    "                                                                                                                 IC_max*100))"
   ]
  },
  {
   "cell_type": "markdown",
   "metadata": {},
   "source": [
    "_____\n",
    "\n",
    "**Exemplo 2**: Vamos pegar a base de pesos e alturas:"
   ]
  },
  {
   "cell_type": "code",
   "execution_count": 93,
   "metadata": {},
   "outputs": [
    {
     "data": {
      "text/html": [
       "<div>\n",
       "<style scoped>\n",
       "    .dataframe tbody tr th:only-of-type {\n",
       "        vertical-align: middle;\n",
       "    }\n",
       "\n",
       "    .dataframe tbody tr th {\n",
       "        vertical-align: top;\n",
       "    }\n",
       "\n",
       "    .dataframe thead th {\n",
       "        text-align: right;\n",
       "    }\n",
       "</style>\n",
       "<table border=\"1\" class=\"dataframe\">\n",
       "  <thead>\n",
       "    <tr style=\"text-align: right;\">\n",
       "      <th></th>\n",
       "      <th>Gender</th>\n",
       "      <th>Height</th>\n",
       "      <th>Weight</th>\n",
       "    </tr>\n",
       "  </thead>\n",
       "  <tbody>\n",
       "    <tr>\n",
       "      <th>0</th>\n",
       "      <td>Male</td>\n",
       "      <td>187.571423</td>\n",
       "      <td>109.722200</td>\n",
       "    </tr>\n",
       "    <tr>\n",
       "      <th>1</th>\n",
       "      <td>Male</td>\n",
       "      <td>174.706036</td>\n",
       "      <td>73.623547</td>\n",
       "    </tr>\n",
       "    <tr>\n",
       "      <th>2</th>\n",
       "      <td>Male</td>\n",
       "      <td>188.239668</td>\n",
       "      <td>96.498619</td>\n",
       "    </tr>\n",
       "    <tr>\n",
       "      <th>3</th>\n",
       "      <td>Male</td>\n",
       "      <td>182.196685</td>\n",
       "      <td>99.810610</td>\n",
       "    </tr>\n",
       "    <tr>\n",
       "      <th>4</th>\n",
       "      <td>Male</td>\n",
       "      <td>177.499761</td>\n",
       "      <td>93.599656</td>\n",
       "    </tr>\n",
       "    <tr>\n",
       "      <th>...</th>\n",
       "      <td>...</td>\n",
       "      <td>...</td>\n",
       "      <td>...</td>\n",
       "    </tr>\n",
       "    <tr>\n",
       "      <th>9995</th>\n",
       "      <td>Female</td>\n",
       "      <td>168.078536</td>\n",
       "      <td>62.041846</td>\n",
       "    </tr>\n",
       "    <tr>\n",
       "      <th>9996</th>\n",
       "      <td>Female</td>\n",
       "      <td>170.350573</td>\n",
       "      <td>77.505174</td>\n",
       "    </tr>\n",
       "    <tr>\n",
       "      <th>9997</th>\n",
       "      <td>Female</td>\n",
       "      <td>162.224700</td>\n",
       "      <td>58.276022</td>\n",
       "    </tr>\n",
       "    <tr>\n",
       "      <th>9998</th>\n",
       "      <td>Female</td>\n",
       "      <td>175.346978</td>\n",
       "      <td>74.322989</td>\n",
       "    </tr>\n",
       "    <tr>\n",
       "      <th>9999</th>\n",
       "      <td>Female</td>\n",
       "      <td>157.338385</td>\n",
       "      <td>51.550895</td>\n",
       "    </tr>\n",
       "  </tbody>\n",
       "</table>\n",
       "<p>10000 rows × 3 columns</p>\n",
       "</div>"
      ],
      "text/plain": [
       "      Gender      Height      Weight\n",
       "0       Male  187.571423  109.722200\n",
       "1       Male  174.706036   73.623547\n",
       "2       Male  188.239668   96.498619\n",
       "3       Male  182.196685   99.810610\n",
       "4       Male  177.499761   93.599656\n",
       "...      ...         ...         ...\n",
       "9995  Female  168.078536   62.041846\n",
       "9996  Female  170.350573   77.505174\n",
       "9997  Female  162.224700   58.276022\n",
       "9998  Female  175.346978   74.322989\n",
       "9999  Female  157.338385   51.550895\n",
       "\n",
       "[10000 rows x 3 columns]"
      ]
     },
     "execution_count": 93,
     "metadata": {},
     "output_type": "execute_result"
    }
   ],
   "source": [
    "df_wh = pd.read_csv('../datasets/weight-height.csv')\n",
    "\n",
    "df_wh[\"Height\"] = df_wh[\"Height\"] * 2.54\n",
    "df_wh[\"Weight\"] = df_wh[\"Weight\"] / 2.2046\n",
    "\n",
    "df_wh"
   ]
  },
  {
   "cell_type": "code",
   "execution_count": 95,
   "metadata": {},
   "outputs": [
    {
     "data": {
      "text/html": [
       "<div>\n",
       "<style scoped>\n",
       "    .dataframe tbody tr th:only-of-type {\n",
       "        vertical-align: middle;\n",
       "    }\n",
       "\n",
       "    .dataframe tbody tr th {\n",
       "        vertical-align: top;\n",
       "    }\n",
       "\n",
       "    .dataframe thead th {\n",
       "        text-align: right;\n",
       "    }\n",
       "</style>\n",
       "<table border=\"1\" class=\"dataframe\">\n",
       "  <thead>\n",
       "    <tr style=\"text-align: right;\">\n",
       "      <th></th>\n",
       "      <th>Height</th>\n",
       "      <th>Weight</th>\n",
       "    </tr>\n",
       "    <tr>\n",
       "      <th>Gender</th>\n",
       "      <th></th>\n",
       "      <th></th>\n",
       "    </tr>\n",
       "  </thead>\n",
       "  <tbody>\n",
       "    <tr>\n",
       "      <th>Female</th>\n",
       "      <td>161.820285</td>\n",
       "      <td>61.625734</td>\n",
       "    </tr>\n",
       "    <tr>\n",
       "      <th>Male</th>\n",
       "      <td>175.326919</td>\n",
       "      <td>84.831997</td>\n",
       "    </tr>\n",
       "  </tbody>\n",
       "</table>\n",
       "</div>"
      ],
      "text/plain": [
       "            Height     Weight\n",
       "Gender                       \n",
       "Female  161.820285  61.625734\n",
       "Male    175.326919  84.831997"
      ]
     },
     "execution_count": 95,
     "metadata": {},
     "output_type": "execute_result"
    }
   ],
   "source": [
    "# qual é a média de alturas e pesos dentre os diferentes sexos?\n",
    "\n",
    "df_wh.groupby(\"Gender\").mean()"
   ]
  },
  {
   "cell_type": "code",
   "execution_count": 96,
   "metadata": {},
   "outputs": [
    {
     "data": {
      "text/plain": [
       "Female    5000\n",
       "Male      5000\n",
       "Name: Gender, dtype: int64"
      ]
     },
     "execution_count": 96,
     "metadata": {},
     "output_type": "execute_result"
    }
   ],
   "source": [
    "# é justo modelar as médias amostrais acima como normalmente distribuídas?\n",
    "\n",
    "df_wh[\"Gender\"].value_counts()"
   ]
  },
  {
   "cell_type": "code",
   "execution_count": 98,
   "metadata": {},
   "outputs": [
    {
     "data": {
      "text/plain": [
       "'Como n>30 para ambas as amostras, sim, estamos nas premissas do TCL'"
      ]
     },
     "execution_count": 98,
     "metadata": {},
     "output_type": "execute_result"
    }
   ],
   "source": [
    "\"Como n>30 para ambas as amostras, sim, estamos nas premissas do TCL\""
   ]
  },
  {
   "cell_type": "code",
   "execution_count": 105,
   "metadata": {},
   "outputs": [
    {
     "data": {
      "text/plain": [
       "10000"
      ]
     },
     "execution_count": 105,
     "metadata": {},
     "output_type": "execute_result"
    }
   ],
   "source": [
    "len(df_wh[\"Height\"])"
   ]
  },
  {
   "cell_type": "code",
   "execution_count": 106,
   "metadata": {},
   "outputs": [
    {
     "data": {
      "text/plain": [
       "10000"
      ]
     },
     "execution_count": 106,
     "metadata": {},
     "output_type": "execute_result"
    }
   ],
   "source": [
    "df_wh[\"Height\"].shape[0]"
   ]
  },
  {
   "cell_type": "code",
   "execution_count": 110,
   "metadata": {},
   "outputs": [
    {
     "data": {
      "text/html": [
       "<div>\n",
       "<style scoped>\n",
       "    .dataframe tbody tr th:only-of-type {\n",
       "        vertical-align: middle;\n",
       "    }\n",
       "\n",
       "    .dataframe tbody tr th {\n",
       "        vertical-align: top;\n",
       "    }\n",
       "\n",
       "    .dataframe thead tr th {\n",
       "        text-align: left;\n",
       "    }\n",
       "\n",
       "    .dataframe thead tr:last-of-type th {\n",
       "        text-align: right;\n",
       "    }\n",
       "</style>\n",
       "<table border=\"1\" class=\"dataframe\">\n",
       "  <thead>\n",
       "    <tr>\n",
       "      <th></th>\n",
       "      <th colspan=\"2\" halign=\"left\">Height</th>\n",
       "      <th colspan=\"2\" halign=\"left\">Weight</th>\n",
       "    </tr>\n",
       "    <tr>\n",
       "      <th></th>\n",
       "      <th>mean</th>\n",
       "      <th>SE</th>\n",
       "      <th>mean</th>\n",
       "      <th>SE</th>\n",
       "    </tr>\n",
       "    <tr>\n",
       "      <th>Gender</th>\n",
       "      <th></th>\n",
       "      <th></th>\n",
       "      <th></th>\n",
       "      <th></th>\n",
       "    </tr>\n",
       "  </thead>\n",
       "  <tbody>\n",
       "    <tr>\n",
       "      <th>Female</th>\n",
       "      <td>161.820285</td>\n",
       "      <td>0.096853</td>\n",
       "      <td>61.625734</td>\n",
       "      <td>0.122026</td>\n",
       "    </tr>\n",
       "    <tr>\n",
       "      <th>Male</th>\n",
       "      <td>175.326919</td>\n",
       "      <td>0.102855</td>\n",
       "      <td>84.831997</td>\n",
       "      <td>0.126893</td>\n",
       "    </tr>\n",
       "  </tbody>\n",
       "</table>\n",
       "</div>"
      ],
      "text/plain": [
       "            Height               Weight          \n",
       "              mean        SE       mean        SE\n",
       "Gender                                           \n",
       "Female  161.820285  0.096853  61.625734  0.122026\n",
       "Male    175.326919  0.102855  84.831997  0.126893"
      ]
     },
     "execution_count": 110,
     "metadata": {},
     "output_type": "execute_result"
    }
   ],
   "source": [
    "# calcule o SE das amostras de altura e peso de cada sexo\n",
    "def SE(x):\n",
    "    \n",
    "    return x.std()/np.sqrt(len(x))\n",
    "#     return x.std()/np.sqrt(x.shape[0])\n",
    "\n",
    "\n",
    "df_wh.groupby(\"Gender\").agg([np.mean, SE])"
   ]
  },
  {
   "cell_type": "markdown",
   "metadata": {},
   "source": [
    "$\\bar{x} \\pm z_{\\alpha/2} \\ \\frac{\\sigma}{\\sqrt{n}}$"
   ]
  },
  {
   "cell_type": "code",
   "execution_count": 111,
   "metadata": {},
   "outputs": [
    {
     "data": {
      "text/plain": [
       "2.5758293035489004"
      ]
     },
     "execution_count": 111,
     "metadata": {},
     "output_type": "execute_result"
    }
   ],
   "source": [
    "calc_z_a2(0.99)"
   ]
  },
  {
   "cell_type": "code",
   "execution_count": 116,
   "metadata": {},
   "outputs": [
    {
     "data": {
      "text/html": [
       "<div>\n",
       "<style scoped>\n",
       "    .dataframe tbody tr th:only-of-type {\n",
       "        vertical-align: middle;\n",
       "    }\n",
       "\n",
       "    .dataframe tbody tr th {\n",
       "        vertical-align: top;\n",
       "    }\n",
       "\n",
       "    .dataframe thead tr th {\n",
       "        text-align: left;\n",
       "    }\n",
       "\n",
       "    .dataframe thead tr:last-of-type th {\n",
       "        text-align: right;\n",
       "    }\n",
       "</style>\n",
       "<table border=\"1\" class=\"dataframe\">\n",
       "  <thead>\n",
       "    <tr>\n",
       "      <th></th>\n",
       "      <th colspan=\"3\" halign=\"left\">Height</th>\n",
       "      <th colspan=\"3\" halign=\"left\">Weight</th>\n",
       "    </tr>\n",
       "    <tr>\n",
       "      <th></th>\n",
       "      <th>mean</th>\n",
       "      <th>SE</th>\n",
       "      <th>IC_99</th>\n",
       "      <th>mean</th>\n",
       "      <th>SE</th>\n",
       "      <th>IC_99</th>\n",
       "    </tr>\n",
       "    <tr>\n",
       "      <th>Gender</th>\n",
       "      <th></th>\n",
       "      <th></th>\n",
       "      <th></th>\n",
       "      <th></th>\n",
       "      <th></th>\n",
       "      <th></th>\n",
       "    </tr>\n",
       "  </thead>\n",
       "  <tbody>\n",
       "    <tr>\n",
       "      <th>Female</th>\n",
       "      <td>161.820285</td>\n",
       "      <td>0.096853</td>\n",
       "      <td>(161.57, 162.07)</td>\n",
       "      <td>61.625734</td>\n",
       "      <td>0.122026</td>\n",
       "      <td>(61.31, 61.94)</td>\n",
       "    </tr>\n",
       "    <tr>\n",
       "      <th>Male</th>\n",
       "      <td>175.326919</td>\n",
       "      <td>0.102855</td>\n",
       "      <td>(175.06, 175.59)</td>\n",
       "      <td>84.831997</td>\n",
       "      <td>0.126893</td>\n",
       "      <td>(84.51, 85.16)</td>\n",
       "    </tr>\n",
       "  </tbody>\n",
       "</table>\n",
       "</div>"
      ],
      "text/plain": [
       "            Height                                 Weight            \\\n",
       "              mean        SE             IC_99       mean        SE   \n",
       "Gender                                                                \n",
       "Female  161.820285  0.096853  (161.57, 162.07)  61.625734  0.122026   \n",
       "Male    175.326919  0.102855  (175.06, 175.59)  84.831997  0.126893   \n",
       "\n",
       "                        \n",
       "                 IC_99  \n",
       "Gender                  \n",
       "Female  (61.31, 61.94)  \n",
       "Male    (84.51, 85.16)  "
      ]
     },
     "execution_count": 116,
     "metadata": {},
     "output_type": "execute_result"
    }
   ],
   "source": [
    "# calcule agora o intervalo de confiança de 99% para as médias populacionais de altura e peso entre os sexos\n",
    "\n",
    "def IC_99(x):\n",
    "    \n",
    "    ic_min = x.mean() - calc_z_a2(0.99)*SE(x)\n",
    "    ic_max = x.mean() + calc_z_a2(0.99)*SE(x)\n",
    "    \n",
    "    return round(ic_min, 2), round(ic_max, 2)\n",
    "\n",
    "\n",
    "df_wh.groupby(\"Gender\").agg([np.mean, SE, IC_99])"
   ]
  },
  {
   "cell_type": "code",
   "execution_count": 119,
   "metadata": {},
   "outputs": [
    {
     "name": "stdout",
     "output_type": "stream",
     "text": [
      "Estamos 99% confiantes de que a média de altura para mulheres está entre 161.57cm e 162.07cm\n",
      "Estamos 99% confiantes de que a média de peso para mulheres está entre 61.31kg e 61.94kg\n"
     ]
    }
   ],
   "source": [
    "# como interpretar este resultado?\n",
    "\n",
    "print(\"Estamos 99% confiantes de que a média de altura para mulheres está entre 161.57cm e 162.07cm\")\n",
    "print(\"Estamos 99% confiantes de que a média de peso para mulheres está entre 61.31kg e 61.94kg\")"
   ]
  },
  {
   "cell_type": "markdown",
   "metadata": {},
   "source": [
    "__________"
   ]
  },
  {
   "cell_type": "markdown",
   "metadata": {},
   "source": [
    "### 1.3) Cálculo do tamanho amostral\n",
    "\n",
    "#### 1.3.1) População Infinita\n",
    "\n",
    "Uma população é considerada infinita quando seu tamanho é muito grande.\n",
    "\n",
    "Ao realizar o cálculo do tamanho da amostra $n$, deve-se levar em consideração o erro $\\epsilon$ máximo que deseja-se assumir (ao estimar a função parâmetrica) e o nível de confiança do resultado (probabilidade). Sendo assim, o problema consiste em determinar $n$ de forma que:\n",
    "\n",
    "$$P(\\mid \\overline{X} - \\mu \\mid \\leq \\epsilon) \\simeq 1 - \\alpha $$\n",
    "\n",
    "Mas pelo Teorema Central do Limite, a equação acima pode ser reescrita como:\n",
    "\n",
    "$$P \\left(\\mid \\overline{X} - \\mu \\mid \\leq z_{\\alpha/2}\\frac{\\sigma}{\\sqrt{n}} \\right) \\simeq 1 - \\alpha $$\n",
    "\n",
    "Sendo assim, dados um erro máximo e nível de confiança, calcular o tamanho amostral consiste em:\n",
    "\n",
    "$$ z_{\\alpha/2}\\frac{\\sigma}{\\sqrt{n}} = \\epsilon  \\Longrightarrow n = \\left(\\frac{z_{\\alpha/2}\\sigma}{\\epsilon }\\right) ^2 $$\n",
    "\n",
    "#### 1.3.2) População Finita\n",
    "\n",
    "No caso em que o tamanho populacional não é tão grande, a consideramos finita. **Caso a amostra tenha um tamanho $n$ maior ou igual a 5% do tamanho da população $N$, considera-se que a população é finita**. Neste caso, aplica-se um fator de correção à fórmula vista anteriormente:\n",
    "\n",
    "$$n = \\frac{N (z_{\\alpha/2}\\sigma)^2}{(N-1)\\epsilon^2 + (z_{\\alpha/2}\\sigma)^2 }$$\n",
    "\n",
    "#### 1.3.3) Principais níveis de confiança usados\n",
    "\n",
    "<table>\n",
    "    <th style=\"text-align: center; border: 1px solid black\">Grau de Confiança</th>\n",
    "    <th style=\"text-align: center; border: 1px solid black\">$\\alpha$</th>\n",
    "    <th style=\"text-align: center; border: 1px solid black\">$z_{\\alpha/2}$</th>\n",
    "    <tr style=\" border: 1px solid black\">\n",
    "        <td style=\"text-align: center; border: 1px solid black\">90%</td>\n",
    "        <td style=\"text-align: center; border: 1px solid black\">0,10</td>\n",
    "        <td style=\"text-align: center; border: 1px solid black\">1,645</td>\n",
    "    </tr>\n",
    "    <tr style=\"text-align: center; border: 1px solid black\">\n",
    "        <td style=\"text-align: center; border: 1px solid black\">95%</td>\n",
    "        <td style=\"text-align: center; border: 1px solid black\">0,05</td>\n",
    "        <td style=\"text-align: center; border: 1px solid black\">1,96</td>\n",
    "    </tr>\n",
    "    <tr style=\"text-align: center; border: 1px solid black\">\n",
    "        <td style=\"text-align: center; border: 1px solid black\">99%</td>\n",
    "        <td style=\"text-align: center; border: 1px solid black\">0,01</td>\n",
    "        <td style=\"text-align: center; border: 1px solid black\">2,575</td>\n",
    "    </tr>\n",
    "</table>\n",
    "\n",
    "\n",
    "#### 1.3.4) Variância populacional desconhecida\n",
    "\n",
    "No caso em que a variância populacional é desconhecida, pode-se realizar uma amostragem aleatória preliminar (ao menos 30 elementos) para estimar a variancia amostral e usa-la na equação acima.\n",
    "\n",
    "$$\\widehat{\\sigma^2} = s^2 = \\frac{\\sum_{i=1}^{n}(x_i -\\overline{X})^2}{N-1} $$"
   ]
  },
  {
   "cell_type": "markdown",
   "metadata": {},
   "source": [
    "### Exemplo 1\n",
    "\n",
    "Estamos estudando o rendimento mensal dos chefes de domicílios no Brasil. Nosso supervisor determinou que o **erro máximo em relação a média seja de R$\\$$ 100,00**. Sabemos que o **desvio padrão populacional** deste grupo de trabalhadores é de **R$\\$$ 3.323,39**. Para um **nível de confiança de 95%**, qual deve ser o tamanho da amostra de nosso estudo?"
   ]
  },
  {
   "cell_type": "code",
   "execution_count": 70,
   "metadata": {},
   "outputs": [],
   "source": [
    "desvio_populacional = 3323.39"
   ]
  },
  {
   "cell_type": "code",
   "execution_count": 71,
   "metadata": {},
   "outputs": [],
   "source": [
    "erro = 100"
   ]
  },
  {
   "cell_type": "code",
   "execution_count": 73,
   "metadata": {},
   "outputs": [],
   "source": [
    "# dado o nível de confiança de 95%...\n",
    "\n",
    "z = 1.96\n",
    "\n",
    "# # # ou, então:\n",
    "# z = norm.ppf(0.95 + (0.05/2))"
   ]
  },
  {
   "cell_type": "code",
   "execution_count": 74,
   "metadata": {},
   "outputs": [
    {
     "data": {
      "text/plain": [
       "4243.016886741135"
      ]
     },
     "execution_count": 74,
     "metadata": {},
     "output_type": "execute_result"
    }
   ],
   "source": [
    "n = ((z * desvio_populacional) / erro) ** 2\n",
    "\n",
    "n"
   ]
  },
  {
   "cell_type": "code",
   "execution_count": 75,
   "metadata": {},
   "outputs": [
    {
     "data": {
      "text/plain": [
       "4244.0"
      ]
     },
     "execution_count": 75,
     "metadata": {},
     "output_type": "execute_result"
    }
   ],
   "source": [
    "np.ceil(n)"
   ]
  },
  {
   "cell_type": "code",
   "execution_count": 76,
   "metadata": {},
   "outputs": [
    {
     "data": {
      "text/plain": [
       "4243.0"
      ]
     },
     "execution_count": 76,
     "metadata": {},
     "output_type": "execute_result"
    }
   ],
   "source": [
    "np.floor(n)"
   ]
  },
  {
   "cell_type": "markdown",
   "metadata": {},
   "source": [
    "### Exemplo 2\n",
    "\n",
    "Em um lote de **10.000 latas** de refrigerante foi realizada uma amostra aleatória simples de **500 latas** e foi obtido o **desvio padrão amostral do conteúdo das latas igual a 12 ml**. O fabricante estipula um **erro máximo sobre a média populacional de apenas 5 ml**. Para garantir um **nível de confiança de 95%** qual o tamanho de amostra deve ser selecionado para este estudo?"
   ]
  },
  {
   "cell_type": "code",
   "execution_count": 85,
   "metadata": {},
   "outputs": [],
   "source": [
    "desvio = 12\n",
    "erro = 5\n",
    "N = 10000\n",
    "z = 1.96"
   ]
  },
  {
   "cell_type": "markdown",
   "metadata": {},
   "source": [
    "$$n = \\frac{N (z_{\\alpha/2}\\sigma)^2}{(N-1)\\epsilon^2 + (z_{\\alpha/2}\\sigma)^2 }$$"
   ]
  },
  {
   "cell_type": "code",
   "execution_count": 86,
   "metadata": {},
   "outputs": [
    {
     "data": {
      "text/plain": [
       "22.08096418677521"
      ]
     },
     "execution_count": 86,
     "metadata": {},
     "output_type": "execute_result"
    }
   ],
   "source": [
    "num = N * (z * desvio)**2\n",
    "\n",
    "den = ((N - 1) * erro**2) + (z * desvio)**2\n",
    "\n",
    "n = num / den\n",
    "\n",
    "n"
   ]
  },
  {
   "cell_type": "code",
   "execution_count": 87,
   "metadata": {},
   "outputs": [
    {
     "data": {
      "text/plain": [
       "23.0"
      ]
     },
     "execution_count": 87,
     "metadata": {},
     "output_type": "execute_result"
    }
   ],
   "source": [
    "np.ceil(n)"
   ]
  },
  {
   "cell_type": "markdown",
   "metadata": {},
   "source": [
    "___\n",
    "___\n",
    "___"
   ]
  }
 ],
 "metadata": {
  "kernelspec": {
   "display_name": "Python 3",
   "language": "python",
   "name": "python3"
  },
  "language_info": {
   "codemirror_mode": {
    "name": "ipython",
    "version": 3
   },
   "file_extension": ".py",
   "mimetype": "text/x-python",
   "name": "python",
   "nbconvert_exporter": "python",
   "pygments_lexer": "ipython3",
   "version": "3.7.6"
  }
 },
 "nbformat": 4,
 "nbformat_minor": 2
}
