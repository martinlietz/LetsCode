{
 "cells": [
  {
   "cell_type": "markdown",
   "metadata": {},
   "source": [
    "\n",
    "# Aula 2 - Estatística Descritiva\n",
    "\n",
    "Na aula de hoje, vamos explorar os seguintes tópicos em Python:\n",
    "\n",
    "- 1) Estatística Descritiva\n"
   ]
  },
  {
   "cell_type": "markdown",
   "metadata": {},
   "source": [
    "___\n",
    "___\n",
    "___"
   ]
  },
  {
   "cell_type": "code",
   "execution_count": 40,
   "metadata": {},
   "outputs": [],
   "source": [
    "import numpy as np\n",
    "import pandas as pd\n",
    "\n",
    "import seaborn as sns\n",
    "import matplotlib.pyplot as plt"
   ]
  },
  {
   "cell_type": "markdown",
   "metadata": {},
   "source": [
    "## 1) Estatística Descritiva\n",
    "\n",
    "Como mencionamos, o principal objetivo da estatística descritiva é gerar **medidas que resumam** o conjunto de dados que estamos analisando, ou seja, medidas que descrevam **a distribuição** dos dados, de forma quantitativa. Vamos dar uma olhada nessas medidas!\n",
    "\n",
    "_______"
   ]
  },
  {
   "cell_type": "markdown",
   "metadata": {},
   "source": [
    "### 1.1) Medidas de Posição\n",
    "\n",
    "Estas são medidas que **resumem** algumas propriedades do conjunto de dados:\n",
    "\n",
    "<img src=\"https://i.pinimg.com/originals/3e/8a/90/3e8a90c122ad25240cc46ac075cb0f4c.png\" width=200>\n",
    "\n",
    "#### 1.1.1) Média\n",
    "\n",
    "Seja $X$ uma variável quantitativa e $x_1,x_2,x_3, ...$ os valores assumidos por X. Define-se média de $\\overline{X}$ como sendo :\n",
    "\n",
    "\n",
    "$$\\overline{X} = \\frac{\\sum_{i=1}^{n}x_i}{n}= \\frac{x_1+ x_2 + x_3 +... +x_n}{n}$$"
   ]
  },
  {
   "cell_type": "code",
   "execution_count": 41,
   "metadata": {},
   "outputs": [
    {
     "name": "stdout",
     "output_type": "stream",
     "text": [
      "Dados: [ 7 15 11  8  7 19 11 11  4  8  3  2]\n",
      "\n",
      "Média dos dados: 8.833333333333334\n"
     ]
    }
   ],
   "source": [
    "np.random.seed(42)\n",
    "amostra = np.random.randint(1, 20, 12)\n",
    "\n",
    "print(\"Dados:\", amostra)\n",
    "\n",
    "print(\"\\nMédia dos dados:\", amostra.mean())\n",
    "\n",
    "# podemos usar tb: np.mean(amostra) \n",
    "# ou ainda: sum(amostra)/len(amostra)"
   ]
  },
  {
   "cell_type": "code",
   "execution_count": 42,
   "metadata": {},
   "outputs": [
    {
     "data": {
      "text/plain": [
       "8.833333333333334"
      ]
     },
     "execution_count": 42,
     "metadata": {},
     "output_type": "execute_result"
    }
   ],
   "source": [
    "sum(amostra)/len(amostra)"
   ]
  },
  {
   "cell_type": "markdown",
   "metadata": {},
   "source": [
    "#### 1.1.1) Mediana\n",
    "\n",
    "A **mediana** de uma variável é um número tal que há o mesmo número de observações maiores e menores do que ele, ocupando assim a **posição central** da série de observações.\n",
    "\n",
    "Assim, para calcularmos a mediana, basta **ordenarmos os dados, do menor pro maior**, e contar o que está no meio dos dados ordenados (se houver número par de dados, pega-se a média entre os dados que estão \"no meio\")\n",
    "\n",
    "- *Exemplo*\n",
    "\n",
    "i) 3,4,**7**,8,80 **mediana=7**       (CASO ÍMPAR)\n",
    "\n",
    "ii) 3,4,**7**,**8**,8,9 **mediana=(7+8)/2=7,5**   (CASO PAR)\n",
    "\n",
    "Logo, podemos definir \n",
    "\n",
    "- - Mediana de $X = X_{\\frac{n+1}{2}}$ `Se tamanho da amostra ímpar`\n",
    "\n",
    "\n",
    "- - Mediana de $X = \\frac{X_{\\frac{n}{2}}+ X_{\\frac{n+1}{2}}}{2}$ `Se tamanho da amostra par`\n",
    "\n",
    "Como os valores de **indice no python** começam em `0`, devemos nos atentar que a equação acima deve ficar como:\n",
    "\n",
    "- - Mediana de $X = X_{\\frac{n}{2}}$ `Se tamanho da amostra ímpar`\n",
    "\n",
    "\n",
    "- - Mediana de $X = \\frac{X_{\\frac{n-1}{2}}+ X_{\\frac{n}{2}}}{2}$ `Se tamanho da amostra par`"
   ]
  },
  {
   "cell_type": "code",
   "execution_count": 43,
   "metadata": {},
   "outputs": [
    {
     "data": {
      "text/plain": [
       "(12, 5, 6)"
      ]
     },
     "execution_count": 43,
     "metadata": {},
     "output_type": "execute_result"
    }
   ],
   "source": [
    "n = len(amostra)\n",
    "\n",
    "n, int((n-1)/2) , int((n+1)/2)"
   ]
  },
  {
   "cell_type": "code",
   "execution_count": 44,
   "metadata": {},
   "outputs": [
    {
     "data": {
      "text/plain": [
       "8.0"
      ]
     },
     "execution_count": 44,
     "metadata": {},
     "output_type": "execute_result"
    }
   ],
   "source": [
    "(sorted(amostra)[int((n-1)/2)] + sorted(amostra)[int((n+1)/2)])/2"
   ]
  },
  {
   "cell_type": "code",
   "execution_count": 45,
   "metadata": {},
   "outputs": [
    {
     "name": "stdout",
     "output_type": "stream",
     "text": [
      "Dados: [ 7 15 11  8  7 19 11 11  4  8  3  2]\n",
      "\n",
      "Dados ordenados: [2, 3, 4, 7, 7, 8, 8, 11, 11, 11, 15, 19]\n",
      "\n",
      "Mediana dos dados: 8.0\n"
     ]
    }
   ],
   "source": [
    "print(\"Dados:\", amostra)\n",
    "\n",
    "print(\"\\nDados ordenados:\", sorted(amostra))\n",
    "\n",
    "print(\"\\nMediana dos dados:\", np.median(amostra))\n",
    "\n",
    "# nesse caso, não tem o método .median(), tem que fazer da maneira acima!"
   ]
  },
  {
   "cell_type": "code",
   "execution_count": 46,
   "metadata": {},
   "outputs": [
    {
     "data": {
      "text/plain": [
       "8.0"
      ]
     },
     "execution_count": 46,
     "metadata": {},
     "output_type": "execute_result"
    }
   ],
   "source": [
    "pd.Series(amostra).median()"
   ]
  },
  {
   "cell_type": "markdown",
   "metadata": {},
   "source": [
    "#### 1.1.3) Quartis\n",
    "\n",
    "Quartis (Q1, Q2 e Q3): São valores dados a partir do conjunto de observações ordenado em ordem crescente, que dividem os dados **em quatro partes iguais**. \n",
    "\n",
    "- O primeiro quartil, Q1, é o número que deixa 25% das observações abaixo e 75% acima;\n",
    "- O segundo quartil, Q2 é a **mediana**, deixa 50% das observações abaixo e 50% das observações acima;\n",
    "- O terceiro quartil, Q3, deixa 75% das observações abaixo e 25% acima;\n",
    "\n",
    "\n",
    "<img src=\"https://aprendendogestao.com.br/wp-content/uploads/2016/07/QE-Figura-1.png\" width=\"700\" height=\"700\" />"
   ]
  },
  {
   "cell_type": "code",
   "execution_count": 47,
   "metadata": {},
   "outputs": [
    {
     "data": {
      "text/plain": [
       "3.1"
      ]
     },
     "execution_count": 47,
     "metadata": {},
     "output_type": "execute_result"
    }
   ],
   "source": [
    "np.quantile(amostra, 0.1)"
   ]
  },
  {
   "cell_type": "code",
   "execution_count": 48,
   "metadata": {},
   "outputs": [
    {
     "data": {
      "text/plain": [
       "14.600000000000001"
      ]
     },
     "execution_count": 48,
     "metadata": {},
     "output_type": "execute_result"
    }
   ],
   "source": [
    "np.quantile(amostra, 0.9)"
   ]
  },
  {
   "cell_type": "code",
   "execution_count": 49,
   "metadata": {},
   "outputs": [
    {
     "name": "stdout",
     "output_type": "stream",
     "text": [
      "Dados: [ 7 15 11  8  7 19 11 11  4  8  3  2]\n",
      "\n",
      "Dados Ordenados: [2, 3, 4, 7, 7, 8, 8, 11, 11, 11, 15, 19]\n",
      "\n",
      "Q1: 6.25\n",
      "\n",
      "Q2: 8.0\n",
      "\n",
      "Q3: 11.0\n"
     ]
    }
   ],
   "source": [
    "print(\"Dados:\", amostra)\n",
    "\n",
    "print(\"\\nDados Ordenados:\", sorted(amostra))\n",
    "\n",
    "print(\"\\nQ1:\", np.quantile(amostra, 0.25))\n",
    "print(\"\\nQ2:\", np.quantile(amostra, 0.50))\n",
    "print(\"\\nQ3:\", np.quantile(amostra, 0.75))"
   ]
  },
  {
   "cell_type": "markdown",
   "metadata": {},
   "source": [
    "####  1.1.4) Intervalo Interquartílico (IQR - interquantile range)\n",
    "\n",
    "Por construção, aproximadamente metade dos dados estão entre o 1º e o 3º quartil, isto é, este também pode ser interpretado como **um intervalo de valores tipicamente assumidos pelas observações**, e também é uma **medida de dispersão**, pois nos dá uma ideia da variação que existe entre o Q1 e o Q3!\n"
   ]
  },
  {
   "cell_type": "code",
   "execution_count": 50,
   "metadata": {},
   "outputs": [
    {
     "name": "stdout",
     "output_type": "stream",
     "text": [
      "Dados: [ 7 15 11  8  7 19 11 11  4  8  3  2]\n",
      "\n",
      "IQR: 4.75\n"
     ]
    }
   ],
   "source": [
    "print(\"Dados:\", amostra)\n",
    "\n",
    "iqr = np.quantile(amostra, 0.75) - np.quantile(amostra, 0.25)\n",
    "\n",
    "print(\"\\nIQR:\", iqr)"
   ]
  },
  {
   "cell_type": "markdown",
   "metadata": {},
   "source": [
    "#### 1.1.5) Moda\n",
    "\n",
    "A **moda** é o valor que ocorre com **maior frequencia** em um conjunto de dados \n",
    "\n",
    "Dependendo do conjunto de dados, ele pode ser:\n",
    "\n",
    "- Sem moda: quando nenhum valor se repete \n",
    "\n",
    "- unimodal: Quando existe apenas um valor repetido com maior frequência \n",
    "\n",
    "- multimodal: quando existem mais de um valor com a mesma frequência máxima\n",
    "\n",
    "\n"
   ]
  },
  {
   "cell_type": "code",
   "execution_count": 51,
   "metadata": {},
   "outputs": [
    {
     "data": {
      "text/plain": [
       "array([ 7, 15, 11,  8,  7, 19, 11, 11,  4,  8,  3,  2])"
      ]
     },
     "execution_count": 51,
     "metadata": {},
     "output_type": "execute_result"
    }
   ],
   "source": [
    "amostra"
   ]
  },
  {
   "cell_type": "code",
   "execution_count": 52,
   "metadata": {},
   "outputs": [
    {
     "data": {
      "text/plain": [
       "0      7\n",
       "1     15\n",
       "2     11\n",
       "3      8\n",
       "4      7\n",
       "5     19\n",
       "6     11\n",
       "7     11\n",
       "8      4\n",
       "9      8\n",
       "10     3\n",
       "11     2\n",
       "dtype: int32"
      ]
     },
     "execution_count": 52,
     "metadata": {},
     "output_type": "execute_result"
    }
   ],
   "source": [
    "pd.Series(amostra)"
   ]
  },
  {
   "cell_type": "code",
   "execution_count": 53,
   "metadata": {},
   "outputs": [
    {
     "data": {
      "text/plain": [
       "8.833333333333334"
      ]
     },
     "execution_count": 53,
     "metadata": {},
     "output_type": "execute_result"
    }
   ],
   "source": [
    "pd.Series(amostra).mean()"
   ]
  },
  {
   "cell_type": "code",
   "execution_count": 54,
   "metadata": {},
   "outputs": [
    {
     "data": {
      "text/plain": [
       "8.0"
      ]
     },
     "execution_count": 54,
     "metadata": {},
     "output_type": "execute_result"
    }
   ],
   "source": [
    "pd.Series(amostra).median()"
   ]
  },
  {
   "cell_type": "code",
   "execution_count": 55,
   "metadata": {},
   "outputs": [
    {
     "data": {
      "text/plain": [
       "0    11\n",
       "dtype: int32"
      ]
     },
     "execution_count": 55,
     "metadata": {},
     "output_type": "execute_result"
    }
   ],
   "source": [
    "pd.Series(amostra).mode()"
   ]
  },
  {
   "cell_type": "code",
   "execution_count": 56,
   "metadata": {},
   "outputs": [
    {
     "name": "stdout",
     "output_type": "stream",
     "text": [
      "Dados: [ 7 15 11  8  7 19 11 11  4  8  3  2]\n",
      "\n",
      "Moda dos dados: 11\n"
     ]
    }
   ],
   "source": [
    "print(\"Dados:\", amostra)\n",
    "\n",
    "# não existe método np.mode(), temos que transformar os dados em uma série\n",
    "print(\"\\nModa dos dados:\", pd.Series(amostra).mode()[0])"
   ]
  },
  {
   "cell_type": "code",
   "execution_count": 57,
   "metadata": {},
   "outputs": [
    {
     "data": {
      "text/plain": [
       "0     7\n",
       "1    11\n",
       "dtype: int32"
      ]
     },
     "execution_count": 57,
     "metadata": {},
     "output_type": "execute_result"
    }
   ],
   "source": [
    "amostra2 = np.array(list(amostra) + [7])\n",
    "\n",
    "pd.Series(amostra2).mode()"
   ]
  },
  {
   "cell_type": "code",
   "execution_count": 58,
   "metadata": {},
   "outputs": [
    {
     "data": {
      "text/plain": [
       "0     4\n",
       "1     5\n",
       "2     6\n",
       "3     7\n",
       "4     8\n",
       "5     9\n",
       "6    10\n",
       "dtype: int64"
      ]
     },
     "execution_count": 58,
     "metadata": {},
     "output_type": "execute_result"
    }
   ],
   "source": [
    "# amodal (no caso de nao ter moda mesmo) - cuidado com o pandas!\n",
    "\n",
    "pd.Series([4, 5, 6, 7, 8, 9, 10]).mode()"
   ]
  },
  {
   "cell_type": "markdown",
   "metadata": {},
   "source": [
    "Se construirmos uma série do pandas, é possível ter as estatísticas descritivas todas de uma vez, com o describe():"
   ]
  },
  {
   "cell_type": "code",
   "execution_count": 59,
   "metadata": {},
   "outputs": [
    {
     "name": "stdout",
     "output_type": "stream",
     "text": [
      "Dados na forma de série:\n"
     ]
    },
    {
     "data": {
      "text/plain": [
       "0      7\n",
       "1     15\n",
       "2     11\n",
       "3      8\n",
       "4      7\n",
       "5     19\n",
       "6     11\n",
       "7     11\n",
       "8      4\n",
       "9      8\n",
       "10     3\n",
       "11     2\n",
       "dtype: int32"
      ]
     },
     "metadata": {},
     "output_type": "display_data"
    },
    {
     "name": "stdout",
     "output_type": "stream",
     "text": [
      "Estatísticas descritivas dos dados:\n"
     ]
    },
    {
     "data": {
      "text/plain": [
       "count    12.000000\n",
       "mean      8.833333\n",
       "std       4.932883\n",
       "min       2.000000\n",
       "25%       6.250000\n",
       "50%       8.000000\n",
       "75%      11.000000\n",
       "max      19.000000\n",
       "dtype: float64"
      ]
     },
     "metadata": {},
     "output_type": "display_data"
    },
    {
     "name": "stdout",
     "output_type": "stream",
     "text": [
      "\n",
      "A moda fica de fora... Mas é fácil de obter:\n"
     ]
    },
    {
     "data": {
      "text/plain": [
       "0    11\n",
       "dtype: int32"
      ]
     },
     "metadata": {},
     "output_type": "display_data"
    }
   ],
   "source": [
    "amostra_serie = pd.Series(amostra)\n",
    "\n",
    "print(\"Dados na forma de série:\")\n",
    "display(amostra_serie)\n",
    "\n",
    "print(\"Estatísticas descritivas dos dados:\")\n",
    "display(amostra_serie.describe())\n",
    "\n",
    "print(\"\\nA moda fica de fora... Mas é fácil de obter:\")\n",
    "display(amostra_serie.mode())"
   ]
  },
  {
   "cell_type": "markdown",
   "metadata": {},
   "source": [
    "____"
   ]
  },
  {
   "cell_type": "markdown",
   "metadata": {},
   "source": [
    "### 1.2) Medidas de Dispersão\n",
    "\n",
    "Estas são **medidas de variabilidade**, que indicam o quanto as observações variam ao redor de alguma medida de centralidade (média, mediana, etc.). \n",
    "\n",
    "Em outras palavras, indicam **o quão longe podemos esperar que uma observação esteja do valor típico para aquela variável**. \n",
    "\n",
    "Existem diversas medidas de variabilidade, algumas das quais apresentamos a seguir.\n",
    "\n",
    "#### 1.2.1) Amplitude\n",
    "\n",
    "A amplitude é a **diferença entre o maior e o menor valor observado**. \n",
    "\n",
    "- **Fortemente influenciada** por valores extremos nas observações, como outliers. "
   ]
  },
  {
   "cell_type": "code",
   "execution_count": 60,
   "metadata": {},
   "outputs": [
    {
     "name": "stdout",
     "output_type": "stream",
     "text": [
      "Dados: [ 7 15 11  8  7 19 11 11  4  8  3  2]\n",
      "\n",
      "Dados ordenados: [2, 3, 4, 7, 7, 8, 8, 11, 11, 11, 15, 19]\n",
      "\n",
      "Amplitude: 17\n"
     ]
    }
   ],
   "source": [
    "print(\"Dados:\", amostra)\n",
    "print(\"\\nDados ordenados:\", sorted(amostra))\n",
    "\n",
    "print(\"\\nAmplitude:\", amostra.max()-amostra.min())"
   ]
  },
  {
   "cell_type": "code",
   "execution_count": 61,
   "metadata": {},
   "outputs": [
    {
     "name": "stdout",
     "output_type": "stream",
     "text": [
      "Dados: [  2   3   4   7   7   8   8  11  11  11  15 190]\n",
      "\n",
      "Dados ordenados: [2, 3, 4, 7, 7, 8, 8, 11, 11, 11, 15, 190]\n",
      "\n",
      "Amplitude: 188\n"
     ]
    }
   ],
   "source": [
    "amostra3 = np.array([2, 3, 4, 7, 7, 8, 8, 11, 11, 11, 15, 190])\n",
    "\n",
    "print(\"Dados:\", amostra3)\n",
    "print(\"\\nDados ordenados:\", sorted(amostra3))\n",
    "\n",
    "print(\"\\nAmplitude:\", amostra3.max()-amostra3.min())"
   ]
  },
  {
   "cell_type": "markdown",
   "metadata": {},
   "source": [
    "####  1.2.2) Variância \n",
    "\n",
    "A variância representa **o quanto os dados se afastam da média, em geral**. Por definição, tomamos a média dos **desvios quadráticos da média**:\n",
    "\n",
    "$$ Var(X) = \\sum_{i=1}^{n}\\frac{(x_i-\\overline{x})^{2}}{n}$$"
   ]
  },
  {
   "cell_type": "code",
   "execution_count": 62,
   "metadata": {},
   "outputs": [
    {
     "data": {
      "text/plain": [
       "array([ 7, 15, 11,  8,  7, 19, 11, 11,  4,  8,  3,  2])"
      ]
     },
     "execution_count": 62,
     "metadata": {},
     "output_type": "execute_result"
    }
   ],
   "source": [
    "amostra"
   ]
  },
  {
   "cell_type": "code",
   "execution_count": 63,
   "metadata": {},
   "outputs": [
    {
     "data": {
      "text/plain": [
       "8.833333333333334"
      ]
     },
     "execution_count": 63,
     "metadata": {},
     "output_type": "execute_result"
    }
   ],
   "source": [
    "amostra.mean()"
   ]
  },
  {
   "cell_type": "code",
   "execution_count": 64,
   "metadata": {},
   "outputs": [
    {
     "data": {
      "text/plain": [
       "22.305555555555557"
      ]
     },
     "execution_count": 64,
     "metadata": {},
     "output_type": "execute_result"
    }
   ],
   "source": [
    "((amostra - amostra.mean())**2).mean()"
   ]
  },
  {
   "cell_type": "code",
   "execution_count": 65,
   "metadata": {},
   "outputs": [
    {
     "name": "stdout",
     "output_type": "stream",
     "text": [
      "Dados: [ 7 15 11  8  7 19 11 11  4  8  3  2]\n",
      "\n",
      "Variância: 22.305555555555557\n"
     ]
    }
   ],
   "source": [
    "print(\"Dados:\", amostra)\n",
    "\n",
    "print(\"\\nVariância:\", np.var(amostra))"
   ]
  },
  {
   "cell_type": "markdown",
   "metadata": {},
   "source": [
    "####  1.2.3) Desvio padrão (std) - standard deviation\n",
    "\n",
    "Note que, da forma como foi definida, a variância é um valor **quadrático** nos dados. Para evitar isso, é comum tirar a raiz quadrada da variância, o que define o **desvio padrão**:\n",
    "\n",
    "$$ \\sigma(X) \\equiv \\sqrt{Var(X)} = \\sqrt{\\sum_{i=1}^{n}\\frac{(x_i-\\overline{x})^{2}}{n}}$$"
   ]
  },
  {
   "cell_type": "code",
   "execution_count": 66,
   "metadata": {},
   "outputs": [
    {
     "data": {
      "text/plain": [
       "4.722875771768251"
      ]
     },
     "execution_count": 66,
     "metadata": {},
     "output_type": "execute_result"
    }
   ],
   "source": [
    "np.sqrt(np.var(amostra))"
   ]
  },
  {
   "cell_type": "code",
   "execution_count": 67,
   "metadata": {},
   "outputs": [
    {
     "name": "stdout",
     "output_type": "stream",
     "text": [
      "Dados: [ 7 15 11  8  7 19 11 11  4  8  3  2]\n",
      "\n",
      "Desvio Padrão: 4.722875771768251\n"
     ]
    }
   ],
   "source": [
    "print(\"Dados:\", amostra)\n",
    "\n",
    "print(\"\\nDesvio Padrão:\", np.std(amostra))"
   ]
  },
  {
   "cell_type": "markdown",
   "metadata": {},
   "source": [
    "#### 1.2.4) Assimetria - skewness\n",
    "\n",
    "É o **grau de desvio ou afastamento** da **simetria** de uma distribuição.\n",
    "\n",
    "Quando a curva é simétrica, a `média`, a `mediana` e a `moda` coincidem, num mesmo ponto, havendo um perfeito equilíbrio na distribuição. Um exemplo de distribuição simétrica é a **distribuição normal**.\n",
    "\n",
    "Quando o equilíbrio não acontece, a média, a mediana e a moda recaem em pontos diferentes da distribuição, e a distribuição se torna **assimétrica**:\n",
    "\n",
    "<img src=\"https://www.researchgate.net/profile/Marco_Faria/publication/294890337/figure/fig5/AS:668873900716049@1536483373457/a-Negative-skewness-b-Normal-curve-c-Positive-skewness-Durkhure-and-Lodwal-2014.ppm\" width=600>\n",
    "\n",
    "\n",
    "- Distribuição assimétrica **Negativa ou enviesada a esquerda**: quando os valores se concentram na extremidade superior da escala e se distribuem gradativamente em direção à extremidade inferior.\n",
    "\n",
    "- Distribuição assimétrica **Positiva ou enviesada a direita**: quando os valores se concentram na extremidade inferior da escala e se distribuem gradativamente em direção à extremidade superior.\n",
    "\n",
    "A medidade de assimetria é conhecida como **skewness**, sendo calculada como:\n",
    "\n",
    "$$ s(X) = \\frac{1}{\\sigma^3}\\sum_{i=1}^{n}\\frac{(x_i-\\overline{x})^{3}}{n}$$\n",
    "\n",
    "O valor da skewness nos indica a assimetria da distribuição:\n",
    "\n",
    "- s = 0: distribuição simétrica\n",
    "- s > 0: assimetria à direita\n",
    "- s < 0: assimetria à esquerda"
   ]
  },
  {
   "cell_type": "code",
   "execution_count": 68,
   "metadata": {},
   "outputs": [
    {
     "name": "stdout",
     "output_type": "stream",
     "text": [
      "Dados: [ 7 15 11  8  7 19 11 11  4  8  3  2]\n",
      "\n",
      "Skewness: 0.6106376977108375\n"
     ]
    }
   ],
   "source": [
    "print(\"Dados:\", amostra)\n",
    "\n",
    "print(\"\\nSkewness:\", pd.Series(amostra).skew())"
   ]
  },
  {
   "cell_type": "code",
   "execution_count": 69,
   "metadata": {},
   "outputs": [
    {
     "data": {
      "text/plain": [
       "<AxesSubplot:ylabel='Count'>"
      ]
     },
     "execution_count": 69,
     "metadata": {},
     "output_type": "execute_result"
    },
    {
     "data": {
      "image/png": "[encoded data removed]",
      "text/plain": [
       "<Figure size 432x288 with 1 Axes>"
      ]
     },
     "metadata": {
      "needs_background": "light"
     },
     "output_type": "display_data"
    }
   ],
   "source": [
    "sns.histplot(amostra, kde=True)"
   ]
  },
  {
   "cell_type": "markdown",
   "metadata": {},
   "source": [
    "___\n"
   ]
  },
  {
   "cell_type": "markdown",
   "metadata": {},
   "source": [
    "Opção: usar as funções estatísticas da biblioteca [scipy!](https://docs.scipy.org/doc/scipy/reference/tutorial/stats.html)\n",
    "\n",
    "Para uma lista das funções estatísticas disponíveis, [clique aqui!](https://docs.scipy.org/doc/scipy/reference/stats.html#summary-statistics)"
   ]
  },
  {
   "cell_type": "markdown",
   "metadata": {},
   "source": [
    "___"
   ]
  },
  {
   "cell_type": "markdown",
   "metadata": {},
   "source": [
    "### 1.3) Tabelas de Frequência\n",
    "\n",
    "A distribuição de frequências é um agrupamento de dados em classes, de tal forma que contabilizamos o número de ocorrências em cada classe.\n",
    "\n",
    "O objetivo é apresentar os dados de uma maneira mais concisa e que nos permita extrair informação sobre seu comportamento. A seguir, apresentamos algumas definições necessárias à construção da distribuição de frequências.\n",
    "\n",
    "**Frequência absoluta (ƒi):** É o número de observações correspondente a cada classe. A frequência absoluta é, geralmente, chamada apenas de frequência.\n",
    "\n",
    "**Frequência relativa (ƒri):** É o quociente entre a frequência absoluta da classe correspondente e a soma das frequências (total observado), isto é, $ \\displaystyle f_{ri}=\\frac{f_i}{\\sum_{j}f_j} $ onde n representa o número total de observações.\n",
    "\n",
    "**Frequência percentual (pi):** É obtida multiplicando a frequência relativa por 100%."
   ]
  },
  {
   "cell_type": "code",
   "execution_count": 70,
   "metadata": {},
   "outputs": [],
   "source": [
    "# como exemplo, vamos usar a base do titanic\n",
    "\n",
    "df = pd.read_csv(\"../datasets/titanic.csv\")"
   ]
  },
  {
   "cell_type": "code",
   "execution_count": 71,
   "metadata": {},
   "outputs": [
    {
     "name": "stdout",
     "output_type": "stream",
     "text": [
      "Tabela de frequência ABSOLUTA da coluna 'Survived':\n"
     ]
    },
    {
     "data": {
      "text/plain": [
       "0    549\n",
       "1    342\n",
       "Name: Survived, dtype: int64"
      ]
     },
     "metadata": {},
     "output_type": "display_data"
    }
   ],
   "source": [
    "print(\"Tabela de frequência ABSOLUTA da coluna 'Survived':\")\n",
    "\n",
    "display(df[\"Survived\"].value_counts())"
   ]
  },
  {
   "cell_type": "code",
   "execution_count": 72,
   "metadata": {},
   "outputs": [
    {
     "name": "stdout",
     "output_type": "stream",
     "text": [
      "Tabela de frequência RELATIVA da coluna 'Survived':\n"
     ]
    },
    {
     "data": {
      "text/plain": [
       "0    0.616162\n",
       "1    0.383838\n",
       "Name: Survived, dtype: float64"
      ]
     },
     "metadata": {},
     "output_type": "display_data"
    }
   ],
   "source": [
    "print(\"Tabela de frequência RELATIVA da coluna 'Survived':\")\n",
    "\n",
    "display(df[\"Survived\"].value_counts(normalize=True))"
   ]
  },
  {
   "cell_type": "code",
   "execution_count": 73,
   "metadata": {},
   "outputs": [
    {
     "name": "stdout",
     "output_type": "stream",
     "text": [
      "Tabela de frequência PERCENTUAL da coluna 'Survived':\n"
     ]
    },
    {
     "data": {
      "text/plain": [
       "0    61.616162\n",
       "1    38.383838\n",
       "Name: Survived, dtype: float64"
      ]
     },
     "metadata": {},
     "output_type": "display_data"
    },
    {
     "data": {
      "text/plain": [
       "0    61.62%\n",
       "1    38.38%\n",
       "Name: Survived, dtype: object"
      ]
     },
     "metadata": {},
     "output_type": "display_data"
    },
    {
     "data": {
      "text/plain": [
       "0    61.62%\n",
       "1    38.38%\n",
       "Name: Survived, dtype: object"
      ]
     },
     "metadata": {},
     "output_type": "display_data"
    }
   ],
   "source": [
    "print(\"Tabela de frequência PERCENTUAL da coluna 'Survived':\")\n",
    "\n",
    "display(df[\"Survived\"].value_counts(normalize=True)*100)\n",
    "\n",
    "# se quiser colocar as porcentagens, tem que transformar em string, e concatenar com o \"%\"\n",
    "display(df[\"Survived\"].value_counts(normalize=True).apply(lambda x: str(round(x*100, 2)) + \"%\"))\n",
    "\n",
    "# se quiser colocar as porcentagens, tem que transformar em string, e concatenar com o \"%\"\n",
    "display(df[\"Survived\"].value_counts(normalize=True).apply(lambda x: \"{:.2f}%\".format(x*100)))"
   ]
  },
  {
   "cell_type": "markdown",
   "metadata": {},
   "source": [
    "Vamos analisar os dados de idade..."
   ]
  },
  {
   "cell_type": "code",
   "execution_count": 74,
   "metadata": {},
   "outputs": [
    {
     "name": "stdout",
     "output_type": "stream",
     "text": [
      "Média de idades: 29.69911764705882\n",
      "Desvio padrão de idades: 14.526497332334044\n",
      "\n",
      "Idade mínima: 0.42\n",
      "\n",
      "Idade Q1: 20.125\n",
      "Mediana de idades: 28.0\n",
      "Idade Q3: 38.0\n",
      "IQR das idades: 17.875\n",
      "\n",
      "Idade máxima: 80.0\n",
      "\n",
      "Skewness das idades: 0.38910778230082704\n",
      "\n",
      "Idade(s) mais comum(s):\n"
     ]
    },
    {
     "data": {
      "text/plain": [
       "0    24.0\n",
       "dtype: float64"
      ]
     },
     "metadata": {},
     "output_type": "display_data"
    }
   ],
   "source": [
    "print(\"Média de idades:\", df[\"Age\"].mean())\n",
    "print(\"Desvio padrão de idades:\", df[\"Age\"].std())\n",
    "\n",
    "print(\"\\nIdade mínima:\", df[\"Age\"].min())\n",
    "\n",
    "print(\"\\nIdade Q1:\", df[\"Age\"].quantile(0.25))\n",
    "print(\"Mediana de idades:\", df[\"Age\"].median())\n",
    "print(\"Idade Q3:\", df[\"Age\"].quantile(0.75))\n",
    "print(\"IQR das idades:\", df[\"Age\"].quantile(0.75) - df[\"Age\"].quantile(0.25))\n",
    "\n",
    "print(\"\\nIdade máxima:\", df[\"Age\"].max())\n",
    "\n",
    "print(\"\\nSkewness das idades:\", df[\"Age\"].skew())\n",
    "\n",
    "print(\"\\nIdade(s) mais comum(s):\")\n",
    "display(df[\"Age\"].mode())"
   ]
  },
  {
   "cell_type": "code",
   "execution_count": 75,
   "metadata": {},
   "outputs": [
    {
     "data": {
      "image/png": "[encoded data removed]",
      "text/plain": [
       "<Figure size 864x432 with 1 Axes>"
      ]
     },
     "metadata": {
      "needs_background": "light"
     },
     "output_type": "display_data"
    }
   ],
   "source": [
    "plt.figure(figsize=(12, 6))\n",
    "\n",
    "plt.title(\"Distribuição de idades dos passageiros do Titanic\", size=18)\n",
    "\n",
    "sns.histplot(df[\"Age\"], kde=True, alpha=0.2)\n",
    "\n",
    "# plotando média\n",
    "plt.axvline(x=df[\"Age\"].mean(), color=\"red\", label=\"média\")\n",
    "\n",
    "# plotando a mediana\n",
    "plt.axvline(df[\"Age\"].median(), color=\"green\", label=\"mediana\")\n",
    "\n",
    "# plotando a(s) moda(s)\n",
    "# plota apenas se tiver até 5 modas\n",
    "# pra cima disso, ficaria dificil de visualizar\n",
    "if df[\"Age\"].mode().shape[0] <= 5:\n",
    "\n",
    "    for i in range(df[\"Age\"].mode().shape[0]):\n",
    "\n",
    "        plt.axvline(df[\"Age\"].mode()[i], color=\"yellow\", label=\"moda\")\n",
    "\n",
    "plt.legend()\n",
    "plt.show()"
   ]
  },
  {
   "cell_type": "code",
   "execution_count": 76,
   "metadata": {},
   "outputs": [
    {
     "data": {
      "image/png": "[encoded data removed]",
      "text/plain": [
       "<Figure size 864x432 with 1 Axes>"
      ]
     },
     "metadata": {
      "needs_background": "light"
     },
     "output_type": "display_data"
    }
   ],
   "source": [
    "plt.figure(figsize=(12, 6))\n",
    "\n",
    "plt.title(\"Distribuição de fare do Titanic\", size=18)\n",
    "\n",
    "sns.histplot(df[\"Fare\"], kde=True, alpha=0.2)\n",
    "\n",
    "# plotando média\n",
    "plt.axvline(x=df[\"Fare\"].mean(), color=\"red\", label=\"média\")\n",
    "\n",
    "# plotando a mediana\n",
    "plt.axvline(df[\"Fare\"].median(), color=\"green\", label=\"mediana\")\n",
    "\n",
    "# plotando a(s) moda(s)\n",
    "# plota apenas se tiver até 5 modas\n",
    "# pra cima disso, ficaria dificil de visualizar\n",
    "if df[\"Fare\"].mode().shape[0] <= 5:\n",
    "\n",
    "    for i in range(df[\"Fare\"].mode().shape[0]):\n",
    "\n",
    "        plt.axvline(df[\"Fare\"].mode()[i], color=\"yellow\", label=\"moda\")\n",
    "\n",
    "plt.legend()\n",
    "plt.show()"
   ]
  },
  {
   "cell_type": "markdown",
   "metadata": {},
   "source": [
    "____\n",
    "\n",
    "### 1.4) Boxplot\n",
    "\n",
    "O boxplot (gráfico de caixa) é um gráfico utilizado para avaliar a distribuição empírica do dados. O boxplot é formado pelo primeiro e terceiro quartil e pela mediana. As hastes **whiskers** inferiores e superiores se estendem, respectivamente, do quartil inferior até o menor valor não inferior ao limite inferior e do quartil superior até o maior valor não superior ao limite superior. Os limites são calculados da forma abaixo\n",
    "\n",
    "Limite inferior: $ \\max\\{\\min(\\text{dados});Q_1-1,5(Q_3-Q_1)\\} $.\n",
    "\n",
    "Limite superior: $ \\min\\{\\max(\\text{dados});Q_3+1,5(Q_3-Q_1)\\} $.\n",
    "\n",
    "Para este caso, os pontos fora destes limites são considerados valores discrepantes (outliers) e são denotados por asterisco (*). A Figura  a seguir apresenta um exemplo do formato de um boxplot.\n",
    "\n",
    "<img src=https://miro.medium.com/max/8000/1*0MPDTLn8KoLApoFvI0P2vQ.png width=500>\n",
    "\n",
    "O boxplot pode ainda ser utilizado para uma comparação visual entre dois ou mais grupos. Por exemplo, duas ou mais caixas são colocadas lado a lado e se compara a variabilidade entre elas, a mediana e assim por diante. Outro ponto importante é a diferença entre os quartis $ (Q_3 - Q_1) $ que é uma medida da variabilidade dos dados."
   ]
  },
  {
   "cell_type": "code",
   "execution_count": 77,
   "metadata": {},
   "outputs": [
    {
     "data": {
      "text/plain": [
       "<AxesSubplot:xlabel='Survived', ylabel='Age'>"
      ]
     },
     "execution_count": 77,
     "metadata": {},
     "output_type": "execute_result"
    },
    {
     "data": {
      "image/png": "[encoded data removed]",
      "text/plain": [
       "<Figure size 432x288 with 1 Axes>"
      ]
     },
     "metadata": {
      "needs_background": "light"
     },
     "output_type": "display_data"
    }
   ],
   "source": [
    "sns.boxplot(data=df, y=\"Age\", x=\"Survived\", hue=\"Sex\")"
   ]
  },
  {
   "cell_type": "code",
   "execution_count": 80,
   "metadata": {},
   "outputs": [
    {
     "data": {
      "text/html": [
       "<div>\n",
       "<style scoped>\n",
       "    .dataframe tbody tr th:only-of-type {\n",
       "        vertical-align: middle;\n",
       "    }\n",
       "\n",
       "    .dataframe tbody tr th {\n",
       "        vertical-align: top;\n",
       "    }\n",
       "\n",
       "    .dataframe thead th {\n",
       "        text-align: right;\n",
       "    }\n",
       "</style>\n",
       "<table border=\"1\" class=\"dataframe\">\n",
       "  <thead>\n",
       "    <tr style=\"text-align: right;\">\n",
       "      <th></th>\n",
       "      <th></th>\n",
       "      <th>Age</th>\n",
       "    </tr>\n",
       "    <tr>\n",
       "      <th>Survived</th>\n",
       "      <th>Sex</th>\n",
       "      <th></th>\n",
       "    </tr>\n",
       "  </thead>\n",
       "  <tbody>\n",
       "    <tr>\n",
       "      <th rowspan=\"2\" valign=\"top\">0</th>\n",
       "      <th>female</th>\n",
       "      <td>24.5</td>\n",
       "    </tr>\n",
       "    <tr>\n",
       "      <th>male</th>\n",
       "      <td>29.0</td>\n",
       "    </tr>\n",
       "    <tr>\n",
       "      <th rowspan=\"2\" valign=\"top\">1</th>\n",
       "      <th>female</th>\n",
       "      <td>28.0</td>\n",
       "    </tr>\n",
       "    <tr>\n",
       "      <th>male</th>\n",
       "      <td>28.0</td>\n",
       "    </tr>\n",
       "  </tbody>\n",
       "</table>\n",
       "</div>"
      ],
      "text/plain": [
       "                  Age\n",
       "Survived Sex         \n",
       "0        female  24.5\n",
       "         male    29.0\n",
       "1        female  28.0\n",
       "         male    28.0"
      ]
     },
     "execution_count": 80,
     "metadata": {},
     "output_type": "execute_result"
    }
   ],
   "source": [
    "df.groupby([\"Survived\", \"Sex\"])[[\"Age\"]].median()"
   ]
  },
  {
   "cell_type": "code",
   "execution_count": 96,
   "metadata": {},
   "outputs": [
    {
     "data": {
      "text/plain": [
       "0"
      ]
     },
     "execution_count": 96,
     "metadata": {},
     "output_type": "execute_result"
    }
   ],
   "source": [
    "df[\"Age\"].dropna().isnull().sum()"
   ]
  },
  {
   "cell_type": "code",
   "execution_count": 97,
   "metadata": {},
   "outputs": [],
   "source": [
    "x = df[\"Age\"].dropna()"
   ]
  },
  {
   "cell_type": "code",
   "execution_count": 98,
   "metadata": {},
   "outputs": [
    {
     "data": {
      "text/plain": [
       "20.125"
      ]
     },
     "execution_count": 98,
     "metadata": {},
     "output_type": "execute_result"
    }
   ],
   "source": [
    "np.quantile(x, 0.25)"
   ]
  },
  {
   "cell_type": "code",
   "execution_count": 99,
   "metadata": {},
   "outputs": [
    {
     "data": {
      "text/plain": [
       "20.125"
      ]
     },
     "execution_count": 99,
     "metadata": {},
     "output_type": "execute_result"
    }
   ],
   "source": [
    "x.quantile(0.25)"
   ]
  },
  {
   "cell_type": "code",
   "execution_count": 100,
   "metadata": {},
   "outputs": [
    {
     "data": {
      "text/plain": [
       "29.69911764705882"
      ]
     },
     "execution_count": 100,
     "metadata": {},
     "output_type": "execute_result"
    }
   ],
   "source": [
    "np.mean(x)"
   ]
  },
  {
   "cell_type": "code",
   "execution_count": 101,
   "metadata": {},
   "outputs": [
    {
     "data": {
      "text/plain": [
       "29.69911764705882"
      ]
     },
     "execution_count": 101,
     "metadata": {},
     "output_type": "execute_result"
    }
   ],
   "source": [
    "x.mean()"
   ]
  },
  {
   "cell_type": "code",
   "execution_count": 102,
   "metadata": {},
   "outputs": [
    {
     "data": {
      "text/html": [
       "<div>\n",
       "<style scoped>\n",
       "    .dataframe tbody tr th:only-of-type {\n",
       "        vertical-align: middle;\n",
       "    }\n",
       "\n",
       "    .dataframe tbody tr th {\n",
       "        vertical-align: top;\n",
       "    }\n",
       "\n",
       "    .dataframe thead tr th {\n",
       "        text-align: left;\n",
       "    }\n",
       "\n",
       "    .dataframe thead tr:last-of-type th {\n",
       "        text-align: right;\n",
       "    }\n",
       "</style>\n",
       "<table border=\"1\" class=\"dataframe\">\n",
       "  <thead>\n",
       "    <tr>\n",
       "      <th></th>\n",
       "      <th></th>\n",
       "      <th colspan=\"4\" halign=\"left\">Age</th>\n",
       "    </tr>\n",
       "    <tr>\n",
       "      <th></th>\n",
       "      <th></th>\n",
       "      <th>mean</th>\n",
       "      <th>q1</th>\n",
       "      <th>median</th>\n",
       "      <th>q3</th>\n",
       "    </tr>\n",
       "    <tr>\n",
       "      <th>Survived</th>\n",
       "      <th>Sex</th>\n",
       "      <th></th>\n",
       "      <th></th>\n",
       "      <th></th>\n",
       "      <th></th>\n",
       "    </tr>\n",
       "  </thead>\n",
       "  <tbody>\n",
       "    <tr>\n",
       "      <th rowspan=\"2\" valign=\"top\">0</th>\n",
       "      <th>female</th>\n",
       "      <td>25.046875</td>\n",
       "      <td>16.75</td>\n",
       "      <td>24.5</td>\n",
       "      <td>33.25</td>\n",
       "    </tr>\n",
       "    <tr>\n",
       "      <th>male</th>\n",
       "      <td>31.618056</td>\n",
       "      <td>21.75</td>\n",
       "      <td>29.0</td>\n",
       "      <td>39.25</td>\n",
       "    </tr>\n",
       "    <tr>\n",
       "      <th rowspan=\"2\" valign=\"top\">1</th>\n",
       "      <th>female</th>\n",
       "      <td>28.847716</td>\n",
       "      <td>19.00</td>\n",
       "      <td>28.0</td>\n",
       "      <td>38.00</td>\n",
       "    </tr>\n",
       "    <tr>\n",
       "      <th>male</th>\n",
       "      <td>27.276022</td>\n",
       "      <td>18.00</td>\n",
       "      <td>28.0</td>\n",
       "      <td>36.00</td>\n",
       "    </tr>\n",
       "  </tbody>\n",
       "</table>\n",
       "</div>"
      ],
      "text/plain": [
       "                       Age                     \n",
       "                      mean     q1 median     q3\n",
       "Survived Sex                                   \n",
       "0        female  25.046875  16.75   24.5  33.25\n",
       "         male    31.618056  21.75   29.0  39.25\n",
       "1        female  28.847716  19.00   28.0  38.00\n",
       "         male    27.276022  18.00   28.0  36.00"
      ]
     },
     "execution_count": 102,
     "metadata": {},
     "output_type": "execute_result"
    }
   ],
   "source": [
    "def q1(x):\n",
    "    return x.quantile(0.25)\n",
    "\n",
    "def q3(x):\n",
    "    return x.quantile(0.75)\n",
    "\n",
    "df.groupby([\"Survived\", \"Sex\"])[[\"Age\"]].agg([\"mean\", q1, \"median\", q3])"
   ]
  },
  {
   "cell_type": "code",
   "execution_count": 104,
   "metadata": {},
   "outputs": [
    {
     "data": {
      "text/plain": [
       "<AxesSubplot:xlabel='Survived', ylabel='Age'>"
      ]
     },
     "execution_count": 104,
     "metadata": {},
     "output_type": "execute_result"
    },
    {
     "data": {
      "image/png": "[encoded data removed]",
      "text/plain": [
       "<Figure size 432x288 with 1 Axes>"
      ]
     },
     "metadata": {
      "needs_background": "light"
     },
     "output_type": "display_data"
    }
   ],
   "source": [
    "sns.boxplot(data=df, y=\"Age\", x=\"Survived\", hue=\"Sex\")"
   ]
  },
  {
   "cell_type": "code",
   "execution_count": null,
   "metadata": {},
   "outputs": [],
   "source": [
    "def q1(x):\n",
    "    \n",
    "    return x.quantile(0.25)"
   ]
  },
  {
   "cell_type": "code",
   "execution_count": 110,
   "metadata": {},
   "outputs": [],
   "source": [
    "idades = df[\"Age\"].dropna()"
   ]
  },
  {
   "cell_type": "code",
   "execution_count": 111,
   "metadata": {},
   "outputs": [
    {
     "data": {
      "text/plain": [
       "0      22.0\n",
       "1      38.0\n",
       "2      26.0\n",
       "3      35.0\n",
       "4      35.0\n",
       "       ... \n",
       "885    39.0\n",
       "886    27.0\n",
       "887    19.0\n",
       "889    26.0\n",
       "890    32.0\n",
       "Name: Age, Length: 714, dtype: float64"
      ]
     },
     "execution_count": 111,
     "metadata": {},
     "output_type": "execute_result"
    }
   ],
   "source": [
    "idades"
   ]
  },
  {
   "cell_type": "code",
   "execution_count": 113,
   "metadata": {},
   "outputs": [
    {
     "data": {
      "text/plain": [
       "20.125"
      ]
     },
     "execution_count": 113,
     "metadata": {},
     "output_type": "execute_result"
    }
   ],
   "source": [
    "q1(idades)"
   ]
  },
  {
   "cell_type": "code",
   "execution_count": null,
   "metadata": {},
   "outputs": [],
   "source": []
  },
  {
   "cell_type": "code",
   "execution_count": 122,
   "metadata": {},
   "outputs": [
    {
     "data": {
      "text/html": [
       "<div>\n",
       "<style scoped>\n",
       "    .dataframe tbody tr th:only-of-type {\n",
       "        vertical-align: middle;\n",
       "    }\n",
       "\n",
       "    .dataframe tbody tr th {\n",
       "        vertical-align: top;\n",
       "    }\n",
       "\n",
       "    .dataframe thead tr th {\n",
       "        text-align: left;\n",
       "    }\n",
       "\n",
       "    .dataframe thead tr:last-of-type th {\n",
       "        text-align: right;\n",
       "    }\n",
       "</style>\n",
       "<table border=\"1\" class=\"dataframe\">\n",
       "  <thead>\n",
       "    <tr>\n",
       "      <th></th>\n",
       "      <th></th>\n",
       "      <th colspan=\"5\" halign=\"left\">Age</th>\n",
       "    </tr>\n",
       "    <tr>\n",
       "      <th></th>\n",
       "      <th></th>\n",
       "      <th>whisker_min</th>\n",
       "      <th>q1</th>\n",
       "      <th>median</th>\n",
       "      <th>q3</th>\n",
       "      <th>whisker_max</th>\n",
       "    </tr>\n",
       "    <tr>\n",
       "      <th>Survived</th>\n",
       "      <th>Sex</th>\n",
       "      <th></th>\n",
       "      <th></th>\n",
       "      <th></th>\n",
       "      <th></th>\n",
       "      <th></th>\n",
       "    </tr>\n",
       "  </thead>\n",
       "  <tbody>\n",
       "    <tr>\n",
       "      <th rowspan=\"2\" valign=\"top\">0</th>\n",
       "      <th>female</th>\n",
       "      <td>-8.0</td>\n",
       "      <td>16.75</td>\n",
       "      <td>24.5</td>\n",
       "      <td>33.25</td>\n",
       "      <td>58.0</td>\n",
       "    </tr>\n",
       "    <tr>\n",
       "      <th>male</th>\n",
       "      <td>-4.5</td>\n",
       "      <td>21.75</td>\n",
       "      <td>29.0</td>\n",
       "      <td>39.25</td>\n",
       "      <td>65.5</td>\n",
       "    </tr>\n",
       "    <tr>\n",
       "      <th rowspan=\"2\" valign=\"top\">1</th>\n",
       "      <th>female</th>\n",
       "      <td>-9.5</td>\n",
       "      <td>19.00</td>\n",
       "      <td>28.0</td>\n",
       "      <td>38.00</td>\n",
       "      <td>66.5</td>\n",
       "    </tr>\n",
       "    <tr>\n",
       "      <th>male</th>\n",
       "      <td>-9.0</td>\n",
       "      <td>18.00</td>\n",
       "      <td>28.0</td>\n",
       "      <td>36.00</td>\n",
       "      <td>63.0</td>\n",
       "    </tr>\n",
       "  </tbody>\n",
       "</table>\n",
       "</div>"
      ],
      "text/plain": [
       "                        Age                                 \n",
       "                whisker_min     q1 median     q3 whisker_max\n",
       "Survived Sex                                                \n",
       "0        female        -8.0  16.75   24.5  33.25        58.0\n",
       "         male          -4.5  21.75   29.0  39.25        65.5\n",
       "1        female        -9.5  19.00   28.0  38.00        66.5\n",
       "         male          -9.0  18.00   28.0  36.00        63.0"
      ]
     },
     "execution_count": 122,
     "metadata": {},
     "output_type": "execute_result"
    }
   ],
   "source": [
    "def q1(x):\n",
    "    \n",
    "    return x.quantile(0.25)\n",
    "\n",
    "\n",
    "def q3(x):\n",
    "    \n",
    "    return x.quantile(0.75)\n",
    "\n",
    "\n",
    "def iqr(x):\n",
    "    \n",
    "    return q3(x) - q1(x)\n",
    "\n",
    "\n",
    "def whisker_min(x):\n",
    "    \n",
    "    return q1(x) - 1.5*iqr(x)\n",
    "\n",
    "\n",
    "def whisker_max(x):\n",
    "    \n",
    "    return q3(x) + 1.5*iqr(x)\n",
    "\n",
    "\n",
    "df.groupby([\"Survived\", \"Sex\"])[[\"Age\"]].agg([whisker_min, q1, np.median, q3, whisker_max])"
   ]
  },
  {
   "cell_type": "code",
   "execution_count": 119,
   "metadata": {},
   "outputs": [
    {
     "data": {
      "text/plain": [
       "{(0, 'female'): [14, 18, 24, 38, 40, 41, 49, 71, 100, 111, 113, 114, 119, 132, 140, 147, 167, 177, 180, 199, 205, 229, 235, 240, 246, 251, 254, 264, 276, 293, 297, 312, 357, 362, 374, 396, 402, 404, 409, 415, 419, 423, 436, 474, 485, 498, 501, 502, 503, 534, 541, 542, 564, 567, 578, 593, 610, 617, 634, 638, 642, 654, 657, 678, 680, 702, 729, 736, 767, 772, 792, 799, 807, 813, 816, 852, 854, 863, 882, 885, 888], (0, 'male'): [0, 4, 5, 6, 7, 12, 13, 16, 20, 26, 27, 29, 30, 33, 34, 35, 37, 42, 45, 46, 48, 50, 51, 54, 57, 59, 60, 62, 63, 64, 67, 69, 70, 72, 73, 75, 76, 77, 80, 83, 86, 87, 89, 90, 91, 92, 93, 94, 95, 96, 99, 101, 102, 103, 104, 105, 108, 110, 112, 115, 116, 117, 118, 120, 121, 122, 124, 126, 129, 130, 131, 134, 135, 137, 138, 139, 143, 144, 145, 148, 149, 150, 152, 153, 154, 155, 157, 158, 159, 160, 162, 163, 164, 168, 169, 170, 171, 173, 174, 175, ...], (1, 'female'): [1, 2, 3, 8, 9, 10, 11, 15, 19, 22, 25, 28, 31, 32, 39, 43, 44, 47, 52, 53, 56, 58, 61, 66, 68, 79, 82, 84, 85, 88, 98, 106, 109, 123, 128, 133, 136, 141, 142, 151, 156, 161, 166, 172, 184, 186, 190, 192, 194, 195, 198, 208, 211, 215, 216, 218, 230, 233, 237, 241, 247, 255, 256, 257, 258, 259, 268, 269, 272, 274, 275, 279, 289, 290, 291, 299, 300, 303, 306, 307, 309, 310, 311, 315, 316, 318, 319, 322, 323, 325, 327, 328, 329, 330, 334, 337, 341, 345, 346, 347, ...], (1, 'male'): [17, 21, 23, 36, 55, 65, 74, 78, 81, 97, 107, 125, 127, 146, 165, 183, 187, 193, 204, 207, 209, 220, 224, 226, 248, 261, 267, 271, 283, 286, 288, 298, 301, 305, 338, 340, 348, 370, 390, 391, 400, 407, 414, 429, 430, 444, 445, 447, 449, 453, 455, 460, 484, 489, 507, 509, 510, 512, 543, 547, 549, 550, 553, 569, 570, 572, 579, 587, 599, 604, 607, 621, 622, 630, 632, 643, 645, 647, 660, 664, 673, 679, 681, 690, 692, 701, 707, 709, 712, 724, 737, 740, 744, 751, 755, 762, 788, 802, 803, 804, ...]}"
      ]
     },
     "execution_count": 119,
     "metadata": {},
     "output_type": "execute_result"
    }
   ],
   "source": [
    "df.groupby([\"Survived\", \"Sex\"])[[\"Age\"]].groups"
   ]
  },
  {
   "cell_type": "code",
   "execution_count": 118,
   "metadata": {},
   "outputs": [
    {
     "data": {
      "text/plain": [
       "14     14.0\n",
       "18     31.0\n",
       "24      8.0\n",
       "38     18.0\n",
       "40     40.0\n",
       "       ... \n",
       "854    44.0\n",
       "863     NaN\n",
       "882    22.0\n",
       "885    39.0\n",
       "888     NaN\n",
       "Name: Age, Length: 81, dtype: float64"
      ]
     },
     "execution_count": 118,
     "metadata": {},
     "output_type": "execute_result"
    }
   ],
   "source": [
    "df.loc[[14, 18, 24, 38, 40, 41, 49, 71, 100, 111, 113, 114, 119, 132, \n",
    "        140, 147, 167, 177, 180, 199, 205, 229, 235, 240, 246, 251, 254, \n",
    "        264, 276, 293, 297, 312, 357, 362, 374, 396, 402, 404, 409, 415, 419,\n",
    "        423, 436, 474, 485, 498, 501, 502, 503, 534, 541, 542, 564, 567, 578,\n",
    "        593, 610, 617, 634, 638, 642, 654, 657, 678, 680, 702, 729, 736, 767, \n",
    "        772, 792, 799, 807, 813, 816, 852, 854, 863, 882, 885, 888], \"Age\"]"
   ]
  },
  {
   "cell_type": "code",
   "execution_count": 124,
   "metadata": {},
   "outputs": [
    {
     "data": {
      "text/plain": [
       "14     14.0\n",
       "18     31.0\n",
       "24      8.0\n",
       "38     18.0\n",
       "40     40.0\n",
       "       ... \n",
       "854    44.0\n",
       "863     NaN\n",
       "882    22.0\n",
       "885    39.0\n",
       "888     NaN\n",
       "Name: Age, Length: 81, dtype: float64"
      ]
     },
     "execution_count": 124,
     "metadata": {},
     "output_type": "execute_result"
    }
   ],
   "source": [
    "df.loc[(df[\"Survived\"] == 0) & (df[\"Sex\"] == \"female\"), \"Age\"]"
   ]
  },
  {
   "cell_type": "code",
   "execution_count": 123,
   "metadata": {},
   "outputs": [
    {
     "data": {
      "text/plain": [
       "16.75"
      ]
     },
     "execution_count": 123,
     "metadata": {},
     "output_type": "execute_result"
    }
   ],
   "source": [
    "q1(df.loc[(df[\"Survived\"] == 0) & (df[\"Sex\"] == \"female\"), \"Age\"])"
   ]
  },
  {
   "cell_type": "code",
   "execution_count": null,
   "metadata": {},
   "outputs": [],
   "source": [
    "idades = df[\"Age\"].dropna()"
   ]
  },
  {
   "cell_type": "code",
   "execution_count": 114,
   "metadata": {},
   "outputs": [
    {
     "data": {
      "text/plain": [
       "0      22.0\n",
       "1      38.0\n",
       "2      26.0\n",
       "3      35.0\n",
       "4      35.0\n",
       "       ... \n",
       "885    39.0\n",
       "886    27.0\n",
       "887    19.0\n",
       "889    26.0\n",
       "890    32.0\n",
       "Name: Age, Length: 714, dtype: float64"
      ]
     },
     "execution_count": 114,
     "metadata": {},
     "output_type": "execute_result"
    }
   ],
   "source": [
    "idades"
   ]
  },
  {
   "cell_type": "code",
   "execution_count": 128,
   "metadata": {},
   "outputs": [
    {
     "data": {
      "text/html": [
       "<div>\n",
       "<style scoped>\n",
       "    .dataframe tbody tr th:only-of-type {\n",
       "        vertical-align: middle;\n",
       "    }\n",
       "\n",
       "    .dataframe tbody tr th {\n",
       "        vertical-align: top;\n",
       "    }\n",
       "\n",
       "    .dataframe thead tr th {\n",
       "        text-align: left;\n",
       "    }\n",
       "\n",
       "    .dataframe thead tr:last-of-type th {\n",
       "        text-align: right;\n",
       "    }\n",
       "</style>\n",
       "<table border=\"1\" class=\"dataframe\">\n",
       "  <thead>\n",
       "    <tr>\n",
       "      <th></th>\n",
       "      <th></th>\n",
       "      <th colspan=\"9\" halign=\"left\">Age</th>\n",
       "    </tr>\n",
       "    <tr>\n",
       "      <th></th>\n",
       "      <th></th>\n",
       "      <th>whisker_min</th>\n",
       "      <th>q1</th>\n",
       "      <th>median</th>\n",
       "      <th>q3</th>\n",
       "      <th>whisker_max</th>\n",
       "      <th>mean</th>\n",
       "      <th>std</th>\n",
       "      <th>amin</th>\n",
       "      <th>amax</th>\n",
       "    </tr>\n",
       "    <tr>\n",
       "      <th>Survived</th>\n",
       "      <th>Sex</th>\n",
       "      <th></th>\n",
       "      <th></th>\n",
       "      <th></th>\n",
       "      <th></th>\n",
       "      <th></th>\n",
       "      <th></th>\n",
       "      <th></th>\n",
       "      <th></th>\n",
       "      <th></th>\n",
       "    </tr>\n",
       "  </thead>\n",
       "  <tbody>\n",
       "    <tr>\n",
       "      <th rowspan=\"2\" valign=\"top\">0</th>\n",
       "      <th>female</th>\n",
       "      <td>-8.0</td>\n",
       "      <td>16.75</td>\n",
       "      <td>24.5</td>\n",
       "      <td>33.25</td>\n",
       "      <td>58.0</td>\n",
       "      <td>25.046875</td>\n",
       "      <td>13.618591</td>\n",
       "      <td>2.00</td>\n",
       "      <td>57.0</td>\n",
       "    </tr>\n",
       "    <tr>\n",
       "      <th>male</th>\n",
       "      <td>-4.5</td>\n",
       "      <td>21.75</td>\n",
       "      <td>29.0</td>\n",
       "      <td>39.25</td>\n",
       "      <td>65.5</td>\n",
       "      <td>31.618056</td>\n",
       "      <td>14.056019</td>\n",
       "      <td>1.00</td>\n",
       "      <td>74.0</td>\n",
       "    </tr>\n",
       "    <tr>\n",
       "      <th rowspan=\"2\" valign=\"top\">1</th>\n",
       "      <th>female</th>\n",
       "      <td>-9.5</td>\n",
       "      <td>19.00</td>\n",
       "      <td>28.0</td>\n",
       "      <td>38.00</td>\n",
       "      <td>66.5</td>\n",
       "      <td>28.847716</td>\n",
       "      <td>14.175073</td>\n",
       "      <td>0.75</td>\n",
       "      <td>63.0</td>\n",
       "    </tr>\n",
       "    <tr>\n",
       "      <th>male</th>\n",
       "      <td>-9.0</td>\n",
       "      <td>18.00</td>\n",
       "      <td>28.0</td>\n",
       "      <td>36.00</td>\n",
       "      <td>63.0</td>\n",
       "      <td>27.276022</td>\n",
       "      <td>16.504803</td>\n",
       "      <td>0.42</td>\n",
       "      <td>80.0</td>\n",
       "    </tr>\n",
       "  </tbody>\n",
       "</table>\n",
       "</div>"
      ],
      "text/plain": [
       "                        Age                                              \\\n",
       "                whisker_min     q1 median     q3 whisker_max       mean   \n",
       "Survived Sex                                                              \n",
       "0        female        -8.0  16.75   24.5  33.25        58.0  25.046875   \n",
       "         male          -4.5  21.75   29.0  39.25        65.5  31.618056   \n",
       "1        female        -9.5  19.00   28.0  38.00        66.5  28.847716   \n",
       "         male          -9.0  18.00   28.0  36.00        63.0  27.276022   \n",
       "\n",
       "                                        \n",
       "                       std  amin  amax  \n",
       "Survived Sex                            \n",
       "0        female  13.618591  2.00  57.0  \n",
       "         male    14.056019  1.00  74.0  \n",
       "1        female  14.175073  0.75  63.0  \n",
       "         male    16.504803  0.42  80.0  "
      ]
     },
     "execution_count": 128,
     "metadata": {},
     "output_type": "execute_result"
    }
   ],
   "source": [
    "df.groupby([\"Survived\", \"Sex\"])[[\"Age\"]].agg([whisker_min, q1, np.median, q3, whisker_max, \n",
    "                                              np.mean, np.std, np.min, np.max])"
   ]
  },
  {
   "cell_type": "markdown",
   "metadata": {},
   "source": [
    "_____________\n",
    "\n",
    "### 1.5) Outliers\n",
    "\n",
    "**Outliers** ou **discrepantes** referem-se a obsevações **extremas**, que se deslocam em muito das outras observações em um conjunto de dados, ou seja, que **destoam do padrão da distribuição** dos dados.\n",
    "\n",
    "Outliers podem existir por motivos diferentes, alguns dos quais são:\n",
    "\n",
    "- erro na entrada de dados (erro humano);\n",
    "- erro na medição/coleta dos dados (erro instrumental);\n",
    "- erros experimentais (planejamento/execução dos experimentos);\n",
    "- outliers naturais (não decorrente de erros)\n",
    "\n",
    "No caso dos erros, é importante que os outliers sejam tratados (comumente são removidos).\n",
    "\n",
    "Por outro lado, outliers naturais são importantes constituintes dos dados, de modo que não devem ser eliminados -- mas, muitas vezes, devem ser tratados.\n",
    "\n",
    "De qualquer modo, antes de começarmos a pensar em como **tratar** os outliers, o primeiro passo é **identifica-los**. Para discussões interessantes sobre outliers, como identificá-los e tratá-los, dê uma olhada [neste post](https://towardsdatascience.com/5-ways-to-detect-outliers-that-every-data-scientist-should-know-python-code-70a54335a623) ou [neste](https://towardsdatascience.com/a-brief-overview-of-outlier-detection-techniques-1e0b2c19e561).\n",
    "\n",
    "Aqui veremos as duas maneiras mais simples de identificar outliers:"
   ]
  },
  {
   "cell_type": "code",
   "execution_count": 129,
   "metadata": {},
   "outputs": [
    {
     "data": {
      "text/plain": [
       "0      22.0\n",
       "1      38.0\n",
       "2      26.0\n",
       "3      35.0\n",
       "4      35.0\n",
       "       ... \n",
       "885    39.0\n",
       "886    27.0\n",
       "887    19.0\n",
       "889    26.0\n",
       "890    32.0\n",
       "Name: Age, Length: 714, dtype: float64"
      ]
     },
     "execution_count": 129,
     "metadata": {},
     "output_type": "execute_result"
    }
   ],
   "source": [
    "idades"
   ]
  },
  {
   "cell_type": "code",
   "execution_count": 134,
   "metadata": {},
   "outputs": [
    {
     "data": {
      "text/plain": [
       "29.69911764705882"
      ]
     },
     "execution_count": 134,
     "metadata": {},
     "output_type": "execute_result"
    }
   ],
   "source": [
    "idades.mean()"
   ]
  },
  {
   "cell_type": "code",
   "execution_count": 135,
   "metadata": {},
   "outputs": [
    {
     "data": {
      "text/plain": [
       "14.526497332334044"
      ]
     },
     "execution_count": 135,
     "metadata": {},
     "output_type": "execute_result"
    }
   ],
   "source": [
    "idades.std()"
   ]
  },
  {
   "cell_type": "code",
   "execution_count": 131,
   "metadata": {},
   "outputs": [],
   "source": [
    "z = (idades - idades.mean())/idades.std()"
   ]
  },
  {
   "cell_type": "code",
   "execution_count": 132,
   "metadata": {},
   "outputs": [
    {
     "data": {
      "text/plain": [
       "2.0039214607642444e-16"
      ]
     },
     "execution_count": 132,
     "metadata": {},
     "output_type": "execute_result"
    }
   ],
   "source": [
    "z.mean()"
   ]
  },
  {
   "cell_type": "code",
   "execution_count": 133,
   "metadata": {},
   "outputs": [
    {
     "data": {
      "text/plain": [
       "0.9999999999999994"
      ]
     },
     "execution_count": 133,
     "metadata": {},
     "output_type": "execute_result"
    }
   ],
   "source": [
    "z.std()"
   ]
  },
  {
   "cell_type": "code",
   "execution_count": 138,
   "metadata": {},
   "outputs": [
    {
     "data": {
      "text/plain": [
       "0      22.0\n",
       "1      38.0\n",
       "2      26.0\n",
       "3      35.0\n",
       "4      35.0\n",
       "       ... \n",
       "885    39.0\n",
       "886    27.0\n",
       "887    19.0\n",
       "889    26.0\n",
       "890    32.0\n",
       "Name: Age, Length: 714, dtype: float64"
      ]
     },
     "execution_count": 138,
     "metadata": {},
     "output_type": "execute_result"
    }
   ],
   "source": [
    "idades"
   ]
  },
  {
   "cell_type": "code",
   "execution_count": 140,
   "metadata": {},
   "outputs": [
    {
     "data": {
      "text/plain": [
       "0.42"
      ]
     },
     "execution_count": 140,
     "metadata": {},
     "output_type": "execute_result"
    }
   ],
   "source": [
    "idades.min()"
   ]
  },
  {
   "cell_type": "code",
   "execution_count": 142,
   "metadata": {},
   "outputs": [
    {
     "data": {
      "text/plain": [
       "29.69911764705882"
      ]
     },
     "execution_count": 142,
     "metadata": {},
     "output_type": "execute_result"
    }
   ],
   "source": [
    "idades.mean()"
   ]
  },
  {
   "cell_type": "code",
   "execution_count": 143,
   "metadata": {},
   "outputs": [
    {
     "data": {
      "text/plain": [
       "0.420003524915618"
      ]
     },
     "execution_count": 143,
     "metadata": {},
     "output_type": "execute_result"
    }
   ],
   "source": [
    "idades.mean() -2.015566*idades.std()"
   ]
  },
  {
   "cell_type": "code",
   "execution_count": 144,
   "metadata": {},
   "outputs": [
    {
     "data": {
      "text/plain": [
       "80.0"
      ]
     },
     "execution_count": 144,
     "metadata": {},
     "output_type": "execute_result"
    }
   ],
   "source": [
    "idades.max()"
   ]
  },
  {
   "cell_type": "code",
   "execution_count": 145,
   "metadata": {},
   "outputs": [
    {
     "data": {
      "text/plain": [
       "79.99987469475859"
      ]
     },
     "execution_count": 145,
     "metadata": {},
     "output_type": "execute_result"
    }
   ],
   "source": [
    "idades.mean() + 3.46269*idades.std()"
   ]
  },
  {
   "cell_type": "code",
   "execution_count": 139,
   "metadata": {},
   "outputs": [
    {
     "data": {
      "text/plain": [
       "count    7.140000e+02\n",
       "mean     2.003921e-16\n",
       "std      1.000000e+00\n",
       "min     -2.015566e+00\n",
       "25%     -6.590796e-01\n",
       "50%     -1.169668e-01\n",
       "75%      5.714304e-01\n",
       "max      3.462699e+00\n",
       "Name: Age, dtype: float64"
      ]
     },
     "execution_count": 139,
     "metadata": {},
     "output_type": "execute_result"
    }
   ],
   "source": [
    "z.describe()"
   ]
  },
  {
   "cell_type": "code",
   "execution_count": 151,
   "metadata": {},
   "outputs": [
    {
     "data": {
      "text/plain": [
       "630    80.0\n",
       "851    74.0\n",
       "Name: Age, dtype: float64"
      ]
     },
     "execution_count": 151,
     "metadata": {},
     "output_type": "execute_result"
    }
   ],
   "source": [
    "idades[z[(z > 3) | (z< -3)].index]"
   ]
  },
  {
   "cell_type": "code",
   "execution_count": 152,
   "metadata": {},
   "outputs": [
    {
     "data": {
      "text/plain": [
       "630    80.0\n",
       "851    74.0\n",
       "Name: Age, dtype: float64"
      ]
     },
     "execution_count": 152,
     "metadata": {},
     "output_type": "execute_result"
    }
   ],
   "source": [
    "idades[z[z.abs() > 3].index]"
   ]
  },
  {
   "cell_type": "markdown",
   "metadata": {},
   "source": [
    "__1.5.1) Z-score (desvio padrão)__\n",
    "\n",
    "O **z-score** de uma observação nada mais é que **o número de desvios padrões que a obervação está com relação à média**:\n",
    "\n",
    "$$ z = \\frac{x - \\mu}{\\sigma} $$\n",
    "\n",
    "$$ z \\sigma = x - \\mu $$\n",
    "\n",
    "Como vimos acima, em uma distribuição normal, 99.73% das observações são esperadas de estar entre 3 desvios-padrão da média. Assim, obervações para além desta faixa são muito improváveis de ocorrer (0.27% de chance), de forma que podem ser consideradas outliers.\n",
    "\n",
    "Assim, é comum considerar outliers os pontos tais que $|z| > 3$ (embora seja comum também variar este z-score limite, para 2.5 o, 1.5, etc.)\n",
    "\n",
    "**OBS.: naturalmente, este método é altamente dependente da hipótese de que seus dados são normalmente distribuídos! Por isso, funciona apenas aproximadamente para outros casos. Mas é uma boa aproximação, em geral.**"
   ]
  },
  {
   "cell_type": "markdown",
   "metadata": {},
   "source": [
    "Vamos ver um exemplo concreto, utilizando uma base que contém informações de [peso e altura](https://www.kaggle.com/mustafaali96/weight-height) de diversas pessoas"
   ]
  },
  {
   "cell_type": "code",
   "execution_count": 154,
   "metadata": {},
   "outputs": [],
   "source": [
    "df_wh = pd.read_csv('../datasets/weight-height.csv')"
   ]
  },
  {
   "cell_type": "code",
   "execution_count": 155,
   "metadata": {},
   "outputs": [
    {
     "data": {
      "text/html": [
       "<div>\n",
       "<style scoped>\n",
       "    .dataframe tbody tr th:only-of-type {\n",
       "        vertical-align: middle;\n",
       "    }\n",
       "\n",
       "    .dataframe tbody tr th {\n",
       "        vertical-align: top;\n",
       "    }\n",
       "\n",
       "    .dataframe thead th {\n",
       "        text-align: right;\n",
       "    }\n",
       "</style>\n",
       "<table border=\"1\" class=\"dataframe\">\n",
       "  <thead>\n",
       "    <tr style=\"text-align: right;\">\n",
       "      <th></th>\n",
       "      <th>Gender</th>\n",
       "      <th>Height</th>\n",
       "      <th>Weight</th>\n",
       "    </tr>\n",
       "  </thead>\n",
       "  <tbody>\n",
       "    <tr>\n",
       "      <th>0</th>\n",
       "      <td>Male</td>\n",
       "      <td>73.847017</td>\n",
       "      <td>241.893563</td>\n",
       "    </tr>\n",
       "    <tr>\n",
       "      <th>1</th>\n",
       "      <td>Male</td>\n",
       "      <td>68.781904</td>\n",
       "      <td>162.310473</td>\n",
       "    </tr>\n",
       "    <tr>\n",
       "      <th>2</th>\n",
       "      <td>Male</td>\n",
       "      <td>74.110105</td>\n",
       "      <td>212.740856</td>\n",
       "    </tr>\n",
       "    <tr>\n",
       "      <th>3</th>\n",
       "      <td>Male</td>\n",
       "      <td>71.730978</td>\n",
       "      <td>220.042470</td>\n",
       "    </tr>\n",
       "    <tr>\n",
       "      <th>4</th>\n",
       "      <td>Male</td>\n",
       "      <td>69.881796</td>\n",
       "      <td>206.349801</td>\n",
       "    </tr>\n",
       "    <tr>\n",
       "      <th>...</th>\n",
       "      <td>...</td>\n",
       "      <td>...</td>\n",
       "      <td>...</td>\n",
       "    </tr>\n",
       "    <tr>\n",
       "      <th>9995</th>\n",
       "      <td>Female</td>\n",
       "      <td>66.172652</td>\n",
       "      <td>136.777454</td>\n",
       "    </tr>\n",
       "    <tr>\n",
       "      <th>9996</th>\n",
       "      <td>Female</td>\n",
       "      <td>67.067155</td>\n",
       "      <td>170.867906</td>\n",
       "    </tr>\n",
       "    <tr>\n",
       "      <th>9997</th>\n",
       "      <td>Female</td>\n",
       "      <td>63.867992</td>\n",
       "      <td>128.475319</td>\n",
       "    </tr>\n",
       "    <tr>\n",
       "      <th>9998</th>\n",
       "      <td>Female</td>\n",
       "      <td>69.034243</td>\n",
       "      <td>163.852461</td>\n",
       "    </tr>\n",
       "    <tr>\n",
       "      <th>9999</th>\n",
       "      <td>Female</td>\n",
       "      <td>61.944246</td>\n",
       "      <td>113.649103</td>\n",
       "    </tr>\n",
       "  </tbody>\n",
       "</table>\n",
       "<p>10000 rows × 3 columns</p>\n",
       "</div>"
      ],
      "text/plain": [
       "      Gender     Height      Weight\n",
       "0       Male  73.847017  241.893563\n",
       "1       Male  68.781904  162.310473\n",
       "2       Male  74.110105  212.740856\n",
       "3       Male  71.730978  220.042470\n",
       "4       Male  69.881796  206.349801\n",
       "...      ...        ...         ...\n",
       "9995  Female  66.172652  136.777454\n",
       "9996  Female  67.067155  170.867906\n",
       "9997  Female  63.867992  128.475319\n",
       "9998  Female  69.034243  163.852461\n",
       "9999  Female  61.944246  113.649103\n",
       "\n",
       "[10000 rows x 3 columns]"
      ]
     },
     "execution_count": 155,
     "metadata": {},
     "output_type": "execute_result"
    }
   ],
   "source": [
    "df_wh"
   ]
  },
  {
   "cell_type": "code",
   "execution_count": 156,
   "metadata": {},
   "outputs": [
    {
     "data": {
      "text/html": [
       "<div>\n",
       "<style scoped>\n",
       "    .dataframe tbody tr th:only-of-type {\n",
       "        vertical-align: middle;\n",
       "    }\n",
       "\n",
       "    .dataframe tbody tr th {\n",
       "        vertical-align: top;\n",
       "    }\n",
       "\n",
       "    .dataframe thead th {\n",
       "        text-align: right;\n",
       "    }\n",
       "</style>\n",
       "<table border=\"1\" class=\"dataframe\">\n",
       "  <thead>\n",
       "    <tr style=\"text-align: right;\">\n",
       "      <th></th>\n",
       "      <th>Gender</th>\n",
       "      <th>Height</th>\n",
       "      <th>Weight</th>\n",
       "    </tr>\n",
       "  </thead>\n",
       "  <tbody>\n",
       "    <tr>\n",
       "      <th>0</th>\n",
       "      <td>Male</td>\n",
       "      <td>187.571423</td>\n",
       "      <td>109.722200</td>\n",
       "    </tr>\n",
       "    <tr>\n",
       "      <th>1</th>\n",
       "      <td>Male</td>\n",
       "      <td>174.706036</td>\n",
       "      <td>73.623547</td>\n",
       "    </tr>\n",
       "    <tr>\n",
       "      <th>2</th>\n",
       "      <td>Male</td>\n",
       "      <td>188.239668</td>\n",
       "      <td>96.498619</td>\n",
       "    </tr>\n",
       "    <tr>\n",
       "      <th>3</th>\n",
       "      <td>Male</td>\n",
       "      <td>182.196685</td>\n",
       "      <td>99.810610</td>\n",
       "    </tr>\n",
       "    <tr>\n",
       "      <th>4</th>\n",
       "      <td>Male</td>\n",
       "      <td>177.499761</td>\n",
       "      <td>93.599656</td>\n",
       "    </tr>\n",
       "    <tr>\n",
       "      <th>...</th>\n",
       "      <td>...</td>\n",
       "      <td>...</td>\n",
       "      <td>...</td>\n",
       "    </tr>\n",
       "    <tr>\n",
       "      <th>9995</th>\n",
       "      <td>Female</td>\n",
       "      <td>168.078536</td>\n",
       "      <td>62.041846</td>\n",
       "    </tr>\n",
       "    <tr>\n",
       "      <th>9996</th>\n",
       "      <td>Female</td>\n",
       "      <td>170.350573</td>\n",
       "      <td>77.505174</td>\n",
       "    </tr>\n",
       "    <tr>\n",
       "      <th>9997</th>\n",
       "      <td>Female</td>\n",
       "      <td>162.224700</td>\n",
       "      <td>58.276022</td>\n",
       "    </tr>\n",
       "    <tr>\n",
       "      <th>9998</th>\n",
       "      <td>Female</td>\n",
       "      <td>175.346978</td>\n",
       "      <td>74.322989</td>\n",
       "    </tr>\n",
       "    <tr>\n",
       "      <th>9999</th>\n",
       "      <td>Female</td>\n",
       "      <td>157.338385</td>\n",
       "      <td>51.550895</td>\n",
       "    </tr>\n",
       "  </tbody>\n",
       "</table>\n",
       "<p>10000 rows × 3 columns</p>\n",
       "</div>"
      ],
      "text/plain": [
       "      Gender      Height      Weight\n",
       "0       Male  187.571423  109.722200\n",
       "1       Male  174.706036   73.623547\n",
       "2       Male  188.239668   96.498619\n",
       "3       Male  182.196685   99.810610\n",
       "4       Male  177.499761   93.599656\n",
       "...      ...         ...         ...\n",
       "9995  Female  168.078536   62.041846\n",
       "9996  Female  170.350573   77.505174\n",
       "9997  Female  162.224700   58.276022\n",
       "9998  Female  175.346978   74.322989\n",
       "9999  Female  157.338385   51.550895\n",
       "\n",
       "[10000 rows x 3 columns]"
      ]
     },
     "execution_count": 156,
     "metadata": {},
     "output_type": "execute_result"
    }
   ],
   "source": [
    "# passando altura de polegadas pra centimetros\n",
    "df_wh[\"Height\"] = df_wh[\"Height\"] * 2.54\n",
    "\n",
    "# passando peso de libras pra quilos\n",
    "df_wh[\"Weight\"] = df_wh[\"Weight\"] / 2.2046\n",
    "\n",
    "df_wh"
   ]
  },
  {
   "cell_type": "code",
   "execution_count": 180,
   "metadata": {},
   "outputs": [
    {
     "data": {
      "text/html": [
       "<div>\n",
       "<style scoped>\n",
       "    .dataframe tbody tr th:only-of-type {\n",
       "        vertical-align: middle;\n",
       "    }\n",
       "\n",
       "    .dataframe tbody tr th {\n",
       "        vertical-align: top;\n",
       "    }\n",
       "\n",
       "    .dataframe thead th {\n",
       "        text-align: right;\n",
       "    }\n",
       "</style>\n",
       "<table border=\"1\" class=\"dataframe\">\n",
       "  <thead>\n",
       "    <tr style=\"text-align: right;\">\n",
       "      <th></th>\n",
       "      <th>Height</th>\n",
       "      <th>Weight</th>\n",
       "    </tr>\n",
       "  </thead>\n",
       "  <tbody>\n",
       "    <tr>\n",
       "      <th>count</th>\n",
       "      <td>10000.000000</td>\n",
       "      <td>10000.000000</td>\n",
       "    </tr>\n",
       "    <tr>\n",
       "      <th>mean</th>\n",
       "      <td>168.573602</td>\n",
       "      <td>73.228865</td>\n",
       "    </tr>\n",
       "    <tr>\n",
       "      <th>std</th>\n",
       "      <td>9.772721</td>\n",
       "      <td>14.564292</td>\n",
       "    </tr>\n",
       "    <tr>\n",
       "      <th>min</th>\n",
       "      <td>137.828359</td>\n",
       "      <td>29.347785</td>\n",
       "    </tr>\n",
       "    <tr>\n",
       "      <th>25%</th>\n",
       "      <td>161.304276</td>\n",
       "      <td>61.606664</td>\n",
       "    </tr>\n",
       "    <tr>\n",
       "      <th>50%</th>\n",
       "      <td>168.447898</td>\n",
       "      <td>73.125704</td>\n",
       "    </tr>\n",
       "    <tr>\n",
       "      <th>75%</th>\n",
       "      <td>175.702625</td>\n",
       "      <td>84.899540</td>\n",
       "    </tr>\n",
       "    <tr>\n",
       "      <th>max</th>\n",
       "      <td>200.656806</td>\n",
       "      <td>122.466524</td>\n",
       "    </tr>\n",
       "  </tbody>\n",
       "</table>\n",
       "</div>"
      ],
      "text/plain": [
       "             Height        Weight\n",
       "count  10000.000000  10000.000000\n",
       "mean     168.573602     73.228865\n",
       "std        9.772721     14.564292\n",
       "min      137.828359     29.347785\n",
       "25%      161.304276     61.606664\n",
       "50%      168.447898     73.125704\n",
       "75%      175.702625     84.899540\n",
       "max      200.656806    122.466524"
      ]
     },
     "metadata": {},
     "output_type": "display_data"
    },
    {
     "name": "stdout",
     "output_type": "stream",
     "text": [
      "Parece que sim, pois a média e mediana são bem próximas!\n"
     ]
    }
   ],
   "source": [
    "# dê uma olhada nas estatísticas rápidas com o describe()\n",
    "# responda: as variáveis numéricas parecem estar normalmente distribuídas?\n",
    "\n",
    "display(df_wh.describe())\n",
    "\n",
    "print(\"Parece que sim, pois a média e mediana são bem próximas!\")"
   ]
  },
  {
   "cell_type": "code",
   "execution_count": 181,
   "metadata": {},
   "outputs": [
    {
     "data": {
      "image/png": "[encoded data removed]",
      "text/plain": [
       "<Figure size 432x288 with 1 Axes>"
      ]
     },
     "metadata": {
      "needs_background": "light"
     },
     "output_type": "display_data"
    },
    {
     "data": {
      "image/png": "[encoded data removed]",
      "text/plain": [
       "<Figure size 432x288 with 1 Axes>"
      ]
     },
     "metadata": {
      "needs_background": "light"
     },
     "output_type": "display_data"
    }
   ],
   "source": [
    "# vamos dar uma olhada na distribuição das variáveis \"height\" e \"weight\"\n",
    "\n",
    "plt.title(\"Distribuição de alturas (coluna Height)\")\n",
    "sns.histplot(data=df_wh, x=\"Height\")\n",
    "plt.show()\n",
    "\n",
    "plt.title(\"Distribuição de pesos (coluna Weight)\")\n",
    "sns.histplot(data=df_wh, x=\"Weight\")\n",
    "plt.show()"
   ]
  },
  {
   "cell_type": "code",
   "execution_count": 182,
   "metadata": {},
   "outputs": [
    {
     "data": {
      "image/png": "[encoded data removed]",
      "text/plain": [
       "<Figure size 432x288 with 1 Axes>"
      ]
     },
     "metadata": {
      "needs_background": "light"
     },
     "output_type": "display_data"
    },
    {
     "data": {
      "image/png": "[encoded data removed]",
      "text/plain": [
       "<Figure size 432x288 with 1 Axes>"
      ]
     },
     "metadata": {
      "needs_background": "light"
     },
     "output_type": "display_data"
    }
   ],
   "source": [
    "# talvez seja interessante aplicar o parâmetro \"hue\"\n",
    "\n",
    "plt.title(\"Distribuição de alturas (coluna Height)\")\n",
    "sns.histplot(data=df_wh, x=\"Height\", hue=\"Gender\")\n",
    "plt.show()\n",
    "\n",
    "plt.title(\"Distribuição de pesos (coluna Weight)\")\n",
    "sns.histplot(data=df_wh, x=\"Weight\", hue=\"Gender\")\n",
    "plt.show()"
   ]
  },
  {
   "cell_type": "markdown",
   "metadata": {},
   "source": [
    "Vamos separar os dataframes por sexo"
   ]
  },
  {
   "cell_type": "code",
   "execution_count": 183,
   "metadata": {},
   "outputs": [],
   "source": [
    "# crie dois dataframes, \"male\" (apenas de homens) e \"female\" (apenas de muheres),\n",
    "# para olharmos as ditribuições separadamente\n",
    "\n",
    "male = df_wh[df_wh[\"Gender\"] == \"Male\"].copy()\n",
    "female = df_wh[df_wh[\"Gender\"] == \"Female\"].copy()\n",
    "\n",
    "# obs: use o .copy() é pra garantir que não vai aparecer aquele erro chato de slicing!"
   ]
  },
  {
   "cell_type": "code",
   "execution_count": 184,
   "metadata": {},
   "outputs": [
    {
     "data": {
      "image/png": "[encoded data removed]",
      "text/plain": [
       "<Figure size 432x288 with 1 Axes>"
      ]
     },
     "metadata": {
      "needs_background": "light"
     },
     "output_type": "display_data"
    },
    {
     "data": {
      "image/png": "[encoded data removed]",
      "text/plain": [
       "<Figure size 432x288 with 1 Axes>"
      ]
     },
     "metadata": {
      "needs_background": "light"
     },
     "output_type": "display_data"
    },
    {
     "name": "stdout",
     "output_type": "stream",
     "text": [
      "##########################################################\n"
     ]
    },
    {
     "data": {
      "image/png": "[encoded data removed]",
      "text/plain": [
       "<Figure size 432x288 with 1 Axes>"
      ]
     },
     "metadata": {
      "needs_background": "light"
     },
     "output_type": "display_data"
    },
    {
     "data": {
      "image/png": "[encoded data removed]",
      "text/plain": [
       "<Figure size 432x288 with 1 Axes>"
      ]
     },
     "metadata": {
      "needs_background": "light"
     },
     "output_type": "display_data"
    }
   ],
   "source": [
    "# agora, dê uma olhada nas distribuições separadamente\n",
    "\n",
    "plt.title(\"Distribuição de alturas dos homens (coluna Height)\")\n",
    "sns.histplot(data=male, x=\"Height\", kde=True)\n",
    "plt.show()\n",
    "\n",
    "plt.title(\"Distribuição de pesos dos homens (coluna Weight)\")\n",
    "sns.histplot(data=male, x=\"Weight\", kde=True)\n",
    "plt.show()\n",
    "\n",
    "print(\"##########################################################\")\n",
    "\n",
    "plt.title(\"Distribuição de alturas das mulheres (coluna Height)\")\n",
    "sns.histplot(data=female, x=\"Height\", kde=True)\n",
    "plt.show()\n",
    "\n",
    "plt.title(\"Distribuição de pesos das mulheres (coluna Weight)\")\n",
    "sns.histplot(data=female, x=\"Weight\", kde=True)\n",
    "plt.show()"
   ]
  },
  {
   "cell_type": "markdown",
   "metadata": {},
   "source": [
    "Parece que as distribuições são aproximadamente normais!"
   ]
  },
  {
   "cell_type": "code",
   "execution_count": 198,
   "metadata": {},
   "outputs": [],
   "source": [
    "# crie agora novas colunas \"z_height\" e \"z_weight\" em ambos os dataframes, \n",
    "# com o z score de cada observação para as respectivas variáveis\n",
    "\n",
    "male[\"z_height\"] = male[\"Height\"].apply(lambda x: (x-male[\"Height\"].mean())/male[\"Height\"].std())\n",
    "male[\"z_weight\"] = male[\"Weight\"].apply(lambda x: (x-male[\"Weight\"].mean())/male[\"Weight\"].std())\n",
    "\n",
    "female[\"z_height\"] = female[\"Height\"].apply(lambda x: (x-female[\"Height\"].mean())/female[\"Height\"].std())\n",
    "female[\"z_weight\"] = female[\"Weight\"].apply(lambda x: (x-female[\"Weight\"].mean())/female[\"Weight\"].std())"
   ]
  },
  {
   "cell_type": "code",
   "execution_count": 199,
   "metadata": {},
   "outputs": [
    {
     "data": {
      "text/html": [
       "<div>\n",
       "<style scoped>\n",
       "    .dataframe tbody tr th:only-of-type {\n",
       "        vertical-align: middle;\n",
       "    }\n",
       "\n",
       "    .dataframe tbody tr th {\n",
       "        vertical-align: top;\n",
       "    }\n",
       "\n",
       "    .dataframe thead th {\n",
       "        text-align: right;\n",
       "    }\n",
       "</style>\n",
       "<table border=\"1\" class=\"dataframe\">\n",
       "  <thead>\n",
       "    <tr style=\"text-align: right;\">\n",
       "      <th></th>\n",
       "      <th>Gender</th>\n",
       "      <th>Height</th>\n",
       "      <th>Weight</th>\n",
       "      <th>z_height</th>\n",
       "      <th>z_weight</th>\n",
       "    </tr>\n",
       "  </thead>\n",
       "  <tbody>\n",
       "    <tr>\n",
       "      <th>0</th>\n",
       "      <td>Male</td>\n",
       "      <td>187.571423</td>\n",
       "      <td>109.722200</td>\n",
       "      <td>1.683570</td>\n",
       "      <td>2.774001</td>\n",
       "    </tr>\n",
       "    <tr>\n",
       "      <th>1</th>\n",
       "      <td>Male</td>\n",
       "      <td>174.706036</td>\n",
       "      <td>73.623547</td>\n",
       "      <td>-0.085369</td>\n",
       "      <td>-1.249176</td>\n",
       "    </tr>\n",
       "    <tr>\n",
       "      <th>2</th>\n",
       "      <td>Male</td>\n",
       "      <td>188.239668</td>\n",
       "      <td>96.498619</td>\n",
       "      <td>1.775451</td>\n",
       "      <td>1.300239</td>\n",
       "    </tr>\n",
       "    <tr>\n",
       "      <th>3</th>\n",
       "      <td>Male</td>\n",
       "      <td>182.196685</td>\n",
       "      <td>99.810610</td>\n",
       "      <td>0.944565</td>\n",
       "      <td>1.669359</td>\n",
       "    </tr>\n",
       "    <tr>\n",
       "      <th>4</th>\n",
       "      <td>Male</td>\n",
       "      <td>177.499761</td>\n",
       "      <td>93.599656</td>\n",
       "      <td>0.298757</td>\n",
       "      <td>0.977151</td>\n",
       "    </tr>\n",
       "    <tr>\n",
       "      <th>...</th>\n",
       "      <td>...</td>\n",
       "      <td>...</td>\n",
       "      <td>...</td>\n",
       "      <td>...</td>\n",
       "      <td>...</td>\n",
       "    </tr>\n",
       "    <tr>\n",
       "      <th>4995</th>\n",
       "      <td>Male</td>\n",
       "      <td>174.904559</td>\n",
       "      <td>80.346118</td>\n",
       "      <td>-0.058073</td>\n",
       "      <td>-0.499949</td>\n",
       "    </tr>\n",
       "    <tr>\n",
       "      <th>4996</th>\n",
       "      <td>Male</td>\n",
       "      <td>175.192494</td>\n",
       "      <td>72.251306</td>\n",
       "      <td>-0.018483</td>\n",
       "      <td>-1.402112</td>\n",
       "    </tr>\n",
       "    <tr>\n",
       "      <th>4997</th>\n",
       "      <td>Male</td>\n",
       "      <td>170.215039</td>\n",
       "      <td>90.354441</td>\n",
       "      <td>-0.702863</td>\n",
       "      <td>0.615474</td>\n",
       "    </tr>\n",
       "    <tr>\n",
       "      <th>4998</th>\n",
       "      <td>Male</td>\n",
       "      <td>181.756605</td>\n",
       "      <td>84.326367</td>\n",
       "      <td>0.884056</td>\n",
       "      <td>-0.056352</td>\n",
       "    </tr>\n",
       "    <tr>\n",
       "      <th>4999</th>\n",
       "      <td>Male</td>\n",
       "      <td>178.693775</td>\n",
       "      <td>90.221814</td>\n",
       "      <td>0.462929</td>\n",
       "      <td>0.600693</td>\n",
       "    </tr>\n",
       "  </tbody>\n",
       "</table>\n",
       "<p>5000 rows × 5 columns</p>\n",
       "</div>"
      ],
      "text/plain": [
       "     Gender      Height      Weight  z_height  z_weight\n",
       "0      Male  187.571423  109.722200  1.683570  2.774001\n",
       "1      Male  174.706036   73.623547 -0.085369 -1.249176\n",
       "2      Male  188.239668   96.498619  1.775451  1.300239\n",
       "3      Male  182.196685   99.810610  0.944565  1.669359\n",
       "4      Male  177.499761   93.599656  0.298757  0.977151\n",
       "...     ...         ...         ...       ...       ...\n",
       "4995   Male  174.904559   80.346118 -0.058073 -0.499949\n",
       "4996   Male  175.192494   72.251306 -0.018483 -1.402112\n",
       "4997   Male  170.215039   90.354441 -0.702863  0.615474\n",
       "4998   Male  181.756605   84.326367  0.884056 -0.056352\n",
       "4999   Male  178.693775   90.221814  0.462929  0.600693\n",
       "\n",
       "[5000 rows x 5 columns]"
      ]
     },
     "execution_count": 199,
     "metadata": {},
     "output_type": "execute_result"
    }
   ],
   "source": [
    "male"
   ]
  },
  {
   "cell_type": "code",
   "execution_count": 200,
   "metadata": {},
   "outputs": [
    {
     "data": {
      "text/html": [
       "<div>\n",
       "<style scoped>\n",
       "    .dataframe tbody tr th:only-of-type {\n",
       "        vertical-align: middle;\n",
       "    }\n",
       "\n",
       "    .dataframe tbody tr th {\n",
       "        vertical-align: top;\n",
       "    }\n",
       "\n",
       "    .dataframe thead th {\n",
       "        text-align: right;\n",
       "    }\n",
       "</style>\n",
       "<table border=\"1\" class=\"dataframe\">\n",
       "  <thead>\n",
       "    <tr style=\"text-align: right;\">\n",
       "      <th></th>\n",
       "      <th>Gender</th>\n",
       "      <th>Height</th>\n",
       "      <th>Weight</th>\n",
       "      <th>z_height</th>\n",
       "      <th>z_weight</th>\n",
       "    </tr>\n",
       "  </thead>\n",
       "  <tbody>\n",
       "    <tr>\n",
       "      <th>5000</th>\n",
       "      <td>Female</td>\n",
       "      <td>149.633259</td>\n",
       "      <td>46.306961</td>\n",
       "      <td>-1.779502</td>\n",
       "      <td>-1.775362</td>\n",
       "    </tr>\n",
       "    <tr>\n",
       "      <th>5001</th>\n",
       "      <td>Female</td>\n",
       "      <td>165.684232</td>\n",
       "      <td>64.095901</td>\n",
       "      <td>0.564198</td>\n",
       "      <td>0.286279</td>\n",
       "    </tr>\n",
       "    <tr>\n",
       "      <th>5002</th>\n",
       "      <td>Female</td>\n",
       "      <td>160.957270</td>\n",
       "      <td>59.439990</td>\n",
       "      <td>-0.126014</td>\n",
       "      <td>-0.253316</td>\n",
       "    </tr>\n",
       "    <tr>\n",
       "      <th>5003</th>\n",
       "      <td>Female</td>\n",
       "      <td>163.779193</td>\n",
       "      <td>58.138216</td>\n",
       "      <td>0.286032</td>\n",
       "      <td>-0.404184</td>\n",
       "    </tr>\n",
       "    <tr>\n",
       "      <th>5004</th>\n",
       "      <td>Female</td>\n",
       "      <td>156.954464</td>\n",
       "      <td>58.868460</td>\n",
       "      <td>-0.710488</td>\n",
       "      <td>-0.319553</td>\n",
       "    </tr>\n",
       "    <tr>\n",
       "      <th>...</th>\n",
       "      <td>...</td>\n",
       "      <td>...</td>\n",
       "      <td>...</td>\n",
       "      <td>...</td>\n",
       "      <td>...</td>\n",
       "    </tr>\n",
       "    <tr>\n",
       "      <th>9995</th>\n",
       "      <td>Female</td>\n",
       "      <td>168.078536</td>\n",
       "      <td>62.041846</td>\n",
       "      <td>0.913805</td>\n",
       "      <td>0.048225</td>\n",
       "    </tr>\n",
       "    <tr>\n",
       "      <th>9996</th>\n",
       "      <td>Female</td>\n",
       "      <td>170.350573</td>\n",
       "      <td>77.505174</td>\n",
       "      <td>1.245559</td>\n",
       "      <td>1.840340</td>\n",
       "    </tr>\n",
       "    <tr>\n",
       "      <th>9997</th>\n",
       "      <td>Female</td>\n",
       "      <td>162.224700</td>\n",
       "      <td>58.276022</td>\n",
       "      <td>0.059051</td>\n",
       "      <td>-0.388213</td>\n",
       "    </tr>\n",
       "    <tr>\n",
       "      <th>9998</th>\n",
       "      <td>Female</td>\n",
       "      <td>175.346978</td>\n",
       "      <td>74.322989</td>\n",
       "      <td>1.975114</td>\n",
       "      <td>1.471542</td>\n",
       "    </tr>\n",
       "    <tr>\n",
       "      <th>9999</th>\n",
       "      <td>Female</td>\n",
       "      <td>157.338385</td>\n",
       "      <td>51.550895</td>\n",
       "      <td>-0.654429</td>\n",
       "      <td>-1.167619</td>\n",
       "    </tr>\n",
       "  </tbody>\n",
       "</table>\n",
       "<p>5000 rows × 5 columns</p>\n",
       "</div>"
      ],
      "text/plain": [
       "      Gender      Height     Weight  z_height  z_weight\n",
       "5000  Female  149.633259  46.306961 -1.779502 -1.775362\n",
       "5001  Female  165.684232  64.095901  0.564198  0.286279\n",
       "5002  Female  160.957270  59.439990 -0.126014 -0.253316\n",
       "5003  Female  163.779193  58.138216  0.286032 -0.404184\n",
       "5004  Female  156.954464  58.868460 -0.710488 -0.319553\n",
       "...      ...         ...        ...       ...       ...\n",
       "9995  Female  168.078536  62.041846  0.913805  0.048225\n",
       "9996  Female  170.350573  77.505174  1.245559  1.840340\n",
       "9997  Female  162.224700  58.276022  0.059051 -0.388213\n",
       "9998  Female  175.346978  74.322989  1.975114  1.471542\n",
       "9999  Female  157.338385  51.550895 -0.654429 -1.167619\n",
       "\n",
       "[5000 rows x 5 columns]"
      ]
     },
     "execution_count": 200,
     "metadata": {},
     "output_type": "execute_result"
    }
   ],
   "source": [
    "female"
   ]
  },
  {
   "cell_type": "code",
   "execution_count": 201,
   "metadata": {
    "scrolled": false
   },
   "outputs": [
    {
     "name": "stdout",
     "output_type": "stream",
     "text": [
      "Outliers homens apenas para a altura:\n"
     ]
    },
    {
     "data": {
      "text/html": [
       "<div>\n",
       "<style scoped>\n",
       "    .dataframe tbody tr th:only-of-type {\n",
       "        vertical-align: middle;\n",
       "    }\n",
       "\n",
       "    .dataframe tbody tr th {\n",
       "        vertical-align: top;\n",
       "    }\n",
       "\n",
       "    .dataframe thead th {\n",
       "        text-align: right;\n",
       "    }\n",
       "</style>\n",
       "<table border=\"1\" class=\"dataframe\">\n",
       "  <thead>\n",
       "    <tr style=\"text-align: right;\">\n",
       "      <th></th>\n",
       "      <th>Gender</th>\n",
       "      <th>Height</th>\n",
       "      <th>Weight</th>\n",
       "      <th>z_height</th>\n",
       "      <th>z_weight</th>\n",
       "    </tr>\n",
       "  </thead>\n",
       "  <tbody>\n",
       "    <tr>\n",
       "      <th>994</th>\n",
       "      <td>Male</td>\n",
       "      <td>198.363503</td>\n",
       "      <td>115.980602</td>\n",
       "      <td>3.167438</td>\n",
       "      <td>3.471497</td>\n",
       "    </tr>\n",
       "    <tr>\n",
       "      <th>1238</th>\n",
       "      <td>Male</td>\n",
       "      <td>153.322811</td>\n",
       "      <td>60.848611</td>\n",
       "      <td>-3.025476</td>\n",
       "      <td>-2.672937</td>\n",
       "    </tr>\n",
       "    <tr>\n",
       "      <th>1317</th>\n",
       "      <td>Male</td>\n",
       "      <td>199.293614</td>\n",
       "      <td>103.121911</td>\n",
       "      <td>3.295324</td>\n",
       "      <td>2.038402</td>\n",
       "    </tr>\n",
       "    <tr>\n",
       "      <th>1942</th>\n",
       "      <td>Male</td>\n",
       "      <td>152.353937</td>\n",
       "      <td>51.212437</td>\n",
       "      <td>-3.158693</td>\n",
       "      <td>-3.746883</td>\n",
       "    </tr>\n",
       "    <tr>\n",
       "      <th>2014</th>\n",
       "      <td>Male</td>\n",
       "      <td>200.656806</td>\n",
       "      <td>122.466524</td>\n",
       "      <td>3.482758</td>\n",
       "      <td>4.194350</td>\n",
       "    </tr>\n",
       "    <tr>\n",
       "      <th>2191</th>\n",
       "      <td>Male</td>\n",
       "      <td>152.244170</td>\n",
       "      <td>64.165644</td>\n",
       "      <td>-3.173785</td>\n",
       "      <td>-2.303255</td>\n",
       "    </tr>\n",
       "    <tr>\n",
       "      <th>2334</th>\n",
       "      <td>Male</td>\n",
       "      <td>150.826850</td>\n",
       "      <td>61.866554</td>\n",
       "      <td>-3.368661</td>\n",
       "      <td>-2.559487</td>\n",
       "    </tr>\n",
       "    <tr>\n",
       "      <th>2527</th>\n",
       "      <td>Male</td>\n",
       "      <td>153.083534</td>\n",
       "      <td>57.359890</td>\n",
       "      <td>-3.058376</td>\n",
       "      <td>-3.061753</td>\n",
       "    </tr>\n",
       "    <tr>\n",
       "      <th>2974</th>\n",
       "      <td>Male</td>\n",
       "      <td>153.078663</td>\n",
       "      <td>60.304898</td>\n",
       "      <td>-3.059046</td>\n",
       "      <td>-2.733533</td>\n",
       "    </tr>\n",
       "    <tr>\n",
       "      <th>3020</th>\n",
       "      <td>Male</td>\n",
       "      <td>152.951227</td>\n",
       "      <td>66.659097</td>\n",
       "      <td>-3.076568</td>\n",
       "      <td>-2.025361</td>\n",
       "    </tr>\n",
       "    <tr>\n",
       "      <th>3285</th>\n",
       "      <td>Male</td>\n",
       "      <td>199.461654</td>\n",
       "      <td>115.163297</td>\n",
       "      <td>3.318429</td>\n",
       "      <td>3.380409</td>\n",
       "    </tr>\n",
       "    <tr>\n",
       "      <th>3757</th>\n",
       "      <td>Male</td>\n",
       "      <td>199.698290</td>\n",
       "      <td>111.464113</td>\n",
       "      <td>3.350966</td>\n",
       "      <td>2.968136</td>\n",
       "    </tr>\n",
       "    <tr>\n",
       "      <th>4170</th>\n",
       "      <td>Male</td>\n",
       "      <td>153.019044</td>\n",
       "      <td>69.777479</td>\n",
       "      <td>-3.067243</td>\n",
       "      <td>-1.677819</td>\n",
       "    </tr>\n",
       "    <tr>\n",
       "      <th>4637</th>\n",
       "      <td>Male</td>\n",
       "      <td>152.064918</td>\n",
       "      <td>53.435472</td>\n",
       "      <td>-3.198432</td>\n",
       "      <td>-3.499127</td>\n",
       "    </tr>\n",
       "    <tr>\n",
       "      <th>4794</th>\n",
       "      <td>Male</td>\n",
       "      <td>148.353539</td>\n",
       "      <td>55.038702</td>\n",
       "      <td>-3.708731</td>\n",
       "      <td>-3.320448</td>\n",
       "    </tr>\n",
       "  </tbody>\n",
       "</table>\n",
       "</div>"
      ],
      "text/plain": [
       "     Gender      Height      Weight  z_height  z_weight\n",
       "994    Male  198.363503  115.980602  3.167438  3.471497\n",
       "1238   Male  153.322811   60.848611 -3.025476 -2.672937\n",
       "1317   Male  199.293614  103.121911  3.295324  2.038402\n",
       "1942   Male  152.353937   51.212437 -3.158693 -3.746883\n",
       "2014   Male  200.656806  122.466524  3.482758  4.194350\n",
       "2191   Male  152.244170   64.165644 -3.173785 -2.303255\n",
       "2334   Male  150.826850   61.866554 -3.368661 -2.559487\n",
       "2527   Male  153.083534   57.359890 -3.058376 -3.061753\n",
       "2974   Male  153.078663   60.304898 -3.059046 -2.733533\n",
       "3020   Male  152.951227   66.659097 -3.076568 -2.025361\n",
       "3285   Male  199.461654  115.163297  3.318429  3.380409\n",
       "3757   Male  199.698290  111.464113  3.350966  2.968136\n",
       "4170   Male  153.019044   69.777479 -3.067243 -1.677819\n",
       "4637   Male  152.064918   53.435472 -3.198432 -3.499127\n",
       "4794   Male  148.353539   55.038702 -3.708731 -3.320448"
      ]
     },
     "metadata": {},
     "output_type": "display_data"
    },
    {
     "name": "stdout",
     "output_type": "stream",
     "text": [
      "\n",
      "Outliers homens apenas para o peso:\n"
     ]
    },
    {
     "data": {
      "text/html": [
       "<div>\n",
       "<style scoped>\n",
       "    .dataframe tbody tr th:only-of-type {\n",
       "        vertical-align: middle;\n",
       "    }\n",
       "\n",
       "    .dataframe tbody tr th {\n",
       "        vertical-align: top;\n",
       "    }\n",
       "\n",
       "    .dataframe thead th {\n",
       "        text-align: right;\n",
       "    }\n",
       "</style>\n",
       "<table border=\"1\" class=\"dataframe\">\n",
       "  <thead>\n",
       "    <tr style=\"text-align: right;\">\n",
       "      <th></th>\n",
       "      <th>Gender</th>\n",
       "      <th>Height</th>\n",
       "      <th>Weight</th>\n",
       "      <th>z_height</th>\n",
       "      <th>z_weight</th>\n",
       "    </tr>\n",
       "  </thead>\n",
       "  <tbody>\n",
       "    <tr>\n",
       "      <th>565</th>\n",
       "      <td>Male</td>\n",
       "      <td>156.855185</td>\n",
       "      <td>56.031998</td>\n",
       "      <td>-2.539789</td>\n",
       "      <td>-3.209746</td>\n",
       "    </tr>\n",
       "    <tr>\n",
       "      <th>994</th>\n",
       "      <td>Male</td>\n",
       "      <td>198.363503</td>\n",
       "      <td>115.980602</td>\n",
       "      <td>3.167438</td>\n",
       "      <td>3.471497</td>\n",
       "    </tr>\n",
       "    <tr>\n",
       "      <th>1506</th>\n",
       "      <td>Male</td>\n",
       "      <td>192.274490</td>\n",
       "      <td>113.202226</td>\n",
       "      <td>2.330223</td>\n",
       "      <td>3.161848</td>\n",
       "    </tr>\n",
       "    <tr>\n",
       "      <th>1610</th>\n",
       "      <td>Male</td>\n",
       "      <td>194.608567</td>\n",
       "      <td>116.058844</td>\n",
       "      <td>2.651149</td>\n",
       "      <td>3.480217</td>\n",
       "    </tr>\n",
       "    <tr>\n",
       "      <th>1750</th>\n",
       "      <td>Male</td>\n",
       "      <td>189.495857</td>\n",
       "      <td>113.374890</td>\n",
       "      <td>1.948172</td>\n",
       "      <td>3.181092</td>\n",
       "    </tr>\n",
       "    <tr>\n",
       "      <th>1942</th>\n",
       "      <td>Male</td>\n",
       "      <td>152.353937</td>\n",
       "      <td>51.212437</td>\n",
       "      <td>-3.158693</td>\n",
       "      <td>-3.746883</td>\n",
       "    </tr>\n",
       "    <tr>\n",
       "      <th>2014</th>\n",
       "      <td>Male</td>\n",
       "      <td>200.656806</td>\n",
       "      <td>122.466524</td>\n",
       "      <td>3.482758</td>\n",
       "      <td>4.194350</td>\n",
       "    </tr>\n",
       "    <tr>\n",
       "      <th>2070</th>\n",
       "      <td>Male</td>\n",
       "      <td>196.762546</td>\n",
       "      <td>114.558963</td>\n",
       "      <td>2.947312</td>\n",
       "      <td>3.313056</td>\n",
       "    </tr>\n",
       "    <tr>\n",
       "      <th>2417</th>\n",
       "      <td>Male</td>\n",
       "      <td>160.411852</td>\n",
       "      <td>54.088205</td>\n",
       "      <td>-2.050762</td>\n",
       "      <td>-3.426381</td>\n",
       "    </tr>\n",
       "    <tr>\n",
       "      <th>2500</th>\n",
       "      <td>Male</td>\n",
       "      <td>155.129197</td>\n",
       "      <td>55.647334</td>\n",
       "      <td>-2.777105</td>\n",
       "      <td>-3.252616</td>\n",
       "    </tr>\n",
       "    <tr>\n",
       "      <th>2527</th>\n",
       "      <td>Male</td>\n",
       "      <td>153.083534</td>\n",
       "      <td>57.359890</td>\n",
       "      <td>-3.058376</td>\n",
       "      <td>-3.061753</td>\n",
       "    </tr>\n",
       "    <tr>\n",
       "      <th>2873</th>\n",
       "      <td>Male</td>\n",
       "      <td>155.286648</td>\n",
       "      <td>57.074763</td>\n",
       "      <td>-2.755457</td>\n",
       "      <td>-3.093530</td>\n",
       "    </tr>\n",
       "    <tr>\n",
       "      <th>2971</th>\n",
       "      <td>Male</td>\n",
       "      <td>190.898472</td>\n",
       "      <td>113.543115</td>\n",
       "      <td>2.141026</td>\n",
       "      <td>3.199840</td>\n",
       "    </tr>\n",
       "    <tr>\n",
       "      <th>3228</th>\n",
       "      <td>Male</td>\n",
       "      <td>193.722416</td>\n",
       "      <td>112.213890</td>\n",
       "      <td>2.529307</td>\n",
       "      <td>3.051699</td>\n",
       "    </tr>\n",
       "    <tr>\n",
       "      <th>3285</th>\n",
       "      <td>Male</td>\n",
       "      <td>199.461654</td>\n",
       "      <td>115.163297</td>\n",
       "      <td>3.318429</td>\n",
       "      <td>3.380409</td>\n",
       "    </tr>\n",
       "    <tr>\n",
       "      <th>3332</th>\n",
       "      <td>Male</td>\n",
       "      <td>154.231542</td>\n",
       "      <td>56.077456</td>\n",
       "      <td>-2.900529</td>\n",
       "      <td>-3.204680</td>\n",
       "    </tr>\n",
       "    <tr>\n",
       "      <th>3669</th>\n",
       "      <td>Male</td>\n",
       "      <td>195.601174</td>\n",
       "      <td>114.045655</td>\n",
       "      <td>2.787628</td>\n",
       "      <td>3.255848</td>\n",
       "    </tr>\n",
       "    <tr>\n",
       "      <th>3909</th>\n",
       "      <td>Male</td>\n",
       "      <td>195.751082</td>\n",
       "      <td>112.995664</td>\n",
       "      <td>2.808240</td>\n",
       "      <td>3.138827</td>\n",
       "    </tr>\n",
       "    <tr>\n",
       "      <th>4077</th>\n",
       "      <td>Male</td>\n",
       "      <td>190.441460</td>\n",
       "      <td>112.877108</td>\n",
       "      <td>2.078189</td>\n",
       "      <td>3.125614</td>\n",
       "    </tr>\n",
       "    <tr>\n",
       "      <th>4331</th>\n",
       "      <td>Male</td>\n",
       "      <td>195.195854</td>\n",
       "      <td>115.308479</td>\n",
       "      <td>2.731899</td>\n",
       "      <td>3.396589</td>\n",
       "    </tr>\n",
       "    <tr>\n",
       "      <th>4637</th>\n",
       "      <td>Male</td>\n",
       "      <td>152.064918</td>\n",
       "      <td>53.435472</td>\n",
       "      <td>-3.198432</td>\n",
       "      <td>-3.499127</td>\n",
       "    </tr>\n",
       "    <tr>\n",
       "      <th>4794</th>\n",
       "      <td>Male</td>\n",
       "      <td>148.353539</td>\n",
       "      <td>55.038702</td>\n",
       "      <td>-3.708731</td>\n",
       "      <td>-3.320448</td>\n",
       "    </tr>\n",
       "  </tbody>\n",
       "</table>\n",
       "</div>"
      ],
      "text/plain": [
       "     Gender      Height      Weight  z_height  z_weight\n",
       "565    Male  156.855185   56.031998 -2.539789 -3.209746\n",
       "994    Male  198.363503  115.980602  3.167438  3.471497\n",
       "1506   Male  192.274490  113.202226  2.330223  3.161848\n",
       "1610   Male  194.608567  116.058844  2.651149  3.480217\n",
       "1750   Male  189.495857  113.374890  1.948172  3.181092\n",
       "1942   Male  152.353937   51.212437 -3.158693 -3.746883\n",
       "2014   Male  200.656806  122.466524  3.482758  4.194350\n",
       "2070   Male  196.762546  114.558963  2.947312  3.313056\n",
       "2417   Male  160.411852   54.088205 -2.050762 -3.426381\n",
       "2500   Male  155.129197   55.647334 -2.777105 -3.252616\n",
       "2527   Male  153.083534   57.359890 -3.058376 -3.061753\n",
       "2873   Male  155.286648   57.074763 -2.755457 -3.093530\n",
       "2971   Male  190.898472  113.543115  2.141026  3.199840\n",
       "3228   Male  193.722416  112.213890  2.529307  3.051699\n",
       "3285   Male  199.461654  115.163297  3.318429  3.380409\n",
       "3332   Male  154.231542   56.077456 -2.900529 -3.204680\n",
       "3669   Male  195.601174  114.045655  2.787628  3.255848\n",
       "3909   Male  195.751082  112.995664  2.808240  3.138827\n",
       "4077   Male  190.441460  112.877108  2.078189  3.125614\n",
       "4331   Male  195.195854  115.308479  2.731899  3.396589\n",
       "4637   Male  152.064918   53.435472 -3.198432 -3.499127\n",
       "4794   Male  148.353539   55.038702 -3.708731 -3.320448"
      ]
     },
     "metadata": {},
     "output_type": "display_data"
    },
    {
     "name": "stdout",
     "output_type": "stream",
     "text": [
      "\n",
      " ############################################### \n",
      "\n",
      "Outliers mulheres apenas para a altura:\n"
     ]
    },
    {
     "data": {
      "text/html": [
       "<div>\n",
       "<style scoped>\n",
       "    .dataframe tbody tr th:only-of-type {\n",
       "        vertical-align: middle;\n",
       "    }\n",
       "\n",
       "    .dataframe tbody tr th {\n",
       "        vertical-align: top;\n",
       "    }\n",
       "\n",
       "    .dataframe thead th {\n",
       "        text-align: right;\n",
       "    }\n",
       "</style>\n",
       "<table border=\"1\" class=\"dataframe\">\n",
       "  <thead>\n",
       "    <tr style=\"text-align: right;\">\n",
       "      <th></th>\n",
       "      <th>Gender</th>\n",
       "      <th>Height</th>\n",
       "      <th>Weight</th>\n",
       "      <th>z_height</th>\n",
       "      <th>z_weight</th>\n",
       "    </tr>\n",
       "  </thead>\n",
       "  <tbody>\n",
       "    <tr>\n",
       "      <th>5103</th>\n",
       "      <td>Female</td>\n",
       "      <td>182.857792</td>\n",
       "      <td>80.452691</td>\n",
       "      <td>3.071814</td>\n",
       "      <td>2.181941</td>\n",
       "    </tr>\n",
       "    <tr>\n",
       "      <th>5345</th>\n",
       "      <td>Female</td>\n",
       "      <td>140.554691</td>\n",
       "      <td>40.082819</td>\n",
       "      <td>-3.105118</td>\n",
       "      <td>-2.496706</td>\n",
       "    </tr>\n",
       "    <tr>\n",
       "      <th>6624</th>\n",
       "      <td>Female</td>\n",
       "      <td>138.726819</td>\n",
       "      <td>32.383992</td>\n",
       "      <td>-3.372017</td>\n",
       "      <td>-3.388958</td>\n",
       "    </tr>\n",
       "    <tr>\n",
       "      <th>7162</th>\n",
       "      <td>Female</td>\n",
       "      <td>183.971618</td>\n",
       "      <td>80.726450</td>\n",
       "      <td>3.234451</td>\n",
       "      <td>2.213669</td>\n",
       "    </tr>\n",
       "    <tr>\n",
       "      <th>7294</th>\n",
       "      <td>Female</td>\n",
       "      <td>139.379268</td>\n",
       "      <td>35.655752</td>\n",
       "      <td>-3.276749</td>\n",
       "      <td>-3.009779</td>\n",
       "    </tr>\n",
       "    <tr>\n",
       "      <th>7311</th>\n",
       "      <td>Female</td>\n",
       "      <td>186.409548</td>\n",
       "      <td>86.219146</td>\n",
       "      <td>3.590427</td>\n",
       "      <td>2.850242</td>\n",
       "    </tr>\n",
       "    <tr>\n",
       "      <th>7617</th>\n",
       "      <td>Female</td>\n",
       "      <td>140.077336</td>\n",
       "      <td>40.285046</td>\n",
       "      <td>-3.174820</td>\n",
       "      <td>-2.473269</td>\n",
       "    </tr>\n",
       "    <tr>\n",
       "      <th>7856</th>\n",
       "      <td>Female</td>\n",
       "      <td>183.552461</td>\n",
       "      <td>85.474601</td>\n",
       "      <td>3.173247</td>\n",
       "      <td>2.763953</td>\n",
       "    </tr>\n",
       "    <tr>\n",
       "      <th>8635</th>\n",
       "      <td>Female</td>\n",
       "      <td>183.105329</td>\n",
       "      <td>87.331427</td>\n",
       "      <td>3.107958</td>\n",
       "      <td>2.979149</td>\n",
       "    </tr>\n",
       "    <tr>\n",
       "      <th>9285</th>\n",
       "      <td>Female</td>\n",
       "      <td>137.828359</td>\n",
       "      <td>29.347785</td>\n",
       "      <td>-3.503207</td>\n",
       "      <td>-3.740838</td>\n",
       "    </tr>\n",
       "  </tbody>\n",
       "</table>\n",
       "</div>"
      ],
      "text/plain": [
       "      Gender      Height     Weight  z_height  z_weight\n",
       "5103  Female  182.857792  80.452691  3.071814  2.181941\n",
       "5345  Female  140.554691  40.082819 -3.105118 -2.496706\n",
       "6624  Female  138.726819  32.383992 -3.372017 -3.388958\n",
       "7162  Female  183.971618  80.726450  3.234451  2.213669\n",
       "7294  Female  139.379268  35.655752 -3.276749 -3.009779\n",
       "7311  Female  186.409548  86.219146  3.590427  2.850242\n",
       "7617  Female  140.077336  40.285046 -3.174820 -2.473269\n",
       "7856  Female  183.552461  85.474601  3.173247  2.763953\n",
       "8635  Female  183.105329  87.331427  3.107958  2.979149\n",
       "9285  Female  137.828359  29.347785 -3.503207 -3.740838"
      ]
     },
     "metadata": {},
     "output_type": "display_data"
    },
    {
     "name": "stdout",
     "output_type": "stream",
     "text": [
      "\n",
      "Outliers mulheres apenas para o peso:\n"
     ]
    },
    {
     "data": {
      "text/html": [
       "<div>\n",
       "<style scoped>\n",
       "    .dataframe tbody tr th:only-of-type {\n",
       "        vertical-align: middle;\n",
       "    }\n",
       "\n",
       "    .dataframe tbody tr th {\n",
       "        vertical-align: top;\n",
       "    }\n",
       "\n",
       "    .dataframe thead th {\n",
       "        text-align: right;\n",
       "    }\n",
       "</style>\n",
       "<table border=\"1\" class=\"dataframe\">\n",
       "  <thead>\n",
       "    <tr style=\"text-align: right;\">\n",
       "      <th></th>\n",
       "      <th>Gender</th>\n",
       "      <th>Height</th>\n",
       "      <th>Weight</th>\n",
       "      <th>z_height</th>\n",
       "      <th>z_weight</th>\n",
       "    </tr>\n",
       "  </thead>\n",
       "  <tbody>\n",
       "    <tr>\n",
       "      <th>5360</th>\n",
       "      <td>Female</td>\n",
       "      <td>141.397233</td>\n",
       "      <td>31.290270</td>\n",
       "      <td>-2.982094</td>\n",
       "      <td>-3.515714</td>\n",
       "    </tr>\n",
       "    <tr>\n",
       "      <th>6258</th>\n",
       "      <td>Female</td>\n",
       "      <td>179.182537</td>\n",
       "      <td>88.953604</td>\n",
       "      <td>2.535168</td>\n",
       "      <td>3.167151</td>\n",
       "    </tr>\n",
       "    <tr>\n",
       "      <th>6624</th>\n",
       "      <td>Female</td>\n",
       "      <td>138.726819</td>\n",
       "      <td>32.383992</td>\n",
       "      <td>-3.372017</td>\n",
       "      <td>-3.388958</td>\n",
       "    </tr>\n",
       "    <tr>\n",
       "      <th>7294</th>\n",
       "      <td>Female</td>\n",
       "      <td>139.379268</td>\n",
       "      <td>35.655752</td>\n",
       "      <td>-3.276749</td>\n",
       "      <td>-3.009779</td>\n",
       "    </tr>\n",
       "    <tr>\n",
       "      <th>7921</th>\n",
       "      <td>Female</td>\n",
       "      <td>179.397763</td>\n",
       "      <td>88.798539</td>\n",
       "      <td>2.566594</td>\n",
       "      <td>3.149180</td>\n",
       "    </tr>\n",
       "    <tr>\n",
       "      <th>7923</th>\n",
       "      <td>Female</td>\n",
       "      <td>177.679266</td>\n",
       "      <td>88.106850</td>\n",
       "      <td>2.315666</td>\n",
       "      <td>3.069017</td>\n",
       "    </tr>\n",
       "    <tr>\n",
       "      <th>7935</th>\n",
       "      <td>Female</td>\n",
       "      <td>147.857591</td>\n",
       "      <td>35.164553</td>\n",
       "      <td>-2.038778</td>\n",
       "      <td>-3.066706</td>\n",
       "    </tr>\n",
       "    <tr>\n",
       "      <th>8241</th>\n",
       "      <td>Female</td>\n",
       "      <td>142.664940</td>\n",
       "      <td>35.334555</td>\n",
       "      <td>-2.796988</td>\n",
       "      <td>-3.047004</td>\n",
       "    </tr>\n",
       "    <tr>\n",
       "      <th>8736</th>\n",
       "      <td>Female</td>\n",
       "      <td>180.214674</td>\n",
       "      <td>87.646705</td>\n",
       "      <td>2.685876</td>\n",
       "      <td>3.015688</td>\n",
       "    </tr>\n",
       "    <tr>\n",
       "      <th>8748</th>\n",
       "      <td>Female</td>\n",
       "      <td>179.570743</td>\n",
       "      <td>88.019962</td>\n",
       "      <td>2.591852</td>\n",
       "      <td>3.058947</td>\n",
       "    </tr>\n",
       "    <tr>\n",
       "      <th>9285</th>\n",
       "      <td>Female</td>\n",
       "      <td>137.828359</td>\n",
       "      <td>29.347785</td>\n",
       "      <td>-3.503207</td>\n",
       "      <td>-3.740838</td>\n",
       "    </tr>\n",
       "    <tr>\n",
       "      <th>9566</th>\n",
       "      <td>Female</td>\n",
       "      <td>145.676856</td>\n",
       "      <td>32.999249</td>\n",
       "      <td>-2.357200</td>\n",
       "      <td>-3.317653</td>\n",
       "    </tr>\n",
       "    <tr>\n",
       "      <th>9633</th>\n",
       "      <td>Female</td>\n",
       "      <td>178.689039</td>\n",
       "      <td>91.734198</td>\n",
       "      <td>2.463109</td>\n",
       "      <td>3.489406</td>\n",
       "    </tr>\n",
       "  </tbody>\n",
       "</table>\n",
       "</div>"
      ],
      "text/plain": [
       "      Gender      Height     Weight  z_height  z_weight\n",
       "5360  Female  141.397233  31.290270 -2.982094 -3.515714\n",
       "6258  Female  179.182537  88.953604  2.535168  3.167151\n",
       "6624  Female  138.726819  32.383992 -3.372017 -3.388958\n",
       "7294  Female  139.379268  35.655752 -3.276749 -3.009779\n",
       "7921  Female  179.397763  88.798539  2.566594  3.149180\n",
       "7923  Female  177.679266  88.106850  2.315666  3.069017\n",
       "7935  Female  147.857591  35.164553 -2.038778 -3.066706\n",
       "8241  Female  142.664940  35.334555 -2.796988 -3.047004\n",
       "8736  Female  180.214674  87.646705  2.685876  3.015688\n",
       "8748  Female  179.570743  88.019962  2.591852  3.058947\n",
       "9285  Female  137.828359  29.347785 -3.503207 -3.740838\n",
       "9566  Female  145.676856  32.999249 -2.357200 -3.317653\n",
       "9633  Female  178.689039  91.734198  2.463109  3.489406"
      ]
     },
     "metadata": {},
     "output_type": "display_data"
    }
   ],
   "source": [
    "# dê uma olhada nos outliers das variáveis altura e peso separadamente (considere |z| > 3)\n",
    "\n",
    "print(\"Outliers homens apenas para a altura:\")\n",
    "display(male[male[\"z_height\"].abs() > 3])\n",
    "\n",
    "print(\"\\nOutliers homens apenas para o peso:\")\n",
    "display(male[male[\"z_weight\"].abs() > 3])\n",
    "\n",
    "print(\"\\n ############################################### \\n\")\n",
    "\n",
    "print(\"Outliers mulheres apenas para a altura:\")\n",
    "display(female[female[\"z_height\"].abs() > 3])\n",
    "\n",
    "print(\"\\nOutliers mulheres apenas para o peso:\")\n",
    "display(female[female[\"z_weight\"].abs() > 3])"
   ]
  },
  {
   "cell_type": "code",
   "execution_count": 202,
   "metadata": {
    "scrolled": false
   },
   "outputs": [
    {
     "name": "stdout",
     "output_type": "stream",
     "text": [
      "Outliers homens para peso e altura:\n"
     ]
    },
    {
     "data": {
      "text/html": [
       "<div>\n",
       "<style scoped>\n",
       "    .dataframe tbody tr th:only-of-type {\n",
       "        vertical-align: middle;\n",
       "    }\n",
       "\n",
       "    .dataframe tbody tr th {\n",
       "        vertical-align: top;\n",
       "    }\n",
       "\n",
       "    .dataframe thead th {\n",
       "        text-align: right;\n",
       "    }\n",
       "</style>\n",
       "<table border=\"1\" class=\"dataframe\">\n",
       "  <thead>\n",
       "    <tr style=\"text-align: right;\">\n",
       "      <th></th>\n",
       "      <th>Gender</th>\n",
       "      <th>Height</th>\n",
       "      <th>Weight</th>\n",
       "      <th>z_height</th>\n",
       "      <th>z_weight</th>\n",
       "    </tr>\n",
       "  </thead>\n",
       "  <tbody>\n",
       "    <tr>\n",
       "      <th>4794</th>\n",
       "      <td>Male</td>\n",
       "      <td>148.353539</td>\n",
       "      <td>55.038702</td>\n",
       "      <td>-3.708731</td>\n",
       "      <td>-3.320448</td>\n",
       "    </tr>\n",
       "    <tr>\n",
       "      <th>4637</th>\n",
       "      <td>Male</td>\n",
       "      <td>152.064918</td>\n",
       "      <td>53.435472</td>\n",
       "      <td>-3.198432</td>\n",
       "      <td>-3.499127</td>\n",
       "    </tr>\n",
       "    <tr>\n",
       "      <th>1942</th>\n",
       "      <td>Male</td>\n",
       "      <td>152.353937</td>\n",
       "      <td>51.212437</td>\n",
       "      <td>-3.158693</td>\n",
       "      <td>-3.746883</td>\n",
       "    </tr>\n",
       "    <tr>\n",
       "      <th>2527</th>\n",
       "      <td>Male</td>\n",
       "      <td>153.083534</td>\n",
       "      <td>57.359890</td>\n",
       "      <td>-3.058376</td>\n",
       "      <td>-3.061753</td>\n",
       "    </tr>\n",
       "    <tr>\n",
       "      <th>994</th>\n",
       "      <td>Male</td>\n",
       "      <td>198.363503</td>\n",
       "      <td>115.980602</td>\n",
       "      <td>3.167438</td>\n",
       "      <td>3.471497</td>\n",
       "    </tr>\n",
       "    <tr>\n",
       "      <th>3285</th>\n",
       "      <td>Male</td>\n",
       "      <td>199.461654</td>\n",
       "      <td>115.163297</td>\n",
       "      <td>3.318429</td>\n",
       "      <td>3.380409</td>\n",
       "    </tr>\n",
       "    <tr>\n",
       "      <th>2014</th>\n",
       "      <td>Male</td>\n",
       "      <td>200.656806</td>\n",
       "      <td>122.466524</td>\n",
       "      <td>3.482758</td>\n",
       "      <td>4.194350</td>\n",
       "    </tr>\n",
       "  </tbody>\n",
       "</table>\n",
       "</div>"
      ],
      "text/plain": [
       "     Gender      Height      Weight  z_height  z_weight\n",
       "4794   Male  148.353539   55.038702 -3.708731 -3.320448\n",
       "4637   Male  152.064918   53.435472 -3.198432 -3.499127\n",
       "1942   Male  152.353937   51.212437 -3.158693 -3.746883\n",
       "2527   Male  153.083534   57.359890 -3.058376 -3.061753\n",
       "994    Male  198.363503  115.980602  3.167438  3.471497\n",
       "3285   Male  199.461654  115.163297  3.318429  3.380409\n",
       "2014   Male  200.656806  122.466524  3.482758  4.194350"
      ]
     },
     "metadata": {},
     "output_type": "display_data"
    },
    {
     "name": "stdout",
     "output_type": "stream",
     "text": [
      "\n",
      " ############################################### \n",
      "\n",
      "Outliers mulheres para peso e altura:\n"
     ]
    },
    {
     "data": {
      "text/html": [
       "<div>\n",
       "<style scoped>\n",
       "    .dataframe tbody tr th:only-of-type {\n",
       "        vertical-align: middle;\n",
       "    }\n",
       "\n",
       "    .dataframe tbody tr th {\n",
       "        vertical-align: top;\n",
       "    }\n",
       "\n",
       "    .dataframe thead th {\n",
       "        text-align: right;\n",
       "    }\n",
       "</style>\n",
       "<table border=\"1\" class=\"dataframe\">\n",
       "  <thead>\n",
       "    <tr style=\"text-align: right;\">\n",
       "      <th></th>\n",
       "      <th>Gender</th>\n",
       "      <th>Height</th>\n",
       "      <th>Weight</th>\n",
       "      <th>z_height</th>\n",
       "      <th>z_weight</th>\n",
       "    </tr>\n",
       "  </thead>\n",
       "  <tbody>\n",
       "    <tr>\n",
       "      <th>9285</th>\n",
       "      <td>Female</td>\n",
       "      <td>137.828359</td>\n",
       "      <td>29.347785</td>\n",
       "      <td>-3.503207</td>\n",
       "      <td>-3.740838</td>\n",
       "    </tr>\n",
       "    <tr>\n",
       "      <th>6624</th>\n",
       "      <td>Female</td>\n",
       "      <td>138.726819</td>\n",
       "      <td>32.383992</td>\n",
       "      <td>-3.372017</td>\n",
       "      <td>-3.388958</td>\n",
       "    </tr>\n",
       "    <tr>\n",
       "      <th>7294</th>\n",
       "      <td>Female</td>\n",
       "      <td>139.379268</td>\n",
       "      <td>35.655752</td>\n",
       "      <td>-3.276749</td>\n",
       "      <td>-3.009779</td>\n",
       "    </tr>\n",
       "  </tbody>\n",
       "</table>\n",
       "</div>"
      ],
      "text/plain": [
       "      Gender      Height     Weight  z_height  z_weight\n",
       "9285  Female  137.828359  29.347785 -3.503207 -3.740838\n",
       "6624  Female  138.726819  32.383992 -3.372017 -3.388958\n",
       "7294  Female  139.379268  35.655752 -3.276749 -3.009779"
      ]
     },
     "metadata": {},
     "output_type": "display_data"
    }
   ],
   "source": [
    "# dê uma olhada nos outliers das variáveis altura e peso conjuntamente (considere |z| > 3)\n",
    "\n",
    "print(\"Outliers homens para peso e altura:\")\n",
    "display(male[(male[\"z_height\"].abs() > 3) & (male[\"z_weight\"].abs() > 3)].sort_values(\"Height\"))\n",
    "\n",
    "print(\"\\n ############################################### \\n\")\n",
    "\n",
    "print(\"Outliers mulheres para peso e altura:\")\n",
    "display(female[(female[\"z_height\"].abs() > 3) & (female[\"z_weight\"].abs() > 3)].sort_values(\"Height\"))"
   ]
  },
  {
   "cell_type": "markdown",
   "metadata": {},
   "source": [
    "____"
   ]
  },
  {
   "cell_type": "markdown",
   "metadata": {},
   "source": [
    "__1.5.1) Boxplot whisker (IQR)__\n",
    "\n",
    "Neste método, outliers são identificados como **os pontos que estão para além dos whiskers em um boxplot**.\n",
    "\n",
    "\n",
    "Se você estiver interessado em saber porque os whiskers são definidios comumente com este fator 1.5 no \"1.5\\*IQR\", dê uma olhada [neste post!](https://towardsdatascience.com/why-1-5-in-iqr-method-of-outlier-detection-5d07fdc82097)"
   ]
  },
  {
   "cell_type": "code",
   "execution_count": 203,
   "metadata": {},
   "outputs": [
    {
     "name": "stdout",
     "output_type": "stream",
     "text": [
      "IQR homens altura: 9.687723994808579 \tIQR homens peso: 12.00672887044486\n",
      "\n",
      "############################################\n",
      "\n",
      "IQR mulheres altura: 9.319574184704067 \tIQR mulheres peso: 11.737653127823414\n"
     ]
    }
   ],
   "source": [
    "# calcule o IQR das variáveis numericas dos dois dataframes\n",
    "\n",
    "q1_mh = male[\"Height\"].quantile(0.25)\n",
    "q3_mh = male[\"Height\"].quantile(0.75)\n",
    "iqr_mh = q3_mh - q1_mh\n",
    "\n",
    "q1_mw = male[\"Weight\"].quantile(0.25)\n",
    "q3_mw = male[\"Weight\"].quantile(0.75)\n",
    "iqr_mw = q3_mw - q1_mw\n",
    "\n",
    "print(\"IQR homens altura:\", iqr_mh, \"\\tIQR homens peso:\", iqr_mw)\n",
    "\n",
    "print(\"\\n############################################\\n\")\n",
    "\n",
    "q1_fh = female[\"Height\"].quantile(0.25)\n",
    "q3_fh = female[\"Height\"].quantile(0.75)\n",
    "iqr_fh = q3_fh - q1_fh\n",
    "\n",
    "q1_fw = female[\"Weight\"].quantile(0.25)\n",
    "q3_fw = female[\"Weight\"].quantile(0.75)\n",
    "iqr_fw = q3_fw - q1_fw\n",
    "\n",
    "print(\"IQR mulheres altura:\", iqr_fh, \"\\tIQR mulheres peso:\", iqr_fw)"
   ]
  },
  {
   "cell_type": "code",
   "execution_count": 204,
   "metadata": {},
   "outputs": [
    {
     "name": "stdout",
     "output_type": "stream",
     "text": [
      "Whiskers homens altura: 156.09 | 194.84\n",
      "Whiskers homens peso: 60.86 | 108.89\n",
      "\n",
      "############################################\n",
      "\n",
      "Whiskers homens altura: 143.23 | 180.51\n",
      "Whiskers homens peso: 38.16 | 85.11\n"
     ]
    }
   ],
   "source": [
    "# calcule os whiskers das variaveis numericas dos dois datraframes\n",
    "\n",
    "max_mh = q3_mh + 1.5*iqr_mh\n",
    "min_mh = q1_mh - 1.5*iqr_mh\n",
    "\n",
    "max_mw = q3_mw + 1.5*iqr_mw\n",
    "min_mw = q1_mw - 1.5*iqr_mw\n",
    "\n",
    "print(\"Whiskers homens altura: {:.2f} | {:.2f}\".format(min_mh, max_mh))\n",
    "print(\"Whiskers homens peso: {:.2f} | {:.2f}\".format(min_mw, max_mw))\n",
    "\n",
    "print(\"\\n############################################\\n\")\n",
    "\n",
    "max_fh = q3_fh + 1.5*iqr_fh\n",
    "min_fh = q1_fh - 1.5*iqr_fh\n",
    "\n",
    "max_fw = q3_fw + 1.5*iqr_fw\n",
    "min_fw = q1_fw - 1.5*iqr_fw\n",
    "\n",
    "print(\"Whiskers mulheres altura: {:.2f} | {:.2f}\".format(min_fh, max_fh))\n",
    "print(\"Whiskers mulheres peso: {:.2f} | {:.2f}\".format(min_fw, max_fw))"
   ]
  },
  {
   "cell_type": "code",
   "execution_count": 207,
   "metadata": {},
   "outputs": [
    {
     "data": {
      "text/plain": [
       "<AxesSubplot:xlabel='Height'>"
      ]
     },
     "execution_count": 207,
     "metadata": {},
     "output_type": "execute_result"
    },
    {
     "data": {
      "image/png": "[encoded data removed]",
      "text/plain": [
       "<Figure size 432x288 with 1 Axes>"
      ]
     },
     "metadata": {
      "needs_background": "light"
     },
     "output_type": "display_data"
    }
   ],
   "source": [
    "sns.boxplot(data=female, x=\"Height\")"
   ]
  },
  {
   "cell_type": "code",
   "execution_count": 208,
   "metadata": {
    "scrolled": true
   },
   "outputs": [
    {
     "name": "stdout",
     "output_type": "stream",
     "text": [
      "Outliers homens apenas para a altura:\n"
     ]
    },
    {
     "data": {
      "text/html": [
       "<div>\n",
       "<style scoped>\n",
       "    .dataframe tbody tr th:only-of-type {\n",
       "        vertical-align: middle;\n",
       "    }\n",
       "\n",
       "    .dataframe tbody tr th {\n",
       "        vertical-align: top;\n",
       "    }\n",
       "\n",
       "    .dataframe thead th {\n",
       "        text-align: right;\n",
       "    }\n",
       "</style>\n",
       "<table border=\"1\" class=\"dataframe\">\n",
       "  <thead>\n",
       "    <tr style=\"text-align: right;\">\n",
       "      <th></th>\n",
       "      <th>Gender</th>\n",
       "      <th>Height</th>\n",
       "      <th>Weight</th>\n",
       "      <th>z_height</th>\n",
       "      <th>z_weight</th>\n",
       "    </tr>\n",
       "  </thead>\n",
       "  <tbody>\n",
       "    <tr>\n",
       "      <th>426</th>\n",
       "      <td>Male</td>\n",
       "      <td>154.300219</td>\n",
       "      <td>61.765339</td>\n",
       "      <td>-2.891087</td>\n",
       "      <td>-2.570768</td>\n",
       "    </tr>\n",
       "    <tr>\n",
       "      <th>551</th>\n",
       "      <td>Male</td>\n",
       "      <td>154.126736</td>\n",
       "      <td>58.650560</td>\n",
       "      <td>-2.914940</td>\n",
       "      <td>-2.917908</td>\n",
       "    </tr>\n",
       "    <tr>\n",
       "      <th>912</th>\n",
       "      <td>Male</td>\n",
       "      <td>195.988434</td>\n",
       "      <td>103.740951</td>\n",
       "      <td>2.840875</td>\n",
       "      <td>2.107394</td>\n",
       "    </tr>\n",
       "    <tr>\n",
       "      <th>936</th>\n",
       "      <td>Male</td>\n",
       "      <td>155.249445</td>\n",
       "      <td>69.305602</td>\n",
       "      <td>-2.760572</td>\n",
       "      <td>-1.730409</td>\n",
       "    </tr>\n",
       "    <tr>\n",
       "      <th>994</th>\n",
       "      <td>Male</td>\n",
       "      <td>198.363503</td>\n",
       "      <td>115.980602</td>\n",
       "      <td>3.167438</td>\n",
       "      <td>3.471497</td>\n",
       "    </tr>\n",
       "    <tr>\n",
       "      <th>1238</th>\n",
       "      <td>Male</td>\n",
       "      <td>153.322811</td>\n",
       "      <td>60.848611</td>\n",
       "      <td>-3.025476</td>\n",
       "      <td>-2.672937</td>\n",
       "    </tr>\n",
       "    <tr>\n",
       "      <th>1317</th>\n",
       "      <td>Male</td>\n",
       "      <td>199.293614</td>\n",
       "      <td>103.121911</td>\n",
       "      <td>3.295324</td>\n",
       "      <td>2.038402</td>\n",
       "    </tr>\n",
       "    <tr>\n",
       "      <th>1339</th>\n",
       "      <td>Male</td>\n",
       "      <td>155.729428</td>\n",
       "      <td>68.183094</td>\n",
       "      <td>-2.694576</td>\n",
       "      <td>-1.855512</td>\n",
       "    </tr>\n",
       "    <tr>\n",
       "      <th>1442</th>\n",
       "      <td>Male</td>\n",
       "      <td>154.483487</td>\n",
       "      <td>62.494471</td>\n",
       "      <td>-2.865888</td>\n",
       "      <td>-2.489506</td>\n",
       "    </tr>\n",
       "    <tr>\n",
       "      <th>1577</th>\n",
       "      <td>Male</td>\n",
       "      <td>154.429169</td>\n",
       "      <td>58.237422</td>\n",
       "      <td>-2.873356</td>\n",
       "      <td>-2.963952</td>\n",
       "    </tr>\n",
       "    <tr>\n",
       "      <th>1715</th>\n",
       "      <td>Male</td>\n",
       "      <td>154.855477</td>\n",
       "      <td>61.155233</td>\n",
       "      <td>-2.814741</td>\n",
       "      <td>-2.638764</td>\n",
       "    </tr>\n",
       "    <tr>\n",
       "      <th>1922</th>\n",
       "      <td>Male</td>\n",
       "      <td>196.714415</td>\n",
       "      <td>105.529837</td>\n",
       "      <td>2.940695</td>\n",
       "      <td>2.306764</td>\n",
       "    </tr>\n",
       "    <tr>\n",
       "      <th>1942</th>\n",
       "      <td>Male</td>\n",
       "      <td>152.353937</td>\n",
       "      <td>51.212437</td>\n",
       "      <td>-3.158693</td>\n",
       "      <td>-3.746883</td>\n",
       "    </tr>\n",
       "    <tr>\n",
       "      <th>2014</th>\n",
       "      <td>Male</td>\n",
       "      <td>200.656806</td>\n",
       "      <td>122.466524</td>\n",
       "      <td>3.482758</td>\n",
       "      <td>4.194350</td>\n",
       "    </tr>\n",
       "    <tr>\n",
       "      <th>2070</th>\n",
       "      <td>Male</td>\n",
       "      <td>196.762546</td>\n",
       "      <td>114.558963</td>\n",
       "      <td>2.947312</td>\n",
       "      <td>3.313056</td>\n",
       "    </tr>\n",
       "    <tr>\n",
       "      <th>2191</th>\n",
       "      <td>Male</td>\n",
       "      <td>152.244170</td>\n",
       "      <td>64.165644</td>\n",
       "      <td>-3.173785</td>\n",
       "      <td>-2.303255</td>\n",
       "    </tr>\n",
       "    <tr>\n",
       "      <th>2318</th>\n",
       "      <td>Male</td>\n",
       "      <td>195.088113</td>\n",
       "      <td>103.066471</td>\n",
       "      <td>2.717085</td>\n",
       "      <td>2.032223</td>\n",
       "    </tr>\n",
       "    <tr>\n",
       "      <th>2324</th>\n",
       "      <td>Male</td>\n",
       "      <td>155.516145</td>\n",
       "      <td>69.636659</td>\n",
       "      <td>-2.723902</td>\n",
       "      <td>-1.693513</td>\n",
       "    </tr>\n",
       "    <tr>\n",
       "      <th>2334</th>\n",
       "      <td>Male</td>\n",
       "      <td>150.826850</td>\n",
       "      <td>61.866554</td>\n",
       "      <td>-3.368661</td>\n",
       "      <td>-2.559487</td>\n",
       "    </tr>\n",
       "    <tr>\n",
       "      <th>2500</th>\n",
       "      <td>Male</td>\n",
       "      <td>155.129197</td>\n",
       "      <td>55.647334</td>\n",
       "      <td>-2.777105</td>\n",
       "      <td>-3.252616</td>\n",
       "    </tr>\n",
       "    <tr>\n",
       "      <th>2527</th>\n",
       "      <td>Male</td>\n",
       "      <td>153.083534</td>\n",
       "      <td>57.359890</td>\n",
       "      <td>-3.058376</td>\n",
       "      <td>-3.061753</td>\n",
       "    </tr>\n",
       "    <tr>\n",
       "      <th>2623</th>\n",
       "      <td>Male</td>\n",
       "      <td>195.180404</td>\n",
       "      <td>96.037452</td>\n",
       "      <td>2.729774</td>\n",
       "      <td>1.248842</td>\n",
       "    </tr>\n",
       "    <tr>\n",
       "      <th>2873</th>\n",
       "      <td>Male</td>\n",
       "      <td>155.286648</td>\n",
       "      <td>57.074763</td>\n",
       "      <td>-2.755457</td>\n",
       "      <td>-3.093530</td>\n",
       "    </tr>\n",
       "    <tr>\n",
       "      <th>2925</th>\n",
       "      <td>Male</td>\n",
       "      <td>154.776779</td>\n",
       "      <td>63.572401</td>\n",
       "      <td>-2.825562</td>\n",
       "      <td>-2.369372</td>\n",
       "    </tr>\n",
       "    <tr>\n",
       "      <th>2959</th>\n",
       "      <td>Male</td>\n",
       "      <td>154.778040</td>\n",
       "      <td>69.105225</td>\n",
       "      <td>-2.825388</td>\n",
       "      <td>-1.752741</td>\n",
       "    </tr>\n",
       "    <tr>\n",
       "      <th>2974</th>\n",
       "      <td>Male</td>\n",
       "      <td>153.078663</td>\n",
       "      <td>60.304898</td>\n",
       "      <td>-3.059046</td>\n",
       "      <td>-2.733533</td>\n",
       "    </tr>\n",
       "    <tr>\n",
       "      <th>3020</th>\n",
       "      <td>Male</td>\n",
       "      <td>152.951227</td>\n",
       "      <td>66.659097</td>\n",
       "      <td>-3.076568</td>\n",
       "      <td>-2.025361</td>\n",
       "    </tr>\n",
       "    <tr>\n",
       "      <th>3265</th>\n",
       "      <td>Male</td>\n",
       "      <td>155.774395</td>\n",
       "      <td>63.425557</td>\n",
       "      <td>-2.688393</td>\n",
       "      <td>-2.385737</td>\n",
       "    </tr>\n",
       "    <tr>\n",
       "      <th>3285</th>\n",
       "      <td>Male</td>\n",
       "      <td>199.461654</td>\n",
       "      <td>115.163297</td>\n",
       "      <td>3.318429</td>\n",
       "      <td>3.380409</td>\n",
       "    </tr>\n",
       "    <tr>\n",
       "      <th>3332</th>\n",
       "      <td>Male</td>\n",
       "      <td>154.231542</td>\n",
       "      <td>56.077456</td>\n",
       "      <td>-2.900529</td>\n",
       "      <td>-3.204680</td>\n",
       "    </tr>\n",
       "    <tr>\n",
       "      <th>3547</th>\n",
       "      <td>Male</td>\n",
       "      <td>155.738894</td>\n",
       "      <td>67.983791</td>\n",
       "      <td>-2.693275</td>\n",
       "      <td>-1.877724</td>\n",
       "    </tr>\n",
       "    <tr>\n",
       "      <th>3669</th>\n",
       "      <td>Male</td>\n",
       "      <td>195.601174</td>\n",
       "      <td>114.045655</td>\n",
       "      <td>2.787628</td>\n",
       "      <td>3.255848</td>\n",
       "    </tr>\n",
       "    <tr>\n",
       "      <th>3757</th>\n",
       "      <td>Male</td>\n",
       "      <td>199.698290</td>\n",
       "      <td>111.464113</td>\n",
       "      <td>3.350966</td>\n",
       "      <td>2.968136</td>\n",
       "    </tr>\n",
       "    <tr>\n",
       "      <th>3816</th>\n",
       "      <td>Male</td>\n",
       "      <td>194.868762</td>\n",
       "      <td>107.115454</td>\n",
       "      <td>2.686925</td>\n",
       "      <td>2.483480</td>\n",
       "    </tr>\n",
       "    <tr>\n",
       "      <th>3909</th>\n",
       "      <td>Male</td>\n",
       "      <td>195.751082</td>\n",
       "      <td>112.995664</td>\n",
       "      <td>2.808240</td>\n",
       "      <td>3.138827</td>\n",
       "    </tr>\n",
       "    <tr>\n",
       "      <th>4170</th>\n",
       "      <td>Male</td>\n",
       "      <td>153.019044</td>\n",
       "      <td>69.777479</td>\n",
       "      <td>-3.067243</td>\n",
       "      <td>-1.677819</td>\n",
       "    </tr>\n",
       "    <tr>\n",
       "      <th>4275</th>\n",
       "      <td>Male</td>\n",
       "      <td>195.241812</td>\n",
       "      <td>109.106775</td>\n",
       "      <td>2.738218</td>\n",
       "      <td>2.705412</td>\n",
       "    </tr>\n",
       "    <tr>\n",
       "      <th>4297</th>\n",
       "      <td>Male</td>\n",
       "      <td>195.836215</td>\n",
       "      <td>109.069832</td>\n",
       "      <td>2.819946</td>\n",
       "      <td>2.701295</td>\n",
       "    </tr>\n",
       "    <tr>\n",
       "      <th>4324</th>\n",
       "      <td>Male</td>\n",
       "      <td>154.868962</td>\n",
       "      <td>68.431922</td>\n",
       "      <td>-2.812887</td>\n",
       "      <td>-1.827780</td>\n",
       "    </tr>\n",
       "    <tr>\n",
       "      <th>4331</th>\n",
       "      <td>Male</td>\n",
       "      <td>195.195854</td>\n",
       "      <td>115.308479</td>\n",
       "      <td>2.731899</td>\n",
       "      <td>3.396589</td>\n",
       "    </tr>\n",
       "    <tr>\n",
       "      <th>4402</th>\n",
       "      <td>Male</td>\n",
       "      <td>155.170499</td>\n",
       "      <td>66.799630</td>\n",
       "      <td>-2.771427</td>\n",
       "      <td>-2.009699</td>\n",
       "    </tr>\n",
       "    <tr>\n",
       "      <th>4569</th>\n",
       "      <td>Male</td>\n",
       "      <td>196.969853</td>\n",
       "      <td>109.789156</td>\n",
       "      <td>2.975816</td>\n",
       "      <td>2.781463</td>\n",
       "    </tr>\n",
       "    <tr>\n",
       "      <th>4637</th>\n",
       "      <td>Male</td>\n",
       "      <td>152.064918</td>\n",
       "      <td>53.435472</td>\n",
       "      <td>-3.198432</td>\n",
       "      <td>-3.499127</td>\n",
       "    </tr>\n",
       "    <tr>\n",
       "      <th>4701</th>\n",
       "      <td>Male</td>\n",
       "      <td>194.900414</td>\n",
       "      <td>109.628323</td>\n",
       "      <td>2.691277</td>\n",
       "      <td>2.763538</td>\n",
       "    </tr>\n",
       "    <tr>\n",
       "      <th>4794</th>\n",
       "      <td>Male</td>\n",
       "      <td>148.353539</td>\n",
       "      <td>55.038702</td>\n",
       "      <td>-3.708731</td>\n",
       "      <td>-3.320448</td>\n",
       "    </tr>\n",
       "    <tr>\n",
       "      <th>4980</th>\n",
       "      <td>Male</td>\n",
       "      <td>153.959851</td>\n",
       "      <td>70.969044</td>\n",
       "      <td>-2.937886</td>\n",
       "      <td>-1.545019</td>\n",
       "    </tr>\n",
       "  </tbody>\n",
       "</table>\n",
       "</div>"
      ],
      "text/plain": [
       "     Gender      Height      Weight  z_height  z_weight\n",
       "426    Male  154.300219   61.765339 -2.891087 -2.570768\n",
       "551    Male  154.126736   58.650560 -2.914940 -2.917908\n",
       "912    Male  195.988434  103.740951  2.840875  2.107394\n",
       "936    Male  155.249445   69.305602 -2.760572 -1.730409\n",
       "994    Male  198.363503  115.980602  3.167438  3.471497\n",
       "1238   Male  153.322811   60.848611 -3.025476 -2.672937\n",
       "1317   Male  199.293614  103.121911  3.295324  2.038402\n",
       "1339   Male  155.729428   68.183094 -2.694576 -1.855512\n",
       "1442   Male  154.483487   62.494471 -2.865888 -2.489506\n",
       "1577   Male  154.429169   58.237422 -2.873356 -2.963952\n",
       "1715   Male  154.855477   61.155233 -2.814741 -2.638764\n",
       "1922   Male  196.714415  105.529837  2.940695  2.306764\n",
       "1942   Male  152.353937   51.212437 -3.158693 -3.746883\n",
       "2014   Male  200.656806  122.466524  3.482758  4.194350\n",
       "2070   Male  196.762546  114.558963  2.947312  3.313056\n",
       "2191   Male  152.244170   64.165644 -3.173785 -2.303255\n",
       "2318   Male  195.088113  103.066471  2.717085  2.032223\n",
       "2324   Male  155.516145   69.636659 -2.723902 -1.693513\n",
       "2334   Male  150.826850   61.866554 -3.368661 -2.559487\n",
       "2500   Male  155.129197   55.647334 -2.777105 -3.252616\n",
       "2527   Male  153.083534   57.359890 -3.058376 -3.061753\n",
       "2623   Male  195.180404   96.037452  2.729774  1.248842\n",
       "2873   Male  155.286648   57.074763 -2.755457 -3.093530\n",
       "2925   Male  154.776779   63.572401 -2.825562 -2.369372\n",
       "2959   Male  154.778040   69.105225 -2.825388 -1.752741\n",
       "2974   Male  153.078663   60.304898 -3.059046 -2.733533\n",
       "3020   Male  152.951227   66.659097 -3.076568 -2.025361\n",
       "3265   Male  155.774395   63.425557 -2.688393 -2.385737\n",
       "3285   Male  199.461654  115.163297  3.318429  3.380409\n",
       "3332   Male  154.231542   56.077456 -2.900529 -3.204680\n",
       "3547   Male  155.738894   67.983791 -2.693275 -1.877724\n",
       "3669   Male  195.601174  114.045655  2.787628  3.255848\n",
       "3757   Male  199.698290  111.464113  3.350966  2.968136\n",
       "3816   Male  194.868762  107.115454  2.686925  2.483480\n",
       "3909   Male  195.751082  112.995664  2.808240  3.138827\n",
       "4170   Male  153.019044   69.777479 -3.067243 -1.677819\n",
       "4275   Male  195.241812  109.106775  2.738218  2.705412\n",
       "4297   Male  195.836215  109.069832  2.819946  2.701295\n",
       "4324   Male  154.868962   68.431922 -2.812887 -1.827780\n",
       "4331   Male  195.195854  115.308479  2.731899  3.396589\n",
       "4402   Male  155.170499   66.799630 -2.771427 -2.009699\n",
       "4569   Male  196.969853  109.789156  2.975816  2.781463\n",
       "4637   Male  152.064918   53.435472 -3.198432 -3.499127\n",
       "4701   Male  194.900414  109.628323  2.691277  2.763538\n",
       "4794   Male  148.353539   55.038702 -3.708731 -3.320448\n",
       "4980   Male  153.959851   70.969044 -2.937886 -1.545019"
      ]
     },
     "metadata": {},
     "output_type": "display_data"
    },
    {
     "name": "stdout",
     "output_type": "stream",
     "text": [
      "\n",
      "Outliers homens apenas para o peso:\n"
     ]
    },
    {
     "data": {
      "text/html": [
       "<div>\n",
       "<style scoped>\n",
       "    .dataframe tbody tr th:only-of-type {\n",
       "        vertical-align: middle;\n",
       "    }\n",
       "\n",
       "    .dataframe tbody tr th {\n",
       "        vertical-align: top;\n",
       "    }\n",
       "\n",
       "    .dataframe thead th {\n",
       "        text-align: right;\n",
       "    }\n",
       "</style>\n",
       "<table border=\"1\" class=\"dataframe\">\n",
       "  <thead>\n",
       "    <tr style=\"text-align: right;\">\n",
       "      <th></th>\n",
       "      <th>Gender</th>\n",
       "      <th>Height</th>\n",
       "      <th>Weight</th>\n",
       "      <th>z_height</th>\n",
       "      <th>z_weight</th>\n",
       "    </tr>\n",
       "  </thead>\n",
       "  <tbody>\n",
       "    <tr>\n",
       "      <th>0</th>\n",
       "      <td>Male</td>\n",
       "      <td>187.571423</td>\n",
       "      <td>109.722200</td>\n",
       "      <td>1.683570</td>\n",
       "      <td>2.774001</td>\n",
       "    </tr>\n",
       "    <tr>\n",
       "      <th>551</th>\n",
       "      <td>Male</td>\n",
       "      <td>154.126736</td>\n",
       "      <td>58.650560</td>\n",
       "      <td>-2.914940</td>\n",
       "      <td>-2.917908</td>\n",
       "    </tr>\n",
       "    <tr>\n",
       "      <th>565</th>\n",
       "      <td>Male</td>\n",
       "      <td>156.855185</td>\n",
       "      <td>56.031998</td>\n",
       "      <td>-2.539789</td>\n",
       "      <td>-3.209746</td>\n",
       "    </tr>\n",
       "    <tr>\n",
       "      <th>806</th>\n",
       "      <td>Male</td>\n",
       "      <td>157.679733</td>\n",
       "      <td>59.093384</td>\n",
       "      <td>-2.426417</td>\n",
       "      <td>-2.868556</td>\n",
       "    </tr>\n",
       "    <tr>\n",
       "      <th>994</th>\n",
       "      <td>Male</td>\n",
       "      <td>198.363503</td>\n",
       "      <td>115.980602</td>\n",
       "      <td>3.167438</td>\n",
       "      <td>3.471497</td>\n",
       "    </tr>\n",
       "    <tr>\n",
       "      <th>1238</th>\n",
       "      <td>Male</td>\n",
       "      <td>153.322811</td>\n",
       "      <td>60.848611</td>\n",
       "      <td>-3.025476</td>\n",
       "      <td>-2.672937</td>\n",
       "    </tr>\n",
       "    <tr>\n",
       "      <th>1506</th>\n",
       "      <td>Male</td>\n",
       "      <td>192.274490</td>\n",
       "      <td>113.202226</td>\n",
       "      <td>2.330223</td>\n",
       "      <td>3.161848</td>\n",
       "    </tr>\n",
       "    <tr>\n",
       "      <th>1577</th>\n",
       "      <td>Male</td>\n",
       "      <td>154.429169</td>\n",
       "      <td>58.237422</td>\n",
       "      <td>-2.873356</td>\n",
       "      <td>-2.963952</td>\n",
       "    </tr>\n",
       "    <tr>\n",
       "      <th>1610</th>\n",
       "      <td>Male</td>\n",
       "      <td>194.608567</td>\n",
       "      <td>116.058844</td>\n",
       "      <td>2.651149</td>\n",
       "      <td>3.480217</td>\n",
       "    </tr>\n",
       "    <tr>\n",
       "      <th>1651</th>\n",
       "      <td>Male</td>\n",
       "      <td>158.010425</td>\n",
       "      <td>59.347761</td>\n",
       "      <td>-2.380948</td>\n",
       "      <td>-2.840206</td>\n",
       "    </tr>\n",
       "    <tr>\n",
       "      <th>1750</th>\n",
       "      <td>Male</td>\n",
       "      <td>189.495857</td>\n",
       "      <td>113.374890</td>\n",
       "      <td>1.948172</td>\n",
       "      <td>3.181092</td>\n",
       "    </tr>\n",
       "    <tr>\n",
       "      <th>1896</th>\n",
       "      <td>Male</td>\n",
       "      <td>194.241115</td>\n",
       "      <td>111.690248</td>\n",
       "      <td>2.600626</td>\n",
       "      <td>2.993339</td>\n",
       "    </tr>\n",
       "    <tr>\n",
       "      <th>1942</th>\n",
       "      <td>Male</td>\n",
       "      <td>152.353937</td>\n",
       "      <td>51.212437</td>\n",
       "      <td>-3.158693</td>\n",
       "      <td>-3.746883</td>\n",
       "    </tr>\n",
       "    <tr>\n",
       "      <th>1954</th>\n",
       "      <td>Male</td>\n",
       "      <td>193.336354</td>\n",
       "      <td>109.152728</td>\n",
       "      <td>2.476225</td>\n",
       "      <td>2.710534</td>\n",
       "    </tr>\n",
       "    <tr>\n",
       "      <th>2014</th>\n",
       "      <td>Male</td>\n",
       "      <td>200.656806</td>\n",
       "      <td>122.466524</td>\n",
       "      <td>3.482758</td>\n",
       "      <td>4.194350</td>\n",
       "    </tr>\n",
       "    <tr>\n",
       "      <th>2070</th>\n",
       "      <td>Male</td>\n",
       "      <td>196.762546</td>\n",
       "      <td>114.558963</td>\n",
       "      <td>2.947312</td>\n",
       "      <td>3.313056</td>\n",
       "    </tr>\n",
       "    <tr>\n",
       "      <th>2074</th>\n",
       "      <td>Male</td>\n",
       "      <td>192.085040</td>\n",
       "      <td>109.408659</td>\n",
       "      <td>2.304174</td>\n",
       "      <td>2.739057</td>\n",
       "    </tr>\n",
       "    <tr>\n",
       "      <th>2350</th>\n",
       "      <td>Male</td>\n",
       "      <td>164.947574</td>\n",
       "      <td>60.560638</td>\n",
       "      <td>-1.427118</td>\n",
       "      <td>-2.705031</td>\n",
       "    </tr>\n",
       "    <tr>\n",
       "      <th>2417</th>\n",
       "      <td>Male</td>\n",
       "      <td>160.411852</td>\n",
       "      <td>54.088205</td>\n",
       "      <td>-2.050762</td>\n",
       "      <td>-3.426381</td>\n",
       "    </tr>\n",
       "    <tr>\n",
       "      <th>2500</th>\n",
       "      <td>Male</td>\n",
       "      <td>155.129197</td>\n",
       "      <td>55.647334</td>\n",
       "      <td>-2.777105</td>\n",
       "      <td>-3.252616</td>\n",
       "    </tr>\n",
       "    <tr>\n",
       "      <th>2527</th>\n",
       "      <td>Male</td>\n",
       "      <td>153.083534</td>\n",
       "      <td>57.359890</td>\n",
       "      <td>-3.058376</td>\n",
       "      <td>-3.061753</td>\n",
       "    </tr>\n",
       "    <tr>\n",
       "      <th>2766</th>\n",
       "      <td>Male</td>\n",
       "      <td>188.977672</td>\n",
       "      <td>109.290695</td>\n",
       "      <td>1.876924</td>\n",
       "      <td>2.725910</td>\n",
       "    </tr>\n",
       "    <tr>\n",
       "      <th>2873</th>\n",
       "      <td>Male</td>\n",
       "      <td>155.286648</td>\n",
       "      <td>57.074763</td>\n",
       "      <td>-2.755457</td>\n",
       "      <td>-3.093530</td>\n",
       "    </tr>\n",
       "    <tr>\n",
       "      <th>2971</th>\n",
       "      <td>Male</td>\n",
       "      <td>190.898472</td>\n",
       "      <td>113.543115</td>\n",
       "      <td>2.141026</td>\n",
       "      <td>3.199840</td>\n",
       "    </tr>\n",
       "    <tr>\n",
       "      <th>2974</th>\n",
       "      <td>Male</td>\n",
       "      <td>153.078663</td>\n",
       "      <td>60.304898</td>\n",
       "      <td>-3.059046</td>\n",
       "      <td>-2.733533</td>\n",
       "    </tr>\n",
       "    <tr>\n",
       "      <th>3090</th>\n",
       "      <td>Male</td>\n",
       "      <td>188.245253</td>\n",
       "      <td>109.249627</td>\n",
       "      <td>1.776219</td>\n",
       "      <td>2.721333</td>\n",
       "    </tr>\n",
       "    <tr>\n",
       "      <th>3140</th>\n",
       "      <td>Male</td>\n",
       "      <td>158.136937</td>\n",
       "      <td>58.646459</td>\n",
       "      <td>-2.363553</td>\n",
       "      <td>-2.918365</td>\n",
       "    </tr>\n",
       "    <tr>\n",
       "      <th>3228</th>\n",
       "      <td>Male</td>\n",
       "      <td>193.722416</td>\n",
       "      <td>112.213890</td>\n",
       "      <td>2.529307</td>\n",
       "      <td>3.051699</td>\n",
       "    </tr>\n",
       "    <tr>\n",
       "      <th>3285</th>\n",
       "      <td>Male</td>\n",
       "      <td>199.461654</td>\n",
       "      <td>115.163297</td>\n",
       "      <td>3.318429</td>\n",
       "      <td>3.380409</td>\n",
       "    </tr>\n",
       "    <tr>\n",
       "      <th>3332</th>\n",
       "      <td>Male</td>\n",
       "      <td>154.231542</td>\n",
       "      <td>56.077456</td>\n",
       "      <td>-2.900529</td>\n",
       "      <td>-3.204680</td>\n",
       "    </tr>\n",
       "    <tr>\n",
       "      <th>3664</th>\n",
       "      <td>Male</td>\n",
       "      <td>158.896507</td>\n",
       "      <td>59.994094</td>\n",
       "      <td>-2.259116</td>\n",
       "      <td>-2.768172</td>\n",
       "    </tr>\n",
       "    <tr>\n",
       "      <th>3669</th>\n",
       "      <td>Male</td>\n",
       "      <td>195.601174</td>\n",
       "      <td>114.045655</td>\n",
       "      <td>2.787628</td>\n",
       "      <td>3.255848</td>\n",
       "    </tr>\n",
       "    <tr>\n",
       "      <th>3757</th>\n",
       "      <td>Male</td>\n",
       "      <td>199.698290</td>\n",
       "      <td>111.464113</td>\n",
       "      <td>3.350966</td>\n",
       "      <td>2.968136</td>\n",
       "    </tr>\n",
       "    <tr>\n",
       "      <th>3909</th>\n",
       "      <td>Male</td>\n",
       "      <td>195.751082</td>\n",
       "      <td>112.995664</td>\n",
       "      <td>2.808240</td>\n",
       "      <td>3.138827</td>\n",
       "    </tr>\n",
       "    <tr>\n",
       "      <th>3918</th>\n",
       "      <td>Male</td>\n",
       "      <td>194.404390</td>\n",
       "      <td>110.345413</td>\n",
       "      <td>2.623076</td>\n",
       "      <td>2.843458</td>\n",
       "    </tr>\n",
       "    <tr>\n",
       "      <th>3996</th>\n",
       "      <td>Male</td>\n",
       "      <td>156.134738</td>\n",
       "      <td>58.388846</td>\n",
       "      <td>-2.638848</td>\n",
       "      <td>-2.947076</td>\n",
       "    </tr>\n",
       "    <tr>\n",
       "      <th>4077</th>\n",
       "      <td>Male</td>\n",
       "      <td>190.441460</td>\n",
       "      <td>112.877108</td>\n",
       "      <td>2.078189</td>\n",
       "      <td>3.125614</td>\n",
       "    </tr>\n",
       "    <tr>\n",
       "      <th>4275</th>\n",
       "      <td>Male</td>\n",
       "      <td>195.241812</td>\n",
       "      <td>109.106775</td>\n",
       "      <td>2.738218</td>\n",
       "      <td>2.705412</td>\n",
       "    </tr>\n",
       "    <tr>\n",
       "      <th>4297</th>\n",
       "      <td>Male</td>\n",
       "      <td>195.836215</td>\n",
       "      <td>109.069832</td>\n",
       "      <td>2.819946</td>\n",
       "      <td>2.701295</td>\n",
       "    </tr>\n",
       "    <tr>\n",
       "      <th>4331</th>\n",
       "      <td>Male</td>\n",
       "      <td>195.195854</td>\n",
       "      <td>115.308479</td>\n",
       "      <td>2.731899</td>\n",
       "      <td>3.396589</td>\n",
       "    </tr>\n",
       "    <tr>\n",
       "      <th>4468</th>\n",
       "      <td>Male</td>\n",
       "      <td>160.106791</td>\n",
       "      <td>59.784407</td>\n",
       "      <td>-2.092706</td>\n",
       "      <td>-2.791542</td>\n",
       "    </tr>\n",
       "    <tr>\n",
       "      <th>4569</th>\n",
       "      <td>Male</td>\n",
       "      <td>196.969853</td>\n",
       "      <td>109.789156</td>\n",
       "      <td>2.975816</td>\n",
       "      <td>2.781463</td>\n",
       "    </tr>\n",
       "    <tr>\n",
       "      <th>4637</th>\n",
       "      <td>Male</td>\n",
       "      <td>152.064918</td>\n",
       "      <td>53.435472</td>\n",
       "      <td>-3.198432</td>\n",
       "      <td>-3.499127</td>\n",
       "    </tr>\n",
       "    <tr>\n",
       "      <th>4701</th>\n",
       "      <td>Male</td>\n",
       "      <td>194.900414</td>\n",
       "      <td>109.628323</td>\n",
       "      <td>2.691277</td>\n",
       "      <td>2.763538</td>\n",
       "    </tr>\n",
       "    <tr>\n",
       "      <th>4721</th>\n",
       "      <td>Male</td>\n",
       "      <td>191.340350</td>\n",
       "      <td>109.063239</td>\n",
       "      <td>2.201782</td>\n",
       "      <td>2.700560</td>\n",
       "    </tr>\n",
       "    <tr>\n",
       "      <th>4794</th>\n",
       "      <td>Male</td>\n",
       "      <td>148.353539</td>\n",
       "      <td>55.038702</td>\n",
       "      <td>-3.708731</td>\n",
       "      <td>-3.320448</td>\n",
       "    </tr>\n",
       "  </tbody>\n",
       "</table>\n",
       "</div>"
      ],
      "text/plain": [
       "     Gender      Height      Weight  z_height  z_weight\n",
       "0      Male  187.571423  109.722200  1.683570  2.774001\n",
       "551    Male  154.126736   58.650560 -2.914940 -2.917908\n",
       "565    Male  156.855185   56.031998 -2.539789 -3.209746\n",
       "806    Male  157.679733   59.093384 -2.426417 -2.868556\n",
       "994    Male  198.363503  115.980602  3.167438  3.471497\n",
       "1238   Male  153.322811   60.848611 -3.025476 -2.672937\n",
       "1506   Male  192.274490  113.202226  2.330223  3.161848\n",
       "1577   Male  154.429169   58.237422 -2.873356 -2.963952\n",
       "1610   Male  194.608567  116.058844  2.651149  3.480217\n",
       "1651   Male  158.010425   59.347761 -2.380948 -2.840206\n",
       "1750   Male  189.495857  113.374890  1.948172  3.181092\n",
       "1896   Male  194.241115  111.690248  2.600626  2.993339\n",
       "1942   Male  152.353937   51.212437 -3.158693 -3.746883\n",
       "1954   Male  193.336354  109.152728  2.476225  2.710534\n",
       "2014   Male  200.656806  122.466524  3.482758  4.194350\n",
       "2070   Male  196.762546  114.558963  2.947312  3.313056\n",
       "2074   Male  192.085040  109.408659  2.304174  2.739057\n",
       "2350   Male  164.947574   60.560638 -1.427118 -2.705031\n",
       "2417   Male  160.411852   54.088205 -2.050762 -3.426381\n",
       "2500   Male  155.129197   55.647334 -2.777105 -3.252616\n",
       "2527   Male  153.083534   57.359890 -3.058376 -3.061753\n",
       "2766   Male  188.977672  109.290695  1.876924  2.725910\n",
       "2873   Male  155.286648   57.074763 -2.755457 -3.093530\n",
       "2971   Male  190.898472  113.543115  2.141026  3.199840\n",
       "2974   Male  153.078663   60.304898 -3.059046 -2.733533\n",
       "3090   Male  188.245253  109.249627  1.776219  2.721333\n",
       "3140   Male  158.136937   58.646459 -2.363553 -2.918365\n",
       "3228   Male  193.722416  112.213890  2.529307  3.051699\n",
       "3285   Male  199.461654  115.163297  3.318429  3.380409\n",
       "3332   Male  154.231542   56.077456 -2.900529 -3.204680\n",
       "3664   Male  158.896507   59.994094 -2.259116 -2.768172\n",
       "3669   Male  195.601174  114.045655  2.787628  3.255848\n",
       "3757   Male  199.698290  111.464113  3.350966  2.968136\n",
       "3909   Male  195.751082  112.995664  2.808240  3.138827\n",
       "3918   Male  194.404390  110.345413  2.623076  2.843458\n",
       "3996   Male  156.134738   58.388846 -2.638848 -2.947076\n",
       "4077   Male  190.441460  112.877108  2.078189  3.125614\n",
       "4275   Male  195.241812  109.106775  2.738218  2.705412\n",
       "4297   Male  195.836215  109.069832  2.819946  2.701295\n",
       "4331   Male  195.195854  115.308479  2.731899  3.396589\n",
       "4468   Male  160.106791   59.784407 -2.092706 -2.791542\n",
       "4569   Male  196.969853  109.789156  2.975816  2.781463\n",
       "4637   Male  152.064918   53.435472 -3.198432 -3.499127\n",
       "4701   Male  194.900414  109.628323  2.691277  2.763538\n",
       "4721   Male  191.340350  109.063239  2.201782  2.700560\n",
       "4794   Male  148.353539   55.038702 -3.708731 -3.320448"
      ]
     },
     "metadata": {},
     "output_type": "display_data"
    },
    {
     "name": "stdout",
     "output_type": "stream",
     "text": [
      "\n",
      "######################################\n",
      "\n",
      "Outliers mulheres apenas para a altura:\n"
     ]
    },
    {
     "data": {
      "text/html": [
       "<div>\n",
       "<style scoped>\n",
       "    .dataframe tbody tr th:only-of-type {\n",
       "        vertical-align: middle;\n",
       "    }\n",
       "\n",
       "    .dataframe tbody tr th {\n",
       "        vertical-align: top;\n",
       "    }\n",
       "\n",
       "    .dataframe thead th {\n",
       "        text-align: right;\n",
       "    }\n",
       "</style>\n",
       "<table border=\"1\" class=\"dataframe\">\n",
       "  <thead>\n",
       "    <tr style=\"text-align: right;\">\n",
       "      <th></th>\n",
       "      <th>Gender</th>\n",
       "      <th>Height</th>\n",
       "      <th>Weight</th>\n",
       "      <th>z_height</th>\n",
       "      <th>z_weight</th>\n",
       "    </tr>\n",
       "  </thead>\n",
       "  <tbody>\n",
       "    <tr>\n",
       "      <th>5074</th>\n",
       "      <td>Female</td>\n",
       "      <td>142.645023</td>\n",
       "      <td>41.193530</td>\n",
       "      <td>-2.799896</td>\n",
       "      <td>-2.367981</td>\n",
       "    </tr>\n",
       "    <tr>\n",
       "      <th>5103</th>\n",
       "      <td>Female</td>\n",
       "      <td>182.857792</td>\n",
       "      <td>80.452691</td>\n",
       "      <td>3.071814</td>\n",
       "      <td>2.181941</td>\n",
       "    </tr>\n",
       "    <tr>\n",
       "      <th>5345</th>\n",
       "      <td>Female</td>\n",
       "      <td>140.554691</td>\n",
       "      <td>40.082819</td>\n",
       "      <td>-3.105118</td>\n",
       "      <td>-2.496706</td>\n",
       "    </tr>\n",
       "    <tr>\n",
       "      <th>5360</th>\n",
       "      <td>Female</td>\n",
       "      <td>141.397233</td>\n",
       "      <td>31.290270</td>\n",
       "      <td>-2.982094</td>\n",
       "      <td>-3.515714</td>\n",
       "    </tr>\n",
       "    <tr>\n",
       "      <th>5732</th>\n",
       "      <td>Female</td>\n",
       "      <td>142.439897</td>\n",
       "      <td>42.859645</td>\n",
       "      <td>-2.829848</td>\n",
       "      <td>-2.174887</td>\n",
       "    </tr>\n",
       "    <tr>\n",
       "      <th>5740</th>\n",
       "      <td>Female</td>\n",
       "      <td>142.516611</td>\n",
       "      <td>36.528740</td>\n",
       "      <td>-2.818647</td>\n",
       "      <td>-2.908604</td>\n",
       "    </tr>\n",
       "    <tr>\n",
       "      <th>6116</th>\n",
       "      <td>Female</td>\n",
       "      <td>181.454925</td>\n",
       "      <td>79.395578</td>\n",
       "      <td>2.866973</td>\n",
       "      <td>2.059428</td>\n",
       "    </tr>\n",
       "    <tr>\n",
       "      <th>6176</th>\n",
       "      <td>Female</td>\n",
       "      <td>141.862083</td>\n",
       "      <td>47.068465</td>\n",
       "      <td>-2.914218</td>\n",
       "      <td>-1.687108</td>\n",
       "    </tr>\n",
       "    <tr>\n",
       "      <th>6624</th>\n",
       "      <td>Female</td>\n",
       "      <td>138.726819</td>\n",
       "      <td>32.383992</td>\n",
       "      <td>-3.372017</td>\n",
       "      <td>-3.388958</td>\n",
       "    </tr>\n",
       "    <tr>\n",
       "      <th>6625</th>\n",
       "      <td>Female</td>\n",
       "      <td>141.578932</td>\n",
       "      <td>49.043803</td>\n",
       "      <td>-2.955563</td>\n",
       "      <td>-1.458177</td>\n",
       "    </tr>\n",
       "    <tr>\n",
       "      <th>6834</th>\n",
       "      <td>Female</td>\n",
       "      <td>142.409256</td>\n",
       "      <td>40.629232</td>\n",
       "      <td>-2.834322</td>\n",
       "      <td>-2.433380</td>\n",
       "    </tr>\n",
       "    <tr>\n",
       "      <th>6908</th>\n",
       "      <td>Female</td>\n",
       "      <td>142.489544</td>\n",
       "      <td>47.606868</td>\n",
       "      <td>-2.822599</td>\n",
       "      <td>-1.624710</td>\n",
       "    </tr>\n",
       "    <tr>\n",
       "      <th>7162</th>\n",
       "      <td>Female</td>\n",
       "      <td>183.971618</td>\n",
       "      <td>80.726450</td>\n",
       "      <td>3.234451</td>\n",
       "      <td>2.213669</td>\n",
       "    </tr>\n",
       "    <tr>\n",
       "      <th>7294</th>\n",
       "      <td>Female</td>\n",
       "      <td>139.379268</td>\n",
       "      <td>35.655752</td>\n",
       "      <td>-3.276749</td>\n",
       "      <td>-3.009779</td>\n",
       "    </tr>\n",
       "    <tr>\n",
       "      <th>7311</th>\n",
       "      <td>Female</td>\n",
       "      <td>186.409548</td>\n",
       "      <td>86.219146</td>\n",
       "      <td>3.590427</td>\n",
       "      <td>2.850242</td>\n",
       "    </tr>\n",
       "    <tr>\n",
       "      <th>7617</th>\n",
       "      <td>Female</td>\n",
       "      <td>140.077336</td>\n",
       "      <td>40.285046</td>\n",
       "      <td>-3.174820</td>\n",
       "      <td>-2.473269</td>\n",
       "    </tr>\n",
       "    <tr>\n",
       "      <th>7856</th>\n",
       "      <td>Female</td>\n",
       "      <td>183.552461</td>\n",
       "      <td>85.474601</td>\n",
       "      <td>3.173247</td>\n",
       "      <td>2.763953</td>\n",
       "    </tr>\n",
       "    <tr>\n",
       "      <th>7924</th>\n",
       "      <td>Female</td>\n",
       "      <td>181.044868</td>\n",
       "      <td>73.624872</td>\n",
       "      <td>2.807098</td>\n",
       "      <td>1.390635</td>\n",
       "    </tr>\n",
       "    <tr>\n",
       "      <th>8003</th>\n",
       "      <td>Female</td>\n",
       "      <td>142.507639</td>\n",
       "      <td>39.598507</td>\n",
       "      <td>-2.819957</td>\n",
       "      <td>-2.552835</td>\n",
       "    </tr>\n",
       "    <tr>\n",
       "      <th>8135</th>\n",
       "      <td>Female</td>\n",
       "      <td>181.742600</td>\n",
       "      <td>84.214039</td>\n",
       "      <td>2.908978</td>\n",
       "      <td>2.617861</td>\n",
       "    </tr>\n",
       "    <tr>\n",
       "      <th>8241</th>\n",
       "      <td>Female</td>\n",
       "      <td>142.664940</td>\n",
       "      <td>35.334555</td>\n",
       "      <td>-2.796988</td>\n",
       "      <td>-3.047004</td>\n",
       "    </tr>\n",
       "    <tr>\n",
       "      <th>8464</th>\n",
       "      <td>Female</td>\n",
       "      <td>180.518946</td>\n",
       "      <td>82.592570</td>\n",
       "      <td>2.730305</td>\n",
       "      <td>2.429942</td>\n",
       "    </tr>\n",
       "    <tr>\n",
       "      <th>8635</th>\n",
       "      <td>Female</td>\n",
       "      <td>183.105329</td>\n",
       "      <td>87.331427</td>\n",
       "      <td>3.107958</td>\n",
       "      <td>2.979149</td>\n",
       "    </tr>\n",
       "    <tr>\n",
       "      <th>8692</th>\n",
       "      <td>Female</td>\n",
       "      <td>141.355805</td>\n",
       "      <td>38.837783</td>\n",
       "      <td>-2.988143</td>\n",
       "      <td>-2.640999</td>\n",
       "    </tr>\n",
       "    <tr>\n",
       "      <th>9285</th>\n",
       "      <td>Female</td>\n",
       "      <td>137.828359</td>\n",
       "      <td>29.347785</td>\n",
       "      <td>-3.503207</td>\n",
       "      <td>-3.740838</td>\n",
       "    </tr>\n",
       "    <tr>\n",
       "      <th>9424</th>\n",
       "      <td>Female</td>\n",
       "      <td>180.651893</td>\n",
       "      <td>79.851377</td>\n",
       "      <td>2.749717</td>\n",
       "      <td>2.112252</td>\n",
       "    </tr>\n",
       "    <tr>\n",
       "      <th>9825</th>\n",
       "      <td>Female</td>\n",
       "      <td>142.187163</td>\n",
       "      <td>38.745139</td>\n",
       "      <td>-2.866751</td>\n",
       "      <td>-2.651736</td>\n",
       "    </tr>\n",
       "  </tbody>\n",
       "</table>\n",
       "</div>"
      ],
      "text/plain": [
       "      Gender      Height     Weight  z_height  z_weight\n",
       "5074  Female  142.645023  41.193530 -2.799896 -2.367981\n",
       "5103  Female  182.857792  80.452691  3.071814  2.181941\n",
       "5345  Female  140.554691  40.082819 -3.105118 -2.496706\n",
       "5360  Female  141.397233  31.290270 -2.982094 -3.515714\n",
       "5732  Female  142.439897  42.859645 -2.829848 -2.174887\n",
       "5740  Female  142.516611  36.528740 -2.818647 -2.908604\n",
       "6116  Female  181.454925  79.395578  2.866973  2.059428\n",
       "6176  Female  141.862083  47.068465 -2.914218 -1.687108\n",
       "6624  Female  138.726819  32.383992 -3.372017 -3.388958\n",
       "6625  Female  141.578932  49.043803 -2.955563 -1.458177\n",
       "6834  Female  142.409256  40.629232 -2.834322 -2.433380\n",
       "6908  Female  142.489544  47.606868 -2.822599 -1.624710\n",
       "7162  Female  183.971618  80.726450  3.234451  2.213669\n",
       "7294  Female  139.379268  35.655752 -3.276749 -3.009779\n",
       "7311  Female  186.409548  86.219146  3.590427  2.850242\n",
       "7617  Female  140.077336  40.285046 -3.174820 -2.473269\n",
       "7856  Female  183.552461  85.474601  3.173247  2.763953\n",
       "7924  Female  181.044868  73.624872  2.807098  1.390635\n",
       "8003  Female  142.507639  39.598507 -2.819957 -2.552835\n",
       "8135  Female  181.742600  84.214039  2.908978  2.617861\n",
       "8241  Female  142.664940  35.334555 -2.796988 -3.047004\n",
       "8464  Female  180.518946  82.592570  2.730305  2.429942\n",
       "8635  Female  183.105329  87.331427  3.107958  2.979149\n",
       "8692  Female  141.355805  38.837783 -2.988143 -2.640999\n",
       "9285  Female  137.828359  29.347785 -3.503207 -3.740838\n",
       "9424  Female  180.651893  79.851377  2.749717  2.112252\n",
       "9825  Female  142.187163  38.745139 -2.866751 -2.651736"
      ]
     },
     "metadata": {},
     "output_type": "display_data"
    },
    {
     "name": "stdout",
     "output_type": "stream",
     "text": [
      "\n",
      "Outliers mulheres apenas para o peso:\n"
     ]
    },
    {
     "data": {
      "text/html": [
       "<div>\n",
       "<style scoped>\n",
       "    .dataframe tbody tr th:only-of-type {\n",
       "        vertical-align: middle;\n",
       "    }\n",
       "\n",
       "    .dataframe tbody tr th {\n",
       "        vertical-align: top;\n",
       "    }\n",
       "\n",
       "    .dataframe thead th {\n",
       "        text-align: right;\n",
       "    }\n",
       "</style>\n",
       "<table border=\"1\" class=\"dataframe\">\n",
       "  <thead>\n",
       "    <tr style=\"text-align: right;\">\n",
       "      <th></th>\n",
       "      <th>Gender</th>\n",
       "      <th>Height</th>\n",
       "      <th>Weight</th>\n",
       "      <th>z_height</th>\n",
       "      <th>z_weight</th>\n",
       "    </tr>\n",
       "  </thead>\n",
       "  <tbody>\n",
       "    <tr>\n",
       "      <th>5214</th>\n",
       "      <td>Female</td>\n",
       "      <td>144.235003</td>\n",
       "      <td>38.099010</td>\n",
       "      <td>-2.567734</td>\n",
       "      <td>-2.726619</td>\n",
       "    </tr>\n",
       "    <tr>\n",
       "      <th>5360</th>\n",
       "      <td>Female</td>\n",
       "      <td>141.397233</td>\n",
       "      <td>31.290270</td>\n",
       "      <td>-2.982094</td>\n",
       "      <td>-3.515714</td>\n",
       "    </tr>\n",
       "    <tr>\n",
       "      <th>5662</th>\n",
       "      <td>Female</td>\n",
       "      <td>174.806437</td>\n",
       "      <td>85.590067</td>\n",
       "      <td>1.896187</td>\n",
       "      <td>2.777335</td>\n",
       "    </tr>\n",
       "    <tr>\n",
       "      <th>5740</th>\n",
       "      <td>Female</td>\n",
       "      <td>142.516611</td>\n",
       "      <td>36.528740</td>\n",
       "      <td>-2.818647</td>\n",
       "      <td>-2.908604</td>\n",
       "    </tr>\n",
       "    <tr>\n",
       "      <th>6258</th>\n",
       "      <td>Female</td>\n",
       "      <td>179.182537</td>\n",
       "      <td>88.953604</td>\n",
       "      <td>2.535168</td>\n",
       "      <td>3.167151</td>\n",
       "    </tr>\n",
       "    <tr>\n",
       "      <th>6624</th>\n",
       "      <td>Female</td>\n",
       "      <td>138.726819</td>\n",
       "      <td>32.383992</td>\n",
       "      <td>-3.372017</td>\n",
       "      <td>-3.388958</td>\n",
       "    </tr>\n",
       "    <tr>\n",
       "      <th>6687</th>\n",
       "      <td>Female</td>\n",
       "      <td>177.837685</td>\n",
       "      <td>85.556511</td>\n",
       "      <td>2.338798</td>\n",
       "      <td>2.773446</td>\n",
       "    </tr>\n",
       "    <tr>\n",
       "      <th>6982</th>\n",
       "      <td>Female</td>\n",
       "      <td>144.181719</td>\n",
       "      <td>35.913261</td>\n",
       "      <td>-2.575514</td>\n",
       "      <td>-2.979935</td>\n",
       "    </tr>\n",
       "    <tr>\n",
       "      <th>7294</th>\n",
       "      <td>Female</td>\n",
       "      <td>139.379268</td>\n",
       "      <td>35.655752</td>\n",
       "      <td>-3.276749</td>\n",
       "      <td>-3.009779</td>\n",
       "    </tr>\n",
       "    <tr>\n",
       "      <th>7311</th>\n",
       "      <td>Female</td>\n",
       "      <td>186.409548</td>\n",
       "      <td>86.219146</td>\n",
       "      <td>3.590427</td>\n",
       "      <td>2.850242</td>\n",
       "    </tr>\n",
       "    <tr>\n",
       "      <th>7527</th>\n",
       "      <td>Female</td>\n",
       "      <td>179.926242</td>\n",
       "      <td>87.163470</td>\n",
       "      <td>2.643761</td>\n",
       "      <td>2.959684</td>\n",
       "    </tr>\n",
       "    <tr>\n",
       "      <th>7856</th>\n",
       "      <td>Female</td>\n",
       "      <td>183.552461</td>\n",
       "      <td>85.474601</td>\n",
       "      <td>3.173247</td>\n",
       "      <td>2.763953</td>\n",
       "    </tr>\n",
       "    <tr>\n",
       "      <th>7892</th>\n",
       "      <td>Female</td>\n",
       "      <td>175.008285</td>\n",
       "      <td>87.380948</td>\n",
       "      <td>1.925660</td>\n",
       "      <td>2.984888</td>\n",
       "    </tr>\n",
       "    <tr>\n",
       "      <th>7921</th>\n",
       "      <td>Female</td>\n",
       "      <td>179.397763</td>\n",
       "      <td>88.798539</td>\n",
       "      <td>2.566594</td>\n",
       "      <td>3.149180</td>\n",
       "    </tr>\n",
       "    <tr>\n",
       "      <th>7923</th>\n",
       "      <td>Female</td>\n",
       "      <td>177.679266</td>\n",
       "      <td>88.106850</td>\n",
       "      <td>2.315666</td>\n",
       "      <td>3.069017</td>\n",
       "    </tr>\n",
       "    <tr>\n",
       "      <th>7935</th>\n",
       "      <td>Female</td>\n",
       "      <td>147.857591</td>\n",
       "      <td>35.164553</td>\n",
       "      <td>-2.038778</td>\n",
       "      <td>-3.066706</td>\n",
       "    </tr>\n",
       "    <tr>\n",
       "      <th>8180</th>\n",
       "      <td>Female</td>\n",
       "      <td>153.254912</td>\n",
       "      <td>37.284990</td>\n",
       "      <td>-1.250682</td>\n",
       "      <td>-2.820959</td>\n",
       "    </tr>\n",
       "    <tr>\n",
       "      <th>8241</th>\n",
       "      <td>Female</td>\n",
       "      <td>142.664940</td>\n",
       "      <td>35.334555</td>\n",
       "      <td>-2.796988</td>\n",
       "      <td>-3.047004</td>\n",
       "    </tr>\n",
       "    <tr>\n",
       "      <th>8382</th>\n",
       "      <td>Female</td>\n",
       "      <td>177.112354</td>\n",
       "      <td>85.178862</td>\n",
       "      <td>2.232888</td>\n",
       "      <td>2.729679</td>\n",
       "    </tr>\n",
       "    <tr>\n",
       "      <th>8635</th>\n",
       "      <td>Female</td>\n",
       "      <td>183.105329</td>\n",
       "      <td>87.331427</td>\n",
       "      <td>3.107958</td>\n",
       "      <td>2.979149</td>\n",
       "    </tr>\n",
       "    <tr>\n",
       "      <th>8736</th>\n",
       "      <td>Female</td>\n",
       "      <td>180.214674</td>\n",
       "      <td>87.646705</td>\n",
       "      <td>2.685876</td>\n",
       "      <td>3.015688</td>\n",
       "    </tr>\n",
       "    <tr>\n",
       "      <th>8748</th>\n",
       "      <td>Female</td>\n",
       "      <td>179.570743</td>\n",
       "      <td>88.019962</td>\n",
       "      <td>2.591852</td>\n",
       "      <td>3.058947</td>\n",
       "    </tr>\n",
       "    <tr>\n",
       "      <th>8819</th>\n",
       "      <td>Female</td>\n",
       "      <td>146.890534</td>\n",
       "      <td>37.660711</td>\n",
       "      <td>-2.179983</td>\n",
       "      <td>-2.777415</td>\n",
       "    </tr>\n",
       "    <tr>\n",
       "      <th>9285</th>\n",
       "      <td>Female</td>\n",
       "      <td>137.828359</td>\n",
       "      <td>29.347785</td>\n",
       "      <td>-3.503207</td>\n",
       "      <td>-3.740838</td>\n",
       "    </tr>\n",
       "    <tr>\n",
       "      <th>9310</th>\n",
       "      <td>Female</td>\n",
       "      <td>172.640999</td>\n",
       "      <td>85.671902</td>\n",
       "      <td>1.579998</td>\n",
       "      <td>2.786819</td>\n",
       "    </tr>\n",
       "    <tr>\n",
       "      <th>9566</th>\n",
       "      <td>Female</td>\n",
       "      <td>145.676856</td>\n",
       "      <td>32.999249</td>\n",
       "      <td>-2.357200</td>\n",
       "      <td>-3.317653</td>\n",
       "    </tr>\n",
       "    <tr>\n",
       "      <th>9633</th>\n",
       "      <td>Female</td>\n",
       "      <td>178.689039</td>\n",
       "      <td>91.734198</td>\n",
       "      <td>2.463109</td>\n",
       "      <td>3.489406</td>\n",
       "    </tr>\n",
       "    <tr>\n",
       "      <th>9846</th>\n",
       "      <td>Female</td>\n",
       "      <td>179.708582</td>\n",
       "      <td>87.355366</td>\n",
       "      <td>2.611979</td>\n",
       "      <td>2.981924</td>\n",
       "    </tr>\n",
       "  </tbody>\n",
       "</table>\n",
       "</div>"
      ],
      "text/plain": [
       "      Gender      Height     Weight  z_height  z_weight\n",
       "5214  Female  144.235003  38.099010 -2.567734 -2.726619\n",
       "5360  Female  141.397233  31.290270 -2.982094 -3.515714\n",
       "5662  Female  174.806437  85.590067  1.896187  2.777335\n",
       "5740  Female  142.516611  36.528740 -2.818647 -2.908604\n",
       "6258  Female  179.182537  88.953604  2.535168  3.167151\n",
       "6624  Female  138.726819  32.383992 -3.372017 -3.388958\n",
       "6687  Female  177.837685  85.556511  2.338798  2.773446\n",
       "6982  Female  144.181719  35.913261 -2.575514 -2.979935\n",
       "7294  Female  139.379268  35.655752 -3.276749 -3.009779\n",
       "7311  Female  186.409548  86.219146  3.590427  2.850242\n",
       "7527  Female  179.926242  87.163470  2.643761  2.959684\n",
       "7856  Female  183.552461  85.474601  3.173247  2.763953\n",
       "7892  Female  175.008285  87.380948  1.925660  2.984888\n",
       "7921  Female  179.397763  88.798539  2.566594  3.149180\n",
       "7923  Female  177.679266  88.106850  2.315666  3.069017\n",
       "7935  Female  147.857591  35.164553 -2.038778 -3.066706\n",
       "8180  Female  153.254912  37.284990 -1.250682 -2.820959\n",
       "8241  Female  142.664940  35.334555 -2.796988 -3.047004\n",
       "8382  Female  177.112354  85.178862  2.232888  2.729679\n",
       "8635  Female  183.105329  87.331427  3.107958  2.979149\n",
       "8736  Female  180.214674  87.646705  2.685876  3.015688\n",
       "8748  Female  179.570743  88.019962  2.591852  3.058947\n",
       "8819  Female  146.890534  37.660711 -2.179983 -2.777415\n",
       "9285  Female  137.828359  29.347785 -3.503207 -3.740838\n",
       "9310  Female  172.640999  85.671902  1.579998  2.786819\n",
       "9566  Female  145.676856  32.999249 -2.357200 -3.317653\n",
       "9633  Female  178.689039  91.734198  2.463109  3.489406\n",
       "9846  Female  179.708582  87.355366  2.611979  2.981924"
      ]
     },
     "metadata": {},
     "output_type": "display_data"
    }
   ],
   "source": [
    "# dê uma olhada nos outliers das variáveis altura e peso separadamente \n",
    "\n",
    "print(\"Outliers homens apenas para a altura:\")\n",
    "display(male[(male[\"Height\"] > max_mh) | (male[\"Height\"] < min_mh)])\n",
    "\n",
    "print(\"\\nOutliers homens apenas para o peso:\")\n",
    "display(male[(male[\"Weight\"] > max_mw) | (male[\"Weight\"] < min_mw)])\n",
    "\n",
    "print(\"\\n######################################\\n\")\n",
    "\n",
    "print(\"Outliers mulheres apenas para a altura:\")\n",
    "display(female[(female[\"Height\"] > max_fh) | (female[\"Height\"] < min_fh)])\n",
    "\n",
    "print(\"\\nOutliers mulheres apenas para o peso:\")\n",
    "display(female[(female[\"Weight\"] > max_fw) | (female[\"Weight\"] < min_fw)])"
   ]
  },
  {
   "cell_type": "code",
   "execution_count": 209,
   "metadata": {},
   "outputs": [
    {
     "name": "stdout",
     "output_type": "stream",
     "text": [
      "Outliers homens para peso e altura:\n"
     ]
    },
    {
     "data": {
      "text/html": [
       "<div>\n",
       "<style scoped>\n",
       "    .dataframe tbody tr th:only-of-type {\n",
       "        vertical-align: middle;\n",
       "    }\n",
       "\n",
       "    .dataframe tbody tr th {\n",
       "        vertical-align: top;\n",
       "    }\n",
       "\n",
       "    .dataframe thead th {\n",
       "        text-align: right;\n",
       "    }\n",
       "</style>\n",
       "<table border=\"1\" class=\"dataframe\">\n",
       "  <thead>\n",
       "    <tr style=\"text-align: right;\">\n",
       "      <th></th>\n",
       "      <th>Gender</th>\n",
       "      <th>Height</th>\n",
       "      <th>Weight</th>\n",
       "      <th>z_height</th>\n",
       "      <th>z_weight</th>\n",
       "    </tr>\n",
       "  </thead>\n",
       "  <tbody>\n",
       "    <tr>\n",
       "      <th>4794</th>\n",
       "      <td>Male</td>\n",
       "      <td>148.353539</td>\n",
       "      <td>55.038702</td>\n",
       "      <td>-3.708731</td>\n",
       "      <td>-3.320448</td>\n",
       "    </tr>\n",
       "    <tr>\n",
       "      <th>4637</th>\n",
       "      <td>Male</td>\n",
       "      <td>152.064918</td>\n",
       "      <td>53.435472</td>\n",
       "      <td>-3.198432</td>\n",
       "      <td>-3.499127</td>\n",
       "    </tr>\n",
       "    <tr>\n",
       "      <th>1942</th>\n",
       "      <td>Male</td>\n",
       "      <td>152.353937</td>\n",
       "      <td>51.212437</td>\n",
       "      <td>-3.158693</td>\n",
       "      <td>-3.746883</td>\n",
       "    </tr>\n",
       "    <tr>\n",
       "      <th>2974</th>\n",
       "      <td>Male</td>\n",
       "      <td>153.078663</td>\n",
       "      <td>60.304898</td>\n",
       "      <td>-3.059046</td>\n",
       "      <td>-2.733533</td>\n",
       "    </tr>\n",
       "    <tr>\n",
       "      <th>2527</th>\n",
       "      <td>Male</td>\n",
       "      <td>153.083534</td>\n",
       "      <td>57.359890</td>\n",
       "      <td>-3.058376</td>\n",
       "      <td>-3.061753</td>\n",
       "    </tr>\n",
       "    <tr>\n",
       "      <th>1238</th>\n",
       "      <td>Male</td>\n",
       "      <td>153.322811</td>\n",
       "      <td>60.848611</td>\n",
       "      <td>-3.025476</td>\n",
       "      <td>-2.672937</td>\n",
       "    </tr>\n",
       "    <tr>\n",
       "      <th>551</th>\n",
       "      <td>Male</td>\n",
       "      <td>154.126736</td>\n",
       "      <td>58.650560</td>\n",
       "      <td>-2.914940</td>\n",
       "      <td>-2.917908</td>\n",
       "    </tr>\n",
       "    <tr>\n",
       "      <th>3332</th>\n",
       "      <td>Male</td>\n",
       "      <td>154.231542</td>\n",
       "      <td>56.077456</td>\n",
       "      <td>-2.900529</td>\n",
       "      <td>-3.204680</td>\n",
       "    </tr>\n",
       "    <tr>\n",
       "      <th>1577</th>\n",
       "      <td>Male</td>\n",
       "      <td>154.429169</td>\n",
       "      <td>58.237422</td>\n",
       "      <td>-2.873356</td>\n",
       "      <td>-2.963952</td>\n",
       "    </tr>\n",
       "    <tr>\n",
       "      <th>2500</th>\n",
       "      <td>Male</td>\n",
       "      <td>155.129197</td>\n",
       "      <td>55.647334</td>\n",
       "      <td>-2.777105</td>\n",
       "      <td>-3.252616</td>\n",
       "    </tr>\n",
       "    <tr>\n",
       "      <th>2873</th>\n",
       "      <td>Male</td>\n",
       "      <td>155.286648</td>\n",
       "      <td>57.074763</td>\n",
       "      <td>-2.755457</td>\n",
       "      <td>-3.093530</td>\n",
       "    </tr>\n",
       "    <tr>\n",
       "      <th>4701</th>\n",
       "      <td>Male</td>\n",
       "      <td>194.900414</td>\n",
       "      <td>109.628323</td>\n",
       "      <td>2.691277</td>\n",
       "      <td>2.763538</td>\n",
       "    </tr>\n",
       "    <tr>\n",
       "      <th>4331</th>\n",
       "      <td>Male</td>\n",
       "      <td>195.195854</td>\n",
       "      <td>115.308479</td>\n",
       "      <td>2.731899</td>\n",
       "      <td>3.396589</td>\n",
       "    </tr>\n",
       "    <tr>\n",
       "      <th>4275</th>\n",
       "      <td>Male</td>\n",
       "      <td>195.241812</td>\n",
       "      <td>109.106775</td>\n",
       "      <td>2.738218</td>\n",
       "      <td>2.705412</td>\n",
       "    </tr>\n",
       "    <tr>\n",
       "      <th>3669</th>\n",
       "      <td>Male</td>\n",
       "      <td>195.601174</td>\n",
       "      <td>114.045655</td>\n",
       "      <td>2.787628</td>\n",
       "      <td>3.255848</td>\n",
       "    </tr>\n",
       "    <tr>\n",
       "      <th>3909</th>\n",
       "      <td>Male</td>\n",
       "      <td>195.751082</td>\n",
       "      <td>112.995664</td>\n",
       "      <td>2.808240</td>\n",
       "      <td>3.138827</td>\n",
       "    </tr>\n",
       "    <tr>\n",
       "      <th>4297</th>\n",
       "      <td>Male</td>\n",
       "      <td>195.836215</td>\n",
       "      <td>109.069832</td>\n",
       "      <td>2.819946</td>\n",
       "      <td>2.701295</td>\n",
       "    </tr>\n",
       "    <tr>\n",
       "      <th>2070</th>\n",
       "      <td>Male</td>\n",
       "      <td>196.762546</td>\n",
       "      <td>114.558963</td>\n",
       "      <td>2.947312</td>\n",
       "      <td>3.313056</td>\n",
       "    </tr>\n",
       "    <tr>\n",
       "      <th>4569</th>\n",
       "      <td>Male</td>\n",
       "      <td>196.969853</td>\n",
       "      <td>109.789156</td>\n",
       "      <td>2.975816</td>\n",
       "      <td>2.781463</td>\n",
       "    </tr>\n",
       "    <tr>\n",
       "      <th>994</th>\n",
       "      <td>Male</td>\n",
       "      <td>198.363503</td>\n",
       "      <td>115.980602</td>\n",
       "      <td>3.167438</td>\n",
       "      <td>3.471497</td>\n",
       "    </tr>\n",
       "    <tr>\n",
       "      <th>3285</th>\n",
       "      <td>Male</td>\n",
       "      <td>199.461654</td>\n",
       "      <td>115.163297</td>\n",
       "      <td>3.318429</td>\n",
       "      <td>3.380409</td>\n",
       "    </tr>\n",
       "    <tr>\n",
       "      <th>3757</th>\n",
       "      <td>Male</td>\n",
       "      <td>199.698290</td>\n",
       "      <td>111.464113</td>\n",
       "      <td>3.350966</td>\n",
       "      <td>2.968136</td>\n",
       "    </tr>\n",
       "    <tr>\n",
       "      <th>2014</th>\n",
       "      <td>Male</td>\n",
       "      <td>200.656806</td>\n",
       "      <td>122.466524</td>\n",
       "      <td>3.482758</td>\n",
       "      <td>4.194350</td>\n",
       "    </tr>\n",
       "  </tbody>\n",
       "</table>\n",
       "</div>"
      ],
      "text/plain": [
       "     Gender      Height      Weight  z_height  z_weight\n",
       "4794   Male  148.353539   55.038702 -3.708731 -3.320448\n",
       "4637   Male  152.064918   53.435472 -3.198432 -3.499127\n",
       "1942   Male  152.353937   51.212437 -3.158693 -3.746883\n",
       "2974   Male  153.078663   60.304898 -3.059046 -2.733533\n",
       "2527   Male  153.083534   57.359890 -3.058376 -3.061753\n",
       "1238   Male  153.322811   60.848611 -3.025476 -2.672937\n",
       "551    Male  154.126736   58.650560 -2.914940 -2.917908\n",
       "3332   Male  154.231542   56.077456 -2.900529 -3.204680\n",
       "1577   Male  154.429169   58.237422 -2.873356 -2.963952\n",
       "2500   Male  155.129197   55.647334 -2.777105 -3.252616\n",
       "2873   Male  155.286648   57.074763 -2.755457 -3.093530\n",
       "4701   Male  194.900414  109.628323  2.691277  2.763538\n",
       "4331   Male  195.195854  115.308479  2.731899  3.396589\n",
       "4275   Male  195.241812  109.106775  2.738218  2.705412\n",
       "3669   Male  195.601174  114.045655  2.787628  3.255848\n",
       "3909   Male  195.751082  112.995664  2.808240  3.138827\n",
       "4297   Male  195.836215  109.069832  2.819946  2.701295\n",
       "2070   Male  196.762546  114.558963  2.947312  3.313056\n",
       "4569   Male  196.969853  109.789156  2.975816  2.781463\n",
       "994    Male  198.363503  115.980602  3.167438  3.471497\n",
       "3285   Male  199.461654  115.163297  3.318429  3.380409\n",
       "3757   Male  199.698290  111.464113  3.350966  2.968136\n",
       "2014   Male  200.656806  122.466524  3.482758  4.194350"
      ]
     },
     "metadata": {},
     "output_type": "display_data"
    },
    {
     "name": "stdout",
     "output_type": "stream",
     "text": [
      "\n",
      " ############################################### \n",
      "\n",
      "Outliers mulheres para peso e altura:\n"
     ]
    },
    {
     "data": {
      "text/html": [
       "<div>\n",
       "<style scoped>\n",
       "    .dataframe tbody tr th:only-of-type {\n",
       "        vertical-align: middle;\n",
       "    }\n",
       "\n",
       "    .dataframe tbody tr th {\n",
       "        vertical-align: top;\n",
       "    }\n",
       "\n",
       "    .dataframe thead th {\n",
       "        text-align: right;\n",
       "    }\n",
       "</style>\n",
       "<table border=\"1\" class=\"dataframe\">\n",
       "  <thead>\n",
       "    <tr style=\"text-align: right;\">\n",
       "      <th></th>\n",
       "      <th>Gender</th>\n",
       "      <th>Height</th>\n",
       "      <th>Weight</th>\n",
       "      <th>z_height</th>\n",
       "      <th>z_weight</th>\n",
       "    </tr>\n",
       "  </thead>\n",
       "  <tbody>\n",
       "    <tr>\n",
       "      <th>9285</th>\n",
       "      <td>Female</td>\n",
       "      <td>137.828359</td>\n",
       "      <td>29.347785</td>\n",
       "      <td>-3.503207</td>\n",
       "      <td>-3.740838</td>\n",
       "    </tr>\n",
       "    <tr>\n",
       "      <th>6624</th>\n",
       "      <td>Female</td>\n",
       "      <td>138.726819</td>\n",
       "      <td>32.383992</td>\n",
       "      <td>-3.372017</td>\n",
       "      <td>-3.388958</td>\n",
       "    </tr>\n",
       "    <tr>\n",
       "      <th>7294</th>\n",
       "      <td>Female</td>\n",
       "      <td>139.379268</td>\n",
       "      <td>35.655752</td>\n",
       "      <td>-3.276749</td>\n",
       "      <td>-3.009779</td>\n",
       "    </tr>\n",
       "    <tr>\n",
       "      <th>5360</th>\n",
       "      <td>Female</td>\n",
       "      <td>141.397233</td>\n",
       "      <td>31.290270</td>\n",
       "      <td>-2.982094</td>\n",
       "      <td>-3.515714</td>\n",
       "    </tr>\n",
       "    <tr>\n",
       "      <th>5740</th>\n",
       "      <td>Female</td>\n",
       "      <td>142.516611</td>\n",
       "      <td>36.528740</td>\n",
       "      <td>-2.818647</td>\n",
       "      <td>-2.908604</td>\n",
       "    </tr>\n",
       "    <tr>\n",
       "      <th>8241</th>\n",
       "      <td>Female</td>\n",
       "      <td>142.664940</td>\n",
       "      <td>35.334555</td>\n",
       "      <td>-2.796988</td>\n",
       "      <td>-3.047004</td>\n",
       "    </tr>\n",
       "    <tr>\n",
       "      <th>8635</th>\n",
       "      <td>Female</td>\n",
       "      <td>183.105329</td>\n",
       "      <td>87.331427</td>\n",
       "      <td>3.107958</td>\n",
       "      <td>2.979149</td>\n",
       "    </tr>\n",
       "    <tr>\n",
       "      <th>7856</th>\n",
       "      <td>Female</td>\n",
       "      <td>183.552461</td>\n",
       "      <td>85.474601</td>\n",
       "      <td>3.173247</td>\n",
       "      <td>2.763953</td>\n",
       "    </tr>\n",
       "    <tr>\n",
       "      <th>7311</th>\n",
       "      <td>Female</td>\n",
       "      <td>186.409548</td>\n",
       "      <td>86.219146</td>\n",
       "      <td>3.590427</td>\n",
       "      <td>2.850242</td>\n",
       "    </tr>\n",
       "  </tbody>\n",
       "</table>\n",
       "</div>"
      ],
      "text/plain": [
       "      Gender      Height     Weight  z_height  z_weight\n",
       "9285  Female  137.828359  29.347785 -3.503207 -3.740838\n",
       "6624  Female  138.726819  32.383992 -3.372017 -3.388958\n",
       "7294  Female  139.379268  35.655752 -3.276749 -3.009779\n",
       "5360  Female  141.397233  31.290270 -2.982094 -3.515714\n",
       "5740  Female  142.516611  36.528740 -2.818647 -2.908604\n",
       "8241  Female  142.664940  35.334555 -2.796988 -3.047004\n",
       "8635  Female  183.105329  87.331427  3.107958  2.979149\n",
       "7856  Female  183.552461  85.474601  3.173247  2.763953\n",
       "7311  Female  186.409548  86.219146  3.590427  2.850242"
      ]
     },
     "metadata": {},
     "output_type": "display_data"
    }
   ],
   "source": [
    "# dê uma olhada nos outliers das variáveis altura e peso conjuntamente\n",
    "\n",
    "print(\"Outliers homens para peso e altura:\")\n",
    "display(male[((male[\"Height\"] > max_mh) | (male[\"Height\"] < min_mh)) & \n",
    "             ((male[\"Weight\"] > max_mw) | (male[\"Weight\"] < min_mw))].sort_values(\"Height\"))\n",
    "\n",
    "print(\"\\n ############################################### \\n\")\n",
    "\n",
    "print(\"Outliers mulheres para peso e altura:\")\n",
    "display(female[((female[\"Height\"] > max_fh) | (female[\"Height\"] < min_fh)) & \n",
    "               ((female[\"Weight\"] > max_fw) | (female[\"Weight\"] < min_fw))].sort_values(\"Height\"))"
   ]
  },
  {
   "cell_type": "markdown",
   "metadata": {},
   "source": [
    "A relação entre os dois métodos acima pode ser compreendida na seguinte imagem:\n",
    "\n",
    "<img src=\"https://miro.medium.com/max/700/1*J5Xm0X-phCJJ-DKZMZ_88w.png\">"
   ]
  },
  {
   "cell_type": "markdown",
   "metadata": {},
   "source": [
    "________________\n",
    "________________\n",
    "________________\n",
    "________________\n",
    "________________\n",
    "________________\n",
    "________________\n",
    "________________"
   ]
  },
  {
   "cell_type": "markdown",
   "metadata": {},
   "source": [
    "### Um pouco mais sobre a distribuição normal..."
   ]
  },
  {
   "cell_type": "markdown",
   "metadata": {},
   "source": [
    "Como vimos, o z-score é uma medida extremamente útil. \n",
    "\n",
    "Quando normalizamos (padronizamos) uma variável, fica muito mais fácil de calcularmos **probabilidades** a partir da distribuição normal, a partir da área sob a curva.\n",
    "\n",
    "Uma forma de visualizar isso é através da tabela normal padronizada!"
   ]
  },
  {
   "cell_type": "markdown",
   "metadata": {
    "colab_type": "text",
    "id": "hUrVKJH3G3D2"
   },
   "source": [
    "#### Construindo tabela normal padronizada (tabela de z-score)\n",
    "https://docs.scipy.org/doc/scipy/reference/generated/scipy.stats.norm.html"
   ]
  },
  {
   "cell_type": "code",
   "execution_count": 161,
   "metadata": {
    "colab": {
     "base_uri": "https://localhost:8080/",
     "height": 1289
    },
    "colab_type": "code",
    "id": "7SudUNlcG3D4",
    "outputId": "963d1484-7b91-4af0-905f-4cbb49a73277",
    "scrolled": false
   },
   "outputs": [
    {
     "data": {
      "text/html": [
       "<div>\n",
       "<style scoped>\n",
       "    .dataframe tbody tr th:only-of-type {\n",
       "        vertical-align: middle;\n",
       "    }\n",
       "\n",
       "    .dataframe tbody tr th {\n",
       "        vertical-align: top;\n",
       "    }\n",
       "\n",
       "    .dataframe thead th {\n",
       "        text-align: right;\n",
       "    }\n",
       "</style>\n",
       "<table border=\"1\" class=\"dataframe\">\n",
       "  <thead>\n",
       "    <tr style=\"text-align: right;\">\n",
       "      <th>Z</th>\n",
       "      <th>0.00</th>\n",
       "      <th>0.01</th>\n",
       "      <th>0.02</th>\n",
       "      <th>0.03</th>\n",
       "      <th>0.04</th>\n",
       "      <th>0.05</th>\n",
       "      <th>0.06</th>\n",
       "      <th>0.07</th>\n",
       "      <th>0.08</th>\n",
       "      <th>0.09</th>\n",
       "    </tr>\n",
       "  </thead>\n",
       "  <tbody>\n",
       "    <tr>\n",
       "      <th>0.00</th>\n",
       "      <td>0.5000</td>\n",
       "      <td>0.5040</td>\n",
       "      <td>0.5080</td>\n",
       "      <td>0.5120</td>\n",
       "      <td>0.5160</td>\n",
       "      <td>0.5199</td>\n",
       "      <td>0.5239</td>\n",
       "      <td>0.5279</td>\n",
       "      <td>0.5319</td>\n",
       "      <td>0.5359</td>\n",
       "    </tr>\n",
       "    <tr>\n",
       "      <th>0.10</th>\n",
       "      <td>0.5398</td>\n",
       "      <td>0.5438</td>\n",
       "      <td>0.5478</td>\n",
       "      <td>0.5517</td>\n",
       "      <td>0.5557</td>\n",
       "      <td>0.5596</td>\n",
       "      <td>0.5636</td>\n",
       "      <td>0.5675</td>\n",
       "      <td>0.5714</td>\n",
       "      <td>0.5753</td>\n",
       "    </tr>\n",
       "    <tr>\n",
       "      <th>0.20</th>\n",
       "      <td>0.5793</td>\n",
       "      <td>0.5832</td>\n",
       "      <td>0.5871</td>\n",
       "      <td>0.5910</td>\n",
       "      <td>0.5948</td>\n",
       "      <td>0.5987</td>\n",
       "      <td>0.6026</td>\n",
       "      <td>0.6064</td>\n",
       "      <td>0.6103</td>\n",
       "      <td>0.6141</td>\n",
       "    </tr>\n",
       "    <tr>\n",
       "      <th>0.30</th>\n",
       "      <td>0.6179</td>\n",
       "      <td>0.6217</td>\n",
       "      <td>0.6255</td>\n",
       "      <td>0.6293</td>\n",
       "      <td>0.6331</td>\n",
       "      <td>0.6368</td>\n",
       "      <td>0.6406</td>\n",
       "      <td>0.6443</td>\n",
       "      <td>0.6480</td>\n",
       "      <td>0.6517</td>\n",
       "    </tr>\n",
       "    <tr>\n",
       "      <th>0.40</th>\n",
       "      <td>0.6554</td>\n",
       "      <td>0.6591</td>\n",
       "      <td>0.6628</td>\n",
       "      <td>0.6664</td>\n",
       "      <td>0.6700</td>\n",
       "      <td>0.6736</td>\n",
       "      <td>0.6772</td>\n",
       "      <td>0.6808</td>\n",
       "      <td>0.6844</td>\n",
       "      <td>0.6879</td>\n",
       "    </tr>\n",
       "    <tr>\n",
       "      <th>0.50</th>\n",
       "      <td>0.6915</td>\n",
       "      <td>0.6950</td>\n",
       "      <td>0.6985</td>\n",
       "      <td>0.7019</td>\n",
       "      <td>0.7054</td>\n",
       "      <td>0.7088</td>\n",
       "      <td>0.7123</td>\n",
       "      <td>0.7157</td>\n",
       "      <td>0.7190</td>\n",
       "      <td>0.7224</td>\n",
       "    </tr>\n",
       "    <tr>\n",
       "      <th>0.60</th>\n",
       "      <td>0.7257</td>\n",
       "      <td>0.7291</td>\n",
       "      <td>0.7324</td>\n",
       "      <td>0.7357</td>\n",
       "      <td>0.7389</td>\n",
       "      <td>0.7422</td>\n",
       "      <td>0.7454</td>\n",
       "      <td>0.7486</td>\n",
       "      <td>0.7517</td>\n",
       "      <td>0.7549</td>\n",
       "    </tr>\n",
       "    <tr>\n",
       "      <th>0.70</th>\n",
       "      <td>0.7580</td>\n",
       "      <td>0.7611</td>\n",
       "      <td>0.7642</td>\n",
       "      <td>0.7673</td>\n",
       "      <td>0.7704</td>\n",
       "      <td>0.7734</td>\n",
       "      <td>0.7764</td>\n",
       "      <td>0.7794</td>\n",
       "      <td>0.7823</td>\n",
       "      <td>0.7852</td>\n",
       "    </tr>\n",
       "    <tr>\n",
       "      <th>0.80</th>\n",
       "      <td>0.7881</td>\n",
       "      <td>0.7910</td>\n",
       "      <td>0.7939</td>\n",
       "      <td>0.7967</td>\n",
       "      <td>0.7995</td>\n",
       "      <td>0.8023</td>\n",
       "      <td>0.8051</td>\n",
       "      <td>0.8078</td>\n",
       "      <td>0.8106</td>\n",
       "      <td>0.8133</td>\n",
       "    </tr>\n",
       "    <tr>\n",
       "      <th>0.90</th>\n",
       "      <td>0.8159</td>\n",
       "      <td>0.8186</td>\n",
       "      <td>0.8212</td>\n",
       "      <td>0.8238</td>\n",
       "      <td>0.8264</td>\n",
       "      <td>0.8289</td>\n",
       "      <td>0.8315</td>\n",
       "      <td>0.8340</td>\n",
       "      <td>0.8365</td>\n",
       "      <td>0.8389</td>\n",
       "    </tr>\n",
       "    <tr>\n",
       "      <th>1.00</th>\n",
       "      <td>0.8413</td>\n",
       "      <td>0.8438</td>\n",
       "      <td>0.8461</td>\n",
       "      <td>0.8485</td>\n",
       "      <td>0.8508</td>\n",
       "      <td>0.8531</td>\n",
       "      <td>0.8554</td>\n",
       "      <td>0.8577</td>\n",
       "      <td>0.8599</td>\n",
       "      <td>0.8621</td>\n",
       "    </tr>\n",
       "    <tr>\n",
       "      <th>1.10</th>\n",
       "      <td>0.8643</td>\n",
       "      <td>0.8665</td>\n",
       "      <td>0.8686</td>\n",
       "      <td>0.8708</td>\n",
       "      <td>0.8729</td>\n",
       "      <td>0.8749</td>\n",
       "      <td>0.8770</td>\n",
       "      <td>0.8790</td>\n",
       "      <td>0.8810</td>\n",
       "      <td>0.8830</td>\n",
       "    </tr>\n",
       "    <tr>\n",
       "      <th>1.20</th>\n",
       "      <td>0.8849</td>\n",
       "      <td>0.8869</td>\n",
       "      <td>0.8888</td>\n",
       "      <td>0.8907</td>\n",
       "      <td>0.8925</td>\n",
       "      <td>0.8944</td>\n",
       "      <td>0.8962</td>\n",
       "      <td>0.8980</td>\n",
       "      <td>0.8997</td>\n",
       "      <td>0.9015</td>\n",
       "    </tr>\n",
       "    <tr>\n",
       "      <th>1.30</th>\n",
       "      <td>0.9032</td>\n",
       "      <td>0.9049</td>\n",
       "      <td>0.9066</td>\n",
       "      <td>0.9082</td>\n",
       "      <td>0.9099</td>\n",
       "      <td>0.9115</td>\n",
       "      <td>0.9131</td>\n",
       "      <td>0.9147</td>\n",
       "      <td>0.9162</td>\n",
       "      <td>0.9177</td>\n",
       "    </tr>\n",
       "    <tr>\n",
       "      <th>1.40</th>\n",
       "      <td>0.9192</td>\n",
       "      <td>0.9207</td>\n",
       "      <td>0.9222</td>\n",
       "      <td>0.9236</td>\n",
       "      <td>0.9251</td>\n",
       "      <td>0.9265</td>\n",
       "      <td>0.9279</td>\n",
       "      <td>0.9292</td>\n",
       "      <td>0.9306</td>\n",
       "      <td>0.9319</td>\n",
       "    </tr>\n",
       "    <tr>\n",
       "      <th>1.50</th>\n",
       "      <td>0.9332</td>\n",
       "      <td>0.9345</td>\n",
       "      <td>0.9357</td>\n",
       "      <td>0.9370</td>\n",
       "      <td>0.9382</td>\n",
       "      <td>0.9394</td>\n",
       "      <td>0.9406</td>\n",
       "      <td>0.9418</td>\n",
       "      <td>0.9429</td>\n",
       "      <td>0.9441</td>\n",
       "    </tr>\n",
       "    <tr>\n",
       "      <th>1.60</th>\n",
       "      <td>0.9452</td>\n",
       "      <td>0.9463</td>\n",
       "      <td>0.9474</td>\n",
       "      <td>0.9484</td>\n",
       "      <td>0.9495</td>\n",
       "      <td>0.9505</td>\n",
       "      <td>0.9515</td>\n",
       "      <td>0.9525</td>\n",
       "      <td>0.9535</td>\n",
       "      <td>0.9545</td>\n",
       "    </tr>\n",
       "    <tr>\n",
       "      <th>1.70</th>\n",
       "      <td>0.9554</td>\n",
       "      <td>0.9564</td>\n",
       "      <td>0.9573</td>\n",
       "      <td>0.9582</td>\n",
       "      <td>0.9591</td>\n",
       "      <td>0.9599</td>\n",
       "      <td>0.9608</td>\n",
       "      <td>0.9616</td>\n",
       "      <td>0.9625</td>\n",
       "      <td>0.9633</td>\n",
       "    </tr>\n",
       "    <tr>\n",
       "      <th>1.80</th>\n",
       "      <td>0.9641</td>\n",
       "      <td>0.9649</td>\n",
       "      <td>0.9656</td>\n",
       "      <td>0.9664</td>\n",
       "      <td>0.9671</td>\n",
       "      <td>0.9678</td>\n",
       "      <td>0.9686</td>\n",
       "      <td>0.9693</td>\n",
       "      <td>0.9699</td>\n",
       "      <td>0.9706</td>\n",
       "    </tr>\n",
       "    <tr>\n",
       "      <th>1.90</th>\n",
       "      <td>0.9713</td>\n",
       "      <td>0.9719</td>\n",
       "      <td>0.9726</td>\n",
       "      <td>0.9732</td>\n",
       "      <td>0.9738</td>\n",
       "      <td>0.9744</td>\n",
       "      <td>0.9750</td>\n",
       "      <td>0.9756</td>\n",
       "      <td>0.9761</td>\n",
       "      <td>0.9767</td>\n",
       "    </tr>\n",
       "    <tr>\n",
       "      <th>2.00</th>\n",
       "      <td>0.9772</td>\n",
       "      <td>0.9778</td>\n",
       "      <td>0.9783</td>\n",
       "      <td>0.9788</td>\n",
       "      <td>0.9793</td>\n",
       "      <td>0.9798</td>\n",
       "      <td>0.9803</td>\n",
       "      <td>0.9808</td>\n",
       "      <td>0.9812</td>\n",
       "      <td>0.9817</td>\n",
       "    </tr>\n",
       "    <tr>\n",
       "      <th>2.10</th>\n",
       "      <td>0.9821</td>\n",
       "      <td>0.9826</td>\n",
       "      <td>0.9830</td>\n",
       "      <td>0.9834</td>\n",
       "      <td>0.9838</td>\n",
       "      <td>0.9842</td>\n",
       "      <td>0.9846</td>\n",
       "      <td>0.9850</td>\n",
       "      <td>0.9854</td>\n",
       "      <td>0.9857</td>\n",
       "    </tr>\n",
       "    <tr>\n",
       "      <th>2.20</th>\n",
       "      <td>0.9861</td>\n",
       "      <td>0.9864</td>\n",
       "      <td>0.9868</td>\n",
       "      <td>0.9871</td>\n",
       "      <td>0.9875</td>\n",
       "      <td>0.9878</td>\n",
       "      <td>0.9881</td>\n",
       "      <td>0.9884</td>\n",
       "      <td>0.9887</td>\n",
       "      <td>0.9890</td>\n",
       "    </tr>\n",
       "    <tr>\n",
       "      <th>2.30</th>\n",
       "      <td>0.9893</td>\n",
       "      <td>0.9896</td>\n",
       "      <td>0.9898</td>\n",
       "      <td>0.9901</td>\n",
       "      <td>0.9904</td>\n",
       "      <td>0.9906</td>\n",
       "      <td>0.9909</td>\n",
       "      <td>0.9911</td>\n",
       "      <td>0.9913</td>\n",
       "      <td>0.9916</td>\n",
       "    </tr>\n",
       "    <tr>\n",
       "      <th>2.40</th>\n",
       "      <td>0.9918</td>\n",
       "      <td>0.9920</td>\n",
       "      <td>0.9922</td>\n",
       "      <td>0.9925</td>\n",
       "      <td>0.9927</td>\n",
       "      <td>0.9929</td>\n",
       "      <td>0.9931</td>\n",
       "      <td>0.9932</td>\n",
       "      <td>0.9934</td>\n",
       "      <td>0.9936</td>\n",
       "    </tr>\n",
       "    <tr>\n",
       "      <th>2.50</th>\n",
       "      <td>0.9938</td>\n",
       "      <td>0.9940</td>\n",
       "      <td>0.9941</td>\n",
       "      <td>0.9943</td>\n",
       "      <td>0.9945</td>\n",
       "      <td>0.9946</td>\n",
       "      <td>0.9948</td>\n",
       "      <td>0.9949</td>\n",
       "      <td>0.9951</td>\n",
       "      <td>0.9952</td>\n",
       "    </tr>\n",
       "    <tr>\n",
       "      <th>2.60</th>\n",
       "      <td>0.9953</td>\n",
       "      <td>0.9955</td>\n",
       "      <td>0.9956</td>\n",
       "      <td>0.9957</td>\n",
       "      <td>0.9959</td>\n",
       "      <td>0.9960</td>\n",
       "      <td>0.9961</td>\n",
       "      <td>0.9962</td>\n",
       "      <td>0.9963</td>\n",
       "      <td>0.9964</td>\n",
       "    </tr>\n",
       "    <tr>\n",
       "      <th>2.70</th>\n",
       "      <td>0.9965</td>\n",
       "      <td>0.9966</td>\n",
       "      <td>0.9967</td>\n",
       "      <td>0.9968</td>\n",
       "      <td>0.9969</td>\n",
       "      <td>0.9970</td>\n",
       "      <td>0.9971</td>\n",
       "      <td>0.9972</td>\n",
       "      <td>0.9973</td>\n",
       "      <td>0.9974</td>\n",
       "    </tr>\n",
       "    <tr>\n",
       "      <th>2.80</th>\n",
       "      <td>0.9974</td>\n",
       "      <td>0.9975</td>\n",
       "      <td>0.9976</td>\n",
       "      <td>0.9977</td>\n",
       "      <td>0.9977</td>\n",
       "      <td>0.9978</td>\n",
       "      <td>0.9979</td>\n",
       "      <td>0.9979</td>\n",
       "      <td>0.9980</td>\n",
       "      <td>0.9981</td>\n",
       "    </tr>\n",
       "    <tr>\n",
       "      <th>2.90</th>\n",
       "      <td>0.9981</td>\n",
       "      <td>0.9982</td>\n",
       "      <td>0.9982</td>\n",
       "      <td>0.9983</td>\n",
       "      <td>0.9984</td>\n",
       "      <td>0.9984</td>\n",
       "      <td>0.9985</td>\n",
       "      <td>0.9985</td>\n",
       "      <td>0.9986</td>\n",
       "      <td>0.9986</td>\n",
       "    </tr>\n",
       "    <tr>\n",
       "      <th>3.00</th>\n",
       "      <td>0.9987</td>\n",
       "      <td>0.9987</td>\n",
       "      <td>0.9987</td>\n",
       "      <td>0.9988</td>\n",
       "      <td>0.9988</td>\n",
       "      <td>0.9989</td>\n",
       "      <td>0.9989</td>\n",
       "      <td>0.9989</td>\n",
       "      <td>0.9990</td>\n",
       "      <td>0.9990</td>\n",
       "    </tr>\n",
       "    <tr>\n",
       "      <th>3.10</th>\n",
       "      <td>0.9990</td>\n",
       "      <td>0.9991</td>\n",
       "      <td>0.9991</td>\n",
       "      <td>0.9991</td>\n",
       "      <td>0.9992</td>\n",
       "      <td>0.9992</td>\n",
       "      <td>0.9992</td>\n",
       "      <td>0.9992</td>\n",
       "      <td>0.9993</td>\n",
       "      <td>0.9993</td>\n",
       "    </tr>\n",
       "    <tr>\n",
       "      <th>3.20</th>\n",
       "      <td>0.9993</td>\n",
       "      <td>0.9993</td>\n",
       "      <td>0.9994</td>\n",
       "      <td>0.9994</td>\n",
       "      <td>0.9994</td>\n",
       "      <td>0.9994</td>\n",
       "      <td>0.9994</td>\n",
       "      <td>0.9995</td>\n",
       "      <td>0.9995</td>\n",
       "      <td>0.9995</td>\n",
       "    </tr>\n",
       "    <tr>\n",
       "      <th>3.30</th>\n",
       "      <td>0.9995</td>\n",
       "      <td>0.9995</td>\n",
       "      <td>0.9995</td>\n",
       "      <td>0.9996</td>\n",
       "      <td>0.9996</td>\n",
       "      <td>0.9996</td>\n",
       "      <td>0.9996</td>\n",
       "      <td>0.9996</td>\n",
       "      <td>0.9996</td>\n",
       "      <td>0.9997</td>\n",
       "    </tr>\n",
       "    <tr>\n",
       "      <th>3.40</th>\n",
       "      <td>0.9997</td>\n",
       "      <td>0.9997</td>\n",
       "      <td>0.9997</td>\n",
       "      <td>0.9997</td>\n",
       "      <td>0.9997</td>\n",
       "      <td>0.9997</td>\n",
       "      <td>0.9997</td>\n",
       "      <td>0.9997</td>\n",
       "      <td>0.9997</td>\n",
       "      <td>0.9998</td>\n",
       "    </tr>\n",
       "    <tr>\n",
       "      <th>3.50</th>\n",
       "      <td>0.9998</td>\n",
       "      <td>0.9998</td>\n",
       "      <td>0.9998</td>\n",
       "      <td>0.9998</td>\n",
       "      <td>0.9998</td>\n",
       "      <td>0.9998</td>\n",
       "      <td>0.9998</td>\n",
       "      <td>0.9998</td>\n",
       "      <td>0.9998</td>\n",
       "      <td>0.9998</td>\n",
       "    </tr>\n",
       "    <tr>\n",
       "      <th>3.60</th>\n",
       "      <td>0.9998</td>\n",
       "      <td>0.9998</td>\n",
       "      <td>0.9999</td>\n",
       "      <td>0.9999</td>\n",
       "      <td>0.9999</td>\n",
       "      <td>0.9999</td>\n",
       "      <td>0.9999</td>\n",
       "      <td>0.9999</td>\n",
       "      <td>0.9999</td>\n",
       "      <td>0.9999</td>\n",
       "    </tr>\n",
       "    <tr>\n",
       "      <th>3.70</th>\n",
       "      <td>0.9999</td>\n",
       "      <td>0.9999</td>\n",
       "      <td>0.9999</td>\n",
       "      <td>0.9999</td>\n",
       "      <td>0.9999</td>\n",
       "      <td>0.9999</td>\n",
       "      <td>0.9999</td>\n",
       "      <td>0.9999</td>\n",
       "      <td>0.9999</td>\n",
       "      <td>0.9999</td>\n",
       "    </tr>\n",
       "    <tr>\n",
       "      <th>3.80</th>\n",
       "      <td>0.9999</td>\n",
       "      <td>0.9999</td>\n",
       "      <td>0.9999</td>\n",
       "      <td>0.9999</td>\n",
       "      <td>0.9999</td>\n",
       "      <td>0.9999</td>\n",
       "      <td>0.9999</td>\n",
       "      <td>0.9999</td>\n",
       "      <td>0.9999</td>\n",
       "      <td>0.9999</td>\n",
       "    </tr>\n",
       "    <tr>\n",
       "      <th>3.90</th>\n",
       "      <td>1.0000</td>\n",
       "      <td>1.0000</td>\n",
       "      <td>1.0000</td>\n",
       "      <td>1.0000</td>\n",
       "      <td>1.0000</td>\n",
       "      <td>1.0000</td>\n",
       "      <td>1.0000</td>\n",
       "      <td>1.0000</td>\n",
       "      <td>1.0000</td>\n",
       "      <td>1.0000</td>\n",
       "    </tr>\n",
       "  </tbody>\n",
       "</table>\n",
       "</div>"
      ],
      "text/plain": [
       "Z       0.00    0.01    0.02    0.03    0.04    0.05    0.06    0.07    0.08  \\\n",
       "0.00  0.5000  0.5040  0.5080  0.5120  0.5160  0.5199  0.5239  0.5279  0.5319   \n",
       "0.10  0.5398  0.5438  0.5478  0.5517  0.5557  0.5596  0.5636  0.5675  0.5714   \n",
       "0.20  0.5793  0.5832  0.5871  0.5910  0.5948  0.5987  0.6026  0.6064  0.6103   \n",
       "0.30  0.6179  0.6217  0.6255  0.6293  0.6331  0.6368  0.6406  0.6443  0.6480   \n",
       "0.40  0.6554  0.6591  0.6628  0.6664  0.6700  0.6736  0.6772  0.6808  0.6844   \n",
       "0.50  0.6915  0.6950  0.6985  0.7019  0.7054  0.7088  0.7123  0.7157  0.7190   \n",
       "0.60  0.7257  0.7291  0.7324  0.7357  0.7389  0.7422  0.7454  0.7486  0.7517   \n",
       "0.70  0.7580  0.7611  0.7642  0.7673  0.7704  0.7734  0.7764  0.7794  0.7823   \n",
       "0.80  0.7881  0.7910  0.7939  0.7967  0.7995  0.8023  0.8051  0.8078  0.8106   \n",
       "0.90  0.8159  0.8186  0.8212  0.8238  0.8264  0.8289  0.8315  0.8340  0.8365   \n",
       "1.00  0.8413  0.8438  0.8461  0.8485  0.8508  0.8531  0.8554  0.8577  0.8599   \n",
       "1.10  0.8643  0.8665  0.8686  0.8708  0.8729  0.8749  0.8770  0.8790  0.8810   \n",
       "1.20  0.8849  0.8869  0.8888  0.8907  0.8925  0.8944  0.8962  0.8980  0.8997   \n",
       "1.30  0.9032  0.9049  0.9066  0.9082  0.9099  0.9115  0.9131  0.9147  0.9162   \n",
       "1.40  0.9192  0.9207  0.9222  0.9236  0.9251  0.9265  0.9279  0.9292  0.9306   \n",
       "1.50  0.9332  0.9345  0.9357  0.9370  0.9382  0.9394  0.9406  0.9418  0.9429   \n",
       "1.60  0.9452  0.9463  0.9474  0.9484  0.9495  0.9505  0.9515  0.9525  0.9535   \n",
       "1.70  0.9554  0.9564  0.9573  0.9582  0.9591  0.9599  0.9608  0.9616  0.9625   \n",
       "1.80  0.9641  0.9649  0.9656  0.9664  0.9671  0.9678  0.9686  0.9693  0.9699   \n",
       "1.90  0.9713  0.9719  0.9726  0.9732  0.9738  0.9744  0.9750  0.9756  0.9761   \n",
       "2.00  0.9772  0.9778  0.9783  0.9788  0.9793  0.9798  0.9803  0.9808  0.9812   \n",
       "2.10  0.9821  0.9826  0.9830  0.9834  0.9838  0.9842  0.9846  0.9850  0.9854   \n",
       "2.20  0.9861  0.9864  0.9868  0.9871  0.9875  0.9878  0.9881  0.9884  0.9887   \n",
       "2.30  0.9893  0.9896  0.9898  0.9901  0.9904  0.9906  0.9909  0.9911  0.9913   \n",
       "2.40  0.9918  0.9920  0.9922  0.9925  0.9927  0.9929  0.9931  0.9932  0.9934   \n",
       "2.50  0.9938  0.9940  0.9941  0.9943  0.9945  0.9946  0.9948  0.9949  0.9951   \n",
       "2.60  0.9953  0.9955  0.9956  0.9957  0.9959  0.9960  0.9961  0.9962  0.9963   \n",
       "2.70  0.9965  0.9966  0.9967  0.9968  0.9969  0.9970  0.9971  0.9972  0.9973   \n",
       "2.80  0.9974  0.9975  0.9976  0.9977  0.9977  0.9978  0.9979  0.9979  0.9980   \n",
       "2.90  0.9981  0.9982  0.9982  0.9983  0.9984  0.9984  0.9985  0.9985  0.9986   \n",
       "3.00  0.9987  0.9987  0.9987  0.9988  0.9988  0.9989  0.9989  0.9989  0.9990   \n",
       "3.10  0.9990  0.9991  0.9991  0.9991  0.9992  0.9992  0.9992  0.9992  0.9993   \n",
       "3.20  0.9993  0.9993  0.9994  0.9994  0.9994  0.9994  0.9994  0.9995  0.9995   \n",
       "3.30  0.9995  0.9995  0.9995  0.9996  0.9996  0.9996  0.9996  0.9996  0.9996   \n",
       "3.40  0.9997  0.9997  0.9997  0.9997  0.9997  0.9997  0.9997  0.9997  0.9997   \n",
       "3.50  0.9998  0.9998  0.9998  0.9998  0.9998  0.9998  0.9998  0.9998  0.9998   \n",
       "3.60  0.9998  0.9998  0.9999  0.9999  0.9999  0.9999  0.9999  0.9999  0.9999   \n",
       "3.70  0.9999  0.9999  0.9999  0.9999  0.9999  0.9999  0.9999  0.9999  0.9999   \n",
       "3.80  0.9999  0.9999  0.9999  0.9999  0.9999  0.9999  0.9999  0.9999  0.9999   \n",
       "3.90  1.0000  1.0000  1.0000  1.0000  1.0000  1.0000  1.0000  1.0000  1.0000   \n",
       "\n",
       "Z       0.09  \n",
       "0.00  0.5359  \n",
       "0.10  0.5753  \n",
       "0.20  0.6141  \n",
       "0.30  0.6517  \n",
       "0.40  0.6879  \n",
       "0.50  0.7224  \n",
       "0.60  0.7549  \n",
       "0.70  0.7852  \n",
       "0.80  0.8133  \n",
       "0.90  0.8389  \n",
       "1.00  0.8621  \n",
       "1.10  0.8830  \n",
       "1.20  0.9015  \n",
       "1.30  0.9177  \n",
       "1.40  0.9319  \n",
       "1.50  0.9441  \n",
       "1.60  0.9545  \n",
       "1.70  0.9633  \n",
       "1.80  0.9706  \n",
       "1.90  0.9767  \n",
       "2.00  0.9817  \n",
       "2.10  0.9857  \n",
       "2.20  0.9890  \n",
       "2.30  0.9916  \n",
       "2.40  0.9936  \n",
       "2.50  0.9952  \n",
       "2.60  0.9964  \n",
       "2.70  0.9974  \n",
       "2.80  0.9981  \n",
       "2.90  0.9986  \n",
       "3.00  0.9990  \n",
       "3.10  0.9993  \n",
       "3.20  0.9995  \n",
       "3.30  0.9997  \n",
       "3.40  0.9998  \n",
       "3.50  0.9998  \n",
       "3.60  0.9999  \n",
       "3.70  0.9999  \n",
       "3.80  0.9999  \n",
       "3.90  1.0000  "
      ]
     },
     "execution_count": 161,
     "metadata": {},
     "output_type": "execute_result"
    }
   ],
   "source": [
    "import pandas as pd\n",
    "import numpy as np\n",
    "from scipy.stats import norm\n",
    "\n",
    "tabela_normal_padronizada = pd.DataFrame([], \n",
    "                                        index=[\"{:.2f}\".format(i/100) for i in range(0, 400, 10)],\n",
    "                                        columns = [\"{:.2f}\".format(i/100) for i in range(0, 10)])\n",
    "\n",
    "for index in tabela_normal_padronizada.index:\n",
    "    \n",
    "    for column in tabela_normal_padronizada.columns:\n",
    "        \n",
    "        Z = np.round(float(index) + float(column), 2)\n",
    "        \n",
    "        tabela_normal_padronizada.loc[index, column] = \"{:.4f}\".format(norm.cdf(Z))\n",
    "\n",
    "tabela_normal_padronizada = tabela_normal_padronizada.rename_axis('Z', axis = 'columns')\n",
    "\n",
    "tabela_normal_padronizada"
   ]
  },
  {
   "cell_type": "markdown",
   "metadata": {
    "colab_type": "text",
    "id": "XHYeMaN3G3D9"
   },
   "source": [
    "<img src='https://caelum-online-public.s3.amazonaws.com/1178-estatistica-parte2/01/img003.png' width='250px'>\n",
    "\n",
    "A tabela acima fornece a área sob a curva entre $-\\infty$ e $Z$ desvios padrão acima da média. Lembrando que por se tratar de valores padronizados temos $\\mu = 0$."
   ]
  },
  {
   "cell_type": "code",
   "execution_count": 213,
   "metadata": {},
   "outputs": [
    {
     "data": {
      "text/plain": [
       "161.82028495269938"
      ]
     },
     "execution_count": 213,
     "metadata": {},
     "output_type": "execute_result"
    }
   ],
   "source": [
    "female[\"Height\"].mean()"
   ]
  },
  {
   "cell_type": "code",
   "execution_count": 214,
   "metadata": {},
   "outputs": [
    {
     "data": {
      "text/plain": [
       "6.848561400043233"
      ]
     },
     "execution_count": 214,
     "metadata": {},
     "output_type": "execute_result"
    }
   ],
   "source": [
    "female[\"Height\"].std()"
   ]
  },
  {
   "cell_type": "markdown",
   "metadata": {
    "colab_type": "text",
    "id": "Bs-KyZAJG3D-"
   },
   "source": [
    "#### Exemplo: altura."
   ]
  },
  {
   "cell_type": "markdown",
   "metadata": {
    "colab_type": "text",
    "id": "8PFIjXejG3EA"
   },
   "source": [
    "Em um estudo sobre as alturas dos moradores de uma cidade verificou-se que o conjunto de dados segue uma **distribuição aproximadamente normal**, com **média 1,70** e **desvio padrão de 0,1**. Com estas informações obtenha o seguinte conjunto de probabilidades:\n",
    "\n",
    "> **A.** probabilidade de uma pessoa, selecionada ao acaso, ter menos de 1,80 metros.\n",
    "\n",
    "> **B.** probabilidade de uma pessoa, selecionada ao acaso, ter entre 1,60 metros e 1,80 metros.    \n",
    "\n",
    "> **C.** probabilidade de uma pessoa, selecionada ao acaso, ter mais de 1,90 metros."
   ]
  },
  {
   "cell_type": "markdown",
   "metadata": {},
   "source": [
    "A distribuição que estamos trabalhando é tal que $\\mu=1.7$ e $\\sigma=0.1$"
   ]
  },
  {
   "cell_type": "code",
   "execution_count": 215,
   "metadata": {},
   "outputs": [],
   "source": [
    "sigma = 0.1\n",
    "mu = 1.7"
   ]
  },
  {
   "cell_type": "markdown",
   "metadata": {
    "colab_type": "text",
    "id": "aHpZLwt1G3EC"
   },
   "source": [
    "> **A.** probabilidade de uma pessoa, selecionada ao acaso, ter menos de 1,80 metros."
   ]
  },
  {
   "cell_type": "markdown",
   "metadata": {
    "colab_type": "text",
    "id": "V1eC7tydG3EF"
   },
   "source": [
    "<img style='float: left' src='https://caelum-online-public.s3.amazonaws.com/1178-estatistica-parte2/01/img004.png' width='350px'>"
   ]
  },
  {
   "cell_type": "markdown",
   "metadata": {
    "colab_type": "text",
    "id": "X61wEuRrG3EI"
   },
   "source": [
    "Primeiro, obtemos a variável padronizada $Z$"
   ]
  },
  {
   "cell_type": "code",
   "execution_count": 216,
   "metadata": {
    "colab": {
     "base_uri": "https://localhost:8080/",
     "height": 34
    },
    "colab_type": "code",
    "id": "gNSNIMvZG3EK",
    "outputId": "2d4048a7-4c0a-4f51-c964-2f063cbdf092"
   },
   "outputs": [
    {
     "data": {
      "text/plain": [
       "1.0000000000000009"
      ]
     },
     "execution_count": 216,
     "metadata": {},
     "output_type": "execute_result"
    }
   ],
   "source": [
    "z = (1.8 - mu) / sigma\n",
    "\n",
    "z"
   ]
  },
  {
   "cell_type": "markdown",
   "metadata": {
    "colab_type": "text",
    "id": "oj9sgHbkG3Eb"
   },
   "source": [
    "#### Solução 1 - Utilizando tabela"
   ]
  },
  {
   "cell_type": "code",
   "execution_count": 217,
   "metadata": {
    "colab": {
     "base_uri": "https://localhost:8080/",
     "height": 34
    },
    "colab_type": "code",
    "id": "ReDTH3WgG3Ec",
    "outputId": "ec542c14-9cd4-405d-a899-dfa92493aa84"
   },
   "outputs": [],
   "source": [
    "p = 0.8413"
   ]
  },
  {
   "cell_type": "markdown",
   "metadata": {
    "colab_type": "text",
    "id": "4ud0OnQOG3Eh"
   },
   "source": [
    "#### Solução 2 - Utilizando Scipy"
   ]
  },
  {
   "cell_type": "code",
   "execution_count": 218,
   "metadata": {
    "colab": {
     "base_uri": "https://localhost:8080/",
     "height": 34
    },
    "colab_type": "code",
    "id": "sx7riZVlG3Ei",
    "outputId": "c321c9f8-a1a8-44f8-977b-492d2ec65152"
   },
   "outputs": [],
   "source": [
    "from scipy.stats import norm"
   ]
  },
  {
   "cell_type": "code",
   "execution_count": 219,
   "metadata": {},
   "outputs": [
    {
     "data": {
      "text/plain": [
       "0.8413447460685431"
      ]
     },
     "execution_count": 219,
     "metadata": {},
     "output_type": "execute_result"
    }
   ],
   "source": [
    "norm.cdf(z)"
   ]
  },
  {
   "cell_type": "markdown",
   "metadata": {
    "colab_type": "text",
    "id": "ZsnMjGzJG3Ep"
   },
   "source": [
    "> **B.** probabilidade de uma pessoa, selecionada ao acaso, ter entre 1,60 metros e 1,80 metros.    \n"
   ]
  },
  {
   "cell_type": "markdown",
   "metadata": {
    "colab_type": "text",
    "id": "LN2HY-UCG3Ep"
   },
   "source": [
    "<img style='float: left' src='https://caelum-online-public.s3.amazonaws.com/1178-estatistica-parte2/01/img005.png' width='350px'>"
   ]
  },
  {
   "cell_type": "markdown",
   "metadata": {
    "colab_type": "text",
    "id": "FS6WNg88G3Eq"
   },
   "source": [
    "#### Obtendo a variável padronizada $Z$"
   ]
  },
  {
   "cell_type": "code",
   "execution_count": 168,
   "metadata": {
    "colab": {
     "base_uri": "https://localhost:8080/",
     "height": 34
    },
    "colab_type": "code",
    "id": "mxPsPIOYG3Er",
    "outputId": "d86de31f-1ca0-443c-8ed6-81edfe5d36f4"
   },
   "outputs": [
    {
     "data": {
      "text/plain": [
       "-0.9999999999999987"
      ]
     },
     "execution_count": 168,
     "metadata": {},
     "output_type": "execute_result"
    }
   ],
   "source": [
    "z1 = (1.6 - mu) / sigma\n",
    "\n",
    "z1"
   ]
  },
  {
   "cell_type": "code",
   "execution_count": 167,
   "metadata": {},
   "outputs": [
    {
     "data": {
      "text/plain": [
       "1.0000000000000009"
      ]
     },
     "execution_count": 167,
     "metadata": {},
     "output_type": "execute_result"
    }
   ],
   "source": [
    "z2 = (1.8 - mu) / sigma\n",
    "\n",
    "z2"
   ]
  },
  {
   "cell_type": "code",
   "execution_count": 169,
   "metadata": {},
   "outputs": [
    {
     "data": {
      "text/plain": [
       "0.1586552539314574"
      ]
     },
     "execution_count": 169,
     "metadata": {},
     "output_type": "execute_result"
    }
   ],
   "source": [
    "norm.cdf(z1)"
   ]
  },
  {
   "cell_type": "code",
   "execution_count": 170,
   "metadata": {},
   "outputs": [
    {
     "data": {
      "text/plain": [
       "0.8413447460685431"
      ]
     },
     "execution_count": 170,
     "metadata": {},
     "output_type": "execute_result"
    }
   ],
   "source": [
    "norm.cdf(z2)"
   ]
  },
  {
   "cell_type": "code",
   "execution_count": 172,
   "metadata": {
    "colab": {
     "base_uri": "https://localhost:8080/",
     "height": 34
    },
    "colab_type": "code",
    "id": "s0Vf0GXHG3Et",
    "outputId": "5237e5e2-547b-4cbf-a5da-52bd4933f6a1",
    "scrolled": true
   },
   "outputs": [
    {
     "data": {
      "text/plain": [
       "0.6826894921370857"
      ]
     },
     "execution_count": 172,
     "metadata": {},
     "output_type": "execute_result"
    }
   ],
   "source": [
    "norm.cdf(z2) - norm.cdf(z1)"
   ]
  },
  {
   "cell_type": "markdown",
   "metadata": {
    "colab_type": "text",
    "id": "05sqVgdaG3E-"
   },
   "source": [
    "\n",
    "> **C.** probabilidade de uma pessoa, selecionada ao acaso, ter mais de 1,90 metros."
   ]
  },
  {
   "cell_type": "markdown",
   "metadata": {
    "colab_type": "text",
    "id": "EPKhGTEkG3E_"
   },
   "source": [
    "<img style='float: left' src='https://caelum-online-public.s3.amazonaws.com/1178-estatistica-parte2/01/img006.png' width='350px'>"
   ]
  },
  {
   "cell_type": "markdown",
   "metadata": {
    "colab_type": "text",
    "id": "BA6jYbsSG3E_"
   },
   "source": [
    "#### Obtendo a variável padronizada $Z$"
   ]
  },
  {
   "cell_type": "code",
   "execution_count": null,
   "metadata": {},
   "outputs": [],
   "source": [
    "pd.read_excel()"
   ]
  },
  {
   "cell_type": "code",
   "execution_count": 221,
   "metadata": {
    "colab": {
     "base_uri": "https://localhost:8080/",
     "height": 34
    },
    "colab_type": "code",
    "id": "3OVj60MzG3E_",
    "outputId": "71f57b74-bc13-4493-f8ba-6f05a2a07041"
   },
   "outputs": [
    {
     "data": {
      "text/plain": [
       "1.9999999999999996"
      ]
     },
     "execution_count": 221,
     "metadata": {},
     "output_type": "execute_result"
    }
   ],
   "source": [
    "z = (1.9 - mu) / sigma\n",
    "\n",
    "z"
   ]
  },
  {
   "cell_type": "code",
   "execution_count": 222,
   "metadata": {},
   "outputs": [
    {
     "data": {
      "text/plain": [
       "0.9772498680518208"
      ]
     },
     "execution_count": 222,
     "metadata": {},
     "output_type": "execute_result"
    }
   ],
   "source": [
    "norm.cdf(z)"
   ]
  },
  {
   "cell_type": "code",
   "execution_count": 177,
   "metadata": {
    "colab": {
     "base_uri": "https://localhost:8080/",
     "height": 34
    },
    "colab_type": "code",
    "id": "wKjqQGgMG3FI",
    "outputId": "7ef30837-195e-4f5b-9bef-68fceaff2397"
   },
   "outputs": [
    {
     "data": {
      "text/plain": [
       "0.02275013194817921"
      ]
     },
     "execution_count": 177,
     "metadata": {},
     "output_type": "execute_result"
    }
   ],
   "source": [
    "1 - norm.cdf(z)"
   ]
  },
  {
   "cell_type": "code",
   "execution_count": 223,
   "metadata": {
    "colab": {
     "base_uri": "https://localhost:8080/",
     "height": 34
    },
    "colab_type": "code",
    "id": "caIE-t83G3FF",
    "outputId": "224b72ff-7edd-4b66-a24e-a1f89e4685c9"
   },
   "outputs": [
    {
     "data": {
      "text/plain": [
       "0.022750131948179216"
      ]
     },
     "execution_count": 223,
     "metadata": {},
     "output_type": "execute_result"
    }
   ],
   "source": [
    "norm.sf(z)"
   ]
  },
  {
   "cell_type": "markdown",
   "metadata": {},
   "source": [
    "___\n",
    "___\n",
    "___"
   ]
  }
 ],
 "metadata": {
  "kernelspec": {
   "display_name": "Python 3",
   "language": "python",
   "name": "python3"
  },
  "language_info": {
   "codemirror_mode": {
    "name": "ipython",
    "version": 3
   },
   "file_extension": ".py",
   "mimetype": "text/x-python",
   "name": "python",
   "nbconvert_exporter": "python",
   "pygments_lexer": "ipython3",
   "version": "3.7.6"
  }
 },
 "nbformat": 4,
 "nbformat_minor": 2
}
