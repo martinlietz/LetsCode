{
 "cells": [
  {
   "cell_type": "markdown",
   "metadata": {},
   "source": [
    "# Aula 5 - Testes de Hipótese\n",
    "\n",
    "Na aula de hoje, vamos explorar os seguintes tópicos em Python:\n",
    "\n",
    "- 1) Testes de Hipótese\n",
    "- 2) E se a amostra for pequena?"
   ]
  },
  {
   "cell_type": "markdown",
   "metadata": {},
   "source": [
    "___\n",
    "___\n",
    "___"
   ]
  },
  {
   "cell_type": "code",
   "execution_count": 1,
   "metadata": {},
   "outputs": [],
   "source": [
    "import numpy as np\n",
    "import pandas as pd\n",
    "\n",
    "import scipy\n",
    "\n",
    "import matplotlib.pyplot as plt\n",
    "%matplotlib inline\n",
    "\n",
    "import seaborn as sns"
   ]
  },
  {
   "cell_type": "markdown",
   "metadata": {},
   "source": [
    "___\n",
    "___\n",
    "___"
   ]
  },
  {
   "cell_type": "markdown",
   "metadata": {},
   "source": [
    "## 1) Testes de Hipóteses\n",
    "\n",
    "O exemplo que veremos a seguir é inspirado [neste estudo](https://psycnet.apa.org/record/1974-24190-001).\n",
    "\n",
    "Imagine que você é o gestor de RH de uma empresa, e uma das metas de sua gestão é fazer com que não haja **discriminação de gênero** nos processos de promoção na empresa.\n",
    "\n",
    "Mas antes de iniciar a campanha, é necessário que você responda à seguinte pergunta: **mulheres são prejudicadas em processos de promoção cuja decisão é feita por gestores homems?**\n",
    "\n",
    "Para responder esta pergunta, você elabora o seguinte experimento:\n",
    "\n",
    "- Pegue uma amostra aleatória de 48 gestores homens -- por exemplo, alunos de MBA de algumas faculdades;\n",
    "- Peça para estes homens avaliarem um currículo de um candidato a promoções;\n",
    "- Os currículos apresentados eram idênticos, mas metade deles tinham a marcação de pertencerem a mulheres, e a outra metade, de pertencerem a homems.\n",
    "- Os currículos foram distribuídos aleatoriamente entre os participantes.\n",
    "\n",
    "Para cada gestor, marcamos qual foi a decisão acerca da promoção, e o sexo indicado no currículo.\n",
    "\n",
    "Os resultados estão descritos na tabela:\n",
    "\n",
    "<table>\n",
    "<thead>\n",
    "  <tr>\n",
    "    <th></th>\n",
    "    <th></th>\n",
    "    <th colspan=\"5\"></th>\n",
    "    <th></th>\n",
    "  </tr>\n",
    "</thead>\n",
    "<tbody>\n",
    "  <tr>\n",
    "    <th></th>\n",
    "    <th></th>\n",
    "    <th colspan=\"2\">Promotion</th>\n",
    "    <th></th>\n",
    "  </tr>\n",
    "  <tr>\n",
    "    <td></td>\n",
    "    <td></td>\n",
    "    <td>Promoted</td>\n",
    "    <td>Not promoted</td>\n",
    "    <td>Total</td>\n",
    "  </tr>\n",
    "  <tr>\n",
    "    <th rowspan=\"2\">Gender</th>\n",
    "    <td>Male</td>\n",
    "    <td>21</td>\n",
    "    <td>3<br></td>\n",
    "    <td>24</td>\n",
    "  </tr>\n",
    "  <tr>\n",
    "    <td>Female</td>\n",
    "    <td>14</td>\n",
    "    <td>10</td>\n",
    "    <td>24</td>\n",
    "  </tr>\n",
    "  <tr>\n",
    "    <td></td>\n",
    "    <td>Total</td>\n",
    "    <td>35</td>\n",
    "    <td>13<br></td>\n",
    "    <td></td>\n",
    "  </tr>\n",
    "</tbody>\n",
    "</table>"
   ]
  },
  {
   "cell_type": "code",
   "execution_count": 2,
   "metadata": {},
   "outputs": [
    {
     "data": {
      "text/plain": [
       "0.875"
      ]
     },
     "execution_count": 2,
     "metadata": {},
     "output_type": "execute_result"
    }
   ],
   "source": [
    "# qual a proporção de homens promovidos? (~88%)\n",
    "\n",
    "p_h = 21/24\n",
    "\n",
    "p_h"
   ]
  },
  {
   "cell_type": "code",
   "execution_count": 3,
   "metadata": {},
   "outputs": [
    {
     "data": {
      "text/plain": [
       "0.5833333333333334"
      ]
     },
     "execution_count": 3,
     "metadata": {},
     "output_type": "execute_result"
    }
   ],
   "source": [
    "# qual a proporção de mulheres promovidas? (~58%)\n",
    "\n",
    "p_m = 14/24\n",
    "\n",
    "p_m"
   ]
  },
  {
   "cell_type": "markdown",
   "metadata": {},
   "source": [
    "Claramente há uma diferença na taxa de promoção entre homens e mulheres!\n",
    "\n",
    "Mas antes de tirarmos alguma conclusão com base neste estudo, note que há **duas HIPÓTESES** possíveis (e opostas!) pra explicar o que tá acontecendo:\n",
    "\n",
    "> **$H_0$: Não tá acontecendo nada demais!**\n",
    "O fato de uma pessoa ser promovida e seu sexo **são independentes**.\n",
    "Portanto, **não existe discriminação de gênero**.\n",
    "E essa **diferença observada** entre as proporções ocorreram apenas **aleatoriamente**, devido a erros amostrais.\n",
    "\n",
    "Chamamos a hipótese acima de **Hipótese nula** (Null hypothesis, H-null). Esssa sempre será a hipótese **do status quo**, ou seja: *Não há diferença*, *tanto faz*, *as proporções são iguais*, *as médias são iguais*, etc. **Matematicamente: EXPRESSÕES DE IGUALDADE (=)**.\n",
    "\n",
    "> **$H_1$: Opa, tem algo acontecendo aqui!**\n",
    "O fato de uma pessoa ser promovida e seu sexo **são dependentes**.\n",
    "Portanto, **existe sim discriminação de gênero**.\n",
    "E essa **diferença observada** entre as proporções ocorreram **não** ocorreram aleatoiamente devido a erros amostrais.\n",
    "\n",
    "Chamamos a hipótese acima de **Hipótese alternativa** (Alternative hypothesis, H-1). Essa é a hipótese **interessante**, e representa a nossa pergunta inicial, ou seja, o porquê de estarmos fazendo o experimento estatístico. **Matematicamente: EXPRESSÕES DE DESIGUALDADE (>, <, !=)**.\n",
    "\n",
    "Temos as duas hipóteses acima. Agora, como decidimos a favor de uma ou outra?\n",
    "\n",
    "**FAZEMOS UM TESTE DE HIPÓTESE!**"
   ]
  },
  {
   "cell_type": "code",
   "execution_count": 4,
   "metadata": {},
   "outputs": [
    {
     "data": {
      "text/plain": [
       "0.875"
      ]
     },
     "execution_count": 4,
     "metadata": {},
     "output_type": "execute_result"
    }
   ],
   "source": [
    "p_h"
   ]
  },
  {
   "cell_type": "code",
   "execution_count": 5,
   "metadata": {},
   "outputs": [
    {
     "data": {
      "text/plain": [
       "0.5833333333333334"
      ]
     },
     "execution_count": 5,
     "metadata": {},
     "output_type": "execute_result"
    }
   ],
   "source": [
    "p_m"
   ]
  },
  {
   "cell_type": "code",
   "execution_count": 6,
   "metadata": {},
   "outputs": [
    {
     "data": {
      "text/plain": [
       "0.29166666666666663"
      ]
     },
     "execution_count": 6,
     "metadata": {},
     "output_type": "execute_result"
    }
   ],
   "source": [
    "p_h - p_m"
   ]
  },
  {
   "cell_type": "markdown",
   "metadata": {},
   "source": [
    "O **teste de hipótese** consiste em **determinar qual seria a chance de ocorrer o resultado observado OU um resultado ainda mais exrtremo DADO QUE a hipótese nula é verdadeira**.\n",
    "\n",
    "Em termos matemáticos, nosso teste de hipótese é:\n",
    "\n",
    "> $H_0: \\ p_1 = p_2$\n",
    "\n",
    "> $H_1: \\ p_1 \\neq p_2$\n",
    "\n",
    "Que pode ser reescrito como:\n",
    "\n",
    "> $H_0: \\ p_1 - p_2 = 0$\n",
    "\n",
    "> $H_1: \\ p_1 - p_2 \\neq 0$\n",
    "\n",
    "\n",
    "> $H_0: \\ p_1 - p_2 = p_0$\n",
    "\n",
    "> $H_1: \\ p_1 - p_2 \\neq p_0$\n",
    "\n",
    "Onde $p1 = \\frac{21}{24}$ e $p2 = \\frac{14}{24}$ são as respectivas proporções de promoção e $p_0 = 0$ é a chamada **proporção nula**, que assumimos ser verdadeira para a realização do teste de hipótese.\n",
    "\n",
    "Agora, fazemos a pergunta: **assumindo que não há diferença entre as proporções (a nível populacional), qual é a chance de ter encontrado a diferença observada (na amostra) de $\\hat{p}_1 - \\hat{p}_2 = 29,2\\%$?**\n",
    "\n",
    "Para isso, checamos que são válidas as condições para o TCL aplicado a **diferenças de proporções**:\n",
    "\n",
    "> A diferença entre duas proporções, $\\hat{p}_1 - \\hat{p}_2$ pode ser modelada como uma distribuição normal se:\n",
    "- Ambas as amostras são aleatórias e independentes entre si;\n",
    "- A condição $n\\hat{p} \\geq 10$ e $n(1-\\hat{p}) \\geq 10$ é válida para ambos os grupos separadamente.\n",
    "Neste caso, o erro padrão da estimativa será dado por \n",
    "$$SE = \\sqrt{\\frac{p_1(1-p_1)}{n_1} + \\frac{p_2(1-p_2)}{n_2}}$$.\n",
    "\n"
   ]
  },
  {
   "cell_type": "code",
   "execution_count": 7,
   "metadata": {},
   "outputs": [],
   "source": [
    "p_h = 21/24\n",
    "p_m = 14/24"
   ]
  },
  {
   "cell_type": "code",
   "execution_count": 8,
   "metadata": {},
   "outputs": [
    {
     "name": "stdout",
     "output_type": "stream",
     "text": [
      "21.0\n",
      "3.0\n",
      "10.0\n",
      "14.0\n"
     ]
    }
   ],
   "source": [
    "# cheque se as condições para o CLT são válidas\n",
    "\n",
    "n_h = 24\n",
    "n_m = 24\n",
    "\n",
    "print(n_h*(p_h))\n",
    "\n",
    "print(n_h*(1-p_h))\n",
    "\n",
    "print(n_m*(1-p_m))\n",
    "\n",
    "print(n_m*(p_m))"
   ]
  },
  {
   "cell_type": "code",
   "execution_count": 9,
   "metadata": {},
   "outputs": [
    {
     "data": {
      "text/plain": [
       "0.12118005810149408"
      ]
     },
     "execution_count": 9,
     "metadata": {},
     "output_type": "execute_result"
    }
   ],
   "source": [
    "# calcule o SE para a distribuição de diferença de proporções\n",
    "# obs: utilize as proporções amostrais para fazer este cálculo!\n",
    "\n",
    "p1 = 21/24\n",
    "n1 = 24\n",
    "\n",
    "p2 = 14/24\n",
    "n2 = 24\n",
    "\n",
    "np.sqrt((p1*(1-p1)/n1) + (p2*(1-p2)/n2))"
   ]
  },
  {
   "cell_type": "markdown",
   "metadata": {},
   "source": [
    "Assumindo, então, que $H_0$ é verdadeira, temos que a distribuição da diferença de proporções é **centrada em $p_0 = 0$**. Esse é o **parâmetro populacional!**\n",
    "\n",
    "Sendo assim, nos perguntamos: **qual seria a chance de, ao acaso, a amostra que coletamos ter sido tal que $\\hat{p}_1 - \\hat{p}_2 = 29,2\\%$**?\n",
    "\n",
    "Para facilitar este cálculo, calculamos o chamado **score padrão**, que é simplesmente dado por:\n",
    "\n",
    "$$ Z = \\frac{0.292 - 0}{0.12118} =  2.409 $$\n",
    "\n",
    "Isso quer dizer que **a nosso estimador pontual amostral $\\hat{p}_1 - \\hat{p}_2 = 29,2\\%$ se encontra 2.409 desvios-padrão deslocados com relação à média da distribuição**.\n",
    "\n",
    "É sempre instrutivo fazer um gráfico para esta situação.\n",
    "\n",
    "Obs.: note que a distribuição de $Z$ terá **desvio padrão 1**, por construção! Isto é, $ Z \\sim (0, 1) $"
   ]
  },
  {
   "cell_type": "code",
   "execution_count": 10,
   "metadata": {},
   "outputs": [
    {
     "data": {
      "text/plain": [
       "2.4096373988815554"
      ]
     },
     "execution_count": 10,
     "metadata": {},
     "output_type": "execute_result"
    }
   ],
   "source": [
    "0.292/0.12118005810149408"
   ]
  },
  {
   "cell_type": "code",
   "execution_count": 11,
   "metadata": {},
   "outputs": [
    {
     "data": {
      "image/png": "[encoded data removed]",
      "text/plain": [
       "<Figure size 432x288 with 1 Axes>"
      ]
     },
     "metadata": {
      "needs_background": "light"
     },
     "output_type": "display_data"
    }
   ],
   "source": [
    "mean=0\n",
    "std=1\n",
    "\n",
    "# range total da distribuição\n",
    "x_min = -5\n",
    "x_max = 5\n",
    "x=np.linspace(x_min, x_max, 1000)\n",
    "y=scipy.stats.norm(mean, std).pdf(x)\n",
    "plt.plot(x,y,'b')\n",
    "\n",
    "# parte a preencher\n",
    "z = 2.409\n",
    "\n",
    "# se z < 0\n",
    "x=np.linspace(x_min, -z, 1000)\n",
    "y=scipy.stats.norm(mean, std).pdf(x)\n",
    "plt.fill_between(x, y,color='r')\n",
    "\n",
    "# z > 0\n",
    "x=np.linspace(z, x_max, 1000)\n",
    "y=scipy.stats.norm(mean, std).pdf(x)\n",
    "plt.fill_between(x, y,color='r')\n",
    "\n",
    "plt.show()"
   ]
  },
  {
   "cell_type": "markdown",
   "metadata": {},
   "source": [
    "O **p-value** é a **área vermelha**! \n",
    "\n",
    "(Note como devemos considerar ambas as áreas!)\n",
    "\n",
    "Para calcularmos o **p-value** podemos fazer:"
   ]
  },
  {
   "cell_type": "code",
   "execution_count": 12,
   "metadata": {},
   "outputs": [],
   "source": [
    "from scipy.stats import norm"
   ]
  },
  {
   "cell_type": "code",
   "execution_count": 13,
   "metadata": {},
   "outputs": [
    {
     "data": {
      "text/plain": [
       "1.5996297978338347"
      ]
     },
     "execution_count": 13,
     "metadata": {},
     "output_type": "execute_result"
    }
   ],
   "source": [
    "norm.sf(2.409)*2*100"
   ]
  },
  {
   "cell_type": "markdown",
   "metadata": {},
   "source": [
    "**E como interpretar o p-value?** \n",
    "\n",
    "Para isso, usamos um **nível de significância**, que em geral é tomado como $\\alpha = 5\\%$.\n",
    "\n",
    "(Lembrando que a confiança é dada por $1-\\alpha = 0.95$, neste caso)\n",
    "\n",
    "Assim, \n",
    "\n",
    "> Se p-value $< \\alpha$: **rejeitamos $H_0$**: os dados apresentam evidência convincente **a favor de $H_1$**;\n",
    "\n",
    "> Se p-value $> \\alpha$: **falhamos em rejeita $H_0$**: os dados NÃO apresentam evidência convincente **a favor de $H_1$**.\n",
    " \n",
    " \n",
    "Como obtivemos um p-value de 1.6%, que é menor que 5%, podemos, com 5% de significância (ou seja, 95% de confiança!), **rejeitar** a hipótese nula! Ou seja, **os nossos dados fornecem** evidências suficientemente fortes em favor da alternativa!\n",
    "\n",
    "Portanto, chegamos à conclusão que, **sim**, existe uma diferença entre as taxa de promoção de cada gênero! Ou seja, **sim**, há discriminação de gênero!\n",
    "\n",
    "Com isso, você, head de RH, pode tomar uma decisão **estatisticamente segura**, e **apoiada pelos dados** de que, sim, uma campanha de combate à segregação de gênero é importante!"
   ]
  },
  {
   "cell_type": "markdown",
   "metadata": {},
   "source": [
    "p-hacking"
   ]
  },
  {
   "cell_type": "markdown",
   "metadata": {},
   "source": [
    "_______"
   ]
  },
  {
   "cell_type": "markdown",
   "metadata": {},
   "source": [
    "No geral, o framework de teste de hipótese é o seguinte:\n",
    "\n",
    "> 1) Formule as hipóteses H_0 e H_1 em termos de um estimador pontual $PE$\n",
    "\n",
    "$$H_0: PE = PE_0$$\n",
    "\n",
    "$$H_1: PE (<, >, \\neq) PE_0$$\n",
    "\n",
    "> 2) Calcule o estimador pontual com base na amostra;\n",
    "\n",
    "> 3) Cheque as condições para a aplicação do TCL;\n",
    "\n",
    "> 4) Calcule alguma **estatística de teste**. Nos nossos exemplos, o **score padrão**:\n",
    "\n",
    "$$ Z = \\frac{PE - PE_0}{SE} $$\n",
    "\n",
    "> 5) Calcule o p-value\n",
    "\n",
    "> 6) Tome uma decisão:\n",
    "\n",
    "- Se o p-value for MENOR que o nível de significância $\\alpha$, **rejeitamos $H_0$**: os dados apresentam evidência convincente **a favor de $H_1$**;\n",
    "\n",
    "- Se o p-value for MAIOR que o nível de significância $\\alpha$, **falhamos em rejeita $H_0$**: os dados NÃO apresentam evidência convincente **a favor de $H_1$**;\n",
    "    "
   ]
  },
  {
   "cell_type": "markdown",
   "metadata": {},
   "source": [
    "_____"
   ]
  },
  {
   "cell_type": "markdown",
   "metadata": {},
   "source": [
    "### Teste bicaudal vs unicaudal\n",
    "\n",
    "\n",
    "<img src=\"https://caelum-online-public.s3.amazonaws.com/1229-estatistica-parte3/01/img002.png\" weight=50%>"
   ]
  },
  {
   "cell_type": "markdown",
   "metadata": {},
   "source": [
    "____________"
   ]
  },
  {
   "cell_type": "markdown",
   "metadata": {},
   "source": [
    "### Bicaudal"
   ]
  },
  {
   "cell_type": "markdown",
   "metadata": {
    "colab_type": "text",
    "id": "vellTWzJpsjq"
   },
   "source": [
    "A empresa **Suco Bom** produz **sucos de frutas em embalagens de 500 ml**. \n",
    "\n",
    "Seu processo de produção é quase todo automatizado e as embalagens de sucos são preenchidas por uma máquina que às vezes apresenta um certo desajuste, levando a erros no preenchimento das embalagens para mais ou menos conteúdo. Quando o volume médio cai abaixo de 500 ml, a empresa se preocupa em perder vendas e ter problemas com os orgãos fiscalizadores. Quando o volume passa de 500 ml, a empresa começa a se preocupar com prejuízos no processo de produção.\n",
    "\n",
    "O setor de controle de qualidade da empresa **Suco Bom** extrai, periodicamente, **amostras de 50 embalagens** para monitorar o processo de produção. \n",
    "\n",
    "Para cada amostra, é realizado um **teste de hipóteses** para avaliar se o maquinário se desajustou. A equipe de controle de qualidade assume um **nível de significância de 5%**.\n",
    "\n",
    "Suponha agora que uma **amostra de 50 embalagens** foi selecionada e que a **média amostral observada foi de 503,24 ml**. \n",
    "\n",
    "**Esse valor de média amostral é suficientemente maior que 500 ml para nos fazer rejeitar a hipótese de que a média do processo é de 500 ml ao nível de significância de 5%?**"
   ]
  },
  {
   "cell_type": "markdown",
   "metadata": {
    "colab_type": "text",
    "id": "076qvKgapsjr"
   },
   "source": [
    "O **teste bicaudal** é muito utilizado em **testes de qualidade**, como o apresentado em nosso problema acima. Outro exemplo é a avaliação de peças que devem ter um encaixe perfeito (porcas e parafusos, chaves e fechaduras)."
   ]
  },
  {
   "cell_type": "code",
   "execution_count": 38,
   "metadata": {
    "colab": {},
    "colab_type": "code",
    "id": "lHLlGH7upsjt"
   },
   "outputs": [
    {
     "data": {
      "text/plain": [
       "50"
      ]
     },
     "execution_count": 38,
     "metadata": {},
     "output_type": "execute_result"
    }
   ],
   "source": [
    "amostra = [509, 505, 495, 510, 496, 509, 497, 502, 503, 505, \n",
    "           501, 505, 510, 505, 504, 497, 506, 506, 508, 505, \n",
    "           497, 504, 500, 498, 506, 496, 508, 497, 503, 501, \n",
    "           503, 506, 499, 498, 509, 507, 503, 499, 509, 495, \n",
    "           502, 505, 504, 509, 508, 501, 505, 497, 508, 507]\n",
    "\n",
    "n = len(amostra)\n",
    "\n",
    "n"
   ]
  },
  {
   "cell_type": "code",
   "execution_count": 39,
   "metadata": {
    "colab": {
     "base_uri": "https://localhost:8080/",
     "height": 204
    },
    "colab_type": "code",
    "id": "AJNH5RQtpsju",
    "outputId": "2e4e74bb-9e93-41ce-b12c-af947c39fda8",
    "scrolled": true
   },
   "outputs": [
    {
     "data": {
      "text/html": [
       "<div>\n",
       "<style scoped>\n",
       "    .dataframe tbody tr th:only-of-type {\n",
       "        vertical-align: middle;\n",
       "    }\n",
       "\n",
       "    .dataframe tbody tr th {\n",
       "        vertical-align: top;\n",
       "    }\n",
       "\n",
       "    .dataframe thead th {\n",
       "        text-align: right;\n",
       "    }\n",
       "</style>\n",
       "<table border=\"1\" class=\"dataframe\">\n",
       "  <thead>\n",
       "    <tr style=\"text-align: right;\">\n",
       "      <th></th>\n",
       "      <th>Amostra</th>\n",
       "    </tr>\n",
       "  </thead>\n",
       "  <tbody>\n",
       "    <tr>\n",
       "      <th>0</th>\n",
       "      <td>509</td>\n",
       "    </tr>\n",
       "    <tr>\n",
       "      <th>1</th>\n",
       "      <td>505</td>\n",
       "    </tr>\n",
       "    <tr>\n",
       "      <th>2</th>\n",
       "      <td>495</td>\n",
       "    </tr>\n",
       "    <tr>\n",
       "      <th>3</th>\n",
       "      <td>510</td>\n",
       "    </tr>\n",
       "    <tr>\n",
       "      <th>4</th>\n",
       "      <td>496</td>\n",
       "    </tr>\n",
       "    <tr>\n",
       "      <th>5</th>\n",
       "      <td>509</td>\n",
       "    </tr>\n",
       "    <tr>\n",
       "      <th>6</th>\n",
       "      <td>497</td>\n",
       "    </tr>\n",
       "    <tr>\n",
       "      <th>7</th>\n",
       "      <td>502</td>\n",
       "    </tr>\n",
       "    <tr>\n",
       "      <th>8</th>\n",
       "      <td>503</td>\n",
       "    </tr>\n",
       "    <tr>\n",
       "      <th>9</th>\n",
       "      <td>505</td>\n",
       "    </tr>\n",
       "    <tr>\n",
       "      <th>10</th>\n",
       "      <td>501</td>\n",
       "    </tr>\n",
       "    <tr>\n",
       "      <th>11</th>\n",
       "      <td>505</td>\n",
       "    </tr>\n",
       "    <tr>\n",
       "      <th>12</th>\n",
       "      <td>510</td>\n",
       "    </tr>\n",
       "    <tr>\n",
       "      <th>13</th>\n",
       "      <td>505</td>\n",
       "    </tr>\n",
       "    <tr>\n",
       "      <th>14</th>\n",
       "      <td>504</td>\n",
       "    </tr>\n",
       "    <tr>\n",
       "      <th>15</th>\n",
       "      <td>497</td>\n",
       "    </tr>\n",
       "    <tr>\n",
       "      <th>16</th>\n",
       "      <td>506</td>\n",
       "    </tr>\n",
       "    <tr>\n",
       "      <th>17</th>\n",
       "      <td>506</td>\n",
       "    </tr>\n",
       "    <tr>\n",
       "      <th>18</th>\n",
       "      <td>508</td>\n",
       "    </tr>\n",
       "    <tr>\n",
       "      <th>19</th>\n",
       "      <td>505</td>\n",
       "    </tr>\n",
       "    <tr>\n",
       "      <th>20</th>\n",
       "      <td>497</td>\n",
       "    </tr>\n",
       "    <tr>\n",
       "      <th>21</th>\n",
       "      <td>504</td>\n",
       "    </tr>\n",
       "    <tr>\n",
       "      <th>22</th>\n",
       "      <td>500</td>\n",
       "    </tr>\n",
       "    <tr>\n",
       "      <th>23</th>\n",
       "      <td>498</td>\n",
       "    </tr>\n",
       "    <tr>\n",
       "      <th>24</th>\n",
       "      <td>506</td>\n",
       "    </tr>\n",
       "    <tr>\n",
       "      <th>25</th>\n",
       "      <td>496</td>\n",
       "    </tr>\n",
       "    <tr>\n",
       "      <th>26</th>\n",
       "      <td>508</td>\n",
       "    </tr>\n",
       "    <tr>\n",
       "      <th>27</th>\n",
       "      <td>497</td>\n",
       "    </tr>\n",
       "    <tr>\n",
       "      <th>28</th>\n",
       "      <td>503</td>\n",
       "    </tr>\n",
       "    <tr>\n",
       "      <th>29</th>\n",
       "      <td>501</td>\n",
       "    </tr>\n",
       "    <tr>\n",
       "      <th>30</th>\n",
       "      <td>503</td>\n",
       "    </tr>\n",
       "    <tr>\n",
       "      <th>31</th>\n",
       "      <td>506</td>\n",
       "    </tr>\n",
       "    <tr>\n",
       "      <th>32</th>\n",
       "      <td>499</td>\n",
       "    </tr>\n",
       "    <tr>\n",
       "      <th>33</th>\n",
       "      <td>498</td>\n",
       "    </tr>\n",
       "    <tr>\n",
       "      <th>34</th>\n",
       "      <td>509</td>\n",
       "    </tr>\n",
       "    <tr>\n",
       "      <th>35</th>\n",
       "      <td>507</td>\n",
       "    </tr>\n",
       "    <tr>\n",
       "      <th>36</th>\n",
       "      <td>503</td>\n",
       "    </tr>\n",
       "    <tr>\n",
       "      <th>37</th>\n",
       "      <td>499</td>\n",
       "    </tr>\n",
       "    <tr>\n",
       "      <th>38</th>\n",
       "      <td>509</td>\n",
       "    </tr>\n",
       "    <tr>\n",
       "      <th>39</th>\n",
       "      <td>495</td>\n",
       "    </tr>\n",
       "    <tr>\n",
       "      <th>40</th>\n",
       "      <td>502</td>\n",
       "    </tr>\n",
       "    <tr>\n",
       "      <th>41</th>\n",
       "      <td>505</td>\n",
       "    </tr>\n",
       "    <tr>\n",
       "      <th>42</th>\n",
       "      <td>504</td>\n",
       "    </tr>\n",
       "    <tr>\n",
       "      <th>43</th>\n",
       "      <td>509</td>\n",
       "    </tr>\n",
       "    <tr>\n",
       "      <th>44</th>\n",
       "      <td>508</td>\n",
       "    </tr>\n",
       "    <tr>\n",
       "      <th>45</th>\n",
       "      <td>501</td>\n",
       "    </tr>\n",
       "    <tr>\n",
       "      <th>46</th>\n",
       "      <td>505</td>\n",
       "    </tr>\n",
       "    <tr>\n",
       "      <th>47</th>\n",
       "      <td>497</td>\n",
       "    </tr>\n",
       "    <tr>\n",
       "      <th>48</th>\n",
       "      <td>508</td>\n",
       "    </tr>\n",
       "    <tr>\n",
       "      <th>49</th>\n",
       "      <td>507</td>\n",
       "    </tr>\n",
       "  </tbody>\n",
       "</table>\n",
       "</div>"
      ],
      "text/plain": [
       "    Amostra\n",
       "0       509\n",
       "1       505\n",
       "2       495\n",
       "3       510\n",
       "4       496\n",
       "5       509\n",
       "6       497\n",
       "7       502\n",
       "8       503\n",
       "9       505\n",
       "10      501\n",
       "11      505\n",
       "12      510\n",
       "13      505\n",
       "14      504\n",
       "15      497\n",
       "16      506\n",
       "17      506\n",
       "18      508\n",
       "19      505\n",
       "20      497\n",
       "21      504\n",
       "22      500\n",
       "23      498\n",
       "24      506\n",
       "25      496\n",
       "26      508\n",
       "27      497\n",
       "28      503\n",
       "29      501\n",
       "30      503\n",
       "31      506\n",
       "32      499\n",
       "33      498\n",
       "34      509\n",
       "35      507\n",
       "36      503\n",
       "37      499\n",
       "38      509\n",
       "39      495\n",
       "40      502\n",
       "41      505\n",
       "42      504\n",
       "43      509\n",
       "44      508\n",
       "45      501\n",
       "46      505\n",
       "47      497\n",
       "48      508\n",
       "49      507"
      ]
     },
     "execution_count": 39,
     "metadata": {},
     "output_type": "execute_result"
    }
   ],
   "source": [
    "# Passar para um dataframe\n",
    "df = pd.DataFrame({'Amostra': amostra})\n",
    "\n",
    "df"
   ]
  },
  {
   "cell_type": "markdown",
   "metadata": {
    "colab_type": "text",
    "id": "nqmFpl7wpsj2"
   },
   "source": [
    "### Passo 1 - Formulação das hipóteses $H_0$ e $H_1$\n",
    "\n",
    "**Lembre-se, a hipótese nula sempre contém a alegação de igualdade!**"
   ]
  },
  {
   "cell_type": "markdown",
   "metadata": {
    "colab_type": "text",
    "id": "QVcqkHZhpsj3"
   },
   "source": [
    "### $H_0: \\mu = 500$\n",
    "\n",
    "### $H_1: \\mu \\neq 500$"
   ]
  },
  {
   "cell_type": "code",
   "execution_count": 40,
   "metadata": {
    "colab": {},
    "colab_type": "code",
    "id": "PE99TXSfpsj0"
   },
   "outputs": [],
   "source": [
    "# definindo os dados da hipótese\n",
    "\n",
    "mu = 500"
   ]
  },
  {
   "cell_type": "markdown",
   "metadata": {
    "colab_type": "text",
    "id": "nqmFpl7wpsj2"
   },
   "source": [
    "### **Passo 2** - Cálculo do estimador pontual\n"
   ]
  },
  {
   "cell_type": "code",
   "execution_count": 41,
   "metadata": {
    "colab": {
     "base_uri": "https://localhost:8080/",
     "height": 35
    },
    "colab_type": "code",
    "id": "tnjD0A_ppsjw",
    "outputId": "96415938-0ad1-463b-ee79-719ef48dca1a"
   },
   "outputs": [
    {
     "data": {
      "text/plain": [
       "503.24"
      ]
     },
     "execution_count": 41,
     "metadata": {},
     "output_type": "execute_result"
    }
   ],
   "source": [
    "# Média da amostra\n",
    "\n",
    "media_amostra = df['Amostra'].mean()\n",
    "\n",
    "media_amostra"
   ]
  },
  {
   "cell_type": "code",
   "execution_count": 42,
   "metadata": {
    "colab": {
     "base_uri": "https://localhost:8080/",
     "height": 35
    },
    "colab_type": "code",
    "id": "JXz2IFCUpsjy",
    "outputId": "fb457ed0-cc94-498c-b13d-310418913f61"
   },
   "outputs": [
    {
     "data": {
      "text/plain": [
       "4.483803050527348"
      ]
     },
     "execution_count": 42,
     "metadata": {},
     "output_type": "execute_result"
    }
   ],
   "source": [
    "desvio_amostra = df['Amostra'].std()\n",
    "\n",
    "desvio_amostra"
   ]
  },
  {
   "cell_type": "code",
   "execution_count": 43,
   "metadata": {},
   "outputs": [
    {
     "data": {
      "text/plain": [
       "0.6341055085065631"
      ]
     },
     "execution_count": 43,
     "metadata": {},
     "output_type": "execute_result"
    }
   ],
   "source": [
    "# erro padrão\n",
    "\n",
    "SE = desvio_amostra / np.sqrt(n)\n",
    "\n",
    "SE"
   ]
  },
  {
   "cell_type": "markdown",
   "metadata": {
    "colab_type": "text",
    "id": "nqmFpl7wpsj2"
   },
   "source": [
    "### Passo 3 - Check das condições do TCL"
   ]
  },
  {
   "cell_type": "code",
   "execution_count": 44,
   "metadata": {},
   "outputs": [
    {
     "data": {
      "text/plain": [
       "True"
      ]
     },
     "execution_count": 44,
     "metadata": {},
     "output_type": "execute_result"
    }
   ],
   "source": [
    "n >= 30"
   ]
  },
  {
   "cell_type": "markdown",
   "metadata": {},
   "source": [
    "### Passo 4 - Calcule alguma estatística de teste\n",
    "\n",
    " \n"
   ]
  },
  {
   "cell_type": "code",
   "execution_count": 45,
   "metadata": {},
   "outputs": [
    {
     "data": {
      "text/plain": [
       "(503.24, 500, 0.6341055085065631)"
      ]
     },
     "execution_count": 45,
     "metadata": {},
     "output_type": "execute_result"
    }
   ],
   "source": [
    "media_amostra, mu, SE"
   ]
  },
  {
   "cell_type": "code",
   "execution_count": 46,
   "metadata": {},
   "outputs": [
    {
     "data": {
      "text/plain": [
       "3.240000000000009"
      ]
     },
     "execution_count": 46,
     "metadata": {},
     "output_type": "execute_result"
    }
   ],
   "source": [
    "media_amostra - mu"
   ]
  },
  {
   "cell_type": "code",
   "execution_count": 22,
   "metadata": {},
   "outputs": [
    {
     "data": {
      "text/plain": [
       "5.109559775991876"
      ]
     },
     "execution_count": 22,
     "metadata": {},
     "output_type": "execute_result"
    }
   ],
   "source": [
    "z = (media_amostra - mu)/SE\n",
    "\n",
    "z"
   ]
  },
  {
   "cell_type": "markdown",
   "metadata": {},
   "source": [
    "### Passo 5 - Calcule o p-value\n"
   ]
  },
  {
   "cell_type": "code",
   "execution_count": 23,
   "metadata": {},
   "outputs": [
    {
     "data": {
      "text/plain": [
       "3.2291031724457304e-07"
      ]
     },
     "execution_count": 23,
     "metadata": {},
     "output_type": "execute_result"
    }
   ],
   "source": [
    "norm.sf(z)*2"
   ]
  },
  {
   "cell_type": "code",
   "execution_count": 24,
   "metadata": {},
   "outputs": [
    {
     "data": {
      "text/plain": [
       "3.2291031724457304e-07"
      ]
     },
     "execution_count": 24,
     "metadata": {},
     "output_type": "execute_result"
    }
   ],
   "source": [
    "p_value = norm.sf(z)*2\n",
    "\n",
    "p_value"
   ]
  },
  {
   "cell_type": "markdown",
   "metadata": {},
   "source": [
    "### Passo 6 - Tome uma decisão"
   ]
  },
  {
   "cell_type": "code",
   "execution_count": 25,
   "metadata": {},
   "outputs": [
    {
     "name": "stdout",
     "output_type": "stream",
     "text": [
      "\n",
      "Rejeição da H_0: é bom revisar as máquinas!\n"
     ]
    }
   ],
   "source": [
    "significancia = 0.5/100\n",
    "\n",
    "if p_value > significancia:\n",
    "    print(\"\\nFalha em rejeitar H_0: não é necessário revisar as máquinas!\")\n",
    "else:\n",
    "    print(\"\\nRejeição da H_0: é bom revisar as máquinas!\")"
   ]
  },
  {
   "cell_type": "markdown",
   "metadata": {},
   "source": [
    "______\n",
    "\n",
    "### Unicauldal\n",
    "\n",
    "Um famoso fabricante de refrigerantes alega que uma lata de 350 ml de seu principal produto contém, **no máximo**, 37 gramas de açúcar. Ou seja, é alegado que a **quantidade média de açúcar em uma lata de refrigerante deve ser menor ou igual a 37 g.**\n",
    "\n",
    "Um consumidor desconfiado e com conhecimentos em inferência estatística resolve testar a alegação do fabricante e seleciona, aleatoriamente, em um conjunto de estabelecimentos distintos, uma amostra de 45 latas do refrigerante em questão. Utilizando o equipamento correto o consumidor obteve as quantidades de açúcar em todas as 45 latas de sua amostra. Os dados são exibidos abaixo.\n",
    "\n",
    "Assumindo que essa população se distribua aproximadamente como uma normal e considerando um nível de significância de 5%, é possível aceitar como válida a alegação do fabricante?"
   ]
  },
  {
   "cell_type": "markdown",
   "metadata": {},
   "source": [
    "Os testes unicaudais verificam as variáveis em relação a um piso ou a um teto e avaliam os valores máximos ou mínimos esperados para os parâmetros em estudo e a chance de as estatísticas amostrais serem inferiores ou superiores a dado limite."
   ]
  },
  {
   "cell_type": "code",
   "execution_count": 26,
   "metadata": {
    "colab": {},
    "colab_type": "code",
    "id": "IKvYICfEpsk2"
   },
   "outputs": [
    {
     "data": {
      "text/plain": [
       "45"
      ]
     },
     "execution_count": 26,
     "metadata": {},
     "output_type": "execute_result"
    }
   ],
   "source": [
    "amostra = [37.27, 36.42, 34.84, 34.60, 37.49, \n",
    "           36.53, 35.49, 36.90, 34.52, 37.30, \n",
    "           34.99, 36.55, 36.29, 36.06, 37.42,\n",
    "           37.27, 36.42, 34.84, 34.60, 37.49,\n",
    "           36.42, 36.29, 34.99, 36.64, 36.53,\n",
    "           34.47, 36.70, 35.86, 36.80, 36.92, \n",
    "           37.04, 36.39, 37.32, 36.64, 35.45,\n",
    "           34.99, 36.55, 36.29, 36.06, 37.42,\n",
    "           34.47, 36.70, 35.86, 36.80, 36.92,]\n",
    "\n",
    "n = len(amostra)\n",
    "n"
   ]
  },
  {
   "cell_type": "code",
   "execution_count": 27,
   "metadata": {
    "colab": {
     "base_uri": "https://localhost:8080/",
     "height": 204
    },
    "colab_type": "code",
    "id": "AJNH5RQtpsju",
    "outputId": "2e4e74bb-9e93-41ce-b12c-af947c39fda8",
    "scrolled": true
   },
   "outputs": [
    {
     "data": {
      "text/html": [
       "<div>\n",
       "<style scoped>\n",
       "    .dataframe tbody tr th:only-of-type {\n",
       "        vertical-align: middle;\n",
       "    }\n",
       "\n",
       "    .dataframe tbody tr th {\n",
       "        vertical-align: top;\n",
       "    }\n",
       "\n",
       "    .dataframe thead th {\n",
       "        text-align: right;\n",
       "    }\n",
       "</style>\n",
       "<table border=\"1\" class=\"dataframe\">\n",
       "  <thead>\n",
       "    <tr style=\"text-align: right;\">\n",
       "      <th></th>\n",
       "      <th>Amostra</th>\n",
       "    </tr>\n",
       "  </thead>\n",
       "  <tbody>\n",
       "    <tr>\n",
       "      <th>0</th>\n",
       "      <td>37.27</td>\n",
       "    </tr>\n",
       "    <tr>\n",
       "      <th>1</th>\n",
       "      <td>36.42</td>\n",
       "    </tr>\n",
       "    <tr>\n",
       "      <th>2</th>\n",
       "      <td>34.84</td>\n",
       "    </tr>\n",
       "    <tr>\n",
       "      <th>3</th>\n",
       "      <td>34.60</td>\n",
       "    </tr>\n",
       "    <tr>\n",
       "      <th>4</th>\n",
       "      <td>37.49</td>\n",
       "    </tr>\n",
       "    <tr>\n",
       "      <th>5</th>\n",
       "      <td>36.53</td>\n",
       "    </tr>\n",
       "    <tr>\n",
       "      <th>6</th>\n",
       "      <td>35.49</td>\n",
       "    </tr>\n",
       "    <tr>\n",
       "      <th>7</th>\n",
       "      <td>36.90</td>\n",
       "    </tr>\n",
       "    <tr>\n",
       "      <th>8</th>\n",
       "      <td>34.52</td>\n",
       "    </tr>\n",
       "    <tr>\n",
       "      <th>9</th>\n",
       "      <td>37.30</td>\n",
       "    </tr>\n",
       "    <tr>\n",
       "      <th>10</th>\n",
       "      <td>34.99</td>\n",
       "    </tr>\n",
       "    <tr>\n",
       "      <th>11</th>\n",
       "      <td>36.55</td>\n",
       "    </tr>\n",
       "    <tr>\n",
       "      <th>12</th>\n",
       "      <td>36.29</td>\n",
       "    </tr>\n",
       "    <tr>\n",
       "      <th>13</th>\n",
       "      <td>36.06</td>\n",
       "    </tr>\n",
       "    <tr>\n",
       "      <th>14</th>\n",
       "      <td>37.42</td>\n",
       "    </tr>\n",
       "    <tr>\n",
       "      <th>15</th>\n",
       "      <td>37.27</td>\n",
       "    </tr>\n",
       "    <tr>\n",
       "      <th>16</th>\n",
       "      <td>36.42</td>\n",
       "    </tr>\n",
       "    <tr>\n",
       "      <th>17</th>\n",
       "      <td>34.84</td>\n",
       "    </tr>\n",
       "    <tr>\n",
       "      <th>18</th>\n",
       "      <td>34.60</td>\n",
       "    </tr>\n",
       "    <tr>\n",
       "      <th>19</th>\n",
       "      <td>37.49</td>\n",
       "    </tr>\n",
       "    <tr>\n",
       "      <th>20</th>\n",
       "      <td>36.42</td>\n",
       "    </tr>\n",
       "    <tr>\n",
       "      <th>21</th>\n",
       "      <td>36.29</td>\n",
       "    </tr>\n",
       "    <tr>\n",
       "      <th>22</th>\n",
       "      <td>34.99</td>\n",
       "    </tr>\n",
       "    <tr>\n",
       "      <th>23</th>\n",
       "      <td>36.64</td>\n",
       "    </tr>\n",
       "    <tr>\n",
       "      <th>24</th>\n",
       "      <td>36.53</td>\n",
       "    </tr>\n",
       "    <tr>\n",
       "      <th>25</th>\n",
       "      <td>34.47</td>\n",
       "    </tr>\n",
       "    <tr>\n",
       "      <th>26</th>\n",
       "      <td>36.70</td>\n",
       "    </tr>\n",
       "    <tr>\n",
       "      <th>27</th>\n",
       "      <td>35.86</td>\n",
       "    </tr>\n",
       "    <tr>\n",
       "      <th>28</th>\n",
       "      <td>36.80</td>\n",
       "    </tr>\n",
       "    <tr>\n",
       "      <th>29</th>\n",
       "      <td>36.92</td>\n",
       "    </tr>\n",
       "    <tr>\n",
       "      <th>30</th>\n",
       "      <td>37.04</td>\n",
       "    </tr>\n",
       "    <tr>\n",
       "      <th>31</th>\n",
       "      <td>36.39</td>\n",
       "    </tr>\n",
       "    <tr>\n",
       "      <th>32</th>\n",
       "      <td>37.32</td>\n",
       "    </tr>\n",
       "    <tr>\n",
       "      <th>33</th>\n",
       "      <td>36.64</td>\n",
       "    </tr>\n",
       "    <tr>\n",
       "      <th>34</th>\n",
       "      <td>35.45</td>\n",
       "    </tr>\n",
       "    <tr>\n",
       "      <th>35</th>\n",
       "      <td>34.99</td>\n",
       "    </tr>\n",
       "    <tr>\n",
       "      <th>36</th>\n",
       "      <td>36.55</td>\n",
       "    </tr>\n",
       "    <tr>\n",
       "      <th>37</th>\n",
       "      <td>36.29</td>\n",
       "    </tr>\n",
       "    <tr>\n",
       "      <th>38</th>\n",
       "      <td>36.06</td>\n",
       "    </tr>\n",
       "    <tr>\n",
       "      <th>39</th>\n",
       "      <td>37.42</td>\n",
       "    </tr>\n",
       "    <tr>\n",
       "      <th>40</th>\n",
       "      <td>34.47</td>\n",
       "    </tr>\n",
       "    <tr>\n",
       "      <th>41</th>\n",
       "      <td>36.70</td>\n",
       "    </tr>\n",
       "    <tr>\n",
       "      <th>42</th>\n",
       "      <td>35.86</td>\n",
       "    </tr>\n",
       "    <tr>\n",
       "      <th>43</th>\n",
       "      <td>36.80</td>\n",
       "    </tr>\n",
       "    <tr>\n",
       "      <th>44</th>\n",
       "      <td>36.92</td>\n",
       "    </tr>\n",
       "  </tbody>\n",
       "</table>\n",
       "</div>"
      ],
      "text/plain": [
       "    Amostra\n",
       "0     37.27\n",
       "1     36.42\n",
       "2     34.84\n",
       "3     34.60\n",
       "4     37.49\n",
       "5     36.53\n",
       "6     35.49\n",
       "7     36.90\n",
       "8     34.52\n",
       "9     37.30\n",
       "10    34.99\n",
       "11    36.55\n",
       "12    36.29\n",
       "13    36.06\n",
       "14    37.42\n",
       "15    37.27\n",
       "16    36.42\n",
       "17    34.84\n",
       "18    34.60\n",
       "19    37.49\n",
       "20    36.42\n",
       "21    36.29\n",
       "22    34.99\n",
       "23    36.64\n",
       "24    36.53\n",
       "25    34.47\n",
       "26    36.70\n",
       "27    35.86\n",
       "28    36.80\n",
       "29    36.92\n",
       "30    37.04\n",
       "31    36.39\n",
       "32    37.32\n",
       "33    36.64\n",
       "34    35.45\n",
       "35    34.99\n",
       "36    36.55\n",
       "37    36.29\n",
       "38    36.06\n",
       "39    37.42\n",
       "40    34.47\n",
       "41    36.70\n",
       "42    35.86\n",
       "43    36.80\n",
       "44    36.92"
      ]
     },
     "execution_count": 27,
     "metadata": {},
     "output_type": "execute_result"
    }
   ],
   "source": [
    "# Passar para um dataframe\n",
    "df = pd.DataFrame({'Amostra': amostra})\n",
    "\n",
    "df"
   ]
  },
  {
   "cell_type": "markdown",
   "metadata": {
    "colab_type": "text",
    "id": "nqmFpl7wpsj2"
   },
   "source": [
    "### Passo 1 - Formulação das hipóteses $H_0$ e $H_1$\n",
    "\n",
    "**Lembre-se, a hipótese nula sempre contém a alegação de igualdade!**"
   ]
  },
  {
   "cell_type": "markdown",
   "metadata": {
    "colab_type": "text",
    "id": "QVcqkHZhpsj3"
   },
   "source": [
    "### $H_0: \\mu \\leq 37$\n",
    "\n",
    "### $H_1: \\mu > 37$"
   ]
  },
  {
   "cell_type": "code",
   "execution_count": 28,
   "metadata": {
    "colab": {},
    "colab_type": "code",
    "id": "PE99TXSfpsj0"
   },
   "outputs": [],
   "source": [
    "# definindo os dados da hipótese\n",
    "\n",
    "mu = 37"
   ]
  },
  {
   "cell_type": "markdown",
   "metadata": {
    "colab_type": "text",
    "id": "nqmFpl7wpsj2"
   },
   "source": [
    "### **Passo 2** - Cálculo do estimador pontual\n"
   ]
  },
  {
   "cell_type": "code",
   "execution_count": 29,
   "metadata": {
    "colab": {
     "base_uri": "https://localhost:8080/",
     "height": 35
    },
    "colab_type": "code",
    "id": "tnjD0A_ppsjw",
    "outputId": "96415938-0ad1-463b-ee79-719ef48dca1a"
   },
   "outputs": [
    {
     "data": {
      "text/plain": [
       "36.218"
      ]
     },
     "execution_count": 29,
     "metadata": {},
     "output_type": "execute_result"
    }
   ],
   "source": [
    "# Média da amostra\n",
    "\n",
    "media_amostra = df['Amostra'].mean()\n",
    "\n",
    "media_amostra"
   ]
  },
  {
   "cell_type": "code",
   "execution_count": 30,
   "metadata": {
    "colab": {
     "base_uri": "https://localhost:8080/",
     "height": 35
    },
    "colab_type": "code",
    "id": "JXz2IFCUpsjy",
    "outputId": "fb457ed0-cc94-498c-b13d-310418913f61"
   },
   "outputs": [
    {
     "data": {
      "text/plain": [
       "0.9403737168130161"
      ]
     },
     "execution_count": 30,
     "metadata": {},
     "output_type": "execute_result"
    }
   ],
   "source": [
    "desvio_amostra = df['Amostra'].std()\n",
    "\n",
    "desvio_amostra"
   ]
  },
  {
   "cell_type": "code",
   "execution_count": 31,
   "metadata": {},
   "outputs": [
    {
     "data": {
      "text/plain": [
       "0.14018263700320271"
      ]
     },
     "execution_count": 31,
     "metadata": {},
     "output_type": "execute_result"
    }
   ],
   "source": [
    "# erro padrão\n",
    "\n",
    "SE = desvio_amostra / np.sqrt(n)\n",
    "\n",
    "SE"
   ]
  },
  {
   "cell_type": "markdown",
   "metadata": {
    "colab_type": "text",
    "id": "nqmFpl7wpsj2"
   },
   "source": [
    "### Passo 3 - Check das condições do TCL"
   ]
  },
  {
   "cell_type": "code",
   "execution_count": 32,
   "metadata": {},
   "outputs": [
    {
     "data": {
      "text/plain": [
       "True"
      ]
     },
     "execution_count": 32,
     "metadata": {},
     "output_type": "execute_result"
    }
   ],
   "source": [
    "n > 30"
   ]
  },
  {
   "cell_type": "markdown",
   "metadata": {},
   "source": [
    "### Passo 4 - Calcule alguma estatística de teste\n",
    "\n",
    " \n"
   ]
  },
  {
   "cell_type": "code",
   "execution_count": 33,
   "metadata": {},
   "outputs": [
    {
     "data": {
      "text/plain": [
       "(36.218, 37, 0.14018263700320271)"
      ]
     },
     "execution_count": 33,
     "metadata": {},
     "output_type": "execute_result"
    }
   ],
   "source": [
    "media_amostra, mu, SE"
   ]
  },
  {
   "cell_type": "code",
   "execution_count": 34,
   "metadata": {},
   "outputs": [
    {
     "data": {
      "text/plain": [
       "-5.578436935682201"
      ]
     },
     "execution_count": 34,
     "metadata": {},
     "output_type": "execute_result"
    }
   ],
   "source": [
    "z = (media_amostra - mu)/SE\n",
    "\n",
    "z"
   ]
  },
  {
   "cell_type": "markdown",
   "metadata": {},
   "source": [
    "### Passo 5 - Calcule o p-value\n"
   ]
  },
  {
   "cell_type": "code",
   "execution_count": 35,
   "metadata": {},
   "outputs": [
    {
     "data": {
      "text/plain": [
       "0.9999999878655286"
      ]
     },
     "execution_count": 35,
     "metadata": {},
     "output_type": "execute_result"
    }
   ],
   "source": [
    "p_value = norm.sf(z)\n",
    "\n",
    "p_value"
   ]
  },
  {
   "cell_type": "markdown",
   "metadata": {},
   "source": [
    "### Passo 6 - Tome uma decisão"
   ]
  },
  {
   "cell_type": "code",
   "execution_count": 36,
   "metadata": {
    "scrolled": true
   },
   "outputs": [
    {
     "name": "stdout",
     "output_type": "stream",
     "text": [
      "\n",
      "Falha em rejeitar H_0: parece que a quantidade de açúcar de fato está correta!\n"
     ]
    }
   ],
   "source": [
    "significancia = 0.05\n",
    "\n",
    "if p_value > significancia:\n",
    "    print(\"\\nFalha em rejeitar H_0: parece que a quantidade de açúcar de fato está correta!\")\n",
    "else:\n",
    "    print(\"\\nRejeição da H_0: há mais açúcar do que o indicado!\")"
   ]
  },
  {
   "cell_type": "markdown",
   "metadata": {},
   "source": [
    "____"
   ]
  },
  {
   "cell_type": "markdown",
   "metadata": {},
   "source": [
    "## 2) E se a amostra for pequena?\n",
    "\n",
    "Ou seja, **o que muda se as condições para o TCL não forem válidas?**\n",
    "\n",
    "Nesse caso, não podemos assumir que a distribuição amostral segue uma distribuição normal.\n",
    "\n",
    "Assim, utilizar o **z-score**, tanto pra teste de hipótese, quanto pro cálculo de intervalos de confiança, não é justificável. \n",
    "\n",
    "Nestes casos, precisamos usar outras distribuições:\n",
    "\n",
    "\n",
    "> - Quando o tamanho da amostra tiver 30 elementos ou mais, deve-se utilizar a distribuição normal, como estabelecido pelo **TCL**.\n",
    "> - Para um tamanho de amostra menor que 30 elementos, e se pudermos afirmar que a população se distribui aproximadamente como uma normal e o desvio padrão populacional for conhecido, deve-se utilizar a distribuição normal.\n",
    "> - Para um tamanho de amostra menor que 30 elementos, e se pudermos afirmar que a população se distribui aproximadamente como uma normal e o desvio padrão populacional não for desconhecido, deve-se utilizar a distribuição t de Student.\n",
    "\n",
    "<img src='https://caelum-online-public.s3.amazonaws.com/1229-estatistica-parte3/01/img003.png' width=70%>"
   ]
  },
  {
   "cell_type": "markdown",
   "metadata": {},
   "source": [
    "## Student's t-distribution\n",
    "\n",
    "A [distribuição t de Student](https://en.wikipedia.org/wiki/Student%27s_t-distribution) é uma distribuição simétrica e semelhante à curva normal padrão, porém com caudas mais largas, ou seja, uma simulação da t de Student pode **gerar valores mais extremos** que uma simulação da normal.\n",
    "\n",
    "<img src=\"https://upload.wikimedia.org/wikipedia/commons/thumb/4/41/Student_t_pdf.svg/325px-Student_t_pdf.svg.png\">\n",
    "\n",
    "onde $\\nu$ é o número de **graus de liberdade**, comumente tomado como $n-1$ para nossos objetivos.\n",
    "\n",
    "Note que para $\\nu \\rightarrow \\infty$, recuperamos a distribuição normal!"
   ]
  },
  {
   "cell_type": "markdown",
   "metadata": {},
   "source": [
    "Vamos ver na prática, como o uso da distribuição t funciona:"
   ]
  },
  {
   "cell_type": "markdown",
   "metadata": {},
   "source": [
    "______\n",
    "\n",
    "#### Voltando ao problema do refrigerante (unicaudal)\n",
    "\n",
    "Um famoso fabricante de refrigerantes alega que uma lata de 350 ml de seu principal produto contém, **no máximo**, 37 gramas de açúcar. Ou seja, é alegado que a **quantidade média de açúcar em uma lata de refrigerante deve ser menor ou igual a 37 g.**\n",
    "\n",
    "Um consumidor desconfiado e com conhecimentos em inferência estatística resolve testar a alegação do fabricante e seleciona, aleatoriamente, em um conjunto de estabelecimentos distintos, uma amostra de **15** latas do refrigerante em questão. Utilizando o equipamento correto o consumidor obteve as quantidades de açúcar em todas as **15** latas de sua amostra. Os dados são exibidos abaixo.\n",
    "\n",
    "**Assumindo que essa população se distribua aproximadamente como uma normal** e considerando um nível de significância de 5%, é possível aceitar como válida a alegação do fabricante?"
   ]
  },
  {
   "cell_type": "markdown",
   "metadata": {},
   "source": [
    "Os testes unicaudais verificam as variáveis em relação a um piso ou a um teto e avaliam os valores máximos ou mínimos esperados para os parâmetros em estudo e a chance de as estatísticas amostrais serem inferiores ou superiores a dado limite."
   ]
  },
  {
   "cell_type": "code",
   "execution_count": 163,
   "metadata": {
    "colab": {},
    "colab_type": "code",
    "id": "IKvYICfEpsk2"
   },
   "outputs": [
    {
     "data": {
      "text/plain": [
       "15"
      ]
     },
     "execution_count": 163,
     "metadata": {},
     "output_type": "execute_result"
    }
   ],
   "source": [
    "amostra = [37.27, 37.42, 36.84, 37.60, 37.49,  \n",
    "           36.99, 36.95, 36.99, 37.26, 37.2,\n",
    "           37.42, 36.99, 36.99, 37.64, 36.4]\n",
    "\n",
    "n = len(amostra)\n",
    "n"
   ]
  },
  {
   "cell_type": "code",
   "execution_count": 164,
   "metadata": {
    "colab": {
     "base_uri": "https://localhost:8080/",
     "height": 204
    },
    "colab_type": "code",
    "id": "AJNH5RQtpsju",
    "outputId": "2e4e74bb-9e93-41ce-b12c-af947c39fda8",
    "scrolled": true
   },
   "outputs": [
    {
     "data": {
      "text/html": [
       "<div>\n",
       "<style scoped>\n",
       "    .dataframe tbody tr th:only-of-type {\n",
       "        vertical-align: middle;\n",
       "    }\n",
       "\n",
       "    .dataframe tbody tr th {\n",
       "        vertical-align: top;\n",
       "    }\n",
       "\n",
       "    .dataframe thead th {\n",
       "        text-align: right;\n",
       "    }\n",
       "</style>\n",
       "<table border=\"1\" class=\"dataframe\">\n",
       "  <thead>\n",
       "    <tr style=\"text-align: right;\">\n",
       "      <th></th>\n",
       "      <th>Amostra</th>\n",
       "    </tr>\n",
       "  </thead>\n",
       "  <tbody>\n",
       "    <tr>\n",
       "      <th>0</th>\n",
       "      <td>37.27</td>\n",
       "    </tr>\n",
       "    <tr>\n",
       "      <th>1</th>\n",
       "      <td>37.42</td>\n",
       "    </tr>\n",
       "    <tr>\n",
       "      <th>2</th>\n",
       "      <td>36.84</td>\n",
       "    </tr>\n",
       "    <tr>\n",
       "      <th>3</th>\n",
       "      <td>37.60</td>\n",
       "    </tr>\n",
       "    <tr>\n",
       "      <th>4</th>\n",
       "      <td>37.49</td>\n",
       "    </tr>\n",
       "    <tr>\n",
       "      <th>5</th>\n",
       "      <td>36.99</td>\n",
       "    </tr>\n",
       "    <tr>\n",
       "      <th>6</th>\n",
       "      <td>36.95</td>\n",
       "    </tr>\n",
       "    <tr>\n",
       "      <th>7</th>\n",
       "      <td>36.99</td>\n",
       "    </tr>\n",
       "    <tr>\n",
       "      <th>8</th>\n",
       "      <td>37.26</td>\n",
       "    </tr>\n",
       "    <tr>\n",
       "      <th>9</th>\n",
       "      <td>37.20</td>\n",
       "    </tr>\n",
       "    <tr>\n",
       "      <th>10</th>\n",
       "      <td>37.42</td>\n",
       "    </tr>\n",
       "    <tr>\n",
       "      <th>11</th>\n",
       "      <td>36.99</td>\n",
       "    </tr>\n",
       "    <tr>\n",
       "      <th>12</th>\n",
       "      <td>36.99</td>\n",
       "    </tr>\n",
       "    <tr>\n",
       "      <th>13</th>\n",
       "      <td>37.64</td>\n",
       "    </tr>\n",
       "    <tr>\n",
       "      <th>14</th>\n",
       "      <td>36.40</td>\n",
       "    </tr>\n",
       "  </tbody>\n",
       "</table>\n",
       "</div>"
      ],
      "text/plain": [
       "    Amostra\n",
       "0     37.27\n",
       "1     37.42\n",
       "2     36.84\n",
       "3     37.60\n",
       "4     37.49\n",
       "5     36.99\n",
       "6     36.95\n",
       "7     36.99\n",
       "8     37.26\n",
       "9     37.20\n",
       "10    37.42\n",
       "11    36.99\n",
       "12    36.99\n",
       "13    37.64\n",
       "14    36.40"
      ]
     },
     "execution_count": 164,
     "metadata": {},
     "output_type": "execute_result"
    }
   ],
   "source": [
    "# Passar para um dataframe\n",
    "df = pd.DataFrame({'Amostra': amostra})\n",
    "\n",
    "df"
   ]
  },
  {
   "cell_type": "markdown",
   "metadata": {
    "colab_type": "text",
    "id": "nqmFpl7wpsj2"
   },
   "source": [
    "### Passo 1 - Formulação das hipóteses $H_0$ e $H_1$\n",
    "\n",
    "**Lembre-se, a hipótese nula sempre contém a alegação de igualdade!**"
   ]
  },
  {
   "cell_type": "markdown",
   "metadata": {
    "colab_type": "text",
    "id": "QVcqkHZhpsj3"
   },
   "source": [
    "### $H_0: \\mu \\leq 37$\n",
    "\n",
    "### $H_1: \\mu > 37$"
   ]
  },
  {
   "cell_type": "code",
   "execution_count": 165,
   "metadata": {
    "colab": {},
    "colab_type": "code",
    "id": "PE99TXSfpsj0"
   },
   "outputs": [],
   "source": [
    "# definindo os dados da hipótese\n",
    "\n",
    "mu = 37"
   ]
  },
  {
   "cell_type": "markdown",
   "metadata": {
    "colab_type": "text",
    "id": "nqmFpl7wpsj2"
   },
   "source": [
    "### **Passo 2** - Cálculo do estimador pontual\n"
   ]
  },
  {
   "cell_type": "code",
   "execution_count": 166,
   "metadata": {
    "colab": {
     "base_uri": "https://localhost:8080/",
     "height": 35
    },
    "colab_type": "code",
    "id": "tnjD0A_ppsjw",
    "outputId": "96415938-0ad1-463b-ee79-719ef48dca1a"
   },
   "outputs": [
    {
     "data": {
      "text/plain": [
       "37.163333333333334"
      ]
     },
     "execution_count": 166,
     "metadata": {},
     "output_type": "execute_result"
    }
   ],
   "source": [
    "# Média da amostra\n",
    "\n",
    "media_amostra = df['Amostra'].mean()\n",
    "\n",
    "media_amostra"
   ]
  },
  {
   "cell_type": "code",
   "execution_count": 167,
   "metadata": {
    "colab": {
     "base_uri": "https://localhost:8080/",
     "height": 35
    },
    "colab_type": "code",
    "id": "JXz2IFCUpsjy",
    "outputId": "fb457ed0-cc94-498c-b13d-310418913f61"
   },
   "outputs": [
    {
     "data": {
      "text/plain": [
       "0.33072791291475906"
      ]
     },
     "execution_count": 167,
     "metadata": {},
     "output_type": "execute_result"
    }
   ],
   "source": [
    "# isso é o s, desvio padrão AMOSTRAL\n",
    "\n",
    "desvio_amostra = df['Amostra'].std()\n",
    "\n",
    "desvio_amostra"
   ]
  },
  {
   "cell_type": "code",
   "execution_count": 168,
   "metadata": {},
   "outputs": [
    {
     "data": {
      "text/plain": [
       "0.08539357992298657"
      ]
     },
     "execution_count": 168,
     "metadata": {},
     "output_type": "execute_result"
    }
   ],
   "source": [
    "# erro padrão\n",
    "\n",
    "SE = desvio_amostra / np.sqrt(n)\n",
    "\n",
    "SE"
   ]
  },
  {
   "cell_type": "markdown",
   "metadata": {
    "colab_type": "text",
    "id": "nqmFpl7wpsj2"
   },
   "source": [
    "### Passo 3 - Check das condições do TCL"
   ]
  },
  {
   "cell_type": "code",
   "execution_count": 169,
   "metadata": {},
   "outputs": [
    {
     "data": {
      "text/plain": [
       "False"
      ]
     },
     "execution_count": 169,
     "metadata": {},
     "output_type": "execute_result"
    }
   ],
   "source": [
    "n > 30"
   ]
  },
  {
   "cell_type": "markdown",
   "metadata": {},
   "source": [
    "Nesse caso, vamos precisar usar a distribuição de t, se acreditarmos que a distribuição populacional é normal, o que assumimos ser verdadeiro (e é algo razoável)."
   ]
  },
  {
   "cell_type": "markdown",
   "metadata": {},
   "source": [
    "### Passo 4 - Calcule alguma estatística de teste\n",
    "\n",
    " \n"
   ]
  },
  {
   "cell_type": "code",
   "execution_count": 170,
   "metadata": {},
   "outputs": [
    {
     "data": {
      "text/plain": [
       "(37.163333333333334, 37, 0.08539357992298657)"
      ]
     },
     "execution_count": 170,
     "metadata": {},
     "output_type": "execute_result"
    }
   ],
   "source": [
    "media_amostra, mu, SE"
   ]
  },
  {
   "cell_type": "code",
   "execution_count": 171,
   "metadata": {},
   "outputs": [
    {
     "data": {
      "text/plain": [
       "1.9127120970995537"
      ]
     },
     "execution_count": 171,
     "metadata": {},
     "output_type": "execute_result"
    }
   ],
   "source": [
    "t_score = (media_amostra - mu)/SE\n",
    "\n",
    "t_score"
   ]
  },
  {
   "cell_type": "code",
   "execution_count": 172,
   "metadata": {},
   "outputs": [
    {
     "data": {
      "text/plain": [
       "14"
      ]
     },
     "execution_count": 172,
     "metadata": {},
     "output_type": "execute_result"
    }
   ],
   "source": [
    "nu = n-1\n",
    "\n",
    "nu"
   ]
  },
  {
   "cell_type": "markdown",
   "metadata": {},
   "source": [
    "### Passo 5 - Calcule o p-value\n"
   ]
  },
  {
   "cell_type": "markdown",
   "metadata": {},
   "source": [
    "Único ponto que muda é aqui:"
   ]
  },
  {
   "cell_type": "code",
   "execution_count": 173,
   "metadata": {},
   "outputs": [],
   "source": [
    "from scipy.stats import norm"
   ]
  },
  {
   "cell_type": "code",
   "execution_count": 182,
   "metadata": {},
   "outputs": [
    {
     "data": {
      "text/plain": [
       "2.789245983570299"
      ]
     },
     "execution_count": 182,
     "metadata": {},
     "output_type": "execute_result"
    }
   ],
   "source": [
    "z_score = t_score\n",
    "\n",
    "p_value = norm.sf(z_score)\n",
    "\n",
    "p_value*100"
   ]
  },
  {
   "cell_type": "markdown",
   "metadata": {},
   "source": [
    "Decisão ERRADA, pq usa a distribuição incorreta pro tamanho amostral!!"
   ]
  },
  {
   "cell_type": "code",
   "execution_count": 183,
   "metadata": {},
   "outputs": [
    {
     "name": "stdout",
     "output_type": "stream",
     "text": [
      "\n",
      "Rejeição da H_0: há mais açúcar do que o indicado!\n"
     ]
    }
   ],
   "source": [
    "significancia = 0.03\n",
    "\n",
    "if p_value > significancia:\n",
    "    print(\"\\nFalha em rejeitar H_0: parece que a quantidade de açúcar de fato está correta!\")\n",
    "else:\n",
    "    print(\"\\nRejeição da H_0: há mais açúcar do que o indicado!\")"
   ]
  },
  {
   "cell_type": "code",
   "execution_count": 184,
   "metadata": {},
   "outputs": [],
   "source": [
    "from scipy.stats import t"
   ]
  },
  {
   "cell_type": "code",
   "execution_count": 185,
   "metadata": {},
   "outputs": [
    {
     "data": {
      "text/plain": [
       "3.8231711956495094"
      ]
     },
     "execution_count": 185,
     "metadata": {},
     "output_type": "execute_result"
    }
   ],
   "source": [
    "p_value = t.sf(t_score, nu)\n",
    "\n",
    "p_value*100"
   ]
  },
  {
   "cell_type": "markdown",
   "metadata": {},
   "source": [
    "### Passo 6 - Tome uma decisão"
   ]
  },
  {
   "cell_type": "code",
   "execution_count": 186,
   "metadata": {
    "scrolled": true
   },
   "outputs": [
    {
     "name": "stdout",
     "output_type": "stream",
     "text": [
      "\n",
      "Falha em rejeitar H_0: parece que a quantidade de açúcar de fato está correta!\n"
     ]
    }
   ],
   "source": [
    "significancia = 0.03\n",
    "\n",
    "if p_value > significancia:\n",
    "    print(\"\\nFalha em rejeitar H_0: parece que a quantidade de açúcar de fato está correta!\")\n",
    "else:\n",
    "    print(\"\\nRejeição da H_0: há mais açúcar do que o indicado!\")"
   ]
  },
  {
   "cell_type": "markdown",
   "metadata": {},
   "source": [
    "Note que a única mudança foi no cálculo do p-value.\n",
    "\n",
    "Se tivéssemos usado a mesma estatística de teste `t`, mas assumindo a distribuição normal, o valor encontrado do p-value seria:"
   ]
  },
  {
   "cell_type": "code",
   "execution_count": 188,
   "metadata": {},
   "outputs": [
    {
     "data": {
      "text/plain": [
       "0.02789245983570299"
      ]
     },
     "execution_count": 188,
     "metadata": {},
     "output_type": "execute_result"
    }
   ],
   "source": [
    "norm.sf(z_score)"
   ]
  },
  {
   "cell_type": "code",
   "execution_count": 189,
   "metadata": {},
   "outputs": [
    {
     "data": {
      "text/plain": [
       "0.03823171195649509"
      ]
     },
     "execution_count": 189,
     "metadata": {},
     "output_type": "execute_result"
    }
   ],
   "source": [
    "t.sf(t_score, nu)"
   ]
  },
  {
   "cell_type": "markdown",
   "metadata": {},
   "source": [
    "_____\n",
    "\n",
    "Vamos a mais um exemplo, olhando agora pro intervalo de confiança.\n",
    "\n",
    "A única coisa que muda é o fator multiplicativo. Neste caso, teremos:\n",
    "\n",
    "$$ \\bar{x} \\pm t_{n-1, \\alpha/2} \\frac{\\sigma}{\\sqrt{n}}$$\n",
    "\n",
    "(Lembrando, que dentro da validade do TCL, tínhamos $ \\bar{x} \\pm z_{\\alpha/2} \\frac{\\sigma}{\\sqrt{n}}$)\n",
    "\n",
    "Então, a única coisa que muda é o cálculo do fator multiplicativo!"
   ]
  },
  {
   "cell_type": "markdown",
   "metadata": {},
   "source": [
    "______\n",
    "\n",
    "**Exemplo:** Se uma amostra aleatória n=250, tem uma média amostral de 51,3 e uma desvio padrão populacional de σ=2. Construa o intervalo com 95% de confiança para a média populacional μ.\n",
    "\n",
    "Nesse caso, o TCL é válido, então seguimos como vimos na aula passada:"
   ]
  },
  {
   "cell_type": "code",
   "execution_count": 191,
   "metadata": {},
   "outputs": [],
   "source": [
    "def calc_z_a2(conf):\n",
    "    \n",
    "    sig = 1 - conf\n",
    "\n",
    "    return norm.ppf(conf + sig/2)"
   ]
  },
  {
   "cell_type": "code",
   "execution_count": 192,
   "metadata": {},
   "outputs": [
    {
     "data": {
      "text/plain": [
       "1.959963984540054"
      ]
     },
     "execution_count": 192,
     "metadata": {},
     "output_type": "execute_result"
    }
   ],
   "source": [
    "calc_z_a2(0.95)"
   ]
  },
  {
   "cell_type": "code",
   "execution_count": 204,
   "metadata": {},
   "outputs": [],
   "source": [
    "def calc_ic_media(conf, media_amostral, sigma, n):\n",
    "    \n",
    "    # standard error\n",
    "    SE = sigma/np.sqrt(n)\n",
    "    \n",
    "    # fator multiplicativo\n",
    "    z_a2 = calc_z_a2(conf)\n",
    "\n",
    "    # margem de erro\n",
    "    ME = z_a2*SE\n",
    "\n",
    "    IC_min = round(media_amostral - ME, 2)\n",
    "    IC_max = round(media_amostral + ME, 2)\n",
    "\n",
    "    return IC_min, IC_max"
   ]
  },
  {
   "cell_type": "code",
   "execution_count": 205,
   "metadata": {},
   "outputs": [
    {
     "data": {
      "text/plain": [
       "(51.05, 51.55)"
      ]
     },
     "execution_count": 205,
     "metadata": {},
     "output_type": "execute_result"
    }
   ],
   "source": [
    "n = 250\n",
    "media_amostral = 51.3\n",
    "sigma = 2\n",
    "conf = 0.95\n",
    "\n",
    "calc_ic_media(conf, media_amostral, sigma, n)"
   ]
  },
  {
   "cell_type": "markdown",
   "metadata": {},
   "source": [
    "______\n",
    "\n",
    "**Exemplo:** Se uma amostra aleatória n=25, tem uma média amostral de 51,3 e uma desvio padrão amostral de s=2. Assumindo que a distribuição populacional é normal, construa o intervalo com 95% de confiança para a média populacional μ.\n",
    "\n",
    "Nesse caso, o TCL não é válido, então temos de usar a distribuição t para o cálculo do fator multiplicativo:"
   ]
  },
  {
   "cell_type": "markdown",
   "metadata": {},
   "source": [
    "De forma ingenua, se não considerarmos as alterações necessárias, o intervalo de confiança fica MAIS ESTREITO, ou seja,  achamos que temos mais precisão do que de fato temos"
   ]
  },
  {
   "cell_type": "code",
   "execution_count": 206,
   "metadata": {},
   "outputs": [
    {
     "data": {
      "text/plain": [
       "(50.52, 52.08)"
      ]
     },
     "execution_count": 206,
     "metadata": {},
     "output_type": "execute_result"
    }
   ],
   "source": [
    "n = 25\n",
    "media_amostral = 51.3\n",
    "sigma = 2\n",
    "conf = 0.95\n",
    "\n",
    "calc_ic_media(conf, media_amostral, sigma, n)"
   ]
  },
  {
   "cell_type": "markdown",
   "metadata": {},
   "source": [
    "Mas, o certo é corrigir o IC, levando em consideração uma distribuição amostral t de Student (não uma normal):"
   ]
  },
  {
   "cell_type": "code",
   "execution_count": 207,
   "metadata": {},
   "outputs": [],
   "source": [
    "def calc_t_n_a2(conf, n):\n",
    "    \n",
    "    sig = 1 - conf\n",
    "\n",
    "    return t.ppf(conf + sig/2, df=n-1)"
   ]
  },
  {
   "cell_type": "code",
   "execution_count": 208,
   "metadata": {},
   "outputs": [
    {
     "data": {
      "text/plain": [
       "2.0638985616280205"
      ]
     },
     "execution_count": 208,
     "metadata": {},
     "output_type": "execute_result"
    }
   ],
   "source": [
    "calc_t_n_a2(conf=0.95, n=25)"
   ]
  },
  {
   "cell_type": "code",
   "execution_count": 209,
   "metadata": {},
   "outputs": [],
   "source": [
    "def calc_ic_media(conf, media_amostral, sigma, n):\n",
    "    \n",
    "    SE = sigma/np.sqrt(n)\n",
    "    \n",
    "    if n >= 30:\n",
    "        \n",
    "        z_a2 = calc_z_a2(conf)\n",
    "        \n",
    "        ME = z_a2*SE\n",
    "    \n",
    "    # quando as condições do TCL não são válidas...\n",
    "    else:\n",
    "        \n",
    "        t_n_a2 = calc_t_n_a2(conf, n)\n",
    "        \n",
    "        ME = t_n_a2*SE\n",
    "\n",
    "    IC_min = round(media_amostral - ME, 2)\n",
    "    IC_max = round(media_amostral + ME, 2)\n",
    "\n",
    "    return IC_min, IC_max"
   ]
  },
  {
   "cell_type": "code",
   "execution_count": 210,
   "metadata": {},
   "outputs": [
    {
     "data": {
      "text/plain": [
       "(50.47, 52.13)"
      ]
     },
     "execution_count": 210,
     "metadata": {},
     "output_type": "execute_result"
    }
   ],
   "source": [
    "n = 25\n",
    "media_amostral = 51.3\n",
    "sigma = 2\n",
    "conf = 0.95\n",
    "\n",
    "calc_ic_media(conf, media_amostral, sigma, n)"
   ]
  },
  {
   "cell_type": "code",
   "execution_count": 211,
   "metadata": {},
   "outputs": [
    {
     "data": {
      "text/plain": [
       "(51.05, 51.55)"
      ]
     },
     "execution_count": 211,
     "metadata": {},
     "output_type": "execute_result"
    }
   ],
   "source": [
    "n = 250\n",
    "media_amostral = 51.3\n",
    "sigma = 2\n",
    "conf = 0.95\n",
    "\n",
    "calc_ic_media(conf, media_amostral, sigma, n)"
   ]
  },
  {
   "cell_type": "markdown",
   "metadata": {},
   "source": [
    "________\n",
    "_______\n",
    "_______"
   ]
  },
  {
   "cell_type": "markdown",
   "metadata": {},
   "source": [
    "### Testes de Hipótese - um resumo\n",
    "\n",
    "O processo de inferência estatística é o processo de inferir alguma propriedade acerca de uma população de dados a partir de uma amostra desses dados. Nesse processo, existe a ocorrência de um **erro estatístico** que irá depender do tamanho da amostra em relação ao tamanho da população. \n",
    "\n",
    " - **Exemplo 1:** com base nas respostas de 5000 pessoas, tentar inferir qual será o resultado de uma eleição.\n",
    "\n",
    " - **Exemplo 2:** com base no uso de 300 consumidores de uma loja, tentar inferir qual será o comportamento dos consumidores de uma loja ao longo de um ano.\n",
    "\n",
    "__Hipótese estatística__\n",
    "\n",
    "É uma suposição acerca do comportamento de uma população. Exemplos:\n",
    "\n",
    " - **Exemplo 1:** a altura média da população brasileira é de 1,70m.\n",
    " - **Exemplo 2:** a proporção da população paulista com asma é de 0.4%\n",
    " \n",
    "__Testes de hipótese__\n",
    "\n",
    "É uma regra para aceitar ou rejeitar uma hipótese estatística com base em uma amostra da população. Para realizar um teste de hipóteses, deve-se escolher um par de hipóteses **complementares**, isso é, se uma for falsa a outra necessariamente deve ser verdadeira e vice-versa. Essas hipóteses são chamadas de **hipótese nula**, simbolizado por $H_0$ e **hipótese alternativa**, simbolizada por $H_1$.\n",
    "\n",
    "Dessa forma, existem duas decisões possíveis:\n",
    "1. Rejeita-se $H_0$; ou\n",
    "2. Falha-se em rejeitar $H_0$.\n",
    "\n",
    "Com isso, pode-se acertar de duas formas ou errar de duas formas. \n",
    "\n",
    "<table>\n",
    "    <th> </th>\n",
    "    <th style=\" border: 1px solid black\">$H_0$ é verdadeira</th>\n",
    "    <th style=\" border: 1px solid black\">$H_1$ é verdadeira</th>\n",
    "    <tr style=\" border: 1px solid black\">\n",
    "        <td style=\" border: 1px solid black\">$H_0$ decidido</td>\n",
    "        <td style=\" border: 1px solid black\">Decisão correta</td>\n",
    "        <td style=\" border: 1px solid black\">Erro do tipo II</td>\n",
    "    </tr>\n",
    "    <tr style=\" border: 1px solid black\">\n",
    "        <td style=\" border: 1px solid black\">$H_1$ decidido</td>\n",
    "        <td style=\" border: 1px solid black\">Erro do tipo I</td>\n",
    "        <td style=\" border: 1px solid black\">Decisão correta</td>\n",
    "    </tr>\n",
    "</table>\n",
    "\n",
    "Cada um desses erros, o erro do tipo I ou o do tipo II, poderá ser quantizado através de uma probabilidade de ocorrência; isso é, o erro do tipo I terá uma probabilidade $\\alpha$ de ocorrer, e o erro do tipo II terá uma probabilidade $\\beta$ de ocorrer.\n",
    "\n",
    "\n",
    "<table>\n",
    "    <th> </th>\n",
    "    <th style=\" border: 1px solid black\">$H_0$ é verdadeira</th>\n",
    "    <th style=\" border: 1px solid black\">$H_1$ é verdadeira</th>\n",
    "    <tr style=\" border: 1px solid black\">\n",
    "        <td style=\" border: 1px solid black\">$H_0$ decidido</td>\n",
    "        <td style=\" border: 1px solid black\">probabilidade 1-$\\alpha$</td>\n",
    "        <td style=\" border: 1px solid black\">probabilidade $\\beta$</td>\n",
    "    </tr>\n",
    "    <tr style=\" border: 1px solid black\">\n",
    "        <td style=\" border: 1px solid black\">$H_1$ decidido</td>\n",
    "        <td style=\" border: 1px solid black\">probabilidade $\\alpha$</td>\n",
    "        <td style=\" border: 1px solid black\">probabilidade $1-\\beta$</td>\n",
    "    </tr>\n",
    "</table>"
   ]
  }
 ],
 "metadata": {
  "kernelspec": {
   "display_name": "Python 3",
   "language": "python",
   "name": "python3"
  },
  "language_info": {
   "codemirror_mode": {
    "name": "ipython",
    "version": 3
   },
   "file_extension": ".py",
   "mimetype": "text/x-python",
   "name": "python",
   "nbconvert_exporter": "python",
   "pygments_lexer": "ipython3",
   "version": "3.8.3"
  }
 },
 "nbformat": 4,
 "nbformat_minor": 2
}
