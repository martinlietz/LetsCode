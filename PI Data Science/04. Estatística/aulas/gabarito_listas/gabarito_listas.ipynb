{
 "cells": [
  {
   "cell_type": "markdown",
   "source": [
    "# Gabarito das listas\n",
    "\n",
    "_______\n",
    "_______\n",
    "_______"
   ],
   "metadata": {}
  },
  {
   "cell_type": "markdown",
   "source": [
    "## Variáveis e Distribuições de Probabilidade\n",
    "---\n"
   ],
   "metadata": {}
  },
  {
   "cell_type": "markdown",
   "source": [
    "\n",
    "1) A alternativa correta é **Somente duas respostas são possíveis.**. Exemplo: verdadeiro ou falso; cara ou coroa; sucesso ou fracasso.\n",
    "\n",
    "_____"
   ],
   "metadata": {}
  },
  {
   "cell_type": "markdown",
   "source": [
    "\n",
    "2) A alternativa correta é **0.375**. Note que a expressão \"perfeitamente equilibrada\" indica que a moeda usada é honesta, ou seja, apresenta a mesma probabilidade de se obter cara ou coroa. O código abaixo é um exemplo de solução:"
   ],
   "metadata": {}
  },
  {
   "cell_type": "code",
   "execution_count": 10,
   "source": [
    "from scipy.stats import binom\r\n",
    "\r\n",
    "# Probabilidade de sair COROA\r\n",
    "p = 1/2  \r\n",
    "\r\n",
    "# Total de lançamentos\r\n",
    "n = 4\r\n",
    "\r\n",
    "# Total de sucessos (faces COROA voltada para cima)\r\n",
    "k = 1      \r\n",
    "\r\n",
    "binom.pmf(k, n, p)"
   ],
   "outputs": [
    {
     "output_type": "execute_result",
     "data": {
      "text/plain": [
       "0.25000000000000006"
      ]
     },
     "metadata": {},
     "execution_count": 10
    }
   ],
   "metadata": {}
  },
  {
   "cell_type": "markdown",
   "source": [
    "---\r\n",
    "3) Um dado, perfeitamente equilibrado, é lançado para o alto dez vezes. Utilizando a distribuição binomial, obtenha a probabilidade de o dado cair com o número cinco voltado para cima pelo menos três vezes.\r\n",
    "\r\n",
    "Neste caso, podemos modelar o experimento como binomial, se assumirmos que:\r\n",
    "\r\n",
    "> Sucesso: sair face 5 (com probabilidade 1/6)\r\n",
    "\r\n",
    "> Fracasso: não sair face 5 (com probabilidade 5/6)\r\n",
    "\r\n",
    "Assim, podemos usar a distribuição binomial!\r\n",
    "\r\n",
    "Note que, \"sair 5 pelo menos 3 vezes\", é o complementar de sair o 5 pra cima 1 vez OU duaz vezes! Ou seja, $1 - P(x <= 2)$.\r\n",
    "\r\n",
    "Por isso, podemos usar a survival function! Ou, então, a cdf, mas lembrando de subtrair de 1!\r\n",
    "\r\n",
    "O código abaixo é uma forma de solução:"
   ],
   "metadata": {}
  },
  {
   "cell_type": "code",
   "execution_count": 1,
   "source": [
    "from scipy.stats import binom\r\n",
    "\r\n",
    "# Probabilidade de sair o número CINCO\r\n",
    "p = 1 / 6\r\n",
    "\r\n",
    "# Total de lançamentos\r\n",
    "n = 10      \r\n",
    "\r\n",
    "binom.sf(2, n, p)*100"
   ],
   "outputs": [
    {
     "output_type": "execute_result",
     "data": {
      "text/plain": [
       "22.47732021287405"
      ]
     },
     "metadata": {},
     "execution_count": 1
    }
   ],
   "metadata": {}
  },
  {
   "cell_type": "code",
   "execution_count": 2,
   "source": [
    "(1 - binom.cdf(2, n, p))*100"
   ],
   "outputs": [
    {
     "output_type": "execute_result",
     "data": {
      "text/plain": [
       "22.47732021287404"
      ]
     },
     "metadata": {},
     "execution_count": 2
    }
   ],
   "metadata": {}
  },
  {
   "cell_type": "markdown",
   "source": [
    "---\n",
    "4) Suponha que a probabilidade de um casal ter filhos com olhos azuis seja de 22%. Em 50 famílias, com 3 crianças cada uma, quantas podemos esperar que tenham dois filhos com olhos azuis?\n",
    "\n",
    "Vamos considerar um experimento binomial para a \"ocorrência de olhos azuis\". Esse é o \"sucesso\".\n",
    "\n",
    "A probabilidade de que UMA familia de 3 crianças (n), 2 tenham olhos azuis (k), é dada pela pmf da binomial.\n",
    "\n",
    "Se essa é a probabilidade de uma familia, mas há 50 familias independentes, basta multiplicar esta probabilidade pelo numero de familias (ou somar as 50 probabilidades)\n",
    "\n",
    "> A alternativa correta é **5.66** famílias. Segue um código com uma sugestão para solução:"
   ],
   "metadata": {}
  },
  {
   "cell_type": "code",
   "execution_count": 4,
   "source": [
    "from scipy.stats import binom\r\n",
    "\r\n",
    "p = 0.22\r\n",
    "n = 3\r\n",
    "k = 2\r\n",
    "\r\n",
    "# pra cada familia...\r\n",
    "probabilidade = binom.pmf(k, n, p)\r\n",
    "\r\n",
    "N = 50\r\n",
    "# numero de familias...\r\n",
    "N_familias = probabilidade * N\r\n",
    "\r\n",
    "N_familias"
   ],
   "outputs": [
    {
     "output_type": "execute_result",
     "data": {
      "text/plain": [
       "5.662799999999999"
      ]
     },
     "metadata": {},
     "execution_count": 4
    }
   ],
   "metadata": {}
  },
  {
   "cell_type": "markdown",
   "source": [
    "---\n",
    "5) As alternativas abaixo descrevem as características básicas de um experimento Poisson. Marque aquela que está correta.\n",
    "\n",
    "> A alternativa correta é **\"O número de ocorrências em determinado intervalo é independente do número de ocorrências em outros intervalos\"**. A independência entre os experimentos é uma característica importante em cálculos de probabilidade."
   ],
   "metadata": {}
  },
  {
   "cell_type": "markdown",
   "source": [
    "---\n",
    "6) O número médio de clientes que entram em uma padaria por hora é igual a 20. Obtenha a probabilidade de, na próxima hora, entrarem exatamente 25 clientes.\n",
    "\n",
    "A resposta correta é **4.46%**. Segue o código de solução:"
   ],
   "metadata": {}
  },
  {
   "cell_type": "code",
   "execution_count": 5,
   "source": [
    "from scipy.stats import poisson\r\n",
    "\r\n",
    "media = 20\r\n",
    "k = 25\r\n",
    "\r\n",
    "probabilidade = poisson.pmf(k, media)\r\n",
    "\r\n",
    "print(\"{0:.2%}\".format(probabilidade))"
   ],
   "outputs": [
    {
     "output_type": "stream",
     "name": "stdout",
     "text": [
      "4.46%\n"
     ]
    }
   ],
   "metadata": {}
  },
  {
   "cell_type": "markdown",
   "source": [
    "---\n",
    "7) Sobre a distribuição normal, avalie as afirmativas abaixo:\n",
    "\n",
    "1. A distribuição normal é definida por sua média e desvio padrão\n",
    "2. A distribuição normal é simétrica em torno da média\n",
    "3. O desvio padrão define o achatamento e largura da curva da distribuição normal\n",
    "\n",
    "Quais estão corretas?"
   ],
   "metadata": {}
  },
  {
   "cell_type": "markdown",
   "source": [
    "> A alternativa correta é **\"Todas as afirmativas estão corretas\"**. "
   ],
   "metadata": {}
  },
  {
   "cell_type": "markdown",
   "source": [
    "---\n",
    "8) A aplicação de uma prova de estatística em um concurso apresentou um conjunto de notas normalmente distribuídas. Verificou-se que o conjunto de notas tinha média 70 e desvio padrão de 5 pontos.\n",
    "\n",
    "Qual a probabilidade de um aluno, selecionado ao acaso, ter nota menor que 85?\n",
    "\n",
    "> Resposta correta: **99.86%**. Segue a sugestão para solução, usando o z-score pra calular a probabilidade direto da distruibuião normal com media zero e std 1:"
   ],
   "metadata": {}
  },
  {
   "cell_type": "code",
   "execution_count": 6,
   "source": [
    "from scipy.stats import norm\r\n",
    "\r\n",
    "media = 70\r\n",
    "desvio_padrao = 5\r\n",
    "\r\n",
    "Z = (85 - media) / desvio_padrao\r\n",
    "\r\n",
    "prob = norm.cdf(Z)\r\n",
    "print(\"{0:.2%}\".format(prob))"
   ],
   "outputs": [
    {
     "output_type": "stream",
     "name": "stdout",
     "text": [
      "99.87%\n"
     ]
    }
   ],
   "metadata": {}
  },
  {
   "cell_type": "markdown",
   "source": [
    "---\n",
    "9) O faturamento diário de um motorista de aplicativo segue uma distribuição aproximadamente normal, com média R\\\\$ 300,00 e desvio padrão igual a R\\\\$ 50,00. Obtenha as probabilidades de que, em um dia aleatório, o motorista ganhe:\n",
    "\n",
    "1. Entre R\\\\$ 250,00 e R\\\\$ 350,00\n",
    "2. Entre R\\\\$ 400,00 e R\\\\$ 500,00"
   ],
   "metadata": {}
  },
  {
   "cell_type": "markdown",
   "source": [
    "> Reposta correta: **1) 68,27%; 2) 2,27%**. Os códigos abaixo exemplificam a solução do problema:"
   ],
   "metadata": {}
  },
  {
   "cell_type": "code",
   "execution_count": 7,
   "source": [
    "# 1\r\n",
    "\r\n",
    "from scipy.stats import norm\r\n",
    "\r\n",
    "media = 300\r\n",
    "desvio_padrao = 50\r\n",
    "\r\n",
    "Z_inferior = (250 - media) / desvio_padrao\r\n",
    "Z_superior = (350 - media) / desvio_padrao\r\n",
    "\r\n",
    "probabilidade = norm.cdf(Z_superior) - norm.cdf(Z_inferior)\r\n",
    "print(\"{0:.2%}\".format(probabilidade))"
   ],
   "outputs": [
    {
     "output_type": "stream",
     "name": "stdout",
     "text": [
      "68.27%\n"
     ]
    }
   ],
   "metadata": {}
  },
  {
   "cell_type": "code",
   "execution_count": 8,
   "source": [
    "# 2\r\n",
    "\r\n",
    "from scipy.stats import norm\r\n",
    "\r\n",
    "media = 300\r\n",
    "desvio_padrao = 50\r\n",
    "\r\n",
    "Z_inferior = (400 - media) / desvio_padrao\r\n",
    "Z_superior = (500 - media) / desvio_padrao\r\n",
    "\r\n",
    "probabilidade = norm.cdf(Z_superior) - norm.cdf(Z_inferior)\r\n",
    "print(\"{0:.2%}\".format(probabilidade))"
   ],
   "outputs": [
    {
     "output_type": "stream",
     "name": "stdout",
     "text": [
      "2.27%\n"
     ]
    }
   ],
   "metadata": {}
  },
  {
   "cell_type": "markdown",
   "source": [
    "---\n",
    "10) O Inmetro verificou que as lâmpadas incandescentes da fabricante XPTO apresentam uma vida útil normalmente distribuída, com média igual a 720 dias e desvio padrão igual a 30 dias. Calcule a probabilidade de uma lâmpada, escolhida ao acaso, durar:\n",
    "\n",
    "1. Entre 650 e 750 dias\n",
    "2. Mais que 800 dias\n",
    "3. Menos que 700 dias"
   ],
   "metadata": {}
  },
  {
   "cell_type": "markdown",
   "source": [
    "> Resposta correta: **1) 83,15%; 2) 0,38%; 3) 25,25%**. Segue uma opção de solução deste problema:"
   ],
   "metadata": {}
  },
  {
   "cell_type": "code",
   "execution_count": 9,
   "source": [
    "from scipy.stats import norm\r\n",
    "\r\n",
    "media = 720\r\n",
    "desvio_padrao = 30\r\n",
    "\r\n",
    "# Item A\r\n",
    "Z_inferior = (650 - media) / desvio_padrao\r\n",
    "Z_superior = (750 - media) / desvio_padrao\r\n",
    "\r\n",
    "probabilidade = norm.cdf(Z_superior) - norm.cdf(Z_inferior)\r\n",
    "print(\"1) {0:.2%}\".format(probabilidade))\r\n",
    "\r\n",
    "# Item B\r\n",
    "Z = (800 - media) / desvio_padrao\r\n",
    "\r\n",
    "probabilidade = 1 - norm.cdf(Z)\r\n",
    "print(\"2) {0:.2%}\".format(probabilidade))\r\n",
    "\r\n",
    "# Item C\r\n",
    "Z = (700 - media) / desvio_padrao\r\n",
    "\r\n",
    "probabilidade = norm.cdf(Z)\r\n",
    "print(\"3) {0:.2%}\".format(probabilidade))"
   ],
   "outputs": [
    {
     "output_type": "stream",
     "name": "stdout",
     "text": [
      "1) 83.15%\n",
      "2) 0.38%\n",
      "3) 25.25%\n"
     ]
    }
   ],
   "metadata": {}
  },
  {
   "cell_type": "markdown",
   "source": [
    "__________\n",
    "__________\n",
    "__________"
   ],
   "metadata": {}
  },
  {
   "cell_type": "markdown",
   "source": [
    "## Intervalos de Confiança\n",
    "---"
   ],
   "metadata": {}
  },
  {
   "cell_type": "code",
   "execution_count": 10,
   "source": [
    "import numpy as np\r\n",
    "import pandas as pd\r\n",
    "from scipy.stats import norm\r\n",
    "from scipy.stats import t as t_student"
   ],
   "outputs": [],
   "metadata": {}
  },
  {
   "cell_type": "markdown",
   "source": [
    "1) Se uma amostra aleatória $n=250$, tem uma média amostral de 51,3 e uma desvio padrão populacional de $\\sigma=2$. Construa o intervalo com 95% de confiança para a média populacional $\\mu$. "
   ],
   "metadata": {}
  },
  {
   "cell_type": "code",
   "execution_count": 11,
   "source": [
    "n = 250\r\n",
    "media_amostral = 51.3\r\n",
    "sigma = 2\r\n",
    "confianca = 0.95\r\n",
    "significancia = 1 - confianca"
   ],
   "outputs": [],
   "metadata": {}
  },
  {
   "cell_type": "code",
   "execution_count": 12,
   "source": [
    "z_alpha_2 = norm.ppf(confianca + significancia / 2)\r\n",
    "z_alpha_2"
   ],
   "outputs": [
    {
     "output_type": "execute_result",
     "data": {
      "text/plain": [
       "1.959963984540054"
      ]
     },
     "metadata": {},
     "execution_count": 12
    }
   ],
   "metadata": {}
  },
  {
   "cell_type": "code",
   "execution_count": 13,
   "source": [
    "erro = z_alpha_2 * sigma / np.sqrt(n)\r\n",
    "erro"
   ],
   "outputs": [
    {
     "output_type": "execute_result",
     "data": {
      "text/plain": [
       "0.24791801292182464"
      ]
     },
     "metadata": {},
     "execution_count": 13
    }
   ],
   "metadata": {}
  },
  {
   "cell_type": "code",
   "execution_count": 14,
   "source": [
    "print('Intervalo de confiança da média:', (media_amostral - erro, media_amostral + erro))"
   ],
   "outputs": [
    {
     "output_type": "stream",
     "name": "stdout",
     "text": [
      "Intervalo de confiança da média: (51.052081987078175, 51.54791801292182)\n"
     ]
    }
   ],
   "metadata": {}
  },
  {
   "cell_type": "code",
   "execution_count": 15,
   "source": [
    "# dá pra fazer direto com o scipy, hehehe\r\n",
    "# (é parecida com a função que implementamos na aula, mas direto do scipy! :D)\r\n",
    "\r\n",
    "norm.interval(confianca, loc=media_amostral, scale=sigma/np.sqrt(n))"
   ],
   "outputs": [
    {
     "output_type": "execute_result",
     "data": {
      "text/plain": [
       "(51.052081987078175, 51.54791801292182)"
      ]
     },
     "metadata": {},
     "execution_count": 15
    }
   ],
   "metadata": {}
  },
  {
   "cell_type": "markdown",
   "source": [
    "---\n",
    "2) Sabe-se que a vida em horas de um bulbo de lâmpada de 75 W é distribuída de forma aproximadamente normal com desvio padrão de $\\sigma = 25$. Uma amostra aleatória de 200 bulbos tem uma vida media de 1.014 horas. Construa um intervalo de confiança de 95% para a vida média."
   ],
   "metadata": {}
  },
  {
   "cell_type": "code",
   "execution_count": 16,
   "source": [
    "sigma = 25\r\n",
    "n = 200\r\n",
    "media_amostral = 1014\r\n",
    "confianca = 0.95\r\n",
    "significancia = 1 - confianca"
   ],
   "outputs": [],
   "metadata": {}
  },
  {
   "cell_type": "code",
   "execution_count": 17,
   "source": [
    "z_alpha_2 = norm.ppf(confianca + significancia / 2)\r\n",
    "z_alpha_2"
   ],
   "outputs": [
    {
     "output_type": "execute_result",
     "data": {
      "text/plain": [
       "1.959963984540054"
      ]
     },
     "metadata": {},
     "execution_count": 17
    }
   ],
   "metadata": {}
  },
  {
   "cell_type": "code",
   "execution_count": 18,
   "source": [
    "erro = z_alpha_2 * sigma / np.sqrt(n)\r\n",
    "erro"
   ],
   "outputs": [
    {
     "output_type": "execute_result",
     "data": {
      "text/plain": [
       "3.464759560874194"
      ]
     },
     "metadata": {},
     "execution_count": 18
    }
   ],
   "metadata": {}
  },
  {
   "cell_type": "code",
   "execution_count": 19,
   "source": [
    "print('Intervalo de confiança da média:', (media_amostral - erro, media_amostral + erro))"
   ],
   "outputs": [
    {
     "output_type": "stream",
     "name": "stdout",
     "text": [
      "Intervalo de confiança da média: (1010.5352404391258, 1017.4647595608742)\n"
     ]
    }
   ],
   "metadata": {}
  },
  {
   "cell_type": "code",
   "execution_count": 20,
   "source": [
    "# com o scipy...\r\n",
    "\r\n",
    "norm.interval(confianca, loc=media_amostral, scale=sigma/np.sqrt(n))"
   ],
   "outputs": [
    {
     "output_type": "execute_result",
     "data": {
      "text/plain": [
       "(1010.5352404391258, 1017.4647595608742)"
      ]
     },
     "metadata": {},
     "execution_count": 20
    }
   ],
   "metadata": {}
  },
  {
   "cell_type": "markdown",
   "source": [
    "---\n",
    "3) Qual deve ser o tamanho da amostra para que o intervalo com 99,5% de confiança para a média populacional tenha uma semi-amplitude (ou erro) não superior a 1,5? Sabe-se que a variância populacional é de 23."
   ],
   "metadata": {}
  },
  {
   "cell_type": "code",
   "execution_count": 21,
   "source": [
    "confianca = 0.995\r\n",
    "significancia = 1 - confianca\r\n",
    "max_erro = 1.5\r\n",
    "sigma = np.sqrt(23)"
   ],
   "outputs": [],
   "metadata": {}
  },
  {
   "cell_type": "code",
   "execution_count": 22,
   "source": [
    "z_alpha_2 = norm.ppf(confianca + significancia / 2)\r\n",
    "z_alpha_2"
   ],
   "outputs": [
    {
     "output_type": "execute_result",
     "data": {
      "text/plain": [
       "2.807033768343811"
      ]
     },
     "metadata": {},
     "execution_count": 22
    }
   ],
   "metadata": {}
  },
  {
   "cell_type": "code",
   "execution_count": 23,
   "source": [
    "n = (z_alpha_2 * sigma / max_erro)**2\r\n",
    "n"
   ],
   "outputs": [
    {
     "output_type": "execute_result",
     "data": {
      "text/plain": [
       "80.54537211658509"
      ]
     },
     "metadata": {},
     "execution_count": 23
    }
   ],
   "metadata": {}
  },
  {
   "cell_type": "code",
   "execution_count": 24,
   "source": [
    "n = int(np.ceil(n))\r\n",
    "print(n, 'elementos')"
   ],
   "outputs": [
    {
     "output_type": "stream",
     "name": "stdout",
     "text": [
      "81 elementos\n"
     ]
    }
   ],
   "metadata": {}
  },
  {
   "cell_type": "markdown",
   "source": [
    "---\n",
    "4) Uma marca particular de margarina diet foi analisada para determinar o nível em porcentagem de ácidos graxos insaturados. Uma amostra de seis pacotes resultou nos seguintes dados: 16,8; 17,2; 17,4; 16,9; 16,5 e 17,1. Encontre o intervalo de confiança de 99% para a amostra."
   ],
   "metadata": {}
  },
  {
   "cell_type": "code",
   "execution_count": 25,
   "source": [
    "amostras = [16.8, 17.2, 17.4, 16.9, 16.5, 17.1]"
   ],
   "outputs": [],
   "metadata": {}
  },
  {
   "cell_type": "code",
   "execution_count": 26,
   "source": [
    "amostra = pd.DataFrame({'amostra': amostras})"
   ],
   "outputs": [],
   "metadata": {}
  },
  {
   "cell_type": "code",
   "execution_count": 27,
   "source": [
    "amostra"
   ],
   "outputs": [
    {
     "output_type": "execute_result",
     "data": {
      "text/plain": [
       "   amostra\n",
       "0     16.8\n",
       "1     17.2\n",
       "2     17.4\n",
       "3     16.9\n",
       "4     16.5\n",
       "5     17.1"
      ],
      "text/html": [
       "<div>\n",
       "<style scoped>\n",
       "    .dataframe tbody tr th:only-of-type {\n",
       "        vertical-align: middle;\n",
       "    }\n",
       "\n",
       "    .dataframe tbody tr th {\n",
       "        vertical-align: top;\n",
       "    }\n",
       "\n",
       "    .dataframe thead th {\n",
       "        text-align: right;\n",
       "    }\n",
       "</style>\n",
       "<table border=\"1\" class=\"dataframe\">\n",
       "  <thead>\n",
       "    <tr style=\"text-align: right;\">\n",
       "      <th></th>\n",
       "      <th>amostra</th>\n",
       "    </tr>\n",
       "  </thead>\n",
       "  <tbody>\n",
       "    <tr>\n",
       "      <th>0</th>\n",
       "      <td>16.8</td>\n",
       "    </tr>\n",
       "    <tr>\n",
       "      <th>1</th>\n",
       "      <td>17.2</td>\n",
       "    </tr>\n",
       "    <tr>\n",
       "      <th>2</th>\n",
       "      <td>17.4</td>\n",
       "    </tr>\n",
       "    <tr>\n",
       "      <th>3</th>\n",
       "      <td>16.9</td>\n",
       "    </tr>\n",
       "    <tr>\n",
       "      <th>4</th>\n",
       "      <td>16.5</td>\n",
       "    </tr>\n",
       "    <tr>\n",
       "      <th>5</th>\n",
       "      <td>17.1</td>\n",
       "    </tr>\n",
       "  </tbody>\n",
       "</table>\n",
       "</div>"
      ]
     },
     "metadata": {},
     "execution_count": 27
    }
   ],
   "metadata": {}
  },
  {
   "cell_type": "code",
   "execution_count": 28,
   "source": [
    "confianca = 0.99\r\n",
    "significancia = 1 - confianca\r\n",
    "media_amostral = amostra['amostra'].mean()\r\n",
    "desvio_amostral = amostra['amostra'].std()\r\n",
    "n = amostra.shape[0]\r\n",
    "graus_de_liberdade = n - 1"
   ],
   "outputs": [],
   "metadata": {}
  },
  {
   "cell_type": "code",
   "execution_count": 29,
   "source": [
    "t_alpha_2 = t_student.ppf(confianca + significancia / 2, graus_de_liberdade)\r\n",
    "t_alpha_2"
   ],
   "outputs": [
    {
     "output_type": "execute_result",
     "data": {
      "text/plain": [
       "4.032142983557536"
      ]
     },
     "metadata": {},
     "execution_count": 29
    }
   ],
   "metadata": {}
  },
  {
   "cell_type": "code",
   "execution_count": 30,
   "source": [
    "erro = t_alpha_2 * desvio_amostral / np.sqrt(n)\r\n",
    "erro"
   ],
   "outputs": [
    {
     "output_type": "execute_result",
     "data": {
      "text/plain": [
       "0.5248673905089918"
      ]
     },
     "metadata": {},
     "execution_count": 30
    }
   ],
   "metadata": {}
  },
  {
   "cell_type": "code",
   "execution_count": 31,
   "source": [
    "print('Intervalo de confiança da média:', (media_amostral - erro, media_amostral + erro))"
   ],
   "outputs": [
    {
     "output_type": "stream",
     "name": "stdout",
     "text": [
      "Intervalo de confiança da média: (16.458465942824343, 17.508200723842325)\n"
     ]
    }
   ],
   "metadata": {}
  },
  {
   "cell_type": "code",
   "execution_count": 32,
   "source": [
    "# com o scipy...\r\n",
    "t_student.interval(confianca, loc=media_amostral, scale=desvio_amostral/np.sqrt(n), df=graus_de_liberdade)"
   ],
   "outputs": [
    {
     "output_type": "execute_result",
     "data": {
      "text/plain": [
       "(16.458465942824343, 17.508200723842325)"
      ]
     },
     "metadata": {},
     "execution_count": 32
    }
   ],
   "metadata": {}
  },
  {
   "cell_type": "markdown",
   "source": [
    "---\n",
    "5) Uma amostra piloto com 12 elementos tem média de 6,7 e desvio padrão de 1,7. Qual deve ser o tamanho da amostra para que a semi amplitude do intervalo de 99,5% de confiança da média populacional não seja superior a 0,8."
   ],
   "metadata": {}
  },
  {
   "cell_type": "code",
   "execution_count": 33,
   "source": [
    "n = 12\r\n",
    "media_amostral = 6.7\r\n",
    "desvio_amostral = 1.7\r\n",
    "max_erro = 0.8\r\n",
    "confianca = 0.995\r\n",
    "significancia = 1 - confianca\r\n",
    "graus_de_liberdade = n - 1"
   ],
   "outputs": [],
   "metadata": {}
  },
  {
   "cell_type": "code",
   "execution_count": 34,
   "source": [
    "t_alpha_2 = t_student.ppf(confianca + significancia / 2, df=graus_de_liberdade)\r\n",
    "t_alpha_2"
   ],
   "outputs": [
    {
     "output_type": "execute_result",
     "data": {
      "text/plain": [
       "3.496614176741801"
      ]
     },
     "metadata": {},
     "execution_count": 34
    }
   ],
   "metadata": {}
  },
  {
   "cell_type": "code",
   "execution_count": 35,
   "source": [
    "n = (t_alpha_2 * desvio_amostral / max_erro)**2\r\n",
    "n"
   ],
   "outputs": [
    {
     "output_type": "execute_result",
     "data": {
      "text/plain": [
       "55.20943425916582"
      ]
     },
     "metadata": {},
     "execution_count": 35
    }
   ],
   "metadata": {}
  },
  {
   "cell_type": "code",
   "execution_count": 36,
   "source": [
    "n = int(np.ceil(n))\r\n",
    "print(n, 'elementos')"
   ],
   "outputs": [
    {
     "output_type": "stream",
     "name": "stdout",
     "text": [
      "56 elementos\n"
     ]
    }
   ],
   "metadata": {}
  },
  {
   "cell_type": "markdown",
   "source": [
    "---\n",
    "6) Calcular o intervalo de confiança\n",
    "de 95% para a seguinte amostra,\n",
    "com variância populacional\n",
    "desconhecida:\n",
    "\n",
    "```\n",
    "19,8; 18,5; 17,6; 16,7; 15,8; 15,4; 14,1; 13,6; 11,9; 11,4; 11,4; 8,8; 7,5; 15,4; 15,4; 19,5; 14,9; 12,7; 11,9; 11,4; 10,1; 7,9\n",
    "```"
   ],
   "metadata": {}
  },
  {
   "cell_type": "code",
   "execution_count": 37,
   "source": [
    "amostras = [19.8, 18.5, 17.6, 16.7, 15.8, 15.4, 14.1, 13.6, 11.9, 11.4, 11.4, 8.8, 7.5, 15.4, 15.4, 19.5, 14.9, 12.7, 11.9, 11.4, 10.1, 7.9]"
   ],
   "outputs": [],
   "metadata": {}
  },
  {
   "cell_type": "code",
   "execution_count": 38,
   "source": [
    "amostras = pd.DataFrame({'amostras': amostras})"
   ],
   "outputs": [],
   "metadata": {}
  },
  {
   "cell_type": "code",
   "execution_count": 39,
   "source": [
    "amostras.head()"
   ],
   "outputs": [
    {
     "output_type": "execute_result",
     "data": {
      "text/plain": [
       "   amostras\n",
       "0      19.8\n",
       "1      18.5\n",
       "2      17.6\n",
       "3      16.7\n",
       "4      15.8"
      ],
      "text/html": [
       "<div>\n",
       "<style scoped>\n",
       "    .dataframe tbody tr th:only-of-type {\n",
       "        vertical-align: middle;\n",
       "    }\n",
       "\n",
       "    .dataframe tbody tr th {\n",
       "        vertical-align: top;\n",
       "    }\n",
       "\n",
       "    .dataframe thead th {\n",
       "        text-align: right;\n",
       "    }\n",
       "</style>\n",
       "<table border=\"1\" class=\"dataframe\">\n",
       "  <thead>\n",
       "    <tr style=\"text-align: right;\">\n",
       "      <th></th>\n",
       "      <th>amostras</th>\n",
       "    </tr>\n",
       "  </thead>\n",
       "  <tbody>\n",
       "    <tr>\n",
       "      <th>0</th>\n",
       "      <td>19.8</td>\n",
       "    </tr>\n",
       "    <tr>\n",
       "      <th>1</th>\n",
       "      <td>18.5</td>\n",
       "    </tr>\n",
       "    <tr>\n",
       "      <th>2</th>\n",
       "      <td>17.6</td>\n",
       "    </tr>\n",
       "    <tr>\n",
       "      <th>3</th>\n",
       "      <td>16.7</td>\n",
       "    </tr>\n",
       "    <tr>\n",
       "      <th>4</th>\n",
       "      <td>15.8</td>\n",
       "    </tr>\n",
       "  </tbody>\n",
       "</table>\n",
       "</div>"
      ]
     },
     "metadata": {},
     "execution_count": 39
    }
   ],
   "metadata": {}
  },
  {
   "cell_type": "code",
   "execution_count": 40,
   "source": [
    "n = 22\r\n",
    "graus_de_liberdade = n - 1\r\n",
    "confianca = 0.95\r\n",
    "significancia = 1 - confianca\r\n",
    "media_amostra = amostras['amostras'].mean()\r\n",
    "desvio_amostra = amostras['amostras'].std()"
   ],
   "outputs": [],
   "metadata": {}
  },
  {
   "cell_type": "code",
   "execution_count": 41,
   "source": [
    "t_alpha_2 = t_student.ppf(confianca + significancia / 2, graus_de_liberdade)\r\n",
    "t_alpha_2"
   ],
   "outputs": [
    {
     "output_type": "execute_result",
     "data": {
      "text/plain": [
       "2.079613844727662"
      ]
     },
     "metadata": {},
     "execution_count": 41
    }
   ],
   "metadata": {}
  },
  {
   "cell_type": "code",
   "execution_count": 42,
   "source": [
    "margem_de_erro = t_alpha_2 * (desvio_amostra / np.sqrt(n))\r\n",
    "margem_de_erro"
   ],
   "outputs": [
    {
     "output_type": "execute_result",
     "data": {
      "text/plain": [
       "1.57556721073202"
      ]
     },
     "metadata": {},
     "execution_count": 42
    }
   ],
   "metadata": {}
  },
  {
   "cell_type": "code",
   "execution_count": 43,
   "source": [
    "(media_amostra - margem_de_erro, media_amostra + margem_de_erro)"
   ],
   "outputs": [
    {
     "output_type": "execute_result",
     "data": {
      "text/plain": [
       "(12.138069152904343, 15.289203574368383)"
      ]
     },
     "metadata": {},
     "execution_count": 43
    }
   ],
   "metadata": {}
  },
  {
   "cell_type": "code",
   "execution_count": 44,
   "source": [
    "# com o scipy!!\r\n",
    "\r\n",
    "t_student.interval(confianca, loc=media_amostra, scale=desvio_amostra/np.sqrt(n), df=graus_de_liberdade)"
   ],
   "outputs": [
    {
     "output_type": "execute_result",
     "data": {
      "text/plain": [
       "(12.138069152904343, 15.289203574368383)"
      ]
     },
     "metadata": {},
     "execution_count": 44
    }
   ],
   "metadata": {}
  },
  {
   "cell_type": "markdown",
   "source": [
    "________\n",
    "________\n",
    "________\n",
    "## Testes de Hipóteses\n",
    "---"
   ],
   "metadata": {}
  },
  {
   "cell_type": "markdown",
   "source": [
    "1) Um fabricante de farinha afirma que a quantidade média de farinha nas embalagens de seu principal produto é de 500 g. Um teste de pesagem em 30 embalagens amostradas ao acaso mostrou um peso médio igual à 485 g. Estudos anteriores afirmam que a distribuição dos pesos segue uma normal e que o desvio padrão populacional é igual a 20 g. Considerando um nível de significância igual a 5%, responda as seguintes questões:\n",
    "\n",
    "1) Qual a hipótese nula a ser testada?\n",
    "\n",
    "2) Qual o valor da estatística de teste?\n",
    "\n",
    "3) Qual a conclusão do teste?"
   ],
   "metadata": {}
  },
  {
   "cell_type": "code",
   "execution_count": 45,
   "source": [
    "u0 = 500\r\n",
    "n = 30\r\n",
    "media_amostra = 485\r\n",
    "sigma = 20\r\n",
    "significancia = 0.05\r\n",
    "confianca = 1 - significancia"
   ],
   "outputs": [],
   "metadata": {}
  },
  {
   "cell_type": "markdown",
   "source": [
    "### Passo 1 - Definição das hipóteses\n",
    "\n",
    "$$\n",
    "    H_0: \\mu = 500 \\,g\n",
    "$$\n",
    "\n",
    "$$\n",
    "    H_1: \\mu \\neq 500 \\,g\n",
    "$$\n",
    "\n",
    "Logo, temos um teste **bilateral (ou bicaudal)**."
   ],
   "metadata": {}
  },
  {
   "cell_type": "code",
   "execution_count": 46,
   "source": [
    "z_alpha_2 = norm.ppf(confianca + (significancia / 2))\r\n",
    "z_alpha_2"
   ],
   "outputs": [
    {
     "output_type": "execute_result",
     "data": {
      "text/plain": [
       "1.959963984540054"
      ]
     },
     "metadata": {},
     "execution_count": 46
    }
   ],
   "metadata": {}
  },
  {
   "cell_type": "code",
   "execution_count": 47,
   "source": [
    "# Estatística de teste\r\n",
    "z = (media_amostra - u0) / (sigma / np.sqrt(n))\r\n",
    "z"
   ],
   "outputs": [
    {
     "output_type": "execute_result",
     "data": {
      "text/plain": [
       "-4.107919181288746"
      ]
     },
     "metadata": {},
     "execution_count": 47
    }
   ],
   "metadata": {}
  },
  {
   "cell_type": "markdown",
   "source": [
    "Tomando a decisão diretamente a partir da estatística de teste:"
   ],
   "metadata": {}
  },
  {
   "cell_type": "code",
   "execution_count": 48,
   "source": [
    "if z <= -z_alpha_2 or z >= z_alpha_2:\r\n",
    "    print(\"\\nRejeição da H_0!\")\r\n",
    "else:\r\n",
    "    print(\"\\nFalha em rejeitar H_0!\")"
   ],
   "outputs": [
    {
     "output_type": "stream",
     "name": "stdout",
     "text": [
      "\n",
      "Rejeição da H_0!\n"
     ]
    }
   ],
   "metadata": {}
  },
  {
   "cell_type": "markdown",
   "source": [
    "Com o p-value, como vimos em aula:"
   ],
   "metadata": {}
  },
  {
   "cell_type": "code",
   "execution_count": 49,
   "source": [
    "p_value = norm.cdf(z)*2\r\n",
    "\r\n",
    "p_value"
   ],
   "outputs": [
    {
     "output_type": "execute_result",
     "data": {
      "text/plain": [
       "3.992397476901338e-05"
      ]
     },
     "metadata": {},
     "execution_count": 49
    }
   ],
   "metadata": {}
  },
  {
   "cell_type": "code",
   "execution_count": 50,
   "source": [
    "if p_value > significancia:\r\n",
    "    print(\"\\nFalha em rejeitar H_0!\")\r\n",
    "else:\r\n",
    "    print(\"\\nRejeição da H_0!\")"
   ],
   "outputs": [
    {
     "output_type": "stream",
     "name": "stdout",
     "text": [
      "\n",
      "Rejeição da H_0!\n"
     ]
    }
   ],
   "metadata": {}
  },
  {
   "cell_type": "markdown",
   "source": [
    "Note que usamos a cdf ao invés da sf, pelo fato do z-score ser negativo, e termos um teste bicaudal!\n",
    "\n",
    "(Esse comentário vale tbm pra próxima questão)"
   ],
   "metadata": {}
  },
  {
   "cell_type": "markdown",
   "source": [
    "### Conclusão: Rejeita $H_0$."
   ],
   "metadata": {}
  },
  {
   "cell_type": "markdown",
   "source": [
    "---\n",
    "2) Considere novamente os dados do exercício anterior. Um fabricante de farinha afirma que a quantidade média de farinha nas embalagens de seu principal produto é de 500 g. Um teste de pesagem em 30 embalagens amostradas ao acaso mostrou um peso médio igual à 485 g. Estudos anteriores afirmam que a distribuição dos pesos segue uma normal e que o desvio padrão populacional é igual a 20 g. Com um nível de significância igual a 5%, teste a hipótese nula de que a média do processo é igual a 500 g e marque a alternativa que indica o p-valor do teste aplicado (considere somente 5 casas decimais)."
   ],
   "metadata": {}
  },
  {
   "cell_type": "code",
   "execution_count": 51,
   "source": [
    "p_value = norm.cdf(z) * 2\r\n",
    "\r\n",
    "p_value"
   ],
   "outputs": [
    {
     "output_type": "execute_result",
     "data": {
      "text/plain": [
       "3.992397476901338e-05"
      ]
     },
     "metadata": {},
     "execution_count": 51
    }
   ],
   "metadata": {}
  },
  {
   "cell_type": "markdown",
   "source": [
    "---\n",
    "3) A empresa Limpa Esgoto garante ser capaz de realizar o tratamento de esgoto e obter, no máximo, 150 g de impurezas para cada mil litros de esgoto tratado. Vinte amostras de mil litros de esgoto apresentaram, em média, 230 g de impurezas e desvio padrão amostral igual a 90 g.\n",
    "\n",
    "Assumindo alfa igual a 5% e população normalmente distribuída, seria possível discordar da empresa Limpa Esgoto? Assinale a alternativa que apresenta a estatística de teste e a decisão correta do teste."
   ],
   "metadata": {}
  },
  {
   "cell_type": "markdown",
   "source": [
    "### Definição das hipóteses\n",
    "\n",
    "$$\n",
    "    H_0: \\mu \\leq 150 \\, g\n",
    "$$\n",
    "\n",
    "$$\n",
    "    H_1 : \\mu > 150 \\,g\n",
    "$$"
   ],
   "metadata": {}
  },
  {
   "cell_type": "code",
   "execution_count": 52,
   "source": [
    "u = 150\r\n",
    "n = 20\r\n",
    "media_amostral = 230\r\n",
    "desvio_amostral = 90\r\n",
    "significancia = 0.05\r\n",
    "confianca = 1 - significancia\r\n",
    "graus_de_liberdade = n - 1"
   ],
   "outputs": [],
   "metadata": {}
  },
  {
   "cell_type": "markdown",
   "source": [
    "Como temos uma amostra pequena, devemos usar a distribuição t de Student!"
   ],
   "metadata": {}
  },
  {
   "cell_type": "code",
   "execution_count": 53,
   "source": [
    "t_alpha = t_student.ppf(confianca, graus_de_liberdade)\r\n",
    "t_alpha"
   ],
   "outputs": [
    {
     "output_type": "execute_result",
     "data": {
      "text/plain": [
       "1.729132811521367"
      ]
     },
     "metadata": {},
     "execution_count": 53
    }
   ],
   "metadata": {}
  },
  {
   "cell_type": "code",
   "execution_count": 54,
   "source": [
    "t = (media_amostral - u) / (desvio_amostral / np.sqrt(n))\r\n",
    "t"
   ],
   "outputs": [
    {
     "output_type": "execute_result",
     "data": {
      "text/plain": [
       "3.9752319599996264"
      ]
     },
     "metadata": {},
     "execution_count": 54
    }
   ],
   "metadata": {}
  },
  {
   "cell_type": "code",
   "execution_count": 55,
   "source": [
    "if (t <= t_alpha):\r\n",
    "    print('Aceitar H0')\r\n",
    "else:\r\n",
    "    print('Rejeitar H0')"
   ],
   "outputs": [
    {
     "output_type": "stream",
     "name": "stdout",
     "text": [
      "Rejeitar H0\n"
     ]
    }
   ],
   "metadata": {}
  },
  {
   "cell_type": "code",
   "execution_count": 56,
   "source": [
    "p_value = t_student.sf(t, graus_de_liberdade)\r\n",
    "p_value"
   ],
   "outputs": [
    {
     "output_type": "execute_result",
     "data": {
      "text/plain": [
       "0.0004053956380615249"
      ]
     },
     "metadata": {},
     "execution_count": 56
    }
   ],
   "metadata": {}
  },
  {
   "cell_type": "code",
   "execution_count": 57,
   "source": [
    "if (p_value <= significancia):\r\n",
    "    print('Rejeita H0')\r\n",
    "else:\r\n",
    "    print('Aceita H0')"
   ],
   "outputs": [
    {
     "output_type": "stream",
     "name": "stdout",
     "text": [
      "Rejeita H0\n"
     ]
    }
   ],
   "metadata": {}
  },
  {
   "cell_type": "markdown",
   "source": [
    "---\n",
    "4) A pizzaria Muito Queijo alega que a quantidade de queijo em suas pizzas tamanho família é de, no mínimo, 350 g. Uma amostra de 35 pizzas tamanho família revelou uma média de 330 g de queijo por pizza. O desvio padrão amostral foi de 80 g.\n",
    "\n",
    "Assumindo alfa igual a 5% e população normalmente distribuída, seria possível discordar da alegação da pizzaria? Assinale a alternativa que apresenta a estatística de teste e a decisão correta do teste."
   ],
   "metadata": {}
  },
  {
   "cell_type": "markdown",
   "source": [
    "### Definição das hipóteses\n",
    "\n",
    "$$\n",
    "    H_0: \\mu \\geq 350 \\, g\n",
    "$$\n",
    "\n",
    "$$\n",
    "    H_1 : \\mu < 350 \\,g\n",
    "$$"
   ],
   "metadata": {}
  },
  {
   "cell_type": "code",
   "execution_count": 58,
   "source": [
    "u0 = 350\r\n",
    "n = 35\r\n",
    "media_amostral = 330\r\n",
    "desvio_amostral = 80\r\n",
    "significancia = 0.05\r\n",
    "confianca = 1 - significancia"
   ],
   "outputs": [],
   "metadata": {}
  },
  {
   "cell_type": "code",
   "execution_count": 59,
   "source": [
    "# Estou utilizando a significancia para calcular o z_alpha, porque a região de aceitação do H0 está no\r\n",
    "# lado direito. Tente visualizar isso graficamente. ;)\r\n",
    "\r\n",
    "z_alpha = norm.ppf(significancia)\r\n",
    "z_alpha"
   ],
   "outputs": [
    {
     "output_type": "execute_result",
     "data": {
      "text/plain": [
       "-1.6448536269514729"
      ]
     },
     "metadata": {},
     "execution_count": 59
    }
   ],
   "metadata": {}
  },
  {
   "cell_type": "code",
   "execution_count": 60,
   "source": [
    "z = (media_amostral - u0) / (desvio_amostral / np.sqrt(n))\r\n",
    "z"
   ],
   "outputs": [
    {
     "output_type": "execute_result",
     "data": {
      "text/plain": [
       "-1.479019945774904"
      ]
     },
     "metadata": {},
     "execution_count": 60
    }
   ],
   "metadata": {}
  },
  {
   "cell_type": "code",
   "execution_count": 61,
   "source": [
    "if (z <= z_alpha):\r\n",
    "    print('Rejeita H0')\r\n",
    "else:\r\n",
    "    print('Aceita H0')"
   ],
   "outputs": [
    {
     "output_type": "stream",
     "name": "stdout",
     "text": [
      "Aceita H0\n"
     ]
    }
   ],
   "metadata": {}
  },
  {
   "cell_type": "code",
   "execution_count": 62,
   "source": [
    "p_value = norm.cdf(z)\r\n",
    "p_value"
   ],
   "outputs": [
    {
     "output_type": "execute_result",
     "data": {
      "text/plain": [
       "0.06956749203409206"
      ]
     },
     "metadata": {},
     "execution_count": 62
    }
   ],
   "metadata": {}
  },
  {
   "cell_type": "code",
   "execution_count": 63,
   "source": [
    "if (p_value <= significancia):\r\n",
    "    print('Rejeita H0')\r\n",
    "else:\r\n",
    "    print('Aceita H0')"
   ],
   "outputs": [
    {
     "output_type": "stream",
     "name": "stdout",
     "text": [
      "Aceita H0\n"
     ]
    }
   ],
   "metadata": {}
  },
  {
   "cell_type": "markdown",
   "source": [
    "---\n",
    "5) Um fabricante de cosméticos afirma que a adição de um novo composto químico em sua linha de shampoos consegue promover em mais de 2 centímetros o crescimento dos fios de cabelo em um período de 60 dias. Duas amostras de pessoas foram selecionadas e testadas, uma utilizando o shampoo novo (com o composto) e a outra com o shampoo antigo (sem o composto).\n",
    "\n",
    "Os resultados (crescimento dos fios de cabelo em centímetros) podem ser verificados na tabela abaixo:\n",
    "\n",
    "<img src=\"https://s3-sa-east-1.amazonaws.com/lcpi/e011f67a-2e02-44f1-bd48-3b37e3067583.png\" style=\"display: block; margin: 0 auto\" />\n",
    "\n",
    "Assumindo um nível de confiança de 95% e considerando que as populações se distribuem como uma normal, podemos acreditar na afirmação do fabricante do shampoo? Assinale a alternativa que apresenta a estatística de teste e a decisão correta do teste.\n",
    "\n",
    "______\n",
    "\n",
    "Um pouco mais de teoria: como se trata de um problema um pouco diferente do apresentado em nossa aula, vamos esclarecer alguns pontos para ajudar na solução:\n",
    "\n",
    "1) Em testes entre duas amostras, quando realizamos a escolha da distribuição amostral adequada (passo 2) e perguntamos se n ≥ 30, temos que considerar que $n = n_1 + n_2$, onde n1 é o tamanho da primeira amostra e $n_2$ o tamanho da segunda;\n",
    "\n",
    "2) Quando $n_1 + n_2 \\geq 30$, utilizamos z (normal), e quando $n_1 + n_2 < 30$, $\\sigma$ não for conhecido e as populações forem normalmente distribuídas, utilizamos t (t-Student);\n",
    "\n",
    "3) Quando utilizamos a tabela t de Student, em teste de duas amostras, os graus de liberdade são obtidos da seguinte forma: $n_1 + n_2 - 2$;\n",
    "\n",
    "4) Quando o problema nos pergunta se podemos acreditar na afirmação do fabricante, está nos indicando o que devemos testar, ou seja, nossas hipóteses são:\n",
    "\n",
    "$$\n",
    "    H_0: \\mu_1 - \\mu_2 \\leq 2 \\ (m_0)\n",
    "$$\n",
    "\n",
    "$$\n",
    "    H_1 : \\mu_1 - \\mu_2 > 2 \\ (m_0)\n",
    "$$\n",
    "\n",
    "\n",
    "\n",
    "Onde:\n",
    "\n",
    "$\\mu_1$ : Crescimento médio dos cabelos com o uso do novo shampoo<br>\n",
    "$\\mu_2$ : Crescimento médio dos cabelos com o uso do shampoo antigo<br>\n",
    "$m_0$ : diferença das médias, que na hipótese nula é assumida como sendo 2."
   ],
   "metadata": {}
  },
  {
   "cell_type": "code",
   "execution_count": 64,
   "source": [
    "from scipy.stats import t as t_student\r\n",
    "import numpy as np\r\n",
    "import pandas as pd\r\n",
    "\r\n",
    "shampoo_Novo = pd.Series([3.4, 4.9, 2.8, 5.5, 3.7, 2.5, 4.3, 4.6, 3.7, 3.4])\r\n",
    "shampoo_Antigo = pd.Series([0.3, 1.2, 1.2, 1.7, 1.1, 0.6, 1.2, 1.5, 0.5, 0.7])\r\n",
    "\r\n",
    "media_A = shampoo_Novo.mean()\r\n",
    "desvio_padrao_A = shampoo_Novo.std()\r\n",
    "\r\n",
    "media_B = shampoo_Antigo.mean()\r\n",
    "desvio_padrao_B = shampoo_Antigo.std()\r\n",
    "\r\n",
    "significancia = 0.05\r\n",
    "confianca = 1 - significancia\r\n",
    "n_A = len(shampoo_Novo)\r\n",
    "n_B = len(shampoo_Antigo)\r\n",
    "m_0 = 2\r\n",
    "\r\n",
    "graus_de_liberdade = n_A + n_B - 2\r\n",
    "\r\n",
    "t_alpha = t_student.ppf(confianca, graus_de_liberdade)\r\n",
    "\r\n",
    "numerador = (media_A - media_B) - m_0\r\n",
    "denominador = np.sqrt((desvio_padrao_A ** 2 / n_A) + (desvio_padrao_B ** 2 / n_B))\r\n",
    "t = numerador / denominador\r\n",
    "\r\n",
    "print('t =', round(t, 4))\r\n",
    "\r\n",
    "if(t >= t_alpha):\r\n",
    "    print('Rejeitar H0')\r\n",
    "else:\r\n",
    "    print('Aceitar H0')"
   ],
   "outputs": [
    {
     "output_type": "stream",
     "name": "stdout",
     "text": [
      "t = 2.6646\n",
      "Rejeitar H0\n"
     ]
    }
   ],
   "metadata": {}
  },
  {
   "cell_type": "markdown",
   "source": [
    "Ou, usando o p-value:"
   ],
   "metadata": {}
  },
  {
   "cell_type": "code",
   "execution_count": 65,
   "source": [
    "p_value = t_student.sf(t, graus_de_liberdade)\r\n",
    "p_value"
   ],
   "outputs": [
    {
     "output_type": "execute_result",
     "data": {
      "text/plain": [
       "0.007896331117193027"
      ]
     },
     "metadata": {},
     "execution_count": 65
    }
   ],
   "metadata": {}
  },
  {
   "cell_type": "code",
   "execution_count": 66,
   "source": [
    "if (p_value <= significancia):\r\n",
    "    print('Rejeita H0')\r\n",
    "else:\r\n",
    "    print('Aceita H0')"
   ],
   "outputs": [
    {
     "output_type": "stream",
     "name": "stdout",
     "text": [
      "Rejeita H0\n"
     ]
    }
   ],
   "metadata": {}
  }
 ],
 "metadata": {
  "kernelspec": {
   "display_name": "Python 3",
   "language": "python",
   "name": "python3"
  },
  "language_info": {
   "codemirror_mode": {
    "name": "ipython",
    "version": 3
   },
   "file_extension": ".py",
   "mimetype": "text/x-python",
   "name": "python",
   "nbconvert_exporter": "python",
   "pygments_lexer": "ipython3",
   "version": "3.8.3"
  }
 },
 "nbformat": 4,
 "nbformat_minor": 4
}