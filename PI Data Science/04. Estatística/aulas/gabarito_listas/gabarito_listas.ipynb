{
 "cells": [
  {
   "cell_type": "markdown",
   "metadata": {},
   "source": [
    "# Gabarito das listas\n",
    "\n",
    "_______\n",
    "_______\n",
    "_______"
   ]
  },
  {
   "cell_type": "markdown",
   "metadata": {},
   "source": [
    "## Variáveis e Distribuições de Probabilidade\n",
    "---\n"
   ]
  },
  {
   "cell_type": "markdown",
   "metadata": {},
   "source": [
    "\n",
    "1) A alternativa correta é **Somente duas respostas são possíveis.**. Exemplo: verdadeiro ou falso; cara ou coroa; sucesso ou fracasso.\n",
    "\n",
    "_____"
   ]
  },
  {
   "cell_type": "markdown",
   "metadata": {},
   "source": [
    "\n",
    "2) A alternativa correta é **0.375**. Note que a expressão \"perfeitamente equilibrada\" indica que a moeda usada é honesta, ou seja, apresenta a mesma probabilidade de se obter cara ou coroa. O código abaixo é um exemplo de solução:"
   ]
  },
  {
   "cell_type": "code",
   "execution_count": 1,
   "metadata": {},
   "outputs": [
    {
     "data": {
      "text/plain": [
       "0.3750000000000001"
      ]
     },
     "execution_count": 1,
     "metadata": {},
     "output_type": "execute_result"
    }
   ],
   "source": [
    "from scipy.stats import binom\n",
    "\n",
    "# Probabilidade de sair COROA\n",
    "p = 1/2  \n",
    "\n",
    "# Total de lançamentos\n",
    "n = 4\n",
    "\n",
    "# Total de sucessos (faces COROA voltada para cima)\n",
    "k = 2      \n",
    "\n",
    "binom.pmf(k, n, p)"
   ]
  },
  {
   "cell_type": "markdown",
   "metadata": {},
   "source": [
    "---\n",
    "3) Um dado, perfeitamente equilibrado, é lançado para o alto dez vezes. Utilizando a distribuição binomial, obtenha a probabilidade de o dado cair com o número cinco voltado para cima pelo menos três vezes.\n",
    "\n",
    "Neste caso, podemos modelar o experimento como binomial, se assumirmos que:\n",
    "\n",
    "> Sucesso: sair face 5 (com probabilidade 1/6)\n",
    "\n",
    "> Fracasso: não sair face 5 (com probabilidade 5/6)\n",
    "\n",
    "Assim, podemos usar a distribuição binomial!\n",
    "\n",
    "Note que, \"sair 5 pelo menos 3 vezes\", é o complementar de sair o 5 pra cima 1 vez OU duaz vezes! Ou seja, $1 - P(x <= 2)$.\n",
    "\n",
    "Por isso, podemos usar a survival function! Ou, então, a cdf, mas lembrando de subtrair de 1!\n",
    "\n",
    "O código abaixo é uma forma de solução:"
   ]
  },
  {
   "cell_type": "code",
   "execution_count": 2,
   "metadata": {},
   "outputs": [
    {
     "data": {
      "text/plain": [
       "22.47732021287405"
      ]
     },
     "execution_count": 2,
     "metadata": {},
     "output_type": "execute_result"
    }
   ],
   "source": [
    "from scipy.stats import binom\n",
    "\n",
    "# Probabilidade de sair o número CINCO\n",
    "p = 1 / 6\n",
    "\n",
    "# Total de lançamentos\n",
    "n = 10      \n",
    "\n",
    "binom.sf(2, n, p)*100"
   ]
  },
  {
   "cell_type": "code",
   "execution_count": 3,
   "metadata": {},
   "outputs": [
    {
     "data": {
      "text/plain": [
       "22.47732021287404"
      ]
     },
     "execution_count": 3,
     "metadata": {},
     "output_type": "execute_result"
    }
   ],
   "source": [
    "(1 - binom.cdf(2, n, p))*100"
   ]
  },
  {
   "cell_type": "markdown",
   "metadata": {},
   "source": [
    "---\n",
    "4) Suponha que a probabilidade de um casal ter filhos com olhos azuis seja de 22%. Em 50 famílias, com 3 crianças cada uma, quantas podemos esperar que tenham dois filhos com olhos azuis?\n",
    "\n",
    "Vamos considerar um experimento binomial para a \"ocorrência de olhos azuis\". Esse é o \"sucesso\".\n",
    "\n",
    "A probabilidade de que UMA familia de 3 crianças (n), 2 tenham olhos azuis (k), é dada pela pmf da binomial.\n",
    "\n",
    "Se essa é a probabilidade de uma familia, mas há 50 familias independentes, basta multiplicar esta probabilidade pelo numero de familias (ou somar as 50 probabilidades)\n",
    "\n",
    "> A alternativa correta é **5.66** famílias. Segue um código com uma sugestão para solução:"
   ]
  },
  {
   "cell_type": "code",
   "execution_count": 4,
   "metadata": {},
   "outputs": [
    {
     "data": {
      "text/plain": [
       "5.662799999999999"
      ]
     },
     "execution_count": 4,
     "metadata": {},
     "output_type": "execute_result"
    }
   ],
   "source": [
    "from scipy.stats import binom\n",
    "\n",
    "p = 0.22\n",
    "n = 3\n",
    "k = 2\n",
    "\n",
    "# pra cada familia...\n",
    "probabilidade = binom.pmf(k, n, p)\n",
    "\n",
    "N = 50\n",
    "# numero de familias...\n",
    "N_familias = probabilidade * N\n",
    "\n",
    "N_familias"
   ]
  },
  {
   "cell_type": "markdown",
   "metadata": {},
   "source": [
    "---\n",
    "5) As alternativas abaixo descrevem as características básicas de um experimento Poisson. Marque aquela que está correta.\n",
    "\n",
    "> A alternativa correta é **\"O número de ocorrências em determinado intervalo é independente do número de ocorrências em outros intervalos\"**. A independência entre os experimentos é uma característica importante em cálculos de probabilidade."
   ]
  },
  {
   "cell_type": "markdown",
   "metadata": {},
   "source": [
    "---\n",
    "6) O número médio de clientes que entram em uma padaria por hora é igual a 20. Obtenha a probabilidade de, na próxima hora, entrarem exatamente 25 clientes.\n",
    "\n",
    "A resposta correta é **4.46%**. Segue o código de solução:"
   ]
  },
  {
   "cell_type": "code",
   "execution_count": 5,
   "metadata": {},
   "outputs": [
    {
     "name": "stdout",
     "output_type": "stream",
     "text": [
      "4.46%\n"
     ]
    }
   ],
   "source": [
    "from scipy.stats import poisson\n",
    "\n",
    "media = 20\n",
    "k = 25\n",
    "\n",
    "probabilidade = poisson.pmf(k, media)\n",
    "\n",
    "print(\"{0:.2%}\".format(probabilidade))"
   ]
  },
  {
   "cell_type": "markdown",
   "metadata": {},
   "source": [
    "---\n",
    "7) Sobre a distribuição normal, avalie as afirmativas abaixo:\n",
    "\n",
    "1. A distribuição normal é definida por sua média e desvio padrão\n",
    "2. A distribuição normal é simétrica em torno da média\n",
    "3. O desvio padrão define o achatamento e largura da curva da distribuição normal\n",
    "\n",
    "Quais estão corretas?"
   ]
  },
  {
   "cell_type": "markdown",
   "metadata": {},
   "source": [
    "> A alternativa correta é **\"Todas as afirmativas estão corretas\"**. "
   ]
  },
  {
   "cell_type": "markdown",
   "metadata": {},
   "source": [
    "---\n",
    "8) A aplicação de uma prova de estatística em um concurso apresentou um conjunto de notas normalmente distribuídas. Verificou-se que o conjunto de notas tinha média 70 e desvio padrão de 5 pontos.\n",
    "\n",
    "Qual a probabilidade de um aluno, selecionado ao acaso, ter nota menor que 85?\n",
    "\n",
    "> Resposta correta: **99.86%**. Segue a sugestão para solução, usando o z-score pra calular a probabilidade direto da distruibuião normal com media zero e std 1:"
   ]
  },
  {
   "cell_type": "code",
   "execution_count": 6,
   "metadata": {},
   "outputs": [
    {
     "name": "stdout",
     "output_type": "stream",
     "text": [
      "99.87%\n"
     ]
    }
   ],
   "source": [
    "from scipy.stats import norm\n",
    "\n",
    "media = 70\n",
    "desvio_padrao = 5\n",
    "\n",
    "Z = (85 - media) / desvio_padrao\n",
    "\n",
    "prob = norm.cdf(Z)\n",
    "print(\"{0:.2%}\".format(prob))"
   ]
  },
  {
   "cell_type": "markdown",
   "metadata": {},
   "source": [
    "---\n",
    "9) O faturamento diário de um motorista de aplicativo segue uma distribuição aproximadamente normal, com média R\\\\$ 300,00 e desvio padrão igual a R\\\\$ 50,00. Obtenha as probabilidades de que, em um dia aleatório, o motorista ganhe:\n",
    "\n",
    "1. Entre R\\\\$ 250,00 e R\\\\$ 350,00\n",
    "2. Entre R\\\\$ 400,00 e R\\\\$ 500,00"
   ]
  },
  {
   "cell_type": "markdown",
   "metadata": {},
   "source": [
    "> Reposta correta: **1) 68,27%; 2) 2,27%**. Os códigos abaixo exemplificam a solução do problema:"
   ]
  },
  {
   "cell_type": "code",
   "execution_count": 7,
   "metadata": {},
   "outputs": [
    {
     "name": "stdout",
     "output_type": "stream",
     "text": [
      "68.27%\n"
     ]
    }
   ],
   "source": [
    "# 1\n",
    "\n",
    "from scipy.stats import norm\n",
    "\n",
    "media = 300\n",
    "desvio_padrao = 50\n",
    "\n",
    "Z_inferior = (250 - media) / desvio_padrao\n",
    "Z_superior = (350 - media) / desvio_padrao\n",
    "\n",
    "probabilidade = norm.cdf(Z_superior) - norm.cdf(Z_inferior)\n",
    "print(\"{0:.2%}\".format(probabilidade))"
   ]
  },
  {
   "cell_type": "code",
   "execution_count": 8,
   "metadata": {},
   "outputs": [
    {
     "name": "stdout",
     "output_type": "stream",
     "text": [
      "2.27%\n"
     ]
    }
   ],
   "source": [
    "# 2\n",
    "\n",
    "from scipy.stats import norm\n",
    "\n",
    "media = 300\n",
    "desvio_padrao = 50\n",
    "\n",
    "Z_inferior = (400 - media) / desvio_padrao\n",
    "Z_superior = (500 - media) / desvio_padrao\n",
    "\n",
    "probabilidade = norm.cdf(Z_superior) - norm.cdf(Z_inferior)\n",
    "print(\"{0:.2%}\".format(probabilidade))"
   ]
  },
  {
   "cell_type": "markdown",
   "metadata": {},
   "source": [
    "---\n",
    "10) O Inmetro verificou que as lâmpadas incandescentes da fabricante XPTO apresentam uma vida útil normalmente distribuída, com média igual a 720 dias e desvio padrão igual a 30 dias. Calcule a probabilidade de uma lâmpada, escolhida ao acaso, durar:\n",
    "\n",
    "1. Entre 650 e 750 dias\n",
    "2. Mais que 800 dias\n",
    "3. Menos que 700 dias"
   ]
  },
  {
   "cell_type": "markdown",
   "metadata": {},
   "source": [
    "> Resposta correta: **1) 83,15%; 2) 0,38%; 3) 25,25%**. Segue uma opção de solução deste problema:"
   ]
  },
  {
   "cell_type": "code",
   "execution_count": 9,
   "metadata": {},
   "outputs": [
    {
     "name": "stdout",
     "output_type": "stream",
     "text": [
      "1) 83.15%\n",
      "2) 0.38%\n",
      "3) 25.25%\n"
     ]
    }
   ],
   "source": [
    "from scipy.stats import norm\n",
    "\n",
    "media = 720\n",
    "desvio_padrao = 30\n",
    "\n",
    "# Item A\n",
    "Z_inferior = (650 - media) / desvio_padrao\n",
    "Z_superior = (750 - media) / desvio_padrao\n",
    "\n",
    "probabilidade = norm.cdf(Z_superior) - norm.cdf(Z_inferior)\n",
    "print(\"1) {0:.2%}\".format(probabilidade))\n",
    "\n",
    "# Item B\n",
    "Z = (800 - media) / desvio_padrao\n",
    "\n",
    "probabilidade = 1 - norm.cdf(Z)\n",
    "print(\"2) {0:.2%}\".format(probabilidade))\n",
    "\n",
    "# Item C\n",
    "Z = (700 - media) / desvio_padrao\n",
    "\n",
    "probabilidade = norm.cdf(Z)\n",
    "print(\"3) {0:.2%}\".format(probabilidade))"
   ]
  },
  {
   "cell_type": "markdown",
   "metadata": {},
   "source": [
    "__________\n",
    "__________\n",
    "__________"
   ]
  },
  {
   "cell_type": "markdown",
   "metadata": {},
   "source": [
    "## Intervalos de Confiança\n",
    "---"
   ]
  },
  {
   "cell_type": "code",
   "execution_count": 10,
   "metadata": {},
   "outputs": [],
   "source": [
    "import numpy as np\n",
    "import pandas as pd\n",
    "from scipy.stats import norm\n",
    "from scipy.stats import t as t_student"
   ]
  },
  {
   "cell_type": "markdown",
   "metadata": {},
   "source": [
    "1) Se uma amostra aleatória $n=250$, tem uma média amostral de 51,3 e uma desvio padrão populacional de $\\sigma=2$. Construa o intervalo com 95% de confiança para a média populacional $\\mu$. "
   ]
  },
  {
   "cell_type": "code",
   "execution_count": 11,
   "metadata": {},
   "outputs": [],
   "source": [
    "n = 250\n",
    "media_amostral = 51.3\n",
    "sigma = 2\n",
    "confianca = 0.95\n",
    "significancia = 1 - confianca"
   ]
  },
  {
   "cell_type": "code",
   "execution_count": 12,
   "metadata": {},
   "outputs": [
    {
     "data": {
      "text/plain": [
       "1.959963984540054"
      ]
     },
     "execution_count": 12,
     "metadata": {},
     "output_type": "execute_result"
    }
   ],
   "source": [
    "z_alpha_2 = norm.ppf(confianca + significancia / 2)\n",
    "z_alpha_2"
   ]
  },
  {
   "cell_type": "code",
   "execution_count": 13,
   "metadata": {},
   "outputs": [
    {
     "data": {
      "text/plain": [
       "0.24791801292182464"
      ]
     },
     "execution_count": 13,
     "metadata": {},
     "output_type": "execute_result"
    }
   ],
   "source": [
    "erro = z_alpha_2 * sigma / np.sqrt(n)\n",
    "erro"
   ]
  },
  {
   "cell_type": "code",
   "execution_count": 14,
   "metadata": {},
   "outputs": [
    {
     "name": "stdout",
     "output_type": "stream",
     "text": [
      "Intervalo de confiança da média: (51.052081987078175, 51.54791801292182)\n"
     ]
    }
   ],
   "source": [
    "print('Intervalo de confiança da média:', (media_amostral - erro, media_amostral + erro))"
   ]
  },
  {
   "cell_type": "code",
   "execution_count": 15,
   "metadata": {},
   "outputs": [
    {
     "data": {
      "text/plain": [
       "(51.052081987078175, 51.54791801292182)"
      ]
     },
     "execution_count": 15,
     "metadata": {},
     "output_type": "execute_result"
    }
   ],
   "source": [
    "# dá pra fazer direto com o scipy, hehehe\n",
    "# (é parecida com a função que implementamos na aula, mas direto do scipy! :D)\n",
    "\n",
    "norm.interval(confianca, loc=media_amostral, scale=sigma/np.sqrt(n))"
   ]
  },
  {
   "cell_type": "markdown",
   "metadata": {},
   "source": [
    "---\n",
    "2) Sabe-se que a vida em horas de um bulbo de lâmpada de 75 W é distribuída de forma aproximadamente normal com desvio padrão de $\\sigma = 25$. Uma amostra aleatória de 200 bulbos tem uma vida media de 1.014 horas. Construa um intervalo de confiança de 95% para a vida média."
   ]
  },
  {
   "cell_type": "code",
   "execution_count": 16,
   "metadata": {},
   "outputs": [],
   "source": [
    "sigma = 25\n",
    "n = 200\n",
    "media_amostral = 1014\n",
    "confianca = 0.95\n",
    "significancia = 1 - confianca"
   ]
  },
  {
   "cell_type": "code",
   "execution_count": 17,
   "metadata": {},
   "outputs": [
    {
     "data": {
      "text/plain": [
       "1.959963984540054"
      ]
     },
     "execution_count": 17,
     "metadata": {},
     "output_type": "execute_result"
    }
   ],
   "source": [
    "z_alpha_2 = norm.ppf(confianca + significancia / 2)\n",
    "z_alpha_2"
   ]
  },
  {
   "cell_type": "code",
   "execution_count": 18,
   "metadata": {},
   "outputs": [
    {
     "data": {
      "text/plain": [
       "3.464759560874194"
      ]
     },
     "execution_count": 18,
     "metadata": {},
     "output_type": "execute_result"
    }
   ],
   "source": [
    "erro = z_alpha_2 * sigma / np.sqrt(n)\n",
    "erro"
   ]
  },
  {
   "cell_type": "code",
   "execution_count": 19,
   "metadata": {},
   "outputs": [
    {
     "name": "stdout",
     "output_type": "stream",
     "text": [
      "Intervalo de confiança da média: (1010.5352404391258, 1017.4647595608742)\n"
     ]
    }
   ],
   "source": [
    "print('Intervalo de confiança da média:', (media_amostral - erro, media_amostral + erro))"
   ]
  },
  {
   "cell_type": "code",
   "execution_count": 20,
   "metadata": {},
   "outputs": [
    {
     "data": {
      "text/plain": [
       "(1010.5352404391258, 1017.4647595608742)"
      ]
     },
     "execution_count": 20,
     "metadata": {},
     "output_type": "execute_result"
    }
   ],
   "source": [
    "# com o scipy...\n",
    "\n",
    "norm.interval(confianca, loc=media_amostral, scale=sigma/np.sqrt(n))"
   ]
  },
  {
   "cell_type": "markdown",
   "metadata": {},
   "source": [
    "---\n",
    "3) Qual deve ser o tamanho da amostra para que o intervalo com 99,5% de confiança para a média populacional tenha uma semi-amplitude (ou erro) não superior a 1,5? Sabe-se que a variância populacional é de 23."
   ]
  },
  {
   "cell_type": "code",
   "execution_count": 21,
   "metadata": {},
   "outputs": [],
   "source": [
    "confianca = 0.995\n",
    "significancia = 1 - confianca\n",
    "max_erro = 1.5\n",
    "sigma = np.sqrt(23)"
   ]
  },
  {
   "cell_type": "code",
   "execution_count": 22,
   "metadata": {},
   "outputs": [
    {
     "data": {
      "text/plain": [
       "2.807033768343811"
      ]
     },
     "execution_count": 22,
     "metadata": {},
     "output_type": "execute_result"
    }
   ],
   "source": [
    "z_alpha_2 = norm.ppf(confianca + significancia / 2)\n",
    "z_alpha_2"
   ]
  },
  {
   "cell_type": "code",
   "execution_count": 23,
   "metadata": {},
   "outputs": [
    {
     "data": {
      "text/plain": [
       "80.54537211658509"
      ]
     },
     "execution_count": 23,
     "metadata": {},
     "output_type": "execute_result"
    }
   ],
   "source": [
    "n = (z_alpha_2 * sigma / max_erro)**2\n",
    "n"
   ]
  },
  {
   "cell_type": "code",
   "execution_count": 24,
   "metadata": {},
   "outputs": [
    {
     "name": "stdout",
     "output_type": "stream",
     "text": [
      "81 elementos\n"
     ]
    }
   ],
   "source": [
    "n = int(np.ceil(n))\n",
    "print(n, 'elementos')"
   ]
  },
  {
   "cell_type": "markdown",
   "metadata": {},
   "source": [
    "---\n",
    "4) Uma marca particular de margarina diet foi analisada para determinar o nível em porcentagem de ácidos graxos insaturados. Uma amostra de seis pacotes resultou nos seguintes dados: 16,8; 17,2; 17,4; 16,9; 16,5 e 17,1. Encontre o intervalo de confiança de 99% para a amostra."
   ]
  },
  {
   "cell_type": "code",
   "execution_count": 25,
   "metadata": {},
   "outputs": [],
   "source": [
    "amostras = [16.8, 17.2, 17.4, 16.9, 16.5, 17.1]"
   ]
  },
  {
   "cell_type": "code",
   "execution_count": 26,
   "metadata": {},
   "outputs": [],
   "source": [
    "amostra = pd.DataFrame({'amostra': amostras})"
   ]
  },
  {
   "cell_type": "code",
   "execution_count": 27,
   "metadata": {},
   "outputs": [
    {
     "data": {
      "text/html": [
       "<div>\n",
       "<style scoped>\n",
       "    .dataframe tbody tr th:only-of-type {\n",
       "        vertical-align: middle;\n",
       "    }\n",
       "\n",
       "    .dataframe tbody tr th {\n",
       "        vertical-align: top;\n",
       "    }\n",
       "\n",
       "    .dataframe thead th {\n",
       "        text-align: right;\n",
       "    }\n",
       "</style>\n",
       "<table border=\"1\" class=\"dataframe\">\n",
       "  <thead>\n",
       "    <tr style=\"text-align: right;\">\n",
       "      <th></th>\n",
       "      <th>amostra</th>\n",
       "    </tr>\n",
       "  </thead>\n",
       "  <tbody>\n",
       "    <tr>\n",
       "      <th>0</th>\n",
       "      <td>16.8</td>\n",
       "    </tr>\n",
       "    <tr>\n",
       "      <th>1</th>\n",
       "      <td>17.2</td>\n",
       "    </tr>\n",
       "    <tr>\n",
       "      <th>2</th>\n",
       "      <td>17.4</td>\n",
       "    </tr>\n",
       "    <tr>\n",
       "      <th>3</th>\n",
       "      <td>16.9</td>\n",
       "    </tr>\n",
       "    <tr>\n",
       "      <th>4</th>\n",
       "      <td>16.5</td>\n",
       "    </tr>\n",
       "    <tr>\n",
       "      <th>5</th>\n",
       "      <td>17.1</td>\n",
       "    </tr>\n",
       "  </tbody>\n",
       "</table>\n",
       "</div>"
      ],
      "text/plain": [
       "   amostra\n",
       "0     16.8\n",
       "1     17.2\n",
       "2     17.4\n",
       "3     16.9\n",
       "4     16.5\n",
       "5     17.1"
      ]
     },
     "execution_count": 27,
     "metadata": {},
     "output_type": "execute_result"
    }
   ],
   "source": [
    "amostra"
   ]
  },
  {
   "cell_type": "code",
   "execution_count": 28,
   "metadata": {},
   "outputs": [],
   "source": [
    "confianca = 0.99\n",
    "significancia = 1 - confianca\n",
    "media_amostral = amostra['amostra'].mean()\n",
    "desvio_amostral = amostra['amostra'].std()\n",
    "n = amostra.shape[0]\n",
    "graus_de_liberdade = n - 1"
   ]
  },
  {
   "cell_type": "code",
   "execution_count": 29,
   "metadata": {},
   "outputs": [
    {
     "data": {
      "text/plain": [
       "4.032142983557536"
      ]
     },
     "execution_count": 29,
     "metadata": {},
     "output_type": "execute_result"
    }
   ],
   "source": [
    "t_alpha_2 = t_student.ppf(confianca + significancia / 2, graus_de_liberdade)\n",
    "t_alpha_2"
   ]
  },
  {
   "cell_type": "code",
   "execution_count": 30,
   "metadata": {},
   "outputs": [
    {
     "data": {
      "text/plain": [
       "0.5248673905089918"
      ]
     },
     "execution_count": 30,
     "metadata": {},
     "output_type": "execute_result"
    }
   ],
   "source": [
    "erro = t_alpha_2 * desvio_amostral / np.sqrt(n)\n",
    "erro"
   ]
  },
  {
   "cell_type": "code",
   "execution_count": 31,
   "metadata": {},
   "outputs": [
    {
     "name": "stdout",
     "output_type": "stream",
     "text": [
      "Intervalo de confiança da média: (16.458465942824343, 17.508200723842325)\n"
     ]
    }
   ],
   "source": [
    "print('Intervalo de confiança da média:', (media_amostral - erro, media_amostral + erro))"
   ]
  },
  {
   "cell_type": "code",
   "execution_count": 32,
   "metadata": {},
   "outputs": [
    {
     "data": {
      "text/plain": [
       "(16.458465942824343, 17.508200723842325)"
      ]
     },
     "execution_count": 32,
     "metadata": {},
     "output_type": "execute_result"
    }
   ],
   "source": [
    "# com o scipy...\n",
    "t_student.interval(confianca, loc=media_amostral, scale=desvio_amostral/np.sqrt(n), df=graus_de_liberdade)"
   ]
  },
  {
   "cell_type": "markdown",
   "metadata": {},
   "source": [
    "---\n",
    "5) Uma amostra piloto com 12 elementos tem média de 6,7 e desvio padrão de 1,7. Qual deve ser o tamanho da amostra para que a semi amplitude do intervalo de 99,5% de confiança da média populacional não seja superior a 0,8."
   ]
  },
  {
   "cell_type": "code",
   "execution_count": 33,
   "metadata": {},
   "outputs": [],
   "source": [
    "n = 12\n",
    "media_amostral = 6.7\n",
    "desvio_amostral = 1.7\n",
    "max_erro = 0.8\n",
    "confianca = 0.995\n",
    "significancia = 1 - confianca\n",
    "graus_de_liberdade = n - 1"
   ]
  },
  {
   "cell_type": "code",
   "execution_count": 34,
   "metadata": {},
   "outputs": [
    {
     "data": {
      "text/plain": [
       "3.496614176741801"
      ]
     },
     "execution_count": 34,
     "metadata": {},
     "output_type": "execute_result"
    }
   ],
   "source": [
    "t_alpha_2 = t_student.ppf(confianca + significancia / 2, df=graus_de_liberdade)\n",
    "t_alpha_2"
   ]
  },
  {
   "cell_type": "code",
   "execution_count": 35,
   "metadata": {},
   "outputs": [
    {
     "data": {
      "text/plain": [
       "55.20943425916582"
      ]
     },
     "execution_count": 35,
     "metadata": {},
     "output_type": "execute_result"
    }
   ],
   "source": [
    "n = (t_alpha_2 * desvio_amostral / max_erro)**2\n",
    "n"
   ]
  },
  {
   "cell_type": "code",
   "execution_count": 36,
   "metadata": {},
   "outputs": [
    {
     "name": "stdout",
     "output_type": "stream",
     "text": [
      "56 elementos\n"
     ]
    }
   ],
   "source": [
    "n = int(np.ceil(n))\n",
    "print(n, 'elementos')"
   ]
  },
  {
   "cell_type": "markdown",
   "metadata": {},
   "source": [
    "---\n",
    "6) Calcular o intervalo de confiança\n",
    "de 95% para a seguinte amostra,\n",
    "com variância populacional\n",
    "desconhecida:\n",
    "\n",
    "```\n",
    "19,8; 18,5; 17,6; 16,7; 15,8; 15,4; 14,1; 13,6; 11,9; 11,4; 11,4; 8,8; 7,5; 15,4; 15,4; 19,5; 14,9; 12,7; 11,9; 11,4; 10,1; 7,9\n",
    "```"
   ]
  },
  {
   "cell_type": "code",
   "execution_count": 37,
   "metadata": {},
   "outputs": [],
   "source": [
    "amostras = [19.8, 18.5, 17.6, 16.7, 15.8, 15.4, 14.1, 13.6, 11.9, 11.4, 11.4, 8.8, 7.5, 15.4, 15.4, 19.5, 14.9, 12.7, 11.9, 11.4, 10.1, 7.9]"
   ]
  },
  {
   "cell_type": "code",
   "execution_count": 38,
   "metadata": {},
   "outputs": [],
   "source": [
    "amostras = pd.DataFrame({'amostras': amostras})"
   ]
  },
  {
   "cell_type": "code",
   "execution_count": 39,
   "metadata": {},
   "outputs": [
    {
     "data": {
      "text/html": [
       "<div>\n",
       "<style scoped>\n",
       "    .dataframe tbody tr th:only-of-type {\n",
       "        vertical-align: middle;\n",
       "    }\n",
       "\n",
       "    .dataframe tbody tr th {\n",
       "        vertical-align: top;\n",
       "    }\n",
       "\n",
       "    .dataframe thead th {\n",
       "        text-align: right;\n",
       "    }\n",
       "</style>\n",
       "<table border=\"1\" class=\"dataframe\">\n",
       "  <thead>\n",
       "    <tr style=\"text-align: right;\">\n",
       "      <th></th>\n",
       "      <th>amostras</th>\n",
       "    </tr>\n",
       "  </thead>\n",
       "  <tbody>\n",
       "    <tr>\n",
       "      <th>0</th>\n",
       "      <td>19.8</td>\n",
       "    </tr>\n",
       "    <tr>\n",
       "      <th>1</th>\n",
       "      <td>18.5</td>\n",
       "    </tr>\n",
       "    <tr>\n",
       "      <th>2</th>\n",
       "      <td>17.6</td>\n",
       "    </tr>\n",
       "    <tr>\n",
       "      <th>3</th>\n",
       "      <td>16.7</td>\n",
       "    </tr>\n",
       "    <tr>\n",
       "      <th>4</th>\n",
       "      <td>15.8</td>\n",
       "    </tr>\n",
       "  </tbody>\n",
       "</table>\n",
       "</div>"
      ],
      "text/plain": [
       "   amostras\n",
       "0      19.8\n",
       "1      18.5\n",
       "2      17.6\n",
       "3      16.7\n",
       "4      15.8"
      ]
     },
     "execution_count": 39,
     "metadata": {},
     "output_type": "execute_result"
    }
   ],
   "source": [
    "amostras.head()"
   ]
  },
  {
   "cell_type": "code",
   "execution_count": 40,
   "metadata": {},
   "outputs": [],
   "source": [
    "n = 22\n",
    "graus_de_liberdade = n - 1\n",
    "confianca = 0.95\n",
    "significancia = 1 - confianca\n",
    "media_amostra = amostras['amostras'].mean()\n",
    "desvio_amostra = amostras['amostras'].std()"
   ]
  },
  {
   "cell_type": "code",
   "execution_count": 41,
   "metadata": {},
   "outputs": [
    {
     "data": {
      "text/plain": [
       "2.079613844727662"
      ]
     },
     "execution_count": 41,
     "metadata": {},
     "output_type": "execute_result"
    }
   ],
   "source": [
    "t_alpha_2 = t_student.ppf(confianca + significancia / 2, graus_de_liberdade)\n",
    "t_alpha_2"
   ]
  },
  {
   "cell_type": "code",
   "execution_count": 42,
   "metadata": {},
   "outputs": [
    {
     "data": {
      "text/plain": [
       "1.57556721073202"
      ]
     },
     "execution_count": 42,
     "metadata": {},
     "output_type": "execute_result"
    }
   ],
   "source": [
    "margem_de_erro = t_alpha_2 * (desvio_amostra / np.sqrt(n))\n",
    "margem_de_erro"
   ]
  },
  {
   "cell_type": "code",
   "execution_count": 43,
   "metadata": {},
   "outputs": [
    {
     "data": {
      "text/plain": [
       "(12.138069152904343, 15.289203574368383)"
      ]
     },
     "execution_count": 43,
     "metadata": {},
     "output_type": "execute_result"
    }
   ],
   "source": [
    "(media_amostra - margem_de_erro, media_amostra + margem_de_erro)"
   ]
  },
  {
   "cell_type": "code",
   "execution_count": 44,
   "metadata": {},
   "outputs": [
    {
     "data": {
      "text/plain": [
       "(12.138069152904343, 15.289203574368383)"
      ]
     },
     "execution_count": 44,
     "metadata": {},
     "output_type": "execute_result"
    }
   ],
   "source": [
    "# com o scipy!!\n",
    "\n",
    "t_student.interval(confianca, loc=media_amostra, scale=desvio_amostra/np.sqrt(n), df=graus_de_liberdade)"
   ]
  },
  {
   "cell_type": "markdown",
   "metadata": {},
   "source": [
    "________\n",
    "________\n",
    "________\n",
    "## Testes de Hipóteses\n",
    "---"
   ]
  },
  {
   "cell_type": "markdown",
   "metadata": {},
   "source": [
    "1) Um fabricante de farinha afirma que a quantidade média de farinha nas embalagens de seu principal produto é de 500 g. Um teste de pesagem em 30 embalagens amostradas ao acaso mostrou um peso médio igual à 485 g. Estudos anteriores afirmam que a distribuição dos pesos segue uma normal e que o desvio padrão populacional é igual a 20 g. Considerando um nível de significância igual a 5%, responda as seguintes questões:\n",
    "\n",
    "1) Qual a hipótese nula a ser testada?\n",
    "\n",
    "2) Qual o valor da estatística de teste?\n",
    "\n",
    "3) Qual a conclusão do teste?"
   ]
  },
  {
   "cell_type": "code",
   "execution_count": 45,
   "metadata": {},
   "outputs": [],
   "source": [
    "u0 = 500\n",
    "n = 30\n",
    "media_amostra = 485\n",
    "sigma = 20\n",
    "significancia = 0.05\n",
    "confianca = 1 - significancia"
   ]
  },
  {
   "cell_type": "markdown",
   "metadata": {},
   "source": [
    "### Passo 1 - Definição das hipóteses\n",
    "\n",
    "$$\n",
    "    H_0: \\mu = 500 \\,g\n",
    "$$\n",
    "\n",
    "$$\n",
    "    H_1: \\mu \\neq 500 \\,g\n",
    "$$\n",
    "\n",
    "Logo, temos um teste **bilateral (ou bicaudal)**."
   ]
  },
  {
   "cell_type": "code",
   "execution_count": 46,
   "metadata": {},
   "outputs": [
    {
     "data": {
      "text/plain": [
       "1.959963984540054"
      ]
     },
     "execution_count": 46,
     "metadata": {},
     "output_type": "execute_result"
    }
   ],
   "source": [
    "z_alpha_2 = norm.ppf(confianca + (significancia / 2))\n",
    "z_alpha_2"
   ]
  },
  {
   "cell_type": "code",
   "execution_count": 47,
   "metadata": {},
   "outputs": [
    {
     "data": {
      "text/plain": [
       "-4.107919181288746"
      ]
     },
     "execution_count": 47,
     "metadata": {},
     "output_type": "execute_result"
    }
   ],
   "source": [
    "# Estatística de teste\n",
    "z = (media_amostra - u0) / (sigma / np.sqrt(n))\n",
    "z"
   ]
  },
  {
   "cell_type": "markdown",
   "metadata": {},
   "source": [
    "Tomando a decisão diretamente a partir da estatística de teste:"
   ]
  },
  {
   "cell_type": "code",
   "execution_count": 48,
   "metadata": {},
   "outputs": [
    {
     "name": "stdout",
     "output_type": "stream",
     "text": [
      "Rejeição da H_0!\n"
     ]
    }
   ],
   "source": [
    "if z <= -z_alpha_2 or z >= z_alpha_2:\n",
    "    print(\"Rejeição da H_0!\")\n",
    "else:\n",
    "    print(\"Falha em rejeitar H_0!\")"
   ]
  },
  {
   "cell_type": "markdown",
   "metadata": {},
   "source": [
    "Com o p-value, como vimos em aula:"
   ]
  },
  {
   "cell_type": "code",
   "execution_count": 49,
   "metadata": {},
   "outputs": [
    {
     "data": {
      "text/plain": [
       "3.992397476901338e-05"
      ]
     },
     "execution_count": 49,
     "metadata": {},
     "output_type": "execute_result"
    }
   ],
   "source": [
    "p_value = norm.cdf(z)*2\n",
    "\n",
    "p_value"
   ]
  },
  {
   "cell_type": "code",
   "execution_count": 50,
   "metadata": {},
   "outputs": [
    {
     "name": "stdout",
     "output_type": "stream",
     "text": [
      "Rejeição da H_0!\n"
     ]
    }
   ],
   "source": [
    "if p_value < significancia:\n",
    "    print(\"Rejeição da H_0!\")\n",
    "else:\n",
    "    print(\"Falha em rejeitar H_0!\")"
   ]
  },
  {
   "cell_type": "markdown",
   "metadata": {},
   "source": [
    "Note que usamos a cdf ao invés da sf, pelo fato do z-score ser negativo, e termos um teste bicaudal!\n",
    "\n",
    "(Esse comentário vale tbm pra próxima questão)"
   ]
  },
  {
   "cell_type": "markdown",
   "metadata": {},
   "source": [
    "### Conclusão: Rejeita $H_0$."
   ]
  },
  {
   "cell_type": "markdown",
   "metadata": {},
   "source": [
    "---\n",
    "2) Considere novamente os dados do exercício anterior. Um fabricante de farinha afirma que a quantidade média de farinha nas embalagens de seu principal produto é de 500 g. Um teste de pesagem em 30 embalagens amostradas ao acaso mostrou um peso médio igual à 485 g. Estudos anteriores afirmam que a distribuição dos pesos segue uma normal e que o desvio padrão populacional é igual a 20 g. Com um nível de significância igual a 5%, teste a hipótese nula de que a média do processo é igual a 500 g e marque a alternativa que indica o p-valor do teste aplicado (considere somente 5 casas decimais)."
   ]
  },
  {
   "cell_type": "code",
   "execution_count": 51,
   "metadata": {},
   "outputs": [
    {
     "data": {
      "text/plain": [
       "3.992397476901338e-05"
      ]
     },
     "execution_count": 51,
     "metadata": {},
     "output_type": "execute_result"
    }
   ],
   "source": [
    "p_value = norm.cdf(z) * 2\n",
    "\n",
    "p_value"
   ]
  },
  {
   "cell_type": "markdown",
   "metadata": {},
   "source": [
    "---\n",
    "3) A empresa Limpa Esgoto garante ser capaz de realizar o tratamento de esgoto e obter, no máximo, 150 g de impurezas para cada mil litros de esgoto tratado. Vinte amostras de mil litros de esgoto apresentaram, em média, 230 g de impurezas e desvio padrão amostral igual a 90 g.\n",
    "\n",
    "Assumindo alfa igual a 5% e população normalmente distribuída, seria possível discordar da empresa Limpa Esgoto? Assinale a alternativa que apresenta a estatística de teste e a decisão correta do teste."
   ]
  },
  {
   "cell_type": "markdown",
   "metadata": {},
   "source": [
    "### Definição das hipóteses\n",
    "\n",
    "$$\n",
    "    H_0: \\mu \\leq 150 \\, g\n",
    "$$\n",
    "\n",
    "$$\n",
    "    H_1 : \\mu > 150 \\,g\n",
    "$$"
   ]
  },
  {
   "cell_type": "code",
   "execution_count": 52,
   "metadata": {},
   "outputs": [],
   "source": [
    "u = 150\n",
    "n = 20\n",
    "media_amostral = 230\n",
    "desvio_amostral = 90\n",
    "significancia = 0.05\n",
    "confianca = 1 - significancia\n",
    "graus_de_liberdade = n - 1"
   ]
  },
  {
   "cell_type": "markdown",
   "metadata": {},
   "source": [
    "Como temos uma amostra pequena, devemos usar a distribuição t de Student!"
   ]
  },
  {
   "cell_type": "code",
   "execution_count": 53,
   "metadata": {},
   "outputs": [
    {
     "data": {
      "text/plain": [
       "1.729132811521367"
      ]
     },
     "execution_count": 53,
     "metadata": {},
     "output_type": "execute_result"
    }
   ],
   "source": [
    "t_alpha = t_student.ppf(confianca, graus_de_liberdade)\n",
    "t_alpha"
   ]
  },
  {
   "cell_type": "code",
   "execution_count": 54,
   "metadata": {},
   "outputs": [
    {
     "data": {
      "text/plain": [
       "3.9752319599996264"
      ]
     },
     "execution_count": 54,
     "metadata": {},
     "output_type": "execute_result"
    }
   ],
   "source": [
    "t = (media_amostral - u) / (desvio_amostral / np.sqrt(n))\n",
    "t"
   ]
  },
  {
   "cell_type": "code",
   "execution_count": 55,
   "metadata": {},
   "outputs": [
    {
     "name": "stdout",
     "output_type": "stream",
     "text": [
      "Rejeição da H_0!\n"
     ]
    }
   ],
   "source": [
    "if t > t_alpha:\n",
    "    print(\"Rejeição da H_0!\")\n",
    "else:\n",
    "    print(\"Falha em rejeitar H_0!\")"
   ]
  },
  {
   "cell_type": "code",
   "execution_count": 56,
   "metadata": {},
   "outputs": [
    {
     "data": {
      "text/plain": [
       "0.0004053956380615249"
      ]
     },
     "execution_count": 56,
     "metadata": {},
     "output_type": "execute_result"
    }
   ],
   "source": [
    "p_value = t_student.sf(t, graus_de_liberdade)\n",
    "p_value"
   ]
  },
  {
   "cell_type": "code",
   "execution_count": 57,
   "metadata": {},
   "outputs": [
    {
     "name": "stdout",
     "output_type": "stream",
     "text": [
      "Rejeição da H_0!\n"
     ]
    }
   ],
   "source": [
    "if p_value < significancia:\n",
    "    print(\"Rejeição da H_0!\")\n",
    "else:\n",
    "    print(\"Falha em rejeitar H_0!\")"
   ]
  },
  {
   "cell_type": "markdown",
   "metadata": {},
   "source": [
    "---\n",
    "4) A pizzaria Muito Queijo alega que a quantidade de queijo em suas pizzas tamanho família é de, no mínimo, 350 g. Uma amostra de 35 pizzas tamanho família revelou uma média de 330 g de queijo por pizza. O desvio padrão amostral foi de 80 g.\n",
    "\n",
    "Assumindo alfa igual a 5% e população normalmente distribuída, seria possível discordar da alegação da pizzaria? Assinale a alternativa que apresenta a estatística de teste e a decisão correta do teste."
   ]
  },
  {
   "cell_type": "markdown",
   "metadata": {},
   "source": [
    "### Definição das hipóteses\n",
    "\n",
    "$$\n",
    "    H_0: \\mu \\geq 350 \\, g\n",
    "$$\n",
    "\n",
    "$$\n",
    "    H_1 : \\mu < 350 \\,g\n",
    "$$"
   ]
  },
  {
   "cell_type": "code",
   "execution_count": 58,
   "metadata": {},
   "outputs": [],
   "source": [
    "u0 = 350\n",
    "n = 35\n",
    "media_amostral = 330\n",
    "desvio_amostral = 80\n",
    "significancia = 0.05\n",
    "confianca = 1 - significancia"
   ]
  },
  {
   "cell_type": "code",
   "execution_count": 59,
   "metadata": {},
   "outputs": [
    {
     "data": {
      "text/plain": [
       "-1.6448536269514729"
      ]
     },
     "execution_count": 59,
     "metadata": {},
     "output_type": "execute_result"
    }
   ],
   "source": [
    "# Estou utilizando a significancia para calcular o z_alpha, porque a região de aceitação do H0 está no\n",
    "# lado direito. Tente visualizar isso graficamente. ;)\n",
    "\n",
    "z_alpha = norm.ppf(significancia)\n",
    "z_alpha"
   ]
  },
  {
   "cell_type": "code",
   "execution_count": 60,
   "metadata": {},
   "outputs": [
    {
     "data": {
      "text/plain": [
       "-1.479019945774904"
      ]
     },
     "execution_count": 60,
     "metadata": {},
     "output_type": "execute_result"
    }
   ],
   "source": [
    "z = (media_amostral - u0) / (desvio_amostral / np.sqrt(n))\n",
    "z"
   ]
  },
  {
   "cell_type": "code",
   "execution_count": 61,
   "metadata": {},
   "outputs": [
    {
     "name": "stdout",
     "output_type": "stream",
     "text": [
      "Falha em rejeitar H_0!\n"
     ]
    }
   ],
   "source": [
    "if z < z_alpha:\n",
    "    print(\"Rejeição da H_0!\")\n",
    "else:\n",
    "    print(\"Falha em rejeitar H_0!\")"
   ]
  },
  {
   "cell_type": "code",
   "execution_count": 62,
   "metadata": {},
   "outputs": [
    {
     "data": {
      "text/plain": [
       "0.06956749203409206"
      ]
     },
     "execution_count": 62,
     "metadata": {},
     "output_type": "execute_result"
    }
   ],
   "source": [
    "p_value = norm.cdf(z)\n",
    "p_value"
   ]
  },
  {
   "cell_type": "code",
   "execution_count": 63,
   "metadata": {},
   "outputs": [
    {
     "name": "stdout",
     "output_type": "stream",
     "text": [
      "Falha em rejeitar H_0!\n"
     ]
    }
   ],
   "source": [
    "if p_value < significancia:\n",
    "    print(\"Rejeição da H_0!\")\n",
    "else:\n",
    "    print(\"Falha em rejeitar H_0!\")"
   ]
  },
  {
   "cell_type": "markdown",
   "metadata": {},
   "source": [
    "---\n",
    "5) Um fabricante de cosméticos afirma que a adição de um novo composto químico em sua linha de shampoos consegue promover em mais de 2 centímetros o crescimento dos fios de cabelo em um período de 60 dias. Duas amostras de pessoas foram selecionadas e testadas, uma utilizando o shampoo novo (com o composto) e a outra com o shampoo antigo (sem o composto).\n",
    "\n",
    "Os resultados (crescimento dos fios de cabelo em centímetros) podem ser verificados na tabela abaixo:\n",
    "\n",
    "<img src=\"https://s3-sa-east-1.amazonaws.com/lcpi/e011f67a-2e02-44f1-bd48-3b37e3067583.png\" style=\"display: block; margin: 0 auto\" />\n",
    "\n",
    "Assumindo um nível de confiança de 95% e considerando que as populações se distribuem como uma normal, podemos acreditar na afirmação do fabricante do shampoo? Assinale a alternativa que apresenta a estatística de teste e a decisão correta do teste.\n",
    "\n",
    "______\n",
    "\n",
    "Um pouco mais de teoria: como se trata de um problema um pouco diferente do apresentado em nossa aula, vamos esclarecer alguns pontos para ajudar na solução:\n",
    "\n",
    "1) Em testes entre duas amostras, quando realizamos a escolha da distribuição amostral adequada (passo 2) e perguntamos se n ≥ 30, temos que considerar que $n = n_1 + n_2$, onde n1 é o tamanho da primeira amostra e $n_2$ o tamanho da segunda;\n",
    "\n",
    "2) Quando $n_1 + n_2 \\geq 30$, utilizamos z (normal), e quando $n_1 + n_2 < 30$, $\\sigma$ não for conhecido e as populações forem normalmente distribuídas, utilizamos t (t-Student);\n",
    "\n",
    "3) Quando utilizamos a tabela t de Student, em teste de duas amostras, os graus de liberdade são obtidos da seguinte forma: $n_1 + n_2 - 2$;\n",
    "\n",
    "4) Quando o problema nos pergunta se podemos acreditar na afirmação do fabricante, está nos indicando o que devemos testar, ou seja, nossas hipóteses são:\n",
    "\n",
    "$$\n",
    "    H_0: \\mu_1 - \\mu_2 \\leq 2 \\ (m_0)\n",
    "$$\n",
    "\n",
    "$$\n",
    "    H_1 : \\mu_1 - \\mu_2 > 2 \\ (m_0)\n",
    "$$\n",
    "\n",
    "\n",
    "\n",
    "Onde:\n",
    "\n",
    "$\\mu_1$ : Crescimento médio dos cabelos com o uso do novo shampoo<br>\n",
    "$\\mu_2$ : Crescimento médio dos cabelos com o uso do shampoo antigo<br>\n",
    "$m_0$ : diferença das médias, que na hipótese nula é assumida como sendo 2."
   ]
  },
  {
   "cell_type": "code",
   "execution_count": 64,
   "metadata": {},
   "outputs": [
    {
     "name": "stdout",
     "output_type": "stream",
     "text": [
      "t = 2.6646\n",
      "Rejeição da H_0!\n"
     ]
    }
   ],
   "source": [
    "from scipy.stats import t as t_student\n",
    "import numpy as np\n",
    "import pandas as pd\n",
    "\n",
    "shampoo_Novo = pd.Series([3.4, 4.9, 2.8, 5.5, 3.7, 2.5, 4.3, 4.6, 3.7, 3.4])\n",
    "shampoo_Antigo = pd.Series([0.3, 1.2, 1.2, 1.7, 1.1, 0.6, 1.2, 1.5, 0.5, 0.7])\n",
    "\n",
    "media_A = shampoo_Novo.mean()\n",
    "desvio_padrao_A = shampoo_Novo.std()\n",
    "\n",
    "media_B = shampoo_Antigo.mean()\n",
    "desvio_padrao_B = shampoo_Antigo.std()\n",
    "\n",
    "significancia = 0.05\n",
    "confianca = 1 - significancia\n",
    "n_A = len(shampoo_Novo)\n",
    "n_B = len(shampoo_Antigo)\n",
    "m_0 = 2\n",
    "\n",
    "graus_de_liberdade = n_A + n_B - 2\n",
    "\n",
    "t_alpha = t_student.ppf(confianca, graus_de_liberdade)\n",
    "\n",
    "numerador = (media_A - media_B) - m_0\n",
    "denominador = np.sqrt((desvio_padrao_A ** 2 / n_A) + (desvio_padrao_B ** 2 / n_B))\n",
    "t = numerador / denominador\n",
    "\n",
    "print('t =', round(t, 4))\n",
    "\n",
    "if t > t_alpha:\n",
    "    print(\"Rejeição da H_0!\")\n",
    "else:\n",
    "    print(\"Falha em rejeitar H_0!\")"
   ]
  },
  {
   "cell_type": "markdown",
   "metadata": {},
   "source": [
    "Ou, usando o p-value:"
   ]
  },
  {
   "cell_type": "code",
   "execution_count": 65,
   "metadata": {},
   "outputs": [
    {
     "data": {
      "text/plain": [
       "0.007896331117193027"
      ]
     },
     "execution_count": 65,
     "metadata": {},
     "output_type": "execute_result"
    }
   ],
   "source": [
    "p_value = t_student.sf(t, graus_de_liberdade)\n",
    "p_value"
   ]
  },
  {
   "cell_type": "code",
   "execution_count": 66,
   "metadata": {},
   "outputs": [
    {
     "name": "stdout",
     "output_type": "stream",
     "text": [
      "Rejeição da H_0!\n"
     ]
    }
   ],
   "source": [
    "if p_value < significancia:\n",
    "    print(\"Rejeição da H_0!\")\n",
    "else:\n",
    "    print(\"Falha em rejeitar H_0!\")"
   ]
  }
 ],
 "metadata": {
  "kernelspec": {
   "name": "python3",
   "display_name": "Python 3.9.7 64-bit"
  },
  "language_info": {
   "codemirror_mode": {
    "name": "ipython",
    "version": 3
   },
   "file_extension": ".py",
   "mimetype": "text/x-python",
   "name": "python",
   "nbconvert_exporter": "python",
   "pygments_lexer": "ipython3",
   "version": "3.9.7"
  },
  "interpreter": {
   "hash": "e922dd073470bdcc017ae3abd31d6491d6ed7bf31c1d559806e5511bfea88b81"
  }
 },
 "nbformat": 4,
 "nbformat_minor": 4
}
