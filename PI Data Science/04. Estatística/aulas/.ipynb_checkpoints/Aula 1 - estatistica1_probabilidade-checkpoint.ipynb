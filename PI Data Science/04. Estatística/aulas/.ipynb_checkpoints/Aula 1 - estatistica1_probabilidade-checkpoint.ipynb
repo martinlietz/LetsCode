{
 "cells": [
  {
   "cell_type": "markdown",
   "metadata": {},
   "source": [
    "\n",
    "# Aula 1 - Introdução e probabilidade\n",
    "\n",
    "Na aula de hoje, vamos explorar os seguintes tópicos em Python:\n",
    "\n",
    "- 1) Introdução\n",
    "- 2) Probabilidade"
   ]
  },
  {
   "cell_type": "markdown",
   "metadata": {},
   "source": [
    "___\n",
    "___\n",
    "___"
   ]
  },
  {
   "cell_type": "markdown",
   "metadata": {},
   "source": [
    "## 1) Introdução\n",
    "\n",
    "Hoje iniciaremos nossa introdução a **Probabilidade e Estatística**.\n",
    "\n",
    "Essas duas áreas são extremamente amplas, e fornecem toda a base da ciência de dados. Por isso, vamos dar uma olhada nos principais conceitos!\n",
    "\n",
    "A probabilidade e estatística podem ser dividias nos seguintes três pilares:\n",
    "\n",
    "**Probabilidade**: é a teoria matemática utilizada para se estudar a incerteza oriundas de `fenômenos`de caráter aleátorio.\n",
    "\n",
    "**Estatística Descritiva**: Etapa inicial da análise estatística, tendo como objetivo tirar informações prévias de modo informal e direto. A ideia é obter informações que `resumam` o conjuto de dados, a fim que estes possam ser `descritos`, e conclusões iniciais possam ser tiradas.\n",
    "\n",
    "    - Já usamos várias dessas técnicas (sem saber explicitamente) no processo de EDA!\n",
    "\n",
    "**Inferência estatística**: É o conjunto de técnicas que possibilitam a extrapolação de conclusões tiradas a partir de um conjunto pequeno de dados (denominado `amostra`) para todo o universo sob análise (denominado (`população`).\n",
    "\n",
    "<img src=\"https://phhp-faculty-cantrell.sites.medinfo.ufl.edu/files/2012/07/mod10-big_picture_inference.gif\" width=\"600\">"
   ]
  },
  {
   "cell_type": "markdown",
   "metadata": {},
   "source": [
    "Antes de explorarmos cada um desses três pilares mais a fundo, é importante formalizarmos os **tipos de dados** com os quais trabalharemos:\n",
    "\n",
    "### 1.1) Tipos de variáveis \n",
    "\n",
    "- **Variavél qualitativa** \n",
    "-- *Nominal* \n",
    "\n",
    "Valores que expressam **atributos sem nenhum tipo de ordem**. Ex : sexo, estado civil, país de origem, ser fumante ou não, etc.\n",
    "\n",
    "    - São representados por strings\n",
    "\n",
    "\n",
    "- **Variavél qualitativa** \n",
    "-- *Ordinal* \n",
    "\n",
    "Valores que expressam **atributos com algum tipo de ordem ou grau**. Ex: escolaridade, resposta de um paciente(piora, igual, melhora), classe social(alta, média,baixa), classe do navio, etc.\n",
    "\n",
    "    - São representados por strings\n",
    "\n",
    "- **Variavél quantitativa** \n",
    "-- *Discreta*  \n",
    "\n",
    "Valores numéricos inteiros. Ex: idade em anos inteiros, número de banheiros em uma casa, número de filhos, etc.\n",
    "\n",
    "    - São representados por ints\n",
    "\n",
    "- **Variavél quantitativa** \n",
    "-- *Contínua*  \n",
    "\n",
    "Valores numéricos racionais. Ex: salário, preço, temperatura, gorjeta, etc.\n",
    "\n",
    "    - São representados por floats"
   ]
  },
  {
   "cell_type": "code",
   "execution_count": 1,
   "metadata": {},
   "outputs": [],
   "source": [
    "import numpy as np\n",
    "import pandas as pd\n",
    "\n",
    "import matplotlib.pyplot as plt\n",
    "%matplotlib inline\n",
    "\n",
    "import seaborn as sns"
   ]
  },
  {
   "cell_type": "markdown",
   "metadata": {},
   "source": [
    "___\n",
    "___\n",
    "___"
   ]
  },
  {
   "cell_type": "markdown",
   "metadata": {},
   "source": [
    "## 2) Probabilidade\n",
    "\n",
    "Probabilidade é a área da matemática que estuda **eventos aleatórios**, cujos resultados são **probabilísticos** ou **estocásticos**.\n",
    "\n",
    "Existem poucos sistemas na natureza que são de fato inerentemente aleatórias e não-determinísticas. No entanto, uma descrição determinística pode ser muito complicada, de modo que **se torna conveniente** tratar o sistema como um sistema estocástico.\n",
    "\n",
    "Ex.: lanaçamento de moeda, lançamento de dados, etc.\n",
    "\n",
    "O objetivo da estatística é similar: analisar dados ou criar modelos que **generalizem relações** que não podem ser determinadas diretamente uma vez que não temos acesso à população. Neste sentido, há muita probabilidade envolvida em estatística, e é por isso que vamos olhar para os principais conceitos de probabilidade."
   ]
  },
  {
   "cell_type": "markdown",
   "metadata": {},
   "source": [
    "_____"
   ]
  },
  {
   "cell_type": "markdown",
   "metadata": {},
   "source": [
    "### 2.1) Variável aleatória\n",
    "\n",
    "Uma **variável aleatória** é uma variável cujo valor depende de fatores **não-deterministícos**, isto é, **probabilísticos**. \n",
    "\n",
    "**Exemplo**: resultado do lançamento de um dado."
   ]
  },
  {
   "cell_type": "markdown",
   "metadata": {},
   "source": [
    "_____"
   ]
  },
  {
   "cell_type": "markdown",
   "metadata": {},
   "source": [
    "### 2.2) Espaço amostral\n",
    "\n",
    "Chamamos de **espaço amostral** o conjunto de **todos os resultados possíveis de um certo fenômeno aleatório**, ou seja, **os valores possíveis que a variável aleatória de interesse pode assumir**. Representamos o espaço amostral pela letra grega $\\omega$. \n",
    "\n",
    "Os subconjuntos de $\\omega$ são denominados **eventos** e representados pelas letras latinas maiúsculas A, B, etc. \n",
    "\n",
    "**Exemplo**: o espaço amostral dos resultados do lançamento de um dado é:\n",
    "\n",
    "$$ \\omega = \\{1, 2, 3, 4, 5, 6\\} $$\n",
    "\n",
    "Alguns eventos possíveis são:\n",
    "\n",
    "- Evento A = {3} : o resultado do lançamento do dado foi 3;\n",
    "- Evento B = {5} : o resultado do lançamento do dado foi 5.\n",
    "\n",
    "**Exemplo 2**: considere o lançamento de uma moeda:\n",
    "\n",
    "<img src=\"https://www.vertica.com/wp-content/uploads/2019/07/Coin_Flip_183981489-2160.jpg\" width=300>\n",
    "\n",
    "- Se lançarmos uma única moeda:\n",
    "    - A variável aleatória será **o resultado do lançamento da moeda**\n",
    "    - Portanto, o espaço amostral é: $$ \\omega = \\{ K, C \\} $$\n",
    "    \n",
    "- Se lançarmos uma does moedas:\n",
    "    - A variável aleatória será **o resultado do lançamento de cada moeda**\n",
    "    - Portanto, o espaço amostral é: $$ \\omega = \\{ (K, K), (K, C), (C, K), (C, C) \\} $$"
   ]
  },
  {
   "cell_type": "markdown",
   "metadata": {},
   "source": [
    "_____"
   ]
  },
  {
   "cell_type": "markdown",
   "metadata": {},
   "source": [
    "### 2.3) Um pouquinho de teoria de conjuntos\n",
    "\n",
    "\n",
    "- O conjunto vazio é denotado por \\\\(\\emptyset\\\\), e equivale a um conjunto sem nenhum elemento.\n",
    "\n",
    "- A **união** de dois eventos A e B, **denotado por \\\\(A \\cup B\\\\)**, representa a ocorrência de pelo menos um dos eventos A ou B. \n",
    "\n",
    "- A **intersecção** do evento A com B, **denotado por \\\\(A \\cap B\\\\)**, é a ocorrência simultânea de A e B.\n",
    "\n",
    "<img src=\"https://files.askiitians.com/cdn1/images/2017228-161427361-819-6-operations-on-sets.png\" width=400>\n",
    "\n",
    "Dois eventos A e B são **disjuntos** ou **mutualmente exclusivos** quando não têm elemento em comum. Isto é, $A \\cap B$ =  $\\emptyset$.\n",
    "\n",
    "<br>\n",
    "\n",
    "<center><img src=https://cdn1.byjus.com/wp-content/uploads/2019/09/disjoint-set.png width=400 /></center>\n",
    "\n",
    "\n",
    "Dois eventos A e B são **complementares** se sua **união é o espaço amostral** e **sua intersecção é vazia**. O complementar de A será representado por $A^{c}$\n",
    "\n",
    "<br>\n",
    "\n",
    "<center><img src=https://mathonline.wdfiles.com/local--files/the-relative-complement-and-complement-of-a-set/Screen%20Shot%202015-09-12%20at%206.26.52%20PM.png width=450 /></center>\n"
   ]
  },
  {
   "cell_type": "markdown",
   "metadata": {},
   "source": [
    "_____"
   ]
  },
  {
   "cell_type": "markdown",
   "metadata": {},
   "source": [
    "### 2.4) Definição de probabilidade\n",
    "\n",
    "Definimos uma função $P(.)$ denominada **probabilidade** que deve satisfazer as seguintes propriedades:\n",
    "    \n",
    "- $0\\leq P(A) \\leq 1$ \n",
    "\n",
    "- $ P(\\omega)=1$\n",
    "\n",
    "- $ P(\\cup A_{j})= \\sum_{j=1}^{n}P(A_{j})$"
   ]
  },
  {
   "cell_type": "markdown",
   "metadata": {},
   "source": [
    "w = K, C\n",
    "\n",
    "P(K U C) = P(K) + P(C)\n",
    "\n",
    "P(w) = 1/2 + 1/2 = 1"
   ]
  },
  {
   "cell_type": "markdown",
   "metadata": {},
   "source": [
    "#### 2.4.1) Atribuindo probabilidades aos elementos do espaço amostral\n",
    "\n",
    "Há, essencialmente, duas formas de se **atribuir a probabilidade de cada evento**:\n",
    "\n",
    "> 1) Baseando-se em características teóricas acerca do experimento.\n",
    "\n",
    "**Exemplo**: ao lançarmos um dado, temos o espaço amostral $\\omega=\\{1,2,3,4,5,6\\}$.\n",
    "\n",
    "Admitindo que o dado foi construído de forma homogênea e com medidas rigorosamente simétricas, não temos nenhuma razão para **privilegiar uma face em detrimento das demais**.\n",
    "\n",
    "Assim, consideramos: $p(1) = p(2) = p(3) = p(4) = p(5) = p(6) = \\frac{1}{6}$ \n",
    "\n",
    "> 2) Fazendo muitos experimentos.\n",
    "\n",
    "**Exemplo**: imagine que temos uma moeda não-honesta, que tende cair mais vezes cara do que coroa. Para descobrirmos qual é a probabilidade de cada um dos eventos ($\\omega = \\{K, C\\}$), podemos lançar a moeda muitas vezes, e anotar os resultados:\n"
   ]
  },
  {
   "cell_type": "code",
   "execution_count": 2,
   "metadata": {},
   "outputs": [],
   "source": [
    "df = pd.DataFrame({\"resultados\" : [\"k\", \"c\"], \n",
    "                 \"numero_resultados\" : [275, 9725]})"
   ]
  },
  {
   "cell_type": "code",
   "execution_count": 3,
   "metadata": {},
   "outputs": [
    {
     "data": {
      "text/plain": [
       "10000"
      ]
     },
     "execution_count": 3,
     "metadata": {},
     "output_type": "execute_result"
    }
   ],
   "source": [
    "df[\"numero_resultados\"].sum()"
   ]
  },
  {
   "cell_type": "code",
   "execution_count": 4,
   "metadata": {},
   "outputs": [
    {
     "data": {
      "text/plain": [
       "0    0.0275\n",
       "1    0.9725\n",
       "Name: numero_resultados, dtype: float64"
      ]
     },
     "execution_count": 4,
     "metadata": {},
     "output_type": "execute_result"
    }
   ],
   "source": [
    "df[\"numero_resultados\"]/df[\"numero_resultados\"].sum()"
   ]
  },
  {
   "cell_type": "code",
   "execution_count": 5,
   "metadata": {},
   "outputs": [
    {
     "data": {
      "text/plain": [
       "array([0.34734901, 0.60220231, 0.45747371, ..., 0.08100249, 0.71592925,\n",
       "       0.87947411])"
      ]
     },
     "execution_count": 5,
     "metadata": {},
     "output_type": "execute_result"
    }
   ],
   "source": [
    "np.random.uniform(0, 1, 100000)"
   ]
  },
  {
   "cell_type": "code",
   "execution_count": 6,
   "metadata": {
    "scrolled": true
   },
   "outputs": [
    {
     "data": {
      "text/plain": [
       "C    90.27%\n",
       "K     9.73%\n",
       "dtype: object"
      ]
     },
     "metadata": {},
     "output_type": "display_data"
    },
    {
     "data": {
      "text/plain": [
       "<AxesSubplot:ylabel='count'>"
      ]
     },
     "execution_count": 6,
     "metadata": {},
     "output_type": "execute_result"
    },
    {
     "data": {
      "image/png": "[encoded data removed]",
      "text/plain": [
       "<Figure size 432x288 with 1 Axes>"
      ]
     },
     "metadata": {
      "needs_background": "light"
     },
     "output_type": "display_data"
    }
   ],
   "source": [
    "# moeda com p(k) = p e p(c) = 1-p\n",
    "\n",
    "p = 0.1\n",
    "resultados = np.where(np.random.uniform(0, 1, 10000) <= p, \"K\", \"C\")\n",
    "\n",
    "display(pd.Series(resultados).value_counts(normalize=True).apply(lambda x: str(round(x*100, 2)) + \"%\"))\n",
    "\n",
    "sns.countplot(x = resultados)"
   ]
  },
  {
   "cell_type": "markdown",
   "metadata": {},
   "source": [
    "\n",
    "#### 2.4.2) Probabilidade de união de eventos\n",
    "\n",
    "A probabilidade de união de eventos é calculada através da regra da adição de probabilidades, conforme:\n",
    "\n",
    "$$ P( A U B) = P(A) + P(B) - P ( A \\cap B) $$\n",
    "\n",
    "Temos também a definição de que um evento pode ser definido pela não ocorreência dele: $ A^{c}$ é a não ocorrência de A, de modo que, naturalmente, $ P(A) = 1 - P(A^{c}) $\n",
    "\n",
    "Ou seja, $P(A) + P(A^{c}) = 1$, o que faz sentido!"
   ]
  },
  {
   "cell_type": "markdown",
   "metadata": {},
   "source": [
    "_____"
   ]
  },
  {
   "cell_type": "markdown",
   "metadata": {},
   "source": [
    "### 2.5) Probabilidade Condicional e Independência\n",
    "\n",
    "Para **eventos dependentes**, o cálculo da Probabilidade muda. \n",
    "\n",
    "Seja: \n",
    "\n",
    "- $P(A|B)$ -> Probabilidade condicional de A dado B, ou seja, probabilidade do evento A ocorrer, dado que ocorreu o evento B\n",
    "\n",
    "- $P(A\\cap B)$ -> Como já vimos, é a probabilidade dos dois eventos ocorrerem. Às vezes denotada $P(A, B)$.\n",
    "\n",
    "Para **eventos dependentes**, Temos a seguinte relação:\n",
    "\n",
    "$$P(A|B)= \\frac{P(A \\cap B)}{P(B)} \\equiv \\frac{\\frac{A \\cap B}{\\omega}}{\\frac{B}{\\omega}}$$\n",
    "\n",
    "\n",
    "\n",
    "E algumas vezes, passamos P(B) para o outro lado da igualdade, e a equação fica assim:\n",
    "\n",
    "$$P(A \\cap B) = P(A|B) P(B)$$\n",
    "\n",
    "#### 2.5.1) Eventos independentes \n",
    "\n",
    "Eventos independentes são tais que $P(A | B) = P(A)$, ou seja, a ocorrência do evento B não influencia a probabilidade de ocorrência do evento A."
   ]
  },
  {
   "cell_type": "markdown",
   "metadata": {},
   "source": [
    "_________\n",
    "\n",
    "### Exemplo\n",
    "\n",
    "Abaixo está um código para criar dados falsos sobre a quantidade de coisas que as pessoas compram, de acordo com a faixa etária.\n",
    "\n",
    "Ele gera 100.000 \"pessoas\" aleatórias e as atribui aleatoriamente como tendo entre 20, 30, 40, 50, 60 ou 70 anos.\n",
    "\n",
    "Em seguida, atribui uma menor probabilidade de os jovens comprarem coisas.\n",
    "\n",
    "No final, temos dois dicionários Python:\n",
    "\n",
    "\"totais\" contém o número total de pessoas em cada faixa etária. \"compras\" contém o número total de itens comprados por pessoas em cada faixa etária. O total geral de compras é total de compras, e sabemos que o número total de pessoas é 100.000.\n",
    "\n",
    "Vamos executá-lo e dar uma olhada:"
   ]
  },
  {
   "cell_type": "code",
   "execution_count": 7,
   "metadata": {},
   "outputs": [],
   "source": [
    "from numpy import random\n",
    "\n",
    "random.seed(42)\n",
    "\n",
    "# quantidade de pessoas em cada 'faixa etária'\n",
    "people   = {20: 0, 30: 0, 40: 0, 50: 0, 60: 0, 70: 0}\n",
    "\n",
    "# quantidade de compras feitas pelas pessoas de cada faixa etária\n",
    "shopping = {20: 0, 30: 0, 40: 0, 50: 0, 60: 0, 70: 0}\n",
    "\n",
    "total_compras = 0\n",
    "\n",
    "N = 100000\n",
    "for _ in range(N):\n",
    "    \n",
    "    decada_ano = random.choice([20, 30, 40, 50, 60, 70])\n",
    "    \n",
    "    # por exemplo, na faixa dos 20: 20/100 = 0.2; na faixa dos 70: 70/100 = 0.7\n",
    "    probabilidade_compra = decada_ano/100\n",
    "    \n",
    "    people[decada_ano] += 1\n",
    "    \n",
    "#     people[decada_ano] = people[decada_ano] + 1\n",
    "    \n",
    "    # seleciona um numero aleatório entre 0 e 1\n",
    "    # se esse numero for menor que o numero em \"probabilidade_compra\", eu aumento o numero de compras\n",
    "    # (note que isso ocorre com probabilidade exatamente igual à \"probabilidade_compra\")\n",
    "    if (random.random() < probabilidade_compra):\n",
    "        \n",
    "        total_compras += 1\n",
    "        shopping[decada_ano] += 1"
   ]
  },
  {
   "cell_type": "code",
   "execution_count": 8,
   "metadata": {},
   "outputs": [
    {
     "data": {
      "text/plain": [
       "{20: 16700, 30: 16654, 40: 16346, 50: 16809, 60: 16791, 70: 16700}"
      ]
     },
     "execution_count": 8,
     "metadata": {},
     "output_type": "execute_result"
    }
   ],
   "source": [
    "people"
   ]
  },
  {
   "cell_type": "code",
   "execution_count": 9,
   "metadata": {},
   "outputs": [
    {
     "data": {
      "text/plain": [
       "<BarContainer object of 6 artists>"
      ]
     },
     "execution_count": 9,
     "metadata": {},
     "output_type": "execute_result"
    },
    {
     "data": {
      "image/png": "[encoded data removed]",
      "text/plain": [
       "<Figure size 432x288 with 1 Axes>"
      ]
     },
     "metadata": {
      "needs_background": "light"
     },
     "output_type": "display_data"
    }
   ],
   "source": [
    "plt.bar(x=people.keys(), height=people.values())"
   ]
  },
  {
   "cell_type": "code",
   "execution_count": 10,
   "metadata": {},
   "outputs": [
    {
     "data": {
      "text/plain": [
       "{20: 3360, 30: 5009, 40: 6548, 50: 8508, 60: 10018, 70: 11681}"
      ]
     },
     "execution_count": 10,
     "metadata": {},
     "output_type": "execute_result"
    }
   ],
   "source": [
    "shopping"
   ]
  },
  {
   "cell_type": "code",
   "execution_count": 11,
   "metadata": {},
   "outputs": [
    {
     "data": {
      "text/plain": [
       "<BarContainer object of 6 artists>"
      ]
     },
     "execution_count": 11,
     "metadata": {},
     "output_type": "execute_result"
    },
    {
     "data": {
      "image/png": "[encoded data removed]",
      "text/plain": [
       "<Figure size 432x288 with 1 Axes>"
      ]
     },
     "metadata": {
      "needs_background": "light"
     },
     "output_type": "display_data"
    }
   ],
   "source": [
    "plt.bar(x=shopping.keys(), height=shopping.values())"
   ]
  },
  {
   "cell_type": "code",
   "execution_count": 12,
   "metadata": {},
   "outputs": [
    {
     "data": {
      "text/plain": [
       "45124"
      ]
     },
     "execution_count": 12,
     "metadata": {},
     "output_type": "execute_result"
    }
   ],
   "source": [
    "total_compras"
   ]
  },
  {
   "cell_type": "markdown",
   "metadata": {},
   "source": [
    "Primeiro vamos calcular P (E | F), onde E é \"compra\" e F é \"você está na casa dos 30 anos\". \n",
    "\n",
    "A probabilidade de alguém na casa dos 30 anos comprar alguma coisa é apenas a porcentagem de quantoa pessoas de 30 anos compraram alguma coisa:"
   ]
  },
  {
   "cell_type": "code",
   "execution_count": 13,
   "metadata": {},
   "outputs": [
    {
     "name": "stdout",
     "output_type": "stream",
     "text": [
      "P(compras | 30) = 30.08%\n"
     ]
    }
   ],
   "source": [
    "PEF = shopping[30]/people[30]\n",
    "\n",
    "print('P(compras | 30) = {:.2f}%'.format(PEF*100))"
   ]
  },
  {
   "cell_type": "markdown",
   "metadata": {},
   "source": [
    "Podemos calcular tambem a probabilidade de comprar alguma coisa:"
   ]
  },
  {
   "cell_type": "code",
   "execution_count": 14,
   "metadata": {},
   "outputs": [
    {
     "name": "stdout",
     "output_type": "stream",
     "text": [
      "P(compras) = 45.12%\n"
     ]
    }
   ],
   "source": [
    "PE = total_compras/N\n",
    "\n",
    "print('P(compras) = {:.2f}%'.format(PE*100))"
   ]
  },
  {
   "cell_type": "markdown",
   "metadata": {},
   "source": [
    "E a probabilidade de alguém estar na casa dos 30:"
   ]
  },
  {
   "cell_type": "code",
   "execution_count": 15,
   "metadata": {},
   "outputs": [
    {
     "name": "stdout",
     "output_type": "stream",
     "text": [
      "P(30) = 16.65%\n"
     ]
    }
   ],
   "source": [
    "PF = people[30]/N\n",
    "\n",
    "print('P(30) = {:.2f}%'.format(PF*100))"
   ]
  },
  {
   "cell_type": "markdown",
   "metadata": {},
   "source": [
    "Se E e F fossem independentes, esperaríamos que P (E | F) fosse aproximadamente o mesmo que P (E). \n",
    "\n",
    "Mas eles não são; PE é 0,45 e P (E | F) é 0,3. \n",
    "\n",
    "Então, isso nos diz que E e F são dependentes (o que sabemos que são neste exemplo)."
   ]
  },
  {
   "cell_type": "markdown",
   "metadata": {},
   "source": [
    "A probabilidade con das duas coisas acontecerem, isto é, a pessoa estar na casa dos 30 e comprar algo, é dada por:"
   ]
  },
  {
   "cell_type": "code",
   "execution_count": 16,
   "metadata": {},
   "outputs": [
    {
     "name": "stdout",
     "output_type": "stream",
     "text": [
      "P(E, F) = 5.01%\n"
     ]
    }
   ],
   "source": [
    "print('P(E, F) = {:.2f}%'.format(PEF*PF*100))"
   ]
  },
  {
   "cell_type": "markdown",
   "metadata": {},
   "source": [
    "P (E, F) é diferente de P (E | F). \n",
    "\n",
    "De fato, P (E, F) é a probabilidade de você estar na casa dos 30 anos **E** comprar algo da população total - não apenas a população das pessoas na casa dos 30 anos!\n",
    "\n",
    "Isto pode ser visto através do seguinte calcula, que resulta no mesmo que calculamos acima:"
   ]
  },
  {
   "cell_type": "code",
   "execution_count": 17,
   "metadata": {},
   "outputs": [
    {
     "name": "stdout",
     "output_type": "stream",
     "text": [
      "P(E, F) = 5.01%\n"
     ]
    }
   ],
   "source": [
    "print('P(E, F) = {:.2f}%'.format((shopping[30]/N)*100))"
   ]
  },
  {
   "cell_type": "markdown",
   "metadata": {},
   "source": [
    "Já o produto simples, não dá os resultados acima (como era esperado, pois NÃO HÁ independência entre E e F)"
   ]
  },
  {
   "cell_type": "code",
   "execution_count": 18,
   "metadata": {},
   "outputs": [
    {
     "name": "stdout",
     "output_type": "stream",
     "text": [
      "P(E)*P(F) = 7.51%\n"
     ]
    }
   ],
   "source": [
    "print('P(E)*P(F) = {:.2f}%'.format(PE*PF*100))"
   ]
  },
  {
   "cell_type": "markdown",
   "metadata": {},
   "source": [
    "_____"
   ]
  },
  {
   "cell_type": "markdown",
   "metadata": {},
   "source": [
    "### 2.6) Teorema de Bayes\n",
    "\n",
    "\n",
    "O **Teorema de Bayes** é um conceito importantíssimo da probabilidade e uma das ferramentas mais importantes de serem aprendidas para um Cientista de Dados, pois é a base de uma área com muitas aplicações práticas chamada [inferência bayesiana](https://en.wikipedia.org/wiki/Bayesian_inference).\n",
    "\n",
    "O Teorema de Bayes é uma forma **calcular probabilidades condicionais de forma reversa**.\n",
    "\n",
    "Vamos considerar o clássico exemplo para explicar o teorema. \n",
    "\n",
    "Temos uma determinada doença C, e um teste T utilizado para detectar esta doença. \n",
    "\n",
    "O teste não é 100% confiável, indicando pessoas que **não têm a doença como doentes (falsos positivos)** e **não detectando a doença em pessoas que a possuem (falsos negativos)**, como ilustra a figura abaixo: \n",
    "\n",
    "<br>\n",
    "\n",
    "<center><img src=\"https://s3-sa-east-1.amazonaws.com/lcpi/0c32b83a-1b1f-4a64-8dea-6262d81bbcb3.jpg\" width=\"600\" height=\"650\" /></center>\n",
    "\n",
    "\n",
    "> Consideremos que 1% das pessoas possui a doença: $P(C) = 0.01$\n",
    "\n",
    "> Logo, 99% das pessoas não a possui: $P(¬C) = P(\\sim C) = 0.99$\n",
    "\n",
    "O teste detecta a doença em pessoas efetivamente doentes 90% das vezes e, consequentemente, não detecta a doença em pessoas doentes em 10% dos casos. \n",
    "\n",
    "Em pessoas não doentes, o teste detecta a doença (erradamente) em 5% dos casos e não detecta em 95% dos casos. Podemos resumir desta forma:\n",
    "\n",
    "|                | Pessoa Doente | Pessoa Não Doente |\n",
    "|----------------|---------------|-------------------|\n",
    "| Teste positivo | 90 %          | 5 %               |\n",
    "| Teste Negativo | 10 %          | 95 %              |\n",
    "\n",
    "A tabela acima é chamada de **matriz de confusão**, indicando fora da diagonal os caos confusos (errados), e na diagonal os casos corretos\n",
    "\n",
    "<img src=\"https://miro.medium.com/max/2102/1*fxiTNIgOyvAombPJx5KGeA.png\" width=300>\n",
    "\n",
    "Agora, a chance de você **ter a doença e o teste detecta-la (verdadeiro positivo)** é igual **a chance de você ter a doença multiplicado pela chance do teste ter dado positivo corretamente**;\n",
    "\n",
    "Analogamente, a chance de você **não ter a doença e o teste detecta-la mesmo assim (falso positivo)** é igual **a chance de você não ter a doença multiplicado pela chance do teste ter dado positivo incorretamente**;\n",
    "\n",
    "E assim por diante, para todos os resultados. Atualizamos então a tabela, que fica assim:\n",
    "\n",
    "|                | Pessoa Doente                            | Pessoa Não Doente                               | Soma\n",
    "|----------------|------------------------------------------|-------------------------------------------------|-------|\n",
    "| **Teste positivo** | Prob Doente e teste pos: 1% × 90% = 0,9% | Prob Não Doente e teste pos: 99% × 5% = 4,95%   | 5,85%\n",
    "| **Teste Negativo** | Prob Doente e teste neg: 1% × 10% = 0,1% | Prob Não Doente e teste neg: 99% × 95% = 94,05% | 94,15%\n",
    "| **Soma** | 1% | 99% | 100%\n",
    "\n",
    "Estas então são nossas probabilidades para cada evento. Note que, se somadas, o resultado é 1, ou 100%. \n",
    "\n",
    "Agora, vamos supor que você fez o teste e o **resultado deu positivo**. \n",
    "\n",
    "Como devemos interpretar este resultado? Qual a chance de você de fato ter a doença? \n",
    "\n",
    "Considerando o cálculo básico de probabilidade, temos que a chance de ter a doença é igual à **chance do evento desejado dividido por todas as possibilidades**. \n",
    "\n",
    "O evento desejado é um positivo verdadeiro, ou seja, **teste positivo e a pessoa com doença**. Para este caso, a probabilidade é de 0,9% (olhe na tabela!) \n",
    "\n",
    "O **total de possibilidades com relação ao teste positivo** seria a **soma da probabilidade de “doente e teste pos”** (verdadeiro positivo) com **“não doente e teste pos” (falso positivo)**, que resultará em 0,9% + 4,95%, igual a 5,85%.\n",
    "\n",
    "Fazendo toda a conta, nossa chance de ter a doença se temos um teste positivo é de **0,9%/5,85% = 0.1538**, ou **15,38%**. \n",
    "\n",
    "É uma chance bem mais baixa do que imaginamos apenas ao olhar para o problema e para a suposta precisão do teste!\n",
    "\n",
    "#### Em equações, temos:\n",
    "\n",
    "* P(C|+) = Probabilidade de ter a doença dado um teste positivo (este é a probabilidade que desejamos saber)\n",
    "\n",
    "* P(C) = Probabilidade da pessoa ter a doença = 1%\n",
    "\n",
    "* $ P(+ \\cap C) = P(+|C) \\ P(C)$ = Probabilidade de um teste positivo E a pessoa tem a doença = 0,9% \n",
    "\n",
    "* $P(+ \\cap ¬C) = P(+|¬C) \\ P(¬C)$ = Probabilidade de um teste positivo E a pessoa não tem a doença = 4,95%\n",
    "\n",
    "    **O Teorema de bayes diz que :**\n",
    "    \n",
    "    \n",
    "$$ P(C|+) = \\frac{P(+|C) \\ P(C)}{P(+|C) \\ P(C)  + P(+|¬ C) \\ P(¬ C)} = \\frac{P(+|C) \\ P(C)}{P(+)} = \\frac{0.9}{0.9 + 4.95} = 15,38 \\%   $$"
   ]
  },
  {
   "cell_type": "code",
   "execution_count": 19,
   "metadata": {},
   "outputs": [
    {
     "name": "stdout",
     "output_type": "stream",
     "text": [
      "Probabilidade de ter a doença, dado o teste positivo: 15.38%\n"
     ]
    }
   ],
   "source": [
    "# A probabilidade de uma pessoa ter certa doença C é de 1%\n",
    "# consequentemente, a probabilidade de não ter a doença é de 99%\n",
    "\n",
    "probabilidade_doenca = 0.01\n",
    "probabilidade_nao_doenca = 1 - probabilidade_doenca\n",
    "\n",
    "# Um teste T para detectar a doença não é 100% confiável, detectando\n",
    "# a doença em pessoas não doentes e não detectando em pessoas doentes\n",
    "\n",
    "# O teste detecta a doença em pessoas doentes em 90% dos casos\n",
    "# e não detecta a doença em pessoas doentes em 10% dos casos\n",
    "\n",
    "prob_teste_pos_dada_doenca = 0.9\n",
    "prob_teste_neg_dada_doenca = 0.1\n",
    "\n",
    "# O teste detecta a doença em pessoas não doentes em 5% dos casos\n",
    "# e não detecta a doença em pessoas não doentes em 95% dos casos\n",
    "\n",
    "prob_teste_pos_dada_nao_doenca = 0.05\n",
    "prob_teste_neg_dada_nao_doenca = 0.95\n",
    "\n",
    "\n",
    "# Verdadeiro positivo: chance de ter a doença e o teste dar positivo\n",
    "prob_verdadeiro_positivo = probabilidade_doenca * prob_teste_pos_dada_doenca\n",
    "\n",
    "# Verdadeiro negativo: chance de não ter a doença e o teste dar negativo\n",
    "prob_verdadeiro_negativo = probabilidade_nao_doenca * prob_teste_neg_dada_nao_doenca\n",
    "\n",
    "# Falso positivo: chance de não ter a doença e o teste dar positivo\n",
    "prob_falso_positivo = probabilidade_nao_doenca * prob_teste_pos_dada_nao_doenca\n",
    "\n",
    "# Falso negativo: chance de ter a doença e o teste dar negativo\n",
    "prob_falso_negativo = probabilidade_doenca * prob_teste_neg_dada_doenca\n",
    "\n",
    "\n",
    "# Fizemos o teste e o resultado foi positivo. Qual a chance de eu ter a doença?\n",
    "# Teorema de Bayes: P(C|+) = (P(+|C) * P(C)) / (P(+|C) * P(C) + P(+|¬C) * P(¬C))\n",
    "\n",
    "p = prob_verdadeiro_positivo/(prob_verdadeiro_positivo + prob_falso_positivo)\n",
    "\n",
    "print(\"Probabilidade de ter a doença, dado o teste positivo: {:.2f}%\".format(p*100))"
   ]
  },
  {
   "cell_type": "markdown",
   "metadata": {},
   "source": [
    "____"
   ]
  },
  {
   "cell_type": "markdown",
   "metadata": {},
   "source": [
    "### 2.7) Distribuições de probabilidade\n",
    "\n",
    "Uma **distribuição de probabilidade** é uma função que descreve o comportamento aleatório de um fenômeno dependente do acaso.\n",
    "\n",
    "A distribuição de probabilidade pode **modelar incertezas** e descrever fenômenos físicos, biológicos, econômicos, entre outros.\n",
    "\n",
    "Para representar a distribuição matematicamente, frequentemente utilizamos a [função densidade de probabilidade](https://en.wikipedia.org/wiki/Probability_density_function). Esta função é tal que a probabilidade da variável aleatória cair em uma faixa particular é dada **pela integral da densidade dessa variável sobre tal faixa** - isto é, é dada pela área abaixo da função densidade mas acima do eixo horizontal e entre o menor e o maior valor dessa faixa.\n",
    "\n",
    "<img src=\"https://work.thaslwanter.at/Stats/html/_images/PDF.png\" width=400>\n",
    "\n",
    "Há muitas distribuições de probabilidade diferentes.\n",
    "\n",
    "Entre as distribuições de probabilidade, a **distribuição normal** tem uma importância particular. De acordo com o **teorema central do limite**, a distribuição normal captura o **comportamento assintótico** de várias outras distribuições de probabilidade."
   ]
  },
  {
   "cell_type": "markdown",
   "metadata": {},
   "source": [
    "### Esperança e Variância\n",
    "---\n",
    "\n",
    "#### Esperança (ou Valor Esperado)\n",
    "\n",
    "O **valor esperado**, ou **média**, ou **esperança** é uma quantidade utilizada como resumo do comportamento de uma V.A.\n",
    "\n",
    "A média de uma distribuição de probabilidade é a esperança de sua\n",
    "variável aleatória.\n",
    "\n",
    "A esperança de uma V.A. $X$ é obtida multiplicando-se cada valor de\n",
    "$X = x_i$, $i = 1,..,n$, por sua respectiva probabilidade $P[X = x_i]$, e somando os produtos resultantes:\n",
    "\n",
    "$$E(X) = \\sum_{i=1}^n x_i P[X = x_i]$$\n",
    "\n",
    "A esperança é o valor médio que esperaríamos se o experimento continuasse sendo repetido várias vezes.\n",
    "\n",
    "Note: o valor esperado pondera os valores assumidos pela V.A. pelas respectivas probabilidades, e o resultado não precisa ser um dos valores da variável.\n",
    "\n",
    "A esperança está sempre compreendida entre os valores extremos da V.A. A esperança serve como caracterização de diversas distribuições de probabilidade. Ou seja, é um **parâmetro** da distribuição.\n",
    "\n",
    "#### Variância\n",
    "\n",
    "A variância, como já vimos, dá o grau de dispersão dos valores de\n",
    "uma variável aleatória em relação à sua média ou esperança $E(X)$. A\n",
    "forma geral para o cálculo é: \n",
    "\n",
    "$$Var(X) = E[(X − E(X))^2]$$\n",
    "\n",
    "No entanto, uma foma mais fácil operacionalmente pode ser\n",
    "deduzida a partir da primeira, e temos:\n",
    "\n",
    "$$Var(X) = E(X^2) − [E(X)]^2$$\n",
    "\n",
    "em que, $E(X^2) = \\sum_{i=1}^n x_i^2 P[X = x_i]$."
   ]
  },
  {
   "cell_type": "markdown",
   "metadata": {},
   "source": [
    "____"
   ]
  },
  {
   "cell_type": "markdown",
   "metadata": {
    "colab_type": "text",
    "id": "6f7bEFKO0TFL"
   },
   "source": [
    "______\n",
    "\n",
    "### **2.7.1) Distribuição de Bernoulli**\n",
    "\n",
    "Muitos experimentos são tais que os resultados apresentam ou não uma determinada característica. Por exemplo:\n",
    "\n",
    "- Uma moeda é lançada: o resultado ou é cara ou não é (ocorrendo, então, coroa);\n",
    "- Uma peça escolhida ao acaso de um lote: essa peça ou é defeituosa ou não é;\n",
    "- Uma pessoa escolhida ao acaso em uma sala de aula: essa pessoa ou é do sexo masculino ou não é.\n",
    "\n",
    "Em todos esses casos estamos interessados na ocorrência de sucesso (cara, peça não defeituosa, etc.) ou fracasso (coroa, peça defeituosa, etc.). Para cada experimento acima, podemos definir uma V.A. $X$ que assume apenas dois valores: 1, se ocorrer sucesso e 0, se ocorrer fracasso. Indicaremos por $p$ a probabilidade de sucesso.\n",
    "\n",
    "**Definição:**\n",
    "\n",
    "A variável aleatória $X$, que assume apenas valores 0 e 1 com função de probabilidade $(x,p(x))$ é dita variável aleatória de Bernoulli tal que:\n",
    "\n",
    "- $p(0) = P(X=0) = 1-p$\n",
    "\n",
    "- $p(1) = P(X=1) = p$\n",
    "\n",
    "Então, é facil ver que:\n",
    "\n",
    "- $E(X) = p$\n",
    "\n",
    "- $Var(X) = p - p^2 = p(1-p)$\n",
    "\n",
    "Usaremos a notação $X \\sim Ber(p)$ para indicar uma V.A com distribuição Bernoulli de parâmetro $p$.\n"
   ]
  },
  {
   "cell_type": "code",
   "execution_count": 20,
   "metadata": {},
   "outputs": [],
   "source": [
    "from scipy.stats import bernoulli"
   ]
  },
  {
   "cell_type": "code",
   "execution_count": 21,
   "metadata": {},
   "outputs": [],
   "source": [
    "data_bernoulli = bernoulli.rvs(p=0.5, size=1000)"
   ]
  },
  {
   "cell_type": "code",
   "execution_count": 22,
   "metadata": {
    "scrolled": true
   },
   "outputs": [
    {
     "data": {
      "text/plain": [
       "array([1, 1, 0, 1, 0, 1, 0, 0, 1, 1, 0, 0, 1, 0, 0, 1, 0, 0, 1, 1, 1, 1,\n",
       "       0, 0, 0, 0, 0, 0, 1, 0, 1, 0, 1, 1, 0, 0, 1, 1, 1, 0, 0, 0, 1, 0,\n",
       "       1, 0, 1, 1, 1, 0, 0, 0, 0, 1, 0, 0, 1, 1, 1, 0, 1, 0, 0, 1, 0, 1,\n",
       "       0, 0, 0, 1, 1, 1, 1, 0, 1, 0, 1, 0, 1, 0, 1, 0, 1, 1, 1, 1, 0, 0,\n",
       "       1, 1, 1, 1, 1, 1, 0, 0, 1, 0, 0, 0, 1, 1, 1, 0, 0, 0, 1, 0, 0, 1,\n",
       "       0, 1, 1, 0, 0, 0, 1, 1, 0, 0, 1, 0, 1, 1, 1, 1, 1, 1, 1, 0, 0, 0,\n",
       "       0, 1, 0, 1, 1, 1, 0, 0, 0, 1, 0, 0, 1, 0, 1, 1, 1, 1, 0, 1, 1, 1,\n",
       "       1, 1, 1, 0, 1, 0, 0, 1, 1, 0, 1, 1, 1, 0, 1, 1, 1, 1, 1, 1, 1, 0,\n",
       "       1, 0, 0, 1, 0, 0, 0, 0, 0, 0, 0, 1, 0, 0, 0, 0, 1, 1, 1, 0, 1, 1,\n",
       "       1, 1, 0, 1, 0, 1, 0, 0, 0, 1, 0, 0, 0, 1, 1, 0, 0, 1, 0, 0, 0, 0,\n",
       "       1, 1, 1, 0, 1, 0, 1, 0, 0, 1, 0, 0, 1, 1, 0, 0, 0, 0, 1, 1, 0, 0,\n",
       "       1, 1, 1, 0, 1, 1, 0, 0, 0, 0, 1, 1, 0, 0, 1, 0, 0, 1, 1, 0, 1, 0,\n",
       "       1, 1, 1, 0, 1, 1, 1, 1, 1, 1, 0, 1, 1, 0, 0, 0, 0, 0, 0, 0, 1, 0,\n",
       "       0, 0, 1, 1, 0, 1, 1, 0, 0, 1, 0, 0, 1, 1, 1, 1, 1, 1, 0, 0, 1, 0,\n",
       "       0, 0, 0, 0, 0, 0, 0, 0, 0, 0, 0, 0, 1, 1, 0, 1, 0, 0, 0, 1, 0, 1,\n",
       "       0, 1, 1, 1, 1, 0, 0, 1, 0, 0, 0, 0, 0, 1, 0, 0, 1, 1, 0, 0, 1, 1,\n",
       "       1, 0, 1, 0, 1, 0, 1, 0, 0, 0, 0, 1, 1, 0, 1, 0, 0, 1, 1, 0, 1, 0,\n",
       "       0, 1, 1, 1, 1, 0, 0, 0, 0, 1, 0, 1, 1, 0, 1, 1, 0, 1, 1, 1, 0, 1,\n",
       "       1, 0, 1, 1, 1, 0, 1, 0, 1, 0, 0, 1, 0, 1, 0, 0, 1, 0, 0, 1, 1, 1,\n",
       "       0, 1, 1, 0, 1, 0, 0, 0, 0, 1, 0, 0, 0, 0, 0, 1, 1, 1, 0, 0, 0, 0,\n",
       "       1, 0, 1, 1, 1, 1, 1, 1, 0, 0, 1, 1, 0, 0, 1, 1, 1, 0, 0, 0, 0, 1,\n",
       "       1, 0, 0, 1, 0, 1, 0, 0, 0, 1, 0, 1, 1, 1, 0, 1, 0, 1, 1, 0, 0, 0,\n",
       "       1, 1, 0, 1, 1, 0, 1, 1, 0, 0, 1, 0, 0, 1, 1, 1, 0, 0, 1, 1, 0, 0,\n",
       "       1, 0, 1, 0, 0, 0, 1, 1, 1, 1, 1, 1, 1, 1, 1, 1, 1, 0, 0, 0, 1, 0,\n",
       "       1, 1, 1, 1, 0, 0, 1, 0, 0, 1, 0, 1, 0, 1, 1, 1, 0, 1, 1, 1, 1, 0,\n",
       "       1, 1, 1, 0, 0, 1, 0, 1, 0, 1, 0, 0, 1, 0, 1, 0, 1, 1, 0, 0, 1, 1,\n",
       "       1, 0, 1, 0, 0, 1, 0, 0, 0, 0, 0, 0, 1, 0, 1, 0, 1, 0, 1, 1, 0, 1,\n",
       "       0, 1, 0, 0, 1, 0, 1, 0, 1, 0, 1, 0, 1, 1, 1, 1, 0, 1, 0, 1, 1, 1,\n",
       "       0, 0, 1, 0, 1, 1, 1, 1, 1, 1, 1, 1, 0, 0, 1, 0, 0, 0, 0, 1, 0, 0,\n",
       "       0, 1, 0, 0, 1, 0, 0, 1, 0, 1, 0, 1, 1, 0, 0, 0, 0, 0, 1, 0, 0, 0,\n",
       "       1, 0, 1, 0, 0, 0, 0, 1, 1, 0, 0, 1, 0, 1, 1, 1, 0, 0, 1, 0, 1, 0,\n",
       "       1, 0, 0, 1, 1, 1, 0, 1, 0, 0, 0, 0, 1, 1, 0, 0, 1, 1, 1, 0, 1, 1,\n",
       "       1, 1, 0, 0, 0, 0, 0, 1, 1, 1, 0, 1, 1, 1, 1, 1, 1, 1, 0, 0, 0, 0,\n",
       "       0, 0, 1, 1, 0, 1, 0, 1, 1, 1, 0, 1, 0, 0, 1, 0, 0, 0, 1, 0, 0, 0,\n",
       "       0, 1, 1, 1, 1, 1, 1, 0, 0, 0, 0, 1, 1, 0, 0, 0, 1, 0, 0, 0, 0, 1,\n",
       "       0, 1, 0, 1, 1, 1, 1, 0, 0, 1, 0, 0, 1, 0, 0, 0, 0, 1, 1, 1, 1, 1,\n",
       "       1, 1, 0, 0, 1, 1, 1, 1, 1, 0, 0, 0, 1, 1, 0, 0, 1, 1, 1, 0, 1, 1,\n",
       "       1, 1, 1, 1, 0, 0, 1, 1, 0, 1, 1, 1, 1, 0, 0, 0, 0, 0, 0, 0, 1, 0,\n",
       "       0, 0, 0, 0, 0, 1, 0, 1, 1, 0, 1, 1, 0, 0, 0, 1, 0, 1, 0, 0, 1, 0,\n",
       "       1, 0, 0, 1, 1, 1, 0, 1, 1, 1, 1, 0, 0, 0, 0, 1, 0, 1, 1, 1, 0, 1,\n",
       "       0, 0, 0, 0, 0, 0, 0, 0, 0, 0, 1, 0, 0, 1, 0, 0, 0, 1, 1, 1, 1, 0,\n",
       "       1, 1, 0, 1, 1, 0, 0, 1, 0, 0, 1, 1, 0, 1, 0, 0, 1, 0, 0, 0, 1, 1,\n",
       "       1, 1, 0, 0, 1, 1, 0, 1, 0, 1, 0, 1, 0, 0, 1, 0, 1, 1, 1, 1, 0, 1,\n",
       "       0, 0, 1, 1, 0, 0, 1, 1, 0, 0, 0, 1, 1, 0, 0, 0, 1, 1, 1, 0, 1, 1,\n",
       "       1, 1, 1, 1, 0, 1, 0, 0, 0, 0, 1, 1, 0, 1, 1, 1, 0, 0, 0, 0, 0, 1,\n",
       "       0, 0, 1, 0, 0, 0, 1, 0, 1, 1])"
      ]
     },
     "execution_count": 22,
     "metadata": {},
     "output_type": "execute_result"
    }
   ],
   "source": [
    "data_bernoulli"
   ]
  },
  {
   "cell_type": "code",
   "execution_count": 23,
   "metadata": {},
   "outputs": [
    {
     "data": {
      "text/plain": [
       "<AxesSubplot:ylabel='Count'>"
      ]
     },
     "execution_count": 23,
     "metadata": {},
     "output_type": "execute_result"
    },
    {
     "data": {
      "image/png": "[encoded data removed]",
      "text/plain": [
       "<Figure size 432x288 with 1 Axes>"
      ]
     },
     "metadata": {
      "needs_background": "light"
     },
     "output_type": "display_data"
    }
   ],
   "source": [
    "sns.histplot(data_bernoulli, stat=\"count\")"
   ]
  },
  {
   "cell_type": "code",
   "execution_count": 24,
   "metadata": {},
   "outputs": [
    {
     "data": {
      "text/plain": [
       "<AxesSubplot:ylabel='Density'>"
      ]
     },
     "execution_count": 24,
     "metadata": {},
     "output_type": "execute_result"
    },
    {
     "data": {
      "image/png": "[encoded data removed]",
      "text/plain": [
       "<Figure size 432x288 with 1 Axes>"
      ]
     },
     "metadata": {
      "needs_background": "light"
     },
     "output_type": "display_data"
    }
   ],
   "source": [
    "sns.histplot(data_bernoulli, stat='density')"
   ]
  },
  {
   "cell_type": "code",
   "execution_count": 25,
   "metadata": {},
   "outputs": [
    {
     "data": {
      "text/plain": [
       "<AxesSubplot:ylabel='Count'>"
      ]
     },
     "execution_count": 25,
     "metadata": {},
     "output_type": "execute_result"
    },
    {
     "data": {
      "image/png": "[encoded data removed]",
      "text/plain": [
       "<Figure size 432x288 with 1 Axes>"
      ]
     },
     "metadata": {
      "needs_background": "light"
     },
     "output_type": "display_data"
    }
   ],
   "source": [
    "sns.histplot(data_bernoulli)"
   ]
  },
  {
   "cell_type": "code",
   "execution_count": 26,
   "metadata": {},
   "outputs": [
    {
     "data": {
      "text/plain": [
       "0    504\n",
       "1    496\n",
       "dtype: int64"
      ]
     },
     "execution_count": 26,
     "metadata": {},
     "output_type": "execute_result"
    }
   ],
   "source": [
    "pd.Series(data_bernoulli).value_counts()"
   ]
  },
  {
   "cell_type": "code",
   "execution_count": 27,
   "metadata": {
    "scrolled": true
   },
   "outputs": [
    {
     "data": {
      "text/plain": [
       "<AxesSubplot:ylabel='Probability'>"
      ]
     },
     "execution_count": 27,
     "metadata": {},
     "output_type": "execute_result"
    },
    {
     "data": {
      "image/png": "[encoded data removed]",
      "text/plain": [
       "<Figure size 432x288 with 1 Axes>"
      ]
     },
     "metadata": {
      "needs_background": "light"
     },
     "output_type": "display_data"
    }
   ],
   "source": [
    "sns.histplot(data_bernoulli, stat='probability')"
   ]
  },
  {
   "cell_type": "markdown",
   "metadata": {
    "colab_type": "text",
    "id": "5cOy7DXW0TFN"
   },
   "source": [
    "______\n",
    "\n",
    "### **2.7.1) Distribuição Binomial**\n",
    "---\n",
    "\n",
    "São $n$ ensaios de Bernoulli com mesma probabilidade de sucesso e independentes, ou seja, o resultado de um ensaio não influencia no resultado de outro ensaio.\n",
    "\n",
    "Exemplo: uma moeda honesta é lançada 3 vezes. Cada lançamento é independente do outro e a probabilidade de cara (sucesso) será 0,5 em todos os lançamentos.\n",
    "\n",
    "Deste exemplo, podemos nos perguntar: dado que a moeda é lançada 3 vezes qual é a probabilidade de se obter duas caras? Indiquemos o sucesso (cara) por *S*, e o fracasso (coroa) por *F*. Então, estamos interessados na probabilidade do evento:\n",
    "\n",
    "A = {SSF, SFS, FSS} \n",
    "\n",
    "Portanto, $ P(A) = P(SSF) + P(SFS) + P(FSS) $\n",
    "\n",
    "E, devido à independência dos eventos:\n",
    "\n",
    "$P(SSF) = P(SFS) = P(FSS) = 0,5\\times 0,5\\times 0,5 = 0,125 $\n",
    "\n",
    "Logo, $P(A) = 3\\times 0,125 = 0,375$\n",
    "\n",
    "**Uma característica interessante é que estamos interessados apenas no número total de sucessos e não na ordem em que eles ocorrem.**\n",
    "\n",
    "Vamos designar de $X$ o número total de sucessos em $n$ ensaios de Bernoulli com probabilidade de sucesso p, $0<p<1$. Obtenhamos, agora, $P(X=k)$, ou seja, numa sequência de n ensaios de Bernoulli, a probabilidade de obter $k$ sucessos (e, portanto $n-k$ fracassos), $k=0,..,n$. A probabilidade de uma particular sequência de $k$ sucessos e $n-k$ fracassos é:\n",
    "\n",
    "$$p^k(1-p)^{n-k}$$\n",
    "\n",
    "Resta saber quantas sequências de $k$ sucessos e $n-k$ fracassos podemos formar. Existem $\\binom{n}{k} = \\frac{n!}{k!(n-k)!}$ sequências.\n",
    "\n",
    "Logo,\n",
    "\n",
    "$$P(X=k) = \\binom{n}{k} p^k(1-p)^{n-k}, \\quad k=0,..,n$$\n",
    "\n",
    "  \n",
    "\n",
    "A média e a variância de uma V.A. binomial com parâmetros n e p são dadas por:\n",
    "\n",
    "$$E(X) = np$$\n",
    "\n",
    "$$Var(X) = np(1-p)$$\n",
    "\n",
    "**Definição** \n",
    "\n",
    "A variável aleatória X, correspondente ao número de sucessos num experimento binomial, tem distribuição binomial tal que:\n",
    "\n",
    "$$b(k, n, p) = P(X=k) = \\binom{n}{k} p^k(1-p)^{n-k}, \\quad k=0,..,n$$\n",
    "\n",
    "Usaremos a notação X ~ b(n,p) para indicar uma V.A. com distribuição binomial de parâmetros n e p.\n",
    "\n"
   ]
  },
  {
   "cell_type": "code",
   "execution_count": 28,
   "metadata": {},
   "outputs": [
    {
     "data": {
      "text/plain": [
       "0.375"
      ]
     },
     "execution_count": 28,
     "metadata": {},
     "output_type": "execute_result"
    }
   ],
   "source": [
    "from scipy.special import comb\n",
    "\n",
    "n = 3 # lançamentos da moeda\n",
    "k = 2 # número de sucessos (caras obtidas)\n",
    "p = 0.5 # probabilidade de sucesso (obter cara)\n",
    "\n",
    "comb(n, k) * (p ** k) * ((1 - p) ** (n - k))"
   ]
  },
  {
   "cell_type": "markdown",
   "metadata": {
    "colab_type": "text",
    "id": "PxEgWbFdG3Bt"
   },
   "source": [
    "#### **Características Importantes**"
   ]
  },
  {
   "cell_type": "markdown",
   "metadata": {
    "colab_type": "text",
    "id": "eqQK3Ny-G3Bv"
   },
   "source": [
    "1. Realização de $n$ ensaios idênticos.\n",
    "\n",
    "2. Os ensaios são independentes.\n",
    "\n",
    "3. Somente dois resultados são possíveis, exemplo: Verdadeiro ou falso; Cara ou coroa; Sucesso ou fracasso.\n",
    "\n",
    "4. A probabilidade de sucesso é representada por $p$ e a de fracasso por $1-p=q$. Estas probabilidades não se modificam de ensaio para ensaio.\n",
    "\n",
    "**Pergunta: Daria para resolver um problema para descobrir a probabilidade de se obter 3 vezes a face 5 de um dado em um lançamento desse dado 10 vezes consecutivas?**"
   ]
  },
  {
   "cell_type": "code",
   "execution_count": 29,
   "metadata": {},
   "outputs": [
    {
     "data": {
      "text/plain": [
       "0.15504535957425192"
      ]
     },
     "execution_count": 29,
     "metadata": {},
     "output_type": "execute_result"
    }
   ],
   "source": [
    "n = 10\n",
    "k = 3\n",
    "p = 1/6\n",
    "\n",
    "comb(n, k) * (p ** k) * ((1 - p) ** (n - k))"
   ]
  },
  {
   "cell_type": "markdown",
   "metadata": {},
   "source": [
    "Resposta: [distribuição multinomial](https://en.wikipedia.org/wiki/Multinomial_distribution)\n",
    "\n",
    "Documentação do scipy: https://docs.scipy.org/doc/scipy/reference/generated/scipy.stats.multinomial.html"
   ]
  },
  {
   "cell_type": "code",
   "execution_count": null,
   "metadata": {},
   "outputs": [],
   "source": []
  },
  {
   "cell_type": "markdown",
   "metadata": {},
   "source": [
    " "
   ]
  },
  {
   "cell_type": "markdown",
   "metadata": {
    "colab_type": "text",
    "id": "t1rA1yJpG3CF"
   },
   "source": [
    "### **Exemplo: Concurso para cientista de dados**"
   ]
  },
  {
   "cell_type": "markdown",
   "metadata": {
    "colab_type": "text",
    "id": "K0DPDD37G3CG"
   },
   "source": [
    "Em um concurso para preencher uma vaga de cientista de dados temos um total de **10 questões** de múltipla escolha com **3 alternativas possíveis** em cada questão. \n",
    "\n",
    "**Cada questão tem o mesmo valor.** \n",
    "\n",
    "Suponha que um candidato resolva se aventurar sem ter estudado absolutamente nada. Ele resolve fazer a prova de olhos vendados e chutar todas as respostas. \n",
    "\n",
    "Assumindo que a prova **vale 10 pontos e a nota de corte seja 5**, obtenha a probabilidade deste candidato:\n",
    "\n",
    "a) acertar 5 questões  \n",
    "b) passar para a próxima etapa do processo seletivo."
   ]
  },
  {
   "cell_type": "markdown",
   "metadata": {
    "colab_type": "text",
    "id": "sf-NMPfxG3CH"
   },
   "source": [
    "**Qual o número de ensaios ($n$)?**"
   ]
  },
  {
   "cell_type": "code",
   "execution_count": 30,
   "metadata": {},
   "outputs": [],
   "source": [
    "n = 10"
   ]
  },
  {
   "cell_type": "markdown",
   "metadata": {
    "colab_type": "text",
    "id": "1USf9Ro8G3CK"
   },
   "source": [
    "**Os ensaios são independentes?**"
   ]
  },
  {
   "cell_type": "markdown",
   "metadata": {
    "colab_type": "text",
    "id": "82xf2XIkG3CM"
   },
   "source": [
    "Sim. A opção escolhida em uma questão não influencia em nada a opção escolhida em outra questão."
   ]
  },
  {
   "cell_type": "markdown",
   "metadata": {
    "colab_type": "text",
    "id": "7jN0H5e7G3CN"
   },
   "source": [
    "**Somente dois resultados são possíveis em cada ensaio?**"
   ]
  },
  {
   "cell_type": "markdown",
   "metadata": {
    "colab_type": "text",
    "id": "gGxcY7K8G3CO"
   },
   "source": [
    "Sim. O candidato tem duas possibilidades, ACERTAR ou ERRAR uma questão. "
   ]
  },
  {
   "cell_type": "markdown",
   "metadata": {
    "colab_type": "text",
    "id": "MZw2LDQjG3CR"
   },
   "source": [
    "**Qual a probabilidade de sucesso ($p$)?**"
   ]
  },
  {
   "cell_type": "code",
   "execution_count": 31,
   "metadata": {
    "colab": {
     "base_uri": "https://localhost:8080/",
     "height": 34
    },
    "colab_type": "code",
    "id": "AazGDtt0G3CS",
    "outputId": "ccb9e561-0413-43c8-c462-ebea4b6c1097"
   },
   "outputs": [],
   "source": [
    "p = 1/3"
   ]
  },
  {
   "cell_type": "markdown",
   "metadata": {
    "colab_type": "text",
    "id": "KPCw41OlG3CX"
   },
   "source": [
    "**Qual a probabilidade de fracasso (q)?**"
   ]
  },
  {
   "cell_type": "code",
   "execution_count": 32,
   "metadata": {
    "colab": {
     "base_uri": "https://localhost:8080/",
     "height": 34
    },
    "colab_type": "code",
    "id": "FRhmjCnpG3CZ",
    "outputId": "f521f041-ecf4-4c4c-b696-da7b949d657a"
   },
   "outputs": [],
   "source": [
    "q = 1 - p"
   ]
  },
  {
   "cell_type": "code",
   "execution_count": 33,
   "metadata": {},
   "outputs": [
    {
     "data": {
      "text/plain": [
       "0.6666666666666666"
      ]
     },
     "execution_count": 33,
     "metadata": {},
     "output_type": "execute_result"
    }
   ],
   "source": [
    "2/3"
   ]
  },
  {
   "cell_type": "code",
   "execution_count": 34,
   "metadata": {},
   "outputs": [
    {
     "data": {
      "text/plain": [
       "0.6666666666666667"
      ]
     },
     "execution_count": 34,
     "metadata": {},
     "output_type": "execute_result"
    }
   ],
   "source": [
    "q"
   ]
  },
  {
   "cell_type": "markdown",
   "metadata": {
    "colab_type": "text",
    "id": "W2htpmzaG3Ce"
   },
   "source": [
    "**Qual o total de eventos que se deseja obter sucesso ($k$)?**"
   ]
  },
  {
   "cell_type": "code",
   "execution_count": 35,
   "metadata": {
    "colab": {
     "base_uri": "https://localhost:8080/",
     "height": 34
    },
    "colab_type": "code",
    "id": "MmHpiIIuG3Cj",
    "outputId": "6975cb4f-5cd3-4234-f7b0-b5d01ceb0430"
   },
   "outputs": [],
   "source": [
    "k = 5"
   ]
  },
  {
   "cell_type": "markdown",
   "metadata": {
    "colab_type": "text",
    "id": "r8TZ6DSuG3Cm"
   },
   "source": [
    "### Solução 1"
   ]
  },
  {
   "cell_type": "code",
   "execution_count": 36,
   "metadata": {},
   "outputs": [
    {
     "data": {
      "text/plain": [
       "13.656454808718186"
      ]
     },
     "execution_count": 36,
     "metadata": {},
     "output_type": "execute_result"
    }
   ],
   "source": [
    "n = 10\n",
    "k = n/2\n",
    "p = 1/3\n",
    "\n",
    "comb(n, k) * (p ** k) * ((q) ** (n - k))*100"
   ]
  },
  {
   "cell_type": "code",
   "execution_count": 37,
   "metadata": {},
   "outputs": [
    {
     "data": {
      "text/plain": [
       "1.1889006346714586"
      ]
     },
     "execution_count": 37,
     "metadata": {},
     "output_type": "execute_result"
    }
   ],
   "source": [
    "n = 40\n",
    "k = n/2\n",
    "p = 1/3\n",
    "\n",
    "comb(n, k) * (p ** k) * ((q) ** (n - k))*100"
   ]
  },
  {
   "cell_type": "code",
   "execution_count": 38,
   "metadata": {},
   "outputs": [
    {
     "data": {
      "text/plain": [
       "4.346809089850291e-05"
      ]
     },
     "execution_count": 38,
     "metadata": {},
     "output_type": "execute_result"
    }
   ],
   "source": [
    "n = 40\n",
    "k = n/2\n",
    "p = 1/5\n",
    "\n",
    "comb(n, k) * (p ** k) * ((q) ** (n - k))*100"
   ]
  },
  {
   "cell_type": "code",
   "execution_count": 39,
   "metadata": {},
   "outputs": [
    {
     "data": {
      "text/plain": [
       "8.042435208852217e-07"
      ]
     },
     "execution_count": 39,
     "metadata": {},
     "output_type": "execute_result"
    }
   ],
   "source": [
    "n = 80\n",
    "k = n/2\n",
    "p = 1/4\n",
    "\n",
    "comb(n, k) * (p ** k) * ((q) ** (n - k))*100"
   ]
  },
  {
   "cell_type": "code",
   "execution_count": 40,
   "metadata": {},
   "outputs": [
    {
     "data": {
      "text/plain": [
       "13.656454808718186"
      ]
     },
     "execution_count": 40,
     "metadata": {},
     "output_type": "execute_result"
    }
   ],
   "source": [
    "n = 10\n",
    "k = n/2\n",
    "p = 1/3\n",
    "\n",
    "comb(n, k) * (p ** k) * ((q) ** (n - k))*100"
   ]
  },
  {
   "cell_type": "markdown",
   "metadata": {
    "colab_type": "text",
    "id": "hvj2sYaSG3Ct"
   },
   "source": [
    "### Solução 2"
   ]
  },
  {
   "cell_type": "markdown",
   "metadata": {
    "colab_type": "text",
    "id": "rDwUvW5UG3Cq"
   },
   "source": [
    "https://docs.scipy.org/doc/scipy/reference/generated/scipy.stats.binom.html"
   ]
  },
  {
   "cell_type": "code",
   "execution_count": 41,
   "metadata": {},
   "outputs": [],
   "source": [
    "n = 10\n",
    "k = n/2\n",
    "p = 1/3"
   ]
  },
  {
   "cell_type": "code",
   "execution_count": 42,
   "metadata": {
    "colab": {},
    "colab_type": "code",
    "id": "rhlsI3iLG3Cr"
   },
   "outputs": [],
   "source": [
    "from scipy.stats import binom"
   ]
  },
  {
   "cell_type": "code",
   "execution_count": 43,
   "metadata": {
    "colab": {
     "base_uri": "https://localhost:8080/",
     "height": 34
    },
    "colab_type": "code",
    "id": "OjS1xsz5G3Cu",
    "outputId": "e5406623-9e3e-4d41-d1de-c774dc96bc17"
   },
   "outputs": [
    {
     "data": {
      "text/plain": [
       "13.656454808718191"
      ]
     },
     "execution_count": 43,
     "metadata": {},
     "output_type": "execute_result"
    }
   ],
   "source": [
    "binom.pmf(k=k, p=p, n=n)*100"
   ]
  },
  {
   "cell_type": "markdown",
   "metadata": {},
   "source": [
    "### Obter a probabilidade do candidato passar"
   ]
  },
  {
   "cell_type": "markdown",
   "metadata": {},
   "source": [
    "$$P(acertar \\geq 5) = P(5) + P(6) + P(7) + P(8) + P(9) + P10)$$"
   ]
  },
  {
   "cell_type": "code",
   "execution_count": 44,
   "metadata": {},
   "outputs": [
    {
     "name": "stdout",
     "output_type": "stream",
     "text": [
      "p(0) = 1.73% \t p_acum(0) = 1.734%\n",
      "p(1) = 8.67% \t p_acum(1) = 10.405%\n",
      "p(2) = 19.51% \t p_acum(2) = 29.914%\n",
      "p(3) = 26.01% \t p_acum(3) = 55.926%\n",
      "p(4) = 22.76% \t p_acum(4) = 78.687%\n",
      "p(5) = 13.66% \t p_acum(5) = 92.344%\n",
      "p(6) = 5.69% \t p_acum(6) = 98.034%\n",
      "p(7) = 1.63% \t p_acum(7) = 99.660%\n",
      "p(8) = 0.30% \t p_acum(8) = 99.964%\n",
      "p(9) = 0.03% \t p_acum(9) = 99.998%\n",
      "p(10) = 0.00% \t p_acum(10) = 100.000%\n"
     ]
    }
   ],
   "source": [
    "n = 10\n",
    "p = 1/3\n",
    "\n",
    "k_list = [0, 1, 2, 3, 4, 5, 6, 7, 8, 9, 10]\n",
    "\n",
    "soma_total = 0\n",
    "for k in k_list:\n",
    "    \n",
    "    prob = binom.pmf(k=k, p=p, n=n)*100\n",
    "    \n",
    "    soma_total += prob\n",
    "    \n",
    "    print(\"p({}) = {:.2f}% \\t p_acum({}) = {:.3f}%\".format(k, prob, k, soma_total))"
   ]
  },
  {
   "cell_type": "code",
   "execution_count": 45,
   "metadata": {},
   "outputs": [
    {
     "name": "stdout",
     "output_type": "stream",
     "text": [
      "p(0) = 1.734% \t p_acum(0) = 1.734%\n",
      "p(1) = 8.671% \t p_acum(1) = 10.405%\n",
      "p(2) = 19.509% \t p_acum(2) = 29.914%\n",
      "p(3) = 26.012% \t p_acum(3) = 55.926%\n",
      "p(4) = 22.761% \t p_acum(4) = 78.687%\n"
     ]
    },
    {
     "data": {
      "text/plain": [
       "78.68719199309054"
      ]
     },
     "execution_count": 45,
     "metadata": {},
     "output_type": "execute_result"
    }
   ],
   "source": [
    "soma_total = 0\n",
    "for k in [0, 1, 2, 3, 4]:\n",
    "    \n",
    "    prob = binom.pmf(k=k, p=p, n=n)*100\n",
    "    \n",
    "    soma_total += prob\n",
    "    \n",
    "    print(\"p({}) = {:.3f}% \\t p_acum({}) = {:.3f}%\".format(k, prob, k, soma_total))\n",
    "    \n",
    "soma_total"
   ]
  },
  {
   "cell_type": "code",
   "execution_count": 46,
   "metadata": {},
   "outputs": [
    {
     "name": "stdout",
     "output_type": "stream",
     "text": [
      "p(5) = 13.656% \t p_acum(5) = 13.656%\n",
      "p(6) = 5.690% \t p_acum(6) = 19.347%\n",
      "p(7) = 1.626% \t p_acum(7) = 20.972%\n",
      "p(8) = 0.305% \t p_acum(8) = 21.277%\n",
      "p(9) = 0.034% \t p_acum(9) = 21.311%\n",
      "p(10) = 0.002% \t p_acum(10) = 21.313%\n"
     ]
    },
    {
     "data": {
      "text/plain": [
       "21.312808006909528"
      ]
     },
     "execution_count": 46,
     "metadata": {},
     "output_type": "execute_result"
    }
   ],
   "source": [
    "soma_total = 0\n",
    "for k in [5, 6, 7, 8, 9, 10]:\n",
    "    \n",
    "    prob = binom.pmf(k=k, p=p, n=n)*100\n",
    "    \n",
    "    soma_total += prob\n",
    "    \n",
    "    print(\"p({}) = {:.3f}% \\t p_acum({}) = {:.3f}%\".format(k, prob, k, soma_total))\n",
    "    \n",
    "soma_total"
   ]
  },
  {
   "cell_type": "code",
   "execution_count": 47,
   "metadata": {},
   "outputs": [
    {
     "data": {
      "text/plain": [
       "21.312808006909506"
      ]
     },
     "execution_count": 47,
     "metadata": {},
     "output_type": "execute_result"
    }
   ],
   "source": [
    "binom.cdf(k=10, p=p, n=n)*100 - binom.cdf(k=4, p=p, n=n)*100"
   ]
  },
  {
   "cell_type": "code",
   "execution_count": 48,
   "metadata": {},
   "outputs": [
    {
     "data": {
      "text/plain": [
       "21.312808006909506"
      ]
     },
     "execution_count": 48,
     "metadata": {},
     "output_type": "execute_result"
    }
   ],
   "source": [
    "100 - binom.cdf(k=4, p=p, n=n)*100"
   ]
  },
  {
   "cell_type": "code",
   "execution_count": 49,
   "metadata": {},
   "outputs": [
    {
     "data": {
      "text/plain": [
       "21.312808006909517"
      ]
     },
     "execution_count": 49,
     "metadata": {},
     "output_type": "execute_result"
    }
   ],
   "source": [
    "binom.sf(k=4, p=p, n=n)*100"
   ]
  },
  {
   "cell_type": "markdown",
   "metadata": {},
   "source": [
    "### Qual a cara da distribuição?"
   ]
  },
  {
   "cell_type": "code",
   "execution_count": 50,
   "metadata": {},
   "outputs": [
    {
     "name": "stdout",
     "output_type": "stream",
     "text": [
      "p(0) = 1.73% \t p_acum(0) = 1.734%\n",
      "p(1) = 8.67% \t p_acum(1) = 10.405%\n",
      "p(2) = 19.51% \t p_acum(2) = 29.914%\n",
      "p(3) = 26.01% \t p_acum(3) = 55.926%\n",
      "p(4) = 22.76% \t p_acum(4) = 78.687%\n",
      "p(5) = 13.66% \t p_acum(5) = 92.344%\n",
      "p(6) = 5.69% \t p_acum(6) = 98.034%\n",
      "p(7) = 1.63% \t p_acum(7) = 99.660%\n",
      "p(8) = 0.30% \t p_acum(8) = 99.964%\n",
      "p(9) = 0.03% \t p_acum(9) = 99.998%\n",
      "p(10) = 0.00% \t p_acum(10) = 100.000%\n"
     ]
    }
   ],
   "source": [
    "n = 10\n",
    "p = 1/3\n",
    "\n",
    "k_list = [0, 1, 2, 3, 4, 5, 6, 7, 8, 9, 10]\n",
    "\n",
    "soma_total = 0\n",
    "for k in k_list:\n",
    "    \n",
    "    prob = binom.pmf(k=k, p=p, n=n)*100\n",
    "    \n",
    "    soma_total += prob\n",
    "    \n",
    "    print(\"p({}) = {:.2f}% \\t p_acum({}) = {:.3f}%\".format(k, prob, k, soma_total))"
   ]
  },
  {
   "cell_type": "code",
   "execution_count": 51,
   "metadata": {},
   "outputs": [
    {
     "data": {
      "text/plain": [
       "<AxesSubplot:ylabel='Probability'>"
      ]
     },
     "execution_count": 51,
     "metadata": {},
     "output_type": "execute_result"
    },
    {
     "data": {
      "image/png": "[encoded data removed]",
      "text/plain": [
       "<Figure size 432x288 with 1 Axes>"
      ]
     },
     "metadata": {
      "needs_background": "light"
     },
     "output_type": "display_data"
    }
   ],
   "source": [
    "data_binom = binom.rvs(n=10, p=1/3, size=1000)\n",
    "\n",
    "sns.histplot(data_binom, stat='probability')"
   ]
  },
  {
   "cell_type": "markdown",
   "metadata": {},
   "source": [
    "Um exemplo legal: [tabuleiro de Galton](https://pt.wikipedia.org/wiki/Tabuleiro_de_Galton)"
   ]
  },
  {
   "cell_type": "markdown",
   "metadata": {
    "colab_type": "text",
    "id": "yW5_oh4N0TFP"
   },
   "source": [
    "_________\n",
    "\n",
    "### **2.7.2) Distribuição de Poisson**\n",
    "\n",
    "\n",
    "É largamente empregada quando se deseja contar o número de eventos de certo tipo que ocorrem num intervalo de tempo.\n",
    "\n",
    "Exemplos:\n",
    "\n",
    "- Número de chamadas recebidas por um telefone durante 5 minutos;\n",
    "- Número de falhas de um computador num dia de operação.\n",
    "\n",
    "**Definição**\n",
    "\n",
    "Dizemos que a V.A. N tem distribuição Poisson com parâmetro $\\lambda > 0$ se:\n",
    "\n",
    "$P(N=k) = \\frac{e^{-\\lambda}\\lambda^k}{k!}, k=0,1,2,...$\n",
    "\n",
    "A média e a variância de uma V.A. Poisson com parâmetro $\\lambda$ são dadas por:\n",
    "\n",
    "$E(N) = \\lambda$\n",
    "\n",
    "$Var(N) = \\lambda$\n",
    "\n",
    "\n",
    "\n"
   ]
  },
  {
   "cell_type": "markdown",
   "metadata": {},
   "source": [
    "#### **Características Importantes**\n",
    "\n",
    "1. A probabilidade de uma ocorrência é a mesma em todo o intervalo observado.\n",
    "2. O número de ocorrências em determinado intervalo é independente do número de ocorrências em outros intervalos.\n",
    "3. A probabilidade de uma ocorrência é a mesma em intervalos de igual comprimento."
   ]
  },
  {
   "cell_type": "markdown",
   "metadata": {
    "colab_type": "text",
    "id": "RKQWuVgMG3DW"
   },
   "source": [
    "### Exemplo: Delivery"
   ]
  },
  {
   "cell_type": "markdown",
   "metadata": {
    "colab_type": "text",
    "id": "ZKc__49bG3DX"
   },
   "source": [
    "Um restaurante recebe em média **20 pedidos por hora**. Qual a chance de que, em determinada hora escolhida ao acaso, o restaurante receba **15 pedidos**?"
   ]
  },
  {
   "cell_type": "markdown",
   "metadata": {
    "colab_type": "text",
    "id": "W-MJ4XBkG3DX"
   },
   "source": [
    "**Qual o número médio de ocorrências por hora ($\\lambda$)?**"
   ]
  },
  {
   "cell_type": "code",
   "execution_count": 52,
   "metadata": {
    "colab": {
     "base_uri": "https://localhost:8080/",
     "height": 34
    },
    "colab_type": "code",
    "id": "2fVfJxdSG3DY",
    "outputId": "5f93f4cb-eef7-459d-836c-eb825cf3f1d5"
   },
   "outputs": [],
   "source": [
    "# esse é o lambda, que é a média\n",
    "\n",
    "l = 20"
   ]
  },
  {
   "cell_type": "markdown",
   "metadata": {
    "colab_type": "text",
    "id": "3SagRtPvG3Da"
   },
   "source": [
    "**Qual o número de ocorrências que queremos obter no período ($k$)?**"
   ]
  },
  {
   "cell_type": "code",
   "execution_count": 53,
   "metadata": {
    "colab": {
     "base_uri": "https://localhost:8080/",
     "height": 34
    },
    "colab_type": "code",
    "id": "yXB3QhWyG3Da",
    "outputId": "70e860fe-353f-43ba-98e9-0976282de023"
   },
   "outputs": [],
   "source": [
    "k = 15"
   ]
  },
  {
   "cell_type": "markdown",
   "metadata": {
    "colab_type": "text",
    "id": "3wFh3lFCG3De"
   },
   "source": [
    "### Solução 1"
   ]
  },
  {
   "cell_type": "code",
   "execution_count": 54,
   "metadata": {},
   "outputs": [],
   "source": [
    "import math"
   ]
  },
  {
   "cell_type": "code",
   "execution_count": 55,
   "metadata": {
    "colab": {
     "base_uri": "https://localhost:8080/",
     "height": 34
    },
    "colab_type": "code",
    "id": "IEGO31WCG3Df",
    "outputId": "3ededd4d-1b97-428a-ad3f-1b8facfc3e38"
   },
   "outputs": [
    {
     "data": {
      "text/plain": [
       "5.164885353175834"
      ]
     },
     "execution_count": 55,
     "metadata": {},
     "output_type": "execute_result"
    }
   ],
   "source": [
    "(np.exp(-l))*(l**k)/math.factorial(k)*100"
   ]
  },
  {
   "cell_type": "markdown",
   "metadata": {
    "colab_type": "text",
    "id": "GoIBvH62G3Di"
   },
   "source": [
    "### Importando bibliotecas"
   ]
  },
  {
   "cell_type": "markdown",
   "metadata": {
    "colab_type": "text",
    "id": "iFSF_9Y4G3Dj"
   },
   "source": [
    "https://docs.scipy.org/doc/scipy/reference/generated/scipy.stats.poisson.html"
   ]
  },
  {
   "cell_type": "markdown",
   "metadata": {
    "colab_type": "text",
    "id": "yAyXh0euG3Dk"
   },
   "source": [
    "### Solução 2"
   ]
  },
  {
   "cell_type": "code",
   "execution_count": 56,
   "metadata": {
    "colab": {
     "base_uri": "https://localhost:8080/",
     "height": 34
    },
    "colab_type": "code",
    "id": "sNw4oCAyG3Dk",
    "outputId": "21ded08e-1fc3-4315-c608-9c016af07e86"
   },
   "outputs": [],
   "source": [
    "from scipy.stats import poisson"
   ]
  },
  {
   "cell_type": "code",
   "execution_count": 57,
   "metadata": {},
   "outputs": [
    {
     "data": {
      "text/plain": [
       "5.164885353175814"
      ]
     },
     "execution_count": 57,
     "metadata": {},
     "output_type": "execute_result"
    }
   ],
   "source": [
    "poisson.pmf(k=k, mu=l)*100"
   ]
  },
  {
   "cell_type": "code",
   "execution_count": 58,
   "metadata": {},
   "outputs": [
    {
     "data": {
      "image/png": "[encoded data removed]",
      "text/plain": [
       "<Figure size 432x288 with 1 Axes>"
      ]
     },
     "metadata": {
      "needs_background": "light"
     },
     "output_type": "display_data"
    }
   ],
   "source": [
    "data_poisson = poisson.rvs(mu=20, size=1000)\n",
    "\n",
    "sns.histplot(data_poisson, stat=\"probability\")\n",
    "\n",
    "plt.show()"
   ]
  },
  {
   "cell_type": "markdown",
   "metadata": {},
   "source": [
    "### Qual a cara da distribuição?"
   ]
  },
  {
   "cell_type": "code",
   "execution_count": 59,
   "metadata": {
    "scrolled": false
   },
   "outputs": [
    {
     "data": {
      "image/png": "[encoded data removed]",
      "text/plain": [
       "<Figure size 432x288 with 1 Axes>"
      ]
     },
     "metadata": {
      "needs_background": "light"
     },
     "output_type": "display_data"
    },
    {
     "data": {
      "image/png": "[encoded data removed]",
      "text/plain": [
       "<Figure size 432x288 with 1 Axes>"
      ]
     },
     "metadata": {
      "needs_background": "light"
     },
     "output_type": "display_data"
    },
    {
     "data": {
      "image/png": "[encoded data removed]",
      "text/plain": [
       "<Figure size 432x288 with 1 Axes>"
      ]
     },
     "metadata": {
      "needs_background": "light"
     },
     "output_type": "display_data"
    },
    {
     "data": {
      "image/png": "[encoded data removed]",
      "text/plain": [
       "<Figure size 432x288 with 1 Axes>"
      ]
     },
     "metadata": {
      "needs_background": "light"
     },
     "output_type": "display_data"
    }
   ],
   "source": [
    "lambdas = [1, 10, 100, 1000]\n",
    "\n",
    "for lamb in lambdas:\n",
    "\n",
    "    data_poisson = poisson.rvs(mu=lamb, size=10000)\n",
    "\n",
    "    sns.histplot(data_poisson, stat=\"probability\")\n",
    "\n",
    "    plt.show()"
   ]
  },
  {
   "cell_type": "markdown",
   "metadata": {},
   "source": [
    "Pra saber um pouco mais de Poisson: https://www.inf.ufsc.br/~andre.zibetti/probabilidade/poisson.html"
   ]
  },
  {
   "cell_type": "markdown",
   "metadata": {
    "colab_type": "text",
    "id": "dsD4SeUw0TFU"
   },
   "source": [
    "_________\n",
    "\n",
    "### **2.7.3) Distribuição Normal / Gaussiana**\n",
    "\n",
    "É representada por uma **curva simétrica em torno do seu ponto médio**, apresentando assim seu famoso formato de **sino** (bell shape).  \n",
    "\n",
    "A curva de distribuição normal representa o comportamento de **diversos processos e fenômenos comuns**, como por exemplo: altura ou peso de uma população, a pressão sanguínea de um grupo de pessoas, o tempo que um grupo de estudantes gasta para realizar uma prova, etc.\n",
    "\n",
    "A distribuição normal serve também como base para a inferência estatística clássica, sendo a premissa em diversos modelos e métodos.\n",
    "\n",
    "Na distribuição normal, a média, mediana e moda dos dados possuem o mesmo valor. \n",
    "\n",
    "<img src=\"https://dietassessmentprimer.cancer.gov/images/learn/distribution1.jpg\">\n",
    "\n",
    "Usaremos a notação X ~ N($\\mu$,$\\sigma^2$) para representar uma variável aleatória **com distribuição normal** de média $\\mu$ e variância $\\sigma^2$.\n",
    "\n",
    "<img src=\"https://upload.wikimedia.org/wikipedia/commons/thumb/7/74/Normal_Distribution_PDF.svg/1280px-Normal_Distribution_PDF.svg.png\" width=500>\n",
    "\n",
    "A equação da distribuição normal é:\n",
    "\n",
    "<img src=\"https://www.onlinemathlearning.com/image-files/normal-distribution-formula.png\" width=200>\n",
    "\n"
   ]
  },
  {
   "cell_type": "code",
   "execution_count": 64,
   "metadata": {},
   "outputs": [
    {
     "data": {
      "text/plain": [
       "3.141592653589793"
      ]
     },
     "execution_count": 64,
     "metadata": {},
     "output_type": "execute_result"
    }
   ],
   "source": [
    "np.pi"
   ]
  },
  {
   "cell_type": "code",
   "execution_count": 73,
   "metadata": {},
   "outputs": [
    {
     "data": {
      "text/plain": [
       "2.718281828459045"
      ]
     },
     "execution_count": 73,
     "metadata": {},
     "output_type": "execute_result"
    }
   ],
   "source": [
    "np.e"
   ]
  },
  {
   "cell_type": "code",
   "execution_count": 69,
   "metadata": {},
   "outputs": [
    {
     "data": {
      "text/plain": [
       "array([ 2.71828183,  7.3890561 , 20.08553692, 54.59815003])"
      ]
     },
     "execution_count": 69,
     "metadata": {},
     "output_type": "execute_result"
    }
   ],
   "source": [
    "np.exp(np.array([1, 2, 3, 4]))"
   ]
  },
  {
   "cell_type": "code",
   "execution_count": 62,
   "metadata": {
    "scrolled": true
   },
   "outputs": [
    {
     "data": {
      "text/plain": [
       "[<matplotlib.lines.Line2D at 0xbfd7e48>]"
      ]
     },
     "execution_count": 62,
     "metadata": {},
     "output_type": "execute_result"
    },
    {
     "data": {
      "image/png": "[encoded data removed]",
      "text/plain": [
       "<Figure size 432x288 with 1 Axes>"
      ]
     },
     "metadata": {
      "needs_background": "light"
     },
     "output_type": "display_data"
    }
   ],
   "source": [
    "x = np.linspace(-5, 5, 400)\n",
    "\n",
    "mu = 0 \n",
    "sigma = 1\n",
    "\n",
    "# definição explícita da curva\n",
    "y = (1/(sigma*np.sqrt(2*np.pi)))*np.exp(-(x - mu)**2/2*sigma**2)\n",
    "\n",
    "plt.plot(x, y)\n",
    "\n",
    "\n",
    "mu = -2\n",
    "sigma = 1\n",
    "\n",
    "# definição explícita da curva\n",
    "y = (1/(sigma*np.sqrt(2*np.pi)))*np.exp(-(x - mu)**2/2*sigma**2)\n",
    "\n",
    "plt.plot(x, y)\n",
    "\n",
    "\n",
    "mu = -2\n",
    "sigma = 4\n",
    "\n",
    "# definição explícita da curva\n",
    "y = (1/(sigma*np.sqrt(2*np.pi)))*np.exp(-(x - mu)**2/2*sigma**2)\n",
    "\n",
    "plt.plot(x, y)\n",
    "\n"
   ]
  },
  {
   "cell_type": "code",
   "execution_count": 85,
   "metadata": {},
   "outputs": [
    {
     "data": {
      "text/plain": [
       "[<matplotlib.lines.Line2D at 0xc7fe348>]"
      ]
     },
     "execution_count": 85,
     "metadata": {},
     "output_type": "execute_result"
    },
    {
     "data": {
      "image/png": "[encoded data removed]",
      "text/plain": [
       "<Figure size 432x288 with 1 Axes>"
      ]
     },
     "metadata": {
      "needs_background": "light"
     },
     "output_type": "display_data"
    }
   ],
   "source": [
    "from scipy.stats import norm\n",
    "\n",
    "x = np.linspace(-5, 5, 100)\n",
    "\n",
    "mu = 0 \n",
    "sigma = 1\n",
    "# usando o scipy\n",
    "y = norm(loc=mu, scale=sigma).pdf(x)\n",
    "\n",
    "plt.plot(x, y, marker=\"o\")"
   ]
  },
  {
   "cell_type": "code",
   "execution_count": 78,
   "metadata": {
    "scrolled": true
   },
   "outputs": [
    {
     "data": {
      "text/plain": [
       "[<matplotlib.lines.Line2D at 0xc3d36c8>]"
      ]
     },
     "execution_count": 78,
     "metadata": {},
     "output_type": "execute_result"
    },
    {
     "data": {
      "image/png": "[encoded data removed]",
      "text/plain": [
       "<Figure size 432x288 with 1 Axes>"
      ]
     },
     "metadata": {
      "needs_background": "light"
     },
     "output_type": "display_data"
    }
   ],
   "source": [
    "import scipy\n",
    "\n",
    "x = np.linspace(-20, 20, 1000)\n",
    "\n",
    "mu = 0 \n",
    "sigma = 1\n",
    "# usando o scipy\n",
    "y = scipy.stats.norm(loc=mu, scale=sigma).pdf(x)\n",
    "\n",
    "plt.plot(x, y)"
   ]
  },
  {
   "cell_type": "code",
   "execution_count": 105,
   "metadata": {},
   "outputs": [
    {
     "data": {
      "text/plain": [
       "<AxesSubplot:ylabel='Count'>"
      ]
     },
     "execution_count": 105,
     "metadata": {},
     "output_type": "execute_result"
    },
    {
     "data": {
      "image/png": "[encoded data removed]",
      "text/plain": [
       "<Figure size 432x288 with 1 Axes>"
      ]
     },
     "metadata": {
      "needs_background": "light"
     },
     "output_type": "display_data"
    }
   ],
   "source": [
    "from scipy.stats import norm\n",
    "\n",
    "mu = 0 \n",
    "sigma = 1\n",
    "data_norm = norm.rvs(loc=mu, scale=sigma, size=100000)\n",
    "\n",
    "sns.histplot(data_norm)"
   ]
  },
  {
   "cell_type": "code",
   "execution_count": 102,
   "metadata": {},
   "outputs": [
    {
     "data": {
      "text/plain": [
       "array([], dtype=float64)"
      ]
     },
     "execution_count": 102,
     "metadata": {},
     "output_type": "execute_result"
    }
   ],
   "source": [
    "data_norm[abs(data_norm) > 4]"
   ]
  },
  {
   "cell_type": "code",
   "execution_count": 87,
   "metadata": {},
   "outputs": [
    {
     "data": {
      "text/plain": [
       "array([-0.14357401, -0.49904783,  1.62722019, ...,  0.85931848,\n",
       "       -0.05514048, -0.37585958])"
      ]
     },
     "execution_count": 87,
     "metadata": {},
     "output_type": "execute_result"
    }
   ],
   "source": [
    "data_norm"
   ]
  },
  {
   "cell_type": "code",
   "execution_count": 106,
   "metadata": {},
   "outputs": [
    {
     "data": {
      "text/plain": [
       "<AxesSubplot:ylabel='Count'>"
      ]
     },
     "execution_count": 106,
     "metadata": {},
     "output_type": "execute_result"
    },
    {
     "data": {
      "image/png": "[encoded data removed]",
      "text/plain": [
       "<Figure size 432x288 with 1 Axes>"
      ]
     },
     "metadata": {
      "needs_background": "light"
     },
     "output_type": "display_data"
    }
   ],
   "source": [
    "sns.histplot(data_norm)"
   ]
  },
  {
   "cell_type": "code",
   "execution_count": 109,
   "metadata": {},
   "outputs": [
    {
     "data": {
      "text/plain": [
       "1.0002030076111794"
      ]
     },
     "execution_count": 109,
     "metadata": {},
     "output_type": "execute_result"
    }
   ],
   "source": [
    "data_norm.std()"
   ]
  },
  {
   "cell_type": "code",
   "execution_count": 108,
   "metadata": {},
   "outputs": [
    {
     "data": {
      "text/plain": [
       "-0.005867577913229265"
      ]
     },
     "execution_count": 108,
     "metadata": {},
     "output_type": "execute_result"
    }
   ],
   "source": [
    "data_norm.mean()"
   ]
  },
  {
   "cell_type": "markdown",
   "metadata": {},
   "source": [
    "Na distribuição normal, os dados são distribuídos de forma muito particular, tal que o **desvio padrão** determina a proporção de dados em cada faixa:\n",
    "\n",
    "<img src=\"https://miro.medium.com/max/24000/1*IdGgdrY_n_9_YfkaCh-dag.png\" width=500>\n",
    "\n",
    "<img src=\"https://miro.medium.com/max/24000/1*IZ2II2HYKeoMrdLU5jW6Dw.png\" width=500>"
   ]
  },
  {
   "cell_type": "markdown",
   "metadata": {},
   "source": [
    "____\n",
    "____\n",
    "____"
   ]
  }
 ],
 "metadata": {
  "kernelspec": {
   "display_name": "Python 3",
   "language": "python",
   "name": "python3"
  },
  "language_info": {
   "codemirror_mode": {
    "name": "ipython",
    "version": 3
   },
   "file_extension": ".py",
   "mimetype": "text/x-python",
   "name": "python",
   "nbconvert_exporter": "python",
   "pygments_lexer": "ipython3",
   "version": "3.8.3"
  }
 },
 "nbformat": 4,
 "nbformat_minor": 2
}
