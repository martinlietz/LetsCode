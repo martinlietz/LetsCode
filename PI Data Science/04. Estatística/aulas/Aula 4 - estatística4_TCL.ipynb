{
 "cells": [
  {
   "cell_type": "markdown",
   "metadata": {},
   "source": [
    "# Aula 4 - Teorema Central do Limite\n",
    "\n",
    "Na aula de hoje, vamos explorar os seguintes tópicos em Python:\n",
    "\n",
    "- 1) Teorema Central do Limite\n",
    "\n",
    "Pq o nome? https://mathoverflow.net/questions/44132/what-are-central-limit-theorems-and-why-are-they-called-so"
   ]
  },
  {
   "cell_type": "markdown",
   "metadata": {},
   "source": [
    "___\n",
    "___\n",
    "___"
   ]
  },
  {
   "cell_type": "code",
   "execution_count": 1,
   "metadata": {},
   "outputs": [],
   "source": [
    "import numpy as np\n",
    "import pandas as pd\n",
    "\n",
    "import scipy\n",
    "\n",
    "import matplotlib.pyplot as plt\n",
    "%matplotlib inline\n",
    "\n",
    "import seaborn as sns"
   ]
  },
  {
   "cell_type": "markdown",
   "metadata": {},
   "source": [
    "____\n",
    "____\n",
    "____"
   ]
  },
  {
   "cell_type": "markdown",
   "metadata": {},
   "source": [
    "## 1) Teorema Central do Limite (TCL ou TLC)\n",
    "\n",
    "Esse é um dos teoremas mais poderosos e fundamentais da estatística, porque ele é usado **como base para muitos outros resultados**. \n",
    "\n",
    "A ideia é que muitos dos resultados de inferência estatística são válidos assumindo como hipótese que os dados sob análise (**mais precisamente, os estimadores pontuais**) seguem uma distribuição normal. \n",
    "\n",
    "No entanto, há muitos casos de interesse em que a **distribuição populacional não é normal** -- e, na verdade, não temos como saber com segurança qual é a distribuição populacional, dado que temos apenas acesso às amostras!\n",
    "\n",
    "Assim, a priori, muitos dos resultados e métodos da inferência estatística seriam invalidados, dado que não podemos assegurar qual é a distribuição populacional dos dados que estamos analisando.\n",
    "\n",
    "E é neste contexto que o TCL mostra seu poder e importância, pois ele mostra que **estimadores pontuais de parâmetros populacionais serão normalmente distribuídos, INDEPENDENTE DA DISTRIBUIÇÃO POPULACIONAL!**\n",
    "\n",
    "Vamos enunciá-lo, e depois veremos alguns exemplos:\n",
    "\n",
    "> Seja uma **amostra aleatória** ($x_1, x_2, \\cdots, x_n$) de uma variável aleatória $X$ com **qualquer distribuição**, média $\\mu$ e desvio padrão $\\sigma$. Para $n$ suficientemente grande ($n>30$), a **distribuição das médias amostrais**, $\\overline{X}$, se **aproxima de uma distribuição normal** com média $\\mu_{\\overline{x}} = \\mu$ e erro padrão $SE_{\\overline{X}} = \\frac{\\sigma}{\\sqrt{n}}$. Isto é, $$\\overline{X} \\sim N \\left(\\mu, \\frac{\\sigma}{\\sqrt{n}} \\right)$$\n",
    "OBS.: quando estamos falando do **estimador amostral do desvio padrão**, costumamos usar o termo **erro padrão** (standard error), denotado $SE$.\n",
    "\n",
    "Existe também uma versão do TCL para a **a distribuição de porporções amostrais**:\n",
    "\n",
    "> Seja uma **amostra aleatória** ($x_1, x_2, \\cdots, x_n$) de uma variável aleatória $X$ com **qualquer distribuição**, que tem como parâmetro populacional a proporção $p$. Se $np \\geq 10$ e $n(1-p) \\geq 10$, a **distribuição das proporções amostrais**, $\\hat{p}$, se **aproxima de uma distribuição normal** com média $\\mu_{\\hat{p}} = p$ e erro padrão $SE_{\\hat{p}} = \\sqrt{\\frac{p(1-p)}{n}}$. Isto é, $$\\hat{p} \\sim N \\left(p, \\sqrt{\\frac{p(1-p)}{n}} \\right)$$\n",
    "OBS.: como $p$ em geral é desconhecida, a condição de aplicação pode ser avaliada com: $n\\hat{p} \\geq 10$ e $n(1-\\hat{p}) \\geq 10$. "
   ]
  },
  {
   "cell_type": "markdown",
   "metadata": {},
   "source": [
    "O que o TCL para as médias diz, essencialmente, é:\n",
    "\n",
    "> A distribuição de **médias das amostras** tiradas de **qualquer distribuição populacional** será **aproximadamente normal**, contanto que fizermos uma quantidade razoável de amostras com tamanho amostral $n>30$.\n",
    "\n",
    "E, para as proporções:\n",
    "\n",
    "> A distribuição de **proporções das amostras** tiradas de **qualquer distribuição populacional** será **aproximadamente normal**, contanto que fizermos uma quantidade razoável de amostras com tamanho amostral tal que $np \\geq 10$ e $n(1-p) \\geq 10$.\n",
    "\n",
    "E isso é um resultado fantástico, pois nos permite a construção de uma **distribuição normal**, para a qual vale uma série de resultados e teoremas, a partir de **qualquer distribuição populacional**!\n",
    "\n",
    "Vamos ver alguns exemplos:"
   ]
  },
  {
   "cell_type": "markdown",
   "metadata": {},
   "source": [
    "____"
   ]
  },
  {
   "cell_type": "markdown",
   "metadata": {},
   "source": [
    "__População: Distribuição Uniforme__\n",
    "\n",
    "A **função densidade de probabilidade** da [distribuição uniforme](https://en.wikipedia.org/wiki/Continuous_uniform_distribution) é dada por:\n",
    "\n",
    "$$f(x) = \\left\\{\\begin{matrix}\n",
    "\\frac{1}{b-a} \\ ,  & a \\leq x \\leq b\\\\ \n",
    "0 \\ , & x\\leq a \\ \\text{ou} \\  x \\geq b\n",
    "\\end{matrix}\\right.$$\n",
    "\n",
    "Com:\n",
    "\n",
    "$$ \\mu = \\frac{1}{2}(a + b) $$\n",
    "\n",
    "$$ \\sigma = \\frac{1}{\\sqrt{12}}(b-a) $$"
   ]
  },
  {
   "cell_type": "code",
   "execution_count": 2,
   "metadata": {},
   "outputs": [
    {
     "data": {
      "image/png": "[encoded data removed]",
      "text/plain": [
       "<Figure size 576x360 with 1 Axes>"
      ]
     },
     "metadata": {
      "needs_background": "light"
     },
     "output_type": "display_data"
    },
    {
     "data": {
      "image/png": "[encoded data removed]",
      "text/plain": [
       "<Figure size 576x360 with 1 Axes>"
      ]
     },
     "metadata": {
      "needs_background": "light"
     },
     "output_type": "display_data"
    },
    {
     "name": "stdout",
     "output_type": "stream",
     "text": [
      "\n",
      "###############################################################\n",
      "\n",
      "Média da distribuição populacional: 5.0\n",
      "Desvio padrão da distribuição populacional: 2.886751345948129\n"
     ]
    }
   ],
   "source": [
    "plt.figure(figsize=(8, 5))\n",
    "plt.title(\"Distribuição uniforme\")\n",
    "\n",
    "# x de 0 a 10\n",
    "x = np.linspace(0, 10, 10000)\n",
    "\n",
    "# y = f(x)\n",
    "a = 0\n",
    "b = 10\n",
    "y = np.ones(10000)/(b-a)\n",
    "\n",
    "plt.plot(x, y)\n",
    "plt.axvline(x=0, ymax=0.5)\n",
    "plt.axvline(x=10, ymax=0.5)\n",
    "\n",
    "plt.show()\n",
    "\n",
    "###############################################################\n",
    "\n",
    "plt.figure(figsize=(8, 5))\n",
    "plt.title(\"1.000.000 números aleatórios tirados da distribuição uniforme\")\n",
    "\n",
    "amostra=np.random.random(1000000)*10\n",
    "sns.histplot(x=amostra, stat=\"density\")\n",
    "\n",
    "plt.show()\n",
    "\n",
    "###############################################################\n",
    "\n",
    "print(\"\\n###############################################################\\n\")\n",
    "\n",
    "print(\"Média da distribuição populacional:\", 0.5*(a+b))\n",
    "print(\"Desvio padrão da distribuição populacional:\", (1/np.sqrt(12))*(b-a))"
   ]
  },
  {
   "cell_type": "code",
   "execution_count": 3,
   "metadata": {
    "scrolled": true
   },
   "outputs": [
    {
     "name": "stdout",
     "output_type": "stream",
     "text": [
      "Amostra número 1\n",
      "[5.56711335 7.88258614 3.6099446  8.89719321 8.57788263 3.13892898\n",
      " 1.49225994 4.41571591 4.21358389 2.12128881 6.29442132 5.34890484\n",
      " 8.5493403  3.76363657 4.57303719 2.79017039 4.60251024 9.71715481\n",
      " 9.27905929 7.35978622 9.58807978 4.63864072 7.99936753 9.16991855\n",
      " 1.675004   2.88861133 2.20209672 1.73382132 0.6326977  2.38531132]\n",
      "\n",
      "Média da amostra: 5.170268918877181\n",
      "\n",
      "########################################################## \n",
      "\n",
      "Amostra número 2\n",
      "[5.90152504 4.4669125  4.07438231 0.8615586  4.02051694 1.09968311\n",
      " 1.39278836 0.96558569 3.63404768 0.55412904 8.00563216 9.06639715\n",
      " 4.46148382 4.63680078 1.85435154 0.97504876 0.80343486 7.0536967\n",
      " 6.10335967 0.46159213 1.0033999  6.62383062 1.12638467 9.82598192\n",
      " 8.40832874 8.22731211 2.75367175 8.43322781 2.34165665 8.24613904]\n",
      "\n",
      "Média da amostra: 4.2460953351522255\n",
      "\n",
      "########################################################## \n",
      "\n",
      "Amostra número 3\n",
      "[0.46714377 8.41782862 3.54028476 4.62528442 4.26796504 5.75622108\n",
      " 6.76133483 8.96111381 9.6668603  5.45625237 1.23468757 9.35548284\n",
      " 3.82151402 6.40699684 8.43187991 9.32906833 3.75104247 6.69306721\n",
      " 0.13107401 7.02178171 0.57089812 8.63422115 1.7179134  6.0748173\n",
      " 5.52998875 4.04236239 0.11302344 5.04100652 6.97851603 2.56092472]\n",
      "\n",
      "Média da amostra: 5.178685191122784\n",
      "\n",
      "########################################################## \n",
      "\n",
      "Amostra número 4\n",
      "[7.75750275 5.32888128 9.43556268 0.54814535 7.9779404  9.83791337\n",
      " 7.86969467 8.76100639 1.71129777 7.87569415 5.27608895 3.14861139\n",
      " 7.21688336 9.72632859 3.29921429 1.6940297  7.88675004 7.9070684\n",
      " 5.47483465 1.89357536 9.78267514 0.04604745 3.89665408 0.32449139\n",
      " 4.81822586 5.59884684 6.68020596 7.06573473 7.87208487 3.53625711]\n",
      "\n",
      "Média da amostra: 5.67494156575476\n",
      "\n",
      "########################################################## \n",
      "\n",
      "Amostra número 5\n",
      "[9.89447277 3.45779747 6.68959488 4.43928451 2.45588149 6.55427585\n",
      " 8.3930492  3.4842965  9.63832793 5.42510824 9.96373849 6.2781778\n",
      " 8.96756859 0.47402829 2.75597476 2.57988036 3.80000594 6.80566303\n",
      " 4.02647625 3.14784454 4.31219973 2.27268318 2.79918682 8.6295524\n",
      " 1.61992208 6.6630499  7.46858751 9.8517985  3.14434538 2.27298022]\n",
      "\n",
      "Média da amostra: 5.275525086432354\n",
      "\n",
      "########################################################## \n",
      "\n",
      "Amostra número 6\n",
      "[8.12032926 1.34361967 7.66722192 6.73173914 6.44072667 5.82001512\n",
      " 0.05462627 2.61230556 3.86630513 9.19468905 1.97594403 3.41235845\n",
      " 9.63355742 5.06733886 1.98269689 2.6517969  5.22576415 8.39082189\n",
      " 0.39826923 3.82637949 8.04008805 7.90165165 9.18674083 7.44273326\n",
      " 7.60692031 0.25455498 7.7254236  9.85523006 3.76241343 2.70895467]\n",
      "\n",
      "Média da amostra: 5.296707197380582\n",
      "\n",
      "########################################################## \n",
      "\n",
      "Amostra número 7\n",
      "[6.50486195 9.97000968 1.51271429 3.9588671  0.78697171 8.2828331\n",
      " 9.73958999 4.84152572 3.17749018 4.60331912 2.95334629 6.72425891\n",
      " 6.89160072 7.94056845 6.21207908 6.56332048 4.62821955 6.61954213\n",
      " 2.25176132 7.69069743 2.14278142 0.91262888 4.18258731 3.82691593\n",
      " 8.67997894 6.65213795 6.91397982 3.34268917 9.76137743 3.03051592]\n",
      "\n",
      "Média da amostra: 5.376638998714965\n",
      "\n",
      "########################################################## \n",
      "\n",
      "Amostra número 8\n",
      "[7.05788943 3.16989809 8.82746233 6.51561111 5.12091204 6.2667527\n",
      " 2.99024242 9.51153393 6.67820027 5.83903672 4.23799902 0.05633243\n",
      " 2.21235691 9.31081465 7.58401248 0.02028607 0.55525574 4.70866978\n",
      " 5.22748794 7.71938783 7.20913058 0.50349031 6.92629353 2.47136042\n",
      " 3.38689665 8.41589308 8.87975738 7.78882626 9.7966624  4.83853476]\n",
      "\n",
      "Média da amostra: 5.460899575602448\n",
      "\n",
      "########################################################## \n",
      "\n",
      "Amostra número 9\n",
      "[4.25669787 7.15970873 4.3793236  7.20400328 6.48547731 4.20020277\n",
      " 8.93440254 0.10770826 7.42256228 8.88520289 3.263745   0.06050319\n",
      " 2.5822453  8.24546144 5.02179177 5.24706795 2.48188946 0.69394359\n",
      " 7.61961065 2.09306762 8.56391568 9.02844859 8.7789751  6.10988616\n",
      " 8.17727207 6.38340854 7.44504597 2.04856758 7.97787911 5.7160345 ]\n",
      "\n",
      "Média da amostra: 5.552468294227017\n",
      "\n",
      "########################################################## \n",
      "\n",
      "Amostra número 10\n",
      "[5.15437419 5.47625517 6.15926147 7.78871974 1.16087802 3.43483467\n",
      " 6.73997627 0.71961407 1.72564527 6.95483099 1.41811458 1.57856912\n",
      " 5.5190695  9.96772907 0.09031827 4.0726114  8.25386185 2.73732235\n",
      " 7.36324208 2.52328099 3.48630254 3.14446164 1.75620684 3.32367038\n",
      " 8.5017112  1.38120482 4.34542269 0.6783019  7.33731604 6.87421275]\n",
      "\n",
      "Média da amostra: 4.322243996715106\n",
      "\n",
      "########################################################## \n",
      "\n",
      "Amostra número 11\n",
      "[5.65044642 3.7451174  8.42465762 8.42931894 8.7358459  8.83982899\n",
      " 1.82298474 9.59854045 1.09533735 9.33169199 5.41932439 6.66319188\n",
      " 5.0955341  2.24056066 8.6748929  9.56716577 4.1668927  0.95801885\n",
      " 2.34394154 3.64726749 7.90311612 7.8186499  5.24321268 7.66417441\n",
      " 5.472414   8.02471343 6.88071847 1.68647903 3.73659313 2.83258139]\n",
      "\n",
      "Média da amostra: 5.723773753994447\n",
      "\n",
      "########################################################## \n",
      "\n",
      "Amostra número 12\n",
      "[0.71612644 8.46414213 9.58674038 5.16723945 3.19010407 6.63645732\n",
      " 7.18102459 5.6170941  8.24478407 7.70133856 2.12075536 0.80974184\n",
      " 9.39813565 6.24115384 8.47383752 4.21268582 7.53419685 5.83765536\n",
      " 2.33217062 8.91254584 8.70775959 1.87381928 6.7293176  4.75988098\n",
      " 3.466223   0.53292644 2.61485562 3.51628556 1.4926863  6.73876134]\n",
      "\n",
      "Média da amostra: 5.293681517637762\n",
      "\n",
      "########################################################## \n",
      "\n",
      "Amostra número 13\n",
      "[8.41870815 8.57113847 0.78087932 0.77735996 1.23628441 8.22049381\n",
      " 1.37254419 6.45279914 3.83338705 9.36308943 5.38898895 3.76215311\n",
      " 1.16658884 6.79147019 9.83397772 2.72385463 1.20886911 6.58648679\n",
      " 3.71642648 4.12942055 0.36622695 0.56204609 4.6434041  4.33858918\n",
      " 3.48400628 1.35207141 6.10765642 3.53025011 1.82983338 3.19738667]\n",
      "\n",
      "Média da amostra: 4.1248796957751965\n",
      "\n",
      "########################################################## \n",
      "\n",
      "Amostra número 14\n",
      "[2.75973122 4.20651097 5.70424187 5.80380048 7.08737173 4.5491709\n",
      " 0.34307714 7.09228952 2.55651082 0.84265922 3.87411586 6.45684966\n",
      " 0.37423977 3.21428204 6.67834348 1.10438361 7.35798638 7.00610281\n",
      " 7.86115328 3.87903902 4.39169602 1.42738099 2.52920895 7.37908816\n",
      " 8.04401322 2.27562671 4.53737202 9.76126954 3.46292137 0.19119407]\n",
      "\n",
      "Média da amostra: 4.425054360344238\n",
      "\n",
      "########################################################## \n",
      "\n",
      "Amostra número 15\n",
      "[4.22560099 7.42082188 9.65695978 4.34549666 4.54484696 2.29455555\n",
      " 7.13730174 8.46315626 8.55121134 4.32273819 0.01094666 7.97380043\n",
      " 5.57818783 1.59962902 7.15939497 7.02925734 4.03895011 0.98906435\n",
      " 0.2546175  9.3575433  1.47693895 0.59697324 1.22323424 0.34986385\n",
      " 4.37977685 5.81540562 8.75986525 3.24621247 6.5708388  2.16943039]\n",
      "\n",
      "Média da amostra: 4.651420684205465\n",
      "\n",
      "########################################################## \n",
      "\n",
      "Amostra número 16\n",
      "[7.76026768 5.10975217 7.61761752 0.65355321 2.63304254 4.71257859\n",
      " 2.9309151  9.04771708 8.14520707 4.29809052 7.11970223 4.76441336\n",
      " 4.75316266 2.61550757 2.44830748 4.34102703 1.46127408 9.88625957\n",
      " 3.3005297  7.17131002 6.0201522  1.61829048 6.13060842 3.1693692\n",
      " 7.27780489 1.05942318 6.24318679 6.45596333 8.13502401 9.55563634]\n",
      "\n",
      "Média da amostra: 5.214523134480087\n",
      "\n",
      "########################################################## \n",
      "\n",
      "Amostra número 17\n",
      "[0.16455116 7.13821127 4.34092241 8.56653091 5.95623069 9.67120186\n",
      " 5.62458474 1.758358   7.28018109 7.32370441 0.28558804 1.80647885\n",
      " 9.43286891 1.84054274 6.41544488 7.51110711 9.08567611 0.13677993\n",
      " 0.71024561 6.42310891 8.49507063 3.66914602 2.89505853 0.53657519\n",
      " 4.53663109 5.13320464 1.45594601 6.86916638 3.31117637 6.66363904]\n",
      "\n",
      "Média da amostra: 4.834597717619816\n",
      "\n",
      "########################################################## \n",
      "\n",
      "Amostra número 18\n",
      "[8.77992418 1.01488022 7.39836425 8.66298669 2.06718723 0.64648706\n",
      " 0.27831468 5.80603252 1.78661492 8.37746353 2.3300219  8.25666517\n",
      " 7.22436353 8.33629466 8.87716707 1.88981452 1.8676319  2.3886508\n",
      " 0.35234968 9.354648   6.06352692 7.65263171 1.27634255 2.15867972\n",
      " 5.0823239  5.02851119 3.1438444  5.28792778 9.54468192 3.20420074]\n",
      "\n",
      "Média da amostra: 4.80461777811043\n",
      "\n",
      "########################################################## \n",
      "\n",
      "Amostra número 19\n",
      "[7.65622055 5.372798   5.91637941 6.94530172 6.94970691 7.18437272\n",
      " 7.06192078 9.17442242 1.82798819 4.10395241 0.63898839 6.06284586\n",
      " 8.72860985 4.71740338 5.46409866 4.65061052 5.15482226 0.88670353\n",
      " 1.75083868 7.21945685 9.54996303 1.59701404 6.62768899 5.95015558\n",
      " 3.80061453 9.06097116 8.7113959  2.54657052 4.2009482  8.46447909]\n",
      "\n",
      "Média da amostra: 5.599241404272859\n",
      "\n",
      "########################################################## \n",
      "\n",
      "Amostra número 20\n",
      "[7.84040356 4.07988986 6.85824246 8.65651694 7.79141495 0.8596709\n",
      " 5.02298752 7.067887   4.40482197 8.91057845 8.03338184 5.94688846\n",
      " 2.46938462 5.14125102 5.47147221 2.82580997 2.00432719 8.96096948\n",
      " 2.78844505 2.14345268 0.83931596 6.56316348 7.59625872 1.43696486\n",
      " 0.79819304 1.21190233 9.94047371 3.63952057 3.24622629 5.66413984]\n",
      "\n",
      "Média da amostra: 4.940465165302578\n",
      "\n",
      "########################################################## \n",
      "\n",
      "Amostra número 21\n",
      "[6.2923487  2.98518659 8.49612282 2.32971346 9.27251496 6.91062394\n",
      " 2.4634219  4.31030783 8.56740667 6.25654856 4.81164876 5.5953612\n",
      " 4.35348865 0.63543104 1.17250847 4.18990996 9.90756094 9.94134948\n",
      " 2.63116027 2.07361482 5.04771163 4.45705744 1.84382534 0.77549246\n",
      " 8.19249328 4.55521355 7.25063256 8.87882939 4.0705384  2.20351612]\n",
      "\n",
      "Média da amostra: 5.015717973409836\n",
      "\n",
      "########################################################## \n",
      "\n",
      "Amostra número 22\n",
      "[4.84419468 5.84394813 1.28539757 7.76135137 6.98109687 8.16028096\n",
      " 0.45481996 1.0791164  8.68911565 9.99914029 3.03619264 9.66998305\n",
      " 4.64479227 3.9486863  7.39044568 0.55327638 9.31721    4.24289377\n",
      " 2.24023284 4.11450978 2.78217933 0.22374426 1.38574376 3.24694516\n",
      " 9.80341299 4.6741459  5.25727115 6.61371665 0.81317962 7.32384366]\n",
      "\n",
      "Média da amostra: 4.879362235678229\n",
      "\n",
      "########################################################## \n",
      "\n",
      "Amostra número 23\n",
      "[3.71846968 6.6445963  2.34442267 1.78052206 0.39150823 3.48817085\n",
      " 6.18558954 9.21513607 7.11363069 9.72594632 2.15780096 5.85305746\n",
      " 8.16678544 2.5589705  6.00421336 9.25100075 2.28739509 7.33655399\n",
      " 4.06655484 3.41879021 8.72170646 2.37895233 1.80190748 9.30685446\n",
      " 7.15794427 2.09966745 2.54412145 3.09717213 9.43074678 4.33419486]\n",
      "\n",
      "Média da amostra: 5.086079422594538\n",
      "\n",
      "########################################################## \n",
      "\n",
      "Amostra número 24\n",
      "[5.9143663  7.33778848 1.84731554 9.87736056 0.89838443 2.91480207\n",
      " 6.58031728 7.2494722  7.91864733 3.45379665 5.98206834 1.29832151\n",
      " 6.22730699 4.49262945 0.72326366 0.26313064 8.95430099 2.80546605\n",
      " 1.87627748 3.41126494 1.97193312 9.04670862 2.69421013 9.89534867\n",
      " 2.99030445 1.77747803 6.93110737 9.59694424 4.44195305 9.29818041]\n",
      "\n",
      "Média da amostra: 4.955681632199158\n",
      "\n",
      "########################################################## \n",
      "\n",
      "Amostra número 25\n",
      "[0.25794544 5.5748903  9.9994797  1.7511493  5.03908961 7.49740216\n",
      " 0.28107658 9.61146069 6.3245818  7.24538504 6.4550996  1.57149462\n",
      " 2.09434083 8.81632588 2.85905464 9.55887911 8.07420882 1.92639959\n",
      " 1.4032651  5.29372158 7.9086317  1.46499963 9.61452077 8.02533356\n",
      " 1.54035138 1.64644815 0.95548647 3.02664672 5.21113778 7.1902313 ]\n",
      "\n",
      "Média da amostra: 4.940634594726489\n",
      "\n",
      "########################################################## \n",
      "\n",
      "Amostra número 26\n",
      "[7.55082541 0.38149315 9.85775425 4.78805257 7.52194147 0.17236645\n",
      " 7.37109183 0.35403859 9.82305759 7.57689044 0.63750619 1.70801146\n",
      " 2.70448173 1.96947128 4.88172158 9.03316205 8.6375871  2.75104222\n",
      " 8.73531662 3.16019686 7.23266738 1.42305155 1.95716223 2.53963237\n",
      " 2.06325327 6.82783676 9.90037293 3.74776654 6.224543   9.82830013]\n",
      "\n",
      "Média da amostra: 5.045353166765041\n",
      "\n",
      "########################################################## \n",
      "\n",
      "Amostra número 27\n",
      "[2.18143073 2.25423936 3.40673669 7.42047442 2.67906526 7.09231415\n",
      " 1.58191931 8.03041418 0.66838069 5.00328447 7.23887011 5.20683987\n",
      " 6.95943646 7.39282755 0.43676525 2.70151077 3.30964825 7.44979544\n",
      " 2.45368792 5.90066941 1.30190963 6.8014226  1.47096645 4.39664531\n",
      " 8.83835939 6.96551221 4.9997385  9.67091814 2.55560625 4.43791065]\n",
      "\n",
      "Média da amostra: 4.6935766469355595\n",
      "\n",
      "########################################################## \n",
      "\n",
      "Amostra número 28\n",
      "[4.40076656 1.27453472 4.76081366 1.99914008 6.06156588 7.3878959\n",
      " 0.85273761 9.79711907 8.11513029 9.53144157 4.05085797 4.73233106\n",
      " 5.14145537 8.39162718 3.58592319 8.38009979 4.16662643 9.47095631\n",
      " 1.23415077 2.44107988 3.75761073 5.88409582 0.39320069 3.94304614\n",
      " 5.90865995 8.02305421 8.02777695 5.12506869 8.57032193 2.8216543 ]\n",
      "\n",
      "Média da amostra: 5.274358089556092\n",
      "\n",
      "########################################################## \n",
      "\n",
      "Amostra número 29\n",
      "[0.10729171 9.38557348 5.00346754 6.33842295 0.82684177 2.65753887\n",
      " 9.38572673 7.8961729  8.4031365  8.09340038 7.33746255 8.98219079\n",
      " 9.53567912 8.40162234 9.4155498  1.65174861 4.43590214 8.7535582\n",
      " 7.8955436  3.42222827 7.86230545 8.67048053 2.86768009 9.27046848\n",
      " 8.08518009 5.25214488 1.04219983 0.37138694 7.76312968 2.39448076]\n",
      "\n",
      "Média da amostra: 6.050283832180141\n",
      "\n",
      "########################################################## \n",
      "\n",
      "Amostra número 30\n",
      "[3.57616395 5.80519322 2.61915469 0.35341666 3.12539362 1.92936204\n",
      " 2.43439137 6.67687893 6.36062611 0.27409297 4.95762561 2.26042728\n",
      " 9.33114719 6.03153259 9.13064421 8.30616694 7.16037388 4.6650231\n",
      " 8.50629191 0.86102597 6.26917324 8.97714534 8.4478063  1.71264602\n",
      " 2.65493522 6.70466285 0.32563471 2.1886353  4.29902379 3.89835113]\n",
      "\n",
      "Média da amostra: 4.661431537614601\n",
      "\n",
      "########################################################## \n",
      "\n",
      "Amostra número 31\n",
      "[4.80441896 7.60516065 9.11698829 8.14086188 8.75870364 5.11284586\n",
      " 2.28264004 9.74326465 0.63090936 0.67147145 5.50852736 2.88545184\n",
      " 0.34000486 5.61362366 1.8120292  5.61208417 5.42968632 0.92417791\n",
      " 5.68844841 4.24575855 1.94906986 3.8874092  2.76616373 4.47336174\n",
      " 4.43097845 1.53440834 5.33766682 5.49894274 0.934537   2.09978704]\n",
      "\n",
      "Média da amostra: 4.261312732831517\n",
      "\n",
      "########################################################## \n",
      "\n",
      "Amostra número 32\n",
      "[0.82917687 2.04229935 0.8805687  4.80622228 6.67907051 4.40041947\n",
      " 7.99279074 2.31666423 2.68675834 7.26809448 4.01902341 1.13766254\n",
      " 3.54526744 6.55279095 2.50155292 0.5674582  3.32848485 1.1101106\n",
      " 8.5822897  7.1425741  8.94302947 5.75365528 2.66542808 6.97086316\n",
      " 7.57477694 3.55576258 6.70871746 6.15697697 9.29263428 3.09567167]\n",
      "\n",
      "Média da amostra: 4.636893185352158\n",
      "\n",
      "########################################################## \n",
      "\n",
      "Amostra número 33\n",
      "[7.41762695 1.95381667 2.04020572 3.02313817 1.57245566 5.92704319\n",
      " 5.72768135 2.54482242 9.31785034 2.15406042 9.69595501 1.53717329\n",
      " 3.06639455 8.17524046 2.90121563 5.25763335 6.62299172 8.1749487\n",
      " 4.78248969 1.75160329 9.98479705 9.13689195 9.92408282 1.53990158\n",
      " 9.58189971 5.14183773 1.16844156 9.14102018 4.26238428 6.67766457]\n",
      "\n",
      "Média da amostra: 5.340108932891374\n",
      "\n",
      "########################################################## \n",
      "\n",
      "Amostra número 34\n",
      "[1.63329174 1.58803269 1.98408429 4.42419157 5.00357249 6.53420407\n",
      " 7.69893222 2.68105362 3.16460356 4.57305297 5.76078101 1.53237955\n",
      " 9.12354785 8.78133444 6.22938234 6.79816528 7.85795373 0.16942349\n",
      " 8.12071283 2.31548043 6.89071245 3.11797532 6.58698894 3.88287357\n",
      " 2.68842594 2.57255904 2.35853067 9.53453274 8.49167406 5.46789021]\n",
      "\n",
      "Média da amostra: 4.918878103868982\n",
      "\n",
      "########################################################## \n",
      "\n",
      "Amostra número 35\n",
      "[5.27845639 1.23633958 2.52191027 9.84843272 8.70831358 8.91740809\n",
      " 8.66110144 5.77191714 9.97905355 6.34190895 7.73214779 9.44495912\n",
      " 2.2244916  2.67556013 6.14113167 8.83523836 2.56483502 2.78061597\n",
      " 4.97104596 3.54433769 6.38971945 1.88957626 4.33153632 9.34934339\n",
      " 9.3774021  2.77250272 8.65320486 1.10335612 4.22786019 9.40986906]\n",
      "\n",
      "Média da amostra: 5.8561191821919465\n",
      "\n",
      "########################################################## \n",
      "\n",
      "Amostra número 36\n",
      "[7.94445669 6.06449664 8.12920144 4.69924947 8.91995837 9.05274664\n",
      " 5.56192872 0.68910459 0.84790208 1.64125426 4.20963897 7.67136919\n",
      " 4.89623122 4.29057495 5.30059615 8.38684613 5.21712848 8.87417307\n",
      " 5.76777921 8.32729876 0.6646823  2.15304159 0.39612824 7.92800237\n",
      " 1.35154279 3.34877443 8.63658722 1.42598879 9.69992534 4.50010448]\n",
      "\n",
      "Média da amostra: 5.219890420091918\n",
      "\n",
      "########################################################## \n",
      "\n",
      "Amostra número 37\n",
      "[6.18408697 3.2149647  8.01714282 0.12662113 0.46306161 1.39890405\n",
      " 8.85134399 1.70342062 7.18709334 2.37195493 8.78316487 8.47000362\n",
      " 2.11996336 9.10867743 9.52173605 2.53684407 8.28115592 8.97510042\n",
      " 7.83892045 8.23450065 9.90706927 7.494484   2.91076264 0.99046155\n",
      " 5.74747179 3.70422095 3.49082467 1.67700246 1.86228417 3.57554886]\n",
      "\n",
      "Média da amostra: 5.158293045693943\n",
      "\n",
      "########################################################## \n",
      "\n",
      "Amostra número 38\n",
      "[1.23032235 7.08863432 1.51775457 1.10724897 8.56561954 3.21856349\n",
      " 1.38134781 9.78025986 1.27274722 2.90913443 6.42792458 3.73574229\n",
      " 0.87022228 7.66130561 2.47240676 4.28291595 8.7799511  3.3338478\n",
      " 2.02146952 8.02980756 3.73663335 3.50298424 1.58303472 2.32746611\n",
      " 1.48216584 3.08824338 4.03170802 4.55668597 1.39890879 9.35800416]\n",
      "\n",
      "Média da amostra: 4.025102020251903\n",
      "\n",
      "########################################################## \n",
      "\n",
      "Amostra número 39\n",
      "[9.19370755 9.45851797 6.23667123 9.72883309 9.49824389 9.89227129\n",
      " 0.76723651 1.25765125 4.31821374 7.59976648 8.44291495 8.59213144\n",
      " 2.10351814 0.63280296 9.55381296 6.69060349 2.90241051 6.55591145\n",
      " 8.2961478  5.64117833 0.60195044 8.87052819 5.22574347 4.2456953\n",
      " 8.65266714 7.26851955 4.61696248 9.50509634 1.85293203 9.59494505]\n",
      "\n",
      "Média da amostra: 6.259919501567503\n",
      "\n",
      "########################################################## \n",
      "\n",
      "Amostra número 40\n",
      "[5.29165157 9.55867097 9.05872225 8.6001642  8.78762483 2.51013744\n",
      " 6.3694196  8.62493671 7.92155847 5.81043174 6.27283566 6.1088666\n",
      " 7.75459285 4.08371844 9.69848882 5.06572662 2.29957175 6.95473604\n",
      " 8.43643915 6.9231519  1.21588973 5.74756677 6.61672409 1.1597024\n",
      " 2.04502241 5.86089294 6.58946077 7.54628407 0.83368439 1.47175664]\n",
      "\n",
      "Média da amostra: 5.840614327412534\n",
      "\n",
      "########################################################## \n",
      "\n",
      "Amostra número 41\n",
      "[6.1888542  5.10343191 6.66346148 3.32399947 5.85069684 7.82511294\n",
      " 1.09339039 8.11839544 0.58756716 8.23380695 2.82910886 3.14102803\n",
      " 6.04561414 0.21275808 6.87481758 7.52081588 4.73325166 9.25847542\n",
      " 7.49564939 6.44475985 3.44032735 1.49392717 6.92397    2.04135577\n",
      " 4.78999321 5.1583391  4.35843105 5.09300892 4.04918939 3.66229257]\n",
      "\n",
      "Média da amostra: 4.951861007052495\n",
      "\n",
      "########################################################## \n",
      "\n",
      "Amostra número 42\n",
      "[5.23254801 2.72483899 4.78964806 8.77481393 0.47957191 4.78364256\n",
      " 5.52430009 6.54959528 9.80674193 5.17099504 2.87337199 7.24717091\n",
      " 9.14470927 6.38015891 4.58034688 1.18457963 0.27450255 0.87499025\n",
      " 8.5684369  3.54228512 5.081291   3.23787913 7.42745481 0.24824994\n",
      " 4.78760294 8.15766928 2.57310132 4.03946479 8.72999544 2.26048383]\n",
      "\n",
      "Média da amostra: 4.8350146905595235\n",
      "\n",
      "########################################################## \n",
      "\n",
      "Amostra número 43\n",
      "[3.37773739 3.89702295 0.08170935 3.46666033 9.75611266 3.84021347\n",
      " 6.80854849 6.45263123 2.41930829 6.14700979 2.68340434 5.40162239\n",
      " 1.31503648 2.98433044 0.32054092 5.38595647 4.35523398 4.35483785\n",
      " 9.26664011 2.92106544 9.95889334 8.57174988 2.12883698 3.17730804\n",
      " 4.0379373  4.71542396 0.47187302 5.71167541 3.85275232 4.61438592]\n",
      "\n",
      "Média da amostra: 4.415881952219327\n",
      "\n",
      "########################################################## \n",
      "\n",
      "Amostra número 44\n",
      "[3.06169879 2.24878525 9.73493952 6.13401681 2.04159053 8.1500673\n",
      " 5.85075499 6.07795487 6.27010636 7.11914189 1.59404666 1.17070847\n",
      " 8.41571202 1.03282739 7.95517501 1.80373969 7.03819631 5.56663646\n",
      " 5.24272661 8.92711215 0.93816875 9.84394551 6.84310956 0.78110106\n",
      " 5.93900375 4.25229859 7.24201154 3.91449386 8.06042922 9.05581041]\n",
      "\n",
      "Média da amostra: 5.410210311226231\n",
      "\n",
      "########################################################## \n",
      "\n",
      "Amostra número 45\n",
      "[4.56724162 4.13897523 1.21239909 8.57589286 6.4695132  6.8283299\n",
      " 5.27689896 1.26967102 8.24928782 0.45769277 4.0862624  3.15235808\n",
      " 4.60589478 1.44919869 7.8593738  6.75867426 0.16230633 9.11474331\n",
      " 1.0827787  7.33226953 8.66224986 4.26187856 0.20333125 8.58604139\n",
      " 7.28497348 6.50517847 7.49086756 2.92476571 0.14173731 0.92338968]\n",
      "\n",
      "Média da amostra: 4.654472521410779\n",
      "\n",
      "########################################################## \n",
      "\n",
      "Amostra número 46\n",
      "[9.81163452 4.59100133 8.81441322 3.0763524  2.1832838  1.69757062\n",
      " 5.52827662 9.08742852 0.21997585 8.99390349 5.51819869 2.64749019\n",
      " 2.34960948 9.24973665 3.77432797 1.33256664 3.98483693 1.79870383\n",
      " 0.48491982 2.80539135 7.36422436 2.56888818 1.05010538 8.47497799\n",
      " 4.29773784 2.96149669 4.01676486 0.43574896 2.51490646 3.96222305]\n",
      "\n",
      "Média da amostra: 4.186556522763574\n",
      "\n",
      "########################################################## \n",
      "\n",
      "Amostra número 47\n",
      "[7.10287019 0.6662629  7.2132694  1.95667921 3.77644633 2.42001353\n",
      " 8.29960133 3.02097689 0.02601431 8.56276094 7.52681044 7.4626809\n",
      " 5.57911058 3.88915621 7.23416852 2.64845909 0.83635647 8.863015\n",
      " 8.67546845 4.8389886  3.73557484 1.80903227 3.71244377 9.04226999\n",
      " 4.9651754  8.6449252  2.28838302 0.19388464 5.16668294 7.63487698]\n",
      "\n",
      "Média da amostra: 4.926411944552618\n",
      "\n",
      "########################################################## \n",
      "\n",
      "Amostra número 48\n",
      "[1.96725705 2.16777683 3.41009367 3.87563004 7.64688549 2.72623178\n",
      " 7.16536625 6.85780394 0.44805454 9.79603925 4.98212494 4.52308804\n",
      " 1.63333036 4.4910918  1.39600604 7.38053955 9.20929097 6.0984952\n",
      " 9.06399011 7.41290435 8.87281255 4.21158595 8.13838419 3.42058076\n",
      " 1.0946259  6.66852216 8.45235945 9.06240805 6.51262986 2.56771507]\n",
      "\n",
      "Média da amostra: 5.375120804068695\n",
      "\n",
      "########################################################## \n",
      "\n",
      "Amostra número 49\n",
      "[6.89111776 0.94226188 9.85885155 8.46021284 8.63730296 7.97533556\n",
      " 3.40722987 5.96154367 5.68306056 2.63008888 2.41723501 6.12736557\n",
      " 6.72993486 6.61373061 1.54315143 9.43409706 9.2232164  3.71182501\n",
      " 3.07612883 6.88479955 1.41816744 4.84058033 4.83195661 0.40041334\n",
      " 8.50322443 6.80356248 7.22856696 9.62318344 5.1546187  8.74089602]\n",
      "\n",
      "Média da amostra: 5.7917886538189665\n",
      "\n",
      "########################################################## \n",
      "\n",
      "Amostra número 50\n",
      "[6.42063321 4.6740187  4.58575948 8.97429859 1.07092181 2.37353184\n",
      " 8.16374031 0.17276016 4.64769636 6.4178594  7.29782961 2.50627283\n",
      " 1.23169724 2.7523066  0.79275302 4.01880842 5.12031911 6.96058419\n",
      " 2.19209541 3.38374557 4.71559828 3.65869506 0.59214352 5.32308707\n",
      " 6.6093924  0.39132279 6.77125591 3.95935522 3.12605039 0.59112514]\n",
      "\n",
      "Média da amostra: 3.9831885883550426\n",
      "\n",
      "########################################################## \n",
      "\n",
      "Amostra número 51\n",
      "[6.4762263  9.98778849 1.60722674 0.76540611 7.01992637 2.1722071\n",
      " 4.83896608 9.10209324 3.38275312 6.58514432 7.17411665 3.7631211\n",
      " 7.97195632 9.60258332 3.59783684 0.99389522 7.08775867 6.71983412\n",
      " 7.36521577 8.18461479 8.8092283  8.61479478 6.02623954 2.01655754\n",
      " 8.13593592 2.12797699 5.25953725 0.37943606 7.44385701 0.92955749]\n",
      "\n",
      "Média da amostra: 5.47139305226017\n",
      "\n",
      "########################################################## \n",
      "\n",
      "Amostra número 52\n",
      "[0.79020353 7.29669622 5.98723038 5.11737034 9.44626862 5.25798058\n",
      " 4.42124423 7.94839572 8.73089269 6.82238925 2.53852094 5.72185313\n",
      " 9.87314463 6.19117296 0.46706509 9.54766335 1.93972671 9.58421079\n",
      " 2.30980459 0.60763343 1.85118915 4.75098831 2.93778721 8.41253854\n",
      " 7.99538828 6.30004621 8.09263734 5.32290763 0.23130834 1.97376419]\n",
      "\n",
      "Média da amostra: 5.28226741284903\n",
      "\n",
      "########################################################## \n",
      "\n",
      "Amostra número 53\n",
      "[3.39995342 7.70024394 1.49971969 4.89981927 3.63622953 4.9347083\n",
      " 8.52765956 4.04568183 6.29924309 3.92553793 0.50481365 0.42893186\n",
      " 3.35914878 7.95749241 8.38600262 8.79006734 3.82740467 4.99602398\n",
      " 6.57164189 3.12127997 2.43727644 3.15191148 5.96460681 0.95042039\n",
      " 6.37279191 3.74149341 4.22054904 4.86186391 4.52312622 7.19397423]\n",
      "\n",
      "Média da amostra: 4.674320585938193\n",
      "\n",
      "########################################################## \n",
      "\n",
      "Amostra número 54\n",
      "[0.80551569 9.97907345 7.44008246 5.63789064 9.89216493 1.00675289\n",
      " 1.00214885 5.67335962 7.65686569 9.92921556 5.05463246 8.56237553\n",
      " 6.50335189 9.42950013 1.68865772 8.50109746 4.66655448 2.51583595\n",
      " 7.35659171 2.94999764 8.73032421 3.89151076 6.89701652 1.09280233\n",
      " 5.17840664 2.77825886 5.72515892 7.34306026 9.71437045 3.08549866]\n",
      "\n",
      "Média da amostra: 5.689602411600868\n",
      "\n",
      "########################################################## \n",
      "\n",
      "Amostra número 55\n",
      "[2.50629657 1.27675673 0.17940714 1.79948278 7.44281962 3.84108081\n",
      " 5.05435523 4.19087518 6.81473506 8.16880302 5.50914752 2.11074124\n",
      " 6.43621281 4.9970267  9.53058974 2.37848813 6.1563117  1.52736632\n",
      " 2.95578527 2.86194973 8.72394727 0.40383553 1.74295871 3.54410309\n",
      " 4.86434846 1.67453074 3.66696661 5.04865274 5.70743426 1.92500692]\n",
      "\n",
      "Média da amostra: 4.101333854676302\n",
      "\n",
      "########################################################## \n",
      "\n",
      "Amostra número 56\n",
      "[3.37653993 1.38800029 8.08273405 3.81720454 2.70801336 2.50605153\n",
      " 8.23505961 2.12520631 2.91621664 8.3094137  1.94745039 5.28424405\n",
      " 2.54923443 2.68637194 7.35596822 7.2153058  8.39436914 2.21244542\n",
      " 5.11735993 0.3637635  6.33830377 6.07091447 9.36439559 2.77678114\n",
      " 9.18431189 6.4101728  9.14805855 1.54974473 0.50368791 4.46717782]\n",
      "\n",
      "Média da amostra: 4.746816715615666\n",
      "\n",
      "########################################################## \n",
      "\n",
      "Amostra número 57\n",
      "[2.48203765 3.04555432 7.91032624 1.09453309 2.91639187 0.88822843\n",
      " 0.82796288 1.98424531 3.23649618 2.57480789 9.12490323 5.92237074\n",
      " 8.32916246 6.24614535 9.80455608 1.3080043  4.05736053 3.74854694\n",
      " 8.82476621 9.07045833 4.262163   8.32554729 2.27886822 2.51381791\n",
      " 5.97552582 6.66169408 5.55426823 8.96150672 0.62239916 0.53696963]\n",
      "\n",
      "Média da amostra: 4.63632060280062\n",
      "\n",
      "########################################################## \n",
      "\n",
      "Amostra número 58\n",
      "[7.65839646 9.68853985 8.94907953 2.0319626  5.19393335 2.57302877\n",
      " 9.31552116 6.41047326 0.36812209 5.8865061  0.23187285 4.34419929\n",
      " 9.04767562 1.04042705 1.41749094 2.65778611 7.93015145 3.96721917\n",
      " 4.7191895  2.17148562 2.58345302 8.57363595 5.45540634 8.15914208\n",
      " 0.37372768 8.34646595 1.58544121 4.73533911 7.3250696  8.89047746]\n",
      "\n",
      "Média da amostra: 5.0543739716353935\n",
      "\n",
      "########################################################## \n",
      "\n",
      "Amostra número 59\n",
      "[9.64875966 1.60283847 0.6410992  8.74276203 1.47343324 1.31298971\n",
      " 9.11040794 7.4974708  1.30466424 1.112385   1.71966636 8.83278243\n",
      " 2.56809001 7.7597023  3.35116932 8.01875481 4.76161254 1.48133735\n",
      " 4.86401657 4.8763741  4.21125416 6.737022   2.46920849 3.76882637\n",
      " 5.9437193  2.27059598 0.4480969  8.03545584 7.32408495 3.30991611]\n",
      "\n",
      "Média da amostra: 4.506616538303544\n",
      "\n",
      "########################################################## \n",
      "\n",
      "Amostra número 60\n",
      "[5.9674709  1.6169492  7.14510738 2.091631   7.62657214 2.047109\n",
      " 0.09600373 6.44118719 1.17944758 5.83537213 9.67957091 4.18198771\n",
      " 3.77136249 5.98148483 5.08380992 8.95634649 4.4717284  6.63354488\n",
      " 2.04091748 8.40176589 2.41973896 9.71782873 5.44631198 4.21900747\n",
      " 2.48451003 1.2546684  4.66635508 1.14095756 3.32047658 2.97282932]\n",
      "\n",
      "Média da amostra: 4.563068445218736\n",
      "\n",
      "########################################################## \n",
      "\n",
      "Amostra número 61\n",
      "[7.7415441  1.13194523 0.56520993 3.25900135 1.93221421 4.08143097\n",
      " 5.51550531 7.15988881 3.5995303  9.36057258 1.17703042 3.0803083\n",
      " 2.08601788 8.03851329 8.90270673 6.14307187 0.16564758 9.85259636\n",
      " 8.82511087 3.90962089 2.25598056 0.77684138 2.86519833 5.69202657\n",
      " 8.94288372 9.3578609  6.30539151 4.08663752 2.49000369 0.55272958]\n",
      "\n",
      "Média da amostra: 4.6617673580142585\n",
      "\n",
      "########################################################## \n",
      "\n",
      "Amostra número 62\n",
      "[2.5007823  7.43988703 8.95874741 5.88649696 5.84186175 2.06279126\n",
      " 0.13962875 8.68799968 3.03896815 2.88571027 3.0962471  3.62775375\n",
      " 2.86518763 8.33908334 3.56082003 0.71653344 2.15283225 7.68822291\n",
      " 1.73705943 7.84030347 4.55245926 6.03938954 0.51496685 3.64548298\n",
      " 4.26988734 4.45098289 1.1861065  9.90403573 6.80893999 4.91099208]\n",
      "\n",
      "Média da amostra: 4.511672002222188\n",
      "\n",
      "########################################################## \n",
      "\n",
      "Amostra número 63\n",
      "[2.90990818 4.52798067 3.32920711 0.56957319 5.31586125 5.68505133\n",
      " 5.11893402 7.77312025 4.0752108  2.87553316 8.32749891 8.19219437\n",
      " 9.37541048 5.01637683 6.637306   3.79969586 2.88392294 7.55517198\n",
      " 9.36440696 0.1266459  7.1906834  2.11911703 9.03717488 7.21776597\n",
      " 3.2710111  9.86402366 9.75167794 8.15130112 1.88844713 1.49247868]\n",
      "\n",
      "Média da amostra: 5.448089703350287\n",
      "\n",
      "########################################################## \n",
      "\n",
      "Amostra número 64\n",
      "[6.06119434 1.50794969 9.41985837 7.30750596 4.49603944 3.17772733\n",
      " 1.28332661 7.1796604  0.93844171 2.22793132 3.50517863 8.37652248\n",
      " 4.19617139 9.89434678 2.79514631 3.81359958 1.37129557 1.34935253\n",
      " 4.63760819 1.39133125 0.11549771 8.27307196 9.55192876 1.7748207\n",
      " 4.8454329  2.68223624 3.30656234 3.58551014 0.55251669 0.86253328]\n",
      "\n",
      "Média da amostra: 4.016009952752723\n",
      "\n",
      "########################################################## \n",
      "\n",
      "Amostra número 65\n",
      "[1.39019272 3.95808331 7.20128033 7.97219063 8.81402294 8.81907202\n",
      " 6.80127402 3.30121303 8.45790738 4.30678279 7.48750281 8.10440538\n",
      " 8.17462919 2.09539303 4.40354145 3.13509963 6.32563321 7.43589959\n",
      " 1.63411398 2.82608592 9.51443032 8.14778914 5.51169926 4.63378868\n",
      " 2.70654543 2.36823768 9.82604137 1.45903614 5.9129856  1.01098907]\n",
      "\n",
      "Média da amostra: 5.457862202020845\n",
      "\n",
      "########################################################## \n",
      "\n",
      "Amostra número 66\n",
      "[4.08941477 8.39595152 0.26038596 4.92970754 3.24734335 4.87764729\n",
      " 8.16462552 6.33427752 9.26799894 3.89125857 9.73091517 3.53403064\n",
      " 8.62310192 2.67718999 4.86063616 0.92278307 3.17140458 7.68401988\n",
      " 4.2371433  3.72284451 0.98553158 3.33442208 6.93741869 1.29286338\n",
      " 6.60896622 0.28785565 4.03418587 0.16216598 8.99529576 6.72443649]\n",
      "\n",
      "Média da amostra: 4.732860729744986\n",
      "\n",
      "########################################################## \n",
      "\n",
      "Amostra número 67\n",
      "[3.8945411  3.7236582  9.6050243  2.88097088 3.5782846  2.92268606\n",
      " 6.54235099 9.03904657 4.63166531 9.68106889 8.88727517 3.23132345\n",
      " 8.28375617 9.96640136 0.59853898 7.20023757 9.5925696  9.48930525\n",
      " 7.46265379 1.53668153 5.01701032 7.21229112 3.13320604 0.72508103\n",
      " 4.88102129 4.21944978 2.2806652  1.40509502 2.02765872 8.3303057 ]\n",
      "\n",
      "Média da amostra: 5.399327465811899\n",
      "\n",
      "########################################################## \n",
      "\n",
      "Amostra número 68\n",
      "[0.60549132 2.43139761 2.56413027 2.73900899 4.06791011 5.3913474\n",
      " 6.63038474 0.86757281 2.74373619 7.6300687  0.33989476 4.37433009\n",
      " 5.10438703 1.2019699  8.82239845 4.79769902 8.96409052 5.7461931\n",
      " 2.04286107 3.86510903 0.32639896 1.94326946 1.93088514 2.9395667\n",
      " 6.11426578 2.6890385  8.61285617 5.26726441 7.30370102 2.55787152]\n",
      "\n",
      "Média da amostra: 4.0205032923460955\n",
      "\n",
      "########################################################## \n",
      "\n",
      "Amostra número 69\n",
      "[1.78123815 8.17123927 5.00586421 5.46779882 3.27425212 6.62679909\n",
      " 8.50426006 5.56016083 6.09026858 7.60996465 6.64288993 2.88995164\n",
      " 4.55159015 6.80415604 9.50998114 0.09792643 9.16674263 2.48509049\n",
      " 3.83268034 7.72236129 3.10834096 6.95136949 5.73854991 7.59861181\n",
      " 9.39875082 9.77896352 2.68175668 7.15330355 6.7674153  2.40133513]\n",
      "\n",
      "Média da amostra: 5.779120433657961\n",
      "\n",
      "########################################################## \n",
      "\n",
      "Amostra número 70\n",
      "[6.52682789 5.39754993 5.96245038 5.42908243 4.30854267 4.38442173\n",
      " 8.42766719 8.20264433 7.15670823 0.65149488 7.09542148 1.55621515\n",
      " 2.8050918  8.28464355 3.36963147 7.76896992 7.33841719 6.56652327\n",
      " 5.49378146 0.9337246  6.60659322 4.21633127 5.15286167 3.56106828\n",
      " 0.11897335 2.05429636 6.68499964 3.52491423 8.06424327 2.70133869]\n",
      "\n",
      "Média da amostra: 5.011514318216837\n",
      "\n",
      "########################################################## \n",
      "\n",
      "Amostra número 71\n",
      "[1.73678779 2.48940388 3.9636195  3.10563036 9.17958522 8.19532271\n",
      " 3.06732598 0.37409321 8.60173793 7.48778126 0.8309694  6.51536852\n",
      " 4.90937817 3.71092428 6.67925076 1.38134921 7.02506645 8.4038453\n",
      " 4.43669143 8.9781103  6.07158217 1.57750763 9.17118421 1.35926391\n",
      " 0.59685655 2.34854929 2.36963564 4.92342132 1.98444196 8.00199249]\n",
      "\n",
      "Média da amostra: 4.649222561670304\n",
      "\n",
      "########################################################## \n",
      "\n",
      "Amostra número 72\n",
      "[8.90140646 3.91240863 5.44581142 8.60647172 4.03616112 9.9140155\n",
      " 3.79962558 2.66065362 2.26947459 9.79038445 5.19716192 1.21925307\n",
      " 6.25684068 0.44456392 3.39599978 2.199111   5.68576811 2.32105102\n",
      " 7.80424242 5.84162514 9.65526537 5.11117049 8.85421985 5.64165723\n",
      " 9.47549787 2.27763624 1.91703037 8.15510878 2.00421047 4.81679664]\n",
      "\n",
      "Média da amostra: 5.253687448630154\n",
      "\n",
      "########################################################## \n",
      "\n",
      "Amostra número 73\n",
      "[6.08685176 5.83398681 1.66147905 7.68203527 8.70851214 5.45087343\n",
      " 4.39629274 7.79219406 1.84047801 4.98764494 1.21856358 3.85558031\n",
      " 5.54822804 3.15082315 7.85057484 7.67079706 5.29647139 9.26554121\n",
      " 0.21268987 6.51560268 4.78368624 8.91709564 2.47264098 3.51328733\n",
      " 9.83841215 8.52045362 3.01213442 8.30109233 1.26439526 4.10219041]\n",
      "\n",
      "Média da amostra: 5.325020290107171\n",
      "\n",
      "########################################################## \n",
      "\n",
      "Amostra número 74\n",
      "[1.23741317 9.13897038 8.21913685 6.97184797 2.90234782 6.11577752\n",
      " 7.68539113 8.25910004 7.50219468 8.84869217 7.72495042 8.27417821\n",
      " 9.28817726 6.48688195 7.72128112 2.49341871 7.81130044 6.02430066\n",
      " 5.71444401 5.44068192 8.98616203 5.82396327 5.27701421 1.8185222\n",
      " 6.94274034 7.51165973 4.35604078 3.45296541 4.23060703 7.2811918 ]\n",
      "\n",
      "Média da amostra: 6.318045107713178\n",
      "\n",
      "########################################################## \n",
      "\n",
      "Amostra número 75\n",
      "[8.20292465 3.83335172 1.57868257 4.75737848 2.90466221 7.4016905\n",
      " 9.24749987 4.48721095 7.26131939 7.52964346 7.3081414  0.02739423\n",
      " 3.14709623 0.99609582 5.95075446 7.94984582 6.864413   3.77412951\n",
      " 6.99419378 0.72403902 0.35542437 5.42240698 8.59546311 8.95201049\n",
      " 9.60506596 4.9662709  4.88621543 9.83481882 7.31025772 0.11233941]\n",
      "\n",
      "Média da amostra: 5.366024675906983\n",
      "\n",
      "########################################################## \n",
      "\n",
      "Amostra número 76\n",
      "[0.15188324 9.75508532 5.99404822 2.70367217 9.52875378 6.26426446\n",
      " 8.30221739 5.92640788 0.79593964 0.22974121 8.98639013 3.53048149\n",
      " 4.27875388 7.94883443 3.31051761 7.16291528 2.18856103 0.15478952\n",
      " 6.95782215 4.90520095 1.21949429 2.50959576 7.50058065 0.15280447\n",
      " 7.68318929 8.1438359  6.02435403 2.12760219 3.77188697 0.13875326]\n",
      "\n",
      "Média da amostra: 4.611612553500248\n",
      "\n",
      "########################################################## \n",
      "\n",
      "Amostra número 77\n",
      "[9.44486539 9.31216972 2.16044706 6.90964484 6.05443796 4.06961567\n",
      " 7.38897259 5.91162764 8.3849227  8.83418455 3.22616093 0.37294045\n",
      " 5.24568374 9.2781681  8.30324568 3.79733098 3.77977299 6.74639243\n",
      " 7.06112481 2.16442392 5.65770662 2.04561075 1.5404373  0.64639539\n",
      " 6.75927604 7.0162853  8.56832114 5.91959855 7.00996152 7.4411061 ]\n",
      "\n",
      "Média da amostra: 5.701694361919163\n",
      "\n",
      "########################################################## \n",
      "\n",
      "Amostra número 78\n",
      "[1.5664896  2.4105261  1.00526113 5.77032903 2.63805502 5.11617734\n",
      " 5.74730888 1.37844601 2.37989594 1.73388209 1.70029494 1.28358522\n",
      " 3.08395673 1.30066095 6.62488459 2.16213615 0.98458916 5.25533016\n",
      " 2.01935684 3.5806226  5.20068467 8.16095592 8.4092036  0.03892128\n",
      " 4.34247169 2.64568619 3.10508423 6.81619028 8.5830575  1.23006178]\n",
      "\n",
      "Média da amostra: 3.5424701873155002\n",
      "\n",
      "########################################################## \n",
      "\n",
      "Amostra número 79\n",
      "[8.77708227 0.57897979 9.91878522 9.34113223 2.66541928 1.41348702\n",
      " 1.12520363 5.58590741 2.77219196 3.08714693 4.94666847 2.21575983\n",
      " 7.733551   8.90590357 9.29836351 7.83590872 1.09169516 3.85321269\n",
      " 0.81223937 1.04882752 6.11898958 1.9404748  6.66809889 7.27661845\n",
      " 6.38197637 2.50546034 4.25785237 0.12125822 1.22800508 3.26565737]\n",
      "\n",
      "Média da amostra: 4.425728567746723\n",
      "\n",
      "########################################################## \n",
      "\n",
      "Amostra número 80\n",
      "[0.47843431 4.92115891 2.5031401  2.29130642 2.54978991 7.32340055\n",
      " 5.99565445 1.28544641 2.21401518 6.92153844 3.03344848 9.83652298\n",
      " 3.9652399  1.89962148 2.67834297 5.28769615 7.61756884 6.9636813\n",
      " 6.08717009 0.2666577  8.26213025 9.17493499 6.91367936 8.45682571\n",
      " 3.66058169 5.43471456 0.57017629 5.97087241 7.9578763  5.63255996]\n",
      "\n",
      "Média da amostra: 4.871806202602241\n",
      "\n",
      "########################################################## \n",
      "\n",
      "Amostra número 81\n",
      "[3.20782059 8.2152021  3.31948169 1.70353449 9.20538265 2.8710452\n",
      " 2.66682148 1.91097442 2.80555007 3.97033789 7.27069176 9.56360526\n",
      " 5.06566251 9.27867534 7.99051581 7.74358501 0.81718108 1.44077634\n",
      " 9.61906966 6.91275219 1.56392734 6.1832409  1.70407274 7.55284352\n",
      " 4.06503687 3.89729363 4.93030437 4.57881635 8.2874551  9.01176178]\n",
      "\n",
      "Média da amostra: 5.2451139374696565\n",
      "\n",
      "########################################################## \n",
      "\n",
      "Amostra número 82\n",
      "[9.98332261 0.66451067 6.08626104 5.3101434  0.88979822 7.22801715\n",
      " 7.65905283 1.84783502 5.67756498 0.38603549 1.92050863 2.67327244\n",
      " 4.92750059 6.55325445 4.55998394 1.29683466 1.64088092 7.1539543\n",
      " 9.21074544 8.29191313 0.44894691 2.22392165 2.79343829 5.9559081\n",
      " 7.55593001 1.19990651 0.82111535 2.21035972 9.78008272 0.64904125]\n",
      "\n",
      "Média da amostra: 4.253334681122355\n",
      "\n",
      "########################################################## \n",
      "\n",
      "Amostra número 83\n",
      "[2.6247268  7.91439398 3.38784606 7.94317941 1.43932479 6.19962819\n",
      " 8.99519561 3.57754828 2.47934189 4.57663353 0.49734384 4.39390155\n",
      " 7.27139978 6.20778563 3.37165399 3.40203153 6.96911525 0.0135754\n",
      " 1.92336127 6.22991449 0.8650674  5.65688327 7.61415047 8.88292405\n",
      " 0.27412961 2.47921101 9.24582711 9.49342911 0.80412956 7.50816358]\n",
      "\n",
      "Média da amostra: 4.741393881073865\n",
      "\n",
      "########################################################## \n",
      "\n",
      "Amostra número 84\n",
      "[5.85189929 8.32652594 2.11801089 7.03462508 6.90358706 0.47230747\n",
      " 3.26666081 9.36210632 9.7143756  7.94374155 8.91787813 5.09778998\n",
      " 3.86653615 0.61614502 1.88645969 2.50857834 3.40817518 3.37559746\n",
      " 7.25987446 3.97740444 9.64535943 8.16877274 3.46122559 1.69454275\n",
      " 5.53206534 9.88941285 9.42210209 5.18792281 7.30477437 2.36933434]\n",
      "\n",
      "Média da amostra: 5.48612637196266\n",
      "\n",
      "########################################################## \n",
      "\n",
      "Amostra número 85\n",
      "[8.81066466 5.61597871 1.31519846 9.50916922 2.62905525 9.95334895\n",
      " 2.04036221 6.35201428 5.86648227 9.1556108  1.53754273 2.06649434\n",
      " 0.16763196 2.98646762 9.20370378 1.89096539 2.80115462 9.47545006\n",
      " 5.4682413  4.0944936  5.28310733 8.47066436 9.76562775 9.36602122\n",
      " 4.12657917 6.2478816  7.60164763 6.19038648 4.1153998  0.39148813]\n",
      "\n",
      "Média da amostra: 5.41662778907052\n",
      "\n",
      "########################################################## \n",
      "\n",
      "Amostra número 86\n",
      "[0.02531177 4.75556693 2.68611837 5.82961712 8.79048207 4.13678081\n",
      " 0.89922594 6.00202766 4.11569212 3.90442029 2.77881554 3.57716616\n",
      " 5.80466763 3.38631475 7.90929457 1.10737291 3.02957705 4.7962852\n",
      " 1.54138855 9.10406274 1.75663289 0.68310861 0.57092296 6.19984693\n",
      " 3.92089921 2.57142983 1.09825038 9.65697439 3.42222938 8.03809798]\n",
      "\n",
      "Média da amostra: 4.069952691344934\n",
      "\n",
      "########################################################## \n",
      "\n",
      "Amostra número 87\n",
      "[3.82940281 2.25514168 8.22254188 6.31286959 1.21075608 4.40559507\n",
      " 8.68121729 8.08087529 4.82287107 8.9514964  1.11565315 2.5416381\n",
      " 9.20799019 0.22757549 5.56774319 4.58165129 4.80848822 6.41066933\n",
      " 3.22877606 0.03583687 5.39582279 8.48291135 1.24744821 6.10402945\n",
      " 6.13665627 1.45520392 7.67982913 2.6948831  8.47084004 7.0046237 ]\n",
      "\n",
      "Média da amostra: 4.972367900395256\n",
      "\n",
      "########################################################## \n",
      "\n",
      "Amostra número 88\n",
      "[5.02741353 9.98004708 5.92355341 9.55921355 9.00422666 4.17833255\n",
      " 9.71539043 1.66281258 4.16968729 0.61793516 0.66746206 9.83895041\n",
      " 3.44546764 0.78784017 0.43168915 4.76032107 9.02605104 1.80909137\n",
      " 2.18150173 3.73510846 4.53470057 6.20979093 8.83922702 6.61567312\n",
      " 1.32652662 5.62955779 6.373973   3.20442283 1.72577799 3.16677925]\n",
      "\n",
      "Média da amostra: 4.804950815570586\n",
      "\n",
      "########################################################## \n",
      "\n",
      "Amostra número 89\n",
      "[6.25340209 9.07759293 6.19141546 7.38040145 1.98657438 7.05372043\n",
      " 5.01886685 0.56985612 0.26997113 4.52392915 9.18106208 7.5909044\n",
      " 7.42709311 8.6941637  3.55719199 2.02488431 9.22524623 1.40846777\n",
      " 7.62445766 7.69968693 9.82600527 2.14298314 1.11826156 6.03300438\n",
      " 1.59742423 1.09536145 3.43026081 6.89083347 6.14984832 0.29761675]\n",
      "\n",
      "Média da amostra: 5.044682919321213\n",
      "\n",
      "########################################################## \n",
      "\n",
      "Amostra número 90\n",
      "[4.43593929 6.73427012 2.14799352 6.41158143 0.45191854 9.75564333\n",
      " 8.35316364 8.38745053 4.99161163 8.71214251 3.93940871 4.3878564\n",
      " 0.86105176 3.19536303 0.95897736 4.83329351 2.81288414 0.76199488\n",
      " 4.63282065 5.32954715 1.70638469 4.94059735 5.72516921 4.42780539\n",
      " 6.86483994 8.765998   5.49302702 7.16576667 4.157859   2.6931068 ]\n",
      "\n",
      "Média da amostra: 4.801182206628836\n",
      "\n",
      "########################################################## \n",
      "\n",
      "Amostra número 91\n",
      "[2.80748045 7.74616979 7.35878498 0.89757015 3.49376979 4.45186266\n",
      " 5.77755468 6.37922927 3.44409521 1.69188035 1.61674699 9.74062398\n",
      " 6.49527457 1.71973941 2.42719427 6.04604982 1.26373611 4.11522521\n",
      " 5.40671268 3.91768123 3.29538042 5.44546263 0.47146415 3.90483614\n",
      " 3.02985766 4.14592659 1.07210601 9.67623008 0.23669851 0.52348857]\n",
      "\n",
      "Média da amostra: 3.953294412330126\n",
      "\n",
      "########################################################## \n",
      "\n",
      "Amostra número 92\n",
      "[4.38958518 9.64462204 4.67853857 3.20089968 7.33074159 9.82621842\n",
      " 5.9872555  7.69410223 6.25106648 8.77426808 3.09734846 7.11737752\n",
      " 7.40542706 3.31854376 4.29721698 6.72677125 7.27872374 0.4878797\n",
      " 4.55208584 4.63325018 1.82814047 2.08973073 1.8506349  1.40826545\n",
      " 9.42562502 4.43066395 7.96893133 4.96959149 3.76906463 9.67657914]\n",
      "\n",
      "Média da amostra: 5.470304978668938\n",
      "\n",
      "########################################################## \n",
      "\n",
      "Amostra número 93\n",
      "[5.04894813 9.68835995 7.36904709 6.22719204 7.69897982 6.45920909\n",
      " 0.79635155 5.61543826 4.78591306 1.72090748 1.85380535 3.40599522\n",
      " 9.90992106 9.01948641 5.5309882  8.12871299 5.94967043 8.50779659\n",
      " 9.93234212 5.02721649 5.11179469 0.34702552 6.87319724 8.56830244\n",
      " 4.37967435 6.30845031 9.40789729 4.82207865 8.06588976 1.13098117]\n",
      "\n",
      "Média da amostra: 5.923052425112116\n",
      "\n",
      "########################################################## \n",
      "\n",
      "Amostra número 94\n",
      "[0.22345912 7.17562576 1.79306069 2.33921924 5.92497295 6.99191291\n",
      " 0.92508057 2.76409081 7.37399403 8.05520248 7.10734435 2.93917803\n",
      " 0.74404239 6.53672147 2.89822491 5.4732071  3.28554638 8.88144615\n",
      " 4.99834774 7.28222943 4.65738803 5.91082409 1.19255159 8.27370624\n",
      " 7.90254089 1.89174679 5.09101616 6.00796984 6.45012189 7.50032233]\n",
      "\n",
      "Média da amostra: 4.953036479004262\n",
      "\n",
      "########################################################## \n",
      "\n",
      "Amostra número 95\n",
      "[4.27441304 4.95318151 9.0280168  6.33016439 5.80975233 1.73403685\n",
      " 5.61114286 7.2969096  7.53924561 1.55250722 1.88286509 1.11198949\n",
      " 7.68119274 3.05531137 1.88816926 6.69368261 9.75375926 9.79835614\n",
      " 9.83164976 4.46267946 2.38417933 0.30067891 1.97999418 8.74492451\n",
      " 5.73200727 0.82995574 8.31789294 0.1346477  1.20549134 8.92422572]\n",
      "\n",
      "Média da amostra: 4.961434101513913\n",
      "\n",
      "########################################################## \n",
      "\n",
      "Amostra número 96\n",
      "[6.78277484 8.0075149  6.43215927 9.99021294 6.66921261 9.35218623\n",
      " 7.19692845 4.69913066 7.04208216 4.21086561 3.07274699 3.66520161\n",
      " 6.84128095 2.17297517 7.14098132 6.87799748 7.7415152  4.11068341\n",
      " 6.00948538 5.29447415 4.15047947 8.32662983 2.57288588 5.90701485\n",
      " 0.27640244 5.01022985 6.68965514 4.62407692 1.53906017 7.67867423]\n",
      "\n",
      "Média da amostra: 5.6695172708105\n",
      "\n",
      "########################################################## \n",
      "\n",
      "Amostra número 97\n",
      "[7.22031331 7.85111521 6.61762728 4.94453107 8.45594973 6.09045844\n",
      " 7.31985708 0.83318876 2.43532565 7.58478851 3.356218   8.3951799\n",
      " 9.28609574 5.8825272  4.88569138 3.89429675 8.85568058 5.00606581\n",
      " 0.15542024 4.08817807 6.46734419 4.7130156  4.45018411 6.56714426\n",
      " 0.2642228  1.07729622 0.62412346 8.8129732  2.52124201 2.51876293]\n",
      "\n",
      "Média da amostra: 5.0391605830983615\n",
      "\n",
      "########################################################## \n",
      "\n",
      "Amostra número 98\n",
      "[6.75161281 4.74789524 1.40958486 8.18836958 8.75067669 3.06215536\n",
      " 2.24919293 9.42253535 8.81711734 9.82265058 0.30774744 5.30172078\n",
      " 7.72273706 9.77391817 9.14960306 6.06030761 8.21074925 8.61168996\n",
      " 3.05806313 7.77246097 1.66201108 3.30919029 7.14009719 7.92188161\n",
      " 0.09176668 5.34382421 4.22899754 3.38676373 9.97066004 7.66698326]\n",
      "\n",
      "Média da amostra: 5.997098793322063\n",
      "\n",
      "########################################################## \n",
      "\n",
      "Amostra número 99\n",
      "[2.21169899 2.46829219 6.51942563 6.91481496 3.42061635 8.02348496\n",
      " 5.71229516 7.52637415 0.90056961 0.78665822 6.48774611 6.77438097\n",
      " 5.93696011 7.57405895 1.85553542 1.02398927 9.90822333 1.67819203\n",
      " 0.17214704 2.42508712 0.0351431  8.32426012 3.95914461 8.74287743\n",
      " 3.2209367  1.52698189 1.78197926 1.385363   9.50343707 8.02645632]\n",
      "\n",
      "Média da amostra: 4.49423766925891\n",
      "\n",
      "########################################################## \n",
      "\n",
      "Amostra número 100\n",
      "[1.37058464 7.02143636 5.2757484  3.92344332 9.35686505 2.36086121\n",
      " 7.54085107 1.63520896 6.2965252  1.14447142 2.71914153 2.6874819\n",
      " 1.14169185 4.75141283 6.33169143 7.9813833  7.47411896 9.98263097\n",
      " 3.31316414 8.71847105 6.33612402 9.15579613 4.03123253 7.22058121\n",
      " 9.52358648 7.62118192 8.52899012 4.54820113 1.22858904 9.01968948]\n",
      "\n",
      "Média da amostra: 5.608038521031648\n",
      "\n",
      "########################################################## \n",
      "\n",
      "\n",
      "_____________________________________________________________________ \n",
      "\n",
      "\n",
      "Distribuição de médias amostrais:\n",
      "\n",
      "[5.170268918877181, 4.2460953351522255, 5.178685191122784, 5.67494156575476, 5.275525086432354, 5.296707197380582, 5.376638998714965, 5.460899575602448, 5.552468294227017, 4.322243996715106, 5.723773753994447, 5.293681517637762, 4.1248796957751965, 4.425054360344238, 4.651420684205465, 5.214523134480087, 4.834597717619816, 4.80461777811043, 5.599241404272859, 4.940465165302578, 5.015717973409836, 4.879362235678229, 5.086079422594538, 4.955681632199158, 4.940634594726489, 5.045353166765041, 4.6935766469355595, 5.274358089556092, 6.050283832180141, 4.661431537614601, 4.261312732831517, 4.636893185352158, 5.340108932891374, 4.918878103868982, 5.8561191821919465, 5.219890420091918, 5.158293045693943, 4.025102020251903, 6.259919501567503, 5.840614327412534, 4.951861007052495, 4.8350146905595235, 4.415881952219327, 5.410210311226231, 4.654472521410779, 4.186556522763574, 4.926411944552618, 5.375120804068695, 5.7917886538189665, 3.9831885883550426, 5.47139305226017, 5.28226741284903, 4.674320585938193, 5.689602411600868, 4.101333854676302, 4.746816715615666, 4.63632060280062, 5.0543739716353935, 4.506616538303544, 4.563068445218736, 4.6617673580142585, 4.511672002222188, 5.448089703350287, 4.016009952752723, 5.457862202020845, 4.732860729744986, 5.399327465811899, 4.0205032923460955, 5.779120433657961, 5.011514318216837, 4.649222561670304, 5.253687448630154, 5.325020290107171, 6.318045107713178, 5.366024675906983, 4.611612553500248, 5.701694361919163, 3.5424701873155002, 4.425728567746723, 4.871806202602241, 5.2451139374696565, 4.253334681122355, 4.741393881073865, 5.48612637196266, 5.41662778907052, 4.069952691344934, 4.972367900395256, 4.804950815570586, 5.044682919321213, 4.801182206628836, 3.953294412330126, 5.470304978668938, 5.923052425112116, 4.953036479004262, 4.961434101513913, 5.6695172708105, 5.0391605830983615, 5.997098793322063, 4.49423766925891, 5.608038521031648]\n"
     ]
    }
   ],
   "source": [
    "# tirando \"num\" amostras aleatórias de n=30 unidades\n",
    "\n",
    "# configuração da amostragem\n",
    "num=100\n",
    "n=30\n",
    "\n",
    "# lista de médias amostrais\n",
    "medias_amostrais = []\n",
    "\n",
    "for i in range(num):\n",
    "   \n",
    "    # amostra aleatória\n",
    "    amst = np.random.random(n)*10 \n",
    "    \n",
    "    # media da amostra\n",
    "    media_amostral = amst.mean()\n",
    "    \n",
    "    # apenda à lista\n",
    "    medias_amostrais.append(media_amostral)\n",
    "    \n",
    "\n",
    "    print(\"Amostra número\", i+1)\n",
    "    print(amst)\n",
    "    print(\"\\nMédia da amostra:\", media_amostral)\n",
    "\n",
    "    print(\"\\n########################################################## \\n\")\n",
    "\n",
    "print(\"\\n_____________________________________________________________________ \\n\")\n",
    "print(\"\\nDistribuição de médias amostrais:\\n\")\n",
    "print(medias_amostrais)"
   ]
  },
  {
   "cell_type": "code",
   "execution_count": 4,
   "metadata": {},
   "outputs": [
    {
     "data": {
      "image/png": "[encoded data removed]",
      "text/plain": [
       "<Figure size 432x288 with 1 Axes>"
      ]
     },
     "metadata": {
      "needs_background": "light"
     },
     "output_type": "display_data"
    },
    {
     "name": "stdout",
     "output_type": "stream",
     "text": [
      "\n",
      "###############################################################\n",
      "\n",
      "Média da distribuição de médias amostrais: 4.997678378794017 \t mediana: 4.997444953419476\n",
      "Erro padrão da distribuição de médias amostrais: 0.4543980322065783\n",
      "SE*sqrt(n): 2.8738654921426687\n",
      "\n",
      "###############################################################\n",
      "\n",
      "Média da distribuição populacional: 5.0\n",
      "Desvio padrão da distribuição populacional: 2.886751345948129\n",
      "\n",
      "###############################################################\n",
      "\n",
      "Erro na estimativa da média: 0.0023216212059828933\n"
     ]
    }
   ],
   "source": [
    "#_________________________________________________________\n",
    "# amostragem\n",
    "\n",
    "num=10000\n",
    "n=40\n",
    "medias_amostrais = np.array([(np.random.random(n)*10).mean() for _ in range(num)])\n",
    "\n",
    "# medidas da distribuição amostral\n",
    "media = medias_amostrais.mean()\n",
    "std = medias_amostrais.std()\n",
    "mediana = np.median(medias_amostrais)\n",
    "\n",
    "#_________________________________________________________\n",
    "# plot\n",
    "\n",
    "plt.title(\"Distribuição das médias amostrais\")\n",
    "\n",
    "# distribuição\n",
    "sns.histplot(medias_amostrais, kde=True, label=\"distribuição\")\n",
    "\n",
    "# reta da média\n",
    "plt.axvline(media, label=\"média\", color=\"orange\")\n",
    "# reta da mediana\n",
    "plt.axvline(mediana, label=\"mediana\", color=\"green\")\n",
    "\n",
    "plt.legend()\n",
    "plt.show()\n",
    "\n",
    "#_________________________________________________________\n",
    "# infos\n",
    "\n",
    "print(\"\\n###############################################################\\n\")\n",
    "\n",
    "print(\"Média da distribuição de médias amostrais:\", media, \"\\t mediana:\", mediana)\n",
    "print(\"Erro padrão da distribuição de médias amostrais:\", std)\n",
    "print(\"SE*sqrt(n):\", std*np.sqrt(n))\n",
    "\n",
    "print(\"\\n###############################################################\\n\")\n",
    "\n",
    "print(\"Média da distribuição populacional:\", 0.5*(a+b))\n",
    "print(\"Desvio padrão da distribuição populacional:\", (1/np.sqrt(12))*(b-a))\n",
    "\n",
    "print(\"\\n###############################################################\\n\")\n",
    "\n",
    "print(\"Erro na estimativa da média:\", abs(media - 0.5*(a+b)))"
   ]
  },
  {
   "cell_type": "markdown",
   "metadata": {},
   "source": [
    "____"
   ]
  },
  {
   "cell_type": "markdown",
   "metadata": {},
   "source": [
    "__População: Distribuição Gamma__\n",
    "\n",
    "A **função densidade de probabilidade** da [distribuição gamma](https://en.wikipedia.org/wiki/Gamma_distribution) é dada por:\n",
    "\n",
    "$$ f(x) = \\frac{\\beta^\\alpha x^{\\alpha-1}e^{-\\beta x}}{\\Gamma(\\alpha)} $$\n",
    "\n",
    "Com:\n",
    "\n",
    "$$ \\mu = \\frac{\\alpha}{\\beta} $$\n",
    "\n",
    "$$ \\sigma = \\frac{\\sqrt{\\alpha}}{\\beta} $$"
   ]
  },
  {
   "cell_type": "code",
   "execution_count": 5,
   "metadata": {},
   "outputs": [
    {
     "data": {
      "image/png": "[encoded data removed]",
      "text/plain": [
       "<Figure size 576x360 with 1 Axes>"
      ]
     },
     "metadata": {
      "needs_background": "light"
     },
     "output_type": "display_data"
    },
    {
     "data": {
      "image/png": "[encoded data removed]",
      "text/plain": [
       "<Figure size 576x360 with 1 Axes>"
      ]
     },
     "metadata": {
      "needs_background": "light"
     },
     "output_type": "display_data"
    },
    {
     "name": "stdout",
     "output_type": "stream",
     "text": [
      "\n",
      "###############################################################\n",
      "\n",
      "Média da distribuição populacional: 4.0\n",
      "Desvio padrão da distribuição populacional: 2.8284271247461903\n"
     ]
    }
   ],
   "source": [
    "import scipy\n",
    "\n",
    "plt.figure(figsize=(8, 5))\n",
    "plt.title(\"Distribuição gamma\")\n",
    "\n",
    "# x de 0 a 10\n",
    "x = np.linspace(0, 30, 10000)\n",
    "\n",
    "# y = f(x)\n",
    "alpha = 2\n",
    "beta = 1/2\n",
    "y = (beta**alpha)*(x**(alpha-1))*(np.exp(-beta*x))/scipy.special.gamma(alpha)\n",
    "\n",
    "plt.plot(x, y)\n",
    "\n",
    "plt.show()\n",
    "\n",
    "###############################################################\n",
    "\n",
    "plt.figure(figsize=(8, 5))\n",
    "plt.title(\"1.000.000 números aleatórios tirados da distribuição gamma\")\n",
    "\n",
    "amostra=np.random.gamma(shape=alpha, scale=1/beta, size=1000000)\n",
    "\n",
    "sns.histplot(x=amostra, stat=\"density\")\n",
    "\n",
    "plt.show()\n",
    "\n",
    "###############################################################\n",
    "\n",
    "print(\"\\n###############################################################\\n\")\n",
    "\n",
    "print(\"Média da distribuição populacional:\", alpha/beta)\n",
    "print(\"Desvio padrão da distribuição populacional:\", np.sqrt(alpha)/beta)"
   ]
  },
  {
   "cell_type": "code",
   "execution_count": 6,
   "metadata": {},
   "outputs": [
    {
     "data": {
      "image/png": "[encoded data removed]",
      "text/plain": [
       "<Figure size 432x288 with 1 Axes>"
      ]
     },
     "metadata": {
      "needs_background": "light"
     },
     "output_type": "display_data"
    },
    {
     "name": "stdout",
     "output_type": "stream",
     "text": [
      "\n",
      "###############################################################\n",
      "\n",
      "Média da distribuição de médias amostrais: 4.001550235573542 \t mediana: 3.987870364511361\n",
      "Erro padrão da distribuição de médias amostrais: 0.4010497813975388\n",
      "SE*sqrt(n): 2.835850200195822\n",
      "\n",
      "###############################################################\n",
      "\n",
      "Média da distribuição populacional: 4.0\n",
      "Desvio padrão da distribuição populacional: 2.8284271247461903\n",
      "\n",
      "###############################################################\n",
      "\n",
      "Erro na estimativa da média: 0.001550235573541947\n"
     ]
    }
   ],
   "source": [
    "#_________________________________________________________\n",
    "# amostragem\n",
    "\n",
    "num=100000\n",
    "n=50\n",
    "medias_amostrais = [(np.random.gamma(shape=alpha, scale=1/beta, size=n)).mean() for i in range(num)]\n",
    "\n",
    "# medidas da distribuição amostral\n",
    "media = np.array(medias_amostrais).mean()\n",
    "std = np.array(medias_amostrais).std()\n",
    "mediana = np.median(np.array(medias_amostrais))\n",
    "\n",
    "#_________________________________________________________\n",
    "# plot\n",
    "\n",
    "plt.title(\"Distribuição das médias amostrais\")\n",
    "\n",
    "# distribuição\n",
    "sns.histplot(medias_amostrais, kde=True, label=\"distribuição\")\n",
    "\n",
    "# reta da média\n",
    "plt.axvline(media, label=\"média\", color=\"orange\")\n",
    "# reta da mediana\n",
    "plt.axvline(mediana, label=\"mediana\", color=\"green\")\n",
    "\n",
    "plt.legend()\n",
    "plt.show()\n",
    "\n",
    "#_________________________________________________________\n",
    "# infos\n",
    "\n",
    "print(\"\\n###############################################################\\n\")\n",
    "\n",
    "print(\"Média da distribuição de médias amostrais:\", media, \"\\t mediana:\", mediana)\n",
    "print(\"Erro padrão da distribuição de médias amostrais:\", std)\n",
    "print(\"SE*sqrt(n):\", std*np.sqrt(n))\n",
    "\n",
    "print(\"\\n###############################################################\\n\")\n",
    "\n",
    "print(\"Média da distribuição populacional:\", alpha/beta)\n",
    "print(\"Desvio padrão da distribuição populacional:\", np.sqrt(alpha)/beta)\n",
    "\n",
    "print(\"\\n###############################################################\\n\")\n",
    "\n",
    "print(\"Erro na estimativa da média:\", abs(media - alpha/beta))"
   ]
  },
  {
   "cell_type": "markdown",
   "metadata": {},
   "source": [
    "____"
   ]
  },
  {
   "cell_type": "markdown",
   "metadata": {},
   "source": [
    "__População: Distribuição exponencial__\n",
    "\n",
    "A **função densidade de probabilidade** da [distribuição exponencial](https://en.wikipedia.org/wiki/Exponential_distribution) é dada por:\n",
    "\n",
    "$$f(x) = \\left\\{\\begin{matrix}\n",
    "\\lambda e^{-\\lambda x} \\ ,  & x \\geq 0\\\\ \n",
    "0 \\ , & x <0\n",
    "\\end{matrix}\\right.$$\n",
    "\n",
    "Com:\n",
    "\n",
    "$$ \\mu = \\frac{1}{\\lambda} $$\n",
    "\n",
    "$$ \\sigma = \\frac{1}{\\lambda} $$"
   ]
  },
  {
   "cell_type": "code",
   "execution_count": 7,
   "metadata": {},
   "outputs": [
    {
     "data": {
      "image/png": "[encoded data removed]",
      "text/plain": [
       "<Figure size 576x360 with 1 Axes>"
      ]
     },
     "metadata": {
      "needs_background": "light"
     },
     "output_type": "display_data"
    },
    {
     "data": {
      "image/png": "[encoded data removed]",
      "text/plain": [
       "<Figure size 576x360 with 1 Axes>"
      ]
     },
     "metadata": {
      "needs_background": "light"
     },
     "output_type": "display_data"
    },
    {
     "name": "stdout",
     "output_type": "stream",
     "text": [
      "\n",
      "###############################################################\n",
      "\n",
      "Média da distribuição populacional: 2.0\n",
      "Desvio padrão da distribuição populacional: 2.0\n"
     ]
    }
   ],
   "source": [
    "plt.figure(figsize=(8, 5))\n",
    "plt.title(\"Distribuição exponencial\")\n",
    "\n",
    "# x de 0 a 10\n",
    "x = np.linspace(0, 25, 10000)\n",
    "\n",
    "# y = f(x)\n",
    "lbda = 0.5\n",
    "y = lbda*np.exp(-lbda*x)\n",
    "\n",
    "plt.plot(x, y)\n",
    "\n",
    "plt.show()\n",
    "\n",
    "###############################################################\n",
    "\n",
    "plt.figure(figsize=(8, 5))\n",
    "plt.title(\"1.000.000 números aleatórios tirados da distribuição exponencial\")\n",
    "\n",
    "amostra=np.random.exponential(scale=1/lbda, size=1000000)\n",
    "\n",
    "sns.histplot(x=amostra, stat=\"density\")\n",
    "\n",
    "plt.show()\n",
    "\n",
    "###############################################################\n",
    "\n",
    "print(\"\\n###############################################################\\n\")\n",
    "\n",
    "print(\"Média da distribuição populacional:\", 1/lbda)\n",
    "print(\"Desvio padrão da distribuição populacional:\", 1/lbda)"
   ]
  },
  {
   "cell_type": "code",
   "execution_count": 7,
   "metadata": {},
   "outputs": [
    {
     "data": {
      "image/png": "[encoded data removed]",
      "text/plain": [
       "<Figure size 432x288 with 1 Axes>"
      ]
     },
     "metadata": {
      "needs_background": "light"
     },
     "output_type": "display_data"
    },
    {
     "name": "stdout",
     "output_type": "stream",
     "text": [
      "\n",
      "###############################################################\n",
      "\n",
      "Média da distribuição de médias amostrais: 2.001007605826663 \t mediana: 1.9877272282934735\n",
      "Erro padrão da distribuição de médias amostrais: 0.2834349003110675\n",
      "SE*sqrt(n): 2.004187400348889\n",
      "\n",
      "###############################################################\n",
      "\n",
      "Média da distribuição populacional: 2.0\n",
      "Desvio padrão da distribuição populacional: 2.0\n",
      "\n",
      "###############################################################\n",
      "\n",
      "Erro na estimativa da média: 0.0010076058266630383\n"
     ]
    }
   ],
   "source": [
    "#_________________________________________________________\n",
    "# amostragem\n",
    "\n",
    "num=100000\n",
    "n=50\n",
    "medias_amostrais = [(np.random.exponential(scale=1/lbda, size=n)).mean() for i in range(num)]\n",
    "\n",
    "# medidas da distribuição amostral\n",
    "media = np.array(medias_amostrais).mean()\n",
    "std = np.array(medias_amostrais).std()\n",
    "mediana = np.median(np.array(medias_amostrais))\n",
    "\n",
    "#_________________________________________________________\n",
    "# plot\n",
    "\n",
    "plt.title(\"Distribuição das médias amostrais\")\n",
    "\n",
    "# distribuição\n",
    "sns.histplot(medias_amostrais, kde=True, label=\"distribuição\")\n",
    "\n",
    "# reta da média\n",
    "plt.axvline(media, label=\"média\", color=\"orange\")\n",
    "# reta da mediana\n",
    "plt.axvline(mediana, label=\"mediana\", color=\"green\")\n",
    "\n",
    "plt.legend()\n",
    "plt.show()\n",
    "\n",
    "#_________________________________________________________\n",
    "# infos\n",
    "\n",
    "print(\"\\n###############################################################\\n\")\n",
    "\n",
    "print(\"Média da distribuição de médias amostrais:\", media, \"\\t mediana:\", mediana)\n",
    "print(\"Erro padrão da distribuição de médias amostrais:\", std)\n",
    "print(\"SE*sqrt(n):\", std*np.sqrt(n))\n",
    "\n",
    "print(\"\\n###############################################################\\n\")\n",
    "\n",
    "print(\"Média da distribuição populacional:\", 1/lbda)\n",
    "print(\"Desvio padrão da distribuição populacional:\", 1/lbda)\n",
    "\n",
    "print(\"\\n###############################################################\\n\")\n",
    "\n",
    "print(\"Erro na estimativa da média:\", abs(media - 1/lbda))"
   ]
  },
  {
   "cell_type": "markdown",
   "metadata": {},
   "source": [
    "_____"
   ]
  },
  {
   "cell_type": "markdown",
   "metadata": {},
   "source": [
    "### 1.1) Tá, mas e daí?\n",
    "\n",
    "Vimos acima o TCL em ação, o que é bem legal.\n",
    "\n",
    "Mas na prática, não é muito conveniente fazermos diversas amostras para termos uma distribuição amostral!\n",
    "\n",
    "Na realidade, muitas vez temos recursos para fazer **apenas uma amostra**.\n",
    "\n",
    "A boa notícia é que **se estivermos nas condições de aplicação do TCL**, isso é tudo que basta: **UMA AMOSTRA!**\n",
    "\n",
    "Com uma única amostra, é possível calcularmos **nossos estimadores pontuais**, e, além disso (e mais importante): estimar uma **margem de erro** que nos dê, com certo grau de confiança, um intervalo de valores possíveis para o parâmetro populacional!\n",
    "\n",
    "Vamos entender isso melhor..."
   ]
  },
  {
   "cell_type": "markdown",
   "metadata": {},
   "source": [
    "_____"
   ]
  },
  {
   "cell_type": "markdown",
   "metadata": {},
   "source": [
    "### 1.2) Intervalos de confiança\n",
    "\n",
    "Quando calculamos um **estimador pontual** com base nos dados de uma amostra, esse valor do estimador é a **melhor (e única!) estimativa que temos para o parâmetro populacional**.\n",
    "\n",
    "Mas, como este estimador foi calculado com base em um pedaço reduzido da população, é natural **haja uma diferença com relação ao parâmetro populacional**.\n",
    "\n",
    "> Por isso, é importante que tenhamos um **intervalo de valores possíveis** para a estimativa do parâmetro populacioonal ao invés do estimador pontual (daí o nome \"pontual\", aliás)\n",
    "\n",
    "Especificar apenas o parâmetro pontual é como **pescar com uma lança**: é uma técnica precisa, mas tem alta chance de errar.\n",
    "\n",
    "Se queremos ter mais chances de caputrar o peixe, seria melhor **usar uma rede**: menos precisa, mas mais segura.\n",
    "\n",
    "O equivalente de \"pescar com uma rede\" é especificar um **intervalo de confiança**, ou seja, um **intervalo de valores para o parâmetro populacional**, com certo grau de confiança, ao invés de apresentarmos um único valor.\n",
    "\n",
    "Como o estimador pontual é nosso melhor palpite para o parâmetro populacional, faz sentido que ele seja o centro do intervalo de confiança. Mas como definir os limites do intervalo?\n",
    "\n",
    "<img src=\"https://i1.wp.com/itfeature.com/wp-content/uploads/2019/07/ci11.png?resize=644%2C216\" width=500>\n"
   ]
  },
  {
   "cell_type": "markdown",
   "metadata": {},
   "source": [
    "Para definir a **largura do intervalo de confiança**, utilizamos **o erro padrão**!\n",
    "\n",
    "> Sabemos que, **dentro das hipóteses do TCL**,\n",
    "- A **média da distribuição amostral será o parâmetro de interesse** ($\\mu_{\\bar{x}} = \\mu$, $\\mu_{\\hat{p}} = p$);\n",
    "- O erro padrão representa o **desvio padrão** do estimador pontual;\n",
    "- A distribuição amostral do estimador será **aproximadamente normal**\n",
    "\n",
    "Sabendo tudo isso, e sabendo que 95% dos dados estão centrados entre 1.96 desvios-padrão da dsitribuição normal,\n",
    "\n",
    "<img src=\"https://www.simplypsychology.org/NormalDist1.96.png?ezimgfmt=rs:380x256/rscb24/ng:webp/ngcb24\" width=400>\n",
    "\n",
    "> **Podemos construir um intervalo de confiança que se estende 1.96 erros padrões (SEs) do estimador pontual para estarmos 95% confiantes de que o intervalo captura o parâmetro populacional!**\n",
    "\n",
    "Isso significa que se fizéssemos **muitas amostras**, aproximadamente 95% dos intervalos de confiança construídos **conteriam o parâmetro populacional!**\n",
    "\n",
    "<img src=\"https://lh3.googleusercontent.com/y0l2Oz0E1AWPhKL_6-v5AnKJbf_63hOPlmvWWMTrHyXt9gXuZGP6VmnWU6HElc2MAmqevJwrMk8WrXI99LWI-3vAdYfoyMJ6iak-R3a7oyZOuNO4iBZiobOtjKGkKL6q9hXQdaAB\" width=900>"
   ]
  },
  {
   "cell_type": "markdown",
   "metadata": {
    "colab_type": "text",
    "id": "ku8CE67iG3Ge"
   },
   "source": [
    "**Níveis de confiança e significância**"
   ]
  },
  {
   "cell_type": "markdown",
   "metadata": {
    "colab_type": "text",
    "id": "mk6ZsvgyG3Gf"
   },
   "source": [
    "O **nível de confiança** ($1 - \\alpha$) representa a probabilidade de **acerto** da estimativa.\n",
    "\n",
    "De forma complementar, o **nível de significância** ($\\alpha$) expressa a probabilidade de **erro** da estimativa.\n",
    "\n",
    "O **nível de confiança** representa o grau de confiabilidade do resultado da estimativa estar dentro de determinado intervalo. Quando fixamos em uma pesquisa um **nível de confiança** de 95%, por exemplo, estamos assumindo que existe uma probabilidade de 95% dos resultados da pesquisa representarem bem a realidade, ou seja, estarem corretos.\n",
    "\n",
    "O **nível de confiança** de uma estimativa pode ser obtido a partir da área sob a curva normal como ilustrado na figura abaixo."
   ]
  },
  {
   "cell_type": "markdown",
   "metadata": {
    "colab_type": "text",
    "id": "WeGyDfvaG3Gg"
   },
   "source": [
    "![alt text](https://caelum-online-public.s3.amazonaws.com/1178-estatistica-parte2/01/img007.png)"
   ]
  },
  {
   "cell_type": "markdown",
   "metadata": {},
   "source": [
    "No caso que discutimos acima, tomando $1-\\alpha=95\\%$, temos que:"
   ]
  },
  {
   "cell_type": "markdown",
   "metadata": {
    "colab_type": "text",
    "id": "T-3mV1qlUj1t"
   },
   "source": [
    "![alt text](https://caelum-online-public.s3.amazonaws.com/1178-estatistica-parte2/01/img008.png)"
   ]
  },
  {
   "cell_type": "markdown",
   "metadata": {},
   "source": [
    "De fato,"
   ]
  },
  {
   "cell_type": "code",
   "execution_count": 10,
   "metadata": {},
   "outputs": [
    {
     "data": {
      "text/plain": [
       "95.0004209703559"
      ]
     },
     "execution_count": 10,
     "metadata": {},
     "output_type": "execute_result"
    }
   ],
   "source": [
    "from scipy.stats import norm\n",
    "\n",
    "(norm.cdf(1.96) - norm.cdf(-1.96))*100"
   ]
  },
  {
   "cell_type": "markdown",
   "metadata": {},
   "source": [
    "Podemos também nos fazermos a pergunta inversa: dado um nível de confiança $1-\\alpha$, qual deve ser o valor de z?"
   ]
  },
  {
   "cell_type": "code",
   "execution_count": 12,
   "metadata": {},
   "outputs": [
    {
     "data": {
      "text/plain": [
       "(0.95, 0.050000000000000044)"
      ]
     },
     "execution_count": 12,
     "metadata": {},
     "output_type": "execute_result"
    }
   ],
   "source": [
    "conf = 0.95\n",
    "sig = 1 - conf\n",
    "\n",
    "conf, sig"
   ]
  },
  {
   "cell_type": "code",
   "execution_count": 13,
   "metadata": {},
   "outputs": [
    {
     "data": {
      "text/plain": [
       "0.975"
      ]
     },
     "execution_count": 13,
     "metadata": {},
     "output_type": "execute_result"
    }
   ],
   "source": [
    "conf + sig/2"
   ]
  },
  {
   "cell_type": "code",
   "execution_count": 14,
   "metadata": {},
   "outputs": [
    {
     "data": {
      "text/plain": [
       "1.959963984540054"
      ]
     },
     "execution_count": 14,
     "metadata": {},
     "output_type": "execute_result"
    }
   ],
   "source": [
    "conf = 0.95\n",
    "sig = 1 - conf\n",
    "\n",
    "# inversa da cdf: qual é o valor de z, que dá área igual ao argumento?\n",
    "norm.ppf(conf + sig/2)"
   ]
  },
  {
   "cell_type": "markdown",
   "metadata": {},
   "source": [
    "É comum usarmos a notação: $z_{\\alpha/2}=1.96$."
   ]
  },
  {
   "cell_type": "markdown",
   "metadata": {},
   "source": [
    "Assim,\n",
    "\n",
    "> **Se a distribuição amostral de um estimador pontual $EP$ se enquadra nas condições do TCL, o intervalo de confiança de 95% é dado por $$\\boxed{EP \\pm 1.96 \\  SE_{EP}}$$**\n",
    "\n",
    "Ou seja, para o caso da **média**, temos $\\bar{x} \\pm 1.96 \\ \\frac{\\sigma}{\\sqrt{n}}$\n",
    "\n",
    "E para o caso das proporções, $\\hat{p} \\pm 1.96 \\ \\sqrt{\\frac{p(1-p)}{n}}$\n",
    "\n",
    "Para diferentes graus de confiança, usamos diferentes multiplicadores\n",
    "\n",
    "<img src=\"https://s3-us-west-2.amazonaws.com/courses-images/wp-content/uploads/sites/1729/2017/04/15032441/m9_inference_two_proportion_topic_9_2_m9_est_diff_two_pop_prop_2_image3.png\" width=400>\n",
    "\n",
    "> **IC de 90%: $\\boxed{EP \\pm 1.645 \\  SE_{EP}}$**\n",
    "\n",
    "> **IC de 99%: $\\boxed{EP \\pm 2.576 \\  SE_{EP}}$**\n",
    "\n",
    "Naturalmente, quanto **mais largo o IC**, mais **confiança você tem que o parâmetro populacional é capturado dentro do intervalo**: quanto maior a rede, mais chance vc tem de pegar o peixe!"
   ]
  },
  {
   "cell_type": "markdown",
   "metadata": {},
   "source": [
    "### Agora deu pra perceber a importância de uma amostra grande?\n",
    "\n",
    "Note as equações para o SE da média e da proporção:\n",
    "\n",
    "\n",
    "Não somente um $n$ grande nos perimite usar o TCL (**e isso é um elemento fundamental de tudo o que fizemos!!**), como os SE são **inversamente proporcionais** a $\\sqrt{n}$, de modo que $$\\uparrow n  \\ \\ \\Leftrightarrow  \\ \\downarrow SE \\ \\ \\ \\Leftrightarrow \\  \\downarrow IC$$\n",
    "\n",
    "E, claro, quão menor é o IC, mais precisa é nossa estimativa para o parâmetro populacional!\n",
    "\n",
    "Vamos agora a alguns exemplos!\n",
    "\n",
    "_____\n"
   ]
  },
  {
   "cell_type": "markdown",
   "metadata": {},
   "source": [
    "**Exemplo 1**: Uma pesquisa feita com 1000 adultos aleatoriamente selecionados revelou que 848 deles eram a favor da expansão do uso de energia eólica no país."
   ]
  },
  {
   "cell_type": "code",
   "execution_count": 18,
   "metadata": {},
   "outputs": [
    {
     "data": {
      "text/plain": [
       "'Determinar qual é a proporção de pessoas do país favoráveis à expansão da energ. eólica'"
      ]
     },
     "execution_count": 18,
     "metadata": {},
     "output_type": "execute_result"
    }
   ],
   "source": [
    "# qual o interesse da pesquisa?\n",
    "\n",
    "\"Determinar qual é a proporção de pessoas do país favoráveis à expansão da energ. eólica\""
   ]
  },
  {
   "cell_type": "markdown",
   "metadata": {},
   "source": [
    "$p$ : proporção populacional"
   ]
  },
  {
   "cell_type": "code",
   "execution_count": 19,
   "metadata": {},
   "outputs": [
    {
     "data": {
      "text/plain": [
       "0.848"
      ]
     },
     "execution_count": 19,
     "metadata": {},
     "output_type": "execute_result"
    }
   ],
   "source": [
    "# qual é a proporção de pessoas, dentro desta amostra, que são a favor da \n",
    "# expansão do uso de energia eólica no pais?\n",
    "\n",
    "n = 1000\n",
    "\n",
    "p_hat = 848/n\n",
    "\n",
    "p_hat"
   ]
  },
  {
   "cell_type": "code",
   "execution_count": 28,
   "metadata": {},
   "outputs": [
    {
     "name": "stdout",
     "output_type": "stream",
     "text": [
      "check 1: sim, é amostra aleatória\n",
      "check 2: sim, amostra suficientemente grande!\n"
     ]
    }
   ],
   "source": [
    "# você considera razoável modelar a propoção de cidadãos que são a favor da expansão do uso de\n",
    "# energia eólica como uma distribuição normal?\n",
    "\n",
    "print(\"check 1: sim, é amostra aleatória\")\n",
    "\n",
    "if n*p_hat >= 10 and n*(1-p_hat) >= 10:\n",
    "    print(\"check 2: sim, amostra suficientemente grande!\")\n",
    "else:\n",
    "    print(\"Não podemos usar o TCL\")"
   ]
  },
  {
   "cell_type": "code",
   "execution_count": 29,
   "metadata": {},
   "outputs": [],
   "source": [
    "# n > 30"
   ]
  },
  {
   "cell_type": "code",
   "execution_count": 24,
   "metadata": {},
   "outputs": [
    {
     "data": {
      "text/plain": [
       "(848.0, 152.00000000000003)"
      ]
     },
     "execution_count": 24,
     "metadata": {},
     "output_type": "execute_result"
    }
   ],
   "source": [
    "n*p_hat, n*(1-p_hat)"
   ]
  },
  {
   "cell_type": "code",
   "execution_count": 23,
   "metadata": {},
   "outputs": [
    {
     "data": {
      "text/plain": [
       "True"
      ]
     },
     "execution_count": 23,
     "metadata": {},
     "output_type": "execute_result"
    }
   ],
   "source": [
    "n*p_hat >= 10"
   ]
  },
  {
   "cell_type": "code",
   "execution_count": 25,
   "metadata": {},
   "outputs": [
    {
     "data": {
      "text/plain": [
       "True"
      ]
     },
     "execution_count": 25,
     "metadata": {},
     "output_type": "execute_result"
    }
   ],
   "source": [
    "n*(1-p_hat) >= 10"
   ]
  },
  {
   "cell_type": "markdown",
   "metadata": {},
   "source": [
    "$\\hat{p} \\pm 1.96 \\ \\sqrt{\\frac{p(1-p)}{n}}$"
   ]
  },
  {
   "cell_type": "code",
   "execution_count": 36,
   "metadata": {},
   "outputs": [],
   "source": [
    "def calc_z_a2(conf):\n",
    "    \n",
    "    sig = 1 - conf\n",
    "\n",
    "    # inversa da cdf: qual é o valor de z, que dá área igual ao argumento?\n",
    "    return norm.ppf(conf + sig/2)"
   ]
  },
  {
   "cell_type": "code",
   "execution_count": 52,
   "metadata": {},
   "outputs": [],
   "source": [
    "# crie um IC de 95% para a proporção populacional de pessoas que são a favor da expansão do uso de\n",
    "# energia eólica no país\n",
    "\n",
    "def calc_ic_p(conf, p_hat, n):\n",
    "\n",
    "    z_a2 = calc_z_a2(conf)\n",
    "\n",
    "    ME = z_a2*np.sqrt((p_hat*(1-p_hat))/n)\n",
    "\n",
    "    IC_min = p_hat - ME\n",
    "    IC_max = p_hat + ME\n",
    "\n",
    "    return IC_min, IC_max"
   ]
  },
  {
   "cell_type": "code",
   "execution_count": 53,
   "metadata": {},
   "outputs": [
    {
     "data": {
      "text/plain": [
       "(0.8257480635415209, 0.8702519364584791)"
      ]
     },
     "execution_count": 53,
     "metadata": {},
     "output_type": "execute_result"
    }
   ],
   "source": [
    "IC_min, IC_max = calc_ic_p(0.95, 848/1000, 1000)\n",
    "\n",
    "IC_min, IC_max"
   ]
  },
  {
   "cell_type": "code",
   "execution_count": 43,
   "metadata": {},
   "outputs": [
    {
     "name": "stdout",
     "output_type": "stream",
     "text": [
      "A chance da proporção populacional ser 84.8% é 95%\n",
      "Estamos 95% confiantes de que a proporção populacional é de 84.8%\n"
     ]
    }
   ],
   "source": [
    "print(\"A chance da proporção populacional ser {:.1f}% é {:.0f}%\".format(p_hat*100, conf*100))\n",
    "\n",
    "print(\"Estamos {:.0f}% confiantes de que a proporção populacional é de {:.1f}%\".format(conf*100, p_hat*100))"
   ]
  },
  {
   "cell_type": "code",
   "execution_count": 44,
   "metadata": {},
   "outputs": [
    {
     "name": "stdout",
     "output_type": "stream",
     "text": [
      "Com 95% de confiança, podemos dizer que a proporção populacional está entre 82.6% e 87.0%\n"
     ]
    }
   ],
   "source": [
    "# como interpretar este resultado?\n",
    "\n",
    "print(\"Com {:.0f}% de confiança, podemos dizer que a proporção populacional está entre {:.1f}% e {:.1f}%\".format(conf*100,\n",
    "                                                                                                                 IC_min*100,\n",
    "                                                                                                                 IC_max*100))"
   ]
  },
  {
   "cell_type": "markdown",
   "metadata": {},
   "source": [
    "Botando tudo acima na função:"
   ]
  },
  {
   "cell_type": "code",
   "execution_count": 61,
   "metadata": {},
   "outputs": [
    {
     "name": "stdout",
     "output_type": "stream",
     "text": [
      "Com 95% de confiança, podemos dizer que a proporção populacional está entre 82.6% e 87.0%\n"
     ]
    }
   ],
   "source": [
    "conf = 0.95\n",
    "n = 1000\n",
    "\n",
    "IC_min, IC_max = calc_ic_p(conf, 848/n, n)\n",
    "\n",
    "print(\"Com {:.0f}% de confiança, podemos dizer que a proporção populacional está entre {:.1f}% e {:.1f}%\".format(conf*100,\n",
    "                                                                                                                 IC_min*100,\n",
    "                                                                                                                 IC_max*100))"
   ]
  },
  {
   "cell_type": "markdown",
   "metadata": {},
   "source": [
    "Mudando confiança pra 99%, mantendo mesmo `n`"
   ]
  },
  {
   "cell_type": "code",
   "execution_count": 56,
   "metadata": {},
   "outputs": [
    {
     "name": "stdout",
     "output_type": "stream",
     "text": [
      "Com 99% de confiança, podemos dizer que a proporção populacional está entre 81.9% e 87.7%\n"
     ]
    }
   ],
   "source": [
    "conf = 0.99\n",
    "n = 1000\n",
    "\n",
    "IC_min, IC_max = calc_ic_p(conf, 848/n, n)\n",
    "\n",
    "print(\"Com {:.0f}% de confiança, podemos dizer que a proporção populacional está entre {:.1f}% e {:.1f}%\".format(conf*100,\n",
    "                                                                                                                 IC_min*100,\n",
    "                                                                                                                 IC_max*100))"
   ]
  },
  {
   "cell_type": "markdown",
   "metadata": {},
   "source": [
    "Mantendo confiança pra 95%, mas aumentando `n`"
   ]
  },
  {
   "cell_type": "code",
   "execution_count": 69,
   "metadata": {},
   "outputs": [
    {
     "name": "stdout",
     "output_type": "stream",
     "text": [
      "Com 95% de confiança, podemos dizer que a proporção populacional está entre 84.0% e 85.4%\n"
     ]
    }
   ],
   "source": [
    "conf = 0.95\n",
    "n = 10000\n",
    "\n",
    "IC_min, IC_max = calc_ic_p(conf, 8469/n, n)\n",
    "\n",
    "print(\"Com {:.0f}% de confiança, podemos dizer que a proporção populacional está entre {:.1f}% e {:.1f}%\".format(conf*100,\n",
    "                                                                                                                 IC_min*100,\n",
    "                                                                                                                 IC_max*100))"
   ]
  },
  {
   "cell_type": "markdown",
   "metadata": {},
   "source": [
    "_____\n",
    "\n",
    "**Exemplo 2**: Vamos pegar a base de pesos e alturas:"
   ]
  },
  {
   "cell_type": "code",
   "execution_count": 93,
   "metadata": {},
   "outputs": [
    {
     "data": {
      "text/html": [
       "<div>\n",
       "<style scoped>\n",
       "    .dataframe tbody tr th:only-of-type {\n",
       "        vertical-align: middle;\n",
       "    }\n",
       "\n",
       "    .dataframe tbody tr th {\n",
       "        vertical-align: top;\n",
       "    }\n",
       "\n",
       "    .dataframe thead th {\n",
       "        text-align: right;\n",
       "    }\n",
       "</style>\n",
       "<table border=\"1\" class=\"dataframe\">\n",
       "  <thead>\n",
       "    <tr style=\"text-align: right;\">\n",
       "      <th></th>\n",
       "      <th>Gender</th>\n",
       "      <th>Height</th>\n",
       "      <th>Weight</th>\n",
       "    </tr>\n",
       "  </thead>\n",
       "  <tbody>\n",
       "    <tr>\n",
       "      <th>0</th>\n",
       "      <td>Male</td>\n",
       "      <td>187.571423</td>\n",
       "      <td>109.722200</td>\n",
       "    </tr>\n",
       "    <tr>\n",
       "      <th>1</th>\n",
       "      <td>Male</td>\n",
       "      <td>174.706036</td>\n",
       "      <td>73.623547</td>\n",
       "    </tr>\n",
       "    <tr>\n",
       "      <th>2</th>\n",
       "      <td>Male</td>\n",
       "      <td>188.239668</td>\n",
       "      <td>96.498619</td>\n",
       "    </tr>\n",
       "    <tr>\n",
       "      <th>3</th>\n",
       "      <td>Male</td>\n",
       "      <td>182.196685</td>\n",
       "      <td>99.810610</td>\n",
       "    </tr>\n",
       "    <tr>\n",
       "      <th>4</th>\n",
       "      <td>Male</td>\n",
       "      <td>177.499761</td>\n",
       "      <td>93.599656</td>\n",
       "    </tr>\n",
       "    <tr>\n",
       "      <th>...</th>\n",
       "      <td>...</td>\n",
       "      <td>...</td>\n",
       "      <td>...</td>\n",
       "    </tr>\n",
       "    <tr>\n",
       "      <th>9995</th>\n",
       "      <td>Female</td>\n",
       "      <td>168.078536</td>\n",
       "      <td>62.041846</td>\n",
       "    </tr>\n",
       "    <tr>\n",
       "      <th>9996</th>\n",
       "      <td>Female</td>\n",
       "      <td>170.350573</td>\n",
       "      <td>77.505174</td>\n",
       "    </tr>\n",
       "    <tr>\n",
       "      <th>9997</th>\n",
       "      <td>Female</td>\n",
       "      <td>162.224700</td>\n",
       "      <td>58.276022</td>\n",
       "    </tr>\n",
       "    <tr>\n",
       "      <th>9998</th>\n",
       "      <td>Female</td>\n",
       "      <td>175.346978</td>\n",
       "      <td>74.322989</td>\n",
       "    </tr>\n",
       "    <tr>\n",
       "      <th>9999</th>\n",
       "      <td>Female</td>\n",
       "      <td>157.338385</td>\n",
       "      <td>51.550895</td>\n",
       "    </tr>\n",
       "  </tbody>\n",
       "</table>\n",
       "<p>10000 rows × 3 columns</p>\n",
       "</div>"
      ],
      "text/plain": [
       "      Gender      Height      Weight\n",
       "0       Male  187.571423  109.722200\n",
       "1       Male  174.706036   73.623547\n",
       "2       Male  188.239668   96.498619\n",
       "3       Male  182.196685   99.810610\n",
       "4       Male  177.499761   93.599656\n",
       "...      ...         ...         ...\n",
       "9995  Female  168.078536   62.041846\n",
       "9996  Female  170.350573   77.505174\n",
       "9997  Female  162.224700   58.276022\n",
       "9998  Female  175.346978   74.322989\n",
       "9999  Female  157.338385   51.550895\n",
       "\n",
       "[10000 rows x 3 columns]"
      ]
     },
     "execution_count": 93,
     "metadata": {},
     "output_type": "execute_result"
    }
   ],
   "source": [
    "df_wh = pd.read_csv('../datasets/weight-height.csv')\n",
    "\n",
    "df_wh[\"Height\"] = df_wh[\"Height\"] * 2.54\n",
    "df_wh[\"Weight\"] = df_wh[\"Weight\"] / 2.2046\n",
    "\n",
    "df_wh"
   ]
  },
  {
   "cell_type": "code",
   "execution_count": 95,
   "metadata": {},
   "outputs": [
    {
     "data": {
      "text/html": [
       "<div>\n",
       "<style scoped>\n",
       "    .dataframe tbody tr th:only-of-type {\n",
       "        vertical-align: middle;\n",
       "    }\n",
       "\n",
       "    .dataframe tbody tr th {\n",
       "        vertical-align: top;\n",
       "    }\n",
       "\n",
       "    .dataframe thead th {\n",
       "        text-align: right;\n",
       "    }\n",
       "</style>\n",
       "<table border=\"1\" class=\"dataframe\">\n",
       "  <thead>\n",
       "    <tr style=\"text-align: right;\">\n",
       "      <th></th>\n",
       "      <th>Height</th>\n",
       "      <th>Weight</th>\n",
       "    </tr>\n",
       "    <tr>\n",
       "      <th>Gender</th>\n",
       "      <th></th>\n",
       "      <th></th>\n",
       "    </tr>\n",
       "  </thead>\n",
       "  <tbody>\n",
       "    <tr>\n",
       "      <th>Female</th>\n",
       "      <td>161.820285</td>\n",
       "      <td>61.625734</td>\n",
       "    </tr>\n",
       "    <tr>\n",
       "      <th>Male</th>\n",
       "      <td>175.326919</td>\n",
       "      <td>84.831997</td>\n",
       "    </tr>\n",
       "  </tbody>\n",
       "</table>\n",
       "</div>"
      ],
      "text/plain": [
       "            Height     Weight\n",
       "Gender                       \n",
       "Female  161.820285  61.625734\n",
       "Male    175.326919  84.831997"
      ]
     },
     "execution_count": 95,
     "metadata": {},
     "output_type": "execute_result"
    }
   ],
   "source": [
    "# qual é a média de alturas e pesos dentre os diferentes sexos?\n",
    "\n",
    "df_wh.groupby(\"Gender\").mean()"
   ]
  },
  {
   "cell_type": "code",
   "execution_count": 96,
   "metadata": {},
   "outputs": [
    {
     "data": {
      "text/plain": [
       "Female    5000\n",
       "Male      5000\n",
       "Name: Gender, dtype: int64"
      ]
     },
     "execution_count": 96,
     "metadata": {},
     "output_type": "execute_result"
    }
   ],
   "source": [
    "# é justo modelar as médias amostrais acima como normalmente distribuídas?\n",
    "\n",
    "df_wh[\"Gender\"].value_counts()"
   ]
  },
  {
   "cell_type": "code",
   "execution_count": 98,
   "metadata": {},
   "outputs": [
    {
     "data": {
      "text/plain": [
       "'Como n>30 para ambas as amostras, sim, estamos nas premissas do TCL'"
      ]
     },
     "execution_count": 98,
     "metadata": {},
     "output_type": "execute_result"
    }
   ],
   "source": [
    "\"Como n>30 para ambas as amostras, sim, estamos nas premissas do TCL\""
   ]
  },
  {
   "cell_type": "code",
   "execution_count": 105,
   "metadata": {},
   "outputs": [
    {
     "data": {
      "text/plain": [
       "10000"
      ]
     },
     "execution_count": 105,
     "metadata": {},
     "output_type": "execute_result"
    }
   ],
   "source": [
    "len(df_wh[\"Height\"])"
   ]
  },
  {
   "cell_type": "code",
   "execution_count": 106,
   "metadata": {},
   "outputs": [
    {
     "data": {
      "text/plain": [
       "10000"
      ]
     },
     "execution_count": 106,
     "metadata": {},
     "output_type": "execute_result"
    }
   ],
   "source": [
    "df_wh[\"Height\"].shape[0]"
   ]
  },
  {
   "cell_type": "code",
   "execution_count": 110,
   "metadata": {},
   "outputs": [
    {
     "data": {
      "text/html": [
       "<div>\n",
       "<style scoped>\n",
       "    .dataframe tbody tr th:only-of-type {\n",
       "        vertical-align: middle;\n",
       "    }\n",
       "\n",
       "    .dataframe tbody tr th {\n",
       "        vertical-align: top;\n",
       "    }\n",
       "\n",
       "    .dataframe thead tr th {\n",
       "        text-align: left;\n",
       "    }\n",
       "\n",
       "    .dataframe thead tr:last-of-type th {\n",
       "        text-align: right;\n",
       "    }\n",
       "</style>\n",
       "<table border=\"1\" class=\"dataframe\">\n",
       "  <thead>\n",
       "    <tr>\n",
       "      <th></th>\n",
       "      <th colspan=\"2\" halign=\"left\">Height</th>\n",
       "      <th colspan=\"2\" halign=\"left\">Weight</th>\n",
       "    </tr>\n",
       "    <tr>\n",
       "      <th></th>\n",
       "      <th>mean</th>\n",
       "      <th>SE</th>\n",
       "      <th>mean</th>\n",
       "      <th>SE</th>\n",
       "    </tr>\n",
       "    <tr>\n",
       "      <th>Gender</th>\n",
       "      <th></th>\n",
       "      <th></th>\n",
       "      <th></th>\n",
       "      <th></th>\n",
       "    </tr>\n",
       "  </thead>\n",
       "  <tbody>\n",
       "    <tr>\n",
       "      <th>Female</th>\n",
       "      <td>161.820285</td>\n",
       "      <td>0.096853</td>\n",
       "      <td>61.625734</td>\n",
       "      <td>0.122026</td>\n",
       "    </tr>\n",
       "    <tr>\n",
       "      <th>Male</th>\n",
       "      <td>175.326919</td>\n",
       "      <td>0.102855</td>\n",
       "      <td>84.831997</td>\n",
       "      <td>0.126893</td>\n",
       "    </tr>\n",
       "  </tbody>\n",
       "</table>\n",
       "</div>"
      ],
      "text/plain": [
       "            Height               Weight          \n",
       "              mean        SE       mean        SE\n",
       "Gender                                           \n",
       "Female  161.820285  0.096853  61.625734  0.122026\n",
       "Male    175.326919  0.102855  84.831997  0.126893"
      ]
     },
     "execution_count": 110,
     "metadata": {},
     "output_type": "execute_result"
    }
   ],
   "source": [
    "# calcule o SE das amostras de altura e peso de cada sexo\n",
    "def SE(x):\n",
    "    \n",
    "    return x.std()/np.sqrt(len(x))\n",
    "#     return x.std()/np.sqrt(x.shape[0])\n",
    "\n",
    "\n",
    "df_wh.groupby(\"Gender\").agg([np.mean, SE])"
   ]
  },
  {
   "cell_type": "markdown",
   "metadata": {},
   "source": [
    "$\\bar{x} \\pm z_{\\alpha/2} \\ \\frac{\\sigma}{\\sqrt{n}}$"
   ]
  },
  {
   "cell_type": "code",
   "execution_count": 111,
   "metadata": {},
   "outputs": [
    {
     "data": {
      "text/plain": [
       "2.5758293035489004"
      ]
     },
     "execution_count": 111,
     "metadata": {},
     "output_type": "execute_result"
    }
   ],
   "source": [
    "calc_z_a2(0.99)"
   ]
  },
  {
   "cell_type": "code",
   "execution_count": 116,
   "metadata": {},
   "outputs": [
    {
     "data": {
      "text/html": [
       "<div>\n",
       "<style scoped>\n",
       "    .dataframe tbody tr th:only-of-type {\n",
       "        vertical-align: middle;\n",
       "    }\n",
       "\n",
       "    .dataframe tbody tr th {\n",
       "        vertical-align: top;\n",
       "    }\n",
       "\n",
       "    .dataframe thead tr th {\n",
       "        text-align: left;\n",
       "    }\n",
       "\n",
       "    .dataframe thead tr:last-of-type th {\n",
       "        text-align: right;\n",
       "    }\n",
       "</style>\n",
       "<table border=\"1\" class=\"dataframe\">\n",
       "  <thead>\n",
       "    <tr>\n",
       "      <th></th>\n",
       "      <th colspan=\"3\" halign=\"left\">Height</th>\n",
       "      <th colspan=\"3\" halign=\"left\">Weight</th>\n",
       "    </tr>\n",
       "    <tr>\n",
       "      <th></th>\n",
       "      <th>mean</th>\n",
       "      <th>SE</th>\n",
       "      <th>IC_99</th>\n",
       "      <th>mean</th>\n",
       "      <th>SE</th>\n",
       "      <th>IC_99</th>\n",
       "    </tr>\n",
       "    <tr>\n",
       "      <th>Gender</th>\n",
       "      <th></th>\n",
       "      <th></th>\n",
       "      <th></th>\n",
       "      <th></th>\n",
       "      <th></th>\n",
       "      <th></th>\n",
       "    </tr>\n",
       "  </thead>\n",
       "  <tbody>\n",
       "    <tr>\n",
       "      <th>Female</th>\n",
       "      <td>161.820285</td>\n",
       "      <td>0.096853</td>\n",
       "      <td>(161.57, 162.07)</td>\n",
       "      <td>61.625734</td>\n",
       "      <td>0.122026</td>\n",
       "      <td>(61.31, 61.94)</td>\n",
       "    </tr>\n",
       "    <tr>\n",
       "      <th>Male</th>\n",
       "      <td>175.326919</td>\n",
       "      <td>0.102855</td>\n",
       "      <td>(175.06, 175.59)</td>\n",
       "      <td>84.831997</td>\n",
       "      <td>0.126893</td>\n",
       "      <td>(84.51, 85.16)</td>\n",
       "    </tr>\n",
       "  </tbody>\n",
       "</table>\n",
       "</div>"
      ],
      "text/plain": [
       "            Height                                 Weight            \\\n",
       "              mean        SE             IC_99       mean        SE   \n",
       "Gender                                                                \n",
       "Female  161.820285  0.096853  (161.57, 162.07)  61.625734  0.122026   \n",
       "Male    175.326919  0.102855  (175.06, 175.59)  84.831997  0.126893   \n",
       "\n",
       "                        \n",
       "                 IC_99  \n",
       "Gender                  \n",
       "Female  (61.31, 61.94)  \n",
       "Male    (84.51, 85.16)  "
      ]
     },
     "execution_count": 116,
     "metadata": {},
     "output_type": "execute_result"
    }
   ],
   "source": [
    "# calcule agora o intervalo de confiança de 99% para as médias populacionais de altura e peso entre os sexos\n",
    "\n",
    "def IC_99(x):\n",
    "    \n",
    "    ic_min = x.mean() - calc_z_a2(0.99)*SE(x)\n",
    "    ic_max = x.mean() + calc_z_a2(0.99)*SE(x)\n",
    "    \n",
    "    return round(ic_min, 2), round(ic_max, 2)\n",
    "\n",
    "\n",
    "df_wh.groupby(\"Gender\").agg([np.mean, SE, IC_99])"
   ]
  },
  {
   "cell_type": "code",
   "execution_count": 119,
   "metadata": {},
   "outputs": [
    {
     "name": "stdout",
     "output_type": "stream",
     "text": [
      "Estamos 99% confiantes de que a média de altura para mulheres está entre 161.57cm e 162.07cm\n",
      "Estamos 99% confiantes de que a média de peso para mulheres está entre 61.31kg e 61.94kg\n"
     ]
    }
   ],
   "source": [
    "# como interpretar este resultado?\n",
    "\n",
    "print(\"Estamos 99% confiantes de que a média de altura para mulheres está entre 161.57cm e 162.07cm\")\n",
    "print(\"Estamos 99% confiantes de que a média de peso para mulheres está entre 61.31kg e 61.94kg\")"
   ]
  },
  {
   "cell_type": "markdown",
   "metadata": {},
   "source": [
    "__________"
   ]
  },
  {
   "cell_type": "markdown",
   "metadata": {},
   "source": [
    "### 1.3) Cálculo do tamanho amostral\n",
    "\n",
    "#### 1.3.1) População Infinita\n",
    "\n",
    "Uma população é considerada infinita quando seu tamanho é muito grande.\n",
    "\n",
    "Ao realizar o cálculo do tamanho da amostra $n$, deve-se levar em consideração o erro $\\epsilon$ máximo que deseja-se assumir (ao estimar a função parâmetrica) e o nível de confiança do resultado (probabilidade). Sendo assim, o problema consiste em determinar $n$ de forma que:\n",
    "\n",
    "$$P(\\mid \\overline{X} - \\mu \\mid \\leq \\epsilon) \\simeq 1 - \\alpha $$\n",
    "\n",
    "Mas pelo Teorema Central do Limite, a equação acima pode ser reescrita como:\n",
    "\n",
    "$$P \\left(\\mid \\overline{X} - \\mu \\mid \\leq z_{\\alpha/2}\\frac{\\sigma}{\\sqrt{n}} \\right) \\simeq 1 - \\alpha $$\n",
    "\n",
    "Sendo assim, dados um erro máximo e nível de confiança, calcular o tamanho amostral consiste em:\n",
    "\n",
    "$$ z_{\\alpha/2}\\frac{\\sigma}{\\sqrt{n}} = \\epsilon  \\Longrightarrow n = \\left(\\frac{z_{\\alpha/2}\\sigma}{\\epsilon }\\right) ^2 $$\n",
    "\n",
    "#### 1.3.2) População Finita\n",
    "\n",
    "No caso em que o tamanho populacional não é tão grande, a consideramos finita. **Caso a amostra tenha um tamanho $n$ maior ou igual a 5% do tamanho da população $N$, considera-se que a população é finita**. Neste caso, aplica-se um fator de correção à fórmula vista anteriormente:\n",
    "\n",
    "$$n = \\frac{N (z_{\\alpha/2}\\sigma)^2}{(N-1)\\epsilon^2 + (z_{\\alpha/2}\\sigma)^2 }$$\n",
    "\n",
    "#### 1.3.3) Principais níveis de confiança usados\n",
    "\n",
    "<table>\n",
    "    <th style=\"text-align: center; border: 1px solid black\">Grau de Confiança</th>\n",
    "    <th style=\"text-align: center; border: 1px solid black\">$\\alpha$</th>\n",
    "    <th style=\"text-align: center; border: 1px solid black\">$z_{\\alpha/2}$</th>\n",
    "    <tr style=\" border: 1px solid black\">\n",
    "        <td style=\"text-align: center; border: 1px solid black\">90%</td>\n",
    "        <td style=\"text-align: center; border: 1px solid black\">0,10</td>\n",
    "        <td style=\"text-align: center; border: 1px solid black\">1,645</td>\n",
    "    </tr>\n",
    "    <tr style=\"text-align: center; border: 1px solid black\">\n",
    "        <td style=\"text-align: center; border: 1px solid black\">95%</td>\n",
    "        <td style=\"text-align: center; border: 1px solid black\">0,05</td>\n",
    "        <td style=\"text-align: center; border: 1px solid black\">1,96</td>\n",
    "    </tr>\n",
    "    <tr style=\"text-align: center; border: 1px solid black\">\n",
    "        <td style=\"text-align: center; border: 1px solid black\">99%</td>\n",
    "        <td style=\"text-align: center; border: 1px solid black\">0,01</td>\n",
    "        <td style=\"text-align: center; border: 1px solid black\">2,575</td>\n",
    "    </tr>\n",
    "</table>\n",
    "\n",
    "\n",
    "#### 1.3.4) Variância populacional desconhecida\n",
    "\n",
    "No caso em que a variância populacional é desconhecida, pode-se realizar uma amostragem aleatória preliminar (ao menos 30 elementos) para estimar a variancia amostral e usa-la na equação acima.\n",
    "\n",
    "$$\\widehat{\\sigma^2} = s^2 = \\frac{\\sum_{i=1}^{n}(x_i -\\overline{X})^2}{N-1} $$"
   ]
  },
  {
   "cell_type": "markdown",
   "metadata": {},
   "source": [
    "### Exemplo 1\n",
    "\n",
    "Estamos estudando o rendimento mensal dos chefes de domicílios no Brasil. Nosso supervisor determinou que o **erro máximo em relação a média seja de R$\\$$ 100,00**. Sabemos que o **desvio padrão populacional** deste grupo de trabalhadores é de **R$\\$$ 3.323,39**. Para um **nível de confiança de 95%**, qual deve ser o tamanho da amostra de nosso estudo?"
   ]
  },
  {
   "cell_type": "code",
   "execution_count": 70,
   "metadata": {},
   "outputs": [],
   "source": [
    "desvio_populacional = 3323.39"
   ]
  },
  {
   "cell_type": "code",
   "execution_count": 71,
   "metadata": {},
   "outputs": [],
   "source": [
    "erro = 100"
   ]
  },
  {
   "cell_type": "code",
   "execution_count": 73,
   "metadata": {},
   "outputs": [],
   "source": [
    "# dado o nível de confiança de 95%...\n",
    "\n",
    "z = 1.96\n",
    "\n",
    "# # # ou, então:\n",
    "# z = norm.ppf(0.95 + (0.05/2))"
   ]
  },
  {
   "cell_type": "code",
   "execution_count": 74,
   "metadata": {},
   "outputs": [
    {
     "data": {
      "text/plain": [
       "4243.016886741135"
      ]
     },
     "execution_count": 74,
     "metadata": {},
     "output_type": "execute_result"
    }
   ],
   "source": [
    "n = ((z * desvio_populacional) / erro) ** 2\n",
    "\n",
    "n"
   ]
  },
  {
   "cell_type": "code",
   "execution_count": 75,
   "metadata": {},
   "outputs": [
    {
     "data": {
      "text/plain": [
       "4244.0"
      ]
     },
     "execution_count": 75,
     "metadata": {},
     "output_type": "execute_result"
    }
   ],
   "source": [
    "np.ceil(n)"
   ]
  },
  {
   "cell_type": "code",
   "execution_count": 76,
   "metadata": {},
   "outputs": [
    {
     "data": {
      "text/plain": [
       "4243.0"
      ]
     },
     "execution_count": 76,
     "metadata": {},
     "output_type": "execute_result"
    }
   ],
   "source": [
    "np.floor(n)"
   ]
  },
  {
   "cell_type": "markdown",
   "metadata": {},
   "source": [
    "### Exemplo 2\n",
    "\n",
    "Em um lote de **10.000 latas** de refrigerante foi realizada uma amostra aleatória simples de **500 latas** e foi obtido o **desvio padrão amostral do conteúdo das latas igual a 12 ml**. O fabricante estipula um **erro máximo sobre a média populacional de apenas 5 ml**. Para garantir um **nível de confiança de 95%** qual o tamanho de amostra deve ser selecionado para este estudo?"
   ]
  },
  {
   "cell_type": "code",
   "execution_count": 85,
   "metadata": {},
   "outputs": [],
   "source": [
    "desvio = 12\n",
    "erro = 5\n",
    "N = 10000\n",
    "z = 1.96"
   ]
  },
  {
   "cell_type": "markdown",
   "metadata": {},
   "source": [
    "$$n = \\frac{N (z_{\\alpha/2}\\sigma)^2}{(N-1)\\epsilon^2 + (z_{\\alpha/2}\\sigma)^2 }$$"
   ]
  },
  {
   "cell_type": "code",
   "execution_count": 86,
   "metadata": {},
   "outputs": [
    {
     "data": {
      "text/plain": [
       "22.08096418677521"
      ]
     },
     "execution_count": 86,
     "metadata": {},
     "output_type": "execute_result"
    }
   ],
   "source": [
    "num = N * (z * desvio)**2\n",
    "\n",
    "den = ((N - 1) * erro**2) + (z * desvio)**2\n",
    "\n",
    "n = num / den\n",
    "\n",
    "n"
   ]
  },
  {
   "cell_type": "code",
   "execution_count": 87,
   "metadata": {},
   "outputs": [
    {
     "data": {
      "text/plain": [
       "23.0"
      ]
     },
     "execution_count": 87,
     "metadata": {},
     "output_type": "execute_result"
    }
   ],
   "source": [
    "np.ceil(n)"
   ]
  },
  {
   "cell_type": "markdown",
   "metadata": {},
   "source": [
    "___\n",
    "___\n",
    "___"
   ]
  }
 ],
 "metadata": {
  "kernelspec": {
   "display_name": "Python 3",
   "language": "python",
   "name": "python3"
  },
  "language_info": {
   "codemirror_mode": {
    "name": "ipython",
    "version": 3
   },
   "file_extension": ".py",
   "mimetype": "text/x-python",
   "name": "python",
   "nbconvert_exporter": "python",
   "pygments_lexer": "ipython3",
   "version": "3.8.3"
  }
 },
 "nbformat": 4,
 "nbformat_minor": 2
}
