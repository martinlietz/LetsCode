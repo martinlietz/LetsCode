{
 "cells": [
  {
   "cell_type": "markdown",
   "metadata": {},
   "source": [
    "<p><markdown translate=\"no\" mathjax=\"\" class=\"ng-tns-c364-40\"><h1 id=\"processamento-de-linguagem-natural-pln\"><strong>Processamento de Linguagem Natural (PLN)</strong></h1>\n",
    "<h2 id=\"word-vectors\"><strong>Word Vectors</strong></h2>\n",
    "<h3 id=\"índice\">Índice</h3>\n",
    "<ul>\n",
    "<li>1) Objetivos;</li>\n",
    "<li>2) Word2Vec</li>\n",
    "<li>3) Análise de sentimentos</li>\n",
    "</ul>\n",
    "<h3 id=\"1-objetivos\"><strong>1) Objetivos</strong></h3>\n",
    "<p>O objetivo deste material é apresentar conceitos acerca de:</p>\n",
    "<ul>\n",
    "<li>Extração de features de um texto;</li>\n",
    "<li>Word2Vec;</li>\n",
    "<li>VADER (valence aware dictionary for sentiment reasoning).</li>\n",
    "</ul>\n",
    "<h3 id=\"2-word2vec\"><strong>2) Word2Vec</strong></h3>\n",
    "<p>Word2Vec é um modelo de Redes Neurais para processamento de texto, com objetivo de transformar as palavras de um texto em um espaço vetorial onde é possível fazer operações matemáticas com o objetivo de encontrar similaridades, relaçoes e associações entre palavras.</p>\n",
    "<ul>\n",
    "<li>Exemplo de associação: \"homem\" está para \"menino\" assim como \"mulher\" está para \"menina\"</li>\n",
    "</ul>\n",
    "<p>Outros exemplos de relações:</p>\n",
    "<img src=\"https://miro.medium.com/max/2000/1*2r1yj0zPAuaSGZeQfG6Wtw.png\" width=\"600\">\n",
    "\n",
    "<p>O Word2Vec é muito importante para a construção de muitos dos modelos linguísticos mais complexos, como os que utilizamos do spacy.</p>\n",
    "<p>É graças a este modelo que, por exemplo, entidades podem ser classificadas mais assertivamente.</p>\n",
    "<p>O Word2Vec é utilizado em modelos linguísticos, por exemplo, para predizer qual é a probabilidade de uma frase em determinada língua existir (o que é muito útil para sistemas de tradução automática).</p>\n",
    "<p>Neste contexto, há 2 maneiras de implementar o Word2Vec:</p>\n",
    "<ul>\n",
    "<li><strong>Continuos bag of words (CBOW)</strong>: este tipo de arquitetura de redes neurais é caracterizado pela <em>predição de uma palavra a partir do seu contexto</em>, ou seja, uma palavra de uma frase é predita com base nas demais palavras da frase.</li>\n",
    "<li><strong>Skip-gram</strong>: este tipo de arquitetura de redes neurais é caracterizado pela <em>predição do contexto com base em uma palavra</em>, ou seja, as demais palavras da frase são preditas com base em uma dada palavra.</li>\n",
    "</ul>\n",
    "<p>A diferença entre as duas arquiteturas é ilustrada a seguir:</p>\n",
    "<img src=\"https://www.researchgate.net/profile/Wang_Ling/publication/281812760/figure/fig1/AS:613966665486361@1523392468791/Illustration-of-the-Skip-gram-and-Continuous-Bag-of-Word-CBOW-models.png\" width=\"550\">\n",
    "\n",
    "\n",
    "<h3 id=\"3análise-de-sentimentos\"><strong>3)Análise de sentimentos</strong></h3>\n",
    "<p>Análise de sentimentos em NLP é um método não supervisionado que tem como objetivo receber uma frase, texto, etc e classificar numa polaridade (negativo, positivo ou neutro) e em alguns modelos também faz a classificação de sentimento (triste, nervoso, feliz, etc). É uma técnica importante devido ao alto volume de dados produzidos diariamente, pois automatiza o processo de classificação sendo muito útil para ecommerces, para classificação automática dos reviews de produtos, em serviços onlines, restaurantes, lojas etc, dando muito mais interpretação para todo dado não estruturado produzido.</p>\n",
    "<p>Embora dado as vantagens, como todo dado estruturado existe o desafio do pré processamento, limpeza e remoção de corner cases, no caso de textos, esses corner cases são a identificação de ironia e sarcasmo, entonação, uso de emojis e comparação com entidades com semântica não muito clara para nossos modelos.</p>\n",
    "<h4 id=\"como-funciona\">Como funciona?</h4>\n",
    "<p>Há dois tipos de abordagem para classificação de sentimentos, o baseado em regras pré definidas, como a quantidade que tokens positivos aparecem no texto, ex: bom, ótimo, etc em comparação com tokens com conotação negativa, ex: ruim, péssimo, etc. \n",
    "Além desse existe o baseado o automático, que consiste em fazer pré processamento para extração de features, utilizando word2vec, bag-of-words, etc e aplicando em modelos de machine learning para fazer a classificação;</p>\n",
    "<h4 id=\"modelos\">Modelos</h4>\n",
    "<p>Existem modelos open-source como o VADER, o TextBlob entre outros e modelos pagos como o mais conhecido da IBM Watson</p>\n",
    "<p>Vamos utilizar o VADER (valence aware dictionary for sentiment reasoning) que é um dicionário que mapeia features léxicas com classes e intensidades de emoção chamados de \"sentimento scores\".</p>\n",
    "<p><img src=\"https://miro.medium.com/max/938/1*JSi4ZRojnsNZBJVtGUfXZQ.png\" alt=\"alt text\"></p>\n",
    "<ul>\n",
    "<li>Exemplo: \"love\", \"like\", \"happy\" são associados a \"Positive Sentiment\";</li>\n",
    "<li>\"did not love\" é associado a \"Negative Sentiment\";</li>\n",
    "</ul>\n",
    "<p>Além disso, o VADER também é capaz de diferenciar intensidades diferentes de sentimentos, como por exemplo uma ênfase em \"LOVE U!!!!\" e \"HATE THAT!\" além de Emojis, gírias e acrônimos (OMG).</p>\n",
    "<p>Alguns desafios/limitações do modelo:</p>\n",
    "<ul>\n",
    "<li>Identificar positive e negative sentiment na mesma frase;</li>\n",
    "<li>Identificar sarcasmo e ironia.</li>\n",
    "</ul>\n",
    "<p><img src=\"https://miro.medium.com/max/1400/1*wMsqjs_0rf6gBWEdK__2hA.png\" alt=\"alt text\"></p>\n",
    "\n",
    "</markdown></p>"
   ]
  },
  {
   "cell_type": "code",
   "execution_count": 3,
   "metadata": {},
   "outputs": [
    {
     "name": "stdout",
     "output_type": "stream",
     "text": [
      "{'neg': 0.0, 'neu': 0.508, 'pos': 0.492, 'compound': 0.4404}\n",
      "{'neg': 0.0, 'neu': 0.449, 'pos': 0.551, 'compound': 0.8622}\n",
      "{'neg': 0.8, 'neu': 0.2, 'pos': 0.0, 'compound': -0.6114}\n"
     ]
    },
    {
     "name": "stderr",
     "output_type": "stream",
     "text": [
      "[nltk_data] Downloading package vader_lexicon to\n",
      "[nltk_data]     C:\\Users\\br080d\\AppData\\Roaming\\nltk_data...\n",
      "[nltk_data]   Package vader_lexicon is already up-to-date!\n"
     ]
    }
   ],
   "source": [
    "import nltk\n",
    "nltk.download('vader_lexicon')\n",
    "from nltk.sentiment.vader import SentimentIntensityAnalyzer\n",
    "sid = SentimentIntensityAnalyzer()\n",
    "\n",
    "a = u\"this is a good movie\"\n",
    "print(sid.polarity_scores(a))\n",
    "# {'compound': 0.4404, 'neg': 0.0, 'neu': 0.508, 'pos': 0.492}\n",
    "\n",
    "a = u\"This was the best, mos awesome movie EVER MADE!\"\n",
    "print(sid.polarity_scores(a))\n",
    "# {'compound': 0.8622, 'neg': 0.0, 'neu': 0.449, 'pos': 0.551}\n",
    "a = u\"I hate chicken!\"\n",
    "print(sid.polarity_scores(a))\n",
    "# {'compound': 0.8622, 'neg': 0.0, 'neu': 0.449, 'pos': 0.551}"
   ]
  }
 ],
 "metadata": {
  "kernelspec": {
   "display_name": "Python 3.7.8 32-bit",
   "metadata": {
    "interpreter": {
     "hash": "04635d289a519a1410467dd0afb0db42f9184808881ca68b2eb5a687a20a5a94"
    }
   },
   "name": "python3"
  },
  "language_info": {
   "codemirror_mode": {
    "name": "ipython",
    "version": 3
   },
   "file_extension": ".py",
   "mimetype": "text/x-python",
   "name": "python",
   "nbconvert_exporter": "python",
   "pygments_lexer": "ipython3",
   "version": "3.9.7"
  },
  "orig_nbformat": 2
 },
 "nbformat": 4,
 "nbformat_minor": 2
}
