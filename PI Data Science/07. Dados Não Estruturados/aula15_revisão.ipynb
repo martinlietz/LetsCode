{
  "nbformat": 4,
  "nbformat_minor": 0,
  "metadata": {
    "colab": {
      "name": "aula15-revisao-647.ipynb",
      "provenance": []
    },
    "kernelspec": {
      "name": "python3",
      "display_name": "Python 3"
    },
    "language_info": {
      "name": "python"
    }
  },
  "cells": [
    {
      "cell_type": "markdown",
      "source": [
        "## Análise de sentimentos - não supervisionado\n",
        "\n",
        "### VADER"
      ],
      "metadata": {
        "id": "6SdeLjaVGOpD"
      }
    },
    {
      "cell_type": "code",
      "source": [
        "from nltk.sentiment.vader import SentimentIntensityAnalyzer"
      ],
      "metadata": {
        "id": "uHl13fS-L27x"
      },
      "execution_count": 2,
      "outputs": []
    },
    {
      "cell_type": "code",
      "source": [
        "import nltk\n",
        "nltk.download('vader_lexicon')"
      ],
      "metadata": {
        "colab": {
          "base_uri": "https://localhost:8080/"
        },
        "id": "T5CHw568L8D_",
        "outputId": "a4e3f1d8-5f2b-4a9a-ec20-e3f9a864d7eb"
      },
      "execution_count": 3,
      "outputs": [
        {
          "output_type": "stream",
          "name": "stdout",
          "text": [
            "[nltk_data] Downloading package vader_lexicon to /root/nltk_data...\n"
          ]
        },
        {
          "output_type": "execute_result",
          "data": {
            "text/plain": [
              "True"
            ]
          },
          "metadata": {},
          "execution_count": 3
        }
      ]
    },
    {
      "cell_type": "code",
      "source": [
        "obj = SentimentIntensityAnalyzer()"
      ],
      "metadata": {
        "id": "mZUtkvTRMOCP"
      },
      "execution_count": 4,
      "outputs": []
    },
    {
      "cell_type": "code",
      "source": [
        "obj.polarity_scores('This was a good movie.')"
      ],
      "metadata": {
        "colab": {
          "base_uri": "https://localhost:8080/"
        },
        "id": "r7pUHhBTMQoW",
        "outputId": "8a7c292f-93e4-4d13-d28e-6a8817662541"
      },
      "execution_count": 5,
      "outputs": [
        {
          "output_type": "execute_result",
          "data": {
            "text/plain": [
              "{'compound': 0.4404, 'neg': 0.0, 'neu': 0.508, 'pos': 0.492}"
            ]
          },
          "metadata": {},
          "execution_count": 5
        }
      ]
    },
    {
      "cell_type": "code",
      "source": [
        "obj.polarity_scores('This was a bad movie.')"
      ],
      "metadata": {
        "colab": {
          "base_uri": "https://localhost:8080/"
        },
        "id": "56-e6LNJMYbk",
        "outputId": "0396041f-400a-499e-81e8-e8e899c12ed4"
      },
      "execution_count": 6,
      "outputs": [
        {
          "output_type": "execute_result",
          "data": {
            "text/plain": [
              "{'compound': -0.5423, 'neg': 0.538, 'neu': 0.462, 'pos': 0.0}"
            ]
          },
          "metadata": {},
          "execution_count": 6
        }
      ]
    },
    {
      "cell_type": "code",
      "source": [
        "obj.polarity_scores('This was a BAD movie.')"
      ],
      "metadata": {
        "colab": {
          "base_uri": "https://localhost:8080/"
        },
        "id": "sQlR86rgMmBr",
        "outputId": "bdaff991-b95d-4719-a370-da16d17db7ce"
      },
      "execution_count": 7,
      "outputs": [
        {
          "output_type": "execute_result",
          "data": {
            "text/plain": [
              "{'compound': -0.6408, 'neg': 0.585, 'neu': 0.415, 'pos': 0.0}"
            ]
          },
          "metadata": {},
          "execution_count": 7
        }
      ]
    },
    {
      "cell_type": "code",
      "source": [
        "obj.polarity_scores('This was the WORST movie ever!')"
      ],
      "metadata": {
        "colab": {
          "base_uri": "https://localhost:8080/"
        },
        "id": "22uHHhxJMwDq",
        "outputId": "f0a7d1f4-7a24-435b-d14b-226bf0f3d801"
      },
      "execution_count": 8,
      "outputs": [
        {
          "output_type": "execute_result",
          "data": {
            "text/plain": [
              "{'compound': -0.729, 'neg': 0.506, 'neu': 0.494, 'pos': 0.0}"
            ]
          },
          "metadata": {},
          "execution_count": 8
        }
      ]
    },
    {
      "cell_type": "code",
      "source": [
        "obj.polarity_scores('This was a \"bad\" movie ever')"
      ],
      "metadata": {
        "colab": {
          "base_uri": "https://localhost:8080/"
        },
        "id": "vFHH5ZBeM5VI",
        "outputId": "47f60d26-687a-4dd0-ad76-442896dc814a"
      },
      "execution_count": 13,
      "outputs": [
        {
          "output_type": "execute_result",
          "data": {
            "text/plain": [
              "{'compound': 0.0, 'neg': 0.0, 'neu': 1.0, 'pos': 0.0}"
            ]
          },
          "metadata": {},
          "execution_count": 13
        }
      ]
    },
    {
      "cell_type": "markdown",
      "source": [
        "\n",
        "## Revisão - Dados não estruturados"
      ],
      "metadata": {
        "id": "fROGAzc5OB0X"
      }
    },
    {
      "cell_type": "markdown",
      "source": [
        "## Imagem\n",
        "\n",
        "imagem pode ser representada\n",
        "- Matriz\n",
        "- Função $F(x,y)$\n",
        "\n",
        "para cada par ordenado (x,y) temos um elemento de imagem - Pixel\n",
        "\n",
        "Digitalização da imagem\n",
        "- amostragem: Resolução da imagem (ex: 720p - HD), colunas e linhas a matriz tem\n",
        "- quantização: qual a profundidade do pixel, ex: 8bit - 256 espaços de memória para represtar tons de cinza. ex: 0 - preta, 255 - branco\n",
        "\n",
        "\n",
        "- Pacote utilizado: OpenCV\n",
        "\n",
        "- Representação de cores:\n",
        "    - RGB (Red, Green e Blue) ou BGR: sistema de coordenadas cartesianas, R: [0,255],  G...\n",
        "    - HSV (Hue, Saturation e Value): sistema de coordenadas cilíndricas (Hue [0,179], Saturation e value [0,255]\n",
        "\n",
        "\n",
        "- Transformações geométricas\n",
        "    - Affine\n",
        "        - Rotação, translação, mudança de escala\n",
        "    - non affine\n",
        "\n",
        "- Operações Pixel a Pixel\n",
        "     - brilho (soma/subtração de uma constante) e contraste (multiplicador/dividir uma constante)\n",
        "\n",
        "\n",
        "- Operações de Limiarização\n",
        "    - importância: fazer o processo de binarização da imagem (transformar numa imagem com quantização de 1bit)\n",
        "    - dois tipos:\n",
        "        - global: define um valor de threshold e aplicar na matriz inteira\n",
        "        - adaptativo: esse método é usando a técnica de olhar as vizinhanças, método de convolução\n",
        "\n",
        "\n",
        "- Operações vizinhança\n",
        "    - convolução: $F(x, y) * kernel = G(x,y)$\n",
        "\n",
        "    - filtro de suavização: objetivo: remover ruído, tipos: Gaussiano, média e mediano\n",
        "    - Filtro de contornos: Sobel, Prewitt: objetivo: filtrar as linhas/contornos da imagem\n",
        "\n",
        "\n",
        "- Operações lógicas: bitwise: AND, OR, NOT...\n",
        "    - aplicação: fazer \"máscaras\"\n",
        "\n",
        "- Operações morfológicas\n",
        "    - Erosão, Dilatação, Abertura e fechamento\n",
        "\n",
        "\n",
        "- Histogramas de imagem, e a técnicas de equalização de histogramas, com objetivo de normalizar a imagem\n",
        "\n",
        "- Componentes conexos: `cv2.findCountour`\n",
        "\n"
      ],
      "metadata": {
        "id": "OZuXEe3uOwW8"
      }
    },
    {
      "cell_type": "code",
      "source": [
        ""
      ],
      "metadata": {
        "id": "FVMouyaOU_0c"
      },
      "execution_count": null,
      "outputs": []
    },
    {
      "cell_type": "markdown",
      "source": [
        "## Processamento de sinais de áudio\n"
      ],
      "metadata": {
        "id": "HmNhyyr5VAhn"
      }
    },
    {
      "cell_type": "markdown",
      "source": [
        "- processo de digitalização de som:\n",
        "    - amostragem: frequência amostral do sinal (ex: 44.1 kHz, ou seja, a cada 1s eu amostro 44.100 amostras do sinal variando no tempo)\n",
        "    - quantização: qual o tamanho da magnetude do sinal (eixo y)\n",
        "\n",
        "\n",
        "- Difinição de uma função de onda, onda senoidal:\n",
        "    - frequência natural, inverso do período do sinal\n",
        "    - Amplitude\n",
        "    - Fase ($\\phi$)\n",
        "    - função senoidal $f(t) = A sen (2 \\pi f + \\phi)$\n",
        "\n",
        "- domínios\n",
        "    - domínio do tempo\n",
        "    - domínio da frequência\n",
        "\n",
        "- Espectrogramas\n",
        "    - correlacionar: tempo, frequência e magnetude num mesmo gráfico\n",
        "\n",
        "- Escala de Mel: escala que se aproxima da forma como os humanos percebem o som\n"
      ],
      "metadata": {
        "id": "Nv3bSNNLVC8X"
      }
    },
    {
      "cell_type": "markdown",
      "source": [
        "## Processamento de linguagem natural (texto)\n",
        "\n",
        "- pre processamento\n",
        "    - remoção de stop words (palavras que possuem muita frequêcia no dataset)\n",
        "    - stemming (reduzir a palavra para sua raiz - removendo sulfixo e prefixo) e lemma de palavras (reduzir a palavra a sua origem, preservando a função gramatical)\n",
        "    - tokenização\n",
        "\n",
        "- vetorização de palavras e frase\n",
        "    - BoW\n",
        "    - TFIDF\n",
        "    - Word Embedding (word2vec)\n",
        "        - técnicas para treinamento\n",
        "            - CBOW - continuos bag of words: prever o token target a partir dos tokens context\n",
        "            - Skip Gram - prever os tokens de context a partir do token de target\n",
        "        - vantagem: matriz agora são densas, as palavras e frases estão  num espaço vetorial, com uma métrica de distância associada a cada palavra no espaço vetorial\n",
        "        - é possível fazer analias por exemplo\n",
        "\n",
        "- modelo não supervisionado para análise de sentimentos: Vader"
      ],
      "metadata": {
        "id": "T9ZI89Y6WF_1"
      }
    },
    {
      "cell_type": "code",
      "source": [
        ""
      ],
      "metadata": {
        "id": "GlnsRWmtYjA8"
      },
      "execution_count": null,
      "outputs": []
    }
  ]
}