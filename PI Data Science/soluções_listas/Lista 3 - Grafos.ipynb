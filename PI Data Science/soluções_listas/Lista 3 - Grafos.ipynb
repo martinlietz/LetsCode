{
 "cells": [
  {
   "cell_type": "markdown",
   "metadata": {},
   "source": [
    "# Lista 3 - Grafos\n",
    "\n",
    "---\n",
    "\n"
   ]
  },
  {
   "cell_type": "code",
   "execution_count": 1,
   "metadata": {},
   "outputs": [],
   "source": [
    "import numpy as np\n",
    "import networkx as nx"
   ]
  },
  {
   "cell_type": "markdown",
   "metadata": {},
   "source": [
    "__________"
   ]
  },
  {
   "cell_type": "markdown",
   "metadata": {},
   "source": [
    "**Q1)** Implemente o grafo ilustrado pela figura abaixo, utilizando a representação baseada em uma matriz de adjacências. Em seguida, exiba a matriz que representa o grafo.\n",
    "\n",
    "<img src=https://s3-sa-east-1.amazonaws.com/lcpi/c5b98cc3-2c85-4d9a-b1e8-aaa4b1aba9b3.png width=300>"
   ]
  },
  {
   "cell_type": "code",
   "execution_count": 5,
   "metadata": {},
   "outputs": [
    {
     "name": "stdout",
     "output_type": "stream",
     "text": [
      "[[0 0 0 0 0 0 0]\n",
      " [0 0 0 1 0 0 0]\n",
      " [0 0 0 1 0 1 0]\n",
      " [0 1 1 0 1 0 0]\n",
      " [0 0 0 1 0 1 1]\n",
      " [0 0 1 0 1 1 1]\n",
      " [0 0 0 0 1 1 0]]\n"
     ]
    }
   ],
   "source": [
    "g1 = nx.Graph()\n",
    "\n",
    "# adicionando um nó sem ligação\n",
    "g1.add_node(0)\n",
    "g1.add_node(1)\n",
    "g1.add_node(2)\n",
    "g1.add_node(3)\n",
    "g1.add_node(4)\n",
    "g1.add_node(5)\n",
    "g1.add_node(6)\n",
    "\n",
    "# adicionando as ligações:\n",
    "g1.add_edge(1, 3)\n",
    "\n",
    "g1.add_edge(3, 4)\n",
    "g1.add_edge(3, 2)\n",
    "\n",
    "g1.add_edge(4, 5)\n",
    "g1.add_edge(4, 6)\n",
    "\n",
    "g1.add_edge(5, 5)\n",
    "g1.add_edge(5, 2)\n",
    "g1.add_edge(5, 6)\n",
    "\n",
    "#############################\n",
    "\n",
    "m1 = nx.adjacency_matrix(g1).todense()\n",
    "\n",
    "print(m1)"
   ]
  },
  {
   "cell_type": "markdown",
   "metadata": {},
   "source": [
    "__________"
   ]
  },
  {
   "cell_type": "markdown",
   "metadata": {},
   "source": [
    "**Q2)** Implemente o grafo ilustrado pela figura abaixo, utilizando a representação baseada em uma lista de adjacências. Em seguida, observe a lista de adjacências que representa o grafo.\n",
    "\n",
    "<img src=https://ycpcs.github.io/cs360-spring2019/lectures/images/lecture15/digraph.png width=300>"
   ]
  },
  {
   "cell_type": "code",
   "execution_count": 14,
   "metadata": {},
   "outputs": [
    {
     "name": "stdout",
     "output_type": "stream",
     "text": [
      "1 : [{'id': 2}, {'id': 3}, {'id': 4}]\n",
      "2 : [{'id': 3}]\n",
      "3 : [{'id': 2}]\n",
      "4 : [{'id': 4}]\n",
      "5 : [{'id': 2}]\n"
     ]
    }
   ],
   "source": [
    "g2 = nx.DiGraph()\n",
    "\n",
    "g2.add_node(1)\n",
    "g2.add_node(2)\n",
    "g2.add_node(3)\n",
    "g2.add_node(4)\n",
    "g2.add_node(5)\n",
    "\n",
    "g2.add_edge(1, 2)\n",
    "g2.add_edge(1, 3)\n",
    "g2.add_edge(1, 4)\n",
    "\n",
    "# para ligação de mão dupla, é necessário repetir\n",
    "g2.add_edge(2, 3)\n",
    "g2.add_edge(3, 2)\n",
    "\n",
    "g2.add_edge(5, 2)\n",
    "\n",
    "g2.add_edge(4, 4)\n",
    "\n",
    "#######################\n",
    "\n",
    "l2 = nx.adjacency_data(g2)[\"adjacency\"]\n",
    "\n",
    "# exibindo bonitinho\n",
    "\n",
    "for node, adj_list in enumerate(l2):\n",
    "    \n",
    "    print(node+1, \":\", adj_list)"
   ]
  },
  {
   "cell_type": "markdown",
   "metadata": {},
   "source": [
    "__________"
   ]
  },
  {
   "cell_type": "markdown",
   "metadata": {},
   "source": [
    "**Q3)** Implemente o grafo ponderado ilustrado pela figura abaixo, utilizando as representações baseadas em:\n",
    "\n",
    "- matriz de adjacências;\n",
    "- lista de adjacências.\n",
    "\n",
    "Em seguida, exiba a matriz e a lista que representam o grafo.\n",
    "\n",
    "<img src=\"https://ucarecdn.com/a67cb888-aa0c-424b-8c7f-847e38dd5691/\" width=300>"
   ]
  },
  {
   "cell_type": "code",
   "execution_count": 18,
   "metadata": {},
   "outputs": [
    {
     "name": "stdout",
     "output_type": "stream",
     "text": [
      "\n",
      "\n",
      "Matriz de adjacência:\n",
      "\n",
      "[[0 3 0 7 8]\n",
      " [3 0 1 4 0]\n",
      " [0 1 0 2 0]\n",
      " [7 4 2 0 3]\n",
      " [8 0 0 3 0]]\n",
      "\n",
      "\n",
      "Lista de adjacência:\n",
      "\n",
      "1 : [{'weight': 8, 'id': 4}, {'weight': 3, 'id': 1}, {'weight': 7, 'id': 3}]\n",
      "2 : [{'weight': 3, 'id': 0}, {'weight': 1, 'id': 2}, {'weight': 4, 'id': 3}]\n",
      "3 : [{'weight': 1, 'id': 1}, {'weight': 2, 'id': 3}]\n",
      "4 : [{'weight': 7, 'id': 0}, {'weight': 4, 'id': 1}, {'weight': 2, 'id': 2}, {'weight': 3, 'id': 4}]\n",
      "5 : [{'weight': 8, 'id': 0}, {'weight': 3, 'id': 3}]\n"
     ]
    }
   ],
   "source": [
    "g3 = nx.Graph()\n",
    "\n",
    "g3.add_node(0)\n",
    "g3.add_node(1)\n",
    "g3.add_node(2)\n",
    "g3.add_node(3)\n",
    "g3.add_node(4)\n",
    "\n",
    "g3.add_edge(0, 4, weight=8)\n",
    "g3.add_edge(0, 1, weight=3)\n",
    "g3.add_edge(0, 3, weight=7)\n",
    "\n",
    "g3.add_edge(1, 2, weight=1)\n",
    "g3.add_edge(1, 3, weight=4)\n",
    "\n",
    "g3.add_edge(2, 3, weight=2)\n",
    "\n",
    "g3.add_edge(3, 4, weight=3)\n",
    "\n",
    "#########################\n",
    "\n",
    "print(\"\\n\\nMatriz de adjacência:\\n\")\n",
    "\n",
    "m3 = nx.adjacency_matrix(g3).todense()\n",
    "\n",
    "print(m3)\n",
    "\n",
    "#########################\n",
    "\n",
    "print(\"\\n\\nLista de adjacência:\\n\")\n",
    "\n",
    "l3 = nx.adjacency_data(g3)[\"adjacency\"]\n",
    "\n",
    "# exibindo bonitinho\n",
    "\n",
    "for node, adj_list in enumerate(l3):\n",
    "    \n",
    "    print(node+1, \":\", adj_list)"
   ]
  },
  {
   "cell_type": "markdown",
   "metadata": {},
   "source": [
    "__________"
   ]
  },
  {
   "cell_type": "markdown",
   "metadata": {},
   "source": [
    "**Q4)** O grafo dos estados do Brasil é definido da seguinte forma:\n",
    "\n",
    "- Cada vértice é um dos estados estados da República Federativa do Brasil\n",
    "- Dois estados são adjacentes se têm uma fronteira comum\n",
    "\n",
    "<img src=https://i.pinimg.com/originals/f6/f5/bd/f6f5bd6be91adf85b5a65d79706c8c4f.png width=400>\n",
    "\n",
    "Com base nisso, faça um desenho desse grafo. \n",
    "\n",
    "Quantos vértices tem o grafo? \n",
    "\n",
    "Quantas arestas? \n",
    "\n",
    "Implemente este grafo com o networkx!!"
   ]
  },
  {
   "cell_type": "code",
   "execution_count": 1,
   "metadata": {},
   "outputs": [],
   "source": [
    "S = \"RS SC PR\".split()\n",
    "\n",
    "SE = \"SP MG RJ ES\".split()\n",
    "\n",
    "CO = \"MS GO MT DF\".split()\n",
    "\n",
    "N = \"RO AC AM PA TO RR AP\".split()\n",
    "\n",
    "NE = \"BA PI MA CE RN PB PE AL SE\".split()\n",
    "\n",
    "lista_regioes = [(\"Sul\", S), (\"Sudeste\", SE), (\"Centro Oeste\", CO), (\"Norte\", N), (\"Nordeste\", NE)]"
   ]
  },
  {
   "cell_type": "code",
   "execution_count": 2,
   "metadata": {},
   "outputs": [
    {
     "data": {
      "text/plain": [
       "[('Sul', ['RS', 'SC', 'PR']),\n",
       " ('Sudeste', ['SP', 'MG', 'RJ', 'ES']),\n",
       " ('Centro Oeste', ['MS', 'GO', 'MT', 'DF']),\n",
       " ('Norte', ['RO', 'AC', 'AM', 'PA', 'TO', 'RR', 'AP']),\n",
       " ('Nordeste', ['BA', 'PI', 'MA', 'CE', 'RN', 'PB', 'PE', 'AL', 'SE'])]"
      ]
     },
     "execution_count": 2,
     "metadata": {},
     "output_type": "execute_result"
    }
   ],
   "source": [
    "lista_regioes"
   ]
  },
  {
   "cell_type": "code",
   "execution_count": 39,
   "metadata": {},
   "outputs": [
    {
     "data": {
      "text/plain": [
       "27"
      ]
     },
     "execution_count": 39,
     "metadata": {},
     "output_type": "execute_result"
    }
   ],
   "source": [
    "# check - 27\n",
    "len(S) + len(SE) + len(CO) + len(N) + len(NE)"
   ]
  },
  {
   "cell_type": "code",
   "execution_count": 40,
   "metadata": {
    "scrolled": false
   },
   "outputs": [
    {
     "name": "stdout",
     "output_type": "stream",
     "text": [
      "\n",
      "\n",
      "===== Construção do grafo da região Sul ===== \n",
      "\n",
      "Digite os estados adjacentes a RS, separados por espaço: \n",
      "(Olhe a imagem!) SC\n",
      "Digite os estados adjacentes a SC, separados por espaço: \n",
      "(Olhe a imagem!) RS PR\n",
      "Digite os estados adjacentes a PR, separados por espaço: \n",
      "(Olhe a imagem!) SC\n",
      "\n",
      "\n",
      "Dicionário da região Sul:\n",
      "{'RS': ['SC'], 'SC': ['RS', 'PR'], 'PR': ['SC']} \n",
      "\n",
      "\n",
      "**************************************** \n",
      "\n",
      "\n",
      "\n",
      "\n",
      "===== Construção do grafo da região Sudeste ===== \n",
      "\n",
      "Digite os estados adjacentes a SP, separados por espaço: \n",
      "(Olhe a imagem!) MG RJ\n",
      "Digite os estados adjacentes a MG, separados por espaço: \n",
      "(Olhe a imagem!) SP RJ ES\n",
      "Digite os estados adjacentes a RJ, separados por espaço: \n",
      "(Olhe a imagem!) SP MG ES\n",
      "Digite os estados adjacentes a ES, separados por espaço: \n",
      "(Olhe a imagem!) MG RJ\n",
      "\n",
      "\n",
      "Dicionário da região Sudeste:\n",
      "{'SP': ['MG', 'RJ'], 'MG': ['SP', 'RJ', 'ES'], 'RJ': ['SP', 'MG', 'ES'], 'ES': ['MG', 'RJ']} \n",
      "\n",
      "\n",
      "**************************************** \n",
      "\n",
      "\n",
      "\n",
      "\n",
      "===== Construção do grafo da região Centro Oeste ===== \n",
      "\n",
      "Digite os estados adjacentes a MS, separados por espaço: \n",
      "(Olhe a imagem!) MT GO\n",
      "Digite os estados adjacentes a GO, separados por espaço: \n",
      "(Olhe a imagem!) MT MS DF\n",
      "Digite os estados adjacentes a MT, separados por espaço: \n",
      "(Olhe a imagem!) MS GO\n",
      "Digite os estados adjacentes a DF, separados por espaço: \n",
      "(Olhe a imagem!) GO\n",
      "\n",
      "\n",
      "Dicionário da região Centro Oeste:\n",
      "{'MS': ['MT', 'GO'], 'GO': ['MT', 'MS', 'DF'], 'MT': ['MS', 'GO'], 'DF': ['GO']} \n",
      "\n",
      "\n",
      "**************************************** \n",
      "\n",
      "\n",
      "\n",
      "\n",
      "===== Construção do grafo da região Norte ===== \n",
      "\n",
      "Digite os estados adjacentes a RO, separados por espaço: \n",
      "(Olhe a imagem!) AC AM\n",
      "Digite os estados adjacentes a AC, separados por espaço: \n",
      "(Olhe a imagem!) RO AM\n",
      "Digite os estados adjacentes a AM, separados por espaço: \n",
      "(Olhe a imagem!) AC RO RR PA\n",
      "Digite os estados adjacentes a PA, separados por espaço: \n",
      "(Olhe a imagem!) RR AM AP TO\n",
      "Digite os estados adjacentes a TO, separados por espaço: \n",
      "(Olhe a imagem!) PA\n",
      "Digite os estados adjacentes a RR, separados por espaço: \n",
      "(Olhe a imagem!) AM PA\n",
      "Digite os estados adjacentes a AP, separados por espaço: \n",
      "(Olhe a imagem!) PA\n",
      "\n",
      "\n",
      "Dicionário da região Norte:\n",
      "{'RO': ['AC', 'AM'], 'AC': ['RO', 'AM'], 'AM': ['AC', 'RO', 'RR', 'PA'], 'PA': ['RR', 'AM', 'AP', 'TO'], 'TO': ['PA'], 'RR': ['AM', 'PA'], 'AP': ['PA']} \n",
      "\n",
      "\n",
      "**************************************** \n",
      "\n",
      "\n",
      "\n",
      "\n",
      "===== Construção do grafo da região Nordeste ===== \n",
      "\n",
      "Digite os estados adjacentes a BA, separados por espaço: \n",
      "(Olhe a imagem!) PI PE AL SE\n",
      "Digite os estados adjacentes a PI, separados por espaço: \n",
      "(Olhe a imagem!) MA BA CE PE\n",
      "Digite os estados adjacentes a MA, separados por espaço: \n",
      "(Olhe a imagem!) PI\n",
      "Digite os estados adjacentes a CE, separados por espaço: \n",
      "(Olhe a imagem!) PI RN PB PE\n",
      "Digite os estados adjacentes a RN, separados por espaço: \n",
      "(Olhe a imagem!) CE PB\n",
      "Digite os estados adjacentes a PB, separados por espaço: \n",
      "(Olhe a imagem!) PE RN CE\n",
      "Digite os estados adjacentes a PE, separados por espaço: \n",
      "(Olhe a imagem!) CE PB AL BA PI\n",
      "Digite os estados adjacentes a AL, separados por espaço: \n",
      "(Olhe a imagem!) PE BA SE\n",
      "Digite os estados adjacentes a SE, separados por espaço: \n",
      "(Olhe a imagem!) BA AL\n",
      "\n",
      "\n",
      "Dicionário da região Nordeste:\n",
      "{'BA': ['PI', 'PE', 'AL', 'SE'], 'PI': ['MA', 'BA', 'CE', 'PE'], 'MA': ['PI'], 'CE': ['PI', 'RN', 'PB', 'PE'], 'RN': ['CE', 'PB'], 'PB': ['PE', 'RN', 'CE'], 'PE': ['CE', 'PB', 'AL', 'BA', 'PI'], 'AL': ['PE', 'BA', 'SE'], 'SE': ['BA', 'AL']} \n",
      "\n",
      "\n",
      "**************************************** \n",
      "\n",
      "\n"
     ]
    }
   ],
   "source": [
    "# construindo o dataset\n",
    "\n",
    "dic_regioes = {}\n",
    "\n",
    "for regiao in lista_regioes:\n",
    "    \n",
    "    dic_regioes[regiao[0]] = {}\n",
    "    \n",
    "    print(\"\\n\")\n",
    "    print(\"=\"*5, \"Construção do grafo da região {}\".format(regiao[0]), \"=\"*5, \"\\n\")\n",
    "    \n",
    "    for estado in regiao[1]:\n",
    "        \n",
    "        print(\"Digite os estados adjacentes a {}, separados por espaço: \".format(estado))\n",
    "        dic_regioes[regiao[0]][estado] = input(\"(Olhe a imagem!) \").split()\n",
    "        \n",
    "    print(\"\\n\\nDicionário da região {}:\".format(regiao[0]))\n",
    "    print(dic_regioes[regiao[0]], \"\\n\\n\")\n",
    "    \n",
    "    print(\"*\"*40, \"\\n\\n\")"
   ]
  },
  {
   "cell_type": "code",
   "execution_count": 41,
   "metadata": {},
   "outputs": [
    {
     "data": {
      "text/plain": [
       "{'Sul': {'RS': ['SC'], 'SC': ['RS', 'PR'], 'PR': ['SC']},\n",
       " 'Sudeste': {'SP': ['MG', 'RJ'],\n",
       "  'MG': ['SP', 'RJ', 'ES'],\n",
       "  'RJ': ['SP', 'MG', 'ES'],\n",
       "  'ES': ['MG', 'RJ']},\n",
       " 'Centro Oeste': {'MS': ['MT', 'GO'],\n",
       "  'GO': ['MT', 'MS', 'DF'],\n",
       "  'MT': ['MS', 'GO'],\n",
       "  'DF': ['GO']},\n",
       " 'Norte': {'RO': ['AC', 'AM'],\n",
       "  'AC': ['RO', 'AM'],\n",
       "  'AM': ['AC', 'RO', 'RR', 'PA'],\n",
       "  'PA': ['RR', 'AM', 'AP', 'TO'],\n",
       "  'TO': ['PA'],\n",
       "  'RR': ['AM', 'PA'],\n",
       "  'AP': ['PA']},\n",
       " 'Nordeste': {'BA': ['PI', 'PE', 'AL', 'SE'],\n",
       "  'PI': ['MA', 'BA', 'CE', 'PE'],\n",
       "  'MA': ['PI'],\n",
       "  'CE': ['PI', 'RN', 'PB', 'PE'],\n",
       "  'RN': ['CE', 'PB'],\n",
       "  'PB': ['PE', 'RN', 'CE'],\n",
       "  'PE': ['CE', 'PB', 'AL', 'BA', 'PI'],\n",
       "  'AL': ['PE', 'BA', 'SE'],\n",
       "  'SE': ['BA', 'AL']}}"
      ]
     },
     "execution_count": 41,
     "metadata": {},
     "output_type": "execute_result"
    }
   ],
   "source": [
    "dic_regioes"
   ]
  },
  {
   "cell_type": "code",
   "execution_count": 53,
   "metadata": {},
   "outputs": [],
   "source": [
    "import matplotlib.pyplot as plt"
   ]
  },
  {
   "cell_type": "code",
   "execution_count": 54,
   "metadata": {
    "scrolled": false
   },
   "outputs": [
    {
     "data": {
      "image/png": "[encoded data removed]",
      "text/plain": [
       "<Figure size 432x288 with 1 Axes>"
      ]
     },
     "metadata": {},
     "output_type": "display_data"
    },
    {
     "data": {
      "image/png": "[encoded data removed]",
      "text/plain": [
       "<Figure size 432x288 with 1 Axes>"
      ]
     },
     "metadata": {},
     "output_type": "display_data"
    },
    {
     "data": {
      "image/png": "[encoded data removed]",
      "text/plain": [
       "<Figure size 432x288 with 1 Axes>"
      ]
     },
     "metadata": {},
     "output_type": "display_data"
    },
    {
     "data": {
      "image/png": "[encoded data removed]",
      "text/plain": [
       "<Figure size 432x288 with 1 Axes>"
      ]
     },
     "metadata": {},
     "output_type": "display_data"
    },
    {
     "data": {
      "image/png": "[encoded data removed]",
      "text/plain": [
       "<Figure size 432x288 with 1 Axes>"
      ]
     },
     "metadata": {},
     "output_type": "display_data"
    }
   ],
   "source": [
    "dic_grafos = {}\n",
    "\n",
    "for regiao in dic_regioes.keys():\n",
    "    \n",
    "    # inicializa o grafo\n",
    "    g = nx.Graph(dic_regioes[regiao])\n",
    "\n",
    "    dic_grafos[regiao] = g\n",
    "    \n",
    "    nx.draw_networkx(g, node_color=\"yellow\")\n",
    "    \n",
    "    plt.show()"
   ]
  },
  {
   "cell_type": "markdown",
   "metadata": {},
   "source": [
    "Para as pontes inter-região, vamos fazer na mão mesmo..."
   ]
  },
  {
   "cell_type": "code",
   "execution_count": 59,
   "metadata": {},
   "outputs": [
    {
     "data": {
      "text/plain": [
       "{'PR': ['MS', 'SP'],\n",
       " 'MS': ['PR', 'SP', 'MG'],\n",
       " 'MT': ['RO', 'AM', 'PA', 'TO'],\n",
       " 'GO': ['TO', 'BA', 'MG'],\n",
       " 'SP': ['PR', 'MS'],\n",
       " 'MG': ['MS', 'GO', 'BA'],\n",
       " 'RO': ['MT'],\n",
       " 'AM': ['MT'],\n",
       " 'PA': ['MT'],\n",
       " 'TO': ['MT', 'GO', 'MA', 'PI', 'BA'],\n",
       " 'MA': ['PA', 'TO'],\n",
       " 'BA': ['TO', 'GO', 'MG', 'ES'],\n",
       " 'PI': ['TO']}"
      ]
     },
     "execution_count": 59,
     "metadata": {},
     "output_type": "execute_result"
    }
   ],
   "source": [
    "pontes_inter_reg = {# sul \n",
    "                    \"bras\" : [\"3 - Vermelha SP\",\"10 - Turquesa\",\"11 - Coral\"],\n",
    "                    # centro oeste\n",
    "                    \"se\" : [],\n",
    "                    \"luz\" : [\"RO AM PA TO\"]}\n",
    "\n",
    "pontes_inter_reg"
   ]
  },
  {
   "cell_type": "code",
   "execution_count": 62,
   "metadata": {},
   "outputs": [
    {
     "data": {
      "image/png": "[encoded data removed]",
      "text/plain": [
       "<Figure size 432x288 with 1 Axes>"
      ]
     },
     "metadata": {},
     "output_type": "display_data"
    }
   ],
   "source": [
    "g_inter_reg = nx.Graph(pontes_inter_reg)\n",
    "\n",
    "nx.draw_networkx(g_inter_reg, node_color=\"yellow\")"
   ]
  },
  {
   "cell_type": "code",
   "execution_count": 66,
   "metadata": {},
   "outputs": [],
   "source": [
    "brasil = nx.Graph()\n",
    "\n",
    "# compondo regioes\n",
    "for g in dic_grafos.values():\n",
    "    \n",
    "    brasil = nx.compose(brasil, g)\n",
    "\n",
    "# compondo com pontes\n",
    "brasil = nx.compose(brasil, g_inter_reg)"
   ]
  },
  {
   "cell_type": "code",
   "execution_count": 388,
   "metadata": {},
   "outputs": [
    {
     "data": {
      "image/png": "[encoded data removed]",
      "text/plain": [
       "<Figure size 432x576 with 1 Axes>"
      ]
     },
     "metadata": {},
     "output_type": "display_data"
    }
   ],
   "source": [
    "plt.figure(figsize=(6, 8))\n",
    "\n",
    "                            # x, y\n",
    "pos = {'RS': np.array([0, -1.        ]),\n",
    "             'SC': np.array([0.1, -0.85]),\n",
    "             'PR': np.array([0.15, -0.7]),\n",
    "             'SP': np.array([0.2 , -0.55]),\n",
    "             'MG': np.array([0.25, -0.35]),\n",
    "             'RJ': np.array([0.35, -0.45]),\n",
    "             'ES': np.array([0.4, -0.35]),\n",
    "             'MS': np.array([-0.1, -0.4]),\n",
    "             'GO': np.array([0.1, -0.2]),\n",
    "             'MT': np.array([-0.3,  -0.1]),\n",
    "             'DF': np.array([0.15, -0.15]),\n",
    "             'RO': np.array([-0.7 , 0]),\n",
    "             'AC': np.array([-1.2, 0.05]),\n",
    "             'AM': np.array([-0.8, 0.2]),\n",
    "             'PA': np.array([0,  0.3]),\n",
    "             'TO': np.array([0.1, 0]),\n",
    "             'RR': np.array([-1,  0.4]),\n",
    "             'AP': np.array([-0.1,  0.45]),\n",
    "             'BA': np.array([0.35, -0.15]),\n",
    "             'PI': np.array([0.34, 0.3]),\n",
    "             'MA': np.array([0.2, 0.35]),\n",
    "             'CE': np.array([0.45, 0.35]),\n",
    "             'RN': np.array([0.65, 0.35]),\n",
    "             'PB': np.array([0.8, 0.2]),\n",
    "             'PE': np.array([0.65, 0.1]),\n",
    "             'AL': np.array([0.7, 0]),\n",
    "             'SE': np.array([0.65, -0.1])}\n",
    "\n",
    "nx.draw_networkx(brasil, pos, node_color=\"yellow\")\n",
    "\n",
    "plt.show()"
   ]
  },
  {
   "cell_type": "markdown",
   "metadata": {},
   "source": [
    "<img src=\"https://www.researchgate.net/profile/Paulo-Feofiloff/publication/327057443/figure/fig1/AS:660253444153345@1534428096628/Figura-13-Adjacncia-entre-estados-do-Brasil-veja-exemplo-15.png\" align=left>"
   ]
  },
  {
   "cell_type": "markdown",
   "metadata": {},
   "source": [
    "__________"
   ]
  },
  {
   "cell_type": "markdown",
   "metadata": {},
   "source": [
    "**Q5)** Considere um determinado número de cidades (N) e uma determinada quantidade de rotas (M) que você sabe que existem entre aquelas cidades. Com base nisso, você deve criar um script em Python que recebe um número N de cidades e um número M de caminhos que existem entre elas. Em seguida, seu programa vai ler quais são esses M caminhos e a distância deles.\n",
    "\n",
    "Para exemplificar, vamos analisar a entrada abaixo:\n",
    "\n",
    "```\n",
    "3 2  \n",
    "0 1 10  \n",
    "1 2 23  \n",
    "```\n",
    "\n",
    "O exemplo acima é bem simples. Os dois primeiros números são o N e o M; ou seja, existem 3 cidades e 2 caminhos conhecidos entre elas. Em seguida, temos os dois caminhos:\n",
    "\n",
    "- O primeiro vai da cidade 0 para a cidade 1, cuja distância é de 10.\n",
    "    \n",
    "- O segundo vai da cidade 1 para a cidade 2, cuja distância é de 23.\n",
    "\n",
    "Teste o seu programa para a entrada acima e, também, para a entrada abaixo:\n",
    "\n",
    "```\n",
    "7 11\n",
    "0 1 7\n",
    "0 3 5\n",
    "1 2 8\n",
    "1 3 9\n",
    "1 4 7\n",
    "2 4 5\n",
    "3 4 15\n",
    "3 5 6\n",
    "4 5 8\n",
    "4 6 9\n",
    "5 6 11\n",
    "```\n",
    "\n",
    "Implemente o grafo da entrada acima de forma automática (sem fazer \"na mão\")!"
   ]
  },
  {
   "cell_type": "code",
   "execution_count": null,
   "metadata": {},
   "outputs": [],
   "source": []
  },
  {
   "cell_type": "markdown",
   "metadata": {},
   "source": [
    "__________"
   ]
  }
 ],
 "metadata": {
  "kernelspec": {
   "display_name": "Python 3",
   "language": "python",
   "name": "python3"
  },
  "language_info": {
   "codemirror_mode": {
    "name": "ipython",
    "version": 3
   },
   "file_extension": ".py",
   "mimetype": "text/x-python",
   "name": "python",
   "nbconvert_exporter": "python",
   "pygments_lexer": "ipython3",
   "version": "3.7.6"
  }
 },
 "nbformat": 4,
 "nbformat_minor": 4
}