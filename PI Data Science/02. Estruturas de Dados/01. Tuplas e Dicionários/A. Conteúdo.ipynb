{
 "metadata": {
  "language_info": {
   "codemirror_mode": {
    "name": "ipython",
    "version": 3
   },
   "file_extension": ".py",
   "mimetype": "text/x-python",
   "name": "python",
   "nbconvert_exporter": "python",
   "pygments_lexer": "ipython3",
   "version": "3.7.8-final"
  },
  "orig_nbformat": 2,
  "kernelspec": {
   "name": "python3",
   "display_name": "Python 3.7.8 32-bit",
   "metadata": {
    "interpreter": {
     "hash": "04635d289a519a1410467dd0afb0db42f9184808881ca68b2eb5a687a20a5a94"
    }
   }
  }
 },
 "nbformat": 4,
 "nbformat_minor": 2,
 "cells": [
  {
   "source": [
    "<h2>Tuplas e Dicionários</h2>\n",
    "<p>Em aulas anteriores, sempre que precisamos trabalhar com múltiplos dados, utilizamos as listas para armazená-los. Porém, o Python possui outras coleções que podem ser úteis em situações diferentes. Vejamos um pouquinho sobre duas estruturas diferentes: tuplas e dicionários.</p>"
   ],
   "cell_type": "markdown",
   "metadata": {}
  },
  {
   "source": [
    "## 1. Tuplas\n",
    "uplas são estruturas bastante parecidas com listas:\n",
    "\n",
    "-Podem guardar diversos dados.\n",
    "\n",
    "-Podem guardar tipos diferentes de dados.\n",
    "\n",
    "-São indexadas (podemos acessar elementos individuais por índices).\n",
    "\n",
    "-São iteráveis (podemos percorrer com for).\n",
    "\n",
    "Porém, elas possuem uma grande diferença: elas são imutáveis. Assim como no caso das strings, após a criação da tupla você não pode alterar elementos individuais, adicionar elementos, remover elementos ou alterar a ordem dos elementos.\n",
    "\n",
    "Bom, por que usaríamos algo parecido com uma lista mas com menos recursos? Temos 3 bons motivos:\n",
    "\n",
    "É um jeito de sinalizar que esses dados não deveriam ser alterados. Apesar de ser possível redefinir a tupla (assim como já fizemos com strings), o programador que estiver mexendo no código alheio e fizer isso estará ciente de que talvez outras partes do código precisem daqueles dados inalterados.\n",
    "É um meio de garantir que os elementos estarão em uma ordem específica.\n",
    "Velocidade. Para que uma estrutura seja mutável, seu tamanho é variável, e isso envolve algoritmos complexos para que nenhum dado seja perdido. Para acessar um certo elemento de uma lista, todos os elementos anteriores serão percorridos. Já em uma tupla é possível um salto calculado direto para o elemento em questão. Em programas pequenos isso é pouco perceptível, mas ao trabalhar com bases de dados enormes e/ou realizar muitas operações complexas com os dados, a lista pode ser um gargalo, e a tupla seria a solução.\n",
    "\n",
    "Vejamos um pequeno exemplo mostrando as diferentes operações que podemos fazer com tupla:\n"
   ],
   "cell_type": "markdown",
   "metadata": {}
  },
  {
   "cell_type": "code",
   "execution_count": 1,
   "metadata": {},
   "outputs": [
    {
     "output_type": "stream",
     "name": "stdout",
     "text": [
      "10\n"
     ]
    }
   ],
   "source": [
    "# para criar uma tupla utilizamos parênteses\n",
    "tupla = (1, 2, 3, 5, 'sete', 11.0) \n",
    "\n",
    "# note que para acessar um elemento pelo índice ainda usamos colchete\n",
    "print(tupla[4]) \n",
    "\n",
    "print('Percorrendo a tupla...')\n",
    "for elemento in tupla:\n",
    "    print(elemento)\n",
    "\n",
    "# criando uma lista com os elementos da tupla\n",
    "lista = list(tupla) \n",
    "# adicionando um elemento na lista - ao contrário da tupla, a lista é mutável!\n",
    "lista.append(13) \n",
    "print(lista)\n",
    "\n",
    "# criando uma tupla a partir de uma lista:\n",
    "tuplanova = tuple(lista)\n",
    "print(tuplanova)"
   ]
  },
  {
   "source": [
    "## 2. Dicionários\n",
    "Quando utilizamos um dicionário (o de papel, com definições), não temos o hábito de procurar pela palavra que está em uma determinada posição. Ao invés disso, nós buscamos pela palavra em si, e ao encontrá-la ela contém uma definição.\n",
    "\n",
    "A estrutura dicionário em Python é uma coleção de dados. Porém, ela não é indexada. Ao adicionarmos elementos em um dicionário, sempre o fazemos aos pares: todo elemento terá uma chave e um valor.\n",
    "\n",
    "A chave será uma string que utilizaremos como se fosse o índice. É como se fosse a palavra que buscamos em um dicionário de papel.\n",
    "\n",
    "O valor pode ser qualquer dado: um int, um float, uma str, um bool, uma lista, uma tupla, outro dicionário... Ele é como se fosse a definição que encontramos vinculada à palavra que encontramos no dicionário de papel."
   ],
   "cell_type": "markdown",
   "metadata": {}
  },
  {
   "cell_type": "code",
   "execution_count": null,
   "metadata": {},
   "outputs": [],
   "source": [
    "dicionario = {'curso':'Python Pro', 'escola':\"Let's Code\"}\n",
    "print(dicionario['curso'])\n",
    "print(dicionario['escola'])"
   ]
  },
  {
   "source": [
    "## 2.1. Adicionando elementos em um dicionário\n",
    "Para adicionar elementos, não precisamos de uma função pronta (como o append das listas). Basta \"acessar\" a nova chave e atribuir um novo valor."
   ],
   "cell_type": "markdown",
   "metadata": {}
  },
  {
   "cell_type": "code",
   "execution_count": null,
   "metadata": {},
   "outputs": [],
   "source": [
    "dicionario = {'curso':'Python Pro', 'escola':\"Let's Code\"}\n",
    "dicionario['unidade'] = 'Faria Lima'\n",
    "print(dicionario)"
   ]
  },
  {
   "source": [
    "## 2.2. Percorrendo um dicionário\n",
    "Dicionários podem ser percorridos com um for. Ao fazer isso, as chaves serão percorridas, não os valores. Porém, à partir da chave obtém-se o valor:"
   ],
   "cell_type": "markdown",
   "metadata": {}
  },
  {
   "cell_type": "code",
   "execution_count": null,
   "metadata": {},
   "outputs": [],
   "source": [
    "dicionario = {'curso':'Python Pro', 'escola':\"Let's Code\"}\n",
    "dicionario['unidade'] = 'Faria Lima'\n",
    "\n",
    "for chave in dicionario:\n",
    "    print(chave, '--->', dicionario[chave])"
   ]
  },
  {
   "source": [
    "## 2.3. Separando chaves e valores\n",
    "O Python possui funções para obter, separadamente, todas as chaves ou todos os valores de um dicionário. Elas são, respectivamente, keys e values. Podemos transformar o retorno dessa função em uma lista ou tupla."
   ],
   "cell_type": "markdown",
   "metadata": {}
  },
  {
   "cell_type": "code",
   "execution_count": null,
   "metadata": {},
   "outputs": [],
   "source": [
    "dicionario = {'curso':'Python Pro', 'escola':\"Let's Code\"}\n",
    "dicionario['unidade'] = 'Faria Lima'\n",
    "\n",
    "chaves = list(dicionario.keys())\n",
    "valores = list(dicionario.values())\n",
    "\n",
    "print('Chaves: ', chaves)\n",
    "print('Valores:', valores)"
   ]
  },
  {
   "source": [
    "## 2.4. Testando a existência de uma chave\n",
    "Antes de criar uma chave nova em um dicionário, convém testar se ela já existe, para evitar sobrescrever um valor. Podemos fazer isso com o operador in (sim, o mesmo que usamos no for!). Neste contexto, ele retornará True se a chave existir e False caso não exista.\n",
    "\n",
    "Vamos supor que no exemplo abaixo o valor de 'cursos' seja uma lista com todos os cursos que o usuário está fazendo.\n",
    "\n",
    "dicionario = {'escola':\"Let's Code\", 'unidade':'Faria Lima'}"
   ],
   "cell_type": "markdown",
   "metadata": {}
  },
  {
   "cell_type": "code",
   "execution_count": null,
   "metadata": {},
   "outputs": [],
   "source": [
    "dicionario = {'escola':\"Let's Code\", 'unidade':'Faria Lima'}\n",
    "\n",
    "# Neste caso, 'cursos' ainda não existe.\n",
    "# Cairemos no else e será criada uma lista com a string 'Python'.\n",
    "if 'cursos' in dicionario:\n",
    "    dicionario['cursos'].append('Python')\n",
    "else:\n",
    "    dicionario['cursos'] = ['Python']\n",
    "\n",
    "# Agora a chave já existe. \n",
    "# Portanto, será adicionado 'Data Science' à lista. \n",
    "if 'cursos' in dicionario:\n",
    "    dicionario['cursos'].append('Data Science')\n",
    "else:\n",
    "    dicionario['cursos'] = ['Data Science']\n",
    "\n",
    "print(dicionario)"
   ]
  },
  {
   "source": [
    "> Experimente o operador in em uma lista, tupla ou string. Ele pode ser bastante útil!"
   ],
   "cell_type": "markdown",
   "metadata": {}
  }
 ]
}