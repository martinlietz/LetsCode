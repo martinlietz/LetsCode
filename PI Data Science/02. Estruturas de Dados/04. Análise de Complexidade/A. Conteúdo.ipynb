{
 "metadata": {
  "language_info": {
   "codemirror_mode": {
    "name": "ipython",
    "version": 3
   },
   "file_extension": ".py",
   "mimetype": "text/x-python",
   "name": "python",
   "nbconvert_exporter": "python",
   "pygments_lexer": "ipython3",
   "version": "3.7.8"
  },
  "orig_nbformat": 2,
  "kernelspec": {
   "name": "python378jvsc74a57bd004635d289a519a1410467dd0afb0db42f9184808881ca68b2eb5a687a20a5a94",
   "display_name": "Python 3.7.8 32-bit"
  }
 },
 "nbformat": 4,
 "nbformat_minor": 2,
 "cells": [
  {
   "source": [
    "<h1>Análise de Complexidade</h1>\n",
    "<p>Quando falamos sobre a complexidade de um algoritmo estamos nos referindo à quantidade de recursos (tempo de processamento ou espaço de armazenamento) que precisa ser consumida ou alocada para sua execução.\n",
    "\n",
    "Essa análise de complexidade é fundamental para que possamos projetar algoritmos eficientes e verificar a eficiência dos algoritmos que utilizamos. Além disso, para escolher a estrutura de dados mais adequada para cada problema que precisamos resolver, é necessário identificar quais operações essa estrutura fornece com máxima eficiência.</p>"
   ],
   "cell_type": "markdown",
   "metadata": {}
  },
  {
   "source": [
    "# 1. Como analisar?   \n",
    "Definimos $T(n)$, uma função que representa o tempo de execução em função do tamanho da entrada $n$.    \n",
    "    \n",
    "O tamanho da entrada aqui é a quantidade de \"coisas\" que o algoritmo precisa processar.    \n",
    "Fazemos a análise em função do tamanho da entrada pois o que nos interessa é identificar como o algoritmo irá escalar.   \n",
    "Em outras palavras queremos responder algo do tipo: \"Quando dobramos a entrada, o tempo de execução dobra? quadruplica?\".    \n",
    "Enfim, o que acontece com o tempo de execução a medida que o tamanho da entrada aumenta.  \n",
    "  \n",
    "Além disso, queremos uma medida que seja geral o suficiente para capturar o comportamento do algoritmo    \n",
    "independentemente do tipo de máquina que o código irá executar. Se usássemos segundos ou minutos para medir o tempo,    \n",
    "teríamos que fazer uma análise diferente para cada processador existente. Por esse motivo,     \n",
    "o que contamos é a quantidade de operações básicas que são executadas e cada uma destas instruções leva um tempo constante.   \n",
    "  \n",
    "Vejamos, por exemplo, a análise do seguinte trecho de código:   "
   ],
   "cell_type": "markdown",
   "metadata": {}
  },
  {
   "cell_type": "code",
   "execution_count": 3,
   "metadata": {},
   "outputs": [],
   "source": [
    "a = 0\n",
    "n = 3                 #... 1 atribuição\n",
    "for i in range(n):    #... executa n vezes o que estiver dentro do for\n",
    "    a = a + i         #...... atribuição e soma são executadas n vezes"
   ]
  },
  {
   "source": [
    "Logo, $T(n) = 1 + n$ operações."
   ],
   "cell_type": "markdown",
   "metadata": {}
  },
  {
   "source": [
    "# 2. Comportamento assintótico\n",
    "Exercício:  \n",
    "Suponha que você tem algumas listas que precisam ser ordenadas e duas opções de algoritmos com as seguintes complexidades:  \n",
    "  \n",
    "Algoritmo 1: 2n² + 5n operações   \n",
    "Algoritmo 2: 500n + 4000 operações   \n",
    "Qual deles é mais eficiente para ordenar uma lista com 10 itens? e com 1000?   \n",
    "Qual você escolheria para utilizar em uma lista arbitrária (da qual você não saberia o tamanho previamente)?   \n",
    "   \n",
    "Vejamos abaixo um gráfico do tempo de exeução desses dois algoritmos, Algoritmo 1 em vermelho e Algoritmo 2 em azul:  \n",
    "<img src=\"https://s3-sa-east-1.amazonaws.com/lcpi/e1207199-1f9e-4859-a595-07fe393154ab.png\" />"
   ],
   "cell_type": "markdown",
   "metadata": {}
  },
  {
   "source": [
    "Pelo gráfico podemos ver que, embora Algoritmo 1 seja mais eficiente que Algoritmo 2 para \"valores pequenos\" de n,     \n",
    "ele rapidamente se torna muito pior a medida que n aumenta. O termo quadrático de Algoritmo 1 (2n²) \"domina\" a função, ou seja,   \n",
    " a contribuição desse termo é maior do que todos os outros de maneira que,     \n",
    " para valores grandes de n, a contribuição dos demais termos se torna irrelevante para o comportamento da função.  \n",
    "   \n",
    "Dito isso, vemos que não há necessidade de identificar a função $T(n)$ completamente precisa levando em conta cada instrução,       \n",
    "o que realmente importa é o comportamento assintótico de $T(n)$, ou seja o que ocorre com $T(n)$ quando n aumenta consideravelmente.       \n",
    "Em outras palavras, queremos a ordem da função $T(n)$ de cada algoritmo, o termo dominante da função.   \n",
    "Nesse caso, dizemos que Algoritmo 1 é $O(n**2)$ (lê-se \"da ordem de n quadrado\", ou \"o de n quadrado\")     \n",
    "e Algoritmo 2 é $O(n)$. E é assim que analisaremos e representaremos a complexidade dos algoritmos daqui para frente.    \n",
    "   \n",
    "No exemplo da seção anterior: $T(n) = 1 + n = O(n)$.    \n",
    "De modo geral, ao fazer uma análise podemos focar nos loops do código.     \n",
    "   \n",
    "Mas e quando o loop muda de tamanho?   "
   ],
   "cell_type": "markdown",
   "metadata": {}
  },
  {
   "source": [
    "```python\n",
    "a = 0\n",
    "for i in range(n):\n",
    "  for j in range(i + 1, n):\n",
    "    a = a + i\n",
    "    a = a + j\n",
    "print(a)\n",
    "```"
   ],
   "cell_type": "markdown",
   "metadata": {}
  },
  {
   "source": [
    "Nesse caso vemos que o loop mais interno irá executar n-1 vezes na primeira iteração do loop externo,    \n",
    "n-2 vezes na segunda iteração, e assim por diante:   "
   ],
   "cell_type": "markdown",
   "metadata": {}
  },
  {
   "source": [
    "```python\n",
    "(n-1) + (n-2) + (n-3) +...+ 1 \n",
    "```"
   ],
   "cell_type": "markdown",
   "metadata": {}
  },
  {
   "source": [
    "Trata-se da soma de todos os termos de uma Progressão Aritmética, e portanto é da ordem de $n**2$, $O(n**2)$   \n",
    "   \n",
    "Ou seja, o for interno irá executar $n - 1$ vezes para cada $n$ do for externo. O que leva a uma função de complexidade $T(n) = n(n - 1)$.   \n",
    "   \n",
    "Podemos simplificar em $T(n) = n² - n$, o que dá uma complexidade assintótica de $O(n²)$.   \n",
    "\n",
    "E qual a complexidade desse código?   "
   ],
   "cell_type": "markdown",
   "metadata": {}
  },
  {
   "cell_type": "code",
   "execution_count": null,
   "metadata": {},
   "outputs": [],
   "source": [
    "i = n\n",
    "while i > 1:\n",
    "  i = i / 2\n",
    "  print(i)"
   ]
  },
  {
   "source": [
    "A princípio podemos pensar que esse loop executaria n vezes,    \n",
    "porém se olharmos com mais atenção o termo i está sendo cortado pela metade a cada iteração.    \n",
    "Ou seja, esse loop será executado a quantidade de vezes que for possível dividir n por 2 e obter um resultado maior do que 1.    \n",
    "Por exemplo, se $n = 8$ o loop executa 3 vezes, se $n = 32$ o loop executa 5 vezes. Para um $n$ qualquer, o loop executa $O(log2(n))$.      \n",
    "      \n",
    "Complexidades mais comuns em ordem de eficiência (do pior para o melhor):      "
   ],
   "cell_type": "markdown",
   "metadata": {}
  },
  {
   "source": [
    "- $O(n!)$       -> fatorial\n",
    "- $O(2**n)$     -> exponencial\n",
    "- $O(n**2)$     -> polinomial/quadrático\n",
    "- $O(n*log2(n))$-> logaritmica\n",
    "- $O(n)$        -> linear\n",
    "- $O(log2(n))$  -> logaritmica\n",
    "- $O(1)$        -> constante"
   ],
   "cell_type": "markdown",
   "metadata": {}
  },
  {
   "source": [
    "<img src=\"https://devopedia.org/images/article/17/4996.1513922020.jpg\" style=\"width:40%\"/>"
   ],
   "cell_type": "markdown",
   "metadata": {}
  },
  {
   "source": [
    "# 3. Exemplo prático: busca binária   \n",
    "Agora que sabemos analisar algoritmos, vejamos um exemplo mais prático.  \n",
    "Dada uma lista ordenada, defina uma função def find(lista, item) que retorna True caso item esteja na lista e False caso contrário.    \n",
    "   \n",
    "A resolução mais direta desse exercício seria, talvez, iterar por cada elemento da lista e comparar com o item buscado,   \n",
    "se for igual retorna verdadeiro, se chegar ao fim da lista retorna falso.   \n",
    "Implemente e analise a complexidade desse algoritmo.    \n",
    "O que ocorre se buscamos um elemento que não está na lista e a lista for muito grande?   \n",
    "   \n",
    "Será que podemos fazer algo melhor?   \n",
    "O algoritmo descrito acima não faz uso da informação de que a lista está ordenada,    \n",
    "podemos usar essa ordenação a nosso favor.   \n",
    "O código abaixo é uma implementação do algoritmo conhecido como busca binária:    \n",
    "Começamos comparando o item com o elemento no meio da lista,    \n",
    "se o item que queremos for menor que o meio procuramos na metade esquerda da lista,    \n",
    "se for maior procuramos na metade direita.    \n",
    "   \n",
    "> (Lembra da aula de recursão? Qual o caso base desse código recursivo? Será que é mais fácil fazer a busca binária iterativamente ou recursivamente?)   "
   ],
   "cell_type": "markdown",
   "metadata": {}
  },
  {
   "cell_type": "code",
   "execution_count": null,
   "metadata": {},
   "outputs": [],
   "source": [
    "def binary_search(l, item):\n",
    "    if len(l) == 0:\n",
    "        return False\n",
    "    meio = len(l)//2\n",
    "    if l[meio] == item:\n",
    "        return True\n",
    "    if item > l[meio]:\n",
    "        return binary_search(l[meio+1:], item)\n",
    "    else:\n",
    "        return binary_search(l[:meio], item)"
   ]
  },
  {
   "source": [
    "Qual é a complexidade desse código?    \n",
    "Os exemplos da seção anterior podem ajudar na análise.    \n",
    "Meça também o tempo de execução dos dois códigos,     \n",
    "o que ocorre em cada um quando dobramos o tamanho da lista?   "
   ],
   "cell_type": "markdown",
   "metadata": {}
  },
  {
   "source": [
    "Complexidade de estruturas de dados\n",
    "Tratar da complexidade de algoritmos também possibilita analisar a complexidade das estruturas de dados. Com isso, cada estrutura de dados (listas, dicionários, árvores) possui sua própria complexidade de memória e tempo de execução.\n",
    "\n",
    "Para analisar essas estruturas podemos nos apoiar nas seguintes operações: acesso, busca, inserção e remoção. De maneira simplificada, podemos anotar os custos médios de complexidade de listas, dicionários, árvores e grafos com a seguinte tabela.\n",
    "\n",
    "Estrutura de dados\t|Acesso\t|Busca\t|Inserção\t|Remoção\n",
    "--- | --- | ---| ---| ---\n",
    "Listas\t|$O(1)$\t|$O(N)$\t|$O(N)$\t|$O(N)$\n",
    "Dicionários\t|$O(1)$\t|$O(1)$\t|$O(1)$\t|$O(1)$\n",
    "Árvores\t|$O(log2(N))$\t|$O(log2(N))$\t|$O(log2(N))$\t|$O(log2(N))$\n"
   ],
   "cell_type": "markdown",
   "metadata": {}
  }
 ]
}