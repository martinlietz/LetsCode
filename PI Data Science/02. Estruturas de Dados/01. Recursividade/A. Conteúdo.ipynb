{
 "metadata": {
  "language_info": {
   "codemirror_mode": {
    "name": "ipython",
    "version": 3
   },
   "file_extension": ".py",
   "mimetype": "text/x-python",
   "name": "python",
   "nbconvert_exporter": "python",
   "pygments_lexer": "ipython3",
   "version": "3.7.8-final"
  },
  "orig_nbformat": 2,
  "kernelspec": {
   "name": "python3",
   "display_name": "Python 3.7.8 32-bit",
   "metadata": {
    "interpreter": {
     "hash": "04635d289a519a1410467dd0afb0db42f9184808881ca68b2eb5a687a20a5a94"
    }
   }
  }
 },
 "nbformat": 4,
 "nbformat_minor": 2,
 "cells": [
  {
   "source": [
    "<h2>Recursividade</h2>\n",
    "<p>\n",
    "Recursividade é a propriedade de algo que é definido em termos de si mesmo, por exemplo, uma função que faz parte de sua própria definição. Em outras palavras, podemos dizer que uma função é recursiva quando, em algum ponto de sua definição, a função chama a si mesma.\n",
    "\n",
    "Como exemplo de definição recursiva, vamos utilizar o fatorial, que pode ser definido recursivamente da seguinte maneira:\n",
    " $ fatorial(n) = \\begin{cases}\n",
    "1, & \\text{ se }  n= 0\\\\\n",
    "n \\times & fatorial(n-1) , c.c\n",
    "\\end{cases} $ \n",
    "\n",
    "Que pode ser traduzida em código python como:\n",
    "</p>"
   ],
   "cell_type": "markdown",
   "metadata": {}
  },
  {
   "cell_type": "code",
   "execution_count": 1,
   "metadata": {},
   "outputs": [
    {
     "output_type": "stream",
     "name": "stdout",
     "text": [
      "10\n"
     ]
    }
   ],
   "source": [
    "def fatorial(n):\n",
    "    if n == 0:\n",
    "        return 1\n",
    "    else:\n",
    "        return n * fatorial(n-1)"
   ]
  },
  {
   "source": [
    "O que significa que, se quisermos saber o fatorial de um número, precisamos saber o fatorial do número anterior. Por exemplo:\n",
    "fatorial(5) = 5 * fatorial(4)\n",
    "fatorial(4) = 4 * fatorial(3)\n",
    "e assim por diante..."
   ],
   "cell_type": "markdown",
   "metadata": {}
  },
  {
   "source": [
    "# 1. Como definir uma função recursiva?\n",
    "A recursividade está essencialmente relacionada com o conceito de repetição e assim como nas estruturas de repetição (ou seja, *for* e *while*) precisamos tomar alguns cuidados para que a função não fique chamando a si mesma \"para sempre\" (numa espécie de loop infinito). Para definir uma função recursiva corretamente, ou seja, garantindo que ela não vai rodar para sempre, é necessário que ela possua as seguintes propriedades:\n",
    "\n",
    "Deve haver um caso base\n",
    "O passo recursivo deve ser diferente da chamada atual\n",
    "O caso base indica quando a recursão irá \"parar\". Ou seja, ao atingir o caso base o programa não fará outra chamada recursiva. Veja a primeira linha da definição de fatorial acima, essa linha define o caso base. Para saber o fatorial de um número qualquer precisamos multiplicá-lo pelo fatorial do número anterior (passo recursivo), exceto para o elemento \"base\", o zero, para o qual temos o valor dado pela definição, fatorial(0) = 1.\n",
    "\n",
    "O passo recursivo é onde a função chama a si mesma. Na definição acima, trata-se da segunda linha. Essa chamada deve ser atualizada para que a função \"ande em direção ao caso base\". Por exemplo, imagine que na definição de fatorial(n) houvesse uma chamada para o próprio fatorial(n), ou seja, um passo recursivo exatamente igual à chamada atual. Nesse caso a função jamais chegaria ao caso base e portanto ficaria em execução sem nunca retornar um valor.\n",
    "\n",
    "# 2. Como uma função recursiva é executada no computador?\n",
    "Cada vez que uma nova chamada de função é encontrada, a função atual é interrompida para aguardar o retorno da próxima chamada. Por exemplo, ao chamarmos fatorial(4), o função irá chamar fatorial(3) e aguardar o retorno para poder concluir, esse comportamento vai se repetindo até chegarmos ao caso base fatorial(0) o qual devolve um valor para que o chamou (fatorial(1)) que devolve seu resultado para fatorial(2) a assim sucessivamente até chegarmos de volta a chamada original"
   ],
   "cell_type": "markdown",
   "metadata": {}
  },
  {
   "cell_type": "code",
   "execution_count": null,
   "metadata": {},
   "outputs": [],
   "source": [
    "fatorial(4)  \n",
    "│  fatorial(3)  \n",
    "│  │  fatorial(2)   \n",
    "│  │  │  fatorial(1)   \n",
    "│  │  │  │  fatorial(0) ... devolve 1  \n",
    "│  │  │  └───────────── ... devolve 1 * 1 = 1  \n",
    "│  │  └──────────────── ... devolve 2 * 1 = 2  \n",
    "│  └─────────────────── ... devolve 3 * 2 = 6    \n",
    "└────────────────────── ... devolve 4 * 6 = 24"
   ]
  },
  {
   "source": [
    "# 3. Por que usar recursividade?\n",
    "A essa altura você deve estar se perguntando \"para que definir uma função fatorial recursivamente?\". E a resposta honesta seria \"para explicar recursividade\". A verdade é que o cálcudo do fatorial pode ser resolvido simplesmente com um loop.\n",
    "\n",
    "Vejamos então um exemplo mais interessante: Soponha que você precisa encontrar um determinado arquivo em uma pasta do seu computador, você poderia simplesmente listar o conteúdo da pasta e percorrer cada item verificando se é o arquivo que você procura, correto? Mas e se essa pasta pudesse ter subpastas, que por sua vez pudessem ter mais subpastas, que por sua vez pudessem ter mais subpastas... e assim por diante? Nesse caso, como não sabemos quantos níveis de subpastas iremos encontrar, fica mais complicado resolver simplesmente com um loop. Com recursão fica mais fácil: basta iterar por cada item, e cada vez que encontrar uma pasta chame a função recursivamente.\n",
    "\n",
    "Não necessariamente uma função recursiva será mais (ou menos!) eficiente que sua contraparte iterativa. Geralmente optamos por definir uma função de maneira recursiva quando a versão iterativa resultaria em um código muito complicado ao passo que fazendo recursivamente a solução fica mais clara (por exemplo, percorrer uma árvore ou grafo, efetuar uma busca binária, etc - falaremos destes e outros exemplos relevantes de recursão ao longo dos demais tópicos do curso).\n",
    "\n",
    "De maneira geral: se você sabe de antemão quantos e quais os passos precisa percorrer, um for ou while será provavelmente a melhor opção. Agora, em uma situação onde não é fácil dizer quantos passos serão necessários, a recursão provavelmente resultará em um código mais simples."
   ],
   "cell_type": "markdown",
   "metadata": {}
  }
 ]
}