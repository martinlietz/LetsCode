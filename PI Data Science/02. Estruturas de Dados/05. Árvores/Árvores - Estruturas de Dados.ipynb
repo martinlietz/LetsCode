{
 "metadata": {
  "language_info": {
   "codemirror_mode": {
    "name": "ipython",
    "version": 3
   },
   "file_extension": ".py",
   "mimetype": "text/x-python",
   "name": "python",
   "nbconvert_exporter": "python",
   "pygments_lexer": "ipython3",
   "version": "3.9.0"
  },
  "orig_nbformat": 2,
  "kernelspec": {
   "name": "python390jvsc74a57bd0e922dd073470bdcc017ae3abd31d6491d6ed7bf31c1d559806e5511bfea88b81",
   "display_name": "Python 3.9.0 32-bit"
  }
 },
 "nbformat": 4,
 "nbformat_minor": 2,
 "cells": [
  {
   "cell_type": "code",
   "execution_count": 2,
   "metadata": {},
   "outputs": [],
   "source": [
    "import numpy as np"
   ]
  },
  {
   "source": [
    "# Questão #1  \n",
    "```Vale 10```  \n",
    "      \n",
    "Enunciado     \n",
    "    \n",
    "1) Crie a árvore genealógica representada pela figura abaixo,    \n",
    "utilizando a estrutura de dados Árvore.    \n",
    "Em seguida, crie um método que recebe o nome de uma pessoa e  \n",
    "informa se existe um integrante da família com esse nome (True) ou não (False).   \n",
    "<img src=\"arvore-genealogica-minha-familia-arvoredafamilia.jpg\" style=\"width:20%\"/>\n"
   ],
   "cell_type": "markdown",
   "metadata": {}
  },
  {
   "cell_type": "code",
   "execution_count": 18,
   "metadata": {},
   "outputs": [],
   "source": [
    "class Arvore:\n",
    "    \n",
    "    def __init__(self, nome, mae = None, pai = None):\n",
    "        \n",
    "        self.nome = nome\n",
    "        \n",
    "        self.mae = mae\n",
    "        self.pai = pai\n",
    "        \n",
    "    def __repr__(self):\n",
    "        \n",
    "        return \"{}\".format(self)\n",
    "    \n",
    "    def __str__(self, level=0):\n",
    "        \n",
    "        ret = \"Meu nome é:  \" + repr(self.nome)+\"\\n\"\n",
    "        \n",
    "        if self.mae:\n",
    "            \n",
    "            ret += f'o nome da minha mae é:{self.mae.nome}'\n",
    "            \n",
    "        if self.pai:\n",
    "            \n",
    "            ret += f' o nome do meu pai é: {self.pai.nome}'\n",
    "            \n",
    "        return ret"
   ]
  },
  {
   "cell_type": "code",
   "execution_count": 19,
   "metadata": {},
   "outputs": [],
   "source": [
    "t1 = Arvore('Melissa', \n",
    "            mae = Arvore('Fabiana',\n",
    "                        mae = Arvore('Rose',\n",
    "                                    mae = Arvore('Rosana'),\n",
    "                                    pai = Arvore('Andre')\n",
    "                                   ),\n",
    "                        pai = Arvore('Antonio',\n",
    "                                    mae = Arvore('Julia'),\n",
    "                                    pai = Arvore('Joao')\n",
    "                                   )\n",
    "                       ),\n",
    "            pai = Arvore('Gustavo')\n",
    "           )"
   ]
  },
  {
   "cell_type": "code",
   "execution_count": 20,
   "metadata": {},
   "outputs": [],
   "source": [
    "def buscaNome(nome, arvore):\n",
    "    m = False\n",
    "    p = False\n",
    "    if arvore.nome == nome:\n",
    "        return True\n",
    "\n",
    "    if arvore.mae is not None:\n",
    "        m = buscaNome(nome, arvore.mae)\n",
    "    if arvore.pai is not None:\n",
    "        p = buscaNome(nome, arvore.pai)\n",
    "    return any((m, p))"
   ]
  },
  {
   "cell_type": "code",
   "execution_count": 22,
   "metadata": {},
   "outputs": [
    {
     "output_type": "execute_result",
     "data": {
      "text/plain": [
       "True"
      ]
     },
     "metadata": {},
     "execution_count": 22
    }
   ],
   "source": [
    "buscaNome(\"Rosana\", t1)"
   ]
  },
  {
   "cell_type": "code",
   "execution_count": 29,
   "metadata": {},
   "outputs": [],
   "source": [
    "def buscaNome2(nome, arvore):\n",
    "    m = None\n",
    "    p = None\n",
    "    if arvore.nome == nome:\n",
    "        return arvore\n",
    "\n",
    "    if arvore.mae is not None:\n",
    "        m = buscaNome2(nome, arvore.mae)\n",
    "    if arvore.pai is not None:\n",
    "        p = buscaNome2(nome, arvore.pai)\n",
    "    return m or p"
   ]
  },
  {
   "cell_type": "code",
   "execution_count": 33,
   "metadata": {},
   "outputs": [
    {
     "output_type": "execute_result",
     "data": {
      "text/plain": [
       "Meu nome é:  'Antonio'\n",
       "o nome da minha mae é:Julia o nome do meu pai é: Joao"
      ]
     },
     "metadata": {},
     "execution_count": 33
    }
   ],
   "source": [
    "buscaNome2(\"Antonio\", t1)"
   ]
  },
  {
   "source": [
    "# Questão #2  \n",
    "```Vale 10```  \n",
    "Enunciado   \n",
    "2) Amplie a classe da árvore genealógica criada na questão anterior,     \n",
    "adicionando um método que nos permita informar    \n",
    "o nome de uma pessoa da família e,   \n",
    "a partir disso, retorne quem é o ancestral (pai/mãe) dessa pessoa.   "
   ],
   "cell_type": "markdown",
   "metadata": {}
  },
  {
   "source": [
    "# Questão #3   \n",
    "```Vale 10```  \n",
    "Enunciado   \n",
    "3) A startup ABC co. possui 4 funcionários,\n",
    "em que 2 desenvolvedores se reportam a um gerente,   \n",
    "que, por sua vez, se reporta a um diretor.   \n",
    "Sabendo que o colaborador possui uma ficha contendo um número de matrícula,    \n",
    "um nome, um salário mensal e o seu cargo,    \n",
    "construa uma árvore que apresente a hierarquia da empresa e   \n",
    "uma função que retorne   \n",
    "um dicionário em que a   \n",
    "chave são os nomes do funcionários e    \n",
    "o valor são seus salários, organizados em ordem decrescente de salário.   "
   ],
   "cell_type": "markdown",
   "metadata": {}
  }
 ]
}