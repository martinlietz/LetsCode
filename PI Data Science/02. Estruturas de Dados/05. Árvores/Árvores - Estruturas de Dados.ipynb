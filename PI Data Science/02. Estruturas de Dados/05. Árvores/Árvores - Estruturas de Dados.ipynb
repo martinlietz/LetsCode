{
 "metadata": {
  "language_info": {
   "codemirror_mode": {
    "name": "ipython",
    "version": 3
   },
   "file_extension": ".py",
   "mimetype": "text/x-python",
   "name": "python",
   "nbconvert_exporter": "python",
   "pygments_lexer": "ipython3",
   "version": 3
  },
  "orig_nbformat": 2
 },
 "nbformat": 4,
 "nbformat_minor": 2,
 "cells": [
  {
   "source": [
    "# Questão #1  \n",
    "```Vale 10```\n",
    "Enunciado   \n",
    "1) Crie a árvore genealógica representada pela figura abaixo,    \n",
    "utilizando a estrutura de dados Árvore.    \n",
    "Em seguida, crie um método que recebe o nome de uma pessoa e  \n",
    "informa se existe um integrante da família com esse nome (True) ou não (False).\n",
    "<img src='arvore-genealógica-minha-família-arvoredafamilia.jpg' alt='' />"
   ],
   "cell_type": "markdown",
   "metadata": {}
  },
  {
   "source": [
    "# Questão #2  \n",
    "```Vale 10```  \n",
    "Enunciado   \n",
    "2) Amplie a classe da árvore genealógica criada na questão anterior,     \n",
    "adicionando um método que nos permita informar    \n",
    "o nome de uma pessoa da família e,   \n",
    "a partir disso, retorne quem é o ancestral (pai/mãe) dessa pessoa.   "
   ],
   "cell_type": "markdown",
   "metadata": {}
  },
  {
   "source": [
    "# Questão #3   \n",
    "```Vale 10```  \n",
    "Enunciado   \n",
    "3) A startup ABC co. possui 4 funcionários,\n",
    "em que 2 desenvolvedores se reportam a um gerente,   \n",
    "que, por sua vez, se reporta a um diretor.   \n",
    "Sabendo que o colaborador possui uma ficha contendo um número de matrícula,    \n",
    "um nome, um salário mensal e o seu cargo,    \n",
    "construa uma árvore que apresente a hierarquia da empresa e   \n",
    "uma função que retorne   \n",
    "um dicionário em que a   \n",
    "chave são os nomes do funcionários e    \n",
    "o valor são seus salários, organizados em ordem decrescente de salário.   "
   ],
   "cell_type": "markdown",
   "metadata": {}
  }
 ]
}