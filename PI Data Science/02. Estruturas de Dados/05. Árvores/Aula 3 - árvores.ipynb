{
 "cells": [
  {
   "cell_type": "markdown",
   "metadata": {},
   "source": [
    "# Aula 3 - árvores\n",
    "\n",
    "Na aula de hoje, vamos explorar os seguintes tópicos em Python:\n",
    "\n",
    "- 1) Árvores"
   ]
  },
  {
   "cell_type": "markdown",
   "metadata": {},
   "source": [
    "_________"
   ]
  },
  {
   "cell_type": "markdown",
   "metadata": {},
   "source": [
    "## 1) Árvores\n",
    "\n",
    "\n",
    "### 1.1) O que é uma árvore?\n",
    "\n",
    "Árvore é uma estrutura de dados definida por uma coleção de elementos, chamados nós, que são conectados entre si de maneira a modelar relações hierarquicas, mantendo as seguintes propriedades:\n",
    "\n",
    "- Existe um nó específico, chamado raiz, que fica no topo da hierarquia\n",
    "- Todo nó é conectado a raiz por um único caminho\n",
    "\n",
    "Existem diversos exemplos em outras áreas, além da matemática e da ciência da computação, onde árvores são utilizadas.\n",
    "Por exemplo, a [árvore filogenética](https://pt.wikipedia.org/wiki/%C3%81rvore_filogen%C3%A9tica) que agrupa espécies de acordo com suas relações evolutivas. \n",
    "\n",
    "A figura abaixo mostra um organograma empresarial, que também é um exemplo de árvore:\n",
    "\n",
    "<img src=\"https://www.nibo.com.br/wp-content/uploads/2014/12/organograma_tradicional-1024x554.jpg\" width=600>\n",
    "\n",
    "Fazendo o paralelo com a nossa definição: o \"presidente\", que está no topo da hierarquia, é a raiz da árvore.\n",
    "\n",
    "Note que há apenas **um caminho** entre o presidente e cada um dos demais nós.\n",
    "\n",
    "Por exemplo, o caminho do \"presidente\" até o \"auxiliar de marketing\", seria:\n",
    "\n",
    "`\"presidente\"-> \"diretor comercial\"-> \"gerente de marketing\"-> \"auxiliar de marketing\".`"
   ]
  },
  {
   "cell_type": "markdown",
   "metadata": {},
   "source": [
    "_________"
   ]
  },
  {
   "cell_type": "markdown",
   "metadata": {},
   "source": [
    "### 1.2) Terminologia\n",
    "\n",
    "Para falarmos desta estrutura, definir e analisar algoritmos sobre ela, é necessário nomearmos algumas partes específicas sobre as quais faremos referência posteriormente.\n",
    "\n",
    "<img src=\"https://s3-sa-east-1.amazonaws.com/lcpi/8dfbec82-e81b-43da-8867-0f27cf6cd44f.png\" width=600>\n",
    "\n",
    "Algumas definições tomando como exemplo a figura acima:\n",
    "\n",
    "- Quando um nó A está diretamente acima de um nó B, dizemos que A é \"pai\" de B ou que B é \"filho\" de A.\n",
    "- Raiz: é o topo da hierarquia (A)\n",
    "- Folhas: são os nós na camada mais baixa da hierarquia, os nós que não têm filhos (H, I, F, G)\n",
    "- Nós internos: são os nós que não são folhas nem raiz (B, C, D, E)\n",
    "- Altura da árvore (`h`): é a distância entre a raiz e a folha mais afastada\n",
    "- de acordo com a definição, um único nó, sozinho, também é uma árvore\n",
    "- toda sub-árvore é árvore (estrutura recursiva)\n",
    "- todo nó, exceto a raiz, tem exatamente um nó pai\n",
    "\n",
    "\n"
   ]
  },
  {
   "cell_type": "markdown",
   "metadata": {},
   "source": [
    "_________"
   ]
  },
  {
   "cell_type": "markdown",
   "metadata": {},
   "source": [
    "### 1.3) Árvore Binária de Busca (Binary Search Tree)\n",
    "\n",
    "Uma árvode binária de busca, é um tipo mais específico de árvore.\n",
    "Além das propriedades básicas de uma árvore, também precisa satisfazer as seguintes:\n",
    "\n",
    "- Todo nó tem no máximo dois filhos\n",
    "- Para cada nó v, v é maior que todos os nós a sua esquerda e menor que todos os nós a sua direita"
   ]
  },
  {
   "cell_type": "markdown",
   "metadata": {},
   "source": [
    "### 1.4) Implementação\n",
    "\n",
    "Para implementar uma estrutura de árvore binária de busca, criamos uma classe nó com três atributos:\n",
    "\n",
    "- conteúdo: o valor útil, qualquer valor ou dado, ou algo que faça referência a um objeto mais complexo\n",
    "- esquerda: referência ao filho à esquerda\n",
    "- direita: referência ao filho à direita\n",
    "\n",
    "2, 4, 2, 7, 6, 13, 15, 17, 18, 20\n",
    "\n",
    "A figura abaixo mostra uma representação dessa implementação:\n",
    "\n",
    "<img src=\"https://s3-sa-east-1.amazonaws.com/lcpi/61af9259-b2d0-444c-bef0-22ae71c0b9f2.png\" width=600>\n"
   ]
  },
  {
   "cell_type": "code",
   "execution_count": 1,
   "metadata": {},
   "outputs": [],
   "source": [
    "class Arvore:\n",
    "    \n",
    "    def __init__(self, raiz, esquerda = None, direita = None):\n",
    "        \n",
    "        self.raiz = raiz\n",
    "        \n",
    "        self.esquerda = esquerda\n",
    "        self.direita = direita"
   ]
  },
  {
   "cell_type": "code",
   "execution_count": 3,
   "metadata": {},
   "outputs": [],
   "source": [
    "my_tree = Arvore(15,\n",
    "                 esquerda = Arvore(6,\n",
    "                                  esquerda = Arvore(3,\n",
    "                                                    esquerda = Arvore(2, None, None),\n",
    "                                                    direita = Arvore(4, None, None)),\n",
    "                                  direita = Arvore(7,\n",
    "                                                   esquerda = None,\n",
    "                                                   direita = Arvore(13, None, None))),\n",
    "                 direita = Arvore(18,\n",
    "                                 esquerda = Arvore(17, None, None),\n",
    "                                 direita = Arvore(20, None, None)))"
   ]
  },
  {
   "cell_type": "code",
   "execution_count": 5,
   "metadata": {},
   "outputs": [
    {
     "data": {
      "text/plain": [
       "<__main__.Arvore at 0x54c0488>"
      ]
     },
     "execution_count": 5,
     "metadata": {},
     "output_type": "execute_result"
    }
   ],
   "source": [
    "my_tree"
   ]
  },
  {
   "cell_type": "code",
   "execution_count": 6,
   "metadata": {},
   "outputs": [
    {
     "name": "stdout",
     "output_type": "stream",
     "text": [
      "<__main__.Arvore object at 0x00000000054C0488>\n"
     ]
    }
   ],
   "source": [
    "print(my_tree)"
   ]
  },
  {
   "cell_type": "code",
   "execution_count": 7,
   "metadata": {},
   "outputs": [
    {
     "data": {
      "text/plain": [
       "{'raiz': 15,\n",
       " 'esquerda': <__main__.Arvore at 0x54c0388>,\n",
       " 'direita': <__main__.Arvore at 0x54c0448>}"
      ]
     },
     "execution_count": 7,
     "metadata": {},
     "output_type": "execute_result"
    }
   ],
   "source": [
    "vars(my_tree)"
   ]
  },
  {
   "cell_type": "code",
   "execution_count": 12,
   "metadata": {},
   "outputs": [
    {
     "data": {
      "text/plain": [
       "{'raiz': 4, 'esquerda': None, 'direita': None}"
      ]
     },
     "execution_count": 12,
     "metadata": {},
     "output_type": "execute_result"
    }
   ],
   "source": [
    "vars(my_tree.esquerda.esquerda.direita)"
   ]
  },
  {
   "cell_type": "markdown",
   "metadata": {},
   "source": [
    "Vamos melhorar a representação..."
   ]
  },
  {
   "cell_type": "code",
   "execution_count": 13,
   "metadata": {},
   "outputs": [],
   "source": [
    "class Arvore:\n",
    "    \n",
    "    def __init__(self, raiz, esquerda = None, direita = None):\n",
    "        \n",
    "        self.raiz = raiz\n",
    "        \n",
    "        self.esquerda = esquerda\n",
    "        self.direita = direita\n",
    "        \n",
    "    def __repr__(self):\n",
    "        \n",
    "        if self.esquerda == None and self.direita == None:\n",
    "            \n",
    "            return 'Folha com valor {}'.format(self.raiz)\n",
    "        \n",
    "        else:\n",
    "            \n",
    "            return 'Árvore com raiz {}'.format(self.raiz)"
   ]
  },
  {
   "cell_type": "code",
   "execution_count": 15,
   "metadata": {},
   "outputs": [],
   "source": [
    "arvore = Arvore(15,\n",
    "                esquerda = Arvore(6,\n",
    "                                  esquerda = Arvore(3,\n",
    "                                                    esquerda = Arvore(2),\n",
    "                                                    direita = Arvore(4)),\n",
    "                                  direita = Arvore(7,\n",
    "                                                   direita = Arvore(13))),\n",
    "                direita = Arvore(18,\n",
    "                                 esquerda = Arvore(17),\n",
    "                                 direita = Arvore(20)))"
   ]
  },
  {
   "cell_type": "code",
   "execution_count": 20,
   "metadata": {},
   "outputs": [
    {
     "data": {
      "text/plain": [
       "{'raiz': 15, 'esquerda': Árvore com raiz 6, 'direita': Árvore com raiz 18}"
      ]
     },
     "execution_count": 20,
     "metadata": {},
     "output_type": "execute_result"
    }
   ],
   "source": [
    "vars(arvore)"
   ]
  },
  {
   "cell_type": "code",
   "execution_count": 16,
   "metadata": {},
   "outputs": [
    {
     "data": {
      "text/plain": [
       "Árvore com raiz 15"
      ]
     },
     "execution_count": 16,
     "metadata": {},
     "output_type": "execute_result"
    }
   ],
   "source": [
    "arvore"
   ]
  },
  {
   "cell_type": "code",
   "execution_count": 21,
   "metadata": {},
   "outputs": [
    {
     "data": {
      "text/plain": [
       "{'raiz': 6, 'esquerda': Árvore com raiz 3, 'direita': Árvore com raiz 7}"
      ]
     },
     "execution_count": 21,
     "metadata": {},
     "output_type": "execute_result"
    }
   ],
   "source": [
    "vars(arvore.esquerda)"
   ]
  },
  {
   "cell_type": "code",
   "execution_count": 17,
   "metadata": {},
   "outputs": [
    {
     "data": {
      "text/plain": [
       "Árvore com raiz 6"
      ]
     },
     "execution_count": 17,
     "metadata": {},
     "output_type": "execute_result"
    }
   ],
   "source": [
    "arvore.esquerda"
   ]
  },
  {
   "cell_type": "code",
   "execution_count": 22,
   "metadata": {},
   "outputs": [
    {
     "data": {
      "text/plain": [
       "{'raiz': 7, 'esquerda': None, 'direita': Folha com valor 13}"
      ]
     },
     "execution_count": 22,
     "metadata": {},
     "output_type": "execute_result"
    }
   ],
   "source": [
    "vars(arvore.esquerda.direita)"
   ]
  },
  {
   "cell_type": "code",
   "execution_count": 18,
   "metadata": {},
   "outputs": [
    {
     "data": {
      "text/plain": [
       "Árvore com raiz 7"
      ]
     },
     "execution_count": 18,
     "metadata": {},
     "output_type": "execute_result"
    }
   ],
   "source": [
    "arvore.esquerda.direita"
   ]
  },
  {
   "cell_type": "code",
   "execution_count": 23,
   "metadata": {},
   "outputs": [
    {
     "data": {
      "text/plain": [
       "{'raiz': 13, 'esquerda': None, 'direita': None}"
      ]
     },
     "execution_count": 23,
     "metadata": {},
     "output_type": "execute_result"
    }
   ],
   "source": [
    "vars(arvore.esquerda.direita.direita)"
   ]
  },
  {
   "cell_type": "code",
   "execution_count": 19,
   "metadata": {},
   "outputs": [
    {
     "data": {
      "text/plain": [
       "Folha com valor 13"
      ]
     },
     "execution_count": 19,
     "metadata": {},
     "output_type": "execute_result"
    }
   ],
   "source": [
    "arvore.esquerda.direita.direita"
   ]
  },
  {
   "cell_type": "code",
   "execution_count": 40,
   "metadata": {},
   "outputs": [],
   "source": [
    "class Arvore:\n",
    "    \n",
    "    def __init__(self, raiz, level=0, esquerda = None, direita = None):\n",
    "        \n",
    "        self.raiz = raiz\n",
    "    \n",
    "        self.level = level\n",
    "        \n",
    "        self.esquerda = esquerda\n",
    "        self.direita = direita\n",
    "        \n",
    "    def __repr__(self):\n",
    "        \n",
    "        if self.esquerda == None and self.direita == None:\n",
    "            \n",
    "            return 'Folha com valor {} no nível {}'.format(self.raiz, self.level)\n",
    "        \n",
    "        else:\n",
    "            \n",
    "            return 'Árvore com raiz {} no nível {}'.format(self.raiz, self.level)\n",
    "        \n",
    "    \n",
    "    def __str__(self, level=0):\n",
    "        \n",
    "        ret = \"   \"*level + repr(self.raiz)+\"\\n\"\n",
    "        \n",
    "        if self.esquerda:\n",
    "            \n",
    "            ret += f'{self.esquerda.__str__(level+1)}'\n",
    "            \n",
    "        if self.direita:\n",
    "            \n",
    "            ret += f'{self.direita.__str__(level+1)}'\n",
    "            \n",
    "        return ret"
   ]
  },
  {
   "cell_type": "code",
   "execution_count": 41,
   "metadata": {},
   "outputs": [],
   "source": [
    "arvore = Arvore(15,\n",
    "                esquerda = Arvore(6,\n",
    "                                  esquerda = Arvore(3,\n",
    "                                                    esquerda = Arvore(2, level = 3),\n",
    "                                                    direita = Arvore(4, level = 3),\n",
    "                                                    level = 2),\n",
    "                                  direita = Arvore(7,\n",
    "                                                   direita = Arvore(13, level = 3),\n",
    "                                                   level = 2),\n",
    "                                  level = 1),\n",
    "                direita = Arvore(18,\n",
    "                                 esquerda = Arvore(17, level = 2),\n",
    "                                 direita = Arvore(20, level = 2),\n",
    "                                 level=1))"
   ]
  },
  {
   "cell_type": "code",
   "execution_count": 42,
   "metadata": {},
   "outputs": [
    {
     "name": "stdout",
     "output_type": "stream",
     "text": [
      "15\n",
      "   6\n",
      "      3\n",
      "         2\n",
      "         4\n",
      "      7\n",
      "         13\n",
      "   18\n",
      "      17\n",
      "      20\n",
      "\n"
     ]
    }
   ],
   "source": [
    "print(arvore)"
   ]
  },
  {
   "cell_type": "code",
   "execution_count": 43,
   "metadata": {},
   "outputs": [
    {
     "data": {
      "text/plain": [
       "Árvore com raiz 15 no nível 0"
      ]
     },
     "execution_count": 43,
     "metadata": {},
     "output_type": "execute_result"
    }
   ],
   "source": [
    "arvore"
   ]
  },
  {
   "cell_type": "code",
   "execution_count": 44,
   "metadata": {},
   "outputs": [
    {
     "data": {
      "text/plain": [
       "{'raiz': 15,\n",
       " 'level': 0,\n",
       " 'esquerda': Árvore com raiz 6 no nível 1,\n",
       " 'direita': Árvore com raiz 18 no nível 1}"
      ]
     },
     "execution_count": 44,
     "metadata": {},
     "output_type": "execute_result"
    }
   ],
   "source": [
    "vars(arvore)"
   ]
  },
  {
   "cell_type": "code",
   "execution_count": 45,
   "metadata": {},
   "outputs": [
    {
     "data": {
      "text/plain": [
       "Árvore com raiz 18 no nível 1"
      ]
     },
     "execution_count": 45,
     "metadata": {},
     "output_type": "execute_result"
    }
   ],
   "source": [
    "arvore.direita"
   ]
  },
  {
   "cell_type": "code",
   "execution_count": 47,
   "metadata": {},
   "outputs": [
    {
     "data": {
      "text/plain": [
       "{'raiz': 18,\n",
       " 'level': 1,\n",
       " 'esquerda': Folha com valor 17 no nível 2,\n",
       " 'direita': Folha com valor 20 no nível 2}"
      ]
     },
     "execution_count": 47,
     "metadata": {},
     "output_type": "execute_result"
    }
   ],
   "source": [
    "vars(arvore.direita)"
   ]
  },
  {
   "cell_type": "markdown",
   "metadata": {},
   "source": [
    "Vamos implementar a busca binária:"
   ]
  },
  {
   "cell_type": "code",
   "execution_count": 50,
   "metadata": {},
   "outputs": [],
   "source": [
    "class Arvore:\n",
    "    \n",
    "    def __init__(self, raiz, esquerda = None, direita = None):\n",
    "        \n",
    "        self.raiz = raiz\n",
    "        \n",
    "        self.esquerda = esquerda\n",
    "        self.direita = direita\n",
    "        \n",
    "    def __repr__(self):\n",
    "        \n",
    "        if self.esquerda == None and self.direita == None:\n",
    "            \n",
    "            return 'Folha com valor {}'.format(self.raiz)\n",
    "        \n",
    "        else:\n",
    "            \n",
    "            return 'Árvore com raiz {}'.format(self.raiz)\n",
    "        \n",
    "    # método de busca binária\n",
    "    def find(self, procurado):\n",
    "        \n",
    "        if self.raiz == procurado:\n",
    "            return True\n",
    "        \n",
    "        # o nó atual é uma folha?\n",
    "        elif self.esquerda == None and self.direita == None:\n",
    "            return False\n",
    "        \n",
    "        elif procurado < self.raiz:\n",
    "            return self.esquerda.find(procurado)\n",
    "        \n",
    "        elif procurado > self.raiz:\n",
    "            return self.direita.find(procurado)"
   ]
  },
  {
   "cell_type": "code",
   "execution_count": null,
   "metadata": {},
   "outputs": [],
   "source": [
    "True"
   ]
  },
  {
   "cell_type": "code",
   "execution_count": 51,
   "metadata": {},
   "outputs": [],
   "source": [
    "arvore = Arvore(15,\n",
    "                esquerda = Arvore(6,\n",
    "                                  esquerda = Arvore(3,\n",
    "                                                    esquerda = Arvore(2),\n",
    "                                                    direita = Arvore(4)),\n",
    "                                  direita = Arvore(7,\n",
    "                                                   direita = Arvore(13))),\n",
    "                direita = Arvore(18,\n",
    "                                 esquerda = Arvore(17),\n",
    "                                 direita = Arvore(20)))"
   ]
  },
  {
   "cell_type": "markdown",
   "metadata": {},
   "source": [
    "<img src=\"https://s3-sa-east-1.amazonaws.com/lcpi/61af9259-b2d0-444c-bef0-22ae71c0b9f2.png\" width=600>"
   ]
  },
  {
   "cell_type": "code",
   "execution_count": 52,
   "metadata": {},
   "outputs": [
    {
     "data": {
      "text/plain": [
       "True"
      ]
     },
     "execution_count": 52,
     "metadata": {},
     "output_type": "execute_result"
    }
   ],
   "source": [
    "arvore.find(15)"
   ]
  },
  {
   "cell_type": "code",
   "execution_count": 53,
   "metadata": {},
   "outputs": [
    {
     "data": {
      "text/plain": [
       "True"
      ]
     },
     "execution_count": 53,
     "metadata": {},
     "output_type": "execute_result"
    }
   ],
   "source": [
    "arvore.find(13)"
   ]
  },
  {
   "cell_type": "code",
   "execution_count": 54,
   "metadata": {},
   "outputs": [
    {
     "data": {
      "text/plain": [
       "False"
      ]
     },
     "execution_count": 54,
     "metadata": {},
     "output_type": "execute_result"
    }
   ],
   "source": [
    "arvore.find(14)"
   ]
  },
  {
   "cell_type": "markdown",
   "metadata": {},
   "source": [
    "_________"
   ]
  },
  {
   "cell_type": "markdown",
   "metadata": {},
   "source": [
    "_________"
   ]
  },
  {
   "cell_type": "markdown",
   "metadata": {},
   "source": [
    "### 1.5) Árvores de decisão\n",
    "\n",
    "Árvores podem ser usadas para criar um caminho lógico para uma decisão. \n",
    "\n",
    "Na figura, temos uma árvore que diagnosticará se uma pessoa está com algum problema de saúde.\n",
    "\n",
    "<img src=https://s3-sa-east-1.amazonaws.com/lcpi/c7bfd1c3-f7dc-464a-ae25-6dcc6ce7672f.PNG width=600>\n",
    "\n",
    "Crie uma árvore no Python que representa a árvore da imagem. \n",
    "\n",
    "Inserir método que percorre a árvore, fazendo perguntas, e ao final diz o problema de saúde de uma determinada pessoa."
   ]
  },
  {
   "cell_type": "code",
   "execution_count": 1,
   "metadata": {},
   "outputs": [],
   "source": [
    "# exercício: implementem a classe dá árvore! \n",
    "\n",
    "# construam também um método para o diagnóstico\n",
    "# no método, deve haver um input perguntando sobre alguma das variáveis (sente mal estar? tem dor de cabeça?)\n",
    "# a resposta deve ser de sim/nao, True/False\n",
    "# com base na resposta, vc deve decidir por qual lado seguir, e assim, percorrer a árvore\n",
    "# percorra a árvore, até chegar em alguma folha\n",
    "# na folha, é retornado o diagnóstico.\n"
   ]
  },
  {
   "cell_type": "code",
   "execution_count": 33,
   "metadata": {},
   "outputs": [],
   "source": [
    "class Arvore:\n",
    "    \n",
    "    def __init__(self, pergunta, es = None, di = None):\n",
    "        \n",
    "        self.pergunta = pergunta\n",
    "        \n",
    "        self.es = es\n",
    "        self.di = di\n",
    "        \n",
    "    def __repr__(self):\n",
    "        \n",
    "        return \"A pergunta da raiz é: {}\".format(self.pergunta)\n",
    "    \n",
    "    def __str__(self, level=0):\n",
    "        \n",
    "        ret = \"   \"*level + repr(self.pergunta)+\"\\n\"\n",
    "        \n",
    "        if self.es:\n",
    "            \n",
    "            ret += f'{self.es.__str__(level+1)}'\n",
    "            \n",
    "        if self.di:\n",
    "            \n",
    "            ret += f'{self.di.__str__(level+1)}'\n",
    "            \n",
    "        return ret\n",
    "        \n",
    "    def diagnostico(self):\n",
    "        \n",
    "        # a árvore é uma folha?\n",
    "        if self.es == None and self.di == None:\n",
    "            \n",
    "            return f'Você está com {self.pergunta}' \n",
    "        \n",
    "        else:\n",
    "            \n",
    "            resposta = input(f'Você está com {self.pergunta}? ')\n",
    "            \n",
    "            while resposta not in [\"sim\", \"nao\", \"não\"]:\n",
    "                \n",
    "                print(\"Não entendi! Responda novamente\")\n",
    "                resposta = input(f'Você está com {self.pergunta}? ')\n",
    "            \n",
    "            if resposta.lower() == 'sim':\n",
    "                \n",
    "                return self.di.diagnostico()\n",
    "            \n",
    "            elif resposta.lower() in ['não', \"nao\"]:\n",
    "                \n",
    "                return self.es.diagnostico()"
   ]
  },
  {
   "cell_type": "code",
   "execution_count": 34,
   "metadata": {},
   "outputs": [],
   "source": [
    "t1 = Arvore('mal estar', \n",
    "            es = Arvore('febre',\n",
    "                        es = Arvore('dor de cabeça',\n",
    "                                    es = Arvore('saudável'),\n",
    "                                    di = Arvore('fadiga')\n",
    "                                   ),\n",
    "                        di = Arvore('manchas no corpo',\n",
    "                                    es = Arvore('virose'),\n",
    "                                    di = Arvore('sarampo')\n",
    "                                   )\n",
    "                       ),\n",
    "            di = Arvore('dor de cabeça',\n",
    "                       es = Arvore('vontade de vomitar',\n",
    "                                  es = Arvore('fome'),\n",
    "                                  di = Arvore('infecção intestinal')\n",
    "                                  ),\n",
    "                       di = Arvore('boca seca',\n",
    "                                   es = Arvore('falta de café'),\n",
    "                                   di = Arvore('ressaca')\n",
    "                                  )\n",
    "                       )\n",
    "           )"
   ]
  },
  {
   "cell_type": "code",
   "execution_count": 35,
   "metadata": {},
   "outputs": [
    {
     "data": {
      "text/plain": [
       "A pergunta da raiz é: mal estar"
      ]
     },
     "execution_count": 35,
     "metadata": {},
     "output_type": "execute_result"
    }
   ],
   "source": [
    "t1"
   ]
  },
  {
   "cell_type": "code",
   "execution_count": 36,
   "metadata": {},
   "outputs": [
    {
     "name": "stdout",
     "output_type": "stream",
     "text": [
      "'mal estar'\n",
      "   'febre'\n",
      "      'dor de cabeça'\n",
      "         'saudável'\n",
      "         'fadiga'\n",
      "      'manchas no corpo'\n",
      "         'virose'\n",
      "         'sarampo'\n",
      "   'dor de cabeça'\n",
      "      'vontade de vomitar'\n",
      "         'fome'\n",
      "         'infecção intestinal'\n",
      "      'boca seca'\n",
      "         'falta de café'\n",
      "         'ressaca'\n",
      "\n"
     ]
    }
   ],
   "source": [
    "print(t1)"
   ]
  },
  {
   "cell_type": "code",
   "execution_count": 37,
   "metadata": {},
   "outputs": [
    {
     "name": "stdout",
     "output_type": "stream",
     "text": [
      "Você está com mal estar? nao\n",
      "Você está com febre? sim\n",
      "Você está com manchas no corpo? dfgdfg\n",
      "Não entendi! Responda novamente\n",
      "Você está com manchas no corpo? cgh\n",
      "Não entendi! Responda novamente\n",
      "Você está com manchas no corpo? s\n",
      "Não entendi! Responda novamente\n",
      "Você está com manchas no corpo? sim\n"
     ]
    },
    {
     "data": {
      "text/plain": [
       "'Você está com sarampo'"
      ]
     },
     "execution_count": 37,
     "metadata": {},
     "output_type": "execute_result"
    }
   ],
   "source": [
    "t1.diagnostico()"
   ]
  },
  {
   "cell_type": "code",
   "execution_count": null,
   "metadata": {},
   "outputs": [],
   "source": []
  },
  {
   "cell_type": "markdown",
   "metadata": {},
   "source": [
    "# voltamos 21:10"
   ]
  },
  {
   "cell_type": "code",
   "execution_count": null,
   "metadata": {},
   "outputs": [],
   "source": []
  }
 ],
 "metadata": {
  "kernelspec": {
   "display_name": "Python 3",
   "language": "python",
   "name": "python3"
  },
  "language_info": {
   "codemirror_mode": {
    "name": "ipython",
    "version": 3
   },
   "file_extension": ".py",
   "mimetype": "text/x-python",
   "name": "python",
   "nbconvert_exporter": "python",
   "pygments_lexer": "ipython3",
   "version": "3.7.6"
  }
 },
 "nbformat": 4,
 "nbformat_minor": 4
}
