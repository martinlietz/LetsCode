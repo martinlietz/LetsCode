{
 "metadata": {
  "language_info": {
   "codemirror_mode": {
    "name": "ipython",
    "version": 3
   },
   "file_extension": ".py",
   "mimetype": "text/x-python",
   "name": "python",
   "nbconvert_exporter": "python",
   "pygments_lexer": "ipython3",
   "version": "3.7.8-final"
  },
  "orig_nbformat": 2,
  "kernelspec": {
   "name": "python3",
   "display_name": "Python 3.7.8 32-bit",
   "metadata": {
    "interpreter": {
     "hash": "04635d289a519a1410467dd0afb0db42f9184808881ca68b2eb5a687a20a5a94"
    }
   }
  }
 },
 "nbformat": 4,
 "nbformat_minor": 2,
 "cells": [
  {
   "source": [
    "# Árvores\n",
    "## O que é uma árvore?    \n",
    "Árvore é uma estrutura de dados definida por uma coleção de elementos,    \n",
    "chamados nós, que são conectados entre si de maneira a modelar relações hierarquicas, mantendo as seguintes propriedades:   \n",
    "   \n",
    "Existe um nó específico, chamado ```raiz```, que fica no topo da hierarquia   \n",
    "Todo ```nó``` é conectado a ```raiz``` por um ```único caminho ```  \n",
    "Existem diversos exemplos em outras áreas,    \n",
    "além da matemática e da ciência da computação, onde árvores são utilizadas.     \n",
    "Por exemplo, a ```árvore filogenética``` que agrupa espécies de acordo com suas relações evolutivas.     \n",
    "A figura abaixo mostra um ```organograma empresarial```, que também é um exemplo de árvore:   \n",
    "<img src=\"https://www.nibo.com.br/wp-content/uploads/2014/12/organograma_tradicional-1024x554.jpg\" style=\"width:30%\" />"
   ],
   "cell_type": "markdown",
   "metadata": {}
  },
  {
   "source": [
    "Fazendo o paralelo com a nossa definição: o ```presidente```,    \n",
    "que está no topo da hierarquia,     \n",
    "é a ```raiz da árvore```.    \n",
    "Note que há apenas um caminho entre o presidente e cada um dos demais nós.     \n",
    "Por exemplo, o caminho do ```presidente``` até o ```auxiliar de marketing```,    \n",
    "seria ```presidente```-> ```diretor comercial```-> ```gerente de marketing```-> ```auxiliar de marketing```.   \n",
    "    "
   ],
   "cell_type": "markdown",
   "metadata": {}
  },
  {
   "source": [
    "##  Terminologia   \n",
    "Para falarmos desta estrutura,    \n",
    "definir e analisar algoritmos sobre ela,     \n",
    "é necessário nomearmos algumas partes específicas sobre as quais faremos referência posteriormente.   \n",
    "<img src=\"https://s3-sa-east-1.amazonaws.com/lcpi/8dfbec82-e81b-43da-8867-0f27cf6cd44f.png\" style=\"width:40%\" />\n"
   ],
   "cell_type": "markdown",
   "metadata": {}
  },
  {
   "source": [
    "Algumas definições tomando como exemplo a figura acima:  \n",
    "   \n",
    " - Quando um nó A está diretamente acima de um nó B, dizemos que A é \"pai\" de B ou que B é \"filho\" de A.\n",
    " - Raiz: é o topo da hierarquia (A)\n",
    " - Folhas: são os nós na camada mais baixa da hierarquia, os nós que não têm filhos (H, I, F, G)\n",
    " - Nós internos: são os nós que não são folhas nem raiz (B, C, D, E)\n",
    " - Altura da árvore (h): é a distância entre a raiz e a folha mais afastada\n",
    " - de acordo com a definição, um único nó, sozinho, também é uma árvore\n",
    " - toda sub-árvore é árvore (estrutura recursiva)\n",
    " - todo nó, exceto a raiz, tem exatamente um nó pai"
   ],
   "cell_type": "markdown",
   "metadata": {}
  },
  {
   "source": [
    "## Árvore Binária de Busca (Binary Search Tree)    \n",
    "Uma árvode binária de busca, é um tipo mais específico de árvore.    \n",
    "Além das propriedades básicas de uma árvore, também precisa satisfazer as seguintes:   \n",
    "   \n",
    "Todo nó tem no máximo dois filhos   \n",
    "Para cada nó v, v é maior que todos os nós a sua esquerda e menor que todos os nós a sua direita   \n",
    "Tipos:   \n",
    "   \n",
    " - Cheia: todos os nós possúem 2 filhos ou são folhas (nenhum filho)   \n",
    " - Completa: todos os níveis são cheios, exceto (possivelmente) o último.   \n",
    " - Balanceada: se quantidade de nós está entre 2h−1 e 2h.   \n",
    "Implementação   \n",
    "Para implementar uma estrutura de árvore binária de busca, criamos uma classe nó com três atributos:   \n",
    "   \n",
    " - conteúdo: o valor útil, no nosso exemplo serão números inteiros, mas poderia ser qualquer outro tipo de ID fazendo referência a um objeto mais complexo   \n",
    " - esquerda: referência ao filho à esquerda\n",
    " - direita: referência ao filho à direita\n",
    "     \n",
    "A figura abaixo mostra uma representação dessa implementação:  \n",
    "<img src=\"https://s3-sa-east-1.amazonaws.com/lcpi/61af9259-b2d0-444c-bef0-22ae71c0b9f2.png\" style=\"width:30%\" /> "
   ],
   "cell_type": "markdown",
   "metadata": {}
  }
 ]
}