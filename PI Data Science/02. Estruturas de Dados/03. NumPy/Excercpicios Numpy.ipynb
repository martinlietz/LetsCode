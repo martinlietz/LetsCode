{
 "metadata": {
  "language_info": {
   "codemirror_mode": {
    "name": "ipython",
    "version": 3
   },
   "file_extension": ".py",
   "mimetype": "text/x-python",
   "name": "python",
   "nbconvert_exporter": "python",
   "pygments_lexer": "ipython3",
   "version": "3.9.0"
  },
  "orig_nbformat": 2,
  "kernelspec": {
   "name": "python390jvsc74a57bd0e922dd073470bdcc017ae3abd31d6491d6ed7bf31c1d559806e5511bfea88b81",
   "display_name": "Python 3.9.0 32-bit"
  }
 },
 "nbformat": 4,
 "nbformat_minor": 2,
 "cells": [
  {
   "source": [
    "# Questão #1  \n",
    "Vale  1  \n",
    "Enunciado  \n",
    "Dado o array:  \n",
    "  \n",
    "arr = np.arange(50)  \n",
    "Selecione a alternativa INCORRETA na utilização de filtros e máscaras neste Numpy array.    \n",
    "- [ ] arr_atualizado = arr\\[arr % 2\\]  \n",
    "- [ ] arr_atualizado = arr\\[arr>5\\]  \n",
    "- [ ] arr_atualizado = arr\\[arr <=10 \\]\n",
    "- [x] arr_atualizado = arr\\[(arr != 1) or (arr != 3)\\] # x"
   ],
   "cell_type": "markdown",
   "metadata": {}
  },
  {
   "cell_type": "code",
   "execution_count": 2,
   "metadata": {},
   "outputs": [],
   "source": [
    "import numpy as np"
   ]
  },
  {
   "cell_type": "code",
   "execution_count": 3,
   "metadata": {},
   "outputs": [
    {
     "output_type": "stream",
     "name": "stdout",
     "text": [
      "[0 1 0 1 0 1 0 1 0 1 0 1 0 1 0 1 0 1 0 1 0 1 0 1 0 1 0 1 0 1 0 1 0 1 0 1 0\n 1 0 1 0 1 0 1 0 1 0 1 0 1]\n[ 6  7  8  9 10 11 12 13 14 15 16 17 18 19 20 21 22 23 24 25 26 27 28 29\n 30 31 32 33 34 35 36 37 38 39 40 41 42 43 44 45 46 47 48 49]\n[ 0  1  2  3  4  5  6  7  8  9 10]\n[ 0  1  2  3  4  5  6  7  8  9 10 11 12 13 14 15 16 17 18 19 20 21 22 23\n 24 25 26 27 28 29 30 31 32 33 34 35 36 37 38 39 40 41 42 43 44 45 46 47\n 48 49]\n"
     ]
    }
   ],
   "source": [
    "arr = np.arange(50)\n",
    "arr_atualizado = arr[arr % 2]\n",
    "print(arr_atualizado)\n",
    "arr_atualizado = arr[arr>5]\n",
    "print(arr_atualizado)\n",
    "arr_atualizado = arr[arr <=10 ]\n",
    "print(arr_atualizado)\n",
    "arr_atualizado = arr[(arr != 1) | (arr != 3)] # x\n",
    "print(arr_atualizado)"
   ]
  },
  {
   "source": [
    "# Questão #2  \n",
    "Vale 5  \n",
    "Enunciado  \n",
    "Agora, vamos explorar os arrays aleatórios e máscaras. Faça o que se pede:  \n",
    "  \n",
    "a) Crie um array aleatório de 15 itens entre 0 e 100;  \n",
    "  \n",
    "b) Qual o maior número do array?  \n",
    "  \n",
    "c) Qual a sua posição?  \n",
    "  \n",
    "d) Verifique quais números do array são maior que 10;  \n",
    "  \n",
    "e) Salve em uma nova lista apenas os itens entre 10 e 30.  "
   ],
   "cell_type": "markdown",
   "metadata": {}
  },
  {
   "cell_type": "code",
   "execution_count": null,
   "metadata": {},
   "outputs": [],
   "source": []
  },
  {
   "cell_type": "code",
   "execution_count": 15,
   "metadata": {},
   "outputs": [
    {
     "output_type": "stream",
     "name": "stdout",
     "text": [
      "a) [19.46463333 82.74394273 22.68799978 27.18956926  6.97970728 40.85305454\n 79.90779695 62.85233427  0.72649451  8.06141543  2.35385721  8.5078642\n 20.69958155 48.4539055  67.60960113]\nb) 82.74394272904331\nc) 1\nd) [19.46463333 82.74394273 22.68799978 27.18956926 40.85305454 79.90779695\n 62.85233427 20.69958155 48.4539055  67.60960113]\ne) [19.46463333 22.68799978 27.18956926 20.69958155]\n"
     ]
    }
   ],
   "source": [
    "arr = np.random.uniform(low=0, high=100, size=15)\n",
    "print(f\"a) {arr}\")\n",
    "print(f\"b) {arr.max()}\")\n",
    "print(f\"c) {arr.argmax()}\")\n",
    "maiorDex = arr[arr > 10]\n",
    "print(f\"d) {maiorDex}\")\n",
    "ardeDezATrinta = arr[(arr >= 10) & (arr <= 30)]\n",
    "print(f\"e) {ardeDezATrinta}\")"
   ]
  },
  {
   "source": [
    "#  Questão #3\n",
    "Vale 10  \n",
    "Enunciado  \n",
    "Nosso próximo foco serão as matrizes. Faça o que se pede:  \n",
    "  \n",
    "a) Gere uma matriz (3,2) com números linearmente espaçados entre 0 e 100 e intervalos de 20, usando o `np.linspace()`;  \n",
    "  \n",
    "b) Gere uma matriz aleatória (5,2) com números entre 0 e 100;  \n",
    "  \n",
    "c) Crie um array com as dimensões apropriadas que, quando multiplicado pela matriz do item a), \n",
    "    devolva essa mesma matriz. Use o método `np.matmul()`.  "
   ],
   "cell_type": "markdown",
   "metadata": {}
  },
  {
   "cell_type": "code",
   "execution_count": 19,
   "metadata": {},
   "outputs": [
    {
     "output_type": "stream",
     "name": "stdout",
     "text": [
      "[[  0.  20.]\n [ 40.  60.]\n [ 80. 100.]]\n"
     ]
    }
   ],
   "source": [
    "arr = np.linspace(0,100,num=6,retstep=False).reshape(3,2)\n",
    "print(arr)"
   ]
  },
  {
   "cell_type": "code",
   "execution_count": 18,
   "metadata": {},
   "outputs": [
    {
     "output_type": "stream",
     "name": "stdout",
     "text": [
      "[[32 36]\n [44 17]\n [79 60]\n [ 6 47]\n [78 36]]\n"
     ]
    }
   ],
   "source": [
    "# sampl = np.random.uniform(low=0, high=100, size=(10,)).reshape(5,2)\n",
    "sampl = np.random.randint(0, high=100, size=(5,2))\n",
    "print(sampl)"
   ]
  },
  {
   "cell_type": "code",
   "execution_count": 23,
   "metadata": {},
   "outputs": [
    {
     "output_type": "execute_result",
     "data": {
      "text/plain": [
       "array([[ 20.,  20.,  20.],\n",
       "       [100., 100., 100.],\n",
       "       [180., 180., 180.]])"
      ]
     },
     "metadata": {},
     "execution_count": 23
    }
   ],
   "source": [
    "arr2 = np.linspace(0,100,num=6,retstep=False).reshape(2,3)\n",
    "arr2 = np.ones((2,3))\n",
    "np.matmul(arr,arr2)\n"
   ]
  },
  {
   "cell_type": "code",
   "execution_count": null,
   "metadata": {},
   "outputs": [],
   "source": []
  }
 ]
}