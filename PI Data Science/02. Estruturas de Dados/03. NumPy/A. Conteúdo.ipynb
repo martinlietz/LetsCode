{
 "metadata": {
  "language_info": {
   "codemirror_mode": {
    "name": "ipython",
    "version": 3
   },
   "file_extension": ".py",
   "mimetype": "text/x-python",
   "name": "python",
   "nbconvert_exporter": "python",
   "pygments_lexer": "ipython3",
   "version": "3.7.8-final"
  },
  "orig_nbformat": 2,
  "kernelspec": {
   "name": "python378jvsc74a57bd004635d289a519a1410467dd0afb0db42f9184808881ca68b2eb5a687a20a5a94",
   "display_name": "Python 3.7.8 32-bit"
  }
 },
 "nbformat": 4,
 "nbformat_minor": 2,
 "cells": [
  {
   "source": [
    "<h2>NumPy</h2>\n",
    "## O que é o NumPy?\n",
    "<p>O NumPy é uma poderosa biblioteca Python que é usada principalmente para realizar cálculos em Arrays Multidimensionais. O NumPy fornece um grande conjunto de funções e operações de biblioteca que ajudam os programadores a executar facilmente cálculos numéricos. Esses tipos de cálculos numéricos são amplamente utilizados em tarefas como:</p>"
   ],
   "cell_type": "markdown",
   "metadata": {}
  },
  {
   "source": [
    "**Tarefas matemáticas:** NumPy é bastante útil para executar várias tarefas matemáticas como integração numérica, diferenciação, interpolação, extrapolação e muitas outras. O NumPy possui também funções incorporadas para álgebra linear e geração de números aleatórios. É uma biblioteca que pode ser usada em conjuto do SciPy e Matplotlib, substituindo o MATLAB quando se trata de tarefas matemáticas."
   ],
   "cell_type": "markdown",
   "metadata": {}
  },
  {
   "source": [
    "**Processamento de Imagem e Computação Gráfica:** Imagens no computador são representadas como Arrays Multidimensionais de números. NumPy torna-se a escolha mais natural para o mesmo. O NumPy, na verdade, fornece algumas excelentes funções de biblioteca para rápida manipulação de imagens. Alguns exemplos são o espelhamento de uma imagem, a rotação de uma imagem por um determinado ângulo etc."
   ],
   "cell_type": "markdown",
   "metadata": {}
  },
  {
   "source": [
    "**Modelos de Machine Learning:** Ao escrever algoritmos de Machine Learning, supõe-se que se realize vários cálculos numéricos em Array. Por exemplo, multiplicação de Arrays, transposição, adição, etc. O NumPy fornece uma excelente biblioteca para cálculos fáceis (em termos de escrita de código) e rápidos (em termos de velocidade). Os Arrays NumPy são usados para armazenar os dados de treinamento, bem como os parâmetros dos modelos de Machine Learning."
   ],
   "cell_type": "markdown",
   "metadata": {}
  },
  {
   "source": [
    "### Instalando\n",
    "Existem diversas formas de instalar o numpy. <br>\n",
    "A mais simples é instalar o pacote Anaconda (https://www.anaconda.com/distribution/)<br>\n",
    "que já vem com o Python e diversas bibliotecas científicas e ciência de dados instaladas.\n",
    "\n",
    "Outra forma, caso você já tenha o python instalado mas não o numpy, <br>\n",
    "é o utilizar o gerenciador e pacotes pip, através do comando no seu terminal:"
   ],
   "cell_type": "markdown",
   "metadata": {}
  },
  {
   "cell_type": "code",
   "execution_count": 7,
   "metadata": {},
   "outputs": [
    {
     "output_type": "error",
     "ename": "SyntaxError",
     "evalue": "invalid syntax (<ipython-input-7-d4d1c8b5813b>, line 1)",
     "traceback": [
      "\u001b[1;36m  File \u001b[1;32m\"<ipython-input-7-d4d1c8b5813b>\"\u001b[1;36m, line \u001b[1;32m1\u001b[0m\n\u001b[1;33m    $ pip install numpy\u001b[0m\n\u001b[1;37m    ^\u001b[0m\n\u001b[1;31mSyntaxError\u001b[0m\u001b[1;31m:\u001b[0m invalid syntax\n"
     ]
    }
   ],
   "source": [
    "$ pip install numpy"
   ]
  },
  {
   "source": [
    "### Explorando a API do NumPy\n",
    "Importando numppy com um alias np<br>\n",
    "np é uma abreviação amplamente utilizada na comunidade python para o numpy."
   ],
   "cell_type": "markdown",
   "metadata": {}
  },
  {
   "cell_type": "code",
   "execution_count": 9,
   "metadata": {},
   "outputs": [],
   "source": [
    "import numpy as np"
   ]
  },
  {
   "source": [
    "### 1D arrays\n",
    "Array unidimensional, também chamado de vetor ou até mesmo matriz de 1 dimensão:"
   ],
   "cell_type": "markdown",
   "metadata": {}
  },
  {
   "cell_type": "code",
   "execution_count": 10,
   "metadata": {},
   "outputs": [
    {
     "output_type": "stream",
     "name": "stdout",
     "text": [
      "[1 2 3]\n"
     ]
    }
   ],
   "source": [
    " a = np.array([1, 2, 3])\n",
    " # array([1, 2, 3])\n",
    " print(a)"
   ]
  },
  {
   "source": [
    "Checando o tipo da variável a:"
   ],
   "cell_type": "markdown",
   "metadata": {}
  },
  {
   "cell_type": "code",
   "execution_count": 11,
   "metadata": {},
   "outputs": [
    {
     "output_type": "stream",
     "name": "stdout",
     "text": [
      "<class 'numpy.ndarray'>\n"
     ]
    }
   ],
   "source": [
    "print(type(a))"
   ]
  },
  {
   "source": [
    "o nd significa n-dimensional\n",
    "\n",
    "Checando o tipo de dados do array\n",
    "Diversos tipos de dados são possíveis em um array numpy, os mais comuns são os numéricos:\n",
    "\n",
    " - int32\n",
    " - int64\n",
    " - float32\n",
    " - float64"
   ],
   "cell_type": "markdown",
   "metadata": {}
  },
  {
   "cell_type": "code",
   "execution_count": 12,
   "metadata": {},
   "outputs": [
    {
     "output_type": "execute_result",
     "data": {
      "text/plain": [
       "dtype('int32')"
      ]
     },
     "metadata": {},
     "execution_count": 12
    }
   ],
   "source": [
    "a.dtype"
   ]
  },
  {
   "source": [
    "A consistência do dado é forte...<br>\n",
    "Se trocarmos um elemento na posição 0 para o valor 10, dará certo:"
   ],
   "cell_type": "markdown",
   "metadata": {}
  },
  {
   "cell_type": "code",
   "execution_count": 13,
   "metadata": {},
   "outputs": [],
   "source": [
    "a[0] = 10"
   ]
  },
  {
   "cell_type": "code",
   "execution_count": 14,
   "metadata": {},
   "outputs": [
    {
     "output_type": "execute_result",
     "data": {
      "text/plain": [
       "array([10,  2,  3])"
      ]
     },
     "metadata": {},
     "execution_count": 14
    }
   ],
   "source": [
    "a"
   ]
  },
  {
   "cell_type": "code",
   "execution_count": null,
   "metadata": {},
   "outputs": [],
   "source": []
  },
  {
   "source": [
    "Se trocarmos para ponto flutuante, o numpy irá truncar a parte decimal, dado que o array que criamos é intei"
   ],
   "cell_type": "markdown",
   "metadata": {}
  },
  {
   "cell_type": "code",
   "execution_count": 15,
   "metadata": {},
   "outputs": [],
   "source": [
    "a[0] = 1.2"
   ]
  },
  {
   "cell_type": "code",
   "execution_count": 16,
   "metadata": {},
   "outputs": [
    {
     "output_type": "execute_result",
     "data": {
      "text/plain": [
       "array([1, 2, 3])"
      ]
     },
     "metadata": {},
     "execution_count": 16
    }
   ],
   "source": [
    "a"
   ]
  },
  {
   "source": [
    "2D arrays\n",
    "Matrizes podem ser consideradas um `array` de 2 dimensões."
   ],
   "cell_type": "markdown",
   "metadata": {}
  },
  {
   "source": [
    "> ------    \n",
    "> ### Observação\n",
    "\n",
    "> O NumPy possui também uma estrutura, `matrix`, mas não é recomendado utilizá-la pela própria documentação oficial e poderá ser removida no futuro.\n",
    "------    "
   ],
   "cell_type": "markdown",
   "metadata": {}
  },
  {
   "source": [
    "Para criar uma matriz, basta aninhar múltiplas listas dentro de uma lista, como o exemplo a seguir:"
   ],
   "cell_type": "markdown",
   "metadata": {}
  },
  {
   "cell_type": "code",
   "execution_count": 17,
   "metadata": {},
   "outputs": [],
   "source": [
    "b = np.array([[9.0, 8.0, 7.0],\n",
    "                  [6.0, 5.0, 4.0]])"
   ]
  },
  {
   "cell_type": "code",
   "execution_count": 18,
   "metadata": {},
   "outputs": [
    {
     "output_type": "execute_result",
     "data": {
      "text/plain": [
       "array([[9., 8., 7.],\n",
       "       [6., 5., 4.]])"
      ]
     },
     "metadata": {},
     "execution_count": 18
    }
   ],
   "source": [
    "b"
   ]
  },
  {
   "cell_type": "code",
   "execution_count": null,
   "metadata": {},
   "outputs": [],
   "source": []
  },
  {
   "source": [
    "Propriedades  \n",
    "Dimensão e formato   \n",
    "Dois conceitos importantes já mencionados acima é o de dimensão e formato.   \n",
    "\n",
    "\n",
    "\n",
    "Para descobrir essas informações, basta acessar os atributos [ndim] e [shape]"
   ],
   "cell_type": "markdown",
   "metadata": {}
  },
  {
   "cell_type": "code",
   "execution_count": 19,
   "metadata": {},
   "outputs": [
    {
     "output_type": "execute_result",
     "data": {
      "text/plain": [
       "1"
      ]
     },
     "metadata": {},
     "execution_count": 19
    }
   ],
   "source": [
    "a.ndim"
   ]
  },
  {
   "cell_type": "code",
   "execution_count": 20,
   "metadata": {},
   "outputs": [
    {
     "output_type": "execute_result",
     "data": {
      "text/plain": [
       "(3,)"
      ]
     },
     "metadata": {},
     "execution_count": 20
    }
   ],
   "source": [
    "a.shape"
   ]
  },
  {
   "cell_type": "code",
   "execution_count": 21,
   "metadata": {},
   "outputs": [
    {
     "output_type": "execute_result",
     "data": {
      "text/plain": [
       "2"
      ]
     },
     "metadata": {},
     "execution_count": 21
    }
   ],
   "source": [
    "b.ndim"
   ]
  },
  {
   "cell_type": "code",
   "execution_count": 22,
   "metadata": {},
   "outputs": [
    {
     "output_type": "execute_result",
     "data": {
      "text/plain": [
       "(2, 3)"
      ]
     },
     "metadata": {},
     "execution_count": 22
    }
   ],
   "source": [
    "b.shape"
   ]
  },
  {
   "source": [
    "Tipo de dado e tamanho   \n",
    "Na sessão `Checando o tipo de dados do array` já foi dito dos tipos de dados, mas agora falaremos da diferença de tamanhos que isso ocupa na memória.   \n",
    " \n",
    "Então, temos as variáveis [a] e [b] criadas anteriormente com os seguintes tipos:"
   ],
   "cell_type": "markdown",
   "metadata": {}
  },
  {
   "cell_type": "code",
   "execution_count": 23,
   "metadata": {},
   "outputs": [
    {
     "output_type": "execute_result",
     "data": {
      "text/plain": [
       "dtype('int32')"
      ]
     },
     "metadata": {},
     "execution_count": 23
    }
   ],
   "source": [
    "a.dtype"
   ]
  },
  {
   "cell_type": "code",
   "execution_count": 24,
   "metadata": {},
   "outputs": [
    {
     "output_type": "execute_result",
     "data": {
      "text/plain": [
       "dtype('float64')"
      ]
     },
     "metadata": {},
     "execution_count": 24
    }
   ],
   "source": [
    "b.dtype"
   ]
  },
  {
   "source": [
    "Por padrão, se o python instalado é 64 bits, ele irá criar tipos int ou float de 64 bits. Caso seu python fosse 32 bits, seria int32 e float32.\n",
    "\n",
    "Vamos criar uma outra array, a16, com o tipo inteiro de 16 bits."
   ],
   "cell_type": "markdown",
   "metadata": {}
  },
  {
   "cell_type": "code",
   "execution_count": 25,
   "metadata": {},
   "outputs": [
    {
     "output_type": "execute_result",
     "data": {
      "text/plain": [
       "array([1, 2, 3], dtype=int16)"
      ]
     },
     "metadata": {},
     "execution_count": 25
    }
   ],
   "source": [
    "a16 = np.array([1, 2, 3], dtype=np.int16)\n",
    "a16"
   ]
  },
  {
   "source": [
    "Note que por ser um tipo diferente do padrão, ele ressalta ao imprimir.  \n",
    " \n",
    "Para descobrir quanto cada elemento individualmente ocupa na memória, podemos acessar o atributo `itemsize`:  "
   ],
   "cell_type": "markdown",
   "metadata": {}
  },
  {
   "cell_type": "code",
   "execution_count": 26,
   "metadata": {},
   "outputs": [
    {
     "output_type": "execute_result",
     "data": {
      "text/plain": [
       "4"
      ]
     },
     "metadata": {},
     "execution_count": 26
    }
   ],
   "source": [
    "a.itemsize"
   ]
  },
  {
   "source": [
    "Ele retorna 8 e não 64! Isso é porque ele já converteu os bits para bytes. Bytes é o conjunto de 8 bits.\n",
    "\n",
    "Logo:  $\\huge \\frac{32}{ 4 } = 4 $\n"
   ],
   "cell_type": "markdown",
   "metadata": {}
  },
  {
   "cell_type": "code",
   "execution_count": 27,
   "metadata": {},
   "outputs": [
    {
     "output_type": "execute_result",
     "data": {
      "text/plain": [
       "12"
      ]
     },
     "metadata": {},
     "execution_count": 27
    }
   ],
   "source": [
    "a.size * a.itemsize"
   ]
  },
  {
   "cell_type": "code",
   "execution_count": 28,
   "metadata": {},
   "outputs": [
    {
     "output_type": "execute_result",
     "data": {
      "text/plain": [
       "12"
      ]
     },
     "metadata": {},
     "execution_count": 28
    }
   ],
   "source": [
    "a.nbytes"
   ]
  },
  {
   "source": [
    "> -----   \n",
    "> Observação   \n",
    "> \n",
    "> \n",
    "> Geralmente não é necessário em reduzir o número de bits a não ser que você tenha certeza que um tamanho reduzido vai atender sua necessidade e você quer ser extremamente eficiente.   \n",
    "> \n",
    "> ------"
   ],
   "cell_type": "markdown",
   "metadata": {}
  },
  {
   "source": [
    "Acessando e modificando elementos (Indexing & Slicing)   \n",
    "Dada a matriz a abaixo:"
   ],
   "cell_type": "markdown",
   "metadata": {}
  },
  {
   "cell_type": "code",
   "execution_count": 56,
   "metadata": {},
   "outputs": [
    {
     "output_type": "stream",
     "name": "stdout",
     "text": [
      "[[ 1  2  3  4  5  6  7]\n [ 8  9 10 11 12 13 14]]\n"
     ]
    }
   ],
   "source": [
    "a = np.array([[1, 2, 3, 4, 5, 6, 7], [8, 9, 10, 11, 12, 13, 14]])\n",
    "print(a)"
   ]
  },
  {
   "source": [
    "Podemos acessar um elemento específico de forma similar a lista, utilzando a sintaxe de colchetes, com a diferença de que podemos separar cada posição com vírgulas.    \n",
    "  \n",
    "Para uma array 2D, temos então a sintaxe:  \n",
    "&nbsp;&nbsp;&nbsp;&nbsp;&nbsp;&nbsp;&nbsp; $\\large [linha, coluna ]$ "
   ],
   "cell_type": "markdown",
   "metadata": {}
  },
  {
   "cell_type": "code",
   "execution_count": 33,
   "metadata": {},
   "outputs": [
    {
     "output_type": "execute_result",
     "data": {
      "text/plain": [
       "6"
      ]
     },
     "metadata": {},
     "execution_count": 33
    }
   ],
   "source": [
    "a[0, 5]"
   ]
  },
  {
   "source": [
    "Podemos (menos comum) fazer dessa forma também:"
   ],
   "cell_type": "markdown",
   "metadata": {}
  },
  {
   "cell_type": "code",
   "execution_count": 34,
   "metadata": {},
   "outputs": [
    {
     "output_type": "execute_result",
     "data": {
      "text/plain": [
       "13"
      ]
     },
     "metadata": {},
     "execution_count": 34
    }
   ],
   "source": [
    "a[1][5]"
   ]
  },
  {
   "source": [
    "Usar números negativsos funciona de trás pra frente a indexação:"
   ],
   "cell_type": "markdown",
   "metadata": {}
  },
  {
   "source": [
    "a[1, -2]"
   ],
   "cell_type": "code",
   "metadata": {},
   "execution_count": 35,
   "outputs": [
    {
     "output_type": "execute_result",
     "data": {
      "text/plain": [
       "13"
      ]
     },
     "metadata": {},
     "execution_count": 35
    }
   ]
  },
  {
   "source": [
    "Pegar uma linha específica, podemos utilizar a sintaxe de : que pode ser lida como \"todos\" daquela dimensão (colunas).    \n",
    "\n",
    "Podemos ler então como: linha zero, todas as colunas   "
   ],
   "cell_type": "markdown",
   "metadata": {}
  },
  {
   "cell_type": "code",
   "execution_count": 36,
   "metadata": {},
   "outputs": [
    {
     "output_type": "execute_result",
     "data": {
      "text/plain": [
       "array([1, 2, 3, 4, 5, 6, 7])"
      ]
     },
     "metadata": {},
     "execution_count": 36
    }
   ],
   "source": [
    "a[0, :]"
   ]
  },
  {
   "source": [
    "Também podemos fazer assim simplesmente:"
   ],
   "cell_type": "markdown",
   "metadata": {}
  },
  {
   "cell_type": "code",
   "execution_count": 37,
   "metadata": {},
   "outputs": [
    {
     "output_type": "execute_result",
     "data": {
      "text/plain": [
       "array([1, 2, 3, 4, 5, 6, 7])"
      ]
     },
     "metadata": {},
     "execution_count": 37
    }
   ],
   "source": [
    "a[0]"
   ]
  },
  {
   "source": [
    "Porém, para coluna específica não tem jeito, precisamos usar :.\n",
    "\n",
    "Leia-se: todas as linhas, coluna 2"
   ],
   "cell_type": "markdown",
   "metadata": {}
  },
  {
   "cell_type": "code",
   "execution_count": 38,
   "metadata": {},
   "outputs": [
    {
     "output_type": "execute_result",
     "data": {
      "text/plain": [
       "array([ 3, 10])"
      ]
     },
     "metadata": {},
     "execution_count": 38
    }
   ],
   "source": [
    "a[:, 2]"
   ]
  },
  {
   "cell_type": "code",
   "execution_count": null,
   "metadata": {},
   "outputs": [],
   "source": [
    "O operador : também conhecido como slicing, aceita o parâmetro:\n",
    "\n",
    " - start\n",
    " - end\n",
    " - step\n",
    "\n",
    "No formato\n",
    "\n",
    "[startindex:endindex:stepsize]\n",
    "\n",
    "O stepsize basicamente é quantos elementos deve ser pular. Podemos pegar do elemento 1 ao 6 pulando de 2 em 2 por exemplo da linha 0."
   ]
  },
  {
   "cell_type": "code",
   "execution_count": 39,
   "metadata": {},
   "outputs": [
    {
     "output_type": "execute_result",
     "data": {
      "text/plain": [
       "array([2, 4, 6])"
      ]
     },
     "metadata": {},
     "execution_count": 39
    }
   ],
   "source": [
    "a[0, 1:6:2]"
   ]
  },
  {
   "source": [
    "Funciona com negativo também:"
   ],
   "cell_type": "markdown",
   "metadata": {}
  },
  {
   "cell_type": "code",
   "execution_count": 40,
   "metadata": {},
   "outputs": [
    {
     "output_type": "execute_result",
     "data": {
      "text/plain": [
       "array([2, 4, 6])"
      ]
     },
     "metadata": {},
     "execution_count": 40
    }
   ],
   "source": [
    "a[0, 1:-1:2]"
   ]
  },
  {
   "source": [
    "Para mudar um elemento específico, basta usar o operador =:"
   ],
   "cell_type": "markdown",
   "metadata": {}
  },
  {
   "cell_type": "code",
   "execution_count": 41,
   "metadata": {},
   "outputs": [
    {
     "output_type": "stream",
     "name": "stdout",
     "text": [
      "[[ 1  2  3  4  5  6  7]\n [ 8  9 10 11 12 20 14]]\n"
     ]
    }
   ],
   "source": [
    "a[1,5] = 20\n",
    "print(a)"
   ]
  },
  {
   "source": [
    "Mudando uma coluna inteira para ser 5:"
   ],
   "cell_type": "markdown",
   "metadata": {}
  },
  {
   "cell_type": "code",
   "execution_count": 42,
   "metadata": {},
   "outputs": [
    {
     "output_type": "stream",
     "name": "stdout",
     "text": [
      "[[ 1  2  5  4  5  6  7]\n [ 8  9  5 11 12 20 14]]\n"
     ]
    }
   ],
   "source": [
    "a[:, 2] = 5\n",
    "print(a)"
   ]
  },
  {
   "source": [
    "Isso mostra uma característica fundamental do array do NumPy:\n",
    "\n",
    "\n",
    "> Ao alterar o pedaço da matriz recortada, você altera a matriz original\n",
    "\n",
    "Slicing em listas geram cópias!"
   ],
   "cell_type": "markdown",
   "metadata": {}
  },
  {
   "cell_type": "code",
   "execution_count": 54,
   "metadata": {},
   "outputs": [
    {
     "output_type": "execute_result",
     "data": {
      "text/plain": [
       "[2, 3]"
      ]
     },
     "metadata": {},
     "execution_count": 54
    }
   ],
   "source": [
    "a = [1, 2, 3]\n",
    "b = a[1:]\n",
    "b\n"
   ]
  },
  {
   "cell_type": "code",
   "execution_count": 55,
   "metadata": {},
   "outputs": [
    {
     "output_type": "stream",
     "name": "stdout",
     "text": [
      "[1, 2, 3]\n[10, 11]\n"
     ]
    }
   ],
   "source": [
    "b = [10, 11]\n",
    "print(a)\n",
    "print(b)"
   ]
  },
  {
   "source": [
    "Acessando o formato de um slicing:"
   ],
   "cell_type": "markdown",
   "metadata": {}
  },
  {
   "cell_type": "code",
   "execution_count": 58,
   "metadata": {},
   "outputs": [
    {
     "output_type": "execute_result",
     "data": {
      "text/plain": [
       "(2,)"
      ]
     },
     "metadata": {},
     "execution_count": 58
    }
   ],
   "source": [
    "a[:, 2].shape"
   ]
  },
  {
   "cell_type": "code",
   "execution_count": 59,
   "metadata": {},
   "outputs": [],
   "source": [
    "a[:, 2] = [5, 10]"
   ]
  },
  {
   "cell_type": "code",
   "execution_count": 60,
   "metadata": {},
   "outputs": [
    {
     "output_type": "stream",
     "name": "stdout",
     "text": [
      "[[ 1  2  5  4  5  6  7]\n [ 8  9 10 11 12 13 14]]\n"
     ]
    }
   ],
   "source": [
    "print(a)"
   ]
  },
  {
   "source": [
    "Exemplo 3D"
   ],
   "cell_type": "markdown",
   "metadata": {}
  },
  {
   "cell_type": "code",
   "execution_count": 61,
   "metadata": {},
   "outputs": [
    {
     "output_type": "stream",
     "name": "stdout",
     "text": [
      "[[[1 2]\n  [3 4]]\n\n [[5 6]\n  [7 8]]]\n"
     ]
    }
   ],
   "source": [
    "b = np.array([[[1, 2], [3,4]], [[5, 6], [7, 8]]])\n",
    "print(b)"
   ]
  },
  {
   "source": [
    "Checando a dimensão:"
   ],
   "cell_type": "markdown",
   "metadata": {}
  },
  {
   "cell_type": "code",
   "execution_count": 62,
   "metadata": {},
   "outputs": [
    {
     "output_type": "execute_result",
     "data": {
      "text/plain": [
       "3"
      ]
     },
     "metadata": {},
     "execution_count": 62
    }
   ],
   "source": [
    "b.ndim"
   ]
  },
  {
   "source": [
    "Retirando o elemento 4:"
   ],
   "cell_type": "markdown",
   "metadata": {}
  },
  {
   "cell_type": "code",
   "execution_count": 63,
   "metadata": {},
   "outputs": [
    {
     "output_type": "execute_result",
     "data": {
      "text/plain": [
       "4"
      ]
     },
     "metadata": {},
     "execution_count": 63
    }
   ],
   "source": [
    "b[0, 1, 1]"
   ]
  },
  {
   "source": [
    "Pegando todos todos os elementos da posição 1 da dimensão 2:"
   ],
   "cell_type": "markdown",
   "metadata": {}
  },
  {
   "cell_type": "code",
   "execution_count": 64,
   "metadata": {},
   "outputs": [
    {
     "output_type": "execute_result",
     "data": {
      "text/plain": [
       "array([[3, 4],\n",
       "       [7, 8]])"
      ]
     },
     "metadata": {},
     "execution_count": 64
    }
   ],
   "source": [
    "b[:, 1, :]"
   ]
  },
  {
   "source": [
    "Substituindo:"
   ],
   "cell_type": "markdown",
   "metadata": {}
  },
  {
   "cell_type": "code",
   "execution_count": 65,
   "metadata": {},
   "outputs": [],
   "source": [
    "b[:, 1, :] = [[9, 9], [8, 8]]"
   ]
  },
  {
   "source": [
    "Inicializando arrays usando métodos internos\n",
    "O NumPy já possui diversos métodos built-in para gerar arrays dos mais diversos tipos\n",
    "\n",
    "array apenas com zeros"
   ],
   "cell_type": "markdown",
   "metadata": {}
  },
  {
   "cell_type": "code",
   "execution_count": 66,
   "metadata": {},
   "outputs": [
    {
     "output_type": "execute_result",
     "data": {
      "text/plain": [
       "array([0., 0., 0., 0., 0.])"
      ]
     },
     "metadata": {},
     "execution_count": 66
    }
   ],
   "source": [
    "np.zeros(5)"
   ]
  },
  {
   "source": [
    "É possível gerar um array de qualquer formato, basta apenasr passar o formato como uma sequência (lista, tupla geralmente) como argumento"
   ],
   "cell_type": "markdown",
   "metadata": {}
  },
  {
   "cell_type": "code",
   "execution_count": 67,
   "metadata": {},
   "outputs": [
    {
     "output_type": "execute_result",
     "data": {
      "text/plain": [
       "array([[0., 0., 0.],\n",
       "       [0., 0., 0.]])"
      ]
     },
     "metadata": {},
     "execution_count": 67
    }
   ],
   "source": [
    "np.zeros((2, 3))"
   ]
  },
  {
   "cell_type": "code",
   "execution_count": 68,
   "metadata": {},
   "outputs": [
    {
     "output_type": "execute_result",
     "data": {
      "text/plain": [
       "array([[[0., 0., 0.],\n",
       "        [0., 0., 0.]],\n",
       "\n",
       "       [[0., 0., 0.],\n",
       "        [0., 0., 0.]]])"
      ]
     },
     "metadata": {},
     "execution_count": 68
    }
   ],
   "source": [
    "np.zeros((2, 2, 3))"
   ]
  },
  {
   "source": [
    "array apenas com uns"
   ],
   "cell_type": "markdown",
   "metadata": {}
  },
  {
   "cell_type": "code",
   "execution_count": 69,
   "metadata": {},
   "outputs": [
    {
     "output_type": "execute_result",
     "data": {
      "text/plain": [
       "array([[[1, 1],\n",
       "        [1, 1]],\n",
       "\n",
       "       [[1, 1],\n",
       "        [1, 1]],\n",
       "\n",
       "       [[1, 1],\n",
       "        [1, 1]],\n",
       "\n",
       "       [[1, 1],\n",
       "        [1, 1]]])"
      ]
     },
     "metadata": {},
     "execution_count": 69
    }
   ],
   "source": [
    "np.ones((4, 2, 2), dtype='int32')"
   ]
  },
  {
   "source": [
    "Um coisa muito comum é usar o np.ones para criar uma matriz de qualquer número fazendo a operação, exemplo:"
   ],
   "cell_type": "markdown",
   "metadata": {}
  },
  {
   "cell_type": "code",
   "execution_count": 70,
   "metadata": {},
   "outputs": [
    {
     "output_type": "execute_result",
     "data": {
      "text/plain": [
       "array([[10., 10.],\n",
       "       [10., 10.]])"
      ]
     },
     "metadata": {},
     "execution_count": 70
    }
   ],
   "source": [
    "np.ones((2, 2)) * 10"
   ]
  },
  {
   "source": [
    "Mas o numpy já tem uma opção mais elegante, o full:"
   ],
   "cell_type": "markdown",
   "metadata": {}
  },
  {
   "cell_type": "code",
   "execution_count": 71,
   "metadata": {},
   "outputs": [
    {
     "output_type": "execute_result",
     "data": {
      "text/plain": [
       "array([[99, 99],\n",
       "       [99, 99]])"
      ]
     },
     "metadata": {},
     "execution_count": 71
    }
   ],
   "source": [
    "np.full((2, 2), 99)"
   ]
  },
  {
   "source": [
    "Qualquer outro número copiando o formato de uma matriz existente"
   ],
   "cell_type": "markdown",
   "metadata": {}
  },
  {
   "cell_type": "code",
   "execution_count": 72,
   "metadata": {},
   "outputs": [
    {
     "output_type": "execute_result",
     "data": {
      "text/plain": [
       "array([[4, 4, 4, 4, 4, 4, 4],\n",
       "       [4, 4, 4, 4, 4, 4, 4]])"
      ]
     },
     "metadata": {},
     "execution_count": 72
    }
   ],
   "source": [
    "np.full_like(a, 4)"
   ]
  },
  {
   "source": [
    "Números decimais aleatórios\n",
    "O numpy tem um sub-módulo chamado `random`, que pode ser acessando via `np.random`.\n",
    "\n",
    "Nele, tem um conjunto de funções para números aleatórios."
   ],
   "cell_type": "markdown",
   "metadata": {}
  },
  {
   "cell_type": "code",
   "execution_count": 73,
   "metadata": {},
   "outputs": [
    {
     "output_type": "execute_result",
     "data": {
      "text/plain": [
       "array([[0.4982785 , 0.27544588],\n",
       "       [0.90764279, 0.93080901],\n",
       "       [0.13531892, 0.88303231],\n",
       "       [0.86271855, 0.85410013]])"
      ]
     },
     "metadata": {},
     "execution_count": 73
    }
   ],
   "source": [
    "np.random.random_sample((4, 2))"
   ]
  },
  {
   "source": [
    "Função igual a de cima, mas padrão do MATLAB (observe que não é uma tupla/lista o formato):"
   ],
   "cell_type": "markdown",
   "metadata": {}
  },
  {
   "cell_type": "code",
   "execution_count": 74,
   "metadata": {},
   "outputs": [
    {
     "output_type": "execute_result",
     "data": {
      "text/plain": [
       "array([[0.88500112, 0.79080079],\n",
       "       [0.05331885, 0.50583972],\n",
       "       [0.62729845, 0.94125212],\n",
       "       [0.7540487 , 0.28667321]])"
      ]
     },
     "metadata": {},
     "execution_count": 74
    }
   ],
   "source": [
    "np.random.rand(4, 2)"
   ]
  },
  {
   "source": [
    "Números inteiros:"
   ],
   "cell_type": "markdown",
   "metadata": {}
  },
  {
   "cell_type": "code",
   "execution_count": 76,
   "metadata": {},
   "outputs": [
    {
     "output_type": "execute_result",
     "data": {
      "text/plain": [
       "array([[1, 1, 4],\n",
       "       [2, 6, 3],\n",
       "       [5, 0, 6]])"
      ]
     },
     "metadata": {},
     "execution_count": 76
    }
   ],
   "source": [
    "np.random.randint(7, size=(3, 3))"
   ]
  },
  {
   "source": [
    "Os argumentos principais são `low`, `high` e `size`, exemplo: criando uma matriz de 0 a 99 de 100 elementos:"
   ],
   "cell_type": "markdown",
   "metadata": {}
  },
  {
   "cell_type": "code",
   "execution_count": 77,
   "metadata": {},
   "outputs": [
    {
     "output_type": "execute_result",
     "data": {
      "text/plain": [
       "array([49, 61,  3, 62, 50, 38, 83, 97, 15, 65, 16, 63, 79, 51, 79, 32, 71,\n",
       "       38, 36, 78, 25, 91, 95, 60, 41, 84,  7, 91, 62, 35, 54, 81, 92, 25,\n",
       "       20, 44, 56, 36, 27, 30, 56, 18, 23, 36, 93, 40, 69, 19, 15,  8,  7,\n",
       "       62, 14, 25,  5, 80, 54, 16, 12, 51, 91, 49, 93, 36, 60, 63, 51, 68,\n",
       "       48, 47, 77, 77, 91, 28, 63,  9, 97, 94, 22, 16,  9,  7,  3, 42, 73,\n",
       "       26, 38, 34, 41, 37, 84, 34, 60,  2, 99, 20, 54,  5, 64, 68])"
      ]
     },
     "metadata": {},
     "execution_count": 77
    }
   ],
   "source": [
    "np.random.randint(0, high=100, size=100)"
   ]
  },
  {
   "source": [
    "Para incluir o 100, basta trocar o high por 101"
   ],
   "cell_type": "markdown",
   "metadata": {}
  },
  {
   "source": [
    "Matriz identidade   \n",
    "Diagonal inteira com 1. É sempre uma matriz quadrada."
   ],
   "cell_type": "markdown",
   "metadata": {}
  },
  {
   "cell_type": "code",
   "execution_count": 78,
   "metadata": {},
   "outputs": [
    {
     "output_type": "execute_result",
     "data": {
      "text/plain": [
       "array([[1., 0., 0.],\n",
       "       [0., 1., 0.],\n",
       "       [0., 0., 1.]])"
      ]
     },
     "metadata": {},
     "execution_count": 78
    }
   ],
   "source": [
    "np.identity(3)"
   ]
  },
  {
   "source": [
    "repeat  \n",
    "Método para repetir uma determinada array na direção do eixo escolhido.  \n",
    " \n",
    "Esse é a primeira função, de várias, que possui o parâmetro axis. \n",
    "   \n",
    "Diversas vezes o numpy permite fazer uma operação, nesse caso, repeat, no qual é opcional ou necessário dizer qual o eixo da operação.  \n",
    "  \n",
    "Para um vetor de 1D, temos apenas 1 eixo, mas para matrizes, tempos dois:  \n",
    "  \n",
    "O eixo 0 é linha, o eixo 1 é coluna  \n",
    "  \n",
    ">>> arr = np.array(\\[1, 2, 3\\])  "
   ],
   "cell_type": "markdown",
   "metadata": {}
  },
  {
   "cell_type": "code",
   "execution_count": 81,
   "metadata": {},
   "outputs": [],
   "source": [
    "arr = np.array([1, 2, 3])\n",
    "r1 = np.repeat(arr, 3)"
   ]
  },
  {
   "cell_type": "code",
   "execution_count": 82,
   "metadata": {},
   "outputs": [
    {
     "output_type": "stream",
     "name": "stdout",
     "text": [
      "[1 1 1 2 2 2 3 3 3]\n"
     ]
    }
   ],
   "source": [
    "print(r1)"
   ]
  },
  {
   "source": [
    "Com axis = 0"
   ],
   "cell_type": "markdown",
   "metadata": {}
  },
  {
   "cell_type": "code",
   "execution_count": 83,
   "metadata": {},
   "outputs": [
    {
     "output_type": "stream",
     "name": "stdout",
     "text": [
      "[[1 2 3]\n [1 2 3]\n [1 2 3]]\n"
     ]
    }
   ],
   "source": [
    "arr = np.array([[1, 2, 3]])\n",
    "r1 = np.repeat(arr, 3, axis=0)\n",
    "print(r1)"
   ]
  },
  {
   "source": [
    "Com axis = 1"
   ],
   "cell_type": "markdown",
   "metadata": {}
  },
  {
   "cell_type": "code",
   "execution_count": 84,
   "metadata": {},
   "outputs": [
    {
     "output_type": "stream",
     "name": "stdout",
     "text": [
      "[[1 1 1 2 2 2 3 3 3]]\n"
     ]
    }
   ],
   "source": [
    "arr = np.array([[1, 2, 3]])\n",
    "r1 = np.repeat(arr, 3, axis=1)\n",
    "print(r1)"
   ]
  },
  {
   "source": [
    "arange  \n",
    "Função que retorna elementos igualmente espaçados num step (por padrão, 1) dentro de um certo intervalo."
   ],
   "cell_type": "markdown",
   "metadata": {}
  },
  {
   "cell_type": "code",
   "execution_count": 85,
   "metadata": {},
   "outputs": [
    {
     "output_type": "execute_result",
     "data": {
      "text/plain": [
       "array([0, 1, 2, 3, 4, 5, 6, 7, 8, 9])"
      ]
     },
     "metadata": {},
     "execution_count": 85
    }
   ],
   "source": [
    " np.arange(0, 10)"
   ]
  },
  {
   "source": [
    "Step diferente de 1:"
   ],
   "cell_type": "markdown",
   "metadata": {}
  },
  {
   "cell_type": "code",
   "execution_count": 86,
   "metadata": {},
   "outputs": [
    {
     "output_type": "execute_result",
     "data": {
      "text/plain": [
       "array([ 0. ,  0.1,  0.2,  0.3,  0.4,  0.5,  0.6,  0.7,  0.8,  0.9,  1. ,\n",
       "        1.1,  1.2,  1.3,  1.4,  1.5,  1.6,  1.7,  1.8,  1.9,  2. ,  2.1,\n",
       "        2.2,  2.3,  2.4,  2.5,  2.6,  2.7,  2.8,  2.9,  3. ,  3.1,  3.2,\n",
       "        3.3,  3.4,  3.5,  3.6,  3.7,  3.8,  3.9,  4. ,  4.1,  4.2,  4.3,\n",
       "        4.4,  4.5,  4.6,  4.7,  4.8,  4.9,  5. ,  5.1,  5.2,  5.3,  5.4,\n",
       "        5.5,  5.6,  5.7,  5.8,  5.9,  6. ,  6.1,  6.2,  6.3,  6.4,  6.5,\n",
       "        6.6,  6.7,  6.8,  6.9,  7. ,  7.1,  7.2,  7.3,  7.4,  7.5,  7.6,\n",
       "        7.7,  7.8,  7.9,  8. ,  8.1,  8.2,  8.3,  8.4,  8.5,  8.6,  8.7,\n",
       "        8.8,  8.9,  9. ,  9.1,  9.2,  9.3,  9.4,  9.5,  9.6,  9.7,  9.8,\n",
       "        9.9, 10. , 10.1, 10.2, 10.3, 10.4, 10.5, 10.6, 10.7, 10.8, 10.9])"
      ]
     },
     "metadata": {},
     "execution_count": 86
    }
   ],
   "source": [
    "np.arange(0, 11, 0.1)"
   ]
  },
  {
   "source": [
    "linspace   \n",
    "Parecido com o arange, mas você diz quantos pontos você quer e o intervalo e ele define o espaçamento linear"
   ],
   "cell_type": "markdown",
   "metadata": {}
  },
  {
   "cell_type": "code",
   "execution_count": 88,
   "metadata": {},
   "outputs": [
    {
     "output_type": "execute_result",
     "data": {
      "text/plain": [
       "array([ 0.        ,  1.22222222,  2.44444444,  3.66666667,  4.88888889,\n",
       "        6.11111111,  7.33333333,  8.55555556,  9.77777778, 11.        ])"
      ]
     },
     "metadata": {},
     "execution_count": 88
    }
   ],
   "source": [
    "np.linspace(0, 11, num=10)"
   ]
  },
  {
   "source": [
    "Tenha cuidado ao copiar arrays!  \n",
    "Jeito errado  "
   ],
   "cell_type": "markdown",
   "metadata": {}
  },
  {
   "cell_type": "code",
   "execution_count": 89,
   "metadata": {},
   "outputs": [
    {
     "output_type": "execute_result",
     "data": {
      "text/plain": [
       "array([1, 2, 3])"
      ]
     },
     "metadata": {},
     "execution_count": 89
    }
   ],
   "source": [
    "a = np.array([1, 2, 3])\n",
    "b = a\n",
    "b"
   ]
  },
  {
   "cell_type": "code",
   "execution_count": 90,
   "metadata": {},
   "outputs": [
    {
     "output_type": "stream",
     "name": "stdout",
     "text": [
      "[100   2   3]\n[100   2   3]\n"
     ]
    }
   ],
   "source": [
    "b[0] = 100\n",
    "print(b)\n",
    "print(a)"
   ]
  },
  {
   "source": [
    "> a também foi modificado!  \n",
    "\n",
    "Jeito certo (seguro)  "
   ],
   "cell_type": "markdown",
   "metadata": {}
  },
  {
   "cell_type": "code",
   "execution_count": 91,
   "metadata": {},
   "outputs": [
    {
     "output_type": "stream",
     "name": "stdout",
     "text": [
      "[100   2   3]\n[1 2 3]\n"
     ]
    }
   ],
   "source": [
    "a = np.array([1, 2, 3])\n",
    "b = a.copy()\n",
    "b[0] = 100\n",
    "print(b)\n",
    "print(a)"
   ]
  },
  {
   "source": [
    "Matemática  \n",
    "O numpy te fornece um conjunto de funções matemáticas:"
   ],
   "cell_type": "markdown",
   "metadata": {}
  },
  {
   "cell_type": "code",
   "execution_count": 93,
   "metadata": {},
   "outputs": [
    {
     "output_type": "stream",
     "name": "stdout",
     "text": [
      "[1 2 3 4]\n"
     ]
    }
   ],
   "source": [
    "a = np.array([1, 2, 3, 4])\n",
    "print(a)"
   ]
  },
  {
   "source": [
    "Operação com escalares    \n",
    "Soma:"
   ],
   "cell_type": "markdown",
   "metadata": {}
  },
  {
   "cell_type": "code",
   "execution_count": 95,
   "metadata": {},
   "outputs": [
    {
     "output_type": "execute_result",
     "data": {
      "text/plain": [
       "array([3, 4, 5, 6])"
      ]
     },
     "metadata": {},
     "execution_count": 95
    }
   ],
   "source": [
    "a + 2"
   ]
  },
  {
   "source": [
    "Subtração:"
   ],
   "cell_type": "markdown",
   "metadata": {}
  },
  {
   "cell_type": "code",
   "execution_count": 96,
   "metadata": {},
   "outputs": [
    {
     "output_type": "execute_result",
     "data": {
      "text/plain": [
       "array([-1,  0,  1,  2])"
      ]
     },
     "metadata": {},
     "execution_count": 96
    }
   ],
   "source": [
    "a - 2"
   ]
  },
  {
   "source": [
    "Multiplicação:"
   ],
   "cell_type": "markdown",
   "metadata": {}
  },
  {
   "cell_type": "code",
   "execution_count": 97,
   "metadata": {},
   "outputs": [
    {
     "output_type": "execute_result",
     "data": {
      "text/plain": [
       "array([2, 4, 6, 8])"
      ]
     },
     "metadata": {},
     "execution_count": 97
    }
   ],
   "source": [
    "a * 2"
   ]
  },
  {
   "source": [
    "Divisão:"
   ],
   "cell_type": "markdown",
   "metadata": {}
  },
  {
   "cell_type": "code",
   "execution_count": 98,
   "metadata": {},
   "outputs": [
    {
     "output_type": "execute_result",
     "data": {
      "text/plain": [
       "array([0.5, 1. , 1.5, 2. ])"
      ]
     },
     "metadata": {},
     "execution_count": 98
    }
   ],
   "source": [
    " a / 2"
   ]
  },
  {
   "source": [
    "Incrementar:"
   ],
   "cell_type": "markdown",
   "metadata": {}
  },
  {
   "cell_type": "code",
   "execution_count": 99,
   "metadata": {},
   "outputs": [
    {
     "output_type": "execute_result",
     "data": {
      "text/plain": [
       "array([3, 4, 5, 6])"
      ]
     },
     "metadata": {},
     "execution_count": 99
    }
   ],
   "source": [
    "a += 2\n",
    "a"
   ]
  },
  {
   "source": [
    "Potência:"
   ],
   "cell_type": "markdown",
   "metadata": {}
  },
  {
   "cell_type": "code",
   "execution_count": 100,
   "metadata": {},
   "outputs": [
    {
     "output_type": "execute_result",
     "data": {
      "text/plain": [
       "array([ 9, 16, 25, 36], dtype=int32)"
      ]
     },
     "metadata": {},
     "execution_count": 100
    }
   ],
   "source": [
    "a ** 2"
   ]
  },
  {
   "source": [
    "Operação entre arrays   \n",
    "Tudo que você consegue fazer com escalar, você consegue fazer com arrays elemento-a-elemnto, por exemplo, para soma:"
   ],
   "cell_type": "markdown",
   "metadata": {}
  },
  {
   "cell_type": "code",
   "execution_count": 101,
   "metadata": {},
   "outputs": [
    {
     "output_type": "execute_result",
     "data": {
      "text/plain": [
       "array([2, 2, 4, 4])"
      ]
     },
     "metadata": {},
     "execution_count": 101
    }
   ],
   "source": [
    "a = np.array([1, 2, 3, 4])\n",
    "b = np.array([1, 0, 1, 0])\n",
    "a + b"
   ]
  },
  {
   "source": [
    "Funções matemáticas  \n",
    "Função seno"
   ],
   "cell_type": "markdown",
   "metadata": {}
  },
  {
   "cell_type": "code",
   "execution_count": 102,
   "metadata": {},
   "outputs": [
    {
     "output_type": "execute_result",
     "data": {
      "text/plain": [
       "array([ 0.84147098,  0.90929743,  0.14112001, -0.7568025 ])"
      ]
     },
     "metadata": {},
     "execution_count": 102
    }
   ],
   "source": [
    "np.sin(a)"
   ]
  },
  {
   "source": [
    "Funçõa cosseno:"
   ],
   "cell_type": "markdown",
   "metadata": {}
  },
  {
   "cell_type": "code",
   "execution_count": 103,
   "metadata": {},
   "outputs": [
    {
     "output_type": "execute_result",
     "data": {
      "text/plain": [
       "array([ 0.54030231, -0.41614684, -0.9899925 , -0.65364362])"
      ]
     },
     "metadata": {},
     "execution_count": 103
    }
   ],
   "source": [
    "np.cos(a)"
   ]
  },
  {
   "cell_type": "code",
   "execution_count": null,
   "metadata": {},
   "outputs": [],
   "source": [
    "Álgebra Linear  \n",
    "Da definição do Wikipédia:  \n",
    "\n",
    "Álgebra linear é um ramo da matemática que surgiu do estudo detalhado de sistemas de equações lineares,   \n",
    "sejam elas algébricas ou diferenciais.   \n",
    " A álgebra linear utiliza alguns conceitos e estruturas fundamentais da matemática como vetores,      \n",
    " espaços vetoriais, transformações lineares, sistemas de equações lineares e matrizes.   \n",
    "   \n",
    "O numpy nos permite executar diversas diversas operações de álgebra linear, mostradas a seguir:  "
   ]
  },
  {
   "cell_type": "code",
   "execution_count": 108,
   "metadata": {},
   "outputs": [
    {
     "output_type": "execute_result",
     "data": {
      "text/plain": [
       "array([[1., 1., 1.],\n",
       "       [1., 1., 1.]])"
      ]
     },
     "metadata": {},
     "execution_count": 108
    }
   ],
   "source": [
    "a = np.ones((2, 3))\n",
    "a"
   ]
  },
  {
   "cell_type": "code",
   "execution_count": 110,
   "metadata": {},
   "outputs": [
    {
     "output_type": "execute_result",
     "data": {
      "text/plain": [
       "array([[2, 2],\n",
       "       [2, 2],\n",
       "       [2, 2]])"
      ]
     },
     "metadata": {},
     "execution_count": 110
    }
   ],
   "source": [
    "b = np.full((3, 2), 2)\n",
    "b\n"
   ]
  },
  {
   "source": [
    "Transposição\n",
    "A operação de transposição\n",
    "\n",
    "$\n",
    "\\begin{bmatrix}\n",
    "    x_{11} & x_{12} & x_{13} & \\dots  & x_{1n} \\\\\n",
    "    x_{21} & x_{22} & x_{23} & \\dots  & x_{2n} \\\\\n",
    "    \\vdots & \\vdots & \\vdots & \\ddots & \\vdots \\\\\n",
    "    x_{d1} & x_{d2} & x_{d3} & \\dots  & x_{dn}\n",
    "\\end{bmatrix} \n",
    " $=\n",
    " $\n",
    " \\begin{bmatrix}\n",
    "    x_{11} & x_{21} & x_{31} & \\dots  & x_{d1} \\\\\n",
    "    x_{12} & x_{22} & x_{23} & \\dots  & x_{d2} \\\\\n",
    "    \\vdots & \\vdots & \\vdots & \\ddots & \\vdots \\\\\n",
    "    x_{1n} & x_{2n} & x_{3n} & \\dots  & x_{dn}\n",
    "\\end{bmatrix} \n",
    " $\n"
   ],
   "cell_type": "markdown",
   "metadata": {}
  },
  {
   "source": [
    "Pode ser feita da seguinte forma:"
   ],
   "cell_type": "markdown",
   "metadata": {}
  },
  {
   "cell_type": "code",
   "execution_count": 111,
   "metadata": {},
   "outputs": [
    {
     "output_type": "execute_result",
     "data": {
      "text/plain": [
       "array([[1., 1.],\n",
       "       [1., 1.],\n",
       "       [1., 1.]])"
      ]
     },
     "metadata": {},
     "execution_count": 111
    }
   ],
   "source": [
    "np.transpose(a)"
   ]
  },
  {
   "source": [
    "Ou acessando o atributo `T`:"
   ],
   "cell_type": "markdown",
   "metadata": {}
  },
  {
   "cell_type": "code",
   "execution_count": 112,
   "metadata": {},
   "outputs": [
    {
     "output_type": "execute_result",
     "data": {
      "text/plain": [
       "array([[1., 1.],\n",
       "       [1., 1.],\n",
       "       [1., 1.]])"
      ]
     },
     "metadata": {},
     "execution_count": 112
    }
   ],
   "source": [
    "a.T"
   ]
  },
  {
   "source": [
    "Multiplicação de matrizes\n",
    "A tradicional multiplicação de matrizes, como mostra a imagem abaixo:<br>\n",
    "<img width=\"25%\" src=\"../../../MatrixMul.png\">\n"
   ],
   "cell_type": "markdown",
   "metadata": {}
  },
  {
   "source": [
    "Pode ser feita no numpy simplesmente chamando matmul"
   ],
   "cell_type": "markdown",
   "metadata": {}
  },
  {
   "cell_type": "code",
   "execution_count": 113,
   "metadata": {},
   "outputs": [
    {
     "output_type": "execute_result",
     "data": {
      "text/plain": [
       "array([[6., 6.],\n",
       "       [6., 6.]])"
      ]
     },
     "metadata": {},
     "execution_count": 113
    }
   ],
   "source": [
    "np.matmul(a, b)"
   ]
  },
  {
   "source": [
    "Operador @ executa a função anterior:"
   ],
   "cell_type": "markdown",
   "metadata": {}
  },
  {
   "cell_type": "code",
   "execution_count": 114,
   "metadata": {},
   "outputs": [
    {
     "output_type": "execute_result",
     "data": {
      "text/plain": [
       "array([[6., 6.],\n",
       "       [6., 6.]])"
      ]
     },
     "metadata": {},
     "execution_count": 114
    }
   ],
   "source": [
    "a @ b"
   ]
  },
  {
   "source": [
    "Encontrar o determinante"
   ],
   "cell_type": "markdown",
   "metadata": {}
  },
  {
   "cell_type": "code",
   "execution_count": 118,
   "metadata": {},
   "outputs": [
    {
     "output_type": "stream",
     "name": "stdout",
     "text": [
      "[[1. 0. 0.]\n [0. 1. 0.]\n [0. 0. 1.]]\n"
     ]
    },
    {
     "output_type": "execute_result",
     "data": {
      "text/plain": [
       "1.0"
      ]
     },
     "metadata": {},
     "execution_count": 118
    }
   ],
   "source": [
    "c = np.identity(3)\n",
    "print(c)\n",
    "np.linalg.det(c)"
   ]
  },
  {
   "source": [
    "Outras funcções de Álgebra Linear: https://docs.scipy.org/doc/numpy/reference/routines.linalg.html\n",
    "\n",
    " - Trace\n",
    " - Decomposição de vetores\n",
    " - Autovalor/autovetor\n",
    " - Norma da Matriz\n",
    " - Inversa\n",
    " - Etc...   \n",
    "Estatística   \n",
    "O numpy vem com várias funções básicas de estatística, como mínimo, máximo, média, mediana, etc."
   ],
   "cell_type": "markdown",
   "metadata": {}
  },
  {
   "cell_type": "code",
   "execution_count": 120,
   "metadata": {},
   "outputs": [],
   "source": [
    "stats = np.array([[1, 2, 3], [4, 5, 6]])"
   ]
  },
  {
   "cell_type": "code",
   "execution_count": 121,
   "metadata": {},
   "outputs": [
    {
     "output_type": "execute_result",
     "data": {
      "text/plain": [
       "array([[1, 2, 3],\n",
       "       [4, 5, 6]])"
      ]
     },
     "metadata": {},
     "execution_count": 121
    }
   ],
   "source": [
    "stats"
   ]
  },
  {
   "cell_type": "code",
   "execution_count": 122,
   "metadata": {},
   "outputs": [
    {
     "output_type": "execute_result",
     "data": {
      "text/plain": [
       "1"
      ]
     },
     "metadata": {},
     "execution_count": 122
    }
   ],
   "source": [
    " np.min(stats)"
   ]
  },
  {
   "cell_type": "code",
   "execution_count": 123,
   "metadata": {},
   "outputs": [
    {
     "output_type": "execute_result",
     "data": {
      "text/plain": [
       "6"
      ]
     },
     "metadata": {},
     "execution_count": 123
    }
   ],
   "source": [
    "np.max(stats)"
   ]
  },
  {
   "cell_type": "code",
   "execution_count": 124,
   "metadata": {},
   "outputs": [
    {
     "output_type": "execute_result",
     "data": {
      "text/plain": [
       "array([1, 4])"
      ]
     },
     "metadata": {},
     "execution_count": 124
    }
   ],
   "source": [
    "np.min(stats, axis=1) "
   ]
  },
  {
   "source": [
    "Máximo por coluna:"
   ],
   "cell_type": "markdown",
   "metadata": {}
  },
  {
   "cell_type": "code",
   "execution_count": 125,
   "metadata": {},
   "outputs": [
    {
     "output_type": "execute_result",
     "data": {
      "text/plain": [
       "array([4, 5, 6])"
      ]
     },
     "metadata": {},
     "execution_count": 125
    }
   ],
   "source": [
    "np.max(stats, axis=0)"
   ]
  },
  {
   "source": [
    "Soma por coluna:"
   ],
   "cell_type": "markdown",
   "metadata": {}
  },
  {
   "cell_type": "code",
   "execution_count": 126,
   "metadata": {},
   "outputs": [
    {
     "output_type": "execute_result",
     "data": {
      "text/plain": [
       "array([5, 7, 9])"
      ]
     },
     "metadata": {},
     "execution_count": 126
    }
   ],
   "source": [
    "np.sum(stats, axis=0)"
   ]
  },
  {
   "source": [
    "Média:"
   ],
   "cell_type": "markdown",
   "metadata": {}
  },
  {
   "cell_type": "code",
   "execution_count": 127,
   "metadata": {},
   "outputs": [
    {
     "output_type": "execute_result",
     "data": {
      "text/plain": [
       "3.5"
      ]
     },
     "metadata": {},
     "execution_count": 127
    }
   ],
   "source": [
    "np.average(stats)"
   ]
  },
  {
   "source": [
    "Reorganizar Array  \n",
    "Muitas vezes você quer mudar o formato de array, por exemplo, de 4 elementos pra uma matriz 2x2, ou situações similares.  \n",
    "  \n",
    "Para isso, você pode utilizar a função reshape.  \n",
    "  \n",
    "Reshape  "
   ],
   "cell_type": "markdown",
   "metadata": {}
  },
  {
   "cell_type": "code",
   "execution_count": 129,
   "metadata": {},
   "outputs": [
    {
     "output_type": "stream",
     "name": "stdout",
     "text": [
      "(2, 4)\n"
     ]
    }
   ],
   "source": [
    "before = np.array([[1,2,3,4],[5,6,7,8]])\n",
    "print(before.shape)"
   ]
  },
  {
   "cell_type": "code",
   "execution_count": 131,
   "metadata": {},
   "outputs": [
    {
     "output_type": "execute_result",
     "data": {
      "text/plain": [
       "array([[1],\n",
       "       [2],\n",
       "       [3],\n",
       "       [4],\n",
       "       [5],\n",
       "       [6],\n",
       "       [7],\n",
       "       [8]])"
      ]
     },
     "metadata": {},
     "execution_count": 131
    }
   ],
   "source": [
    "after = before.reshape((8, 1)) # tem que possuir a mesma quantidade!\n",
    "after"
   ]
  },
  {
   "cell_type": "code",
   "execution_count": 132,
   "metadata": {},
   "outputs": [
    {
     "output_type": "execute_result",
     "data": {
      "text/plain": [
       "array([[[1, 2],\n",
       "        [3, 4]],\n",
       "\n",
       "       [[5, 6],\n",
       "        [7, 8]]])"
      ]
     },
     "metadata": {},
     "execution_count": 132
    }
   ],
   "source": [
    "before.reshape(2, 2, 2)"
   ]
  },
  {
   "source": [
    "Anexar verticalmente os vetores"
   ],
   "cell_type": "markdown",
   "metadata": {}
  },
  {
   "cell_type": "code",
   "execution_count": 133,
   "metadata": {},
   "outputs": [],
   "source": [
    "v1 = np.array([1,2,3,4])\n",
    "v2 = np.array([5,6,7,8])"
   ]
  },
  {
   "cell_type": "code",
   "execution_count": 134,
   "metadata": {},
   "outputs": [
    {
     "output_type": "execute_result",
     "data": {
      "text/plain": [
       "array([[1, 2, 3, 4],\n",
       "       [5, 6, 7, 8]])"
      ]
     },
     "metadata": {},
     "execution_count": 134
    }
   ],
   "source": [
    "np.vstack([v1, v2])"
   ]
  },
  {
   "cell_type": "code",
   "execution_count": 135,
   "metadata": {},
   "outputs": [
    {
     "output_type": "execute_result",
     "data": {
      "text/plain": [
       "array([[1, 2, 3, 4],\n",
       "       [5, 6, 7, 8],\n",
       "       [5, 6, 7, 8],\n",
       "       [5, 6, 7, 8]])"
      ]
     },
     "metadata": {},
     "execution_count": 135
    }
   ],
   "source": [
    "np.vstack([v1, v2, v2, v2])"
   ]
  },
  {
   "source": [
    "Apendar horizontalmente os vetores  \n",
    "De forma similar ao anterior:  "
   ],
   "cell_type": "markdown",
   "metadata": {}
  },
  {
   "cell_type": "code",
   "execution_count": 137,
   "metadata": {},
   "outputs": [
    {
     "output_type": "execute_result",
     "data": {
      "text/plain": [
       "array([[1., 1., 1., 1., 0., 0.],\n",
       "       [1., 1., 1., 1., 0., 0.]])"
      ]
     },
     "metadata": {},
     "execution_count": 137
    }
   ],
   "source": [
    "h1 = np.ones((2, 4))\n",
    "h2 = np.zeros((2, 2))\n",
    "np.hstack((h1, h2))"
   ]
  },
  {
   "source": [
    "Funcionalidades extras  \n",
    "Carregar dados de um arquivo  \n",
    "Vamos supor que temos um arquivo data.txt com o seguinte conteúdo:  "
   ],
   "cell_type": "markdown",
   "metadata": {}
  },
  {
   "cell_type": "code",
   "execution_count": null,
   "metadata": {},
   "outputs": [],
   "source": [
    "1,13,21,11,196,75,4,3,34,6,7,8,0,1,2,3,4,5\n",
    "3,42,12,33,766,75,4,55,6,4,3,4,5,6,7,0,11,12\n",
    "1,22,33,11,999,11,2,1,78,0,1,2,9,8,7,1,76,88"
   ]
  },
  {
   "cell_type": "code",
   "execution_count": 139,
   "metadata": {},
   "outputs": [
    {
     "output_type": "execute_result",
     "data": {
      "text/plain": [
       "array([[  1.,  13.,  21.,  11., 196.,  75.,   4.,   3.,  34.,   6.,   7.,\n",
       "          8.,   0.,   1.,   2.,   3.,   4.,   5.],\n",
       "       [  3.,  42.,  12.,  33., 766.,  75.,   4.,  55.,   6.,   4.,   3.,\n",
       "          4.,   5.,   6.,   7.,   0.,  11.,  12.],\n",
       "       [  1.,  22.,  33.,  11., 999.,  11.,   2.,   1.,  78.,   0.,   1.,\n",
       "          2.,   9.,   8.,   7.,   1.,  76.,  88.]])"
      ]
     },
     "metadata": {},
     "execution_count": 139
    }
   ],
   "source": [
    "filedata = np.genfromtxt('data.txt', delimiter=',')\n",
    "filedata"
   ]
  },
  {
   "source": [
    "Podemos gerar uma matriz a partir desse arquivo da seguinte forma:"
   ],
   "cell_type": "markdown",
   "metadata": {}
  },
  {
   "source": [
    "O primeiro argumento é o nome do arquivo.  \n",
    "\n",
    "Importante ressaltar o segundo key argumento, delimiter, no qual você especifica o que separa cada número  \n",
    " individualmente no arquivo. Nesse caso, vírgula, mas podería ser ; por exemplo, espaços, ou tabs.  \n",
    "\n",
    "Podemos notar também que o numpy converteu para float nossos números, apesar de todos serem inteiros.   \n",
    "Ele faz isso como uma medida preventiva dado que ele não sabe ao ler o arquivo qual tipo de dado que é.  \n",
    "\n",
    "Podemos converter manualmente para inteiro usando a função astype:  "
   ],
   "cell_type": "markdown",
   "metadata": {}
  },
  {
   "cell_type": "code",
   "execution_count": 140,
   "metadata": {},
   "outputs": [
    {
     "output_type": "execute_result",
     "data": {
      "text/plain": [
       "array([[  1,  13,  21,  11, 196,  75,   4,   3,  34,   6,   7,   8,   0,\n",
       "          1,   2,   3,   4,   5],\n",
       "       [  3,  42,  12,  33, 766,  75,   4,  55,   6,   4,   3,   4,   5,\n",
       "          6,   7,   0,  11,  12],\n",
       "       [  1,  22,  33,  11, 999,  11,   2,   1,  78,   0,   1,   2,   9,\n",
       "          8,   7,   1,  76,  88]])"
      ]
     },
     "metadata": {},
     "execution_count": 140
    }
   ],
   "source": [
    "filedata.astype('int32')"
   ]
  },
  {
   "source": [
    "Podemos também salvar uma matriz de uma forma mais otimizada não textual (binária) para uso futuro.  \n",
    "  \n",
    "Isso gera um arquivo binário que inclusive salva o tipo de dado, nesse caso, int32.  \n",
    "  \n",
    "Quando lido, vai converter corretamnete o tipo daquele dado.  "
   ],
   "cell_type": "markdown",
   "metadata": {}
  },
  {
   "cell_type": "code",
   "execution_count": 142,
   "metadata": {},
   "outputs": [],
   "source": [
    "np.save('data', filedata.astype('int32'))"
   ]
  },
  {
   "source": [
    "Igual ao método de cima, porém comprime os dados (economiza espaço em disco, porém é um pouco mais lento pra ler)."
   ],
   "cell_type": "markdown",
   "metadata": {}
  },
  {
   "cell_type": "code",
   "execution_count": 143,
   "metadata": {},
   "outputs": [],
   "source": [
    "np.savez_compressed('dataz', filedata)"
   ]
  },
  {
   "source": [
    "Para ler os dados que acabamos de salvar, basta usar o np.load:"
   ],
   "cell_type": "markdown",
   "metadata": {}
  },
  {
   "cell_type": "code",
   "execution_count": 144,
   "metadata": {},
   "outputs": [
    {
     "output_type": "execute_result",
     "data": {
      "text/plain": [
       "array([[  1,  13,  21,  11, 196,  75,   4,   3,  34,   6,   7,   8,   0,\n",
       "          1,   2,   3,   4,   5],\n",
       "       [  3,  42,  12,  33, 766,  75,   4,  55,   6,   4,   3,   4,   5,\n",
       "          6,   7,   0,  11,  12],\n",
       "       [  1,  22,  33,  11, 999,  11,   2,   1,  78,   0,   1,   2,   9,\n",
       "          8,   7,   1,  76,  88]])"
      ]
     },
     "metadata": {},
     "execution_count": 144
    }
   ],
   "source": [
    "np.load('data.npy')"
   ]
  },
  {
   "source": [
    "### Máscara Boleana e Seleção Avançada\n",
    "Conceito super importante no numpy e no pandas é o de máscara booleana.\n",
    "\n",
    "Ao aplicar qualquer operador booleano\n",
    "\n",
    "  - \\>\n",
    "  - <\n",
    "  - <=\n",
    "  - \\>=\n",
    "  - ==\n",
    "  - in  \n",
    "\n",
    "o numpy retorna um array de `True` e `False` no qual ele aplicou elemento a elemento aquele operador.  \n",
    "   \n",
    "Imagine para a matriz abaixo:  "
   ],
   "cell_type": "markdown",
   "metadata": {}
  },
  {
   "cell_type": "code",
   "execution_count": 146,
   "metadata": {},
   "outputs": [
    {
     "output_type": "execute_result",
     "data": {
      "text/plain": [
       "array([[1, 2, 3]])"
      ]
     },
     "metadata": {},
     "execution_count": 146
    }
   ],
   "source": [
    "mat = np.array([1, 10, 20, 30]).reshape(2, 2)\n",
    "arr"
   ]
  },
  {
   "source": [
    "Eu quero saber todos os elementos maiores que 10, eu posso aplicar:"
   ],
   "cell_type": "markdown",
   "metadata": {}
  },
  {
   "cell_type": "code",
   "execution_count": 147,
   "metadata": {},
   "outputs": [
    {
     "output_type": "execute_result",
     "data": {
      "text/plain": [
       "array([[False, False],\n",
       "       [ True,  True]])"
      ]
     },
     "metadata": {},
     "execution_count": 147
    }
   ],
   "source": [
    "mat > 10"
   ]
  },
  {
   "source": [
    "Me é retornado uma matriz de formato (2, 2)  \n",
    "assim como com True na posição dos elementos que são maiores que 10.  \n",
    "  \n",
    "Podemos então fazer essa operação dentro dos colchetes de seleção:"
   ],
   "cell_type": "markdown",
   "metadata": {}
  },
  {
   "cell_type": "code",
   "execution_count": 148,
   "metadata": {},
   "outputs": [
    {
     "output_type": "execute_result",
     "data": {
      "text/plain": [
       "array([20, 30])"
      ]
     },
     "metadata": {},
     "execution_count": 148
    }
   ],
   "source": [
    "mat[mat > 10]"
   ]
  },
  {
   "source": [
    "E será retornado um array com os elementos 20 e 30 como esperado.  \n",
    "  \n",
    "Podemos fazer operações linha a linha ou coluna a coluna através de métodos auxiliares como any ou all:  \n",
    "  \n",
    "any: se qualquer elemento da linha for True, retorna True  \n",
    "all: todos os elementos tem que ser True para retornar True  \n",
    "Exemplos:  \n",
    "  \n",
    "Por coluna:  "
   ],
   "cell_type": "markdown",
   "metadata": {}
  },
  {
   "cell_type": "code",
   "execution_count": 149,
   "metadata": {},
   "outputs": [
    {
     "output_type": "execute_result",
     "data": {
      "text/plain": [
       "array([ True,  True])"
      ]
     },
     "metadata": {},
     "execution_count": 149
    }
   ],
   "source": [
    "np.any(mat > 10, axis=0)"
   ]
  },
  {
   "source": [
    "Por linha:"
   ],
   "cell_type": "markdown",
   "metadata": {}
  },
  {
   "cell_type": "code",
   "execution_count": 150,
   "metadata": {},
   "outputs": [
    {
     "output_type": "execute_result",
     "data": {
      "text/plain": [
       "array([False,  True])"
      ]
     },
     "metadata": {},
     "execution_count": 150
    }
   ],
   "source": [
    "np.any(mat > 10, axis=1)"
   ]
  },
  {
   "source": [
    "Operador AND\n",
    "Similar ao and do python, podemos usar múltiplas condições para filtrar dados da nossa matriz com o operador &."
   ],
   "cell_type": "markdown",
   "metadata": {}
  },
  {
   "cell_type": "code",
   "execution_count": 151,
   "metadata": {},
   "outputs": [
    {
     "output_type": "execute_result",
     "data": {
      "text/plain": [
       "array([20])"
      ]
     },
     "metadata": {},
     "execution_count": 151
    }
   ],
   "source": [
    "filt = (mat > 10) & (mat <= 20)\n",
    "mat[filt]\n"
   ]
  },
  {
   "source": [
    "> Observação: note que os colchetes além de melhorarem a legibilidade,  \n",
    "> são necessárias devido a ordem de precedência dos operadores python.   \n",
    "> Se não colocarmos os colchetes, dará um erro."
   ],
   "cell_type": "markdown",
   "metadata": {}
  },
  {
   "source": [
    "Operador OR  \n",
    "Similar ao or, só que devemos utilizar |:"
   ],
   "cell_type": "markdown",
   "metadata": {}
  },
  {
   "cell_type": "code",
   "execution_count": 152,
   "metadata": {},
   "outputs": [
    {
     "output_type": "execute_result",
     "data": {
      "text/plain": [
       "array([ 1, 20, 30])"
      ]
     },
     "metadata": {},
     "execution_count": 152
    }
   ],
   "source": [
    "filt = (mat == 1) | (mat >= 20)\n",
    "mat[filt]"
   ]
  },
  {
   "source": [
    "Operador NOT  \n",
    "Similar ao not, mas devemos utilizar um til ~"
   ],
   "cell_type": "markdown",
   "metadata": {}
  },
  {
   "cell_type": "code",
   "execution_count": 154,
   "metadata": {},
   "outputs": [
    {
     "output_type": "execute_result",
     "data": {
      "text/plain": [
       "array([10])"
      ]
     },
     "metadata": {},
     "execution_count": 154
    }
   ],
   "source": [
    "filt = (mat == 1) | (mat >= 20)\n",
    "mat[~filt]"
   ]
  },
  {
   "cell_type": "code",
   "execution_count": null,
   "metadata": {},
   "outputs": [],
   "source": [
    "array([[ True,  True,  True,  True,  True, False,  True,  True,  True,\n",
    "         True,  True,  True,  True,  True,  True,  True,  True,  True],\n",
    "       [ True,  True,  True,  True,  True, False,  True, False,  True,\n",
    "         True,  True,  True,  True,  True,  True,  True,  True,  True],\n",
    "       [ True,  True,  True,  True,  True,  True,  True,  True, False,\n",
    "         True,  True,  True,  True,  True,  True,  True, False, False]])"
   ]
  },
  {
   "source": [
    "Seleção passando listas  \n",
    "Podemos selecionar elementos específicos de um array passando uma lista de posições:  "
   ],
   "cell_type": "markdown",
   "metadata": {}
  },
  {
   "cell_type": "code",
   "execution_count": 155,
   "metadata": {},
   "outputs": [
    {
     "output_type": "execute_result",
     "data": {
      "text/plain": [
       "array([2, 3, 9])"
      ]
     },
     "metadata": {},
     "execution_count": 155
    }
   ],
   "source": [
    "a = np.array([1, 2, 3, 4, 5, 6, 7, 8, 9])\n",
    "a[[1, 2, 8]]"
   ]
  },
  {
   "source": [
    "Referências  \n",
    "https://github.com/numpy/numpy  \n",
    "https://docs.scipy.org/doc/numpy/reference/  \n",
    "https://docs.scipy.org/doc/numpy/reference/routines.math.html  \n",
    "https://docs.scipy.org/doc/numpy/reference/routines.linalg.html  "
   ],
   "cell_type": "markdown",
   "metadata": {}
  }
 ]
}