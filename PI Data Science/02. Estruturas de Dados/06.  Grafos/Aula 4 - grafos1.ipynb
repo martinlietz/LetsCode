{
 "cells": [
  {
   "cell_type": "markdown",
   "metadata": {},
   "source": [
    "# Aula 4 - Grafos 1\n",
    "\n",
    "Na aula de hoje, vamos explorar os seguintes tópicos em Python:\n",
    "\n",
    "- 1) Grafos"
   ]
  },
  {
   "cell_type": "markdown",
   "metadata": {},
   "source": [
    "_________"
   ]
  },
  {
   "cell_type": "markdown",
   "metadata": {},
   "source": [
    "## 1) Grafos / Graph\n",
    "\n",
    "Um grafo é um par de conjuntos, `G = (V, E)`, sendo um deles o conjunto de **vértices** `V` e o outro um conunto de **arestas** `E`, onde cada aresta é um par de vértices.\n",
    "\n",
    "Os vértices, muitas vezes também chamados de **nós**, são os itens de interesse do que se quer modelar, e as arestas são as conexoes ou relações entre estes itens.\n",
    "\n",
    "Por exemplo, em uma aplicação logística, poderíamos modelar cada **local de entrega** como um vértice do grafo e as arestas indicariam se existe um **caminho conectando estes dois pontos diretamente**.\n",
    "\n",
    "<img src=\"https://algoritmosempython.com.br/images/algoritmos-python/algoritmos-grafos/ModelagemGrafosExemplo.png\" width=200>\n",
    "\n",
    "As arestas podem ser direcionadas (mão única) ou não direcionadas (mão dupla).\n",
    "\n",
    "<img src=\"https://www.ime.usp.br/~pf/algoritmos_para_grafos/aulas/figs/Sedgewick-Wayne/TinyNetworkOnly.png\" width=200>\n",
    "\n",
    "\n",
    "Além disso, as arestas podem ter um rótulo associado à elas, indicando por exemplo o custo de percorrer um caminho, ou a distância entre dois pontos de interesse.\n",
    "\n",
    "<img src=\"https://upload.wikimedia.org/wikipedia/commons/thumb/a/a8/Prim_Algorithm_0.svg/250px-Prim_Algorithm_0.svg.png\" width=200>\n",
    "\n",
    "Quando existe uma aresta conectando um vértice `u` à um vértice `v` (`u-v`), dizemos que `v` é vizinho de `u`.\n",
    "\n",
    "Em grafos direcionados, é comum usarmos a nomenclatura de árvores e dizer que `u` é pai de `v` caso exista uma aresta direcionada `u -> v`"
   ]
  },
  {
   "cell_type": "markdown",
   "metadata": {},
   "source": [
    "_________"
   ]
  },
  {
   "cell_type": "markdown",
   "metadata": {},
   "source": [
    "\n",
    "### 1.1) Como representar um grafo no computador?\n",
    "\n",
    "Existem diferentes maneiras de se representar o conceito de grafo no computador, e cada uma pode ser mais ou menos indicada dependendo do problema que se quer resolver ou da forma como se deciciu modelá-lo.\n",
    "Vamos falar das duas maneiras mais comuns de representação.\n",
    "\n",
    "\n",
    "\n"
   ]
  },
  {
   "cell_type": "markdown",
   "metadata": {},
   "source": [
    "#### Matriz de adjacências\n",
    "\n",
    "Uma das maneiras mais simples de representar um grafo é utilizando uma **matriz de adjacências**.\n",
    "\n",
    "Vemos um exemplo de visualização dessa estrutura na figura abaixo.\n",
    "\n",
    "Para criar um grafo como uma matriz de adjacências, definimos uma matriz `M` de dimensões `n x n`, sendo `n` a quantidade de vértices.\n",
    "\n",
    "Inicializamos a matriz com zeros, e \"marcamos\" `M[u][v]` com um valor diferente de zero caso exista uma aresta conectando o vértice `u` ao vértice `v`.\n",
    "\n",
    "<img src=\"https://s3-sa-east-1.amazonaws.com/lcpi/1f5e0fd3-572c-479a-8a53-74d8212c5e5c.jpg\" width=500>\n",
    "\n",
    "No exemplo da figura acima vemos um grafo **não direcionado** e por isso temos a matriz **diagonalmente simétrica** (`M[u][v] == M[v][u]`). \n",
    "\n",
    "\n",
    "> Ou seja, a aresta `u-v` é \"de mão dupla\".\n",
    "\n",
    "\n",
    "Mas com essa estrutura também é possivel modelar grafos direcioinados, basta não impor a simetria.\n",
    "\n",
    "Dica: a ponta da flecha é a linha (a ideia é que a flecha sai da linha e vai pra coluna)\n",
    "\n",
    "\n",
    "<img src=\"https://algoritmosempython.com.br/images/algoritmos-python/algoritmos-grafos/GrafoMatrizAdjacencia.png\" width=400>\n",
    "\n",
    "Essa estrutura também permite representar arestas com custo, basta utilizar o valor do custo para marcar a aresta no lugar da constante 1 que utilizamos.\n",
    "\n",
    "<img src=\"https://www.researchgate.net/profile/Paula-Gabrielly-Rodrigues/publication/326722760/figure/fig5/AS:654507780345864@1533058223380/Figura-4-7-Grafo-nao-ponderado-A-e-ponderado-B-com-suas-respectivas-matrizes-de.png\" width=500>"
   ]
  },
  {
   "cell_type": "markdown",
   "metadata": {},
   "source": [
    "#### Lista de adjacências\n",
    "\n",
    "Embora a matriz de adjacências seja uma maneira simples e flexível para representação dos grafos, podemos ver que, principalmente para **grafos esparsos (grafos com poucas arestas)**, ela tende a gerar um desperdício de espaço (armazenando um monte de zeros para as conexões que não existem no grafo).\n",
    "\n",
    "Uma alternativa que mitiga esse desperdício de espaço é a **lista de adjacêcias**.\n",
    "\n",
    "Nessa representação, cada vértice está associado a uma lista com seus vizinhos.\n",
    "\n",
    "Assim, não gastamos espaço representando a ausência de arestas.\n",
    "\n",
    "<img src=\"https://s3-sa-east-1.amazonaws.com/lcpi/9775dad0-c900-42e9-87fa-41d78b73444c.jpg\" width=500>\n",
    "\n",
    "Mas e se o grafo tiver uma grande quantidade de arestas? Ainda estariamos economizando espaço?"
   ]
  },
  {
   "cell_type": "markdown",
   "metadata": {},
   "source": [
    "#### Comparação das estruturas\n",
    "\n",
    "Para um grafo `G=(V,E)` composto de vértices `V` e arestas `E`, listamos a complexidade das operações mais básicas.\n",
    "\n",
    "|                            \t| Matriz de Adj. \t| Lista de Adj.  \t|\n",
    "|----------------------------\t|----------------\t|----------------\t|\n",
    "| inserir aresta             \t| O(1)           \t| O(1)           \t|\n",
    "| remover aresta             \t| O(1)           \t| O(grau_max(G)) \t|\n",
    "| verificar adj. de dois nós \t| O(1)           \t| O(grau_max(G)) \t|\n",
    "| listar vizinhos de um nó   \t| O(len(V))         \t| O(grau_max(G)) \t|\n",
    "| espaço de armazenamento    \t| O(len(V)^2 )      \t| O(len(V) + len(E))  |\n",
    "\n",
    "Obs: O **grau** de um vértice, é a **quantidade de arestas que incide sobre esse vértice.** O grau máximo de um grafo `G` é o maior grau dentre todos os vértices de `G`.\n",
    "\n",
    "Será que faz sentido dizer que uma representação é melhor que a outra?\n",
    "Em que situações seria melhor usar a matriz? E a lista?"
   ]
  },
  {
   "cell_type": "markdown",
   "metadata": {},
   "source": [
    "_________"
   ]
  },
  {
   "cell_type": "markdown",
   "metadata": {},
   "source": [
    "### 1.2) Implementação\n",
    "\n",
    "Abaixo vemos um exemplo de implementação de grafo como **matriz de adjacências**."
   ]
  },
  {
   "cell_type": "code",
   "execution_count": 4,
   "metadata": {},
   "outputs": [],
   "source": [
    "# Matriz de Adjacências\n",
    "\n",
    "class GrafoMA:\n",
    "    \n",
    "    def __init__(self, n):\n",
    "        \n",
    "        # lista de listas inicializada em zero, n x n\n",
    "        self.adj = [[0]*n for _ in range(n)]\n",
    "        \n",
    "\n",
    "    def __repr__(self):\n",
    "        \n",
    "        return str('\\n'.join([str(line) for line in self.adj]))\n",
    "    \n",
    "    \n",
    "    def add_arrow(self, a, b, weight=1):\n",
    "        \n",
    "        self.adj[a][b] = weight\n",
    "        \n",
    "\n",
    "    def add_edge(self, a, b, weight=1, mao_dupla=True):\n",
    "        \n",
    "        self.add_arrow(a, b, weight)\n",
    "        \n",
    "        if mao_dupla:\n",
    "            self.add_arrow(b, a, weight)\n",
    "            \n",
    "            \n",
    "    def get_neighbors(self, n):\n",
    "        \n",
    "        return [i for i, v in enumerate(self.adj[n]) if v != 0]"
   ]
  },
  {
   "cell_type": "code",
   "execution_count": null,
   "metadata": {},
   "outputs": [],
   "source": [
    "g1 = GrafoMA(4)\n",
    "\n",
    "g1"
   ]
  },
  {
   "cell_type": "code",
   "execution_count": null,
   "metadata": {},
   "outputs": [],
   "source": [
    "g1.add_edge(0, 1)\n",
    "\n",
    "g1"
   ]
  },
  {
   "cell_type": "code",
   "execution_count": null,
   "metadata": {},
   "outputs": [],
   "source": [
    "g1.add_edge(2, 3, mao_dupla = False)\n",
    "\n",
    "g1"
   ]
  },
  {
   "cell_type": "code",
   "execution_count": null,
   "metadata": {},
   "outputs": [],
   "source": [
    "g1.add_edge(0, 3, 10, mao_dupla = False)\n",
    "\n",
    "g1"
   ]
  },
  {
   "cell_type": "code",
   "execution_count": null,
   "metadata": {},
   "outputs": [],
   "source": [
    "g1.get_neighbors(0)"
   ]
  },
  {
   "cell_type": "code",
   "execution_count": null,
   "metadata": {},
   "outputs": [],
   "source": [
    "g1.get_neighbors(3)"
   ]
  },
  {
   "cell_type": "markdown",
   "metadata": {},
   "source": [
    "Podemos também implementar a lista de adjacências:"
   ]
  },
  {
   "cell_type": "code",
   "execution_count": null,
   "metadata": {},
   "outputs": [],
   "source": [
    "class GrafoLA:\n",
    "    \n",
    "    def __init__(self, n):\n",
    "        \n",
    "        self.adj = [[] for _ in range(n)]\n",
    "    \n",
    "    \n",
    "    def __repr__(self):\n",
    "        \n",
    "        return '\\n'.join([str(line) for line in self.adj])\n",
    "    \n",
    "    \n",
    "    def add_arrow(self, n1, n2):\n",
    "        \n",
    "        self.adj[n1].append(n2)\n",
    "        \n",
    "    \n",
    "    def add_edge(self, n1, n2, mao_dupla=True):\n",
    "        \n",
    "        self.adj[n1].append(n2)\n",
    "        \n",
    "        if mao_dupla:\n",
    "            \n",
    "            self.adj[n2].append(n1)\n",
    "            \n",
    "        \n",
    "    def get_neighbors(self, n):\n",
    "        \n",
    "        return self.adj[n]"
   ]
  },
  {
   "cell_type": "code",
   "execution_count": 1,
   "metadata": {},
   "outputs": [
    {
     "output_type": "error",
     "ename": "NameError",
     "evalue": "name 'GrafoLA' is not defined",
     "traceback": [
      "\u001b[1;31m---------------------------------------------------------------------------\u001b[0m",
      "\u001b[1;31mNameError\u001b[0m                                 Traceback (most recent call last)",
      "\u001b[1;32m<ipython-input-1-58fb6f3d8497>\u001b[0m in \u001b[0;36m<module>\u001b[1;34m\u001b[0m\n\u001b[1;32m----> 1\u001b[1;33m \u001b[0mg2\u001b[0m \u001b[1;33m=\u001b[0m \u001b[0mGrafoLA\u001b[0m\u001b[1;33m(\u001b[0m\u001b[1;36m4\u001b[0m\u001b[1;33m)\u001b[0m\u001b[1;33m\u001b[0m\u001b[1;33m\u001b[0m\u001b[0m\n\u001b[0m\u001b[0;32m      2\u001b[0m \u001b[1;33m\u001b[0m\u001b[0m\n\u001b[0;32m      3\u001b[0m \u001b[0mg2\u001b[0m\u001b[1;33m\u001b[0m\u001b[1;33m\u001b[0m\u001b[0m\n",
      "\u001b[1;31mNameError\u001b[0m: name 'GrafoLA' is not defined"
     ]
    }
   ],
   "source": [
    "g2 = GrafoLA(4)\n",
    "\n",
    "g2"
   ]
  },
  {
   "cell_type": "code",
   "execution_count": null,
   "metadata": {},
   "outputs": [],
   "source": [
    "g2.add_edge(0, 1)\n",
    "\n",
    "g2.add_edge(2, 3, mao_dupla = False)\n",
    "\n",
    "g2.add_edge(0, 3, mao_dupla = False)\n",
    "\n",
    "g2"
   ]
  },
  {
   "cell_type": "code",
   "execution_count": null,
   "metadata": {},
   "outputs": [],
   "source": [
    "g2.get_neighbors(0)"
   ]
  },
  {
   "cell_type": "code",
   "execution_count": null,
   "metadata": {},
   "outputs": [],
   "source": [
    "g2.get_neighbors(3)"
   ]
  },
  {
   "cell_type": "markdown",
   "metadata": {},
   "source": [
    "Pergunta: como representar grafos ponderados com lista de adjacência?"
   ]
  },
  {
   "cell_type": "code",
   "execution_count": 6,
   "metadata": {},
   "outputs": [],
   "source": [
    "# Matriz de Adjacências\n",
    "class GraphAM:\n",
    "    def __init__(self, n):\n",
    "        self.adj = [[0]* n for _ in range(n)]\n",
    "\n",
    "    def __repr__(self):\n",
    "        return str('\\n'.join([str(line) for line in self.adj]))\n",
    "\n",
    "    def add_arrow(self, a, b, weight=1):\n",
    "        self.adj[a][b] = weight\n",
    "\n",
    "    def add_edge(self, a, b, weight=1):\n",
    "        self.add_arrow(a, b, weight)\n",
    "        self.add_arrow(b, a, weight)\n",
    "\n",
    "    def remove_arrow(self, a, b):\n",
    "        self.adj[a][b] = 0\n",
    "\n",
    "    def remove_edge(self, a, b):\n",
    "        self.remove_arrow(a, b)\n",
    "        self.remove_arrow(b, a)\n",
    "\n",
    "    def get_neighbors(self, a, get_weights=False):\n",
    "        if get_weights:\n",
    "            return [(i, v) for i, v in enumerate(self.adj[a]) if v]\n",
    "        return [i for i, v in enumerate(self.adj[a]) if v]\n",
    "\n",
    "    def __len__(self):\n",
    "        return len(self.adj)\n",
    "    def __len__(self):\n",
    "        return len(self.adj)"
   ]
  },
  {
   "source": [
    "**exercício 1 - na aula de segunda!!**\n",
    "Enunciado   \n",
    "5. Considere um determinado número de cidades (`N`) e uma determinada quantidade de rotas (`M`) que você sabe que existem entre aquelas cidades.     \n",
    "Com base nisso, você deve criar um script em Python que recebe um número N de cidades e um número M de caminhos que existem entre elas.     \n",
    "Em seguida, seu programa vai ler quais são esses M caminhos e a distância deles.   "
   ],
   "cell_type": "markdown",
   "metadata": {}
  },
  {
   "cell_type": "code",
   "execution_count": 28,
   "metadata": {},
   "outputs": [
    {
     "output_type": "stream",
     "name": "stdout",
     "text": [
      "[0, 0, 0, 0, 0, 0, 0]\n[0, 0, 0, 1, 0, 0, 0]\n[0, 0, 0, 1, 0, 1, 0]\n[0, 1, 1, 0, 1, 0, 0]\n[0, 0, 0, 1, 0, 1, 1]\n[0, 0, 1, 0, 1, 1, 1]\n[0, 0, 0, 0, 1, 1, 0]\n"
     ]
    }
   ],
   "source": [
    "gQ1 = GraphAM(7)\n",
    "gQ1.add_edge(1, 3)\n",
    "gQ1.add_edge(3, 4)\n",
    "gQ1.add_edge(3, 2)\n",
    "gQ1.add_edge(2, 5)\n",
    "gQ1.add_edge(5, 5)\n",
    "gQ1.add_edge(4, 5)\n",
    "gQ1.add_edge(4, 6)\n",
    "gQ1.add_edge(5, 6)\n",
    "\n",
    "print(gQ1)"
   ]
  },
  {
   "cell_type": "code",
   "execution_count": 7,
   "metadata": {},
   "outputs": [
    {
     "output_type": "stream",
     "name": "stdout",
     "text": [
      "[0, 7, 0, 5, 0, 0, 0]\n[7, 0, 8, 9, 7, 0, 0]\n[0, 8, 0, 0, 5, 0, 0]\n[5, 9, 0, 0, 1, 6, 0]\n[0, 7, 5, 1, 0, 8, 9]\n[0, 0, 0, 6, 8, 0, 1]\n[0, 0, 0, 0, 9, 1, 0]\n"
     ]
    }
   ],
   "source": [
    "# exercício 1 - na aula de segunda!!\n",
    "g = GraphAM(7)\n",
    "g.add_edge(0, 1, weight=7)\n",
    "g.add_edge(0, 3, weight=5)\n",
    "g.add_edge(1, 2, weight=8)\n",
    "g.add_edge(1, 3, weight=9)\n",
    "g.add_edge(1, 4, weight=7)\n",
    "g.add_edge(2, 4, weight=5)\n",
    "g.add_edge(3, 4, weight=1)\n",
    "g.add_edge(3, 5, weight=6)\n",
    "g.add_edge(4, 5, weight=8)\n",
    "g.add_edge(4, 6, weight=9)\n",
    "g.add_edge(5, 6, weight=1)\n",
    "\n",
    "print(g)"
   ]
  },
  {
   "cell_type": "code",
   "execution_count": 8,
   "metadata": {},
   "outputs": [],
   "source": [
    "# exercício 2 - utilize o numpy para implementar a matriz de adjacência!\n",
    "import numpy as np"
   ]
  },
  {
   "cell_type": "code",
   "execution_count": 25,
   "metadata": {},
   "outputs": [],
   "source": [
    "# Matriz de Adjacências\n",
    "class GraphAMNumpy:\n",
    "    def __init__(self, n):\n",
    "        s = (n,n)\n",
    "        self.adj = np.zeros(s)\n",
    "\n",
    "    def __repr__(self):\n",
    "        return str(self.adj)\n",
    "\n",
    "    def add_arrow(self, a, b, weight=1):\n",
    "        self.adj[a][b] = weight\n",
    "\n",
    "    def add_edge(self, a, b, weight=1):\n",
    "        self.add_arrow(a, b, weight)\n",
    "        self.add_arrow(b, a, weight)\n",
    "\n",
    "    def remove_arrow(self, a, b):\n",
    "        self.adj[a][b] = 0\n",
    "\n",
    "    def remove_edge(self, a, b):\n",
    "        self.remove_arrow(a, b)\n",
    "        self.remove_arrow(b, a)\n",
    "\n",
    "    def get_neighbors(self, a, get_weights=False):\n",
    "        if get_weights:\n",
    "            return [(i, v) for i, v in enumerate(self.adj[a]) if v]\n",
    "        return [i for i, v in enumerate(self.adj[a]) if v]\n",
    "\n",
    "    def __len__(self):\n",
    "        return len(self.adj)\n",
    "    def __len__(self):\n",
    "        return len(self.adj)"
   ]
  },
  {
   "cell_type": "code",
   "execution_count": 26,
   "metadata": {},
   "outputs": [
    {
     "output_type": "stream",
     "name": "stdout",
     "text": [
      "[[0. 7. 0. 5. 0. 0. 0.]\n [7. 0. 8. 9. 7. 0. 0.]\n [0. 8. 0. 0. 5. 0. 0.]\n [5. 9. 0. 0. 1. 6. 0.]\n [0. 7. 5. 1. 0. 8. 9.]\n [0. 0. 0. 6. 8. 0. 1.]\n [0. 0. 0. 0. 9. 1. 0.]]\n"
     ]
    }
   ],
   "source": [
    "g_np = GraphAMNumpy(7)\n",
    "g_np.add_edge(0, 1, weight=7)\n",
    "g_np.add_edge(0, 3, weight=5)\n",
    "g_np.add_edge(1, 2, weight=8)\n",
    "g_np.add_edge(1, 3, weight=9)\n",
    "g_np.add_edge(1, 4, weight=7)\n",
    "g_np.add_edge(2, 4, weight=5)\n",
    "g_np.add_edge(3, 4, weight=1)\n",
    "g_np.add_edge(3, 5, weight=6)\n",
    "g_np.add_edge(4, 5, weight=8)\n",
    "g_np.add_edge(4, 6, weight=9)\n",
    "g_np.add_edge(5, 6, weight=1)\n",
    "\n",
    "print(g_np)"
   ]
  },
  {
   "cell_type": "markdown",
   "metadata": {},
   "source": [
    "_________"
   ]
  },
  {
   "cell_type": "code",
   "execution_count": 21,
   "metadata": {},
   "outputs": [
    {
     "output_type": "error",
     "ename": "TypeError",
     "evalue": "'GraphAMNumpy' object is not subscriptable",
     "traceback": [
      "\u001b[1;31m---------------------------------------------------------------------------\u001b[0m",
      "\u001b[1;31mTypeError\u001b[0m                                 Traceback (most recent call last)",
      "\u001b[1;32m<ipython-input-21-6073cc3bf39c>\u001b[0m in \u001b[0;36m<module>\u001b[1;34m\u001b[0m\n\u001b[1;32m----> 1\u001b[1;33m \u001b[0mg_np\u001b[0m\u001b[1;33m[\u001b[0m\u001b[1;36m3\u001b[0m\u001b[1;33m,\u001b[0m\u001b[1;36m2\u001b[0m\u001b[1;33m]\u001b[0m\u001b[1;33m\u001b[0m\u001b[1;33m\u001b[0m\u001b[0m\n\u001b[0m",
      "\u001b[1;31mTypeError\u001b[0m: 'GraphAMNumpy' object is not subscriptable"
     ]
    }
   ],
   "source": [
    "g_np[3,2]"
   ]
  },
  {
   "cell_type": "markdown",
   "metadata": {},
   "source": [
    "### 1.3) Percurso\n",
    "\n",
    "Quando utilizamos um grafo para modelar um problema, muitas vezes temos o interesse de **percorrer** esse grafo (Graph Traversal ou Search).\n",
    "\n",
    "Percorrer um grafo é passar por cada nó \"visitando\" o nó apenas uma vez.\n",
    "\n",
    "Muitas vezes o interesse está não na visita em si, mas no **caminho percorrido para se chegar a esse nó**, ou na **ordem em que estes nós são visitados** (veremos mais abaixo como um destes algoritmos de percurso pode ser usado para encontrar o menor caminho entre dois nós, por exemplo).\n",
    "\n",
    "E é por isso que os algoritmos de percurso precisam respeitar as arestas do grafo e não podem simplesmente percorrer a lista de vértices.\n"
   ]
  },
  {
   "cell_type": "markdown",
   "metadata": {},
   "source": [
    "Veremos, abaixo, os principais algoritmos de percurso!"
   ]
  },
  {
   "cell_type": "markdown",
   "metadata": {},
   "source": [
    "<img src=\"https://miro.medium.com/max/1280/0*miG6xdyYzdvrB67S.gif\" width=450>"
   ]
  },
  {
   "cell_type": "markdown",
   "metadata": {},
   "source": [
    "#### Busca em profundidade (DFS - Depth First Search)\n",
    "\n",
    "Uma das maneiras de se percorrer um grafo é a busca em profundidade, que pode ser facilmente implementada de maneira recursiva.\n",
    "\n",
    "Sempre que a DFS encontra **um vértice não visitado** ela segue por esse vértice.\n",
    "\n",
    "Ela tem esse nome pois ao percorrer o grafo ela \"verticaliza\".\n",
    "\n",
    "Ou seja, ao escolher um \"ramo\" do grafo, segue por esse ramo até que ele termine.\n",
    "\n",
    "Abaixo temos um exemplo de como a busca em profundidade percorreria esse grafo partindo do nó 0.\n",
    "\n",
    "<img src=\"https://s3-sa-east-1.amazonaws.com/lcpi/0084b080-e980-46d0-8694-55895333a3e7.jpg\" width=600>\n",
    "\n",
    "Veja que, para que a nossa função não fique visitando os nós incessantemente (devido a possivel existência de ciclos no grafo) precisamos marcar de alguma forma que um nó já foi visitado."
   ]
  },
  {
   "cell_type": "markdown",
   "metadata": {},
   "source": [
    "#### Busca em largura (BFS - Breadth First Search)\n",
    "\n",
    "A busca em largura pode ser vista como uma maneira um pouco mais estruturada de se percorrer o grafo, e também um pouquinho mais complicaa de se implementar.\n",
    "\n",
    "A BFS visita os nós do grafo em \"camadas\" partindo da origem, cada camada está uma aresta a mais de distância da origem em relação a camada anterior.\n",
    "Ou seja, partindo de um nó origem `s` os nós diretamente conectados a `s` (seus vizinhos) são visitados primeiro antes dos nós conectados aos vizinhos de `s` (seus \"vizinhos de segundo grau\").\n",
    "\n",
    "A figura abaixo mostra um exemplo gráfico desse comportamento em camadas.\n",
    "\n",
    "<img src=\"https://s3-sa-east-1.amazonaws.com/lcpi/a67dd98f-8578-4bda-a710-903d7de9ceb6.jpg\" width=600>\n",
    "\n",
    "Note que a ordem de visitação imposta pela BFS é parcial.\n",
    "Existem diferentes ordenações possíveis que qualificam como percurso BFS, o importante é respeitar as camadas.\n",
    "Por exemplo, não importa se 1 foi visitado antes do 3 ou se o 3 foi visitado antes do 1 desde que ambos tenham sido visitados antes de 2, 4 e 5.\n"
   ]
  },
  {
   "cell_type": "markdown",
   "metadata": {},
   "source": [
    "_________"
   ]
  },
  {
   "cell_type": "markdown",
   "metadata": {},
   "source": [
    "### 1.4) Menor caminho\n",
    "\n",
    "Uma das aplicações mais comuns em grafos é o cálculo do menor caminho entre vértices.\n",
    "\n",
    "Aqui veremos o problema conhecido como **Single Source Shortest Path** posto da seguinte forma: \n",
    "\n",
    "Dado um grafo `G` e um **vértice origem** `s` encontre o **menor caminho** partindo de `s` até **cada vértice** `v` pertencente a `G`.\n",
    " \n",
    "Vamos começar com o caso de grafos sem custo (ou custo constante = 1) nas arestas, ou seja, o menor caminho nesse caso é o **caminho com menos arestas**.\n",
    "\n",
    "> Considere a busca em largura (BFS).\n",
    "\n",
    "Já sabemos que um nó que está a uma aresta de distância da origem será visitado na primeira camada, um nó que está a duas arestas da origem será visitado na segunda, e assim por diante.\n",
    "\n",
    "Ou seja, os nós já são visitados na ordem de menor caminho e a camada dá o custo desse caminho!!\n",
    "\n",
    "\n"
   ]
  },
  {
   "cell_type": "markdown",
   "metadata": {},
   "source": [
    "#### Menor caminho para grafos com peso nas arestas\n",
    "\n",
    "Grafos sem custo nas arestas são muito utilizados e nesses casos a BFS modificada será suficiente para encontrar o menor caminho.\n",
    "\n",
    "Porém, muitas aplicações precisam levar em conta custos diferentes para cada aresta.\n",
    "\n",
    "Por exemplo a **distância entre duas cidades** ou o **custo de pedágio** para se utilizar determinada rodovia.\n",
    "\n",
    "A figura abaixo mostra um grafo com custos nas aretas.\n",
    "\n",
    "Note que a BFS indicaria que o menor caminho de 0 a 1 seria simplesmente 0->1, mas podemos ver que 0->2->1, embora utilize mais arestas, tem um custo menor. E agora?\n",
    "\n",
    "<img src=\"https://s3-sa-east-1.amazonaws.com/lcpi/bafb6b0b-7d19-47d8-8b93-293e84b7a7cd.jpg\" width=800>\n",
    "\n",
    "Existem diferentes algoritmos para encontrar o menor caminho entre todos os vértices e um vértice origem (*Single Source Shortest Path Problem*).\n",
    "\n"
   ]
  },
  {
   "cell_type": "markdown",
   "metadata": {},
   "source": [
    "## Algoritmo de Dijkstra\n",
    "\n",
    "Aqui vamos utilizar o algoritmo de Dijkstra por ser um dos mais famosos.\n",
    "\n",
    "Este algoritmo calcula **a menor distância entre um nó e todos os outros nós no grafo**.\n",
    "\n",
    "Considere o grafo a seguir:\n",
    "\n",
    "<img src=\"https://www.codingame.com/servlet/fileservlet?id=14497257275137\" width=300>\n",
    "\n",
    "Vamos calcular o menor caminho entre o nó **C** e todos os outros nó do grafo!!\n",
    "\n",
    "Durante o algoritmo, vamos marcar todos os nós **com a menor distância entre este nó e o nó C**.\n",
    "\n",
    "A distância entre o nó C e ele mesmo é 0.\n",
    "\n",
    "Inicialmente, a distância entre todos os nós é $\\infty$. Vai ficar claro porque.\n",
    "\n",
    "A cada iteração, vamos também focar em um único nó, o **nó atual**, que será marcado por um ponto vermelho.\n",
    "\n",
    "<img src=\"https://www.codingame.com/servlet/fileservlet?id=14497265537633\" width=300>\n",
    "\n",
    "Nós vamos também criar listas para os menores caminhos! Isso vai permitir termos não somente o comprimento dos menores caminhos entre os nós e **C**, como também o caminho em si!\n",
    "\n",
    "Inicialmente, temos:\n",
    "\n",
    "```\n",
    "Caminho entre C e A = []\n",
    "Caminho entre C e B = []\n",
    "Caminho entre C e C = C\n",
    "Caminho entre C e D = []\n",
    "Caminho entre C e E = []\n",
    "```\n",
    "\n",
    "As listas serão alteradas toda vez que atualizarmos as distâncias mínimas, de modo que as listas finais expressarão o menor caminho!\n",
    "\n",
    "Vamos ver o passo a passo:\n",
    "\n",
    "### Nó atual: C\n",
    "\n",
    "<img src=\"https://www.codingame.com/servlet/fileservlet?id=14497279927597\" width=300>\n",
    "\n",
    "<img src=\"https://www.codingame.com/servlet/fileservlet?id=14497284902206\" width=300>\n",
    "\n",
    "<img src=\"https://www.codingame.com/servlet/fileservlet?id=14497297264677\" width=300>\n",
    "\n",
    "<img src=\"https://www.codingame.com/servlet/fileservlet?id=14497301316895\" width=300>\n",
    "\n",
    "```\n",
    "Caminho entre C e A = [C, A]\n",
    "Caminho entre C e B = [C, B]\n",
    "Caminho entre C e C = [C]\n",
    "Caminho entre C e D = [C, D]\n",
    "Caminho entre C e E = []\n",
    "```\n",
    "\n",
    "### Nó atual: A\n",
    "\n",
    "<img src=\"https://www.codingame.com/servlet/fileservlet?id=14497311165233\" width=300>\n",
    "\n",
    "<img src=\"https://www.codingame.com/servlet/fileservlet?id=14497327460640\" width=300>\n",
    "\n",
    "```\n",
    "Caminho entre C e A = [C, A]\n",
    "Caminho entre C e B = [C, A, B]\n",
    "Caminho entre C e C = [C]\n",
    "Caminho entre C e D = [C, D]\n",
    "Caminho entre C e E = []\n",
    "```\n",
    "\n",
    "### Nó atual: D\n",
    "\n",
    "<img src=\"https://www.codingame.com/servlet/fileservlet?id=14497330975308\" width=300>\n",
    "\n",
    "```\n",
    "Caminho entre C e A = [C, A]\n",
    "Caminho entre C e B = [C, A, B]\n",
    "Caminho entre C e C = [C]\n",
    "Caminho entre C e D = [C, D]\n",
    "Caminho entre C e E = [C, D, E]\n",
    "```\n",
    "\n",
    "### Nó atual: B\n",
    "\n",
    "<img src=\"https://www.codingame.com/servlet/fileservlet?id=14497346742885\" width=300>\n",
    "\n",
    "### Nó atual: E\n",
    "\n",
    "<img src=\"https://www.codingame.com/servlet/fileservlet?id=14497350226741\" width=300>\n",
    "\n",
    "### FIM\n",
    "\n",
    "<img src=\"https://www.codingame.com/servlet/fileservlet?id=14497361633811\" width=300>\n",
    "\n",
    "```\n",
    "Caminho entre C e A = [C, A]\n",
    "Caminho entre C e B = [C, A, B]\n",
    "Caminho entre C e C = [C]\n",
    "Caminho entre C e D = [C, D]\n",
    "Caminho entre C e E = [C, A, D, E]\n",
    "```\n",
    "\n",
    "Esquematicamente, temos o algoritmo:\n",
    "\n",
    "\n",
    "- 1: Marque o nó de origem com distância zero, e os demais nós com distância $\\infty$\n",
    "\n",
    "- 2: Atribua aos nós não visitados a menor entre as distâncias atuais entre o nó C\n",
    "\n",
    "- 3: Para cada vizinho V do nó C: adicione a distância atual de C com o peso da aresta conectando C-V. Se for menor que a distância atual de N, mude a distância atual para este valor.\n",
    "\n",
    "- 4: Marque o nó atual C como visitado.\n",
    "\n",
    "- 5: Se ainda houver nós não visitados, volte para o passo 2."
   ]
  },
  {
   "cell_type": "markdown",
   "metadata": {},
   "source": [
    "_________"
   ]
  },
  {
   "cell_type": "markdown",
   "metadata": {},
   "source": [
    "## Na aula que vem: [NetworkX!](https://networkx.org/)\n",
    "\n",
    "Conheceremos algumas funcionalidades desta biblioteca para a análise de grafos/redes em Python!\n",
    "\n",
    "<img src=\"https://networkx.org/_static/networkx_logo.svg\">"
   ]
  },
  {
   "cell_type": "code",
   "execution_count": null,
   "metadata": {},
   "outputs": [],
   "source": [
    "# !pip install networkx"
   ]
  },
  {
   "cell_type": "markdown",
   "metadata": {},
   "source": [
    "___________"
   ]
  }
 ],
 "metadata": {
  "kernelspec": {
   "name": "python390jvsc74a57bd0e922dd073470bdcc017ae3abd31d6491d6ed7bf31c1d559806e5511bfea88b81",
   "display_name": "Python 3.9.0 32-bit"
  },
  "language_info": {
   "codemirror_mode": {
    "name": "ipython",
    "version": 3
   },
   "file_extension": ".py",
   "mimetype": "text/x-python",
   "name": "python",
   "nbconvert_exporter": "python",
   "pygments_lexer": "ipython3",
   "version": "3.9.0"
  }
 },
 "nbformat": 4,
 "nbformat_minor": 4
}