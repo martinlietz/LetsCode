{
 "cells": [
  {
   "cell_type": "markdown",
   "metadata": {},
   "source": [
    "# Aula 5 - Grafos 2\n",
    "\n",
    "Na aula de hoje, vamos explorar os seguintes tópicos em Python:\n",
    "\n",
    "- 1) Grafos com NetworkX"
   ]
  },
  {
   "cell_type": "markdown",
   "metadata": {},
   "source": [
    "_________"
   ]
  },
  {
   "cell_type": "markdown",
   "metadata": {},
   "source": [
    "## 1) Grafos com networkx\n",
    "\n",
    "Na aula de hoje, vamos aprender como usar a biblioteca [NetworkX!](https://networkx.org/) para a análise de grafos/redes em Python!\n",
    "\n",
    "<img src=\"https://networkx.org/_static/networkx_logo.svg\">\n",
    "\n",
    "Primeiramente, se ainda não tiver instalado, instale a biblioteca com:\n",
    "\n",
    "`!pip install networkx`"
   ]
  },
  {
   "cell_type": "code",
   "execution_count": 1,
   "metadata": {},
   "outputs": [],
   "source": [
    "import networkx as nx"
   ]
  },
  {
   "cell_type": "markdown",
   "metadata": {},
   "source": [
    "__________\n",
    "\n",
    "Para vermos como a networkx funciona na prática, vamos resolver os exercícios da lista!"
   ]
  },
  {
   "cell_type": "markdown",
   "metadata": {},
   "source": [
    "1. Implemente o grafo ilustrado pela figura abaixo, utilizando a representação baseada em uma matriz de adjacências. Em seguida, exiba a matriz que representa o grafo.\n",
    "\n",
    "<img src=https://s3-sa-east-1.amazonaws.com/lcpi/c5b98cc3-2c85-4d9a-b1e8-aaa4b1aba9b3.png width=300>"
   ]
  },
  {
   "cell_type": "markdown",
   "metadata": {},
   "source": [
    "A classe para um grago de mão dupla é `Graph()`:"
   ]
  },
  {
   "cell_type": "code",
   "execution_count": 23,
   "metadata": {},
   "outputs": [],
   "source": [
    "g1 = nx.Graph()"
   ]
  },
  {
   "cell_type": "code",
   "execution_count": 24,
   "metadata": {},
   "outputs": [],
   "source": [
    "# adicionando um nó sem ligação\n",
    "g1.add_node(0)\n",
    "g1.add_node(1)\n",
    "g1.add_node(2)\n",
    "g1.add_node(3)\n",
    "g1.add_node(4)\n",
    "g1.add_node(5)\n",
    "g1.add_node(6)\n",
    "\n",
    "# adicionando as ligações:\n",
    "g1.add_edge(1, 3)\n",
    "\n",
    "g1.add_edge(3, 4)\n",
    "g1.add_edge(3, 2)\n",
    "\n",
    "g1.add_edge(4, 5)\n",
    "g1.add_edge(4, 6)\n",
    "\n",
    "g1.add_edge(5, 5)\n",
    "g1.add_edge(5, 2)\n",
    "g1.add_edge(5, 6)"
   ]
  },
  {
   "cell_type": "code",
   "execution_count": 25,
   "metadata": {},
   "outputs": [
    {
     "data": {
      "text/plain": [
       "<networkx.classes.graph.Graph at 0x97bb0c8>"
      ]
     },
     "execution_count": 25,
     "metadata": {},
     "output_type": "execute_result"
    }
   ],
   "source": [
    "g1"
   ]
  },
  {
   "cell_type": "code",
   "execution_count": 26,
   "metadata": {},
   "outputs": [],
   "source": [
    "import matplotlib.pyplot as plt"
   ]
  },
  {
   "cell_type": "code",
   "execution_count": 27,
   "metadata": {},
   "outputs": [
    {
     "data": {
      "image/png": "[encoded data removed]",
      "text/plain": [
       "<Figure size 432x288 with 1 Axes>"
      ]
     },
     "metadata": {},
     "output_type": "display_data"
    }
   ],
   "source": [
    "nx.draw_networkx(g1)\n",
    "\n",
    "# pra quem não tiver no notebook\n",
    "plt.show()"
   ]
  },
  {
   "cell_type": "code",
   "execution_count": 28,
   "metadata": {},
   "outputs": [],
   "source": [
    "m1 = nx.adjacency_matrix(g1)"
   ]
  },
  {
   "cell_type": "code",
   "execution_count": 29,
   "metadata": {},
   "outputs": [
    {
     "data": {
      "text/plain": [
       "[0, 1, 2, 3, 4, 5, 6]"
      ]
     },
     "execution_count": 29,
     "metadata": {},
     "output_type": "execute_result"
    }
   ],
   "source": [
    "list(range(7))"
   ]
  },
  {
   "cell_type": "markdown",
   "metadata": {},
   "source": [
    "Por padrão, a matriz é representada de maneira esparsa:"
   ]
  },
  {
   "cell_type": "code",
   "execution_count": 30,
   "metadata": {},
   "outputs": [
    {
     "data": {
      "text/plain": [
       "<7x7 sparse matrix of type '<class 'numpy.intc'>'\n",
       "\twith 15 stored elements in Compressed Sparse Row format>"
      ]
     },
     "execution_count": 30,
     "metadata": {},
     "output_type": "execute_result"
    }
   ],
   "source": [
    "m1"
   ]
  },
  {
   "cell_type": "code",
   "execution_count": 31,
   "metadata": {},
   "outputs": [
    {
     "data": {
      "text/plain": [
       "[{'id': 0}, {'id': 1}, {'id': 2}, {'id': 3}, {'id': 4}, {'id': 5}, {'id': 6}]"
      ]
     },
     "execution_count": 31,
     "metadata": {},
     "output_type": "execute_result"
    }
   ],
   "source": [
    "nx.adjacency_data(g1)[\"nodes\"]"
   ]
  },
  {
   "cell_type": "markdown",
   "metadata": {},
   "source": [
    "Caso se deseje visualizar a matriz completa, densa:"
   ]
  },
  {
   "cell_type": "code",
   "execution_count": 21,
   "metadata": {},
   "outputs": [
    {
     "data": {
      "text/plain": [
       "matrix([[0, 0, 0, 0, 0, 0, 0],\n",
       "        [0, 0, 0, 1, 0, 0, 0],\n",
       "        [0, 0, 0, 1, 0, 1, 0],\n",
       "        [0, 1, 1, 0, 1, 0, 0],\n",
       "        [0, 0, 0, 1, 0, 1, 1],\n",
       "        [0, 0, 1, 0, 1, 1, 1],\n",
       "        [0, 0, 0, 0, 1, 1, 0]], dtype=int32)"
      ]
     },
     "execution_count": 21,
     "metadata": {},
     "output_type": "execute_result"
    }
   ],
   "source": [
    "m1.todense()"
   ]
  },
  {
   "cell_type": "code",
   "execution_count": 37,
   "metadata": {},
   "outputs": [
    {
     "data": {
      "text/plain": [
       "matrix([[0, 0, 0, 0, 0, 0, 0],\n",
       "        [0, 0, 0, 1, 0, 0, 0],\n",
       "        [0, 0, 0, 1, 0, 1, 0],\n",
       "        [0, 1, 1, 0, 1, 0, 0],\n",
       "        [0, 0, 0, 1, 0, 1, 1],\n",
       "        [0, 0, 1, 0, 1, 1, 1],\n",
       "        [0, 0, 0, 0, 1, 1, 0]], dtype=int32)"
      ]
     },
     "execution_count": 37,
     "metadata": {},
     "output_type": "execute_result"
    }
   ],
   "source": [
    "# na ordem de linhas e colunas segundo a ordem numerica das labels\n",
    "\n",
    "m1 = nx.adjacency_matrix(g1, nodelist=range(7))\n",
    "\n",
    "m1.todense()"
   ]
  },
  {
   "cell_type": "code",
   "execution_count": 39,
   "metadata": {},
   "outputs": [
    {
     "data": {
      "image/png": "[encoded data removed]",
      "text/plain": [
       "<Figure size 432x288 with 1 Axes>"
      ]
     },
     "metadata": {},
     "output_type": "display_data"
    }
   ],
   "source": [
    "nx.draw_networkx(g1)"
   ]
  },
  {
   "cell_type": "markdown",
   "metadata": {},
   "source": [
    "Lista de adjacência:"
   ]
  },
  {
   "cell_type": "code",
   "execution_count": 32,
   "metadata": {},
   "outputs": [
    {
     "data": {
      "text/plain": [
       "<generator object generate_adjlist at 0x0000000009725448>"
      ]
     },
     "execution_count": 32,
     "metadata": {},
     "output_type": "execute_result"
    }
   ],
   "source": [
    "nx.generate_adjlist(g1)"
   ]
  },
  {
   "cell_type": "code",
   "execution_count": 33,
   "metadata": {},
   "outputs": [
    {
     "name": "stdout",
     "output_type": "stream",
     "text": [
      "0\n",
      "1 3\n",
      "2 3 5\n",
      "3 4\n",
      "4 5 6\n",
      "5 5 6\n",
      "6\n"
     ]
    }
   ],
   "source": [
    "for item in nx.generate_adjlist(g1):\n",
    "    \n",
    "    print(item)"
   ]
  },
  {
   "cell_type": "code",
   "execution_count": 34,
   "metadata": {},
   "outputs": [
    {
     "data": {
      "text/plain": [
       "['0', '1 3', '2 3 5', '3 4', '4 5 6', '5 5 6', '6']"
      ]
     },
     "execution_count": 34,
     "metadata": {},
     "output_type": "execute_result"
    }
   ],
   "source": [
    "[item for item in nx.generate_adjlist(g1)]"
   ]
  },
  {
   "cell_type": "markdown",
   "metadata": {},
   "source": [
    "Uma outra forma:"
   ]
  },
  {
   "cell_type": "code",
   "execution_count": 35,
   "metadata": {},
   "outputs": [
    {
     "data": {
      "text/plain": [
       "{'directed': False,\n",
       " 'multigraph': False,\n",
       " 'graph': [],\n",
       " 'nodes': [{'id': 0},\n",
       "  {'id': 1},\n",
       "  {'id': 2},\n",
       "  {'id': 3},\n",
       "  {'id': 4},\n",
       "  {'id': 5},\n",
       "  {'id': 6}],\n",
       " 'adjacency': [[],\n",
       "  [{'id': 3}],\n",
       "  [{'id': 3}, {'id': 5}],\n",
       "  [{'id': 1}, {'id': 4}, {'id': 2}],\n",
       "  [{'id': 3}, {'id': 5}, {'id': 6}],\n",
       "  [{'id': 4}, {'id': 5}, {'id': 2}, {'id': 6}],\n",
       "  [{'id': 4}, {'id': 5}]]}"
      ]
     },
     "execution_count": 35,
     "metadata": {},
     "output_type": "execute_result"
    }
   ],
   "source": [
    "nx.adjacency_data(g1)"
   ]
  },
  {
   "cell_type": "code",
   "execution_count": 36,
   "metadata": {},
   "outputs": [
    {
     "data": {
      "text/plain": [
       "[[],\n",
       " [{'id': 3}],\n",
       " [{'id': 3}, {'id': 5}],\n",
       " [{'id': 1}, {'id': 4}, {'id': 2}],\n",
       " [{'id': 3}, {'id': 5}, {'id': 6}],\n",
       " [{'id': 4}, {'id': 5}, {'id': 2}, {'id': 6}],\n",
       " [{'id': 4}, {'id': 5}]]"
      ]
     },
     "execution_count": 36,
     "metadata": {},
     "output_type": "execute_result"
    }
   ],
   "source": [
    "nx.adjacency_data(g1)[\"adjacency\"]"
   ]
  },
  {
   "cell_type": "markdown",
   "metadata": {},
   "source": [
    "Caso queiramos percorrer o grafo, o networkx nos disponibiliza [algoritmos de percurso:](https://networkx.org/documentation/stable/reference/algorithms/simple_paths.html)"
   ]
  },
  {
   "cell_type": "code",
   "execution_count": 57,
   "metadata": {},
   "outputs": [
    {
     "data": {
      "image/png": "[encoded data removed]",
      "text/plain": [
       "<Figure size 432x288 with 1 Axes>"
      ]
     },
     "metadata": {},
     "output_type": "display_data"
    }
   ],
   "source": [
    "nx.draw_networkx(g1)"
   ]
  },
  {
   "cell_type": "code",
   "execution_count": 58,
   "metadata": {},
   "outputs": [
    {
     "data": {
      "text/plain": [
       "<generator object _all_simple_paths_graph at 0x000000000A984648>"
      ]
     },
     "execution_count": 58,
     "metadata": {},
     "output_type": "execute_result"
    }
   ],
   "source": [
    "nx.all_simple_paths(g1, 1, 5)"
   ]
  },
  {
   "cell_type": "code",
   "execution_count": 63,
   "metadata": {},
   "outputs": [
    {
     "data": {
      "text/plain": [
       "[[1, 3, 4, 5], [1, 3, 4, 6, 5], [1, 3, 2, 5]]"
      ]
     },
     "execution_count": 63,
     "metadata": {},
     "output_type": "execute_result"
    }
   ],
   "source": [
    "caminhos = []\n",
    "\n",
    "for path in nx.all_simple_paths(g1, 1, 5):\n",
    "    \n",
    "    caminhos.append(path)\n",
    "    \n",
    "caminhos"
   ]
  },
  {
   "cell_type": "code",
   "execution_count": 64,
   "metadata": {},
   "outputs": [
    {
     "data": {
      "text/plain": [
       "[[1, 3, 4, 5], [1, 3, 4, 6, 5], [1, 3, 2, 5]]"
      ]
     },
     "execution_count": 64,
     "metadata": {},
     "output_type": "execute_result"
    }
   ],
   "source": [
    "[path for path in nx.all_simple_paths(g1, 1, 5)]"
   ]
  },
  {
   "cell_type": "markdown",
   "metadata": {},
   "source": [
    "O networkx também disponibiliza [algoritmos de menor caminho!](https://networkx.org/documentation/stable/reference/algorithms/shortest_paths.html)"
   ]
  },
  {
   "cell_type": "code",
   "execution_count": 65,
   "metadata": {},
   "outputs": [
    {
     "data": {
      "text/plain": [
       "[1, 3, 4, 5]"
      ]
     },
     "execution_count": 65,
     "metadata": {},
     "output_type": "execute_result"
    }
   ],
   "source": [
    "# menor caminho sem considerar pesos!\n",
    "# obs: pode não ser único!\n",
    "\n",
    "nx.shortest_path(g1, 1, 5)"
   ]
  },
  {
   "cell_type": "code",
   "execution_count": 66,
   "metadata": {},
   "outputs": [
    {
     "data": {
      "text/plain": [
       "[[1, 3, 4, 5], [1, 3, 2, 5]]"
      ]
     },
     "execution_count": 66,
     "metadata": {},
     "output_type": "execute_result"
    }
   ],
   "source": [
    "[path for path in nx.all_shortest_paths(g1, 1, 5)]"
   ]
  },
  {
   "cell_type": "markdown",
   "metadata": {},
   "source": [
    "_____________"
   ]
  },
  {
   "cell_type": "markdown",
   "metadata": {},
   "source": [
    "2. Implemente o grafo ilustrado pela figura abaixo, utilizando a representação baseada em uma lista de adjacências. Em seguida, observe a lista de adjacências que representa o grafo.\n",
    "\n",
    "<img src=https://ycpcs.github.io/cs360-spring2019/lectures/images/lecture15/digraph.png width=300>"
   ]
  },
  {
   "cell_type": "markdown",
   "metadata": {},
   "source": [
    "A classe para grafos de não única (grafos direcionais) é a `DiGraph()`:"
   ]
  },
  {
   "cell_type": "code",
   "execution_count": 74,
   "metadata": {},
   "outputs": [],
   "source": [
    "g2 = nx.DiGraph()\n",
    "\n",
    "g2.add_node(1)\n",
    "g2.add_node(2)\n",
    "g2.add_node(3)\n",
    "g2.add_node(4)\n",
    "g2.add_node(5)\n",
    "\n",
    "g2.add_edge(1, 2)\n",
    "g2.add_edge(1, 3)\n",
    "g2.add_edge(1, 4)\n",
    "\n",
    "# para ligação de mão dupla, é necessário repetir\n",
    "g2.add_edge(2, 3)\n",
    "g2.add_edge(3, 2)\n",
    "\n",
    "g2.add_edge(5, 2)\n",
    "\n",
    "g2.add_edge(4, 4)"
   ]
  },
  {
   "cell_type": "code",
   "execution_count": 73,
   "metadata": {},
   "outputs": [
    {
     "data": {
      "text/plain": [
       "matrix([[0, 1, 1, 1, 0],\n",
       "        [0, 0, 1, 0, 0],\n",
       "        [0, 1, 0, 0, 0],\n",
       "        [0, 0, 0, 1, 0],\n",
       "        [0, 1, 0, 0, 0]], dtype=int32)"
      ]
     },
     "execution_count": 73,
     "metadata": {},
     "output_type": "execute_result"
    }
   ],
   "source": [
    "m2 = nx.adjacency_matrix(g2).todense()\n",
    "\n",
    "m2"
   ]
  },
  {
   "cell_type": "code",
   "execution_count": 82,
   "metadata": {},
   "outputs": [
    {
     "data": {
      "text/plain": [
       "[{'id': 1}, {'id': 2}, {'id': 3}, {'id': 4}, {'id': 5}]"
      ]
     },
     "execution_count": 82,
     "metadata": {},
     "output_type": "execute_result"
    }
   ],
   "source": [
    "nx.adjacency_data(g2)[\"nodes\"]"
   ]
  },
  {
   "cell_type": "code",
   "execution_count": 96,
   "metadata": {},
   "outputs": [
    {
     "data": {
      "text/plain": [
       "[<matplotlib.patches.FancyArrowPatch at 0xa959288>]"
      ]
     },
     "execution_count": 96,
     "metadata": {},
     "output_type": "execute_result"
    },
    {
     "data": {
      "image/png": "[encoded data removed]",
      "text/plain": [
       "<Figure size 432x288 with 1 Axes>"
      ]
     },
     "metadata": {},
     "output_type": "display_data"
    }
   ],
   "source": [
    "nx.draw_networkx(g2, node_color=\"yellow\")\n",
    "\n",
    "pos = nx.spring_layout(g2) \n",
    "# nx.draw_networkx_edges(g2, pos=pos, edgelist=[(4,4)], arrowstyle=\"<|-\", style=\"dashed\")"
   ]
  },
  {
   "cell_type": "code",
   "execution_count": 78,
   "metadata": {},
   "outputs": [
    {
     "data": {
      "text/plain": [
       "[[{'id': 2}, {'id': 3}, {'id': 4}],\n",
       " [{'id': 3}],\n",
       " [{'id': 2}],\n",
       " [{'id': 4}],\n",
       " [{'id': 2}]]"
      ]
     },
     "execution_count": 78,
     "metadata": {},
     "output_type": "execute_result"
    }
   ],
   "source": [
    "nx.adjacency_data(g2)[\"adjacency\"]"
   ]
  },
  {
   "cell_type": "markdown",
   "metadata": {},
   "source": [
    "Em um grafo direcionado (mão única), pode ser que caminhos não existam!"
   ]
  },
  {
   "cell_type": "code",
   "execution_count": 79,
   "metadata": {},
   "outputs": [
    {
     "data": {
      "text/plain": [
       "[[1, 2], [1, 3, 2]]"
      ]
     },
     "execution_count": 79,
     "metadata": {},
     "output_type": "execute_result"
    }
   ],
   "source": [
    "# 1 pro 2, ok!\n",
    "[path for path in nx.all_simple_paths(g2, 1, 2)]"
   ]
  },
  {
   "cell_type": "code",
   "execution_count": 80,
   "metadata": {},
   "outputs": [
    {
     "data": {
      "text/plain": [
       "[]"
      ]
     },
     "execution_count": 80,
     "metadata": {},
     "output_type": "execute_result"
    }
   ],
   "source": [
    "# 1 pro 5, caminho inexistente!\n",
    "[path for path in nx.all_simple_paths(g2, 1, 5)]"
   ]
  },
  {
   "cell_type": "code",
   "execution_count": 83,
   "metadata": {},
   "outputs": [
    {
     "data": {
      "text/plain": [
       "[]"
      ]
     },
     "execution_count": 83,
     "metadata": {},
     "output_type": "execute_result"
    }
   ],
   "source": [
    "[path for path in nx.all_simple_paths(g2, 5, 4)]"
   ]
  },
  {
   "cell_type": "markdown",
   "metadata": {},
   "source": [
    "_____________"
   ]
  },
  {
   "cell_type": "markdown",
   "metadata": {},
   "source": [
    "3. Implemente o grafo ponderado ilustrado pela figura abaixo, utilizando as representações baseadas em:\n",
    "\n",
    "- matriz de adjacências;\n",
    "- lista de adjacências.\n",
    "\n",
    "Em seguida, exiba a matriz e a lista que representam o grafo.\n",
    "\n",
    "<img src=\"https://ucarecdn.com/a67cb888-aa0c-424b-8c7f-847e38dd5691/\" width=300>"
   ]
  },
  {
   "cell_type": "markdown",
   "metadata": {},
   "source": [
    "Por fim, para representar um grafo ponderado de mão dupla (como o acima), basta usar o parâmetro \"weight\" no méotodo de adição de nós"
   ]
  },
  {
   "cell_type": "code",
   "execution_count": 85,
   "metadata": {},
   "outputs": [
    {
     "data": {
      "image/png": "[encoded data removed]",
      "text/plain": [
       "<Figure size 432x288 with 1 Axes>"
      ]
     },
     "metadata": {},
     "output_type": "display_data"
    }
   ],
   "source": [
    "g3 = nx.Graph()\n",
    "\n",
    "g3.add_node(0)\n",
    "g3.add_node(1)\n",
    "g3.add_node(2)\n",
    "g3.add_node(3)\n",
    "g3.add_node(4)\n",
    "\n",
    "g3.add_edge(0, 4, weight=8)\n",
    "g3.add_edge(0, 1, weight=3)\n",
    "g3.add_edge(0, 3, weight=7)\n",
    "\n",
    "g3.add_edge(1, 2, weight=1)\n",
    "g3.add_edge(1, 3, weight=4)\n",
    "\n",
    "g3.add_edge(2, 3, weight=2)\n",
    "\n",
    "g3.add_edge(3, 4, weight=3)\n",
    "\n",
    "nx.draw_networkx(g3, node_color=\"yellow\")"
   ]
  },
  {
   "cell_type": "markdown",
   "metadata": {},
   "source": [
    "Caso queira plotar com os pesos:"
   ]
  },
  {
   "cell_type": "code",
   "execution_count": 100,
   "metadata": {},
   "outputs": [
    {
     "data": {
      "text/plain": [
       "{0: array([-0.15137364, -0.48114254]),\n",
       " 1: array([ 0.55009729, -0.04666053]),\n",
       " 2: array([0.40593528, 1.        ]),\n",
       " 3: array([-0.10473527,  0.07832811]),\n",
       " 4: array([-0.69992366, -0.55052504])}"
      ]
     },
     "execution_count": 100,
     "metadata": {},
     "output_type": "execute_result"
    }
   ],
   "source": [
    "pos = nx.spring_layout(g3) \n",
    "\n",
    "pos"
   ]
  },
  {
   "cell_type": "code",
   "execution_count": 104,
   "metadata": {},
   "outputs": [
    {
     "data": {
      "text/plain": [
       "{(0, 4): 8, (0, 1): 3, (0, 3): 7, (1, 2): 1, (1, 3): 4, (2, 3): 2, (3, 4): 3}"
      ]
     },
     "execution_count": 104,
     "metadata": {},
     "output_type": "execute_result"
    }
   ],
   "source": [
    "labels = nx.get_edge_attributes(g3, 'weight')\n",
    "\n",
    "labels"
   ]
  },
  {
   "cell_type": "code",
   "execution_count": 108,
   "metadata": {},
   "outputs": [
    {
     "data": {
      "image/png": "[encoded data removed]",
      "text/plain": [
       "<Figure size 432x288 with 1 Axes>"
      ]
     },
     "metadata": {},
     "output_type": "display_data"
    }
   ],
   "source": [
    "pos = nx.spring_layout(g3) \n",
    "nx.draw_networkx(g3, pos, node_color=\"yellow\")\n",
    "\n",
    "labels = nx.get_edge_attributes(g3, 'weight')\n",
    "nx.draw_networkx_edge_labels(g3, pos, edge_labels=labels)\n",
    "\n",
    "plt.show()"
   ]
  },
  {
   "cell_type": "code",
   "execution_count": 97,
   "metadata": {},
   "outputs": [
    {
     "data": {
      "text/plain": [
       "matrix([[0, 3, 0, 7, 8],\n",
       "        [3, 0, 1, 4, 0],\n",
       "        [0, 1, 0, 2, 0],\n",
       "        [7, 4, 2, 0, 3],\n",
       "        [8, 0, 0, 3, 0]], dtype=int32)"
      ]
     },
     "execution_count": 97,
     "metadata": {},
     "output_type": "execute_result"
    }
   ],
   "source": [
    "m3 = nx.adjacency_matrix(g3).todense()\n",
    "\n",
    "m3"
   ]
  },
  {
   "cell_type": "code",
   "execution_count": 98,
   "metadata": {},
   "outputs": [
    {
     "data": {
      "text/plain": [
       "[[{'weight': 8, 'id': 4}, {'weight': 3, 'id': 1}, {'weight': 7, 'id': 3}],\n",
       " [{'weight': 3, 'id': 0}, {'weight': 1, 'id': 2}, {'weight': 4, 'id': 3}],\n",
       " [{'weight': 1, 'id': 1}, {'weight': 2, 'id': 3}],\n",
       " [{'weight': 7, 'id': 0},\n",
       "  {'weight': 4, 'id': 1},\n",
       "  {'weight': 2, 'id': 2},\n",
       "  {'weight': 3, 'id': 4}],\n",
       " [{'weight': 8, 'id': 0}, {'weight': 3, 'id': 3}]]"
      ]
     },
     "execution_count": 98,
     "metadata": {},
     "output_type": "execute_result"
    }
   ],
   "source": [
    "nx.adjacency_data(g3)[\"adjacency\"]"
   ]
  },
  {
   "cell_type": "markdown",
   "metadata": {},
   "source": [
    "Vejamos todos os caminhos:"
   ]
  },
  {
   "cell_type": "code",
   "execution_count": 119,
   "metadata": {},
   "outputs": [
    {
     "data": {
      "text/plain": [
       "array([5, 6, 7, 8, 9])"
      ]
     },
     "execution_count": 119,
     "metadata": {},
     "output_type": "execute_result"
    }
   ],
   "source": [
    "import numpy as np\n",
    "\n",
    "np.arange(5)+5"
   ]
  },
  {
   "cell_type": "code",
   "execution_count": 131,
   "metadata": {},
   "outputs": [
    {
     "data": {
      "text/plain": [
       "array([6.4, 2.4, 5.6, 0.8, 3.2, 1.6, 2.4])"
      ]
     },
     "execution_count": 131,
     "metadata": {},
     "output_type": "execute_result"
    }
   ],
   "source": [
    "np.array(list(labels.values()))*0.8"
   ]
  },
  {
   "cell_type": "code",
   "execution_count": 133,
   "metadata": {},
   "outputs": [
    {
     "data": {
      "image/png": "[encoded data removed]",
      "text/plain": [
       "<Figure size 432x288 with 1 Axes>"
      ]
     },
     "metadata": {},
     "output_type": "display_data"
    }
   ],
   "source": [
    "pos = nx.spring_layout(g3) \n",
    "nx.draw_networkx(g3, pos, node_color=\"yellow\", width=np.array(list(labels.values()))*0.8)\n",
    "\n",
    "labels = nx.get_edge_attributes(g3, 'weight')\n",
    "nx.draw_networkx_edge_labels(g3, pos, edge_labels=labels)\n",
    "\n",
    "plt.show()"
   ]
  },
  {
   "cell_type": "code",
   "execution_count": 109,
   "metadata": {},
   "outputs": [
    {
     "data": {
      "text/plain": [
       "[[1, 0, 4],\n",
       " [1, 0, 3, 4],\n",
       " [1, 2, 3, 0, 4],\n",
       " [1, 2, 3, 4],\n",
       " [1, 3, 0, 4],\n",
       " [1, 3, 4]]"
      ]
     },
     "execution_count": 109,
     "metadata": {},
     "output_type": "execute_result"
    }
   ],
   "source": [
    "[path for path in nx.all_simple_paths(g3, 1, 4)]"
   ]
  },
  {
   "cell_type": "code",
   "execution_count": 134,
   "metadata": {},
   "outputs": [
    {
     "data": {
      "text/plain": [
       "[([1, 0, 4], 11),\n",
       " ([1, 0, 3, 4], 13),\n",
       " ([1, 2, 3, 0, 4], 18),\n",
       " ([1, 2, 3, 4], 6),\n",
       " ([1, 3, 0, 4], 19),\n",
       " ([1, 3, 4], 7)]"
      ]
     },
     "execution_count": 134,
     "metadata": {},
     "output_type": "execute_result"
    }
   ],
   "source": [
    "# todos os caminhos simples e as respectivas somas de pesos\n",
    "\n",
    "[(path, \n",
    "  nx.path_weight(g3, path, weight=\"weight\")) for path in nx.all_simple_paths(g3, 1, 4)]"
   ]
  },
  {
   "cell_type": "markdown",
   "metadata": {},
   "source": [
    "Considerando pesos para o menor caminho, temos dijkstra!"
   ]
  },
  {
   "cell_type": "code",
   "execution_count": 137,
   "metadata": {},
   "outputs": [
    {
     "data": {
      "text/plain": [
       "[1, 2, 3, 4]"
      ]
     },
     "execution_count": 137,
     "metadata": {},
     "output_type": "execute_result"
    }
   ],
   "source": [
    "nx.dijkstra_path(g3, 1, 4)"
   ]
  },
  {
   "cell_type": "markdown",
   "metadata": {},
   "source": [
    "Caso queira saber o comprimento do menor caminho:"
   ]
  },
  {
   "cell_type": "code",
   "execution_count": 138,
   "metadata": {},
   "outputs": [
    {
     "data": {
      "text/plain": [
       "6"
      ]
     },
     "execution_count": 138,
     "metadata": {},
     "output_type": "execute_result"
    }
   ],
   "source": [
    "nx.dijkstra_path_length(g3, 1, 4)"
   ]
  },
  {
   "cell_type": "code",
   "execution_count": 139,
   "metadata": {},
   "outputs": [
    {
     "data": {
      "text/plain": [
       "([1, 2, 3, 4], 6)"
      ]
     },
     "execution_count": 139,
     "metadata": {},
     "output_type": "execute_result"
    }
   ],
   "source": [
    "(nx.dijkstra_path(g3, 1, 4), nx.dijkstra_path_length(g3, 1, 4))"
   ]
  },
  {
   "cell_type": "markdown",
   "metadata": {},
   "source": [
    "__________"
   ]
  },
  {
   "cell_type": "markdown",
   "metadata": {},
   "source": [
    "## Aquecimento pro projeto final"
   ]
  },
  {
   "cell_type": "markdown",
   "metadata": {},
   "source": [
    "4. O grafo dos estados do Brasil é definido da seguinte forma:\n",
    "\n",
    "- Cada vértice é um dos estados estados da República Federativa do Brasil\n",
    "- Dois estados são adjacentes se têm uma fronteira comum\n",
    "\n",
    "<img src=https://i.pinimg.com/originals/f6/f5/bd/f6f5bd6be91adf85b5a65d79706c8c4f.png width=400>\n",
    "\n",
    "Com base nisso, faça um desenho desse grafo. \n",
    "\n",
    "Quantos vértices tem o grafo? \n",
    "\n",
    "Quantas arestas? \n",
    "\n",
    "Implemente este grafo com o networkx!!"
   ]
  },
  {
   "cell_type": "markdown",
   "metadata": {},
   "source": [
    "# veja a resposta no gabarito da lista de grafos -- vai ajudar pro projeto final!"
   ]
  },
  {
   "cell_type": "code",
   "execution_count": 11,
   "metadata": {},
   "outputs": [],
   "source": [
    "lista1 = \"\"\"Estado \tSigla\n",
    " Acre \t AC\n",
    " Alagoas \t AL\n",
    " Amapá \t AP\n",
    " Amazonas \t AM\n",
    " Bahia \t BA\n",
    " Ceará \t CE\n",
    " Distrito Federal \t DF\n",
    " Espírito Santo \t ES\n",
    " Goiás \t GO\n",
    " Maranhão \t MA\n",
    " Mato Grosso \t MT\n",
    " Mato Grosso do Sul \t MS\n",
    " Minas Gerais \t MG\n",
    " Pará \t PA\n",
    " Paraíba  \t PB\n",
    " Paraná \t PR\n",
    " Pernambuco \t PE\n",
    " Piauí \t PI\n",
    " Rio de Janeiro \t RJ\n",
    " Rio Grande do Norte \t RN\n",
    " Rio Grande do Sul  \t RS\n",
    " Rondônia \t RO\n",
    " Roraima \t RR\n",
    " Santa Catarina  \t SC\n",
    " São Paulo  \t SP\n",
    " Sergipe \t SE\n",
    " Tocantins \t TO\"\"\".split(\"\\n\")"
   ]
  },
  {
   "cell_type": "code",
   "execution_count": 18,
   "metadata": {},
   "outputs": [],
   "source": [
    "siglas = [item.split(\"\\t\")[1].strip() for item in lista1][1:]"
   ]
  },
  {
   "cell_type": "code",
   "execution_count": null,
   "metadata": {},
   "outputs": [],
   "source": [
    "['AC', \"NORTE\"\n",
    " 'AL', \"nordeste\"\n",
    " 'AP',\n",
    " 'AM',\n",
    " 'BA',\n",
    " 'CE',\n",
    " 'DF',\n",
    " 'ES',\n",
    " 'GO',\n",
    " 'MA',\n",
    " 'MT',\n",
    " 'MS',\n",
    " 'MG',\n",
    " 'PA',\n",
    " 'PB',\n",
    " 'PR',\n",
    " 'PE',\n",
    " 'PI',\n",
    " 'RJ',\n",
    " 'RN',\n",
    " 'RS',\n",
    " 'RO',\n",
    " 'RR',\n",
    " 'SC',\n",
    " 'SP',\n",
    " 'SE',\n",
    " 'TO']"
   ]
  },
  {
   "cell_type": "code",
   "execution_count": 21,
   "metadata": {},
   "outputs": [
    {
     "data": {
      "text/plain": [
       "['AC',\n",
       " 'AL',\n",
       " 'AP',\n",
       " 'AM',\n",
       " 'BA',\n",
       " 'CE',\n",
       " 'DF',\n",
       " 'ES',\n",
       " 'GO',\n",
       " 'MA',\n",
       " 'MT',\n",
       " 'MS',\n",
       " 'MG',\n",
       " 'PA',\n",
       " 'PB',\n",
       " 'PR',\n",
       " 'PE',\n",
       " 'PI',\n",
       " 'RJ',\n",
       " 'RN',\n",
       " 'RS',\n",
       " 'RO',\n",
       " 'RR',\n",
       " 'SC',\n",
       " 'SP',\n",
       " 'SE',\n",
       " 'TO']"
      ]
     },
     "execution_count": 21,
     "metadata": {},
     "output_type": "execute_result"
    }
   ],
   "source": [
    "siglas"
   ]
  },
  {
   "cell_type": "code",
   "execution_count": 44,
   "metadata": {},
   "outputs": [],
   "source": [
    "import networkx as nx\n",
    "\n",
    "g1 = nx.Graph()\n",
    "\n",
    "g1.add_node(\"a\")\n",
    "g1.add_node(\"b\")\n",
    "g1.add_node(\"c\")\n",
    "\n",
    "g1.add_edge(\"a\", \"b\", weight = 5)\n",
    "g1.add_edge(\"b\", \"c\")\n",
    "g1.add_edge(\"a\", \"c\")\n",
    "\n",
    "#######################\n",
    "\n",
    "g2 = nx.Graph()\n",
    "\n",
    "g2.add_node(\"a\")\n",
    "g2.add_node(\"b\")\n",
    "g2.add_node(\"d\")\n",
    "\n",
    "g2.add_edge(\"a\", \"b\", weight = 10)\n",
    "g2.add_edge(\"a\", \"d\") "
   ]
  },
  {
   "cell_type": "code",
   "execution_count": 45,
   "metadata": {},
   "outputs": [
    {
     "data": {
      "image/png": "[encoded data removed]",
      "text/plain": [
       "<Figure size 432x288 with 1 Axes>"
      ]
     },
     "metadata": {},
     "output_type": "display_data"
    }
   ],
   "source": [
    "nx.draw_networkx(g1)"
   ]
  },
  {
   "cell_type": "code",
   "execution_count": 46,
   "metadata": {},
   "outputs": [
    {
     "data": {
      "image/png": "[encoded data removed]",
      "text/plain": [
       "<Figure size 432x288 with 1 Axes>"
      ]
     },
     "metadata": {},
     "output_type": "display_data"
    }
   ],
   "source": [
    "nx.draw_networkx(g2)"
   ]
  },
  {
   "cell_type": "code",
   "execution_count": 47,
   "metadata": {},
   "outputs": [],
   "source": [
    "g3 = nx.compose(g1, g2)"
   ]
  },
  {
   "cell_type": "code",
   "execution_count": 48,
   "metadata": {},
   "outputs": [
    {
     "data": {
      "image/png": "[encoded data removed]",
      "text/plain": [
       "<Figure size 432x288 with 1 Axes>"
      ]
     },
     "metadata": {},
     "output_type": "display_data"
    }
   ],
   "source": [
    "nx.draw_networkx(g3)"
   ]
  },
  {
   "cell_type": "code",
   "execution_count": null,
   "metadata": {},
   "outputs": [],
   "source": [
    "# mini-projeto!\n"
   ]
  },
  {
   "cell_type": "markdown",
   "metadata": {},
   "source": [
    "Pergunta adicional: faça uma função que receba dois estados, e que devolve o menor caminho entre eles (inicialmente, considere um grafo não-ponderado)"
   ]
  },
  {
   "cell_type": "code",
   "execution_count": null,
   "metadata": {},
   "outputs": [],
   "source": [
    "# mini-projeto!\n"
   ]
  },
  {
   "cell_type": "markdown",
   "metadata": {},
   "source": [
    "Construa agora um grafo ponderado, usando a [distância entre capitais dos estados](http://www.itatrans.com.br/distancia.html) como pesos! \n",
    "\n",
    "Construa novamente a função de menor caminho (como se fosse trechos de avião entre aeroportos das capitais!"
   ]
  },
  {
   "cell_type": "code",
   "execution_count": null,
   "metadata": {},
   "outputs": [],
   "source": [
    "# mini-projeto! (se der tempo)\n"
   ]
  },
  {
   "cell_type": "markdown",
   "metadata": {},
   "source": [
    "__________"
   ]
  },
  {
   "cell_type": "markdown",
   "metadata": {},
   "source": [
    "5. Considere um determinado número de cidades (N) e uma determinada quantidade de rotas (M) que você sabe que existem entre aquelas cidades. Com base nisso, você deve criar um script em Python que recebe um número N de cidades e um número M de caminhos que existem entre elas. Em seguida, seu programa vai ler quais são esses M caminhos e a distância deles.\n",
    "\n",
    "Para exemplificar, vamos analisar a entrada abaixo:\n",
    "\n",
    "```\n",
    "3 2  \n",
    "0 1 10  \n",
    "1 2 23  \n",
    "```\n",
    "\n",
    "O exemplo acima é bem simples. Os dois primeiros números são o N e o M; ou seja, existem 3 cidades e 2 caminhos conhecidos entre elas. Em seguida, temos os dois caminhos:\n",
    "\n",
    "- O primeiro vai da cidade 0 para a cidade 1, cuja distância é de 10.\n",
    "    \n",
    "- O segundo vai da cidade 1 para a cidade 2, cuja distância é de 23.\n",
    "\n",
    "Teste o seu programa para a entrada acima e, também, para a entrada abaixo:\n",
    "\n",
    "```\n",
    "7 11\n",
    "0 1 7\n",
    "0 3 5\n",
    "1 2 8\n",
    "1 3 9\n",
    "1 4 7\n",
    "2 4 5\n",
    "3 4 15\n",
    "3 5 6\n",
    "4 5 8\n",
    "4 6 9\n",
    "5 6 11\n",
    "```\n",
    "\n",
    "Implemente o grafo da entrada acima de forma automática (sem fazer \"na mão\")!"
   ]
  },
  {
   "cell_type": "markdown",
   "metadata": {},
   "source": [
    "# veja a resposta no gabarito da lista de grafos -- vai ajudar pro projeto final!"
   ]
  },
  {
   "cell_type": "markdown",
   "metadata": {},
   "source": [
    "___________"
   ]
  }
 ],
 "metadata": {
  "kernelspec": {
   "display_name": "Python 3",
   "language": "python",
   "name": "python3"
  },
  "language_info": {
   "codemirror_mode": {
    "name": "ipython",
    "version": 3
   },
   "file_extension": ".py",
   "mimetype": "text/x-python",
   "name": "python",
   "nbconvert_exporter": "python",
   "pygments_lexer": "ipython3",
   "version": "3.7.6"
  }
 },
 "nbformat": 4,
 "nbformat_minor": 4
}
