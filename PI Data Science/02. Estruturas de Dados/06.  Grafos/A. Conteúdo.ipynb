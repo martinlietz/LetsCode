{
 "metadata": {
  "language_info": {
   "codemirror_mode": {
    "name": "ipython",
    "version": 3
   },
   "file_extension": ".py",
   "mimetype": "text/x-python",
   "name": "python",
   "nbconvert_exporter": "python",
   "pygments_lexer": "ipython3",
   "version": "3.7.8"
  },
  "orig_nbformat": 2,
  "kernelspec": {
   "name": "python378jvsc74a57bd004635d289a519a1410467dd0afb0db42f9184808881ca68b2eb5a687a20a5a94",
   "display_name": "Python 3.7.8 32-bit"
  }
 },
 "nbformat": 4,
 "nbformat_minor": 2,
 "cells": [
  {
   "source": [
    "# Grafos   \n",
    "Um grafo é um par de conjuntos, $G = (V, E)$, sendo um deles o conjunto de `vértices` $V$ e o outro um conunto de ```arestas``` $E$, onde cada ```aresta``` é um par de ```vértices```. Os ```vértices```, muitas vezes também chamados de ```nós```, são os itens de interesse do que se quer modelar, e as arestas são as conexoes ou relações entre estes itens. Por exemplo, em uma aplicação logística, poderíamos modelar cada local de entrega como um vértice do grafo e as arestas indicariam se existe um caminho conectando estes dois pontos diretamente. As arestas podem ser direcionadas (mão única) ou não direcionadas (mão dupla). Além disso, as arestas podem ter um rótulo associado à elas, indicando por exemplo o custo de percorrer um caminho, ou a distância entre dois pontos de interesse. Quando existe uma aresta conectando um vértice u à um vértice $v (u-v)$, dizemos que v é vizinho de u. Em grafos direcionados, é comum usarmos a nomenclatura de árvores e dizer que u é pai de $v$ caso exista uma aresta direcionada $u -> v$"
   ],
   "cell_type": "markdown",
   "metadata": {}
  },
  {
   "source": [
    "## 1. Como representar um grafo no computador?    \n",
    "Existem diferentes maneiras de se representar o conceito de grafo no computador,    \n",
    "e cada uma pode ser mais ou menos indicada dependendo do problema que se quer resolver ou da forma como se deciciu modelá-lo.    \n",
    "Vamos falar das duas maneiras mais comuns de representação.  "
   ],
   "cell_type": "markdown",
   "metadata": {}
  },
  {
   "source": [
    "### 1.1 Matriz de adjacências   \n",
    "Uma das maneiras mais simples de representar um grafo é utilizando uma matriz de adjacências. Vemos um exemplo de visualização dessa estrutura na figura abaixo.   \n",
    "    \n",
    "Para criar um grafo como uma matriz de adjacências,   \n",
    "definimos uma matriz $M$ de dimensões $n x n$, sendo $n$ a quantidade de ```vértices```. \n",
    "Inicializamos a matriz com zeros, e \"marcamos\" $M[u][v]$ com um valor diferente de zero caso exista uma aresta conectando o ```vértice``` $u$ ao ```vértice``` $v$.     \n",
    "<img src=\"https://s3-sa-east-1.amazonaws.com/lcpi/1f5e0fd3-572c-479a-8a53-74d8212c5e5c.jpg\" style=\"width:40%\"/>"
   ],
   "cell_type": "markdown",
   "metadata": {}
  },
  {
   "source": [
    "No exemplo da figura acima vemos um grafo não direcionado     \n",
    "e por isso temos a matriz diagonalmente simétrica ($M[u][v] == M[v][u]$). Ou seja,     \n",
    "a ```aresta``` $u-v$ é \"de mão dupla\".   \n",
    "Mas com essa estrutura também é possivel modelar grafos direcioinados,     \n",
    "basta não impor a simetria. Essa estrutura também permite representar arestas com custo,    \n",
    "basta utilizar o valor do custo para marcar a aresta no lugar da constante 1 que utilizamos.   "
   ],
   "cell_type": "markdown",
   "metadata": {}
  },
  {
   "source": [
    "## 1.2 Lista de adjacências    \n",
    "Embora a ```matriz de adjacências``` seja uma maneira simples e flexível para representação dos grafos,   \n",
    "podemos ver que, principalmente para ```grafos esparsos``` (grafos com poucas arestas),     \n",
    "ela tende a gerar um desperdício de espaço (armazenando um monte de zeros para as conexões que não existem no grafo).   \n",
    "    \n",
    "Uma alternativa que mitiga esse desperdício de espaço é a lista de adjacêcias.    \n",
    "Nessa representação, cada vértice está associado a uma lista com seus vizinhos.    \n",
    "Assim, não gastamos espaço representando a ausência de arestas.    \n",
    "<img src=\"https://s3-sa-east-1.amazonaws.com/lcpi/9775dad0-c900-42e9-87fa-41d78b73444c.jpg\" style=\"width:20%\" />"
   ],
   "cell_type": "markdown",
   "metadata": {}
  },
  {
   "source": [
    "> ---\n",
    "> Mas e se o grafo tiver uma grande quantidade de arestas? \n",
    "> Ainda estariamos economizando espaço?\n",
    "\n",
    "> ---"
   ],
   "cell_type": "markdown",
   "metadata": {}
  },
  {
   "source": [
    "## 1.3 Comparação das estruturas    \n",
    "Para um grafo G=(V,E) composto de vértices V e arestas E, listamos a complexidade das operações mais básicas.   \n",
    "   \n",
    "---|Matriz de Adj.\t|Lista de Adj.   \n",
    "---|---|---\n",
    "inserir aresta\t|$O(1)$\t|$O(1)$\n",
    "remover arest\t|$O(1)$\t|$O(grau_max(G))$\n",
    "verificar adj. de dois nós\t|$O(1)$\t|$O(grau_max(G))$\n",
    "listar vizinhos de um nó\t|$O(len(V))$\t|$O(grau_max(G))$\n",
    "espaço de armazenamento\t|$O(len(V)^2 )$\t|$O(len(V) + len(E)$\n",
    "> ---\n",
    "> Obs:    \n",
    ">      O grau de um vértice, é a quantidade de arestas que incide sobre esse vértice. \n",
    "> \n",
    ">      O grau máximo de um grafo G é o maior grau dentre todos os vértices de G.\n",
    "   \n",
    "> ----\n",
    "      \n",
    "\n",
    "Será que faz sentido dizer que uma representação é melhor que a outra? Em que situações seria melhor usar a matriz? E a lista?"
   ],
   "cell_type": "markdown",
   "metadata": {}
  },
  {
   "source": [
    "# 2. Implementação   \n",
    "   \n",
    "Abaixo vemos um exemplo de implementação de grafo como matriz de adjacências.  "
   ],
   "cell_type": "markdown",
   "metadata": {}
  },
  {
   "cell_type": "code",
   "execution_count": 1,
   "metadata": {},
   "outputs": [],
   "source": [
    "# Matriz de Adjacências\n",
    "class GraphAM:\n",
    "    def __init__(self, n):\n",
    "        self.adj = [[0]* n for _ in range(n)]\n",
    "\n",
    "    def __repr__(self):\n",
    "        return str('\\n'.join([str(line) for line in self.adj]))\n",
    "\n",
    "    def add_arrow(self, a, b, weight=1):\n",
    "        self.adj[a][b] = weight\n",
    "\n",
    "    def add_edge(self, a, b, weight=1):\n",
    "        self.add_arrow(a, b, weight)\n",
    "        self.add_arrow(b, a, weight)\n",
    "\n",
    "    def remove_arrow(self, a, b):\n",
    "        self.adj[a][b] = 0\n",
    "\n",
    "    def remove_edge(self, a, b):\n",
    "        self.remove_arrow(a, b)\n",
    "        self.remove_arrow(b, a)\n",
    "\n",
    "    def get_neighbors(self, a, get_weights=False):\n",
    "        if get_weights:\n",
    "            return [(i, v) for i, v in enumerate(self.adj[a]) if v]\n",
    "        return [i for i, v in enumerate(self.adj[a]) if v]\n",
    "\n",
    "    def __len__(self):\n",
    "        return len(self.adj)\n",
    "    def __len__(self):\n",
    "        return len(self.adj)"
   ]
  },
  {
   "cell_type": "code",
   "execution_count": 2,
   "metadata": {},
   "outputs": [
    {
     "output_type": "stream",
     "name": "stdout",
     "text": [
      "[0, 1, 0, 1, 0, 0, 0, 0]\n[1, 0, 1, 0, 0, 0, 0, 0]\n[0, 1, 0, 0, 0, 0, 0, 0]\n[1, 0, 0, 0, 1, 1, 0, 0]\n[0, 0, 0, 1, 0, 1, 0, 1]\n[0, 0, 0, 1, 1, 0, 1, 1]\n[0, 0, 0, 0, 0, 1, 0, 1]\n[0, 0, 0, 0, 1, 1, 1, 0]\n"
     ]
    }
   ],
   "source": [
    "g = GraphAM(8)\n",
    "g.add_edge(0, 1)\n",
    "g.add_edge(0, 3)\n",
    "g.add_edge(1, 2)\n",
    "g.add_edge(3, 4)\n",
    "g.add_edge(3, 5)\n",
    "g.add_edge(4, 5)\n",
    "g.add_edge(4, 7)\n",
    "g.add_edge(5, 6)\n",
    "g.add_edge(5, 7)\n",
    "g.add_edge(6, 7)\n",
    "print(g)"
   ]
  },
  {
   "source": [
    "# 3. Percurso   \n",
    "Quando utilizamos um grafo para modelar um problema,    \n",
    "muitas vezes temos o interesse de percorrer esse grafo (Graph Traversal ou Search).    \n",
    "Percorrer um grafo é passar por cada nó \"visitando\" o nó apenas uma vez.   \n",
    "    \n",
    "Talvez você se pergunte \"mas não poderiamos simplesmente percorrer a lista de vértices do grafo?\".   \n",
    "   \n",
    "Visitar um nó pode significar atualizar alguma informação em uma estrutura externa ou em um objeto associado ao id representado pelo nó do grafo.    \n",
    "Mas muitas vezes o interesse está não na visita em si,    \n",
    "mas no caminho percorrido para se chegar a esse nó,    \n",
    "ou na ordem em que estes nós são visitados (veremos mais abaixo como um destes algoritmos de percurso    \n",
    "pode ser usado para encontrar o menor caminho entre dois nós, por exemplo).     \n",
    "E é por isso que os algoritmos de percurso precisam respeitar as arestas do grafo e não podem simplesmente percorrer a lista de vértices.    \n",
    "   \n",
    "## 3.1 Busca em profundidade (DFS - Depth First Search)    \n",
    "Uma das maneiras de se percorrer um grafo é a busca em profundidade, que pode ser facilmente implementada de maneira recursiva.   \n",
    "   \n",
    "Sempre que a DFS encontra um vértice não visitado ela segue por esse vértice    \n",
    "Ela tem esse nome pois ao percorrer o grafo ela \"verticaliza\".    \n",
    "Ou seja, ao escolher um \"ramo\" do grafo, segue por esse ramo até que ele termine.   \n",
    "   \n",
    "Abaixo temos um exemplo de como a busca em profundidade percorreria esse grafo partindo do nó 0.  \n",
    "<img src=\"https://s3-sa-east-1.amazonaws.com/lcpi/0084b080-e980-46d0-8694-55895333a3e7.jpg\" style=\"width:40%\" />"
   ],
   "cell_type": "markdown",
   "metadata": {}
  },
  {
   "source": [
    "Veja que, para que a nossa função não fique visitando os nós incessantemente (devido a possivel existência de ciclos no grafo)     \n",
    "precisamos marcar de alguma forma que um nó já foi visitado. (Qual o caso base da recursão abaixo?)   "
   ],
   "cell_type": "markdown",
   "metadata": {}
  },
  {
   "cell_type": "code",
   "execution_count": 3,
   "metadata": {},
   "outputs": [
    {
     "output_type": "stream",
     "name": "stdout",
     "text": [
      "visitei 4\nvisitei 3\nvisitei 0\nvisitei 1\nvisitei 2\nvisitei 5\nvisitei 6\nvisitei 7\n\nvisitei 0\nvisitei 1\nvisitei 2\nvisitei 3\nvisitei 4\nvisitei 5\nvisitei 6\nvisitei 7\n"
     ]
    }
   ],
   "source": [
    "def dfs(g, a, visited=None):\n",
    "    if visited is None:\n",
    "        visited = [0] * len(g)\n",
    "    print(f\"visitei {a}\")\n",
    "    visited[a] = 1\n",
    "    for v in g.get_neighbors(a):\n",
    "        if not visited[v]:\n",
    "            dfs(g, v, visited)\n",
    "    return\n",
    "dfs(g, 4)\n",
    "# 4: [4, 3, 0, 1, 2, 5, 6, 7]\n",
    "print()\n",
    "dfs(g, 0)\n",
    "# 0: [0, 1, 2, 3, 4, 5, 6, 7]"
   ]
  },
  {
   "source": [
    "Dizemos que um grafo é conexo se, partindo de qualquer nó é possível chegar em qualquer outro nó do grafo.     \n",
    "Um grafo desconexo teria um pedaço \"solto\", isolado dos demais. Por exemplo,     \n",
    "se eliminássemos a aresta 0-3 do grafo acima o grafo se tornaria desconexo.      \n",
    "Pois partindo do conjunto {0, 1, 2, 9, 8} seria impossível chegar a qualquer nó do conjunto {3, 4, 5, 6, 7}.    \n",
    "   \n",
    "A busca em profundidade pode ser utilizada, por exemplo, para descobrir se o grafo é conexo ou não.   \n",
    "  \n",
    "3.2 Busca em largura (BFS - Breadth First Search)  \n",
    "A busca em largura pode ser vista como uma maneira um pouco mais estruturada de se percorrer o grafo,     \n",
    "e também um pouquinho mais complicaa de se implementar.   \n",
    "   \n",
    "A BFS visita os nós do grafo em \"camadas\" partindo da origem,    \n",
    "cada camada está uma aresta a mais de distância da origem em relação a camada anterior.    \n",
    "Ou seja, partindo de um nó origem s os nós diretamente conectados a s (seus vizinhos)    \n",
    "são visitados primeiro antes dos nós conectados aos vizinhos de s (seus \"vizinhos de segundo grau\").   \n",
    "   \n",
    "A figura abaixo mostra um exemplo gráfico desse comportamento em camadas.   \n",
    "<img src=\"https://s3-sa-east-1.amazonaws.com/lcpi/a67dd98f-8578-4bda-a710-903d7de9ceb6.jpg\" style=\"width:30%\" />\n"
   ],
   "cell_type": "markdown",
   "metadata": {}
  },
  {
   "source": [
    "Note que a ordem de visitação imposta pela BFS é parcial.    \n",
    "Existem diferentes ordenações possíveis que qualificam como percurso BFS,     \n",
    "o importante é respeitar as camadas.     \n",
    "Por exemplo, não importa se 1 foi visitado antes do 3 ou se o 3 foi visitado antes do 1 desde que ambos tenham sido visitados antes de 2, 4 e 5.   \n",
    "   \n",
    "Ao implementar precisamos de uma fila para garantir que os nós de uma camada i serão todos visitados antes dos nós da camada i+1.   "
   ],
   "cell_type": "markdown",
   "metadata": {}
  },
  {
   "cell_type": "code",
   "execution_count": 4,
   "metadata": {},
   "outputs": [
    {
     "output_type": "stream",
     "name": "stdout",
     "text": [
      "[4, 3, 5, 7, 0, 6, 1, 2]\n[0, 1, 3, 2, 4, 5, 7, 6]\n"
     ]
    }
   ],
   "source": [
    "def bfs(g, s):\n",
    "    visited = [0] * len(g)\n",
    "    queue = [s]\n",
    "    sequence = []\n",
    "    while len(queue):\n",
    "        u = queue.pop(0)\n",
    "        if visited[u]:\n",
    "            continue\n",
    "        #print(f\"visitei {u}\")\n",
    "        visited[u] = 1\n",
    "        sequence.append(u)\n",
    "        for v in g.get_neighbors(u):\n",
    "            if not visited[v]:\n",
    "                queue.append(v)\n",
    "    return sequence\n",
    "print(bfs(g, 4))\n",
    "#4: [4, 3, 5, 7, 0, 6, 1, 2]\n",
    "print(bfs(g, 0))\n",
    "#0: [0, 1, 3, 2, 4, 5, 7, 6]"
   ]
  },
  {
   "source": [
    "## 3.3 DFS iterativa   \n",
    "Simplesmente trocando a estrutura de fila para uma pilha podemos obter uma versão iterativa da DFS. \n",
    "> Obs: note que os percursos (BFS e DFS) não são necessariamente únicos."
   ],
   "cell_type": "markdown",
   "metadata": {}
  },
  {
   "cell_type": "code",
   "execution_count": 5,
   "metadata": {},
   "outputs": [
    {
     "output_type": "stream",
     "name": "stdout",
     "text": [
      "[4, 7, 6, 5, 3, 0, 1, 2]\n[0, 3, 5, 7, 6, 4, 1, 2]\n"
     ]
    }
   ],
   "source": [
    "def dfs_iter(g, s):\n",
    "    visited = [0] * len(g)\n",
    "    stack = [s]\n",
    "    sequence = []\n",
    "    while len(stack):\n",
    "        u = stack.pop()\n",
    "        if visited[u]:\n",
    "            continue\n",
    "        #print(f\"visitei {u}\")\n",
    "        visited[u] = 1\n",
    "        sequence.append(u)\n",
    "        for v in g.get_neighbors(u):\n",
    "            if not visited[v]:\n",
    "                stack.append(v)\n",
    "    return sequence\n",
    "print(dfs_iter(g, 4))\n",
    "#4: [4, 7, 6, 5, 3, 0, 1, 2]\n",
    "print(dfs_iter(g, 0))\n",
    "#0: [0, 3, 5, 7, 6, 4, 1, 2]"
   ]
  },
  {
   "cell_type": "code",
   "execution_count": null,
   "metadata": {},
   "outputs": [],
   "source": [
    "# 4. Menor caminho   \n",
    "Uma das aplicações mais comuns em grafos é o cálculo do menor caminho entre vértices.     \n",
    "Aqui veremos o problema conhecido como Single Source Shortest Path posto da seguinte forma:   \n",
    "Dado um grafo G e um vértice origem s encontre o menor caminho partindo de s até cada vértice v pertencente a G.   \n",
    "  \n",
    "Vamos começar com o caso de grafos sem custo (ou custo constante = 1) nas arestas,     \n",
    "u seja, o me  nor caminho nesse caso é o caminho com menos arestas.    \n",
    "    \n",
    "Para encontrar o menor caminho, vamos modificar a função que implementamos para a busca em largura (BFS)    \n",
    "   \n",
    "Já sabemos que um nó que está a uma aresta de distância da origem será visitado na primeira camada,     \n",
    "um nó que está a duas arestas da origem será visitado na segunda, e assim por diante.     \n",
    "Ou seja, os nós já são vizitados na ordem de menor caminho e a camada dá o custo desse caminho.  \n",
    "\n",
    "\n",
    "## 4.1 calculando distâncias\n",
    "Modificamos a BFS anterior para calcular a distancia entre cada nó e o nó origem. Note que esse procedimento só funciona pois todas as arestas tem o mesmo custo e portanto a distância do nó origem s à qualquer outro nó v é simplesmente a \"camada\" de v, ou seja, a quantas arestas v está de s."
   ]
  },
  {
   "cell_type": "code",
   "execution_count": 6,
   "metadata": {},
   "outputs": [
    {
     "output_type": "stream",
     "name": "stdout",
     "text": [
      "[2, 3, 4, 1, 0, 1, 2, 1]\n[0, 1, 2, 1, 2, 2, 3, 3]\n"
     ]
    }
   ],
   "source": [
    "def bfs_dist(g, s):\n",
    "    # armazena a distancia entre o nó origem (s) e os demais nós do grafo\n",
    "    dist = [float('inf')] * len(g)\n",
    "    dist[s] = 0\n",
    "    queue = [s]\n",
    "    while len(queue):\n",
    "        u = queue.pop(0)\n",
    "        for v in g.get_neighbors(u):\n",
    "            # podemos usar a distância no lugar do visited\n",
    "            # nós que tem distância infinita ainda não foram visitados\n",
    "            if dist[v] == float('inf'):\n",
    "                # esse cálculo funciona por 2 motivos:\n",
    "                # 1) a ordem que em estamos percorrendo o grafo\n",
    "                #    (largura - visita primeiro os nós mais próximos da origem)\n",
    "                # 2) o fato de que, ao colocar um nó na fila,\n",
    "                #    já calculamos sua distância até a origem\n",
    "                #    (caso base dist[s] = 0),\n",
    "                #    e a distancia de um nó até seu vizinho é sempre 1 (para grafos sem peso)\n",
    "                dist[v] = dist[u] + 1\n",
    "                queue.append(v)\n",
    "    return dist\n",
    "print(bfs_dist(g, 4))\n",
    "#4: [0, 1, 2, 3, 4, 5, 6, 7] <- indices\n",
    "#4: [2, 3, 4, 1, 0, 1, 2, 1] <- distancia de 4 até o indice i\n",
    "print(bfs_dist(g, 0))\n",
    "#0: [0, 1, 2, 3, 4, 5, 6, 7] <- indices\n",
    "#0: [0, 1, 2, 1, 2, 2, 3, 3] <- distancia de 0 até o indice i"
   ]
  },
  {
   "source": [
    "## 4.2 construindo o caminho   \n",
    "Agora modificamos mais um pouco a nossa BFS para retornar um \"vetor de pais\" que nos possibilitará reconstruir os caminhos:    \n",
    "Sempre que chegamos em um nó v, salvamos em parent[v] o nó pelo qual chegamos à v, ou seja, o pai de v.  "
   ],
   "cell_type": "markdown",
   "metadata": {}
  },
  {
   "cell_type": "code",
   "execution_count": 8,
   "metadata": {},
   "outputs": [],
   "source": [
    "def bfs_path(g, s):\n",
    "    dist = [float('inf')] * len(g)\n",
    "    parent = [None] * len(g)\n",
    "    dist[s] = 0\n",
    "    queue = [s]\n",
    "    while len(queue):\n",
    "        u = queue.pop(0)\n",
    "        for v in g.get_neighbors(u):\n",
    "            if dist[v] == float('inf'):\n",
    "                dist[v] = dist[u] + 1\n",
    "                parent[v] = u\n",
    "                queue.append(v)\n",
    "    return dist, parent\n",
    "dist, parent = bfs_path(g, 0)"
   ]
  },
  {
   "source": [
    "Com o vetor de pais parent, podemos criar uma função recursiva que nos dá o menor caminho da origem a qualquer nó."
   ],
   "cell_type": "markdown",
   "metadata": {}
  },
  {
   "cell_type": "code",
   "execution_count": 12,
   "metadata": {},
   "outputs": [
    {
     "output_type": "stream",
     "name": "stdout",
     "text": [
      "0->3->5\n0->3->4->7\n"
     ]
    }
   ],
   "source": [
    "def build_path(parent, t):\n",
    "    if parent[t] is None:\n",
    "        return [t]\n",
    "    return build_path(parent, parent[t]) + [t]\n",
    "print('->'.join(map(str,build_path(parent, 5))))\n",
    "# 0->3->5\n",
    "print('->'.join(map(str,build_path(parent, 7))))\n",
    "# 0->3->4->7"
   ]
  },
  {
   "source": [
    "> Obs: Aqui vemos um outro exemplo interessante de recursão. Experimente fazer uma versão iterativa de build_path e compare com essa versão recursiva."
   ],
   "cell_type": "markdown",
   "metadata": {}
  },
  {
   "source": [
    "## 4.3 Menor caminho para grafos com custo nas arestas   \n",
    "Grafos sem custo nas arestas são muito utilizados e nesses casos a nossa BFS modificada será suficiente para encontrar o menor caminho.    \n",
    "Porém, muitas aplicações precisam levar em conta custos diferentes para cada aresta.    \n",
    "Por exemplo a distância entre duas cidades ou o custo de pedágio para se utilizar determinada rodovia.   \n",
    "    \n",
    "A figura abaixo mostra um grafo com custos nas aretas.    \n",
    "Note que a BFS indicaria que o menor caminho de 0 a 1 seria simplesmente 0->1,    \n",
    "mas podemos ver que 0->2->1,     \n",
    "embora utilize mais arestas, tem um custo menor.    \n",
    "E agora?   \n",
    "<img src=\"https://s3-sa-east-1.amazonaws.com/lcpi/bafb6b0b-7d19-47d8-8b93-293e84b7a7cd.jpg\" style=\"width:30%\" />\n"
   ],
   "cell_type": "markdown",
   "metadata": {}
  },
  {
   "source": [
    "Existem diferentes algoritmos para encontrar o menor caminho entre todos os vértices e um vértice origem (Single Source Shortest Path Problem).    \n",
    "Aqui vamos utilizar o algoritmo de Dijkstra por ser um dos mais famosos e também por já estar relativamente próximo da nossa BFS modificada.    \n",
    "   \n",
    "Primeiramente, vamos precisar de uma nova estrutura conhecida como fila de prioridades.     \n",
    "Esse é um tipo especial de fila que mantém os items ordenados de acordo com sua prioridade.    \n",
    "   \n",
    "Vejamos um exemplo abaixo:   "
   ],
   "cell_type": "markdown",
   "metadata": {}
  },
  {
   "cell_type": "code",
   "execution_count": 10,
   "metadata": {},
   "outputs": [
    {
     "output_type": "stream",
     "name": "stdout",
     "text": [
      "(1, 'eat')\n(2, 'code')\n(3, 'sleep')\n"
     ]
    }
   ],
   "source": [
    "from queue import PriorityQueue\n",
    "\n",
    "pq = PriorityQueue()\n",
    "pq.put((2, 'code'))\n",
    "pq.put((1, 'eat'))\n",
    "pq.put((3, 'sleep'))\n",
    "\n",
    "while not pq.empty():\n",
    "    next_item = pq.get()\n",
    "    print(next_item)\n",
    "\n",
    "# (1, 'eat')\n",
    "# (2, 'code')\n",
    "# (3, 'sleep')"
   ]
  },
  {
   "source": [
    "Note que, independentemente da ordem em que os itens são inseridos na fila,     \n",
    "eles sempre sairão ordenados de acordo com sua prioridade (no caso desta implementação, a prioridade é o primeiro item da tupla, e a ordem é ascendente).    \n",
    "    \n",
    "Finalmente podemos implementar o Algoritmo de Dijkstra para encontrar menores caminhos (complexidade $O(|E|+|V|log|V|)$).      \n",
    "Note que é uma idéia similar ao que fizemos com a BFS modificada. Porém, como o grafo tem custos, precisamos priorizar o menor caminho.   \n",
    "    \n",
    "A complexidade adicional $log|V|$ vem da fila de prioridades    \n",
    "que utiliza uma estrutura de dados (min-heap) que possibilita achar o mínimo (e fazer inserções) em tempo $log(n)$    "
   ],
   "cell_type": "markdown",
   "metadata": {}
  },
  {
   "cell_type": "code",
   "execution_count": 13,
   "metadata": {},
   "outputs": [],
   "source": [
    "def dijkstra(g, s):\n",
    "    dist = [float('inf')] * len(g)\n",
    "    parent = [None] * len(g)\n",
    "    queue = PriorityQueue()\n",
    "\n",
    "    dist[s] = 0\n",
    "    queue.put((dist[s], s))\n",
    "    while not queue.empty():\n",
    "        current_dist, current = queue.get()\n",
    "        if current_dist > dist[current]:\n",
    "            # caso um nó entre mais de uma vez na fila, ignorar\n",
    "            continue\n",
    "        for v, weight in g.get_neighbors(current, get_weights=True):\n",
    "            new_dist = dist[current] + weight\n",
    "            # testa se encontrou um caminho mais curto e atualiza as distâncias\n",
    "            if new_dist < dist[v]:\n",
    "                dist[v] = new_dist\n",
    "                parent[v] = current\n",
    "                queue.put((dist[v], v))\n",
    "\n",
    "    return dist, parent\n",
    "#\n",
    "\n"
   ]
  },
  {
   "cell_type": "code",
   "execution_count": 15,
   "metadata": {},
   "outputs": [
    {
     "output_type": "stream",
     "name": "stdout",
     "text": [
      "[None, 0, 1, 0, 3, 3, 5, 4]\n"
     ]
    },
    {
     "output_type": "error",
     "ename": "IndexError",
     "evalue": "list index out of range",
     "traceback": [
      "\u001b[1;31m---------------------------------------------------------------------------\u001b[0m",
      "\u001b[1;31mIndexError\u001b[0m                                Traceback (most recent call last)",
      "\u001b[1;32m<ipython-input-15-af2e79929207>\u001b[0m in \u001b[0;36m<module>\u001b[1;34m\u001b[0m\n\u001b[0;32m      3\u001b[0m \u001b[0mprint\u001b[0m\u001b[1;33m(\u001b[0m\u001b[0mparent\u001b[0m\u001b[1;33m)\u001b[0m\u001b[1;33m\u001b[0m\u001b[1;33m\u001b[0m\u001b[0m\n\u001b[0;32m      4\u001b[0m \u001b[0mt\u001b[0m \u001b[1;33m=\u001b[0m \u001b[1;36m10\u001b[0m\u001b[1;33m\u001b[0m\u001b[1;33m\u001b[0m\u001b[0m\n\u001b[1;32m----> 5\u001b[1;33m \u001b[0mpath\u001b[0m \u001b[1;33m=\u001b[0m \u001b[1;34m'->'\u001b[0m\u001b[1;33m.\u001b[0m\u001b[0mjoin\u001b[0m\u001b[1;33m(\u001b[0m\u001b[0mmap\u001b[0m\u001b[1;33m(\u001b[0m\u001b[0mstr\u001b[0m\u001b[1;33m,\u001b[0m\u001b[0mbuild_path\u001b[0m\u001b[1;33m(\u001b[0m\u001b[0mparent\u001b[0m\u001b[1;33m,\u001b[0m \u001b[0mt\u001b[0m\u001b[1;33m)\u001b[0m\u001b[1;33m)\u001b[0m\u001b[1;33m)\u001b[0m\u001b[1;33m\u001b[0m\u001b[1;33m\u001b[0m\u001b[0m\n\u001b[0m\u001b[0;32m      6\u001b[0m \u001b[0mprint\u001b[0m\u001b[1;33m(\u001b[0m\u001b[1;34mf'Caminho de {s} até {t}: {path} (custo: {dist[t]})'\u001b[0m\u001b[1;33m)\u001b[0m\u001b[1;33m\u001b[0m\u001b[1;33m\u001b[0m\u001b[0m\n\u001b[0;32m      7\u001b[0m \u001b[1;31m# Caminho de 0 até 10: 0->8->9->10 (custo: 9)\u001b[0m\u001b[1;33m\u001b[0m\u001b[1;33m\u001b[0m\u001b[1;33m\u001b[0m\u001b[0m\n",
      "\u001b[1;32m<ipython-input-12-06ce0f011c36>\u001b[0m in \u001b[0;36mbuild_path\u001b[1;34m(parent, t)\u001b[0m\n\u001b[0;32m      1\u001b[0m \u001b[1;32mdef\u001b[0m \u001b[0mbuild_path\u001b[0m\u001b[1;33m(\u001b[0m\u001b[0mparent\u001b[0m\u001b[1;33m,\u001b[0m \u001b[0mt\u001b[0m\u001b[1;33m)\u001b[0m\u001b[1;33m:\u001b[0m\u001b[1;33m\u001b[0m\u001b[1;33m\u001b[0m\u001b[0m\n\u001b[1;32m----> 2\u001b[1;33m     \u001b[1;32mif\u001b[0m \u001b[0mparent\u001b[0m\u001b[1;33m[\u001b[0m\u001b[0mt\u001b[0m\u001b[1;33m]\u001b[0m \u001b[1;32mis\u001b[0m \u001b[1;32mNone\u001b[0m\u001b[1;33m:\u001b[0m\u001b[1;33m\u001b[0m\u001b[1;33m\u001b[0m\u001b[0m\n\u001b[0m\u001b[0;32m      3\u001b[0m         \u001b[1;32mreturn\u001b[0m \u001b[1;33m[\u001b[0m\u001b[0mt\u001b[0m\u001b[1;33m]\u001b[0m\u001b[1;33m\u001b[0m\u001b[1;33m\u001b[0m\u001b[0m\n\u001b[0;32m      4\u001b[0m     \u001b[1;32mreturn\u001b[0m \u001b[0mbuild_path\u001b[0m\u001b[1;33m(\u001b[0m\u001b[0mparent\u001b[0m\u001b[1;33m,\u001b[0m \u001b[0mparent\u001b[0m\u001b[1;33m[\u001b[0m\u001b[0mt\u001b[0m\u001b[1;33m]\u001b[0m\u001b[1;33m)\u001b[0m \u001b[1;33m+\u001b[0m \u001b[1;33m[\u001b[0m\u001b[0mt\u001b[0m\u001b[1;33m]\u001b[0m\u001b[1;33m\u001b[0m\u001b[1;33m\u001b[0m\u001b[0m\n\u001b[0;32m      5\u001b[0m \u001b[0mprint\u001b[0m\u001b[1;33m(\u001b[0m\u001b[1;34m'->'\u001b[0m\u001b[1;33m.\u001b[0m\u001b[0mjoin\u001b[0m\u001b[1;33m(\u001b[0m\u001b[0mmap\u001b[0m\u001b[1;33m(\u001b[0m\u001b[0mstr\u001b[0m\u001b[1;33m,\u001b[0m\u001b[0mbuild_path\u001b[0m\u001b[1;33m(\u001b[0m\u001b[0mparent\u001b[0m\u001b[1;33m,\u001b[0m \u001b[1;36m5\u001b[0m\u001b[1;33m)\u001b[0m\u001b[1;33m)\u001b[0m\u001b[1;33m)\u001b[0m\u001b[1;33m)\u001b[0m\u001b[1;33m\u001b[0m\u001b[1;33m\u001b[0m\u001b[0m\n",
      "\u001b[1;31mIndexError\u001b[0m: list index out of range"
     ]
    }
   ],
   "source": [
    "s = 0\n",
    "dist, parent = dijkstra(g, s)\n",
    "print(parent)\n",
    "t = 10\n",
    "path = '->'.join(map(str,build_path(parent, t)))\n",
    "print(f'Caminho de {s} até {t}: {path} (custo: {dist[t]})')\n",
    "# Caminho de 0 até 10: 0->8->9->10 (custo: 9)"
   ]
  },
  {
   "cell_type": "code",
   "execution_count": null,
   "metadata": {},
   "outputs": [],
   "source": []
  }
 ]
}