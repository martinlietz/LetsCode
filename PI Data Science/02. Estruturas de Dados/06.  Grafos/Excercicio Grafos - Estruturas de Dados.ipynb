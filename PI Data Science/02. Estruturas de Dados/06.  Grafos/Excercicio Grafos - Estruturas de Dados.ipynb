{
 "metadata": {
  "language_info": {
   "codemirror_mode": {
    "name": "ipython",
    "version": 3
   },
   "file_extension": ".py",
   "mimetype": "text/x-python",
   "name": "python",
   "nbconvert_exporter": "python",
   "pygments_lexer": "ipython3",
   "version": "3.9.0"
  },
  "orig_nbformat": 2,
  "kernelspec": {
   "name": "python390jvsc74a57bd0e922dd073470bdcc017ae3abd31d6491d6ed7bf31c1d559806e5511bfea88b81",
   "display_name": "Python 3.9.0 32-bit"
  }
 },
 "nbformat": 4,
 "nbformat_minor": 2,
 "cells": [
  {
   "source": [
    "# Questão #1  \n",
    "```Vale 20```  \n",
    "1. Implemente o grafo ilustrado pela figura abaixo,    \n",
    "utilizando a representação baseada em uma matriz de adjacências.    \n",
    "Em seguida, exiba a matriz que representa o grafo.\n",
    "\n",
    "\n",
    "\n",
    "\n",
    "<img src=\"https://s3-sa-east-1.amazonaws.com/lcpi/c5b98cc3-2c85-4d9a-b1e8-aaa4b1aba9b3.png\" style=\"width:20%\"/>"
   ],
   "cell_type": "markdown",
   "metadata": {}
  },
  {
   "source": [
    "# Questão #2  \n",
    "```Vale 4```  \n",
    "      \n",
    "Enunciado    \n",
    "\n",
    "Considere um determinado número de cidades (N) e uma determinada quantidade de rotas (M) que você sabe que existem entre aquelas cidades.   \n",
    "Com base nisso, você deve criar um script em Python que recebe um número N de cidades e um número M de caminhos que existem entre elas.    \n",
    "Em seguida, seu programa vai ler quais são esses M caminhos e a distância deles.\n",
    "Para exemplificar, vamos analisar a entrada abaixo:\n",
    "```python\n",
    "3 2  \n",
    "0 1 10  \n",
    "1 2 23  \n",
    "```\n",
    "\n",
    "O exemplo acima é bem simples. Os dois primeiros números são o N e o M; ou seja, existem 3 cidades e 2 caminhos conhecidos entre elas. Em seguida, temos os dois caminhos:\n",
    "\n",
    "  - O primeiro vai da cidade 0 para a cidade 1, cuja distância é de 10.\n",
    "  - O segundo vai da cidade 1 para a cidade 2, cuja distância é de 23.\n",
    "Teste o seu programa para a entrada acima e, também, para a entrada abaixo:\n",
    "```python\n",
    "\n",
    "7 11\n",
    "0 1 7\n",
    "0 3 5\n",
    "1 2 8\n",
    "1 3 9\n",
    "1 4 7\n",
    "2 4 5\n",
    "3 4 15\n",
    "3 5 6\n",
    "4 5 8\n",
    "4 6 9\n",
    "5 6 11\n",
    "\n",
    "```"
   ],
   "cell_type": "markdown",
   "metadata": {}
  },
  {
   "cell_type": "code",
   "execution_count": null,
   "metadata": {},
   "outputs": [],
   "source": []
  },
  {
   "cell_type": "code",
   "execution_count": 2,
   "metadata": {},
   "outputs": [
    {
     "output_type": "error",
     "ename": "TypeError",
     "evalue": "'str' object cannot be interpreted as an integer",
     "traceback": [
      "\u001b[1;31m---------------------------------------------------------------------------\u001b[0m",
      "\u001b[1;31mTypeError\u001b[0m                                 Traceback (most recent call last)",
      "\u001b[1;32m<ipython-input-2-33cf45aa7f47>\u001b[0m in \u001b[0;36m<module>\u001b[1;34m\u001b[0m\n\u001b[0;32m      1\u001b[0m \u001b[0mconnections\u001b[0m \u001b[1;33m=\u001b[0m \u001b[1;33m[\u001b[0m\u001b[1;33m]\u001b[0m\u001b[1;33m\u001b[0m\u001b[1;33m\u001b[0m\u001b[0m\n\u001b[0;32m      2\u001b[0m \u001b[0mresp\u001b[0m \u001b[1;33m=\u001b[0m \u001b[0mstr\u001b[0m\u001b[1;33m(\u001b[0m\u001b[0minput\u001b[0m\u001b[1;33m(\u001b[0m\u001b[1;34m\"Digita número N de cidades e um número M de caminhos e.g. 3 2 :\"\u001b[0m\u001b[1;33m)\u001b[0m\u001b[1;33m)\u001b[0m\u001b[1;33m\u001b[0m\u001b[1;33m\u001b[0m\u001b[0m\n\u001b[1;32m----> 3\u001b[1;33m \u001b[1;32mfor\u001b[0m \u001b[0mi\u001b[0m \u001b[1;32min\u001b[0m \u001b[0mrange\u001b[0m\u001b[1;33m(\u001b[0m\u001b[0mresp\u001b[0m\u001b[1;33m)\u001b[0m\u001b[1;33m:\u001b[0m\u001b[1;33m\u001b[0m\u001b[1;33m\u001b[0m\u001b[0m\n\u001b[0m\u001b[0;32m      4\u001b[0m     \u001b[0mrespCnn\u001b[0m \u001b[1;33m=\u001b[0m \u001b[0mstr\u001b[0m\u001b[1;33m(\u001b[0m\u001b[0minput\u001b[0m\u001b[1;33m(\u001b[0m\u001b[1;34m\"Digita número N de cidades e um número M de caminhos e.g. 3 2 :\"\u001b[0m\u001b[1;33m)\u001b[0m\u001b[1;33m)\u001b[0m\u001b[1;33m\u001b[0m\u001b[1;33m\u001b[0m\u001b[0m\n\u001b[0;32m      5\u001b[0m     \u001b[0mconnections\u001b[0m\u001b[1;33m.\u001b[0m\u001b[0mappend\u001b[0m\u001b[1;33m(\u001b[0m\u001b[0mrespCnn\u001b[0m\u001b[1;33m.\u001b[0m\u001b[0msplit\u001b[0m\u001b[1;33m(\u001b[0m\u001b[1;33m)\u001b[0m\u001b[1;33m)\u001b[0m\u001b[1;33m\u001b[0m\u001b[1;33m\u001b[0m\u001b[0m\n",
      "\u001b[1;31mTypeError\u001b[0m: 'str' object cannot be interpreted as an integer"
     ]
    }
   ],
   "source": [
    "connections = []\n",
    "resp = str(input(\"Digita número N de cidades e um número M de caminhos e.g. 3 2 :\"))\n",
    "for i in range(resp.split()[1]):\n",
    "    respCnn = str(input(\"Digita número N de cidades e um número M de caminhos e.g. 3 2 :\"))\n",
    "    connections.append(respCnn.split())\n",
    "\n",
    "print(connections)"
   ]
  },
  {
   "source": [
    "# Questão #3 \n",
    "```Vale 10```  \n",
    "      \n",
    "Enunciado   \n",
    "\n",
    "Implemente o grafo ilustrado pela figura abaixo,   \n",
    "utilizando a representação baseada em uma lista de adjacências.     \n",
    "Em seguida, observe a lista de adjacências que representa o grafo.\n",
    "\n",
    "<img src=\"https://ycpcs.github.io/cs360-spring2019/lectures/images/lecture15/digraph.png\" style=\"width:30%\" />"
   ],
   "cell_type": "markdown",
   "metadata": {}
  },
  {
   "source": [
    "# Questão #4  \n",
    "```Vale 5```  \n",
    "      \n",
    "Enunciado   \n",
    "\n",
    "O grafo dos estados do Brasil é definido da seguinte forma:  \n",
    "Cada vértice é um dos estados estados da República Federativa do Brasil    \n",
    "Dois estados são adjacentes se têm uma fronteira comum    \n",
    "Com base nisso, faça um desenho desse grafo.   \n",
    "\n",
    "1. Quantos vértices tem o grafo?   \n",
    "2. Quantas arestas? \n",
    "\n",
    "Faça uma implementação computacional, utilizando a representação que você preferir (matriz ou lista de adjacências).  "
   ],
   "cell_type": "markdown",
   "metadata": {}
  },
  {
   "source": [
    "# Questão #5  \n",
    "```Vale 6```  \n",
    "      \n",
    "Enunciado     \n",
    "\n",
    "Implemente o grafo ponderado ilustrado pela figura abaixo, utilizando as representações baseadas em:   \n",
    "1. matriz de adjacências;  \n",
    "2. lista de adjacências.  \n",
    "Em seguida, exiba a matriz e a lista que representam o grafo.   \n",
    "<img src=\"https://ucarecdn.com/a67cb888-aa0c-424b-8c7f-847e38dd5691/\" style=\"width:30%\" />"
   ],
   "cell_type": "markdown",
   "metadata": {}
  }
 ]
}