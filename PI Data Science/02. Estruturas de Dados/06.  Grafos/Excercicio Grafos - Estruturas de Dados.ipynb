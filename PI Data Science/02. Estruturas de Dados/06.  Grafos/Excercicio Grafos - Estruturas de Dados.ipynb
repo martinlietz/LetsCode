{
 "metadata": {
  "language_info": {
   "codemirror_mode": {
    "name": "ipython",
    "version": 3
   },
   "file_extension": ".py",
   "mimetype": "text/x-python",
   "name": "python",
   "nbconvert_exporter": "python",
   "pygments_lexer": "ipython3",
   "version": "3.9.0"
  },
  "orig_nbformat": 2,
  "kernelspec": {
   "name": "python390jvsc74a57bd0e922dd073470bdcc017ae3abd31d6491d6ed7bf31c1d559806e5511bfea88b81",
   "display_name": "Python 3.9.0 32-bit"
  }
 },
 "nbformat": 4,
 "nbformat_minor": 2,
 "cells": [
  {
   "source": [
    "# Questão #1  \n",
    "```Vale 20```  \n",
    "1. Implemente o grafo ilustrado pela figura abaixo,    \n",
    "utilizando a representação baseada em uma matriz de adjacências.    \n",
    "Em seguida, exiba a matriz que representa o grafo.\n",
    "\n",
    "\n",
    "\n",
    "\n",
    "<img src=\"https://s3-sa-east-1.amazonaws.com/lcpi/c5b98cc3-2c85-4d9a-b1e8-aaa4b1aba9b3.png\" style=\"width:20%\"/>"
   ],
   "cell_type": "markdown",
   "metadata": {}
  },
  {
   "source": [
    "# Questão #2  \n",
    "```Vale 4```  \n",
    "      \n",
    "Enunciado    \n",
    "\n",
    "Considere um determinado número de cidades (N) e uma determinada quantidade de rotas (M) que você sabe que existem entre aquelas cidades.   \n",
    "Com base nisso, você deve criar um script em Python que recebe um número N de cidades e um número M de caminhos que existem entre elas.    \n",
    "Em seguida, seu programa vai ler quais são esses M caminhos e a distância deles.\n",
    "Para exemplificar, vamos analisar a entrada abaixo:\n",
    "```python\n",
    "3 2  \n",
    "0 1 10  \n",
    "1 2 23  \n",
    "```\n",
    "\n",
    "O exemplo acima é bem simples. Os dois primeiros números são o N e o M; ou seja, existem 3 cidades e 2 caminhos conhecidos entre elas. Em seguida, temos os dois caminhos:\n",
    "\n",
    "  - O primeiro vai da cidade 0 para a cidade 1, cuja distância é de 10.\n",
    "  - O segundo vai da cidade 1 para a cidade 2, cuja distância é de 23.\n",
    "Teste o seu programa para a entrada acima e, também, para a entrada abaixo:\n",
    "```python\n",
    "\n",
    "7 11\n",
    "0 1 7\n",
    "0 3 5\n",
    "1 2 8\n",
    "1 3 9\n",
    "1 4 7\n",
    "2 4 5\n",
    "3 4 15\n",
    "3 5 6\n",
    "4 5 8\n",
    "4 6 9\n",
    "5 6 11\n",
    "\n",
    "```"
   ],
   "cell_type": "markdown",
   "metadata": {}
  },
  {
   "cell_type": "code",
   "execution_count": null,
   "metadata": {},
   "outputs": [],
   "source": []
  },
  {
   "cell_type": "code",
   "execution_count": 7,
   "metadata": {},
   "outputs": [],
   "source": [
    "# Libraries\n",
    "import matplotlib.patches as patches\n",
    "import matplotlib.pyplot as plt\n",
    "import numpy as np\n",
    "import pandas as pd\n",
    "import networkx as nx"
   ]
  },
  {
   "cell_type": "code",
   "execution_count": 6,
   "metadata": {},
   "outputs": [
    {
     "output_type": "stream",
     "name": "stdout",
     "text": [
      "[['0', '1', '10'], ['1', '2', '23']]\n"
     ]
    }
   ],
   "source": [
    "connections = []\n",
    "resp = str(input(\"Digita número N de cidades e um número M de caminhos e.g. 3 2 :\"))\n",
    "for i in range(int(resp.split()[1])):\n",
    "    respCnn = str(input(\"Digita número N de cidades e um número M de caminhos e.g. 3 2 :\"))\n",
    "    connections.append(respCnn.split())\n",
    "\n",
    "print(connections)"
   ]
  },
  {
   "cell_type": "code",
   "execution_count": 26,
   "metadata": {},
   "outputs": [],
   "source": [
    "ar = np.array(connections)\n",
    "g = nx.Graph()\n",
    "for i in (np.unique(np.concatenate((ar[:,0],ar[:,1]))).tolist()):\n",
    "    g.add_node(i)\n",
    "for i in connections:\n",
    "    g.add_edge(i[0],i[1],weight=i[2])\n"
   ]
  },
  {
   "cell_type": "code",
   "execution_count": 27,
   "metadata": {},
   "outputs": [
    {
     "output_type": "stream",
     "name": "stdout",
     "text": [
      "\n\nMatriz de adjacência:\n\n[[ 0. 10.  0.]\n [10.  0. 23.]\n [ 0. 23.  0.]]\n"
     ]
    }
   ],
   "source": [
    "print(\"\\n\\nMatriz de adjacência:\\n\")\n",
    "m = nx.adjacency_matrix(g).todense()\n",
    "\n",
    "print(m)"
   ]
  },
  {
   "cell_type": "code",
   "execution_count": 28,
   "metadata": {},
   "outputs": [
    {
     "output_type": "display_data",
     "data": {
      "text/plain": "<Figure size 432x288 with 1 Axes>",
      "image/svg+xml": "<?xml version=\"1.0\" encoding=\"utf-8\" standalone=\"no\"?>\r\n<!DOCTYPE svg PUBLIC \"-//W3C//DTD SVG 1.1//EN\"\r\n  \"http://www.w3.org/Graphics/SVG/1.1/DTD/svg11.dtd\">\r\n<!-- Created with matplotlib (https://matplotlib.org/) -->\r\n<svg height=\"231.84pt\" version=\"1.1\" viewBox=\"0 0 349.2 231.84\" width=\"349.2pt\" xmlns=\"http://www.w3.org/2000/svg\" xmlns:xlink=\"http://www.w3.org/1999/xlink\">\r\n <metadata>\r\n  <rdf:RDF xmlns:cc=\"http://creativecommons.org/ns#\" xmlns:dc=\"http://purl.org/dc/elements/1.1/\" xmlns:rdf=\"http://www.w3.org/1999/02/22-rdf-syntax-ns#\">\r\n   <cc:Work>\r\n    <dc:type rdf:resource=\"http://purl.org/dc/dcmitype/StillImage\"/>\r\n    <dc:date>2021-06-04T20:29:11.657824</dc:date>\r\n    <dc:format>image/svg+xml</dc:format>\r\n    <dc:creator>\r\n     <cc:Agent>\r\n      <dc:title>Matplotlib v3.3.4, https://matplotlib.org/</dc:title>\r\n     </cc:Agent>\r\n    </dc:creator>\r\n   </cc:Work>\r\n  </rdf:RDF>\r\n </metadata>\r\n <defs>\r\n  <style type=\"text/css\">*{stroke-linecap:butt;stroke-linejoin:round;}</style>\r\n </defs>\r\n <g id=\"figure_1\">\r\n  <g id=\"patch_1\">\r\n   <path d=\"M 0 231.84 \r\nL 349.2 231.84 \r\nL 349.2 0 \r\nL 0 0 \r\nz\r\n\" style=\"fill:none;\"/>\r\n  </g>\r\n  <g id=\"axes_1\">\r\n   <g id=\"patch_2\">\r\n    <path d=\"M 7.2 224.64 \r\nL 342 224.64 \r\nL 342 7.2 \r\nL 7.2 7.2 \r\nz\r\n\" style=\"fill:#ffffff;\"/>\r\n   </g>\r\n   <g id=\"LineCollection_1\">\r\n    <path clip-path=\"url(#pff12c4becd)\" d=\"M 319.267645 214.756364 \r\nL 22.418182 17.083636 \r\n\" style=\"fill:none;stroke:#000000;\"/>\r\n    <path clip-path=\"url(#pff12c4becd)\" d=\"M 22.418182 17.083636 \r\nL 326.781818 70.942288 \r\n\" style=\"fill:none;stroke:#000000;\"/>\r\n   </g>\r\n   <g id=\"matplotlib.axis_1\">\r\n    <g id=\"xtick_1\"/>\r\n    <g id=\"xtick_2\"/>\r\n    <g id=\"xtick_3\"/>\r\n    <g id=\"xtick_4\"/>\r\n    <g id=\"xtick_5\"/>\r\n    <g id=\"xtick_6\"/>\r\n    <g id=\"xtick_7\"/>\r\n    <g id=\"xtick_8\"/>\r\n   </g>\r\n   <g id=\"matplotlib.axis_2\">\r\n    <g id=\"ytick_1\"/>\r\n    <g id=\"ytick_2\"/>\r\n    <g id=\"ytick_3\"/>\r\n    <g id=\"ytick_4\"/>\r\n    <g id=\"ytick_5\"/>\r\n    <g id=\"ytick_6\"/>\r\n    <g id=\"ytick_7\"/>\r\n    <g id=\"ytick_8\"/>\r\n   </g>\r\n   <g id=\"PathCollection_1\">\r\n    <defs>\r\n     <path d=\"M 0 8.660254 \r\nC 2.296726 8.660254 4.499694 7.747755 6.123724 6.123724 \r\nC 7.747755 4.499694 8.660254 2.296726 8.660254 0 \r\nC 8.660254 -2.296726 7.747755 -4.499694 6.123724 -6.123724 \r\nC 4.499694 -7.747755 2.296726 -8.660254 0 -8.660254 \r\nC -2.296726 -8.660254 -4.499694 -7.747755 -6.123724 -6.123724 \r\nC -7.747755 -4.499694 -8.660254 -2.296726 -8.660254 0 \r\nC -8.660254 2.296726 -7.747755 4.499694 -6.123724 6.123724 \r\nC -4.499694 7.747755 -2.296726 8.660254 0 8.660254 \r\nz\r\n\" id=\"m549f42fb6c\" style=\"stroke:#0000ff;\"/>\r\n    </defs>\r\n    <g clip-path=\"url(#pff12c4becd)\">\r\n     <use style=\"fill:#0000ff;stroke:#0000ff;\" x=\"319.267645\" xlink:href=\"#m549f42fb6c\" y=\"214.756364\"/>\r\n     <use style=\"fill:#0000ff;stroke:#0000ff;\" x=\"22.418182\" xlink:href=\"#m549f42fb6c\" y=\"17.083636\"/>\r\n     <use style=\"fill:#0000ff;stroke:#0000ff;\" x=\"326.781818\" xlink:href=\"#m549f42fb6c\" y=\"70.942288\"/>\r\n    </g>\r\n   </g>\r\n   <g id=\"patch_3\">\r\n    <path d=\"M 7.2 224.64 \r\nL 7.2 7.2 \r\n\" style=\"fill:none;stroke:#000000;stroke-linecap:square;stroke-linejoin:miter;stroke-width:0.8;\"/>\r\n   </g>\r\n   <g id=\"patch_4\">\r\n    <path d=\"M 342 224.64 \r\nL 342 7.2 \r\n\" style=\"fill:none;stroke:#000000;stroke-linecap:square;stroke-linejoin:miter;stroke-width:0.8;\"/>\r\n   </g>\r\n   <g id=\"patch_5\">\r\n    <path d=\"M 7.2 224.64 \r\nL 342 224.64 \r\n\" style=\"fill:none;stroke:#000000;stroke-linecap:square;stroke-linejoin:miter;stroke-width:0.8;\"/>\r\n   </g>\r\n   <g id=\"patch_6\">\r\n    <path d=\"M 7.2 7.2 \r\nL 342 7.2 \r\n\" style=\"fill:none;stroke:#000000;stroke-linecap:square;stroke-linejoin:miter;stroke-width:0.8;\"/>\r\n   </g>\r\n   <g id=\"text_1\">\r\n    <g clip-path=\"url(#pff12c4becd)\">\r\n     <!-- 0 -->\r\n     <g transform=\"translate(315.450145 218.067614)scale(0.12 -0.12)\">\r\n      <defs>\r\n       <path d=\"M 31.78125 66.40625 \r\nQ 24.171875 66.40625 20.328125 58.90625 \r\nQ 16.5 51.421875 16.5 36.375 \r\nQ 16.5 21.390625 20.328125 13.890625 \r\nQ 24.171875 6.390625 31.78125 6.390625 \r\nQ 39.453125 6.390625 43.28125 13.890625 \r\nQ 47.125 21.390625 47.125 36.375 \r\nQ 47.125 51.421875 43.28125 58.90625 \r\nQ 39.453125 66.40625 31.78125 66.40625 \r\nz\r\nM 31.78125 74.21875 \r\nQ 44.046875 74.21875 50.515625 64.515625 \r\nQ 56.984375 54.828125 56.984375 36.375 \r\nQ 56.984375 17.96875 50.515625 8.265625 \r\nQ 44.046875 -1.421875 31.78125 -1.421875 \r\nQ 19.53125 -1.421875 13.0625 8.265625 \r\nQ 6.59375 17.96875 6.59375 36.375 \r\nQ 6.59375 54.828125 13.0625 64.515625 \r\nQ 19.53125 74.21875 31.78125 74.21875 \r\nz\r\n\" id=\"DejaVuSans-48\"/>\r\n      </defs>\r\n      <use xlink:href=\"#DejaVuSans-48\"/>\r\n     </g>\r\n    </g>\r\n   </g>\r\n   <g id=\"text_2\">\r\n    <g clip-path=\"url(#pff12c4becd)\">\r\n     <!-- 1 -->\r\n     <g transform=\"translate(18.600682 20.394886)scale(0.12 -0.12)\">\r\n      <defs>\r\n       <path d=\"M 12.40625 8.296875 \r\nL 28.515625 8.296875 \r\nL 28.515625 63.921875 \r\nL 10.984375 60.40625 \r\nL 10.984375 69.390625 \r\nL 28.421875 72.90625 \r\nL 38.28125 72.90625 \r\nL 38.28125 8.296875 \r\nL 54.390625 8.296875 \r\nL 54.390625 0 \r\nL 12.40625 0 \r\nz\r\n\" id=\"DejaVuSans-49\"/>\r\n      </defs>\r\n      <use xlink:href=\"#DejaVuSans-49\"/>\r\n     </g>\r\n    </g>\r\n   </g>\r\n   <g id=\"text_3\">\r\n    <g clip-path=\"url(#pff12c4becd)\">\r\n     <!-- 2 -->\r\n     <g transform=\"translate(322.964318 74.253538)scale(0.12 -0.12)\">\r\n      <defs>\r\n       <path d=\"M 19.1875 8.296875 \r\nL 53.609375 8.296875 \r\nL 53.609375 0 \r\nL 7.328125 0 \r\nL 7.328125 8.296875 \r\nQ 12.9375 14.109375 22.625 23.890625 \r\nQ 32.328125 33.6875 34.8125 36.53125 \r\nQ 39.546875 41.84375 41.421875 45.53125 \r\nQ 43.3125 49.21875 43.3125 52.78125 \r\nQ 43.3125 58.59375 39.234375 62.25 \r\nQ 35.15625 65.921875 28.609375 65.921875 \r\nQ 23.96875 65.921875 18.8125 64.3125 \r\nQ 13.671875 62.703125 7.8125 59.421875 \r\nL 7.8125 69.390625 \r\nQ 13.765625 71.78125 18.9375 73 \r\nQ 24.125 74.21875 28.421875 74.21875 \r\nQ 39.75 74.21875 46.484375 68.546875 \r\nQ 53.21875 62.890625 53.21875 53.421875 \r\nQ 53.21875 48.921875 51.53125 44.890625 \r\nQ 49.859375 40.875 45.40625 35.40625 \r\nQ 44.1875 33.984375 37.640625 27.21875 \r\nQ 31.109375 20.453125 19.1875 8.296875 \r\nz\r\n\" id=\"DejaVuSans-50\"/>\r\n      </defs>\r\n      <use xlink:href=\"#DejaVuSans-50\"/>\r\n     </g>\r\n    </g>\r\n   </g>\r\n  </g>\r\n </g>\r\n <defs>\r\n  <clipPath id=\"pff12c4becd\">\r\n   <rect height=\"217.44\" width=\"334.8\" x=\"7.2\" y=\"7.2\"/>\r\n  </clipPath>\r\n </defs>\r\n</svg>\r\n",
      "image/png": "[encoded data removed]"
     },
     "metadata": {}
    }
   ],
   "source": [
    "pos = nx.random_layout(g)\n",
    "nx.draw_networkx(g, pos=pos, node_color=\"blue\")"
   ]
  },
  {
   "source": [
    "# Questão #3 \n",
    "```Vale 10```  \n",
    "      \n",
    "Enunciado   \n",
    "\n",
    "Implemente o grafo ilustrado pela figura abaixo,   \n",
    "utilizando a representação baseada em uma lista de adjacências.     \n",
    "Em seguida, observe a lista de adjacências que representa o grafo.\n",
    "\n",
    "<img src=\"https://ycpcs.github.io/cs360-spring2019/lectures/images/lecture15/digraph.png\" style=\"width:30%\" />"
   ],
   "cell_type": "markdown",
   "metadata": {}
  },
  {
   "source": [
    "# Questão #4  \n",
    "```Vale 5```  \n",
    "      \n",
    "Enunciado   \n",
    "\n",
    "O grafo dos estados do Brasil é definido da seguinte forma:  \n",
    "Cada vértice é um dos estados estados da República Federativa do Brasil    \n",
    "Dois estados são adjacentes se têm uma fronteira comum    \n",
    "Com base nisso, faça um desenho desse grafo.   \n",
    "\n",
    "1. Quantos vértices tem o grafo?   \n",
    "2. Quantas arestas? \n",
    "\n",
    "Faça uma implementação computacional, utilizando a representação que você preferir (matriz ou lista de adjacências).  "
   ],
   "cell_type": "markdown",
   "metadata": {}
  },
  {
   "source": [
    "# Questão #5  \n",
    "```Vale 6```  \n",
    "      \n",
    "Enunciado     \n",
    "\n",
    "Implemente o grafo ponderado ilustrado pela figura abaixo, utilizando as representações baseadas em:   \n",
    "1. matriz de adjacências;  \n",
    "2. lista de adjacências.  \n",
    "Em seguida, exiba a matriz e a lista que representam o grafo.   \n",
    "<img src=\"https://ucarecdn.com/a67cb888-aa0c-424b-8c7f-847e38dd5691/\" style=\"width:30%\" />"
   ],
   "cell_type": "markdown",
   "metadata": {}
  }
 ]
}