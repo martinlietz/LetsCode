{
 "cells": [
  {
   "cell_type": "markdown",
   "metadata": {},
   "source": [
    "\n",
    "# Avaliação Final Pi Data Science"
   ]
  },
  {
   "cell_type": "markdown",
   "metadata": {},
   "source": [
    "Disponilizado em: 11/04/2022    \n",
    "Enviado em: 11/04/2022"
   ]
  },
  {
   "cell_type": "markdown",
   "metadata": {},
   "source": [
    "\n",
    "### Questão 01 \n",
    "Enunciado  :\n",
    "Qual das alternativas contém a saída do código a seguir?   \n",
    "\n",
    "```python\n",
    "try:\n",
    "  print('A',end = ' ')\n",
    "  try:\n",
    "    print('B',end = ' ')\n",
    "  except:\n",
    "    print('C',end = ' ')\n",
    "  print('D',end = ' ')\n",
    "except:\n",
    "  print('E',end = ' ')\n",
    "print('F',end = ' ')\n",
    "```"
   ]
  },
  {
   "cell_type": "markdown",
   "metadata": {},
   "source": [
    "Alternativas:\n",
    "\n",
    "[ ] A D E F\n",
    "\n",
    "[ ] A B D E\n",
    "\n",
    "[ ] B D F E\n",
    "\n",
    "[x] A B D F\n",
    "\n",
    "[ ] A C D F"
   ]
  },
  {
   "cell_type": "code",
   "execution_count": 1,
   "metadata": {},
   "outputs": [
    {
     "name": "stdout",
     "output_type": "stream",
     "text": [
      "A B D F "
     ]
    }
   ],
   "source": [
    "try:\n",
    "        print('A',end = ' ')\n",
    "        try:\n",
    "            print('B',end = ' ')\n",
    "        except:\n",
    "            print('C',end = ' ')\n",
    "        print('D',end = ' ')\n",
    "except:\n",
    "    print('E',end = ' ')\n",
    "print('F',end = ' ')"
   ]
  },
  {
   "cell_type": "markdown",
   "metadata": {},
   "source": [
    "### Questão 02  \n",
    "Enunciado  :\n",
    "Complete o código com a alternativa que produz a saída final: $['A', 'B', 'C', 'D', 'E']$. \n",
    "\n",
    "```python\n",
    "lista_completa = ['A', 'B', 'C', 'D'];\n",
    "letra_nova = ['E']\n",
    "\n",
    "# código deverá ser inserido aqui\n",
    "\n",
    "print(\"final: \", lista_completa);\n",
    "```"
   ]
  },
  {
   "cell_type": "markdown",
   "metadata": {},
   "source": [
    "Alternativas:\n",
    "\n",
    "[ ] lista_completa = letra_nova.append(lista_completa)\n",
    "\n",
    "[ ] lista_completa = ' '.join(lista_completa) + letra_nova\n",
    "\n",
    "[ ] lista_completa = lista_completa + [letra_nova]\n",
    "\n",
    "[ ] lista_completa = [lista_completa] + [letra_nova]\n",
    "\n",
    "[x] lista_completa = listacompleta + letranova"
   ]
  },
  {
   "cell_type": "code",
   "execution_count": 2,
   "metadata": {},
   "outputs": [
    {
     "name": "stdout",
     "output_type": "stream",
     "text": [
      "final:  ['A', 'B', 'C', 'D', 'E']\n"
     ]
    }
   ],
   "source": [
    "lista_completa = ['A', 'B', 'C', 'D']\n",
    "letra_nova = ['E']\n",
    "\n",
    "# código deverá ser inserido aqui\n",
    "\n",
    "lista_completa = lista_completa + letra_nova\n",
    "\n",
    "print(\"final: \", lista_completa)"
   ]
  },
  {
   "cell_type": "markdown",
   "metadata": {},
   "source": [
    "### Questão 03  \n",
    "Enunciado  :\n",
    "Dado o trecho de código a seguir, qual a saída esperada?\n",
    "\n",
    "```python\n",
    "class Acao:\n",
    "\n",
    "  def __init__(self, valor_inicial = -1):\n",
    "    if valor_inicial < 0:\n",
    "      print('erro', end = ' ')\n",
    "    else:\n",
    "      self.valor = valor_inicial\n",
    "\n",
    "  def fechamento(self, valor):\n",
    "    if valor > self.valor:\n",
    "      print('aumento', end = ' ')\n",
    "    elif valor == self.valor:\n",
    "      print('inércia', end = ' ')\n",
    "    else:\n",
    "      print('baixa', end = ' ')\n",
    "    self.valor = valor\n",
    "\n",
    "acao = Acao(100)\n",
    "acao.fechamento(50)\n",
    "acao.fechamento(50)\n",
    "acao.fechamento(75)\n",
    "```"
   ]
  },
  {
   "cell_type": "markdown",
   "metadata": {},
   "source": [
    "Alternativas:\n",
    "\n",
    "[x] baixa inércia aumento\n",
    "\n",
    "[ ] baixa baixa aumento\n",
    "\n",
    "[ ] erro baixa aumento\n",
    "\n",
    "[ ] erro\n",
    "\n",
    "[ ] aumento aumento aumento"
   ]
  },
  {
   "cell_type": "code",
   "execution_count": 3,
   "metadata": {},
   "outputs": [
    {
     "name": "stdout",
     "output_type": "stream",
     "text": [
      "baixa inércia aumento "
     ]
    }
   ],
   "source": [
    "class Acao:\n",
    "\n",
    "  def __init__(self, valor_inicial = -1):\n",
    "    if valor_inicial < 0:\n",
    "      print('erro', end = ' ')\n",
    "    else:\n",
    "      self.valor = valor_inicial\n",
    "\n",
    "  def fechamento(self, valor):\n",
    "    if valor > self.valor:\n",
    "      print('aumento', end = ' ')\n",
    "    elif valor == self.valor:\n",
    "      print('inércia', end = ' ')\n",
    "    else:\n",
    "      print('baixa', end = ' ')\n",
    "    self.valor = valor\n",
    "\n",
    "acao = Acao(100)\n",
    "acao.fechamento(50)\n",
    "acao.fechamento(50)\n",
    "acao.fechamento(75)"
   ]
  },
  {
   "cell_type": "markdown",
   "metadata": {},
   "source": [
    "### Questão 04  \n",
    "Enunciado  :\n",
    "Considere o grafo abaixo. De acordo com o algoritmo de Dijkstra, qual o caminho menos custoso entre os vértices A e D?    \n",
    "<img width=\"30%\" src=\"https://i.imgur.com/0qxCzla.png\" />"
   ]
  },
  {
   "cell_type": "markdown",
   "metadata": {},
   "source": [
    "Alternativas:\n",
    "\n",
    "[ ] A - B - E - D\n",
    "\n",
    "[ ] A - C - B - D\n",
    "\n",
    "[X] A - B - D\n",
    "\n",
    "[ ] A - C - D\n",
    "\n",
    "[ ] A - D"
   ]
  },
  {
   "cell_type": "code",
   "execution_count": 8,
   "metadata": {},
   "outputs": [
    {
     "name": "stdout",
     "output_type": "stream",
     "text": [
      "['A', 'B', 'D']\n"
     ]
    }
   ],
   "source": [
    "import numpy as np\n",
    "import networkx as nx\n",
    "\n",
    "g3 = nx.Graph()\n",
    "\n",
    "g3.add_node('A')\n",
    "g3.add_node('B')\n",
    "g3.add_node('C')\n",
    "g3.add_node('D')\n",
    "g3.add_node('E')\n",
    "\n",
    "g3.add_edge('A', 'B', weight=20)\n",
    "g3.add_edge('A', 'C', weight=30)\n",
    "g3.add_edge('A', 'D', weight=70)\n",
    "\n",
    "g3.add_edge('B', 'D', weight=20)\n",
    "g3.add_edge('B', 'E', weight=20)\n",
    "\n",
    "g3.add_edge('C', 'B', weight=10)\n",
    "g3.add_edge('C', 'D', weight=50)\n",
    "\n",
    "g3.add_edge('E', 'D', weight=25)\n",
    "\n",
    "#########################\n",
    "print(nx.dijkstra_path(g3,'A','D'))"
   ]
  },
  {
   "cell_type": "markdown",
   "metadata": {},
   "source": [
    "### Questão 05  \n",
    "Enunciado  :\n",
    "Tome como referência a Tabela 1.    \n",
    "Qual operação deve ser realizada para chegarmos na Tabela 2?   \n",
    "       \n",
    "<img width=\"10%\" src=\"https://i.imgur.com/xXsuld2.png\" />   \n",
    "\n",
    "<img width=\"10%\" src=\"https://i.imgur.com/Bmw6o4V.png\" />   "
   ]
  },
  {
   "cell_type": "markdown",
   "metadata": {},
   "source": [
    "Alternativas: \n",
    "\n",
    "\n",
    "[ ] df.pivot_table(values = 'C', columns = 'A', index = 'B')\n",
    "\n",
    "[ ] df.pivot_table(values = 'B', columns = 'A', index = 'C')\n",
    "\n",
    "[ ] df.pivot_table(values = 'B', columns = 'C', index = 'A')\n",
    "\n",
    "[ ] df.pivot_table(values = 'A', columns = 'B', index = 'C')\n",
    "\n",
    "[X] df.pivot_table(values = 'A', columns = 'C', index = 'B')"
   ]
  },
  {
   "cell_type": "code",
   "execution_count": 5,
   "metadata": {},
   "outputs": [
    {
     "name": "stdout",
     "output_type": "stream",
     "text": [
      "C   X  Y\n",
      "B       \n",
      "T1  2  5\n",
      "T2  1  6\n",
      "T3  1  2\n",
      "T4  2  3\n"
     ]
    }
   ],
   "source": [
    "import pandas as pd\n",
    "df = pd.DataFrame([[1, 'T1', 'X'], \n",
    "                    [1, 'T2', 'X'],\n",
    "                    [1, 'T3', 'X'],\n",
    "                    [2, 'T4', 'X'],\n",
    "                    [3, 'T1', 'X'],\n",
    "                    [5, 'T1', 'Y'],\n",
    "                    [6, 'T2', 'Y'],\n",
    "                    [2, 'T3', 'Y'],\n",
    "                    [3, 'T4', 'Y']])\n",
    "df.columns = ['A','B','C']\n",
    "print(df.pivot_table(values=\"A\", columns='C', index=\"B\"))"
   ]
  },
  {
   "cell_type": "markdown",
   "metadata": {},
   "source": [
    "### Questão 06  \n",
    "Enunciado  :\n",
    "Julgue as afirmativas a seguir como verdadeiras ou falsas.   \n",
    "    \n",
    "Com a aplicação de técnicas de regularização, overfitting é evitado a partir da redução do espaço de hipóteses acessível;   \n",
    "A regularização L1 (lasso, utilização do valor absoluto) pode implementar feature selection ao efetivamente zerar os parâmetros referentes a determinadas features;   \n",
    "A regularização L2 (ridge, utilização do valor quadrático) pode implementar feature selection ao efetivamente zerar os parâmetros referentes a determinadas features;   "
   ]
  },
  {
   "cell_type": "markdown",
   "metadata": {},
   "source": [
    "Alternativas: \n",
    "\n",
    "   \n",
    "[ ] V, V, V\n",
    "\n",
    "[ ] F, V, V\n",
    "\n",
    "[x] V, V, F\n",
    "\n",
    "[ ] V, F, F\n",
    "\n",
    "[ ] V, F, V"
   ]
  },
  {
   "cell_type": "markdown",
   "metadata": {},
   "source": [
    "### Questão 07  \n",
    "Enunciado  :\n",
    "Julgue as afirmativas a seguir como verdadeiras ou falsas.\n",
    "\n",
    "1. Árvores de decisão, além de outras aplicações, podem ser utilizadas para categorizar variáveis e descobrir regras que mostram interações entre variáveis.\n",
    "2. As folhas de uma árvore de classificação buscam minimizar a pureza entre classes.\n",
    "3. Os algoritmos de bagging só podem ser usados com árvores de decisão."
   ]
  },
  {
   "cell_type": "markdown",
   "metadata": {},
   "source": [
    "Alternativas:   \n",
    "\n",
    "   \n",
    "[ ] F, V, F\n",
    "\n",
    "[ ] V, F, V\n",
    "\n",
    "[ ] V, V, F\n",
    "\n",
    "[ ] V, V, V\n",
    "\n",
    "[X] V, F, F"
   ]
  },
  {
   "cell_type": "markdown",
   "metadata": {},
   "source": [
    "### Questão 08  \n",
    "Enunciado  :\n",
    "Julgue as afirmativas a seguir como verdadeiras ou falsas.\n",
    "     \n",
    "1. Os centroides determinados pelo algoritmo K-means necessariamente pertencem ao conjunto de dados analisados.\n",
    "2. O algoritmo K-means se baseia num processo iterativo que minimiza a soma das distâncias entre os centroides e os pontos dentro de cada agrupamento.\n",
    "3. Uma das restrições de utilizar métodos baseados em distância, como KNN e K-Means, é a necessidade de utilizar a distância Euclidiana."
   ]
  },
  {
   "cell_type": "markdown",
   "metadata": {},
   "source": [
    "Alternativas:   \n",
    "\n",
    "   \n",
    "[ ] V, F, F\n",
    "\n",
    "[ ] V, V, F\n",
    "\n",
    "[ ] V, F, V\n",
    "\n",
    "[ ] F, V, V\n",
    "\n",
    "[X] F, V, F"
   ]
  },
  {
   "cell_type": "markdown",
   "metadata": {},
   "source": [
    "### Questão 09  \n",
    "Enunciado  :\n",
    "Julgue as afirmativas a seguir como verdadeiras ou falsas.   \n",
    "   \n",
    "1. Dado que temos uma regressão logística em um conjunto de variáveis nas quais as explicativas estão todas entre 0 e 10,     \n",
    "a variável com coeficiente ajustado igual a 5 terá menor importância que a variável com coeficiente ajustado igual a -11.\n",
    "2. Ao aumentar o learning rate de um algoritmo de boosting,     \n",
    "devemos também aumentar o número de iterações ou submodelos gerados.\n",
    "3. Não é recomendável combinar modelos de algoritmos base diferentes para obter uma reposta final."
   ]
  },
  {
   "cell_type": "markdown",
   "metadata": {},
   "source": [
    "Alternativas:   \n",
    "   \n",
    "[X] V, F, F\n",
    "\n",
    "[ ] F, F, V\n",
    "\n",
    "[ ] V, V, V\n",
    "\n",
    "[ ] V, V, F\n",
    "\n",
    "[ ] F, F, F"
   ]
  },
  {
   "cell_type": "markdown",
   "metadata": {},
   "source": [
    "### Questão 10  \n",
    "Enunciado  :\n",
    "Julgue as afirmativas a seguir como verdadeiras ou falsas.\n",
    "    \n",
    "       \n",
    "Faça a associação Letra-Número:   \n",
    "   \n",
    "- (A) SGBD\n",
    "- (B) SQL\n",
    "- (C) DDL\n",
    "   \n",
    "-------------\n",
    "    \n",
    "- (1) Linguagem de pesquisa declarativa padrão para banco de dados relacional\n",
    "- (2) Linguagem de definição de dados que permite ao usuário definir as novas tabelas e os elementos que serão associados a elas\n",
    "- (3) Sistema de software responsável pelo gerenciamento de um ou mais bancos de dados"
   ]
  },
  {
   "cell_type": "markdown",
   "metadata": {},
   "source": [
    "A = 3    \n",
    "B = 1   \n",
    "C = 2"
   ]
  },
  {
   "cell_type": "markdown",
   "metadata": {},
   "source": [
    "### Questão 11  \n",
    "Com base nos conhecimentos adquiridos sobre redes neurais multicamada, julgue as afirmativas a seguir como verdadeiras ou falsas.\n",
    "\n",
    "1. O perceptron é utilizado para resolução apenas de problemas não lineares;\n",
    "2. A função de ativação, utilizada após a soma ponderada, tem como objetivo principal adicionar não linearidade ao neurônio;\n",
    "3. Utiliza-se a técnica dropout para evitar overfiting do modelo;\n",
    "4. Durante o treinamento de uma rede neural, o tamanho do batch é inversamente proporcional ao tempo total de treinamento de uma época."
   ]
  },
  {
   "cell_type": "markdown",
   "metadata": {},
   "source": [
    "Alternativas:   \n",
    "\n",
    "  \n",
    "[x] F, V, V, F\n",
    "\n",
    "[ ] V, V, F, F\n",
    "\n",
    "[ ] V, V, V, F\n",
    "\n",
    "[ ] F, V, F, F\n",
    "\n",
    "[ ] F, V, V, V"
   ]
  },
  {
   "cell_type": "markdown",
   "metadata": {},
   "source": [
    "### Questão 12  \n",
    "Julgue as afirmativas a seguir como verdadeiras ou falsas.   \n",
    "   \n",
    "1. Existe uma hierarquia de modelos de dados      \n",
    "que se divide em três níveis de acordo com a capacidade de abstração do modelo: **Conceitual**, **Lógico** e **Físico**\n",
    "2. Existe uma hierarquia de modelos de dados      \n",
    "que se divide em três níveis de acordo com a capacidade de abstração do modelo: **Físico**, **Lógico** e **Conceitual**\n",
    "3. Utilizamos modelagem de dados para representar o ambiente observado     \n",
    "e por isso é importante entender sobre: **Entidade**, **Atributo**, **Relacionamento** e **Cardinalidade**\n",
    "4. Utilizamos modelagem de dados para representar o ambiente observado      \n",
    "e por isso é importante entender sobre: **Entidade**, **Relacional**, **Não Relacional** e **Cardinalidade**"
   ]
  },
  {
   "cell_type": "markdown",
   "metadata": {},
   "source": [
    "Alternativas:   \n",
    "\n",
    "    \n",
    "[ ] V, F, F, F\n",
    "\n",
    "[ ] F, F, V, F\n",
    "\n",
    "[ ] V, F, V, V\n",
    "\n",
    "[X] V, F, V, F\n",
    "\n",
    "[ ] V, F, F, V"
   ]
  },
  {
   "cell_type": "markdown",
   "metadata": {},
   "source": [
    "### Questão 13  \n",
    "Enunciado  :\n",
    "Faça a associação Letra-Número:\n",
    "\n",
    "- (A) Bag of words\n",
    "- (B) TF-IDF\n",
    "- (C) Word Embedding\n",
    "   \n",
    "-------------\n",
    "    \n",
    "- (1) é uma representação vetorial esparsa simplificada de termos, que consiste numa tabela onde as colunas: são todas os termos únicas do texto, as linhas: os textos e os valores: um score de importância do termo no texto\n",
    "\n",
    "- (2) é uma representação vetorial esparsa simplificada de termos, que consiste numa tabela onde as colunas são todas os termos únicas do texto, as linhas os textos e os valores as frequências dos termos no texto\n",
    "\n",
    "- (3) é uma representação vetorial densa de termos, que consiste num vetor de tamanho fixo, onde termos com o mesmo significado tem uma distância vetorial pequena entre si."
   ]
  },
  {
   "cell_type": "markdown",
   "metadata": {},
   "source": [
    "Resposta:      \n",
    "A=2   \n",
    "B=1    \n",
    "C=3   "
   ]
  },
  {
   "cell_type": "markdown",
   "metadata": {},
   "source": [
    "### Questão 14  \n",
    "Enunciado  :\n",
    "Faça a associação Letra-Número:\n",
    "\n",
    "- (A) MLib\n",
    "- (B) Apache Hive\n",
    "- (C) Data Lake\n",
    "- (D) Ingestão\n",
    "- (E) HDFS\n",
    "   \n",
    "-------------\n",
    "\n",
    "- (1) Repositório de dados\n",
    "- (2) Processo de trasferência de dados\n",
    "- (3) Componente do Apache Spark\n",
    "- (4) Data Warehouse para Hadoop\n",
    "- (5) Componente do Apache Hadoop"
   ]
  },
  {
   "cell_type": "markdown",
   "metadata": {},
   "source": [
    "Resposta:   \n",
    "A = 3     \n",
    "B = 5    \n",
    "C = 1    \n",
    "D = 2     \n",
    "E = 4"
   ]
  }
 ],
 "metadata": {
  "interpreter": {
   "hash": "e922dd073470bdcc017ae3abd31d6491d6ed7bf31c1d559806e5511bfea88b81"
  },
  "kernelspec": {
   "display_name": "Python 3.9.7 64-bit",
   "language": "python",
   "name": "python3"
  },
  "language_info": {
   "codemirror_mode": {
    "name": "ipython",
    "version": 3
   },
   "file_extension": ".py",
   "mimetype": "text/x-python",
   "name": "python",
   "nbconvert_exporter": "python",
   "pygments_lexer": "ipython3",
   "version": "3.9.7"
  },
  "orig_nbformat": 4
 },
 "nbformat": 4,
 "nbformat_minor": 2
}
