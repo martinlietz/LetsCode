{
 "metadata": {
  "language_info": {
   "codemirror_mode": {
    "name": "ipython",
    "version": 3
   },
   "file_extension": ".py",
   "mimetype": "text/x-python",
   "name": "python",
   "nbconvert_exporter": "python",
   "pygments_lexer": "ipython3",
   "version": "3.7.8-final"
  },
  "orig_nbformat": 2,
  "kernelspec": {
   "name": "python3",
   "display_name": "Python 3.7.8 32-bit",
   "metadata": {
    "interpreter": {
     "hash": "04635d289a519a1410467dd0afb0db42f9184808881ca68b2eb5a687a20a5a94"
    }
   }
  }
 },
 "nbformat": 4,
 "nbformat_minor": 2,
 "cells": [
  {
   "source": [
    "<h1>Execercicios dentro da aula 7 01/Mar/2021 </h1>\n",
    "<p>Revisçaõ e resolução de Execercicios"
   ],
   "cell_type": "markdown",
   "metadata": {}
  },
  {
   "source": [
    "LC Listas"
   ],
   "cell_type": "markdown",
   "metadata": {}
  },
  {
   "source": [
    "Questão 4"
   ],
   "cell_type": "markdown",
   "metadata": {}
  },
  {
   "cell_type": "code",
   "execution_count": null,
   "metadata": {},
   "outputs": [],
   "source": [
    "a = (1, 11, 2)\n",
    "b = ({\"a\":\"1\"}, {\"a\":\"2\"}, {\"a\":\"3\"})\n",
    "x = sorted(b, key=lambda item: item['a'] , reverse=True)\n",
    "y = map(lambda item: item['a'] , sorted(b, key=lambda item: item['a'] , reverse=True))\n",
    "\n",
    "print(list(y))"
   ]
  },
  {
   "source": [
    "Questão 7"
   ],
   "cell_type": "markdown",
   "metadata": {}
  },
  {
   "cell_type": "code",
   "execution_count": null,
   "metadata": {},
   "outputs": [],
   "source": []
  },
  {
   "source": [
    "Questão 11"
   ],
   "cell_type": "markdown",
   "metadata": {}
  },
  {
   "cell_type": "code",
   "execution_count": null,
   "metadata": {},
   "outputs": [],
   "source": []
  },
  {
   "source": [
    "Questão 14"
   ],
   "cell_type": "markdown",
   "metadata": {}
  },
  {
   "cell_type": "code",
   "execution_count": null,
   "metadata": {},
   "outputs": [],
   "source": []
  },
  {
   "source": [
    "LC Liustas e For"
   ],
   "cell_type": "markdown",
   "metadata": {}
  },
  {
   "source": [
    "Questão 17"
   ],
   "cell_type": "markdown",
   "metadata": {}
  },
  {
   "cell_type": "code",
   "execution_count": null,
   "metadata": {},
   "outputs": [],
   "source": []
  },
  {
   "source": [
    "LC | Strings"
   ],
   "cell_type": "markdown",
   "metadata": {}
  },
  {
   "source": [
    "Questão 2"
   ],
   "cell_type": "markdown",
   "metadata": {}
  },
  {
   "cell_type": "code",
   "execution_count": 1,
   "metadata": {},
   "outputs": [
    {
     "output_type": "stream",
     "name": "stdout",
     "text": [
      "\n"
     ]
    }
   ],
   "source": [
    "str_va = str()\n",
    "print(str_va)"
   ]
  },
  {
   "cell_type": "code",
   "execution_count": 3,
   "metadata": {},
   "outputs": [
    {
     "output_type": "stream",
     "name": "stdout",
     "text": [
      "indeice 100 aponta para o item a\nindeice 101 aponta para o item u\nindeice 102 aponta para o item c\nindeice 103 aponta para o item d\nindeice 104 aponta para o item k\n"
     ]
    }
   ],
   "source": [
    "lista = ['a','u','c','d','k']\n",
    "for indice, item in enumerate(lista, start=100):\n",
    "    print(f\"indeice {indice} aponta para o item {item}\")"
   ]
  },
  {
   "cell_type": "code",
   "execution_count": 4,
   "metadata": {},
   "outputs": [
    {
     "output_type": "stream",
     "text": [
      "\u001b[1;31mInit signature:\u001b[0m \u001b[0menumerate\u001b[0m\u001b[1;33m(\u001b[0m\u001b[0miterable\u001b[0m\u001b[1;33m,\u001b[0m \u001b[0mstart\u001b[0m\u001b[1;33m=\u001b[0m\u001b[1;36m0\u001b[0m\u001b[1;33m)\u001b[0m\u001b[1;33m\u001b[0m\u001b[1;33m\u001b[0m\u001b[0m\n",
      "\u001b[1;31mDocstring:\u001b[0m     \n",
      "Return an enumerate object.\n",
      "\n",
      "  iterable\n",
      "    an object supporting iteration\n",
      "\n",
      "The enumerate object yields pairs containing a count (from start, which\n",
      "defaults to zero) and a value yielded by the iterable argument.\n",
      "\n",
      "enumerate is useful for obtaining an indexed list:\n",
      "    (0, seq[0]), (1, seq[1]), (2, seq[2]), ...\n",
      "\u001b[1;31mType:\u001b[0m           type\n",
      "\u001b[1;31mSubclasses:\u001b[0m     \n"
     ],
     "name": "stdout"
    }
   ],
   "source": [
    "?enumerate"
   ]
  },
  {
   "cell_type": "code",
   "execution_count": null,
   "metadata": {},
   "outputs": [],
   "source": []
  }
 ]
}