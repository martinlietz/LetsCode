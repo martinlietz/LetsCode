{
 "metadata": {
  "language_info": {
   "codemirror_mode": {
    "name": "ipython",
    "version": 3
   },
   "file_extension": ".py",
   "mimetype": "text/x-python",
   "name": "python",
   "nbconvert_exporter": "python",
   "pygments_lexer": "ipython3",
   "version": 3
  },
  "orig_nbformat": 2
 },
 "nbformat": 4,
 "nbformat_minor": 2,
 "cells": [
  {
   "source": [
    "## Questão #1\n",
    "## Vacinação COVID-19 - 1\n",
    "A vacinação contra o COVID-19 é a campanha mais aguardada para 2021. Existe muita pressão em cima dos governantes para que isso ocorra da forma mais ágil possível. Todos os estados brasileiros já estão na caminhada e os dados referentes a isso estão disponíveis no OpenDataSUS. Sua meta é baixar o CSV com informações sobre a vacinação no estado de São Paulo e, usando os conceitos aprendidos sobre leitura de arquivos CSV e lógica de programação em geral (estruturas condicionais, estruturas de repetição, manipulação de strings, entre outros), fazer uma mini análise exploratória em cima dessa base, respondendo a seguinte pergunta:\n",
    "\n",
    "- As vacinas aplicadas foram apenas a Sinovac ou existem outras? Caso existam outras, quais são?\n",
    "\n",
    "A base referente aos estado de São Paulo está disponível no link. Tal base foi encontrada por meios das páginas 1 e 2."
   ],
   "cell_type": "markdown",
   "metadata": {}
  },
  {
   "cell_type": "code",
   "execution_count": null,
   "metadata": {},
   "outputs": [],
   "source": []
  },
  {
   "source": [
    "## Questão #2\n",
    "## Vacinação COVID-19 - 2\n",
    "A vacinação contra o COVID-19 é a campanha mais aguardada para 2021. Existe muita pressão em cima dos governantes para que isso ocorra da forma mais ágil possível. Todos os estados brasileiros já estão na caminhada e os dados referentes a isso estão disponíveis no OpenDataSUS. Sua meta é baixar o CSV com informações sobre a vacinação no estado de São Paulo e, usando os conceitos aprendidos sobre leitura de arquivos CSV e lógica de programação em geral (estruturas condicionais, estruturas de repetição, manipulação de strings, entre outros), fazer uma mini análise exploratória em cima dessa base, respondendo a seguinte pergunta:\n",
    "\n",
    "Quantas vacinas foram aplicadas no Município de São Paulo?\n",
    "A base referente aos estado de São Paulo está disponível no link. Tal base foi encontrada por meios das páginas 1 e 2."
   ],
   "cell_type": "markdown",
   "metadata": {}
  },
  {
   "cell_type": "code",
   "execution_count": null,
   "metadata": {},
   "outputs": [],
   "source": []
  },
  {
   "source": [
    "## Questão #3\n",
    "## Vacinação COVID-19 - 3\n",
    "A vacinação contra o COVID-19 é a campanha mais aguardada para 2021. Existe muita pressão em cima dos governantes para que isso ocorra da forma mais ágil possível. Todos os estados brasileiros já estão na caminhada e os dados referentes a isso estão disponíveis no OpenDataSUS. Sua meta é baixar o CSV com informações sobre a vacinação no estado de São Paulo e, usando os conceitos aprendidos sobre leitura de arquivos CSV e lógica de programação em geral (estruturas condicionais, estruturas de repetição, manipulação de strings, entre outros), fazer uma mini análise exploratória em cima dessa base, respondendo a seguinte pergunta:\n",
    "\n",
    "- Qual a idade média dos vacinados homens? E dos vacinados mulher?\n",
    "\n",
    "A base referente aos estado de São Paulo está disponível no link. Tal base foi encontrada por meios das páginas 1 e 2."
   ],
   "cell_type": "markdown",
   "metadata": {}
  },
  {
   "cell_type": "code",
   "execution_count": null,
   "metadata": {},
   "outputs": [],
   "source": []
  },
  {
   "source": [
    "## Questão #4\n",
    "## Vacinação COVID-19 - 4\n",
    "A vacinação contra o COVID-19 é a campanha mais aguardada para 2021. Existe muita pressão em cima dos governantes para que isso ocorra da forma mais ágil possível. Todos os estados brasileiros já estão na caminhada e os dados referentes a isso estão disponíveis no OpenDataSUS. Sua meta é baixar o CSV com informações sobre a vacinação no estado de São Paulo e, usando os conceitos aprendidos sobre leitura de arquivos CSV e lógica de programação em geral (estruturas condicionais, estruturas de repetição, manipulação de strings, entre outros), fazer uma mini análise exploratória em cima dessa base, respondendo a seguinte pergunta:\n",
    "\n",
    "- Qual o paciente mais novo a ser vacinado? E o mais velho? Essa informação é consistente?\n",
    "\n",
    "A base referente aos estado de São Paulo está disponível no link. Tal base foi encontrada por meios das páginas 1 e 2."
   ],
   "cell_type": "markdown",
   "metadata": {}
  },
  {
   "cell_type": "code",
   "execution_count": null,
   "metadata": {},
   "outputs": [],
   "source": []
  },
  {
   "source": [
    "## Questão #5\n",
    "## Vacinação COVID-19 - 5\n",
    "A vacinação contra o COVID-19 é a campanha mais aguardada para 2021. Existe muita pressão em cima dos governantes para que isso ocorra da forma mais ágil possível. Todos os estados brasileiros já estão na caminhada e os dados referentes a isso estão disponíveis no OpenDataSUS. Sua meta é baixar o CSV com informações sobre a vacinação no estado de São Paulo e, usando os conceitos aprendidos sobre leitura de arquivos CSV e lógica de programação em geral (estruturas condicionais, estruturas de repetição, manipulação de strings, entre outros), fazer uma mini análise exploratória em cima dessa base, respondendo a seguinte pergunta:\n",
    "\n",
    "- As vacinas aplicadas foram apenas a Sinovac ou existem outras? Caso existam outras, quais são?\n",
    "\n",
    "A base referente aos estado de São Paulo está disponível no link. Tal base foi encontrada por meios das páginas 1 e 2."
   ],
   "cell_type": "markdown",
   "metadata": {}
  }
 ]
}