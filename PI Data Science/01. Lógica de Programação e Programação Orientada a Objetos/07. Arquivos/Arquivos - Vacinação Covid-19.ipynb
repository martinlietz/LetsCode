{
 "metadata": {
  "language_info": {
   "codemirror_mode": {
    "name": "ipython",
    "version": 3
   },
   "file_extension": ".py",
   "mimetype": "text/x-python",
   "name": "python",
   "nbconvert_exporter": "python",
   "pygments_lexer": "ipython3",
   "version": "3.7.8-final"
  },
  "orig_nbformat": 2,
  "kernelspec": {
   "name": "python3",
   "display_name": "Python 3.7.8 32-bit",
   "metadata": {
    "interpreter": {
     "hash": "04635d289a519a1410467dd0afb0db42f9184808881ca68b2eb5a687a20a5a94"
    }
   }
  }
 },
 "nbformat": 4,
 "nbformat_minor": 2,
 "cells": [
  {
   "cell_type": "code",
   "execution_count": 40,
   "metadata": {},
   "outputs": [
    {
     "output_type": "stream",
     "name": "stdout",
     "text": [
      "[(0, 'document_id'), (1, 'paciente_id'), (2, 'paciente_idade'), (3, 'paciente_dataNascimento'), (4, 'paciente_enumSexoBiologico'), (5, 'paciente_racaCor_codigo'), (6, 'paciente_racaCor_valor'), (7, 'paciente_endereco_coIbgeMunicipio'), (8, 'paciente_endereco_coPais'), (9, 'paciente_endereco_nmMunicipio'), (10, 'paciente_endereco_nmPais'), (11, 'paciente_endereco_uf'), (12, 'paciente_endereco_cep'), (13, 'paciente_nacionalidade_enumNacionalidade'), (14, 'estabelecimento_valor'), (15, 'estabelecimento_razaoSocial'), (16, 'estalecimento_noFantasia'), (17, 'estabelecimento_municipio_codigo'), (18, 'estabelecimento_municipio_nome'), (19, 'estabelecimento_uf'), (20, 'vacina_grupoAtendimento_codigo'), (21, 'vacina_grupoAtendimento_nome'), (22, 'vacina_categoria_codigo'), (23, 'vacina_categoria_nome'), (24, 'vacina_lote'), (25, 'vacina_fabricante_nome'), (26, 'vacina_fabricante_referencia'), (27, 'vacina_dataAplicacao'), (28, 'vacina_descricao_dose'), (29, 'vacina_codigo'), (30, 'vacina_nome'), (31, 'sistema_origem'), (32, 'data_importacao_rnds\\n')]\n"
     ]
    }
   ],
   "source": [
    "import pandas as pd\n",
    "\n",
    "fil = r\"C:\\Users\\br080d\\Downloads\\part-00000-f3fe3224-d992-40c3-a6e1-2db8d0be55a7.c000.csv\"\n",
    "with open(fil, \"r\") as arquivo:\n",
    "\n",
    "    lista_cabecalha = []\n",
    "    contador = 0\n",
    "\n",
    "    for linha in arquivo:\n",
    "        contador +=1\n",
    "        new_linha = linha.split(\",\")\n",
    "        print(list(enumerate(new_linha)))\n",
    "        break\n"
   ]
  },
  {
   "source": [
    "## Questão #1\n",
    "## Vacinação COVID-19 - 1\n",
    "A vacinação contra o COVID-19 é a campanha mais aguardada para 2021. Existe muita pressão em cima dos governantes para que isso ocorra da forma mais ágil possível. Todos os estados brasileiros já estão na caminhada e os dados referentes a isso estão disponíveis no OpenDataSUS. Sua meta é baixar o CSV com informações sobre a vacinação no estado de São Paulo e, usando os conceitos aprendidos sobre leitura de arquivos CSV e lógica de programação em geral (estruturas condicionais, estruturas de repetição, manipulação de strings, entre outros), fazer uma mini análise exploratória em cima dessa base, respondendo a seguinte pergunta:\n",
    "\n",
    "- As vacinas aplicadas foram apenas a Sinovac ou existem outras? Caso existam outras, quais são?\n",
    "\n",
    "A base referente aos estado de São Paulo está disponível no link. Tal base foi encontrada por meios das páginas 1 e 2."
   ],
   "cell_type": "markdown",
   "metadata": {}
  },
  {
   "cell_type": "code",
   "execution_count": 53,
   "metadata": {},
   "outputs": [],
   "source": [
    "lista_vacina = []\n",
    "with open(fil, \"r\") as arquivo:\n",
    "\n",
    "\n",
    "    contador = 0\n",
    "\n",
    "    for linha in arquivo:\n",
    "        contador +=1\n",
    "        if contador == 1:\n",
    "            continue\n",
    "        \n",
    "        new_linha = linha.split(\",\")\n",
    "        if new_linha[30] not in lista_vacina:\n",
    "            lista_vacina.append(new_linha[30])"
   ]
  },
  {
   "cell_type": "code",
   "execution_count": 54,
   "metadata": {},
   "outputs": [
    {
     "output_type": "stream",
     "name": "stdout",
     "text": [
      "['Vacina Covid-19 - Covishield', 'Covid-19-Coronavac-Sinovac/Butantan', 'Vacina covid-19 - BNT162b2 - BioNTech/Fosun Pharma/Pfizer', '86', 'Vacina covid-19 - Ad26.COV2.S - Janssen-Cilag']\n"
     ]
    }
   ],
   "source": [
    "print(lista_vacina)"
   ]
  },
  {
   "source": [
    "## Questão #2\n",
    "## Vacinação COVID-19 - 2\n",
    "A vacinação contra o COVID-19 é a campanha mais aguardada para 2021. Existe muita pressão em cima dos governantes para que isso ocorra da forma mais ágil possível. Todos os estados brasileiros já estão na caminhada e os dados referentes a isso estão disponíveis no OpenDataSUS. Sua meta é baixar o CSV com informações sobre a vacinação no estado de São Paulo e, usando os conceitos aprendidos sobre leitura de arquivos CSV e lógica de programação em geral (estruturas condicionais, estruturas de repetição, manipulação de strings, entre outros), fazer uma mini análise exploratória em cima dessa base, respondendo a seguinte pergunta:\n",
    "\n",
    "- Quantas vacinas foram aplicadas no Município de São Paulo?\n",
    "A base referente aos estado de São Paulo está disponível no link. Tal base foi encontrada por meios das páginas 1 e 2."
   ],
   "cell_type": "markdown",
   "metadata": {}
  },
  {
   "cell_type": "code",
   "execution_count": 52,
   "metadata": {},
   "outputs": [
    {
     "output_type": "stream",
     "name": "stdout",
     "text": [
      "Vacinas aplicado no municipio de SP 917864\n"
     ]
    }
   ],
   "source": [
    "lista_vacina = []\n",
    "contador_vacina_Mun_SP = 0\n",
    "with open(fil, \"r\") as arquivo:\n",
    "    contador = 0\n",
    "    \n",
    "    for linha in arquivo:\n",
    "        contador +=1\n",
    "        if contador == 1:\n",
    "            continue\n",
    "        \n",
    "        new_linha = linha.split(\",\")\n",
    "        if new_linha[7] == \"355030\":\n",
    "            contador_vacina_Mun_SP += 1\n",
    "        # if contador < 10:\n",
    "        #     print(new_linha[7])\n",
    "\n",
    "print(f\"Vacinas aplicado no municipio de SP {contador_vacina_Mun_SP}\")"
   ]
  },
  {
   "source": [
    "## Questão #3\n",
    "## Vacinação COVID-19 - 3\n",
    "A vacinação contra o COVID-19 é a campanha mais aguardada para 2021. Existe muita pressão em cima dos governantes para que isso ocorra da forma mais ágil possível. Todos os estados brasileiros já estão na caminhada e os dados referentes a isso estão disponíveis no OpenDataSUS. Sua meta é baixar o CSV com informações sobre a vacinação no estado de São Paulo e, usando os conceitos aprendidos sobre leitura de arquivos CSV e lógica de programação em geral (estruturas condicionais, estruturas de repetição, manipulação de strings, entre outros), fazer uma mini análise exploratória em cima dessa base, respondendo a seguinte pergunta:\n",
    "\n",
    "- Qual a idade média dos vacinados homens? E dos vacinados mulher?\n",
    "\n",
    "A base referente aos estado de São Paulo está disponível no link. Tal base foi encontrada por meios das páginas 1 e 2."
   ],
   "cell_type": "markdown",
   "metadata": {}
  },
  {
   "cell_type": "code",
   "execution_count": 66,
   "metadata": {},
   "outputs": [
    {
     "output_type": "stream",
     "name": "stdout",
     "text": [
      "Vacinas: Idade media dos homens 63.298289882952545\nVacinas: Idade media das mulheres 58.50406081149109\n"
     ]
    }
   ],
   "source": [
    "lista_vacina = []\n",
    "contador_vacinas_m = 0\n",
    "idadeSoma_m = 0\n",
    "contador_vacinas_f = 0\n",
    "idadeSoma_f = 0\n",
    "lista_idades = []\n",
    "with open(fil, \"r\") as arquivo:\n",
    "    contador = 0\n",
    "    \n",
    "    for linha in arquivo:\n",
    "        contador +=1\n",
    "        if contador == 1:\n",
    "            continue\n",
    "        \n",
    "        new_linha = linha.split(\",\")\n",
    "        \n",
    "        lista_vacina.append(new_linha[30])\n",
    "        if new_linha[4] == \"M\":\n",
    "            contador_vacinas_m += 1\n",
    "            idadeSoma_m += int(new_linha[2]) if new_linha[2] != \"\" else 0\n",
    "        if new_linha[4] == \"F\":\n",
    "            contador_vacinas_f += 1\n",
    "            idadeSoma_f += int(new_linha[2]) if new_linha[2] != \"\" else 0\n",
    "        # if contador < 10:\n",
    "        #     print(new_linha[7])\n",
    "avgIdade_m =  idadeSoma_m / contador_vacinas_m\n",
    "avgIdade_f =  idadeSoma_f / contador_vacinas_f\n",
    "print(f\"Vacinas: Idade media dos homens {avgIdade_m}\")\n",
    "print(f\"Vacinas: Idade media das mulheres {avgIdade_f}\")"
   ]
  },
  {
   "source": [
    "## Questão #4\n",
    "## Vacinação COVID-19 - 4\n",
    "A vacinação contra o COVID-19 é a campanha mais aguardada para 2021. Existe muita pressão em cima dos governantes para que isso ocorra da forma mais ágil possível. Todos os estados brasileiros já estão na caminhada e os dados referentes a isso estão disponíveis no OpenDataSUS. Sua meta é baixar o CSV com informações sobre a vacinação no estado de São Paulo e, usando os conceitos aprendidos sobre leitura de arquivos CSV e lógica de programação em geral (estruturas condicionais, estruturas de repetição, manipulação de strings, entre outros), fazer uma mini análise exploratória em cima dessa base, respondendo a seguinte pergunta:\n",
    "\n",
    "- Qual o paciente mais novo a ser vacinado? E o mais velho? Essa informação é consistente?\n",
    "\n",
    "A base referente aos estado de São Paulo está disponível no link. Tal base foi encontrada por meios das páginas 1 e 2."
   ],
   "cell_type": "markdown",
   "metadata": {}
  },
  {
   "cell_type": "code",
   "execution_count": 81,
   "metadata": {
    "tags": []
   },
   "outputs": [
    {
     "output_type": "stream",
     "name": "stdout",
     "text": [
      "Vacinas: Idade minima 1\n"
     ]
    }
   ],
   "source": [
    "lista_vacina = []\n",
    "contador_vacinas_m = 0\n",
    "idadeSoma_m = 0\n",
    "idade_minima = 4000\n",
    "contador_vacinas_f = 0\n",
    "idadeSoma_f = 0\n",
    "lista_idades = []\n",
    "with open(fil, \"r\") as arquivo:\n",
    "    contador = 0\n",
    "    \n",
    "    for linha in arquivo:\n",
    "        contador +=1\n",
    "        if contador == 1:\n",
    "            continue\n",
    "        \n",
    "        new_linha = linha.split(\",\")\n",
    "        \n",
    "        idade = int(new_linha[2]) if new_linha[2] != \"\" and int(new_linha[2]) > 0 else 0\n",
    "        # if idade < 16:\n",
    "        #     print(new_linha)\n",
    "        idade_minima = min(idade,idade_minima) if idade > 0 else idade_minima\n",
    "\n",
    "print(f\"Vacinas: Idade minima {idade_minima}\")\n"
   ]
  },
  {
   "source": [
    "## Questão #5\n",
    "## Vacinação COVID-19 - 5\n",
    "A vacinação contra o COVID-19 é a campanha mais aguardada para 2021. Existe muita pressão em cima dos governantes para que isso ocorra da forma mais ágil possível. Todos os estados brasileiros já estão na caminhada e os dados referentes a isso estão disponíveis no OpenDataSUS. Sua meta é baixar o CSV com informações sobre a vacinação no estado de São Paulo e, usando os conceitos aprendidos sobre leitura de arquivos CSV e lógica de programação em geral (estruturas condicionais, estruturas de repetição, manipulação de strings, entre outros), fazer uma mini análise exploratória em cima dessa base, respondendo a seguinte pergunta:\n",
    "\n",
    "- As vacinas aplicadas foram apenas a Sinovac ou existem outras? Caso existam outras, quais são?\n",
    "\n",
    "A base referente aos estado de São Paulo está disponível no link. Tal base foi encontrada por meios das páginas 1 e 2."
   ],
   "cell_type": "markdown",
   "metadata": {}
  },
  {
   "cell_type": "code",
   "execution_count": 82,
   "metadata": {},
   "outputs": [
    {
     "output_type": "stream",
     "name": "stdout",
     "text": [
      "['Vacina Covid-19 - Covishield', 'Covid-19-Coronavac-Sinovac/Butantan', 'Vacina covid-19 - BNT162b2 - BioNTech/Fosun Pharma/Pfizer', '86', 'Vacina covid-19 - Ad26.COV2.S - Janssen-Cilag']\n"
     ]
    }
   ],
   "source": [
    "lista_vacina = []\n",
    "with open(fil, \"r\") as arquivo:\n",
    "\n",
    "\n",
    "    contador = 0\n",
    "\n",
    "    for linha in arquivo:\n",
    "        contador +=1\n",
    "        if contador == 1:\n",
    "            continue\n",
    "        \n",
    "        new_linha = linha.split(\",\")\n",
    "        if new_linha[30] not in lista_vacina:\n",
    "            lista_vacina.append(new_linha[30])\n",
    "print(lista_vacina)"
   ]
  },
  {
   "cell_type": "code",
   "execution_count": null,
   "metadata": {},
   "outputs": [],
   "source": []
  }
 ]
}