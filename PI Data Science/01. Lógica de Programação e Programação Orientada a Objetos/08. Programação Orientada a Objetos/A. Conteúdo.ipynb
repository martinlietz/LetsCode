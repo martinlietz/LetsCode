{
 "metadata": {
  "language_info": {
   "codemirror_mode": {
    "name": "ipython",
    "version": 3
   },
   "file_extension": ".py",
   "mimetype": "text/x-python",
   "name": "python",
   "nbconvert_exporter": "python",
   "pygments_lexer": "ipython3",
   "version": "3.7.8-final"
  },
  "orig_nbformat": 2,
  "kernelspec": {
   "name": "python3",
   "display_name": "Python 3.7.8 32-bit",
   "metadata": {
    "interpreter": {
     "hash": "04635d289a519a1410467dd0afb0db42f9184808881ca68b2eb5a687a20a5a94"
    }
   }
  }
 },
 "nbformat": 4,
 "nbformat_minor": 2,
 "cells": [
  {
   "source": [
    "<h2><img width=\"10%\" src=\"../../../logoLcPng.png\">Programação Orientada a Objetos</h2>\n",
    "<p></p>"
   ],
   "cell_type": "markdown",
   "metadata": {}
  },
  {
   "source": [
    "<h3>1. Paradigmas de programação</h3>\n",
    "<p>Ao longo do curso, sempre pensamos nossos programas como sequências de comandos. Uma instrução abaixo da outra, na ordem em que devem ser executadas. Quando muito agrupávamos algumas instruções dentro de uma função e fazíamos desvios de fluxo para essas funções. Dentro de cada uma delas, porém, havia a mesma estrutura sequencial de instruções. Chamamos esse modelo de programação imperativa ou programação procedural.\n",
    "\n",
    "Porém, essa não é a única forma de organizar um programa. Temos diversas outras formas de pensar em um programa. Chamamos essas formas de paradigmas de programação. Uma linguagem de programação pode suportar exclusivamente um paradigma ou vários paradigmas. A linguagem C, por exemplo, é usada apenas para programação procedural. Já o Python pode ser usado para programação procedural, orientada a objeto, funcional, entre outros.\n",
    "\n",
    "Vejamos alguns exemplos:\n",
    "<ul>\n",
    "<li>Programação procedural/imperativa: foco em instruções que modificam o estado do programa e modularização em funções.\n",
    "<li>Programação orientada a objeto: foco na modelagem das entidades envolvidas em um problema (objetos) e na interação entre elas.\n",
    "<li>Programação funcional: foco na declaração e avaliação de funções, que são definidas como árvores de expressões que sempre retornam valores, ao invés de blocos de instruções.\n",
    "<li>Programação orientada a evento: foco na resposta a ação dos usuários (por exemplo, um clique do mouse provoca uma reação do programa).</ul>\n",
    "Estudaremos um pouco sobre o paradigma orientado a objeto.</p>"
   ],
   "cell_type": "markdown",
   "metadata": {}
  },
  {
   "source": [
    "<h3>2. Programação Orientada a Objeto</h3>\n",
    "<p>O grande objetivo da programação orientada a objeto é a reutilização de código. Os programas devem ser modularizados, de modo que diferentes pessoas possam implementar módulos diferentes e juntá-los ao final. A integração entre os módulos deve ser relativamente simples, e se possível um módulo deve poder ser reaproveitado em outros sistemas.\n",
    "\n",
    "Isso é feito através da modelagem das entidades que compõem um problema ou interagirão com o sistema. Utilizamos a ideia de classes e objetos para representar as informações que cada entidade possui e os comportamentos que elas apresentam.</p>"
   ],
   "cell_type": "markdown",
   "metadata": {}
  },
  {
   "source": [
    "<h4>2.1. Classes</h4>\n",
    "<p>Uma classe é um modelo genérico para criarmos entidades (objetos). Na classe nós especificamos as informações e os comportamentos que os objetos terão. Todos os objetos pertencentes a uma mesma classe terão características em comum.</p>"
   ],
   "cell_type": "markdown",
   "metadata": {}
  },
  {
   "source": [
    "<h4>2.2. Objetos</h4>\n",
    "<p>Podemos dizer que as classes são ideias abstratas, enquanto objetos são instâncias concretas da classe. Por exemplo, podemos dizer que \"Pessoa\" é uma classe. Quando pensamos em \"Pessoa\", já imaginamos uma figura com cabeça, olhos, nariz, boca, tronco, mãos e pés que normalmente anda sobre 2 pernas e se comunica com a voz. Você, leitor, e eu, escritor, somos objetos da classe \"Pessoa\". Somos reais, existimos, temos diversas características em comum, mas cada um de nós tem suas particularidades, como diferenças de altura, forma, cor, voz etc.</p>"
   ],
   "cell_type": "markdown",
   "metadata": {}
  },
  {
   "source": [
    "<h4>2.3. Métodos</h4>\n",
    "<p>Para modelar o comportamento dos nossos objetos, podemos criar funções dentro da classe. Elas são funções como qualquer outra, mas tipicamente terão pelo menos um parâmetro: uma referência para o objeto que está realizando a ação. Essas funções também não podem ser executadas arbitrariamente, mas deverão ser chamadas necessariamente pelos objetos. Essas \"funções do objeto\" são chamadas de métodos.</p>"
   ],
   "cell_type": "markdown",
   "metadata": {}
  },
  {
   "source": [
    "<h4>2.4. Atributos</h4>\n",
    "<p>Para armazenar os dados dos nossos objetos, podemos criar variáveis internas nos objetos. Essas variáveis são particulares de cada objeto, ou seja, diferentes objetos de uma mesma classe normalmente terão as mesmas variáveis, mas o valor delas não necessariamente será igual. Chamamos essas \"variáveis do objeto\" de atributos.\n",
    "\n",
    "Quatro princípios básicos nos ajudam a fazer uma boa modelagem:\n",
    "<ul>\n",
    "<li>Encapsulamento: cada classe deve conter todas as informações necessárias para seu funcionamento bem como todos os métodos necessários para alterar essas informações. Idealmente, apenas objetos da própria classe poderão alterar seus atributos, e objetos de outras classes irão interagir com eles através de métodos.\n",
    "<li>Abstração: as classes devem apresentar interfaces simples para o uso por outros desenvolvedores e para a interação com outras classes. Todos os detalhes complicados de seu funcionamento devem estar \"escondidos\" dentro de métodos simples de usar, com parâmetros e retornos bem definidos. Um exemplo disso é um smartphone: por dentro ele possui circuitos extremamente complexos e softwares avançadíssimos, mas para o usuário ele apresenta uma interface simples com poucos botões e vários ícones intuitivos na tela.\n",
    "<li>Herança: se várias classes terão atributos e métodos em comum, não devemos ter que redigitá-los várias vezes. Ao invés disso, criamos uma classe com esses atributos comuns e as outras classes irão herdá-los.\n",
    "<li>olimorfismo: objetos de diferentes classes herdeiras de uma mesma classe mãe podem ser tratados genericamente como objetos pertencentes à classe mãe.</ul></p>"
   ],
   "cell_type": "markdown",
   "metadata": {}
  },
  {
   "source": [
    "<h3>3. Classes</h3>\n",
    "<p></p>"
   ],
   "cell_type": "markdown",
   "metadata": {}
  },
  {
   "source": [
    "<h3>3.1. Criando uma classe</h3>\n",
    "<p>Para definir uma classe em Python utilizamos a palavra class seguida de um nome para a classe.\n",
    "\n",
    "Normalmente nossas classes terão um método especial conhecido como método construtor. Ele sempre será chamado de \\_\\_init\\_\\_ em Python. Sempre que criamos um objeto novo o Python automaticamente executa o método construtor. Apesar de não ser obrigatório, é uma boa prática criar os atributos e atribuir um valor inicial para eles no construtor. Como todos os objetos executam o construtor ao serem criados, é um jeito de garantir que todos eles terão os mesmos atributos.\n",
    "\n",
    "Como comentamos anteriormente, os métodos devem receber uma referência para o objeto que o chamou. Essa é uma forma do método ter acesso aos atributos do objeto. O primeiro parâmetro de um método sempre será interpretado como sendo essa referência, e convenciona-se chamá-lo de self.\n",
    "\n",
    "Vejamos um exemplo de uma classe que representa jogadores para um jogo de dados. Cada jogador terá 2 atributos: um nome (que será fornecido na construção do objeto) e uma pontuação (que sempre começará em 0). Eles também terão 2 métodos: o construtor e um método que rola um dado.</p>"
   ],
   "cell_type": "markdown",
   "metadata": {}
  },
  {
   "cell_type": "code",
   "execution_count": null,
   "metadata": {},
   "outputs": [],
   "source": [
    "class Jogador:\n",
    "    # criando o método construtor\n",
    "        # cria uma variável (atributo) dentro do objeto sendo criado\n",
    "        # esse atributo recebeu o nome passado como parâmetro\n",
    "        self.nome = nome\n",
    "        # cria outro atributo no objeto sendo criado\n",
    "        # esse atributo não veio como parâmetro, ele sempre começará valendo 0\n",
    "        self.pontuacao = 0\n",
    "\n",
    "    def rolaDado(self):\n",
    "        # sorteia um número de 1 a 6:\n",
    "        dado = random.randrange(1, 7) \n",
    "\n",
    "        # atualiza o atributo \"pontuacao\" do objeto que chamou o método:\n",
    "        self.pontuacao = self.pontuacao + dado"
   ]
  },
  {
   "source": [
    "<h3>4. Objetos</h3>\n",
    "<p>\n",
    "</p>"
   ],
   "cell_type": "markdown",
   "metadata": {}
  },
  {
   "source": [
    "<h3>4.1. Instanciando objetos</h3>\n",
    "<p>Ao rodar o exemplo acima, nada acontece. Isso ocorre porque apenas ensinamos o Python como criar jogadores, mas nunca chegamos a criar um. É exatamente o mesmo caso de quando definimos uma função mas não a chamamos.\n",
    "\n",
    "Criamos objetos da mesma maneira que criamos variáveis: damos um nome a eles e atribuímos um \"valor\". No caso, o \"valor\" atribuido será uma \"chamada\" para o nome da classe, como se ela fosse uma função. Adicione o seguinte trecho de código fora da classe Jogador (ou seja, após a classe e sem tabs):</p>"
   ],
   "cell_type": "markdown",
   "metadata": {}
  },
  {
   "cell_type": "code",
   "execution_count": null,
   "metadata": {},
   "outputs": [],
   "source": [
    "player1 = Jogador('Mario')\n",
    "# vejamos o tipo da \"variável\" (objeto) que criamos:\n",
    "print(type(player1)) "
   ]
  },
  {
   "source": [
    "Quando chamamos a classe dessa maneira, o Python irá automaticamente executar o método construtor (__init__). Algo que pode chamar a atenção é que o método possui 2 parâmetros: self e nome. Porém, nós passamos apenas o nome. O parâmetro self é implícito: nós nunca o passamos, ele é apenas um meio de informarmos ao Python qual será o \"apelido\" do objeto que está chamando o método para usarmos internamente no método para acessar seus atributos.\n",
    "\n",
    "Note que player1 é do tipo 'class Jogador'. Ou seja, a nossa classe é considerada um tipo novo de dado, e os objetos são variáveis desse tipo novo."
   ],
   "cell_type": "markdown",
   "metadata": {}
  },
  {
   "source": [
    "<h3>4.2. Acessando atributos</h3>\n",
    "<p>Para acessar um atributo, usamos o nome do objeto, um ponto e o nome do atributo. Vamos acessar o nome do nosso jogador e o seu placar atual:</p>"
   ],
   "cell_type": "markdown",
   "metadata": {}
  },
  {
   "cell_type": "code",
   "execution_count": null,
   "metadata": {},
   "outputs": [],
   "source": [
    "print(player1.nome)\n",
    "print(player1.pontuacao)"
   ]
  },
  {
   "source": [
    "Os atributos se comportam como variáveis normais. Podemos ler seu valor e escrever valores novos:"
   ],
   "cell_type": "markdown",
   "metadata": {}
  },
  {
   "cell_type": "code",
   "execution_count": null,
   "metadata": {},
   "outputs": [],
   "source": [
    "player1.nome = 'Luigi'\n",
    "print(player1.nome)"
   ]
  },
  {
   "source": [
    "<h3>4.3. Executando métodos</h3>\n",
    "<p>Para executar o método, iremos chamá-lo à partir do objeto, da mesma maneira que fizemos com os atributos:</p>"
   ],
   "cell_type": "markdown",
   "metadata": {}
  },
  {
   "cell_type": "code",
   "execution_count": null,
   "metadata": {},
   "outputs": [],
   "source": [
    "player1.rolaDado()\n",
    "print(player1.pontuacao)"
   ]
  },
  {
   "source": [
    "<blockquote>A notação de um método sendo chamado por um objeto parece familiar? É porque já estamos usando essa notação faz um tempo. Lembra do lista.append() ou do string.upper()? Pois bem: list e str são classes, e todas aquelas funções que vimos em capítulos anteriores são métodos de objetos list e str!</blockquote>"
   ],
   "cell_type": "markdown",
   "metadata": {}
  },
  {
   "source": [
    "<h2>5. Métodos Mágicos</h2>\n",
    "<p>Uma classe pode conter diversos métodos diferentes para realizar múltiplas tarefas. Porém, o programador que for utilizar uma classe com muitos métodos pode ter bastante trabalho para lembrar de todos esses métodos... Pense em todos os métodos de strings que estudamos, por exemplo. Eles nem sequer são todos os métodos existentes, mas já foram muitos! Para tornar nossa classe mais intuitiva de usar (princípio da abstração), podemos reaproveitar alguns recursos padrão do Python que todo programador já sabe utilizar e adaptá-los para nossa classe.\n",
    "\n",
    "Considere o código abaixo:</p>"
   ],
   "cell_type": "markdown",
   "metadata": {}
  },
  {
   "cell_type": "code",
   "execution_count": null,
   "metadata": {},
   "outputs": [],
   "source": [
    "string1 = \"Let's \"\n",
    "string2 = \"Code\"\n",
    "string3 = string1 + string2\n",
    "print(string3)"
   ]
  },
  {
   "source": [
    "Sabemos que o resultado será a string \"Let's Code\"... Mas pare para pensar um pouco: o operador + é um operador aritmético, ele serve para fazer conta. E aqui estamos usando-o com strings, e mesmo assim ele funciona. Quem desenvolveu a classe str concluiu que seria mais intuitivo para nós usar o sinal + para concatenar strings do que memorizar um nome como \"concat\". Podemos aplicar o mesmo conceito em nossas classes: redefinir o comportamento de operadores e funções padrão do Python para nossa classe.\n",
    "\n",
    "Para isso, basta criar métodos em nossa classe que respeitem certas regrinhas, como nomes padrão já pré-determinados pelo Python. Sempre que ele encontrar esses métodos, ele saberá que é para chamá-los quando o operador for usado entre elementos da classe. Esses são os chamados métodos mágicos.\n",
    "\n",
    "Para este capítulo, consideremos uma classe chamada Horario. Essa classe servirá para representar horários, dados contendo 3 campos: hora (h), minuto (m) e segundo (s)."
   ],
   "cell_type": "markdown",
   "metadata": {}
  },
  {
   "cell_type": "code",
   "execution_count": null,
   "metadata": {},
   "outputs": [],
   "source": [
    "class Horario:\n",
    "    def __init__(self, **dados):\n",
    "        if 'h' in dados:\n",
    "            self.h = dados['h']\n",
    "        else:\n",
    "            self.h = 0\n",
    "        if 'm' in dados:\n",
    "            self.m = dados['m']\n",
    "        else:\n",
    "            self.m = 0\n",
    "        if 's' in dados:\n",
    "            self.s = dados['s']\n",
    "        else:\n",
    "            self.s = 0"
   ]
  },
  {
   "source": [
    "<blockquote>O que seria esse **dados? E esses if ... in ...? Se não se recorda, revise o capítulo de funções com parâmetros opcionais. Estamos dando liberdade a quem usa essa classe para passar valores para os campos h, m ou s, e iremos adotar o valor 0 para os campos omitidos.</blockquote>"
   ],
   "cell_type": "markdown",
   "metadata": {}
  },
  {
   "source": [
    "<h3>5.1. Representação</h3>\n",
    "<p>Você já experimentou dar print em um objeto de uma classe que criou? Experimente criar um objeto da nossa nova classe Horario e imprimi-lo.\n",
    "\n",
    "Bom, nosso objeto possui 3 atributos e um método. O Python não sabe qual ou quais dessas informações são relevantes para representar um horário, em qual ordem elas deveriam aparecer ou mesmo se possuem algum tipo de formatação especial. Por exemplo, quando imprimimos uma lista, ele não mostra apenas o seu conteúdo: ele também mostra os símbolos [, ] e , para indicar o início e final da lista, bem como a separação entre os elementos. No caso da nossa classe Horario, seria interessante representar os objetos mostrando os 3 campos com 2 dígitos e separados por dois pontos (o famoso hh:mm:ss).\n",
    "\n",
    "Ao imprimir um objeto, o print procura por um método chamado __repr__. Caso o objeto tenha esse método, o seu retorno é utilizado pelo print.\n",
    "\n",
    "Vamos modificar nossa classe adicionando o seguinte método:</p>"
   ],
   "cell_type": "markdown",
   "metadata": {}
  },
  {
   "cell_type": "code",
   "execution_count": null,
   "metadata": {},
   "outputs": [],
   "source": [
    "def __repr__(self):\n",
    "    representacao = '{:02d}:{:02d}:{:02d}'.format(self.h, self.m, self.s)\n",
    "    return representacao"
   ]
  },
  {
   "source": [
    "Tente novamente imprimir o objeto e observe o resultado!"
   ],
   "cell_type": "markdown",
   "metadata": {}
  },
  {
   "source": [
    "<blockquote>Na realidade, existem 2 métodos mágicos ligados à representação: o __str__ é o ideal para fazer uma representação \"bonitinha\" para printarmos e o usuário ver na tela, enquanto o __repr__ seria para criar uma representação não ambígua de um objeto (ex: 2 objetos Horario distintos que coincidentemente estejam com os mesmos 3 valores nos parâmetros apareceriam iguais no __str__ e diferentes no __repr__). A utilidade da representação não ambígua seria, por exemplo, gerar logs indicando o que cada objeto está fazendo para encontrarmos bugs.\n",
    "\n",
    "Porém, quando imprimimos uma coleção de objetos, a impressão da coleção (ex: uma lista de objetos Horario) chamará o __repr\n",
    "__, e não o __str__ dos objetos. Além disso, na ausência do __str__, o __repr__ é usado automaticamente em todos os casos.\n",
    "\n",
    "Para fins didáticos, podemos usar apenas o __repr__ neste curso. Os alunos interessados em um aprofundamento podem ler mais em https://stackoverflow.com/questions/1436703/difference-between-str-and-repr</blockquote>"
   ],
   "cell_type": "markdown",
   "metadata": {}
  },
  {
   "source": [
    "<h3>5.2. Operadores aritméticos</h3>\n",
    "<p>Conforme vimos na introdução deste capítulo, podemos ensinar para o Python como tratar uma soma entre dois objetos de uma certa classe. Isso vale para todas as outras operações aritméticas que conhecemos, como subtração, divisão, resto de divisão etc.\n",
    "\n",
    "Quando nós fazemos em Python uma operação do tipo c = a + b, o Python \"traduz\" isso da seguinte maneira: c = a.__add__(b) Ou seja, uma operação aritmética é um método chamado pelo objeto à esquerda do operador que recebe o operador à direita como parâmetro!\n",
    "\n",
    "Vejamos um exemplo útil: sabemos como somar 2 horários: soma-se os segundos primeiro, em seguida os minutos, e por fim as horas. Se os segundos estourarem 60, subtraimos 60 do campo de segundos e somamos 1 no campo de minutos. Idem para o campo de minutos. Podemos \"ensinar\" essa regra para o Python dentro do __add__, e dali em diante podemos somar 2 horários.\n",
    "\n",
    "Adicione o seguinte código à sua classe:</p>"
   ],
   "cell_type": "markdown",
   "metadata": {}
  },
  {
   "cell_type": "code",
   "execution_count": null,
   "metadata": {},
   "outputs": [],
   "source": [
    "def __add__(self, other):\n",
    "    # soma hora com hora, minuto com minuto e segundo com segundo\n",
    "    h = self.h + other.h\n",
    "    m = self.m + other.m\n",
    "    s = self.s + other.s\n",
    "\n",
    "    # corrige os segundos em excesso\n",
    "    if s >= 60:\n",
    "        s = s - 60\n",
    "        m = m + 1\n",
    "\n",
    "    # corrige os minutos em excesso\n",
    "    if m >= 60:\n",
    "        m = m - 60\n",
    "        h = h + 1\n",
    "\n",
    "    # um Horario + outro Horario = terceiro Horario\n",
    "    # vamos criar um objeto Horario usando o h, m e s calculados!\n",
    "    resultado = Horario(h=h, m=m, s=s)\n",
    "\n",
    "    # retornando o resultado para poder fazer operações como \"c = a + b\"\n",
    "    return resultado"
   ]
  },
  {
   "source": [
    "Fora da classe, no programa principal, faça o teste:"
   ],
   "cell_type": "markdown",
   "metadata": {}
  },
  {
   "cell_type": "code",
   "execution_count": null,
   "metadata": {},
   "outputs": [],
   "source": [
    "duracaoJogo = Horario (h=1, m=30)\n",
    "duracaoIntervalo = Horario (m=15)\n",
    "\n",
    "transmissaoTotal = duracaoJogo + duracaoIntervalo\n",
    "print(transmissaoTotal)"
   ]
  },
  {
   "source": [
    "#Temos os seguintes métodos mágicos aritméticos:\n",
    "\n",
    "__add__ soma: +\n",
    "__sub__ subtração: -\n",
    "__mul__ multiplicação: *\n",
    "__truediv__ divisão: /\n",
    "__floordiv__ divisão inteira: //\n",
    "__mod__ resto de divisão: %\n",
    "__pow__ potência: **"
   ],
   "cell_type": "code",
   "metadata": {},
   "execution_count": null,
   "outputs": []
  },
  {
   "source": [
    "<h3>5.3. Operadores lógicos</h3><p> Assim como podemos redefinir os operadores aritméticos, podemos redefinir os operadores lógicos através de métodos mágicos. Da mesma maneira que os operadores aritméticos, os operadores lógicos são traduzidos para o Python em termos de uma chamada para um método do objeto à esquerda recebendo como parâmetro o objeto da direita. Por exemplo, um teste de igualdade do tipo a > b torna-se a.__gt__(b). Os métodos de operadores lógicos devem retornar True ou False.\n",
    "\n",
    "No caso da nossa classe Horario, sabemos que se o campo h de um objeto for maior do que o do outro, ele é necessariamente maior. Se ambos os campos forem iguais, o campo m deverá ser maior. Se ambos h e m forem iguais, o desempate fica no campo s.\n",
    "\n",
    "Adicione o método mágico abaixo à sua classe Horario para que ela consiga utilizar o operador >:</p>"
   ],
   "cell_type": "markdown",
   "metadata": {}
  },
  {
   "cell_type": "code",
   "execution_count": null,
   "metadata": {},
   "outputs": [],
   "source": [
    "def __gt__(self, other):\n",
    "    # hora é maior\n",
    "    if self.h > other.h:\n",
    "        return True\n",
    "    # empate na hora, mas minuto é maior\n",
    "    elif self.h == other.h and self.m > other.m:\n",
    "        return True\n",
    "    # empate na hora e no minuto, mas segundo é maior\n",
    "    elif self.h == other.h and self.m == other.m and self.s > other.s:\n",
    "        return True\n",
    "    # em todos os outros casos, o objeto é definitivamente menor\n",
    "    else:\n",
    "        return False"
   ]
  },
  {
   "source": [
    "No programa principal (fora da classe), vamos aproveitar os objetos do exemplo anterior e fazer um teste:"
   ],
   "cell_type": "markdown",
   "metadata": {}
  },
  {
   "cell_type": "code",
   "execution_count": null,
   "metadata": {},
   "outputs": [],
   "source": [
    "if duracaoJogo > duracaoIntervalo:\n",
    "    print('Temos mais tempo de jogo do que de intervalo')\n",
    "else:\n",
    "    print('Temos mais tempo de intervalo do que de jogo')"
   ]
  },
  {
   "cell_type": "code",
   "execution_count": null,
   "metadata": {},
   "outputs": [],
   "source": [
    "#Os métodos lógicos são:\n",
    "\n",
    "__gt__ maior que (greater than): >\n",
    "__ge__ maior ou igual (greater or equal): >=\n",
    "__lt__ menor que (less than): <\n",
    "__le__ menor ou igual (less or equal): <=\n",
    "__eq__ igual (equal): ==\n",
    "__ne__ diferente (not equal): !="
   ]
  },
  {
   "source": [
    "Este capítulo abordou os métodos mágicos mais comuns. Temos vários outros, mas além de ser uma lista muito longa, alguns deles são para funcionalidades avançadas não abordadas no curso. Quem estiver interessado em se aprofundar para fazer projetos mais sofisticados pode conferir esse guia excelente: https://rszalski.github.io/magicmethods/\n",
    "\n",
    "Desafio: complemente a nossa classe Horario implementando métodos mágicos para subtração e para todos os operadores lógicos. Experimente também ajustar o construtor para prevenir horários inválidos: por exemplo, se alguém passar m=90, faça m=30 e some +1 em h."
   ],
   "cell_type": "markdown",
   "metadata": {}
  },
  {
   "source": [
    "<h2>6. Métodos e atributos estáticos</h2>\n",
    "<p>Todos os exemplos até agora mostraram atributos e métodos pertencendo aos objetos: a classe definia quais atributos e métodos o objeto deveria ter, mas cada objeto tem um valor distinto para cada atributo e os métodos devem ser chamados a partir dos objetos.\n",
    "\n",
    "Porém, há casos onde gostaríamos que uma certa informação fosse coletiva. Pense, por exemplo, na população do Brasil: cada pessoa deve saber seu próprio nome e seu próprio CPF. Porém, é competência da administração federal ter dados como o número total de habitantes e registro de todos os CPFs em circulação. Não faria sentido exigir que cada habitante soubesse todas essas informações.\n",
    "\n",
    "Da mesma forma, realizar o censo para manter essas informações atualizadas não é de competência de cada cidadão individual, mas da administração federal. Ela deverá ter seus mecanismos para sempre ter informações atualizadas sobre os habitantes.\n",
    "\n",
    "Esses problemas são resolvidos pelos atributos estáticos e métodos estáticos.</p>"
   ],
   "cell_type": "markdown",
   "metadata": {}
  },
  {
   "source": [
    "<h3>6.1. Atributos estáticos</h3><p>Um atributo estático nada mais é do que um atributo que é coletivo, pertencente à classe como um todo. Não haverá uma cópia diferente dele para cada objeto, mas sim uma única informação que pode ser acessada diretamente na classe, sem sequer necessitar que um objeto já tenha sido instanciado.\n",
    "\n",
    "Para criar um atributo estático, basta criar uma variável (atribuindo um valor inicial a ela) dentro da classe, mas fora de qualquer um de seus métodos. </p>"
   ],
   "cell_type": "markdown",
   "metadata": {}
  },
  {
   "cell_type": "code",
   "execution_count": null,
   "metadata": {},
   "outputs": [],
   "source": [
    "class Pessoa:\n",
    "    # criando um atributo estático\n",
    "    populacao = 0\n",
    "\n",
    "    def __init__(self, nome, cpf):\n",
    "        self.nome = nome\n",
    "        self.cpf =  cpf\n",
    "        # o __init__ é chamado quando uma Pessoa nova é criada...\n",
    "        # ...portanto, vamos atualizar nossa populacao sempre que alguém for criado!\n",
    "        Pessoa.populacao = Pessoa.populacao + 1\n",
    "\n",
    "maisVelho = Pessoa('Mario', 12345678901)\n",
    "maisNovo = Pessoa('Luigi', 98765432109)\n",
    "\n",
    "# Note que para acessar o atributo estático, não referenciamos um objeto, e sim a classe!\n",
    "print('População atual: ', Pessoa.populacao)"
   ]
  },
  {
   "source": [
    "<h3>6.2. Métodos estáticos</h3><p> Imagine que você precise de algum método que seja bastante útil para a classe, mas que não necessariamente precise de um objeto. Chamamos esses métodos de métodos estáticos.\n",
    "\n",
    "Para que um método seja estático, podemos utilizar um decorator (de maneira simplificada, um modificador de comportamento da função). Nós iremos escrever @staticmethod acima da definição do método.\n",
    "\n",
    "Nosso método não terá um self, apenas parâmetros que sejam realmente necessários. E na hora de usá-lo, usaremos o nome da classe ao invés do nome de um objeto, como fizemos com os atributos estáticos.\n",
    "\n",
    "Adicione o seguinte método à classe Pessoa:</p>"
   ],
   "cell_type": "markdown",
   "metadata": {}
  },
  {
   "cell_type": "code",
   "execution_count": null,
   "metadata": {},
   "outputs": [],
   "source": [
    "@staticmethod\n",
    "    def popTotal():\n",
    "        print('População total:', Pessoa.populacao)"
   ]
  },
  {
   "source": [
    "Note que ele não possui self, pois ele não precisa de acesso a nenhuma informação de qualquer objeto em particular.\n",
    "\n",
    "Para chamá-lo, inclua a seguinte linha no programa principal:"
   ],
   "cell_type": "markdown",
   "metadata": {}
  },
  {
   "cell_type": "code",
   "execution_count": null,
   "metadata": {},
   "outputs": [],
   "source": [
    "Pessoa.popTotal()"
   ]
  },
  {
   "source": [
    "<h2>7. Herança e polimorfismo</h2><p>Imagine que você tenha várias classes com várias características em comum: os mesmos atributos, os mesmos métodos ou métodos parecidos e com o mesmo nome e mesmos parâmetros. Reescrevê-los várias vezes é um desperdício de tempo e pode induzir ao erro. Além disso, se pecisarmos atualizar um método, precisaremos fazer a modificação múltiplas vezes. A herança e o polimorfismo são a solução para esse problema. </p>"
   ],
   "cell_type": "markdown",
   "metadata": {}
  },
  {
   "source": [
    "<h3>7.1. Herança</h3><p> Para que diversas classes possuam os mesmos atributos e métodos, podemos criar uma classe com esses atributos e métodos e dizer que as outras classes herdarão dessa classe. As classes filhas possuem os mesmos atributos e métodos que a classe mãe. Para herdar, colocamos o nome da classe mãe entre parênteses na frente do nome da classe filha em sua definição.\n",
    "\n",
    "Se necessário, podemos redefinir um método na classe filha - assim, temos a garantia de que todas as classes filhas terão métodos com o mesmo nome, mas eles podem ter comportamentos diferentes.\n",
    "\n",
    "Execute o código abaixo:</p>"
   ],
   "cell_type": "markdown",
   "metadata": {}
  },
  {
   "cell_type": "code",
   "execution_count": null,
   "metadata": {},
   "outputs": [],
   "source": [
    "class Animal:\n",
    "    def __init__(self, nome):\n",
    "        self.nome = nome\n",
    "\n",
    "    def fala(self):\n",
    "        print(self.nome, 'faz barulho.')\n",
    "\n",
    "\n",
    "class Cachorro(Animal):\n",
    "    def fala(self):\n",
    "        print(self.nome, 'faz au au.')\n",
    "\n",
    "class Gato(Animal):\n",
    "    def fala(self):\n",
    "        print(self.nome, 'faz miau.')\n",
    "\n",
    "class Dinossauro(Animal):\n",
    "    pass\n",
    "    # pass é um comando \"vazio\": ele não faz nada, apenas evita erro por não colocarmos nada dentro da classe\n",
    "\n",
    "cachorrinho = Cachorro('Bidu')\n",
    "gatinho = Gato('Mingau')\n",
    "dino = Dinossauro('Horácio')\n",
    "\n",
    "cachorrinho.fala()\n",
    "gatinho.fala()\n",
    "dino.fala()"
   ]
  },
  {
   "source": [
    "Note que as classes Cachorro e Gato não possuem método construtor, apenas um método \"fala\", mas mesmo assim conseguimos criar objetos com um atributo \"nome\". O Python procurou o método construtor nessas classes, e ao não encontrar, procurou em sua classe mãe (Animal) e o usou. Ao chamarmos o método \"fala\", o Python usou o das próprias classes filhas, já que elas a possuiam.\n",
    "\n",
    "No caso da classe Dinossauro, fomos ainda mais radicais: não colocamos nada dentro da classe. Mas não só conseguimos criar um objeto com o atributo \"nome\", como conseguimos usar o método \"fala\". Assim como no caso do construtor, foi usado o método da classe mãe."
   ],
   "cell_type": "markdown",
   "metadata": {}
  },
  {
   "source": [
    "<h3>7.1.1. Herdando parcialmente um método</h3><p>Imagine que você queira que um método de uma classe filha seja muito parecido com um método de uma classe mãe, mas possua algumas linhas a mais de código. Novamente caímos no problema da reutilização de código: se copiarmos e colarmos o método na classe filha e acrescentarmos algumas linhas, caso tenhamos que atualizar ou corrigir o método na classe mãe no futuro, precisaríamos nos lembrar de atualizá-lo também na classe filha.\n",
    "\n",
    "Podemos utilizar o método super. Ele nos dá acesso dentro de uma classe filha aos métodos originais da classe mãe. Assim, podemos redefinir na classe filha um método, digitar apenas as linhas de código novas/diferentes e em seguida usar o super para chamar o método original.\n",
    "\n",
    "Atualize a sua classe Cachorro para que ela agora também crie um atributo \"raca\", mas sem precisarmos novamente criar o atributo \"nome\": </p>"
   ],
   "cell_type": "markdown",
   "metadata": {}
  },
  {
   "cell_type": "code",
   "execution_count": null,
   "metadata": {},
   "outputs": [],
   "source": [
    "class Cachorro(Animal):\r\n",
    "    # redefinindo o __init__\r\n",
    "    def __init__(self, nome, raca):\r\n",
    "        # pedaço novo de código\r\n",
    "        self.raca = raca\r\n",
    "        # chamando a __init__ da classe mãe para fazer o resto do trabalho\r\n",
    "        super().__init__(nome)\r\n",
    "\r\n",
    "    def fala(self):\r\n",
    "        print(self.nome, 'faz au au.')"
   ]
  },
  {
   "source": [
    "<h3>7.2. Polimorfismo</h3><p>A palavra \"polimorfismo\" vem do grego antigo e significa \"várias formas\". A ideia do polimorfismo em programação é que um objeto de uma certa classe pode se comportar como objeto de outras classes. Mais especificamente, objetos de uma classe filha podem também ser tratados como se pertencessem à classe mãe.\n",
    "\n",
    "O método isinstance recebe 2 parâmetros: um objeto e uma classe. Ele retorna True caso o objeto pertenca à classe, e False caso não pertença. Cole os testes no programa abaixo para verificar que um cachorro não é um gato, um gato não é cachorro, cachorro é cachorro, gato é gato e ambos são animais: </p>"
   ],
   "cell_type": "markdown",
   "metadata": {}
  },
  {
   "cell_type": "code",
   "execution_count": null,
   "metadata": {},
   "outputs": [],
   "source": [
    "# o cachorrinho é cachorro?\n",
    "print(isinstance(cachorrinho, Cachorro))\n",
    "# o gatinho é gato?\n",
    "print(isinstance(gatinho, Gato))\n",
    "# o cachorrinho é gato?\n",
    "print(isinstance(cachorrinho, Gato))\n",
    "# o gatinho é cachorro?\n",
    "print(isinstance(gatinho, Cachorro))\n",
    "# o cachorrinho é animal?\n",
    "print(isinstance(cachorrinho, Animal))\n",
    "# o gatinho é animal?\n",
    "print(isinstance(gatinho, Animal))"
   ]
  },
  {
   "source": [
    "Isso é útil porque uma função que seja feita para lidar com Animal será capaz de lidar com qualquer classe herdeira de Animal com a mesma facilidade. Modifique a classe Animal para registrar todos os animais criados e ter uma função que faz todos eles falarem:"
   ],
   "cell_type": "markdown",
   "metadata": {}
  },
  {
   "cell_type": "code",
   "execution_count": null,
   "metadata": {},
   "outputs": [],
   "source": [
    "class Animal:\n",
    "    # lista estática de animais criados\n",
    "    animais = []\n",
    "\n",
    "    def __init__(self, nome):\n",
    "        self.nome = nome\n",
    "        # criamos o animal e o colocaremos na lista estática\n",
    "        Animal.animais.append(self)\n",
    "\n",
    "    def fala(self):\n",
    "        print(self.nome, 'faz barulho.')\n",
    "\n",
    "    @staticmethod\n",
    "    def falatorio():\n",
    "        for a in Animal.animais:\n",
    "            a.fala()"
   ]
  },
  {
   "source": [
    "Agora façamos um teste no programa principal:"
   ],
   "cell_type": "markdown",
   "metadata": {}
  },
  {
   "cell_type": "code",
   "execution_count": null,
   "metadata": {},
   "outputs": [],
   "source": [
    "Animal.falatorio()"
   ]
  },
  {
   "source": [
    "A classe Animal nem sequer sabe quem herda dela. Ela não conhece Cachorro, Gato ou Dinossauro. Mas ela sabe que todo animal possui um atributo nome e um método fala, e por isso não importa a qual subclasse eles pertencem: todos também pertencem à classe Animal."
   ],
   "cell_type": "markdown",
   "metadata": {}
  }
 ]
}