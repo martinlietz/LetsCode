{
 "metadata": {
  "language_info": {
   "codemirror_mode": {
    "name": "ipython",
    "version": 3
   },
   "file_extension": ".py",
   "mimetype": "text/x-python",
   "name": "python",
   "nbconvert_exporter": "python",
   "pygments_lexer": "ipython3",
   "version": "3.7.8-final"
  },
  "orig_nbformat": 2,
  "kernelspec": {
   "name": "python378jvsc74a57bd004635d289a519a1410467dd0afb0db42f9184808881ca68b2eb5a687a20a5a94",
   "display_name": "Python 3.7.8 32-bit"
  }
 },
 "nbformat": 4,
 "nbformat_minor": 2,
 "cells": [
  {
   "source": [
    "## Questão #1\n",
    "Faça um programa que peça para o usuário digitar uma palavra e imprima cada letra em uma linha.\n"
   ],
   "cell_type": "markdown",
   "metadata": {}
  },
  {
   "cell_type": "code",
   "execution_count": 14,
   "metadata": {},
   "outputs": [
    {
     "output_type": "stream",
     "name": "stdout",
     "text": [
      "M\na\nr\nt\ni\nn\n"
     ]
    }
   ],
   "source": [
    "palavra = str(input(\"Digite uma palavra\"))\n",
    "for c in palavra:\n",
    "    print(c)\n"
   ]
  },
  {
   "source": [
    "## Questão #2\n",
    "Faça um programa que pede para o usuário digitar uma palavra e cria uma nova string igual, copiando letra por letra a palavra digitada, depois imprima a nova string."
   ],
   "cell_type": "markdown",
   "metadata": {}
  },
  {
   "cell_type": "code",
   "execution_count": 25,
   "metadata": {},
   "outputs": [
    {
     "output_type": "stream",
     "name": "stdout",
     "text": [
      "Martin\n"
     ]
    }
   ],
   "source": [
    "palavra = str(input(\"Digite uma palavra\"))\n",
    "novapalavra = ''\n",
    "for x in palavra:\n",
    "    novapalavra += x\n",
    "#  novapalavra = ''.join([ x for x in palavra ])\n",
    "print(novapalavra)"
   ]
  },
  {
   "source": [
    "## Questão #3\n",
    "Altere o exercício anterior para que a string copiada alterne entre letras maiúsculas e minúsculas.\n",
    "\n",
    "Exemplo: se o usuário digitar \"latex\" o programa deve imprimir \"LaTeX\"."
   ],
   "cell_type": "markdown",
   "metadata": {}
  },
  {
   "cell_type": "code",
   "execution_count": 26,
   "metadata": {},
   "outputs": [
    {
     "output_type": "stream",
     "name": "stdout",
     "text": [
      "LaTeX\n"
     ]
    }
   ],
   "source": [
    "palavra = str(input(\"Digite uma palavra\"))\n",
    "novapalavra = \"\"\n",
    "for (key,c) in enumerate(palavra):\n",
    "    novapalavra+= c.upper() if key % 2 == 0 else c.lower()\n",
    "print(novapalavra)"
   ]
  },
  {
   "source": [
    "## Questão #4\n",
    "Faça um programa que pede para o usuário digitar uma palavra e cria uma nova string igual, porém com espaço entre cada letra, depois imprima a nova string:\n",
    "\n",
    "Exemplo: se o usuário digitar \"python\" o programa deve imprimir \"p y t h o n \""
   ],
   "cell_type": "markdown",
   "metadata": {}
  },
  {
   "cell_type": "code",
   "execution_count": 27,
   "metadata": {},
   "outputs": [
    {
     "output_type": "stream",
     "name": "stdout",
     "text": [
      "p y t h o n \n"
     ]
    }
   ],
   "source": [
    "palavra = str(input(\"Digite uma palavra\"))\n",
    "novapalavra = \"\"\n",
    "for (key,c) in enumerate(palavra):\n",
    "    novapalavra+= c + \" \"\n",
    "print(novapalavra)"
   ]
  },
  {
   "source": [
    "## Questão #5\n",
    "Faça uma função que receba uma string e retorne uma nova string substituindo:\n",
    "\n",
    "'a' por '4'\n",
    "\n",
    "'e' por '3'\n",
    "\n",
    "'I' por '1'\n",
    "\n",
    "'t' por '7'"
   ],
   "cell_type": "markdown",
   "metadata": {}
  },
  {
   "cell_type": "code",
   "execution_count": 28,
   "metadata": {},
   "outputs": [
    {
     "output_type": "execute_result",
     "data": {
      "text/plain": [
       "'All 1ndi4ns know how 7o cod3'"
      ]
     },
     "metadata": {},
     "execution_count": 28
    }
   ],
   "source": [
    "def encrypt(password):\n",
    "    char_to_replace = {'a': '4',\n",
    "                       'e': '3',\n",
    "                       'I': '1',\n",
    "                       't': '7'\n",
    "                      }\n",
    "    return password.translate(str.maketrans(char_to_replace))\n",
    "encrypt(\"All Indians know how to code\")\n"
   ]
  },
  {
   "source": [
    "## Questão #6\n",
    "Faça uma função que recebe uma string e retorna ela ao contrário.\n",
    "\n",
    "Exemplo: Recebe \"teste\" e retorna \"etset\"."
   ],
   "cell_type": "markdown",
   "metadata": {}
  },
  {
   "cell_type": "code",
   "execution_count": 29,
   "metadata": {},
   "outputs": [
    {
     "output_type": "execute_result",
     "data": {
      "text/plain": [
       "'etset'"
      ]
     },
     "metadata": {},
     "execution_count": 29
    }
   ],
   "source": [
    "def viraString(string:str):\n",
    "    return string[::-1]\n",
    "viraString(\"teste\")"
   ]
  },
  {
   "source": [
    "## Questão #7\n",
    "Agora faça uma função que recebe uma palavra e diz se ela é um palíndromo, ou seja, se ela é igual a ela mesma ao contrário.\n",
    "\n",
    "Dica: Use a função do exercício 6."
   ],
   "cell_type": "markdown",
   "metadata": {}
  },
  {
   "cell_type": "code",
   "execution_count": 30,
   "metadata": {},
   "outputs": [
    {
     "output_type": "stream",
     "name": "stdout",
     "text": [
      "False\nTrue\n"
     ]
    }
   ],
   "source": [
    "def isPalindromo(string:str):\n",
    "    return string == string[::-1]\n",
    "print(isPalindromo(\"teste\"))\n",
    "print(isPalindromo(\"salas\"))"
   ]
  },
  {
   "source": [
    "## Questão #8\n",
    "Faça uma função que receba um texto e uma palavra, então verifique se a palavra está no texto, retornando True ou False."
   ],
   "cell_type": "markdown",
   "metadata": {}
  },
  {
   "cell_type": "code",
   "execution_count": 31,
   "metadata": {},
   "outputs": [
    {
     "output_type": "stream",
     "name": "stdout",
     "text": [
      "True\nTrue\nFalse\n"
     ]
    }
   ],
   "source": [
    "def inText(haystack:str, needle:str)->bool:\n",
    "    return True if haystack.find(needle) >=0 else False\n",
    "print(inText(\"Hello, welcome to my world.\",\"Hello\"))\n",
    "print(inText(\"Hello, welcome to my world.\",\"welcome\"))\n",
    "print(inText(\"Hello, welcome to my world.\",\"Maria\"))\n"
   ]
  },
  {
   "source": [
    "## Questão #9\n",
    "Faça uma função que receba uma string que contém tanto números quanto letras e caracteres especiais, e que separe as letras em uma variável e os números em outra (os caracteres especiais podem ser descartados). Ao final a função deve imprimir as duas variáveis."
   ],
   "cell_type": "markdown",
   "metadata": {}
  },
  {
   "cell_type": "code",
   "execution_count": 32,
   "metadata": {},
   "outputs": [
    {
     "output_type": "stream",
     "name": "stdout",
     "text": [
      "Os numeros no texto são: ['3', '4']\nAs letras no texto são: ['l', 's', 'ä', 'b']\n"
     ]
    }
   ],
   "source": [
    "def sepAlphaDeNumeric(text:str):\n",
    "    numeros = [s for s in text if s.isdecimal() ]\n",
    "    letras = [s for s in text if s.isalpha() ]\n",
    "    print(f\"Os numeros no texto são: {numeros}\")\n",
    "    print(f\"As letras no texto são: {letras}\")\n",
    "sepAlphaDeNumeric(\"3ls4äb\")"
   ]
  },
  {
   "source": [
    "## Questão #10\n",
    "Desafio - Faça uma função que receba uma string e uma letra e:\n",
    "\n",
    "a. imprima quantas vezes a letra aparece na string;\n",
    "\n",
    "b. imprima todas as posições em que a letra aparece na string;\n",
    "\n",
    "c. retorne a distância entre a primeira e a última aparição dessa letra na string."
   ],
   "cell_type": "markdown",
   "metadata": {}
  },
  {
   "cell_type": "code",
   "execution_count": 33,
   "metadata": {},
   "outputs": [
    {
     "output_type": "stream",
     "name": "stdout",
     "text": [
      "[1, 8, 13]\na.: e aparece 3 vezes no texto Hello, welcome to my world. \nb.: e tem nas posições [1, 8, 13] vezes no texto Hello, welcome to my world. \nc.: distancia da letra e entre a primeira e a última aparição é 12\n"
     ]
    }
   ],
   "source": [
    "def contaLetras(text:str, letra:str)->int:\n",
    "    result = [i for i in range(len(text)) if text.startswith(letra, i)] \n",
    "    print(result)\n",
    "    print(f\"a.: {letra} aparece {len(result)} vezes no texto {text} \")\n",
    "    print(f\"b.: {letra} tem nas posições {result} vezes no texto {text} \")\n",
    "    print(f\"c.: distancia da letra {letra} entre a primeira e a última aparição é {(max(result)+1)-(min(result)+1)}\")\n",
    "contaLetras(\"Hello, welcome to my world.\",\"e\")"
   ]
  },
  {
   "source": [
    "## Questão #11\n",
    "Super Desafio! - faça uma função que criptografa uma mensagem substituindo cada letra pela letra oposta do dicionário:\n",
    "\n",
    "'a' por 'z'\n",
    "\n",
    "'b' por 'y'\n",
    "\n",
    "'c' por 'x'\n",
    "\n",
    "..."
   ],
   "cell_type": "markdown",
   "metadata": {}
  },
  {
   "cell_type": "code",
   "execution_count": 34,
   "metadata": {},
   "outputs": [
    {
     "output_type": "execute_result",
     "data": {
      "text/plain": [
       "'Zoo Rmwrzmh pmld sld gl xlwv'"
      ]
     },
     "metadata": {},
     "execution_count": 34
    }
   ],
   "source": [
    "def encryptar(password):\n",
    "    alphaMinusculaRev = list(map(chr, range(97, 123)))\n",
    "    alphaMaiusculaRev = list(map(chr, range(65, 91)))\n",
    "    alphaMinuscula = alphaMinusculaRev.copy()\n",
    "    alphaMinusculaRev.reverse()\n",
    "    alphaMaiuscula = alphaMaiusculaRev.copy()\n",
    "    alphaMaiusculaRev.reverse()\n",
    "    chars =  { x[0] : x[1] for x in zip(alphaMinuscula, alphaMinusculaRev) }\n",
    "    #  print(chars)\n",
    "    charMaius =  { x[0] : x[1] for x in zip(alphaMaiuscula, alphaMaiusculaRev) }\n",
    "    #  print(charMaius)\n",
    "    return password.translate(str.maketrans(chars)).translate(str.maketrans(charMaius))\n",
    "    # char_to_replace = {'a': 'z',\n",
    "    #                    'b': 'y',\n",
    "    #                    'I': '1',\n",
    "    #                    't': '7'\n",
    "    #                   }\n",
    "    # return password.translate(str.maketrans(chars))\n",
    "encryptar(\"All Indians know how to code\")"
   ]
  },
  {
   "cell_type": "code",
   "execution_count": 35,
   "metadata": {},
   "outputs": [
    {
     "output_type": "execute_result",
     "data": {
      "text/plain": [
       "'Zoo Rmwrzmh pmld sld gl xlwv'"
      ]
     },
     "metadata": {},
     "execution_count": 35
    }
   ],
   "source": [
    "def encrypt(password):\n",
    "    alphaMinusculaRev = list(map(chr, range(97, 123)))\n",
    "    alphaMaiusculaRev = list(map(chr, range(65, 91)))\n",
    "    alphaMinuscula = alphaMinusculaRev.copy()\n",
    "    alphaMinusculaRev.reverse()\n",
    "    alphaMaiuscula = alphaMaiusculaRev.copy()\n",
    "    alphaMaiusculaRev.reverse()\n",
    "    chars =  { x[0] : x[1] for x in zip(alphaMinuscula, alphaMinusculaRev) }\n",
    "    charMaius =  { x[0] : x[1] for x in zip(alphaMaiuscula, alphaMaiusculaRev) }\n",
    "    return password.translate(str.maketrans(chars)).translate(str.maketrans(charMaius))\n",
    "  \n",
    "encrypt(\"All Indians know how to code\")"
   ]
  },
  {
   "cell_type": "code",
   "execution_count": null,
   "metadata": {},
   "outputs": [],
   "source": []
  }
 ]
}