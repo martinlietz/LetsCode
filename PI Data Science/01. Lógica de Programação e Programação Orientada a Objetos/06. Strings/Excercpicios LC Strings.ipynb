{
 "metadata": {
  "language_info": {
   "codemirror_mode": {
    "name": "ipython",
    "version": 3
   },
   "file_extension": ".py",
   "mimetype": "text/x-python",
   "name": "python",
   "nbconvert_exporter": "python",
   "pygments_lexer": "ipython3",
   "version": 3
  },
  "orig_nbformat": 2
 },
 "nbformat": 4,
 "nbformat_minor": 2,
 "cells": [
  {
   "source": [
    "## Questão #1\n",
    "Faça um programa que peça para o usuário digitar uma palavra e imprima cada letra em uma linha.\n"
   ],
   "cell_type": "markdown",
   "metadata": {}
  },
  {
   "cell_type": "code",
   "execution_count": null,
   "metadata": {},
   "outputs": [],
   "source": []
  },
  {
   "source": [
    "## Questão #2\n",
    "Faça um programa que pede para o usuário digitar uma palavra e cria uma nova string igual, copiando letra por letra a palavra digitada, depois imprima a nova string."
   ],
   "cell_type": "markdown",
   "metadata": {}
  },
  {
   "cell_type": "code",
   "execution_count": null,
   "metadata": {},
   "outputs": [],
   "source": []
  },
  {
   "source": [
    "## Questão #3\n",
    "Altere o exercício anterior para que a string copiada alterne entre letras maiúsculas e minúsculas.\n",
    "\n",
    "Exemplo: se o usuário digitar \"latex\" o programa deve imprimir \"LaTeX\"."
   ],
   "cell_type": "markdown",
   "metadata": {}
  },
  {
   "cell_type": "code",
   "execution_count": null,
   "metadata": {},
   "outputs": [],
   "source": []
  },
  {
   "source": [
    "## Questão #4\n",
    "Faça um programa que pede para o usuário digitar uma palavra e cria uma nova string igual, porém com espaço entre cada letra, depois imprima a nova string:\n",
    "\n",
    "Exemplo: se o usuário digitar \"python\" o programa deve imprimir \"p y t h o n \""
   ],
   "cell_type": "markdown",
   "metadata": {}
  },
  {
   "cell_type": "code",
   "execution_count": null,
   "metadata": {},
   "outputs": [],
   "source": []
  },
  {
   "source": [
    "## Questão #5\n",
    "Faça uma função que receba uma string e retorne uma nova string substituindo:\n",
    "\n",
    "'a' por '4'\n",
    "\n",
    "'e' por '3'\n",
    "\n",
    "'I' por '1'\n",
    "\n",
    "'t' por '7'"
   ],
   "cell_type": "markdown",
   "metadata": {}
  },
  {
   "cell_type": "code",
   "execution_count": null,
   "metadata": {},
   "outputs": [],
   "source": []
  },
  {
   "source": [
    "## Questão #6\n",
    "Faça uma função que recebe uma string e retorna ela ao contrário.\n",
    "\n",
    "Exemplo: Recebe \"teste\" e retorna \"etset\"."
   ],
   "cell_type": "markdown",
   "metadata": {}
  },
  {
   "cell_type": "code",
   "execution_count": null,
   "metadata": {},
   "outputs": [],
   "source": []
  },
  {
   "source": [
    "## Questão #7\n",
    "Agora faça uma função que recebe uma palavra e diz se ela é um palíndromo, ou seja, se ela é igual a ela mesma ao contrário.\n",
    "\n",
    "Dica: Use a função do exercício 6."
   ],
   "cell_type": "markdown",
   "metadata": {}
  },
  {
   "cell_type": "code",
   "execution_count": null,
   "metadata": {},
   "outputs": [],
   "source": []
  },
  {
   "source": [
    "## Questão #8\n",
    "Faça uma função que receba um texto e uma palavra, então verifique se a palavra está no texto, retornando True ou False."
   ],
   "cell_type": "markdown",
   "metadata": {}
  },
  {
   "cell_type": "code",
   "execution_count": null,
   "metadata": {},
   "outputs": [],
   "source": []
  },
  {
   "source": [
    "## Questão #9\n",
    "Faça uma função que receba uma string que contém tanto números quanto letras e caracteres especiais, e que separe as letras em uma variável e os números em outra (os caracteres especiais podem ser descartados). Ao final a função deve imprimir as duas variáveis."
   ],
   "cell_type": "markdown",
   "metadata": {}
  },
  {
   "cell_type": "code",
   "execution_count": null,
   "metadata": {},
   "outputs": [],
   "source": []
  },
  {
   "source": [
    "## Questão #10\n",
    "Desafio - Faça uma função que receba uma string e uma letra e:\n",
    "\n",
    "a. imprima quantas vezes a letra aparece na string;\n",
    "\n",
    "b. imprima todas as posições em que a letra aparece na string;\n",
    "\n",
    "c. retorne a distância entre a primeira e a última aparição dessa letra na string."
   ],
   "cell_type": "markdown",
   "metadata": {}
  },
  {
   "cell_type": "code",
   "execution_count": null,
   "metadata": {},
   "outputs": [],
   "source": []
  },
  {
   "source": [
    "## Questão #11\n",
    "Super Desafio! - faça uma função que criptografa uma mensagem substituindo cada letra pela letra oposta do dicionário:\n",
    "\n",
    "'a' por 'z'\n",
    "\n",
    "'b' por 'y'\n",
    "\n",
    "'c' por 'x'\n",
    "\n",
    "..."
   ],
   "cell_type": "markdown",
   "metadata": {}
  },
  {
   "cell_type": "code",
   "execution_count": null,
   "metadata": {},
   "outputs": [],
   "source": []
  }
 ]
}