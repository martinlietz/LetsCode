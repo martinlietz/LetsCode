{
 "metadata": {
  "language_info": {
   "codemirror_mode": {
    "name": "ipython",
    "version": 3
   },
   "file_extension": ".py",
   "mimetype": "text/x-python",
   "name": "python",
   "nbconvert_exporter": "python",
   "pygments_lexer": "ipython3",
   "version": "3.7.8-final"
  },
  "orig_nbformat": 2,
  "kernelspec": {
   "name": "python3",
   "display_name": "Python 3.7.8 32-bit",
   "metadata": {
    "interpreter": {
     "hash": "04635d289a519a1410467dd0afb0db42f9184808881ca68b2eb5a687a20a5a94"
    }
   }
  }
 },
 "nbformat": 4,
 "nbformat_minor": 2,
 "cells": [
  {
   "source": [
    "<h2>1. Strings</h2>\n",
    "<p>Na começo do módulo, foi mencionado que temos quatro tipos de dados: inteiro, real, lógico e texto/literal (string). Na verdade, o quarto tipo básico seria um caractere.<br>\n",
    "\n",
    "Uma string é uma coleção de caracteres - como se fosse uma lista, mas aceitando apenas elementos textuais. Vamos verificar algumas propriedades das strings!</p>\n",
    "<h3>1.1. Acessando elementos em uma string</h3>\n",
    "No capítulo sobre Listas, vimos que podemos acessar elementos individuais de uma lista utilizando um índice entre colchetes. Vamos testar a mesma lógica com strings?"
   ],
   "cell_type": "markdown",
   "metadata": {}
  },
  {
   "cell_type": "code",
   "execution_count": 1,
   "metadata": {},
   "outputs": [
    {
     "output_type": "stream",
     "name": "stdout",
     "text": [
      "L\ne\nt\n'\ns\n"
     ]
    }
   ],
   "source": [
    "frase = \"Let's Code\"\n",
    "print(frase[0])\n",
    "print(frase[1])\n",
    "print(frase[2])\n",
    "print(frase[3])\n",
    "print(frase[4])"
   ]
  },
  {
   "source": [
    "Note que o programa acima imprime \"Let's\", com um caractere por linha. Ou seja, ele considerou frase[0] como \"L\", frase[1] como \"e\", e assim sucessivamente. Uma string é, de fato, uma coleção de caracteres.\n",
    "\n",
    "Porém, ao contrário de uma lista, dizemos que uma string é imutável. Isso significa que não podemos alterar um elemento individual da string. O programa abaixo produz um erro:"
   ],
   "cell_type": "markdown",
   "metadata": {}
  },
  {
   "cell_type": "code",
   "execution_count": null,
   "metadata": {},
   "outputs": [],
   "source": [
    "frase = \"let's code\"\n",
    "frase[0] = 'L'"
   ]
  },
  {
   "source": [
    "Para alterar uma string, é necessário redefiní-la, de modo que a string original será descartada e a nova (alterada) será escrita por cima da original. Ou, alternativamente, podemos gerar uma cópia da string com alterações. Veremos mais detalhes adiante."
   ],
   "cell_type": "markdown",
   "metadata": {}
  },
  {
   "source": [
    "<h2>1.2 Operações entre strings</h2>\n",
    "<p>Alguns operadores aritméticos funcionam com strings também. Naturalmente, eles não servem para fazer contas, mas nos permitem fazer de forma intuitiva algumas operações bastante úteis.\n",
    "\n",
    "O operador + serve como um operador de concatenação de strings: unir duas strings. Observe o exemplo abaixo:</p>"
   ],
   "cell_type": "markdown",
   "metadata": {}
  },
  {
   "cell_type": "code",
   "execution_count": null,
   "metadata": {},
   "outputs": [],
   "source": [
    "string1 = 'Olá'\n",
    "string2 = 'Mundo'\n",
    "resultado = string1 + string2\n",
    "print(resultado) # Na tela: 'OláMundo'"
   ]
  },
  {
   "source": [
    "Outro operador que funciona é o operador *. Este operador não é usado entre duas strings, mas entre uma string e um int. Ele repetirá a string o número de vezes dado pelo int."
   ],
   "cell_type": "markdown",
   "metadata": {}
  },
  {
   "cell_type": "code",
   "execution_count": null,
   "metadata": {},
   "outputs": [],
   "source": [
    "string = 'Olá mundo!'\n",
    "multi = string * 3\n",
    "print(multi) # Na tela: 'Olá mundo!Olá mundo!Olá mundo!'"
   ]
  },
  {
   "source": [
    "<h3>1.2.1 Copiando uma string através de concatenação</h3>\n",
    "<p>Caso você já tenha resolvido problemas de somatório (a essa altura, espera-se que tenha resolvido vários!), você já deve estar acostumado a utilizar um loop onde novos valores são somados em uma mesma variável. Somar os números de uma lista, por exemplo, tem mais ou menos essa carinha:</p>"
   ],
   "cell_type": "markdown",
   "metadata": {}
  },
  {
   "cell_type": "code",
   "execution_count": null,
   "metadata": {},
   "outputs": [],
   "source": [
    "soma = 0\n",
    "for numero in lista:\n",
    "    soma = soma + numero"
   ]
  },
  {
   "source": [
    "A mesma lógica pode ser aplicada a uma string:"
   ],
   "cell_type": "markdown",
   "metadata": {}
  },
  {
   "cell_type": "code",
   "execution_count": null,
   "metadata": {},
   "outputs": [],
   "source": [
    "stringInicial = 'Olá Mundo'\n",
    "stringFinal = '' # cria uma string vazia\n",
    "for letra in stringInicial:\n",
    "    stringFinal = stringFinal + letra\n",
    "print(stringFinal)"
   ]
  },
  {
   "source": [
    "Isso é útil porque antes de \"somar\" cada letra à string final podemos fazer alterações (como transformar em maiúscula ou minúscula, acrescentar caracteres entre 2 letras etc). É um jeito de fazer tratamento de strings. Veremos mais sobre tratamento de strings no capítulo de funções de strings."
   ],
   "cell_type": "markdown",
   "metadata": {}
  },
  {
   "source": [
    "<h3>1.3. Transformando uma string em lista</h3>\n",
    "<p>Strings são imutáveis, e isso pode nos dar um pouco de trabalho quando queremos fazer pequenas alterações, como forçar um caractere a ser maiúsculo ou acrescentar um caractere à string. Uma das formas de fazer envolve a \"soma cumulativa\" apresentada acima. Outra forma envolve transformar a nossa string em lista, que é uma estrutura mutável. Execute o programa abaixo:</p>"
   ],
   "cell_type": "markdown",
   "metadata": {}
  },
  {
   "cell_type": "code",
   "execution_count": null,
   "metadata": {},
   "outputs": [],
   "source": [
    "string = \"let's Code\"\n",
    "lista = list(string)\n",
    "lista[0] = 'L'\n",
    "lista.append('!')\n",
    "print(lista) \n",
    "# resultado: \n",
    "# ['L', 'e', 't', \"'\", 's', ' ', 'C', 'o', 'd', 'e', '!']"
   ]
  },
  {
   "source": [
    "Como a lista é mutável, nela conseguimos alterar uma letra e adicionar um símbolo ao final sem dificuldades! Porém, infelizmente nosso resultado é uma lista, o que não ficou muito legível para o usuário. Podemos resolver isso utilizando a função join. Veremos em breve como ele realmente funciona, mas por hora podemos utilizá-lo da seguinte maneira para transformar lista em string:"
   ],
   "cell_type": "markdown",
   "metadata": {}
  },
  {
   "cell_type": "code",
   "execution_count": null,
   "metadata": {},
   "outputs": [],
   "source": [
    "stringOriginal = \"let's Code\"\n",
    "lista = list(stringOriginal)\n",
    "lista[0] = 'L'\n",
    "lista.append('!')\n",
    "stringFinal = ''.join(lista) # antes do . temos uma string vazia\n",
    "print(stringFinal)\n",
    "# resultado: \"Let's Code!\" "
   ]
  },
  {
   "source": [
    "Para as modificações mais comuns, temos algumas funções prontas que poderão ser bastante úteis!"
   ],
   "cell_type": "markdown",
   "metadata": {}
  },
  {
   "source": [
    "<h2>2. Símbolos especiais</h2>\n",
    "<p>Além de letras, números, sinais de pontuação, símbolos matemáticos etc, uma string pode conter alguns operadores especiais de controle. Esses operadores podem indicar, por exemplo, uma quebra de linha ou uma tabulação. Vejamos os mais comuns:</p>"
   ],
   "cell_type": "markdown",
   "metadata": {}
  },
  {
   "source": [
    "<h3>2.1. Quebra de linha</h3>\n",
    "<p>Uma quebra de linha indica que o programa exibindo a string deverá quebrar a linha atual e exibir o restante da string na linha seguinte, e é representada na maioria dos sistemas e na web pelo símbolo \\n. Execute o programa abaixo e veja o resultado na tela:</p>"
   ],
   "cell_type": "markdown",
   "metadata": {}
  },
  {
   "cell_type": "code",
   "execution_count": null,
   "metadata": {},
   "outputs": [],
   "source": [
    "print('Olá\\nMundo')"
   ]
  },
  {
   "source": [
    "<h3>2.2. Tabulação</h3>\n",
    "<p>A tabulação indica um recuo equivalente ao da tecla Tab - um recuo de início de parágrafo, ou o recuo que usamos para aninhar linhas de código em Python. Ela é representada pelo símbolo \\t. Verifique o resultado do exemplo abaixo:</p>"
   ],
   "cell_type": "markdown",
   "metadata": {}
  },
  {
   "cell_type": "code",
   "execution_count": null,
   "metadata": {},
   "outputs": [],
   "source": [
    "aprovados = ['Mario', 'Peach', 'Luigi']\n",
    "reprovados = ['Wario', 'Bowser']\n",
    "\n",
    "print('Candidatos aprovados:')\n",
    "for nome in aprovados:\n",
    "    print('\\t', nome)\n",
    "\n",
    "print('Candidatos reprovados:')\n",
    "for nome in reprovados:\n",
    "    print('\\t', nome)"
   ]
  },
  {
   "source": [
    "<h3>2.3. Barra</h3>\n",
    "<p>E se nós quiséssemos representar uma string que explica o significado de \\n, por exemplo, como proceder? Afinal, ao ver o símbolo \\n o programa entenderá que é uma quebra de linha e fará isso ao invés de escrever \\n na tela.\n",
    "\n",
    "Podemos utilizar 2 barras: \\\\. Ao fazermos isso, o programa entende que é para representar a barra na tela ao invés de interpretá-la como início de outro símbolo especial.</p>"
   ],
   "cell_type": "markdown",
   "metadata": {}
  },
  {
   "cell_type": "code",
   "execution_count": null,
   "metadata": {},
   "outputs": [],
   "source": [
    "print('Utilizamos o \\\\n para quebrar linhas.')"
   ]
  },
  {
   "source": [
    "<h3>2.4 Aspas</h3>\n",
    "<p>Um problema que você deve ter se deparado é que parece impossível representar o símbolo ' em uma string que foi aberta por esse símbolo, já que a segunda ocorrência dele fechará a string. Idem para o símbolo \". Podemos resolver isso da mesma forma que fizemos com a barra: \\' irá sempre representar o símbolo ' e \\\" irá sempre representar o símbolo \" ao invés de fechar uma string.</p>"
   ],
   "cell_type": "markdown",
   "metadata": {}
  },
  {
   "cell_type": "code",
   "execution_count": null,
   "metadata": {},
   "outputs": [],
   "source": [
    "print('Imprimindo uma aspa simples(\\') dentro de uma string sem problemas')\n",
    "print(\"Imprimindo aspas duplas(\\\") dntro de uma string sem problemas\")"
   ]
  },
  {
   "source": [
    "<h2>3. Funções de strings</h2>\n",
    "<p>É possível fazer várias operações com strings utilizando técnicas como concatenação ou converter em listas. Porém, certas operações são muito comuns e podem ser muito trabalhosas de fazer na mão. Por isso, temos diversas funções prontas para nos ajudar.\n",
    "\n",
    "Note que como strings são imutáveis, nenhuma dessas funções irá alterar a string original. Elas sempre retornarão uma string nova com as modificações desejadas.\n",
    "\n",
    "Vejamos algumas das mais usadas.</p>"
   ],
   "cell_type": "markdown",
   "metadata": {}
  },
  {
   "source": [
    "<h3>3.1. Maiúsculas e minúsculas</h3>\n",
    "<p>Temos algumas funções prontas para alterar a capitalização das letras. Uma delas é a função upper, que transforma todas as letras da string original em maiúsculas:</p>"
   ],
   "cell_type": "markdown",
   "metadata": {}
  },
  {
   "cell_type": "code",
   "execution_count": null,
   "metadata": {},
   "outputs": [],
   "source": [
    "frase = 'vAmOs PrOgRaMaR'\n",
    "maiuscula = frase.upper()\n",
    "print(maiuscula) # resultado: 'VAMOS PROGRAMAR'"
   ]
  },
  {
   "source": [
    "Analogamente, temos a função lower para transformar todas as letras em minúsculas:"
   ],
   "cell_type": "markdown",
   "metadata": {}
  },
  {
   "cell_type": "code",
   "execution_count": null,
   "metadata": {},
   "outputs": [],
   "source": [
    "frase = 'vAmOs PrOgRaMaR'\n",
    "minuscula = frase.lower()\n",
    "print(minuscula) # resultado: 'vamos programar'"
   ]
  },
  {
   "source": [
    "Também é possível formatar a string inteira como um nome próprio: primeira letra de cada palavra maiúscula, todo o restante minúscula. Para isso temos a função title:"
   ],
   "cell_type": "markdown",
   "metadata": {}
  },
  {
   "cell_type": "code",
   "execution_count": null,
   "metadata": {},
   "outputs": [],
   "source": [
    "frase = 'vAmOs PrOgRaMaR'\n",
    "titulo = frase.title()\n",
    "print(titulo) # resultado: 'Vamos Programar'"
   ]
  },
  {
   "source": [
    "E, por fim, é possível tratar nossa string como uma frase gramaticalmente correta: primeira letra maiúscula, todo o resto minúscula. Essa função é a capitalize:"
   ],
   "cell_type": "markdown",
   "metadata": {}
  },
  {
   "cell_type": "code",
   "execution_count": null,
   "metadata": {},
   "outputs": [],
   "source": [
    "frase = 'vAmOs PrOgRaMaR'\n",
    "correta = frase.capitalize()\n",
    "print(correta) # resultado: 'Vamos programar'"
   ]
  },
  {
   "source": [
    "<blockquote>Uma utilidade para essas funções é padronizar entrada de usuário. Quando pedimos para o usuário digitar 'sim' caso ele deseje fazer algo, ele pode digitar 'SIM', 'sim', 'Sim', 'sIm', 'siM', 'SIm', 'sIM' ou 'SiM'. Prever todas essas condições em uma condicional pode ser bastante trabalhoso, ou mesmo impossível. Imagine se fosse uma string de várias letras... Porém, podemos forçar um padrão para a entrada do usuário e comparar com esse padrão:</blockquote>"
   ],
   "cell_type": "markdown",
   "metadata": {}
  },
  {
   "cell_type": "code",
   "execution_count": null,
   "metadata": {},
   "outputs": [],
   "source": [
    "usuario = input('Digite \"sim\" se aceita os termos de uso: ')\n",
    "if usuario.upper() == 'SIM':\n",
    "    print('Seja bem-vindo!')\n",
    "else:\n",
    "   print('Que pena.') "
   ]
  },
  {
   "source": [
    "Qualquer forma que o usuário digite a palavra 'sim' será aceita."
   ],
   "cell_type": "markdown",
   "metadata": {}
  },
  {
   "source": [
    "<h3>3.2. Quebrando uma string</h3>\n",
    "<p>É possível separar uma string em uma lista de substrings. Isso pode ser particularmente útil quando precisamos separar um texto em palavras individuais. A função que realiza essa quebra é o split:</p>"
   ],
   "cell_type": "markdown",
   "metadata": {}
  },
  {
   "cell_type": "code",
   "execution_count": null,
   "metadata": {},
   "outputs": [],
   "source": [
    "texto = 'uma frase qualquer'\n",
    "palavras = texto.split()\n",
    "print(palavras) # resultado: ['uma', 'frase', 'qualquer']"
   ]
  },
  {
   "source": [
    "O split é mais do que apenas uma função para separar palavras. Podemos opcionalmente passar como parâmetro uma string para ser usada como critério de separação: ao invés de quebrar no espaço em branco, a string principal será quebrada nos pontos onde o parâmetro aparece (e ele será apagado do resultado final)."
   ],
   "cell_type": "markdown",
   "metadata": {}
  },
  {
   "source": [
    "Uma utilidade interessante para isso seria quando estamos interessados em ler dados formatados do teclado ou de um arquivo e pegar as informações que nos interessam. Imagine, por exemplo, que você queira que o usuário digite uma data no formato 'dd/mm/aaaa' e em seguida você precise separar dia, mês e ano em três variáveis do tipo int. Isso é possível com o split:"
   ],
   "cell_type": "markdown",
   "metadata": {}
  },
  {
   "cell_type": "code",
   "execution_count": null,
   "metadata": {},
   "outputs": [],
   "source": [
    "data = input('Digite uma data: ')\n",
    "listaData = data.split('/')\n",
    "dia = int(listaData[0])\n",
    "mes = int(listaData[1])\n",
    "ano = int(listaData[2])\n",
    "print('Dia: ', dia)\n",
    "print('Mês: ', mes)\n",
    "print('Ano: ', ano)"
   ]
  },
  {
   "source": [
    "<h3>3.3. Substituindo elementos na string</h3>\n",
    "<p>Uma das ferramentas mais úteis em qualquer editor de texto é o localizar e substituir, onde podemos buscar por todas as ocorrências de uma expressão no texto e trocar por outra expressão. Em Python temos uma função análoga, o replace. Ele recebe 2 parâmetros: a expressão a ser substituída e a expressão que a substituirá. Veja o exemplo:</p>"
   ],
   "cell_type": "markdown",
   "metadata": {}
  },
  {
   "cell_type": "code",
   "execution_count": 1,
   "metadata": {},
   "outputs": [
    {
     "output_type": "stream",
     "name": "stdout",
     "text": [
      "Python é fácil. Por ser fácil, devemos estudar.\n"
     ]
    }
   ],
   "source": [
    "frase = 'Python é difícil. Por ser difícil, devemos estudar.'\n",
    "corrigida = frase.replace('difícil', 'fácil')\n",
    "print(corrigida)\n",
    "# resultado: 'Python é fácil. Por ser fácil, devemos estudar.'"
   ]
  },
  {
   "source": [
    "<blockquote>Em Python não existe uma função para deletar um pedaço de uma string. Porém, podemos usar o replace para substituir uma expressão por uma string vazia, o que tem o mesmo resultado:</blockquote>"
   ],
   "cell_type": "markdown",
   "metadata": {}
  },
  {
   "cell_type": "code",
   "execution_count": null,
   "metadata": {},
   "outputs": [],
   "source": [
    "palavra = 'batata'\n",
    "consoantes = palavra.replace('a', '')\n",
    "print(consoantes)\n",
    "# resultado: 'btt'"
   ]
  },
  {
   "source": [
    "<h3>3.4. Concatenando strings em uma coleção</h3>\n",
    "<p>Imagine que você tem uma coleção (por exemplo, uma lista) de strings e precisa unir todas elas utilizando algum símbolo padrão como separador entre elas. Para isso temos o join. Ele soa pouco intuitivo no começo, então convém executar o exemplo e observar com atenção seu resultado:</p>"
   ],
   "cell_type": "markdown",
   "metadata": {}
  },
  {
   "cell_type": "code",
   "execution_count": 2,
   "metadata": {},
   "outputs": [
    {
     "output_type": "stream",
     "name": "stdout",
     "text": [
      "a123b123c\n"
     ]
    }
   ],
   "source": [
    "lista = ['a', 'b', 'c']\n",
    "separador = '123'\n",
    "resultado = separador.join(lista)\n",
    "print(resultado) # resultado: 'a123b123c'"
   ]
  },
  {
   "source": [
    "Já vimos o join antes sendo usado para converter uma lista de volta em string. Para isso, utilizávamos uma string vazia como separador. Assim, os elementos da lista eram concatenados sem separador.\n",
    "\n",
    "<blockquote>Dica: um jeito de memorizar facilmente como o join funciona é pensar que o separador entrará no lugar das vírgulas na visualização da lista.</blockquote>"
   ],
   "cell_type": "markdown",
   "metadata": {}
  },
  {
   "source": [
    "<h3>3.5. Formatando strings</h3>\n",
    "<p>Todo mundo que já preencheu um contrato ou uma ficha de cadastro está familiar com textos nesse estilo:</p>\n",
    "\n",
    "<blockquote>Eu, __, portador do CPF ___, residente no endereço _____ autorizo o procedimento.</blockquote>\n",
    "\n",
    "<p>Esse é o texto genérico que vale para todos, e cada um de nós em particular entende que deve preencher os campos em brancos com dados específicos (nome, CPF e endereço, no exemplo acima).</p>\n",
    "\n",
    "<p>Existe uma função em Python para realizar esse tipo de preenchimento de texto: o format. Suponha que você tenha dados em diferentes variáveis e precisa que todos eles apareçam em uma string. Basta criar uma string com os \"espaços em branco\" para serem preenchidos e passar as variáveis para a função. Os espaços em branco são representados por chaves ({}).</p>"
   ],
   "cell_type": "markdown",
   "metadata": {}
  },
  {
   "cell_type": "code",
   "execution_count": null,
   "metadata": {},
   "outputs": [],
   "source": [
    "nome = input('Digite seu nome: ')\n",
    "cpf = input('Digite seu cpf: ')\n",
    "endereco = input('Digite seu endereço: ')\n",
    "contrato = 'Eu, {}, portador do CPF {}, residente no endereço {} autorizo o procedimento.'\n",
    "contratoPreenchido = contrato.format(nome, cpf, endereco)\n",
    "print(contratoPreenchido)"
   ]
  },
  {
   "source": [
    "Porém, o grande charme não está apenas em preencher - isso poderia ser feito concatenando com o operador +. Nós podemos colocar opções de formatação nos nossos dados, como número de casas em um número.<br>\n",
    "\n",
    "Imagine que você queira exibir uma data no formato dd/mm/aaaa. Em situações normais, dias e meses inferiores a 10 apareceriam com apenas 1 casa (int não é representado com zeros à esquerda). Porém, podemos especificar no format que gostaríamos de representar um inteiro com 2 casas, preenchendo com zero casas em branco."
   ],
   "cell_type": "markdown",
   "metadata": {}
  },
  {
   "cell_type": "code",
   "execution_count": null,
   "metadata": {},
   "outputs": [],
   "source": [
    "dia = 1\n",
    "mes = 2\n",
    "ano = 2020\n",
    "data = '{:02d}/{:02d}/{:04d}'.format(dia, mes, ano)\n",
    "print(data) # resultado: 01/02/2020"
   ]
  },
  {
   "source": [
    "Vamos entender o que está dentro das chaves: o símbolo : indica que passaremos opções. O símbolo 'd' indica que estamos representando números inteiros em base decimal (dígitos de 0 a 9). Os símbolos '2' e '4' indicam, respectivamente, 2 casas ou 4 casas. E o símbolo '0' indica que se faltar dígitos, os espaços devem ser preenchidos com zero.<br>\n",
    "\n",
    "Vejamos outro exemplo, dessa vez com casas decimais. É normal postos de gasolina mostrarem o preço do litro com 3 casas decimais. Mas o preço final a ser cobrado deverá ter 2 casas. Porém, ao multiplicar o preço por litro pelo valor em litros, é provável que o total dê várias casas decimais. Usaremos o format para representar com apenas 2 casas."
   ],
   "cell_type": "markdown",
   "metadata": {}
  },
  {
   "cell_type": "code",
   "execution_count": null,
   "metadata": {},
   "outputs": [],
   "source": [
    "precoLitro = 5.234\n",
    "litros = 29.5\n",
    "total = precoLitro * litros\n",
    "print(total) # resultado: 154.403\n",
    "\n",
    "precoFinal = 'R$ {:.2f}'.format(total)\n",
    "print(precoFinal) # resultado: R$ 154.40"
   ]
  },
  {
   "source": [
    "Neste caso, o 'f' indica que o número é float. Já o '.2' indica que queremos 2 casas após o ponto decimal. Note que ele não apenas descarta as casas excedentes, e sim arredonda corretamente o número."
   ],
   "cell_type": "markdown",
   "metadata": {}
  },
  {
   "source": [
    "<blockquote>O format possui tantas opções diferentes que existe um site inteiro dedicado a explicar e dar exemplos: https://pyformat.info/</blockquote>"
   ],
   "cell_type": "markdown",
   "metadata": {}
  }
 ]
}