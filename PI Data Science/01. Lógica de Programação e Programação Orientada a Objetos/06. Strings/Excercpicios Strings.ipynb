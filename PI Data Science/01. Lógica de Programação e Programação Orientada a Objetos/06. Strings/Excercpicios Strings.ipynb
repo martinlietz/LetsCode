{
 "metadata": {
  "language_info": {
   "codemirror_mode": {
    "name": "ipython",
    "version": 3
   },
   "file_extension": ".py",
   "mimetype": "text/x-python",
   "name": "python",
   "nbconvert_exporter": "python",
   "pygments_lexer": "ipython3",
   "version": 3
  },
  "orig_nbformat": 2
 },
 "nbformat": 4,
 "nbformat_minor": 2,
 "cells": [
  {
   "source": [
    "## Questão #1\n",
    "Sobre as semelhanças entre listas e strings, selecione a alternativa correta:\n",
    "\n",
    "Alternativas:\n",
    "\n",
    "    []Não podemos iterar as letras de uma string com um for nem podemos escolher um caractere único usando colchetes\n",
    "\n",
    "    []Não podemos iterar as letras de uma string com um for mas podemos escolher um caractere único usando colchetes\n",
    "\n",
    "    []Podemos iterar as letras de uma string com um for mas não podemos escolher um caractere único usando colchetes\n",
    "\n",
    "    []Podemos iterar as letras de uma string com um for e também podemos escolher um caractere único usando colchetes"
   ],
   "cell_type": "markdown",
   "metadata": {}
  },
  {
   "cell_type": "code",
   "execution_count": null,
   "metadata": {},
   "outputs": [],
   "source": []
  },
  {
   "source": [
    "## Questão #2\n",
    "Analise o código abaixo:\n",
    "\n",
    "string = 'João,Maria,José,Carla,Lucas,Joana'\n",
    "resultado = string.split(',')\n",
    "selecione o que se encontra no resultado após a execução:\n",
    "\n",
    "Alternativas\n",
    "\n",
    "    resultado == ['João', 'Maria', 'José', 'Carla', 'Lucas', 'Joana']\n",
    "\n",
    "    resultado == 'JoãoMariaJoséCarlaLucasJoana'\n",
    "\n",
    "    resultado == 'JoãoMaria,José,Carla,Lucas,Joana'\n",
    "\n",
    "    resultado == 'João,Maria,José,Carla,LucasJoana'"
   ],
   "cell_type": "markdown",
   "metadata": {}
  },
  {
   "cell_type": "code",
   "execution_count": null,
   "metadata": {},
   "outputs": [],
   "source": [
    "## Questão #"
   ]
  },
  {
   "source": [
    "## Questão #3\n",
    "Sobre a função .replace, de strings, selecione a alternativa correta:\n",
    "\n",
    "Alternativas\n",
    "\n",
    "    Pode ser utilizada para separação de strings em listas\n",
    "\n",
    "    Pode ser usada para para alterar palavras ou caracteres de uma string mas não para excluir palavras ou caracteres de uma string\n",
    "\n",
    "    Pode ser usada para para alterar palavras ou caracteres de uma string e também para excluir palavras ou caracteres de uma string\n",
    "\n",
    "    Altera a própria string, não sendo necessário armazenar o return em uma variável"
   ],
   "cell_type": "markdown",
   "metadata": {}
  },
  {
   "cell_type": "code",
   "execution_count": null,
   "metadata": {},
   "outputs": [],
   "source": []
  },
  {
   "source": [
    "## Questão #4\n",
    "Sobre a função .format, de strings, selecione a alternativa correta:\n",
    "\n",
    "Alternativas\n",
    "\n",
    "    Os campos a preencher são representados dentro da string por '()'\n",
    "\n",
    "    Os campos a preencher são representados dentro da string por '{}'\n",
    "\n",
    "    A String é formatada na mesma variável, sem a necessidade de igualar uma variável ao format\n",
    "\n",
    "    texto = '{.2f}' traz um float com apenas 2 casas decimais"
   ],
   "cell_type": "markdown",
   "metadata": {}
  },
  {
   "cell_type": "code",
   "execution_count": null,
   "metadata": {},
   "outputs": [],
   "source": []
  }
 ]
}