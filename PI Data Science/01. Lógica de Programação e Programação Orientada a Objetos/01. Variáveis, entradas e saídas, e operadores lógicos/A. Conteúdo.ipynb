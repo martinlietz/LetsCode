{
 "metadata": {
  "language_info": {
   "codemirror_mode": {
    "name": "ipython",
    "version": 3
   },
   "file_extension": ".py",
   "mimetype": "text/x-python",
   "name": "python",
   "nbconvert_exporter": "python",
   "pygments_lexer": "ipython3",
   "version": "3.7.8-final"
  },
  "orig_nbformat": 2,
  "kernelspec": {
   "name": "python3",
   "display_name": "Python 3.7.8 32-bit",
   "metadata": {
    "interpreter": {
     "hash": "04635d289a519a1410467dd0afb0db42f9184808881ca68b2eb5a687a20a5a94"
    }
   }
  }
 },
 "nbformat": 4,
 "nbformat_minor": 2,
 "cells": [
  {
   "source": [
    "<h2>1. Variáveis</h2>\n",
    "<p>Variáveis são \"pedacinhos de memória\" onde guardamos dados. Sempre que referenciamos o nome, o pedacinho de memória é acessado e seu dado é recuperado.\n",
    "\n",
    "Criamos variáveis dando um nome a elas e usando o operador de atribuição (o sinal de igualdade: =) para atribuir um valor inicial.</p>\n",
    "<p> No exemplo abaixo, foi criada uma variável chamada x que guarda o valor 10. Ou seja, reservamos um pedacinho de memória e guardamos o número 10 lá</p>"
   ],
   "cell_type": "markdown",
   "metadata": {}
  },
  {
   "cell_type": "code",
   "execution_count": 1,
   "metadata": {},
   "outputs": [
    {
     "output_type": "stream",
     "name": "stdout",
     "text": [
      "10\n"
     ]
    }
   ],
   "source": [
    "x = 10\n",
    "print(x)"
   ]
  },
  {
   "source": [
    "<h2>2. Tipos de variáveis</h2>\n",
    "<p>Variáveis em Python possuem 4 tipos básicos:\n",
    "<ul>\n",
    "<li>int: números inteiros, ou seja, números sem parte decimal: 0, 5, -1, 1000</li>\n",
    "<li>float: números reais, ou seja, números com parte decimal: 1.0, -2.7, 3.14</li>\n",
    "<li>str: cadeias de caracteres (strings), ou seja, dados textuais: 'Olá Mundo!', \"eu tenho 18 anos\"</li>\n",
    "<li>bool: valores lógicos (booleanos), ou seja, apenas um entre dois valores possíveis: True ou False</li></p>\n",
    "<blockquote><bold>Dica:</bold> Tente sempre utilizar nomes intuitivos para suas variáveis. O nome deveria ser uma boa descrição do dado que a variável guarda. Nomes como 'x', 'y', 'z', 'a', 'b', 'c', 'a1', 'a2', 'a3' etc podem se tornar bastante confusos quando nossos códigos são muito grandes.\n",
    "</blockquote>\n",
    "\n"
   ],
   "cell_type": "markdown",
   "metadata": {}
  },
  {
   "cell_type": "code",
   "execution_count": null,
   "metadata": {},
   "outputs": [],
   "source": []
  },
  {
   "source": [
    "h2>1. Variáveis</h2>\n",
    "<p>Variáveis são \"pedacinhos de memória\" onde guardamos dados. Sempre que referenciamos o nome, o pedacinho de memória é acessado e seu dado é recuperado.\n",
    "\n",
    "Criamos variáveis dando um nome a elas e usando o operador de atribuição (o sinal de igualdade: =) para atribuir um valor inicial.</p>"
   ],
   "cell_type": "markdown",
   "metadata": {}
  },
  {
   "cell_type": "code",
   "execution_count": 1,
   "metadata": {},
   "outputs": [],
   "source": [
    "nome = 'Zé' # uma variável do tipo string - note as aspas\n",
    "email = \"ze@letscode.com.br\" # outra string\n",
    "idade = 22 # uma variável inteira\n",
    "salario = 5999.85 # uma variável float - usamos ponto, não vírgula\n",
    "receberNewsletter = True # uma variável bool"
   ]
  },
  {
   "source": [
    "<h2>3. Comentários</h2>\n",
    "<p>Note que nos exemplos acima, escrevemos textos no meio do código utilizando o símbolo #. Esses textos são comentários: quando utilizamos o símbolo #, o Python irá ignorar tudo o que vier em seguida (na mesma linha). Utilizamos comentários para explicar pedaços do nosso código para que nós mesmos ou outros colegas no futuro entendam o que fizemos e possam modificar ou corrigir o código com mais facilidade. Também podemos escrever comentários de múltiplas linhas utilizando aspas triplas - neste caso, utilizamos-as para abrir e depois para fechar o bloco de comentários.</p>"
   ],
   "cell_type": "markdown",
   "metadata": {}
  },
  {
   "cell_type": "code",
   "execution_count": null,
   "metadata": {},
   "outputs": [],
   "source": [
    "```\n",
    "Este é um comentário de várias linhas.\n",
    "Tudo que veio após o primeiro trio de aspas e antes do segundo\n",
    "será ignorado pelo Python.\n",
    "```"
   ]
  },
  {
   "source": [
    "<h2>4. Saídas</h2>\n",
    "<p>Chamamos de saídas do nosso programa todos os dados que são gerados pelo programa e serão fornecidos para o usuário.\n",
    "<br> A função de saída em tela no Python é o print. Colocamos entre parênteses o dado que queremos que apareça.</p>"
   ],
   "cell_type": "markdown",
   "metadata": {}
  },
  {
   "cell_type": "code",
   "execution_count": null,
   "metadata": {},
   "outputs": [],
   "source": [
    "print('olá mundo!') # exibe a frase 'olá mundo' na tela"
   ]
  },
  {
   "source": [
    "<p>Os dados a serem exibidos não precisam ser valores constantes, como a frase fixa acima. Eles podem ser variáveis:<;p>"
   ],
   "cell_type": "markdown",
   "metadata": {}
  },
  {
   "cell_type": "code",
   "execution_count": null,
   "metadata": {},
   "outputs": [],
   "source": [
    "idade = 20\n",
    "print(idade)"
   ]
  },
  {
   "source": [
    "<blockquote>Note que quando usamos aspas, o Python trata o valor como uma string, um texto literal. Quando não usamos aspas, o Python irá considerar que aquele é o nome de uma variável e irá acessá-la para buscar seu valor.<blockquote>"
   ],
   "cell_type": "markdown",
   "metadata": {}
  },
  {
   "source": [
    "<p>Podemos exibir múltiplos dados em um print.<br> Para isso, basta separá-los por vírgula e eles irão aparecer na tela na mesma ordem que apareceram no código:<p>"
   ],
   "cell_type": "markdown",
   "metadata": {}
  },
  {
   "cell_type": "code",
   "execution_count": null,
   "metadata": {},
   "outputs": [],
   "source": [
    "nome = 'Mario'\n",
    "linguagem = 'Python'\n",
    "print('Oi, eu sou o', nome, 'e eu programo em', linguagem)\n",
    "\n",
    "```\n",
    "Resultado na tela:\n",
    "Oi, eu sou o Mario e eu programo em Python\n",
    "```"
   ]
  },
  {
   "source": [
    "<h2>5. Entradas</h2>\n",
    "<p>Assim como temos dados de saída - dados gerados pelo código e fornecidos para o usuário - também temos dados de<br>\n",
    "<bold>entrada</bold>: informações que o usuário possuí e deve fornecer ao código. <br>\n",
    "Para receber entradas pelo teclado, utilizaremos a função <bold>input</bold>. \n",
    "<br>Devemos fazer uma variável receber o valor capturado pelo input.<p>\n",
    "\n",
    "nome = input()"
   ],
   "cell_type": "markdown",
   "metadata": {}
  },
  {
   "cell_type": "code",
   "execution_count": null,
   "metadata": {},
   "outputs": [],
   "source": [
    "nome = input()\n",
    "print('Olá', nome)"
   ]
  },
  {
   "source": [
    "<h3>5.1. Determinando o tipo da entrada</h3>\n",
    "<p>Vamos imaginar um programa que informa quantos anos falta para que uma criança atinja a maioridade.<br>\n",
    "Podemos ler a idade da criança pelo teclado (entrada),<br> subtrair a idade do número 18 (processamento) e <br> exibir o resultado da conta na tela (saída). Considere a solução abaixo:</p>"
   ],
   "cell_type": "markdown",
   "metadata": {}
  },
  {
   "cell_type": "code",
   "execution_count": null,
   "metadata": {},
   "outputs": [],
   "source": [
    "idade = input('Digite a sua idade: ')\n",
    "resto = 18 - idade\n",
    "print('Faltam', resto, 'anos.')"
   ]
  },
  {
   "source": [],
   "cell_type": "markdown",
   "metadata": {}
  },
  {
   "source": [
    "<p>Se você copiar e executar o programa, ele dará erro na segunda linha. Isso ocorre porque o teclado é uma \"máquina de escrever\" um pouco mais moderna. Portanto, tudo que entra pelo teclado é considerado pelo Python como texto (ou seja, str). Porém, não podemos \"fazer contas\" com textos. Fazemos contas com números. Portanto, neste caso, precisamos falar para o Python interpretar a nossa entrada como um número. Um bom tipo de dado para \"idade\" seria um número inteiro. Fazemos isso colocando o nome do tipo desejado, e entre parênteses colocamos nosso input:</p>"
   ],
   "cell_type": "markdown",
   "metadata": {}
  },
  {
   "cell_type": "code",
   "execution_count": null,
   "metadata": {},
   "outputs": [],
   "source": [
    "idade = int(input('Digite a sua idade: '))\n",
    "resto = 18 - idade\n",
    "print('Faltam', resto, 'anos.')"
   ]
  },
  {
   "source": [
    "<h2>6. Operadores</h2>\n",
    "<p>Como podemos observar no exemplo anterior, o Python faz operações aritméticas de maneira bastante intuitiva, similar ao que estamos acostumados. Os operadores aceitos são:\n",
    "<ul>\n",
    "<li>Soma: +</li>\n",
    "<li>Subtração: -</i>\n",
    "<li>Multiplicação: *</li>\n",
    "<li>Divisão: /</li>\n",
    "<li>Divisão inteira: //</li>\n",
    "<li>Resto da divisão: %</li>\n",
    "</P>"
   ],
   "cell_type": "markdown",
   "metadata": {}
  },
  {
   "cell_type": "code",
   "execution_count": 5,
   "metadata": {},
   "outputs": [
    {
     "output_type": "stream",
     "name": "stdout",
     "text": [
      "Soma:  21\nSubtração:  9\nMultiplicação:  90\nDivisão:  2.5\nDivisão inteira:  2\nResto da divisão:  3\nPotência:  11390625\n"
     ]
    }
   ],
   "source": [
    "numero1 = int(input('Digite um número: '))\n",
    "numero2 = int(input('Digite outro número: '))\n",
    "soma = numero1 + numero2\n",
    "subtracao = numero1 - numero2\n",
    "multiplicacao = numero1 * numero2\n",
    "divisao = numero1 / numero2\n",
    "divinteira = numero1 // numero2\n",
    "resto = numero1 % numero2\n",
    "elevado = numero1 ** numero2\n",
    "print('Soma: ', soma)\n",
    "print('Subtração: ', subtracao)\n",
    "print('Multiplicação: ', multiplicacao)\n",
    "print('Divisão: ', divisao)\n",
    "print('Divisão inteira: ', divinteira)\n",
    "print('Resto da divisão: ', resto)\n",
    "print('Potência: ', elevado)"
   ]
  },
  {
   "source": [
    "<quote>Operadores de divisão: Note que temos 3 operadores de divisão. O que seria cada um deles? Vamos supor que numero1 seja 15 e numero2 seja 6. Ao calcular essa divisão, chegamos na seguinte situação:\n",
    "\n",
    "$\\frac{15}{6}$\n",
    "$\\frac{03}{2}$\n",
    "\n",
    "Note que, considerando apenas números inteiros, não conseguimos mais prosseguir com a divisão. Neste caso, a divisão inteira (numero1 // numero2) dará 2. Já o resto da divisão (numero1 % numero2) dará 3. Porém, considerando casas decimais é possível prosseguir com a divisão:\n",
    "\n",
    "$\\frac{15}{6}$\n",
    "$\\frac{30}{2,5}=0$\n",
    "Portanto, a divisão comum (numero1 / numero2) dará 2.5.</quote>"
   ],
   "cell_type": "markdown",
   "metadata": {}
  },
  {
   "source": [
    "<h2>7. Operações lógicas:</h2>\n",
    "<p>\n",
    "Vimos que nossos dados podem ter 4 tipos básicos: str (texto), int (número inteiro), float (número real) e bool (lógico). Também vimos diversas operações aritméticas, como a soma, a divisão ou a potência, cujos resultados são int ou float. Porém, podemos ter também operações cujo resultado é bool: são as operações lógicas. Operações lógicas tipicamente são comparações:<p>"
   ],
   "cell_type": "markdown",
   "metadata": {}
  },
  {
   "cell_type": "code",
   "execution_count": 6,
   "metadata": {},
   "outputs": [
    {
     "output_type": "stream",
     "name": "stdout",
     "text": [
      "True\nFalse\n"
     ]
    }
   ],
   "source": [
    "comparacao1 = 5 > 3\n",
    "print(comparacao1)\n",
    "comparacao2 = 5 < 3\n",
    "print(comparacao2)"
   ]
  },
  {
   "source": [
    "Se executarmos o código acima, a saída que teremos na tela será:<br>\n",
    "<code>True<br>\n",
    "False<code>"
   ],
   "cell_type": "markdown",
   "metadata": {}
  },
  {
   "source": [
    "Isso ocorre porque 5 é maior que 3. Portanto, comparacao1 recebeu uma expressão cujo valor lógico é verdadeiro, portanto seu resultado foi True, e o oposto ocorreu para comparacao2. O Python possui 6 operadores de comparação:\n",
    "<ul>\n",
    "<li>Maior que: ></li>\n",
    "<li>Maior ou igual: >=</li>\n",
    "<li>Menor que: <</li>\n",
    "<li>Menor ou igual: <=</li>\n",
    "<li>Igual: ==</li>\n",
    "<li>Diferente: !=</li></ul>\n",
    "<blockquote>Note que o operador para comparar se 2 valores são iguais é ==, e não =. Isso ocorre porque o operador = é o nosso operador de atribuição: ele diz que a variável à sua esquerda deve receber o valor da expressão à direita. O operador de == irá testar se o valor à sua esquerda é igual ao valor à sua direita e irá responder True ou False, como todos os outros operadores de comparação.<blockquote>"
   ],
   "cell_type": "markdown",
   "metadata": {}
  },
  {
   "source": [
    "<h3>7.1 Conjunções lógicas</h3>\n",
    "<p>Em alguns casos precisamos testar se duas ou mais condições são verdadeiras. Imagine, por exemplo, que o critério de aprovação em uma escola seja média superior a 6.0 e presença superior a 75%. Neste caso, o aluno precisa atender a ambos os critérios para ser aprovado. Se ele tirou uma ótima nota mas faltou demais, será reprovado. Se ele compareceu a todas as aulas mas teve notas baixas, idem. O código abaixo testa se é verdade que o aluno foi aprovado:</p>"
   ],
   "cell_type": "markdown",
   "metadata": {}
  },
  {
   "cell_type": "code",
   "execution_count": 7,
   "metadata": {},
   "outputs": [
    {
     "output_type": "stream",
     "name": "stdout",
     "text": [
      "False\n"
     ]
    }
   ],
   "source": [
    "media = float(input('Digite a média do aluno: '))\n",
    "presenca = float(input('Digite as presenças do aluno: '))\n",
    "\n",
    "aprovado = media >= 6.0 and presenca >= 0.75\n",
    "print(aprovado)"
   ]
  },
  {
   "source": [
    "Execute o código acima e teste algumas combinações diferentes de valores. Note que basta uma das condições ser falsa para que o resultado total seja False.\n",
    "\n",
    "Porém, nem sempre precisamos que ambas as condições sejam verdadeiras. Vários de nós já nos deparamos com promoções de queima de estoque anunciadas da seguinte maneira: \"promoção válida até o dia 15 deste mês ou enquanto durarem os estoques\". Neste caso, para a promoção acabar, não é necessário que ambas as coisas ocorram (atingir o dia 15 e zerar o estoque). Se ainda temos 10 itens no estoque mas hoje é dia 16, a promoção acabou. Se hoje é dia 5 mas o estoque está zerado, a promoção acabou. O programa abaixo testa se a promoção acabou:"
   ],
   "cell_type": "markdown",
   "metadata": {}
  },
  {
   "cell_type": "code",
   "execution_count": 8,
   "metadata": {},
   "outputs": [
    {
     "output_type": "stream",
     "name": "stdout",
     "text": [
      "False\n"
     ]
    }
   ],
   "source": [
    "diaFinal = int(input('Digite o dia do mês para encerrar a promoção: '))\n",
    "diaAtual = int(input('Digite o dia do mês atual: '))\n",
    "estoque = int(input('Digite a quantidade de itens no estoque: '))\n",
    "\n",
    "acabou = diaAtual > diaFinal or estoque == 0\n",
    "print(acabou)"
   ]
  },
  {
   "source": [
    "Faça alguns testes com o programa acima e note que basta uma condição ser verdadeira para seu resultado ser True.\n",
    "<br><br>\n",
    "Resumo:\n",
    "<br>\n",
    "<br>and: verdadeiro se condição 1 for verdadeira e condição 2 for verdadeira\n",
    "<br>or: verdadeiro se condição 1 for verdadeira ou condiçã 2 for verdadeira"
   ],
   "cell_type": "markdown",
   "metadata": {}
  }
 ]
}