{
 "metadata": {
  "language_info": {
   "codemirror_mode": {
    "name": "ipython",
    "version": 3
   },
   "file_extension": ".py",
   "mimetype": "text/x-python",
   "name": "python",
   "nbconvert_exporter": "python",
   "pygments_lexer": "ipython3",
   "version": "3.7.8-final"
  },
  "orig_nbformat": 2,
  "kernelspec": {
   "name": "python3",
   "display_name": "Python 3.7.8 32-bit",
   "metadata": {
    "interpreter": {
     "hash": "04635d289a519a1410467dd0afb0db42f9184808881ca68b2eb5a687a20a5a94"
    }
   }
  }
 },
 "nbformat": 4,
 "nbformat_minor": 2,
 "cells": [
  {
   "source": [
    "<h2>1. Funções</h2>\n",
    "<p>Imagine que você fez um programinha para gerar estatísticas sobre vários dados dos funcionários: <br>média dos salários, média de vendas, média de feedback positivo, média de feedback negativo, média de notas atribuídas pelos gestores... <br>Você tem uma lista com os salários, uma lista com o total de vendas de cada funcionário, e assim sucessivamente. Então você fez o seguinte trecho de código:</p>"
   ],
   "cell_type": "markdown",
   "metadata": {}
  },
  {
   "cell_type": "code",
   "execution_count": 1,
   "metadata": {},
   "outputs": [
    {
     "output_type": "stream",
     "name": "stdout",
     "text": [
      "10\n"
     ]
    }
   ],
   "source": [
    "soma = 0\n",
    "for elemento in lista:\n",
    "    soma = elemento\n",
    "media = soma/len(lista)"
   ]
  },
  {
   "source": [
    "Em seguida, você copiou e colou esse trecho de código várias vezes mudando \"lista\" pelo nome de cada lista individual, e \"media\" pelo nome do atributo. Trabalhoso, certo? Imagine que agora você percebeu o erro no trecho acima, e terá que sair corrigindo em todos os lugares onde colou o código errado. Imagina que conveniente se você pudesse arrumar apenas uma vez e todas as ocorrências fossem corrigidas automaticamente..."
   ],
   "cell_type": "markdown",
   "metadata": {}
  },
  {
   "source": [
    "<h3>1.1. O que são funções</h3>\n",
    "<p>Uma função é um pedacinho de programa. Nós podemos dar um nome para nossa função, e toda vez que precisarmos que esse pedacinho de programa seja executado, nós o chamamos pelo nome.<br>\n",
    "\n",
    "Com isso, podemos evitar repetição de código, tornando nossos códigos mais enxutos e legíveis. Além disso, fica mais fácil corrigir problemas como o ilustrado no início deste capítulo.</p>"
   ],
   "cell_type": "markdown",
   "metadata": {}
  },
  {
   "source": [
    "<h3>1.2. Criando funções</h3>\n",
    "<p>Em Python, podemos criar funções com o comando def, e em seguida damos um nome para nossa função.</p>"
   ],
   "cell_type": "markdown",
   "metadata": {}
  },
  {
   "source": [
    "def minhaPrimeiraFuncao():\n",
    "    print('Olá Mundo')"
   ],
   "cell_type": "code",
   "metadata": {},
   "execution_count": null,
   "outputs": []
  },
  {
   "source": [
    "Se você executar o código acima, o que aparecerá na tela? Nada. Tudo que o código acima faz é definir minhaPrimeiraFuncao, mas ela só será executada quando for chamada pelo nome."
   ],
   "cell_type": "markdown",
   "metadata": {}
  },
  {
   "cell_type": "code",
   "execution_count": null,
   "metadata": {},
   "outputs": [],
   "source": [
    "# criando a função\n",
    "def minhaPrimeiraFuncao():\n",
    "    print('Olá Mundo')\n",
    "\n",
    "# o programa começa de verdade aqui:\n",
    "minhaPrimeiraFuncao() # chamada para a função"
   ]
  },
  {
   "source": [
    "Quando chamamos uma função, a execução do programa principal é pausada, o fluxo de execução é desviado para a função, e ao final dela ele retornará para o ponto onde parou. Veja o exemplo abaixo:"
   ],
   "cell_type": "markdown",
   "metadata": {}
  },
  {
   "cell_type": "code",
   "execution_count": null,
   "metadata": {},
   "outputs": [],
   "source": [
    "# criando a função\n",
    "def minhaPrimeiraFuncao():\n",
    "    print('Olá Mundo')\n",
    "\n",
    "# o programa começa de verdade aqui:\n",
    "print('aaa')\n",
    "minhaPrimeiraFuncao() # chamada para a função\n",
    "print('bbb')"
   ]
  },
  {
   "source": [
    "O resultado na tela será:"
   ],
   "cell_type": "markdown",
   "metadata": {}
  },
  {
   "cell_type": "code",
   "execution_count": null,
   "metadata": {},
   "outputs": [],
   "source": [
    "aaa\n",
    "Olá Mundo\n",
    "bbb"
   ]
  },
  {
   "source": [
    "<h4>1.2.1. Parâmetros de uma função</h4>\n",
    "<p>Nossas funções devem ser tão genéricas quanto possível se quisermos reaproveitá-las ao máximo.<br>\n",
    "\n",
    "Um dos pontos onde devemos tomar cuidado é na entrada de dados da função: se usarmos um input dentro da função, teremos uma função que resolverá um certo problema desde que o usuário vá digitar os dados do problema. Mas e se quisermos usar a função em um trecho do programa onde o usuário digita os dados e em outro ponto onde os dados são lidos de um arquivo?<br>\n",
    "\n",
    "Podemos resolver isso fazendo a leitura de dados no programa principal, fora de nossa função, e então passaremos os dados para a função. Dados passados para a função são chamados de parâmetros ou argumentos de uma função. Observe o exemplo abaixo:</p>"
   ],
   "cell_type": "markdown",
   "metadata": {}
  },
  {
   "cell_type": "code",
   "execution_count": null,
   "metadata": {},
   "outputs": [],
   "source": [
    "def soma(a, b):\n",
    "    resultado = a + b\n",
    "    print(resultado)\n",
    "\n",
    "soma(3, 2) # resultado na tela: 5\n",
    "soma(4, 7) # resultado na tela: 11\n",
    "x = 5\n",
    "soma(10, x) # resultado na tela: 15"
   ]
  },
  {
   "source": [
    "Quando colocamos \"a\" e \"b\" entre parênteses na criação da função, estamos especificando que a função recebe 2 parâmetros. O primeiro valor que for passado entre parênteses para nossa função será referenciado por \"a\" e o segundo será referenciado por \"b\". É como se \"a\" e \"b\" fossem variáveis que vão receber a cópia dos valores passados para a função. Note que podemos passar valores puros ou variáveis (como fizemos com \"x\" na última linha), e não precisamos criar variáveis \"a\" e \"b\" em nosso programa principal para \"casar\" com os parâmetros da função."
   ],
   "cell_type": "markdown",
   "metadata": {}
  },
  {
   "source": [
    "<h4>1.2.2. Retorno de uma função</h4>\n",
    "<p>Certas funções possuem uma \"resposta\": elas resolvem um problema (por exemplo, uma equação matemática) e nós estamos interessados no resultado. No exemplo anterior, tínhamos uma soma e nós imprimíamos a soma na tela.\n",
    "\n",
    "Porém, ainda pensando na questão da função ser genérica: será que nós sempre queremos o resultado na tela? Imagine que você esteja utilizando a fórmula de Bháskara para resolver uma equação de segundo grau. No meio da fórmula existe uma raiz quadrada. Nós não queremos o resultado da raiz quadrada na tela, nós queremos o resultado dentro do nosso programa em uma variável para jogar em outra equação.\n",
    "\n",
    "Bom, parece fácil: vamos tentar pegar o resultado fora da função... Certo?</p>"
   ],
   "cell_type": "markdown",
   "metadata": {}
  },
  {
   "cell_type": "code",
   "execution_count": null,
   "metadata": {},
   "outputs": [],
   "source": [
    "def soma(a, b):\n",
    "    resultado = a + b\n",
    "\n",
    "media = resultado/2\n",
    "print(media)"
   ]
  },
  {
   "source": [
    "Se você executar o programa acima, verá uma mensagem de erro dizendo que \"resultado\" não existe. Toda variável criada dentro de uma função é privada. Ela só pode ser acessada dentro da função e será destruída ao final da execução da função. Para disponibilizar para o programa um valor que foi gerado dentro da função, utilizamos o comando return."
   ],
   "cell_type": "markdown",
   "metadata": {}
  },
  {
   "cell_type": "code",
   "execution_count": null,
   "metadata": {},
   "outputs": [],
   "source": [
    "def soma(a, b):\n",
    "    resultado = a + b\n",
    "    return resultado\n",
    "\n",
    "s = soma(10, 5)\n",
    "media = s/2\n",
    "print(media)"
   ]
  },
  {
   "source": [
    "Quando fizemos s = soma(10, 5), a função soma foi chamada, e ao final da execução, s recebeu o valor retornado por ela. Deste ponto em diante podemos utilizar a \"resposta\" da nossa função em nosso programa principal.<br>\n",
    "<blockquote>O return, além de disponibilizar um valor, encerra a execução da função. Se a sua função possuir outras linhas após o return, elas serão ignoradas.</blockquote>"
   ],
   "cell_type": "markdown",
   "metadata": {}
  },
  {
   "source": [
    "<h3>1.3. Recursividade</h3>\n",
    "<p>Uma função pode chamar outra função? Sim. Rode o programa abaixo e observe que ele funciona:</p>"
   ],
   "cell_type": "markdown",
   "metadata": {}
  },
  {
   "cell_type": "code",
   "execution_count": null,
   "metadata": {},
   "outputs": [],
   "source": [
    "def soma(a, b):\n",
    "    resultado = a + b\n",
    "    return resultado\n",
    "\n",
    "def media(x, y):\n",
    "    s = soma(x, y)\n",
    "    resultado = s/2\n",
    "    return resultado\n",
    "\n",
    "m = media(10, 5)\n",
    "print(m)"
   ]
  },
  {
   "source": [
    "Mas e se uma função referenciasse ela mesma? Isso também funciona, e chama-se função recursiva, ou recursão.<br>\n",
    "\n",
    "A ideia vem da matemática. Vejamos um exemplo. Imagine uma função matemática f(x) que seja igual a 2 elevado a x.<br>\n",
    " Podemos reescrevê-la da seguinte maneira:<br>\n",
    " f(x) = <br>\n",
    "\n",
    "1, se x = 0<br>\n",
    "2 * f(x-1), se x > 0<br>\n",
    "<p>Ou seja, imagine que você queira calcular f(4). Como 4 > 0, teremos: f(4) = 2 * f(3) Precisamos expandir f(3): f(4) = 2 * (2 * f(2)) E assim sucessivamente: f(4) = 2 * (2 * (2 * f(1))) f(4) = 2 * (2 * (2 * (2 * f(0)))) Opa, f(0) nós conhecemos: está definido lá em cima como 1. Portanto: f(4) = 2 * 2 * 2 * 2 * 1 f(4) = 16<br>\n",
    "\n",
    "Note que nós decompomos um problema em várias instâncias \"menores\" do problema. Quebramos a formulação de uma multiplicação enorme por vários casos de 2 x f(n). Chamamos essa estratégia de dividir para conquistar, e ela envolve identificar 2 etapas bastante claras do problema:</p>\n",
    "<ul>\n",
    "<li>Caso base: é um caso para o qual temos um valor conhecido (no exemplo acima, f(0) = 1)</li>\n",
    "<li>Caso geral: é a chamada recursiva, onde faremos referência à própria função.</li>\n",
    "</ul>\n",
    "<p>Note também que esse comportamento tem o comportamento de pilha: se colocamos 3 pratos empilhados sobre a mesa, precisamos tirar primeiro o último que colocamos, certo? Caso contrário, a pilha toda tomba. No caso da recursão, para obter f(4) caímos em f(3), depois f(2), depois f(1), depois f(0) e foi para ele que obtivemos a primeira resposta, que em seguida usamos para calcular f(1), depois calcular f(2), depois f(3) e só então chegamos em f(4). O primeiro passo do problema foi o último a ser resolvido.<br><br>\n",
    "\n",
    "Em Python, nossa função ficaria assim:</p>\n",
    "\n"
   ],
   "cell_type": "markdown",
   "metadata": {}
  },
  {
   "cell_type": "code",
   "execution_count": null,
   "metadata": {},
   "outputs": [],
   "source": [
    "def potenciadedois(x):\n",
    "    if x == 0:\n",
    "        return 1\n",
    "    else:\n",
    "        return 2*potenciadedois(x-1)"
   ]
  },
  {
   "source": [
    "Se chamarmos potenciadedois(4), o que acontecerá? O programa começará a executar a função, cairá no else e encontrará a função chamada novamente. Neste caso, ele salva x valendo 4 e salva que a execução foi interrompida nessa linha. Então ele cria um novo x valendo 3, cai novamente no else e salva que a execução foi interrompida nessa linha, e assim sucessivamente."
   ],
   "cell_type": "markdown",
   "metadata": {}
  },
  {
   "source": [
    "<blockquote>Note que para cada passo recursivo, as variáveis da função são copiadas e também é salvo o ponto onde a execução parou. Ou seja, funções recursivas podem consumir bastante memória, além de tempo de processamento para ficar criando cópias. A vantagem delas é o rigor matemático: podemos transcrever funções matemáticas quase exatamente como elas são, sem criar loops e variáveis para ficar guardando estados.</blockquote>"
   ],
   "cell_type": "markdown",
   "metadata": {}
  },
  {
   "source": [
    "<h2>2. Bibliotecas (módulos)</h2>\n",
    "<p>Assim como pode ser útil reaproveitar um pedaço de código em vários pontos de um mesmo programa, pode ser útil reaproveitar esse pedaço em vários outros projetos também. Várias linguagens de programação oferecem o que chamamos de bibliotecas, e em Python comumente chamamos de módulos.</P"
   ],
   "cell_type": "markdown",
   "metadata": {}
  },
  {
   "source": [
    "<h3>2.1. Criando módulos</h3>\n",
    "<p>Você pode criar algumas funções dentro de um arquivo. Ao colocar esse arquivo na mesma pasta que o restante do projeto, você pode usar o comando import para informar ao programa que ele deve buscar funções naquele arquivo. A partir deste momento, você terá acesso às funções daquele módulo.</p>"
   ],
   "cell_type": "markdown",
   "metadata": {}
  },
  {
   "cell_type": "code",
   "execution_count": null,
   "metadata": {},
   "outputs": [],
   "source": [
    "# Salve este código como contas.py\n",
    "def soma(a, b):\n",
    "    resultado = a + b\n",
    "    return resultado\n",
    "\n",
    "def media(x, y):\n",
    "    s = soma(x, y)\n",
    "    resultado = s/2\n",
    "    return resultado"
   ]
  },
  {
   "cell_type": "code",
   "execution_count": null,
   "metadata": {},
   "outputs": [],
   "source": [
    "# Salve este outro código como principal.py na mesma pasta do contas.py\n",
    "# Execute este código, não o contas.py\n",
    "\n",
    "import contas\n",
    "\n",
    "x = contas.media(3, 9)\n",
    "print(x)"
   ]
  },
  {
   "source": [
    "<h3>2.2. Módulos pré-instalados</h3>\n",
    "<p>A comunidade Python costuma descrevê-lo como uma linguagem com baterias inclusas. Com isso eles querem afirmar que já vem bastante coisa pronta \"de fábrica\" e você não precisa fazer aquisições adicionais antes de começar a fazer muita coisa.<br>\n",
    "\n",
    "Esse \"bastante coisa\" são bibliotecas prontas: The Python Standard Library. Tem biblioteca pra muita coisa: funções matemáticas, estatísticas, manipulação de arquivos, redes, comunicação HTTP, JSON, arquivos ZIP, arquivos CSV, codificação de texto, criptografia, HTML, interface gráfica... A lista vai embora.<br>\n",
    "\n",
    "Para usar os módulos pré-instalados, basta usar import e o nome do módulo - não é necessário mover nada para nenhuma pasta. O Python saberá aonde encontrá-los! No exemplo abaixo, vamos gerar um número aleatório entre 0 e 100 utilizando a função randrange, do módulo random. Execute o código várias vezes e veja o que acontece!</p>"
   ],
   "cell_type": "markdown",
   "metadata": {}
  },
  {
   "cell_type": "code",
   "execution_count": null,
   "metadata": {},
   "outputs": [],
   "source": [
    "import random\n",
    "\n",
    "sorteio = random.randrange(0, 100)\n",
    "print(sorteio)"
   ]
  },
  {
   "source": [
    "<blockquote>Como são vários módulos prontos, é difícil lembrar tudo que temos em mãos. Por isso, a documentação oficial recomenda manter o manual de referência dos módulos \"debaixo do travesseiro\": <a href=\"https://docs.python.org/3/library/index.html\">https://docs.python.org/3/library/index.html</a></blockquote>"
   ],
   "cell_type": "markdown",
   "metadata": {}
  },
  {
   "source": [
    "<h3>2.3. Instalando módulos</h3>\n",
    "<p></p>"
   ],
   "cell_type": "markdown",
   "metadata": {}
  },
  {
   "source": [
    "O Python possui um grande repositório de módulos desenvolvidos pela comunidade. São módulos que não vem pré-instalados, mas que alguém fez e disponibilizou. Alguns desses módulos são extremamente populares e amplamente utilizados, sendo quase um consenso em suas respectivas áreas, como o matplotlib (geração de gráficos) e o pandas (manipulação de tabelas). Sempre que precisar instalar um novo módulo, basta abrir o console do seu sistema operacional (Prompt de Comando no Windows) e digitar: pip install nome-do-modulo<br>\n",
    "\n",
    "Por exemplo, para instalar a matplotlib, usamos: pip install matplotlib<br>\n",
    "\n",
    "<blockquote>Dica: Você pode navegar pelo repositório onde o pip encontra os módulos: https://pypi.org/</blockquote>"
   ],
   "cell_type": "markdown",
   "metadata": {}
  }
 ]
}