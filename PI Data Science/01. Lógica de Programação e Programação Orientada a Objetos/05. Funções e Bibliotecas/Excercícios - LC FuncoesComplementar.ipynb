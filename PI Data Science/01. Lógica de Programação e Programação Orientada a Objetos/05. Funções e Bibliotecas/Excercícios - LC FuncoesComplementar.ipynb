{
 "metadata": {
  "language_info": {
   "codemirror_mode": {
    "name": "ipython",
    "version": 3
   },
   "file_extension": ".py",
   "mimetype": "text/x-python",
   "name": "python",
   "nbconvert_exporter": "python",
   "pygments_lexer": "ipython3",
   "version": "3.7.8-final"
  },
  "orig_nbformat": 2,
  "kernelspec": {
   "name": "python378jvsc74a57bd004635d289a519a1410467dd0afb0db42f9184808881ca68b2eb5a687a20a5a94",
   "display_name": "Python 3.7.8 32-bit"
  }
 },
 "nbformat": 4,
 "nbformat_minor": 2,
 "cells": [
  {
   "source": [
    "# Questão #1\n",
    "Enunciado\n",
    "Escreva uma função que recebe um nome e imprime na tela do usuário a mensagem \"Olá, [nome]\".\n",
    "\n",
    "Exemplo:\n",
    "\n",
    "nome fornecido : Maria\n",
    "\n",
    "Olá, Maria"
   ],
   "cell_type": "markdown",
   "metadata": {}
  },
  {
   "cell_type": "code",
   "execution_count": 1,
   "metadata": {},
   "outputs": [
    {
     "output_type": "stream",
     "name": "stdout",
     "text": [
      "Olá, Maria\n"
     ]
    }
   ],
   "source": [
    "def saymyname(nome):\n",
    "    print( f\"Olá, {nome}\")\n",
    "saymyname(\"Maria\")"
   ]
  },
  {
   "source": [
    "Questão #2\n",
    "Vale\n",
    "10\n",
    "Enunciado\n",
    "Escreva uma função que recebe um nome e retorna o string \"Olá, [nome]\"\n",
    "\n",
    "Exemplo:\n",
    "\n",
    "nome de entrada: Lucas\n",
    "\n",
    "saída da função: Olá, Lucas"
   ],
   "cell_type": "markdown",
   "metadata": {}
  },
  {
   "cell_type": "code",
   "execution_count": 3,
   "metadata": {},
   "outputs": [
    {
     "output_type": "stream",
     "name": "stdout",
     "text": [
      "Olá, Lucas\n"
     ]
    }
   ],
   "source": [
    "def saymyname(nome):\n",
    "    return f\"Olá, {nome}\"\n",
    "print(saymyname(\"Lucas\"))"
   ]
  },
  {
   "source": [
    "Questão #3\n",
    "Vale\n",
    "20\n",
    "Enunciado\n",
    "Crie uma função eh_par que recebe um número e retorna 1 se esse número for par e 0 se o número for ímpar.\n",
    "\n",
    "Exemplo:\n",
    "\n",
    ">>> eh_par(2)\n",
    ">>> 1\n",
    ">>> eh_par(3)\n",
    ">>> 0"
   ],
   "cell_type": "markdown",
   "metadata": {}
  },
  {
   "cell_type": "code",
   "execution_count": 11,
   "metadata": {},
   "outputs": [
    {
     "output_type": "stream",
     "name": "stdout",
     "text": [
      "eh_par(2) 1\neh_par(3) 0\n"
     ]
    }
   ],
   "source": [
    "def eh_par(n:int)->int:\n",
    "    return 1 if n % 2==0 else 0\n",
    "print(f\"eh_par(2) {eh_par(2)}\")\n",
    "print(f\"eh_par(3) {eh_par(3)}\")"
   ]
  },
  {
   "source": [
    "Questão #4\n",
    "Vale\n",
    "20\n",
    "Enunciado\n",
    "Crie uma função chamada vezes_dez que recebe um número qualquer e retorna ele multiplicado por 10.\n",
    "\n",
    "Exemplo:\n",
    "\n",
    ">>> vezes_dez(5) \n",
    ">>> 50"
   ],
   "cell_type": "markdown",
   "metadata": {}
  },
  {
   "cell_type": "code",
   "execution_count": 20,
   "metadata": {},
   "outputs": [
    {
     "output_type": "stream",
     "name": "stdout",
     "text": [
      "50\n"
     ]
    }
   ],
   "source": [
    "def vezes_dez(n:int)->int:\n",
    "    return n * 10\n",
    "print(vezes_dez(5))"
   ]
  },
  {
   "source": [
    "Questão #5\n",
    "Vale\n",
    "20\n",
    "Enunciado\n",
    "Reutilizando a função *eh_par* criada no exercício anterior, <br>\n",
    "crie uma nova função, *conta_pares* que recebe uma lista com números e retorna a quantidade de números pares.\n",
    "\n",
    "Exemplo:\n",
    "\n",
    ">>> conta_pares(\\[1,2,3\\])\n",
    ">>> 1\n",
    ">>> conta_pares(\\[2,4,6\\])\n",
    ">>> 3"
   ],
   "cell_type": "markdown",
   "metadata": {}
  },
  {
   "cell_type": "code",
   "execution_count": 17,
   "metadata": {},
   "outputs": [
    {
     "output_type": "stream",
     "name": "stdout",
     "text": [
      "1\n3\n"
     ]
    }
   ],
   "source": [
    "def conta_pares(lista:list)->int:\n",
    "    return len([n for n in lista if n % 2 == 0 ])\n",
    "print(conta_pares((1,2,3)))\n",
    "print(conta_pares((2,4,6)))"
   ]
  },
  {
   "cell_type": "code",
   "execution_count": null,
   "metadata": {},
   "outputs": [],
   "source": []
  }
 ]
}