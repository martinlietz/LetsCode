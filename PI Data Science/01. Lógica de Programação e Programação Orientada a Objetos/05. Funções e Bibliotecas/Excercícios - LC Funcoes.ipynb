{
 "metadata": {
  "language_info": {
   "codemirror_mode": {
    "name": "ipython",
    "version": 3
   },
   "file_extension": ".py",
   "mimetype": "text/x-python",
   "name": "python",
   "nbconvert_exporter": "python",
   "pygments_lexer": "ipython3",
   "version": "3.7.8-final"
  },
  "orig_nbformat": 2,
  "kernelspec": {
   "name": "python3",
   "display_name": "Python 3.7.8 32-bit",
   "metadata": {
    "interpreter": {
     "hash": "04635d289a519a1410467dd0afb0db42f9184808881ca68b2eb5a687a20a5a94"
    }
   }
  }
 },
 "nbformat": 4,
 "nbformat_minor": 2,
 "cells": [
  {
   "source": [],
   "cell_type": "markdown",
   "metadata": {}
  },
  {
   "source": [
    "## Questão #1\n",
    "Faça uma função que recebe um número e imprime seu dobro."
   ],
   "cell_type": "markdown",
   "metadata": {}
  },
  {
   "cell_type": "code",
   "execution_count": 1,
   "metadata": {},
   "outputs": [
    {
     "output_type": "stream",
     "name": "stdout",
     "text": [
      "8\n"
     ]
    }
   ],
   "source": [
    "def dobro(n:int):\n",
    "    print(n*2)\n",
    "dobro(4)"
   ]
  },
  {
   "source": [
    "## Questão #2\n",
    "Faça uma função que recebe o valor do raio de um círculo e retorna o valor do comprimento de sua circunferência: C = 2*pi*r."
   ],
   "cell_type": "markdown",
   "metadata": {}
  },
  {
   "cell_type": "code",
   "execution_count": 3,
   "metadata": {},
   "outputs": [
    {
     "output_type": "stream",
     "name": "stdout",
     "text": [
      "25.132741228718345\n"
     ]
    }
   ],
   "source": [
    "import math\n",
    "\n",
    "def compCircle(r:float)->float:\n",
    "    C = 2*math.pi*r\n",
    "    return C\n",
    "print(compCircle(4))\n"
   ]
  },
  {
   "source": [
    "## Questão #3\n",
    "Faça uma função para cada operação matemática básica (soma, subtração, multiplicação e divisão). As funções devem receber dois números e retornar o resultado da operação."
   ],
   "cell_type": "markdown",
   "metadata": {}
  },
  {
   "cell_type": "code",
   "execution_count": 6,
   "metadata": {},
   "outputs": [
    {
     "output_type": "stream",
     "name": "stdout",
     "text": [
      "7\n-1\n12\n0.75\n"
     ]
    }
   ],
   "source": [
    "def soma(a:float, b:float)->float:\n",
    "    return a + b\n",
    "def subtracao(a:float, b:float)->float:\n",
    "    return a - b\n",
    "def multiplicacao(a:float, b:float)->float:\n",
    "    return a * b\n",
    "def divisiao(a:float, b:float)->float:\n",
    "    return a / b if b > 0 else None\n",
    "print(soma(3,4))\n",
    "print(subtracao(3,4))\n",
    "print(multiplicacao(3,4))\n",
    "print(divisiao(3,4))"
   ]
  },
  {
   "source": [
    "## Questão #4\n",
    "Faça uma função que recebe um nome e imprime “olá, \\[nome\\]”."
   ],
   "cell_type": "markdown",
   "metadata": {}
  },
  {
   "cell_type": "code",
   "execution_count": 7,
   "metadata": {},
   "outputs": [
    {
     "output_type": "execute_result",
     "data": {
      "text/plain": [
       "'Olá, Martin'"
      ]
     },
     "metadata": {},
     "execution_count": 7
    }
   ],
   "source": [
    "def saymyname(nome):\n",
    "    return f\"Olá, {nome}\"\n",
    "saymyname(\"Martin\")"
   ]
  },
  {
   "source": [
    "## Questão #5\n",
    "Faça uma função que recebe um nome e um horário e imprime “Bom dia, \\[nome\\]”, caso seja antes de 12h, “Boa Tarde, \\[nome\\]”, caso seja entre 12h e 18h e “Boa noite, \\[nome\\]” se for após às 18h."
   ],
   "cell_type": "markdown",
   "metadata": {}
  },
  {
   "cell_type": "code",
   "execution_count": 45,
   "metadata": {},
   "outputs": [
    {
     "output_type": "stream",
     "name": "stdout",
     "text": [
      "Boa Tarde, Martin\n"
     ]
    }
   ],
   "source": [
    "def sayBomDia(hora:int, nome:str)->str:\n",
    "    comprimento =  [ \"Bom dia\", \"Bom dia\", \"Boa Tarde\", \"Boa noite\" ]\n",
    "    texto = comprimento[hora // 6 ] + \", \" + nome if hora <=23 else  \"boa\"\n",
    "    print(texto)\n",
    "sayBomDia(12,\"Martin\")"
   ]
  },
  {
   "source": [
    "## Questão #6\n",
    "Faça uma função que recebe um número e retorna True se ele é par ou False, se ele é ímpar."
   ],
   "cell_type": "markdown",
   "metadata": {}
  },
  {
   "cell_type": "code",
   "execution_count": 4,
   "metadata": {},
   "outputs": [
    {
     "output_type": "stream",
     "name": "stdout",
     "text": [
      "True\n"
     ]
    }
   ],
   "source": [
    "def isPar(valor:int):\n",
    "    return True if valor % 2 == 0 else False\n",
    "print(isPar(2))"
   ]
  },
  {
   "source": [
    "## Questão #7\n",
    "Faça uma função que sorteia 10 números aleatórios entre 0 e 100 e retorna o maior entre eles."
   ],
   "cell_type": "markdown",
   "metadata": {}
  },
  {
   "cell_type": "code",
   "execution_count": 12,
   "metadata": {},
   "outputs": [
    {
     "output_type": "stream",
     "name": "stdout",
     "text": [
      "[100, 91, 48, 40, 60, 43, 23, 59, 27, 57]\n100\n"
     ]
    }
   ],
   "source": [
    "import random\n",
    "def createRandList():\n",
    "    lim_inf = 0\n",
    "    lim_sup = 100\n",
    "    lista_aleat = []\n",
    "    tamanho =  0 \n",
    "    while tamanho < 10:\n",
    "        num = random.randint(lim_inf, lim_sup)\n",
    "\n",
    "        if num not in lista_aleat:\n",
    "            lista_aleat.append(num)\n",
    "            tamanho+=1\n",
    "    print(lista_aleat)\n",
    "    return max(lista_aleat)\n",
    "print(createRandList())\n"
   ]
  },
  {
   "source": [
    "## Questão #8\n",
    "Faça uma função que recebe um número n de entrada, sorteia n números aleatórios entre 0 e 100 e retorna a média deles."
   ],
   "cell_type": "markdown",
   "metadata": {}
  },
  {
   "cell_type": "code",
   "execution_count": 18,
   "metadata": {},
   "outputs": [
    {
     "output_type": "stream",
     "name": "stdout",
     "text": [
      "[68, 0, 33, 62, 17, 25, 97, 63, 50, 8]\n42.3\n"
     ]
    }
   ],
   "source": [
    "def sorteia(n:int):\n",
    "    lim_inf = 0\n",
    "    lim_sup = 100\n",
    "    lista_aleat = []\n",
    "    tamanho =  0 \n",
    "    while tamanho < 10:\n",
    "        num = random.randint(lim_inf, lim_sup)\n",
    "\n",
    "        if num not in lista_aleat:\n",
    "            lista_aleat.append(num)\n",
    "            tamanho+=1\n",
    "    print(lista_aleat)\n",
    "    return sum(lista_aleat) / len(lista_aleat)\n",
    "print(sorteia(4))"
   ]
  },
  {
   "source": [
    "## Questão #9\n",
    "\n",
    "Faça uma função que recebe uma lista de palavras e retorna uma lista contendo as mesmas palavras da lista anterior, porém escritas em caixa alta."
   ],
   "cell_type": "markdown",
   "metadata": {}
  },
  {
   "cell_type": "code",
   "execution_count": 20,
   "metadata": {},
   "outputs": [
    {
     "output_type": "stream",
     "name": "stdout",
     "text": [
      "['HALLO', 'WELT']\n"
     ]
    }
   ],
   "source": [
    "def upperWords(lista:list):\n",
    "    listaUpper = [ l.upper() for l in lista ]\n",
    "    return listaUpper\n",
    "print(upperWords([ \"Hallo\", \"Welt\"]))"
   ]
  },
  {
   "source": [
    "## Questão #10\n",
    "Faça uma função que recebe duas listas e retorna a soma item a item dessas listas.\n",
    "\n",
    "Exemplo: Se a função receber as listas \\[1,4,3\\] e \\[3,5,1\\], então a função deve retornar \\[1+3, 4+5, 3+1\\] = \\[4, 9, 4\\]."
   ],
   "cell_type": "markdown",
   "metadata": {}
  },
  {
   "cell_type": "code",
   "execution_count": 23,
   "metadata": {},
   "outputs": [
    {
     "output_type": "stream",
     "name": "stdout",
     "text": [
      "[4, 9, 4]\n"
     ]
    }
   ],
   "source": [
    "lista1 = [1,4,3]\n",
    "lista2 = [3,5,1]\n",
    "def somalista(lista1, lista2):\n",
    "    soma = 0\n",
    "    # Usando list comprehension\n",
    "    final_list = [ sum(i) for i in zip(lista1,lista2)]\n",
    "    return final_list\n",
    "print(somalista(lista1, lista2))\n"
   ]
  },
  {
   "source": [
    "## Questão #11\n",
    "Faça uma função que receba duas listas e retorne o produto item a item dessas listas.\n",
    "\n",
    "Exemplo: Se a função receber as listas \\[1,4,3\\] e \\[3,5,1\\], então a função deve retornar \\[1x3, 4x5, 3x1\\] = \\[3, 20, 3\\]."
   ],
   "cell_type": "markdown",
   "metadata": {}
  },
  {
   "cell_type": "code",
   "execution_count": 24,
   "metadata": {},
   "outputs": [
    {
     "output_type": "stream",
     "name": "stdout",
     "text": [
      "[3, 20, 3]\n"
     ]
    }
   ],
   "source": [
    "lista1 = [1,4,3]\n",
    "lista2 = [3,5,1]\n",
    "def prodlista(lista1, lista2):\n",
    "    soma = 0\n",
    "    # Usando list comprehension\n",
    "    final_list = [ i[0]*i[1] for i in zip(lista1,lista2)]\n",
    "    return final_list\n",
    "print(prodlista(lista1, lista2))"
   ]
  },
  {
   "source": [
    "## Questão #12\n",
    "Faça uma função que recebe um número x e uma lista numérica e retorna uma lista cujos elementos são os itens da lista de entrada multiplicado por x.\n",
    "\n",
    "Exemplo:\n",
    "\n",
    "Se a função receber o número 5 e a lista [3,5,1], então a função deve retornar \\[5x3, 5x5, 5x1\\] = \\[15, 25, 5\\]."
   ],
   "cell_type": "markdown",
   "metadata": {}
  },
  {
   "cell_type": "code",
   "execution_count": 30,
   "metadata": {},
   "outputs": [
    {
     "output_type": "stream",
     "name": "stdout",
     "text": [
      "[15, 25, 5]\n"
     ]
    }
   ],
   "source": [
    "lista1 = [3,5,1]\n",
    "def mul_x_lista(x:int, lista:list):\n",
    "    soma = 0\n",
    "    # Usando list comprehension\n",
    "    final_list = [ i*x for i in lista ]\n",
    "    return final_list\n",
    "\n",
    "print(mul_x_lista(5,lista1))"
   ]
  },
  {
   "source": [
    "## Questão #13\n",
    "Faça uma função que recebe uma lista de números e retorna a soma dos elementos dessa lista."
   ],
   "cell_type": "markdown",
   "metadata": {}
  },
  {
   "cell_type": "code",
   "execution_count": 31,
   "metadata": {},
   "outputs": [
    {
     "output_type": "stream",
     "name": "stdout",
     "text": [
      "9\n"
     ]
    }
   ],
   "source": [
    "lista1 = [3,5,1]\n",
    "def sum_lista(lista:list):\n",
    "    return sum(lista)\n",
    "\n",
    "print(sum_lista(lista1))"
   ]
  },
  {
   "source": [
    "## Questão #14\n",
    "Faça uma função que recebe uma lista de números e retorna a média aritmética dos elementos dessa lista."
   ],
   "cell_type": "markdown",
   "metadata": {}
  },
  {
   "cell_type": "code",
   "execution_count": 33,
   "metadata": {},
   "outputs": [
    {
     "output_type": "stream",
     "name": "stdout",
     "text": [
      "3.0\n"
     ]
    }
   ],
   "source": [
    "lista1 = [3,5,1]\n",
    "def avg_lista(lista:list):\n",
    "    return sum(lista)/len(lista)\n",
    "\n",
    "print(avg_lista(lista1))"
   ]
  },
  {
   "source": [
    "## Questão #15\n",
    "Desafio 1 - Faça uma função que receba um número e calcule seu fatorial."
   ],
   "cell_type": "markdown",
   "metadata": {}
  },
  {
   "cell_type": "code",
   "execution_count": 36,
   "metadata": {},
   "outputs": [
    {
     "output_type": "stream",
     "name": "stdout",
     "text": [
      "24\n"
     ]
    }
   ],
   "source": [
    "def fat(n:int):\n",
    "    if n < 2:\n",
    "        return 1\n",
    "    else:\n",
    "        fact = 1\n",
    "        for num in range(2, n + 1):\n",
    "            fact *= num\n",
    "        return fact\n",
    "\n",
    "print(fat(4))"
   ]
  },
  {
   "source": [
    "## Questão #16\n",
    "Super Desafio! - Repita o exercício anterior usando recursão, ou seja, uma função que chame ela mesma, lembrando que 3! = 3*2!, que 2! = 2*1!, que 1! = 1*0! e que 0! = 1."
   ],
   "cell_type": "markdown",
   "metadata": {}
  },
  {
   "cell_type": "code",
   "execution_count": 35,
   "metadata": {},
   "outputs": [
    {
     "output_type": "stream",
     "name": "stdout",
     "text": [
      "24\n"
     ]
    }
   ],
   "source": [
    "def factorial(n):\n",
    "    if n < 2:\n",
    "        return 1\n",
    "    else:\n",
    "        return n * factorial(n-1)\n",
    "print(factorial(4))"
   ]
  },
  {
   "source": [
    "## Questão #17\n",
    "Desafio 3 - A sequência Fibonacci é a sequência cujos dois primeiros termos são 1 e os demais são obtidos através da soma de seus dois antecessores, isso é:\n",
    "\n",
    "a. Fibonacci(1) = 1 e Fibonacci(2) = 2;\n",
    "\n",
    "b. dado qualquer número n >= 3, Fibonacci(n) = Fibonacci(n-1) + Fibonacci(n-2)\n",
    "\n",
    "Assim, os 10 primeiros termos da sequência Fibonacci são:\n",
    "\n",
    "    1, 1, 2, 3, 5, 8, 13, 21, 34, 55…\n",
    "Faça uma função que receba um número n e calcule o termo de número n da sequência Fibonacci."
   ],
   "cell_type": "markdown",
   "metadata": {}
  },
  {
   "cell_type": "code",
   "execution_count": 1,
   "metadata": {},
   "outputs": [
    {
     "output_type": "execute_result",
     "data": {
      "text/plain": [
       "[1, 1, 2, 3, 5, 8, 13, 21, 34, 55]"
      ]
     },
     "metadata": {},
     "execution_count": 1
    }
   ],
   "source": [
    "def fibon(n):\n",
    "    a = b = 1\n",
    "    result = []\n",
    "    for i in range(n):\n",
    "        result.append(a)\n",
    "        a, b = b, a + b\n",
    "    return result\n",
    "fibon(10)"
   ]
  },
  {
   "source": [
    "## Questão #18\n",
    "Desafio 2 - Faça uma função que recebe duas entradas: um input dado pelo usuário e um string que informa o tipo de dado (\"idade\", \"salário\" ou \"sexo\"), e verifica se os dados digitados foram válidos, usando os seguintes critérios:\n",
    "\n",
    "a. Idade: entre 0 e 150;\n",
    "\n",
    "b. Salário: maior que 0;\n",
    "\n",
    "c. Sexo: M, F ou Outro."
   ],
   "cell_type": "markdown",
   "metadata": {}
  },
  {
   "cell_type": "code",
   "execution_count": 12,
   "metadata": {},
   "outputs": [
    {
     "output_type": "stream",
     "name": "stdout",
     "text": [
      "valido\n",
      "valido\n",
      "valido\n"
     ]
    }
   ],
   "source": [
    "def check(tipo):\n",
    "    inputa = str(input(f\"Digita {tipo}\"))\n",
    "    if(tipo=='idade'):\n",
    "        ret = 'valido' if 0 <= int(inputa) <= 150 else 'invalido'\n",
    "    elif(tipo=='salário'):\n",
    "        ret = 'valido' if int(inputa) > 0 else 'invalido'\n",
    "    elif(tipo=='sexo'):\n",
    "        ret = 'valido' if inputa in ('M','F','Outro') else 'invalido'\n",
    "    return ret\n",
    "    \n",
    "print(check(\"idade\"))\n",
    "print(check(\"salário\"))\n",
    "print(check(\"sexo\"))\n"
   ]
  },
  {
   "source": [
    "## Questão #19\n",
    "Super Desafio! - Refaça o desafio 3 usando recursão."
   ],
   "cell_type": "markdown",
   "metadata": {}
  },
  {
   "source": [],
   "cell_type": "markdown",
   "metadata": {}
  },
  {
   "cell_type": "code",
   "execution_count": 18,
   "metadata": {},
   "outputs": [
    {
     "output_type": "stream",
     "name": "stdout",
     "text": [
      "[0, 1, 1, 2, 3, 5, 8, 13, 21, 34, 55]\n"
     ]
    }
   ],
   "source": [
    "arr = []\n",
    "n=10\n",
    "def Fib(n):\n",
    "\n",
    "  if arr[n] != -1:\n",
    "    return arr[n]\n",
    "  if n == 0:\n",
    "    arr[0] = 0\n",
    "    return 0 #base case 1\n",
    "  elif n == 1:\n",
    "    arr[1] = 1\n",
    "    return 1  #base case 2\n",
    "  else:\n",
    "    arr[n] = Fib(n-1) + Fib(n-2)\n",
    "    return arr[n]\n",
    "\n",
    "for i in range(n+1):\n",
    "    arr.append(-1)\n",
    "Fib(n)\n",
    "print (arr)\n"
   ]
  },
  {
   "source": [
    "## Questão #20\n",
    "Super Desafio! - Faça um jogo de BlackJack usando funções: o BlackJack, ou Vinte e Um, é um jogo em que os jogadores podem comprar cartas livremente, enquanto tiverem menos de 21 pontos. No nosso jogo, o Ás vale um ponto; as cartas de 2 a 10 valem o número de pontos que elas representam; e Valete, Dama e Rei valem 10 pontos cada. Ganha o jogador que tiver o maior número de pontos, desde que este seja menor ou igual a 21. Nosso jogo deve ter as seguintes funções:\n",
    "\n",
    "a. Função principal: a função que vamos chamar para iniciar o jogo. Essa função não irá receber nem retornar nenhuma variável. Ela deve perguntar o número de jogadores participantes e o nome de cada um. Em seguida ela chama as outras funções do jogo.\n",
    "\n",
    "b. Função para criar o baralho: essa função deve criar um baralho (uma lista) com as cartas do baralho.\n",
    "\n",
    "c. Função para a jogada: essa função deve receber o nome do jogador que irá realizar a jogada e, caso ele ainda esteja ativo (tenha menos de 21 pontos e ainda não tenha desistido de comprar cartas) deve perguntar se ele quer comprar uma carta. Se ele responder que sim, a função deve chamar a próxima função para sortear uma carta e somar o valor retornado na pontuação do jogador; se ele responder que não, a função deve desativar o jogador para que ele não possa mais comprar cartas; Essa função só deve ser chamada enquanto houver jogadores ativos.\n",
    "\n",
    "d. Função para o sorteio: essa função retira uma carta aleatória do baralho e retorna o número de pontos que essa carta vale.\n",
    "\n",
    "e. Função verificação: verifica e indica qual/quais jogador/jogadores tem o maior número de pontos, que seja menor ou igual a 21."
   ],
   "cell_type": "markdown",
   "metadata": {}
  },
  {
   "cell_type": "code",
   "execution_count": 25,
   "metadata": {},
   "outputs": [
    {
     "output_type": "stream",
     "name": "stdout",
     "text": [
      "None\n"
     ]
    }
   ],
   "source": [
    "import blackjack\n",
    "b = blackjack()\n",
    "b.iniciarJogo()\n",
    "b.jogada('Martin')\n"
   ]
  },
  {
   "source": [
    "## Questão #21\n",
    "Super desafio! Faça um sistema de cadastro de clientes. Modele cada cliente como uma lista de três elementos: nome, CPF e e-mail.\n",
    "\n",
    "a. Faça uma função que peça o nome, o CPF e o e-mail da pessoa e retorne uma lista contendo esses elementos nessa ordem.\n",
    "\n",
    "b. Os clientes cadastrados devem ser armazenados em uma lista (uma lista de listas, já que cada cliente será uma lista tal como produzido no item a).\n",
    "\n",
    "c. Faça uma função que recebe a lista do item b) e um CPF e, se esse cliente estiver na lista de cadastro, sua função deve devolver a lista de dados desse cliente; caso contrário, sua função deve imprimir “não encontrado”.\n",
    "\n",
    "d. Enquanto não for digitado 0, o seu programa deve continuar rodando. Se digitado 1, seu programa deve cadastrar um novo cliente; se digitado 2, seu programa deve pedir um CPF e procurá-lo na lista de clientes (item c); se digitado 3, seu programa deve imprimir todos os clientes cadastrados."
   ],
   "cell_type": "markdown",
   "metadata": {}
  },
  {
   "cell_type": "code",
   "execution_count": null,
   "metadata": {},
   "outputs": [],
   "source": []
  }
 ]
}