{
 "metadata": {
  "language_info": {
   "codemirror_mode": {
    "name": "ipython",
    "version": 3
   },
   "file_extension": ".py",
   "mimetype": "text/x-python",
   "name": "python",
   "nbconvert_exporter": "python",
   "pygments_lexer": "ipython3",
   "version": "3.7.8-final"
  },
  "orig_nbformat": 2,
  "kernelspec": {
   "name": "python3",
   "display_name": "Python 3.7.8 32-bit",
   "metadata": {
    "interpreter": {
     "hash": "04635d289a519a1410467dd0afb0db42f9184808881ca68b2eb5a687a20a5a94"
    }
   }
  }
 },
 "nbformat": 4,
 "nbformat_minor": 2,
 "cells": [
  {
   "source": [
    "<h2><img width=\"10%\" src=\"../../../logoLcPng.png\">1. Expressões condicionais</h2>\n",
    "<h3>1.1. Se</h3>\n",
    "<p>Os programas do capítulo Operações Lógicas não são \"amigáveis\" para o usuário. Ao invés de mostrar True ou False, por exemplo, seria mais útil exibir se o aluno foi \"Aprovado\" ou \"Reprovado\". Para que possamos escrever na tela as mensagens \"Aprovado\" ou \"Reprovado\", é necessário que haja em algum ponto do código o trecho print('Aprovado') e o trecho print('Reprovado'). Porém, não gostaríamos que ambos fossem exibidos ao mesmo tempo. Uma condicional é uma instrução em Python que decide se outras linhas serão ou não executadas dependendo do resultado de uma condição (operação lógica). Se a condição for verdadeira, as linhas são executadas. Senão, são ignoradas. A condicional mais básica em Python é o if (se):</p>"
   ],
   "cell_type": "markdown",
   "metadata": {}
  },
  {
   "cell_type": "code",
   "execution_count": 1,
   "metadata": {},
   "outputs": [
    {
     "output_type": "stream",
     "name": "stdout",
     "text": [
      "Média:  3.5\n"
     ]
    }
   ],
   "source": [
    "nota1 = float(input('Digite a nota 1: '))\n",
    "nota2 = float(input('Digite a noat 2: '))\n",
    "\n",
    "media = (nota1 + nota2)/2\n",
    "\n",
    "if media >= 6.0:\n",
    "    print('Aprovado')\n",
    "print('Média: ', media)"
   ]
  },
  {
   "source": [
    "Execute o programa acima. Note que se (if) a média é maior ou igual a 6.0, ele exibe a mensagem \"Aprovado\" e depois a média. Caso contrário, ele apenas exibe a média.\n",
    "\n",
    "<blockquote>Para dizermos que uma ou mais linhas \"pertencem\" ao nosso if, usamos um símbolo de parágrafo (tecla \"Tab\" no teclado). O programa sabe que o if \"acabou\" quando as linhas param de ter \"tabs\". Esses tabs são chamados de indentação.</blockquote>"
   ],
   "cell_type": "markdown",
   "metadata": {}
  },
  {
   "source": [
    "<h3>1.2. Senão</h3>\n",
    "<p>Note que conseguimos fazer nosso programa decidir se ele exibe a mensagem \"Aprovado\" ou não. O próximo passo seria fazer ele decidir entre 2 mensagens diferentes: \"Aprovado\" ou \"Reprovado\". Um primeiro jeito de fazer isso seria um segundo if invertendo a condição:</p>\n",
    "\n"
   ],
   "cell_type": "markdown",
   "metadata": {}
  },
  {
   "cell_type": "code",
   "execution_count": null,
   "metadata": {},
   "outputs": [],
   "source": [
    "nota1 = float(input('Digite a nota 1: '))\n",
    "nota2 = float(input('Digite a noat 2: '))\n",
    "\n",
    "media = (nota1 + nota2)/2\n",
    "\n",
    "if media >= 6.0:\n",
    "    print('Aprovado')\n",
    "if media < 6.0:\n",
    "    print('Reprovado')\n",
    "\n",
    "print('Média: ', media)"
   ]
  },
  {
   "source": [
    "<p>O programa acima funciona. Porém, conforme nossos programas começam a ficar mais complexos e nossos if começam a ter linhas demais, podemos nos perder e esquecer que esses 2 if são 2 casos mutuamente exclusivos. Pior ainda, podemos vir a acrescentar condições novas em um e esquecer de atualizar no outro. Em casos onde temos condições mutuamente exclusivas, podemos utilizar um par if/else (se/senão). Se a condição for verdadeira, faça tal coisa. Senão, faça outra coisa.</p>"
   ],
   "cell_type": "markdown",
   "metadata": {}
  },
  {
   "cell_type": "code",
   "execution_count": 1,
   "metadata": {},
   "outputs": [],
   "source": [
    "nota1 = float(input('Digite a nota 1: '))\n",
    "nota2 = float(input('Digite a noat 2: '))\n",
    "\n",
    "media = (nota1 + nota2)/2\n",
    "\n",
    "if media >= 6.0:\n",
    "    print('Aprovado')\n",
    "else:\n",
    "    print('Reprovado')\n",
    "\n",
    "print('Média: ', media)\n"
   ]
  },
  {
   "source": [
    "\n",
    "<blockquote>Note que o else não possui condição. A condição dele é implícita: é a negação da condição do if. Se o if executar, o else não executa e vice-versa. Consequentemente, o else não pode existir sem um if.</blockquote>"
   ],
   "cell_type": "markdown",
   "metadata": {}
  },
  {
   "source": [
    "<h3>1.3. Aninhando condições</h3>\n",
    "<p>É possível aninhar condições: ou seja, colocar um novo if dentro de outro if ou else. Imagine que nossa escola não reprova direto o aluno com nota inferior a 6, e sim permite que ele faça uma recuperação. Porém, o aluno precisa ter tirado no mínimo média 3 para que permitam que faça a recuperação. Assim temos:\n",
    "<br>\n",
    "<ul>\n",
    "<li>Se nota maior ou igual a 6: aprovado.</li>\n",
    "<li>Senão:</li>\n",
    "<li>Se nota entre 6 e 3: recuperação.</li>\n",
    "<li>Senão, reprovado.</li></ul> Em Python:</p>"
   ],
   "cell_type": "markdown",
   "metadata": {}
  },
  {
   "source": [
    "<h3>1.4. Senão-se</h3>\n",
    "<p>Note que se começarmos a aninhar muitas condições (if dentro de else dentro de else dentro de else...),<br>\n",
    " nosso código pode começar a ficar confuso, com a aparência de uma \"escadinha\":<br>\n",
    " <code>Se\n",
    "Senão:<br>\n",
    "&nbsp;&nbsp;Se<br>\n",
    "&nbsp;&nbsp;&nbsp;&nbsp;&nbsp;Senão:<br>\n",
    "&nbsp;&nbsp;&nbsp;&nbsp;&nbsp;&nbsp;&nbsp;&nbsp;&nbsp;Se<br>\n",
    "&nbsp;&nbsp;&nbsp;&nbsp;&nbsp;&nbsp;&nbsp;&nbsp;&nbsp;&nbsp;&nbsp;&nbsp;Senão:<br>\n",
    "&nbsp;&nbsp;&nbsp;&nbsp;&nbsp;&nbsp;&nbsp;&nbsp;&nbsp;&nbsp;&nbsp;&nbsp;&nbsp;&nbsp;&nbsp; Se:<br>\n",
    "&nbsp;&nbsp;&nbsp;&nbsp;&nbsp;&nbsp;&nbsp;&nbsp;&nbsp;&nbsp;&nbsp;&nbsp;&nbsp;&nbsp;&nbsp;&nbsp;&nbsp; Senão:<br>\n",
    "&nbsp;&nbsp;&nbsp;&nbsp;&nbsp;&nbsp;&nbsp;&nbsp;&nbsp;&nbsp;&nbsp;&nbsp;&nbsp;&nbsp;&nbsp;&nbsp;&nbsp;&nbsp;&nbsp; Se:<br>\n",
    "&nbsp;&nbsp;&nbsp;&nbsp;&nbsp;&nbsp;&nbsp;&nbsp;&nbsp;&nbsp;&nbsp;&nbsp;&nbsp;&nbsp;&nbsp;&nbsp;&nbsp;&nbsp;&nbsp;&nbsp;&nbsp; ...<code></p>"
   ],
   "cell_type": "markdown",
   "metadata": {}
  },
  {
   "source": [
    "<p>Isso pode tornar o código bastante complexo e difícil de atualizar ou corrigir erros posteriormente. Para quebrar a \"escadinha\", existe a possibilidade de juntarmos o \"se\" do próximo nível com o \"senão\" do nível anterior: o elif: else + if (senão + se). O elif só é executado se um if der errado (ou seja, ele é um else), mas ele também tem uma condição que deve ser respeitada (ou seja ele também é um if). Podemos reescrever nosso código anterior utilizando um elif:<;p>"
   ],
   "cell_type": "markdown",
   "metadata": {}
  },
  {
   "cell_type": "code",
   "execution_count": null,
   "metadata": {},
   "outputs": [],
   "source": [
    "nota1 = float(input('Digite a nota 1: '))\n",
    "nota2 = float(input('Digite a noat 2: '))\n",
    "\n",
    "media = (nota1 + nota2)/2\n",
    "\n",
    "if media >= 6.0:\n",
    "    print('Aprovado')\n",
    "elif media >= 3.0:\n",
    "    print('Recuperação')\n",
    "else:\n",
    "    print('Reprovado')\n",
    "\n",
    "print('Média: ', media)"
   ]
  },
  {
   "source": [
    "<blockquote>Podemos usar quantos elif nós quisermos. Sempre que um deles der errado, o próximo será testado. Quando algum deles der certo, todo o restante será ignorado. Opcionalmente, podemos ter um else ao final do bloco, que só será executado se o if e todos os elif derem errado. O bloco obrigatoriamente deve ser iniciado com um if.<blockquote>"
   ],
   "cell_type": "markdown",
   "metadata": {}
  }
 ]
}