{
 "metadata": {
  "language_info": {
   "codemirror_mode": {
    "name": "ipython",
    "version": 3
   },
   "file_extension": ".py",
   "mimetype": "text/x-python",
   "name": "python",
   "nbconvert_exporter": "python",
   "pygments_lexer": "ipython3",
   "version": "3.7.8-final"
  },
  "orig_nbformat": 2,
  "kernelspec": {
   "name": "python3",
   "display_name": "Python 3.7.8 32-bit",
   "metadata": {
    "interpreter": {
     "hash": "04635d289a519a1410467dd0afb0db42f9184808881ca68b2eb5a687a20a5a94"
    }
   }
  }
 },
 "nbformat": 4,
 "nbformat_minor": 2,
 "cells": [
  {
   "source": [
    "<h2><img width=\"10%\" src=\"../../../logoLcPng.png\">1. Listas</h2>\n",
    "<p>Já fizemos alguns programas para ler 2 ou 3 notas e calcular a média. Inclusive já fomos além e aprendemos a verificar se o aluno passou ou não. Vamos rever um exemplo desses:</p>"
   ],
   "cell_type": "markdown",
   "metadata": {}
  },
  {
   "cell_type": "code",
   "execution_count": 1,
   "metadata": {},
   "outputs": [
    {
     "output_type": "stream",
     "name": "stdout",
     "text": [
      "10\n"
     ]
    }
   ],
   "source": [
    "nota1 = float(input('Digite a primeira nota: '))\n",
    "nota2 = float(input('Digite a segunda nota: '))\n",
    "\n",
    "media = (nota1 + nota2)/2\n",
    "\n",
    "print(media)"
   ]
  },
  {
   "source": [
    "Simples, certo? Mas e se a regra da escola mudasse, e agora cada professor precisasse aplicar 4 provas? Modificaríamos nosso programa:"
   ],
   "cell_type": "markdown",
   "metadata": {}
  },
  {
   "cell_type": "code",
   "execution_count": null,
   "metadata": {},
   "outputs": [],
   "source": [
    "nota1 = float(input('Digite a primeira nota: '))\n",
    "nota2 = float(input('Digite a segunda nota: '))\n",
    "nota3 = float(input('Digite a terceira nota: '))\n",
    "nota4 = float(input('Digite a quarta nota: '))\n",
    "\n",
    "media = (nota1 + nota2 + nota3 + nota4)/4\n",
    "\n",
    "print(media)"
   ]
  },
  {
   "source": [
    "Até aqui tudo bem. Mas e se o objetivo fosse testar o quanto o professor conseguiu ensinar? Para isso, poderíamos calcular a média das médias de todos os alunos do professor. Mas e se o professor trabalha em uma faculdade muito grande e suas turmas tem 80 alunos?"
   ],
   "cell_type": "markdown",
   "metadata": {}
  },
  {
   "source": [
    "aluno1 = float(input('Digite a nota do aluno 1: '))\n",
    "aluno2 = float(input('Digite a nota do aluno 2: '))\n",
    "aluno3 = float(input('Digite a nota do aluno 3: '))\n",
    "aluno4 = float(input('Digite a nota do aluno 4: '))\n",
    "aluno5 = float(input('Digite a nota do aluno 5: '))\n",
    "aluno6 = float(input('Digite a nota do aluno 6: '))\n",
    "aluno7 = float(input('Digite a nota do aluno 7: '))\n",
    "aluno8 = float(input('Digite a nota do aluno 8: '))\n",
    "aluno9 = float(input('Digite a nota do aluno 9: '))\n",
    "aluno10 = float(input('Digite a nota do aluno 10: '))\n",
    "\n",
    "# ...\n",
    "\n",
    "```\n",
    "Nota do programador: eu me demito. \n",
    "Não ganho bem o suficiente pra ISSO!\n",
    "```"
   ],
   "cell_type": "code",
   "metadata": {},
   "execution_count": null,
   "outputs": []
  },
  {
   "source": [
    "Para trabalhar com poucos valores, é fácil e conveniente criar uma variável para cada valor e realizar operações individualmente sobre cada uma. Porém, dizemos que esse tipo de solução não é escalável: o programa não está preparado para lidar com variações no tamanho da base de dados, e modificá-lo para comportá-las pode ser difícil, trabalhoso ou mesmo inviável. Imagine se para cada novo perfil em uma rede social o estagiário precisasse criar uma variável nova para o nome, uma para o e-mail, uma para a data de nascimento, e assim sucessivamente... E depois ainda precisasse de linhas novas de código para ler cada um desses valores do novo usuário!\n",
    "\n",
    "É aí que entram as listas. Listas são coleções de objetos em Python. Falando de maneira simplificada, são variáveis que comportam diversos valores ao mesmo tempo. Vejamos alguns jeitos de criar listas em Python:"
   ],
   "cell_type": "markdown",
   "metadata": {}
  },
  {
   "cell_type": "code",
   "execution_count": null,
   "metadata": {},
   "outputs": [],
   "source": [
    "primeiralista = [] # cria uma lista vazia\n",
    "segundalista = list() # cria uma lista vazia\n",
    "terceiralista = [1, 3.14, 5, 7, 9, 'onze'] # lista com valores"
   ]
  },
  {
   "source": [
    "Note que podemos misturar tipos de dados. A terceiralista possui 4 int, um float e uma str.<br>\n",
    "Bom, e agora, como fazemos para acessar cada valor? Podemos imaginar a lista da seguinte maneira: imagine que ao invés de ter uma caixa para guardar cada item, temos uma cômoda com várias gavetas. Cada item está em uma gaveta. Não estamos acostumados a dizer que algo está na terceira gaveta do armário? A ideia é a mesma: a lista é uma coleção indexada, ou seja, podemos acessar cada elemento através de índices, que são números indicando a posição. A indexação é automática e começa a partir do zero:<br>\n",
    "<br><br>\n",
    "elemento\t1\t3.14\t5\t7\t9\t11<br>\n",
    "índice\t0\t1\t2\t3\t4\t5&nbsp;<br>\n",
    "Portanto, para acessar o elemento \"7\" da nossa lista, utilizaríamos o índice 3. Informamos o índice entre colchetes:\n"
   ],
   "cell_type": "markdown",
   "metadata": {}
  },
  {
   "cell_type": "code",
   "execution_count": null,
   "metadata": {},
   "outputs": [],
   "source": [
    "terceiralista = [1, 3.14, 5, 7, 9, 'onze'] # lista com valores\n",
    "print(terceiralista[3])"
   ]
  },
  {
   "source": [
    "A lista é mutável. Isso significa que podemos modificar os valores já existentes:"
   ],
   "cell_type": "markdown",
   "metadata": {}
  },
  {
   "cell_type": "code",
   "execution_count": null,
   "metadata": {},
   "outputs": [],
   "source": [
    "terceiralista = [1, 3.14, 5, 7, 9, 'onze'] # lista com valores\n",
    "terceiralista[3] = 'sete' # troca 7 por 'sete' na lista\n",
    "print(terceiralista)"
   ]
  },
  {
   "source": [
    "<h3>1.1. Quebrando listas</h3>\n",
    "<p>É possível pegar subconjuntos de nossas listas utilizando o conceito de slices. Ao invés de passar apenas 1 valor entre colchetes (o índice desejado), podemos passar faixas de valores. Veja o exemplo abaixo:</p>"
   ],
   "cell_type": "markdown",
   "metadata": {}
  },
  {
   "cell_type": "code",
   "execution_count": null,
   "metadata": {},
   "outputs": [],
   "source": [
    "impares = [1, 3, 5, 7, 9, 11, 13, 15, 17]\n",
    "meio = impares[3:6]\n",
    "print(meio) # resultado na tela: [7, 9, 11]"
   ]
  },
  {
   "source": [
    "O primeiro valor é o índice inicial da sublista a ser gerada, e o segundo é o índice final (exclusivo). Podemos omitir um desses valores para indicar que será desde o início ou até o final:"
   ],
   "cell_type": "markdown",
   "metadata": {}
  },
  {
   "cell_type": "code",
   "execution_count": null,
   "metadata": {},
   "outputs": [],
   "source": [
    "impares = [1, 3, 5, 7, 9, 11, 13, 15, 17, 19]\n",
    "primeirametade = impares[:5]\n",
    "segundametade = impares[5:]\n",
    "print(primeirametade) # resultado: [1, 3, 5, 7, 9]\n",
    "print(segundametade) # resultado: [11, 13, 15, 17, 19]"
   ]
  },
  {
   "source": [
    "<p>Além de índices inicial e final, podemos também passar um passo para os índices. Veja o exemplo abaixo:</p>"
   ],
   "cell_type": "markdown",
   "metadata": {}
  },
  {
   "source": [
    "<h3>1.2. Percorrendo listas</h3>\n",
    "<p>Suponha que você queira acessar cada elemento de sua lista individualmente. Digitar todos os índices manualmente cancelaria a escalabilidade do programa, certo? Portanto, podemos usar um loop para gerar os índices:</p>"
   ],
   "cell_type": "markdown",
   "metadata": {}
  },
  {
   "cell_type": "code",
   "execution_count": null,
   "metadata": {},
   "outputs": [],
   "source": [
    "pares = [0, 2, 4, 6, 8]\n",
    "tamanho = len(pares)\n",
    "\n",
    "# tamanho vale 5, logo indice recebe os valores 0, 1, 2, 3 e 4\n",
    "for indice in range(tamanho):\n",
    "    print(pares[indice])"
   ]
  },
  {
   "source": [
    "Porém, tem um jeito ainda mais fácil de percorrer a lista. O for não serve apenas para gerar sequências numéricas junto do range: ele serve para percorrer coleções. Portanto, podemos trocar o range pela própria lista:"
   ],
   "cell_type": "markdown",
   "metadata": {}
  },
  {
   "cell_type": "code",
   "execution_count": null,
   "metadata": {},
   "outputs": [],
   "source": [
    "pares = [0, 2, 4, 6, 8]\n",
    "\n",
    "for elemento in pares:\n",
    "    print(elemento)"
   ]
  },
  {
   "source": [
    "<p>Assim como no caso das contagens, \"elemento\" é apenas uma variável que será criada de forma automática e poderia ter qualquer nome. Em cada repetição do loop, um valor diferente da lista será copiado para elemento.</p>\n",
    "<blockquote>Importante: Como os elementos são copiados, caso você modifique o valor de elemento você não irá modificar o valor na lista, e sim uma cópia dele. Além disso, como este loop serve especificamente para percorrer listas, se dentro dele você fizer operações que alterem o tamanho da lista (append ou remove, por exemplo), o loop poderá executar incorretamente, pulando ou repetindo elementos.</blockquote>"
   ],
   "cell_type": "markdown",
   "metadata": {}
  },
  {
   "source": [
    "<h2>2. Funções de listas</h2>\n",
    "<p>As listas possuem diversas funções prontas bastante úteis. Veremos algumas das mais usadas. Não se preocupe em decorar todas elas: sempre podemos consultar nosso material quando precisarmos de um lembrete! Com tempo e prática você irá aos poucos memorizar algumas delas.\n",
    "</p>\n",
    "<h3>2.1. Adicionando elementos</h3>\n",
    "<p>Podemos adicionar novos elementos na lista de duas maneiras. A primeira delas, mais simples, é o append. Ele adiciona um elemento ao final da lista. Veja o exemplo abaixo:</p>"
   ],
   "cell_type": "markdown",
   "metadata": {}
  },
  {
   "source": [
    "pares = [0, 2, 4, 6, 8]\n",
    "pares.append(10)\n",
    "print(pares) # resultado: [0, 2, 4, 6, 8, 10]"
   ],
   "cell_type": "code",
   "metadata": {},
   "execution_count": null,
   "outputs": []
  },
  {
   "source": [
    "<p>Outra maneira é com o insert: além do elemento, ele recebe a posição do novo elemento.</p>"
   ],
   "cell_type": "markdown",
   "metadata": {}
  },
  {
   "cell_type": "code",
   "execution_count": null,
   "metadata": {},
   "outputs": [],
   "source": [
    "pares = [0, 2, 4, 8, 10]\n",
    "pares.insert(3, 6)\n",
    "print(pares) #resultado: [0, 2, 4, 6, 8, 10]"
   ]
  },
  {
   "source": [
    "<h3>2.2. Removendo elementos</h3>\n",
    "<p>Podemos remover o elemento de 2 jeitos: por valor e por posição. O remove irá remover o primeiro elemento encontrado na lista com um dado valor. Ex:</p>"
   ],
   "cell_type": "markdown",
   "metadata": {}
  },
  {
   "cell_type": "code",
   "execution_count": null,
   "metadata": {},
   "outputs": [],
   "source": [
    "impares = [1, 3, 3, 5, 7, 9]\n",
    "impares.remove(3)\n",
    "print(impares) # resultado: [1, 3, 5, 7, 9]"
   ]
  },
  {
   "source": [
    "O pop remove o elemento que estiver em uma dada posição, independentemente de seu valor:"
   ],
   "cell_type": "markdown",
   "metadata": {}
  },
  {
   "cell_type": "code",
   "execution_count": null,
   "metadata": {},
   "outputs": [],
   "source": [
    "impares = [1, 3, 5, 7, 8, 9]\n",
    "impares.pop(4)\n",
    "print(impares) # resultado: [1, 3, 5, 7, 9]"
   ]
  },
  {
   "source": [
    "<blockquote>Se nenhum valor for passado no pop, ele irá remover necessariamente o último elemento da lista.</blockquote>"
   ],
   "cell_type": "markdown",
   "metadata": {}
  },
  {
   "source": [
    "<h3>2.3. Ordenando a lista</h3>\n",
    "<p>Podemos ordenar a lista usando o sort.</p>"
   ],
   "cell_type": "markdown",
   "metadata": {}
  },
  {
   "cell_type": "code",
   "execution_count": null,
   "metadata": {},
   "outputs": [],
   "source": [
    "fibonacci = [8, 1, 0, 5, 13, 1, 3, 2]\n",
    "fibonacci.sort()\n",
    "print(fibonacci) # resultado: [0, 1, 1, 2, 3, 5, 8, 13]"
   ]
  },
  {
   "source": [
    "Caso desejássemos ordenar em ordem decrescente, podemos passar a opção reverse = True para o sort:"
   ],
   "cell_type": "markdown",
   "metadata": {}
  },
  {
   "cell_type": "code",
   "execution_count": null,
   "metadata": {},
   "outputs": [],
   "source": [
    "fibonacci = [8, 1, 0, 5, 13, 1, 3, 2]\n",
    "fibonacci.sort(reverse = True)\n",
    "print(fibonacci) # resultado: [13, 8, 5, 3, 2, 1, 1, 0]"
   ]
  },
  {
   "source": [
    "<blockquote>Importante: o sort só irá funcionar caso sua lista possua apenas elementos que podem ser comparados entre si (apenas strings ou apenas números, por exemplo). Se uma lista contém tanto strings quanto números, o sort não saberá o que vem primeiro.</blockquote>"
   ],
   "cell_type": "markdown",
   "metadata": {}
  },
  {
   "source": [
    "Falando em ordem decrescente, é possível simplesmente inverter a ordem dos elementos de uma lista utilizando o reverse:"
   ],
   "cell_type": "markdown",
   "metadata": {}
  },
  {
   "cell_type": "code",
   "execution_count": null,
   "metadata": {},
   "outputs": [],
   "source": [
    "lista = [1, 5, 'dois', 4, 3.14]\n",
    "lista.reverse()\n",
    "print(lista) # resultado: [3.14, 4, 'dois', 5, 1]"
   ]
  },
  {
   "source": [
    "<h3>2.4. Buscando um elemento</h3>\n",
    "<p>Podemos buscar um elemento (descobrir sua posição) utilizando a função index. Ela irá informar a primeira posição onde um elemento for encontrado:</p>"
   ],
   "cell_type": "markdown",
   "metadata": {}
  },
  {
   "cell_type": "code",
   "execution_count": null,
   "metadata": {},
   "outputs": [],
   "source": [
    "pi = [3, 1, 4, 1, 5, 9, 2, 6, 5]\n",
    "posicao = pi.index(5)\n",
    "print(posicao) # resultado: 4"
   ]
  },
  {
   "source": [
    "<h3>2.5. Informações sobre a lista</h3>\n",
    "<p>Podemos obter alguns dados sobre a nossa lista: seu tamanho atual (len), seu maior valor (max) e seu menor valor (min).</p>"
   ],
   "cell_type": "markdown",
   "metadata": {}
  },
  {
   "cell_type": "code",
   "execution_count": null,
   "metadata": {},
   "outputs": [],
   "source": [
    "pi = [3, 1, 4, 1, 5, 9, 2, 6]\n",
    "tamanho = len(pi)\n",
    "maior = max(pi)\n",
    "menor = min(pi)\n",
    "print(tamanho, maior, menor) # resultado: 8 9 1"
   ]
  }
 ]
}