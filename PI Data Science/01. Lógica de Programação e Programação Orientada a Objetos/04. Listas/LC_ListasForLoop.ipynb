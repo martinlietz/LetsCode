{
 "metadata": {
  "language_info": {
   "codemirror_mode": {
    "name": "ipython",
    "version": 3
   },
   "file_extension": ".py",
   "mimetype": "text/x-python",
   "name": "python",
   "nbconvert_exporter": "python",
   "pygments_lexer": "ipython3",
   "version": "3.7.8-final"
  },
  "orig_nbformat": 2,
  "kernelspec": {
   "name": "python378jvsc74a57bd004635d289a519a1410467dd0afb0db42f9184808881ca68b2eb5a687a20a5a94",
   "display_name": "Python 3.7.8 32-bit"
  }
 },
 "nbformat": 4,
 "nbformat_minor": 2,
 "cells": [
  {
   "source": [
    "<h2>LC Listas e For Loop</h2>"
   ],
   "cell_type": "markdown",
   "metadata": {}
  },
  {
   "source": [
    "<h3>Questão #1</h3>\n",
    "<p>Crie uma lista qualquer e faça um programa que imprima cada elemento da lista usando o for.</p>"
   ],
   "cell_type": "markdown",
   "metadata": {}
  },
  {
   "source": [
    "lista = ['m', 3, [6, 5], 5.5, True]\n",
    "for el in lista:\n",
    "    print(el)"
   ],
   "cell_type": "code",
   "metadata": {},
   "execution_count": 1,
   "outputs": [
    {
     "output_type": "stream",
     "name": "stdout",
     "text": [
      "m\n3\n[6, 5]\n5.5\nTrue\n"
     ]
    }
   ]
  },
  {
   "source": [
    "<h3>Questão #2</h3>\n",
    "<p>Faça um programa que imprima todos os itens de uma lista usando while e compare com o exercício 1.</p>"
   ],
   "cell_type": "markdown",
   "metadata": {}
  },
  {
   "cell_type": "code",
   "execution_count": 3,
   "metadata": {},
   "outputs": [
    {
     "output_type": "stream",
     "name": "stdout",
     "text": [
      "m\n3\n[6, 5]\n5.5\nTrue\n"
     ]
    }
   ],
   "source": [
    "lista = ['m', 3, [6, 5], 5.5, True]\n",
    "contador = 0\n",
    "while contador < len(lista):\n",
    "    print(lista[contador])\n",
    "    contador +=1\n",
    "    "
   ]
  },
  {
   "source": [
    "<h3>Questão #3</h3>\n",
    "<p>Faça um programa que peça para o usuário digitar um número n e imprima uma lista com todos os números de 0 a n-1.\n",
    "\n",
    "Exemplo: se o usuário digitar 5, o programa deve imprimir \\[0, 1, 2, 3, 4\\]</p>"
   ],
   "cell_type": "markdown",
   "metadata": {}
  },
  {
   "cell_type": "code",
   "execution_count": 4,
   "metadata": {},
   "outputs": [
    {
     "output_type": "stream",
     "name": "stdout",
     "text": [
      "[0, 1, 2, 3, 4]\n"
     ]
    }
   ],
   "source": [
    "num = int(input(f\"Informe um numero: \"))\n",
    "print(list(range(num)))\n"
   ]
  },
  {
   "source": [
    "<h3>Questão #4</h3>\n",
    "<p>Faça um programa que olhe todos os itens de uma lista e diga quantos deles são pares.</p>"
   ],
   "cell_type": "markdown",
   "metadata": {}
  },
  {
   "cell_type": "code",
   "execution_count": 6,
   "metadata": {},
   "outputs": [
    {
     "output_type": "stream",
     "name": "stdout",
     "text": [
      "[2, 6, 4, 8]\n"
     ]
    }
   ],
   "source": [
    "lista = [ 9, 2, 6, 4, 8, 1]\n",
    "lista_pares = [ item for item in lista if item % 2 == 0 ]\n",
    "print(lista_pares)"
   ]
  },
  {
   "source": [
    "<h3>Questão #5</h3>\n",
    "<p>Faça um programa que imprima o maior número de uma lista, sem usar a função max().</p>"
   ],
   "cell_type": "markdown",
   "metadata": {}
  },
  {
   "cell_type": "code",
   "execution_count": 7,
   "metadata": {},
   "outputs": [
    {
     "output_type": "stream",
     "name": "stdout",
     "text": [
      "11\n"
     ]
    }
   ],
   "source": [
    "lista = [ 9, 11, 6, 4]\n",
    "print(sorted(lista, reverse=True)[0])"
   ]
  },
  {
   "source": [
    "<h3>Questão #6</h3>\n",
    "<p>Agora usando a função max() faça um programa que imprima os três maiores números de uma lista.\n",
    "\n",
    "Dica: Use o método próprio de listas .remove().</p>"
   ],
   "cell_type": "markdown",
   "metadata": {}
  },
  {
   "cell_type": "code",
   "execution_count": 8,
   "metadata": {},
   "outputs": [
    {
     "output_type": "stream",
     "name": "stdout",
     "text": [
      "9\n8\n6\n"
     ]
    }
   ],
   "source": [
    "lista = [ 9, 2, 6, 4, 8, 1]\n",
    "for i in range(3):\n",
    "    print(max(lista))\n",
    "    lista.remove(max(lista))"
   ]
  },
  {
   "source": [
    "<h3>Questão #7</h3>\n",
    "<p>Faça um programa que, dadas duas listas de mesmo tamanho, crie uma nova lista com cada elemento igual a soma dos elementos da lista 1 com os da lista 2, na mesma posição.\n",
    "\n",
    "Exemplo:\n",
    "\n",
    "Dadas lista1 = \\[1, 4, 5\\] e lista2 = \\[2, 2, 3\\], então lista3 = \\[1+2, 4+2, 5+3\\] = \\[3, 6, 8\\]</p>"
   ],
   "cell_type": "markdown",
   "metadata": {}
  },
  {
   "cell_type": "code",
   "execution_count": 4,
   "metadata": {},
   "outputs": [
    {
     "output_type": "stream",
     "name": "stdout",
     "text": [
      "[3, 6, 8]\n"
     ]
    }
   ],
   "source": [
    "lista1 = [1, 4, 5]\n",
    "lista2 = [2, 2, 3]\n",
    "somalista = [ sum(x) for x in list(zip(lista1,lista2)) ]\n",
    "print(somalista)"
   ]
  },
  {
   "source": [
    "<h3>Questão #8</h3>\n",
    "<p>Faça um programa que dadas duas listas de mesmo tamanho, imprima o produto escalar entre elas.\n",
    "\n",
    "OBS: produto escalar é a soma do resultado da multiplicação entre o número na posição i da lista1 pelo número na posição i da lista2, com i variando de 0 ao tamanho da lista.</p>"
   ],
   "cell_type": "markdown",
   "metadata": {}
  },
  {
   "cell_type": "code",
   "execution_count": 5,
   "metadata": {},
   "outputs": [
    {
     "output_type": "stream",
     "name": "stdout",
     "text": [
      "25\n"
     ]
    }
   ],
   "source": [
    "lista1 = [1, 4, 5]\n",
    "lista2 = [2, 2, 3]\n",
    "produtoescalar = sum([ x[0] * x[1] for x in list(zip(lista1,lista2)) ])\n",
    "print(produtoescalar)\n"
   ]
  },
  {
   "source": [
    "<h3>Questão #9</h3>\n",
    "<p>Faça um programa que pede para o usuário digitar 5 números e, ao final, imprime uma lista com os 5 números digitados pelo usuário (sem converter os números para int ou float).\n",
    "\n",
    "Exemplo: Se o usuário digitar 1, 5, 2, 3, 6, o programa deve imprimir a lista \\['1','5','2','3','6'\\]</p>"
   ],
   "cell_type": "markdown",
   "metadata": {}
  },
  {
   "cell_type": "code",
   "execution_count": 6,
   "metadata": {},
   "outputs": [
    {
     "output_type": "stream",
     "name": "stdout",
     "text": [
      "['1', '5', '2', '3', '6']\n"
     ]
    }
   ],
   "source": [
    "contador = 0\n",
    "lista = []\n",
    "while contador < 5:\n",
    "    contador += 1\n",
    "    inp = input(\"Digite um numero:\")\n",
    "    lista.append(inp)\n",
    "print(lista)"
   ]
  },
  {
   "source": [
    "<h3>Questão #10</h3>\n",
    "<p>Pegue a lista gerada no exercício anterior e transforme cada um dos itens dessa lista em um float.\n",
    "\n",
    "OBS: Não é para alterar o programa anterior, mas sim a lista gerada por ele.</p>"
   ],
   "cell_type": "markdown",
   "metadata": {}
  },
  {
   "cell_type": "code",
   "execution_count": 7,
   "metadata": {},
   "outputs": [
    {
     "output_type": "stream",
     "name": "stdout",
     "text": [
      "[1.0, 5.0, 2.0, 3.0, 6.0]\n"
     ]
    }
   ],
   "source": [
    "lista_anterior = ['1', '5', '2', '3', '6']\n",
    "list_floatado = [ float(item) for item in lista_anterior ]\n",
    "print(list_floatado)"
   ]
  },
  {
   "source": [
    "<h3>Questão #11</h3>\n",
    "<p>Faça um programa que peça as 4 notas bimestrais e mostre a média aritmética delas, usando listas.</p>"
   ],
   "cell_type": "markdown",
   "metadata": {}
  },
  {
   "cell_type": "code",
   "execution_count": 19,
   "metadata": {},
   "outputs": [
    {
     "output_type": "stream",
     "name": "stdout",
     "text": [
      "nota 1 = 7\n",
      "nota 2 = 6\n",
      "nota 3 = 8\n",
      "nota 4 = 7\n",
      "7.0\n"
     ]
    }
   ],
   "source": [
    "contador = 0\n",
    "listaNotas = []\n",
    "while contador < 4:\n",
    "    contador +=1\n",
    "    inp = int(input(\"Digite um numero:\"))\n",
    "    print(f\"nota {contador} = {inp}\")\n",
    "    listaNotas.append(inp)\n",
    "media = sum(listaNotas)/4\n",
    "print(media)"
   ]
  },
  {
   "source": [
    "<h3>Questão #12</h3>\n",
    "<p>Sorteie uma lista de 10 números e imprima:\n",
    "\n",
    "a. uma lista com os 4 primeiros números;\n",
    "\n",
    "b. uma lista com os 5 últimos números;\n",
    "\n",
    "c. uma lista contendo apenas os elementos das posições pares;\n",
    "\n",
    "d. uma lista contendo apenas os elementos das posições ímpares;\n",
    "\n",
    "e. a lista inversa da lista sorteada (isto é, uma lista que começa com o último elemento da lista sorteada e termina com o primeiro);\n",
    "\n",
    "f. uma lista inversa dos 5 primeiros números;\n",
    "\n",
    "g. uma lista inversa dos 5 últimos números.</p>"
   ],
   "cell_type": "markdown",
   "metadata": {}
  },
  {
   "cell_type": "code",
   "execution_count": 8,
   "metadata": {},
   "outputs": [
    {
     "output_type": "stream",
     "name": "stdout",
     "text": [
      "\na[de:ate:step] # ler array \"de\" ate \"ate\" com passos \"step\" onde pode ser o \"de negativo\" quer dizer começa a contar no final da lista\n\n[14, 9, 7, 3, 13, 6, 17, 8, 24, 10]\na. uma lista com os 4 primeiros números: [14, 9, 7, 3]\nb. uma lista com os 5 últimos números: [6, 17, 8, 24, 10]\nc. uma lista contendo apenas os elementos das posições pares: [9, 3, 6, 8, 10]\nd. uma lista contendo apenas os elementos das posições ímpares: [14, 7, 13, 17, 24]\ne. a lista inversa da lista sorteada (isto é, uma lista que começa com o último elemento da lista sorteada e termina com o primeiro): [10, 24, 8, 17, 6, 13, 3, 7, 9, 14]\nf. uma lista inversa dos 5 primeiros números: [13, 3, 7, 9, 14]\ng. uma lista inversa dos 5 últimos números: [10, 24, 8, 17, 6]\n"
     ]
    }
   ],
   "source": [
    "import random\n",
    "lim_inf = 3\n",
    "lim_sup = 30\n",
    "lista_aleat = []\n",
    "tamanho =  0 \n",
    "while tamanho < 10:\n",
    "    num = random.randint(lim_inf, lim_sup)\n",
    "\n",
    "    if num not in lista_aleat:\n",
    "        lista_aleat.append(num)\n",
    "        tamanho+=1\n",
    "print(\"\"\"\n",
    "a[de:ate:step] # ler array \"de\" ate \"ate\" com passos \"step\" onde pode ser o \"de negativo\" quer dizer começa a contar no final da lista\n",
    "\"\"\")\n",
    "print(lista_aleat)\n",
    "print(f\"a. uma lista com os 4 primeiros números: {lista_aleat[:4]}\")\n",
    "print(f\"b. uma lista com os 5 últimos números: {lista_aleat[-5:]}\")\n",
    "lista_pares_c = [ lista_aleat[indice] for indice in range(len(lista_aleat)) if indice % 2 != 0 ]\n",
    "print(f\"c. uma lista contendo apenas os elementos das posições pares: {lista_pares_c}\")\n",
    "lista_impares_c = [ lista_aleat[indice] for indice in range(len(lista_aleat)) if indice % 2 == 0 ]\n",
    "print(f\"d. uma lista contendo apenas os elementos das posições ímpares: {lista_impares_c}\")\n",
    "print(f\"e. a lista inversa da lista sorteada (isto é, uma lista que começa com o último elemento da lista sorteada e termina com o primeiro): {lista_aleat[::-1]}\")\n",
    "print(f\"f. uma lista inversa dos 5 primeiros números: {lista_aleat[:5][::-1]}\")\n",
    "print(f\"g. uma lista inversa dos 5 últimos números: {lista_aleat[-5:][::-1]}\")"
   ]
  },
  {
   "source": [
    "<h3>Questão #13</h3>\n",
    "<p>Faça um programa que sorteia 10 números entre 0 e 100 e conte quantos números sorteados são maiores que 50.</p>"
   ],
   "cell_type": "markdown",
   "metadata": {}
  },
  {
   "cell_type": "code",
   "execution_count": 4,
   "metadata": {},
   "outputs": [
    {
     "output_type": "stream",
     "name": "stdout",
     "text": [
      "[93, 15, 41, 85, 54, 5, 19, 10, 80, 39]\n4 números sorteados são maiores que 50\n"
     ]
    }
   ],
   "source": [
    "import random\n",
    "lim_inf = 0\n",
    "lim_sup = 100\n",
    "lista_aleat = []\n",
    "lista_maior50 = []\n",
    "tamanho =  0 \n",
    "while tamanho < 10:\n",
    "    num = random.randint(lim_inf, lim_sup)\n",
    "\n",
    "    if num not in lista_aleat:\n",
    "        lista_aleat.append(num)\n",
    "        if num > 50 :\n",
    "            lista_maior50.append(num)\n",
    "        tamanho+=1\n",
    "print(lista_aleat)\n",
    "print(f\"{len(lista_maior50)} números sorteados são maiores que 50\")"
   ]
  },
  {
   "source": [
    "<h3>Questão #14</h3>\n",
    "<p>Faça um programa que sorteie 10 números entre 0 e 100 e imprima:\n",
    "\n",
    "a. o maior número sorteado;\n",
    "\n",
    "b. o menor número sorteado;\n",
    "\n",
    "c. a média dos números sorteados;\n",
    "\n",
    "d. a soma dos números sorteados.</p>"
   ],
   "cell_type": "markdown",
   "metadata": {}
  },
  {
   "cell_type": "code",
   "execution_count": 14,
   "metadata": {},
   "outputs": [
    {
     "output_type": "stream",
     "name": "stdout",
     "text": [
      "[58, 40, 39, 18, 82, 17, 79, 72, 71, 77]\na. o maior número sorteado: 82\nb. o menor número sorteado: 17\nc. a média dos números sorteados: 55.3\nd. a soma dos números sorteados: 553\n"
     ]
    }
   ],
   "source": [
    "import random\n",
    "from statistics import mean\n",
    "lim_inf = 0\n",
    "lim_sup = 100\n",
    "lista_aleat = []\n",
    "lista_maior50 = []\n",
    "tamanho =  0 \n",
    "while tamanho < 10:\n",
    "    num = random.randint(lim_inf, lim_sup)\n",
    "    if num not in lista_aleat:\n",
    "        lista_aleat.append(num)\n",
    "        tamanho+=1\n",
    "maxnum = max(lista_aleat)\n",
    "minnum = min(lista_aleat)\n",
    "sumnum = sum(lista_aleat)\n",
    "avgnum = mean(lista_aleat)\n",
    "\n",
    "print(lista_aleat)\n",
    "print(f\"a. o maior número sorteado: {maxnum}\")\n",
    "print(f\"b. o menor número sorteado: {minnum}\")\n",
    "print(f\"c. a média dos números sorteados: {round(avgnum,2)}\")\n",
    "print(f\"d. a soma dos números sorteados: {sumnum}\")"
   ]
  },
  {
   "source": [
    "<h3>Questão #15</h3>\n",
    "<p> Desafio 1</p>\n",
    "<p> - Faça um programa que peça para o usuário digitar o nome e a idade de um aluno e o número de provas que esse aluno fez. Depois, o programa deve pedir para o usuário digitar as notas de cada prova do aluno. Ao final o programa deve imprimir uma lista contendo:\n",
    "\n",
    "a. Nome do aluno na posição 0;\n",
    "\n",
    "b. Idade do aluno na posição 1;\n",
    "\n",
    "c. Uma lista com todas as notas na posição 2;\n",
    "\n",
    "d. A média do aluno na posição 3;\n",
    "\n",
    "e. True ou False, caso a média seja maior que 5 ou não, na posição 4.\n",
    "\n",
    "Dica: Use o que você fez nos exercícios anteriores para criar esse programa.</p>"
   ],
   "cell_type": "markdown",
   "metadata": {}
  },
  {
   "cell_type": "code",
   "execution_count": 58,
   "metadata": {},
   "outputs": [
    {
     "output_type": "stream",
     "name": "stdout",
     "text": [
      "nota 1 = 6\n",
      "nota 2 = 7\n",
      "nota 3 = 6\n",
      "nota 4 = 5\n",
      "['Martin', 44, [6, 7, 6, 5], 6.0, True]\n"
     ]
    }
   ],
   "source": [
    "nome = input(\"Nome do aluno:\")\n",
    "idade = int(input(\"Idade do aluno:\"))\n",
    "noNotas = int(input(\"Número de provas do aluno:\"))\n",
    "contador = 0\n",
    "listaNotas = []\n",
    "while contador < noNotas:\n",
    "    contador +=1\n",
    "    inp = int(input(f\"Digite a nota da prova {contador}:\"))\n",
    "    print(f\"nota {contador} = {inp}\")\n",
    "    listaNotas.append(inp)\n",
    "media = sum(listaNotas)/(noNotas)\n",
    "mediaMaior5 = True if media > 5 else False\n",
    "resultado = [ nome, idade,listaNotas, media, mediaMaior5]\n",
    "print(resultado)"
   ]
  },
  {
   "source": [
    "<h3>Questão #16</h3>\n",
    "<p> Desafio 2</p>\n",
    "<p> Faça um programa como o do item anterior, porém que imprima a média sem considerar a maior e menor nota do aluno (nesse caso o número de provas precisa ser obrigatoriamente maior que dois).\n",
    "\n",
    "Dica: crie uma cópia com a lista de todas as notas antes de fazer a média.</p>"
   ],
   "cell_type": "markdown",
   "metadata": {}
  },
  {
   "cell_type": "code",
   "execution_count": 16,
   "metadata": {},
   "outputs": [
    {
     "output_type": "stream",
     "name": "stdout",
     "text": [
      "nota 1 = 6\n",
      "nota 2 = 7\n",
      "nota 3 = 6\n",
      "nota 4 = 5\n",
      "['Martin', 44, [6, 6], 6.0, True]\n"
     ]
    }
   ],
   "source": [
    "nome = input(\"Nome do aluno:\")\n",
    "idade = int(input(\"Idade do aluno:\"))\n",
    "noNotas = int(input(\"Número de provas do aluno(min>2):\"))\n",
    "contador = 0\n",
    "listaNotas = []\n",
    "while contador < noNotas:\n",
    "    contador +=1\n",
    "    inp = int(input(f\"Digite a nota da prova {contador}:\"))\n",
    "    print(f\"nota {contador} = {inp}\")\n",
    "    listaNotas.append(inp)\n",
    "copia = [ x for x in listaNotas ]\n",
    "copia.remove(max(listaNotas))\n",
    "copia.remove(min(listaNotas))\n",
    "media = sum(copia)/(noNotas-2)\n",
    "mediaMaior5 = True if media > 5 else False\n",
    "resultado = [ nome, idade,copia, media, mediaMaior5]\n",
    "print(resultado)"
   ]
  },
  {
   "source": [
    "<h3>Questão #17</h3>\n",
    "<p> Desafio 3</p>\n",
    "<p>Faça um programa que pede para o usuário digitar o CPF e verifica se ele é válido. Para isso, primeiramente o programa deve multiplicar cada um dos 9 primeiros dígitos do CPF pelos números de 10 a 2 e somar todas as respostas. O resultado deve ser multiplicado por 10 e dividido por 11. O resto dessa divisão deve ser igual ao primeiro dígito verificador (10º dígito). Em seguida, o programa deve multiplicar cada um dos 10 primeiros dígitos do CPF pelos números de 11 a 2 e repetir o procedimento anterior para verificar o segundo dígito verificador.\n",
    "\n",
    "Exemplo:\n",
    "\n",
    "Se o CPF for 286.255.878-87 o programa deve fazer primeiro:\n",
    "\n",
    "x = \\(2\\*10 + 8\\*9 + 6\\*8 + 2\\*7 + 5\\*6 + 5\\*5 + 8\\*4 + 7\\*3 + 8\\*2\\)\n",
    "\n",
    "Em seguida, o programa deve testar se x*10%11 == 8 (o décimo número do CPF). Se sim, o programa deve calcular:\n",
    "\n",
    "x = (2\\*11 + 8\\*10 + 6\\*9 + 2\\*8 + 5\\*7 + 5\\*6 + 8\\*5 + 7\\*4 + 8\\*3 + 8\\*2)\n",
    "\n",
    "e verificar se x*10%11 == 7 (o décimo primeiro número do CPF).</p>"
   ],
   "cell_type": "markdown",
   "metadata": {}
  },
  {
   "cell_type": "code",
   "execution_count": 17,
   "metadata": {},
   "outputs": [
    {
     "output_type": "stream",
     "name": "stdout",
     "text": [
      "CPF 09024108730 valido\n"
     ]
    }
   ],
   "source": [
    "cpf = input(\"Digite o CPF:\")\n",
    "#  Obtém os números do CPF e ignora outros caracteres\n",
    "cpf = [int(char) for char in cpf if char.isdigit()]\n",
    "resultado = 'nao valido' if len(cpf) != 11 else 'nao valido' if sum([ int(cpf[indice])*(10-indice) for indice in range(9) ])*10%11 != int(cpf[9]) else 'valido' if sum([ int(cpf[indice])*(11-indice) for indice in range(10) ])*10%11%10 == int(cpf[10]) else 'nao valido' \n",
    "print(f\"CPF {''.join([str(elem) for elem in cpf])} {resultado}\")"
   ]
  },
  {
   "cell_type": "code",
   "execution_count": null,
   "metadata": {},
   "outputs": [],
   "source": []
  }
 ]
}