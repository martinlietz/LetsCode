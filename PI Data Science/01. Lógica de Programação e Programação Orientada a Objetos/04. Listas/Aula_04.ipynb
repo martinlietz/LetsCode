{
 "metadata": {
  "language_info": {
   "codemirror_mode": {
    "name": "ipython",
    "version": 3
   },
   "file_extension": ".py",
   "mimetype": "text/x-python",
   "name": "python",
   "nbconvert_exporter": "python",
   "pygments_lexer": "ipython3",
   "version": "3.7.8-final"
  },
  "orig_nbformat": 2,
  "kernelspec": {
   "name": "python378jvsc74a57bd004635d289a519a1410467dd0afb0db42f9184808881ca68b2eb5a687a20a5a94",
   "display_name": "Python 3.7.8 32-bit"
  }
 },
 "nbformat": 4,
 "nbformat_minor": 2,
 "cells": [
  {
   "source": [
    "<h1>Execercicios dentro da aula 4</h1>\n",
    "<h2>22/Fev 2021</h2>"
   ],
   "cell_type": "markdown",
   "metadata": {}
  },
  {
   "source": [
    "s\\[i:j:k\\], segunda a documentação, \"pedaço  s de i ate j step k\". quando i e j estão isente, assume a  sequencia toda então s\\[::k\\] significa \"todos  k-th item da lista\"."
   ],
   "cell_type": "markdown",
   "metadata": {}
  },
  {
   "cell_type": "code",
   "execution_count": 12,
   "metadata": {},
   "outputs": [
    {
     "output_type": "stream",
     "name": "stdout",
     "text": [
      "[1, 'martin', [True, False]]\n"
     ]
    }
   ],
   "source": [
    "lista = [ 1, 10.0, 'martin', False, [True, False] , -3 ]\n",
    "print(lista[::2])"
   ]
  },
  {
   "cell_type": "code",
   "execution_count": 5,
   "metadata": {},
   "outputs": [
    {
     "output_type": "stream",
     "name": "stdout",
     "text": [
      "[1, 2, 4, 1, 2, 4]\n"
     ]
    }
   ],
   "source": [
    "lista =  [1,2,4] + [1,2,4]\n",
    "print(lista)"
   ]
  },
  {
   "cell_type": "code",
   "execution_count": 6,
   "metadata": {},
   "outputs": [
    {
     "output_type": "stream",
     "name": "stdout",
     "text": [
      "[-3, [True, False], False, 'martin', 10.0, 1]\n"
     ]
    }
   ],
   "source": [
    "lista = [ 1, 10.0, 'martin', False, [True, False] , -3 ]\n",
    "lista_inv = lista[::-1]\n",
    "print(lista_inv)"
   ]
  },
  {
   "cell_type": "code",
   "execution_count": 7,
   "metadata": {},
   "outputs": [
    {
     "output_type": "stream",
     "name": "stdout",
     "text": [
      "6\n"
     ]
    }
   ],
   "source": [
    "lista = [ 1, 10.0, 'martin', False, [True, False] , -3 ]\n",
    "tamanho = len(lista)\n",
    "print(tamanho)"
   ]
  },
  {
   "cell_type": "code",
   "execution_count": 11,
   "metadata": {},
   "outputs": [
    {
     "output_type": "stream",
     "name": "stdout",
     "text": [
      "1\n10.0\nmartin\nFalse\n[True, False]\n-3\n"
     ]
    }
   ],
   "source": [
    "lista = [ 1, 10.0, 'martin', False, [True, False] , -3 ]\n",
    "tamanho = len(lista)\n",
    "for item in lista:\n",
    "    print(item)"
   ]
  },
  {
   "cell_type": "code",
   "execution_count": 11,
   "metadata": {},
   "outputs": [
    {
     "output_type": "stream",
     "name": "stdout",
     "text": [
      "[-2]\n"
     ]
    }
   ],
   "source": [
    "lista = [ 1, 10.0, 'martin', False, [True, False] , -3 ]\n",
    "penultDaLista = [-2]\n",
    "print(penultDaLista)"
   ]
  },
  {
   "cell_type": "code",
   "execution_count": 25,
   "metadata": {},
   "outputs": [
    {
     "output_type": "stream",
     "name": "stdout",
     "text": [
      "primeirosDoisIten [1, 10.0]\nprimeirosDoisIten [[True, False], -3]\n"
     ]
    }
   ],
   "source": [
    "lista = [ 1, 10.0, 'martin', False, [True, False] , -3 ]\n",
    "print(\"primeirosDoisIten\", lista[:2])\n",
    "print(\"primeirosDoisIten\", lista[-2:])"
   ]
  },
  {
   "cell_type": "code",
   "execution_count": 2,
   "metadata": {},
   "outputs": [
    {
     "output_type": "stream",
     "name": "stdout",
     "text": [
      "M\na\nr\nt\ni\nn\nt\n"
     ]
    }
   ],
   "source": [
    "\n",
    "for i in \"Martin\":\n",
    "    print(i)\n",
    "print(\"Martin\"[3])"
   ]
  },
  {
   "cell_type": "code",
   "execution_count": 12,
   "metadata": {},
   "outputs": [
    {
     "output_type": "stream",
     "name": "stdout",
     "text": [
      "['João', 'Maria', 'José', 'Carla', 'Lucas', 'Joana']\n"
     ]
    }
   ],
   "source": [
    "string = 'João,Maria,José,Carla,Lucas,Joana'\n",
    "resultado = string.split(',')\n",
    "print(resultado)"
   ]
  },
  {
   "cell_type": "code",
   "execution_count": 16,
   "metadata": {},
   "outputs": [
    {
     "output_type": "stream",
     "name": "stdout",
     "text": [
      "Hallo Welt3.400\n"
     ]
    }
   ],
   "source": [
    "print(\"Hallo Welt{:.3f}\".format(3.4))"
   ]
  },
  {
   "cell_type": "code",
   "execution_count": null,
   "metadata": {},
   "outputs": [],
   "source": []
  }
 ]
}