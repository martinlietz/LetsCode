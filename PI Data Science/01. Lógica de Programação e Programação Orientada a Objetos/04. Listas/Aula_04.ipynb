{
 "cells": [
  {
   "cell_type": "markdown",
   "metadata": {},
   "source": [
    "<h1>Execercicios dentro da aula 4</h1>\n",
    "<h2>22/Fev 2021</h2>"
   ]
  },
  {
   "cell_type": "markdown",
   "metadata": {},
   "source": [
    "s\\[i:j:k\\], segunda a documentação, \"pedaço  s de i ate j step k\". quando i e j estão isente, assume a  sequencia toda então s\\[::k\\] significa \"todos  k-th item da lista\"."
   ]
  },
  {
   "cell_type": "code",
   "execution_count": 12,
   "metadata": {},
   "outputs": [
    {
     "name": "stdout",
     "output_type": "stream",
     "text": [
      "[1, 'martin', [True, False]]\n"
     ]
    }
   ],
   "source": [
    "lista = [ 1, 10.0, 'martin', False, [True, False] , -3 ]\n",
    "print(lista[::2])"
   ]
  },
  {
   "cell_type": "code",
   "execution_count": 5,
   "metadata": {},
   "outputs": [
    {
     "name": "stdout",
     "output_type": "stream",
     "text": [
      "[1, 2, 4, 1, 2, 4]\n"
     ]
    }
   ],
   "source": [
    "lista =  [1,2,4] + [1,2,4]\n",
    "print(lista)"
   ]
  },
  {
   "cell_type": "code",
   "execution_count": 6,
   "metadata": {},
   "outputs": [
    {
     "name": "stdout",
     "output_type": "stream",
     "text": [
      "[-3, [True, False], False, 'martin', 10.0, 1]\n"
     ]
    }
   ],
   "source": [
    "lista = [ 1, 10.0, 'martin', False, [True, False] , -3 ]\n",
    "lista_inv = lista[::-1]\n",
    "print(lista_inv)"
   ]
  },
  {
   "cell_type": "code",
   "execution_count": 7,
   "metadata": {},
   "outputs": [
    {
     "name": "stdout",
     "output_type": "stream",
     "text": [
      "6\n"
     ]
    }
   ],
   "source": [
    "lista = [ 1, 10.0, 'martin', False, [True, False] , -3 ]\n",
    "tamanho = len(lista)\n",
    "print(tamanho)"
   ]
  },
  {
   "cell_type": "code",
   "execution_count": 11,
   "metadata": {},
   "outputs": [
    {
     "name": "stdout",
     "output_type": "stream",
     "text": [
      "1\n",
      "10.0\n",
      "martin\n",
      "False\n",
      "[True, False]\n",
      "-3\n"
     ]
    }
   ],
   "source": [
    "lista = [ 1, 10.0, 'martin', False, [True, False] , -3 ]\n",
    "tamanho = len(lista)\n",
    "for item in lista:\n",
    "    print(item)"
   ]
  },
  {
   "cell_type": "code",
   "execution_count": 11,
   "metadata": {},
   "outputs": [
    {
     "name": "stdout",
     "output_type": "stream",
     "text": [
      "[-2]\n"
     ]
    }
   ],
   "source": [
    "lista = [ 1, 10.0, 'martin', False, [True, False] , -3 ]\n",
    "penultDaLista = [-2]\n",
    "print(penultDaLista)"
   ]
  },
  {
   "cell_type": "code",
   "execution_count": 25,
   "metadata": {},
   "outputs": [
    {
     "name": "stdout",
     "output_type": "stream",
     "text": [
      "primeirosDoisIten [1, 10.0]\n",
      "primeirosDoisIten [[True, False], -3]\n"
     ]
    }
   ],
   "source": [
    "lista = [ 1, 10.0, 'martin', False, [True, False] , -3 ]\n",
    "print(\"primeirosDoisIten\", lista[:2])\n",
    "print(\"primeirosDoisIten\", lista[-2:])"
   ]
  },
  {
   "cell_type": "code",
   "execution_count": 2,
   "metadata": {},
   "outputs": [
    {
     "name": "stdout",
     "output_type": "stream",
     "text": [
      "M\n",
      "a\n",
      "r\n",
      "t\n",
      "i\n",
      "n\n",
      "t\n"
     ]
    }
   ],
   "source": [
    "\n",
    "for i in \"Martin\":\n",
    "    print(i)\n",
    "print(\"Martin\"[3])"
   ]
  },
  {
   "cell_type": "code",
   "execution_count": 12,
   "metadata": {},
   "outputs": [
    {
     "name": "stdout",
     "output_type": "stream",
     "text": [
      "['João', 'Maria', 'José', 'Carla', 'Lucas', 'Joana']\n"
     ]
    }
   ],
   "source": [
    "string = 'João,Maria,José,Carla,Lucas,Joana'\n",
    "resultado = string.split(',')\n",
    "print(resultado)"
   ]
  },
  {
   "cell_type": "code",
   "execution_count": 1,
   "metadata": {},
   "outputs": [
    {
     "name": "stdout",
     "output_type": "stream",
     "text": [
      "Hallo Welt 3.400\n"
     ]
    }
   ],
   "source": [
    "print(\"Hallo Welt {:.3f}\".format(3.4))"
   ]
  },
  {
   "cell_type": "code",
   "execution_count": 3,
   "metadata": {},
   "outputs": [
    {
     "name": "stdout",
     "output_type": "stream",
     "text": [
      "[1, 3, 5, 7, 9, 11]\n"
     ]
    }
   ],
   "source": [
    "list1 = [[1,3],[5,7],[9,11]]\n",
    "flat_list = sum(list1, [])\n",
    "print(flat_list)"
   ]
  }
 ],
 "metadata": {
  "interpreter": {
   "hash": "e922dd073470bdcc017ae3abd31d6491d6ed7bf31c1d559806e5511bfea88b81"
  },
  "kernelspec": {
   "display_name": "Python 3.7.8 32-bit",
   "language": "python",
   "name": "python3"
  },
  "language_info": {
   "codemirror_mode": {
    "name": "ipython",
    "version": 3
   },
   "file_extension": ".py",
   "mimetype": "text/x-python",
   "name": "python",
   "nbconvert_exporter": "python",
   "pygments_lexer": "ipython3",
   "version": "3.9.7"
  },
  "orig_nbformat": 2
 },
 "nbformat": 4,
 "nbformat_minor": 2
}
