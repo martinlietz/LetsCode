{
 "cells": [
  {
   "cell_type": "markdown",
   "metadata": {},
   "source": [
    "#  ------------------------- SPLIT  -- APPLY -- COMBINE  ------------------------------------------"
   ]
  },
  {
   "cell_type": "raw",
   "metadata": {},
   "source": [
    "                                             groupby()\n",
    "                                    SPLIT  -- APPLY -- COMBINE\n",
    "                                 \n",
    "Step 1 : Split the data into groups based on some criteria thereby creating DataFrameGroupBy object.\n",
    "\n",
    "Step 2 : Apply a function to each group independently. (we can Aggregate, Transform, and Filter our data in this step)\n",
    "\n",
    "Step 3 : Combine Combining the results into a data structure (Pandas Series, Pandas DataFrame)\n",
    "\n",
    "We will explore each step with an example in this Exercise."
   ]
  },
  {
   "cell_type": "raw",
   "metadata": {},
   "source": [
    "Import Libraries and create a small Dataset to work on."
   ]
  },
  {
   "cell_type": "code",
   "execution_count": 1,
   "metadata": {},
   "outputs": [],
   "source": [
    "import pandas as pd\n",
    "import numpy as np\n",
    "import matplotlib.pyplot as plt\n",
    "import seaborn as sns"
   ]
  },
  {
   "cell_type": "markdown",
   "metadata": {},
   "source": [
    "# Where is the Data??"
   ]
  },
  {
   "cell_type": "code",
   "execution_count": 2,
   "metadata": {},
   "outputs": [],
   "source": [
    "sales_dict={'colour':['Yellow','Black','Blue','Red','Yellow','Black','Blue',\n",
    "                      'Red','Yellow','Black','Blue','Red','Yellow','Black','Blue','Red','Blue','Red'],\n",
    "           'sales':[100000,150000,80000,90000,200000,145000,120000,\n",
    "                    300000,250000,200000,160000,90000,90100,150000,142000,130000,400000,350000],\n",
    "          'transactions':[100,150,820,920,230,120,70,250,250,110,130,860,980,300,150,170,230,280],\n",
    "           'product':['type A','type A','type A','type A','type A','type A','type A',\n",
    "                      'type A','type A','type B','type B','type B','type B','type B','type B','type B','type B','type B']}"
   ]
  },
  {
   "cell_type": "code",
   "execution_count": 3,
   "metadata": {},
   "outputs": [],
   "source": [
    "data_sales=pd.DataFrame(sales_dict)"
   ]
  },
  {
   "cell_type": "code",
   "execution_count": 4,
   "metadata": {},
   "outputs": [
    {
     "data": {
      "text/html": [
       "<div>\n",
       "<style scoped>\n",
       "    .dataframe tbody tr th:only-of-type {\n",
       "        vertical-align: middle;\n",
       "    }\n",
       "\n",
       "    .dataframe tbody tr th {\n",
       "        vertical-align: top;\n",
       "    }\n",
       "\n",
       "    .dataframe thead th {\n",
       "        text-align: right;\n",
       "    }\n",
       "</style>\n",
       "<table border=\"1\" class=\"dataframe\">\n",
       "  <thead>\n",
       "    <tr style=\"text-align: right;\">\n",
       "      <th></th>\n",
       "      <th>colour</th>\n",
       "      <th>sales</th>\n",
       "      <th>transactions</th>\n",
       "      <th>product</th>\n",
       "    </tr>\n",
       "  </thead>\n",
       "  <tbody>\n",
       "    <tr>\n",
       "      <th>0</th>\n",
       "      <td>Yellow</td>\n",
       "      <td>100000</td>\n",
       "      <td>100</td>\n",
       "      <td>type A</td>\n",
       "    </tr>\n",
       "    <tr>\n",
       "      <th>1</th>\n",
       "      <td>Black</td>\n",
       "      <td>150000</td>\n",
       "      <td>150</td>\n",
       "      <td>type A</td>\n",
       "    </tr>\n",
       "    <tr>\n",
       "      <th>2</th>\n",
       "      <td>Blue</td>\n",
       "      <td>80000</td>\n",
       "      <td>820</td>\n",
       "      <td>type A</td>\n",
       "    </tr>\n",
       "    <tr>\n",
       "      <th>3</th>\n",
       "      <td>Red</td>\n",
       "      <td>90000</td>\n",
       "      <td>920</td>\n",
       "      <td>type A</td>\n",
       "    </tr>\n",
       "    <tr>\n",
       "      <th>4</th>\n",
       "      <td>Yellow</td>\n",
       "      <td>200000</td>\n",
       "      <td>230</td>\n",
       "      <td>type A</td>\n",
       "    </tr>\n",
       "    <tr>\n",
       "      <th>5</th>\n",
       "      <td>Black</td>\n",
       "      <td>145000</td>\n",
       "      <td>120</td>\n",
       "      <td>type A</td>\n",
       "    </tr>\n",
       "    <tr>\n",
       "      <th>6</th>\n",
       "      <td>Blue</td>\n",
       "      <td>120000</td>\n",
       "      <td>70</td>\n",
       "      <td>type A</td>\n",
       "    </tr>\n",
       "    <tr>\n",
       "      <th>7</th>\n",
       "      <td>Red</td>\n",
       "      <td>300000</td>\n",
       "      <td>250</td>\n",
       "      <td>type A</td>\n",
       "    </tr>\n",
       "    <tr>\n",
       "      <th>8</th>\n",
       "      <td>Yellow</td>\n",
       "      <td>250000</td>\n",
       "      <td>250</td>\n",
       "      <td>type A</td>\n",
       "    </tr>\n",
       "    <tr>\n",
       "      <th>9</th>\n",
       "      <td>Black</td>\n",
       "      <td>200000</td>\n",
       "      <td>110</td>\n",
       "      <td>type B</td>\n",
       "    </tr>\n",
       "    <tr>\n",
       "      <th>10</th>\n",
       "      <td>Blue</td>\n",
       "      <td>160000</td>\n",
       "      <td>130</td>\n",
       "      <td>type B</td>\n",
       "    </tr>\n",
       "    <tr>\n",
       "      <th>11</th>\n",
       "      <td>Red</td>\n",
       "      <td>90000</td>\n",
       "      <td>860</td>\n",
       "      <td>type B</td>\n",
       "    </tr>\n",
       "    <tr>\n",
       "      <th>12</th>\n",
       "      <td>Yellow</td>\n",
       "      <td>90100</td>\n",
       "      <td>980</td>\n",
       "      <td>type B</td>\n",
       "    </tr>\n",
       "    <tr>\n",
       "      <th>13</th>\n",
       "      <td>Black</td>\n",
       "      <td>150000</td>\n",
       "      <td>300</td>\n",
       "      <td>type B</td>\n",
       "    </tr>\n",
       "    <tr>\n",
       "      <th>14</th>\n",
       "      <td>Blue</td>\n",
       "      <td>142000</td>\n",
       "      <td>150</td>\n",
       "      <td>type B</td>\n",
       "    </tr>\n",
       "    <tr>\n",
       "      <th>15</th>\n",
       "      <td>Red</td>\n",
       "      <td>130000</td>\n",
       "      <td>170</td>\n",
       "      <td>type B</td>\n",
       "    </tr>\n",
       "    <tr>\n",
       "      <th>16</th>\n",
       "      <td>Blue</td>\n",
       "      <td>400000</td>\n",
       "      <td>230</td>\n",
       "      <td>type B</td>\n",
       "    </tr>\n",
       "    <tr>\n",
       "      <th>17</th>\n",
       "      <td>Red</td>\n",
       "      <td>350000</td>\n",
       "      <td>280</td>\n",
       "      <td>type B</td>\n",
       "    </tr>\n",
       "  </tbody>\n",
       "</table>\n",
       "</div>"
      ],
      "text/plain": [
       "    colour   sales  transactions product\n",
       "0   Yellow  100000           100  type A\n",
       "1    Black  150000           150  type A\n",
       "2     Blue   80000           820  type A\n",
       "3      Red   90000           920  type A\n",
       "4   Yellow  200000           230  type A\n",
       "5    Black  145000           120  type A\n",
       "6     Blue  120000            70  type A\n",
       "7      Red  300000           250  type A\n",
       "8   Yellow  250000           250  type A\n",
       "9    Black  200000           110  type B\n",
       "10    Blue  160000           130  type B\n",
       "11     Red   90000           860  type B\n",
       "12  Yellow   90100           980  type B\n",
       "13   Black  150000           300  type B\n",
       "14    Blue  142000           150  type B\n",
       "15     Red  130000           170  type B\n",
       "16    Blue  400000           230  type B\n",
       "17     Red  350000           280  type B"
      ]
     },
     "execution_count": 4,
     "metadata": {},
     "output_type": "execute_result"
    }
   ],
   "source": [
    "data_sales"
   ]
  },
  {
   "cell_type": "code",
   "execution_count": 5,
   "metadata": {},
   "outputs": [
    {
     "name": "stderr",
     "output_type": "stream",
     "text": [
      "C:\\Users\\w38364\\AppData\\Local\\Continuum\\anaconda3\\lib\\site-packages\\scipy\\stats\\stats.py:1713: FutureWarning: Using a non-tuple sequence for multidimensional indexing is deprecated; use `arr[tuple(seq)]` instead of `arr[seq]`. In the future this will be interpreted as an array index, `arr[np.array(seq)]`, which will result either in an error or a different result.\n",
      "  return np.add.reduce(sorted[indexer] * weights, axis=axis) / sumval\n"
     ]
    },
    {
     "data": {
      "text/plain": [
       "<seaborn.axisgrid.FacetGrid at 0x2386c397c50>"
      ]
     },
     "execution_count": 5,
     "metadata": {},
     "output_type": "execute_result"
    },
    {
     "data": {
      "image/png": "[encoded data removed]",
      "text/plain": [
       "<Figure size 608.125x360 with 1 Axes>"
      ]
     },
     "metadata": {
      "needs_background": "light"
     },
     "output_type": "display_data"
    }
   ],
   "source": [
    "sns.catplot(x=\"colour\", y=\"transactions\", kind=\"bar\", hue=\"product\", aspect=1.5, data=data_sales)"
   ]
  },
  {
   "cell_type": "code",
   "execution_count": 6,
   "metadata": {},
   "outputs": [
    {
     "name": "stderr",
     "output_type": "stream",
     "text": [
      "C:\\Users\\w38364\\AppData\\Local\\Continuum\\anaconda3\\lib\\site-packages\\scipy\\stats\\stats.py:1713: FutureWarning: Using a non-tuple sequence for multidimensional indexing is deprecated; use `arr[tuple(seq)]` instead of `arr[seq]`. In the future this will be interpreted as an array index, `arr[np.array(seq)]`, which will result either in an error or a different result.\n",
      "  return np.add.reduce(sorted[indexer] * weights, axis=axis) / sumval\n"
     ]
    },
    {
     "data": {
      "text/plain": [
       "<seaborn.axisgrid.FacetGrid at 0x2386c6ec7b8>"
      ]
     },
     "execution_count": 6,
     "metadata": {},
     "output_type": "execute_result"
    },
    {
     "data": {
      "image/png": "[encoded data removed]",
      "text/plain": [
       "<Figure size 608.125x360 with 1 Axes>"
      ]
     },
     "metadata": {
      "needs_background": "light"
     },
     "output_type": "display_data"
    }
   ],
   "source": [
    "sns.catplot(x=\"colour\", y=\"sales\", kind=\"bar\", hue=\"product\", aspect=1.5, data=data_sales)"
   ]
  },
  {
   "cell_type": "code",
   "execution_count": 7,
   "metadata": {},
   "outputs": [
    {
     "data": {
      "image/png": "[encoded data removed]",
      "text/plain": [
       "<Figure size 576x288 with 4 Axes>"
      ]
     },
     "metadata": {
      "needs_background": "light"
     },
     "output_type": "display_data"
    }
   ],
   "source": [
    "graph = sns.FacetGrid(data_sales, col=\"colour\", height=4, hue=\"product\",aspect=.5)\n",
    "graph.map(plt.scatter, \"transactions\", \"sales\");"
   ]
  },
  {
   "cell_type": "markdown",
   "metadata": {},
   "source": [
    "# Split: Create an Object."
   ]
  },
  {
   "cell_type": "code",
   "execution_count": 8,
   "metadata": {},
   "outputs": [
    {
     "name": "stdout",
     "output_type": "stream",
     "text": [
      "<class 'pandas.core.groupby.groupby.DataFrameGroupBy'>\n"
     ]
    }
   ],
   "source": [
    "# Split: Groupby the column 'colour'\n",
    "\n",
    "data_gby = data_sales.groupby('colour')\n",
    "print(type(data_gby))"
   ]
  },
  {
   "cell_type": "code",
   "execution_count": 9,
   "metadata": {},
   "outputs": [
    {
     "data": {
      "text/plain": [
       "{'Black': Int64Index([1, 5, 9, 13], dtype='int64'),\n",
       " 'Blue': Int64Index([2, 6, 10, 14, 16], dtype='int64'),\n",
       " 'Red': Int64Index([3, 7, 11, 15, 17], dtype='int64'),\n",
       " 'Yellow': Int64Index([0, 4, 8, 12], dtype='int64')}"
      ]
     },
     "execution_count": 9,
     "metadata": {},
     "output_type": "execute_result"
    }
   ],
   "source": [
    "#  lets check the names of the groups\n",
    "\n",
    "data_gby.groups"
   ]
  },
  {
   "cell_type": "code",
   "execution_count": 10,
   "metadata": {},
   "outputs": [
    {
     "name": "stdout",
     "output_type": "stream",
     "text": [
      "GroupName:  Black\n",
      "   colour   sales  transactions product\n",
      "1   Black  150000           150  type A\n",
      "5   Black  145000           120  type A\n",
      "9   Black  200000           110  type B\n",
      "13  Black  150000           300  type B\n",
      "-------------------------------------------\n",
      "GroupName:  Blue\n",
      "   colour   sales  transactions product\n",
      "2    Blue   80000           820  type A\n",
      "6    Blue  120000            70  type A\n",
      "10   Blue  160000           130  type B\n",
      "14   Blue  142000           150  type B\n",
      "16   Blue  400000           230  type B\n",
      "-------------------------------------------\n",
      "GroupName:  Red\n",
      "   colour   sales  transactions product\n",
      "3     Red   90000           920  type A\n",
      "7     Red  300000           250  type A\n",
      "11    Red   90000           860  type B\n",
      "15    Red  130000           170  type B\n",
      "17    Red  350000           280  type B\n",
      "-------------------------------------------\n",
      "GroupName:  Yellow\n",
      "    colour   sales  transactions product\n",
      "0   Yellow  100000           100  type A\n",
      "4   Yellow  200000           230  type A\n",
      "8   Yellow  250000           250  type A\n",
      "12  Yellow   90100           980  type B\n",
      "-------------------------------------------\n"
     ]
    }
   ],
   "source": [
    "### 'key' is the name of the group and 'value' is the segmented rows from the original DataFrame.\n",
    "\n",
    "for key, value in data_gby: \n",
    "    print('GroupName: ',key)\n",
    "    print(value)\n",
    "    print('-------------------------------------------')"
   ]
  },
  {
   "cell_type": "markdown",
   "metadata": {},
   "source": [
    "# APPLY: Apply a function over the Object."
   ]
  },
  {
   "cell_type": "markdown",
   "metadata": {},
   "source": [
    "# Aggregation"
   ]
  },
  {
   "cell_type": "markdown",
   "metadata": {},
   "source": [
    "### Dual axis chart with the grouping by single column"
   ]
  },
  {
   "cell_type": "code",
   "execution_count": 11,
   "metadata": {},
   "outputs": [],
   "source": [
    "data_colour=data_sales.groupby('colour').sum()"
   ]
  },
  {
   "cell_type": "code",
   "execution_count": 12,
   "metadata": {},
   "outputs": [
    {
     "name": "stdout",
     "output_type": "stream",
     "text": [
      "         sales  transactions\n",
      "colour                      \n",
      "Black   645000           680\n",
      "Blue    902000          1400\n",
      "Red     960000          2480\n",
      "Yellow  640100          1560\n"
     ]
    }
   ],
   "source": [
    "print(data_colour)"
   ]
  },
  {
   "cell_type": "raw",
   "metadata": {},
   "source": [
    "Function to create the dual axis chart."
   ]
  },
  {
   "cell_type": "code",
   "execution_count": 13,
   "metadata": {},
   "outputs": [],
   "source": [
    "def create_dual(data_1,data_2,data_x):\n",
    "    fig, ax1 = plt.subplots(figsize=(8, 8))\n",
    "\n",
    "    color = 'tab:red'\n",
    "    ax1.set_ylabel('sales', color=color)\n",
    "    ax1.bar(data_x, data_1, color=color)\n",
    "    ax1.tick_params(axis='y', labelcolor=color)\n",
    "    ax1.tick_params(axis='x', labelrotation=90.0)\n",
    "\n",
    "    ax2 = ax1.twinx()                            # instantiate a second axes that shares the same x-axis\n",
    "    \n",
    "    \n",
    "    color = 'tab:cyan'\n",
    "    ax2.set_ylabel('transactions', color=color)  # we already handled the x-label with ax1\n",
    "    ax2.plot(data_x, data_2, color=color)\n",
    "    ax2.tick_params(axis='y', labelcolor=color)\n",
    "\n",
    "    #fig.tight_layout()                          # otherwise the right y-label is slightly clipped\n",
    "    plt.show()"
   ]
  },
  {
   "cell_type": "code",
   "execution_count": 14,
   "metadata": {},
   "outputs": [],
   "source": [
    "y_1 = data_colour['transactions']\n",
    "y_2 = data_colour['sales']\n",
    "data_x= data_colour.index"
   ]
  },
  {
   "cell_type": "code",
   "execution_count": 15,
   "metadata": {},
   "outputs": [
    {
     "data": {
      "image/png": "[encoded data removed]",
      "text/plain": [
       "<Figure size 576x576 with 2 Axes>"
      ]
     },
     "metadata": {},
     "output_type": "display_data"
    }
   ],
   "source": [
    "create_dual(y_1,y_2,data_x)    ## Function call"
   ]
  },
  {
   "cell_type": "markdown",
   "metadata": {},
   "source": [
    "## GroupBy multiple columns"
   ]
  },
  {
   "cell_type": "markdown",
   "metadata": {},
   "source": [
    "###  Groupby two columns and aggregation"
   ]
  },
  {
   "cell_type": "code",
   "execution_count": 16,
   "metadata": {},
   "outputs": [],
   "source": [
    "data_prod_colour_index=data_sales.groupby(['product','colour'], as_index=True).sum()         # Note: as_index=True"
   ]
  },
  {
   "cell_type": "code",
   "execution_count": 17,
   "metadata": {},
   "outputs": [
    {
     "data": {
      "text/html": [
       "<div>\n",
       "<style scoped>\n",
       "    .dataframe tbody tr th:only-of-type {\n",
       "        vertical-align: middle;\n",
       "    }\n",
       "\n",
       "    .dataframe tbody tr th {\n",
       "        vertical-align: top;\n",
       "    }\n",
       "\n",
       "    .dataframe thead th {\n",
       "        text-align: right;\n",
       "    }\n",
       "</style>\n",
       "<table border=\"1\" class=\"dataframe\">\n",
       "  <thead>\n",
       "    <tr style=\"text-align: right;\">\n",
       "      <th></th>\n",
       "      <th></th>\n",
       "      <th>sales</th>\n",
       "      <th>transactions</th>\n",
       "    </tr>\n",
       "    <tr>\n",
       "      <th>product</th>\n",
       "      <th>colour</th>\n",
       "      <th></th>\n",
       "      <th></th>\n",
       "    </tr>\n",
       "  </thead>\n",
       "  <tbody>\n",
       "    <tr>\n",
       "      <th rowspan=\"4\" valign=\"top\">type A</th>\n",
       "      <th>Black</th>\n",
       "      <td>295000</td>\n",
       "      <td>270</td>\n",
       "    </tr>\n",
       "    <tr>\n",
       "      <th>Blue</th>\n",
       "      <td>200000</td>\n",
       "      <td>890</td>\n",
       "    </tr>\n",
       "    <tr>\n",
       "      <th>Red</th>\n",
       "      <td>390000</td>\n",
       "      <td>1170</td>\n",
       "    </tr>\n",
       "    <tr>\n",
       "      <th>Yellow</th>\n",
       "      <td>550000</td>\n",
       "      <td>580</td>\n",
       "    </tr>\n",
       "    <tr>\n",
       "      <th rowspan=\"4\" valign=\"top\">type B</th>\n",
       "      <th>Black</th>\n",
       "      <td>350000</td>\n",
       "      <td>410</td>\n",
       "    </tr>\n",
       "    <tr>\n",
       "      <th>Blue</th>\n",
       "      <td>702000</td>\n",
       "      <td>510</td>\n",
       "    </tr>\n",
       "    <tr>\n",
       "      <th>Red</th>\n",
       "      <td>570000</td>\n",
       "      <td>1310</td>\n",
       "    </tr>\n",
       "    <tr>\n",
       "      <th>Yellow</th>\n",
       "      <td>90100</td>\n",
       "      <td>980</td>\n",
       "    </tr>\n",
       "  </tbody>\n",
       "</table>\n",
       "</div>"
      ],
      "text/plain": [
       "                 sales  transactions\n",
       "product colour                      \n",
       "type A  Black   295000           270\n",
       "        Blue    200000           890\n",
       "        Red     390000          1170\n",
       "        Yellow  550000           580\n",
       "type B  Black   350000           410\n",
       "        Blue    702000           510\n",
       "        Red     570000          1310\n",
       "        Yellow   90100           980"
      ]
     },
     "execution_count": 17,
     "metadata": {},
     "output_type": "execute_result"
    }
   ],
   "source": [
    "data_prod_colour_index"
   ]
  },
  {
   "cell_type": "raw",
   "metadata": {},
   "source": [
    "Groupby without index as grouped column"
   ]
  },
  {
   "cell_type": "code",
   "execution_count": 18,
   "metadata": {},
   "outputs": [
    {
     "data": {
      "text/html": [
       "<div>\n",
       "<style scoped>\n",
       "    .dataframe tbody tr th:only-of-type {\n",
       "        vertical-align: middle;\n",
       "    }\n",
       "\n",
       "    .dataframe tbody tr th {\n",
       "        vertical-align: top;\n",
       "    }\n",
       "\n",
       "    .dataframe thead th {\n",
       "        text-align: right;\n",
       "    }\n",
       "</style>\n",
       "<table border=\"1\" class=\"dataframe\">\n",
       "  <thead>\n",
       "    <tr style=\"text-align: right;\">\n",
       "      <th></th>\n",
       "      <th>product</th>\n",
       "      <th>colour</th>\n",
       "      <th>sales</th>\n",
       "      <th>transactions</th>\n",
       "    </tr>\n",
       "  </thead>\n",
       "  <tbody>\n",
       "    <tr>\n",
       "      <th>0</th>\n",
       "      <td>type A</td>\n",
       "      <td>Black</td>\n",
       "      <td>295000</td>\n",
       "      <td>270</td>\n",
       "    </tr>\n",
       "    <tr>\n",
       "      <th>1</th>\n",
       "      <td>type A</td>\n",
       "      <td>Blue</td>\n",
       "      <td>200000</td>\n",
       "      <td>890</td>\n",
       "    </tr>\n",
       "    <tr>\n",
       "      <th>2</th>\n",
       "      <td>type A</td>\n",
       "      <td>Red</td>\n",
       "      <td>390000</td>\n",
       "      <td>1170</td>\n",
       "    </tr>\n",
       "    <tr>\n",
       "      <th>3</th>\n",
       "      <td>type A</td>\n",
       "      <td>Yellow</td>\n",
       "      <td>550000</td>\n",
       "      <td>580</td>\n",
       "    </tr>\n",
       "    <tr>\n",
       "      <th>4</th>\n",
       "      <td>type B</td>\n",
       "      <td>Black</td>\n",
       "      <td>350000</td>\n",
       "      <td>410</td>\n",
       "    </tr>\n",
       "    <tr>\n",
       "      <th>5</th>\n",
       "      <td>type B</td>\n",
       "      <td>Blue</td>\n",
       "      <td>702000</td>\n",
       "      <td>510</td>\n",
       "    </tr>\n",
       "    <tr>\n",
       "      <th>6</th>\n",
       "      <td>type B</td>\n",
       "      <td>Red</td>\n",
       "      <td>570000</td>\n",
       "      <td>1310</td>\n",
       "    </tr>\n",
       "    <tr>\n",
       "      <th>7</th>\n",
       "      <td>type B</td>\n",
       "      <td>Yellow</td>\n",
       "      <td>90100</td>\n",
       "      <td>980</td>\n",
       "    </tr>\n",
       "  </tbody>\n",
       "</table>\n",
       "</div>"
      ],
      "text/plain": [
       "  product  colour   sales  transactions\n",
       "0  type A   Black  295000           270\n",
       "1  type A    Blue  200000           890\n",
       "2  type A     Red  390000          1170\n",
       "3  type A  Yellow  550000           580\n",
       "4  type B   Black  350000           410\n",
       "5  type B    Blue  702000           510\n",
       "6  type B     Red  570000          1310\n",
       "7  type B  Yellow   90100           980"
      ]
     },
     "execution_count": 18,
     "metadata": {},
     "output_type": "execute_result"
    }
   ],
   "source": [
    "data_prod_colour_Noindex = data_sales.groupby(['product','colour'],as_index=False).sum()\n",
    "\n",
    "data_prod_colour_Noindex"
   ]
  },
  {
   "cell_type": "markdown",
   "metadata": {},
   "source": [
    "### Concat Categorical Columns and then GroupBy the Concatenated Column"
   ]
  },
  {
   "cell_type": "code",
   "execution_count": 19,
   "metadata": {},
   "outputs": [],
   "source": [
    "data_sales['product*colour']=data_sales['product']+'-'+data_sales['colour']"
   ]
  },
  {
   "cell_type": "code",
   "execution_count": 20,
   "metadata": {},
   "outputs": [],
   "source": [
    "data_concat= data_sales.groupby('product*colour',as_index=True).sum()"
   ]
  },
  {
   "cell_type": "code",
   "execution_count": 21,
   "metadata": {},
   "outputs": [
    {
     "data": {
      "text/html": [
       "<div>\n",
       "<style scoped>\n",
       "    .dataframe tbody tr th:only-of-type {\n",
       "        vertical-align: middle;\n",
       "    }\n",
       "\n",
       "    .dataframe tbody tr th {\n",
       "        vertical-align: top;\n",
       "    }\n",
       "\n",
       "    .dataframe thead th {\n",
       "        text-align: right;\n",
       "    }\n",
       "</style>\n",
       "<table border=\"1\" class=\"dataframe\">\n",
       "  <thead>\n",
       "    <tr style=\"text-align: right;\">\n",
       "      <th></th>\n",
       "      <th>sales</th>\n",
       "      <th>transactions</th>\n",
       "    </tr>\n",
       "    <tr>\n",
       "      <th>product*colour</th>\n",
       "      <th></th>\n",
       "      <th></th>\n",
       "    </tr>\n",
       "  </thead>\n",
       "  <tbody>\n",
       "    <tr>\n",
       "      <th>type A-Black</th>\n",
       "      <td>295000</td>\n",
       "      <td>270</td>\n",
       "    </tr>\n",
       "    <tr>\n",
       "      <th>type A-Blue</th>\n",
       "      <td>200000</td>\n",
       "      <td>890</td>\n",
       "    </tr>\n",
       "    <tr>\n",
       "      <th>type A-Red</th>\n",
       "      <td>390000</td>\n",
       "      <td>1170</td>\n",
       "    </tr>\n",
       "    <tr>\n",
       "      <th>type A-Yellow</th>\n",
       "      <td>550000</td>\n",
       "      <td>580</td>\n",
       "    </tr>\n",
       "    <tr>\n",
       "      <th>type B-Black</th>\n",
       "      <td>350000</td>\n",
       "      <td>410</td>\n",
       "    </tr>\n",
       "    <tr>\n",
       "      <th>type B-Blue</th>\n",
       "      <td>702000</td>\n",
       "      <td>510</td>\n",
       "    </tr>\n",
       "    <tr>\n",
       "      <th>type B-Red</th>\n",
       "      <td>570000</td>\n",
       "      <td>1310</td>\n",
       "    </tr>\n",
       "    <tr>\n",
       "      <th>type B-Yellow</th>\n",
       "      <td>90100</td>\n",
       "      <td>980</td>\n",
       "    </tr>\n",
       "  </tbody>\n",
       "</table>\n",
       "</div>"
      ],
      "text/plain": [
       "                 sales  transactions\n",
       "product*colour                      \n",
       "type A-Black    295000           270\n",
       "type A-Blue     200000           890\n",
       "type A-Red      390000          1170\n",
       "type A-Yellow   550000           580\n",
       "type B-Black    350000           410\n",
       "type B-Blue     702000           510\n",
       "type B-Red      570000          1310\n",
       "type B-Yellow    90100           980"
      ]
     },
     "execution_count": 21,
     "metadata": {},
     "output_type": "execute_result"
    }
   ],
   "source": [
    "data_concat"
   ]
  },
  {
   "cell_type": "code",
   "execution_count": 22,
   "metadata": {},
   "outputs": [
    {
     "data": {
      "text/plain": [
       "['type A-Black',\n",
       " 'type A-Blue',\n",
       " 'type A-Red',\n",
       " 'type A-Yellow',\n",
       " 'type B-Black',\n",
       " 'type B-Blue',\n",
       " 'type B-Red',\n",
       " 'type B-Yellow']"
      ]
     },
     "execution_count": 22,
     "metadata": {},
     "output_type": "execute_result"
    }
   ],
   "source": [
    "list(data_concat.index)"
   ]
  },
  {
   "cell_type": "code",
   "execution_count": 23,
   "metadata": {},
   "outputs": [
    {
     "data": {
      "image/png": "[encoded data removed]",
      "text/plain": [
       "<Figure size 576x576 with 2 Axes>"
      ]
     },
     "metadata": {},
     "output_type": "display_data"
    }
   ],
   "source": [
    " create_dual(data_concat['sales'],data_concat['transactions'],data_concat.index)"
   ]
  },
  {
   "cell_type": "code",
   "execution_count": 24,
   "metadata": {},
   "outputs": [],
   "source": [
    "## Custom Aggregation in GroupBy using Dictionaries. Without Groupby column as Index ('as_index=0')."
   ]
  },
  {
   "cell_type": "code",
   "execution_count": 25,
   "metadata": {},
   "outputs": [],
   "source": [
    "data_prod_colour_agg_NoGpIndex = data_sales.groupby(['product','colour'], as_index=0).agg({'sales': 'sum', 'transactions':'median'})"
   ]
  },
  {
   "cell_type": "code",
   "execution_count": 26,
   "metadata": {},
   "outputs": [
    {
     "data": {
      "text/html": [
       "<div>\n",
       "<style scoped>\n",
       "    .dataframe tbody tr th:only-of-type {\n",
       "        vertical-align: middle;\n",
       "    }\n",
       "\n",
       "    .dataframe tbody tr th {\n",
       "        vertical-align: top;\n",
       "    }\n",
       "\n",
       "    .dataframe thead th {\n",
       "        text-align: right;\n",
       "    }\n",
       "</style>\n",
       "<table border=\"1\" class=\"dataframe\">\n",
       "  <thead>\n",
       "    <tr style=\"text-align: right;\">\n",
       "      <th></th>\n",
       "      <th>product</th>\n",
       "      <th>colour</th>\n",
       "      <th>sales</th>\n",
       "      <th>transactions</th>\n",
       "    </tr>\n",
       "  </thead>\n",
       "  <tbody>\n",
       "    <tr>\n",
       "      <th>0</th>\n",
       "      <td>type A</td>\n",
       "      <td>Black</td>\n",
       "      <td>295000</td>\n",
       "      <td>135</td>\n",
       "    </tr>\n",
       "    <tr>\n",
       "      <th>1</th>\n",
       "      <td>type A</td>\n",
       "      <td>Blue</td>\n",
       "      <td>200000</td>\n",
       "      <td>445</td>\n",
       "    </tr>\n",
       "    <tr>\n",
       "      <th>2</th>\n",
       "      <td>type A</td>\n",
       "      <td>Red</td>\n",
       "      <td>390000</td>\n",
       "      <td>585</td>\n",
       "    </tr>\n",
       "    <tr>\n",
       "      <th>3</th>\n",
       "      <td>type A</td>\n",
       "      <td>Yellow</td>\n",
       "      <td>550000</td>\n",
       "      <td>230</td>\n",
       "    </tr>\n",
       "    <tr>\n",
       "      <th>4</th>\n",
       "      <td>type B</td>\n",
       "      <td>Black</td>\n",
       "      <td>350000</td>\n",
       "      <td>205</td>\n",
       "    </tr>\n",
       "    <tr>\n",
       "      <th>5</th>\n",
       "      <td>type B</td>\n",
       "      <td>Blue</td>\n",
       "      <td>702000</td>\n",
       "      <td>150</td>\n",
       "    </tr>\n",
       "    <tr>\n",
       "      <th>6</th>\n",
       "      <td>type B</td>\n",
       "      <td>Red</td>\n",
       "      <td>570000</td>\n",
       "      <td>280</td>\n",
       "    </tr>\n",
       "    <tr>\n",
       "      <th>7</th>\n",
       "      <td>type B</td>\n",
       "      <td>Yellow</td>\n",
       "      <td>90100</td>\n",
       "      <td>980</td>\n",
       "    </tr>\n",
       "  </tbody>\n",
       "</table>\n",
       "</div>"
      ],
      "text/plain": [
       "  product  colour   sales  transactions\n",
       "0  type A   Black  295000           135\n",
       "1  type A    Blue  200000           445\n",
       "2  type A     Red  390000           585\n",
       "3  type A  Yellow  550000           230\n",
       "4  type B   Black  350000           205\n",
       "5  type B    Blue  702000           150\n",
       "6  type B     Red  570000           280\n",
       "7  type B  Yellow   90100           980"
      ]
     },
     "execution_count": 26,
     "metadata": {},
     "output_type": "execute_result"
    }
   ],
   "source": [
    "data_prod_colour_agg_NoGpIndex"
   ]
  },
  {
   "cell_type": "raw",
   "metadata": {},
   "source": [
    "## Custom Aggregation with GroupBy using Dictionary as a parameter inside aggregation function 'agg()'. With GroupBy column as index"
   ]
  },
  {
   "cell_type": "code",
   "execution_count": 27,
   "metadata": {},
   "outputs": [
    {
     "data": {
      "text/html": [
       "<div>\n",
       "<style scoped>\n",
       "    .dataframe tbody tr th:only-of-type {\n",
       "        vertical-align: middle;\n",
       "    }\n",
       "\n",
       "    .dataframe tbody tr th {\n",
       "        vertical-align: top;\n",
       "    }\n",
       "\n",
       "    .dataframe thead tr th {\n",
       "        text-align: left;\n",
       "    }\n",
       "\n",
       "    .dataframe thead tr:last-of-type th {\n",
       "        text-align: right;\n",
       "    }\n",
       "</style>\n",
       "<table border=\"1\" class=\"dataframe\">\n",
       "  <thead>\n",
       "    <tr>\n",
       "      <th></th>\n",
       "      <th></th>\n",
       "      <th>sales</th>\n",
       "      <th colspan=\"2\" halign=\"left\">transactions</th>\n",
       "    </tr>\n",
       "    <tr>\n",
       "      <th></th>\n",
       "      <th></th>\n",
       "      <th>sum</th>\n",
       "      <th>median</th>\n",
       "      <th>count</th>\n",
       "    </tr>\n",
       "    <tr>\n",
       "      <th>product</th>\n",
       "      <th>colour</th>\n",
       "      <th></th>\n",
       "      <th></th>\n",
       "      <th></th>\n",
       "    </tr>\n",
       "  </thead>\n",
       "  <tbody>\n",
       "    <tr>\n",
       "      <th rowspan=\"4\" valign=\"top\">type A</th>\n",
       "      <th>Black</th>\n",
       "      <td>295000</td>\n",
       "      <td>135</td>\n",
       "      <td>2</td>\n",
       "    </tr>\n",
       "    <tr>\n",
       "      <th>Blue</th>\n",
       "      <td>200000</td>\n",
       "      <td>445</td>\n",
       "      <td>2</td>\n",
       "    </tr>\n",
       "    <tr>\n",
       "      <th>Red</th>\n",
       "      <td>390000</td>\n",
       "      <td>585</td>\n",
       "      <td>2</td>\n",
       "    </tr>\n",
       "    <tr>\n",
       "      <th>Yellow</th>\n",
       "      <td>550000</td>\n",
       "      <td>230</td>\n",
       "      <td>3</td>\n",
       "    </tr>\n",
       "    <tr>\n",
       "      <th rowspan=\"4\" valign=\"top\">type B</th>\n",
       "      <th>Black</th>\n",
       "      <td>350000</td>\n",
       "      <td>205</td>\n",
       "      <td>2</td>\n",
       "    </tr>\n",
       "    <tr>\n",
       "      <th>Blue</th>\n",
       "      <td>702000</td>\n",
       "      <td>150</td>\n",
       "      <td>3</td>\n",
       "    </tr>\n",
       "    <tr>\n",
       "      <th>Red</th>\n",
       "      <td>570000</td>\n",
       "      <td>280</td>\n",
       "      <td>3</td>\n",
       "    </tr>\n",
       "    <tr>\n",
       "      <th>Yellow</th>\n",
       "      <td>90100</td>\n",
       "      <td>980</td>\n",
       "      <td>1</td>\n",
       "    </tr>\n",
       "  </tbody>\n",
       "</table>\n",
       "</div>"
      ],
      "text/plain": [
       "                 sales transactions      \n",
       "                   sum       median count\n",
       "product colour                           \n",
       "type A  Black   295000          135     2\n",
       "        Blue    200000          445     2\n",
       "        Red     390000          585     2\n",
       "        Yellow  550000          230     3\n",
       "type B  Black   350000          205     2\n",
       "        Blue    702000          150     3\n",
       "        Red     570000          280     3\n",
       "        Yellow   90100          980     1"
      ]
     },
     "execution_count": 27,
     "metadata": {},
     "output_type": "execute_result"
    }
   ],
   "source": [
    "data_sales.groupby(['product','colour'], as_index=True).agg({'sales': np.sum, 'transactions':[np.median,'count']})"
   ]
  },
  {
   "cell_type": "markdown",
   "metadata": {},
   "source": [
    "# Transformation"
   ]
  },
  {
   "cell_type": "code",
   "execution_count": 28,
   "metadata": {},
   "outputs": [],
   "source": [
    "sales_trial=data_sales"
   ]
  },
  {
   "cell_type": "code",
   "execution_count": 29,
   "metadata": {},
   "outputs": [],
   "source": [
    "sales_trial['RevPerTrans']=sales_trial['sales']/sales_trial['transactions']"
   ]
  },
  {
   "cell_type": "code",
   "execution_count": 30,
   "metadata": {},
   "outputs": [
    {
     "data": {
      "text/html": [
       "<div>\n",
       "<style scoped>\n",
       "    .dataframe tbody tr th:only-of-type {\n",
       "        vertical-align: middle;\n",
       "    }\n",
       "\n",
       "    .dataframe tbody tr th {\n",
       "        vertical-align: top;\n",
       "    }\n",
       "\n",
       "    .dataframe thead th {\n",
       "        text-align: right;\n",
       "    }\n",
       "</style>\n",
       "<table border=\"1\" class=\"dataframe\">\n",
       "  <thead>\n",
       "    <tr style=\"text-align: right;\">\n",
       "      <th></th>\n",
       "      <th>colour</th>\n",
       "      <th>sales</th>\n",
       "      <th>transactions</th>\n",
       "      <th>product</th>\n",
       "      <th>product*colour</th>\n",
       "      <th>RevPerTrans</th>\n",
       "    </tr>\n",
       "  </thead>\n",
       "  <tbody>\n",
       "    <tr>\n",
       "      <th>0</th>\n",
       "      <td>Yellow</td>\n",
       "      <td>100000</td>\n",
       "      <td>100</td>\n",
       "      <td>type A</td>\n",
       "      <td>type A-Yellow</td>\n",
       "      <td>1000.000000</td>\n",
       "    </tr>\n",
       "    <tr>\n",
       "      <th>1</th>\n",
       "      <td>Black</td>\n",
       "      <td>150000</td>\n",
       "      <td>150</td>\n",
       "      <td>type A</td>\n",
       "      <td>type A-Black</td>\n",
       "      <td>1000.000000</td>\n",
       "    </tr>\n",
       "    <tr>\n",
       "      <th>2</th>\n",
       "      <td>Blue</td>\n",
       "      <td>80000</td>\n",
       "      <td>820</td>\n",
       "      <td>type A</td>\n",
       "      <td>type A-Blue</td>\n",
       "      <td>97.560976</td>\n",
       "    </tr>\n",
       "    <tr>\n",
       "      <th>3</th>\n",
       "      <td>Red</td>\n",
       "      <td>90000</td>\n",
       "      <td>920</td>\n",
       "      <td>type A</td>\n",
       "      <td>type A-Red</td>\n",
       "      <td>97.826087</td>\n",
       "    </tr>\n",
       "    <tr>\n",
       "      <th>4</th>\n",
       "      <td>Yellow</td>\n",
       "      <td>200000</td>\n",
       "      <td>230</td>\n",
       "      <td>type A</td>\n",
       "      <td>type A-Yellow</td>\n",
       "      <td>869.565217</td>\n",
       "    </tr>\n",
       "    <tr>\n",
       "      <th>5</th>\n",
       "      <td>Black</td>\n",
       "      <td>145000</td>\n",
       "      <td>120</td>\n",
       "      <td>type A</td>\n",
       "      <td>type A-Black</td>\n",
       "      <td>1208.333333</td>\n",
       "    </tr>\n",
       "    <tr>\n",
       "      <th>6</th>\n",
       "      <td>Blue</td>\n",
       "      <td>120000</td>\n",
       "      <td>70</td>\n",
       "      <td>type A</td>\n",
       "      <td>type A-Blue</td>\n",
       "      <td>1714.285714</td>\n",
       "    </tr>\n",
       "    <tr>\n",
       "      <th>7</th>\n",
       "      <td>Red</td>\n",
       "      <td>300000</td>\n",
       "      <td>250</td>\n",
       "      <td>type A</td>\n",
       "      <td>type A-Red</td>\n",
       "      <td>1200.000000</td>\n",
       "    </tr>\n",
       "    <tr>\n",
       "      <th>8</th>\n",
       "      <td>Yellow</td>\n",
       "      <td>250000</td>\n",
       "      <td>250</td>\n",
       "      <td>type A</td>\n",
       "      <td>type A-Yellow</td>\n",
       "      <td>1000.000000</td>\n",
       "    </tr>\n",
       "    <tr>\n",
       "      <th>9</th>\n",
       "      <td>Black</td>\n",
       "      <td>200000</td>\n",
       "      <td>110</td>\n",
       "      <td>type B</td>\n",
       "      <td>type B-Black</td>\n",
       "      <td>1818.181818</td>\n",
       "    </tr>\n",
       "    <tr>\n",
       "      <th>10</th>\n",
       "      <td>Blue</td>\n",
       "      <td>160000</td>\n",
       "      <td>130</td>\n",
       "      <td>type B</td>\n",
       "      <td>type B-Blue</td>\n",
       "      <td>1230.769231</td>\n",
       "    </tr>\n",
       "    <tr>\n",
       "      <th>11</th>\n",
       "      <td>Red</td>\n",
       "      <td>90000</td>\n",
       "      <td>860</td>\n",
       "      <td>type B</td>\n",
       "      <td>type B-Red</td>\n",
       "      <td>104.651163</td>\n",
       "    </tr>\n",
       "    <tr>\n",
       "      <th>12</th>\n",
       "      <td>Yellow</td>\n",
       "      <td>90100</td>\n",
       "      <td>980</td>\n",
       "      <td>type B</td>\n",
       "      <td>type B-Yellow</td>\n",
       "      <td>91.938776</td>\n",
       "    </tr>\n",
       "    <tr>\n",
       "      <th>13</th>\n",
       "      <td>Black</td>\n",
       "      <td>150000</td>\n",
       "      <td>300</td>\n",
       "      <td>type B</td>\n",
       "      <td>type B-Black</td>\n",
       "      <td>500.000000</td>\n",
       "    </tr>\n",
       "    <tr>\n",
       "      <th>14</th>\n",
       "      <td>Blue</td>\n",
       "      <td>142000</td>\n",
       "      <td>150</td>\n",
       "      <td>type B</td>\n",
       "      <td>type B-Blue</td>\n",
       "      <td>946.666667</td>\n",
       "    </tr>\n",
       "    <tr>\n",
       "      <th>15</th>\n",
       "      <td>Red</td>\n",
       "      <td>130000</td>\n",
       "      <td>170</td>\n",
       "      <td>type B</td>\n",
       "      <td>type B-Red</td>\n",
       "      <td>764.705882</td>\n",
       "    </tr>\n",
       "    <tr>\n",
       "      <th>16</th>\n",
       "      <td>Blue</td>\n",
       "      <td>400000</td>\n",
       "      <td>230</td>\n",
       "      <td>type B</td>\n",
       "      <td>type B-Blue</td>\n",
       "      <td>1739.130435</td>\n",
       "    </tr>\n",
       "    <tr>\n",
       "      <th>17</th>\n",
       "      <td>Red</td>\n",
       "      <td>350000</td>\n",
       "      <td>280</td>\n",
       "      <td>type B</td>\n",
       "      <td>type B-Red</td>\n",
       "      <td>1250.000000</td>\n",
       "    </tr>\n",
       "  </tbody>\n",
       "</table>\n",
       "</div>"
      ],
      "text/plain": [
       "    colour   sales  transactions product product*colour  RevPerTrans\n",
       "0   Yellow  100000           100  type A  type A-Yellow  1000.000000\n",
       "1    Black  150000           150  type A   type A-Black  1000.000000\n",
       "2     Blue   80000           820  type A    type A-Blue    97.560976\n",
       "3      Red   90000           920  type A     type A-Red    97.826087\n",
       "4   Yellow  200000           230  type A  type A-Yellow   869.565217\n",
       "5    Black  145000           120  type A   type A-Black  1208.333333\n",
       "6     Blue  120000            70  type A    type A-Blue  1714.285714\n",
       "7      Red  300000           250  type A     type A-Red  1200.000000\n",
       "8   Yellow  250000           250  type A  type A-Yellow  1000.000000\n",
       "9    Black  200000           110  type B   type B-Black  1818.181818\n",
       "10    Blue  160000           130  type B    type B-Blue  1230.769231\n",
       "11     Red   90000           860  type B     type B-Red   104.651163\n",
       "12  Yellow   90100           980  type B  type B-Yellow    91.938776\n",
       "13   Black  150000           300  type B   type B-Black   500.000000\n",
       "14    Blue  142000           150  type B    type B-Blue   946.666667\n",
       "15     Red  130000           170  type B     type B-Red   764.705882\n",
       "16    Blue  400000           230  type B    type B-Blue  1739.130435\n",
       "17     Red  350000           280  type B     type B-Red  1250.000000"
      ]
     },
     "execution_count": 30,
     "metadata": {},
     "output_type": "execute_result"
    }
   ],
   "source": [
    "sales_trial"
   ]
  },
  {
   "cell_type": "code",
   "execution_count": 31,
   "metadata": {},
   "outputs": [],
   "source": [
    "def standard(series):\n",
    "    stdsd= (series - series.mean())/series.std()\n",
    "    return(stdsd)"
   ]
  },
  {
   "cell_type": "code",
   "execution_count": 32,
   "metadata": {},
   "outputs": [
    {
     "data": {
      "text/plain": [
       "0    -0.782891\n",
       "1    -0.124385\n",
       "2    -1.046293\n",
       "3    -0.914592\n",
       "4     0.534122\n",
       "5    -0.190235\n",
       "6    -0.519488\n",
       "7     1.851134\n",
       "8     1.192628\n",
       "9     0.088160\n",
       "10   -0.272905\n",
       "11   -0.904769\n",
       "12   -0.903867\n",
       "13   -0.363171\n",
       "14   -0.435385\n",
       "15   -0.543704\n",
       "16    1.893486\n",
       "17    1.442155\n",
       "Name: sales, dtype: float64"
      ]
     },
     "execution_count": 32,
     "metadata": {},
     "output_type": "execute_result"
    }
   ],
   "source": [
    "sales_trial.groupby('product')['sales'].transform(standard)"
   ]
  },
  {
   "cell_type": "code",
   "execution_count": 33,
   "metadata": {},
   "outputs": [],
   "source": [
    "### Apply the transform function (standard deviation:std()) on the sales column grouped by product column\n",
    "\n",
    "### It is to be noted that the output has the same number of rows as in input"
   ]
  },
  {
   "cell_type": "code",
   "execution_count": 34,
   "metadata": {},
   "outputs": [],
   "source": [
    "data_sales['sales_product_std'] = data_sales.groupby('product',as_index=True)['sales'].transform('std')"
   ]
  },
  {
   "cell_type": "code",
   "execution_count": 35,
   "metadata": {},
   "outputs": [
    {
     "data": {
      "text/html": [
       "<div>\n",
       "<style scoped>\n",
       "    .dataframe tbody tr th:only-of-type {\n",
       "        vertical-align: middle;\n",
       "    }\n",
       "\n",
       "    .dataframe tbody tr th {\n",
       "        vertical-align: top;\n",
       "    }\n",
       "\n",
       "    .dataframe thead th {\n",
       "        text-align: right;\n",
       "    }\n",
       "</style>\n",
       "<table border=\"1\" class=\"dataframe\">\n",
       "  <thead>\n",
       "    <tr style=\"text-align: right;\">\n",
       "      <th></th>\n",
       "      <th>colour</th>\n",
       "      <th>product</th>\n",
       "      <th>sales</th>\n",
       "      <th>transactions</th>\n",
       "      <th>sales_product_std</th>\n",
       "    </tr>\n",
       "  </thead>\n",
       "  <tbody>\n",
       "    <tr>\n",
       "      <th>0</th>\n",
       "      <td>Yellow</td>\n",
       "      <td>type A</td>\n",
       "      <td>100000</td>\n",
       "      <td>100</td>\n",
       "      <td>75929.426297</td>\n",
       "    </tr>\n",
       "    <tr>\n",
       "      <th>1</th>\n",
       "      <td>Black</td>\n",
       "      <td>type A</td>\n",
       "      <td>150000</td>\n",
       "      <td>150</td>\n",
       "      <td>75929.426297</td>\n",
       "    </tr>\n",
       "    <tr>\n",
       "      <th>2</th>\n",
       "      <td>Blue</td>\n",
       "      <td>type A</td>\n",
       "      <td>80000</td>\n",
       "      <td>820</td>\n",
       "      <td>75929.426297</td>\n",
       "    </tr>\n",
       "    <tr>\n",
       "      <th>3</th>\n",
       "      <td>Red</td>\n",
       "      <td>type A</td>\n",
       "      <td>90000</td>\n",
       "      <td>920</td>\n",
       "      <td>75929.426297</td>\n",
       "    </tr>\n",
       "    <tr>\n",
       "      <th>4</th>\n",
       "      <td>Yellow</td>\n",
       "      <td>type A</td>\n",
       "      <td>200000</td>\n",
       "      <td>230</td>\n",
       "      <td>75929.426297</td>\n",
       "    </tr>\n",
       "    <tr>\n",
       "      <th>5</th>\n",
       "      <td>Black</td>\n",
       "      <td>type A</td>\n",
       "      <td>145000</td>\n",
       "      <td>120</td>\n",
       "      <td>75929.426297</td>\n",
       "    </tr>\n",
       "    <tr>\n",
       "      <th>6</th>\n",
       "      <td>Blue</td>\n",
       "      <td>type A</td>\n",
       "      <td>120000</td>\n",
       "      <td>70</td>\n",
       "      <td>75929.426297</td>\n",
       "    </tr>\n",
       "    <tr>\n",
       "      <th>7</th>\n",
       "      <td>Red</td>\n",
       "      <td>type A</td>\n",
       "      <td>300000</td>\n",
       "      <td>250</td>\n",
       "      <td>75929.426297</td>\n",
       "    </tr>\n",
       "    <tr>\n",
       "      <th>8</th>\n",
       "      <td>Yellow</td>\n",
       "      <td>type A</td>\n",
       "      <td>250000</td>\n",
       "      <td>250</td>\n",
       "      <td>75929.426297</td>\n",
       "    </tr>\n",
       "    <tr>\n",
       "      <th>9</th>\n",
       "      <td>Black</td>\n",
       "      <td>type B</td>\n",
       "      <td>200000</td>\n",
       "      <td>110</td>\n",
       "      <td>110783.301991</td>\n",
       "    </tr>\n",
       "    <tr>\n",
       "      <th>10</th>\n",
       "      <td>Blue</td>\n",
       "      <td>type B</td>\n",
       "      <td>160000</td>\n",
       "      <td>130</td>\n",
       "      <td>110783.301991</td>\n",
       "    </tr>\n",
       "    <tr>\n",
       "      <th>11</th>\n",
       "      <td>Red</td>\n",
       "      <td>type B</td>\n",
       "      <td>90000</td>\n",
       "      <td>860</td>\n",
       "      <td>110783.301991</td>\n",
       "    </tr>\n",
       "    <tr>\n",
       "      <th>12</th>\n",
       "      <td>Yellow</td>\n",
       "      <td>type B</td>\n",
       "      <td>90100</td>\n",
       "      <td>980</td>\n",
       "      <td>110783.301991</td>\n",
       "    </tr>\n",
       "    <tr>\n",
       "      <th>13</th>\n",
       "      <td>Black</td>\n",
       "      <td>type B</td>\n",
       "      <td>150000</td>\n",
       "      <td>300</td>\n",
       "      <td>110783.301991</td>\n",
       "    </tr>\n",
       "    <tr>\n",
       "      <th>14</th>\n",
       "      <td>Blue</td>\n",
       "      <td>type B</td>\n",
       "      <td>142000</td>\n",
       "      <td>150</td>\n",
       "      <td>110783.301991</td>\n",
       "    </tr>\n",
       "    <tr>\n",
       "      <th>15</th>\n",
       "      <td>Red</td>\n",
       "      <td>type B</td>\n",
       "      <td>130000</td>\n",
       "      <td>170</td>\n",
       "      <td>110783.301991</td>\n",
       "    </tr>\n",
       "    <tr>\n",
       "      <th>16</th>\n",
       "      <td>Blue</td>\n",
       "      <td>type B</td>\n",
       "      <td>400000</td>\n",
       "      <td>230</td>\n",
       "      <td>110783.301991</td>\n",
       "    </tr>\n",
       "    <tr>\n",
       "      <th>17</th>\n",
       "      <td>Red</td>\n",
       "      <td>type B</td>\n",
       "      <td>350000</td>\n",
       "      <td>280</td>\n",
       "      <td>110783.301991</td>\n",
       "    </tr>\n",
       "  </tbody>\n",
       "</table>\n",
       "</div>"
      ],
      "text/plain": [
       "    colour product   sales  transactions  sales_product_std\n",
       "0   Yellow  type A  100000           100       75929.426297\n",
       "1    Black  type A  150000           150       75929.426297\n",
       "2     Blue  type A   80000           820       75929.426297\n",
       "3      Red  type A   90000           920       75929.426297\n",
       "4   Yellow  type A  200000           230       75929.426297\n",
       "5    Black  type A  145000           120       75929.426297\n",
       "6     Blue  type A  120000            70       75929.426297\n",
       "7      Red  type A  300000           250       75929.426297\n",
       "8   Yellow  type A  250000           250       75929.426297\n",
       "9    Black  type B  200000           110      110783.301991\n",
       "10    Blue  type B  160000           130      110783.301991\n",
       "11     Red  type B   90000           860      110783.301991\n",
       "12  Yellow  type B   90100           980      110783.301991\n",
       "13   Black  type B  150000           300      110783.301991\n",
       "14    Blue  type B  142000           150      110783.301991\n",
       "15     Red  type B  130000           170      110783.301991\n",
       "16    Blue  type B  400000           230      110783.301991\n",
       "17     Red  type B  350000           280      110783.301991"
      ]
     },
     "execution_count": 35,
     "metadata": {},
     "output_type": "execute_result"
    }
   ],
   "source": [
    "data_sales.loc[:,['colour','product','sales','transactions', 'sales_product_std']]"
   ]
  },
  {
   "cell_type": "code",
   "execution_count": 36,
   "metadata": {},
   "outputs": [
    {
     "name": "stdout",
     "output_type": "stream",
     "text": [
      "    colour   sales  sales_stdzed_colour\n",
      "0   Yellow  100000            -0.770946\n",
      "1    Black  150000            -0.433682\n",
      "2     Blue   80000            -0.794706\n",
      "3      Red   90000            -0.824083\n",
      "4   Yellow  200000             0.513429\n",
      "5    Black  145000            -0.626430\n",
      "6     Blue  120000            -0.478090\n",
      "7      Red  300000             0.872558\n",
      "8   Yellow  250000             1.155617\n",
      "9    Black  200000             1.493795\n",
      "10    Blue  160000            -0.161474\n",
      "11     Red   90000            -0.824083\n",
      "12  Yellow   90100            -0.898099\n",
      "13   Black  150000            -0.433682\n",
      "14    Blue  142000            -0.303951\n",
      "15     Red  130000            -0.500913\n",
      "16    Blue  400000             1.738221\n",
      "17     Red  350000             1.276520\n"
     ]
    }
   ],
   "source": [
    "## Using custom function to transform. Standardization of column 'sales' grouped by column 'colour'\n",
    "\n",
    "data_sales['sales_stdzed_colour'] = data_sales.groupby('colour')['sales'].transform(lambda x: (x-x.mean())/x.std())\n",
    "\n",
    "print(data_sales.loc[:,['colour', 'sales', 'sales_stdzed_colour']])"
   ]
  },
  {
   "cell_type": "code",
   "execution_count": 37,
   "metadata": {},
   "outputs": [],
   "source": [
    "## Calculation of Group level mean and its broadcasting on to the original data frame.\n",
    "\n",
    "data_sales['X.mean'] = data_sales.groupby('colour')['sales'].transform('mean')  "
   ]
  },
  {
   "cell_type": "code",
   "execution_count": 38,
   "metadata": {},
   "outputs": [],
   "source": [
    "## Calculation of Group level std dev and its broadcasting on to the original data frame.\n",
    "\n",
    "data_sales['X.std'] = data_sales.groupby('colour')['sales'].transform('std')"
   ]
  },
  {
   "cell_type": "code",
   "execution_count": 39,
   "metadata": {},
   "outputs": [],
   "source": [
    "## Simple row wise standardization based on X, X.mean , and X.std columns\n",
    "\n",
    "data_sales['simple_stdzed'] = (data_sales['sales']-data_sales['X.mean'])/data_sales['X.std']"
   ]
  },
  {
   "cell_type": "code",
   "execution_count": 40,
   "metadata": {},
   "outputs": [
    {
     "name": "stdout",
     "output_type": "stream",
     "text": [
      "    colour   sales  X.mean          X.std  simple_stdzed  sales_stdzed_colour\n",
      "0   Yellow  100000  160025   77858.862694      -0.770946            -0.770946\n",
      "1    Black  150000  161250   25940.637360      -0.433682            -0.433682\n",
      "2     Blue   80000  180400  126336.059777      -0.794706            -0.794706\n",
      "3      Red   90000  192000  123773.987574      -0.824083            -0.824083\n",
      "4   Yellow  200000  160025   77858.862694       0.513429             0.513429\n",
      "5    Black  145000  161250   25940.637360      -0.626430            -0.626430\n",
      "6     Blue  120000  180400  126336.059777      -0.478090            -0.478090\n",
      "7      Red  300000  192000  123773.987574       0.872558             0.872558\n",
      "8   Yellow  250000  160025   77858.862694       1.155617             1.155617\n",
      "9    Black  200000  161250   25940.637360       1.493795             1.493795\n",
      "10    Blue  160000  180400  126336.059777      -0.161474            -0.161474\n",
      "11     Red   90000  192000  123773.987574      -0.824083            -0.824083\n",
      "12  Yellow   90100  160025   77858.862694      -0.898099            -0.898099\n",
      "13   Black  150000  161250   25940.637360      -0.433682            -0.433682\n",
      "14    Blue  142000  180400  126336.059777      -0.303951            -0.303951\n",
      "15     Red  130000  192000  123773.987574      -0.500913            -0.500913\n",
      "16    Blue  400000  180400  126336.059777       1.738221             1.738221\n",
      "17     Red  350000  192000  123773.987574       1.276520             1.276520\n"
     ]
    }
   ],
   "source": [
    "## Print both the transformed column and the column with simple calculation and see the difference between the two.\n",
    "## Both the columns 'simple_stdzed', and 'sales_stdzed_colour' are exactly similar.\n",
    "## Mean and Std Dev has been calculated based on groups thus we can see the values(X.mean,X.std) repeating for same colours.\n",
    "\n",
    "print(data_sales.loc[:,['colour', 'sales','X.mean','X.std','simple_stdzed','sales_stdzed_colour']])"
   ]
  },
  {
   "cell_type": "code",
   "execution_count": 41,
   "metadata": {},
   "outputs": [],
   "source": [
    "sales_trial['pro_std_sales'] = sales_trial.groupby('product')['sales'].transform('std') \n",
    "## calculationg at the level of detail of Groupby and then broadcasting it on to the whole series."
   ]
  },
  {
   "cell_type": "code",
   "execution_count": 42,
   "metadata": {},
   "outputs": [
    {
     "data": {
      "text/html": [
       "<div>\n",
       "<style scoped>\n",
       "    .dataframe tbody tr th:only-of-type {\n",
       "        vertical-align: middle;\n",
       "    }\n",
       "\n",
       "    .dataframe tbody tr th {\n",
       "        vertical-align: top;\n",
       "    }\n",
       "\n",
       "    .dataframe thead th {\n",
       "        text-align: right;\n",
       "    }\n",
       "</style>\n",
       "<table border=\"1\" class=\"dataframe\">\n",
       "  <thead>\n",
       "    <tr style=\"text-align: right;\">\n",
       "      <th></th>\n",
       "      <th>colour</th>\n",
       "      <th>sales</th>\n",
       "      <th>transactions</th>\n",
       "      <th>product</th>\n",
       "      <th>product*colour</th>\n",
       "      <th>RevPerTrans</th>\n",
       "      <th>sales_product_std</th>\n",
       "      <th>sales_stdzed_colour</th>\n",
       "      <th>X.mean</th>\n",
       "      <th>X.std</th>\n",
       "      <th>simple_stdzed</th>\n",
       "      <th>pro_std_sales</th>\n",
       "    </tr>\n",
       "  </thead>\n",
       "  <tbody>\n",
       "    <tr>\n",
       "      <th>0</th>\n",
       "      <td>Yellow</td>\n",
       "      <td>100000</td>\n",
       "      <td>100</td>\n",
       "      <td>type A</td>\n",
       "      <td>type A-Yellow</td>\n",
       "      <td>1000.000000</td>\n",
       "      <td>75929.426297</td>\n",
       "      <td>-0.770946</td>\n",
       "      <td>160025</td>\n",
       "      <td>77858.862694</td>\n",
       "      <td>-0.770946</td>\n",
       "      <td>75929.426297</td>\n",
       "    </tr>\n",
       "    <tr>\n",
       "      <th>1</th>\n",
       "      <td>Black</td>\n",
       "      <td>150000</td>\n",
       "      <td>150</td>\n",
       "      <td>type A</td>\n",
       "      <td>type A-Black</td>\n",
       "      <td>1000.000000</td>\n",
       "      <td>75929.426297</td>\n",
       "      <td>-0.433682</td>\n",
       "      <td>161250</td>\n",
       "      <td>25940.637360</td>\n",
       "      <td>-0.433682</td>\n",
       "      <td>75929.426297</td>\n",
       "    </tr>\n",
       "    <tr>\n",
       "      <th>2</th>\n",
       "      <td>Blue</td>\n",
       "      <td>80000</td>\n",
       "      <td>820</td>\n",
       "      <td>type A</td>\n",
       "      <td>type A-Blue</td>\n",
       "      <td>97.560976</td>\n",
       "      <td>75929.426297</td>\n",
       "      <td>-0.794706</td>\n",
       "      <td>180400</td>\n",
       "      <td>126336.059777</td>\n",
       "      <td>-0.794706</td>\n",
       "      <td>75929.426297</td>\n",
       "    </tr>\n",
       "    <tr>\n",
       "      <th>3</th>\n",
       "      <td>Red</td>\n",
       "      <td>90000</td>\n",
       "      <td>920</td>\n",
       "      <td>type A</td>\n",
       "      <td>type A-Red</td>\n",
       "      <td>97.826087</td>\n",
       "      <td>75929.426297</td>\n",
       "      <td>-0.824083</td>\n",
       "      <td>192000</td>\n",
       "      <td>123773.987574</td>\n",
       "      <td>-0.824083</td>\n",
       "      <td>75929.426297</td>\n",
       "    </tr>\n",
       "    <tr>\n",
       "      <th>4</th>\n",
       "      <td>Yellow</td>\n",
       "      <td>200000</td>\n",
       "      <td>230</td>\n",
       "      <td>type A</td>\n",
       "      <td>type A-Yellow</td>\n",
       "      <td>869.565217</td>\n",
       "      <td>75929.426297</td>\n",
       "      <td>0.513429</td>\n",
       "      <td>160025</td>\n",
       "      <td>77858.862694</td>\n",
       "      <td>0.513429</td>\n",
       "      <td>75929.426297</td>\n",
       "    </tr>\n",
       "    <tr>\n",
       "      <th>5</th>\n",
       "      <td>Black</td>\n",
       "      <td>145000</td>\n",
       "      <td>120</td>\n",
       "      <td>type A</td>\n",
       "      <td>type A-Black</td>\n",
       "      <td>1208.333333</td>\n",
       "      <td>75929.426297</td>\n",
       "      <td>-0.626430</td>\n",
       "      <td>161250</td>\n",
       "      <td>25940.637360</td>\n",
       "      <td>-0.626430</td>\n",
       "      <td>75929.426297</td>\n",
       "    </tr>\n",
       "    <tr>\n",
       "      <th>6</th>\n",
       "      <td>Blue</td>\n",
       "      <td>120000</td>\n",
       "      <td>70</td>\n",
       "      <td>type A</td>\n",
       "      <td>type A-Blue</td>\n",
       "      <td>1714.285714</td>\n",
       "      <td>75929.426297</td>\n",
       "      <td>-0.478090</td>\n",
       "      <td>180400</td>\n",
       "      <td>126336.059777</td>\n",
       "      <td>-0.478090</td>\n",
       "      <td>75929.426297</td>\n",
       "    </tr>\n",
       "    <tr>\n",
       "      <th>7</th>\n",
       "      <td>Red</td>\n",
       "      <td>300000</td>\n",
       "      <td>250</td>\n",
       "      <td>type A</td>\n",
       "      <td>type A-Red</td>\n",
       "      <td>1200.000000</td>\n",
       "      <td>75929.426297</td>\n",
       "      <td>0.872558</td>\n",
       "      <td>192000</td>\n",
       "      <td>123773.987574</td>\n",
       "      <td>0.872558</td>\n",
       "      <td>75929.426297</td>\n",
       "    </tr>\n",
       "    <tr>\n",
       "      <th>8</th>\n",
       "      <td>Yellow</td>\n",
       "      <td>250000</td>\n",
       "      <td>250</td>\n",
       "      <td>type A</td>\n",
       "      <td>type A-Yellow</td>\n",
       "      <td>1000.000000</td>\n",
       "      <td>75929.426297</td>\n",
       "      <td>1.155617</td>\n",
       "      <td>160025</td>\n",
       "      <td>77858.862694</td>\n",
       "      <td>1.155617</td>\n",
       "      <td>75929.426297</td>\n",
       "    </tr>\n",
       "    <tr>\n",
       "      <th>9</th>\n",
       "      <td>Black</td>\n",
       "      <td>200000</td>\n",
       "      <td>110</td>\n",
       "      <td>type B</td>\n",
       "      <td>type B-Black</td>\n",
       "      <td>1818.181818</td>\n",
       "      <td>110783.301991</td>\n",
       "      <td>1.493795</td>\n",
       "      <td>161250</td>\n",
       "      <td>25940.637360</td>\n",
       "      <td>1.493795</td>\n",
       "      <td>110783.301991</td>\n",
       "    </tr>\n",
       "    <tr>\n",
       "      <th>10</th>\n",
       "      <td>Blue</td>\n",
       "      <td>160000</td>\n",
       "      <td>130</td>\n",
       "      <td>type B</td>\n",
       "      <td>type B-Blue</td>\n",
       "      <td>1230.769231</td>\n",
       "      <td>110783.301991</td>\n",
       "      <td>-0.161474</td>\n",
       "      <td>180400</td>\n",
       "      <td>126336.059777</td>\n",
       "      <td>-0.161474</td>\n",
       "      <td>110783.301991</td>\n",
       "    </tr>\n",
       "    <tr>\n",
       "      <th>11</th>\n",
       "      <td>Red</td>\n",
       "      <td>90000</td>\n",
       "      <td>860</td>\n",
       "      <td>type B</td>\n",
       "      <td>type B-Red</td>\n",
       "      <td>104.651163</td>\n",
       "      <td>110783.301991</td>\n",
       "      <td>-0.824083</td>\n",
       "      <td>192000</td>\n",
       "      <td>123773.987574</td>\n",
       "      <td>-0.824083</td>\n",
       "      <td>110783.301991</td>\n",
       "    </tr>\n",
       "    <tr>\n",
       "      <th>12</th>\n",
       "      <td>Yellow</td>\n",
       "      <td>90100</td>\n",
       "      <td>980</td>\n",
       "      <td>type B</td>\n",
       "      <td>type B-Yellow</td>\n",
       "      <td>91.938776</td>\n",
       "      <td>110783.301991</td>\n",
       "      <td>-0.898099</td>\n",
       "      <td>160025</td>\n",
       "      <td>77858.862694</td>\n",
       "      <td>-0.898099</td>\n",
       "      <td>110783.301991</td>\n",
       "    </tr>\n",
       "    <tr>\n",
       "      <th>13</th>\n",
       "      <td>Black</td>\n",
       "      <td>150000</td>\n",
       "      <td>300</td>\n",
       "      <td>type B</td>\n",
       "      <td>type B-Black</td>\n",
       "      <td>500.000000</td>\n",
       "      <td>110783.301991</td>\n",
       "      <td>-0.433682</td>\n",
       "      <td>161250</td>\n",
       "      <td>25940.637360</td>\n",
       "      <td>-0.433682</td>\n",
       "      <td>110783.301991</td>\n",
       "    </tr>\n",
       "    <tr>\n",
       "      <th>14</th>\n",
       "      <td>Blue</td>\n",
       "      <td>142000</td>\n",
       "      <td>150</td>\n",
       "      <td>type B</td>\n",
       "      <td>type B-Blue</td>\n",
       "      <td>946.666667</td>\n",
       "      <td>110783.301991</td>\n",
       "      <td>-0.303951</td>\n",
       "      <td>180400</td>\n",
       "      <td>126336.059777</td>\n",
       "      <td>-0.303951</td>\n",
       "      <td>110783.301991</td>\n",
       "    </tr>\n",
       "    <tr>\n",
       "      <th>15</th>\n",
       "      <td>Red</td>\n",
       "      <td>130000</td>\n",
       "      <td>170</td>\n",
       "      <td>type B</td>\n",
       "      <td>type B-Red</td>\n",
       "      <td>764.705882</td>\n",
       "      <td>110783.301991</td>\n",
       "      <td>-0.500913</td>\n",
       "      <td>192000</td>\n",
       "      <td>123773.987574</td>\n",
       "      <td>-0.500913</td>\n",
       "      <td>110783.301991</td>\n",
       "    </tr>\n",
       "    <tr>\n",
       "      <th>16</th>\n",
       "      <td>Blue</td>\n",
       "      <td>400000</td>\n",
       "      <td>230</td>\n",
       "      <td>type B</td>\n",
       "      <td>type B-Blue</td>\n",
       "      <td>1739.130435</td>\n",
       "      <td>110783.301991</td>\n",
       "      <td>1.738221</td>\n",
       "      <td>180400</td>\n",
       "      <td>126336.059777</td>\n",
       "      <td>1.738221</td>\n",
       "      <td>110783.301991</td>\n",
       "    </tr>\n",
       "    <tr>\n",
       "      <th>17</th>\n",
       "      <td>Red</td>\n",
       "      <td>350000</td>\n",
       "      <td>280</td>\n",
       "      <td>type B</td>\n",
       "      <td>type B-Red</td>\n",
       "      <td>1250.000000</td>\n",
       "      <td>110783.301991</td>\n",
       "      <td>1.276520</td>\n",
       "      <td>192000</td>\n",
       "      <td>123773.987574</td>\n",
       "      <td>1.276520</td>\n",
       "      <td>110783.301991</td>\n",
       "    </tr>\n",
       "  </tbody>\n",
       "</table>\n",
       "</div>"
      ],
      "text/plain": [
       "    colour   sales  transactions product product*colour  RevPerTrans  \\\n",
       "0   Yellow  100000           100  type A  type A-Yellow  1000.000000   \n",
       "1    Black  150000           150  type A   type A-Black  1000.000000   \n",
       "2     Blue   80000           820  type A    type A-Blue    97.560976   \n",
       "3      Red   90000           920  type A     type A-Red    97.826087   \n",
       "4   Yellow  200000           230  type A  type A-Yellow   869.565217   \n",
       "5    Black  145000           120  type A   type A-Black  1208.333333   \n",
       "6     Blue  120000            70  type A    type A-Blue  1714.285714   \n",
       "7      Red  300000           250  type A     type A-Red  1200.000000   \n",
       "8   Yellow  250000           250  type A  type A-Yellow  1000.000000   \n",
       "9    Black  200000           110  type B   type B-Black  1818.181818   \n",
       "10    Blue  160000           130  type B    type B-Blue  1230.769231   \n",
       "11     Red   90000           860  type B     type B-Red   104.651163   \n",
       "12  Yellow   90100           980  type B  type B-Yellow    91.938776   \n",
       "13   Black  150000           300  type B   type B-Black   500.000000   \n",
       "14    Blue  142000           150  type B    type B-Blue   946.666667   \n",
       "15     Red  130000           170  type B     type B-Red   764.705882   \n",
       "16    Blue  400000           230  type B    type B-Blue  1739.130435   \n",
       "17     Red  350000           280  type B     type B-Red  1250.000000   \n",
       "\n",
       "    sales_product_std  sales_stdzed_colour  X.mean          X.std  \\\n",
       "0        75929.426297            -0.770946  160025   77858.862694   \n",
       "1        75929.426297            -0.433682  161250   25940.637360   \n",
       "2        75929.426297            -0.794706  180400  126336.059777   \n",
       "3        75929.426297            -0.824083  192000  123773.987574   \n",
       "4        75929.426297             0.513429  160025   77858.862694   \n",
       "5        75929.426297            -0.626430  161250   25940.637360   \n",
       "6        75929.426297            -0.478090  180400  126336.059777   \n",
       "7        75929.426297             0.872558  192000  123773.987574   \n",
       "8        75929.426297             1.155617  160025   77858.862694   \n",
       "9       110783.301991             1.493795  161250   25940.637360   \n",
       "10      110783.301991            -0.161474  180400  126336.059777   \n",
       "11      110783.301991            -0.824083  192000  123773.987574   \n",
       "12      110783.301991            -0.898099  160025   77858.862694   \n",
       "13      110783.301991            -0.433682  161250   25940.637360   \n",
       "14      110783.301991            -0.303951  180400  126336.059777   \n",
       "15      110783.301991            -0.500913  192000  123773.987574   \n",
       "16      110783.301991             1.738221  180400  126336.059777   \n",
       "17      110783.301991             1.276520  192000  123773.987574   \n",
       "\n",
       "    simple_stdzed  pro_std_sales  \n",
       "0       -0.770946   75929.426297  \n",
       "1       -0.433682   75929.426297  \n",
       "2       -0.794706   75929.426297  \n",
       "3       -0.824083   75929.426297  \n",
       "4        0.513429   75929.426297  \n",
       "5       -0.626430   75929.426297  \n",
       "6       -0.478090   75929.426297  \n",
       "7        0.872558   75929.426297  \n",
       "8        1.155617   75929.426297  \n",
       "9        1.493795  110783.301991  \n",
       "10      -0.161474  110783.301991  \n",
       "11      -0.824083  110783.301991  \n",
       "12      -0.898099  110783.301991  \n",
       "13      -0.433682  110783.301991  \n",
       "14      -0.303951  110783.301991  \n",
       "15      -0.500913  110783.301991  \n",
       "16       1.738221  110783.301991  \n",
       "17       1.276520  110783.301991  "
      ]
     },
     "execution_count": 42,
     "metadata": {},
     "output_type": "execute_result"
    }
   ],
   "source": [
    "sales_trial"
   ]
  },
  {
   "cell_type": "markdown",
   "metadata": {},
   "source": [
    "# Filtering"
   ]
  },
  {
   "cell_type": "raw",
   "metadata": {},
   "source": [
    "If we want to filter the dataframe such that it contains only those colours that has average number of transaction greater than the average of some other colour."
   ]
  },
  {
   "cell_type": "code",
   "execution_count": 43,
   "metadata": {},
   "outputs": [
    {
     "name": "stdout",
     "output_type": "stream",
     "text": [
      "Blue_avg_transaction:  280\n",
      "Black_avg_transaction: 170\n",
      "Yellow_avg_transaction:  390\n",
      "Red_avg_transaction: 496\n"
     ]
    }
   ],
   "source": [
    "grouped = data_sales.groupby('colour')\n",
    "\n",
    "Blue_avg_transaction= grouped['transactions','sales'].mean().loc['Blue','transactions']\n",
    "Black_avg_transaction= grouped['transactions','sales'].mean().loc['Black','transactions']\n",
    "Yellow_avg_transaction= grouped['transactions','sales'].mean().loc['Yellow','transactions']\n",
    "Red_avg_transaction= grouped['transactions','sales'].mean().loc['Red','transactions']\n",
    "\n",
    "print('Blue_avg_transaction: ', Blue_avg_transaction)\n",
    "print('Black_avg_transaction:', Black_avg_transaction)\n",
    "print('Yellow_avg_transaction: ', Yellow_avg_transaction)\n",
    "print('Red_avg_transaction:', Red_avg_transaction)"
   ]
  },
  {
   "cell_type": "code",
   "execution_count": 44,
   "metadata": {},
   "outputs": [
    {
     "name": "stdout",
     "output_type": "stream",
     "text": [
      "    colour  transactions\n",
      "0   Yellow           100\n",
      "2     Blue           820\n",
      "3      Red           920\n",
      "4   Yellow           230\n",
      "6     Blue            70\n",
      "7      Red           250\n",
      "8   Yellow           250\n",
      "10    Blue           130\n",
      "11     Red           860\n",
      "12  Yellow           980\n",
      "14    Blue           150\n",
      "15     Red           170\n",
      "16    Blue           230\n",
      "17     Red           280\n"
     ]
    }
   ],
   "source": [
    "## The output shows that \n",
    "\n",
    "filt_df = grouped.filter(lambda x: x['transactions'].mean() > Black_avg_transaction)\n",
    "\n",
    "print(filt_df.iloc[:,[0,2]])"
   ]
  },
  {
   "cell_type": "markdown",
   "metadata": {},
   "source": [
    "# Combine: Combine the result to get a new Object"
   ]
  },
  {
   "cell_type": "markdown",
   "metadata": {},
   "source": [
    "####  NOTE: when we apply the function (aggregation in our case) on one column in a GroupbyDataframe object then it gives a pandas seriese as an output; however, when we apply the function to more than one column then we get a data frame as an output. "
   ]
  },
  {
   "cell_type": "code",
   "execution_count": 45,
   "metadata": {},
   "outputs": [],
   "source": [
    "## Aggregation function mean() applied on only one column 'sales'. Also note as_index=True.\n",
    "d1 = data_sales.groupby('colour',as_index=True)['sales'].mean() "
   ]
  },
  {
   "cell_type": "code",
   "execution_count": 46,
   "metadata": {},
   "outputs": [
    {
     "data": {
      "text/plain": [
       "pandas.core.series.Series"
      ]
     },
     "execution_count": 46,
     "metadata": {},
     "output_type": "execute_result"
    }
   ],
   "source": [
    "type(d1) ## The output is Pandas Series"
   ]
  },
  {
   "cell_type": "code",
   "execution_count": 47,
   "metadata": {},
   "outputs": [
    {
     "name": "stdout",
     "output_type": "stream",
     "text": [
      "colour\n",
      "Black     161250\n",
      "Blue      180400\n",
      "Red       192000\n",
      "Yellow    160025\n",
      "Name: sales, dtype: int64\n"
     ]
    }
   ],
   "source": [
    "print(d1)"
   ]
  },
  {
   "cell_type": "code",
   "execution_count": 48,
   "metadata": {},
   "outputs": [],
   "source": [
    "## Aggregation function mean() applied on only two columns \n",
    "d2 = data_sales.groupby('colour',as_index=True).agg({'sales':np.mean, 'transactions': np.sum})"
   ]
  },
  {
   "cell_type": "code",
   "execution_count": 49,
   "metadata": {},
   "outputs": [
    {
     "data": {
      "text/plain": [
       "pandas.core.frame.DataFrame"
      ]
     },
     "execution_count": 49,
     "metadata": {},
     "output_type": "execute_result"
    }
   ],
   "source": [
    "type(d2)     ## The Output is Pandas DataFrame"
   ]
  },
  {
   "cell_type": "code",
   "execution_count": 50,
   "metadata": {},
   "outputs": [
    {
     "name": "stdout",
     "output_type": "stream",
     "text": [
      "         sales  transactions\n",
      "colour                      \n",
      "Black   161250           680\n",
      "Blue    180400          1400\n",
      "Red     192000          2480\n",
      "Yellow  160025          1560\n"
     ]
    }
   ],
   "source": [
    "print(d2)"
   ]
  },
  {
   "cell_type": "code",
   "execution_count": 51,
   "metadata": {},
   "outputs": [],
   "source": [
    "## Aggregation function mean() applied on only one column 'sales'.But now the result is dataframe bec parameter as_index=True \n",
    "d3 = data_sales.groupby('colour',as_index=False)['sales'].mean() "
   ]
  },
  {
   "cell_type": "code",
   "execution_count": 52,
   "metadata": {},
   "outputs": [
    {
     "data": {
      "text/plain": [
       "pandas.core.frame.DataFrame"
      ]
     },
     "execution_count": 52,
     "metadata": {},
     "output_type": "execute_result"
    }
   ],
   "source": [
    "type(d3)      ## The Output is Pandas DataFrame"
   ]
  },
  {
   "cell_type": "code",
   "execution_count": 53,
   "metadata": {},
   "outputs": [
    {
     "name": "stdout",
     "output_type": "stream",
     "text": [
      "   colour   sales\n",
      "0   Black  161250\n",
      "1    Blue  180400\n",
      "2     Red  192000\n",
      "3  Yellow  160025\n"
     ]
    }
   ],
   "source": [
    "print(d3)"
   ]
  },
  {
   "cell_type": "markdown",
   "metadata": {},
   "source": [
    "# Real World Application:Coeffecient of Variation."
   ]
  },
  {
   "cell_type": "code",
   "execution_count": 54,
   "metadata": {},
   "outputs": [],
   "source": [
    "## Define the function\n",
    "def coeff_of_Variation(x):\n",
    "    co_vn = x.std()/x.mean()\n",
    "    return(co_vn)"
   ]
  },
  {
   "cell_type": "code",
   "execution_count": 55,
   "metadata": {},
   "outputs": [],
   "source": [
    "## use the above defined function in the aggregation.\n",
    "cvn= data_sales.groupby(['product','colour'])['sales'].agg([coeff_of_Variation,np.mean,np.std])"
   ]
  },
  {
   "cell_type": "code",
   "execution_count": 56,
   "metadata": {},
   "outputs": [
    {
     "name": "stdout",
     "output_type": "stream",
     "text": [
      "                coeff_of_Variation           mean            std\n",
      "product colour                                                  \n",
      "type A  Black             0.023970  147500.000000    3535.533906\n",
      "        Blue              0.282843  100000.000000   28284.271247\n",
      "        Red               0.761500  195000.000000  148492.424049\n",
      "        Yellow            0.416598  183333.333333   76376.261583\n",
      "type B  Black             0.202031  175000.000000   35355.339059\n",
      "        Blue              0.615563  234000.000000  144041.660640\n",
      "        Red               0.736842  190000.000000  140000.000000\n",
      "        Yellow                 NaN   90100.000000            NaN\n"
     ]
    }
   ],
   "source": [
    "print(cvn)   ## The group 'type A- Black' has the lowest volatility"
   ]
  }
 ],
 "metadata": {
  "kernelspec": {
   "display_name": "Python 3",
   "language": "python",
   "name": "python3"
  },
  "language_info": {
   "codemirror_mode": {
    "name": "ipython",
    "version": 3
   },
   "file_extension": ".py",
   "mimetype": "text/x-python",
   "name": "python",
   "nbconvert_exporter": "python",
   "pygments_lexer": "ipython3",
   "version": "3.7.0"
  }
 },
 "nbformat": 4,
 "nbformat_minor": 2
}
