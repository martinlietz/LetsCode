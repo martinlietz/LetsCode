{
 "cells": [
  {
   "cell_type": "markdown",
   "metadata": {},
   "source": [
    "# Lista 3 - Visualização\n",
    "\n",
    "Durante a lista eu informo os primcipais parâmetros de cada função. Se você quiser mais funcionalidades, pode me consultar ou consultar a biblioteca com o `help()`."
   ]
  },
  {
   "cell_type": "markdown",
   "metadata": {},
   "source": [
    "## 0 - Importando as bibliotecas e arquivos"
   ]
  },
  {
   "cell_type": "markdown",
   "metadata": {},
   "source": [
    "__Exercício 0:__ Importe aqui as bibliotecas que você irá usar e os arquivos que você irá precisar; os arquivos necessários são os seguintes:\n",
    " - `PBR.csv` com o nome `pbr`;\n",
    " - `imoveis_sp.csv` com o nome `imoveis_sp`;\n",
    " - `imoveis_Rio_de_Janeiro.csv` com o nome `imoveis_rj`; e\n",
    " - `urban_population.csv` com o nome `pop_urb`."
   ]
  },
  {
   "cell_type": "code",
   "execution_count": null,
   "metadata": {},
   "outputs": [],
   "source": []
  },
  {
   "cell_type": "markdown",
   "metadata": {},
   "source": [
    "__Exercício 1:__ Se você quiser, carregue abaixo um estilo para o `matplotlib.pyplot` e para o `seaborn`. Uma lista dos estilos implementados pode ser encontrada no seguinte link:\n",
    " > https://matplotlib.org/gallery/style_sheets/style_sheets_reference.html\n",
    " \n",
    " Você também pode editar ou criar o seu estilo, como explicado abaixo:\n",
    " \n",
    " > https://matplotlib.org/tutorials/introductory/customizing.html"
   ]
  },
  {
   "cell_type": "code",
   "execution_count": null,
   "metadata": {},
   "outputs": [],
   "source": []
  },
  {
   "cell_type": "markdown",
   "metadata": {},
   "source": [
    "## 1 - Gráficos gerais"
   ]
  },
  {
   "cell_type": "markdown",
   "metadata": {},
   "source": [
    "__Exercício 0:__ Use a função `np.sin()`  para criar um gráfico da funcão $\\operatorname{sen}(x)$ no intervalo $[0,2\\pi]$ usando o `plt.plot()`. "
   ]
  },
  {
   "cell_type": "markdown",
   "metadata": {},
   "source": [
    "__Exercício 1:__ Use a função `np.cos()`  para criar um gráfico da funcão $\\cos(x)$ no intervalo $[0,2\\pi]$ usando o `plt.plot()`."
   ]
  },
  {
   "cell_type": "markdown",
   "metadata": {},
   "source": [
    "__Exercício 2:__ Use o `plt.savefig()` para salvar as figuras geradas acima. Essa função pode receber os seguintes parâmetros (para outros parâmetros consulte a documentação com o `help()`):\n",
    " - `fname`: uma `str` com o nome do arquivo onde a figura será salva;\n",
    " - `dpi`: um `int` positivo que passa a resulução da figura em pontos por _inch_ \n",
    " - `format`: uma `str` que passa o formato do arquivo (escolher entre png, pdf, ps, eps and svg)\n",
    "Obs.: Esse função irá salvar a figura referente à celula na qual ela for chamada."
   ]
  },
  {
   "cell_type": "markdown",
   "metadata": {},
   "source": [
    "__Exercício 3:__ Use `plt.title()`, `plt.xlabel()` e `plt.ylabel()` para mudar o título e o texto dos eixos x e y, respectivamente, dos gráficos acima. Lembre-se de chamar essas funções na mesma cécula da construção do gráfico. "
   ]
  },
  {
   "cell_type": "markdown",
   "metadata": {},
   "source": [
    "__Exercício 4:__ Se você fizer os gráficos acima no mesma cécula, os gráficos ficarão no mesmo _axis_. Como ambas as funções têm a mesma escala, isso não é um problema. Faça isso e controle as cores do gráfico com o parâmetro `c` na função `plt.plot()`."
   ]
  },
  {
   "cell_type": "markdown",
   "metadata": {},
   "source": [
    "__Exercício 5__ Use a função `np.randn()` apenas com um parâmetro (tamanho da lista a ser criada) para criar uma lista de 1000000 de elementos. Use a função `plt.hist()` para criar um histograma com essa lista. Copntrole o número de bins com o parâmetro `bins` dessa função. Você pode adicionar textos no gráfico com a função `plt.text()`. Essa função recebe, entre outros, os seguintes parâmetros:\n",
    " - `x` e `y`: `float` com as posições onde o texto deve ser colocado no gráfico;\n",
    " - `s`: uma `str` contendo o texto.\n",
    " - `fontisize`: um `int` que passa o tamanho da fonte; e\n",
    " - `color`: uma string contendo um nome da cor ou um código hexadecimal. \n",
    " \n",
    " Calcule a média e o desvio padrão e coloque no gráfico como texto. Qual distribuição segue esse padrão do gráfico. Você consegue montar um histograma de uma lista aleatória cuja média seja 100 e o desvio padrão seja 15? \n",
    " \n",
    " Obs. (não precisa pro exercício): O matplotlib aceita alguns comandos de $\\LaTeX$. Você pode adicionar um texto contendo esses comandos adicionando um r antes da string. Exemplo:\n",
    " \n",
    "```python\n",
    "x = np.arange(1,2*np.e, 0.01)\n",
    "logx = np.log(x)\n",
    "plt.plot(x,logx)\n",
    "plt.title(r'Gráfico da função $\\ln(x)$')\n",
    "plt.xlabel(r'$x$')\n",
    "plt.ylabel(r'$\\ln(x)$')\n",
    "texto= r'$\\ln(x) = \\sum_{n=0}^{\\infty} \\frac{x^n}{n!}$'\n",
    "plt.text(x=4,y=0.5,s=texto, fontsize=16, color='green')\n",
    "```"
   ]
  },
  {
   "cell_type": "markdown",
   "metadata": {},
   "source": [
    "# 2 - Gráficos com o método `.plot()`"
   ]
  },
  {
   "cell_type": "markdown",
   "metadata": {},
   "source": [
    "__Exercício 0__ Faça um gráfico de linhas para a coluna Open do dataframe `pbr`. Dê um título e organize os nomes dos eixos. Veja que, embora você possa ter indicado a coluna das datas como index desse dataframe, elas não estão aparecendo no gráfico. Mais adiante usaremos a biblioteca datetime para usar um padrão melhor para as datas."
   ]
  },
  {
   "cell_type": "markdown",
   "metadata": {},
   "source": [
    "__Exercicio 1:__ Refaça apenas o gráfico do __exercício 1.5__ criando uma série e usando o o método `.plot()`."
   ]
  },
  {
   "cell_type": "markdown",
   "metadata": {},
   "source": [
    "__Exercício 2:__ A biblioteca `datetime` é uma biblioteca construída para lidar com datas. Para usá-la, devemos importa-la antes. A função mais básica dessa biblioteca é a que cria um objeto `datetime.datetime`: ela deve receber, nessa ordem, o ano, o mês e a dia (como inteiros). Exemplo:\n",
    "```python\n",
    "import datetime as dt\n",
    "data1 = dt.datetime(2018,2,1) # cria a data 01/02/2018\n",
    "data2 = dt.datetime(2019,5,3) # cria a data 03/05/2019\n",
    "print(data1 <= data2) # deve imprimir True!\n",
    "```\n",
    "Como visto acima, podemos verificar se uma data é menor do que a outra, uma ótima oportunidade para criar máscaras! Mas antes, devemos resolver o problema do exercício 1. O pandas possui a função `pd.to_datetime()` que converte uma coluna para o formato da datetime. Ela pode receber uma lista ou uma coluna e devolver a lista ou coluna com os dados já convertidos. Dessa forma, acessando o atributo que guarda o index do dataframe `pbr`, podemos converter as datas: \n",
    "```python\n",
    "pbr.index = pd.to_datetime(pbr.index)\n",
    "```\n",
    "Refaça o __exercício 1.1__."
   ]
  },
  {
   "cell_type": "markdown",
   "metadata": {},
   "source": [
    "__Exercício 3:__ Faça um gráfico de linhas coluna Adj Close do dataframe `pbr` apenas entre as datas 20/05/2018 até 23/09/2018."
   ]
  },
  {
   "cell_type": "markdown",
   "metadata": {},
   "source": [
    "__Exercício 4:__ Use o método `.drop()` para deletar a coluna volume (salvando o editado em uma variável `pbr2`) e faça um gráfico _boxplot_ para o dataframe as colunas restantes. "
   ]
  },
  {
   "cell_type": "markdown",
   "metadata": {},
   "source": [
    "__Exercício 5:__ Calcule a média, o desvio padrão, os quartis, a distância interquartil e os limites inferiores e superiores para a coluna Adj Close a partir de 2017. Haverão _outliers_? e refaça o _boxplot_ para essa coluna colocando os valores no gráfico, bem como o título."
   ]
  },
  {
   "cell_type": "markdown",
   "metadata": {},
   "source": [
    "__Exercício 6:__ Faça um histograma e um gráfico de densidade para a coluna do __exercício 1.5__. Manipule o número de bins com o respectivo parâmetro."
   ]
  },
  {
   "cell_type": "markdown",
   "metadata": {},
   "source": [
    "## 3 - Manipulando figuras e _axes_"
   ]
  },
  {
   "cell_type": "markdown",
   "metadata": {},
   "source": [
    "__Exercício 0__ Coloque os gráficos do __exercício 1.1__ mum _subplot_ de 1 linha e 2 colunas."
   ]
  },
  {
   "cell_type": "markdown",
   "metadata": {},
   "source": [
    "__Exercício 1:__ O método `.plot()` de um dataframe pode receber um parâmetro booleano `subplots`. Se `True` (por padrão ele é `False`), o método irá retornar uma lista com os _axes_ de cada uma das colunas do dataframe. Faça um gráfico de linha para cada coluna para os valores do mês de maio de 2018, passando `subplots=True` para o método. Manipule o tamanho da figura com o parâmetro `figsize` e atribua títulos e nomes do eixo para cada um dos gráficos. O título geral da figura pode ser atribuído pegando a figura de um dos _axes_, com `fig = ax.get_figure()` e passando o título geral com `fig.suptitle()`."
   ]
  },
  {
   "cell_type": "markdown",
   "metadata": {},
   "source": [
    "__Exercício 2:__ Analise a relação entre o número de quartos, número de banheiros e a área do apartamento com o valor do apartamento através de um _sccater plot_ para o dataframe `imoveis_sp`. Guarde cada um desses gráficos em um _subplot_ de 1 linha e 3 colunas, atribuíndo nomes dos eixos, títulos do gráfico e título da figura."
   ]
  },
  {
   "cell_type": "markdown",
   "metadata": {},
   "source": [
    "__Exercício 3:__ Faça o análogo do __exercício 3.1__ para as colunas do `imoveis_rj` em relação ao preço por metro quadrado. Dessa vez seu subplot deve ser 3x3."
   ]
  },
  {
   "cell_type": "markdown",
   "metadata": {},
   "source": [
    "## 4 - Gráficos com a Seaborn"
   ]
  },
  {
   "cell_type": "markdown",
   "metadata": {},
   "source": [
    "__Exercício 0:__ A função `sns.relplot()` permite fazer grágicos de linha e _scatter plots_. Para isso, passamos o parâmetro `kind='scatter'` ou `kind='line'`. Mas, para isso, a coluna que ficará no eixo x não pode estar no index. Para \"resetar\" o index usamos `.reset_index()`. Esse método transforma o index em uma coluna do dataframe e atribui indexação numérica ao dataframe; esse método *retorna* e não salva. Exemplo:\n",
    "```python\n",
    "pbr2 = pbr.reset_index()\n",
    "sns.relplot(data=pbr2, x='Date', y='Open', kind='line')\n",
    "```\n",
    "Refaça alguns exercícios de gráficos de linha e _scatter plot_ anteriores com a função `sns.relplot()` (pelo menos um com np.ndarray e um com dataframe de cada). Obs.: nos exercícios que exigiam manipulação dos eixos, só faça o gráfico. `sns.relplot()` não retorna um _axis_ do matplotlib, então a manipulação é diferente."
   ]
  },
  {
   "cell_type": "markdown",
   "metadata": {},
   "source": [
    "__Exercício 1:__ A função `sns.catplot()` permite fazer gráficos categóricos, tais como o _boxplot_, violino, gráfico de faixa (o default) e o _swarm_ passando o tipo para o argumento `kind`. Refaça o __exercício 2.5__ com a função `sns.catplot()`.  "
   ]
  },
  {
   "cell_type": "markdown",
   "metadata": {},
   "source": [
    "__Exercício 2:__ Faça um gráfico de barras com a função `sns.barplot(data=, x=, y=)` para descobrir quantos sobreviveram no dataframe `titanic` por sexo. Para carregar o gráfico, use\n",
    "```python\n",
    "titanic = sns.load_dataset('titanic')\n",
    "```\n",
    "Use o argumento `hue` para separar por classe."
   ]
  },
  {
   "cell_type": "markdown",
   "metadata": {},
   "source": [
    "__Exercício 3:__ Use a `sns.distplot()` para fazer um gráfico somente do histograma para a coluna `age` do dataframe `titanic`."
   ]
  },
  {
   "cell_type": "markdown",
   "metadata": {},
   "source": [
    "__Exercício 4:__ O método `.corr()` dos dataframes retornam um dataframe com as correlações coluna a coluna. Faça um dataframe para guardar o dataframe das correlações para os dados numéricos. A função `sns.heatmap()` permite visualizar bem esse tipo de dado tabular, ela informará, através de um esquema de cores, como estão correlacionados os dados. Faça um gráfico _heatmap_ para o dataframe `imoveis_sp`. "
   ]
  },
  {
   "cell_type": "code",
   "execution_count": null,
   "metadata": {},
   "outputs": [],
   "source": []
  }
 ],
 "metadata": {
  "kernelspec": {
   "display_name": "Python 3",
   "language": "python",
   "name": "python3"
  },
  "language_info": {
   "codemirror_mode": {
    "name": "ipython",
    "version": 3
   },
   "file_extension": ".py",
   "mimetype": "text/x-python",
   "name": "python",
   "nbconvert_exporter": "python",
   "pygments_lexer": "ipython3",
   "version": "3.7.0"
  }
 },
 "nbformat": 4,
 "nbformat_minor": 2
}
