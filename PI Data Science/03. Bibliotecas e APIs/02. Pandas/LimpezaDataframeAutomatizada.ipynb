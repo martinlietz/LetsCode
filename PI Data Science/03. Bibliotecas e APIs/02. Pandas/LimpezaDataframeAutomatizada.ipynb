{
 "metadata": {
  "language_info": {
   "codemirror_mode": {
    "name": "ipython",
    "version": 3
   },
   "file_extension": ".py",
   "mimetype": "text/x-python",
   "name": "python",
   "nbconvert_exporter": "python",
   "pygments_lexer": "ipython3",
   "version": 3
  },
  "orig_nbformat": 2
 },
 "nbformat": 4,
 "nbformat_minor": 2,
 "cells": [
  {
   "cell_type": "code",
   "execution_count": null,
   "metadata": {},
   "outputs": [],
   "source": [
    "# importando o matplotlib\n",
    "%matplotlib inline\n",
    "import matplotlib.pyplot as plt\n",
    "import seaborn as sns\n",
    "cm = 1/2.54  # centimeters in inches\n",
    "px = 1/plt.rcParams['figure.dpi']  # pixel in inches\n",
    "import numpy as np \n",
    "import pandas as pd"
   ]
  },
  {
   "cell_type": "code",
   "execution_count": null,
   "metadata": {},
   "outputs": [],
   "source": [
    "df_bckp = df.copy()\n",
    "df_test =df_bckp.copy()"
   ]
  },
  {
   "cell_type": "code",
   "execution_count": null,
   "metadata": {},
   "outputs": [],
   "source": [
    "# lista com as variaveis que definem o perfil\n",
    "perfil = [\"pclass\", \"sex\", \"embarked\"]\n",
    "\n",
    "# variável que indica o que vai ser preenchido\n",
    "o_que_preencher = \"fare\"\n",
    "\n",
    "# é a função descritiva do grupo (perfil) que vai ser utilizada pra preencher\n",
    "preencher_com = \"median\""
   ]
  },
  {
   "cell_type": "code",
   "execution_count": null,
   "metadata": {},
   "outputs": [],
   "source": [
    "# é um groupby com todos os perfis, e com a função de agregação da coluna a ser preenchida\n",
    "# unica coisa é que ele tá preparado pro cruzamento (devido ao reset_index())\n",
    "\n",
    "perfis_agrupados = df.groupby(perfil)[o_que_preencher].agg([preencher_com]).reset_index()\n",
    "\n",
    "perfis_agrupados"
   ]
  },
  {
   "cell_type": "code",
   "execution_count": null,
   "metadata": {},
   "outputs": [],
   "source": [
    "# o sub-dataframe que contem a(s) linha(s) a ser(em) preenchida(s)\n",
    "\n",
    "queremos_preencher = df[df[\"fare\"].isnull()][perfil]\n",
    "\n",
    "queremos_preencher"
   ]
  },
  {
   "cell_type": "code",
   "execution_count": null,
   "metadata": {},
   "outputs": [],
   "source": [
    "# fazemos o cruzamento, e no final pegamos apenas a série que nos importa [preencher_com]\n",
    "\n",
    "# IMPORTANTE USAR O LEFT JOIN, PRO CASO MAIS GERAL!!\n",
    "# pq queremos manter a estrutura da tabela à esquerda (queremos_preencher),\n",
    "# e apenas trazer a informação (preencher_com) da tabela à direita (pergis_agrupados)\n",
    "resultado_final = queremos_preencher.merge(perfis_agrupados, \n",
    "                                           on=perfil, \n",
    "                                           how=\"left\").set_index(queremos_preencher.index)[preencher_com]\n",
    "\n",
    "resultado_final"
   ]
  },
  {
   "cell_type": "code",
   "execution_count": null,
   "metadata": {},
   "outputs": [],
   "source": [
    "# finalmente, preenchemos o que falta.\n",
    "\n",
    "df.loc[df[o_que_preencher].isnull(), o_que_preencher] = resultado_final"
   ]
  },
  {
   "cell_type": "code",
   "execution_count": null,
   "metadata": {},
   "outputs": [],
   "source": [
    "# após preencher, note que não tem mais nenhuma linha com dado missing!\n",
    "# (o df abaixo deve vir vazio)\n",
    "\n",
    "df.loc[df[o_que_preencher].isnull()]"
   ]
  },
  {
   "cell_type": "code",
   "execution_count": null,
   "metadata": {},
   "outputs": [],
   "source": [
    "def preenche_vazios(df, perfil, o_que_preencher, preencher_com):\n",
    "    # é um groupby com todos os perfis, e com a função de agregação da coluna a ser preenchida\n",
    "    # unica coisa é que ele tá preparado pro cruzamento (devido ao reset_index())\n",
    "    perfis_agrupados = df.groupby(perfil)[o_que_preencher].agg([preencher_com]).reset_index()\n",
    "\n",
    "    ##################################################\n",
    "    # o sub-dataframe que contem a(s) linha(s) a ser(em) preenchida(s)\n",
    "    queremos_preencher = df[df[o_que_preencher].isnull()][perfil]\n",
    "\n",
    "    ##################################################\n",
    "    # fazemos o cruzamento, e no final pegamos apenas a série que nos importa [preencher_com]\n",
    "\n",
    "    # IMPORTANTE USAR O LEFT JOIN, PRO CASO MAIS GERAL!!\n",
    "    # pq queremos manter a estrutura da tabela à esquerda (queremos_preencher),\n",
    "    # e apenas trazer a informação (preencher_com) da tabela à direita (pergis_agrupados)\n",
    "    resultado_final = queremos_preencher.merge(perfis_agrupados, \n",
    "                                               on=perfil, \n",
    "                                               how=\"left\").set_index(queremos_preencher.index)[preencher_com]\n",
    "\n",
    "    ##################################################\n",
    "    # finalmente, preenchemos o que falta.\n",
    "    df.loc[df[o_que_preencher].isnull(), o_que_preencher] = resultado_final\n",
    "    "
   ]
  },
  {
   "cell_type": "code",
   "execution_count": null,
   "metadata": {},
   "outputs": [],
   "source": [
    "preenche_vazios(df, \n",
    "                perfil = [\"pclass\", \"sex\", \"embarked\"], \n",
    "                o_que_preencher = \"fare\", \n",
    "                preencher_com = \"median\")"
   ]
  }
 ]
}