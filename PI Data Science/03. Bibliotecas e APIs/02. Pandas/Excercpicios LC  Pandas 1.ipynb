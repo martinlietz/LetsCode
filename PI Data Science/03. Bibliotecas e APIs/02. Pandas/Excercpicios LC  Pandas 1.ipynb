{
 "metadata": {
  "language_info": {
   "codemirror_mode": {
    "name": "ipython",
    "version": 3
   },
   "file_extension": ".py",
   "mimetype": "text/x-python",
   "name": "python",
   "nbconvert_exporter": "python",
   "pygments_lexer": "ipython3",
   "version": "3.9.0"
  },
  "orig_nbformat": 2,
  "kernelspec": {
   "name": "python390jvsc74a57bd0e922dd073470bdcc017ae3abd31d6491d6ed7bf31c1d559806e5511bfea88b81",
   "display_name": "Python 3.9.0 32-bit"
  }
 },
 "nbformat": 4,
 "nbformat_minor": 2,
 "cells": [
  {
   "source": [
    "# Questão #1  \n",
    "Vale 10  \n",
    "Enunciado   \n",
    "Em um concurso público foram contabilizados os números de pessoas inscritas   \n",
    "(até a data inicialmente estabelecida para a inscrição)   \n",
    "segundo os níveis de escolaridade: fundamental completo,   \n",
    "médio completo, superior completo e pós-graduação completa. Segue abaixo a tabela com os valores observados.\n",
    "  \n",
    "|Nível de escolaridade|\tInscritos  |\n",
    "|---|----|\n",
    "|Fundamental completo|\t451  |\n",
    "|Médio completo|\t627  |\n",
    "|Superior completo|\t292  |\n",
    "|Pós-graduação completa|\t95  |\n",
    "|Com base na tabela acima, crie uma Series com esses valores e calcule:  \n",
    "  \n",
    "(a) O número total de inscritos    \n",
    "(b) Número inscritos que possuem, pelo menos, o superior completo.    \n",
    "(c) Suponha que a inscrição foi prorrogada e, com isso, foi obtido um número adicional de inscrições:   68, 93, 22 e 0 inscritos a mais em cada uma das categorias de escolaridade apresentados na tabela acima   (na mesma ordem). Assim, crie uma nova Series com esses valores.  \n",
    "(d) Utilizando as duas Series que você tem, calcule o número total de inscritos após a prorrogação do período de inscrições.  "
   ],
   "cell_type": "markdown",
   "metadata": {}
  },
  {
   "cell_type": "code",
   "execution_count": 37,
   "metadata": {},
   "outputs": [],
   "source": [
    "# Libraries\n",
    "import matplotlib.patches as patches\n",
    "import matplotlib.pyplot as plt\n",
    "import numpy as np\n",
    "import pandas as pd\n",
    "import sys\n",
    "from io import StringIO"
   ]
  },
  {
   "cell_type": "code",
   "execution_count": 38,
   "metadata": {},
   "outputs": [
    {
     "output_type": "execute_result",
     "data": {
      "text/plain": [
       "    Nível de escolaridade  Inscritos\n",
       "0    Fundamental completo        451\n",
       "1          Médio completo        627\n",
       "2       Superior completo        292\n",
       "3  Pós-graduação completa         95"
      ],
      "text/html": "<div>\n<style scoped>\n    .dataframe tbody tr th:only-of-type {\n        vertical-align: middle;\n    }\n\n    .dataframe tbody tr th {\n        vertical-align: top;\n    }\n\n    .dataframe thead th {\n        text-align: right;\n    }\n</style>\n<table border=\"1\" class=\"dataframe\">\n  <thead>\n    <tr style=\"text-align: right;\">\n      <th></th>\n      <th>Nível de escolaridade</th>\n      <th>Inscritos</th>\n    </tr>\n  </thead>\n  <tbody>\n    <tr>\n      <th>0</th>\n      <td>Fundamental completo</td>\n      <td>451</td>\n    </tr>\n    <tr>\n      <th>1</th>\n      <td>Médio completo</td>\n      <td>627</td>\n    </tr>\n    <tr>\n      <th>2</th>\n      <td>Superior completo</td>\n      <td>292</td>\n    </tr>\n    <tr>\n      <th>3</th>\n      <td>Pós-graduação completa</td>\n      <td>95</td>\n    </tr>\n  </tbody>\n</table>\n</div>"
     },
     "metadata": {},
     "execution_count": 38
    }
   ],
   "source": [
    "df = pd.read_csv(StringIO(\"\"\"Nível de escolaridade,Inscritos\n",
    "Fundamental completo,451\n",
    "Médio completo,627\n",
    "Superior completo,292\n",
    "Pós-graduação completa,95\n",
    "\"\"\"))\n",
    "df"
   ]
  },
  {
   "source": [
    "(a) O número total de inscritos"
   ],
   "cell_type": "markdown",
   "metadata": {}
  },
  {
   "cell_type": "code",
   "execution_count": 39,
   "metadata": {},
   "outputs": [
    {
     "output_type": "execute_result",
     "data": {
      "text/plain": [
       "1465"
      ]
     },
     "metadata": {},
     "execution_count": 39
    }
   ],
   "source": [
    "df['Inscritos'].sum()"
   ]
  },
  {
   "source": [
    "(b) Número inscritos que possuem, pelo menos, o superior completo."
   ],
   "cell_type": "markdown",
   "metadata": {}
  },
  {
   "cell_type": "code",
   "execution_count": 40,
   "metadata": {},
   "outputs": [
    {
     "output_type": "execute_result",
     "data": {
      "text/plain": [
       "387"
      ]
     },
     "metadata": {},
     "execution_count": 40
    }
   ],
   "source": [
    "df[df.index>=2]['Inscritos'].sum()"
   ]
  },
  {
   "source": [
    "(c) Suponha que a inscrição foi prorrogada e, com isso, foi obtido um número adicional de inscrições: 68, 93, 22 e 0 inscritos a mais em cada uma das categorias de escolaridade apresentados na tabela acima (na mesma ordem). Assim, crie uma nova Series com esses valores."
   ],
   "cell_type": "markdown",
   "metadata": {}
  },
  {
   "cell_type": "code",
   "execution_count": 41,
   "metadata": {},
   "outputs": [
    {
     "output_type": "execute_result",
     "data": {
      "text/plain": [
       "0    68\n",
       "1    93\n",
       "2    22\n",
       "3     0\n",
       "dtype: int64"
      ]
     },
     "metadata": {},
     "execution_count": 41
    }
   ],
   "source": [
    "s = pd.Series([68, 93, 22 , 0])\n",
    "s"
   ]
  },
  {
   "source": [
    "(d) Utilizando as duas Series que você tem, calcule o número total de inscritos após a prorrogação do período de inscrições."
   ],
   "cell_type": "markdown",
   "metadata": {}
  },
  {
   "cell_type": "code",
   "execution_count": 42,
   "metadata": {},
   "outputs": [
    {
     "output_type": "execute_result",
     "data": {
      "text/plain": [
       "    Nível de escolaridade  Inscritos\n",
       "0    Fundamental completo        519\n",
       "1          Médio completo        720\n",
       "2       Superior completo        314\n",
       "3  Pós-graduação completa         95"
      ],
      "text/html": "<div>\n<style scoped>\n    .dataframe tbody tr th:only-of-type {\n        vertical-align: middle;\n    }\n\n    .dataframe tbody tr th {\n        vertical-align: top;\n    }\n\n    .dataframe thead th {\n        text-align: right;\n    }\n</style>\n<table border=\"1\" class=\"dataframe\">\n  <thead>\n    <tr style=\"text-align: right;\">\n      <th></th>\n      <th>Nível de escolaridade</th>\n      <th>Inscritos</th>\n    </tr>\n  </thead>\n  <tbody>\n    <tr>\n      <th>0</th>\n      <td>Fundamental completo</td>\n      <td>519</td>\n    </tr>\n    <tr>\n      <th>1</th>\n      <td>Médio completo</td>\n      <td>720</td>\n    </tr>\n    <tr>\n      <th>2</th>\n      <td>Superior completo</td>\n      <td>314</td>\n    </tr>\n    <tr>\n      <th>3</th>\n      <td>Pós-graduação completa</td>\n      <td>95</td>\n    </tr>\n  </tbody>\n</table>\n</div>"
     },
     "metadata": {},
     "execution_count": 42
    }
   ],
   "source": [
    "df['Inscritos'] = df['Inscritos'].add(s)\n",
    "df"
   ]
  },
  {
   "cell_type": "code",
   "execution_count": 44,
   "metadata": {},
   "outputs": [
    {
     "output_type": "execute_result",
     "data": {
      "text/plain": [
       "1648"
      ]
     },
     "metadata": {},
     "execution_count": 44
    }
   ],
   "source": [
    "df['Inscritos'].sum()\n"
   ]
  },
  {
   "cell_type": "code",
   "execution_count": 43,
   "metadata": {},
   "outputs": [
    {
     "output_type": "error",
     "ename": "SyntaxError",
     "evalue": "invalid syntax (<ipython-input-43-9a08d0ffdbab>, line 1)",
     "traceback": [
      "\u001b[1;36m  File \u001b[1;32m\"<ipython-input-43-9a08d0ffdbab>\"\u001b[1;36m, line \u001b[1;32m1\u001b[0m\n\u001b[1;33m    (c) Suponha que a inscrição foi prorrogada e, com isso, foi obtido um número adicional de inscrições: 68, 93, 22 e 0 inscritos a mais em cada uma das categorias de escolaridade apresentados na tabela acima (na mesma ordem). Assim, crie uma nova Series com esses valores.\u001b[0m\n\u001b[1;37m        ^\u001b[0m\n\u001b[1;31mSyntaxError\u001b[0m\u001b[1;31m:\u001b[0m invalid syntax\n"
     ]
    }
   ],
   "source": [
    "(c) Suponha que a inscrição foi prorrogada e, com isso, foi obtido um número adicional de inscrições: 68, 93, 22 e 0 inscritos a mais em cada uma das categorias de escolaridade apresentados na tabela acima (na mesma ordem). Assim, crie uma nova Series com esses valores."
   ]
  },
  {
   "cell_type": "code",
   "execution_count": null,
   "metadata": {},
   "outputs": [],
   "source": []
  },
  {
   "source": [
    "# Questão #2   \n",
    "Vale 10   \n",
    "Enunciado  \n",
    "   \n",
    "Uma turma de cinco alunos foi submetida a uma avaliação e a nota de cada um dos alunos é apresentada na tabela abaixo:   \n",
    "   \n",
    "|Nome do Aluno|\tNota|\n",
    "|---|----|\n",
    "|Wilfred|\t2|\n",
    "|Abbie|\t7|\n",
    "|Harry|\t5.5|\n",
    "|Julia|\t10|\n",
    "|Carri|\t6.2|\n",
    "(a) Crie uma Series com os valores da tabela acima.  \n",
    "(b) Retorne o número de alunos que foram aprovados (considerando que a nota mínima para a aprovação é 7).  \n",
    "(c) Qual foi a nota média da turma.  \n",
    "(d) Obtenha o nome dos alunos que tiraram notas acima da média da turma.  "
   ],
   "cell_type": "markdown",
   "metadata": {}
  },
  {
   "cell_type": "code",
   "execution_count": 23,
   "metadata": {},
   "outputs": [
    {
     "output_type": "execute_result",
     "data": {
      "text/plain": [
       "  Nome do Aluno  Nota\n",
       "0       Wilfred   2.0\n",
       "1         Abbie   7.0\n",
       "2         Harry   5.5\n",
       "3         Julia  10.0\n",
       "4        Carrie   6.2"
      ],
      "text/html": "<div>\n<style scoped>\n    .dataframe tbody tr th:only-of-type {\n        vertical-align: middle;\n    }\n\n    .dataframe tbody tr th {\n        vertical-align: top;\n    }\n\n    .dataframe thead th {\n        text-align: right;\n    }\n</style>\n<table border=\"1\" class=\"dataframe\">\n  <thead>\n    <tr style=\"text-align: right;\">\n      <th></th>\n      <th>Nome do Aluno</th>\n      <th>Nota</th>\n    </tr>\n  </thead>\n  <tbody>\n    <tr>\n      <th>0</th>\n      <td>Wilfred</td>\n      <td>2.0</td>\n    </tr>\n    <tr>\n      <th>1</th>\n      <td>Abbie</td>\n      <td>7.0</td>\n    </tr>\n    <tr>\n      <th>2</th>\n      <td>Harry</td>\n      <td>5.5</td>\n    </tr>\n    <tr>\n      <th>3</th>\n      <td>Julia</td>\n      <td>10.0</td>\n    </tr>\n    <tr>\n      <th>4</th>\n      <td>Carrie</td>\n      <td>6.2</td>\n    </tr>\n  </tbody>\n</table>\n</div>"
     },
     "metadata": {},
     "execution_count": 23
    }
   ],
   "source": [
    "df = pd.read_csv(StringIO(\"\"\"Nome do Aluno,Nota\n",
    "Wilfred,2\n",
    "Abbie,7\n",
    "Harry,5.5\n",
    "Julia,10\n",
    "Carrie,6.2\n",
    "\"\"\"))\n",
    "df\n",
    "\n",
    "\n"
   ]
  },
  {
   "source": [
    "#  Questão #3  \n",
    "Vale 10   \n",
    "Enunciado  \n",
    "Crie um objeto DataFrame que contenha os dados da tabela abaixo, os quais se referem ao peso, altura e idade de cinco pessoas:  \n",
    "  \n",
    "|Peso (kg)|\tAltura (cm)|\tIdade|\n",
    "|---|----|----| \n",
    "|72|180|31|\n",
    "|80|170|21|\n",
    "|60|175|16|\n",
    "|90|174|28|\n",
    "|10|\t185|\t23|\n",
    "Com base no DataFrame criado, realize o que pedido nos itens abaixo:\n",
    "\n",
    "(a) Visualize apenas os dados da coluna que contém a altura das pessoas.\n",
    "(b) Obtenha a idade média das pessoas.\n",
    "(c) Obtenha os dados das pessoas que estão abaixo da altura média.\n",
    "(d) Crie um nova coluna no DataFrame que contenha o IMC (Índice de Massa Corporal) de cada pessoa.\n",
    "(e) Remova a coluna que contém a idade das pessoas.\n",
    "(f) Salve esses dados do DataFrame em um arquivo csv."
   ],
   "cell_type": "markdown",
   "metadata": {}
  },
  {
   "cell_type": "code",
   "execution_count": 22,
   "metadata": {},
   "outputs": [
    {
     "output_type": "execute_result",
     "data": {
      "text/plain": [
       "   Peso (kg)  Altura (cm)  Idade\n",
       "0         72          180     31\n",
       "1         80          170     21\n",
       "2         60          175     16\n",
       "3         90          174     28\n",
       "4        100          185     23"
      ],
      "text/html": "<div>\n<style scoped>\n    .dataframe tbody tr th:only-of-type {\n        vertical-align: middle;\n    }\n\n    .dataframe tbody tr th {\n        vertical-align: top;\n    }\n\n    .dataframe thead th {\n        text-align: right;\n    }\n</style>\n<table border=\"1\" class=\"dataframe\">\n  <thead>\n    <tr style=\"text-align: right;\">\n      <th></th>\n      <th>Peso (kg)</th>\n      <th>Altura (cm)</th>\n      <th>Idade</th>\n    </tr>\n  </thead>\n  <tbody>\n    <tr>\n      <th>0</th>\n      <td>72</td>\n      <td>180</td>\n      <td>31</td>\n    </tr>\n    <tr>\n      <th>1</th>\n      <td>80</td>\n      <td>170</td>\n      <td>21</td>\n    </tr>\n    <tr>\n      <th>2</th>\n      <td>60</td>\n      <td>175</td>\n      <td>16</td>\n    </tr>\n    <tr>\n      <th>3</th>\n      <td>90</td>\n      <td>174</td>\n      <td>28</td>\n    </tr>\n    <tr>\n      <th>4</th>\n      <td>100</td>\n      <td>185</td>\n      <td>23</td>\n    </tr>\n  </tbody>\n</table>\n</div>"
     },
     "metadata": {},
     "execution_count": 22
    }
   ],
   "source": [
    "df = pd.read_csv(StringIO(\"\"\"Peso (kg),Altura (cm),Idade\n",
    "72,180,31\n",
    "80,170,21\n",
    "60,175,16\n",
    "90,174,28\n",
    "100,185,23\n",
    "\"\"\"))\n",
    "df"
   ]
  },
  {
   "source": [
    "# Questão #4  \n",
    "Vale 10  \n",
    "Enunciado  \n",
    "Carregue, em um objeto DataFrame, o arquivo CSV que você salvou no item (f) da questão anterior. Em seguida,  \n",
    "  \n",
    "(a) Crie uma nova coluna que contenha o nome das pessoas (sinta-se à vontade para atribuir os nomes que preferir).\n",
    "(b) Defina a nova coluna criada (com os nomes) como o índice (index) do seu DataFrame.\n",
    "(c) Obtenha o nome das pessoas que são classificadas com Sobrepeso (IMC entre 25 e 29,9)."
   ],
   "cell_type": "markdown",
   "metadata": {}
  },
  {
   "cell_type": "code",
   "execution_count": null,
   "metadata": {},
   "outputs": [],
   "source": []
  },
  {
   "source": [
    "# Questão #5  \n",
    "Vale 10   \n",
    "Enunciado  \n",
    "Carregue, em um objeto DataFrame, o mesmo dataset que você salvou na Questão 3. Em seguida,  \n",
    "  \n",
    "(a) Adicione uma nova coluna nesse DF chamada Classificação,   \n",
    "que contenha a classificação de cada indivíduo, de acordo com o seu IMC. Para isso, consulte a tabela abaixo.  \n",
    "  \n",
    "|IMC\tClassificação|\tObesidade (grau)|\n",
    "|---|----|\n",
    "|Menor que| 18,5|\tMagreza\t0|\n",
    "|Entre| 18,5 e 24,9|\tNormal\t0|\n",
    "|Entre| 25,0 e 29,9|\tSobrepeso\tI|\n",
    "|Entre| 30,0 e 39,9|\tObesidade\tII\n",
    "|Maior que| 40,0|\tObesidade Grave\tIII|\n",
    "(b) Salve em DataFrame no formato xlsx."
   ],
   "cell_type": "markdown",
   "metadata": {}
  },
  {
   "cell_type": "code",
   "execution_count": 24,
   "metadata": {},
   "outputs": [
    {
     "output_type": "execute_result",
     "data": {
      "text/plain": [
       "                 IMC    Classificação Obesidade (grau)\n",
       "0     Menor que 18,5          Magreza                0\n",
       "1  Entre 18,5 e 24,9           Normal                0\n",
       "2  Entre 25,0 e 29,9        Sobrepeso                I\n",
       "3  Entre 30,0 e 39,9        Obesidade               II\n",
       "4     Maior que 40,0  Obesidade Grave              III"
      ],
      "text/html": "<div>\n<style scoped>\n    .dataframe tbody tr th:only-of-type {\n        vertical-align: middle;\n    }\n\n    .dataframe tbody tr th {\n        vertical-align: top;\n    }\n\n    .dataframe thead th {\n        text-align: right;\n    }\n</style>\n<table border=\"1\" class=\"dataframe\">\n  <thead>\n    <tr style=\"text-align: right;\">\n      <th></th>\n      <th>IMC</th>\n      <th>Classificação</th>\n      <th>Obesidade (grau)</th>\n    </tr>\n  </thead>\n  <tbody>\n    <tr>\n      <th>0</th>\n      <td>Menor que 18,5</td>\n      <td>Magreza</td>\n      <td>0</td>\n    </tr>\n    <tr>\n      <th>1</th>\n      <td>Entre 18,5 e 24,9</td>\n      <td>Normal</td>\n      <td>0</td>\n    </tr>\n    <tr>\n      <th>2</th>\n      <td>Entre 25,0 e 29,9</td>\n      <td>Sobrepeso</td>\n      <td>I</td>\n    </tr>\n    <tr>\n      <th>3</th>\n      <td>Entre 30,0 e 39,9</td>\n      <td>Obesidade</td>\n      <td>II</td>\n    </tr>\n    <tr>\n      <th>4</th>\n      <td>Maior que 40,0</td>\n      <td>Obesidade Grave</td>\n      <td>III</td>\n    </tr>\n  </tbody>\n</table>\n</div>"
     },
     "metadata": {},
     "execution_count": 24
    }
   ],
   "source": [
    "df = pd.read_csv(StringIO(\"\"\"IMC,Classificação,Obesidade (grau)\n",
    "\"Menor que 18,5\",Magreza,0\n",
    "\"Entre 18,5 e 24,9\",Normal,0\n",
    "\"Entre 25,0 e 29,9\",Sobrepeso,I\n",
    "\"Entre 30,0 e 39,9\",Obesidade,II\n",
    "\"Maior que 40,0\",Obesidade Grave,III\n",
    "\"\"\"))\n",
    "df"
   ]
  },
  {
   "cell_type": "code",
   "execution_count": null,
   "metadata": {},
   "outputs": [],
   "source": []
  }
 ]
}