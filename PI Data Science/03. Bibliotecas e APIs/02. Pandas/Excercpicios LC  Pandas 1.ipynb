{
 "metadata": {
  "language_info": {
   "codemirror_mode": {
    "name": "ipython",
    "version": 3
   },
   "file_extension": ".py",
   "mimetype": "text/x-python",
   "name": "python",
   "nbconvert_exporter": "python",
   "pygments_lexer": "ipython3",
   "version": 3
  },
  "orig_nbformat": 2
 },
 "nbformat": 4,
 "nbformat_minor": 2,
 "cells": [
  {
   "source": [
    "# Questão #1  \n",
    "Vale 10  \n",
    "Enunciado   \n",
    "Em um concurso público foram contabilizados os números de pessoas inscritas   \n",
    "(até a data inicialmente estabelecida para a inscrição)   \n",
    "segundo os níveis de escolaridade: fundamental completo,   \n",
    "médio completo, superior completo e pós-graduação completa. Segue abaixo a tabela com os valores observados.\n",
    "  \n",
    "|Nível de escolaridade|\tInscritos  |\n",
    "|---|----|\n",
    "|Fundamental completo|\t451  |\n",
    "|Médio completo|\t627  |\n",
    "|Superior completo|\t292  |\n",
    "|Pós-graduação completa|\t95  |\n",
    "|Com base na tabela acima, crie uma Series com esses valores e calcule:  \n",
    "  \n",
    "(a) O número total de inscritos    \n",
    "(b) Número inscritos que possuem, pelo menos, o superior completo.    \n",
    "(c) Suponha que a inscrição foi prorrogada e, com isso, foi obtido um número adicional de inscrições:   68, 93, 22 e 0 inscritos a mais em cada uma das categorias de escolaridade apresentados na tabela acima   (na mesma ordem). Assim, crie uma nova Series com esses valores.  \n",
    "(d) Utilizando as duas Series que você tem, calcule o número total de inscritos após a prorrogação do período de inscrições.  "
   ],
   "cell_type": "markdown",
   "metadata": {}
  },
  {
   "cell_type": "code",
   "execution_count": null,
   "metadata": {},
   "outputs": [],
   "source": []
  },
  {
   "source": [
    "# Questão #2   \n",
    "Vale 10   \n",
    "Enunciado  \n",
    "   \n",
    "Uma turma de cinco alunos foi submetida a uma avaliação e a nota de cada um dos alunos é apresentada na tabela abaixo:   \n",
    "   \n",
    "|Nome do Aluno|\tNota|\n",
    "|---|----|\n",
    "|Wilfred|\t2|\n",
    "|Abbie|\t7|\n",
    "|Harry|\t5.5|\n",
    "|Julia|\t10|\n",
    "|Carri|\t6.2|\n",
    "(a) Crie uma Series com os valores da tabela acima.  \n",
    "(b) Retorne o número de alunos que foram aprovados (considerando que a nota mínima para a aprovação é 7).  \n",
    "(c) Qual foi a nota média da turma.  \n",
    "(d) Obtenha o nome dos alunos que tiraram notas acima da média da turma.  "
   ],
   "cell_type": "markdown",
   "metadata": {}
  },
  {
   "cell_type": "code",
   "execution_count": null,
   "metadata": {},
   "outputs": [],
   "source": []
  },
  {
   "source": [
    "#  Questão #3  \n",
    "Vale 10   \n",
    "Enunciado  \n",
    "Crie um objeto DataFrame que contenha os dados da tabela abaixo, os quais se referem ao peso, altura e idade de cinco pessoas:  \n",
    "  \n",
    "|Peso (kg)|\tAltura (cm)|\tIdade|\n",
    "|---|----|----| \n",
    "|72|180|31|\n",
    "|80|170|21|\n",
    "|60|175|16|\n",
    "|90|174|28|\n",
    "|10|\t185|\t23|\n",
    "Com base no DataFrame criado, realize o que pedido nos itens abaixo:\n",
    "\n",
    "(a) Visualize apenas os dados da coluna que contém a altura das pessoas.\n",
    "(b) Obtenha a idade média das pessoas.\n",
    "(c) Obtenha os dados das pessoas que estão abaixo da altura média.\n",
    "(d) Crie um nova coluna no DataFrame que contenha o IMC (Índice de Massa Corporal) de cada pessoa.\n",
    "(e) Remova a coluna que contém a idade das pessoas.\n",
    "(f) Salve esses dados do DataFrame em um arquivo csv."
   ],
   "cell_type": "markdown",
   "metadata": {}
  },
  {
   "cell_type": "code",
   "execution_count": null,
   "metadata": {},
   "outputs": [],
   "source": []
  },
  {
   "source": [
    "# Questão #4  \n",
    "Vale 10  \n",
    "Enunciado  \n",
    "Carregue, em um objeto DataFrame, o arquivo CSV que você salvou no item (f) da questão anterior. Em seguida,  \n",
    "  \n",
    "(a) Crie uma nova coluna que contenha o nome das pessoas (sinta-se à vontade para atribuir os nomes que preferir).\n",
    "(b) Defina a nova coluna criada (com os nomes) como o índice (index) do seu DataFrame.\n",
    "(c) Obtenha o nome das pessoas que são classificadas com Sobrepeso (IMC entre 25 e 29,9)."
   ],
   "cell_type": "markdown",
   "metadata": {}
  },
  {
   "cell_type": "code",
   "execution_count": null,
   "metadata": {},
   "outputs": [],
   "source": []
  },
  {
   "source": [
    "# Questão #5  \n",
    "Vale 10   \n",
    "Enunciado  \n",
    "Carregue, em um objeto DataFrame, o mesmo dataset que você salvou na Questão 3. Em seguida,  \n",
    "  \n",
    "(a) Adicione uma nova coluna nesse DF chamada Classificação,   \n",
    "que contenha a classificação de cada indivíduo, de acordo com o seu IMC. Para isso, consulte a tabela abaixo.  \n",
    "  \n",
    "|IMC\tClassificação|\tObesidade (grau)|\n",
    "|---|----|\n",
    "|Menor que| 18,5|\tMagreza\t0|\n",
    "|Entre| 18,5 e 24,9|\tNormal\t0|\n",
    "|Entre| 25,0 e 29,9|\tSobrepeso\tI|\n",
    "|Entre| 30,0 e 39,9|\tObesidade\tII\n",
    "|Maior que| 40,0|\tObesidade Grave\tIII|\n",
    "(b) Salve em DataFrame no formato xlsx."
   ],
   "cell_type": "markdown",
   "metadata": {}
  },
  {
   "cell_type": "code",
   "execution_count": null,
   "metadata": {},
   "outputs": [],
   "source": []
  }
 ]
}