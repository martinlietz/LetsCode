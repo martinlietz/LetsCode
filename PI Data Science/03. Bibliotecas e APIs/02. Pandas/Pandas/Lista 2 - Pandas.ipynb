{
 "cells": [
  {
   "cell_type": "markdown",
   "metadata": {},
   "source": [
    "# Lista 2 - Pandas"
   ]
  },
  {
   "cell_type": "markdown",
   "metadata": {},
   "source": [
    "## 0. Nunca se esqueça de importar as bibliotecas que vão ser usadas!"
   ]
  },
  {
   "cell_type": "markdown",
   "metadata": {},
   "source": [
    "__Exercício 0:__ Importe as bibliotecas pandas e numpy."
   ]
  },
  {
   "cell_type": "code",
   "execution_count": null,
   "metadata": {},
   "outputs": [],
   "source": []
  },
  {
   "cell_type": "markdown",
   "metadata": {},
   "source": [
    "## 1. Rotina de criação de Séries e DataFrames"
   ]
  },
  {
   "cell_type": "markdown",
   "metadata": {},
   "source": [
    "__Exercício 0__: Crie uma lista `num` de 100 números distintos e crie uma lista `quadnum` com os quadrados desses números (de forma que se conserve as posições). Crie uma série do pandas cuja indexação seja `num` e os dados `quadnum`."
   ]
  },
  {
   "cell_type": "code",
   "execution_count": null,
   "metadata": {},
   "outputs": [],
   "source": []
  },
  {
   "cell_type": "markdown",
   "metadata": {},
   "source": [
    "__Exercício 1__: Crie uma matriz $4\\times 4$ de números. A partir dessa matriz, crie um dataframe cujas linhas estão indexadas em `['padaria','mercado','banca_de_jornal','livraria']` e as colunas estão indexadas com `['Janeiro','Fevereiro','Março','Abril']`."
   ]
  },
  {
   "cell_type": "code",
   "execution_count": null,
   "metadata": {},
   "outputs": [],
   "source": []
  },
  {
   "cell_type": "markdown",
   "metadata": {},
   "source": [
    "__Exercício 2__: Observe o arquivo `urban_population.csv` e depois crie um dataframe `pop_urb` para armazenar esses dados, especificando a linha que irá indexar as colunas e a coluna que irá indexar as linhas."
   ]
  },
  {
   "cell_type": "code",
   "execution_count": null,
   "metadata": {},
   "outputs": [],
   "source": []
  },
  {
   "cell_type": "markdown",
   "metadata": {},
   "source": [
    "__Exercício 3__: Mais adiante no curso usaremos muito a biblioteca `datetime` para lidar com datas. Uma das funções dessa biblioteca é `datetime.datetime()` que recebe (nessa ordem) o ano, o mês e o dia, e retorna um objeto `datetime.datetime` para lidar com essa data. "
   ]
  },
  {
   "cell_type": "code",
   "execution_count": 5,
   "metadata": {},
   "outputs": [
    {
     "data": {
      "text/plain": [
       "datetime.datetime(2018, 5, 1, 0, 0)"
      ]
     },
     "execution_count": 5,
     "metadata": {},
     "output_type": "execute_result"
    }
   ],
   "source": [
    "#Exemplo\n",
    "import datetime as dt # deve-se importar a biblioteca\n",
    "data = dt.datetime(2018,5,1)\n",
    "data"
   ]
  },
  {
   "cell_type": "markdown",
   "metadata": {},
   "source": [
    "O pandas se integra muito bem com a datetime; uma função do pandas é `pd.date_range()` que recebe uma data inicial e o número de períodos da lista que ela deve gerar. Ela devolve um objeto que lida com index do pandas:\n",
    "\n",
    "``` python\n",
    "# Exemplo\n",
    "pd.date_range(data, periods=100)# gera um array-index com 100 dias consecutivos a partir de data\n",
    "```\n",
    "\n",
    "Crie uma série com 1000 entradas numéricas indexadas por uma lista de datas datetime começando em 2015-03-02."
   ]
  },
  {
   "cell_type": "code",
   "execution_count": null,
   "metadata": {},
   "outputs": [],
   "source": []
  },
  {
   "cell_type": "markdown",
   "metadata": {},
   "source": [
    "__Exercício 5__: Diferente do Excel, não podemos visualizar constantemente os dados armazenados em um dataframe. Para isso, o pandas disponibiliza os métodos `.info()`, `.head()` e `.tail()` e `.describe()`. Exiba o resultado desses métodos para o dataframe criado a partir do arquivo `GDP.csv`"
   ]
  },
  {
   "cell_type": "code",
   "execution_count": null,
   "metadata": {},
   "outputs": [],
   "source": []
  },
  {
   "cell_type": "markdown",
   "metadata": {},
   "source": [
    "__Exercício 6__: Algumas vezes, ao importar uma série ou um dataframe indexado por datas de algum arquivo, o importe não traz as datas no formato datetime. Importe o dataframe do arquivo `PBR.csv` (especificando a coluna que indexará as linhas e a linha que indexará a coluna) e verifique informações acerca do index com o método `.info()`. Caso não esteja no formato datetime, passe para o index do dataframe para o formato datetime com a função `pd.to_datetime()`; para acessar o index e modificá-lo, use o atributo `.index` do dataframe."
   ]
  },
  {
   "cell_type": "code",
   "execution_count": null,
   "metadata": {},
   "outputs": [],
   "source": []
  },
  {
   "cell_type": "markdown",
   "metadata": {},
   "source": [
    "__Exercício 7:__ Produza um dataframe `gdp` para armazenar as informações do arquivo `GDP.csv`. Produza outro dataframe `gdp_media` indexado nos países que armazena a diferença percentual do GDP em cada intervalo de ano."
   ]
  },
  {
   "cell_type": "code",
   "execution_count": null,
   "metadata": {},
   "outputs": [],
   "source": []
  },
  {
   "cell_type": "markdown",
   "metadata": {},
   "source": [
    "__Exercício 8:__ A partir do dataframe `pop_urb`, produza uma série indexada nos anos que armazene a média da população urbana em todos os países.  "
   ]
  },
  {
   "cell_type": "code",
   "execution_count": null,
   "metadata": {},
   "outputs": [],
   "source": []
  },
  {
   "cell_type": "markdown",
   "metadata": {},
   "source": [
    "## 2. Indexação e *Slicing*"
   ]
  },
  {
   "cell_type": "markdown",
   "metadata": {},
   "source": [
    "__Exercício 0:__ Use o dataframe criado para lidar com o arquivo `GDP.csv` para dizer qual foi o GDP do Brazil em 1990."
   ]
  },
  {
   "cell_type": "code",
   "execution_count": null,
   "metadata": {},
   "outputs": [],
   "source": []
  },
  {
   "cell_type": "markdown",
   "metadata": {},
   "source": [
    "__Exercício 1:__ No arquivo `imoveis_Rio_de_Janeiro.csv`, calcule a média do preço por metro quadrado dos imóveis que possuem apenas 2 quartos."
   ]
  },
  {
   "cell_type": "code",
   "execution_count": null,
   "metadata": {},
   "outputs": [],
   "source": []
  },
  {
   "cell_type": "markdown",
   "metadata": {},
   "source": [
    "__Exercício 2:__ Com o arquivo `imoveis_Rio_de_Janeiro.csv`, produza um dataframe para armazenar a média dos preços por metro quadrado em função do número de quartos."
   ]
  },
  {
   "cell_type": "code",
   "execution_count": null,
   "metadata": {},
   "outputs": [],
   "source": []
  },
  {
   "cell_type": "markdown",
   "metadata": {},
   "source": [
    "__Exercício 3:__ Com o arquivo `tips.csv` calcule a média de gorgetas dadas por pessoas fumantes."
   ]
  },
  {
   "cell_type": "code",
   "execution_count": null,
   "metadata": {},
   "outputs": [],
   "source": []
  },
  {
   "cell_type": "markdown",
   "metadata": {},
   "source": [
    "__Exercício 4:__ Recorte o dataframe `pop_urb` para obter apenas os países que estão abaixo das médias calculadas no exercício __1.8__ no ano de 1990. Faça o mesmo para os que estão abaixo da média."
   ]
  },
  {
   "cell_type": "code",
   "execution_count": null,
   "metadata": {},
   "outputs": [],
   "source": []
  },
  {
   "cell_type": "markdown",
   "metadata": {},
   "source": [
    "__Exercício 5__ No dataframe `pbr`, calcule a média da coluna `Close` apenas no mês de setembro de 2018. Recorte o dataframe para obter apenas os dias de setembro nos quais `Close` estava acima da média. Faça o mesmo para os que estavam abaixo da média."
   ]
  },
  {
   "cell_type": "code",
   "execution_count": null,
   "metadata": {},
   "outputs": [],
   "source": []
  }
 ],
 "metadata": {
  "kernelspec": {
   "display_name": "Python 3",
   "language": "python",
   "name": "python3"
  },
  "language_info": {
   "codemirror_mode": {
    "name": "ipython",
    "version": 3
   },
   "file_extension": ".py",
   "mimetype": "text/x-python",
   "name": "python",
   "nbconvert_exporter": "python",
   "pygments_lexer": "ipython3",
   "version": "3.7.1"
  }
 },
 "nbformat": 4,
 "nbformat_minor": 2
}
