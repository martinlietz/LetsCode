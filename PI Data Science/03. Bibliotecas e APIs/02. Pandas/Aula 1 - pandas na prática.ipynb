{
 "cells": [
  {
   "cell_type": "markdown",
   "metadata": {},
   "source": [
    "# Aula 1 - Pandas na prática!\n",
    "\n",
    "Na aula de hoje, vamos explorar os seguintes tópicos em Python:\n",
    "\n",
    "- 1) Pandas"
   ]
  },
  {
   "cell_type": "markdown",
   "metadata": {},
   "source": [
    "___"
   ]
  },
  {
   "cell_type": "markdown",
   "metadata": {},
   "source": [
    "## 1) Pandas\n",
    "\n",
    "O **[Pandas](https://pandas.pydata.org/)** é uma das bibliotecas mais usadas em data science.\n",
    "\n",
    "Esta biblioteca, construída a partir do Numpy, possibilita a estruturação e manipulação de dados de maneira simples e eficiente.\n",
    "\n",
    "Comos os dados são a matéria prima de todo projeto de data science, manipulá-los é fundamental! Por isso, utilizaremos o Pandas em quase todas as aulas daqui pra frente!"
   ]
  },
  {
   "cell_type": "code",
   "execution_count": 1,
   "metadata": {
    "ExecuteTime": {
     "end_time": "2020-01-04T21:03:52.311761Z",
     "start_time": "2020-01-04T21:03:52.303777Z"
    }
   },
   "outputs": [],
   "source": [
    "import pandas as pd"
   ]
  },
  {
   "cell_type": "markdown",
   "metadata": {},
   "source": [
    "### DataFrame\n",
    "\n",
    "O objeto do Pandas que mais utilizaremos será o **DataFrame**\n",
    "\n",
    "Como veremos a seguir, o DataFrame é uma estrutura que se assemalha a uma **tabela**."
   ]
  },
  {
   "cell_type": "markdown",
   "metadata": {},
   "source": [
    "___"
   ]
  },
  {
   "cell_type": "markdown",
   "metadata": {},
   "source": [
    "### Lendo dados de um arquivo\n",
    "\n",
    "A forma mais comum de se construir um dataframe é a partir da **leitura de um arquivo**\n",
    "\n",
    "Em geral, queremos ler arquivos já estruturados como base de dados, em formatos como .csv, .txt, .xlsx, etc.\n",
    "\n",
    "O pandas é capaz de ler todos esses formatos, com funções específicas!"
   ]
  },
  {
   "cell_type": "markdown",
   "metadata": {},
   "source": [
    "_______\n",
    "\n",
    "**Exemplo 1:** lista de arquivos (módulo 1)\n",
    "\n",
    "1. Faça um programa que imprima as linhas do arquivo alunos.csv\n"
   ]
  },
  {
   "cell_type": "code",
   "execution_count": 2,
   "metadata": {},
   "outputs": [],
   "source": [
    "# # não recomendado - caminhos absolutos\n",
    "# pd.read_csv(\"C:/Users/Andre/Google Drive/_lets_code/pi_ds/674/módulo 3/datasets/alunos.csv\", sep=\";\")\n",
    "\n",
    "df = pd.read_csv(\"../datasets/alunos.csv\", sep=\";\")"
   ]
  },
  {
   "cell_type": "code",
   "execution_count": 19,
   "metadata": {},
   "outputs": [
    {
     "data": {
      "text/html": [
       "<div>\n",
       "<style scoped>\n",
       "    .dataframe tbody tr th:only-of-type {\n",
       "        vertical-align: middle;\n",
       "    }\n",
       "\n",
       "    .dataframe tbody tr th {\n",
       "        vertical-align: top;\n",
       "    }\n",
       "\n",
       "    .dataframe thead th {\n",
       "        text-align: right;\n",
       "    }\n",
       "</style>\n",
       "<table border=\"1\" class=\"dataframe\">\n",
       "  <thead>\n",
       "    <tr style=\"text-align: right;\">\n",
       "      <th></th>\n",
       "      <th>RA</th>\n",
       "      <th>Nome</th>\n",
       "      <th>Frequencia</th>\n",
       "      <th>Prova_1</th>\n",
       "      <th>Prova_2</th>\n",
       "      <th>Prova_3</th>\n",
       "      <th>Prova_4</th>\n",
       "    </tr>\n",
       "  </thead>\n",
       "  <tbody>\n",
       "    <tr>\n",
       "      <th>0</th>\n",
       "      <td>110201</td>\n",
       "      <td>Antonio Carlos</td>\n",
       "      <td>20</td>\n",
       "      <td>6.5</td>\n",
       "      <td>8.5</td>\n",
       "      <td>7.0</td>\n",
       "      <td>6</td>\n",
       "    </tr>\n",
       "    <tr>\n",
       "      <th>1</th>\n",
       "      <td>110212</td>\n",
       "      <td>Ana Beatriz</td>\n",
       "      <td>20</td>\n",
       "      <td>7.0</td>\n",
       "      <td>7.0</td>\n",
       "      <td>7.0</td>\n",
       "      <td>8</td>\n",
       "    </tr>\n",
       "    <tr>\n",
       "      <th>2</th>\n",
       "      <td>110218</td>\n",
       "      <td>Carlos Vernes</td>\n",
       "      <td>17</td>\n",
       "      <td>7.0</td>\n",
       "      <td>7.0</td>\n",
       "      <td>7.0</td>\n",
       "      <td>7</td>\n",
       "    </tr>\n",
       "    <tr>\n",
       "      <th>3</th>\n",
       "      <td>110307</td>\n",
       "      <td>Francisco Cunha</td>\n",
       "      <td>20</td>\n",
       "      <td>9.0</td>\n",
       "      <td>8.5</td>\n",
       "      <td>8.5</td>\n",
       "      <td>10</td>\n",
       "    </tr>\n",
       "    <tr>\n",
       "      <th>4</th>\n",
       "      <td>110275</td>\n",
       "      <td>Sandra Rosa</td>\n",
       "      <td>15</td>\n",
       "      <td>6.5</td>\n",
       "      <td>7.5</td>\n",
       "      <td>7.0</td>\n",
       "      <td>7</td>\n",
       "    </tr>\n",
       "    <tr>\n",
       "      <th>5</th>\n",
       "      <td>110281</td>\n",
       "      <td>Juliana Arruda</td>\n",
       "      <td>18</td>\n",
       "      <td>7.5</td>\n",
       "      <td>7.0</td>\n",
       "      <td>7.5</td>\n",
       "      <td>8</td>\n",
       "    </tr>\n",
       "    <tr>\n",
       "      <th>6</th>\n",
       "      <td>110301</td>\n",
       "      <td>Joao Galo</td>\n",
       "      <td>20</td>\n",
       "      <td>5.0</td>\n",
       "      <td>6.5</td>\n",
       "      <td>7.0</td>\n",
       "      <td>5</td>\n",
       "    </tr>\n",
       "    <tr>\n",
       "      <th>7</th>\n",
       "      <td>110263</td>\n",
       "      <td>José Valente</td>\n",
       "      <td>20</td>\n",
       "      <td>10.0</td>\n",
       "      <td>10.0</td>\n",
       "      <td>10.0</td>\n",
       "      <td>10</td>\n",
       "    </tr>\n",
       "    <tr>\n",
       "      <th>8</th>\n",
       "      <td>110271</td>\n",
       "      <td>Maria Ferreira</td>\n",
       "      <td>19</td>\n",
       "      <td>9.5</td>\n",
       "      <td>8.0</td>\n",
       "      <td>7.0</td>\n",
       "      <td>10</td>\n",
       "    </tr>\n",
       "    <tr>\n",
       "      <th>9</th>\n",
       "      <td>110236</td>\n",
       "      <td>Adriana Tavares</td>\n",
       "      <td>20</td>\n",
       "      <td>8.0</td>\n",
       "      <td>8.0</td>\n",
       "      <td>8.0</td>\n",
       "      <td>8</td>\n",
       "    </tr>\n",
       "  </tbody>\n",
       "</table>\n",
       "</div>"
      ],
      "text/plain": [
       "       RA             Nome  Frequencia  Prova_1  Prova_2  Prova_3  Prova_4\n",
       "0  110201   Antonio Carlos          20      6.5      8.5      7.0        6\n",
       "1  110212      Ana Beatriz          20      7.0      7.0      7.0        8\n",
       "2  110218    Carlos Vernes          17      7.0      7.0      7.0        7\n",
       "3  110307  Francisco Cunha          20      9.0      8.5      8.5       10\n",
       "4  110275      Sandra Rosa          15      6.5      7.5      7.0        7\n",
       "5  110281   Juliana Arruda          18      7.5      7.0      7.5        8\n",
       "6  110301        Joao Galo          20      5.0      6.5      7.0        5\n",
       "7  110263     José Valente          20     10.0     10.0     10.0       10\n",
       "8  110271   Maria Ferreira          19      9.5      8.0      7.0       10\n",
       "9  110236  Adriana Tavares          20      8.0      8.0      8.0        8"
      ]
     },
     "execution_count": 19,
     "metadata": {},
     "output_type": "execute_result"
    }
   ],
   "source": [
    "df"
   ]
  },
  {
   "cell_type": "code",
   "execution_count": 3,
   "metadata": {
    "scrolled": true
   },
   "outputs": [
    {
     "output_type": "stream",
     "name": "stdout",
     "text": [
      "       RA             Nome  Frequencia  Prova_1  Prova_2  Prova_3  Prova_4\n0  110201   Antonio Carlos          20      6.5      8.5      7.0        6\n1  110212      Ana Beatriz          20      7.0      7.0      7.0        8\n2  110218    Carlos Vernes          17      7.0      7.0      7.0        7\n3  110307  Francisco Cunha          20      9.0      8.5      8.5       10\n4  110275      Sandra Rosa          15      6.5      7.5      7.0        7\n5  110281   Juliana Arruda          18      7.5      7.0      7.5        8\n6  110301        Joao Galo          20      5.0      6.5      7.0        5\n7  110263     José Valente          20     10.0     10.0     10.0       10\n8  110271   Maria Ferreira          19      9.5      8.0      7.0       10\n9  110236  Adriana Tavares          20      8.0      8.0      8.0        8\n"
     ]
    }
   ],
   "source": [
    "print(df)"
   ]
  },
  {
   "cell_type": "code",
   "execution_count": 4,
   "metadata": {},
   "outputs": [
    {
     "output_type": "stream",
     "name": "stdout",
     "text": [
      "RA\nNome\nFrequencia\nProva_1\nProva_2\nProva_3\nProva_4\n"
     ]
    }
   ],
   "source": [
    "for col in df:\n",
    "    \n",
    "    print(col)"
   ]
  },
  {
   "cell_type": "code",
   "execution_count": 23,
   "metadata": {},
   "outputs": [
    {
     "data": {
      "text/plain": [
       "['RA', 'Nome', 'Frequencia', 'Prova_1', 'Prova_2', 'Prova_3', 'Prova_4']"
      ]
     },
     "execution_count": 23,
     "metadata": {},
     "output_type": "execute_result"
    }
   ],
   "source": [
    "df.columns.tolist()"
   ]
  },
  {
   "cell_type": "code",
   "execution_count": 5,
   "metadata": {},
   "outputs": [
    {
     "output_type": "execute_result",
     "data": {
      "text/plain": [
       "[0, 1, 2, 3, 4, 5, 6, 7, 8, 9]"
      ]
     },
     "metadata": {},
     "execution_count": 5
    }
   ],
   "source": [
    "df.index.tolist()"
   ]
  },
  {
   "cell_type": "code",
   "execution_count": 6,
   "metadata": {},
   "outputs": [
    {
     "output_type": "execute_result",
     "data": {
      "text/plain": [
       "       RA            Nome  Frequencia  Prova_1  Prova_2  Prova_3  Prova_4\n",
       "0  110201  Antonio Carlos          20      6.5      8.5      7.0        6\n",
       "1  110212     Ana Beatriz          20      7.0      7.0      7.0        8\n",
       "2  110218   Carlos Vernes          17      7.0      7.0      7.0        7"
      ],
      "text/html": "<div>\n<style scoped>\n    .dataframe tbody tr th:only-of-type {\n        vertical-align: middle;\n    }\n\n    .dataframe tbody tr th {\n        vertical-align: top;\n    }\n\n    .dataframe thead th {\n        text-align: right;\n    }\n</style>\n<table border=\"1\" class=\"dataframe\">\n  <thead>\n    <tr style=\"text-align: right;\">\n      <th></th>\n      <th>RA</th>\n      <th>Nome</th>\n      <th>Frequencia</th>\n      <th>Prova_1</th>\n      <th>Prova_2</th>\n      <th>Prova_3</th>\n      <th>Prova_4</th>\n    </tr>\n  </thead>\n  <tbody>\n    <tr>\n      <th>0</th>\n      <td>110201</td>\n      <td>Antonio Carlos</td>\n      <td>20</td>\n      <td>6.5</td>\n      <td>8.5</td>\n      <td>7.0</td>\n      <td>6</td>\n    </tr>\n    <tr>\n      <th>1</th>\n      <td>110212</td>\n      <td>Ana Beatriz</td>\n      <td>20</td>\n      <td>7.0</td>\n      <td>7.0</td>\n      <td>7.0</td>\n      <td>8</td>\n    </tr>\n    <tr>\n      <th>2</th>\n      <td>110218</td>\n      <td>Carlos Vernes</td>\n      <td>17</td>\n      <td>7.0</td>\n      <td>7.0</td>\n      <td>7.0</td>\n      <td>7</td>\n    </tr>\n  </tbody>\n</table>\n</div>"
     },
     "metadata": {},
     "execution_count": 6
    }
   ],
   "source": [
    "df.head(3)"
   ]
  },
  {
   "cell_type": "code",
   "execution_count": 34,
   "metadata": {},
   "outputs": [
    {
     "data": {
      "text/html": [
       "<div>\n",
       "<style scoped>\n",
       "    .dataframe tbody tr th:only-of-type {\n",
       "        vertical-align: middle;\n",
       "    }\n",
       "\n",
       "    .dataframe tbody tr th {\n",
       "        vertical-align: top;\n",
       "    }\n",
       "\n",
       "    .dataframe thead th {\n",
       "        text-align: right;\n",
       "    }\n",
       "</style>\n",
       "<table border=\"1\" class=\"dataframe\">\n",
       "  <thead>\n",
       "    <tr style=\"text-align: right;\">\n",
       "      <th></th>\n",
       "      <th>RA</th>\n",
       "      <th>Nome</th>\n",
       "      <th>Frequencia</th>\n",
       "      <th>Prova_1</th>\n",
       "      <th>Prova_2</th>\n",
       "      <th>Prova_3</th>\n",
       "      <th>Prova_4</th>\n",
       "    </tr>\n",
       "  </thead>\n",
       "  <tbody>\n",
       "    <tr>\n",
       "      <th>7</th>\n",
       "      <td>110263</td>\n",
       "      <td>José Valente</td>\n",
       "      <td>20</td>\n",
       "      <td>10.0</td>\n",
       "      <td>10.0</td>\n",
       "      <td>10.0</td>\n",
       "      <td>10</td>\n",
       "    </tr>\n",
       "    <tr>\n",
       "      <th>8</th>\n",
       "      <td>110271</td>\n",
       "      <td>Maria Ferreira</td>\n",
       "      <td>19</td>\n",
       "      <td>9.5</td>\n",
       "      <td>8.0</td>\n",
       "      <td>7.0</td>\n",
       "      <td>10</td>\n",
       "    </tr>\n",
       "    <tr>\n",
       "      <th>9</th>\n",
       "      <td>110236</td>\n",
       "      <td>Adriana Tavares</td>\n",
       "      <td>20</td>\n",
       "      <td>8.0</td>\n",
       "      <td>8.0</td>\n",
       "      <td>8.0</td>\n",
       "      <td>8</td>\n",
       "    </tr>\n",
       "  </tbody>\n",
       "</table>\n",
       "</div>"
      ],
      "text/plain": [
       "       RA             Nome  Frequencia  Prova_1  Prova_2  Prova_3  Prova_4\n",
       "7  110263     José Valente          20     10.0     10.0     10.0       10\n",
       "8  110271   Maria Ferreira          19      9.5      8.0      7.0       10\n",
       "9  110236  Adriana Tavares          20      8.0      8.0      8.0        8"
      ]
     },
     "execution_count": 34,
     "metadata": {},
     "output_type": "execute_result"
    }
   ],
   "source": [
    "df.tail(3)"
   ]
  },
  {
   "cell_type": "code",
   "execution_count": 7,
   "metadata": {},
   "outputs": [
    {
     "output_type": "execute_result",
     "data": {
      "text/plain": [
       "pandas.core.frame.DataFrame"
      ]
     },
     "metadata": {},
     "execution_count": 7
    }
   ],
   "source": [
    "type(df)"
   ]
  },
  {
   "cell_type": "code",
   "execution_count": 8,
   "metadata": {},
   "outputs": [
    {
     "output_type": "execute_result",
     "data": {
      "text/plain": [
       "0    20\n",
       "1    20\n",
       "2    17\n",
       "3    20\n",
       "4    15\n",
       "5    18\n",
       "6    20\n",
       "7    20\n",
       "8    19\n",
       "9    20\n",
       "Name: Frequencia, dtype: int64"
      ]
     },
     "metadata": {},
     "execution_count": 8
    }
   ],
   "source": [
    "df[\"Frequencia\"]"
   ]
  },
  {
   "cell_type": "code",
   "execution_count": 9,
   "metadata": {},
   "outputs": [
    {
     "output_type": "execute_result",
     "data": {
      "text/plain": [
       "0    110201\n",
       "1    110212\n",
       "2    110218\n",
       "3    110307\n",
       "4    110275\n",
       "5    110281\n",
       "6    110301\n",
       "7    110263\n",
       "8    110271\n",
       "9    110236\n",
       "Name: RA, dtype: int64"
      ]
     },
     "metadata": {},
     "execution_count": 9
    }
   ],
   "source": [
    "df[\"RA\"]"
   ]
  },
  {
   "cell_type": "code",
   "execution_count": 10,
   "metadata": {},
   "outputs": [
    {
     "output_type": "execute_result",
     "data": {
      "text/plain": [
       "       RA             Nome  Frequencia  Prova_1  Prova_2  Prova_3  Prova_4\n",
       "0  110201   Antonio Carlos          20      6.5      8.5      7.0        6\n",
       "1  110212      Ana Beatriz          20      7.0      7.0      7.0        8\n",
       "2  110218    Carlos Vernes          17      7.0      7.0      7.0        7\n",
       "3  110307  Francisco Cunha          20      9.0      8.5      8.5       10\n",
       "4  110275      Sandra Rosa          15      6.5      7.5      7.0        7\n",
       "5  110281   Juliana Arruda          18      7.5      7.0      7.5        8\n",
       "6  110301        Joao Galo          20      5.0      6.5      7.0        5\n",
       "7  110263     José Valente          20     10.0     10.0     10.0       10\n",
       "8  110271   Maria Ferreira          19      9.5      8.0      7.0       10\n",
       "9  110236  Adriana Tavares          20      8.0      8.0      8.0        8"
      ],
      "text/html": "<div>\n<style scoped>\n    .dataframe tbody tr th:only-of-type {\n        vertical-align: middle;\n    }\n\n    .dataframe tbody tr th {\n        vertical-align: top;\n    }\n\n    .dataframe thead th {\n        text-align: right;\n    }\n</style>\n<table border=\"1\" class=\"dataframe\">\n  <thead>\n    <tr style=\"text-align: right;\">\n      <th></th>\n      <th>RA</th>\n      <th>Nome</th>\n      <th>Frequencia</th>\n      <th>Prova_1</th>\n      <th>Prova_2</th>\n      <th>Prova_3</th>\n      <th>Prova_4</th>\n    </tr>\n  </thead>\n  <tbody>\n    <tr>\n      <th>0</th>\n      <td>110201</td>\n      <td>Antonio Carlos</td>\n      <td>20</td>\n      <td>6.5</td>\n      <td>8.5</td>\n      <td>7.0</td>\n      <td>6</td>\n    </tr>\n    <tr>\n      <th>1</th>\n      <td>110212</td>\n      <td>Ana Beatriz</td>\n      <td>20</td>\n      <td>7.0</td>\n      <td>7.0</td>\n      <td>7.0</td>\n      <td>8</td>\n    </tr>\n    <tr>\n      <th>2</th>\n      <td>110218</td>\n      <td>Carlos Vernes</td>\n      <td>17</td>\n      <td>7.0</td>\n      <td>7.0</td>\n      <td>7.0</td>\n      <td>7</td>\n    </tr>\n    <tr>\n      <th>3</th>\n      <td>110307</td>\n      <td>Francisco Cunha</td>\n      <td>20</td>\n      <td>9.0</td>\n      <td>8.5</td>\n      <td>8.5</td>\n      <td>10</td>\n    </tr>\n    <tr>\n      <th>4</th>\n      <td>110275</td>\n      <td>Sandra Rosa</td>\n      <td>15</td>\n      <td>6.5</td>\n      <td>7.5</td>\n      <td>7.0</td>\n      <td>7</td>\n    </tr>\n    <tr>\n      <th>5</th>\n      <td>110281</td>\n      <td>Juliana Arruda</td>\n      <td>18</td>\n      <td>7.5</td>\n      <td>7.0</td>\n      <td>7.5</td>\n      <td>8</td>\n    </tr>\n    <tr>\n      <th>6</th>\n      <td>110301</td>\n      <td>Joao Galo</td>\n      <td>20</td>\n      <td>5.0</td>\n      <td>6.5</td>\n      <td>7.0</td>\n      <td>5</td>\n    </tr>\n    <tr>\n      <th>7</th>\n      <td>110263</td>\n      <td>José Valente</td>\n      <td>20</td>\n      <td>10.0</td>\n      <td>10.0</td>\n      <td>10.0</td>\n      <td>10</td>\n    </tr>\n    <tr>\n      <th>8</th>\n      <td>110271</td>\n      <td>Maria Ferreira</td>\n      <td>19</td>\n      <td>9.5</td>\n      <td>8.0</td>\n      <td>7.0</td>\n      <td>10</td>\n    </tr>\n    <tr>\n      <th>9</th>\n      <td>110236</td>\n      <td>Adriana Tavares</td>\n      <td>20</td>\n      <td>8.0</td>\n      <td>8.0</td>\n      <td>8.0</td>\n      <td>8</td>\n    </tr>\n  </tbody>\n</table>\n</div>"
     },
     "metadata": {},
     "execution_count": 10
    }
   ],
   "source": [
    "df"
   ]
  },
  {
   "cell_type": "code",
   "execution_count": 11,
   "metadata": {},
   "outputs": [
    {
     "output_type": "execute_result",
     "data": {
      "text/plain": [
       "(10, 7)"
      ]
     },
     "metadata": {},
     "execution_count": 11
    }
   ],
   "source": [
    "df.shape"
   ]
  },
  {
   "cell_type": "code",
   "execution_count": 51,
   "metadata": {},
   "outputs": [
    {
     "data": {
      "text/plain": [
       "10"
      ]
     },
     "execution_count": 51,
     "metadata": {},
     "output_type": "execute_result"
    }
   ],
   "source": [
    "df.shape[0]"
   ]
  },
  {
   "cell_type": "code",
   "execution_count": 57,
   "metadata": {},
   "outputs": [
    {
     "data": {
      "text/html": [
       "<div>\n",
       "<style scoped>\n",
       "    .dataframe tbody tr th:only-of-type {\n",
       "        vertical-align: middle;\n",
       "    }\n",
       "\n",
       "    .dataframe tbody tr th {\n",
       "        vertical-align: top;\n",
       "    }\n",
       "\n",
       "    .dataframe thead th {\n",
       "        text-align: right;\n",
       "    }\n",
       "</style>\n",
       "<table border=\"1\" class=\"dataframe\">\n",
       "  <thead>\n",
       "    <tr style=\"text-align: right;\">\n",
       "      <th></th>\n",
       "      <th>RA</th>\n",
       "      <th>Nome</th>\n",
       "      <th>Frequencia</th>\n",
       "      <th>Prova_1</th>\n",
       "      <th>Prova_2</th>\n",
       "      <th>Prova_3</th>\n",
       "      <th>Prova_4</th>\n",
       "    </tr>\n",
       "  </thead>\n",
       "  <tbody>\n",
       "    <tr>\n",
       "      <th>0</th>\n",
       "      <td>110201</td>\n",
       "      <td>Antonio Carlos</td>\n",
       "      <td>20</td>\n",
       "      <td>6.5</td>\n",
       "      <td>8.5</td>\n",
       "      <td>7.0</td>\n",
       "      <td>6</td>\n",
       "    </tr>\n",
       "  </tbody>\n",
       "</table>\n",
       "</div>"
      ],
      "text/plain": [
       "       RA            Nome  Frequencia  Prova_1  Prova_2  Prova_3  Prova_4\n",
       "0  110201  Antonio Carlos          20      6.5      8.5      7.0        6"
      ]
     },
     "execution_count": 57,
     "metadata": {},
     "output_type": "execute_result"
    }
   ],
   "source": [
    "df.head(1)"
   ]
  },
  {
   "cell_type": "code",
   "execution_count": 13,
   "metadata": {},
   "outputs": [
    {
     "output_type": "execute_result",
     "data": {
      "text/plain": [
       "array([110307, 'Francisco Cunha', 20, 9.0, 8.5, 8.5, 10], dtype=object)"
      ]
     },
     "metadata": {},
     "execution_count": 13
    }
   ],
   "source": [
    "df.loc[3].values"
   ]
  },
  {
   "cell_type": "code",
   "execution_count": 14,
   "metadata": {},
   "outputs": [
    {
     "output_type": "stream",
     "name": "stdout",
     "text": [
      "[110201 'Antonio Carlos' 20 6.5 8.5 7.0 6]\n[110212 'Ana Beatriz' 20 7.0 7.0 7.0 8]\n[110218 'Carlos Vernes' 17 7.0 7.0 7.0 7]\n[110307 'Francisco Cunha' 20 9.0 8.5 8.5 10]\n[110275 'Sandra Rosa' 15 6.5 7.5 7.0 7]\n[110281 'Juliana Arruda' 18 7.5 7.0 7.5 8]\n[110301 'Joao Galo' 20 5.0 6.5 7.0 5]\n[110263 'José Valente' 20 10.0 10.0 10.0 10]\n[110271 'Maria Ferreira' 19 9.5 8.0 7.0 10]\n[110236 'Adriana Tavares' 20 8.0 8.0 8.0 8]\n"
     ]
    }
   ],
   "source": [
    "for i in range(df.shape[0]):\n",
    "    \n",
    "    print(df.loc[i].values)"
   ]
  },
  {
   "cell_type": "markdown",
   "metadata": {},
   "source": [
    "# RESPOSTA FINAL"
   ]
  },
  {
   "cell_type": "code",
   "execution_count": 15,
   "metadata": {},
   "outputs": [
    {
     "output_type": "stream",
     "name": "stdout",
     "text": [
      "110201\tAntonio Carlos\t20\t6.5\t8.5\t7.0\t6\n110212\tAna Beatriz\t20\t7.0\t7.0\t7.0\t8\n110218\tCarlos Vernes\t17\t7.0\t7.0\t7.0\t7\n110307\tFrancisco Cunha\t20\t9.0\t8.5\t8.5\t10\n110275\tSandra Rosa\t15\t6.5\t7.5\t7.0\t7\n110281\tJuliana Arruda\t18\t7.5\t7.0\t7.5\t8\n110301\tJoao Galo\t20\t5.0\t6.5\t7.0\t5\n110263\tJosé Valente\t20\t10.0\t10.0\t10.0\t10\n110271\tMaria Ferreira\t19\t9.5\t8.0\t7.0\t10\n110236\tAdriana Tavares\t20\t8.0\t8.0\t8.0\t8\n"
     ]
    }
   ],
   "source": [
    "df = pd.read_csv(\"../datasets/alunos.csv\", sep=\";\")\n",
    "\n",
    "for i in range(df.shape[0]):\n",
    "    \n",
    "    print(\"\\t\".join([str(x) for x in df.loc[i].values]))"
   ]
  },
  {
   "cell_type": "markdown",
   "metadata": {},
   "source": [
    "_______\n",
    "\n",
    "2. Faça um programa que imprima as linhas do arquivo alunos.csv como listas.\n",
    "\n"
   ]
  },
  {
   "cell_type": "code",
   "execution_count": 16,
   "metadata": {},
   "outputs": [
    {
     "output_type": "stream",
     "name": "stdout",
     "text": [
      "[110201, 'Antonio Carlos', 20, 6.5, 8.5, 7.0, 6]\n[110212, 'Ana Beatriz', 20, 7.0, 7.0, 7.0, 8]\n[110218, 'Carlos Vernes', 17, 7.0, 7.0, 7.0, 7]\n[110307, 'Francisco Cunha', 20, 9.0, 8.5, 8.5, 10]\n[110275, 'Sandra Rosa', 15, 6.5, 7.5, 7.0, 7]\n[110281, 'Juliana Arruda', 18, 7.5, 7.0, 7.5, 8]\n[110301, 'Joao Galo', 20, 5.0, 6.5, 7.0, 5]\n[110263, 'José Valente', 20, 10.0, 10.0, 10.0, 10]\n[110271, 'Maria Ferreira', 19, 9.5, 8.0, 7.0, 10]\n[110236, 'Adriana Tavares', 20, 8.0, 8.0, 8.0, 8]\n"
     ]
    }
   ],
   "source": [
    "df = pd.read_csv(\"../datasets/alunos.csv\", sep=\";\")\n",
    "\n",
    "for i in range(df.shape[0]):\n",
    "    \n",
    "    print(df.loc[i].values.tolist())"
   ]
  },
  {
   "cell_type": "markdown",
   "metadata": {},
   "source": [
    "3. Faça um programa que imprima os elementos da coluna ‘Nome’ do arquivo alunos.csv."
   ]
  },
  {
   "cell_type": "code",
   "execution_count": 17,
   "metadata": {},
   "outputs": [
    {
     "output_type": "execute_result",
     "data": {
      "text/plain": [
       "3    Francisco Cunha\n",
       "4        Sandra Rosa\n",
       "Name: Nome, dtype: object"
      ]
     },
     "metadata": {},
     "execution_count": 17
    }
   ],
   "source": [
    "df[\"Nome\"][3:5]"
   ]
  },
  {
   "cell_type": "code",
   "execution_count": 78,
   "metadata": {},
   "outputs": [
    {
     "name": "stdout",
     "output_type": "stream",
     "text": [
      "Antonio Carlos\n",
      "Ana Beatriz\n",
      "Carlos Vernes\n",
      "Francisco Cunha\n",
      "Sandra Rosa\n",
      "Juliana Arruda\n",
      "Joao Galo\n",
      "José Valente\n",
      "Maria Ferreira\n",
      "Adriana Tavares\n"
     ]
    }
   ],
   "source": [
    "for nome in df[\"Nome\"].values:\n",
    "    \n",
    "    print(nome)"
   ]
  },
  {
   "cell_type": "markdown",
   "metadata": {},
   "source": [
    "4. Faça um programa que copie os dados do arquivo alunos.csv para um arquivo chamado alunos2.csv"
   ]
  },
  {
   "cell_type": "code",
   "execution_count": 93,
   "metadata": {},
   "outputs": [
    {
     "data": {
      "text/html": [
       "<div>\n",
       "<style scoped>\n",
       "    .dataframe tbody tr th:only-of-type {\n",
       "        vertical-align: middle;\n",
       "    }\n",
       "\n",
       "    .dataframe tbody tr th {\n",
       "        vertical-align: top;\n",
       "    }\n",
       "\n",
       "    .dataframe thead th {\n",
       "        text-align: right;\n",
       "    }\n",
       "</style>\n",
       "<table border=\"1\" class=\"dataframe\">\n",
       "  <thead>\n",
       "    <tr style=\"text-align: right;\">\n",
       "      <th></th>\n",
       "      <th>RA</th>\n",
       "      <th>Nome</th>\n",
       "      <th>Frequencia</th>\n",
       "      <th>Prova_1</th>\n",
       "      <th>Prova_2</th>\n",
       "      <th>Prova_3</th>\n",
       "      <th>Prova_4</th>\n",
       "    </tr>\n",
       "  </thead>\n",
       "  <tbody>\n",
       "    <tr>\n",
       "      <th>0</th>\n",
       "      <td>110201</td>\n",
       "      <td>Antonio Carlos</td>\n",
       "      <td>20</td>\n",
       "      <td>6.5</td>\n",
       "      <td>8.5</td>\n",
       "      <td>7.0</td>\n",
       "      <td>6</td>\n",
       "    </tr>\n",
       "    <tr>\n",
       "      <th>1</th>\n",
       "      <td>110212</td>\n",
       "      <td>Ana Beatriz</td>\n",
       "      <td>20</td>\n",
       "      <td>7.0</td>\n",
       "      <td>7.0</td>\n",
       "      <td>7.0</td>\n",
       "      <td>8</td>\n",
       "    </tr>\n",
       "    <tr>\n",
       "      <th>2</th>\n",
       "      <td>110218</td>\n",
       "      <td>Carlos Vernes</td>\n",
       "      <td>17</td>\n",
       "      <td>7.0</td>\n",
       "      <td>7.0</td>\n",
       "      <td>7.0</td>\n",
       "      <td>7</td>\n",
       "    </tr>\n",
       "    <tr>\n",
       "      <th>3</th>\n",
       "      <td>110307</td>\n",
       "      <td>Francisco Cunha</td>\n",
       "      <td>20</td>\n",
       "      <td>9.0</td>\n",
       "      <td>8.5</td>\n",
       "      <td>8.5</td>\n",
       "      <td>10</td>\n",
       "    </tr>\n",
       "    <tr>\n",
       "      <th>4</th>\n",
       "      <td>110275</td>\n",
       "      <td>Sandra Rosa</td>\n",
       "      <td>15</td>\n",
       "      <td>6.5</td>\n",
       "      <td>7.5</td>\n",
       "      <td>7.0</td>\n",
       "      <td>7</td>\n",
       "    </tr>\n",
       "    <tr>\n",
       "      <th>5</th>\n",
       "      <td>110281</td>\n",
       "      <td>Juliana Arruda</td>\n",
       "      <td>18</td>\n",
       "      <td>7.5</td>\n",
       "      <td>7.0</td>\n",
       "      <td>7.5</td>\n",
       "      <td>8</td>\n",
       "    </tr>\n",
       "    <tr>\n",
       "      <th>6</th>\n",
       "      <td>110301</td>\n",
       "      <td>Joao Galo</td>\n",
       "      <td>20</td>\n",
       "      <td>5.0</td>\n",
       "      <td>6.5</td>\n",
       "      <td>7.0</td>\n",
       "      <td>5</td>\n",
       "    </tr>\n",
       "    <tr>\n",
       "      <th>7</th>\n",
       "      <td>110263</td>\n",
       "      <td>José Valente</td>\n",
       "      <td>20</td>\n",
       "      <td>10.0</td>\n",
       "      <td>10.0</td>\n",
       "      <td>10.0</td>\n",
       "      <td>10</td>\n",
       "    </tr>\n",
       "    <tr>\n",
       "      <th>8</th>\n",
       "      <td>110271</td>\n",
       "      <td>Maria Ferreira</td>\n",
       "      <td>19</td>\n",
       "      <td>9.5</td>\n",
       "      <td>8.0</td>\n",
       "      <td>7.0</td>\n",
       "      <td>10</td>\n",
       "    </tr>\n",
       "    <tr>\n",
       "      <th>9</th>\n",
       "      <td>110236</td>\n",
       "      <td>Adriana Tavares</td>\n",
       "      <td>20</td>\n",
       "      <td>8.0</td>\n",
       "      <td>8.0</td>\n",
       "      <td>8.0</td>\n",
       "      <td>8</td>\n",
       "    </tr>\n",
       "  </tbody>\n",
       "</table>\n",
       "</div>"
      ],
      "text/plain": [
       "       RA             Nome  Frequencia  Prova_1  Prova_2  Prova_3  Prova_4\n",
       "0  110201   Antonio Carlos          20      6.5      8.5      7.0        6\n",
       "1  110212      Ana Beatriz          20      7.0      7.0      7.0        8\n",
       "2  110218    Carlos Vernes          17      7.0      7.0      7.0        7\n",
       "3  110307  Francisco Cunha          20      9.0      8.5      8.5       10\n",
       "4  110275      Sandra Rosa          15      6.5      7.5      7.0        7\n",
       "5  110281   Juliana Arruda          18      7.5      7.0      7.5        8\n",
       "6  110301        Joao Galo          20      5.0      6.5      7.0        5\n",
       "7  110263     José Valente          20     10.0     10.0     10.0       10\n",
       "8  110271   Maria Ferreira          19      9.5      8.0      7.0       10\n",
       "9  110236  Adriana Tavares          20      8.0      8.0      8.0        8"
      ]
     },
     "execution_count": 93,
     "metadata": {},
     "output_type": "execute_result"
    }
   ],
   "source": [
    "df"
   ]
  },
  {
   "cell_type": "code",
   "execution_count": 18,
   "metadata": {},
   "outputs": [],
   "source": [
    "df.to_csv(\"../datasets/alunos2.csv\", sep=\";\", index=False)"
   ]
  },
  {
   "cell_type": "code",
   "execution_count": 19,
   "metadata": {},
   "outputs": [],
   "source": [
    "df.to_excel(\"../datasets/alunos2_excel.xlsx\")"
   ]
  },
  {
   "cell_type": "markdown",
   "metadata": {},
   "source": [
    "\n",
    "5. Faça um programa que imprima o nome e a média de cada um dos\n",
    "alunos do arquivo alunos.csv\n"
   ]
  },
  {
   "cell_type": "code",
   "execution_count": null,
   "metadata": {},
   "outputs": [],
   "source": []
  },
  {
   "cell_type": "markdown",
   "metadata": {},
   "source": [
    "6. Faça um programa que crie um arquivo media.csv e guarde o RA\n",
    "(registro do aluno) junto com a respectiva média de cada um dos\n",
    "alunos no arquivo alunos.csv."
   ]
  },
  {
   "cell_type": "code",
   "execution_count": null,
   "metadata": {},
   "outputs": [],
   "source": []
  },
  {
   "cell_type": "markdown",
   "metadata": {},
   "source": [
    "_______\n",
    "_______\n",
    "_______\n",
    "\n",
    "**Exemplo 2**: Metrô do RJ\n",
    "\n",
    "<img src=\"https://rederiohoteis.com/wp-content/uploads/2018/06/2018-07-26-Metro-no-Rio-de-Janeiro-entenda-como-funciona-mapa.jpg\" width=40% align=left>"
   ]
  },
  {
   "cell_type": "code",
   "execution_count": null,
   "metadata": {},
   "outputs": [],
   "source": []
  }
 ],
 "metadata": {
  "kernelspec": {
   "name": "python390jvsc74a57bd0e922dd073470bdcc017ae3abd31d6491d6ed7bf31c1d559806e5511bfea88b81",
   "display_name": "Python 3.9.0 32-bit"
  },
  "language_info": {
   "codemirror_mode": {
    "name": "ipython",
    "version": 3
   },
   "file_extension": ".py",
   "mimetype": "text/x-python",
   "name": "python",
   "nbconvert_exporter": "python",
   "pygments_lexer": "ipython3",
   "version": "3.9.0"
  }
 },
 "nbformat": 4,
 "nbformat_minor": 2
}