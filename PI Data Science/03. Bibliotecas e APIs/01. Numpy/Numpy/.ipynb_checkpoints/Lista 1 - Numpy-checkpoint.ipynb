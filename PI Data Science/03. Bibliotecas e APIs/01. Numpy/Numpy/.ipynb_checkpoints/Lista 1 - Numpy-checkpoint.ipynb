{
 "cells": [
  {
   "cell_type": "markdown",
   "metadata": {},
   "source": [
    "# Lista 1 - Numpy"
   ]
  },
  {
   "cell_type": "markdown",
   "metadata": {},
   "source": [
    "## 0. Nunca se esqueça de importar as bibliotecas que vão ser usadas!"
   ]
  },
  {
   "cell_type": "markdown",
   "metadata": {},
   "source": [
    "__Exercício 0:__ Importe a biblioteca `numpy` do python. Caso ela não esteja instalada, use o `pip` ou o `pip3` para instalá-la. "
   ]
  },
  {
   "cell_type": "code",
   "execution_count": 4,
   "metadata": {},
   "outputs": [],
   "source": [
    "import numpy as np"
   ]
  },
  {
   "cell_type": "markdown",
   "metadata": {},
   "source": [
    "## 1. Rotina de criação de listas np\n",
    "\n",
    "Nessa parte, focaremos na criação de listas np."
   ]
  },
  {
   "cell_type": "markdown",
   "metadata": {},
   "source": [
    "__Exercício 0__: Crie uma lista np contendo os números de 0 até 10."
   ]
  },
  {
   "cell_type": "code",
   "execution_count": 5,
   "metadata": {},
   "outputs": [],
   "source": [
    "lista = np.arange(0,11)"
   ]
  },
  {
   "cell_type": "code",
   "execution_count": 6,
   "metadata": {},
   "outputs": [
    {
     "data": {
      "text/plain": [
       "array([ 0,  1,  2,  3,  4,  5,  6,  7,  8,  9, 10])"
      ]
     },
     "execution_count": 6,
     "metadata": {},
     "output_type": "execute_result"
    }
   ],
   "source": [
    "lista"
   ]
  },
  {
   "cell_type": "markdown",
   "metadata": {},
   "source": [
    "__Exercício 1__: Crie uma lista np de 100 inteiros começando em 0 e cuja diferença entre os termos (*step*) é 3."
   ]
  },
  {
   "cell_type": "code",
   "execution_count": 7,
   "metadata": {},
   "outputs": [],
   "source": [
    "lista1 = np.arange(0,300,3)"
   ]
  },
  {
   "cell_type": "code",
   "execution_count": 8,
   "metadata": {},
   "outputs": [
    {
     "data": {
      "text/plain": [
       "array([  0,   3,   6,   9,  12,  15,  18,  21,  24,  27,  30,  33,  36,\n",
       "        39,  42,  45,  48,  51,  54,  57,  60,  63,  66,  69,  72,  75,\n",
       "        78,  81,  84,  87,  90,  93,  96,  99, 102, 105, 108, 111, 114,\n",
       "       117, 120, 123, 126, 129, 132, 135, 138, 141, 144, 147, 150, 153,\n",
       "       156, 159, 162, 165, 168, 171, 174, 177, 180, 183, 186, 189, 192,\n",
       "       195, 198, 201, 204, 207, 210, 213, 216, 219, 222, 225, 228, 231,\n",
       "       234, 237, 240, 243, 246, 249, 252, 255, 258, 261, 264, 267, 270,\n",
       "       273, 276, 279, 282, 285, 288, 291, 294, 297])"
      ]
     },
     "execution_count": 8,
     "metadata": {},
     "output_type": "execute_result"
    }
   ],
   "source": [
    "lista1"
   ]
  },
  {
   "cell_type": "markdown",
   "metadata": {},
   "source": [
    "__Exercício 2__: Crie  uma progressão aritmética cujo primeiro elemento é 3, a razão é 5 e o tamanho é 59."
   ]
  },
  {
   "cell_type": "code",
   "execution_count": 11,
   "metadata": {},
   "outputs": [],
   "source": [
    "lista2 = np.arange(3,3+59*5+5,5)"
   ]
  },
  {
   "cell_type": "code",
   "execution_count": 12,
   "metadata": {},
   "outputs": [
    {
     "data": {
      "text/plain": [
       "array([  3,   8,  13,  18,  23,  28,  33,  38,  43,  48,  53,  58,  63,\n",
       "        68,  73,  78,  83,  88,  93,  98, 103, 108, 113, 118, 123, 128,\n",
       "       133, 138, 143, 148, 153, 158, 163, 168, 173, 178, 183, 188, 193,\n",
       "       198, 203, 208, 213, 218, 223, 228, 233, 238, 243, 248, 253, 258,\n",
       "       263, 268, 273, 278, 283, 288, 293, 298])"
      ]
     },
     "execution_count": 12,
     "metadata": {},
     "output_type": "execute_result"
    }
   ],
   "source": [
    "lista2"
   ]
  },
  {
   "cell_type": "markdown",
   "metadata": {},
   "source": [
    "__Exercício 3__: Crie uma progressão geométrica cujo primeiro elemento é 4, a razão é 0.7 e o comprimento é 134."
   ]
  },
  {
   "cell_type": "code",
   "execution_count": null,
   "metadata": {},
   "outputs": [],
   "source": []
  },
  {
   "cell_type": "markdown",
   "metadata": {},
   "source": [
    "__Exercício 4__: Um dos atributos das listas np é `.dtype`. Esse atributo retorna o tipo de menor complexidade que contem todos os elementos da lista. Exemplos:\n",
    " - 1. a lista `lista1 = np.array([1,2,3,4,5])` é composta somente por inteiros. Assim, `lista.dtype` retorna `int`;\n",
    " - 2. a lista `lista2 = np.array([1,2,3,4.0,5])` contém um `float`, a saber, o número `4.0`. Assim, `lista.dtype` retorna `float`; e\n",
    " - 3. a lista `lista3 = np.array([1,2,4.5,1+5j])` contém um complexo, a saber, o número `1+5j`. Assim, `lista.dtype` vai retornar `complex`.\n",
    " \n",
    " Repare que, no exemplo (2.) todos os números também são complexos, mas o tipo de menor complexidade que contém todos é `float`.\n",
    " \n",
    " Para cada lista dos exercícios anteriores, exiba o `dtype` dessa lista."
   ]
  },
  {
   "cell_type": "code",
   "execution_count": null,
   "metadata": {},
   "outputs": [],
   "source": []
  },
  {
   "cell_type": "markdown",
   "metadata": {},
   "source": [
    "__Exercício 5__: Um dos atributos da função `np.array` é `dtype`. Esse atributo recebe o menor tipo que deve conter todos os dados da lista. Crie uma lista python que contenha pelo menos um `float`. Verifique o que acontece se a função `np.array()` for executada com essa lista e `dtype=int`."
   ]
  },
  {
   "cell_type": "code",
   "execution_count": null,
   "metadata": {},
   "outputs": [],
   "source": []
  },
  {
   "cell_type": "markdown",
   "metadata": {},
   "source": [
    "__Exercício 6__: Um dos métodos das listas do numpy é `.reshape()`; esse método deve ser executado passando um número $l$ de linhas e um número $c$ de colunas, e retorna uma matriz de $l$ linhas e $c$ colunas. Deve-se tomar cuidado, pois $l\\times c$ deve ser igual ao comprimento da lista. "
   ]
  },
  {
   "cell_type": "code",
   "execution_count": 21,
   "metadata": {},
   "outputs": [
    {
     "data": {
      "text/plain": [
       "array([[1],\n",
       "       [2],\n",
       "       [3],\n",
       "       [4],\n",
       "       [5]])"
      ]
     },
     "execution_count": 21,
     "metadata": {},
     "output_type": "execute_result"
    }
   ],
   "source": [
    "lista = np.array([1,2,3,4,5])\n",
    "lista.reshape(5,1) # produz uma matriz de 5 linhas e 1 coluna."
   ]
  },
  {
   "cell_type": "markdown",
   "metadata": {},
   "source": [
    "Crie uma matriz $3\\times 3$ com a partir de uma lista com 9 elementos."
   ]
  },
  {
   "cell_type": "markdown",
   "metadata": {},
   "source": [
    "__Exercício 7__: Construa uma matriz numpy de 10 colunas e 5 linhas contendo todos os pares entre 0 e 100. "
   ]
  },
  {
   "cell_type": "markdown",
   "metadata": {},
   "source": [
    "__Exercício 8__: A função `np.loadtxt()` consegue ler arquivos de texto e cria uma `np.ndarray` com os valores do arquivo (uma lista ou uma matriz). Seus principais parâmetros são:\n",
    " - `fname`: PATH ou nome do arquivo; e\n",
    " - `delimiter`: O carácter que determina as colunas.\n",
    " \n",
    " Use os arquivos `lista.txt` e `matriz.csv` para criar `np.ndarray` com os valores desses arquivos e exiba as listas criadas na tela."
   ]
  },
  {
   "cell_type": "code",
   "execution_count": null,
   "metadata": {},
   "outputs": [],
   "source": []
  },
  {
   "cell_type": "markdown",
   "metadata": {},
   "source": [
    "__Exercício 9 (Desafio)__: Carregue as listas dos arquivos `lista.txt` e `lista2.txt`. Crie uma matriz de duas colunas na qual cada linha vai conter na primeira coluna um elemento da `lista.txt` e na segunda um elemento da `lista2.txt` somente se a diferença absoluta dos dois elementos forem menores que $0.5$."
   ]
  },
  {
   "cell_type": "code",
   "execution_count": null,
   "metadata": {},
   "outputs": [],
   "source": []
  },
  {
   "cell_type": "markdown",
   "metadata": {},
   "source": [
    "## 3. Acessando elementos e *Slicing*"
   ]
  },
  {
   "cell_type": "markdown",
   "metadata": {},
   "source": [
    "__Exercício 0__: Crie um lista com os inteiros de 0 a 10. Dê um *print* no elemento de index 8. Troque o elemento de index 8 pela sua metade. Dê um *print* na lista inteira."
   ]
  },
  {
   "cell_type": "code",
   "execution_count": null,
   "metadata": {},
   "outputs": [],
   "source": []
  },
  {
   "cell_type": "markdown",
   "metadata": {},
   "source": [
    "__Exercício 1__: Dados duas listas do numpy, digamos `listanp_A`, pode-se criar uma lista `listanp_B` cujos elementos são exatamente os elementos de `listanp_A` e com a mesma ordem das seguintes formas:\n",
    " - `listanp_B = listanp_A`; ou\n",
    " - `listanp_B = np.copy(listanp_A)`.\n",
    " \n",
    " Qual a diferença entre esses dois métodos de criação?"
   ]
  },
  {
   "cell_type": "code",
   "execution_count": null,
   "metadata": {},
   "outputs": [],
   "source": []
  },
  {
   "cell_type": "markdown",
   "metadata": {},
   "source": [
    "__Exercício 2:__ O determinante de uma matriz $2\\times 2$ pode ser calculado da seguinte forma:\n",
    "$$\\det\\begin{bmatrix}a_{11} & a_{12}\\\\ a_{21} & a_{22}\\end{bmatrix} = a_{11}\\cdot a_{22}-a_{12}\\cdot a_{21}.$$\n",
    "Faça uma função que receba uma matriz $2\\times 2$ do numpy e devolve o seu determinante."
   ]
  },
  {
   "cell_type": "code",
   "execution_count": null,
   "metadata": {},
   "outputs": [],
   "source": []
  },
  {
   "cell_type": "markdown",
   "metadata": {},
   "source": [
    "__Exercício 3:__ Escreva uma função que receba duas listas do numpy de mesmo comprimento e devolve a média ponderada da primeira cujos pesos são dados pela segunda lista."
   ]
  },
  {
   "cell_type": "code",
   "execution_count": null,
   "metadata": {},
   "outputs": [],
   "source": []
  },
  {
   "cell_type": "markdown",
   "metadata": {},
   "source": [
    "__Exercício 4:__ Faça uma função que receba uma lista numpy `lista` e devolve uma lista numpy `variacao` que codifica o crescimento/descrescimento da lista de entrada da seguinte forma:\n",
    " - `variacao[0]=0`;\n",
    " - Para algum $1 \\leq i\\leq\\textrm{len}(lista)$, se `lista[i-1]` for igual a `lista[i]`, então `variacao[i]=0`;\n",
    " - Para algum $1 \\leq i\\leq\\textrm{len}(lista)$, se `lista[i-1]` for maior que `lista[i]`, então `variacao[i]=-1`; e\n",
    " - Para algum $1 \\leq i\\leq\\textrm{len}(lista)$, se `lista[i-1]` for menor que `lista[i]`, então `variacao[i]=1`."
   ]
  },
  {
   "cell_type": "markdown",
   "metadata": {},
   "source": [
    "__Exercício 5 (Desafio)__: Escreva uma função que receba uma lista numpy `lista` e um inteiro `window` e calcula a média deslizante da lista `lista` para a janela `window`.\n",
    "\n",
    "> *Dica: Para qualquer `window` $\\leq i\\leq$ `len(lista)`*, o elemento de índice $i$ da lista que guardará as médias deslizantes é a média aritmética dos `window` dias anteriores. "
   ]
  },
  {
   "cell_type": "markdown",
   "metadata": {},
   "source": [
    "## 5. Máscaras"
   ]
  },
  {
   "cell_type": "markdown",
   "metadata": {},
   "source": [
    "__Exercício 0__: Leia a lista em `lista.txt` e exiba apenas os números que são maiores que `0.5`."
   ]
  },
  {
   "cell_type": "code",
   "execution_count": null,
   "metadata": {},
   "outputs": [],
   "source": []
  },
  {
   "cell_type": "markdown",
   "metadata": {},
   "source": [
    "__Exercício 1:__ Leia a lista em `lista.txt` e substitua todos os valores menores ou iguais a $0.1$ por $0.0$."
   ]
  },
  {
   "cell_type": "code",
   "execution_count": null,
   "metadata": {},
   "outputs": [],
   "source": []
  },
  {
   "cell_type": "markdown",
   "metadata": {},
   "source": [
    "__Exercício 2:__ Crie uma lista de 1000 inteiros aleatórios entre 0 e 100. Inverta a lista e compare as posições que não se alteraram"
   ]
  },
  {
   "cell_type": "code",
   "execution_count": null,
   "metadata": {},
   "outputs": [],
   "source": []
  },
  {
   "cell_type": "markdown",
   "metadata": {},
   "source": [
    "__Exercício 3__: Crie uma lista aleatória com 10000 elementos entre 0 e 1000. Use a função `np.sort()` para ordenar essa lista e verifique quais são as posições que continuaram a guardar o mesmo número. Qual foi a proporção de elementos que continuaram na mesma posição? Essa proporção se concerva se você repetir o experimento? "
   ]
  },
  {
   "cell_type": "code",
   "execution_count": null,
   "metadata": {},
   "outputs": [],
   "source": []
  },
  {
   "cell_type": "markdown",
   "metadata": {},
   "source": [
    "__Exercício 4__: A função `numpy.intersect1d()` acha os elementos em comum de duas listas e retorna esses elementos ordenados em outra lista numpy. "
   ]
  },
  {
   "cell_type": "code",
   "execution_count": 30,
   "metadata": {},
   "outputs": [
    {
     "data": {
      "text/plain": [
       "array([ 7,  8,  9, 15])"
      ]
     },
     "execution_count": 30,
     "metadata": {},
     "output_type": "execute_result"
    }
   ],
   "source": [
    "#Exemplo:\n",
    "lista1=np.array([1,3,5,7,8,9,10,12,15])\n",
    "lista2 = np.array([15,4,6,7,8,9,17])\n",
    "np.intersect1d(lista1,lista2)"
   ]
  },
  {
   "cell_type": "markdown",
   "metadata": {},
   "source": [
    "Leia as listas dos arquivos `lista.txt` e `lista2.txt`. Produza uma lista cujas entradas são as entradas em comum dessas duas listas."
   ]
  },
  {
   "cell_type": "markdown",
   "metadata": {},
   "source": [
    "__Exercício 5__: Crie uma lista de 0 até 100 cujos intervalos entre os elementos é de 0.1. Exiba apenas os elementos que são inteiros dessa lista. \n",
    " > *dica: se um float `x` é inteiro, então `x-int(x)` deve ser `0.0`*."
   ]
  },
  {
   "cell_type": "code",
   "execution_count": null,
   "metadata": {},
   "outputs": [],
   "source": []
  },
  {
   "cell_type": "markdown",
   "metadata": {},
   "source": [
    "__Exercício 6:__ Leia o arquivo `lista2.txt` e guarde as entradas em uma lista do numpy `lista`. Crie outra lista de mesmo tamanho da lista origina na qual a posição $i$ irá receber:\n",
    " - `'small'` se `lista[i]` $<0.4$;\n",
    " - `'medium'` se $0.4\\leq $ `lista[i]` $\\leq 0.6$; e \n",
    " \n",
    " - `'big'` se $0.6 < $ `lista[i]`.\n",
    " \n",
    " Guarde os valores `small`, `medium` e `big` em listas numpy separadas."
   ]
  },
  {
   "cell_type": "code",
   "execution_count": null,
   "metadata": {},
   "outputs": [],
   "source": []
  },
  {
   "cell_type": "markdown",
   "metadata": {},
   "source": [
    "## 6. Listas do numpy como parâmetros de funções"
   ]
  },
  {
   "cell_type": "markdown",
   "metadata": {},
   "source": [
    "__Exercício 0__: Crie uma função `somap()` que recebe duas **listas do python**, de mesmo tamanho, e devolve a soma dessas listas. "
   ]
  },
  {
   "cell_type": "code",
   "execution_count": null,
   "metadata": {},
   "outputs": [],
   "source": []
  },
  {
   "cell_type": "markdown",
   "metadata": {},
   "source": [
    "__Exercício 1__: Crie uma função que receba duas listas numpy e devolve a média aritmética dessas listas."
   ]
  },
  {
   "cell_type": "code",
   "execution_count": null,
   "metadata": {},
   "outputs": [],
   "source": []
  },
  {
   "cell_type": "markdown",
   "metadata": {},
   "source": [
    "__Exercício 2:__ Para converter uma temperatura $C$ na escala Celsius para seu correspondente $F$ na escala Fahrenheit usamos a seguinte fórmula:\n",
    "$$F = \\frac{9\\cdot C}{5} + 32.$$\n",
    "Para converter uma temperatura $C$ na escala Celsius para a temperatura $K$ correspondente na escala Kelvin usamos a seguinte fórmula:\n",
    "$$K = C + 273.15$$\n",
    "Faça uma função que recebe uma lista numpy e devolve uma matriz de 3 colunas na qual a primeira coluna é a temperatura em Celcius, a segunda coluna é a temperatura em Fahrenheit e a terceira coluna é a temperatura em Kelvin."
   ]
  },
  {
   "cell_type": "markdown",
   "metadata": {},
   "source": [
    "__Exercício 3__ Faça uma função que recebe duas listas do numpy de mesmo tamanho e retorna a primeira elevada a segunda."
   ]
  },
  {
   "cell_type": "markdown",
   "metadata": {},
   "source": [
    "__Exercício 4__: A função `np.append()` é uma função do numpy para concatenar listas do numpy."
   ]
  },
  {
   "cell_type": "code",
   "execution_count": 4,
   "metadata": {
    "scrolled": true
   },
   "outputs": [
    {
     "data": {
      "text/plain": [
       "array([1, 2, 3, 4, 5, 6, 7, 8, 9])"
      ]
     },
     "execution_count": 4,
     "metadata": {},
     "output_type": "execute_result"
    }
   ],
   "source": [
    "# Exemplo:\n",
    "lista_1 = np.array([1,2,3,4,5])\n",
    "lista_2 = np.array([6,7,8,9])\n",
    "lista = np.append(lista_1,lista_2) # faz a concatenação da lista_1 com a lista_2, nessa ordem!\n",
    "lista"
   ]
  },
  {
   "cell_type": "markdown",
   "metadata": {},
   "source": [
    "Use a função `np.append()` o método `.reshape()` e crie uma função que recebe uma lista numpy de comprimento `n` e um inteiro positivo `m` e devolve uma matriz $n\\times m$ (de $n$ linhas e $m$ colunas) onde cada coluna $i<m$ é a lista elevada à potência $i$. "
   ]
  },
  {
   "cell_type": "markdown",
   "metadata": {},
   "source": [
    "__Exercício 5:__ Usando o arquivo `lista.txt`, crie uma matriz de 10 colunas na qual a coluna de índice $i$ será a lista desse arquivo elevada a potência $i$."
   ]
  },
  {
   "cell_type": "code",
   "execution_count": null,
   "metadata": {},
   "outputs": [],
   "source": []
  },
  {
   "cell_type": "markdown",
   "metadata": {},
   "source": [
    "__Exercício 6 (Desafio)__ O objetivo desse exercício é verificar a performace do numpy, i.e. vamos calcular quanto tempo demora para se somar duas listas numpy e quanto tempo se leva para somar duas listas do python.\n",
    "\n",
    "Primeiro passo é ler os arquivos, você já sabe carregar as listas contidas no arquivos `lista.txt` e `lista2.txt`. Crie listas do python com a função `list()`.\n",
    "\n",
    "Importe a biblioteca `time`, para lidar com tempo e crie uma função `somanp()` que some duas **listas do numpy**. Dê posse da função do exercício 1, a `somap()`, vamos calcular o tempo de execução de cada uma.\n",
    "\n",
    "A função `time.time()` registra o tempo (em segundos) que se passou desde 01/01 do ano de importação. Dessa forma, se quisermos registrar o tempo, em segundos, de execução de um determinado pedaço de código, procedemos da seguinte forma:\n",
    ">`start = time.time()`<br>\n",
    ">`bloco-de-código-a-ser-analisado`<br>\n",
    ">`end = time.time()`<br>\n",
    ">`tempo_de_execução = end - start`<br>\n",
    "\n",
    "Calcule o tempo de execução da `somap` e da `somanp` para as listas contidas nos arquivos `lista.txt` e `lista2.txt`."
   ]
  },
  {
   "cell_type": "markdown",
   "metadata": {},
   "source": [
    "__Exercício 7:__ Refaça o exercício __2__ escrevendo uma função para a conversão das temperaturas e passando a lista numpy de temperatura em Celsius como parâmetro."
   ]
  },
  {
   "cell_type": "code",
   "execution_count": null,
   "metadata": {},
   "outputs": [],
   "source": []
  },
  {
   "cell_type": "markdown",
   "metadata": {},
   "source": [
    "__Exercício 8:__ é possível resolver o exercício __5.5__ passando a lista como parâmetro de uma função?"
   ]
  },
  {
   "cell_type": "markdown",
   "metadata": {},
   "source": [
    "__Exercício 9 (Desafio)__: Crie uma função que recebe uma lista numpy `lista` e devolve uma lista numpy cujas entradas são\n",
    "> $$\\frac{\\ln(serie[i])}{\\ln(serie[i-1])}$$\n",
    "\n",
    "para $i\\geq 1$ e `np.nan` para $i=0$."
   ]
  },
  {
   "cell_type": "code",
   "execution_count": null,
   "metadata": {},
   "outputs": [],
   "source": []
  }
 ],
 "metadata": {
  "kernelspec": {
   "display_name": "Python 3",
   "language": "python",
   "name": "python3"
  },
  "language_info": {
   "codemirror_mode": {
    "name": "ipython",
    "version": 3
   },
   "file_extension": ".py",
   "mimetype": "text/x-python",
   "name": "python",
   "nbconvert_exporter": "python",
   "pygments_lexer": "ipython3",
   "version": "3.7.1"
  }
 },
 "nbformat": 4,
 "nbformat_minor": 2
}
