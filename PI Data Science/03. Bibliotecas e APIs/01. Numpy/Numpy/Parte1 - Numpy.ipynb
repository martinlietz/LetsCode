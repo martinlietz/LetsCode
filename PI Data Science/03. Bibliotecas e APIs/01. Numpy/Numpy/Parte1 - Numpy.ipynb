{
 "cells": [
  {
   "cell_type": "markdown",
   "metadata": {
    "collapsed": true
   },
   "source": [
    "# Parte 1:  Numpy"
   ]
  },
  {
   "cell_type": "markdown",
   "metadata": {},
   "source": [
    " - Site da biblioteca (e documentação) : http://www.numpy.org/ \n",
    "\n",
    " - Referências sobre numpy array: https://docs.scipy.org/doc/numpy/reference/arrays.html\n",
    " \n",
    " Para instalar a biblioteca devemos usar o pip:\n",
    " > `pip install numpy`<br>\n",
    " \n",
    " ou\n",
    " \n",
    " > `pip3 install numpy`."
   ]
  },
  {
   "cell_type": "markdown",
   "metadata": {},
   "source": [
    "## Anaconda\n",
    "\n",
    "Anaconda é uma distribuição de bibliotecas para computação científica em Python e em R. Com uma instalação somente você já terá todas as bibliotecas e ferramentas (tais como o Jupyter) que usaremos no curso e muitas outras."
   ]
  },
  {
   "cell_type": "markdown",
   "metadata": {},
   "source": [
    "## Jupyter Notebooks\n",
    "\n",
    "Para análise de dados e *data science*, precisamos de uma ferramenta mais dinâmica e amigável para programar. Em vez de usarmos o Sublime-text ou outros editores de texto e compilarmos o código após teminarmos, usaremos o __Jupyter Notebook__. Essa ferramenta permite rodar pedaços de código de maneira dinâmica e interativa, de sorte que pode-se editar e compilar os comando sem precisar mudar de página. Mais ainda, o Jupyter consegue exibir *dataframes* e *gráficos* na própria página, de forma a facilitar as análises. O Jupyter ainda permite edição do tipo *markdown*, com apoio a fórmulas $\\LaTeX$ tais como\n",
    "\n",
    "$$\\zeta(s) = \\sum_{n = 1}^{\\infty}\\frac{1}{n^s}.$$"
   ]
  },
  {
   "cell_type": "markdown",
   "metadata": {},
   "source": [
    "## Overview:\n",
    "\n",
    "- importando a biblioteca;\n",
    "- cirando listas do numpy;\n",
    "- operações com listas do numpy;\n",
    "- recortes de listas; e\n",
    "- máscaras."
   ]
  },
  {
   "cell_type": "markdown",
   "metadata": {},
   "source": [
    "##  Importando a biblioteca Numpy\n",
    "Sempre comece importando a biblioteca para o funcionamento correto dos comandos do numpy:"
   ]
  },
  {
   "cell_type": "code",
   "execution_count": null,
   "metadata": {},
   "outputs": [],
   "source": [
    "import numpy as np"
   ]
  },
  {
   "cell_type": "markdown",
   "metadata": {},
   "source": [
    "## Listas do Numpy vs listas do Pyhton \n",
    "As listas do numpy são diferentes das listas do python. As principais diferenças são:\n",
    " - __memória usada:__ uma lista do tipo `list` com 1 milhão de itens ocupa em torno de 20 MB de memória, ao passo que uma lista do tipo `np.ndarray` do mesmo comprimento irá ocupar em torno de 4 MB; e\n",
    " - __Otimização:__ a estrutura `np.array` está otimizada para cálculos númericos tanto em questão de performace quanto nas operações que são possíveis com as np.ndarray."
   ]
  },
  {
   "cell_type": "markdown",
   "metadata": {},
   "source": [
    "## Rotina  de criação de listas Numpy \n",
    "\n",
    "### 1. Listas a partir de outras listas\n",
    "\n",
    "Uma lista numpy pode ser criada especificando os elementos, especificando intervalos numéricos ou através da importação de dados de arquivos externos. A maneira mais simples de se criar uma lista numpy é com a função `np.array()`, que vai receber um *array* e devolver uma `np.ndarray` cujas entradas são as mesmas do lista original."
   ]
  },
  {
   "cell_type": "code",
   "execution_count": null,
   "metadata": {},
   "outputs": [],
   "source": [
    "lista = [1,2,3,4,5] # cria uma lista comum do python.\n",
    "listaNumpy = np.array(lista) # a função np.array() cria uma lista do tipo np.ndarray\n",
    "listaNumpy"
   ]
  },
  {
   "cell_type": "code",
   "execution_count": null,
   "metadata": {},
   "outputs": [],
   "source": [
    "type(listaNumpy)"
   ]
  },
  {
   "cell_type": "markdown",
   "metadata": {},
   "source": [
    "Os tipos de estruturas da `lista`e `listaNumpy` são diferentes:"
   ]
  },
  {
   "cell_type": "code",
   "execution_count": null,
   "metadata": {},
   "outputs": [],
   "source": [
    "lista = [1,2,3,4,5] # cria uma lista comum do python.\n",
    "listaNumpy = np.array(lista) # a função np.array() cria uma lista do tipo np.ndarray\n",
    "print(type(lista)) # a função type() retorna o tipo de objeto\n",
    "print(type(listaNumpy))"
   ]
  },
  {
   "cell_type": "markdown",
   "metadata": {},
   "source": [
    "Outras formas são possiveis de criar listas `np.ndarray` é criar uma lista de um determinado tamanho cujos elementos são todos `0`ou `1`."
   ]
  },
  {
   "cell_type": "code",
   "execution_count": null,
   "metadata": {},
   "outputs": [],
   "source": [
    "#Criando array de zeros de tamanho 10:\n",
    "zeros = np.zeros(10)\n",
    "zeros"
   ]
  },
  {
   "cell_type": "code",
   "execution_count": null,
   "metadata": {},
   "outputs": [],
   "source": [
    "np.fives(10)"
   ]
  },
  {
   "cell_type": "code",
   "execution_count": null,
   "metadata": {},
   "outputs": [],
   "source": [
    "#Criando array de uns de tamanho 10:\n",
    "uns = np.ones(10)\n",
    "print(5*uns)\n",
    "print(uns)"
   ]
  },
  {
   "cell_type": "markdown",
   "metadata": {},
   "source": [
    "A biblioteca `numpy` possui constantes famosas como $\\pi$ ou o número de Euler $e= 2.718281828...$"
   ]
  },
  {
   "cell_type": "code",
   "execution_count": null,
   "metadata": {},
   "outputs": [],
   "source": [
    "#Criando array de tamanho 10 na qual todas as entradas são iguais a pi:\n",
    "np.pi"
   ]
  },
  {
   "cell_type": "code",
   "execution_count": null,
   "metadata": {},
   "outputs": [],
   "source": [
    "#Criando array de tamanho 10 na qual todas as entradas são iguais ao número de Euler:\n",
    "Euler = np.ones(10) * np.e\n",
    "print(Euler)"
   ]
  },
  {
   "cell_type": "code",
   "execution_count": null,
   "metadata": {},
   "outputs": [],
   "source": []
  },
  {
   "cell_type": "markdown",
   "metadata": {},
   "source": [
    "## Exercícios\n",
    "\n",
    "__Exercício 1:__ Crie uma lista numpy de 100 elementos todos iguais à constante $\\pi$.\n",
    "\n",
    "__Exercício 2:__ Crie uma lista numpy de todos os inteiros de 1 até 100.\n",
    "\n",
    "__Exercício 3:__ Crie uma lista numpy de 100 elementos cujo primeiro elemento é 0 e a diferença entre sucessivos elementos dessa lista é 0.01.\n",
    "\n",
    "__Exercício 4:__ Crie uma lista numpy com os quadrados de todos os elementos da lista numpy do exercício anterior."
   ]
  },
  {
   "cell_type": "code",
   "execution_count": 2,
   "metadata": {},
   "outputs": [],
   "source": [
    "import numpy as np"
   ]
  },
  {
   "cell_type": "code",
   "execution_count": 3,
   "metadata": {},
   "outputs": [
    {
     "data": {
      "text/plain": [
       "array([3.14159265, 3.14159265, 3.14159265, 3.14159265, 3.14159265,\n",
       "       3.14159265, 3.14159265, 3.14159265, 3.14159265, 3.14159265,\n",
       "       3.14159265, 3.14159265, 3.14159265, 3.14159265, 3.14159265,\n",
       "       3.14159265, 3.14159265, 3.14159265, 3.14159265, 3.14159265,\n",
       "       3.14159265, 3.14159265, 3.14159265, 3.14159265, 3.14159265,\n",
       "       3.14159265, 3.14159265, 3.14159265, 3.14159265, 3.14159265,\n",
       "       3.14159265, 3.14159265, 3.14159265, 3.14159265, 3.14159265,\n",
       "       3.14159265, 3.14159265, 3.14159265, 3.14159265, 3.14159265,\n",
       "       3.14159265, 3.14159265, 3.14159265, 3.14159265, 3.14159265,\n",
       "       3.14159265, 3.14159265, 3.14159265, 3.14159265, 3.14159265,\n",
       "       3.14159265, 3.14159265, 3.14159265, 3.14159265, 3.14159265,\n",
       "       3.14159265, 3.14159265, 3.14159265, 3.14159265, 3.14159265,\n",
       "       3.14159265, 3.14159265, 3.14159265, 3.14159265, 3.14159265,\n",
       "       3.14159265, 3.14159265, 3.14159265, 3.14159265, 3.14159265,\n",
       "       3.14159265, 3.14159265, 3.14159265, 3.14159265, 3.14159265,\n",
       "       3.14159265, 3.14159265, 3.14159265, 3.14159265, 3.14159265,\n",
       "       3.14159265, 3.14159265, 3.14159265, 3.14159265, 3.14159265,\n",
       "       3.14159265, 3.14159265, 3.14159265, 3.14159265, 3.14159265,\n",
       "       3.14159265, 3.14159265, 3.14159265, 3.14159265, 3.14159265,\n",
       "       3.14159265, 3.14159265, 3.14159265, 3.14159265, 3.14159265])"
      ]
     },
     "execution_count": 3,
     "metadata": {},
     "output_type": "execute_result"
    }
   ],
   "source": [
    "# ex. 1\n",
    "np.pi*np.ones(100)"
   ]
  },
  {
   "cell_type": "code",
   "execution_count": 5,
   "metadata": {},
   "outputs": [
    {
     "data": {
      "text/plain": [
       "array([  1,   2,   3,   4,   5,   6,   7,   8,   9,  10,  11,  12,  13,\n",
       "        14,  15,  16,  17,  18,  19,  20,  21,  22,  23,  24,  25,  26,\n",
       "        27,  28,  29,  30,  31,  32,  33,  34,  35,  36,  37,  38,  39,\n",
       "        40,  41,  42,  43,  44,  45,  46,  47,  48,  49,  50,  51,  52,\n",
       "        53,  54,  55,  56,  57,  58,  59,  60,  61,  62,  63,  64,  65,\n",
       "        66,  67,  68,  69,  70,  71,  72,  73,  74,  75,  76,  77,  78,\n",
       "        79,  80,  81,  82,  83,  84,  85,  86,  87,  88,  89,  90,  91,\n",
       "        92,  93,  94,  95,  96,  97,  98,  99, 100])"
      ]
     },
     "execution_count": 5,
     "metadata": {},
     "output_type": "execute_result"
    }
   ],
   "source": [
    "# Ex. 2\n",
    "np.arange(1,101)"
   ]
  },
  {
   "cell_type": "code",
   "execution_count": null,
   "metadata": {},
   "outputs": [],
   "source": [
    "# Ex. 3\n",
    "lista = []\n",
    "elemento = 0\n",
    "cont = 0\n",
    "while cont < 100:\n",
    "    lista.append(elemento)\n",
    "    elemento = elemento + 0.01\n",
    "    cont = cont + 1\n",
    "listanp = np.array(lista)"
   ]
  },
  {
   "cell_type": "code",
   "execution_count": null,
   "metadata": {},
   "outputs": [],
   "source": [
    "range(100)"
   ]
  },
  {
   "cell_type": "code",
   "execution_count": 1,
   "metadata": {},
   "outputs": [
    {
     "ename": "NameError",
     "evalue": "name 'np' is not defined",
     "output_type": "error",
     "traceback": [
      "\u001b[0;31m---------------------------------------------------------------------------\u001b[0m",
      "\u001b[0;31mNameError\u001b[0m                                 Traceback (most recent call last)",
      "\u001b[0;32m<ipython-input-1-8a1a928437fd>\u001b[0m in \u001b[0;36m<module>\u001b[0;34m\u001b[0m\n\u001b[1;32m      1\u001b[0m \u001b[0mlista\u001b[0m \u001b[0;34m=\u001b[0m \u001b[0;34m[\u001b[0m\u001b[0;36m0\u001b[0m \u001b[0;34m+\u001b[0m \u001b[0;36m0.01\u001b[0m\u001b[0;34m*\u001b[0m\u001b[0mi\u001b[0m \u001b[0;32mfor\u001b[0m \u001b[0mi\u001b[0m \u001b[0;32min\u001b[0m \u001b[0mrange\u001b[0m\u001b[0;34m(\u001b[0m\u001b[0;36m100\u001b[0m\u001b[0;34m)\u001b[0m\u001b[0;34m]\u001b[0m\u001b[0;34m\u001b[0m\u001b[0;34m\u001b[0m\u001b[0m\n\u001b[0;32m----> 2\u001b[0;31m \u001b[0mlistanp\u001b[0m \u001b[0;34m=\u001b[0m \u001b[0mnp\u001b[0m\u001b[0;34m.\u001b[0m\u001b[0marray\u001b[0m\u001b[0;34m(\u001b[0m\u001b[0mlista\u001b[0m\u001b[0;34m)\u001b[0m\u001b[0;34m\u001b[0m\u001b[0;34m\u001b[0m\u001b[0m\n\u001b[0m\u001b[1;32m      3\u001b[0m \u001b[0mlistanp\u001b[0m\u001b[0;34m\u001b[0m\u001b[0;34m\u001b[0m\u001b[0m\n",
      "\u001b[0;31mNameError\u001b[0m: name 'np' is not defined"
     ]
    }
   ],
   "source": [
    "lista = [0 + 0.01*i for i in range(100)]\n",
    "listanp = np.array(lista)\n",
    "listanp"
   ]
  },
  {
   "cell_type": "markdown",
   "metadata": {},
   "source": [
    "### 2. Listas a partir de intervalos numéricos"
   ]
  },
  {
   "cell_type": "markdown",
   "metadata": {},
   "source": [
    "Relembre que é possível criar uma lista comum do python com o uso da função `range`:"
   ]
  },
  {
   "cell_type": "code",
   "execution_count": null,
   "metadata": {},
   "outputs": [],
   "source": [
    "lista = [i for i in range(1,10)]\n",
    "print(lista)"
   ]
  },
  {
   "cell_type": "markdown",
   "metadata": {},
   "source": [
    "O numpy possui algumas funções parecidas, entre elas:\n",
    " - `np.arange(start, stop, step)`: recebe um inteiro `start` que será o primeiro ítem da lista, um inteiro `stop` onde a lista deverá parar, mas não estará na lista, e o número de passos que a função deve dar para achar o ítem seguinte. O valor padrão do `stop` é 1."
   ]
  },
  {
   "cell_type": "code",
   "execution_count": null,
   "metadata": {},
   "outputs": [],
   "source": [
    "listanp = np.arange(0,100,2)\n",
    "listanp"
   ]
  },
  {
   "cell_type": "code",
   "execution_count": null,
   "metadata": {},
   "outputs": [],
   "source": [
    "listanp2 = np.arange(100,0,-1)\n",
    "listanp2"
   ]
  },
  {
   "cell_type": "code",
   "execution_count": null,
   "metadata": {},
   "outputs": [],
   "source": [
    "# criando uma lista de 10 elementos, partindo do 0 e parando no 10 (excludente):\n",
    "listanp = np.arange(0,10)\n",
    "print(lista)"
   ]
  },
  {
   "cell_type": "code",
   "execution_count": null,
   "metadata": {},
   "outputs": [],
   "source": [
    "# criando uma lista de 10 elementos, partindo do 0 num intervalo de 3:\n",
    "lista2np = np.arange(0,30,3)\n",
    "print(lista2np)"
   ]
  },
  {
   "cell_type": "markdown",
   "metadata": {},
   "source": [
    " - `np.linspace(start,stop,num)`: recebe um inteiro `start` que será o primeiro elemento da lista, um inteiro `stop` onde a lista deve parar (inclusivo), e um inteiro `num`. Essa função devolve uma lista de `num+1` números igualmente espaçados no intervalo $[start,stop]$ (`num+1` já que o `stop` estará incluso!). "
   ]
  },
  {
   "cell_type": "code",
   "execution_count": null,
   "metadata": {},
   "outputs": [],
   "source": [
    "# lista de 50 números entre 0 e 1 (inclusivo):\n",
    "lista = np.linspace(0,1,50)\n",
    "print(lista)"
   ]
  },
  {
   "cell_type": "markdown",
   "metadata": {},
   "source": [
    " - `np.random.randint(menor, maior, n)`: função que sorteia, segundo uma distribuição uniforme, `n` números inteiros entre `menor` e `maior` (excludente). "
   ]
  },
  {
   "cell_type": "code",
   "execution_count": null,
   "metadata": {},
   "outputs": [],
   "source": [
    "np.random.randint(1,100, 100)"
   ]
  },
  {
   "cell_type": "code",
   "execution_count": null,
   "metadata": {},
   "outputs": [],
   "source": [
    "# sortear 50 números entre 0 e 1:\n",
    "lista = np.random.randint(0,2,50)\n",
    "print(lista)"
   ]
  },
  {
   "cell_type": "code",
   "execution_count": null,
   "metadata": {},
   "outputs": [],
   "source": [
    "# sortear 100 números entre 5 e 40 (excludente):\n",
    "lista2 = np.random.randint(5,40,100)\n",
    "print(lista2)"
   ]
  },
  {
   "cell_type": "markdown",
   "metadata": {},
   "source": [
    "Outras maneiras de produzir listas de maneira aleatória (de `int` ou `float`), com outras distribuições que não seja a uniforme (e.g. gaussiana, Poisson, Bernoulli, etc) podem ser encontrados em:\n",
    "  > https://docs.scipy.org/doc/numpy-1.14.1/reference/routines.random.html"
   ]
  },
  {
   "cell_type": "code",
   "execution_count": null,
   "metadata": {},
   "outputs": [],
   "source": [
    "help(np.arange)"
   ]
  },
  {
   "cell_type": "code",
   "execution_count": null,
   "metadata": {},
   "outputs": [],
   "source": [
    "np.arange(stop=10,step=2, start=1)"
   ]
  },
  {
   "cell_type": "markdown",
   "metadata": {},
   "source": [
    "## Exercícios\n",
    "__Exercício 1:__ Crie uma lista com 10 elementos igualmente espaçados entre 0 e 1 (incluíndo o 1). \n",
    "\n",
    "__Exercício 2:__ Crie uma lista com 10 elementos igualmente espaçados entre 0 e 1 (excluíndo o 1). \n",
    "\n",
    "__Exercício 3:__ Crie uma lista de 10 elementos cujo espaçamento entre cada um dos elementos dessa lista seja 4."
   ]
  },
  {
   "cell_type": "markdown",
   "metadata": {},
   "source": [
    "## Operações com listas"
   ]
  },
  {
   "cell_type": "markdown",
   "metadata": {},
   "source": [
    "As operações com listas do python e do numpy funcionam de forma diferente:"
   ]
  },
  {
   "cell_type": "code",
   "execution_count": null,
   "metadata": {
    "scrolled": true
   },
   "outputs": [],
   "source": [
    "# Soma de duas listas do python retorna a concatenação das listas:\n",
    "lista1 = [1,2,3,4,5]\n",
    "lista2 = [6,7,8,9,10]\n",
    "lista_soma = lista1+lista2\n",
    "print(lista_soma)"
   ]
  },
  {
   "cell_type": "markdown",
   "metadata": {},
   "source": [
    "A operação de soma (concatenação) irá funcionar mesmo que as duas listas possuam tamanho diferentes:"
   ]
  },
  {
   "cell_type": "code",
   "execution_count": null,
   "metadata": {},
   "outputs": [],
   "source": [
    "lista1 = [1,2,3,4]\n",
    "lista2 = [5,6]\n",
    "lista_soma = lista1+lista2\n",
    "print(lista_soma)"
   ]
  },
  {
   "cell_type": "markdown",
   "metadata": {},
   "source": [
    "No numpy, a soma de listas ocorre de maneira parecida com a soma de colunas do excell, i.e. a soma é feita coordenada a coordenada:"
   ]
  },
  {
   "cell_type": "code",
   "execution_count": null,
   "metadata": {
    "scrolled": true
   },
   "outputs": [],
   "source": [
    "lista1 = np.arange(0,10)\n",
    "lista2 = np.arange(-5,5)\n",
    "lista_soma = lista1+lista2\n",
    "print('A lista1 é:\\n%s \\n' %lista1)\n",
    "print('A lista2 é:\\n%s \\n' %lista2)\n",
    "print('A soma de ambas é:\\n%s' %lista_soma)"
   ]
  },
  {
   "cell_type": "markdown",
   "metadata": {},
   "source": [
    "Devido a natureza das operações com listas no numpy, que é feita item a item, qualquer operação com duas ou mais listas no numpy só acontece se ambas tiverem o mesmo comprimento."
   ]
  },
  {
   "cell_type": "code",
   "execution_count": null,
   "metadata": {},
   "outputs": [],
   "source": [
    "lista1 = np.arange(-10,10)\n",
    "print('A lista1 é:\\n%s \\n' %lista1)\n",
    "print('O comprimento da lista1 é:\\n%s\\n'%len(lista1))\n",
    "lista2 = np.arange(0,10)\n",
    "print('A lista2 é:\\n%s \\n' %lista2)\n",
    "print('O comprimento da lista2 é:\\n%s\\n'%len(lista2))\n",
    "print(lista1+lista2)"
   ]
  },
  {
   "cell_type": "markdown",
   "metadata": {},
   "source": [
    "É possível multiplicar uma lista por um escalar:"
   ]
  },
  {
   "cell_type": "code",
   "execution_count": null,
   "metadata": {},
   "outputs": [],
   "source": [
    "lista1 = np.arange(2,10,3)\n",
    "print(lista1)\n",
    "lista2 = lista1 * np.pi\n",
    "print(lista2)"
   ]
  },
  {
   "cell_type": "markdown",
   "metadata": {},
   "source": [
    "É possível multiplicar duas listas:"
   ]
  },
  {
   "cell_type": "code",
   "execution_count": null,
   "metadata": {},
   "outputs": [],
   "source": [
    "lista1 = np.array([2,4,6,8])\n",
    "lista2 = np.array([1,3,5,7])\n",
    "print(lista1)\n",
    "print(lista2)\n",
    "print(lista1 * lista2)"
   ]
  },
  {
   "cell_type": "markdown",
   "metadata": {},
   "source": [
    "é possível dividir uma lista por um escalar:"
   ]
  },
  {
   "cell_type": "code",
   "execution_count": null,
   "metadata": {},
   "outputs": [],
   "source": [
    "lista1 = np.linspace(3,10,5)\n",
    "lista2 = lista1/4\n",
    "print(lista1)\n",
    "print(lista2)"
   ]
  },
  {
   "cell_type": "markdown",
   "metadata": {},
   "source": [
    "É possível dividir duas listas:"
   ]
  },
  {
   "cell_type": "code",
   "execution_count": null,
   "metadata": {},
   "outputs": [],
   "source": [
    "lista1 = np.array([2,4,8,16])\n",
    "lista2 = np.array([16,64,256,512])\n",
    "print(lista1)\n",
    "print(lista2)\n",
    "print(lista2/lista1)"
   ]
  },
  {
   "cell_type": "markdown",
   "metadata": {},
   "source": [
    "Repare que os itens da lista 1 e a lista 2 são `int`, ao passo que os itens da divisão são `float`."
   ]
  },
  {
   "cell_type": "markdown",
   "metadata": {},
   "source": [
    "É possível exponenciar uma lista por um número:"
   ]
  },
  {
   "cell_type": "code",
   "execution_count": null,
   "metadata": {},
   "outputs": [],
   "source": [
    "# devolve uma lista cujos itens são os itens da lista1 elevado a pi\n",
    "lista1 = np.arange(0,1,0.1)\n",
    "print(lista1 ** np.pi)"
   ]
  },
  {
   "cell_type": "markdown",
   "metadata": {},
   "source": [
    "Também é possível exponciar um número por uma lista:"
   ]
  },
  {
   "cell_type": "code",
   "execution_count": null,
   "metadata": {},
   "outputs": [],
   "source": [
    "# devolve uma lista de mesmo tamnho que lista1, cujos itens são o número pi elevado \n",
    "# ao respectivo item da lista1.\n",
    "print(np.pi ** lista1)"
   ]
  },
  {
   "cell_type": "markdown",
   "metadata": {},
   "source": [
    "É possível exponenciar uma lista por outra:"
   ]
  },
  {
   "cell_type": "code",
   "execution_count": null,
   "metadata": {
    "scrolled": true
   },
   "outputs": [],
   "source": [
    "lista1 = np.array([1,2,3])\n",
    "lista2 = np.array([2,4,8])\n",
    "print(lista1)\n",
    "print(lista2)\n",
    "print(lista2 ** lista1)"
   ]
  },
  {
   "cell_type": "markdown",
   "metadata": {},
   "source": [
    "## Comparações de listas no numpy"
   ]
  },
  {
   "cell_type": "markdown",
   "metadata": {},
   "source": [
    "A comparação de listas do python funciona como a comparação de números, verifica apenas se uma lista é igual a outra:"
   ]
  },
  {
   "cell_type": "code",
   "execution_count": null,
   "metadata": {},
   "outputs": [],
   "source": [
    "x = 2\n",
    "y = 4\n",
    "x == y"
   ]
  },
  {
   "cell_type": "code",
   "execution_count": null,
   "metadata": {},
   "outputs": [],
   "source": [
    "lista1 = [0,4,2,3,4]\n",
    "lista2 = [0,1,2,5,5]\n",
    "lista1 < lista2"
   ]
  },
  {
   "cell_type": "markdown",
   "metadata": {},
   "source": [
    "A comparação com `<`, `>`, `<=` e `>=` é feita na ordem lexicográfica, ou seja na ordem \"do dicionário\".\n"
   ]
  },
  {
   "cell_type": "code",
   "execution_count": null,
   "metadata": {},
   "outputs": [],
   "source": [
    "lista1 = [0,1,2,3,4]\n",
    "lista2 = [3,1,2,3,4]\n",
    "lista1 > lista2 # irá retornar falso, pois lista[1] < lista[2]"
   ]
  },
  {
   "cell_type": "markdown",
   "metadata": {},
   "source": [
    "Comparação `<`, `>`, `<=` e `>=` entre listas e escalares não são possíveis:"
   ]
  },
  {
   "cell_type": "code",
   "execution_count": null,
   "metadata": {},
   "outputs": [],
   "source": [
    "lista = [1,2,3,4]\n",
    "lista > 4"
   ]
  },
  {
   "cell_type": "markdown",
   "metadata": {},
   "source": [
    "No numpy a comparação, tanto entre listas quanto com escalares, é feita item a item, tal como as operações. Assim, o resultado de uma comparação é sempre uma lista numpy. Cuidado ao comparar duas listas, pois o tamanho de ambas devem ser iguais pra comparação ocorrer."
   ]
  },
  {
   "cell_type": "code",
   "execution_count": null,
   "metadata": {},
   "outputs": [],
   "source": [
    "lista1 = np.array([1,2,3,4,5])\n",
    "lista2 = np.array([3,10,0,4,2])\n",
    "lista1 < lista2"
   ]
  },
  {
   "cell_type": "code",
   "execution_count": null,
   "metadata": {},
   "outputs": [],
   "source": [
    "lista1 = np.array([1,2,3,4,5])\n",
    "lista2 = np.array([3,10,0,4,2])\n",
    "lista1 == lista2"
   ]
  },
  {
   "cell_type": "markdown",
   "metadata": {},
   "source": [
    "## Indexação e Slicing\n",
    "Nessa seção veremos como acessar elementos dentro de uma lista ou produzir uma lista a partir de outra através de recortes ou condicionais (ou máscaras)\n",
    "\n",
    "### 1. Acessando um elemento dentro da lista\n"
   ]
  },
  {
   "cell_type": "markdown",
   "metadata": {},
   "source": [
    "Funciona exatamente igual com listas do python. Uma lista `listanp` de comprimento `n` estará indexada de `0` até `n-1`. Para acessar o item da posição `i` ($0\\leq i\\leq n-1$) basta excutar `listanp[i]`."
   ]
  },
  {
   "cell_type": "code",
   "execution_count": null,
   "metadata": {},
   "outputs": [],
   "source": [
    "lista = [1,2,3,4]\n",
    "lista[1]"
   ]
  },
  {
   "cell_type": "code",
   "execution_count": null,
   "metadata": {},
   "outputs": [],
   "source": [
    "lista = np.arange(-20,20,3)\n",
    "print(lista\n",
    ")\n",
    "print(lista[7]) # acessa o elemento da casa de número 7"
   ]
  },
  {
   "cell_type": "markdown",
   "metadata": {},
   "source": [
    "É possível usar números negativos para acessar os elementos de uma lista. Se uma lista `listanp` tem comprimento `n`, então `lista[n-i]` é igual a `lista[-i]`. "
   ]
  },
  {
   "cell_type": "code",
   "execution_count": null,
   "metadata": {},
   "outputs": [],
   "source": [
    "lista = np.arange(10,15,0.1)\n",
    "print(lista[-5])\n",
    "print(lista[len(lista)-5])"
   ]
  },
  {
   "cell_type": "markdown",
   "metadata": {},
   "source": [
    "Também é possível acessar os elementos de uma lista numpy `lista` com números negativos. Quando um inteiro negativo $i$ é passado como index da lista, a lista retorna o elemento na posição $\\textrm{len}(lista)-|i|$."
   ]
  },
  {
   "cell_type": "code",
   "execution_count": null,
   "metadata": {},
   "outputs": [],
   "source": [
    "lista = np.array([i for i in range(20)])\n",
    "lista[-3] # retorna o antepenúltimo elemento da lista"
   ]
  },
  {
   "cell_type": "code",
   "execution_count": null,
   "metadata": {},
   "outputs": [],
   "source": [
    "n = len(lista)\n",
    "lista[-3] == lista[len(lista)-3]"
   ]
  },
  {
   "cell_type": "markdown",
   "metadata": {},
   "source": [
    "### Exercícios\n",
    "\n",
    "__Exercício 1:__ Considere a seguinte lista numpy:\n",
    "```python\n",
    "lista = np.array([2*i for i in range(20)])\n",
    "```\n",
    "Exiba a lista inversa dessa lista."
   ]
  },
  {
   "cell_type": "markdown",
   "metadata": {},
   "source": [
    "### 2. Recortando um pedaço da lista\n",
    "\n",
    "__Recorte (slicing)__: é o processo de obter um \"pedaço\" da lista original. Também funciona exatamente igual às listas do python. Se `listanp` é uma lista então `listanp[start:stop:step]` irá produzir uma lista cujos primeiro elemento é o elemento na posição `start` da listanp, ela para o recorte na posição `stop` (excludente), e o intervalo entre uma posição e sua sucessora é `step`. Quando `step` é omitido, o numpy calcula como sendo `step=1`."
   ]
  },
  {
   "cell_type": "code",
   "execution_count": null,
   "metadata": {
    "scrolled": true
   },
   "outputs": [],
   "source": [
    "listanp = np.array([1,2,3,4,5,6,7,8,9,10]) # cria a lista\n",
    "listanp"
   ]
  },
  {
   "cell_type": "code",
   "execution_count": null,
   "metadata": {},
   "outputs": [],
   "source": [
    "recorte = listanp[3:5] # seleciona os elementos cujas posições estão entre 3 e 5 (excludente)\n",
    "print(recorte)"
   ]
  },
  {
   "cell_type": "code",
   "execution_count": null,
   "metadata": {
    "scrolled": true
   },
   "outputs": [],
   "source": [
    "listanp = np.arange(10,110,2)\n",
    "recorte = listanp[:10]\n",
    "listanp"
   ]
  },
  {
   "cell_type": "code",
   "execution_count": null,
   "metadata": {},
   "outputs": [],
   "source": [
    "recorte"
   ]
  },
  {
   "cell_type": "markdown",
   "metadata": {},
   "source": [
    "### Exercícios\n",
    "\n",
    "__Exercício 1:__ Construa uma lista de todos os inteiros de 0 até 100. Produza um recorte dessa lista constituída de todos os múltiplos de 6. É verdade que o elemento na posição `i` desse recorte será igual a $i\\cdot 6$?"
   ]
  },
  {
   "cell_type": "markdown",
   "metadata": {},
   "source": [
    "### 3. Recortes com posições negativas\n",
    "Os inteiros `start`, `stop` e `step` podem ser negativos.\n"
   ]
  },
  {
   "cell_type": "markdown",
   "metadata": {},
   "source": [
    " - Se `start` é negativo, para obter o análogo positivo é só substituir por `len(lista)+start` (lembre-se que + com - dá -!)"
   ]
  },
  {
   "cell_type": "code",
   "execution_count": null,
   "metadata": {},
   "outputs": [],
   "source": [
    "lista = np.array([0,1,2,3,4,5,6,7,8,9])\n",
    "n = len(lista)\n",
    "print(lista)\n",
    "print(n)\n",
    "print(lista[-4:9])\n",
    "print(lista[n-4:9])"
   ]
  },
  {
   "cell_type": "markdown",
   "metadata": {},
   "source": [
    " - Se `stop` é negativo, para obter o análogo positivo é só substituir por `len(lista)+stop` (lembre-se que + com - dá -!)"
   ]
  },
  {
   "cell_type": "code",
   "execution_count": null,
   "metadata": {
    "scrolled": true
   },
   "outputs": [],
   "source": [
    "lista = np.array([0,1,2,3,4,5,6,7,8,9])\n",
    "n = len(lista)\n",
    "print(lista)\n",
    "print(n)\n",
    "print(lista[2:-6])\n",
    "print(lista[2:len(lista)-6])"
   ]
  },
  {
   "cell_type": "markdown",
   "metadata": {},
   "source": [
    " - O mais interessante ocorre quando `step` é negativo. Neste caso percorre-se a lista invertida:"
   ]
  },
  {
   "cell_type": "code",
   "execution_count": null,
   "metadata": {},
   "outputs": [],
   "source": [
    "lista = np.array([0,1,2,3,4,5,6,7,8,9])\n",
    "lista[::-1]"
   ]
  },
  {
   "cell_type": "code",
   "execution_count": null,
   "metadata": {},
   "outputs": [],
   "source": [
    "lista = np.array([0,1,2,3,4,5,6,7,8,9])\n",
    "lista[::-2]"
   ]
  },
  {
   "cell_type": "code",
   "execution_count": null,
   "metadata": {},
   "outputs": [],
   "source": [
    "lista = np.array([0,1,2,3,4,5,6,7,8,9])\n",
    "lista[7:1:-2]"
   ]
  },
  {
   "cell_type": "markdown",
   "metadata": {},
   "source": [
    "### Exercícios\n",
    "__Exercício 1:__ Escreva uma função que recebe um inteiro e uma lista e devolve uma progressão aritmética cujo primeiro elemento é o primeiro elemento dessa lista e a razão é esse inteiro."
   ]
  },
  {
   "cell_type": "markdown",
   "metadata": {},
   "source": [
    "### 4. Máscaras\n",
    "A diferença entre o recorte e indexação de listas no numpy está no processo de máscaras. Nesse processo, definimos um condicional para selecionar apenas os itens de uma lista que satisfazem uma determinada condição."
   ]
  },
  {
   "cell_type": "code",
   "execution_count": null,
   "metadata": {},
   "outputs": [],
   "source": [
    "lista = np.array([0,1,2,3,4,5,6,7,8,9])\n",
    "condicional = (lista == 2) # produz uma lista chamada condicional cujos itens serão True\n",
    "# se o item da lista original for 2, e False do contrário.\n",
    "print('O condicional é:\\n%s\\n'%condicional)\n",
    "# dessa forma podemos usar o condicional pra obter uma lista cujos elementos serão todos os\n",
    "# elementos da lista original que satisfizerem o condicional (i.e. forem iguais a 2).\n",
    "print('a lista obtida é:\\n%s'%lista[condicional])"
   ]
  },
  {
   "cell_type": "markdown",
   "metadata": {},
   "source": [
    "Como os condicionais são avaliados item a item, mais de um condicional pode gerar ambiguidade, já que o numpy não saberá se a avaliação deve ser feita para todos os itens, para apenas um, apenas 2, etc. Dessa forma, o numpy dispõe de funções booleanas para montar condicionais mais complexos."
   ]
  },
  {
   "cell_type": "code",
   "execution_count": null,
   "metadata": {},
   "outputs": [],
   "source": [
    "lista = np.arange(-20,10)\n",
    "condicional = np.logical_and(lista > 0, lista % 2 == 0)\n",
    "# O condicional irá verificar item a item se o número é positivo E divisível por 2\n",
    "print('A lista é:\\n%s\\n'%lista)\n",
    "print('O condicional é:\\n%s\\n'%condicional)\n",
    "# dessa forma podemos formar uma nova lista a partir dos elementos da lista original que\n",
    "# satisfazem o condicional, i.e. forem positivos E divisíveis por 2\n",
    "lista_cond = lista[condicional]\n",
    "print(lista_cond)"
   ]
  },
  {
   "cell_type": "code",
   "execution_count": null,
   "metadata": {},
   "outputs": [],
   "source": [
    "lista = np.random.randint(0,100,400)# sorteia 400 números inteiros entre 0 e 100 (excludente)\n",
    "condicional  = np.logical_or(lista <= 5, lista % 5 == 0)\n",
    "# constroe uma nova lista cujos elementos serão True se o elemento avaliado da lista original\n",
    "# for menor ou igual a 5 ou divisível por 5 e False do contrário.\n",
    "print(lista[condicional])"
   ]
  },
  {
   "cell_type": "markdown",
   "metadata": {},
   "source": [
    "### Exercícios\n",
    "\n",
    "__Exercício 1:__ Escrever uma função que recebe uma lista numpy de inteiros e devolve uma lista com todos os itens pares dessa lista.\n",
    "\n",
    "__Exercício 2:__ Crie uma lista com 100 inteiros sorteados entre 0 e 100. Produza uma nova lista que comece no último elemento da lista e o intervalo dos índicies é 5.  "
   ]
  },
  {
   "cell_type": "markdown",
   "metadata": {},
   "source": [
    "## Passando listas do numpy como parâmetro de funções\n",
    "O numpy consegue avaliar listas em vários tipos de funções. O resultado será uma nova lista, do mesmo tamanho da original na qual cada item será o respectivo item da original avaliado pela função. Algumas funções matemáticas estão disponíveis em:\n",
    "> https://docs.scipy.org/doc/numpy-1.13.0/reference/routines.math.html\n",
    "\n",
    "Embora essas funções possam receber listas do tipo `list` como parâmetro, o retorno sempre será uma `np.ndarray`. Além disso, o numpy consegue avaliar `np.ndarray` em funções construídas pelo usuário: no exemplo abaixo considere a função $f(x) = \\sin(x)+2\\cdot\\ln(x^2)$. Essa função pode receber um `np.ndarray`, mas ela retorna erro ao receber uma `list`."
   ]
  },
  {
   "cell_type": "code",
   "execution_count": null,
   "metadata": {},
   "outputs": [],
   "source": [
    "def f(x): \n",
    "    return np.sin(x)+2*np.log(x**2)"
   ]
  },
  {
   "cell_type": "code",
   "execution_count": null,
   "metadata": {},
   "outputs": [],
   "source": [
    "lista = [1,2,3,4,5,6,7,8,9,10]\n",
    "print(f(lista))"
   ]
  },
  {
   "cell_type": "code",
   "execution_count": null,
   "metadata": {},
   "outputs": [],
   "source": [
    "listanp = np.array([1,2,3,4,5,6,7,8,9,10])\n",
    "print(f(listanp))"
   ]
  },
  {
   "cell_type": "code",
   "execution_count": null,
   "metadata": {},
   "outputs": [],
   "source": [
    "lista = [0,1,2,3,4]\n",
    "seno = np.sin(lista)\n",
    "print(seno)\n",
    "print(type(seno)) # embora dê para usar listas do python como parâmetro de funções do numpy,\n",
    "# o resultado do cálculo sempre será uma lista do numpy."
   ]
  },
  {
   "cell_type": "markdown",
   "metadata": {},
   "source": [
    "Ao tentar avaliar uma lista numpy em qualquer função é sempre bom verficar se todos os valores presentes na lista podem ser calculados pela função. Exemplo, a função $\\ln(x)$ não está definida para $x=0$. Assim, se zero estiver presente numa lista, a valiação retornará um erro: "
   ]
  },
  {
   "cell_type": "code",
   "execution_count": null,
   "metadata": {},
   "outputs": [],
   "source": [
    "lista = np.array([0,1,2,3])\n",
    "print(np.log(lista))"
   ]
  },
  {
   "cell_type": "markdown",
   "metadata": {},
   "source": [
    "Em alguns casos, a função pode retornar valores `np.inf` ou `-np.inf`, que são objetos do numpy para lidar com $\\infty$ e $-\\infty$. De maneira geral, tome cuidado com os cálculos e divisões por zero! "
   ]
  },
  {
   "cell_type": "markdown",
   "metadata": {},
   "source": [
    "## Métodos para `np.ndarray`\n",
    "\n",
    "Alguns métodos estão disponíveis para `np.ndarray`, tais como máximo, mínimo, soma, suma cumulativa, desvio padrão, etc. Uma lista completa pode ser encontrada em \n",
    "> https://docs.scipy.org/doc/numpy-1.15.0/reference/generated/numpy.ndarray.html\n",
    "\n",
    "Veremos abaixo os mais importantes para o nosso curso."
   ]
  },
  {
   "cell_type": "code",
   "execution_count": null,
   "metadata": {},
   "outputs": [],
   "source": [
    "# Máximo e mínimo dentro de uma lista\n",
    "lista = np.random.randint(0,100,200)\n",
    "print(lista.max())\n",
    "print(lista.min())"
   ]
  },
  {
   "cell_type": "code",
   "execution_count": null,
   "metadata": {},
   "outputs": [],
   "source": [
    "# Argumentos em que se encontram o máximo ou o mínimo\n",
    "lista = np.random.randint(0,100,200)\n",
    "print(lista.argmax())\n",
    "print(lista.argmin())"
   ]
  },
  {
   "cell_type": "code",
   "execution_count": null,
   "metadata": {},
   "outputs": [],
   "source": [
    "# Soma de todos os elementos\n",
    "lista = np.arange(-10,10)\n",
    "print(lista.sum())"
   ]
  },
  {
   "cell_type": "code",
   "execution_count": null,
   "metadata": {},
   "outputs": [],
   "source": [
    "# Soma cumulativa dos elementos\n",
    "lista = np.arange(-10,10)\n",
    "print(lista.cumsum())"
   ]
  },
  {
   "cell_type": "code",
   "execution_count": null,
   "metadata": {},
   "outputs": [],
   "source": [
    "# Produto de todos os elementos\n",
    "lista = np.arange(1,10)\n",
    "print(lista.prod())"
   ]
  },
  {
   "cell_type": "code",
   "execution_count": null,
   "metadata": {
    "scrolled": true
   },
   "outputs": [],
   "source": [
    "# Produto cumulativo\n",
    "lista = np.arange(1,10)\n",
    "print(lista.cumprod())"
   ]
  },
  {
   "cell_type": "code",
   "execution_count": null,
   "metadata": {},
   "outputs": [],
   "source": [
    "# Média aritmética\n",
    "lista = np.random.randint(0,100,300)\n",
    "print(lista.mean())"
   ]
  },
  {
   "cell_type": "code",
   "execution_count": null,
   "metadata": {},
   "outputs": [],
   "source": [
    "# Desvio padrão\n",
    "lista = np.random.randint(0,100,300)\n",
    "print(lista.std())"
   ]
  },
  {
   "cell_type": "code",
   "execution_count": null,
   "metadata": {},
   "outputs": [],
   "source": [
    "# Ordenação dos valores\n",
    "lista = np.random.randint(-10,10,10)\n",
    "print(lista)\n",
    "lista.sort() # esse método não devolve, ele salva no objeto\n",
    "print(lista)"
   ]
  },
  {
   "cell_type": "code",
   "execution_count": null,
   "metadata": {
    "scrolled": true
   },
   "outputs": [],
   "source": [
    "# tipo dos elementos da lista\n",
    "lista = np.array([1,2,2.0,np.pi,6+3j])\n",
    "print(lista.dtype) # retorna o tipo de maior complexidade da lista, caso complexo"
   ]
  },
  {
   "cell_type": "code",
   "execution_count": null,
   "metadata": {},
   "outputs": [],
   "source": [
    "# Converte os elementos da lista para um tipo\n",
    "lista = np.array([1,2,2.0,np.pi,6+3j])\n",
    "lista.astype('complex')"
   ]
  },
  {
   "cell_type": "markdown",
   "metadata": {},
   "source": [
    "Tome cuidado ao converter. Ao tentar converter um complexo para um tipo de menor complexidade, o sistema retornará um erro. Ao converter um `int` para um `float`, ele arredondará o valor. "
   ]
  },
  {
   "cell_type": "code",
   "execution_count": null,
   "metadata": {},
   "outputs": [],
   "source": [
    "lista = np.array([1,2,2.0,np.pi,6+3j])\n",
    "lista.astype('float')"
   ]
  }
 ],
 "metadata": {
  "kernelspec": {
   "display_name": "Python 3",
   "language": "python",
   "name": "python3"
  },
  "language_info": {
   "codemirror_mode": {
    "name": "ipython",
    "version": 3
   },
   "file_extension": ".py",
   "mimetype": "text/x-python",
   "name": "python",
   "nbconvert_exporter": "python",
   "pygments_lexer": "ipython3",
   "version": "3.7.1"
  }
 },
 "nbformat": 4,
 "nbformat_minor": 2
}
