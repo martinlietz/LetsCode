{
 "metadata": {
  "language_info": {
   "codemirror_mode": {
    "name": "ipython",
    "version": 3
   },
   "file_extension": ".py",
   "mimetype": "text/x-python",
   "name": "python",
   "nbconvert_exporter": "python",
   "pygments_lexer": "ipython3",
   "version": "3.7.8-final"
  },
  "orig_nbformat": 2,
  "kernelspec": {
   "name": "python3",
   "display_name": "Python 3",
   "language": "python"
  }
 },
 "nbformat": 4,
 "nbformat_minor": 2,
 "cells": [
  {
   "source": [
    "<h1>Execercicios dentro da aula 2</h1>\n"
   ],
   "cell_type": "markdown",
   "metadata": {}
  },
  {
   "source": [
    "Faça um programa que leia a validade das informações\n",
    "Idade: entre 0 e 150;\n",
    "Salarário: maior que 0;\n",
    "Sexo: M, F ou Outro;\n"
   ],
   "cell_type": "markdown",
   "metadata": {}
  },
  {
   "cell_type": "code",
   "execution_count": 45,
   "metadata": {},
   "outputs": [
    {
     "output_type": "stream",
     "name": "stdout",
     "text": [
      "idade invalida\nsalario valido\nSexo valido\n"
     ]
    }
   ],
   "source": [
    "idade = 600\n",
    "salario = 1220\n",
    "sexo = 'Outro'\n",
    "if 0 <= idade  <= 150:\n",
    "    print(\"idade valida\")\n",
    "else:\n",
    "    print(\"idade invalida\")\n",
    "\n",
    "if salario > 0:\n",
    "    print(\"salario valido\")\n",
    "else:\n",
    "    print(\"salario invalido\")\n",
    "\n",
    "validSexo = [\"F\", \"M\", \"OUTRo\"]\n",
    "\n",
    "if sexo.casefold () in map(str.casefold,validSexo):\n",
    "    print(\"Sexo valido\")\n",
    "else:\n",
    "    print(\"Sexo invalido\")"
   ]
  },
  {
   "source": [
    "Faça um programa que peça o peso e altura e calcule o IMC da pessoa, mostrando a interpretação do resultado.\n",
    "\n",
    "IMC = $\\frac{\\textrm{peso}}{\\textrm{altura } \\times \\textrm{ altura}}$\n",
    "\n",
    "<code>\n",
    "\n",
    "IMC               |Interpretação\n",
    "------------------|----------------\n",
    "Menor que 18,5    | Magreza\n",
    "Entre 18,5 e 24,9 | Normal\n",
    "Entre 25,0 e 29,9 | Sobrepeso\n",
    "Entre 30,0 e 39,9 | Obesidade\n",
    "Maior que 40,0    | Obesidade grave\n",
    "</code>"
   ],
   "cell_type": "markdown",
   "metadata": {}
  },
  {
   "cell_type": "code",
   "execution_count": 44,
   "metadata": {},
   "outputs": [
    {
     "output_type": "stream",
     "name": "stdout",
     "text": [
      "Seu IMC : 41.551246537396125\nObesidade grave\n"
     ]
    }
   ],
   "source": [
    "altura = float(input(\"Qual sua altura?\"))\n",
    "peso = float(input(\"Qual seu peso?\"))\n",
    "imc = peso/(altura * altura)\n",
    "print(\"Seu IMC : {}\".format(imc))\n",
    "if imc < 18.5:\n",
    "    print(\"Magreza\")\n",
    "elif  18.5 <= imc <= 24.9:\n",
    "    print(\"Normal\")\n",
    "elif 25.0 <= imc <= 29.9:\n",
    "    print(\"Sobrepeso\")\n",
    "elif 30.0 <= imc <= 39.9:\n",
    "    print(\"Obesidade\")\n",
    "elif  imc >= 40.0:\n",
    "    print(\"Obesidade grave\")"
   ]
  },
  {
   "source": [
    "Escreva um programa que peça a nota de 3 provas de um aluno e mostre se ele passou ou não de ano.\n",
    "Obs.: O aluno irá passar de ano se a média das suas notas for maior ou igual a 6 (média é a soma das notas dividido pelo número de provas).\n",
    "\n"
   ],
   "cell_type": "markdown",
   "metadata": {}
  },
  {
   "cell_type": "code",
   "execution_count": 48,
   "metadata": {},
   "outputs": [
    {
     "output_type": "stream",
     "name": "stdout",
     "text": [
      "Voce passou!\n"
     ]
    }
   ],
   "source": [
    "prova1 = int(input(\"Digite a nota da prova 1:\"))\n",
    "prova2 = int(input(\"Digite a nota da prova 2:\"))\n",
    "prova3 = int(input(\"Digite a nota da prova 3:\"))\n",
    "media = (prova1+prova2+prova3)//3\n",
    "if media >= 6:\n",
    "    print(\"Voce passou!\")\n",
    "else:\n",
    "    print(\"Infelizmente tem que repetir o ano\")"
   ]
  },
  {
   "source": [
    "Faça um programa que mostre uma questão de múltipla escolha com 5 opções (letras a, b, c, d, e). Sabendo a resposta certa, o programa deve receber a opção do usuário e informar a letra que o usuário marcou e se a resposta está certa ou errada."
   ],
   "cell_type": "markdown",
   "metadata": {}
  },
  {
   "cell_type": "code",
   "execution_count": 52,
   "metadata": {},
   "outputs": [
    {
     "output_type": "stream",
     "name": "stdout",
     "text": [
      "Quem assumiu quando Lenin morreu?\n",
      "A. Starr\n",
      "B. Stalin\n",
      "C. Harrison\n",
      "D. McCartney\n",
      "Incorreto, correto seria o Stalin\n"
     ]
    }
   ],
   "source": [
    "print(\"\"\"Quem assumiu quando Lenin morreu?\n",
    "A. Starr\n",
    "B. Stalin\n",
    "C. Harrison\n",
    "D. McCartney\"\"\")\n",
    "resp = input().upper()\n",
    "if(resp == 'B'):\n",
    "    print(\"Correto foi o Stalin\")\n",
    "else:\n",
    "    print(\"Incorreto, correto seria o Stalin\")"
   ]
  },
  {
   "source": [
    "Mostrar todos os numeros pares entre 0 e 10"
   ],
   "cell_type": "markdown",
   "metadata": {}
  },
  {
   "cell_type": "code",
   "execution_count": 56,
   "metadata": {},
   "outputs": [
    {
     "output_type": "stream",
     "name": "stdout",
     "text": [
      "i 0 e par.\ni 2 e par.\ni 4 e par.\ni 6 e par.\ni 8 e par.\ni 10 e par.\n"
     ]
    }
   ],
   "source": [
    "i = 0\n",
    "while i <= 10:\n",
    "    if i%2==0:\n",
    "        print(f\"i {i } e par.\")\n",
    "    i +=1"
   ]
  },
  {
   "source": [
    "Faça um programa para perguntar 10 números e informar a soma total destes números:\n"
   ],
   "cell_type": "markdown",
   "metadata": {}
  },
  {
   "cell_type": "code",
   "execution_count": 58,
   "metadata": {},
   "outputs": [
    {
     "output_type": "stream",
     "name": "stdout",
     "text": [
      "Numero 1: 3\n",
      "Numero 2: 2\n",
      "Numero 3: 5\n",
      "Numero 4: 3\n",
      "Numero 5: 5\n",
      "Numero 6: 7\n",
      "Numero 7: 4\n",
      "Numero 8: 3\n",
      "Numero 9: 6\n",
      "Numero 10: 3\n",
      "A soma total é 41\n"
     ]
    }
   ],
   "source": [
    "cont = 0\n",
    "soma_total = 0\n",
    "while cont < 10:\n",
    "    num = int(input(f\"Digite o {cont+1} numero:\"))\n",
    "    print(f\"Numero {cont+1}: {num}\")\n",
    "    soma_total += num\n",
    "    cont += 1\n",
    "print(f\"A soma total é {soma_total}\")\n"
   ]
  },
  {
   "cell_type": "code",
   "execution_count": null,
   "metadata": {},
   "outputs": [],
   "source": []
  }
 ]
}