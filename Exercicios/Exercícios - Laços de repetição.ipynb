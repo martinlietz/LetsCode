{
 "metadata": {
  "language_info": {
   "codemirror_mode": {
    "name": "ipython",
    "version": 3
   },
   "file_extension": ".py",
   "mimetype": "text/x-python",
   "name": "python",
   "nbconvert_exporter": "python",
   "pygments_lexer": "ipython3",
   "version": "3.7.8-final"
  },
  "orig_nbformat": 2,
  "kernelspec": {
   "name": "python3",
   "display_name": "Python 3",
   "language": "python"
  }
 },
 "nbformat": 4,
 "nbformat_minor": 2,
 "cells": [
  {
   "source": [
    "<h1>Exercícios - Laços de repetição</h1>"
   ],
   "cell_type": "markdown",
   "metadata": {}
  },
  {
   "source": [
    "Questão #1:<br>\n",
    "Faça um programa para perguntar 10 números e informar a soma total destes números."
   ],
   "cell_type": "markdown",
   "metadata": {}
  },
  {
   "cell_type": "code",
   "execution_count": 60,
   "metadata": {},
   "outputs": [
    {
     "output_type": "stream",
     "name": "stdout",
     "text": [
      "A soma de todos os numeros é 44.0\n"
     ]
    }
   ],
   "source": [
    "contador = 0\n",
    "soma = 0\n",
    "while contador < 10:\n",
    "    contador += 1\n",
    "    num = float(input(f\"Informe um número {contador} de 10 numeros: \"))\n",
    "    soma  += num\n",
    "print(f\"A soma de todos os numeros é {soma}\")\n"
   ]
  },
  {
   "source": [
    "Questão #2:<br>\n",
    "Faça um programa que escreva todos os números múltiplos de 7 entre 1 e N, sendo N um valor introduzido pelo usuário. Por exemplos: 7, 14, 21, 28, 35."
   ],
   "cell_type": "markdown",
   "metadata": {}
  },
  {
   "cell_type": "code",
   "execution_count": 61,
   "metadata": {},
   "outputs": [
    {
     "output_type": "stream",
     "name": "stdout",
     "text": [
      "7\n14\n21\n28\n35\n42\n49\n"
     ]
    }
   ],
   "source": [
    "num = float(input(f\"Informe um número de multiplos de 7: \"))\n",
    "contador = 0\n",
    "while contador < num:\n",
    "    contador += 1\n",
    "    print(f\"{contador * 7}\")"
   ]
  },
  {
   "source": [
    "Questão #3:<br>Faça um programa para somar os números compreendidos entre 1 e 1000."
   ],
   "cell_type": "markdown",
   "metadata": {}
  },
  {
   "source": [
    "contador = 0\n",
    "soma = 0\n",
    "n = 1000\n",
    "while contador < 1000:\n",
    "    contador += 1\n",
    "    soma  += contador\n",
    "print(f\"A soma de todos os numeros é {soma}\")\n",
    "# outro jeito\n",
    "# soma = n*(n+1)/2\n",
    "    \n",
    "# print(f\"A soma de todos os numeros é {soma}\")"
   ],
   "cell_type": "code",
   "metadata": {},
   "execution_count": 66,
   "outputs": [
    {
     "output_type": "stream",
     "name": "stdout",
     "text": [
      "A soma de todos os numeros é 500500\nA soma de todos os numeros é 500500.0\n"
     ]
    }
   ]
  },
  {
   "source": [
    "Questão #4:<br>Faça a multiplicação entre dois números usando somente soma."
   ],
   "cell_type": "markdown",
   "metadata": {}
  },
  {
   "cell_type": "code",
   "execution_count": 1,
   "metadata": {},
   "outputs": [
    {
     "output_type": "stream",
     "name": "stdout",
     "text": [
      "2 * 4 = 8\n"
     ]
    }
   ],
   "source": [
    "multiplicando = int(input(\"Informe um multiplicando \"))\n",
    "multiplicador = int(input(\"Informe um multiplicador \"))\n",
    "contador = 0\n",
    "soma = 0\n",
    "while contador < multiplicando:\n",
    "    contador +=1\n",
    "    soma += multiplicador\n",
    "\n",
    "print(f\"{multiplicando} * {multiplicador} = {soma}\")"
   ]
  },
  {
   "source": [
    "Questão #5:<br>Faça um programa, usando loops, que peça para um usuário digitar um número e que só finaliza quando o usuário digitar 0. Ao final imprima a soma de todos os números digitados"
   ],
   "cell_type": "markdown",
   "metadata": {}
  },
  {
   "cell_type": "code",
   "execution_count": 2,
   "metadata": {},
   "outputs": [
    {
     "output_type": "stream",
     "name": "stdout",
     "text": [
      "A soma de todos os numeros é 6.0\n"
     ]
    }
   ],
   "source": [
    "soma = 0\n",
    "num = 0\n",
    "while True:\n",
    "    num = float(input(\"Informe um número ( 0 para encerrar)\"))\n",
    "    soma  += num\n",
    "    if num == 0:\n",
    "        break\n",
    "print(f\"A soma de todos os numeros é {soma}\")"
   ]
  },
  {
   "source": [
    "Questão #6:<br>Faça um programa que lê uma indeterminada quantidade de números até que o 0 (zero) seja digitado. Ao final, mostre os três menores de forma decrescente."
   ],
   "cell_type": "markdown",
   "metadata": {}
  },
  {
   "cell_type": "code",
   "execution_count": 50,
   "metadata": {},
   "outputs": [
    {
     "output_type": "stream",
     "name": "stdout",
     "text": [
      "3.0\n",
      "#1: 3.0 #2: inf #3: inf\n",
      "4.0\n",
      "#1: 4.0 #2: 3.0 #3: inf\n",
      "6.0\n",
      "#1: 6.0 #2: 4.0 #3: 3.0\n",
      "5.0\n",
      "#1: 5.0 #2: 4.0 #3: 3.0\n",
      "8.0\n",
      "#1: 5.0 #2: 4.0 #3: 3.0\n",
      "0.0\n",
      "Os três menores numeros de 5 No's são  #1: 5.0 #2: 4.0 #3: 3.0\n"
     ]
    }
   ],
   "source": [
    "import math\n",
    "soma = 0\n",
    "num = 0\n",
    "menor1 = math.inf\n",
    "menor2 = math.inf\n",
    "menor3 = math.inf\n",
    "contador = 0\n",
    "while True:\n",
    "    num = float(input(\"Informe um número ( 0 para encerrar)\"))\n",
    "    print(num)\n",
    "    contador +=1\n",
    "    if num == 0:\n",
    "        break\n",
    "    if(contador == 1):\n",
    "        menor1 = num\n",
    "    elif(contador == 2):\n",
    "        if(num < menor1):\n",
    "            menor2 = num\n",
    "        else:\n",
    "            menor2 = menor1\n",
    "            menor1 = num\n",
    "    elif(contador == 3):\n",
    "        if(num < menor1 and num < menor2):\n",
    "            menor3 = num\n",
    "        if(num < menor1 and num > menor2):\n",
    "            menor3 = menor2\n",
    "            menor2 = num\n",
    "        if(num > menor1):\n",
    "            menor3 = menor2\n",
    "            menor2=menor1\n",
    "            menor1 = num\n",
    "    elif(contador > 3):\n",
    "        if(num < menor1 and num < menor2 and num < menor3):\n",
    "            menor1 = menor2\n",
    "            menor2=menor3\n",
    "            menor3 = num\n",
    "        if(num < menor1 and num < menor2 and num > menor3):\n",
    "            menor1 = menor2\n",
    "            menor2=num\n",
    "        if(num < menor1 and num > menor2 and num > menor3):\n",
    "            menor1 = num\n",
    "        if(num > menor1):\n",
    "            pass # maior de todos > não faz nada\n",
    "    print(f\"#1: {menor1} #2: {menor2} #3: {menor3}\")\n",
    "        \n",
    "        \n",
    "    \n",
    "    \n",
    "print(f\"Os três menores numeros de {contador-1} No's são  #1: {menor1} #2: {menor2} #3: {menor3}\")"
   ]
  },
  {
   "source": [
    "Questão #7:<br>Informe, de forma decrescente todos os pares entre N (número fornecido pelo usuário) e -N."
   ],
   "cell_type": "markdown",
   "metadata": {}
  },
  {
   "cell_type": "code",
   "execution_count": 2,
   "metadata": {},
   "outputs": [
    {
     "output_type": "stream",
     "name": "stdout",
     "text": [
      "4\n\n6\n\n"
     ]
    }
   ],
   "source": [
    "limiteinferior = int(input(\"Informe um limite inferior \"))\n",
    "limitesuperior = int(input(\"Informe um limite superior \"))\n",
    "contador = limiteinferior\n",
    "\n",
    "while contador < limitesuperior:\n",
    "    contador +=1\n",
    "    if((contador % 2) == 0):\n",
    "        print(f\"{contador}\\n\")"
   ]
  },
  {
   "source": [
    "Questão #8:<br>Faça um programa para simular uma situação simples de depósito, retirada e consulta em um banco. Exiba o seguinte menu com as opções:\n",
    "<ol type='1'>\n",
    " <li>Depósito</li>\n",
    " <li>Retirada</li>\n",
    " <li>Saldo</li>\n",
    " <li>Sair do algoritmo</li>\n",
    "Se a escolha do usuário for depósito ou retirada, o algoritmo deverá pedir o valor da operação e atualizar automaticamente o valor existente na conta. O algoritmo deverá ser utilizado até que o usuário escolha a opção sair do algoritmo."
   ],
   "cell_type": "markdown",
   "metadata": {}
  },
  {
   "cell_type": "code",
   "execution_count": 53,
   "metadata": {},
   "outputs": [
    {
     "output_type": "stream",
     "name": "stdout",
     "text": [
      "12.0\n"
     ]
    }
   ],
   "source": [
    "saldo = 0\n",
    "while True:\n",
    "    opcao = int(input(\"Opcão:\"))\n",
    "    if opcao == 1:\n",
    "        valor_dep = float(input(\"Valor\"))\n",
    "        saldo += valor_dep\n",
    "    if opcao == 2:\n",
    "        valor_dep = float(input(\"Valor\"))\n",
    "        saldo -= valor_dep\n",
    "    if opcao == 3:\n",
    "        print(saldo)\n",
    "    if opcao == 4:\n",
    "        break"
   ]
  },
  {
   "cell_type": "code",
   "execution_count": null,
   "metadata": {},
   "outputs": [],
   "source": []
  }
 ]
}