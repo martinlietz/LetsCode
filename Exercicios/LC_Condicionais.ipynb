{
 "metadata": {
  "language_info": {
   "codemirror_mode": {
    "name": "ipython",
    "version": 3
   },
   "file_extension": ".py",
   "mimetype": "text/x-python",
   "name": "python",
   "nbconvert_exporter": "python",
   "pygments_lexer": "ipython3",
   "version": "3.7.8-final"
  },
  "orig_nbformat": 2,
  "kernelspec": {
   "name": "python3",
   "display_name": "Python 3",
   "language": "python"
  }
 },
 "nbformat": 4,
 "nbformat_minor": 2,
 "cells": [
  {
   "source": [
    "<h1>Execercicios LC Coondicionais</h1>\n",
    "\n"
   ],
   "cell_type": "markdown",
   "metadata": {}
  },
  {
   "source": [
    "Questão #1:\n",
    "Faça um programa que peça a idade da pessoa e imprima se ela é maior ou menor de 18 anos."
   ],
   "cell_type": "markdown",
   "metadata": {}
  },
  {
   "cell_type": "code",
   "execution_count": 34,
   "metadata": {},
   "outputs": [
    {
     "output_type": "stream",
     "name": "stdout",
     "text": [
      "Sua idade é 44\nVocê é maior de idade!\n"
     ]
    }
   ],
   "source": [
    "idade = input(\"Qal a sua idade?\\n\")\n",
    "print(f\"Sua idade é {idade}\")\n",
    "if int(idade) >= 18:\n",
    "    print(\"Você é maior de idade!\")\n",
    "else:\n",
    "    print(\"Você é menor!\")\n"
   ]
  },
  {
   "source": [
    "Questão #2: Faça um programa que peça um número e mostre se ele é positivo ou negativo.\n"
   ],
   "cell_type": "markdown",
   "metadata": {}
  },
  {
   "cell_type": "code",
   "execution_count": 46,
   "metadata": {},
   "outputs": [
    {
     "output_type": "stream",
     "name": "stdout",
     "text": [
      "o numero 4 é positivo\n"
     ]
    }
   ],
   "source": [
    "numero = int(input(\"Digite um numero:\"))\n",
    "if numero >= 0:\n",
    "    print(f\"o numero {numero} é positivo\")\n",
    "else:\n",
    "    print(f\"o numero {numero} é negativo\")"
   ]
  },
  {
   "source": [
    "Questão #3: Faça um programa que peça dois números e mostre o maior deles."
   ],
   "cell_type": "markdown",
   "metadata": {}
  },
  {
   "cell_type": "code",
   "execution_count": 53,
   "metadata": {},
   "outputs": [
    {
     "output_type": "stream",
     "name": "stdout",
     "text": [
      "Num 1 : 5\n",
      "Num 2 : 6\n",
      "O maior número é 6\n"
     ]
    }
   ],
   "source": [
    "val1 = int(input(\"Digite o primeiro numero inteiro\"))\n",
    "print(f\"Num 1 : {val1}\")\n",
    "val2 = int(input(\"Digite o segundo numero inteiro\"))\n",
    "print(f\"Num 2 : {val2}\")\n",
    "\n",
    "print(f\"O maior número é {max([ val1,val2 ])}\")"
   ]
  },
  {
   "source": [
    "Questão #4: Escreva um programa que peça a nota de 3 provas de um aluno e mostre se ele passou ou não de ano.\n",
    "\n",
    "<cite>Obs.: O aluno irá passar de ano se a média das suas notas for maior ou igual a 6 (média é a soma das notas dividido pelo número de provas).</cite>"
   ],
   "cell_type": "markdown",
   "metadata": {}
  },
  {
   "cell_type": "code",
   "execution_count": 54,
   "metadata": {},
   "outputs": [
    {
     "output_type": "stream",
     "name": "stdout",
     "text": [
      "Infelizmente tem que repetir o ano\n"
     ]
    }
   ],
   "source": [
    "prova1 = int(input(\"Digite a nota da prova 1:\"))\n",
    "prova2 = int(input(\"Digite a nota da prova 2:\"))\n",
    "prova3 = int(input(\"Digite a nota da prova 3:\"))\n",
    "media = (prova1+prova2+prova3)//3\n",
    "if media >= 6:\n",
    "    print(\"Voce passou!\")\n",
    "else:\n",
    "    print(\"Infelizmente tem que repetir o ano\")"
   ]
  },
  {
   "source": [
    "Questão #5: Faça um programa que mostre uma questão de múltipla escolha com 5 opções (letras a, b, c, d, e). Sabendo a resposta certa, o programa deve receber a opção do usuário e informar a letra que o usuário marcou e se a resposta está certa ou errada."
   ],
   "cell_type": "markdown",
   "metadata": {}
  },
  {
   "cell_type": "code",
   "execution_count": 12,
   "metadata": {},
   "outputs": [
    {
     "output_type": "stream",
     "name": "stdout",
     "text": [
      "Quem assumiu quando Lenin morreu?\n",
      "A. Trump\n",
      "B. Stalin\n",
      "C. Ford\n",
      "D. Macron\n",
      "E. Bolsonaro\n",
      "Resposta E incorreto, correto seria o Stalin\n"
     ]
    }
   ],
   "source": [
    "print(\"\"\"Quem assumiu quando Lenin morreu?\n",
    "A. Trump\n",
    "B. Stalin\n",
    "C. Ford\n",
    "D. Macron\n",
    "E. Bolsonaro\"\"\")\n",
    "resp = input().upper()\n",
    "if(resp == 'B'):\n",
    "    print(\"B. Correto foi o Stalin\")\n",
    "else:\n",
    "    print(f\"Resposta {resp} incorreto, correto seria o Stalin\")"
   ]
  },
  {
   "source": [
    "Questão #6: Vamos fazer um programa para verificar quem é o assassino de um crime. Para descobrir o assassino, a polícia faz um pequeno questionário com 5 perguntas onde a resposta só pode ser sim ou não:\n",
    "<ol type='a'> \n",
    "<li>Mora perto da vítima?</li>\n",
    "<li>Já trabalhou com a vítima?</li>\n",
    "<li>Telefonou para a vítima?</li>\n",
    "<li>Esteve no local do crime?</li>\n",
    "<li>Devia para a vítima?</li>\n",
    "\n",
    "</o>\n",
    "\n",
    "Cada resposta sim dá um ponto para o suspeito. A polícia considera que os suspeitos com 5 pontos são os assassinos, com 4 a 3 pontos são cúmplices e 2 pontos são apenas suspeitos, necessitando outras investigações. Valores abaixo de 1 são liberados."
   ],
   "cell_type": "markdown",
   "metadata": {}
  },
  {
   "cell_type": "code",
   "execution_count": 13,
   "metadata": {},
   "outputs": [
    {
     "output_type": "stream",
     "name": "stdout",
     "text": [
      "4\nCúmplice\n"
     ]
    }
   ],
   "source": [
    "a = int(input(\"Mora perto da vítima?\").upper() == 'S')\n",
    "b = int(input(\"Já trabalhou com a vítima?\").upper() == 'S')\n",
    "c = int(input(\"Telefonou para a vítima?\").upper() == 'S')\n",
    "d = int(input(\"Esteve no local do crime?\").upper() == 'S')\n",
    "e = int(input(\"Devia para a vítima?\").upper() == 'S')\n",
    "resultado = a + b + c + d + e\n",
    "print(resultado)\n",
    "if(resultado >=5):\n",
    "    print(\"Assassino\")\n",
    "elif(3 <= resultado <= 4):\n",
    "    print(\"Cúmplice\")\n",
    "elif(resultado == 2):\n",
    "    print(\"Suspeito\")\n",
    "elif(resultado <= 1):\n",
    "    print(\"Liberado\")\n"
   ]
  },
  {
   "source": [
    "Questão #7: Faça um programa em que o usuário tem que adivinhar o número escolhido pelo computador. O computador deve sortear um número inteiro de 1 a 5 e pedir para o usuário tentar descobrir qual o número sorteado. Após o usuário digitar sua resposta, o programa deve dizer se ele acertou ou não. Dica: para sortear um número, você precisará utilizar a biblioteca random."
   ],
   "cell_type": "markdown",
   "metadata": {}
  },
  {
   "cell_type": "code",
   "execution_count": 38,
   "metadata": {},
   "outputs": [
    {
     "output_type": "stream",
     "name": "stdout",
     "text": [
      "Acertou!!! O numer era 1\n"
     ]
    }
   ],
   "source": [
    "import random\n",
    "numero = random.randint(1,5)\n",
    "nVal = input(\"Tente descobrir meu numero.\\nInsere um numero entre 1 e 5:\")\n",
    "if numero = int(nVal):\n",
    "    print(f\"Acertou!!! O numer era {numero}\")\n",
    "else:\n",
    "    print(f\"Eita, não foi dessa vez!!! O numer era {numero}\")\n"
   ]
  },
  {
   "source": [
    "Questão #8: Vamos fazer um radar eletrônico de velocidade. Faça um programa que leia a velocidade de um carro, e diga se ele está acima ou não da velocidade permitida de 50 km/h. Se o carro estiver acima da velocidade, o programa deve imprimir que o motorista ultrapassou a velocidade permitida e recebeu uma multa num determinado valor. Para calcular o valor da multa, considere que para cada quilômetro acima da velocidade permitida, o motorista deve pagar 10 reais.\n",
    "\n",
    "$\\textrm{multa} = (\\textrm{velocidade} - 50)*10$\n"
   ],
   "cell_type": "markdown",
   "metadata": {}
  },
  {
   "cell_type": "code",
   "execution_count": 5,
   "metadata": {},
   "outputs": [
    {
     "output_type": "stream",
     "name": "stdout",
     "text": [
      "Sua velocidade foi 54, paga a multa de 40 Reais\n"
     ]
    }
   ],
   "source": [
    "velocidade = int(input(\"Digite a velocidade:\"))\n",
    "multa = 0\n",
    "if velocidade > 50:\n",
    "    multa = (velocidade - 50)*10\n",
    "    print(f\"Sua velocidade foi {velocidade}, paga a multa de {multa} Reais\")"
   ]
  },
  {
   "source": [
    "Questão #9: Com a recomendação que as pessoas fiquem em casa e evitem aglomerações como medida pra frear a contaminação pelo coronavírus, como saber quando devemos procurar um hospital? Faça um programa que pergunte os sintomas que a pessoa apresenta e responda se ela deve ou não procurar um hospital.\n",
    "\n",
    "Sintomas: \n",
    "<ol type='a'>\n",
    "<li>Você tem febre persistente?</li>\n",
    "<li>Você tem dificuldade para respirar?</li>\n",
    "\n",
    "A resposta do programa deve seguir a seguinte tabela:\n",
    "\n",
    "<p>A\tB\tResultado\n",
    "<p>Sim\tNão\tFique em casa\n",
    "<p>Não\tSim\tFique em casa\n",
    "<p>Não\tNão\tFique em casa\n",
    "<p>Sim\tSim\tProcure um hospital"
   ],
   "cell_type": "markdown",
   "metadata": {}
  },
  {
   "cell_type": "code",
   "execution_count": 10,
   "metadata": {},
   "outputs": [
    {
     "output_type": "stream",
     "name": "stdout",
     "text": [
      "Fique em casa\n"
     ]
    }
   ],
   "source": [
    "pergunta1 = int(input(\"Você tem febre persistente?\").upper() == 'S')\n",
    "pergunta2 = int(input(\"Você tem dificuldade para respirar?\").upper() == 'S')\n",
    "resultado = pergunta1 + pergunta2 \n",
    "if(resultado >=2):\n",
    "    print(\"Procure um hospital\")\n",
    "else:\n",
    "    print(\"Fique em casa\")"
   ]
  },
  {
   "source": [],
   "cell_type": "markdown",
   "metadata": {}
  },
  {
   "source": [],
   "cell_type": "markdown",
   "metadata": {}
  }
 ]
}