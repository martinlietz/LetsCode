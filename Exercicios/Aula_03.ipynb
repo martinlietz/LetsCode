{
 "metadata": {
  "language_info": {
   "codemirror_mode": {
    "name": "ipython",
    "version": 3
   },
   "file_extension": ".py",
   "mimetype": "text/x-python",
   "name": "python",
   "nbconvert_exporter": "python",
   "pygments_lexer": "ipython3",
   "version": "3.7.8"
  },
  "orig_nbformat": 2,
  "kernelspec": {
   "name": "python3",
   "display_name": "Python 3",
   "language": "python"
  }
 },
 "nbformat": 4,
 "nbformat_minor": 2,
 "cells": [
  {
   "source": [
    "<h1>Execercicios dentro da aula 3</h1>\n",
    "<h2>19/Fev 2021</h2>"
   ],
   "cell_type": "markdown",
   "metadata": {}
  },
  {
   "source": [
    "<b>Super Desafio</b><br>\n",
    "Calcuule a soma de mil termos dos inversos dos fatoriais 1/(1!) + 1/(2!) + ... + 1/(n!)\n",
    "Dica Asim como no exercicio anterior use três variaveis: um contatdor umavarivael para a soma e uma variavel para os termos Lembre-se de que 4! = 4*3*2*1 que também é igual a 4 * 3!\n",
    " 1a    2a    3a    4a\n",
    " 1/1   1/2   1/6   1/24\n",
    " *1     *2    *3    *4\n",
    " fatorial = fatorial * contatdor\n",
    " termo = 1 / fatorial"
   ],
   "cell_type": "markdown",
   "metadata": {}
  },
  {
   "source": [
    "contador = 1 # conta iterações/repetições\n",
    "soma = 0\n",
    "num_termos = 100 # numero total de termos\n",
    "termo = 1 # termo corrente\n",
    "fatorial = 1\n",
    "divisor = 1 # utilizado para controlar o denomindador do termo\n",
    "while contador <= num_termos:\n",
    "    divisor = divisor * contador\n",
    "    contador +=1\n",
    "    termo = 1 / divisor\n",
    "    soma += termo\n",
    "    \n",
    "print(f\"A soma é {soma}\")\n"
   ],
   "cell_type": "code",
   "metadata": {},
   "execution_count": 20,
   "outputs": [
    {
     "output_type": "stream",
     "name": "stdout",
     "text": [
      "A soma é 1.7182818284590455\n"
     ]
    }
   ]
  },
  {
   "cell_type": "code",
   "execution_count": 25,
   "metadata": {},
   "outputs": [
    {
     "output_type": "stream",
     "name": "stdout",
     "text": [
      "False\nTrue\nFalse\n"
     ]
    }
   ],
   "source": [
    "print(bool(''))\n",
    "print(bool(' '))\n",
    "print(bool(0.00000))"
   ]
  },
  {
   "cell_type": "code",
   "execution_count": 32,
   "metadata": {},
   "outputs": [
    {
     "output_type": "stream",
     "name": "stdout",
     "text": [
      "Valid Email\nValid Email\nInvalid Email\n"
     ]
    }
   ],
   "source": [
    "import re\n",
    "regex = '^[a-z0-9]+[\\._]?[a-z0-9]+[@]\\w+[.]\\w{2,3}$'\n",
    "\n",
    "def check(email):  \n",
    "  \n",
    "    # pass the regular expression \n",
    "    # and the string in search() method \n",
    "    if(re.search(regex,email)):  \n",
    "        print(\"Valid Email\")  \n",
    "          \n",
    "    else:  \n",
    "        print(\"Invalid Email\")\n",
    "\n",
    "# Enter the email  \n",
    "email = \"flieger.martin@gmail.com\"\n",
    "    \n",
    "# calling run function  \n",
    "check(email) \n",
    "\n",
    "email = \"my.ownsite@ourearth.org\"\n",
    "check(email) \n",
    "\n",
    "email = \"ankitrai326.com\"\n",
    "check(email) "
   ]
  },
  {
   "cell_type": "code",
   "execution_count": null,
   "metadata": {},
   "outputs": [],
   "source": []
  }
 ]
}