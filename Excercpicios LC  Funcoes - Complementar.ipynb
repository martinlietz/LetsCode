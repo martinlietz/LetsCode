{
 "metadata": {
  "language_info": {
   "codemirror_mode": {
    "name": "ipython",
    "version": 3
   },
   "file_extension": ".py",
   "mimetype": "text/x-python",
   "name": "python",
   "nbconvert_exporter": "python",
   "pygments_lexer": "ipython3",
   "version": 3
  },
  "orig_nbformat": 2
 },
 "nbformat": 4,
 "nbformat_minor": 2,
 "cells": [
  {
   "source": [],
   "cell_type": "markdown",
   "metadata": {}
  },
  {
   "source": [
    "## Questão #1\n",
    "Escreva uma função que recebe um nome e imprime na tela do usuário a mensagem \"Olá, [nome]\".\n",
    "\n",
    "Exemplo:\n",
    "\n",
    "    nome fornecido : Maria\n",
    "\n",
    "    Olá, Maria"
   ],
   "cell_type": "markdown",
   "metadata": {}
  },
  {
   "cell_type": "code",
   "execution_count": null,
   "metadata": {},
   "outputs": [],
   "source": []
  },
  {
   "source": [
    "## Questão #2\n",
    "Escreva uma função que recebe um nome e retorna o string \"Olá, [nome]\"\n",
    "\n",
    "Exemplo:\n",
    "\n",
    "    nome de entrada: Lucas\n",
    "\n",
    "    saída da função: Olá, Lucas"
   ],
   "cell_type": "markdown",
   "metadata": {}
  },
  {
   "cell_type": "code",
   "execution_count": null,
   "metadata": {},
   "outputs": [],
   "source": []
  },
  {
   "source": [
    "## Questão #3\n",
    "Crie uma função eh_par que recebe um número e retorna 1 se esse número for par e 0 se o número for ímpar.\n",
    "\n",
    "Exemplo:\n",
    "\n",
    "    >>> eh_par(2)\n",
    "    >>> 1\n",
    "    >>> eh_par(3)\n",
    "    >>> 0"
   ],
   "cell_type": "markdown",
   "metadata": {}
  },
  {
   "cell_type": "code",
   "execution_count": null,
   "metadata": {},
   "outputs": [],
   "source": []
  },
  {
   "source": [
    "## Questão #4\n",
    "Crie uma função chamada vezes_dez que recebe um número qualquer e retorna ele multiplicado por 10.\n",
    "\n",
    "Exemplo:\n",
    "\n",
    "    >>> vezes_dez(5) \n",
    "    >>> 50"
   ],
   "cell_type": "markdown",
   "metadata": {}
  },
  {
   "cell_type": "code",
   "execution_count": null,
   "metadata": {},
   "outputs": [],
   "source": []
  },
  {
   "source": [
    "## Questão #5\n",
    "Reutilizando a função eh_par criada no exercício anterior, crie uma nova função, conta_pares que recebe uma lista com números e retorna a quantidade de números pares.\n",
    "\n",
    "Exemplo:\n",
    "\n",
    "    >>> conta_pares([1,2,3])\n",
    "    >>> 1\n",
    "    >>> conta_pares([2,4,6])\n",
    "    >>> 3"
   ],
   "cell_type": "markdown",
   "metadata": {}
  },
  {
   "cell_type": "code",
   "execution_count": null,
   "metadata": {},
   "outputs": [],
   "source": []
  }
 ]
}