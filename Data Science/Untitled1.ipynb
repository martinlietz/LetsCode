{
 "cells": [
  {
   "cell_type": "code",
   "execution_count": 6,
   "metadata": {},
   "outputs": [],
   "source": [
    "import pandas as pd\n",
    "import numpy as np\n",
    "import matplotlib.pyplot as plt\n",
    "import seaborn as sns"
   ]
  },
  {
   "cell_type": "code",
   "execution_count": 7,
   "metadata": {},
   "outputs": [],
   "source": [
    "tipos = {'Year':np.int16, 'Month':np.int8, 'DayofMonth':np.int8, 'DayofWeek':np.int8,\\\n",
    "         'DepTime':np.float16, 'CRSDepTime':np.int16, 'ArrTime':np.float16, 'CRSArrTime':np.int16, 'FlightNum':np.int16, \\\n",
    "         'ActualElapsedTime':np.float16, 'CRSElapsedTime':np.float16, 'AirTime':np.float16, \\\n",
    "        'DepDelay':np.float16, 'Distance':np.int16, 'TaxiIn':np.float16, 'TaxiOut':np.float16, 'Cancelled':np.int8,\\\n",
    "         'Diverted':np.int8, 'CarrierDelay':np.float16, 'WeatherDelay':np.float16, \\\n",
    "         'NASDelay':np.float16, 'SecurityDelay':np.float16,\\\n",
    "        'LateAircraftDelay':np.float16}"
   ]
  },
  {
   "cell_type": "code",
   "execution_count": 12,
   "metadata": {},
   "outputs": [],
   "source": [
    "voos = pd.read_csv('DelayedFlights.csv', index_col=0, dtype=tipos)\n",
    "iata = pd.read_csv('IataData.csv', encoding='latin1')"
   ]
  },
  {
   "cell_type": "code",
   "execution_count": null,
   "metadata": {},
   "outputs": [],
   "source": []
  }
 ],
 "metadata": {
  "kernelspec": {
   "display_name": "Python 3",
   "language": "python",
   "name": "python3"
  },
  "language_info": {
   "codemirror_mode": {
    "name": "ipython",
    "version": 3
   },
   "file_extension": ".py",
   "mimetype": "text/x-python",
   "name": "python",
   "nbconvert_exporter": "python",
   "pygments_lexer": "ipython3",
   "version": "3.7.1"
  }
 },
 "nbformat": 4,
 "nbformat_minor": 2
}
