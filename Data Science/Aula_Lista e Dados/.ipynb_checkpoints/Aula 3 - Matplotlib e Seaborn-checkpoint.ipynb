{
 "cells": [
  {
   "cell_type": "markdown",
   "metadata": {},
   "source": [
    "# Aula 3: Matplotlib e Seaborn\n",
    "\n",
    "Na aula de hoje veremos as bibliotecas `matplotlib` e a `seaborn`, que são usadas para visualização de dados e tratamento de imagens. No nosso curso, focaremos apenas em visualização dos dados contidos nos *dataframes*. Essas bibliotecas podem ser instaladas com a ajuda do `pip`:\n",
    "```\n",
    "pip install matplotlib seaborn\n",
    "```\n",
    "Mais informações das bibliotecas podem ser encontradas no site de ambas:\n",
    " > https://matplotlib.org/\n",
    " \n",
    "e\n",
    "\n",
    "> https://seaborn.pydata.org/\n",
    "\n",
    "A `matplotlib` é uma biblioteca gigantesca; por isso, fazer alguns gráficos simples pode virar uma tarefa muito complicada. Aí que entra a biblioteca `seaborn`, que permite visualizações muito bonitas sem cógigos muito complexos.\n",
    "\n",
    "## Importando as bibliotecas\n",
    "\n",
    "Como sempre, começamos importando as bibliotecas. No caso usaremos o `numpy`, `pandas` e o módulo `pyplot` da biblioteca `matplotlib`:"
   ]
  },
  {
   "cell_type": "code",
   "execution_count": null,
   "metadata": {},
   "outputs": [],
   "source": [
    "import numpy as np\n",
    "import pandas as pd\n",
    "import datetime as dt\n",
    "import matplotlib.pyplot as plt"
   ]
  },
  {
   "cell_type": "markdown",
   "metadata": {},
   "source": [
    "Para que os gráficos apareçam no *output* do Jupyter, usamos o seguinte código:"
   ]
  },
  {
   "cell_type": "code",
   "execution_count": null,
   "metadata": {},
   "outputs": [],
   "source": [
    "%matplotlib inline\n",
    "\n",
    "# ESTILO\n",
    "from matplotlib import style\n",
    "plt.style.use('ggplot')"
   ]
  },
  {
   "cell_type": "markdown",
   "metadata": {},
   "source": [
    "## Gráficos a partir de DataFrames e Séries\n",
    "\n",
    "O `pandas` conversa muito bem com a `matplotlib` e vice-versa. Podemos criar gráficos a partir de dataframes e séries com métodos desses objetos: "
   ]
  },
  {
   "cell_type": "code",
   "execution_count": null,
   "metadata": {},
   "outputs": [],
   "source": [
    "pbr = pd.read_csv('PBR.csv', index_col=0)"
   ]
  },
  {
   "cell_type": "code",
   "execution_count": null,
   "metadata": {},
   "outputs": [],
   "source": [
    "pbr.index = pd.to_datetime(pbr.index)"
   ]
  },
  {
   "cell_type": "code",
   "execution_count": null,
   "metadata": {},
   "outputs": [],
   "source": [
    "type(pbr)"
   ]
  },
  {
   "cell_type": "code",
   "execution_count": null,
   "metadata": {
    "scrolled": true
   },
   "outputs": [],
   "source": [
    "pbr.Open.plot() "
   ]
  },
  {
   "cell_type": "markdown",
   "metadata": {},
   "source": [
    "### Tipo do gráfico \n",
    "\n",
    "O método `.plot()` pode receber um parâmetro `kind` que especifica o tipo de gráfico a ser realizado. Podemos escolher entre:\n",
    " - `scatter` gráfico pontilhado;\n",
    " - `'line'`: para gráficos de linha;\n",
    " - `'bar'`: para gráficos de barras verticais;\n",
    " - `'barh'`: para gráficos de barras horizontais;\n",
    " - `'hist'`: histogramas;\n",
    " - `'pie'`: gráfico de pizza; entre outros. \n",
    " \n",
    " Cada um dos tipos de gráfico exige um tipo de parâmetros. "
   ]
  },
  {
   "cell_type": "code",
   "execution_count": null,
   "metadata": {},
   "outputs": [],
   "source": [
    "pbr[['Open','Close']].plot(kind='line')"
   ]
  },
  {
   "cell_type": "code",
   "execution_count": null,
   "metadata": {},
   "outputs": [],
   "source": [
    "imoveis = pd.read_csv('imoveis_Rio_de_Janeiro.csv',sep=';')"
   ]
  },
  {
   "cell_type": "code",
   "execution_count": null,
   "metadata": {},
   "outputs": [],
   "source": [
    "imoveis.head()"
   ]
  },
  {
   "cell_type": "code",
   "execution_count": null,
   "metadata": {},
   "outputs": [],
   "source": [
    "imoveis.plot(kind='scatter', x='condominio',y='pm2')"
   ]
  },
  {
   "cell_type": "code",
   "execution_count": null,
   "metadata": {},
   "outputs": [],
   "source": [
    "imoveis.quartos.plot(kind='hist')"
   ]
  },
  {
   "cell_type": "markdown",
   "metadata": {},
   "source": [
    "Podemos especificar a cor que cada coluna deve ter no gráfico. No caso, passamos o parâmetro `'color'` do método `.plot()` como uma lista de cores:"
   ]
  },
  {
   "cell_type": "code",
   "execution_count": null,
   "metadata": {
    "scrolled": true
   },
   "outputs": [],
   "source": [
    "pbr[['Open','Close']].plot(kind='line',color=['blue','red'])"
   ]
  },
  {
   "cell_type": "code",
   "execution_count": null,
   "metadata": {
    "scrolled": true
   },
   "outputs": [],
   "source": [
    "imoveis.groupby('bairro')['pm2'].mean().to_frame().plot(kind='bar', rot=0, legend=False)"
   ]
  },
  {
   "cell_type": "code",
   "execution_count": null,
   "metadata": {},
   "outputs": [],
   "source": [
    "turista.info()"
   ]
  },
  {
   "cell_type": "code",
   "execution_count": null,
   "metadata": {},
   "outputs": [],
   "source": [
    "continente = turista.groupby('Continent')['Count'].sum().sort_values()"
   ]
  },
  {
   "cell_type": "code",
   "execution_count": null,
   "metadata": {},
   "outputs": [],
   "source": [
    "continente.plot(kind='bar')"
   ]
  },
  {
   "cell_type": "code",
   "execution_count": null,
   "metadata": {},
   "outputs": [],
   "source": [
    "tips = pd.read_csv('tips.csv')\n",
    "tips.head()"
   ]
  },
  {
   "cell_type": "markdown",
   "metadata": {},
   "source": [
    "### Título do gráfico e nome dos eixos x e y\n",
    "\n",
    "Um dos parâmetros do método `.plot()` é `title` que recebe uma *string* e aloca um título para o gráfico."
   ]
  },
  {
   "cell_type": "code",
   "execution_count": null,
   "metadata": {
    "scrolled": true
   },
   "outputs": [],
   "source": [
    "pbr['Close'].plot(kind='line',title='Gráfico do Close para PBR')"
   ]
  },
  {
   "cell_type": "markdown",
   "metadata": {},
   "source": [
    "### Exercícios\n",
    "\n",
    "Em cada exercício abaixo, adicione o título do gráfico e mude os *labels* dos eixos."
   ]
  },
  {
   "cell_type": "markdown",
   "metadata": {},
   "source": [
    "__Exercício 1:__ Usando o dataframe **tips**,  faça um gráfico do tipo *scatter* com `total_bill` no eixo x e `tip` no eixo y. "
   ]
  },
  {
   "cell_type": "markdown",
   "metadata": {},
   "source": [
    "__Exercício 2:__ Calcule a média de gorjeta por sexo e guarde-as em um dataframe. Faça um gráfico de pizza com os resultados."
   ]
  },
  {
   "cell_type": "markdown",
   "metadata": {},
   "source": [
    "### *Axes*\n",
    "\n",
    "O retorno de uma execução correta do método `.plot()` é um *axes* do matplotlib (um objeto do tipo `matplotlib.axes._subplots.AxesSubplot`).  "
   ]
  },
  {
   "cell_type": "code",
   "execution_count": null,
   "metadata": {
    "scrolled": true
   },
   "outputs": [],
   "source": [
    "type(pbr.Open.plot())"
   ]
  },
  {
   "cell_type": "markdown",
   "metadata": {},
   "source": [
    "Manipulando métodos e atributos dos *axes* é possível adicionar informação ao gráfico e melhorar a visualização."
   ]
  },
  {
   "cell_type": "code",
   "execution_count": null,
   "metadata": {},
   "outputs": [],
   "source": [
    "ax = imoveis.plot(kind='scatter',x='condominio',y='pm2',color='DarkGreen',marker='+', s=60)\n",
    "titulo = r'Scatterplot: condominio x preço por $m^2$'\n",
    "nome_x = r'condomínio'\n",
    "nome_y = r'preço por $m^2$'\n",
    "ax.set(title=titulo, xlabel=nome_x,ylabel=nome_y)"
   ]
  },
  {
   "cell_type": "markdown",
   "metadata": {},
   "source": [
    "Podemos usar o *axes* gerado para adicionar mais gráficos:"
   ]
  },
  {
   "cell_type": "code",
   "execution_count": null,
   "metadata": {},
   "outputs": [],
   "source": [
    "start = dt.datetime(2018,1,1)\n",
    "end = dt.datetime(2018,5,1)\n",
    "pbr2 = pbr.loc[(pbr.index > start) & (pbr.index < end)]"
   ]
  },
  {
   "cell_type": "code",
   "execution_count": null,
   "metadata": {},
   "outputs": [],
   "source": [
    "ax = pbr2.Close.plot(kind='line',color='blue', legend=True)\n",
    "pbr2.Open.plot(kind='line',ax=ax, color='red', legend=True)\n",
    "ax.set(title='PBR Close e Open',xlabel='Datas',ylabel='Preço em US$')\n",
    "ticks = pd.date_range(start=start, end=end, periods=10)\n",
    "ax.set_xticks(ticks)"
   ]
  },
  {
   "cell_type": "code",
   "execution_count": null,
   "metadata": {},
   "outputs": [],
   "source": [
    "turista.head()"
   ]
  },
  {
   "cell_type": "code",
   "execution_count": null,
   "metadata": {},
   "outputs": [],
   "source": [
    "ax = turista.groupby('Continent')['Count'].sum().sort_values().plot(kind='bar')\n",
    "ax.ticklabel_format(axis='y', style='plain')"
   ]
  },
  {
   "cell_type": "markdown",
   "metadata": {},
   "source": [
    "### Exercícios\n",
    "\n",
    "Em cada exercício abaixo, adicione o título do gráfico e mude os *labels* dos eixos."
   ]
  },
  {
   "cell_type": "markdown",
   "metadata": {},
   "source": [
    "__Exercício 3:__ Com o dataframe tourists, faça um gráfico de pizza da soma das contagens de cada continent de origem. Faça um de barra para o estado de chegada. Use notação normal para os valores."
   ]
  },
  {
   "cell_type": "markdown",
   "metadata": {},
   "source": [
    "__Exercício 4:__ Do dataframe urban-population, crie uma série com os dados do Brasil e use o método `.iloc` para eliminar os dados desnecessários. Faça um gráfico mostrando a evolução da população urbana brasileira em função do tempo."
   ]
  },
  {
   "cell_type": "markdown",
   "metadata": {},
   "source": [
    "## Gráficos gerais"
   ]
  },
  {
   "cell_type": "code",
   "execution_count": null,
   "metadata": {},
   "outputs": [],
   "source": [
    "#Criando array sequencial de 0 a 10\n",
    "lista = np.arange(0,10)\n",
    "quad = lista **2"
   ]
  },
  {
   "cell_type": "code",
   "execution_count": null,
   "metadata": {},
   "outputs": [],
   "source": [
    "plt.scatter(x=lista,y=quad)"
   ]
  },
  {
   "cell_type": "code",
   "execution_count": null,
   "metadata": {},
   "outputs": [],
   "source": [
    "x = np.linspace(0,2*np.pi,1000)\n",
    "seno = np.sin(x)\n",
    "cos = np.cos(x)\n",
    "plt.plot(x,seno)\n",
    "plt.plot(x,cos)"
   ]
  },
  {
   "cell_type": "markdown",
   "metadata": {},
   "source": [
    "### Figuras e *axes*\n",
    "\n"
   ]
  },
  {
   "cell_type": "code",
   "execution_count": null,
   "metadata": {},
   "outputs": [],
   "source": [
    "#mudando tamanho e titulo\n",
    "figure = plt.figure(figsize=(20,10))\n",
    "plt.title(\"Função Seno\")\n",
    "plt.plot(seno)\n",
    "plt.plot(seno*-1)"
   ]
  },
  {
   "cell_type": "code",
   "execution_count": null,
   "metadata": {},
   "outputs": [],
   "source": [
    "#tando nomes Label x e y\n",
    "figure = plt.figure(figsize=(20,10))\n",
    "plt.title(\"Função Seno\")\n",
    "plt.plot(seno)\n",
    "plt.plot(seno*-1)\n",
    "plt.xlabel(\"Eixo X\")\n",
    "plt.ylabel(\"Eixo Y\")"
   ]
  },
  {
   "cell_type": "code",
   "execution_count": null,
   "metadata": {},
   "outputs": [],
   "source": [
    "#mudando mudando cor, e colocando pontos e font\n",
    "figure = plt.figure(figsize=(20,10))\n",
    "plt.title(\"Função Seno\", fontsize=18)\n",
    "plt.plot(seno,color='green',marker='o')\n",
    "plt.plot(array*10,seno*-1,'r--')"
   ]
  },
  {
   "cell_type": "markdown",
   "metadata": {},
   "source": [
    "## Subplots"
   ]
  },
  {
   "cell_type": "code",
   "execution_count": null,
   "metadata": {},
   "outputs": [],
   "source": [
    "# Criando os subplots\n",
    "fig, axes = plt.subplots(ncols=2,nrows=3)"
   ]
  },
  {
   "cell_type": "code",
   "execution_count": null,
   "metadata": {},
   "outputs": [],
   "source": [
    "# Adicionando os eixos\n",
    "fig, axes = plt.subplots(ncols=2,nrows=2)\n",
    "axes[0,0].plot(x, c='b')\n",
    "axes[0,1].scatter(x=imoveis.pm2,y=imoveis.condominio,marker='d', color='red', s=10)\n",
    "axes[1,0].plot(x,x**2, c='purple')\n",
    "axes[1,1].plot(pbr.Volume,color='green')\n"
   ]
  },
  {
   "cell_type": "code",
   "execution_count": null,
   "metadata": {},
   "outputs": [],
   "source": [
    "# Espaçamento entre os axes\n",
    "fig, axes = plt.subplots(ncols=2,nrows=2, figsize=(12,8))\n",
    "axes[0,0].plot(x, c='b')\n",
    "axes[0,1].scatter(x=imoveis.pm2,y=imoveis.condominio,marker='d', color='red', s=10)\n",
    "axes[1,0].plot(x,x**2, c='purple')\n",
    "pbr2.Volume.plot(kind='line',color='green',rot=90,ax=axes[1,1])\n",
    "plt.subplots_adjust(wspace=0.2, hspace=0.7) # ESPAÇAMENTO ENTRE OS SUBPLOTS\n",
    "axes[1,1].ticklabel_format(axis='y', style='plain') # FORMATA EM CIENTÍFICO OU COMUM\n",
    "axes[1,1].set_xticks(ticks) # ARRUMA OS TICKS DO PLOT"
   ]
  },
  {
   "cell_type": "markdown",
   "metadata": {},
   "source": [
    "__Exercício 5:__ Escolha um intervalo de datas e recorte o dataframe pbr nesse período. Crie um gráfico em subplots para esse dataframe com as colunas `Open`, `Close`, `High` e `Low`. Dê os títulos a cada subgráfico, o título geral da figura com o intervalo escolhido, os *labels* para os eixos e arrume os *ticks* das datas se necessário. "
   ]
  },
  {
   "cell_type": "code",
   "execution_count": null,
   "metadata": {},
   "outputs": [],
   "source": [
    "fig, axes = plt.subplots(ncols=2,nrows=2, figsize=(12,6)) \n",
    "#fig.set_figheight(6)\n",
    "#fig.set_figwidth(12)\n",
    "pbr.Open.plot(kind='line', ax=axes[0,0], title='Open', color='green')\n",
    "pbr.Close.plot(kind='line', ax=axes[0,1], title='Close', color='orange')\n",
    "pbr.High.plot(kind='line',ax=axes[1,0], title='High', color='Blue')\n",
    "pbr.Low.plot(kind='line',ax=axes[1,1],title='Low', color='red')\n",
    "plt.subplots_adjust(wspace=0.1, hspace=0.7)"
   ]
  }
 ],
 "metadata": {
  "kernelspec": {
   "display_name": "Python 3",
   "language": "python",
   "name": "python3"
  },
  "language_info": {
   "codemirror_mode": {
    "name": "ipython",
    "version": 3
   },
   "file_extension": ".py",
   "mimetype": "text/x-python",
   "name": "python",
   "nbconvert_exporter": "python",
   "pygments_lexer": "ipython3",
   "version": "3.7.1"
  }
 },
 "nbformat": 4,
 "nbformat_minor": 2
}
